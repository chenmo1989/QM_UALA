{
 "cells": [
  {
   "cell_type": "code",
   "execution_count": 6,
   "id": "96d442ca-8e42-4a4d-9357-ce254bbc4698",
   "metadata": {},
   "outputs": [
    {
     "name": "stdout",
     "output_type": "stream",
     "text": [
      "2023-08-07 15:47:05,454 - qm - INFO     - Performing health check\n",
      "2023-08-07 15:47:05,463 - qm - INFO     - Health check passed\n",
      "2023-08-07 15:47:06,189 - qm - INFO     - Sending program to QOP for compilation\n",
      "2023-08-07 15:47:06,359 - qm - INFO     - Executing program\n",
      "Progress: [                                                  ] 1.2% (n=6/500) --> elapsed time: 0.82s\r"
     ]
    },
    {
     "name": "stderr",
     "output_type": "stream",
     "text": [
      "C:\\Users\\painter\\AppData\\Local\\Temp\\ipykernel_10732\\2655800692.py:131: MatplotlibDeprecationWarning: Auto-removal of overlapping axes is deprecated since 3.6 and will be removed two minor releases later; explicitly call ax.remove() as needed.\n",
      "  plt.subplot(211)\n",
      "C:\\Users\\painter\\AppData\\Local\\Temp\\ipykernel_10732\\2655800692.py:139: MatplotlibDeprecationWarning: Auto-removal of overlapping axes is deprecated since 3.6 and will be removed two minor releases later; explicitly call ax.remove() as needed.\n",
      "  plt.subplot(212)\n",
      "C:\\Users\\painter\\AppData\\Local\\Temp\\ipykernel_10732\\2655800692.py:147: UserWarning: The figure layout has changed to tight\n",
      "  plt.tight_layout()\n",
      "C:\\Users\\painter\\AppData\\Local\\Temp\\ipykernel_10732\\2655800692.py:131: MatplotlibDeprecationWarning: Auto-removal of overlapping axes is deprecated since 3.6 and will be removed two minor releases later; explicitly call ax.remove() as needed.\n",
      "  plt.subplot(211)\n"
     ]
    },
    {
     "name": "stdout",
     "output_type": "stream",
     "text": [
      "Progress: [                                                  ] 1.8% (n=9/500) --> elapsed time: 1.38s\r"
     ]
    },
    {
     "name": "stderr",
     "output_type": "stream",
     "text": [
      "C:\\Users\\painter\\AppData\\Local\\Temp\\ipykernel_10732\\2655800692.py:139: MatplotlibDeprecationWarning: Auto-removal of overlapping axes is deprecated since 3.6 and will be removed two minor releases later; explicitly call ax.remove() as needed.\n",
      "  plt.subplot(212)\n",
      "C:\\Users\\painter\\AppData\\Local\\Temp\\ipykernel_10732\\2655800692.py:147: UserWarning: The figure layout has changed to tight\n",
      "  plt.tight_layout()\n",
      "C:\\Users\\painter\\AppData\\Local\\Temp\\ipykernel_10732\\2655800692.py:131: MatplotlibDeprecationWarning: Auto-removal of overlapping axes is deprecated since 3.6 and will be removed two minor releases later; explicitly call ax.remove() as needed.\n",
      "  plt.subplot(211)\n"
     ]
    },
    {
     "name": "stdout",
     "output_type": "stream",
     "text": [
      "Progress: [#                                                 ] 2.6% (n=13/500) --> elapsed time: 2.15s\r"
     ]
    },
    {
     "name": "stderr",
     "output_type": "stream",
     "text": [
      "C:\\Users\\painter\\AppData\\Local\\Temp\\ipykernel_10732\\2655800692.py:139: MatplotlibDeprecationWarning: Auto-removal of overlapping axes is deprecated since 3.6 and will be removed two minor releases later; explicitly call ax.remove() as needed.\n",
      "  plt.subplot(212)\n",
      "C:\\Users\\painter\\AppData\\Local\\Temp\\ipykernel_10732\\2655800692.py:147: UserWarning: The figure layout has changed to tight\n",
      "  plt.tight_layout()\n",
      "C:\\Users\\painter\\AppData\\Local\\Temp\\ipykernel_10732\\2655800692.py:131: MatplotlibDeprecationWarning: Auto-removal of overlapping axes is deprecated since 3.6 and will be removed two minor releases later; explicitly call ax.remove() as needed.\n",
      "  plt.subplot(211)\n"
     ]
    },
    {
     "name": "stdout",
     "output_type": "stream",
     "text": [
      "Progress: [#                                                 ] 3.2% (n=16/500) --> elapsed time: 2.72s\r"
     ]
    },
    {
     "name": "stderr",
     "output_type": "stream",
     "text": [
      "C:\\Users\\painter\\AppData\\Local\\Temp\\ipykernel_10732\\2655800692.py:139: MatplotlibDeprecationWarning: Auto-removal of overlapping axes is deprecated since 3.6 and will be removed two minor releases later; explicitly call ax.remove() as needed.\n",
      "  plt.subplot(212)\n",
      "C:\\Users\\painter\\AppData\\Local\\Temp\\ipykernel_10732\\2655800692.py:147: UserWarning: The figure layout has changed to tight\n",
      "  plt.tight_layout()\n",
      "C:\\Users\\painter\\AppData\\Local\\Temp\\ipykernel_10732\\2655800692.py:131: MatplotlibDeprecationWarning: Auto-removal of overlapping axes is deprecated since 3.6 and will be removed two minor releases later; explicitly call ax.remove() as needed.\n",
      "  plt.subplot(211)\n"
     ]
    },
    {
     "name": "stdout",
     "output_type": "stream",
     "text": [
      "Progress: [##                                                ] 4.0% (n=20/500) --> elapsed time: 3.50s\r"
     ]
    },
    {
     "name": "stderr",
     "output_type": "stream",
     "text": [
      "C:\\Users\\painter\\AppData\\Local\\Temp\\ipykernel_10732\\2655800692.py:139: MatplotlibDeprecationWarning: Auto-removal of overlapping axes is deprecated since 3.6 and will be removed two minor releases later; explicitly call ax.remove() as needed.\n",
      "  plt.subplot(212)\n",
      "C:\\Users\\painter\\AppData\\Local\\Temp\\ipykernel_10732\\2655800692.py:147: UserWarning: The figure layout has changed to tight\n",
      "  plt.tight_layout()\n",
      "C:\\Users\\painter\\AppData\\Local\\Temp\\ipykernel_10732\\2655800692.py:131: MatplotlibDeprecationWarning: Auto-removal of overlapping axes is deprecated since 3.6 and will be removed two minor releases later; explicitly call ax.remove() as needed.\n",
      "  plt.subplot(211)\n"
     ]
    },
    {
     "name": "stdout",
     "output_type": "stream",
     "text": [
      "Progress: [##                                                ] 4.6% (n=23/500) --> elapsed time: 4.09s\r"
     ]
    },
    {
     "name": "stderr",
     "output_type": "stream",
     "text": [
      "C:\\Users\\painter\\AppData\\Local\\Temp\\ipykernel_10732\\2655800692.py:139: MatplotlibDeprecationWarning: Auto-removal of overlapping axes is deprecated since 3.6 and will be removed two minor releases later; explicitly call ax.remove() as needed.\n",
      "  plt.subplot(212)\n",
      "C:\\Users\\painter\\AppData\\Local\\Temp\\ipykernel_10732\\2655800692.py:147: UserWarning: The figure layout has changed to tight\n",
      "  plt.tight_layout()\n",
      "C:\\Users\\painter\\AppData\\Local\\Temp\\ipykernel_10732\\2655800692.py:131: MatplotlibDeprecationWarning: Auto-removal of overlapping axes is deprecated since 3.6 and will be removed two minor releases later; explicitly call ax.remove() as needed.\n",
      "  plt.subplot(211)\n"
     ]
    },
    {
     "name": "stdout",
     "output_type": "stream",
     "text": [
      "Progress: [##                                                ] 5.4% (n=27/500) --> elapsed time: 4.83s\r"
     ]
    },
    {
     "name": "stderr",
     "output_type": "stream",
     "text": [
      "C:\\Users\\painter\\AppData\\Local\\Temp\\ipykernel_10732\\2655800692.py:139: MatplotlibDeprecationWarning: Auto-removal of overlapping axes is deprecated since 3.6 and will be removed two minor releases later; explicitly call ax.remove() as needed.\n",
      "  plt.subplot(212)\n",
      "C:\\Users\\painter\\AppData\\Local\\Temp\\ipykernel_10732\\2655800692.py:147: UserWarning: The figure layout has changed to tight\n",
      "  plt.tight_layout()\n",
      "C:\\Users\\painter\\AppData\\Local\\Temp\\ipykernel_10732\\2655800692.py:131: MatplotlibDeprecationWarning: Auto-removal of overlapping axes is deprecated since 3.6 and will be removed two minor releases later; explicitly call ax.remove() as needed.\n",
      "  plt.subplot(211)\n"
     ]
    },
    {
     "name": "stdout",
     "output_type": "stream",
     "text": [
      "Progress: [###                                               ] 6.2% (n=31/500) --> elapsed time: 5.62s\r"
     ]
    },
    {
     "name": "stderr",
     "output_type": "stream",
     "text": [
      "C:\\Users\\painter\\AppData\\Local\\Temp\\ipykernel_10732\\2655800692.py:139: MatplotlibDeprecationWarning: Auto-removal of overlapping axes is deprecated since 3.6 and will be removed two minor releases later; explicitly call ax.remove() as needed.\n",
      "  plt.subplot(212)\n",
      "C:\\Users\\painter\\AppData\\Local\\Temp\\ipykernel_10732\\2655800692.py:147: UserWarning: The figure layout has changed to tight\n",
      "  plt.tight_layout()\n",
      "C:\\Users\\painter\\AppData\\Local\\Temp\\ipykernel_10732\\2655800692.py:131: MatplotlibDeprecationWarning: Auto-removal of overlapping axes is deprecated since 3.6 and will be removed two minor releases later; explicitly call ax.remove() as needed.\n",
      "  plt.subplot(211)\n",
      "C:\\Users\\painter\\AppData\\Local\\Temp\\ipykernel_10732\\2655800692.py:139: MatplotlibDeprecationWarning: Auto-removal of overlapping axes is deprecated since 3.6 and will be removed two minor releases later; explicitly call ax.remove() as needed.\n",
      "  plt.subplot(212)\n"
     ]
    },
    {
     "name": "stdout",
     "output_type": "stream",
     "text": [
      "Progress: [###                                               ] 6.8% (n=34/500) --> elapsed time: 6.24s\r"
     ]
    },
    {
     "name": "stderr",
     "output_type": "stream",
     "text": [
      "C:\\Users\\painter\\AppData\\Local\\Temp\\ipykernel_10732\\2655800692.py:147: UserWarning: The figure layout has changed to tight\n",
      "  plt.tight_layout()\n",
      "C:\\Users\\painter\\AppData\\Local\\Temp\\ipykernel_10732\\2655800692.py:131: MatplotlibDeprecationWarning: Auto-removal of overlapping axes is deprecated since 3.6 and will be removed two minor releases later; explicitly call ax.remove() as needed.\n",
      "  plt.subplot(211)\n"
     ]
    },
    {
     "name": "stdout",
     "output_type": "stream",
     "text": [
      "Progress: [###                                               ] 7.6% (n=38/500) --> elapsed time: 6.95s\r"
     ]
    },
    {
     "name": "stderr",
     "output_type": "stream",
     "text": [
      "C:\\Users\\painter\\AppData\\Local\\Temp\\ipykernel_10732\\2655800692.py:139: MatplotlibDeprecationWarning: Auto-removal of overlapping axes is deprecated since 3.6 and will be removed two minor releases later; explicitly call ax.remove() as needed.\n",
      "  plt.subplot(212)\n",
      "C:\\Users\\painter\\AppData\\Local\\Temp\\ipykernel_10732\\2655800692.py:147: UserWarning: The figure layout has changed to tight\n",
      "  plt.tight_layout()\n",
      "C:\\Users\\painter\\AppData\\Local\\Temp\\ipykernel_10732\\2655800692.py:131: MatplotlibDeprecationWarning: Auto-removal of overlapping axes is deprecated since 3.6 and will be removed two minor releases later; explicitly call ax.remove() as needed.\n",
      "  plt.subplot(211)\n"
     ]
    },
    {
     "name": "stdout",
     "output_type": "stream",
     "text": [
      "Progress: [####                                              ] 8.2% (n=41/500) --> elapsed time: 7.55s\r"
     ]
    },
    {
     "name": "stderr",
     "output_type": "stream",
     "text": [
      "C:\\Users\\painter\\AppData\\Local\\Temp\\ipykernel_10732\\2655800692.py:139: MatplotlibDeprecationWarning: Auto-removal of overlapping axes is deprecated since 3.6 and will be removed two minor releases later; explicitly call ax.remove() as needed.\n",
      "  plt.subplot(212)\n",
      "C:\\Users\\painter\\AppData\\Local\\Temp\\ipykernel_10732\\2655800692.py:147: UserWarning: The figure layout has changed to tight\n",
      "  plt.tight_layout()\n",
      "C:\\Users\\painter\\AppData\\Local\\Temp\\ipykernel_10732\\2655800692.py:131: MatplotlibDeprecationWarning: Auto-removal of overlapping axes is deprecated since 3.6 and will be removed two minor releases later; explicitly call ax.remove() as needed.\n",
      "  plt.subplot(211)\n"
     ]
    },
    {
     "name": "stdout",
     "output_type": "stream",
     "text": [
      "Progress: [####                                              ] 9.0% (n=45/500) --> elapsed time: 8.28s\r"
     ]
    },
    {
     "name": "stderr",
     "output_type": "stream",
     "text": [
      "C:\\Users\\painter\\AppData\\Local\\Temp\\ipykernel_10732\\2655800692.py:139: MatplotlibDeprecationWarning: Auto-removal of overlapping axes is deprecated since 3.6 and will be removed two minor releases later; explicitly call ax.remove() as needed.\n",
      "  plt.subplot(212)\n",
      "C:\\Users\\painter\\AppData\\Local\\Temp\\ipykernel_10732\\2655800692.py:147: UserWarning: The figure layout has changed to tight\n",
      "  plt.tight_layout()\n",
      "C:\\Users\\painter\\AppData\\Local\\Temp\\ipykernel_10732\\2655800692.py:131: MatplotlibDeprecationWarning: Auto-removal of overlapping axes is deprecated since 3.6 and will be removed two minor releases later; explicitly call ax.remove() as needed.\n",
      "  plt.subplot(211)\n"
     ]
    },
    {
     "name": "stdout",
     "output_type": "stream",
     "text": [
      "Progress: [####                                              ] 9.6% (n=48/500) --> elapsed time: 8.90s\r"
     ]
    },
    {
     "name": "stderr",
     "output_type": "stream",
     "text": [
      "C:\\Users\\painter\\AppData\\Local\\Temp\\ipykernel_10732\\2655800692.py:139: MatplotlibDeprecationWarning: Auto-removal of overlapping axes is deprecated since 3.6 and will be removed two minor releases later; explicitly call ax.remove() as needed.\n",
      "  plt.subplot(212)\n",
      "C:\\Users\\painter\\AppData\\Local\\Temp\\ipykernel_10732\\2655800692.py:147: UserWarning: The figure layout has changed to tight\n",
      "  plt.tight_layout()\n",
      "C:\\Users\\painter\\AppData\\Local\\Temp\\ipykernel_10732\\2655800692.py:131: MatplotlibDeprecationWarning: Auto-removal of overlapping axes is deprecated since 3.6 and will be removed two minor releases later; explicitly call ax.remove() as needed.\n",
      "  plt.subplot(211)\n"
     ]
    },
    {
     "name": "stdout",
     "output_type": "stream",
     "text": [
      "Progress: [#####                                             ] 10.4% (n=52/500) --> elapsed time: 9.65s\r"
     ]
    },
    {
     "name": "stderr",
     "output_type": "stream",
     "text": [
      "C:\\Users\\painter\\AppData\\Local\\Temp\\ipykernel_10732\\2655800692.py:139: MatplotlibDeprecationWarning: Auto-removal of overlapping axes is deprecated since 3.6 and will be removed two minor releases later; explicitly call ax.remove() as needed.\n",
      "  plt.subplot(212)\n",
      "C:\\Users\\painter\\AppData\\Local\\Temp\\ipykernel_10732\\2655800692.py:147: UserWarning: The figure layout has changed to tight\n",
      "  plt.tight_layout()\n",
      "C:\\Users\\painter\\AppData\\Local\\Temp\\ipykernel_10732\\2655800692.py:131: MatplotlibDeprecationWarning: Auto-removal of overlapping axes is deprecated since 3.6 and will be removed two minor releases later; explicitly call ax.remove() as needed.\n",
      "  plt.subplot(211)\n"
     ]
    },
    {
     "name": "stdout",
     "output_type": "stream",
     "text": [
      "Progress: [#####                                             ] 11.0% (n=55/500) --> elapsed time: 10.25s\r"
     ]
    },
    {
     "name": "stderr",
     "output_type": "stream",
     "text": [
      "C:\\Users\\painter\\AppData\\Local\\Temp\\ipykernel_10732\\2655800692.py:139: MatplotlibDeprecationWarning: Auto-removal of overlapping axes is deprecated since 3.6 and will be removed two minor releases later; explicitly call ax.remove() as needed.\n",
      "  plt.subplot(212)\n",
      "C:\\Users\\painter\\AppData\\Local\\Temp\\ipykernel_10732\\2655800692.py:147: UserWarning: The figure layout has changed to tight\n",
      "  plt.tight_layout()\n",
      "C:\\Users\\painter\\AppData\\Local\\Temp\\ipykernel_10732\\2655800692.py:131: MatplotlibDeprecationWarning: Auto-removal of overlapping axes is deprecated since 3.6 and will be removed two minor releases later; explicitly call ax.remove() as needed.\n",
      "  plt.subplot(211)\n"
     ]
    },
    {
     "name": "stdout",
     "output_type": "stream",
     "text": [
      "Progress: [######                                            ] 12.0% (n=60/500) --> elapsed time: 11.04s\r"
     ]
    },
    {
     "name": "stderr",
     "output_type": "stream",
     "text": [
      "C:\\Users\\painter\\AppData\\Local\\Temp\\ipykernel_10732\\2655800692.py:139: MatplotlibDeprecationWarning: Auto-removal of overlapping axes is deprecated since 3.6 and will be removed two minor releases later; explicitly call ax.remove() as needed.\n",
      "  plt.subplot(212)\n",
      "C:\\Users\\painter\\AppData\\Local\\Temp\\ipykernel_10732\\2655800692.py:147: UserWarning: The figure layout has changed to tight\n",
      "  plt.tight_layout()\n",
      "C:\\Users\\painter\\AppData\\Local\\Temp\\ipykernel_10732\\2655800692.py:131: MatplotlibDeprecationWarning: Auto-removal of overlapping axes is deprecated since 3.6 and will be removed two minor releases later; explicitly call ax.remove() as needed.\n",
      "  plt.subplot(211)\n"
     ]
    },
    {
     "name": "stdout",
     "output_type": "stream",
     "text": [
      "Progress: [######                                            ] 12.6% (n=63/500) --> elapsed time: 11.62s\r"
     ]
    },
    {
     "name": "stderr",
     "output_type": "stream",
     "text": [
      "C:\\Users\\painter\\AppData\\Local\\Temp\\ipykernel_10732\\2655800692.py:139: MatplotlibDeprecationWarning: Auto-removal of overlapping axes is deprecated since 3.6 and will be removed two minor releases later; explicitly call ax.remove() as needed.\n",
      "  plt.subplot(212)\n",
      "C:\\Users\\painter\\AppData\\Local\\Temp\\ipykernel_10732\\2655800692.py:147: UserWarning: The figure layout has changed to tight\n",
      "  plt.tight_layout()\n",
      "C:\\Users\\painter\\AppData\\Local\\Temp\\ipykernel_10732\\2655800692.py:131: MatplotlibDeprecationWarning: Auto-removal of overlapping axes is deprecated since 3.6 and will be removed two minor releases later; explicitly call ax.remove() as needed.\n",
      "  plt.subplot(211)\n"
     ]
    },
    {
     "name": "stdout",
     "output_type": "stream",
     "text": [
      "Progress: [######                                            ] 13.2% (n=66/500) --> elapsed time: 12.37s\r"
     ]
    },
    {
     "name": "stderr",
     "output_type": "stream",
     "text": [
      "C:\\Users\\painter\\AppData\\Local\\Temp\\ipykernel_10732\\2655800692.py:139: MatplotlibDeprecationWarning: Auto-removal of overlapping axes is deprecated since 3.6 and will be removed two minor releases later; explicitly call ax.remove() as needed.\n",
      "  plt.subplot(212)\n",
      "C:\\Users\\painter\\AppData\\Local\\Temp\\ipykernel_10732\\2655800692.py:147: UserWarning: The figure layout has changed to tight\n",
      "  plt.tight_layout()\n",
      "C:\\Users\\painter\\AppData\\Local\\Temp\\ipykernel_10732\\2655800692.py:131: MatplotlibDeprecationWarning: Auto-removal of overlapping axes is deprecated since 3.6 and will be removed two minor releases later; explicitly call ax.remove() as needed.\n",
      "  plt.subplot(211)\n"
     ]
    },
    {
     "name": "stdout",
     "output_type": "stream",
     "text": [
      "Progress: [#######                                           ] 14.0% (n=70/500) --> elapsed time: 12.99s\r"
     ]
    },
    {
     "name": "stderr",
     "output_type": "stream",
     "text": [
      "C:\\Users\\painter\\AppData\\Local\\Temp\\ipykernel_10732\\2655800692.py:139: MatplotlibDeprecationWarning: Auto-removal of overlapping axes is deprecated since 3.6 and will be removed two minor releases later; explicitly call ax.remove() as needed.\n",
      "  plt.subplot(212)\n",
      "C:\\Users\\painter\\AppData\\Local\\Temp\\ipykernel_10732\\2655800692.py:147: UserWarning: The figure layout has changed to tight\n",
      "  plt.tight_layout()\n",
      "C:\\Users\\painter\\AppData\\Local\\Temp\\ipykernel_10732\\2655800692.py:131: MatplotlibDeprecationWarning: Auto-removal of overlapping axes is deprecated since 3.6 and will be removed two minor releases later; explicitly call ax.remove() as needed.\n",
      "  plt.subplot(211)\n"
     ]
    },
    {
     "name": "stdout",
     "output_type": "stream",
     "text": [
      "Progress: [#######                                           ] 14.8% (n=74/500) --> elapsed time: 13.71s\r"
     ]
    },
    {
     "name": "stderr",
     "output_type": "stream",
     "text": [
      "C:\\Users\\painter\\AppData\\Local\\Temp\\ipykernel_10732\\2655800692.py:139: MatplotlibDeprecationWarning: Auto-removal of overlapping axes is deprecated since 3.6 and will be removed two minor releases later; explicitly call ax.remove() as needed.\n",
      "  plt.subplot(212)\n",
      "C:\\Users\\painter\\AppData\\Local\\Temp\\ipykernel_10732\\2655800692.py:147: UserWarning: The figure layout has changed to tight\n",
      "  plt.tight_layout()\n",
      "C:\\Users\\painter\\AppData\\Local\\Temp\\ipykernel_10732\\2655800692.py:131: MatplotlibDeprecationWarning: Auto-removal of overlapping axes is deprecated since 3.6 and will be removed two minor releases later; explicitly call ax.remove() as needed.\n",
      "  plt.subplot(211)\n"
     ]
    },
    {
     "name": "stdout",
     "output_type": "stream",
     "text": [
      "Progress: [#######                                           ] 15.4% (n=77/500) --> elapsed time: 14.32s\r"
     ]
    },
    {
     "name": "stderr",
     "output_type": "stream",
     "text": [
      "C:\\Users\\painter\\AppData\\Local\\Temp\\ipykernel_10732\\2655800692.py:139: MatplotlibDeprecationWarning: Auto-removal of overlapping axes is deprecated since 3.6 and will be removed two minor releases later; explicitly call ax.remove() as needed.\n",
      "  plt.subplot(212)\n",
      "C:\\Users\\painter\\AppData\\Local\\Temp\\ipykernel_10732\\2655800692.py:147: UserWarning: The figure layout has changed to tight\n",
      "  plt.tight_layout()\n",
      "C:\\Users\\painter\\AppData\\Local\\Temp\\ipykernel_10732\\2655800692.py:131: MatplotlibDeprecationWarning: Auto-removal of overlapping axes is deprecated since 3.6 and will be removed two minor releases later; explicitly call ax.remove() as needed.\n",
      "  plt.subplot(211)\n"
     ]
    },
    {
     "name": "stdout",
     "output_type": "stream",
     "text": [
      "Progress: [########                                          ] 16.2% (n=81/500) --> elapsed time: 15.04s\r"
     ]
    },
    {
     "name": "stderr",
     "output_type": "stream",
     "text": [
      "C:\\Users\\painter\\AppData\\Local\\Temp\\ipykernel_10732\\2655800692.py:139: MatplotlibDeprecationWarning: Auto-removal of overlapping axes is deprecated since 3.6 and will be removed two minor releases later; explicitly call ax.remove() as needed.\n",
      "  plt.subplot(212)\n",
      "C:\\Users\\painter\\AppData\\Local\\Temp\\ipykernel_10732\\2655800692.py:147: UserWarning: The figure layout has changed to tight\n",
      "  plt.tight_layout()\n",
      "C:\\Users\\painter\\AppData\\Local\\Temp\\ipykernel_10732\\2655800692.py:131: MatplotlibDeprecationWarning: Auto-removal of overlapping axes is deprecated since 3.6 and will be removed two minor releases later; explicitly call ax.remove() as needed.\n",
      "  plt.subplot(211)\n"
     ]
    },
    {
     "name": "stdout",
     "output_type": "stream",
     "text": [
      "Progress: [########                                          ] 16.8% (n=84/500) --> elapsed time: 15.65s\r"
     ]
    },
    {
     "name": "stderr",
     "output_type": "stream",
     "text": [
      "C:\\Users\\painter\\AppData\\Local\\Temp\\ipykernel_10732\\2655800692.py:139: MatplotlibDeprecationWarning: Auto-removal of overlapping axes is deprecated since 3.6 and will be removed two minor releases later; explicitly call ax.remove() as needed.\n",
      "  plt.subplot(212)\n",
      "C:\\Users\\painter\\AppData\\Local\\Temp\\ipykernel_10732\\2655800692.py:147: UserWarning: The figure layout has changed to tight\n",
      "  plt.tight_layout()\n",
      "C:\\Users\\painter\\AppData\\Local\\Temp\\ipykernel_10732\\2655800692.py:131: MatplotlibDeprecationWarning: Auto-removal of overlapping axes is deprecated since 3.6 and will be removed two minor releases later; explicitly call ax.remove() as needed.\n",
      "  plt.subplot(211)\n"
     ]
    },
    {
     "name": "stdout",
     "output_type": "stream",
     "text": [
      "Progress: [########                                          ] 17.6% (n=88/500) --> elapsed time: 16.39s\r"
     ]
    },
    {
     "name": "stderr",
     "output_type": "stream",
     "text": [
      "C:\\Users\\painter\\AppData\\Local\\Temp\\ipykernel_10732\\2655800692.py:139: MatplotlibDeprecationWarning: Auto-removal of overlapping axes is deprecated since 3.6 and will be removed two minor releases later; explicitly call ax.remove() as needed.\n",
      "  plt.subplot(212)\n",
      "C:\\Users\\painter\\AppData\\Local\\Temp\\ipykernel_10732\\2655800692.py:147: UserWarning: The figure layout has changed to tight\n",
      "  plt.tight_layout()\n",
      "C:\\Users\\painter\\AppData\\Local\\Temp\\ipykernel_10732\\2655800692.py:131: MatplotlibDeprecationWarning: Auto-removal of overlapping axes is deprecated since 3.6 and will be removed two minor releases later; explicitly call ax.remove() as needed.\n",
      "  plt.subplot(211)\n"
     ]
    },
    {
     "name": "stdout",
     "output_type": "stream",
     "text": [
      "Progress: [#########                                         ] 18.2% (n=91/500) --> elapsed time: 16.98s\r"
     ]
    },
    {
     "name": "stderr",
     "output_type": "stream",
     "text": [
      "C:\\Users\\painter\\AppData\\Local\\Temp\\ipykernel_10732\\2655800692.py:139: MatplotlibDeprecationWarning: Auto-removal of overlapping axes is deprecated since 3.6 and will be removed two minor releases later; explicitly call ax.remove() as needed.\n",
      "  plt.subplot(212)\n"
     ]
    },
    {
     "name": "stdout",
     "output_type": "stream",
     "text": [
      "Execution stopped by user!\n",
      "Progress: [#########                                         ] 19.0% (n=95/500) --> elapsed time: 17.75s\r"
     ]
    },
    {
     "name": "stderr",
     "output_type": "stream",
     "text": [
      "C:\\Users\\painter\\AppData\\Local\\Temp\\ipykernel_10732\\2655800692.py:147: UserWarning: The figure layout has changed to tight\n",
      "  plt.tight_layout()\n",
      "C:\\Users\\painter\\AppData\\Local\\Temp\\ipykernel_10732\\2655800692.py:131: MatplotlibDeprecationWarning: Auto-removal of overlapping axes is deprecated since 3.6 and will be removed two minor releases later; explicitly call ax.remove() as needed.\n",
      "  plt.subplot(211)\n"
     ]
    },
    {
     "name": "stdout",
     "output_type": "stream",
     "text": [
      "Progress: [#########                                         ] 19.0% (n=95/500) --> elapsed time: 18.33s\r"
     ]
    },
    {
     "name": "stderr",
     "output_type": "stream",
     "text": [
      "C:\\Users\\painter\\AppData\\Local\\Temp\\ipykernel_10732\\2655800692.py:139: MatplotlibDeprecationWarning: Auto-removal of overlapping axes is deprecated since 3.6 and will be removed two minor releases later; explicitly call ax.remove() as needed.\n",
      "  plt.subplot(212)\n",
      "C:\\Users\\painter\\AppData\\Local\\Temp\\ipykernel_10732\\2655800692.py:147: UserWarning: The figure layout has changed to tight\n",
      "  plt.tight_layout()\n"
     ]
    },
    {
     "data": {
      "text/plain": [
       "3838"
      ]
     },
     "execution_count": 6,
     "metadata": {},
     "output_type": "execute_result"
    }
   ],
   "source": [
    "from qm.qua import *\n",
    "from qm.QuantumMachinesManager import QuantumMachinesManager\n",
    "from configuration import *\n",
    "import matplotlib.pyplot as plt\n",
    "import numpy as np\n",
    "from scipy import signal\n",
    "from qm import SimulationConfig\n",
    "from qualang_tools.loops import from_array\n",
    "%matplotlib qt\n",
    "\n",
    "# Start to save data\n",
    "import datetime \n",
    "import os\n",
    "import pandas as pd \n",
    "\n",
    "now = datetime.datetime.now()\n",
    "year = now.strftime(\"%Y\")\n",
    "month = now.strftime(\"%m\")\n",
    "day = now.strftime(\"%d\")\n",
    "hour = now.strftime(\"%H\")\n",
    "minute = now.strftime(\"%M\")\n",
    "second  = now.strftime(\"%S\")\n",
    "\n",
    "tPath = os.path.join(r'Z:\\LabberData_DF5\\QM_Data_DF5',year,month,'Data_'+month+day)\n",
    "if not os.path.exists(tPath):\n",
    "   os.makedirs(tPath)\n",
    "exp_name = 'RR_spec_wAmplitude'\n",
    "qubit_name = 'Q2'\n",
    "\n",
    "f_str =exp_name + '_'+ qubit_name +'_'+ hour+ '_' + minute +'_' + second\n",
    "f_name= f_str+'.csv'\n",
    "j_name = f_str + '_state.json'\n",
    "p_name= f_str+'.png'\n",
    "\n",
    "# End to save data\n",
    "\n",
    "#########################################\n",
    "# Set-up the machine and get the config #\n",
    "#########################################\n",
    "machine = QuAM(\"quam_state.json\", flat_data=False)\n",
    "config = build_config(machine)\n",
    "\n",
    "###################\n",
    "# The QUA program #\n",
    "###################\n",
    "\n",
    "n_avg = 500\n",
    "\n",
    "cooldown_time = 10_000\n",
    "\n",
    "amps = np.arange(0.25, 1.99, 0.10)\n",
    "dfs = np.arange(-5.0e6, +5.0e6, 0.01e6)\n",
    "\n",
    "number_of_qubits = 4\n",
    "resonators_list = [i for i in range(number_of_qubits)]\n",
    "res_if_list = [machine.resonators[i].f_readout - machine.resonators[i].lo for i in range(number_of_qubits)]\n",
    "\n",
    "qubit_index = 0\n",
    "\n",
    "with program() as resonator_spec_2D:\n",
    "    n = declare(int)  # Averaging index\n",
    "    df = declare(int)  # Resonator frequency\n",
    "    a = declare(fixed)  # Readout amplitude pre-factor\n",
    "    I = declare(fixed)\n",
    "    Q = declare(fixed)\n",
    "    I_st = declare_stream()\n",
    "    Q_st = declare_stream()\n",
    "    n_st = declare_stream()\n",
    "\n",
    "    with for_(n, 0, n < n_avg, n + 1):\n",
    "        with for_(*from_array(df, dfs)):\n",
    "            # Update the resonator frequency\n",
    "            update_frequency(machine.resonators[qubit_index].name, df + res_if_list[qubit_index])\n",
    "            with for_(*from_array(a, amps)):\n",
    "                # Measure the resonator\n",
    "                measure(\n",
    "                    \"readout\" * amp(a),\n",
    "                    machine.resonators[qubit_index].name,\n",
    "                    None,\n",
    "                    dual_demod.full(\"cos\", \"out1\", \"sin\", \"out2\", I),\n",
    "                    dual_demod.full(\"minus_sin\", \"out1\", \"cos\", \"out2\", Q),\n",
    "                )\n",
    "                # Wait for the resonator to cooldown\n",
    "                wait(cooldown_time * u.ns, machine.resonators[qubit_index].name)\n",
    "                # Save data to the stream processing\n",
    "                save(I, I_st)\n",
    "                save(Q, Q_st)\n",
    "        save(n, n_st)\n",
    "\n",
    "    with stream_processing():\n",
    "        I_st.buffer(len(amps)).buffer(len(dfs)).average().save(\"I\")\n",
    "        Q_st.buffer(len(amps)).buffer(len(dfs)).average().save(\"Q\")\n",
    "        n_st.save(\"iteration\")\n",
    "\n",
    "#####################################\n",
    "#  Open Communication with the QOP  #\n",
    "#####################################\n",
    "qmm = QuantumMachinesManager(machine.network.qop_ip, cluster_name=machine.network.cluster_name, octave=octave_config)\n",
    "\n",
    "#######################\n",
    "# Simulate or execute #\n",
    "#######################\n",
    "\n",
    "simulate = False\n",
    "\n",
    "if simulate:\n",
    "    simulation_config = SimulationConfig(duration=1000)\n",
    "    job = qmm.simulate(config, resonator_spec_2D, simulation_config)\n",
    "    job.get_simulated_samples().con1.plot()\n",
    "\n",
    "else:\n",
    "    qm = qmm.open_qm(config)\n",
    "    job = qm.execute(resonator_spec_2D)\n",
    "    # Get results from QUA program\n",
    "    results = fetching_tool(job, data_list=[\"I\", \"Q\", \"iteration\"], mode=\"live\")\n",
    "    # Live plotting\n",
    "    fig = plt.figure()\n",
    "    plt.rcParams['figure.figsize'] = [12, 8]\n",
    "    interrupt_on_close(fig, job)  #  Interrupts the job when closing the figure\n",
    "    while results.is_processing():\n",
    "        # Fetch results\n",
    "        I, Q, iteration = results.fetch_all()\n",
    "        # Normalize data\n",
    "        s1 = u.demod2volts(I + 1j * Q, machine.resonators[qubit_index].readout_pulse_length)\n",
    "        A1 = np.abs(s1)\n",
    "        row_sums = A1.sum(axis=0)\n",
    "        A1 = A1 / row_sums[np.newaxis, :]\n",
    "        # Progress bar\n",
    "        progress_counter(iteration, n_avg, start_time=results.get_start_time())\n",
    "        # 2D spectroscopy plot\n",
    "        plt.subplot(211)\n",
    "        plt.cla()\n",
    "        plt.title(\"Resonator spectroscopy amplitude (normalized)\")\n",
    "        plt.pcolor(amps * machine.resonators[qubit_index].readout_pulse_amp, dfs / u.MHz, A1,cmap=\"seismic\")\n",
    "        plt.xlabel(\"Readout amplitude [V]\")\n",
    "        plt.ylabel(\"Frequency [MHz]\")\n",
    "        plt.colorbar()\n",
    "        # plt.axhline(y=0,color='k')\n",
    "        plt.subplot(212)\n",
    "        plt.cla()\n",
    "        plt.title(\"Resonator spectroscopy phase\")\n",
    "        plt.pcolor(amps * machine.resonators[qubit_index].readout_pulse_amp, dfs / u.MHz, signal.detrend(np.unwrap(np.angle(I + 1j * Q))),cmap=\"seismic\")\n",
    "        plt.xlabel(\"Readout amplitude [V]\")\n",
    "        plt.ylabel(\"Frequency [MHz]\")\n",
    "        plt.colorbar()\n",
    "        plt.pause(0.1)\n",
    "        plt.tight_layout()\n",
    "\n",
    "plt.savefig(os.path.join(tPath, p_name))\n",
    "amplitude = amps * machine.resonators[qubit_index].readout_pulse_amp\n",
    "## convert everything to lists so they are easy to parse in Matlab if desired\n",
    "if isinstance(amplitude,np.ndarray) == True:\n",
    "   amplitude1=amplitude.tolist()\n",
    "else:  \n",
    "    pass\n",
    "if isinstance(dfs,np.ndarray) == True:\n",
    "   dfs1=dfs.tolist()\n",
    "else:  \n",
    "    pass\n",
    "if isinstance(I,np.ndarray) == True:\n",
    "   I1=I.tolist()\n",
    "else:  \n",
    "    pass\n",
    "if isinstance(Q,np.ndarray) == True:\n",
    "   Q1=Q.tolist()\n",
    "else:  \n",
    "    pass\n",
    "\n",
    "data = [('Variable', 'Value'), ('Amp', amplitude1),('Freq', dfs1), ('I', I1), ('Q', Q1)]\n",
    "df = pd.DataFrame(data,index=None, columns=None)\n",
    "df.to_csv(os.path.join(tPath, f_name),header=False, index=False)\n",
    "open(os.path.join(tPath, j_name), \"w\").write(open(\"quam_state.json\").read())"
   ]
  },
  {
   "cell_type": "code",
   "execution_count": null,
   "id": "586a964f-9dda-47e0-8826-eee380e06aea",
   "metadata": {},
   "outputs": [],
   "source": []
  }
 ],
 "metadata": {
  "kernelspec": {
   "display_name": "Python 3 (ipykernel)",
   "language": "python",
   "name": "python3"
  },
  "language_info": {
   "codemirror_mode": {
    "name": "ipython",
    "version": 3
   },
   "file_extension": ".py",
   "mimetype": "text/x-python",
   "name": "python",
   "nbconvert_exporter": "python",
   "pygments_lexer": "ipython3",
   "version": "3.8.17"
  }
 },
 "nbformat": 4,
 "nbformat_minor": 5
}
