{
 "cells": [
  {
   "cell_type": "code",
   "execution_count": 1,
   "id": "de3edfbb",
   "metadata": {},
   "outputs": [
    {
     "ename": "NameError",
     "evalue": "name 'machine' is not defined",
     "output_type": "error",
     "traceback": [
      "\u001b[1;31m---------------------------------------------------------------------------\u001b[0m",
      "\u001b[1;31mNameError\u001b[0m                                 Traceback (most recent call last)",
      "Cell \u001b[1;32mIn[1], line 1\u001b[0m\n\u001b[1;32m----> 1\u001b[0m \u001b[43mmachine\u001b[49m\u001b[38;5;241m.\u001b[39mqubits[\u001b[38;5;241m0\u001b[39m]\u001b[38;5;241m.\u001b[39mlo\n",
      "\u001b[1;31mNameError\u001b[0m: name 'machine' is not defined"
     ]
    }
   ],
   "source": [
    "machine.qubits[0].lo"
   ]
  },
  {
   "cell_type": "code",
   "execution_count": 2,
   "id": "ff4b1c1c",
   "metadata": {},
   "outputs": [
    {
     "name": "stdout",
     "output_type": "stream",
     "text": [
      "2023-09-26 15:27:59,335 - qm - INFO     - Starting session: 6629f936-726d-463c-9b67-e1fffbb0a1f5\n"
     ]
    }
   ],
   "source": [
    "from qm.qua import *\n",
    "from qm.QuantumMachinesManager import QuantumMachinesManager\n",
    "from qm import SimulationConfig, LoopbackInterface\n",
    "from qm.octave import *\n",
    "from qm.octave.octave_manager import ClockMode\n",
    "from configuration import *\n",
    "import matplotlib.pyplot as plt\n",
    "import numpy as np\n",
    "from scipy import signal\n",
    "from qm import SimulationConfig\n",
    "from qualang_tools.bakery import baking\n",
    "from qualang_tools.units import unit\n",
    "import qdac as qdac\n",
    "from scipy.io import savemat\n",
    "from scipy.io import loadmat\n",
    "from scipy.optimize import curve_fit\n",
    "from scipy.signal import savgol_filter\n",
    "from qutip import *\n",
    "import datetime \n",
    "import os\n",
    "import time\n",
    "import warnings\n",
    "from qm import generate_qua_script\n",
    "\n",
    "warnings.filterwarnings(\"ignore\")\n",
    "\n",
    "def wait_until_job_is_paused(current_job):\n",
    "    \"\"\"\n",
    "    Waits until the OPX FPGA reaches the pause statement.\n",
    "    Used when the OPX sequence needs to be synchronized with an external parameter sweep.\n",
    "\n",
    "    :param current_job: the job object.\n",
    "    \"\"\"\n",
    "    while not current_job.is_paused():\n",
    "        time.sleep(0.01)\n",
    "        pass\n",
    "    return True\n",
    "\n",
    "qubit_index = 0 # for UA Q1\n",
    "\n",
    "now = datetime.datetime.now()\n",
    "year = now.strftime(\"%Y\")\n",
    "month = now.strftime(\"%m\")\n",
    "day = now.strftime(\"%d\")\n",
    "\n",
    "tPath = os.path.join(r'Z:\\LabberData_DF5\\QM_Data_DF5',year,month,'Data_'+month+day)\n",
    "if not os.path.exists(tPath):\n",
    "   os.makedirs(tPath)"
   ]
  },
  {
   "cell_type": "code",
   "execution_count": 3,
   "id": "58dd5b77",
   "metadata": {},
   "outputs": [
    {
     "data": {
      "text/plain": [
       "6391860977.0"
      ]
     },
     "execution_count": 3,
     "metadata": {},
     "output_type": "execute_result"
    }
   ],
   "source": [
    "machine.qubits[0].lo"
   ]
  },
  {
   "cell_type": "code",
   "execution_count": null,
   "id": "ec52d674",
   "metadata": {},
   "outputs": [],
   "source": []
  }
 ],
 "metadata": {
  "kernelspec": {
   "display_name": "Python 3 (ipykernel)",
   "language": "python",
   "name": "python3"
  },
  "language_info": {
   "codemirror_mode": {
    "name": "ipython",
    "version": 3
   },
   "file_extension": ".py",
   "mimetype": "text/x-python",
   "name": "python",
   "nbconvert_exporter": "python",
   "pygments_lexer": "ipython3",
   "version": "3.8.17"
  }
 },
 "nbformat": 4,
 "nbformat_minor": 5
}
