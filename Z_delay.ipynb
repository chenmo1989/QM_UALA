{
 "cells": [
  {
   "cell_type": "code",
   "execution_count": 1,
   "id": "024d6a3d",
   "metadata": {},
   "outputs": [],
   "source": [
    "# set up non-QM hardware\n",
    "import Labber\n",
    "# connect to server \n",
    "client = Labber.connectToServer('localhost') # get list of instruments \n",
    "#instruments = client.getListOfInstrumentsString() \n",
    "#for instr in instruments: \n",
    "#    print(instr) # close connection \n",
    "\n",
    "# reset all QDevil channels to 0 V\n",
    "QDevil = client.connectToInstrument('QDevil QDAC', dict(interface='Serial', address='3'))\n",
    "for n in range(24):\n",
    "    if n+1 < 10:\n",
    "        QDevil.setValue(\"CH0\" + str(n+1) + \" Voltage\", 0.0)\n",
    "    else:\n",
    "        QDevil.setValue(\"CH\" + str(n+1) + \" Voltage\", 0.0)\n",
    "# setting CH01 to sweet spot\n",
    "DC_ss = -0.158888\n",
    "QDevil.setValue(\"CH01 Voltage\", DC_ss)\n",
    "\n",
    "# Set other qubits at the antinode\n",
    "QDevil.setValue(\"CH02 Voltage\", 0.6)\n",
    "QDevil.setValue(\"CH03 Voltage\", 2.9)\n",
    "QDevil.setValue(\"CH04 Voltage\", 3.4)\n",
    "\n",
    "# digital attenuators\n",
    "Vaunix1 = client.connectToInstrument('Painter Vaunix Lab Brick Digital Attenuator', dict(interface='USB', address='25606'))\n",
    "Vaunix2 = client.connectToInstrument('Painter Vaunix Lab Brick Digital Attenuator', dict(interface='USB', address='25607'))\n",
    "ROI = 32\n",
    "ROO = 10\n",
    "Vaunix1.setValue(\"Attenuation\", ROI)\n",
    "Vaunix2.setValue(\"Attenuation\", ROO)\n",
    "\n",
    "# TWPA pump\n",
    "SG = client.connectToInstrument('Rohde&Schwarz RF Source', dict(interface='TCPIP', address='192.168.88.2'))\n",
    "freq_TWPA = 6326E6;\n",
    "pwr_TWPA = -10;\n",
    "SG.setValue('Frequency', freq_TWPA)\n",
    "SG.setValue('Power', pwr_TWPA)\n",
    "\n",
    "client.close()"
   ]
  },
  {
   "cell_type": "code",
   "execution_count": 2,
   "id": "e588f3ab",
   "metadata": {},
   "outputs": [
    {
     "name": "stdout",
     "output_type": "stream",
     "text": [
      "2023-09-06 08:09:23,307 - qm - INFO     - Starting session: f5e64434-c692-4744-b6ed-f15fac324743\n"
     ]
    }
   ],
   "source": [
    "from qm.qua import *\n",
    "from qm.QuantumMachinesManager import QuantumMachinesManager\n",
    "from qm import SimulationConfig, LoopbackInterface\n",
    "from configuration import *\n",
    "import matplotlib.pyplot as plt\n",
    "import numpy as np\n",
    "from scipy import signal\n",
    "from qm import SimulationConfig\n",
    "from qualang_tools.bakery import baking\n",
    "import qdac as qdac\n",
    "from scipy.io import savemat\n",
    "from scipy.io import loadmat\n",
    "from scipy.optimize import curve_fit\n",
    "from qutip import *\n",
    "import datetime \n",
    "import os\n",
    "import time\n",
    "import warnings\n",
    "\n",
    "warnings.filterwarnings(\"ignore\")\n",
    "\n",
    "\n",
    "qubit_index = 0 # for UA Q1\n",
    "\n",
    "now = datetime.datetime.now()\n",
    "year = now.strftime(\"%Y\")\n",
    "month = now.strftime(\"%m\")\n",
    "day = now.strftime(\"%d\")\n",
    "\n",
    "tPath = os.path.join(r'Z:\\LabberData_DF5\\QM_Data_DF5',year,month,'Data_'+month+day)\n",
    "if not os.path.exists(tPath):\n",
    "   os.makedirs(tPath)"
   ]
  },
  {
   "cell_type": "markdown",
   "id": "2bf09b12",
   "metadata": {},
   "source": [
    "## No baking\n",
    "\n"
   ]
  },
  {
   "cell_type": "code",
   "execution_count": 4,
   "id": "eeda2a0b",
   "metadata": {},
   "outputs": [
    {
     "name": "stdout",
     "output_type": "stream",
     "text": [
      "2023-09-06 08:11:06,246 - qm - ERROR    - Encountered connection error from QOP\n",
      "Traceback (most recent call last):\n",
      "  File \"C:\\Users\\painter\\AppData\\Roaming\\Python\\Python38\\site-packages\\qm\\api\\base_api.py\", line 27, in wrapped\n",
      "    return func(*args, **kwargs)\n",
      "  File \"C:\\Users\\painter\\AppData\\Roaming\\Python\\Python38\\site-packages\\qm\\api\\frontend_api.py\", line 79, in get_version\n",
      "    response = run_async(self._stub.get_version(Empty(), timeout=self._timeout))\n",
      "  File \"C:\\Users\\painter\\AppData\\Roaming\\Python\\Python38\\site-packages\\qm\\utils\\async_utils.py\", line 37, in run_async\n",
      "    return create_future(coroutine).result()  # type: ignore[no-any-return]\n",
      "  File \"C:\\Users\\painter\\.conda\\envs\\labber-qm-env\\lib\\concurrent\\futures\\_base.py\", line 444, in result\n",
      "    return self.__get_result()\n",
      "  File \"C:\\Users\\painter\\.conda\\envs\\labber-qm-env\\lib\\concurrent\\futures\\_base.py\", line 389, in __get_result\n",
      "    raise self._exception\n",
      "  File \"C:\\Users\\painter\\AppData\\Roaming\\Python\\Python38\\site-packages\\qm\\grpc\\frontend\\__init__.py\", line 697, in get_version\n",
      "    return await self._unary_unary(\n",
      "  File \"C:\\Users\\painter\\AppData\\Roaming\\Python\\Python38\\site-packages\\betterproto\\grpc\\grpclib_client.py\", line 85, in _unary_unary\n",
      "    response = await stream.recv_message()\n",
      "  File \"C:\\Users\\painter\\AppData\\Roaming\\Python\\Python38\\site-packages\\grpclib\\client.py\", line 425, in recv_message\n",
      "    await self.recv_initial_metadata()\n",
      "  File \"C:\\Users\\painter\\AppData\\Roaming\\Python\\Python38\\site-packages\\grpclib\\client.py\", line 371, in recv_initial_metadata\n",
      "    self._raise_for_status(headers_map)\n",
      "  File \"C:\\Users\\painter\\AppData\\Roaming\\Python\\Python38\\site-packages\\grpclib\\client.py\", line 296, in _raise_for_status\n",
      "    raise GRPCError(grpc_status,\n",
      "grpclib.exceptions.GRPCError: (<Status.UNKNOWN: 2>, \"Received :status = '302'\", None)\n"
     ]
    },
    {
     "name": "stderr",
     "output_type": "stream",
     "text": [
      "ERROR:qm.api.base_api:Encountered connection error from QOP\n",
      "Traceback (most recent call last):\n",
      "  File \"C:\\Users\\painter\\AppData\\Roaming\\Python\\Python38\\site-packages\\qm\\api\\base_api.py\", line 27, in wrapped\n",
      "    return func(*args, **kwargs)\n",
      "  File \"C:\\Users\\painter\\AppData\\Roaming\\Python\\Python38\\site-packages\\qm\\api\\frontend_api.py\", line 79, in get_version\n",
      "    response = run_async(self._stub.get_version(Empty(), timeout=self._timeout))\n",
      "  File \"C:\\Users\\painter\\AppData\\Roaming\\Python\\Python38\\site-packages\\qm\\utils\\async_utils.py\", line 37, in run_async\n",
      "    return create_future(coroutine).result()  # type: ignore[no-any-return]\n",
      "  File \"C:\\Users\\painter\\.conda\\envs\\labber-qm-env\\lib\\concurrent\\futures\\_base.py\", line 444, in result\n",
      "    return self.__get_result()\n",
      "  File \"C:\\Users\\painter\\.conda\\envs\\labber-qm-env\\lib\\concurrent\\futures\\_base.py\", line 389, in __get_result\n",
      "    raise self._exception\n",
      "  File \"C:\\Users\\painter\\AppData\\Roaming\\Python\\Python38\\site-packages\\qm\\grpc\\frontend\\__init__.py\", line 697, in get_version\n",
      "    return await self._unary_unary(\n",
      "  File \"C:\\Users\\painter\\AppData\\Roaming\\Python\\Python38\\site-packages\\betterproto\\grpc\\grpclib_client.py\", line 85, in _unary_unary\n",
      "    response = await stream.recv_message()\n",
      "  File \"C:\\Users\\painter\\AppData\\Roaming\\Python\\Python38\\site-packages\\grpclib\\client.py\", line 425, in recv_message\n",
      "    await self.recv_initial_metadata()\n",
      "  File \"C:\\Users\\painter\\AppData\\Roaming\\Python\\Python38\\site-packages\\grpclib\\client.py\", line 371, in recv_initial_metadata\n",
      "    self._raise_for_status(headers_map)\n",
      "  File \"C:\\Users\\painter\\AppData\\Roaming\\Python\\Python38\\site-packages\\grpclib\\client.py\", line 296, in _raise_for_status\n",
      "    raise GRPCError(grpc_status,\n",
      "grpclib.exceptions.GRPCError: (<Status.UNKNOWN: 2>, \"Received :status = '302'\", None)\n"
     ]
    },
    {
     "name": "stdout",
     "output_type": "stream",
     "text": [
      "2023-09-06 08:11:06,345 - qm - INFO     - Performing health check\n"
     ]
    },
    {
     "name": "stderr",
     "output_type": "stream",
     "text": [
      "INFO:qm.api.frontend_api:Performing health check\n"
     ]
    },
    {
     "name": "stdout",
     "output_type": "stream",
     "text": [
      "2023-09-06 08:11:06,355 - qm - INFO     - Health check passed\n"
     ]
    },
    {
     "name": "stderr",
     "output_type": "stream",
     "text": [
      "INFO:qm.api.frontend_api:Health check passed\n"
     ]
    },
    {
     "name": "stdout",
     "output_type": "stream",
     "text": [
      "2023-09-06 08:11:07,027 - qm - INFO     - Sending program to QOP for compilation\n"
     ]
    },
    {
     "name": "stderr",
     "output_type": "stream",
     "text": [
      "INFO:qm.api.frontend_api:Sending program to QOP for compilation\n"
     ]
    },
    {
     "name": "stdout",
     "output_type": "stream",
     "text": [
      "2023-09-06 08:11:07,247 - qm - INFO     - Executing program\n"
     ]
    },
    {
     "name": "stderr",
     "output_type": "stream",
     "text": [
      "INFO:qm.QuantumMachine:Executing program\n"
     ]
    },
    {
     "name": "stdout",
     "output_type": "stream",
     "text": [
      "Execution stopped by user!                                   ] 8.1% (n=161/2000) --> elapsed time: 11.14s\n",
      "Progress: [####                                              ] 8.1% (n=162/2000) --> elapsed time: 11.33s\r"
     ]
    }
   ],
   "source": [
    "now = datetime.datetime.now()\n",
    "month = now.strftime(\"%m\")\n",
    "day = now.strftime(\"%d\")\n",
    "hour = now.strftime(\"%H\")\n",
    "minute = now.strftime(\"%M\")\n",
    "\n",
    "exp_name = 'Zdelay'\n",
    "qubit_name = 'UA_Q1'\n",
    "\n",
    "f_str = qubit_name + '_' + exp_name + '_' + month + day + '-' + hour + minute\n",
    "file_name= f_str+'.mat'\n",
    "json_name = f_str + '_state.json'\n",
    "\n",
    "# Set-up the machine and get the config #\n",
    "machine = QuAM(\"quam_state.json\")\n",
    "config = build_config(machine)\n",
    "\n",
    "# The QUA program #\n",
    "n_avg = 2_000\n",
    "cooldown_time = 5_000 # ns, set in wait() function\n",
    "taus = np.arange(4, 152 + 0.1, 1) # Z delay \n",
    "qubit_index = 0 \n",
    "dc = 0.5\n",
    "\n",
    "with program() as zdelay:\n",
    "    n = declare(int)\n",
    "    n_st = declare_stream()\n",
    "    t = declare(int)\n",
    "    I = declare(fixed)\n",
    "    Q = declare(fixed)\n",
    "    I_st = declare_stream()\n",
    "    Q_st = declare_stream()\n",
    "\n",
    "    with for_(n, 0, n < n_avg, n + 1):\n",
    "        with for_(*from_array(t, taus)):\n",
    "            align()\n",
    "            wait(25, machine.qubits[qubit_index].name, machine.flux_lines[qubit_index].name,\n",
    "                 machine.resonators[qubit_index].name)\n",
    "            \n",
    "            wait(t, machine.flux_lines[qubit_index].name) # when inside the for loop, t has a delay of an extra 16 ns\n",
    "            set_dc_offset(machine.flux_lines[qubit_index].name, \"single\", dc)\n",
    "            wait(300 * u.ns, machine.flux_lines[qubit_index].name)\n",
    "            set_dc_offset(machine.flux_lines[qubit_index].name, \"single\", machine.flux_lines[qubit_index].max_frequency_point)\n",
    "            wait(280 * u.ns, machine.qubits[qubit_index].name) \n",
    "            # Need to add 100 ns instead of 120 ns because there seems to be a delay of 20 ns between flux line and XY pulse (is it initial tau?)\n",
    "            play(\"cw\" * amp(0.9), machine.qubits[qubit_index].name, duration = 80*u.ns )\n",
    "            \n",
    "            wait(152 - t,machine.qubits[qubit_index].name, machine.flux_lines[qubit_index].name )\n",
    "            align()\n",
    "            measure(\n",
    "                \"readout\",\n",
    "                machine.resonators[qubit_index].name,\n",
    "                None,\n",
    "                dual_demod.full(\"cos\", \"out1\", \"sin\", \"out2\", I),\n",
    "                dual_demod.full(\"minus_sin\", \"out1\", \"cos\", \"out2\", Q),\n",
    "            )\n",
    "    \n",
    "            save(I, I_st)\n",
    "            save(Q, Q_st)\n",
    "            wait(cooldown_time, machine.resonators[qubit_index].name)\n",
    "\n",
    "        save(n, n_st)\n",
    "\n",
    "    with stream_processing():\n",
    "        I_st.buffer(len(taus)).average().save(\"I\")\n",
    "        Q_st.buffer(len(taus)).average().save(\"Q\")\n",
    "        n_st.save(\"iteration\")\n",
    "\n",
    "#  Open Communication with the QOP  #\n",
    "qmm = QuantumMachinesManager(machine.network.qop_ip, cluster_name=machine.network.cluster_name, octave=octave_config)\n",
    "\n",
    "simulate = False\n",
    "if simulate:\n",
    "    simulation_config = SimulationConfig(duration=4000)  # in clock cycles\n",
    "    job = qmm.simulate(config, zdelay, simulation_config)\n",
    "    job.get_simulated_samples().con1.plot()\n",
    "else:\n",
    "    qm = qmm.open_qm(config)\n",
    "    job = qm.execute(zdelay)\n",
    "    # Get results from QUA program\n",
    "    results = fetching_tool(job, data_list=[\"I\", \"Q\", \"iteration\"], mode=\"live\")\n",
    "    # Live plotting, with pop-up window\n",
    "    %matplotlib qt\n",
    "    fig = plt.figure()\n",
    "    plt.rcParams['figure.figsize'] = [12, 8]\n",
    "    interrupt_on_close(fig, job)  #  Interrupts the job when closing the figure\n",
    "    while results.is_processing():\n",
    "        # Fetch results\n",
    "        I, Q, iteration = results.fetch_all()\n",
    "        I = u.demod2volts(I, machine.resonators[qubit_index].readout_pulse_length)\n",
    "        Q = u.demod2volts(Q, machine.resonators[qubit_index].readout_pulse_length)\n",
    "        # Progress bar\n",
    "        progress_counter(iteration, n_avg, start_time=results.get_start_time())\n",
    "        # Plot results\n",
    "        plt.cla()\n",
    "        plt.title(\"Z delay\")\n",
    "        plt.plot(taus *4.0 *u.ns, np.sqrt(I**2 + Q**2))\n",
    "        plt.xlabel(\"Z delay [ns]\")\n",
    "        plt.ylabel(\"signal [V]\")\n",
    "        plt.pause(0.01)"
   ]
  },
  {
   "cell_type": "code",
   "execution_count": 8,
   "id": "866dacd4",
   "metadata": {},
   "outputs": [
    {
     "data": {
      "text/plain": [
       "Text(0, 0.5, '$\\\\sqrt{I^2 + Q^2}$ [V]')"
      ]
     },
     "execution_count": 8,
     "metadata": {},
     "output_type": "execute_result"
    },
    {
     "data": {
      "image/png": "[encoded data removed]",
      "text/plain": [
       "<Figure size 800x400 with 1 Axes>"
      ]
     },
     "metadata": {},
     "output_type": "display_data"
    }
   ],
   "source": [
    "I, Q, iteration = results.fetch_all()\n",
    "I = u.demod2volts(I, machine.resonators[qubit_index].readout_pulse_length)\n",
    "Q = u.demod2volts(Q, machine.resonators[qubit_index].readout_pulse_length)\n",
    "sigs = np.sqrt(I**2 + Q**2)\n",
    "phase = signal.detrend(np.unwrap(np.angle(I + 1j * Q)))\n",
    "\n",
    "%matplotlib inline\n",
    "fig = plt.figure(figsize=[8, 4])\n",
    "plt.plot(taus * 4, sigs, 'r')\n",
    "plt.xlabel(\"tau [ns]\")\n",
    "plt.ylabel(\"$\\sqrt{I^2 + Q^2}$ [V]\")"
   ]
  },
  {
   "cell_type": "code",
   "execution_count": null,
   "id": "6b4e481f",
   "metadata": {},
   "outputs": [],
   "source": [
    "savemat(os.path.join(tPath, file_name), {\"tau\": taus, \"sig\": sigs, \"sig_phase\": phase, \"DC_flux\": DC_ss, \"ROI\": ROI, \"ROO\": ROO, \"freq_TWPA\": freq_TWPA, \"pwr_TWPA\": pwr_TWPA})\n",
    "machine._save(os.path.join(tPath, json_name), flat_data=False)"
   ]
  },
  {
   "cell_type": "markdown",
   "id": "ddb17a4a",
   "metadata": {},
   "source": [
    "## With baking\n"
   ]
  },
  {
   "cell_type": "code",
   "execution_count": 28,
   "id": "873144d3",
   "metadata": {},
   "outputs": [
    {
     "name": "stdout",
     "output_type": "stream",
     "text": [
      "2023-09-06 09:06:25,151 - qm - ERROR    - Encountered connection error from QOP\n",
      "Traceback (most recent call last):\n",
      "  File \"C:\\Users\\painter\\AppData\\Roaming\\Python\\Python38\\site-packages\\qm\\api\\base_api.py\", line 27, in wrapped\n",
      "    return func(*args, **kwargs)\n",
      "  File \"C:\\Users\\painter\\AppData\\Roaming\\Python\\Python38\\site-packages\\qm\\api\\frontend_api.py\", line 79, in get_version\n",
      "    response = run_async(self._stub.get_version(Empty(), timeout=self._timeout))\n",
      "  File \"C:\\Users\\painter\\AppData\\Roaming\\Python\\Python38\\site-packages\\qm\\utils\\async_utils.py\", line 37, in run_async\n",
      "    return create_future(coroutine).result()  # type: ignore[no-any-return]\n",
      "  File \"C:\\Users\\painter\\.conda\\envs\\labber-qm-env\\lib\\concurrent\\futures\\_base.py\", line 444, in result\n",
      "    return self.__get_result()\n",
      "  File \"C:\\Users\\painter\\.conda\\envs\\labber-qm-env\\lib\\concurrent\\futures\\_base.py\", line 389, in __get_result\n",
      "    raise self._exception\n",
      "  File \"C:\\Users\\painter\\AppData\\Roaming\\Python\\Python38\\site-packages\\qm\\grpc\\frontend\\__init__.py\", line 697, in get_version\n",
      "    return await self._unary_unary(\n",
      "  File \"C:\\Users\\painter\\AppData\\Roaming\\Python\\Python38\\site-packages\\betterproto\\grpc\\grpclib_client.py\", line 85, in _unary_unary\n",
      "    response = await stream.recv_message()\n",
      "  File \"C:\\Users\\painter\\AppData\\Roaming\\Python\\Python38\\site-packages\\grpclib\\client.py\", line 425, in recv_message\n",
      "    await self.recv_initial_metadata()\n",
      "  File \"C:\\Users\\painter\\AppData\\Roaming\\Python\\Python38\\site-packages\\grpclib\\client.py\", line 371, in recv_initial_metadata\n",
      "    self._raise_for_status(headers_map)\n",
      "  File \"C:\\Users\\painter\\AppData\\Roaming\\Python\\Python38\\site-packages\\grpclib\\client.py\", line 296, in _raise_for_status\n",
      "    raise GRPCError(grpc_status,\n",
      "grpclib.exceptions.GRPCError: (<Status.UNKNOWN: 2>, \"Received :status = '302'\", None)\n"
     ]
    },
    {
     "name": "stderr",
     "output_type": "stream",
     "text": [
      "ERROR:qm.api.base_api:Encountered connection error from QOP\n",
      "Traceback (most recent call last):\n",
      "  File \"C:\\Users\\painter\\AppData\\Roaming\\Python\\Python38\\site-packages\\qm\\api\\base_api.py\", line 27, in wrapped\n",
      "    return func(*args, **kwargs)\n",
      "  File \"C:\\Users\\painter\\AppData\\Roaming\\Python\\Python38\\site-packages\\qm\\api\\frontend_api.py\", line 79, in get_version\n",
      "    response = run_async(self._stub.get_version(Empty(), timeout=self._timeout))\n",
      "  File \"C:\\Users\\painter\\AppData\\Roaming\\Python\\Python38\\site-packages\\qm\\utils\\async_utils.py\", line 37, in run_async\n",
      "    return create_future(coroutine).result()  # type: ignore[no-any-return]\n",
      "  File \"C:\\Users\\painter\\.conda\\envs\\labber-qm-env\\lib\\concurrent\\futures\\_base.py\", line 444, in result\n",
      "    return self.__get_result()\n",
      "  File \"C:\\Users\\painter\\.conda\\envs\\labber-qm-env\\lib\\concurrent\\futures\\_base.py\", line 389, in __get_result\n",
      "    raise self._exception\n",
      "  File \"C:\\Users\\painter\\AppData\\Roaming\\Python\\Python38\\site-packages\\qm\\grpc\\frontend\\__init__.py\", line 697, in get_version\n",
      "    return await self._unary_unary(\n",
      "  File \"C:\\Users\\painter\\AppData\\Roaming\\Python\\Python38\\site-packages\\betterproto\\grpc\\grpclib_client.py\", line 85, in _unary_unary\n",
      "    response = await stream.recv_message()\n",
      "  File \"C:\\Users\\painter\\AppData\\Roaming\\Python\\Python38\\site-packages\\grpclib\\client.py\", line 425, in recv_message\n",
      "    await self.recv_initial_metadata()\n",
      "  File \"C:\\Users\\painter\\AppData\\Roaming\\Python\\Python38\\site-packages\\grpclib\\client.py\", line 371, in recv_initial_metadata\n",
      "    self._raise_for_status(headers_map)\n",
      "  File \"C:\\Users\\painter\\AppData\\Roaming\\Python\\Python38\\site-packages\\grpclib\\client.py\", line 296, in _raise_for_status\n",
      "    raise GRPCError(grpc_status,\n",
      "grpclib.exceptions.GRPCError: (<Status.UNKNOWN: 2>, \"Received :status = '302'\", None)\n"
     ]
    },
    {
     "name": "stdout",
     "output_type": "stream",
     "text": [
      "2023-09-06 09:06:25,240 - qm - INFO     - Performing health check\n"
     ]
    },
    {
     "name": "stderr",
     "output_type": "stream",
     "text": [
      "INFO:qm.api.frontend_api:Performing health check\n"
     ]
    },
    {
     "name": "stdout",
     "output_type": "stream",
     "text": [
      "2023-09-06 09:06:25,250 - qm - INFO     - Health check passed\n"
     ]
    },
    {
     "name": "stderr",
     "output_type": "stream",
     "text": [
      "INFO:qm.api.frontend_api:Health check passed\n"
     ]
    },
    {
     "name": "stdout",
     "output_type": "stream",
     "text": [
      "2023-09-06 09:06:26,435 - qm - INFO     - Sending program to QOP for compilation\n"
     ]
    },
    {
     "name": "stderr",
     "output_type": "stream",
     "text": [
      "INFO:qm.api.frontend_api:Sending program to QOP for compilation\n"
     ]
    },
    {
     "name": "stdout",
     "output_type": "stream",
     "text": [
      "2023-09-06 09:06:26,843 - qm - INFO     - Executing program\n"
     ]
    },
    {
     "name": "stderr",
     "output_type": "stream",
     "text": [
      "INFO:qm.QuantumMachine:Executing program\n"
     ]
    },
    {
     "name": "stdout",
     "output_type": "stream",
     "text": [
      "Progress: [##################################################] 100.0% (n=50000/50000) --> elapsed time: 1183.54s\n",
      "Progress: [##################################################] 100.0% (n=50000/50000) --> elapsed time: 1183.67s\n",
      "Execution stopped by user!\n"
     ]
    }
   ],
   "source": [
    "now = datetime.datetime.now()\n",
    "month = now.strftime(\"%m\")\n",
    "day = now.strftime(\"%d\")\n",
    "hour = now.strftime(\"%H\")\n",
    "minute = now.strftime(\"%M\")\n",
    "\n",
    "exp_name = 'Zdelay'\n",
    "qubit_name = 'UA_Q1'\n",
    "\n",
    "f_str = qubit_name + '_' + exp_name + '_' + month + day + '-' + hour + minute\n",
    "file_name= f_str+'.mat'\n",
    "json_name = f_str + '_state.json'\n",
    "\n",
    "# Set-up the machine and get the config #\n",
    "machine = QuAM(\"quam_state.json\")\n",
    "config = build_config(machine)\n",
    "\n",
    "qubit_index = 0 \n",
    "n_avg = 50_000\n",
    "cooldown_time = 20_000 # set in wait() function\n",
    "dt = 1\n",
    "sample_rate = round(1 / dt * 1e9)\n",
    "\n",
    "def baked_pulse_wait(wait_duration):\n",
    "    # define 1ns interval for waiting of the flux line and play a cw pulse with amp and duration defined in the config file\n",
    "    wait_segments = []\n",
    "    t_vec = np.arange(0, wait_duration, dt) \n",
    "    for i in range(wait_duration):\n",
    "        with baking(config, sampling_rate=sample_rate, padding_method=\"left\") as b:\n",
    "            b.wait(round(t_vec[i]* (sample_rate / 1e9)), machine.flux_lines[qubit_index].name)\n",
    "            b.play(\"const\", machine.flux_lines[qubit_index].name)\n",
    "            b.wait(round((np.max(t_vec)+dt - t_vec[i]) * (sample_rate / 1e9)), machine.flux_lines[qubit_index].name)\n",
    "        wait_segments.append(b)\n",
    "    return wait_segments\n",
    "       \n",
    "# The QUA program #\n",
    "dc = 0.5\n",
    "wait_duration = 4 # to do the fine meshing of the wait time in the baking (a number too large would overflow the buffer)\n",
    "qubit_wait = 600//4 # 600 ns when defined\n",
    "seq_duration = 1100//4 # in c.c. # this is the duration of the total experiment\n",
    "wait_segments_list = baked_pulse_wait(wait_duration)\n",
    "delay_sweep = np.arange(4 * 4, seq_duration * 4, 1) - qubit_wait * 4 # delay sweep range\n",
    "\n",
    "# the last 4 is to account for the initial wait of the flux line\n",
    "res_wait = (seq_duration*wait_duration)//4 + machine.flux_lines[qubit_index].flux_pulse_length//4 +4\n",
    "with program() as zdelay_baked:\n",
    "    n = declare(int)\n",
    "    n_st = declare_stream()\n",
    "    I = declare(fixed)\n",
    "    Q = declare(fixed)\n",
    "    I_st = declare_stream()\n",
    "    Q_st = declare_stream()\n",
    "    tau = declare(int)\n",
    "\n",
    "    with for_(n, 0, n < n_avg, n + 1):\n",
    "        with for_(tau, 4, tau < seq_duration, tau+1): \n",
    "            for i in range(0, wait_duration):\n",
    "                wait(25, machine.qubits[qubit_index].name, machine.flux_lines[qubit_index].name, \n",
    "                    machine.resonators[qubit_index].name ) # wait initial 100 ns (units of clock cycle)\n",
    "                # XY\n",
    "                wait(qubit_wait, machine.qubits[qubit_index].name)\n",
    "                play(\"cw\" * amp(0.9), machine.qubits[qubit_index].name, duration = 344*u.ns )\n",
    "                # Z\n",
    "                wait(tau, machine.flux_lines[qubit_index].name)\n",
    "                wait_segments_list[i].run() \n",
    "                wait(seq_duration-tau,machine.flux_lines[qubit_index].name)\n",
    "                align()\n",
    "                measure(\n",
    "                    \"readout\",\n",
    "                    machine.resonators[qubit_index].name,\n",
    "                    None,\n",
    "                    dual_demod.full(\"rotated_cos\", \"out1\", \"rotated_sin\", \"out2\", I),\n",
    "                    dual_demod.full(\"rotated_minus_sin\", \"out1\", \"rotated_cos\", \"out2\", Q),\n",
    "                )\n",
    "                save(I, I_st)\n",
    "                save(Q, Q_st)\n",
    "                wait(cooldown_time*u.ns)\n",
    "                \n",
    "        save(n, n_st)\n",
    "\n",
    "    with stream_processing():\n",
    "        I_st.buffer((seq_duration-4)*wait_duration).average().save(\"I\")\n",
    "        Q_st.buffer((seq_duration-4)*wait_duration).average().save(\"Q\")\n",
    "        n_st.save(\"iteration\")\n",
    "\n",
    "#  Open Communication with the QOP  #\n",
    "qmm = QuantumMachinesManager(machine.network.qop_ip, cluster_name=machine.network.cluster_name, octave=octave_config)\n",
    "\n",
    "simulate = False\n",
    "if simulate:\n",
    "    simulation_config = SimulationConfig(duration=4_000)  # in clock cycles\n",
    "    job = qmm.simulate(config, zdelay_baked, simulation_config)\n",
    "    job.get_simulated_samples().con1.plot()\n",
    "else:\n",
    "    qm = qmm.open_qm(config)\n",
    "    job = qm.execute(zdelay_baked)\n",
    "    # Get results from QUA program\n",
    "    results = fetching_tool(job, data_list=[\"I\", \"Q\", \"iteration\"], mode=\"live\")\n",
    "    %matplotlib qt\n",
    "    fig = plt.figure()\n",
    "    plt.rcParams['figure.figsize'] = [12, 8]\n",
    "    interrupt_on_close(fig, job)  #  Interrupts the job when closing the figure\n",
    "    while results.is_processing():\n",
    "        # Fetch results\n",
    "        I, Q, iteration = results.fetch_all()\n",
    "        I = u.demod2volts(I, machine.resonators[qubit_index].readout_pulse_length)\n",
    "        Q = u.demod2volts(Q, machine.resonators[qubit_index].readout_pulse_length)\n",
    "        # Progress bar\n",
    "        progress_counter(iteration, n_avg, start_time=results.get_start_time())\n",
    "        plt.cla()\n",
    "        plt.title(\"Z delay\")\n",
    "        plt.plot(delay_sweep, np.sqrt(I**2 + Q**2))\n",
    "        plt.xlabel(\"Z delay [ns]\")\n",
    "        plt.ylabel(\"signal [V]\")\n",
    "        plt.pause(0.01)"
   ]
  },
  {
   "cell_type": "code",
   "execution_count": 29,
   "id": "548ab821",
   "metadata": {},
   "outputs": [
    {
     "data": {
      "text/plain": [
       "Text(0, 0.5, 'signal [V]')"
      ]
     },
     "execution_count": 29,
     "metadata": {},
     "output_type": "execute_result"
    },
    {
     "data": {
      "image/png": "[encoded data removed]",
      "text/plain": [
       "<Figure size 700x400 with 1 Axes>"
      ]
     },
     "metadata": {},
     "output_type": "display_data"
    }
   ],
   "source": [
    "I, Q, iteration = results.fetch_all()\n",
    "I = u.demod2volts(I, machine.resonators[qubit_index].readout_pulse_length)\n",
    "Q = u.demod2volts(Q, machine.resonators[qubit_index].readout_pulse_length)\n",
    "sig_amp = np.sqrt(I**2 + Q**2)\n",
    "sig_phase = signal.detrend(np.unwrap(np.angle(I + 1j * Q)))\n",
    "\n",
    "%matplotlib inline\n",
    "fig = plt.figure(figsize=[7, 4])\n",
    "plt.plot(delay_sweep, sig_amp, 'r')\n",
    "plt.xlabel(\"tau [ns]\")\n",
    "plt.ylabel(\"signal [V]\")"
   ]
  },
  {
   "cell_type": "code",
   "execution_count": null,
   "id": "e221f3e3",
   "metadata": {},
   "outputs": [],
   "source": [
    "#machine.flux_lines[qubit_index].flux_pulse_amp = 0.3\n",
    "#machine.flux_lines[qubit_index].flux_pulse_length = 500\n",
    "machine._save(\"quam_state.json\")"
   ]
  },
  {
   "cell_type": "code",
   "execution_count": 30,
   "id": "5b8c1725",
   "metadata": {},
   "outputs": [],
   "source": [
    "savemat(os.path.join(tPath, file_name), {\"delay_sweep\": delay_sweep, \"sig_amp\": sig_amp, \"sig_phase\": sig_phase, \"DC_flux\": DC_ss, \"ROI\": ROI, \"ROO\": ROO, \"freq_TWPA\": freq_TWPA, \"pwr_TWPA\": pwr_TWPA})\n",
    "machine._save(os.path.join(tPath, json_name), flat_data=False)"
   ]
  },
  {
   "cell_type": "code",
   "execution_count": null,
   "id": "91c7499f",
   "metadata": {},
   "outputs": [],
   "source": []
  }
 ],
 "metadata": {
  "kernelspec": {
   "display_name": "Python 3 (ipykernel)",
   "language": "python",
   "name": "python3"
  },
  "language_info": {
   "codemirror_mode": {
    "name": "ipython",
    "version": 3
   },
   "file_extension": ".py",
   "mimetype": "text/x-python",
   "name": "python",
   "nbconvert_exporter": "python",
   "pygments_lexer": "ipython3",
   "version": "3.8.17"
  }
 },
 "nbformat": 4,
 "nbformat_minor": 5
}
