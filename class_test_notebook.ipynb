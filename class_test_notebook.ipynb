{
 "cells": [
  {
   "cell_type": "markdown",
   "id": "d6dff44f",
   "metadata": {},
   "source": [
    "# Test the Experiment and Analysis classes (under development)"
   ]
  },
  {
   "cell_type": "code",
   "execution_count": null,
   "id": "1c3e3ef8",
   "metadata": {},
   "outputs": [],
   "source": [
    "# set up non-QM hardware\n",
    "import Labber\n",
    "# connect to server \n",
    "client = Labber.connectToServer('localhost') # get list of instruments \n",
    "#instruments = client.getListOfInstrumentsString() \n",
    "#for instr in instruments: \n",
    "#    print(instr) # close connection \n",
    "\n",
    "# reset all QDevil channels to 0 V\n",
    "QDevil = client.connectToInstrument('QDevil QDAC', dict(interface='Serial', address='3'))\n",
    "for n in range(24):\n",
    "    if n+1 < 10:\n",
    "        QDevil.setValue(\"CH0\" + str(n+1) + \" Voltage\", 0.0)\n",
    "    else:\n",
    "        QDevil.setValue(\"CH\" + str(n+1) + \" Voltage\", 0.0)\n",
    "\n",
    "# Set qubits to desired dc value\n",
    "QDevil.setValue(\"CH01 Voltage\", 0.6)\n",
    "\n",
    "# digital attenuators\n",
    "Vaunix1 = client.connectToInstrument('Painter Vaunix Lab Brick Digital Attenuator', dict(interface='USB', address='25606'))\n",
    "Vaunix2 = client.connectToInstrument('Painter Vaunix Lab Brick Digital Attenuator', dict(interface='USB', address='25607'))\n",
    "ROI = 32\n",
    "ROO = 10\n",
    "Vaunix1.setValue(\"Attenuation\", ROI)\n",
    "Vaunix2.setValue(\"Attenuation\", ROO)\n",
    "\n",
    "# TWPA pump\n",
    "SG = client.connectToInstrument('Rohde&Schwarz RF Source', dict(interface='TCPIP', address='192.168.88.2'))\n",
    "freq_TWPA = 6326E6;\n",
    "pwr_TWPA = -10;\n",
    "SG.setValue('Frequency', freq_TWPA)\n",
    "SG.setValue('Power', pwr_TWPA)\n",
    "\n",
    "client.close()"
   ]
  },
  {
   "cell_type": "code",
   "execution_count": 1,
   "id": "f0a6ff07",
   "metadata": {},
   "outputs": [
    {
     "name": "stdout",
     "output_type": "stream",
     "text": [
      "2023-10-18 16:43:53,521 - qm - INFO     - Starting session: 00172f41-1fe4-4dd7-8965-3064e7972741\n"
     ]
    }
   ],
   "source": [
    "from qm.qua import *\n",
    "from qm.QuantumMachinesManager import QuantumMachinesManager\n",
    "from qm import SimulationConfig, LoopbackInterface\n",
    "from qm.octave import *\n",
    "from qm.octave.octave_manager import ClockMode\n",
    "from configuration import *\n",
    "import matplotlib.pyplot as plt\n",
    "import numpy as np\n",
    "from scipy import signal\n",
    "from qm import SimulationConfig\n",
    "from qualang_tools.bakery import baking\n",
    "from qualang_tools.units import unit\n",
    "import qdac as qdac\n",
    "from scipy.io import savemat\n",
    "from scipy.io import loadmat\n",
    "from scipy.optimize import curve_fit\n",
    "from scipy.signal import savgol_filter\n",
    "from qutip import *\n",
    "import datetime \n",
    "import os\n",
    "import time\n",
    "import warnings\n",
    "from qm import generate_qua_script\n",
    "from qm.octave import QmOctaveConfig\n",
    "from qm.octave.octave_manager import ClockMode\n",
    "from typing import Union\n",
    "import json\n",
    "from set_octave import ElementsSettings, octave_settings\n",
    "from quam import QuAM\n",
    "\n",
    "warnings.filterwarnings(\"ignore\")\n",
    "\n",
    "def wait_until_job_is_paused(current_job):\n",
    "    \"\"\"\n",
    "    Waits until the OPX FPGA reaches the pause statement.\n",
    "    Used when the OPX sequence needs to be synchronized with an external parameter sweep.\n",
    "\n",
    "    :param current_job: the job object.\n",
    "    \"\"\"\n",
    "    while not current_job.is_paused():\n",
    "        time.sleep(0.01)\n",
    "        pass\n",
    "    return True\n",
    "\n",
    "qubit_index = 0 # for UA Q1\n",
    "\n",
    "now = datetime.datetime.now()\n",
    "year = now.strftime(\"%Y\")\n",
    "month = now.strftime(\"%m\")\n",
    "day = now.strftime(\"%d\")\n",
    "\n",
    "tPath = os.path.join(r'Z:\\LabberData_DF5\\QM_Data_DF5',year,month,'Data_'+month+day)\n",
    "if not os.path.exists(tPath):\n",
    "   os.makedirs(tPath)"
   ]
  },
  {
   "cell_type": "code",
   "execution_count": 2,
   "id": "89abfede",
   "metadata": {},
   "outputs": [],
   "source": [
    "from ExperimentClass import ExperimentHandle"
   ]
  },
  {
   "cell_type": "code",
   "execution_count": 3,
   "id": "fc184e1f",
   "metadata": {},
   "outputs": [],
   "source": [
    "Experiment = ExperimentHandle()"
   ]
  },
  {
   "cell_type": "code",
   "execution_count": 4,
   "id": "675936a3",
   "metadata": {},
   "outputs": [
    {
     "name": "stdout",
     "output_type": "stream",
     "text": [
      "2023-10-18 16:43:58,567 - qm - INFO     - Octave \"octave1\" Health check passed, current temperature 57\n"
     ]
    },
    {
     "name": "stderr",
     "output_type": "stream",
     "text": [
      "INFO:qm:Octave \"octave1\" Health check passed, current temperature 57\n"
     ]
    },
    {
     "name": "stdout",
     "output_type": "stream",
     "text": [
      "2023-10-18 16:43:58,572 - qm - INFO     - Performing health check\n"
     ]
    },
    {
     "name": "stderr",
     "output_type": "stream",
     "text": [
      "INFO:qm.api.frontend_api:Performing health check\n"
     ]
    },
    {
     "name": "stdout",
     "output_type": "stream",
     "text": [
      "2023-10-18 16:43:58,591 - qm - INFO     - Health check passed\n"
     ]
    },
    {
     "name": "stderr",
     "output_type": "stream",
     "text": [
      "INFO:qm.api.frontend_api:Health check passed\n"
     ]
    },
    {
     "ename": "NameError",
     "evalue": "name 'RR_freq_prog' is not defined",
     "output_type": "error",
     "traceback": [
      "\u001b[1;31m---------------------------------------------------------------------------\u001b[0m",
      "\u001b[1;31mNameError\u001b[0m                                 Traceback (most recent call last)",
      "Cell \u001b[1;32mIn[4], line 1\u001b[0m\n\u001b[1;32m----> 1\u001b[0m \u001b[43mExperiment\u001b[49m\u001b[38;5;241;43m.\u001b[39;49m\u001b[43mexp1D\u001b[49m\u001b[38;5;241;43m.\u001b[39;49m\u001b[43mRR\u001b[49m\u001b[38;5;241;43m.\u001b[39;49m\u001b[43mrr_freq\u001b[49m\u001b[43m(\u001b[49m\u001b[43mnp\u001b[49m\u001b[38;5;241;43m.\u001b[39;49m\u001b[43marange\u001b[49m\u001b[43m(\u001b[49m\u001b[38;5;241;43m7E9\u001b[39;49m\u001b[43m,\u001b[49m\u001b[43m \u001b[49m\u001b[38;5;241;43m7.1E9\u001b[39;49m\u001b[43m,\u001b[49m\u001b[43m \u001b[49m\u001b[38;5;241;43m1e6\u001b[39;49m\u001b[43m)\u001b[49m\u001b[43m,\u001b[49m\u001b[38;5;241;43m0\u001b[39;49m\u001b[43m,\u001b[49m\u001b[38;5;241;43m0\u001b[39;49m\u001b[43m,\u001b[49m\u001b[38;5;241;43m100\u001b[39;49m\u001b[43m,\u001b[49m\u001b[38;5;241;43m20E3\u001b[39;49m\u001b[43m,\u001b[49m\u001b[43mExperiment\u001b[49m\u001b[38;5;241;43m.\u001b[39;49m\u001b[43mtPath\u001b[49m\u001b[43m,\u001b[49m\u001b[43mExperiment\u001b[49m\u001b[38;5;241;43m.\u001b[39;49m\u001b[43mupdate_str_datetime\u001b[49m\u001b[43m,\u001b[49m\u001b[38;5;28;43;01mTrue\u001b[39;49;00m\u001b[43m,\u001b[49m\u001b[38;5;241;43m1000\u001b[39;49m\u001b[43m)\u001b[49m\n",
      "File \u001b[1;32m~\\QM\\QM_UALA\\ExperimentClass_1D.py:118\u001b[0m, in \u001b[0;36mEH_RR.rr_freq\u001b[1;34m(self, res_freq_sweep, qubit_index, res_index, n_avg, cd_time, tPath, f_str_datetime, simulate_flag, simulation_len)\u001b[0m\n\u001b[0;32m    116\u001b[0m \u001b[38;5;28;01mif\u001b[39;00m simulate_flag: \u001b[38;5;66;03m# simulation is useful to see the sequence, especially the timing (clock cycle vs ns)\u001b[39;00m\n\u001b[0;32m    117\u001b[0m \tsimulation_config \u001b[38;5;241m=\u001b[39m SimulationConfig(duration\u001b[38;5;241m=\u001b[39msimulation_len)\n\u001b[1;32m--> 118\u001b[0m \tjob \u001b[38;5;241m=\u001b[39m qmm\u001b[38;5;241m.\u001b[39msimulate(config, \u001b[43mRR_freq_prog\u001b[49m, simulation_config)\n\u001b[0;32m    119\u001b[0m \tjob\u001b[38;5;241m.\u001b[39mget_simulated_samples()\u001b[38;5;241m.\u001b[39mcon1\u001b[38;5;241m.\u001b[39mplot()\n\u001b[0;32m    120\u001b[0m \u001b[38;5;28;01melse\u001b[39;00m:\n",
      "\u001b[1;31mNameError\u001b[0m: name 'RR_freq_prog' is not defined"
     ]
    }
   ],
   "source": [
    "Experiment.exp1D.RR.rr_freq(np.arange(7E9, 7.1E9, 1e6),0,0,100,20E3,Experiment.tPath,Experiment.update_str_datetime,True,1000)"
   ]
  },
  {
   "cell_type": "code",
   "execution_count": null,
   "id": "b8167a00",
   "metadata": {},
   "outputs": [],
   "source": []
  }
 ],
 "metadata": {
  "kernelspec": {
   "display_name": "Python 3 (ipykernel)",
   "language": "python",
   "name": "python3"
  },
  "language_info": {
   "codemirror_mode": {
    "name": "ipython",
    "version": 3
   },
   "file_extension": ".py",
   "mimetype": "text/x-python",
   "name": "python",
   "nbconvert_exporter": "python",
   "pygments_lexer": "ipython3",
   "version": "3.8.17"
  }
 },
 "nbformat": 4,
 "nbformat_minor": 5
}
