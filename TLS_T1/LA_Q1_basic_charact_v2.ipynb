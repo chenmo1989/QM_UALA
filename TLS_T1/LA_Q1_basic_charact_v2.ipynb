{
 "cells": [
  {
   "cell_type": "markdown",
   "id": "49d22572",
   "metadata": {},
   "source": [
    "# Basic characterizations of LA Q1\n",
    "### using Experiment and Analysis classes"
   ]
  },
  {
   "cell_type": "code",
   "execution_count": 1,
   "id": "b08c4dec",
   "metadata": {
    "scrolled": true
   },
   "outputs": [
    {
     "name": "stdout",
     "output_type": "stream",
     "text": [
      "2023-11-22 09:29:52,770 - qm - INFO     - Starting session: 0e2ade16-2dd5-4b64-b2b8-41112f7b136c\n"
     ]
    }
   ],
   "source": [
    "from qm.qua import *\n",
    "from qm.QuantumMachinesManager import QuantumMachinesManager\n",
    "from qm import SimulationConfig, LoopbackInterface\n",
    "from qm.octave import *\n",
    "from qm.octave.octave_manager import ClockMode\n",
    "from configuration import *\n",
    "from scipy import signal\n",
    "from qm import SimulationConfig\n",
    "from qualang_tools.bakery import baking\n",
    "from qualang_tools.units import unit\n",
    "from qm import generate_qua_script\n",
    "from qm.octave import QmOctaveConfig\n",
    "from set_octave import ElementsSettings, octave_settings\n",
    "from quam import QuAM\n",
    "from scipy.io import savemat\n",
    "from scipy.io import loadmat\n",
    "from scipy.optimize import curve_fit\n",
    "from scipy.signal import savgol_filter\n",
    "from qutip import *\n",
    "from typing import Union\n",
    "from macros import *\n",
    "import datetime \n",
    "import os\n",
    "import time\n",
    "import warnings\n",
    "import json\n",
    "import matplotlib.pyplot as plt\n",
    "import numpy as np\n",
    "import Labber\n",
    "import scipy.io as sio\n",
    "\n",
    "from ExperimentClass import ExperimentHandle\n",
    "from AnalysisClass import AnalysisHandle\n",
    "\n",
    "warnings.filterwarnings(\"ignore\")\n",
    "\n",
    "qubit_index = 4 # for LA Q1\n",
    "res_index = 4 # for LA Q1\n",
    "flux_index = 4 # for LA Q1\n",
    "TLS_index = 0 # for TLS of interest"
   ]
  },
  {
   "cell_type": "code",
   "execution_count": 2,
   "id": "44475f4c",
   "metadata": {},
   "outputs": [],
   "source": [
    "Experiment = ExperimentHandle()\n",
    "Analysis = AnalysisHandle()\n",
    "machine = Analysis.get_machine()"
   ]
  },
  {
   "cell_type": "code",
   "execution_count": 3,
   "id": "76f18494",
   "metadata": {},
   "outputs": [],
   "source": [
    "# initialize Labber-controlled hardware\n",
    "Experiment.set_Labber(Analysis.get_machine(), qubit_index, res_index, flux_index)\n",
    "# set octave to external clock\n",
    "#Experiment.set_external_clock()"
   ]
  },
  {
   "cell_type": "code",
   "execution_count": 4,
   "id": "3025d72b",
   "metadata": {},
   "outputs": [],
   "source": [
    "# set DC offset of last measured qubit to zero\n",
    "qubit_index = 3 # for LA Q1\n",
    "res_index = 3 # for LA Q1\n",
    "flux_index = 3 # for LA Q1\n",
    "machine.flux_lines[flux_index].dc_voltage = 0\n",
    "machine = Analysis.set_machine(machine)"
   ]
  },
  {
   "cell_type": "code",
   "execution_count": 9,
   "id": "494501d8",
   "metadata": {},
   "outputs": [
    {
     "name": "stdout",
     "output_type": "stream",
     "text": [
      "2023-11-13 11:25:46,439 - qm - INFO     - Performing health check\n"
     ]
    },
    {
     "name": "stderr",
     "output_type": "stream",
     "text": [
      "INFO:qm.api.frontend_api:Performing health check\n"
     ]
    },
    {
     "name": "stdout",
     "output_type": "stream",
     "text": [
      "2023-11-13 11:25:46,461 - qm - INFO     - Health check passed\n"
     ]
    },
    {
     "name": "stderr",
     "output_type": "stream",
     "text": [
      "INFO:qm.api.frontend_api:Health check passed\n"
     ]
    }
   ],
   "source": [
    "# this updates the octave settings, including rf_gain and rf_output_mode\n",
    "Experiment.octave_calibration(qubit_index,res_index,flux_index,calibration_flag = False)"
   ]
  },
  {
   "cell_type": "code",
   "execution_count": 149,
   "id": "e1f14759",
   "metadata": {},
   "outputs": [
    {
     "name": "stdout",
     "output_type": "stream",
     "text": [
      "2023-11-20 11:12:37,067 - qm - INFO     - Performing health check\n"
     ]
    },
    {
     "name": "stderr",
     "output_type": "stream",
     "text": [
      "INFO:qm.api.frontend_api:Performing health check\n"
     ]
    },
    {
     "name": "stdout",
     "output_type": "stream",
     "text": [
      "2023-11-20 11:12:37,076 - qm - INFO     - Health check passed\n"
     ]
    },
    {
     "name": "stderr",
     "output_type": "stream",
     "text": [
      "INFO:qm.api.frontend_api:Health check passed\n"
     ]
    },
    {
     "name": "stdout",
     "output_type": "stream",
     "text": [
      "------------------------------------- Calibrates r4 for (LO, IF) = (6.276 GHz, -50.000 MHz)\n",
      "2023-11-20 11:12:44,166 - qm - INFO     - Compiling program\n"
     ]
    },
    {
     "name": "stderr",
     "output_type": "stream",
     "text": [
      "INFO:qm.QuantumMachine:Compiling program\n"
     ]
    },
    {
     "name": "stdout",
     "output_type": "stream",
     "text": [
      "------------------------------------- Calibrates q4 for (LO, IF) = (5.779 GHz, -50.000 MHz)\n",
      "2023-11-20 11:12:56,369 - qm - INFO     - Compiling program\n"
     ]
    },
    {
     "name": "stderr",
     "output_type": "stream",
     "text": [
      "INFO:qm.QuantumMachine:Compiling program\n"
     ]
    }
   ],
   "source": [
    "# octave calibration\n",
    "Experiment.octave_calibration(qubit_index,res_index,flux_index,calibration_flag = True)"
   ]
  },
  {
   "cell_type": "markdown",
   "id": "40f020f9",
   "metadata": {},
   "source": [
    "## resonator switch calibration"
   ]
  },
  {
   "cell_type": "markdown",
   "id": "b25de704",
   "metadata": {},
   "source": [
    "### switch delay"
   ]
  },
  {
   "cell_type": "code",
   "execution_count": null,
   "id": "16fce17c",
   "metadata": {},
   "outputs": [],
   "source": [
    "# reduce the resonator freq, so sig is stronger\n",
    "machine.resonators[res_index].f_readout -= 2E6\n",
    "machine._save(\"quam_state.json\")"
   ]
  },
  {
   "cell_type": "code",
   "execution_count": null,
   "id": "8f270ab9",
   "metadata": {},
   "outputs": [],
   "source": [
    "%matplotlib inline\n",
    "rr_switch_delay_sweep = np.arange(70,110,1)\n",
    "machine, rr_switch_delay_sweep, sig_amp = Experiment.exp1D.RR.rr_switch_delay(rr_switch_delay_sweep, qubit_index, res_index, flux_index, \n",
    "                          n_avg = 160E3, cd_time = 20E3, simulate_flag = False, simulation_len = 500, plot_flag = True)"
   ]
  },
  {
   "cell_type": "markdown",
   "id": "a2ccc583",
   "metadata": {},
   "source": [
    "### switch buffer"
   ]
  },
  {
   "cell_type": "code",
   "execution_count": null,
   "id": "47c5c9ab",
   "metadata": {},
   "outputs": [],
   "source": [
    "%matplotlib inline\n",
    "rr_switch_buffer_sweep = np.arange(0,25 + 1,1)\n",
    "machine, rr_switch_delay_sweep, sig_amp = Experiment.exp1D.RR.rr_switch_buffer(rr_switch_buffer_sweep, qubit_index, res_index, flux_index, \n",
    "                          n_avg = 20E3, cd_time = 20E3, simulate_flag = False, simulation_len = 500, plot_flag = True)"
   ]
  },
  {
   "cell_type": "markdown",
   "id": "9a6e5328",
   "metadata": {},
   "source": [
    "## Time of flight"
   ]
  },
  {
   "cell_type": "code",
   "execution_count": 12,
   "id": "36b21dc5",
   "metadata": {},
   "outputs": [
    {
     "name": "stdout",
     "output_type": "stream",
     "text": [
      "DC offset to add to I: 0.000090 V\n",
      "DC offset to add to Q: 0.000737 V\n",
      "TOF to add: 24.0 ns\n"
     ]
    }
   ],
   "source": [
    "# time_of_flight experiment\n",
    "machine, adc1, adc2, adc1_single, adc2_single = Experiment.exp1D.RR.time_of_flight(qubit_index,res_index,flux_index, n_avg = 20E3, cd_time = 20E3, tPath = None, f_str_datetime = None, simulate_flag = False, simulation_len = 1000)\n",
    "\n",
    "# plot\n",
    "%matplotlib qt\n",
    "dc_offset_i, dc_offset_q, delay = Analysis.exp1D.time_of_flight(adc1,adc2,adc1_single,adc2_single)"
   ]
  },
  {
   "cell_type": "code",
   "execution_count": 13,
   "id": "61eef1e9",
   "metadata": {},
   "outputs": [],
   "source": [
    "machine.global_parameters.time_of_flight += 20\n",
    "machine = Analysis.set_machine(machine)"
   ]
  },
  {
   "cell_type": "code",
   "execution_count": 9,
   "id": "1a38781b",
   "metadata": {},
   "outputs": [],
   "source": [
    "# update the offset\n",
    "machine.global_parameters.con1_downconversion_offset_I += 0.000519\n",
    "machine.global_parameters.con1_downconversion_offset_Q += 0.001403\n",
    "machine = Analysis.set_machine(machine)"
   ]
  },
  {
   "cell_type": "markdown",
   "id": "f7a6f477",
   "metadata": {},
   "source": [
    "## 1D RO resonator spectroscopy"
   ]
  },
  {
   "cell_type": "code",
   "execution_count": 14,
   "id": "b9a96c35",
   "metadata": {
    "scrolled": true
   },
   "outputs": [
    {
     "name": "stdout",
     "output_type": "stream",
     "text": [
      "Progress: [##################################################] 100.0% (n=5000/5000.0) --> elapsed time: 5.64s\n"
     ]
    }
   ],
   "source": [
    "%matplotlib qt\n",
    "machine = Analysis.get_machine()\n",
    "res_freq_sweep = machine.resonators[res_index].f_readout + np.arange(-5E6,5E6 + 1.0,0.05E6)\n",
    "machine, res_freq_sweep, sig_amp = Experiment.exp1D.RR.rr_freq(res_freq_sweep, qubit_index, res_index, flux_index, \n",
    "                           n_avg = 5E3, cd_time = 5E3, readout_state = 'g', simulate_flag = False, simulation_len = 1000)"
   ]
  },
  {
   "cell_type": "code",
   "execution_count": 15,
   "id": "7091f476",
   "metadata": {},
   "outputs": [
    {
     "name": "stdout",
     "output_type": "stream",
     "text": [
      "resonator frequency: 6225.770 MHz\n",
      "Execution stopped by user!\n"
     ]
    },
    {
     "data": {
      "image/png": "[encoded data removed]",
      "text/plain": [
       "<Figure size 600x300 with 1 Axes>"
      ]
     },
     "metadata": {},
     "output_type": "display_data"
    }
   ],
   "source": [
    "# find the minimal\n",
    "%matplotlib inline\n",
    "res_freq = Analysis.exp1D.rr_freq(res_freq_sweep, sig_amp)\n",
    "machine.resonators[res_index].f_readout = res_freq.tolist() + 0E6\n",
    "machine = Analysis.set_machine(machine)"
   ]
  },
  {
   "cell_type": "markdown",
   "id": "c23f0f9d",
   "metadata": {},
   "source": [
    "## 2D RO resonator spectroscopy vs DC flux"
   ]
  },
  {
   "cell_type": "code",
   "execution_count": 18,
   "id": "3b659ab6",
   "metadata": {},
   "outputs": [
    {
     "name": "stdout",
     "output_type": "stream",
     "text": [
      "Progress: [##################################################] 100.0% (n=37/37)\n"
     ]
    }
   ],
   "source": [
    "res_freq_sweep = machine.resonators[res_index].f_readout + np.arange(-17e6, 7e6, 0.1E6)\n",
    "dc_flux_sweep = np.arange(-9,9.001,0.5)\n",
    "%matplotlib qt\n",
    "machine, res_freq_sweep, dc_flux_sweep, sig_amp = Experiment.exp2D.RR.rr_vs_dc_flux(res_freq_sweep, dc_flux_sweep, qubit_index, res_index, flux_index, \n",
    "                                plot_flag = False, n_avg = 5E3, cd_time = 10E3)"
   ]
  },
  {
   "cell_type": "code",
   "execution_count": 20,
   "id": "4dac1a35",
   "metadata": {},
   "outputs": [
    {
     "data": {
      "image/png": "[encoded data removed]",
      "text/plain": [
       "<Figure size 800x400 with 2 Axes>"
      ]
     },
     "metadata": {},
     "output_type": "display_data"
    },
    {
     "data": {
      "image/png": "[encoded data removed]",
      "text/plain": [
       "<Figure size 800x400 with 1 Axes>"
      ]
     },
     "metadata": {},
     "output_type": "display_data"
    }
   ],
   "source": [
    "%matplotlib inline\n",
    "ham_param = Analysis.exp2D.rr_vs_dc_flux(res_freq_sweep, dc_flux_sweep, sig_amp, init_guess = [6227, 170, 30E3, 0.05, 0.4, 70])\n",
    "poly_param = Analysis.exp2D.qubit_vs_dc_flux_guess(ham_param)"
   ]
  },
  {
   "cell_type": "code",
   "execution_count": 21,
   "id": "56cab19d",
   "metadata": {},
   "outputs": [],
   "source": [
    "# save the fitting parameters\n",
    "machine.resonators[res_index].tuning_curve = ham_param.tolist()\n",
    "machine.qubits[qubit_index].tuning_curve = poly_param.tolist()\n",
    "machine = Analysis.set_machine(machine)"
   ]
  },
  {
   "cell_type": "code",
   "execution_count": 22,
   "id": "02e0a7bc",
   "metadata": {},
   "outputs": [],
   "source": [
    "# save the sweep spot flux according to fitted parameter\n",
    "machine.flux_lines[flux_index].max_frequency_point = Analysis.get_sweept_spot(machine.qubits[qubit_index].tuning_curve)\n",
    "machine = Analysis.set_machine(machine)"
   ]
  },
  {
   "cell_type": "markdown",
   "id": "7512d423",
   "metadata": {},
   "source": [
    "## 1D qubit spectroscopy @ sweep spot"
   ]
  },
  {
   "cell_type": "code",
   "execution_count": 75,
   "id": "8399c75c",
   "metadata": {},
   "outputs": [],
   "source": [
    "# set to sweet spot\n",
    "machine = Experiment.set_QDAC(qubit_index,res_index,flux_index,machine.flux_lines[flux_index].max_frequency_point)"
   ]
  },
  {
   "cell_type": "code",
   "execution_count": 69,
   "id": "b3048a68",
   "metadata": {},
   "outputs": [
    {
     "name": "stdout",
     "output_type": "stream",
     "text": [
      "Progress: [##################################################] 100.0% (n=1000/1000.0) --> elapsed time: 1.26s\n",
      "Progress: [##################################################] 100.0% (n=1000/1000.0) --> elapsed time: 1.31s\n",
      "resonator frequency: 6224.250 MHz\n"
     ]
    },
    {
     "data": {
      "image/png": "[encoded data removed]",
      "text/plain": [
       "<Figure size 600x300 with 1 Axes>"
      ]
     },
     "metadata": {},
     "output_type": "display_data"
    }
   ],
   "source": [
    "# calibrate RO\n",
    "%matplotlib qt\n",
    "# res_freq_sweep = np.arange(7.2575E9,7.2675E9 + 1.0,0.03E6)\n",
    "ham_param = machine.resonators[res_index].tuning_curve\n",
    "res_freq_est = Analysis.exp2D.ham([flux_index,machine.flux_lines[flux_index].max_frequency_point], ham_param[0], ham_param[1], ham_param[2], ham_param[3], ham_param[4], ham_param[5], output_flag = 1) * 1E6 # to Hz\n",
    "res_freq_sweep = int(res_freq_est[0]) + np.arange(-5E6, 20E6 + 1, 0.05E6)\n",
    "\n",
    "machine, res_freq_sweep, sig_amp = Experiment.exp1D.RR.rr_freq(res_freq_sweep, qubit_index, res_index, flux_index, \n",
    "                       n_avg = 1E3, cd_time = 20E3, plot_flag = False, simulate_flag = False, simulation_len = 1000)\n",
    "%matplotlib inline\n",
    "res_freq = Analysis.exp1D.rr_freq(res_freq_sweep, sig_amp)\n",
    "res_freq = int(res_freq.tolist())\n",
    "machine.resonators[res_index].f_readout = res_freq + 0E6\n",
    "machine.resonators[res_index].lo = res_freq + 50E6\n",
    "machine = Analysis.set_machine(machine)"
   ]
  },
  {
   "cell_type": "code",
   "execution_count": 65,
   "id": "431a87c3",
   "metadata": {},
   "outputs": [
    {
     "name": "stdout",
     "output_type": "stream",
     "text": [
      "2023-11-16 09:24:09,840 - qm - INFO     - Performing health check\n"
     ]
    },
    {
     "name": "stderr",
     "output_type": "stream",
     "text": [
      "INFO:qm.api.frontend_api:Performing health check\n"
     ]
    },
    {
     "name": "stdout",
     "output_type": "stream",
     "text": [
      "2023-11-16 09:24:09,850 - qm - INFO     - Health check passed\n"
     ]
    },
    {
     "name": "stderr",
     "output_type": "stream",
     "text": [
      "INFO:qm.api.frontend_api:Health check passed\n"
     ]
    },
    {
     "name": "stdout",
     "output_type": "stream",
     "text": [
      "------------------------------------- Calibrates r4 for (LO, IF) = (6.276 GHz, -50.000 MHz)\n",
      "2023-11-16 09:24:17,257 - qm - INFO     - Compiling program\n"
     ]
    },
    {
     "name": "stderr",
     "output_type": "stream",
     "text": [
      "INFO:qm.QuantumMachine:Compiling program\n"
     ]
    },
    {
     "name": "stdout",
     "output_type": "stream",
     "text": [
      "------------------------------------- Calibrates q4 for (LO, IF) = (4.150 GHz, -50.000 MHz)\n",
      "2023-11-16 09:24:28,859 - qm - INFO     - Compiling program\n"
     ]
    },
    {
     "name": "stderr",
     "output_type": "stream",
     "text": [
      "INFO:qm.QuantumMachine:Compiling program\n"
     ]
    }
   ],
   "source": [
    "# calibrate octave\n",
    "Experiment.octave_calibration(qubit_index,res_index,flux_index)"
   ]
  },
  {
   "cell_type": "code",
   "execution_count": 150,
   "id": "463e4ef5",
   "metadata": {},
   "outputs": [
    {
     "name": "stdout",
     "output_type": "stream",
     "text": [
      "Progress: [##################################################] 100.0% (n=1000/1000.0) --> elapsed time: 41.97s\n",
      "Progress: [##################################################] 100.0% (n=1000/1000.0) --> elapsed time: 42.02s\n"
     ]
    }
   ],
   "source": [
    "qubit_freq_sweep = np.arange(5.7E9,5.8E9+1,0.05E6)\n",
    "# for the DC flux\n",
    "# qubit_freq_est = np.polyval(machine.qubits[qubit_index].tuning_curve,machine.flux_lines[flux_index].max_frequency_point) * 1E6 # in Hz\n",
    "# # for the fast flux\n",
    "# qubit_freq_est = np.polyval(machine.qubits[qubit_index].tuning_curve,0.0) * 1E6 # in Hz\n",
    "# machine.qubits[qubit_index].lo = int(qubit_freq_est.tolist()) + 50E6\n",
    "# qubit_freq_sweep = int(qubit_freq_est) + np.arange(-150E6, 250E6 + 1, 1E6)\n",
    "    \n",
    "%matplotlib qt\n",
    "machine, qubit_freq_sweep, sig_amp = Experiment.exp1D.Rabi.qubit_freq(qubit_freq_sweep, qubit_index, res_index, flux_index, \n",
    "                                      pi_amp_rel = 1, ff_amp = 0.0, n_avg = 1E3, cd_time = 20E3, plot_flag = False, \n",
    "                                      simulate_flag = False, simulation_len = 4000)"
   ]
  },
  {
   "cell_type": "code",
   "execution_count": 151,
   "id": "4831c24f",
   "metadata": {
    "scrolled": true
   },
   "outputs": [
    {
     "name": "stdout",
     "output_type": "stream",
     "text": [
      "resonant frequency: 5729.352 MHz\n"
     ]
    }
   ],
   "source": [
    "%matplotlib qt\n",
    "qubit_freq = Analysis.exp1D.peak_fit(x=qubit_freq_sweep,y=sig_amp,method=\"gaussian\")\n",
    "# qubit_freq = int(qubit_freq.tolist())\n",
    "# machine.qubits[qubit_index].f_01 = qubit_freq + 0E6\n",
    "# machine.qubits[qubit_index].lo = qubit_freq + 50E6\n",
    "# machine = Analysis.set_machine(machine)"
   ]
  },
  {
   "cell_type": "code",
   "execution_count": 4,
   "id": "f6106e19",
   "metadata": {},
   "outputs": [
    {
     "name": "stdout",
     "output_type": "stream",
     "text": [
      "2023-11-22 09:30:02,677 - qm - INFO     - Octave \"octave1\" Health check passed, current temperature 57\n"
     ]
    },
    {
     "name": "stderr",
     "output_type": "stream",
     "text": [
      "INFO:qm:Octave \"octave1\" Health check passed, current temperature 57\n"
     ]
    },
    {
     "name": "stdout",
     "output_type": "stream",
     "text": [
      "2023-11-22 09:30:02,680 - qm - INFO     - Performing health check\n"
     ]
    },
    {
     "name": "stderr",
     "output_type": "stream",
     "text": [
      "INFO:qm.api.frontend_api:Performing health check\n"
     ]
    },
    {
     "name": "stdout",
     "output_type": "stream",
     "text": [
      "2023-11-22 09:30:02,698 - qm - INFO     - Health check passed\n"
     ]
    },
    {
     "name": "stderr",
     "output_type": "stream",
     "text": [
      "INFO:qm.api.frontend_api:Health check passed\n"
     ]
    },
    {
     "name": "stdout",
     "output_type": "stream",
     "text": [
      "------------------------------------- Calibrates r4 for (LO, IF) = (6.276 GHz, -50.000 MHz)\n",
      "2023-11-22 09:30:09,554 - qm - INFO     - Compiling program\n"
     ]
    },
    {
     "name": "stderr",
     "output_type": "stream",
     "text": [
      "INFO:qm.QuantumMachine:Compiling program\n"
     ]
    },
    {
     "name": "stdout",
     "output_type": "stream",
     "text": [
      "------------------------------------- Calibrates q4 for (LO, IF) = (5.779 GHz, -50.000 MHz)\n",
      "2023-11-22 09:30:21,859 - qm - INFO     - Compiling program\n"
     ]
    },
    {
     "name": "stderr",
     "output_type": "stream",
     "text": [
      "INFO:qm.QuantumMachine:Compiling program\n"
     ]
    }
   ],
   "source": [
    "# calibrate octave\n",
    "Experiment.octave_calibration(qubit_index,res_index,flux_index,machine=machine)"
   ]
  },
  {
   "cell_type": "code",
   "execution_count": 219,
   "id": "8e0cc53e",
   "metadata": {},
   "outputs": [],
   "source": [
    "machine.qubits[qubit_index].f_tls[0] = machine.qubits[qubit_index].f_01 + 0E6\n",
    "machine = Analysis.set_machine(machine)"
   ]
  },
  {
   "cell_type": "markdown",
   "id": "7f73ccef",
   "metadata": {},
   "source": [
    "## Rabi"
   ]
  },
  {
   "cell_type": "markdown",
   "id": "8dc4372f",
   "metadata": {},
   "source": [
    "### time rabi"
   ]
  },
  {
   "cell_type": "code",
   "execution_count": 95,
   "id": "55516ebb",
   "metadata": {},
   "outputs": [
    {
     "name": "stdout",
     "output_type": "stream",
     "text": [
      "Progress: [##################################################] 100.0% (n=10000/10000.0) --> elapsed time: 9.73s\n",
      "Progress: [##################################################] 100.0% (n=10000/10000.0) --> elapsed time: 9.78s\n"
     ]
    }
   ],
   "source": [
    "%matplotlib qt\n",
    "rabi_duration_sweep = np.arange(4, 50 + 0.1, 1)  # in units of clock cyles\n",
    "rabi_duration_sweep = rabi_duration_sweep.astype(int)\n",
    "machine, rabi_duration_sweep, sig_amp = Experiment.exp1D.Rabi.rabi_length(rabi_duration_sweep, qubit_index, res_index, flux_index, \n",
    "          pi_amp_rel = 1, n_avg = 10E3, cd_time = 20E3, plot_flag = False, machine = machine, simulate_flag = False, simulation_len = 10_000)"
   ]
  },
  {
   "cell_type": "code",
   "execution_count": 96,
   "id": "c1830c11",
   "metadata": {},
   "outputs": [
    {
     "name": "stdout",
     "output_type": "stream",
     "text": [
      "rabi_pi_pulse: 100.4 ns\n",
      "half period: 96.34 ns\n"
     ]
    },
    {
     "data": {
      "image/png": "[encoded data removed]",
      "text/plain": [
       "<Figure size 600x300 with 1 Axes>"
      ]
     },
     "metadata": {},
     "output_type": "display_data"
    }
   ],
   "source": [
    "%matplotlib inline\n",
    "pi_pulse_length = Analysis.exp1D.rabi_length(rabi_duration_sweep,sig_amp,plot_flag = True)"
   ]
  },
  {
   "cell_type": "code",
   "execution_count": 91,
   "id": "2ab3d637",
   "metadata": {},
   "outputs": [],
   "source": [
    "machine.qubits[qubit_index].pi_length[0] = 100\n",
    "machine = Analysis.set_machine(machine)"
   ]
  },
  {
   "cell_type": "markdown",
   "id": "cc52c092",
   "metadata": {},
   "source": [
    "### power rabi"
   ]
  },
  {
   "cell_type": "code",
   "execution_count": 92,
   "id": "5ae8cbc8",
   "metadata": {},
   "outputs": [
    {
     "name": "stdout",
     "output_type": "stream",
     "text": [
      "Progress: [##################################################] 100.0% (n=10000/10000.0) --> elapsed time: 41.45s\n",
      "Progress: [##################################################] 100.0% (n=10000/10000.0) --> elapsed time: 41.50s\n"
     ]
    }
   ],
   "source": [
    "%matplotlib qt\n",
    "rabi_amp_sweep_rel = np.arange(0.01, 2, 0.01) \n",
    "machine, rabi_amp_sweep_abs, sig_amp = Experiment.exp1D.Rabi.rabi_amp(rabi_amp_sweep_rel, qubit_index, res_index, flux_index, \n",
    "                                          n_avg = 10E3, cd_time = 20E3, plot_flag = False, machine = machine)"
   ]
  },
  {
   "cell_type": "code",
   "execution_count": 93,
   "id": "7b1e55c4",
   "metadata": {},
   "outputs": [
    {
     "name": "stdout",
     "output_type": "stream",
     "text": [
      "rabi_pi_pulse_amp: 0.01862 V\n",
      "half period: 0.0184321 V\n"
     ]
    },
    {
     "data": {
      "image/png": "[encoded data removed]",
      "text/plain": [
       "<Figure size 600x300 with 1 Axes>"
      ]
     },
     "metadata": {},
     "output_type": "display_data"
    }
   ],
   "source": [
    "%matplotlib inline\n",
    "pi_pulse_amp = Analysis.exp1D.rabi_length(rabi_amp_sweep_abs,sig_amp,method = \"power_rabi\", plot_flag = True)"
   ]
  },
  {
   "cell_type": "code",
   "execution_count": 94,
   "id": "cec16801",
   "metadata": {},
   "outputs": [],
   "source": [
    "machine.qubits[qubit_index].pi_amp[0] = pi_pulse_amp.tolist() \n",
    "machine = Analysis.set_machine(machine)"
   ]
  },
  {
   "cell_type": "markdown",
   "id": "54c41636",
   "metadata": {},
   "source": [
    "## calibrate qubit XY line switch"
   ]
  },
  {
   "cell_type": "markdown",
   "id": "7a4b6ac4",
   "metadata": {},
   "source": [
    "### switch delay"
   ]
  },
  {
   "cell_type": "code",
   "execution_count": null,
   "id": "8be6c30a",
   "metadata": {},
   "outputs": [],
   "source": [
    "%matplotlib inline\n",
    "qubit_switch_delay_sweep = np.arange(70,110,1)\n",
    "for i in range(4):\n",
    "    machine, qubit_switch_delay_sweep, sig_amp = Experiment.exp1D.Rabi.qubit_switch_delay(qubit_switch_delay_sweep, qubit_index, res_index, flux_index, \n",
    "                              n_avg = 160E3, cd_time = 20E3, simulate_flag = False, simulation_len = 500, plot_flag = False)"
   ]
  },
  {
   "cell_type": "markdown",
   "id": "2553a70d",
   "metadata": {},
   "source": [
    "### switch buffer"
   ]
  },
  {
   "cell_type": "code",
   "execution_count": null,
   "id": "bf8959aa",
   "metadata": {},
   "outputs": [],
   "source": [
    "%matplotlib inline\n",
    "qubit_switch_buffer_sweep = np.arange(0,70 + 1,2)\n",
    "for k in range(5):\n",
    "    machine, qubit_switch_buffer_sweep, sig_amp = Experiment.exp1D.Rabi.qubit_switch_buffer(qubit_switch_buffer_sweep, qubit_index, res_index, flux_index, \n",
    "                              n_avg = 20E3, cd_time = 20E3, simulate_flag = False, simulation_len = 500, plot_flag = True)"
   ]
  },
  {
   "cell_type": "markdown",
   "id": "d6af5843",
   "metadata": {},
   "source": [
    "## T1"
   ]
  },
  {
   "cell_type": "code",
   "execution_count": 73,
   "id": "a77d6f5d",
   "metadata": {
    "scrolled": true
   },
   "outputs": [
    {
     "name": "stdout",
     "output_type": "stream",
     "text": [
      "Progress: [##################################################] 100.0% (n=5000/5000.0) --> elapsed time: 22.56s\n",
      "Progress: [##################################################] 100.0% (n=5000/5000.0) --> elapsed time: 22.61s\n"
     ]
    }
   ],
   "source": [
    "%matplotlib qt\n",
    "tau_sweep_abs = np.arange(100,20E3+1,400)\n",
    "machine, tau_sweep_abs, sig_amp = Experiment.exp1D.T1.qubit_T1(tau_sweep_abs, qubit_index, res_index, flux_index, \n",
    "                   n_avg = 5E3, cd_time = 80E3, simulate_flag = False, simulation_len = 15_000, plot_flag = False)"
   ]
  },
  {
   "cell_type": "code",
   "execution_count": 75,
   "id": "2733b6dc",
   "metadata": {},
   "outputs": [
    {
     "name": "stdout",
     "output_type": "stream",
     "text": [
      "Qubit T1 [us]: 1.8099802258981594\n"
     ]
    },
    {
     "data": {
      "image/png": "[encoded data removed]",
      "text/plain": [
       "<Figure size 600x300 with 1 Axes>"
      ]
     },
     "metadata": {},
     "output_type": "display_data"
    }
   ],
   "source": [
    "%matplotlib inline\n",
    "q5_T1 = Analysis.exp1D.T1(tau_sweep_abs,sig_amp,method = \"exp\")\n",
    "machine.qubits[qubit_index].T1 = int(q5_T1.tolist())\n",
    "machine = Analysis.set_machine(machine)"
   ]
  },
  {
   "cell_type": "markdown",
   "id": "d347eddd",
   "metadata": {},
   "source": [
    "## Ramsey with virtual rotation"
   ]
  },
  {
   "cell_type": "code",
   "execution_count": 62,
   "id": "3d11310d",
   "metadata": {},
   "outputs": [
    {
     "name": "stdout",
     "output_type": "stream",
     "text": [
      "Execution stopped by user!                                   ] 4.0% (n=395/10000.0) --> elapsed time: 3.83s\n",
      "Progress: [##                                                ] 4.1% (n=410/10000.0) --> elapsed time: 4.02s\r"
     ]
    }
   ],
   "source": [
    "%matplotlib qt\n",
    "ramsey_duration_sweep = np.arange(4, 200 + 0.1, 1)  # in units of clock cyles\n",
    "machine, ramsey_duration_sweep, sig_amp = Experiment.exp1D.Ramsey.ramsey_virtual_rotation(ramsey_duration_sweep, qubit_index, res_index, flux_index, \n",
    "          pi_amp_rel = 1, n_avg = 1E4, detuning = 5E6, cd_time = 50E3, plot_flag = True, simulate_flag = False, simulation_len = 20_000, machine = machine)"
   ]
  },
  {
   "cell_type": "code",
   "execution_count": null,
   "id": "d7fb7153",
   "metadata": {
    "scrolled": true
   },
   "outputs": [],
   "source": [
    "%matplotlib qt\n",
    "q_t2star = Analysis.exp1D.ramsey_vr(ramsey_duration_sweep, sig_amp,plot_flag = True)"
   ]
  },
  {
   "cell_type": "code",
   "execution_count": null,
   "id": "adfac793",
   "metadata": {
    "scrolled": true
   },
   "outputs": [],
   "source": [
    "%matplotlib qt\n",
    "# FFT\n",
    "x = ramsey_duration_sweep\n",
    "y = sig_amp\n",
    "freq =  np.fft.fftfreq(len(x), abs(x[0] - x[1]) / u.s)\n",
    "w = np.fft.fft(y)\n",
    "new_w = w[1 : len(freq // 2)]\n",
    "new_f = freq[1 : len(freq // 2)]\n",
    "ind = new_f > 0\n",
    "new_f = new_f[ind]\n",
    "new_w = new_w[ind]\n",
    "yy = np.abs(new_w)\n",
    "first_read_data_ind = np.where(yy[1:] - yy[:-1] > 0)[0][0]  # away from the DC peak\n",
    "new_f = new_f[first_read_data_ind:]\n",
    "new_w = new_w[first_read_data_ind:]\n",
    "\n",
    "plt.plot((new_f/1e6), np.abs(new_w))\n",
    "plt.xlabel(\"Frequency [MHz]\")\n",
    "plt.ylabel(\"FFT [a.u.]\")\n",
    "\n"
   ]
  },
  {
   "cell_type": "code",
   "execution_count": null,
   "id": "bb3ec098",
   "metadata": {},
   "outputs": [],
   "source": [
    "## Power spectrum\n",
    "delta = abs(x[0] - x[1]) / u.s\n",
    "Fs = 1 / delta  # Sampling frequency\n",
    "L = np.size(x)\n",
    "NFFT = int(2 * 2 ** np.ceil(np.log2(L)))\n",
    "Freq = Fs / 2 * np.linspace(0, 1, NFFT // 2 , endpoint=True)\n",
    "Y = np.fft.fft(y - np.mean(y), NFFT) / L\n",
    "DataY = abs(Y[0:(NFFT // 2)]) ** 2\n",
    "plt.plot(Freq/1e6, DataY)\n",
    "plt.xlabel(\"Frequency [MHz]\")\n",
    "plt.ylabel(\"FFT [a.u.]\")\n"
   ]
  },
  {
   "cell_type": "markdown",
   "id": "ed8d29cf",
   "metadata": {},
   "source": [
    "## ef transition"
   ]
  },
  {
   "cell_type": "markdown",
   "id": "b02eb745",
   "metadata": {},
   "source": [
    "### ef frequency"
   ]
  },
  {
   "cell_type": "code",
   "execution_count": null,
   "id": "1ef197b3",
   "metadata": {},
   "outputs": [],
   "source": [
    "%matplotlib qt\n",
    "ef_freq_sweep = machine.qubits[qubit_index].f_01 + np.arange(-180E6, -100E6 + 1, 0.5E6) \n",
    "machine, ef_freq_sweep, sig_amp = Experiment.exp1D.Rabi.ef_freq(ef_freq_sweep, qubit_index, res_index, flux_index, \n",
    "                      pi_amp_rel = 1, pi_amp_rel_ef = 1.0, n_avg = 2E3, cd_time = 20E3, readout_state = 'g', plot_flag = False, \n",
    "                      simulate_flag = False, simulation_len = 4000)"
   ]
  },
  {
   "cell_type": "code",
   "execution_count": null,
   "id": "17805410",
   "metadata": {},
   "outputs": [],
   "source": [
    "%matplotlib inline\n",
    "ef_freq = Analysis.exp1D.peak_fit(x=ef_freq_sweep,y=sig_amp,method=\"gaussian\")"
   ]
  },
  {
   "cell_type": "code",
   "execution_count": null,
   "id": "e47e8184",
   "metadata": {},
   "outputs": [],
   "source": [
    "machine.qubits[qubit_index].anharmonicity = machine.qubits[qubit_index].f_01 - int(ef_freq)\n",
    "machine = Analysis.set_machine(machine)"
   ]
  },
  {
   "cell_type": "markdown",
   "id": "8f0a1612",
   "metadata": {},
   "source": [
    "### ef transition time Rabi"
   ]
  },
  {
   "cell_type": "code",
   "execution_count": null,
   "id": "c47d6997",
   "metadata": {},
   "outputs": [],
   "source": [
    "%matplotlib qt\n",
    "rabi_duration_sweep = np.arange(4, 80 + 0.1, 1)  # in units of clock cyles\n",
    "rabi_duration_sweep = rabi_duration_sweep.astype(int)\n",
    "machine, rabi_duration_sweep, sig_amp = Experiment.exp1D.Rabi.ef_rabi_length(rabi_duration_sweep, qubit_index, res_index, flux_index, \n",
    "          pi_amp_rel = 1.0, pi_amp_rel_ef = 1.0,  n_avg = 2E3, cd_time = 20E3, readout_state = 'g', plot_flag = False, machine = machine, simulate_flag = False, simulation_len = 10_000)"
   ]
  },
  {
   "cell_type": "code",
   "execution_count": null,
   "id": "628e087d",
   "metadata": {},
   "outputs": [],
   "source": [
    "%matplotlib inline\n",
    "pi_pulse_length = Analysis.exp1D.rabi_length(rabi_duration_sweep,sig_amp,plot_flag = True)"
   ]
  },
  {
   "cell_type": "code",
   "execution_count": null,
   "id": "b0d01dbe",
   "metadata": {},
   "outputs": [],
   "source": [
    "machine.qubits[qubit_index].pi_length[1] = 80\n",
    "machine = Analysis.set_machine(machine)"
   ]
  },
  {
   "cell_type": "markdown",
   "id": "80afaf56",
   "metadata": {},
   "source": [
    "### ef transition power Rabi"
   ]
  },
  {
   "cell_type": "code",
   "execution_count": null,
   "id": "f81a5391",
   "metadata": {},
   "outputs": [],
   "source": [
    "%matplotlib qt\n",
    "rabi_amp_sweep_rel = np.arange(0.2, 3.0, 0.05) \n",
    "machine, rabi_amp_sweep_abs, sig_amp = Experiment.exp1D.Rabi.ef_rabi_amp(rabi_amp_sweep_rel, qubit_index, res_index, flux_index, \n",
    "                          pi_amp_rel = 1.0, n_avg = 10E3, cd_time = 20E3, readout_state = 'g', plot_flag = False, machine = machine,\n",
    "                          simulate_flag = False, simulation_len = 1000)"
   ]
  },
  {
   "cell_type": "code",
   "execution_count": null,
   "id": "307b7fc8",
   "metadata": {},
   "outputs": [],
   "source": [
    "%matplotlib inline\n",
    "pi_pulse_amp = Analysis.exp1D.rabi_length(rabi_amp_sweep_abs,sig_amp,method = \"power_rabi\", plot_flag = True)"
   ]
  },
  {
   "cell_type": "code",
   "execution_count": null,
   "id": "73541a8a",
   "metadata": {},
   "outputs": [],
   "source": [
    "machine.qubits[qubit_index].pi_amp[1] = pi_pulse_amp\n",
    "machine = Analysis.set_machine(machine)"
   ]
  },
  {
   "cell_type": "markdown",
   "id": "022e084c",
   "metadata": {},
   "source": [
    "## residual |e> state population"
   ]
  },
  {
   "cell_type": "markdown",
   "id": "a46f137f",
   "metadata": {},
   "source": [
    "### |e> readout calibration"
   ]
  },
  {
   "cell_type": "code",
   "execution_count": null,
   "id": "15840971",
   "metadata": {},
   "outputs": [],
   "source": [
    "# calibrate RO\n",
    "%matplotlib qt\n",
    "#res_freq_sweep = np.arange(7.2575E9,7.2675E9 + 1.0,0.03E6)\n",
    "ham_param = machine.resonators[res_index].tuning_curve\n",
    "res_freq_est = Analysis.exp2D.ham([flux_index,machine.flux_lines[flux_index].max_frequency_point], ham_param[0], ham_param[1], ham_param[2], ham_param[3], ham_param[4], ham_param[5], output_flag = 1) * 1E6 # to Hz\n",
    "res_freq_sweep = int(res_freq_est[0]) + np.arange(-5E6, 5E6 + 1, 0.05E6)\n",
    "machine, res_freq_sweep, sig_amp = Experiment.exp1D.RR.rr_freq(res_freq_sweep, qubit_index, res_index, flux_index, \n",
    "                       n_avg = 10E3, cd_time = 20E3, plot_flag = False, readout_state = 'e', simulate_flag = False, simulation_len = 1000)\n",
    "%matplotlib inline\n",
    "res_freq = Analysis.exp1D.rr_freq(res_freq_sweep, sig_amp)\n",
    "res_freq = int(res_freq.tolist())\n",
    "machine.resonators[res_index].f_readout = res_freq + 0E6\n",
    "machine.resonators[res_index].lo = res_freq + 50E6\n",
    "machine = Analysis.set_machine(machine)"
   ]
  },
  {
   "cell_type": "code",
   "execution_count": 256,
   "id": "aaf845a5",
   "metadata": {},
   "outputs": [
    {
     "name": "stdout",
     "output_type": "stream",
     "text": [
      "2023-11-14 15:06:31,611 - qm - INFO     - Performing health check\n"
     ]
    },
    {
     "name": "stderr",
     "output_type": "stream",
     "text": [
      "INFO:qm.api.frontend_api:Performing health check\n"
     ]
    },
    {
     "name": "stdout",
     "output_type": "stream",
     "text": [
      "2023-11-14 15:06:31,617 - qm - INFO     - Health check passed\n"
     ]
    },
    {
     "name": "stderr",
     "output_type": "stream",
     "text": [
      "INFO:qm.api.frontend_api:Health check passed\n"
     ]
    },
    {
     "name": "stdout",
     "output_type": "stream",
     "text": [
      "------------------------------------- Calibrates r4 for (LO, IF) = (6.276 GHz, -50.000 MHz)\n",
      "2023-11-14 15:06:38,136 - qm - INFO     - Compiling program\n"
     ]
    },
    {
     "name": "stderr",
     "output_type": "stream",
     "text": [
      "INFO:qm.QuantumMachine:Compiling program\n"
     ]
    },
    {
     "name": "stdout",
     "output_type": "stream",
     "text": [
      "------------------------------------- Calibrates q4 for (LO, IF) = (5.779 GHz, -50.000 MHz)\n",
      "2023-11-14 15:06:49,699 - qm - INFO     - Compiling program\n"
     ]
    },
    {
     "name": "stderr",
     "output_type": "stream",
     "text": [
      "INFO:qm.QuantumMachine:Compiling program\n"
     ]
    }
   ],
   "source": [
    "# calibrate octave\n",
    "Experiment.octave_calibration(qubit_index,res_index,flux_index,machine=machine)"
   ]
  },
  {
   "cell_type": "markdown",
   "id": "0da17159",
   "metadata": {},
   "source": [
    "### A_ref"
   ]
  },
  {
   "cell_type": "code",
   "execution_count": null,
   "id": "f6f2c6c0",
   "metadata": {},
   "outputs": [],
   "source": [
    "%matplotlib qt\n",
    "#rabi_duration_sweep = np.arange(4, 80 + 0.1, 2)  # in units of clock cyles\n",
    "rabi_duration_sweep = np.array([80/4, 160/4])  \n",
    "rabi_duration_sweep = rabi_duration_sweep.astype(int)\n",
    "machine, rabi_duration_sweep, sig_amp = Experiment.exp1D.Rabi.ef_rabi_length(rabi_duration_sweep, qubit_index, res_index, flux_index, \n",
    "          pi_amp_rel = 1.0, pi_amp_rel_ef = 1.0,  n_avg = 1E7, cd_time = 20E3, readout_state = 'e', plot_flag = False, machine = machine, simulate_flag = False, simulation_len = 10_000)"
   ]
  },
  {
   "cell_type": "markdown",
   "id": "f40a4b8b",
   "metadata": {},
   "source": [
    "### A_sig"
   ]
  },
  {
   "cell_type": "code",
   "execution_count": null,
   "id": "cb0e0444",
   "metadata": {},
   "outputs": [],
   "source": [
    "%matplotlib qt\n",
    "#rabi_duration_sweep = np.arange(4, 80 + 0.1, 2)  # in units of clock cyles\n",
    "rabi_duration_sweep = np.array([80/4, 160/4])  \n",
    "rabi_duration_sweep = rabi_duration_sweep.astype(int)\n",
    "machine, rabi_duration_sweep_thermal, sig_amp_thermal = Experiment.exp1D.Rabi.ef_rabi_length_thermal(rabi_duration_sweep, qubit_index, res_index, flux_index, \n",
    "          pi_amp_rel = 1.0, pi_amp_rel_ef = 0.0,  n_avg = 1E7, cd_time = 20E3, readout_state = 'e', plot_flag = False, machine = machine, \n",
    "          simulate_flag = False, simulation_len = 10_000)"
   ]
  },
  {
   "cell_type": "markdown",
   "id": "07e3862d",
   "metadata": {},
   "source": [
    "## 2D qubit spectroscopy vs dc flux"
   ]
  },
  {
   "cell_type": "code",
   "execution_count": 101,
   "id": "15755e8f",
   "metadata": {},
   "outputs": [
    {
     "name": "stdout",
     "output_type": "stream",
     "text": [
      "qubit if for est. freq > 350MHz\n"
     ]
    },
    {
     "ename": "TypeError",
     "evalue": "cannot unpack non-iterable NoneType object",
     "output_type": "error",
     "traceback": [
      "\u001b[1;31m---------------------------------------------------------------------------\u001b[0m",
      "\u001b[1;31mTypeError\u001b[0m                                 Traceback (most recent call last)",
      "Cell \u001b[1;32mIn[101], line 4\u001b[0m\n\u001b[0;32m      2\u001b[0m get_ipython()\u001b[38;5;241m.\u001b[39mrun_line_magic(\u001b[38;5;124m'\u001b[39m\u001b[38;5;124mmatplotlib\u001b[39m\u001b[38;5;124m'\u001b[39m, \u001b[38;5;124m'\u001b[39m\u001b[38;5;124mqt\u001b[39m\u001b[38;5;124m'\u001b[39m)\n\u001b[0;32m      3\u001b[0m dc_flux_sweep \u001b[38;5;241m=\u001b[39m machine\u001b[38;5;241m.\u001b[39mflux_lines[flux_index]\u001b[38;5;241m.\u001b[39mmax_frequency_point \u001b[38;5;241m+\u001b[39m np\u001b[38;5;241m.\u001b[39marange(\u001b[38;5;241m-\u001b[39m\u001b[38;5;241m0.5\u001b[39m,\u001b[38;5;241m0.5\u001b[39m\u001b[38;5;241m+\u001b[39m\u001b[38;5;241m1E-4\u001b[39m,\u001b[38;5;241m0.1\u001b[39m)\n\u001b[1;32m----> 4\u001b[0m _,qubit_freq_sweep,dc_flux_sweep,sig_amp_qubit \u001b[38;5;241m=\u001b[39m Experiment\u001b[38;5;241m.\u001b[39mexp2D\u001b[38;5;241m.\u001b[39mRabi\u001b[38;5;241m.\u001b[39mqubit_freq_vs_dc_flux(dc_flux_sweep,qubit_index,res_index,flux_index,\n\u001b[0;32m      5\u001b[0m                                                                                              n_avg \u001b[38;5;241m=\u001b[39m \u001b[38;5;241m5E3\u001b[39m, cd_time \u001b[38;5;241m=\u001b[39m \u001b[38;5;241m20E3\u001b[39m, pi_amp_rel \u001b[38;5;241m=\u001b[39m \u001b[38;5;241m1.0\u001b[39m, plot_flag \u001b[38;5;241m=\u001b[39m \u001b[38;5;28;01mTrue\u001b[39;00m)\n",
      "\u001b[1;31mTypeError\u001b[0m: cannot unpack non-iterable NoneType object"
     ]
    }
   ],
   "source": [
    "# try the experiment\n",
    "%matplotlib qt\n",
    "dc_flux_sweep = machine.flux_lines[flux_index].max_frequency_point + np.arange(-0.5,0.5+1E-4,0.1)\n",
    "_,qubit_freq_sweep,dc_flux_sweep,sig_amp_qubit = Experiment.exp2D.Rabi.qubit_freq_vs_dc_flux(dc_flux_sweep,qubit_index,res_index,flux_index,\n",
    "                                                                                             n_avg = 5E3, cd_time = 20E3, pi_amp_rel = 1.0, plot_flag = True)"
   ]
  },
  {
   "cell_type": "code",
   "execution_count": 319,
   "id": "c50d8fa7",
   "metadata": {},
   "outputs": [
    {
     "name": "stdout",
     "output_type": "stream",
     "text": [
      "sweet spot flux: -0.11135 V\n",
      "Execution stopped by user!\n",
      "Execution stopped by user!\n",
      "Execution stopped by user!\n",
      "Execution stopped by user!\n",
      "Execution stopped by user!\n",
      "Execution stopped by user!\n",
      "Execution stopped by user!\n",
      "Execution stopped by user!\n",
      "Execution stopped by user!\n",
      "Execution stopped by user!\n",
      "Execution stopped by user!\n",
      "Execution stopped by user!\n",
      "Execution stopped by user!\n",
      "Execution stopped by user!\n",
      "Execution stopped by user!\n",
      "Execution stopped by user!\n",
      "Execution stopped by user!\n",
      "Execution stopped by user!\n",
      "Execution stopped by user!\n",
      "Execution stopped by user!\n",
      "Execution stopped by user!\n",
      "Execution stopped by user!\n",
      "Execution stopped by user!\n",
      "Execution stopped by user!\n",
      "Execution stopped by user!\n",
      "Execution stopped by user!\n"
     ]
    }
   ],
   "source": [
    "# udpate the sweet spot\n",
    "%matplotlib qt\n",
    "poly_param = Analysis.exp2D.qubit_vs_dc_flux(qubit_freq_sweep, dc_flux_sweep, sig_amp_qubit, fit_order = 2, plot_flag = True)\n",
    "machine.flux_lines[flux_index].max_frequency_point = Analysis.get_sweept_spot(poly_param).tolist() + 0E1\n",
    "print(f\"sweet spot flux: {machine.flux_lines[flux_index].max_frequency_point:.5f} V\")"
   ]
  },
  {
   "cell_type": "code",
   "execution_count": 321,
   "id": "68b35bb7",
   "metadata": {},
   "outputs": [],
   "source": [
    "# save the sweep spot flux according to fitted parameter\n",
    "poly_param = Analysis.exp2D.qubit_vs_dc_flux(qubit_freq_sweep, dc_flux_sweep, sig_amp_qubit, fit_order = 4, plot_flag = True)\n",
    "machine.qubits[qubit_index].tuning_curve = poly_param.tolist()\n",
    "machine = Analysis.set_machine(machine)\n",
    "Analysis.update_analysis_tuning_curve(qubit_index,res_index,flux_index)\n"
   ]
  },
  {
   "cell_type": "markdown",
   "id": "8164027c",
   "metadata": {},
   "source": [
    "## 2D qubit spectroscopy vs fast flux"
   ]
  },
  {
   "cell_type": "code",
   "execution_count": 320,
   "id": "1afc5b22",
   "metadata": {},
   "outputs": [],
   "source": [
    "# set DC voltage to sweet spot, after possible dc flux sweep\n",
    "machine = Experiment.set_QDAC(qubit_index,res_index,flux_index,machine.flux_lines[flux_index].max_frequency_point)\n",
    "machine = Analysis.set_machine(machine)"
   ]
  },
  {
   "cell_type": "markdown",
   "id": "6df0cfbd",
   "metadata": {},
   "source": [
    "### slow version, to find the initial fast flux tuning curve"
   ]
  },
  {
   "cell_type": "code",
   "execution_count": 327,
   "id": "46942f20",
   "metadata": {
    "scrolled": true
   },
   "outputs": [
    {
     "name": "stdout",
     "output_type": "stream",
     "text": [
      "Progress: [###                                               ] 6.7% (n=1/15) --> elapsed time: 0.00s\r",
      "2023-11-14 17:36:23,046 - qm - INFO     - Performing health check\n"
     ]
    },
    {
     "name": "stderr",
     "output_type": "stream",
     "text": [
      "INFO:qm.api.frontend_api:Performing health check\n"
     ]
    },
    {
     "name": "stdout",
     "output_type": "stream",
     "text": [
      "2023-11-14 17:36:23,054 - qm - INFO     - Health check passed\n"
     ]
    },
    {
     "name": "stderr",
     "output_type": "stream",
     "text": [
      "INFO:qm.api.frontend_api:Health check passed\n"
     ]
    },
    {
     "name": "stdout",
     "output_type": "stream",
     "text": [
      "------------------------------------- Calibrates q4 for (LO, IF) = (5.439 GHz, 290.000 MHz)\n",
      "2023-11-14 17:36:27,339 - qm - INFO     - Compiling program\n"
     ]
    },
    {
     "name": "stderr",
     "output_type": "stream",
     "text": [
      "INFO:qm.QuantumMachine:Compiling program\n"
     ]
    },
    {
     "name": "stdout",
     "output_type": "stream",
     "text": [
      "2023-11-14 17:37:22,728 - qm - INFO     - Performing health check.7% (n=10/15) --> elapsed time: 59.67s\n"
     ]
    },
    {
     "name": "stderr",
     "output_type": "stream",
     "text": [
      "INFO:qm.api.frontend_api:Performing health check\n"
     ]
    },
    {
     "name": "stdout",
     "output_type": "stream",
     "text": [
      "2023-11-14 17:37:22,742 - qm - INFO     - Health check passed\n"
     ]
    },
    {
     "name": "stderr",
     "output_type": "stream",
     "text": [
      "INFO:qm.api.frontend_api:Health check passed\n"
     ]
    },
    {
     "name": "stdout",
     "output_type": "stream",
     "text": [
      "------------------------------------- Calibrates q4 for (LO, IF) = (5.248 GHz, 290.000 MHz)\n",
      "2023-11-14 17:37:27,931 - qm - INFO     - Compiling program\n"
     ]
    },
    {
     "name": "stderr",
     "output_type": "stream",
     "text": [
      "INFO:qm.QuantumMachine:Compiling program\n"
     ]
    },
    {
     "name": "stdout",
     "output_type": "stream",
     "text": [
      "2023-11-14 17:38:01,351 - qm - INFO     - Performing health check.3% (n=14/15) --> elapsed time: 98.31s\n"
     ]
    },
    {
     "name": "stderr",
     "output_type": "stream",
     "text": [
      "INFO:qm.api.frontend_api:Performing health check\n"
     ]
    },
    {
     "name": "stdout",
     "output_type": "stream",
     "text": [
      "2023-11-14 17:38:01,363 - qm - INFO     - Health check passed\n"
     ]
    },
    {
     "name": "stderr",
     "output_type": "stream",
     "text": [
      "INFO:qm.api.frontend_api:Health check passed\n"
     ]
    },
    {
     "name": "stdout",
     "output_type": "stream",
     "text": [
      "------------------------------------- Calibrates q4 for (LO, IF) = (5.004 GHz, 290.000 MHz)\n",
      "2023-11-14 17:38:06,728 - qm - INFO     - Compiling program\n"
     ]
    },
    {
     "name": "stderr",
     "output_type": "stream",
     "text": [
      "INFO:qm.QuantumMachine:Compiling program\n"
     ]
    },
    {
     "name": "stdout",
     "output_type": "stream",
     "text": [
      "Progress: [##################################################] 100.0% (n=15/15) --> elapsed time: 122.29s\n",
      "Execution stopped by user!\n",
      "Execution stopped by user!\n",
      "Execution stopped by user!\n",
      "Execution stopped by user!\n",
      "Execution stopped by user!\n",
      "Execution stopped by user!\n",
      "Execution stopped by user!\n",
      "Execution stopped by user!\n",
      "Execution stopped by user!\n",
      "Execution stopped by user!\n",
      "Execution stopped by user!\n",
      "Execution stopped by user!\n",
      "Execution stopped by user!\n",
      "Execution stopped by user!\n",
      "Execution stopped by user!\n"
     ]
    }
   ],
   "source": [
    "# try the experiment\n",
    "# always sweep on the positive side if you are doing the fit below\n",
    "%matplotlib qt\n",
    "# ff_sweep = np.arange(-0.0,-0.28-1E-4,-0.02)\n",
    "ff_sweep = np.arange(0,0.28+1E-4,0.02)\n",
    "qubit_if_sweep = np.arange(-60E6, 60E6 + 1, 1E6)\n",
    "machine,qubit_freq_sweep,ff_sweep_abs,sig_amp_qubit = Experiment.exp2D.Rabi.qubit_freq_vs_fast_flux_slow(ff_sweep,qubit_if_sweep,\n",
    "          qubit_index,res_index,flux_index,ff_to_dc_ratio = 4.2, machine = machine, n_avg = 1E3, cd_time = 20E3, pi_amp_rel = 1.0, plot_flag = True)"
   ]
  },
  {
   "cell_type": "code",
   "execution_count": null,
   "id": "4af001c5",
   "metadata": {},
   "outputs": [],
   "source": [
    "# plots tuning curve with fast flux from loaded data \n",
    "\n",
    "import scipy.io as sio\n",
    "tPath = os.path.join(r'Z:\\LabberData_DF5\\QM_Data_DF5','2023','11','Data_1116')\n",
    "filename = 'Q5-qubit_freq_vs_fast_flux-1116-1306'\n",
    "file = os.path.join(tPath, filename)\n",
    "file_open = sio.loadmat(file)\n",
    "%matplotlib qt\n",
    "qubit_freq_sweep =file_open['Q_freq']\n",
    "ff_sweep_abs = file_open['fast_flux_sweep']\n",
    "sig_amp_qubit = file_open['sig_amp_qubit']\n",
    "\n",
    "qubit_freq_sweep = qubit_freq_sweep.reshape(np.size(ff_sweep_abs),\n",
    "                                                np.size(qubit_freq_sweep) // np.size(ff_sweep_abs))\n",
    "sig_amp_qubit = sig_amp_qubit.reshape(np.size(ff_sweep_abs),\n",
    "                                          np.size(sig_amp_qubit) // np.size(ff_sweep_abs))\n",
    "\n",
    "sort_index = np.argsort(ff_sweep_abs[0])\n",
    "qubit_freq_sweep = qubit_freq_sweep[sort_index,:]\n",
    "sig_amp_qubit = sig_amp_qubit[sort_index,:]\n",
    "ff_sweep_abs = ff_sweep_abs[0][sort_index]\n",
    "_, ff_sweep_plt = np.meshgrid(qubit_freq_sweep[0, :], ff_sweep_abs)\n",
    "\n",
    "\n",
    "plt.pcolormesh(ff_sweep_plt, qubit_freq_sweep / u.MHz, sig_amp_qubit, cmap=\"seismic\")\n",
    "plt.title(\"Qubit tuning curve\")\n",
    "plt.xlabel(\"fast flux level [V]\")\n",
    "plt.ylabel(\"Frequency [MHz]\")\n",
    "plt.colorbar()\n",
    "\n",
    "# poly_param = Analysis.exp2D.qubit_vs_fast_flux(qubit_freq_sweep, ff_sweep_abs, sig_amp_qubit, fit_order = 4, plot_flag = True)\n",
    "\n"
   ]
  },
  {
   "cell_type": "code",
   "execution_count": 5,
   "id": "1238a708",
   "metadata": {},
   "outputs": [
    {
     "ename": "NameError",
     "evalue": "name 'qubit_freq_sweep' is not defined",
     "output_type": "error",
     "traceback": [
      "\u001b[1;31m---------------------------------------------------------------------------\u001b[0m",
      "\u001b[1;31mNameError\u001b[0m                                 Traceback (most recent call last)",
      "Cell \u001b[1;32mIn[5], line 4\u001b[0m\n\u001b[0;32m      1\u001b[0m \u001b[38;5;66;03m# save the fitted tuning curve\u001b[39;00m\n\u001b[0;32m      3\u001b[0m get_ipython()\u001b[38;5;241m.\u001b[39mrun_line_magic(\u001b[38;5;124m'\u001b[39m\u001b[38;5;124mmatplotlib\u001b[39m\u001b[38;5;124m'\u001b[39m, \u001b[38;5;124m'\u001b[39m\u001b[38;5;124minline\u001b[39m\u001b[38;5;124m'\u001b[39m)\n\u001b[1;32m----> 4\u001b[0m poly_param \u001b[38;5;241m=\u001b[39m Analysis\u001b[38;5;241m.\u001b[39mexp2D\u001b[38;5;241m.\u001b[39mqubit_vs_fast_flux(\u001b[43mqubit_freq_sweep\u001b[49m, ff_sweep_abs, sig_amp_qubit, fit_order \u001b[38;5;241m=\u001b[39m \u001b[38;5;241m4\u001b[39m, plot_flag \u001b[38;5;241m=\u001b[39m \u001b[38;5;28;01mTrue\u001b[39;00m)\n\u001b[0;32m      5\u001b[0m machine\u001b[38;5;241m.\u001b[39mqubits[qubit_index]\u001b[38;5;241m.\u001b[39mtuning_curve \u001b[38;5;241m=\u001b[39m poly_param\u001b[38;5;241m.\u001b[39mtolist()\n\u001b[0;32m      6\u001b[0m machine \u001b[38;5;241m=\u001b[39m Analysis\u001b[38;5;241m.\u001b[39mset_machine(machine)\n",
      "\u001b[1;31mNameError\u001b[0m: name 'qubit_freq_sweep' is not defined"
     ]
    }
   ],
   "source": [
    "# save the fitted tuning curve\n",
    "\n",
    "%matplotlib inline\n",
    "poly_param = Analysis.exp2D.qubit_vs_fast_flux(qubit_freq_sweep, ff_sweep_abs, sig_amp_qubit, fit_order = 4, plot_flag = True)\n",
    "machine.qubits[qubit_index].tuning_curve = poly_param.tolist()\n",
    "machine = Analysis.set_machine(machine)\n",
    "Analysis.update_analysis_tuning_curve(qubit_index,res_index,flux_index)"
   ]
  },
  {
   "cell_type": "markdown",
   "id": "aca48e4e",
   "metadata": {},
   "source": [
    "### fast version, runs blockwise 2D sweeps"
   ]
  },
  {
   "cell_type": "code",
   "execution_count": 102,
   "id": "31ea3a3b",
   "metadata": {},
   "outputs": [],
   "source": [
    "q_freq_max = np.floor(np.polyval(machine.qubits[qubit_index].tuning_curve, 0.0) * 1E6)\n",
    "qubit_freq_sweep = np.arange(q_freq_max, 4E9, -1E6)\n"
   ]
  },
  {
   "cell_type": "code",
   "execution_count": 103,
   "id": "72d896d5",
   "metadata": {},
   "outputs": [
    {
     "name": "stdout",
     "output_type": "stream",
     "text": [
      "-------------------------------------some fast flux > 0.5V, removed from experiment run\n",
      "2023-11-16 13:06:53,429 - qm - INFO     - Performing health check\n"
     ]
    },
    {
     "name": "stderr",
     "output_type": "stream",
     "text": [
      "INFO:qm.api.frontend_api:Performing health check\n"
     ]
    },
    {
     "name": "stdout",
     "output_type": "stream",
     "text": [
      "2023-11-16 13:06:53,437 - qm - INFO     - Health check passed\n"
     ]
    },
    {
     "name": "stderr",
     "output_type": "stream",
     "text": [
      "INFO:qm.api.frontend_api:Health check passed\n"
     ]
    },
    {
     "name": "stdout",
     "output_type": "stream",
     "text": [
      "------------------------------------- Calibrates q4 for (LO, IF) = (5.428 GHz, 200.000 MHz)\n",
      "2023-11-16 13:06:58,455 - qm - INFO     - Compiling program\n"
     ]
    },
    {
     "name": "stderr",
     "output_type": "stream",
     "text": [
      "INFO:qm.QuantumMachine:Compiling program\n"
     ]
    },
    {
     "name": "stdout",
     "output_type": "stream",
     "text": [
      "Progress: [##################################################] 100.0% (n=5000/5000.0) --> elapsed time: 5080.25s\n",
      "Progress: [##################################################] 100.0% (n=5000/5000.0) --> elapsed time: 5080.41s\n",
      "Progress: [##################################################] 100.0% (n=5000/5000.0) --> elapsed time: 5080.21s\n",
      "Progress: [##################################################] 100.0% (n=5000/5000.0) --> elapsed time: 5080.37s\n",
      "2023-11-16 15:56:40,668 - qm - INFO     - Performing health check\n"
     ]
    },
    {
     "name": "stderr",
     "output_type": "stream",
     "text": [
      "INFO:qm.api.frontend_api:Performing health check\n"
     ]
    },
    {
     "name": "stdout",
     "output_type": "stream",
     "text": [
      "2023-11-16 15:56:40,676 - qm - INFO     - Health check passed\n"
     ]
    },
    {
     "name": "stderr",
     "output_type": "stream",
     "text": [
      "INFO:qm.api.frontend_api:Health check passed\n"
     ]
    },
    {
     "name": "stdout",
     "output_type": "stream",
     "text": [
      "------------------------------------- Calibrates q4 for (LO, IF) = (5.228 GHz, 200.000 MHz)\n",
      "2023-11-16 15:56:45,629 - qm - INFO     - Compiling program\n"
     ]
    },
    {
     "name": "stderr",
     "output_type": "stream",
     "text": [
      "INFO:qm.QuantumMachine:Compiling program\n"
     ]
    },
    {
     "name": "stdout",
     "output_type": "stream",
     "text": [
      "Progress: [##################################################] 100.0% (n=5000/5000.0) --> elapsed time: 5080.17s\n",
      "Progress: [##################################################] 100.0% (n=5000/5000.0) --> elapsed time: 5080.34s\n",
      "Progress: [##################################################] 100.0% (n=5000/5000.0) --> elapsed time: 5080.24s\n",
      "Progress: [##################################################] 100.0% (n=5000/5000.0) --> elapsed time: 5080.40s\n",
      "2023-11-16 18:46:27,933 - qm - INFO     - Performing health check\n"
     ]
    },
    {
     "name": "stderr",
     "output_type": "stream",
     "text": [
      "INFO:qm.api.frontend_api:Performing health check\n"
     ]
    },
    {
     "name": "stdout",
     "output_type": "stream",
     "text": [
      "2023-11-16 18:46:27,946 - qm - INFO     - Health check passed\n"
     ]
    },
    {
     "name": "stderr",
     "output_type": "stream",
     "text": [
      "INFO:qm.api.frontend_api:Health check passed\n"
     ]
    },
    {
     "name": "stdout",
     "output_type": "stream",
     "text": [
      "------------------------------------- Calibrates q4 for (LO, IF) = (4.628 GHz, 200.000 MHz)\n",
      "2023-11-16 18:46:32,454 - qm - INFO     - Compiling program\n"
     ]
    },
    {
     "name": "stderr",
     "output_type": "stream",
     "text": [
      "INFO:qm.QuantumMachine:Compiling program\n"
     ]
    },
    {
     "name": "stdout",
     "output_type": "stream",
     "text": [
      "Progress: [##################################################] 100.0% (n=5000/5000.0) --> elapsed time: 5080.25s\n",
      "Progress: [##################################################] 100.0% (n=5000/5000.0) --> elapsed time: 5080.40s\n",
      "Progress: [##################################################] 100.0% (n=5000/5000.0) --> elapsed time: 5080.24s\n",
      "Progress: [##################################################] 100.0% (n=5000/5000.0) --> elapsed time: 5080.41s\n",
      "2023-11-16 21:36:15,131 - qm - INFO     - Performing health check\n"
     ]
    },
    {
     "name": "stderr",
     "output_type": "stream",
     "text": [
      "INFO:qm.api.frontend_api:Performing health check\n"
     ]
    },
    {
     "name": "stdout",
     "output_type": "stream",
     "text": [
      "2023-11-16 21:36:15,156 - qm - INFO     - Health check passed\n"
     ]
    },
    {
     "name": "stderr",
     "output_type": "stream",
     "text": [
      "INFO:qm.api.frontend_api:Health check passed\n"
     ]
    },
    {
     "name": "stdout",
     "output_type": "stream",
     "text": [
      "------------------------------------- Calibrates q4 for (LO, IF) = (4.428 GHz, 200.000 MHz)\n",
      "2023-11-16 21:36:19,757 - qm - INFO     - Compiling program\n"
     ]
    },
    {
     "name": "stderr",
     "output_type": "stream",
     "text": [
      "INFO:qm.QuantumMachine:Compiling program\n"
     ]
    },
    {
     "name": "stdout",
     "output_type": "stream",
     "text": [
      "Progress: [##################################################] 100.0% (n=5000/5000.0) --> elapsed time: 5080.32s\n",
      "Progress: [##################################################] 100.0% (n=5000/5000.0) --> elapsed time: 5080.49s\n",
      "Progress: [##################################################] 100.0% (n=5000/5000.0) --> elapsed time: 5080.21s\n",
      "Progress: [##################################################] 100.0% (n=5000/5000.0) --> elapsed time: 5080.37s\n",
      "2023-11-17 00:26:02,576 - qm - INFO     - Performing health check\n"
     ]
    },
    {
     "name": "stderr",
     "output_type": "stream",
     "text": [
      "INFO:qm.api.frontend_api:Performing health check\n"
     ]
    },
    {
     "name": "stdout",
     "output_type": "stream",
     "text": [
      "2023-11-17 00:26:02,590 - qm - INFO     - Health check passed\n"
     ]
    },
    {
     "name": "stderr",
     "output_type": "stream",
     "text": [
      "INFO:qm.api.frontend_api:Health check passed\n"
     ]
    },
    {
     "name": "stdout",
     "output_type": "stream",
     "text": [
      "------------------------------------- Calibrates q4 for (LO, IF) = (3.828 GHz, 200.000 MHz)\n",
      "2023-11-17 00:26:07,125 - qm - INFO     - Compiling program\n"
     ]
    },
    {
     "name": "stderr",
     "output_type": "stream",
     "text": [
      "INFO:qm.QuantumMachine:Compiling program\n"
     ]
    },
    {
     "name": "stdout",
     "output_type": "stream",
     "text": [
      "Progress: [##################################################] 100.0% (n=5000/5000.0) --> elapsed time: 1244.60s\n",
      "Progress: [##################################################] 100.0% (n=5000/5000.0) --> elapsed time: 1244.75s\n",
      "2023-11-17 00:47:09,057 - qm - INFO     - Performing health check\n"
     ]
    },
    {
     "name": "stderr",
     "output_type": "stream",
     "text": [
      "INFO:qm.api.frontend_api:Performing health check\n"
     ]
    },
    {
     "name": "stdout",
     "output_type": "stream",
     "text": [
      "2023-11-17 00:47:09,066 - qm - INFO     - Health check passed\n"
     ]
    },
    {
     "name": "stderr",
     "output_type": "stream",
     "text": [
      "INFO:qm.api.frontend_api:Health check passed\n"
     ]
    },
    {
     "name": "stdout",
     "output_type": "stream",
     "text": [
      "------------------------------------- Calibrates q4 for (LO, IF) = (3.628 GHz, 200.000 MHz)\n",
      "2023-11-17 00:47:14,129 - qm - INFO     - Compiling program\n"
     ]
    },
    {
     "name": "stderr",
     "output_type": "stream",
     "text": [
      "INFO:qm.QuantumMachine:Compiling program\n"
     ]
    }
   ],
   "source": [
    "%matplotlib qt\n",
    "q_freq_max = np.floor(np.polyval(machine.qubits[qubit_index].tuning_curve, 0.0) * 1E6)\n",
    "qubit_freq_sweep = np.arange(q_freq_max, 4E9, -1E6)\n",
    "# qubit_freq_sweep = np.arange(5.7E9,4.0E9,-4E6)\n",
    "qubit_if_sweep = np.arange(-60E6, 60E6 + 1, 0.5E6)\n",
    "machine,qubit_freq_sweep,ff_sweep_abs,sig_amp_qubit = Experiment.exp2D.Rabi.qubit_freq_vs_fast_flux(qubit_freq_sweep,qubit_if_sweep,\n",
    "          qubit_index,res_index,flux_index, n_avg = 5E3, cd_time = 20E3, pi_amp_rel = 1.0, plot_flag = False)"
   ]
  },
  {
   "cell_type": "code",
   "execution_count": 59,
   "id": "f2577e29",
   "metadata": {},
   "outputs": [],
   "source": [
    "# save the fitted tuning curve\n",
    "%matplotlib qt\n",
    "poly_param = Analysis.exp2D.qubit_vs_fast_flux(qubit_freq_sweep, ff_sweep_abs, sig_amp_qubit, fit_order = 4, plot_flag = True)\n",
    "machine.qubits[qubit_index].tuning_curve = poly_param.tolist()\n",
    "machine = Analysis.set_machine(machine)\n",
    "Analysis.update_analysis_tuning_curve(qubit_index,res_index,flux_index)"
   ]
  },
  {
   "cell_type": "markdown",
   "id": "27a943af",
   "metadata": {},
   "source": [
    "# TLS experiments"
   ]
  },
  {
   "cell_type": "markdown",
   "id": "38b715fc",
   "metadata": {},
   "source": [
    "## TLS SWAP spectroscopy"
   ]
  },
  {
   "cell_type": "code",
   "execution_count": 5,
   "id": "45b5c4e7",
   "metadata": {},
   "outputs": [
    {
     "name": "stdout",
     "output_type": "stream",
     "text": [
      "2023-11-22 09:31:05,862 - qm - INFO     - Performing health check\n"
     ]
    },
    {
     "name": "stderr",
     "output_type": "stream",
     "text": [
      "INFO:qm.api.frontend_api:Performing health check\n"
     ]
    },
    {
     "name": "stdout",
     "output_type": "stream",
     "text": [
      "2023-11-22 09:31:05,876 - qm - INFO     - Health check passed\n"
     ]
    },
    {
     "name": "stderr",
     "output_type": "stream",
     "text": [
      "INFO:qm.api.frontend_api:Health check passed\n"
     ]
    },
    {
     "name": "stdout",
     "output_type": "stream",
     "text": [
      "------------------------------------- Calibrates r4 for (LO, IF) = (6.276 GHz, -50.000 MHz)\n",
      "2023-11-22 09:31:12,212 - qm - INFO     - Compiling program\n"
     ]
    },
    {
     "name": "stderr",
     "output_type": "stream",
     "text": [
      "INFO:qm.QuantumMachine:Compiling program\n"
     ]
    },
    {
     "name": "stdout",
     "output_type": "stream",
     "text": [
      "------------------------------------- Calibrates q4 for (LO, IF) = (5.779 GHz, -50.000 MHz)\n",
      "2023-11-22 09:31:24,529 - qm - INFO     - Compiling program\n"
     ]
    },
    {
     "name": "stderr",
     "output_type": "stream",
     "text": [
      "INFO:qm.QuantumMachine:Compiling program\n"
     ]
    }
   ],
   "source": [
    "machine = Analysis.get_machine()\n",
    "Experiment.octave_calibration(qubit_index,res_index,flux_index,calibration_flag = True, machine = machine)"
   ]
  },
  {
   "cell_type": "markdown",
   "id": "92c7acfa",
   "metadata": {},
   "source": [
    "### coarse, no baking"
   ]
  },
  {
   "cell_type": "code",
   "execution_count": 153,
   "id": "00622ab7",
   "metadata": {},
   "outputs": [
    {
     "name": "stdout",
     "output_type": "stream",
     "text": [
      "Progress: [##################################################] 100.0% (n=4000/4000.0) --> elapsed time: 313.78s\n",
      "Execution stopped by user!\n"
     ]
    }
   ],
   "source": [
    "%matplotlib qt\n",
    "tau_sweep_abs = np.arange(16,200,4)\n",
    "ff_sweep_abs = np.arange(0.30,0.38,0.001)\n",
    "machine, ff_sweep_abs, tau_sweep_abs, sig_amp = Experiment.exp2D.SWAP.swap_coarse(tau_sweep_abs, ff_sweep_abs, qubit_index, res_index, flux_index, \n",
    "                      n_avg = 4E3, cd_time = 20E3, simulate_flag=False, simulation_len=10_000, plot_flag=True, machine = machine)"
   ]
  },
  {
   "cell_type": "markdown",
   "id": "a4c4c8a6",
   "metadata": {},
   "source": [
    "### fine, with baking"
   ]
  },
  {
   "cell_type": "code",
   "execution_count": 319,
   "id": "9006ca81",
   "metadata": {},
   "outputs": [
    {
     "name": "stdout",
     "output_type": "stream",
     "text": [
      "Progress: [##################################################] 100.0% (n=5000/5000.0) --> elapsed time: 1876.86s\n"
     ]
    }
   ],
   "source": [
    "%matplotlib qt\n",
    "tau_sweep_abs = np.arange(4,300,1)\n",
    "ff_sweep_abs = np.arange(0.325,0.355,0.0005)\n",
    "machine, ff_sweep_abs, tau_sweep_abs, sig_amp = Experiment.exp2D.SWAP.swap_fine(tau_sweep_abs, ff_sweep_abs, qubit_index, res_index, flux_index, \n",
    "                      n_avg = 5E3, cd_time = 20E3, simulate_flag=False, simulation_len=10_000, plot_flag=True, machine = machine)"
   ]
  },
  {
   "cell_type": "code",
   "execution_count": 333,
   "id": "09ba7479",
   "metadata": {},
   "outputs": [
    {
     "data": {
      "text/plain": [
       "<matplotlib.collections.QuadMesh at 0x194d74bca30>"
      ]
     },
     "execution_count": 333,
     "metadata": {},
     "output_type": "execute_result"
    }
   ],
   "source": [
    "plt.pcolormesh(ff_sweep_abs, tau_sweep_abs, sig_amp, cmap=\"seismic\", shading='nearest')"
   ]
  },
  {
   "cell_type": "code",
   "execution_count": 324,
   "id": "165b7ac6",
   "metadata": {},
   "outputs": [
    {
     "data": {
      "text/plain": [
       "<matplotlib.colorbar.Colorbar at 0x194f6f4de20>"
      ]
     },
     "execution_count": 324,
     "metadata": {},
     "output_type": "execute_result"
    }
   ],
   "source": [
    "# FFT (note that the commented lins are sinple FFT, while what is actually being shown is the power spectrum)\n",
    "\n",
    "%matplotlib qt\n",
    "# w_tot = []\n",
    "x_f = ff_sweep_abs\n",
    "x_t = tau_sweep_abs\n",
    "y = sig_amp\n",
    "DataY_f = []\n",
    "delta = abs(x_t[0] - x_t[1]) / u.s\n",
    "Fs = 1 / delta  # Sampling frequency\n",
    "L = np.size(x_t)\n",
    "NFFT = int(2 * 2 ** np.ceil(np.log2(L)))\n",
    "Freq = Fs / 2 * np.linspace(0, 1, NFFT // 2 , endpoint=True)\n",
    "# freq =  np.fft.fftfreq(len(x_t), abs(x_t[0] - x_t[1]) / u.s)\n",
    "\n",
    "for i, v in enumerate(x_f):\n",
    "#     w = np.fft.fft([k[i] for k in y])\n",
    "#     new_w = w[1 : len(freq // 2)]\n",
    "#     new_f = freq[1 : len(freq // 2)]\n",
    "#     ind = new_f > 0\n",
    "#     new_f = new_f[ind]\n",
    "#     new_w = new_w[ind]\n",
    "#     yy = np.abs(new_w)\n",
    "#     sz_x = np.shape(new_f)\n",
    "#     sz_w = np.shape(new_w)\n",
    "#     w_tot.append(new_w) \n",
    "    Y_pow = np.fft.fft([k[i] for k in y] - np.mean([k[i] for k in y]), NFFT) / L\n",
    "    DataY = abs(Y_pow[0:(NFFT // 2)]) ** 2\n",
    "    DataY_f.append(DataY) \n",
    "\n",
    "# w_tot = np.concatenate(w_tot, axis = 0)\n",
    "# w_tot = np.transpose(np.reshape(w_tot, (np.size(x_f), sz_x[0])))\n",
    "DataY_f = np.concatenate(DataY_f, axis = 0)\n",
    "DataY_f = np.transpose(np.reshape(DataY_f, (np.size(x_f), np.shape(Freq)[0])))\n",
    "# [X, Y] = np.meshgrid(x_f, new_f)\n",
    "[X1, Y1] = np.meshgrid(x_f, Freq)\n",
    "# plt.pcolormesh(X, Y / 1e6,  np.abs(w_tot), cmap=\"seismic\")\n",
    "plt.pcolormesh(X1, Y1 / 1e6,  DataY_f, cmap=\"seismic\")\n",
    "plt.ylabel(\"Frequency [MHz]\")\n",
    "plt.xlabel(\"Flux [V]\")\n",
    "plt.colorbar()\n",
    "\n",
    "\n"
   ]
  },
  {
   "cell_type": "code",
   "execution_count": 334,
   "id": "f0e9554e",
   "metadata": {},
   "outputs": [],
   "source": [
    "machine.flux_lines[flux_index].iswap.length.append(21)\n",
    "machine.flux_lines[flux_index].iswap.level.append(0.339)\n",
    "machine = Analysis.set_machine(machine)"
   ]
  },
  {
   "cell_type": "markdown",
   "id": "e16067f7",
   "metadata": {},
   "source": [
    "## TLS T1"
   ]
  },
  {
   "cell_type": "code",
   "execution_count": 40,
   "id": "5d13b2fc",
   "metadata": {},
   "outputs": [
    {
     "name": "stdout",
     "output_type": "stream",
     "text": [
      "Progress: [##################################################] 100.0% (n=1000/1000.0) --> elapsed time: 294.66s\n",
      "1000000.0\n",
      "Progress: [##################################################] 100.0% (n=1000/1000.0) --> elapsed time: 344.56s\n",
      "2000000.0\n",
      "Progress: [##################################################] 100.0% (n=1000/1000.0) --> elapsed time: 394.62s\n",
      "Progress: [##################################################] 100.0% (n=1000/1000.0) --> elapsed time: 394.79s\n",
      "3000000.0\n",
      "Progress: [##################################################] 100.0% (n=1000/1000.0) --> elapsed time: 444.51s\n",
      "Progress: [##################################################] 100.0% (n=1000/1000.0) --> elapsed time: 444.68s\n",
      "4000000.0\n",
      "Progress: [##################################################] 100.0% (n=1000/1000.0) --> elapsed time: 494.38s\n",
      "Progress: [##################################################] 100.0% (n=1000/1000.0) --> elapsed time: 494.58s\n",
      "5000000.0\n",
      "Progress: [##################################################] 100.0% (n=1000/1000.0) --> elapsed time: 544.49s\n",
      "6000000.0\n",
      "Progress: [##################################################] 100.0% (n=1000/1000.0) --> elapsed time: 594.42s\n",
      "Progress: [##################################################] 100.0% (n=1000/1000.0) --> elapsed time: 594.66s\n",
      "7000000.0\n",
      "Progress: [##################################################] 100.0% (n=1000/1000.0) --> elapsed time: 644.27s\n",
      "8000000.0\n",
      "Progress: [##################################################] 100.0% (n=1000/1000.0) --> elapsed time: 694.28s\n",
      "Progress: [##################################################] 100.0% (n=1000/1000.0) --> elapsed time: 694.53s\n",
      "9000000.0\n",
      "Progress: [##################################################] 100.0% (n=1000/1000.0) --> elapsed time: 744.33s\n",
      "Progress: [##################################################] 100.0% (n=1000/1000.0) --> elapsed time: 744.58s\n",
      "10000000.0\n",
      "Progress: [##################################################] 100.0% (n=1000/1000.0) --> elapsed time: 1243.77s\n",
      "20000000.0\n",
      "Progress: [##################################################] 100.0% (n=1000/1000.0) --> elapsed time: 1743.53s\n",
      "30000000.0\n",
      "Execution stopped by user!\n",
      "Execution stopped by user!\n",
      "Execution stopped by user!\n",
      "Execution stopped by user!\n",
      "Execution stopped by user!\n",
      "Execution stopped by user!\n",
      "Execution stopped by user!\n",
      "Execution stopped by user!\n",
      "Execution stopped by user!\n",
      "Execution stopped by user!\n",
      "Execution stopped by user!\n",
      "Execution stopped by user!\n"
     ]
    }
   ],
   "source": [
    "%matplotlib qt\n",
    "tau_sweep_abs = np.arange(200,10E6+1,20E4)\n",
    "CD_sweep  = [1E6, 2E6, 3E6, 4E6, 5E6, 6E6, 7E6, 8E6, 9E6, 1E7, 2E7, 3E7]\n",
    "for i in CD_sweep:\n",
    "    machine, tau_sweep_abs, sig_amp = Experiment.exp1D.T1.TLS_T1(tau_sweep_abs, qubit_index, res_index, flux_index, TLS_index,\n",
    "                   n_avg = 1E3, cd_time = i, simulate_flag = False, simulation_len = 15_000, plot_flag = True)\n",
    "    print(i)"
   ]
  },
  {
   "cell_type": "code",
   "execution_count": 43,
   "id": "7cf18bfc",
   "metadata": {},
   "outputs": [],
   "source": [
    "reps = [1, 2, 7, 10, 20, 70, 100, 200, 700, 1000, 2000, 7000, 10000, 20000, 70000]\n",
    "reps = np.array(reps)\n",
    "CD_time = (reps * machine.qubits[qubit_index].T1)//4 * 4  #in ns"
   ]
  },
  {
   "cell_type": "code",
   "execution_count": 45,
   "id": "3c85f9be",
   "metadata": {},
   "outputs": [
    {
     "name": "stdout",
     "output_type": "stream",
     "text": [
      "Progress: [##################################################] 100.0% (n=1000/1000.0) --> elapsed time: 244.96s\n",
      "Progress: [##################################################] 100.0% (n=1000/1000.0) --> elapsed time: 245.00s\n",
      "Qubit T1 [us]: 1311.510670758171\n",
      "1808 1311510.670758171\n",
      "Progress: [##################################################] 100.0% (n=1000/1000.0) --> elapsed time: 245.24s\n",
      "Progress: [##################################################] 100.0% (n=1000/1000.0) --> elapsed time: 245.28s\n",
      "Qubit T1 [us]: 1427.7906532724678\n",
      "3616 1427790.653272468\n",
      "Progress: [##################################################] 100.0% (n=1000/1000.0) --> elapsed time: 246.56s\n",
      "Progress: [##################################################] 100.0% (n=1000/1000.0) --> elapsed time: 246.63s\n",
      "Qubit T1 [us]: 1545.5346850250826\n",
      "12660 1545534.6850250827\n",
      "Progress: [##################################################] 100.0% (n=1000/1000.0) --> elapsed time: 247.45s\n",
      "Progress: [##################################################] 100.0% (n=1000/1000.0) --> elapsed time: 247.48s\n",
      "Qubit T1 [us]: 1343.5854653793867\n",
      "18088 1343585.4653793867\n",
      "Progress: [##################################################] 100.0% (n=1000/1000.0) --> elapsed time: 250.15s\n",
      "Progress: [##################################################] 100.0% (n=1000/1000.0) --> elapsed time: 250.20s\n",
      "Qubit T1 [us]: 1557.844705112212\n",
      "36180 1557844.705112212\n",
      "Progress: [##################################################] 100.0% (n=1000/1000.0) --> elapsed time: 263.67s\n",
      "Progress: [##################################################] 100.0% (n=1000/1000.0) --> elapsed time: 263.70s\n",
      "Qubit T1 [us]: 1447.0116337398767\n",
      "126628 1447011.6337398768\n",
      "Progress: [##################################################] 100.0% (n=1000/1000.0) --> elapsed time: 271.83s\n",
      "Progress: [##################################################] 100.0% (n=1000/1000.0) --> elapsed time: 271.87s\n",
      "Qubit T1 [us]: 1394.8864663434242\n",
      "180900 1394886.4663434243\n",
      "Progress: [##################################################] 100.0% (n=1000/1000.0) --> elapsed time: 298.96s\n",
      "Progress: [##################################################] 100.0% (n=1000/1000.0) --> elapsed time: 299.00s\n",
      "Qubit T1 [us]: 1452.6349740772594\n",
      "361800 1452634.9740772594\n",
      "Progress: [##################################################] 100.0% (n=1000/1000.0) --> elapsed time: 434.51s\n",
      "Progress: [##################################################] 100.0% (n=1000/1000.0) --> elapsed time: 434.55s\n",
      "Qubit T1 [us]: 1482.7221523034932\n",
      "1266300 1482722.152303493\n",
      "Progress: [##################################################] 100.0% (n=1000/1000.0) --> elapsed time: 515.83s\n",
      "Progress: [##################################################] 100.0% (n=1000/1000.0) --> elapsed time: 515.87s\n",
      "Qubit T1 [us]: 1330.6241070235926\n",
      "1809000 1330624.1070235926\n",
      "Progress: [##################################################] 100.0% (n=1000/1000.0) --> elapsed time: 786.92s\n",
      "Progress: [##################################################] 100.0% (n=1000/1000.0) --> elapsed time: 786.96s\n",
      "Qubit T1 [us]: 1452.2364662006528\n",
      "3618000 1452236.4662006528\n",
      "Progress: [##################################################] 100.0% (n=1000/1000.0) --> elapsed time: 2142.32s\n",
      "Progress: [##################################################] 100.0% (n=1000/1000.0) --> elapsed time: 2142.39s\n",
      "Qubit T1 [us]: 1454.080276640557\n",
      "12663000 1454080.276640557\n",
      "Progress: [##################################################] 100.0% (n=1000/1000.0) --> elapsed time: 2955.59s\n",
      "Progress: [##################################################] 100.0% (n=1000/1000.0) --> elapsed time: 2955.65s\n",
      "Qubit T1 [us]: 1396.523094529908\n",
      "18090000 1396523.094529908\n",
      "Progress: [##################################################] 100.0% (n=1000/1000.0) --> elapsed time: 5666.29s\n",
      "Progress: [##################################################] 100.0% (n=1000/1000.0) --> elapsed time: 5666.34s\n",
      "Qubit T1 [us]: 1269.8756828575245\n",
      "36180000 1269875.6828575244\n",
      "Progress: [##################################################] 100.0% (n=1000/1000.0) --> elapsed time: 19221.33s\n",
      "Progress: [##################################################] 100.0% (n=1000/1000.0) --> elapsed time: 19221.37s\n",
      "Qubit T1 [us]: 1217.0356731018776\n",
      "126630000 1217035.6731018776\n"
     ]
    }
   ],
   "source": [
    "%matplotlib qt\n",
    "tau_sweep_abs = np.arange(200,10E6+1,20E4)\n",
    "\n",
    "reps = [1, 2, 7, 10, 20, 70, 100, 200, 700, 1000, 2000, 7000, 10000, 20000, 70000]\n",
    "reps = np.array(reps)\n",
    "CD_time = (reps * machine.qubits[qubit_index].T1)//4 * 4  #in ns\n",
    "CD_time = CD_time.tolist()\n",
    "for k in CD_time:\n",
    "    machine, tau_sweep_abs, sig_amp = Experiment.exp1D.T1.TLS_T1(tau_sweep_abs, qubit_index, res_index, flux_index, TLS_index,\n",
    "                   n_avg = 1E3, cd_time = k, simulate_flag = False, simulation_len = 15_000, plot_flag = False)\n",
    "    tls_T1 = Analysis.exp1D.T1(tau_sweep_abs,sig_amp,method = \"exp\" )\n",
    "    print(k, tls_T1)"
   ]
  },
  {
   "cell_type": "code",
   "execution_count": 37,
   "id": "990b2296",
   "metadata": {},
   "outputs": [
    {
     "data": {
      "text/plain": [
       "Text(0, 0.5, 'TLS T1 [us]')"
      ]
     },
     "execution_count": 37,
     "metadata": {},
     "output_type": "execute_result"
    }
   ],
   "source": [
    "%matplotlib qt\n",
    "reps = [1, 2, 7, 10, 20, 70, 100, 200, 700, 1000, 2000, 7000, 10000, 20000, 70000]\n",
    "T1 = [1427, 1545, 1343, 1557, 1447, 1394, 1452, 1482, 1330, 1452, 1454, 1396, 1269]\n",
    "plt.plot(reps, T1)\n",
    "plt.xlabel(\"Multiples of qubit T1 (1.8 us)\")\n",
    "plt.ylabel(\"TLS T1 [us]\")"
   ]
  },
  {
   "cell_type": "code",
   "execution_count": 66,
   "id": "e275533a",
   "metadata": {},
   "outputs": [],
   "source": [
    "tPath = os.path.join(r'Z:\\LabberData_DF5\\QM_Data_DF5','2023','11','Data_1121')\n",
    "filename = 'Q5_TLS1-T1-1121-1543'\n",
    "file = os.path.join(tPath, filename)\n",
    "file_open = sio.loadmat(file)\n",
    "%matplotlib qt\n",
    "tau_sweep_abs =file_open['TLS_tau']\n",
    "tau_sweep_abs = tau_sweep_abs[0]\n",
    "sig_amp = file_open['sig_amp']\n",
    "sig_amp = sig_amp[0]"
   ]
  },
  {
   "cell_type": "code",
   "execution_count": 13,
   "id": "d90ed2c5",
   "metadata": {},
   "outputs": [
    {
     "name": "stdout",
     "output_type": "stream",
     "text": [
      "Qubit T1 [us]: 1350.1724876170597\n"
     ]
    },
    {
     "data": {
      "image/png": "[encoded data removed]",
      "text/plain": [
       "<Figure size 600x300 with 1 Axes>"
      ]
     },
     "metadata": {},
     "output_type": "display_data"
    }
   ],
   "source": [
    "%matplotlib inline\n",
    "tls_T1 = Analysis.exp1D.T1(tau_sweep_abs,sig_amp,method = \"exp\" )"
   ]
  },
  {
   "cell_type": "markdown",
   "id": "f56bc3e8",
   "metadata": {},
   "source": [
    "## TLS drive"
   ]
  },
  {
   "cell_type": "markdown",
   "id": "3f619835",
   "metadata": {},
   "source": [
    "### TLS spectroscopy"
   ]
  },
  {
   "cell_type": "code",
   "execution_count": 357,
   "id": "e934b25b",
   "metadata": {},
   "outputs": [],
   "source": [
    "# TLS freq estimate based on SWAP flux amplitude\n",
    "TLS_freq_est = np.polyval(machine.qubits[qubit_index].tuning_curve,machine.flux_lines[flux_index].iswap.level)\n",
    "TLS_freq_est = np.round(TLS_freq_est[0] * 1E6)\n",
    "machine.qubits[qubit_index].f_tls[TLS_index+1] = (int(TLS_freq_est.tolist()))\n",
    "machine.qubits[qubit_index].lo = int(TLS_freq_est.tolist()) - 200E6"
   ]
  },
  {
   "cell_type": "code",
   "execution_count": null,
   "id": "6d802060",
   "metadata": {},
   "outputs": [],
   "source": [
    "# save the current qubit to the f_tls[0]\n",
    "machine.qubits[qubit_index].f_tls[0] = machine.qubits[qubit_index].f_01\n",
    "# set the \"qubit frequency\"\n",
    "machine.qubits[qubit_index].f_01 = machine.qubits[qubit_index].f_tls[TLS_index+1]"
   ]
  },
  {
   "cell_type": "code",
   "execution_count": null,
   "id": "c801b7a4",
   "metadata": {},
   "outputs": [],
   "source": [
    "# calibrate octave for TLS sweep\n",
    "Experiment.octave_calibration(qubit_index,res_index,flux_index,machine = machine,calibration_flag = True)"
   ]
  },
  {
   "cell_type": "code",
   "execution_count": null,
   "id": "a10a09b8",
   "metadata": {},
   "outputs": [],
   "source": [
    "%matplotlib qt\n",
    "TLS_freq_sweep = TLS_freq_est + np.arange(-70E6,70E6+1,1.0E6)\n",
    "machine, TLS_freq_sweep, sig_amp = Experiment.exp1D.Rabi.TLS_freq(TLS_freq_sweep, qubit_index, res_index, flux_index, TLS_index,\n",
    "                  pi_amp_rel = 1.0, n_avg = 2E3, cd_time_qubit = 20E3, cd_time_TLS = 20E3, simulate_flag = False, simulation_len = 10_000, plot_flag = True, machine = machine)"
   ]
  },
  {
   "cell_type": "code",
   "execution_count": null,
   "id": "8288b6fb",
   "metadata": {
    "scrolled": true
   },
   "outputs": [],
   "source": [
    "%matplotlib inline\n",
    "qubit_freq = Analysis.exp1D.peak_fit(x=TLS_freq_sweep,y=sig_amp,method=\"gaussian\")\n",
    "qubit_freq = int(qubit_freq.tolist())\n",
    "machine.qubits[qubit_index].f_tls[TLS_index+1] = qubit_freq + 0E6\n",
    "machine.qubits[qubit_index].lo = qubit_freq - 200E6\n",
    "machine = Analysis.set_machine(machine)"
   ]
  },
  {
   "cell_type": "markdown",
   "id": "8dea7ec4",
   "metadata": {},
   "source": [
    "### TLS rabi"
   ]
  },
  {
   "cell_type": "code",
   "execution_count": null,
   "id": "8f115680",
   "metadata": {},
   "outputs": [],
   "source": [
    "# save the current qubit to the f_tls[0]\n",
    "machine.qubits[qubit_index].f_tls[0] = machine.qubits[qubit_index].f_01\n",
    "# set the \"qubit frequency\"\n",
    "machine.qubits[qubit_index].f_01 = machine.qubits[qubit_index].f_tls[TLS_index+1]"
   ]
  },
  {
   "cell_type": "code",
   "execution_count": null,
   "id": "6fdb039f",
   "metadata": {},
   "outputs": [],
   "source": [
    "%matplotlib qt\n",
    "rabi_duration_sweep = np.arange(4, 300 + 0.1, 4)  # in units of clock cyles\n",
    "machine, rabi_duration_sweep, sig_amp = Experiment.exp1D.Rabi.TLS_rabi_length(rabi_duration_sweep, qubit_index, res_index, flux_index, TLS_index,\n",
    "                  pi_amp_rel = 1.0, n_avg = 10E3, cd_time_qubit = 20E3, cd_time_TLS = 20E3, simulate_flag = False, simulation_len = 10_000, plot_flag = True, machine = machine)"
   ]
  },
  {
   "cell_type": "markdown",
   "id": "59e91fe9",
   "metadata": {},
   "source": [
    "## TLS drive debug"
   ]
  },
  {
   "cell_type": "markdown",
   "id": "9d985318",
   "metadata": {},
   "source": [
    "### 1D SWAP"
   ]
  },
  {
   "cell_type": "code",
   "execution_count": null,
   "id": "8e456d8c",
   "metadata": {},
   "outputs": [],
   "source": [
    "%matplotlib qt\n",
    "tau_sweep_abs = np.arange(16,300,4)\n",
    "machine, tau_sweep_abs, sig_amp = Experiment.exp1D.SWAP.swap_coarse(tau_sweep_abs, qubit_index, res_index, flux_index, TLS_index, \n",
    "                n_avg = 4E3, cd_time = 20E3, simulate_flag=False, simulation_len=1000, plot_flag=True, machine = machine)"
   ]
  },
  {
   "cell_type": "markdown",
   "id": "c6f94d71",
   "metadata": {},
   "source": [
    "### qubit Rabi-SWAP"
   ]
  },
  {
   "cell_type": "code",
   "execution_count": null,
   "id": "b82014b1",
   "metadata": {},
   "outputs": [],
   "source": [
    "%matplotlib qt\n",
    "rabi_duration_sweep = np.arange(4, 80 + 0.1, 2)  # in units of clock cyles\n",
    "rabi_duration_sweep = rabi_duration_sweep.astype(int)\n",
    "machine, rabi_duration_sweep, sig_amp = Experiment.exp1D.SWAP.rabi_SWAP(rabi_duration_sweep, qubit_index, res_index, flux_index, TLS_index,  \n",
    "          pi_amp_rel = 1.0, n_avg = 4E3, cd_time = 20E3, plot_flag = True, machine = machine, simulate_flag = False, simulation_len = 10_000)"
   ]
  },
  {
   "cell_type": "markdown",
   "id": "f6f5d9ec",
   "metadata": {},
   "source": [
    "### SWAP-Rabi"
   ]
  },
  {
   "cell_type": "code",
   "execution_count": null,
   "id": "18beabcf",
   "metadata": {},
   "outputs": [],
   "source": [
    "%matplotlib qt\n",
    "rabi_duration_sweep = np.arange(4, 80 + 0.1, 2)  # in units of clock cyles\n",
    "rabi_duration_sweep = rabi_duration_sweep.astype(int)\n",
    "machine, rabi_duration_sweep, sig_amp = Experiment.exp1D.SWAP.SWAP_rabi(rabi_duration_sweep, qubit_index, res_index, flux_index, TLS_index,  \n",
    "          pi_amp_rel = 1.0, n_avg = 4E3, cd_time = 20E3, plot_flag = True, machine = machine, simulate_flag = False, simulation_len = 10_000)"
   ]
  },
  {
   "cell_type": "markdown",
   "id": "a398d269",
   "metadata": {},
   "source": [
    "### Rabi-SWAP-SWAP"
   ]
  },
  {
   "cell_type": "code",
   "execution_count": null,
   "id": "c3ead3c9",
   "metadata": {},
   "outputs": [],
   "source": [
    "%matplotlib qt\n",
    "rabi_duration_sweep = np.arange(4, 80 + 0.1, 2)  # in units of clock cyles\n",
    "rabi_duration_sweep = rabi_duration_sweep.astype(int)\n",
    "machine, rabi_duration_sweep, sig_amp = Experiment.exp1D.SWAP.rabi_SWAP2(rabi_duration_sweep, qubit_index, res_index, flux_index, TLS_index,  \n",
    "          pi_amp_rel = 1.0, n_avg = 4E3, cd_time = 10E3, plot_flag = True, machine = machine, simulate_flag = False, simulation_len = 10_000)"
   ]
  },
  {
   "cell_type": "code",
   "execution_count": null,
   "id": "c14fe89d",
   "metadata": {},
   "outputs": [],
   "source": []
  },
  {
   "cell_type": "code",
   "execution_count": null,
   "id": "0cb677b2",
   "metadata": {},
   "outputs": [],
   "source": []
  },
  {
   "cell_type": "code",
   "execution_count": null,
   "id": "07ea4442",
   "metadata": {},
   "outputs": [],
   "source": []
  }
 ],
 "metadata": {
  "kernelspec": {
   "display_name": "Python 3 (ipykernel)",
   "language": "python",
   "name": "python3"
  },
  "language_info": {
   "codemirror_mode": {
    "name": "ipython",
    "version": 3
   },
   "file_extension": ".py",
   "mimetype": "text/x-python",
   "name": "python",
   "nbconvert_exporter": "python",
   "pygments_lexer": "ipython3",
   "version": "3.8.17"
  }
 },
 "nbformat": 4,
 "nbformat_minor": 5
}
