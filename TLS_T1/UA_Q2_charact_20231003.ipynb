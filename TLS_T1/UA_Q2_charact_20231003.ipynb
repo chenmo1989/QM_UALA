{
 "cells": [
  {
   "cell_type": "markdown",
   "id": "a0f581de",
   "metadata": {},
   "source": [
    "## UA Q2 basic characterization"
   ]
  },
  {
   "cell_type": "markdown",
   "id": "5c608151",
   "metadata": {},
   "source": [
    "includes RR, ESR, Rabi, T1"
   ]
  },
  {
   "cell_type": "markdown",
   "id": "469d6164",
   "metadata": {},
   "source": [
    "## Header that we always run"
   ]
  },
  {
   "cell_type": "code",
   "execution_count": 87,
   "id": "be408f45",
   "metadata": {},
   "outputs": [],
   "source": [
    "# set up non-QM hardware\n",
    "import Labber\n",
    "# connect to server \n",
    "client = Labber.connectToServer('localhost') # get list of instruments \n",
    "#instruments = client.getListOfInstrumentsString() \n",
    "#for instr in instruments: \n",
    "#    print(instr) # close connection \n",
    "\n",
    "# reset all QDevil channels to 0 V\n",
    "QDevil = client.connectToInstrument('QDevil QDAC', dict(interface='Serial', address='3'))\n",
    "for n in range(24):\n",
    "    if n+1 < 10:\n",
    "        QDevil.setValue(\"CH0\" + str(n+1) + \" Voltage\", 0.0)\n",
    "    else:\n",
    "        QDevil.setValue(\"CH\" + str(n+1) + \" Voltage\", 0.0)\n",
    "\n",
    "DC_ss = 0\n",
    "QDevil.setValue(\"CH02 Voltage\", DC_ss)\n",
    "\n",
    "\n",
    "# digital attenuators\n",
    "Vaunix1 = client.connectToInstrument('Painter Vaunix Lab Brick Digital Attenuator', dict(interface='USB', address='25606'))\n",
    "Vaunix2 = client.connectToInstrument('Painter Vaunix Lab Brick Digital Attenuator', dict(interface='USB', address='25607'))\n",
    "ROI = 38\n",
    "ROO = 10\n",
    "Vaunix1.setValue(\"Attenuation\", ROI)\n",
    "Vaunix2.setValue(\"Attenuation\", ROO)\n",
    "\n",
    "# TWPA pump\n",
    "SG = client.connectToInstrument('Rohde&Schwarz RF Source', dict(interface='TCPIP', address='192.168.88.2'))\n",
    "freq_TWPA = 6326E6;\n",
    "pwr_TWPA = -10;\n",
    "SG.setValue('Frequency', freq_TWPA)\n",
    "SG.setValue('Power', pwr_TWPA)\n",
    "\n",
    "client.close()"
   ]
  },
  {
   "cell_type": "code",
   "execution_count": 9,
   "id": "dae0e896",
   "metadata": {},
   "outputs": [],
   "source": [
    "from qm.qua import *\n",
    "from qm.QuantumMachinesManager import QuantumMachinesManager\n",
    "from qm import SimulationConfig, LoopbackInterface\n",
    "from qm.octave import *\n",
    "from qm.octave.octave_manager import ClockMode\n",
    "from configuration import *\n",
    "import matplotlib.pyplot as plt\n",
    "import numpy as np\n",
    "from scipy import signal\n",
    "from qm import SimulationConfig\n",
    "from qualang_tools.bakery import baking\n",
    "from qualang_tools.units import unit\n",
    "import qdac as qdac\n",
    "from scipy.io import savemat\n",
    "from scipy.io import loadmat\n",
    "from scipy.optimize import curve_fit\n",
    "from scipy.signal import savgol_filter\n",
    "from qutip import *\n",
    "import datetime \n",
    "import os\n",
    "import time\n",
    "import warnings\n",
    "from qm import generate_qua_script\n",
    "\n",
    "warnings.filterwarnings(\"ignore\")\n",
    "\n",
    "def wait_until_job_is_paused(current_job):\n",
    "    \"\"\"\n",
    "    Waits until the OPX FPGA reaches the pause statement.\n",
    "    Used when the OPX sequence needs to be synchronized with an external parameter sweep.\n",
    "\n",
    "    :param current_job: the job object.\n",
    "    \"\"\"\n",
    "    while not current_job.is_paused():\n",
    "        time.sleep(0.01)\n",
    "        pass\n",
    "    return True\n",
    "\n",
    "qubit_index = 0 # for UA Q1\n",
    "\n",
    "now = datetime.datetime.now()\n",
    "year = now.strftime(\"%Y\")\n",
    "month = now.strftime(\"%m\")\n",
    "day = now.strftime(\"%d\")\n",
    "\n",
    "tPath = os.path.join(r'Z:\\LabberData_DF5\\QM_Data_DF5',year,month,'Data_'+month+day)\n",
    "if not os.path.exists(tPath):\n",
    "   os.makedirs(tPath)"
   ]
  },
  {
   "cell_type": "markdown",
   "id": "d27b2108",
   "metadata": {},
   "source": [
    "## Fitting functions"
   ]
  },
  {
   "cell_type": "code",
   "execution_count": 3,
   "id": "f890284c",
   "metadata": {},
   "outputs": [],
   "source": [
    "# fitting functions\n",
    "def ESR_Shape( x, amp, sigma, x0, c ):\n",
    "    return amp * sigma**2 / ( sigma**2 + ( x - x0 )**2) + c \n",
    "\n",
    "def ESR_Shape_double( x, amp, sigma, x0, c, amp2, sigma2, x02 ):\n",
    "    return amp * sigma**2 / ( sigma**2 + ( x - x0 )**2) + c + amp2 * sigma2**2 / ( sigma2**2 + ( x - x02 )**2)\n",
    "\n",
    "def Rabi_Shape( x, amp, f, phi, c):\n",
    "    return amp * np.cos(2 * np.pi * f * x + phi) + c\n",
    "\n",
    "def exp_decay( t, A, T1, c):\n",
    "    return A*np.exp(-t/T1)+c\n",
    "\n",
    "def Phi_flux_RR(flux, c, phi0):\n",
    "    # Argument for the cosine flux tuning curve\n",
    "    return 2*np.pi*c*flux + phi0\n",
    "\n",
    "## Second order polynomial fit \n",
    "def poly2(x, a, b, c):\n",
    "        return a * (x**2) + b * x + c\n",
    "\n",
    "def ham(flux, out, wr, Ec, Ej, c, phi0, g):\n",
    "    # Hamiltonian function\n",
    "    # The flux is the independent variable\n",
    "    # The following are fitting parameters: wr, Ec, Ej, c, phi0, g\n",
    "    # The output is the resonator frequency for all the input flux values\n",
    "    # The output frequency array is in units of MHz\n",
    "\n",
    "    N = 4 # 0-3 photons\n",
    "\n",
    "    a = tensor(destroy(N), qeye(N)) # cavity mode\n",
    "    b = tensor(qeye(N), destroy(N)) # qubit\n",
    "\n",
    "    f_ham = []\n",
    "\n",
    "    # Hamiltonian as a function of flux\n",
    "    for k in range(np.size(flux)):\n",
    "        H = wr*a.dag()*a + (np.sqrt(8*Ec*Ej*np.abs(np.cos(Phi_flux_RR(flux[k],c, phi0))))-Ec)*b.dag()*b - Ec/2*b.dag()*b.dag()*b*b + g*(a*b.dag()+a.dag()*b)\n",
    "        w, v = np.linalg.eig(H)\n",
    "        \n",
    "        for n_1 in range(v.shape[1]):\n",
    "            v[:,n_1] = v[:,n_1]/np.inner(v[:,n_1],v[:,n_1])\n",
    "\n",
    "            idx_00 = np.argmax(np.abs(v[0,:])) # |0,0>\n",
    "            idx_01 = np.argmax(np.abs(v[N,:])) # |1,0> photon\n",
    "            idx_02 = np.argmax(np.abs(v[1,:])) # |0,1> qubit\n",
    "        if out == 1:\n",
    "            f_ham.append(np.abs(np.maximum(w[idx_01],w[idx_02]) - w[idx_00]))\n",
    "        elif out==2:\n",
    "            f_ham.append(np.abs(np.minimum(w[idx_01],w[idx_02]) - w[idx_00]))\n",
    "        else:\n",
    "            pass\n",
    "    f_ham = np.array(f_ham)\n",
    "    return f_ham\n",
    "\n",
    "\n",
    "def ESR_4th(arr_sz, num_steps, SS, *popt):\n",
    "    # Computes ESR freqeuncies as a function of flux.\n",
    "    # It creates a flux array based on two input parameters:\n",
    "    # arr_sz: endpoint of array. Since it is symmetric, it is the same value\n",
    "    # num_steps: number of flux points \n",
    "    # fits that to a Hamiltonian shifted by the SS so that it is centered at zero\n",
    "    # and uses this to perform a fit to a fourth order polynomial with only even terms.\n",
    "    # The function finally outputs the ESR frequencies as a function of flux\n",
    "    x_fit_r = np.array([np.linspace(-arr_sz, arr_sz, num_steps)])\n",
    "    y_fit_r = ham(x_fit_r - np.abs(SS), 2, *popt)\n",
    "    Q_fit_p4_r = np.polyfit(x_fit_r, y_fit_r, 4)\n",
    "    return Q_fit_p4_r[0]* x_fit_r**4 + Q_fit_p4_r[2] * x_fit_r**2 + Q_fit_p4_r[4]\n"
   ]
  },
  {
   "cell_type": "markdown",
   "id": "4919223f",
   "metadata": {},
   "source": [
    "## RR spectroscopy"
   ]
  },
  {
   "cell_type": "code",
   "execution_count": 122,
   "id": "2020cb17",
   "metadata": {},
   "outputs": [
    {
     "name": "stdout",
     "output_type": "stream",
     "text": [
      "Start running ...\n",
      "2023-10-04 13:12:20,519 - qm - INFO     - Performing health check\n"
     ]
    },
    {
     "name": "stderr",
     "output_type": "stream",
     "text": [
      "INFO:qm.api.frontend_api:Performing health check\n"
     ]
    },
    {
     "name": "stdout",
     "output_type": "stream",
     "text": [
      "2023-10-04 13:12:20,526 - qm - INFO     - Health check passed\n"
     ]
    },
    {
     "name": "stderr",
     "output_type": "stream",
     "text": [
      "INFO:qm.api.frontend_api:Health check passed\n"
     ]
    },
    {
     "name": "stdout",
     "output_type": "stream",
     "text": [
      "2023-10-04 13:12:21,871 - qm - INFO     - Sending program to QOP for compilation\n"
     ]
    },
    {
     "name": "stderr",
     "output_type": "stream",
     "text": [
      "INFO:qm.api.frontend_api:Sending program to QOP for compilation\n"
     ]
    },
    {
     "name": "stdout",
     "output_type": "stream",
     "text": [
      "2023-10-04 13:12:22,138 - qm - INFO     - Executing program\n"
     ]
    },
    {
     "name": "stderr",
     "output_type": "stream",
     "text": [
      "INFO:qm.QuantumMachine:Executing program\n"
     ]
    },
    {
     "name": "stdout",
     "output_type": "stream",
     "text": [
      "Progress: [##################################################] 100.0% (n=5000/5000) --> elapsed time: 41.32s\n",
      "Progress: [##################################################] 100.0% (n=5000/5000) --> elapsed time: 41.41s\n",
      "Execution stopped by user!\n"
     ]
    }
   ],
   "source": [
    "%matplotlib qt\n",
    "print(\"Start running ...\")\n",
    "\n",
    "now = datetime.datetime.now()\n",
    "month = now.strftime(\"%m\")\n",
    "day = now.strftime(\"%d\")\n",
    "hour = now.strftime(\"%H\")\n",
    "minute = now.strftime(\"%M\")\n",
    "\n",
    "exp_name = 'RR_spec'\n",
    "qubit_name = 'UA_Q2'\n",
    "\n",
    "f_str = qubit_name + '_' + exp_name + '_' + month + day + '-' + hour + minute\n",
    "file_name= f_str + '.mat'\n",
    "json_name = f_str + '_state.json'\n",
    "\n",
    "# Set-up the machine and get the config #\n",
    "machine = QuAM(\"quam_state.json\")\n",
    "config = build_config(machine)\n",
    "\n",
    "qubit_index = 1\n",
    "res_if = machine.resonators[qubit_index].f_readout - machine.resonators[qubit_index].lo\n",
    "n_avg = 5_000\n",
    "cooldown_time = 20_000 # convert to ns in the wait function!\n",
    "\n",
    "# The QUA program #\n",
    "RR_freq_sweep = np.arange(-20e6, 20e6, 0.1e6)\n",
    "RR_freq_sweep = RR_freq_sweep.astype(int)\n",
    "\n",
    "with program() as resonator_spec:\n",
    "    n = declare(int)\n",
    "    n_st = declare_stream()\n",
    "    df = declare(int)\n",
    "    I = declare(fixed)\n",
    "    Q = declare(fixed)\n",
    "    I_st = declare_stream()\n",
    "    Q_st = declare_stream()\n",
    "\n",
    "    with for_(n, 0, n < n_avg, n + 1):\n",
    "        save(n, n_st)\n",
    "        with for_(*from_array(df, RR_freq_sweep)):\n",
    "            update_frequency(machine.resonators[qubit_index].name, df + res_if)\n",
    "            #play(\"pi\" * amp(1.0), machine.qubits[qubit_index].name)\n",
    "            #align(machine.qubits[qubit_index].name, machine.resonators[qubit_index].name)\n",
    "            measure(\n",
    "                \"readout\"*amp(1),\n",
    "                machine.resonators[qubit_index].name,\n",
    "                None,\n",
    "                dual_demod.full(\"cos\", \"out1\", \"sin\", \"out2\", I),\n",
    "                dual_demod.full(\"minus_sin\", \"out1\", \"cos\", \"out2\", Q),\n",
    "            )\n",
    "            wait(cooldown_time * u.ns, machine.resonators[qubit_index].name)\n",
    "            save(I, I_st)\n",
    "            save(Q, Q_st)\n",
    "\n",
    "    with stream_processing():\n",
    "        n_st.save('iteration')\n",
    "        I_st.buffer(len(RR_freq_sweep)).average().save(\"I\")\n",
    "        Q_st.buffer(len(RR_freq_sweep)).average().save(\"Q\")\n",
    "\n",
    "#  Open Communication with the QOP  #\n",
    "# qmm = QuantumMachinesManager(machine.network.qop_ip, cluster_name=machine.network.cluster_name, octave=octave_config)\n",
    "# qmm = QuantumMachinesManager(machine.network.qop_ip, port = '9510', octave=octave_config, log_level = \"ERROR\")\n",
    "qmm = QuantumMachinesManager(machine.network.qop_ip, port = '9510', octave=octave_config)\n",
    "\n",
    "# Simulate or execute #\n",
    "simulate = False # simulation is useful to see the sequence, especially the timing (clock cycle vs ns)\n",
    "\n",
    "if simulate:\n",
    "    simulation_config = SimulationConfig(duration=1000)\n",
    "    job = qmm.simulate(config, resonator_spec, simulation_config)\n",
    "    job.get_simulated_samples().con1.plot()\n",
    "else:\n",
    "    qm = qmm.open_qm(config)\n",
    "    job = qm.execute(resonator_spec)\n",
    "    # Get results from QUA program\n",
    "    results = fetching_tool(job, data_list=[\"I\", \"Q\", \"iteration\"], mode=\"live\")\n",
    "    # Live plotting\n",
    "    %matplotlib qt\n",
    "    fig = plt.figure()\n",
    "    plt.rcParams['figure.figsize'] = [12, 8]\n",
    "    interrupt_on_close(fig, job)  # Interrupts the job when closing the figure\n",
    "    while results.is_processing():\n",
    "        # Fetch results\n",
    "        I, Q, iteration = results.fetch_all()\n",
    "        I = u.demod2volts(I, machine.resonators[qubit_index].readout_pulse_length)\n",
    "        Q = u.demod2volts(Q, machine.resonators[qubit_index].readout_pulse_length)\n",
    "        # progress bar\n",
    "        progress_counter(iteration, n_avg, start_time=results.get_start_time())\n",
    "        plt.cla()\n",
    "        plt.title(\"Resonator spectroscopy\")\n",
    "        plt.plot((machine.resonators[qubit_index].f_readout + RR_freq_sweep ) / u.MHz, np.sqrt(I**2 +  Q**2), \".\")\n",
    "        plt.xlabel(\"Frequency [MHz]\")\n",
    "        plt.ylabel(r\"$\\sqrt{I^2 + Q^2}$ [V]\")\n"
   ]
  },
  {
   "cell_type": "code",
   "execution_count": 121,
   "id": "b36e896a",
   "metadata": {},
   "outputs": [
    {
     "ename": "ValueError",
     "evalue": "too many values to unpack (expected 3)",
     "output_type": "error",
     "traceback": [
      "\u001b[1;31m---------------------------------------------------------------------------\u001b[0m",
      "\u001b[1;31mValueError\u001b[0m                                Traceback (most recent call last)",
      "Cell \u001b[1;32mIn[121], line 3\u001b[0m\n\u001b[0;32m      1\u001b[0m \u001b[38;5;66;03m# Fetch results\u001b[39;00m\n\u001b[0;32m      2\u001b[0m get_ipython()\u001b[38;5;241m.\u001b[39mrun_line_magic(\u001b[38;5;124m'\u001b[39m\u001b[38;5;124mmatplotlib\u001b[39m\u001b[38;5;124m'\u001b[39m, \u001b[38;5;124m'\u001b[39m\u001b[38;5;124mqt\u001b[39m\u001b[38;5;124m'\u001b[39m)\n\u001b[1;32m----> 3\u001b[0m I, Q, iteration \u001b[38;5;241m=\u001b[39m results\u001b[38;5;241m.\u001b[39mfetch_all()\n\u001b[0;32m      4\u001b[0m \u001b[38;5;66;03m# Convert I & Q to Volts\u001b[39;00m\n\u001b[0;32m      5\u001b[0m I \u001b[38;5;241m=\u001b[39m u\u001b[38;5;241m.\u001b[39mdemod2volts(I, machine\u001b[38;5;241m.\u001b[39mresonators[qubit_index]\u001b[38;5;241m.\u001b[39mreadout_pulse_length)\n",
      "\u001b[1;31mValueError\u001b[0m: too many values to unpack (expected 3)"
     ]
    }
   ],
   "source": [
    "# Fetch results\n",
    "%matplotlib qt\n",
    "I, Q, iteration = results.fetch_all()\n",
    "# Convert I & Q to Volts\n",
    "I = u.demod2volts(I, machine.resonators[qubit_index].readout_pulse_length)\n",
    "Q = u.demod2volts(Q, machine.resonators[qubit_index].readout_pulse_length)\n",
    "sig_amp = np.sqrt(I**2 + Q**2)\n",
    "# detrend removes the linear increase of phase\n",
    "sig_phase = signal.detrend(np.unwrap(np.angle(I + 1j * Q)))\n",
    "idx = np.argmin(sig_amp) # find minimum\n",
    "print(f\"IF offset to add to IF: {RR_freq_sweep[idx] / u.MHz:.6f} MHz\")\n",
    "\n",
    "plt.close('all')\n",
    "%matplotlib inline\n",
    "# 1D spectroscopy plot\n",
    "fig = plt.figure(figsize=[8, 4])\n",
    "plt.title(\"Resonator spectroscopy\")\n",
    "plt.plot((machine.resonators[qubit_index].f_readout + RR_freq_sweep ) / u.MHz, sig_amp, \".\")\n",
    "plt.xlabel(\"Frequency [MHz]\")\n",
    "plt.ylabel(r\"$\\sqrt{I^2 + Q^2}$ [V]\")\n",
    "plt.axvline(x = (machine.resonators[qubit_index].f_readout + RR_freq_sweep[idx]) / u.MHz)"
   ]
  },
  {
   "cell_type": "code",
   "execution_count": 19,
   "id": "9b60b360",
   "metadata": {},
   "outputs": [],
   "source": [
    "savemat(os.path.join(tPath, file_name), {\"RR_freq\": machine.resonators[qubit_index].f_readout + RR_freq_sweep, \"sig_amp\": sig_amp, \"sig_phase\": sig_phase, \"DC_CH07\": 0, \"ROI\": ROI, \"ROO\": ROO, \"freq_TWPA\": freq_TWPA, \"pwr_TWPA\": pwr_TWPA})\n",
    "machine._save(os.path.join(tPath, json_name), flat_data=False)"
   ]
  },
  {
   "cell_type": "code",
   "execution_count": 101,
   "id": "efb4e463",
   "metadata": {},
   "outputs": [],
   "source": [
    "# Modify machine and save\n",
    "machine.resonators[qubit_index].f_readout += 1.8E6\n",
    "# machine.resonators[qubit_index].readout_pulse_amp=0.3*0.8\n",
    "# machine.resonators[qubit_index].lo = machine.resonators[qubit_index].f_readout + 50E6\n",
    "machine._save(\"quam_state.json\", flat_data=False)"
   ]
  },
  {
   "cell_type": "code",
   "execution_count": null,
   "id": "53dcff05",
   "metadata": {},
   "outputs": [],
   "source": [
    "# This can be used to load specific data files to plot the resonator when qubit is at |e> and |g>\n",
    "file_name = 'UA_Q2_RR_spec_0830-1038'\n",
    "data = loadmat(os.path.join(tPath, file_name))\n",
    "freq = data['RR_freq'][0]\n",
    "sig = data['sig']\n",
    "\n",
    "file_name_g = 'UA_Q2_RR_spec_0830-1036'\n",
    "data = loadmat(os.path.join(tPath, file_name_g))\n",
    "freq_g = data['RR_freq'][0]\n",
    "sig_g = data['sig']\n",
    "\n",
    "fig = plt.figure(figsize=[8, 4])\n",
    "plt.title(\"Resonator spectroscopy\")\n",
    "plt.plot(freq , sig.T, \".\")\n",
    "plt.plot(freq_g , sig_g.T, \".\")         \n",
    "plt.xlabel(\"Frequency [MHz]\")\n",
    "plt.ylabel(r\"$\\sqrt{I^2 + Q^2}$ [V]\")\n",
    "plt.legend([\"e\", \"g\"])"
   ]
  },
  {
   "cell_type": "markdown",
   "id": "21784bee",
   "metadata": {},
   "source": [
    "## Flux sweep"
   ]
  },
  {
   "cell_type": "code",
   "execution_count": 106,
   "id": "41512a9d",
   "metadata": {
    "scrolled": true
   },
   "outputs": [
    {
     "name": "stdout",
     "output_type": "stream",
     "text": [
      "Start running ...\n",
      "2023-10-04 12:05:06,663 - qm - INFO     - Performing health check\n"
     ]
    },
    {
     "name": "stderr",
     "output_type": "stream",
     "text": [
      "INFO:qm.api.frontend_api:Performing health check\n"
     ]
    },
    {
     "name": "stdout",
     "output_type": "stream",
     "text": [
      "2023-10-04 12:05:06,672 - qm - INFO     - Health check passed\n"
     ]
    },
    {
     "name": "stderr",
     "output_type": "stream",
     "text": [
      "INFO:qm.api.frontend_api:Health check passed\n"
     ]
    },
    {
     "name": "stdout",
     "output_type": "stream",
     "text": [
      "2023-10-04 12:05:07,791 - qm - INFO     - Sending program to QOP for compilation\n"
     ]
    },
    {
     "name": "stderr",
     "output_type": "stream",
     "text": [
      "INFO:qm.api.frontend_api:Sending program to QOP for compilation\n"
     ]
    },
    {
     "name": "stdout",
     "output_type": "stream",
     "text": [
      "2023-10-04 12:05:08,035 - qm - INFO     - Executing program\n"
     ]
    },
    {
     "name": "stderr",
     "output_type": "stream",
     "text": [
      "INFO:qm.QuantumMachine:Executing program\n"
     ]
    },
    {
     "name": "stdout",
     "output_type": "stream",
     "text": [
      "Progress: [##################################################] 100.0% (n=51/51)\n"
     ]
    },
    {
     "data": {
      "text/plain": [
       "True"
      ]
     },
     "execution_count": 106,
     "metadata": {},
     "output_type": "execute_result"
    },
    {
     "name": "stdout",
     "output_type": "stream",
     "text": [
      "Execution stopped by user!\n"
     ]
    }
   ],
   "source": [
    "print(\"Start running ...\")\n",
    "\n",
    "now = datetime.datetime.now()\n",
    "month = now.strftime(\"%m\")\n",
    "day = now.strftime(\"%d\")\n",
    "hour = now.strftime(\"%H\")\n",
    "minute = now.strftime(\"%M\")\n",
    "\n",
    "exp_name = 'RR_spec_flux_sweep'\n",
    "qubit_name = 'UA_Q2'\n",
    "\n",
    "f_str = qubit_name + '_' + exp_name + '_' + month + day + '-' + hour + minute\n",
    "file_name= f_str+'.mat'\n",
    "json_name = f_str + '_state.json'\n",
    "\n",
    "\n",
    "# Set-up the machine and get the config #\n",
    "machine = QuAM(\"quam_state.json\")\n",
    "config = build_config(machine)\n",
    "\n",
    "# Program-specific variables #\n",
    "n_avg = 5000  # Number of averaging loops\n",
    "\n",
    "cooldown_time = 20_000  # Resonator cooldown time, convert to ns in the wait() function \n",
    "flux_settle_time = 250  # Flux settle time for fast flux\n",
    "\n",
    "dc_flux_sweep = np.arange(-5,5 + 0.1,0.2)\n",
    "RR_freq_sweep = np.arange(-7.5e6, 5e6, 0.5e6)\n",
    "\n",
    "\n",
    "res_if = machine.resonators[qubit_index].f_readout - machine.resonators[qubit_index].lo\n",
    "\n",
    "client = Labber.connectToServer('localhost') # get list of instruments \n",
    "QDevil = client.connectToInstrument('QDevil QDAC', dict(interface='Serial', address='3'))\n",
    "qubit_index = 1\n",
    "start_time = time.time()\n",
    "\n",
    "with program() as resonator_spec_2D:\n",
    "    n = declare(int)  # Averaging index\n",
    "    i = declare(int)  # DC sweep index\n",
    "    df = declare(int)  # Resonator frequency\n",
    "    I = declare(fixed)\n",
    "    Q = declare(fixed)\n",
    "    I_st = declare_stream()\n",
    "    Q_st = declare_stream()\n",
    "    n_st = declare_stream()\n",
    "\n",
    "    with for_(i, 0, i < len(dc_flux_sweep) + 1, i + 1):\n",
    "        # The QUA program #\n",
    "        pause()\n",
    "        with for_(n, 0, n < n_avg, n + 1):\n",
    "            with for_(*from_array(df, RR_freq_sweep)):\n",
    "                # Update the resonator frequency\n",
    "                update_frequency(machine.resonators[qubit_index].name, df + res_if)\n",
    "                # Measure the resonator\n",
    "                measure(\n",
    "                    \"readout\",\n",
    "                    machine.resonators[qubit_index].name,\n",
    "                    None,\n",
    "                    dual_demod.full(\"cos\", \"out1\", \"sin\", \"out2\", I),\n",
    "                    dual_demod.full(\"minus_sin\", \"out1\", \"cos\", \"out2\", Q),\n",
    "                )\n",
    "                # Wait for the resonator to cooldown\n",
    "                wait(cooldown_time * u.ns, machine.resonators[qubit_index].name)\n",
    "                # Save data to the stream processing\n",
    "                save(I, I_st)\n",
    "                save(Q, Q_st)\n",
    "        save(i, n_st)\n",
    "\n",
    "    with stream_processing():\n",
    "        I_st.buffer(len(RR_freq_sweep)).buffer(n_avg).map(FUNCTIONS.average()).save_all(\"I\")\n",
    "        Q_st.buffer(len(RR_freq_sweep)).buffer(n_avg).map(FUNCTIONS.average()).save_all(\"Q\")\n",
    "        n_st.save_all(\"iteration\")\n",
    "\n",
    "###############\n",
    "# Run Program #\n",
    "###############\n",
    "#  Open Communication with the QOP  #\n",
    "# qmm = QuantumMachinesManager(machine.network.qop_ip, cluster_name=machine.network.cluster_name, octave=octave_config)\n",
    "# qmm = QuantumMachinesManager(machine.network.qop_ip, port = '9510', octave=octave_config, log_level = \"ERROR\")\n",
    "qmm = QuantumMachinesManager(machine.network.qop_ip, port = '9510', octave=octave_config)\n",
    "\n",
    "qm = qmm.open_qm(config)\n",
    "job = qm.execute(resonator_spec_2D)\n",
    "# Creates results handles to fetch the data\n",
    "res_handles = job.result_handles\n",
    "I_handle = res_handles.get(\"I\")\n",
    "Q_handle = res_handles.get(\"Q\")\n",
    "n_handle = res_handles.get(\"iteration\")\n",
    "\n",
    "# Initialize empty vectors to store the global 'I' & 'Q' results\n",
    "I_tot = []\n",
    "Q_tot = []\n",
    "# Live plotting\n",
    "fig = plt.figure()\n",
    "plt.rcParams['figure.figsize'] = [8, 4]\n",
    "interrupt_on_close(fig, job)  # Interrupts the job when closing the figure\n",
    "\n",
    "for i in range(len(dc_flux_sweep)):\n",
    "    # set QDAC voltage\n",
    "    dc_flux = dc_flux_sweep[i]\n",
    "    QDevil.setValue(\"CH02 Voltage\", dc_flux)\n",
    "    # Resume the QUA program\n",
    "    job.resume()\n",
    "    # Wait until the program reaches the 'pause' statement again, indicating that the QUA program is done\n",
    "    wait_until_job_is_paused(job)\n",
    "    \n",
    "    # Wait until the data of this run is processed by the stream processing\n",
    "    I_handle.wait_for_values(i + 1)\n",
    "    Q_handle.wait_for_values(i + 1)\n",
    "    n_handle.wait_for_values(i + 1)\n",
    "    \n",
    "    # Fetch the data from the last OPX run corresponding to the current LO frequency\n",
    "    I = np.concatenate(I_handle.fetch(i)[\"value\"])\n",
    "    Q = np.concatenate(Q_handle.fetch(i)[\"value\"])\n",
    "    iteration = n_handle.fetch(i)[\"value\"][0]\n",
    "    # Update the list of global results\n",
    "    I_tot.append(I)\n",
    "    Q_tot.append(Q)\n",
    "    # Progress bar\n",
    "    progress_counter(iteration, len(dc_flux_sweep))\n",
    "    \n",
    "    # Convert results into Volts\n",
    "    sigs = u.demod2volts(I + 1j * Q, machine.resonators[qubit_index].readout_pulse_length)\n",
    "    sig_amp = np.abs(sigs)  # Amplitude\n",
    "    sig_phase = np.angle(sigs)  # Phase\n",
    "    # Plot results\n",
    "    plt.suptitle(\"RR spectroscopy\")\n",
    "    plt.title(\"Resonator spectroscopy\")\n",
    "    plt.plot((machine.resonators[qubit_index].f_readout + RR_freq_sweep ) / u.MHz, sig_amp, \".\")\n",
    "    plt.xlabel(\"Frequency [MHz]\")\n",
    "    plt.ylabel(r\"$\\sqrt{I^2 + Q^2}$ [V]\")\n",
    "\n",
    "# Interrupt the FPGA program\n",
    "job.halt()"
   ]
  },
  {
   "cell_type": "code",
   "execution_count": 43,
   "id": "726666a5",
   "metadata": {},
   "outputs": [],
   "source": [
    "client.close()"
   ]
  },
  {
   "cell_type": "markdown",
   "id": "8a621018",
   "metadata": {},
   "source": [
    "### Process the data from experimental run"
   ]
  },
  {
   "cell_type": "code",
   "execution_count": 107,
   "id": "562c384f",
   "metadata": {},
   "outputs": [
    {
     "data": {
      "text/plain": [
       "<matplotlib.colorbar.Colorbar at 0x1beef2e1c10>"
      ]
     },
     "execution_count": 107,
     "metadata": {},
     "output_type": "execute_result"
    }
   ],
   "source": [
    "%matplotlib qt\n",
    "I = np.concatenate(I_tot)\n",
    "Q = np.concatenate(Q_tot)\n",
    "sigs = u.demod2volts(I + 1j * Q, machine.resonators[qubit_index].readout_pulse_length)\n",
    "sig_amp = np.abs(sigs)  # Amplitude\n",
    "sig_phase = np.angle(sigs)  # Phase\n",
    "\n",
    "# Final plot\n",
    "\n",
    "sig = np.reshape(sig_amp, (np.size(dc_flux_sweep), np.size(machine.resonators[qubit_index].f_readout + RR_freq_sweep)))\n",
    "phase = np.reshape(sig_phase, (np.size(dc_flux_sweep), np.size(machine.resonators[qubit_index].f_readout + RR_freq_sweep)))\n",
    "fig = plt.figure()\n",
    "plt.rcParams['figure.figsize'] = [8, 4]\n",
    "plt.cla()\n",
    "\n",
    "# 2D spectroscopy plot\n",
    "plt.title(\"Resonator spectroscopy tuning curve\")\n",
    "plt.pcolormesh( np.linspace(np.min(dc_flux_sweep), np.max(dc_flux_sweep), np.size(dc_flux_sweep)),\n",
    "               np.linspace(np.min(machine.resonators[qubit_index].f_readout + RR_freq_sweep), \n",
    "                           np.max(machine.resonators[qubit_index].f_readout + RR_freq_sweep), \n",
    "                           np.size(machine.resonators[qubit_index].f_readout + RR_freq_sweep))/1e6, \n",
    "               sig.T, shading=\"nearest\", cmap=\"seismic\")\n",
    "plt.xlabel(\"DC flux level [V]\")\n",
    "plt.ylabel(\"Frequency [MHz]\")\n",
    "plt.colorbar()\n"
   ]
  },
  {
   "cell_type": "code",
   "execution_count": 108,
   "id": "067e1a2e",
   "metadata": {},
   "outputs": [
    {
     "data": {
      "text/plain": [
       "<matplotlib.legend.Legend at 0x1befa3a2610>"
      ]
     },
     "execution_count": 108,
     "metadata": {},
     "output_type": "execute_result"
    }
   ],
   "source": [
    "%matplotlib qt\n",
    "I = np.concatenate(I_tot)\n",
    "Q = np.concatenate(Q_tot)\n",
    "sigs = u.demod2volts(I + 1j * Q, machine.resonators[qubit_index].readout_pulse_length)\n",
    "sig_amp = np.abs(sigs)  # Amplitude\n",
    "sig_phase = np.angle(sigs)  # Phase\n",
    "\n",
    "# Final plot\n",
    "\n",
    "sig = np.reshape(sig_amp, (np.size(dc_flux_sweep), np.size(machine.resonators[qubit_index].f_readout + RR_freq_sweep)))\n",
    "phase = np.reshape(sig_phase, (np.size(dc_flux_sweep), np.size(machine.resonators[qubit_index].f_readout + RR_freq_sweep)))\n",
    "fig = plt.figure()\n",
    "plt.rcParams['figure.figsize'] = [8, 4]\n",
    "plt.cla()\n",
    "\n",
    "# 2D spectroscopy plot\n",
    "plt.title(\"Resonator spectroscopy tuning curve\")\n",
    "plt.pcolormesh( np.linspace(np.min(dc_flux_sweep), np.max(dc_flux_sweep), np.size(dc_flux_sweep)),\n",
    "               np.linspace(np.min(machine.resonators[qubit_index].f_readout + RR_freq_sweep), \n",
    "                           np.max(machine.resonators[qubit_index].f_readout + RR_freq_sweep), \n",
    "                           np.size(machine.resonators[qubit_index].f_readout + RR_freq_sweep))/1e6, \n",
    "               sig.T, shading=\"nearest\", cmap=\"seismic\")\n",
    "plt.xlabel(\"DC flux level [V]\")\n",
    "plt.ylabel(\"Frequency [MHz]\")\n",
    "plt.colorbar()\n",
    "\n",
    "# Initial guess\n",
    "wr = machine.resonators[qubit_index].f_readout/1e6 # Resonator frequency\n",
    "Ec = 170.080 # Capacitive energy\n",
    "Ej = 30642.9 # Inductive energy \n",
    "c = 0.05 # Period in cosine function for flux\n",
    "phi0 = 0.4 # Offset in cosine function for flux\n",
    "g = 74.965 # RR-qubit coupling\n",
    "\n",
    "# Array of initial guess\n",
    "guess = [wr, Ec, Ej, c, phi0, g]\n",
    "\n",
    "# Frequency output from hamiltonian function using initial guess\n",
    "freq_fit_guess = ham(dc_flux_sweep, 1, *guess)\n",
    "\n",
    "# Plot of initial guess\n",
    "# plt.plot(flux.T, freq_fit_guess)\n",
    "\n",
    "freq = machine.resonators[qubit_index].f_readout + RR_freq_sweep\n",
    "# Determine minima of signal to use as ydata for fitting\n",
    "minimas = []\n",
    "for i in range(np.size(dc_flux_sweep)):\n",
    "    minimas.append(freq[np.argmin(sig[i])])\n",
    "minimas = np.array(minimas)\n",
    "\n",
    "\n",
    "## Plot minima of signal\n",
    "plt.scatter(dc_flux_sweep.T, minimas/1e6)\n",
    "\n",
    "minimas_mhz = minimas/1e6\n",
    "\n",
    "# Fit data from minima of signal to Hamiltonian function\n",
    "# Initial guess is given by p0\n",
    "# Bounds are necessary. The order is bounds = ((min_wr, min_Ec, min_Ej, min_c, min_phi0, min_g), (max_wr, max_Ec, max_Ej, max_c, max_phi0, max_g))\n",
    "popt, _ = curve_fit(lambda dc_flux_sweep, *guess: ham(dc_flux_sweep, 1, *guess), \n",
    "                    xdata = dc_flux_sweep, ydata = minimas_mhz, p0=guess, check_finite = \"true\", bounds = ((wr-200, Ec-100, Ej-20000, 0.0001, -4, g-50),(wr+200, Ec+100 ,Ej+ 20000, 4, 4, g+50)))\n",
    "\n",
    "# This is the frequency output from the fitted data\n",
    "freq_fit = ham(dc_flux_sweep, 1, *popt)\n",
    "\n",
    "# Plot the fitted data\n",
    "plt.plot(dc_flux_sweep.T, freq_fit)\n",
    "# plt.legend([\"guess\", \"fit\"])\n",
    "plt.legend([\"fit\"])\n",
    "\n"
   ]
  },
  {
   "cell_type": "code",
   "execution_count": 35,
   "id": "6da2f6b9",
   "metadata": {},
   "outputs": [],
   "source": [
    "savemat(os.path.join(tPath, file_name), {\"RR_freq\": freq, \"sig_amp\": sig_amp, \"sig_phase\": sig_phase, \"dc_flux_sweep\": dc_flux_sweep, \"ROI\": ROI, \"ROO\": ROO, \"freq_TWPA\": freq_TWPA, \"pwr_TWPA\": pwr_TWPA})\n",
    "machine._save(os.path.join(tPath, json_name), flat_data=False)"
   ]
  },
  {
   "cell_type": "code",
   "execution_count": 109,
   "id": "bedba59d",
   "metadata": {},
   "outputs": [
    {
     "name": "stdout",
     "output_type": "stream",
     "text": [
      "SS at: -0.169221\n",
      "\n"
     ]
    }
   ],
   "source": [
    "# Fitted ESR plot\n",
    "freq_fit_qubit = ham(dc_flux_sweep, 2, *popt)\n",
    "\n",
    "plt.title(\"Qubit spectroscopy tuning curve\")\n",
    "plt.plot(dc_flux_sweep.T, freq_fit_qubit)\n",
    "plt.xlabel(\"DC flux level [V]\")\n",
    "plt.ylabel(\"Frequency [MHz]\")\n",
    "\n",
    "# SS from fitting to Hamiltonian parameters\n",
    "SS = (-popt[4])/(2*np.pi*popt[3])\n",
    "# Get the sweet spot based from fitted parameters to Hamiltonian\n",
    "# Only cosine term matters for this\n",
    "print('SS at: %.6f\\n' % SS) \n",
    "\n",
    "# Fit ESR to a fourth order polynomial centered at zero (SS was shifted)\n",
    "num_steps = 199\n",
    "arr_sz = 0.99 # Choose half of the size we will sweep around SS\n",
    "# Shift SS to be at 0 V, as ff is relative to the SS\n",
    "#ESR_freqs = ESR_4th(arr_sz, num_steps, SS, *popt) # get array of qubit freqeuncies as a function of flux with SS at 0V\n",
    "#ESR_freq_max = np.max(ESR_freqs)\n",
    "#ESR_freq_min = np.min(ESR_freqs)\n"
   ]
  },
  {
   "cell_type": "code",
   "execution_count": 37,
   "id": "c1ed9f94",
   "metadata": {},
   "outputs": [
    {
     "name": "stdout",
     "output_type": "stream",
     "text": [
      "[7038.27152407]\n"
     ]
    }
   ],
   "source": [
    "q_freq_est = ham([SS], 2, *popt)\n",
    "print(q_freq_est)"
   ]
  },
  {
   "cell_type": "markdown",
   "id": "99992101",
   "metadata": {},
   "source": [
    "### process data from saved run"
   ]
  },
  {
   "cell_type": "code",
   "execution_count": null,
   "id": "a17ae638",
   "metadata": {},
   "outputs": [],
   "source": [
    "RR_freq_sweep = np.arange(-7.5e6, 5e6, 0.05e6)\n",
    "file_name = 'UA_Q2_RR_spec_flux_sweep_0906-1243'\n",
    "data = loadmat(os.path.join(r\"Z:\\LabberData_DF5\\QM_Data_DF5\\2023\\09\\Data_0906\", file_name))\n",
    "freq = data['RR_freq'][0]\n",
    "sig_amp = data['sig_amp'][0]\n",
    "dc_flux_sweep = data['dc_flux_sweep'][0]\n",
    "\n",
    "fig = plt.figure(figsize=[8, 4])\n",
    "sig = np.reshape(sig_amp, (np.size(dc_flux_sweep), np.size(machine.resonators[qubit_index].f_readout + RR_freq_sweep)))\n",
    "\n",
    "plt.rcParams['figure.figsize'] = [8, 4]\n",
    "plt.cla()\n",
    "\n",
    "# 2D spectroscopy plot\n",
    "plt.title(\"Resonator spectroscopy tuning curve\")\n",
    "plt.pcolormesh( np.linspace(np.min(dc_flux_sweep), np.max(dc_flux_sweep), np.size(dc_flux_sweep)),\n",
    "               np.linspace(np.min(machine.resonators[qubit_index].f_readout + RR_freq_sweep), \n",
    "                           np.max(machine.resonators[qubit_index].f_readout + RR_freq_sweep), \n",
    "                           np.size(machine.resonators[qubit_index].f_readout + RR_freq_sweep))/1e6, \n",
    "               sig.T, shading=\"nearest\", cmap=\"seismic\")\n",
    "plt.xlabel(\"DC flux level [V]\")\n",
    "plt.ylabel(\"Frequency [MHz]\")\n",
    "plt.colorbar()\n",
    "plt.show()\n",
    "\n",
    "# Initial guess\n",
    "wr = machine.resonators[qubit_index].f_readout/1e6 # Resonator frequency\n",
    "Ec = 170.080 # Capacitive energy\n",
    "Ej = 31158.8 # Inductive energy \n",
    "c = 0.05 # Period in cosine function for flux\n",
    "phi0 = 0.4 # Offset in cosine function for flux\n",
    "g = 74.965 # RR-qubit coupling\n",
    "# Array of initial guess\n",
    "\n",
    "guess = [wr, Ec, Ej, c, phi0, g]\n",
    "\n",
    "# Frequency output from hamiltonian function using initial guess\n",
    "freq_fit_guess = ham(dc_flux_sweep, 1, *guess)\n",
    "\n",
    "# Plot of initial guess\n",
    "# plt.plot(flux.T, freq_fit_guess)\n",
    "\n",
    "freq = machine.resonators[qubit_index].f_readout + RR_freq_sweep\n",
    "# Determine minima of signal to use as ydata for fitting\n",
    "minimas = []\n",
    "for i in range(np.size(dc_flux_sweep)):\n",
    "    minimas.append(freq[np.argmin(sig[i])])\n",
    "minimas = np.array(minimas)\n",
    "\n",
    "\n",
    "## Plot minima of signal\n",
    "plt.scatter(dc_flux_sweep.T, minimas/1e6)\n",
    "\n",
    "minimas_mhz = minimas/1e6\n",
    "\n",
    "# Fit data from minima of signal to Hamiltonian function\n",
    "# Initial guess is given by p0\n",
    "# Bounds are necessary. The order is bounds = ((min_wr, min_Ec, min_Ej, min_c, min_phi0, min_g), (max_wr, max_Ec, max_Ej, max_c, max_phi0, max_g))\n",
    "popt, _ = curve_fit(lambda dc_flux_sweep, *guess: ham(dc_flux_sweep, 1, *guess), \n",
    "                    xdata = dc_flux_sweep, ydata = minimas_mhz, p0=guess, check_finite = \"true\", bounds = ((wr-200, Ec-100, Ej-20000, 0.0001, -4, g-50),(wr+200, Ec+100 ,Ej+ 20000, 4, 4, g+50)))\n",
    "\n",
    "# This is the frequency output from the fitted data\n",
    "freq_fit = ham(dc_flux_sweep, 1, *popt)\n",
    "\n",
    "# Plot the fitted data\n",
    "plt.plot(dc_flux_sweep.T, freq_fit)\n",
    "# plt.legend([\"guess\", \"fit\"])\n",
    "plt.legend([\"fit\"])"
   ]
  },
  {
   "cell_type": "markdown",
   "id": "dd85ecdf",
   "metadata": {},
   "source": [
    "## ESR sweet spot"
   ]
  },
  {
   "cell_type": "code",
   "execution_count": 110,
   "id": "626bc5c6",
   "metadata": {},
   "outputs": [],
   "source": [
    "# set DC flux to sweet spot\n",
    "client = Labber.connectToServer('localhost') # get list of instruments \n",
    "QDevil = client.connectToInstrument('QDevil QDAC', dict(interface='Serial', address='3'))\n",
    "\n",
    "DC_ss = SS \n",
    "QDevil.setValue(\"CH02 Voltage\", DC_ss)\n",
    "client.close()"
   ]
  },
  {
   "cell_type": "code",
   "execution_count": 84,
   "id": "496b1e56",
   "metadata": {},
   "outputs": [],
   "source": [
    "# machine.qubits[qubit_index].f_01 = 6455.3e6\n",
    "# machine.qubits[qubit_index].lo = 6300e6\n",
    "machine._save(\"quam_state.json\")"
   ]
  },
  {
   "cell_type": "code",
   "execution_count": 119,
   "id": "7f6bbccf",
   "metadata": {},
   "outputs": [],
   "source": [
    "machine.qubits[1].lo= 6575e6\n",
    "machine._save(\"quam_state.json\")"
   ]
  },
  {
   "cell_type": "code",
   "execution_count": 120,
   "id": "b24568be",
   "metadata": {
    "scrolled": true
   },
   "outputs": [
    {
     "name": "stdout",
     "output_type": "stream",
     "text": [
      "Start running ...\n",
      "2023-10-04 12:20:31,653 - qm - INFO     - Performing health check\n"
     ]
    },
    {
     "name": "stderr",
     "output_type": "stream",
     "text": [
      "INFO:qm.api.frontend_api:Performing health check\n"
     ]
    },
    {
     "name": "stdout",
     "output_type": "stream",
     "text": [
      "2023-10-04 12:20:31,660 - qm - INFO     - Health check passed\n"
     ]
    },
    {
     "name": "stderr",
     "output_type": "stream",
     "text": [
      "INFO:qm.api.frontend_api:Health check passed\n"
     ]
    },
    {
     "name": "stdout",
     "output_type": "stream",
     "text": [
      "2023-10-04 12:20:32,646 - qm - INFO     - Sending program to QOP for compilation\n"
     ]
    },
    {
     "name": "stderr",
     "output_type": "stream",
     "text": [
      "INFO:qm.api.frontend_api:Sending program to QOP for compilation\n"
     ]
    },
    {
     "name": "stdout",
     "output_type": "stream",
     "text": [
      "2023-10-04 12:20:32,907 - qm - INFO     - Executing program\n"
     ]
    },
    {
     "name": "stderr",
     "output_type": "stream",
     "text": [
      "INFO:qm.QuantumMachine:Executing program\n"
     ]
    },
    {
     "name": "stdout",
     "output_type": "stream",
     "text": [
      "Execution stopped by user!######                             ] 43.9% (n=2195/5000) --> elapsed time: 13.34s\n",
      "Progress: [######################                            ] 44.4% (n=2220/5000) --> elapsed time: 13.57s\r"
     ]
    }
   ],
   "source": [
    "print(\"Start running ...\")\n",
    "\n",
    "now = datetime.datetime.now()\n",
    "month = now.strftime(\"%m\")\n",
    "day = now.strftime(\"%d\")\n",
    "hour = now.strftime(\"%H\")\n",
    "minute = now.strftime(\"%M\")\n",
    "\n",
    "exp_name = 'ESR'\n",
    "qubit_name = 'UA_Q2'\n",
    "\n",
    "f_str = qubit_name + '_' + exp_name + '_' + month + day + '-' + hour + minute\n",
    "file_name= f_str+'.mat'\n",
    "json_name = f_str + '_state.json'\n",
    "\n",
    "# Set-up the machine and get the config #\n",
    "machine = QuAM(\"quam_state.json\")\n",
    "config = build_config(machine)\n",
    "\n",
    "# Program-specific variables #\n",
    "qubit_index = 1\n",
    "n_avg = 5_000  # Number of averaging loops\n",
    "cooldown_time = 20_000  # convert to ns in the wait() function\n",
    "# t = 80  # Qubit pulse length\n",
    "t = 10 \n",
    "qb_freq_sweep = np.arange(6200e6, 6400e6, 0.5e6)\n",
    "freq_sweep = qb_freq_sweep - machine.qubits[qubit_index].f_01\n",
    "freq_sweep = freq_sweep.astype(int)\n",
    "\n",
    "\n",
    "qb_if = machine.qubits[qubit_index].f_01 - machine.qubits[qubit_index].lo\n",
    "\n",
    "# The QUA program #\n",
    "with program() as qubit_spec:\n",
    "    n = declare(int)  # Averaging index\n",
    "    df = declare(int)  # Resonator frequency\n",
    "    I = declare(fixed)\n",
    "    Q = declare(fixed)\n",
    "    I_st = declare_stream()\n",
    "    Q_st = declare_stream()\n",
    "    n_st = declare_stream()\n",
    "    if_st = declare_stream()\n",
    "    if_var = declare(int)\n",
    "\n",
    "    # Adjust the flux line if needed\n",
    "    # set_dc_offset(\"flux_line\", \"single\", 0.0)\n",
    "    with for_(n, 0, n < n_avg, n + 1):\n",
    "        with for_(*from_array(df, freq_sweep)):\n",
    "            # Update the qubit frequency\n",
    "            update_frequency(machine.qubits[qubit_index].name, df + qb_if)\n",
    "#             assign(if_var, df)\n",
    "\n",
    "            save(df, if_st)\n",
    "            # Play a saturation pulse on the qubit\n",
    "#             play(\"cw\" * amp(0.1), machine.qubits[qubit_index].name, duration = t * u.us)\n",
    "            play(\"pi\" * amp(0.05), machine.qubits[qubit_index].name , duration = t * u.us)\n",
    "#             play(\"x180\" * amp(0.73), machine.qubits[qubit_index].name)\n",
    "            align(machine.qubits[qubit_index].name, machine.resonators[qubit_index].name)\n",
    "            # Measure the resonator\n",
    "            measure(\n",
    "                \"readout\",\n",
    "                machine.resonators[qubit_index].name,\n",
    "                None,\n",
    "                dual_demod.full(\"cos\", \"out1\", \"sin\", \"out2\", I),\n",
    "                dual_demod.full(\"minus_sin\", \"out1\", \"cos\", \"out2\", Q),\n",
    "            )\n",
    "            # Wait for the resonator to cooldown\n",
    "            wait(cooldown_time * u.ns, machine.resonators[qubit_index].name)\n",
    "            # Save data to the stream processing\n",
    "            save(I, I_st)\n",
    "            save(Q, Q_st)\n",
    "        save(n, n_st)\n",
    "\n",
    "    with stream_processing():\n",
    "        I_st.buffer(len(freq_sweep)).average().save(\"I\")\n",
    "        Q_st.buffer(len(freq_sweep)).average().save(\"Q\")\n",
    "        n_st.save(\"iteration\")\n",
    "        if_st.buffer(len(freq_sweep)).average().save(\"IF\")\n",
    "        #if_st.save(\"IF\")\n",
    "\n",
    "#  Open Communication with the QOP  #\n",
    "# qmm = QuantumMachinesManager(machine.network.qop_ip, cluster_name=machine.network.cluster_name, octave=octave_config)\n",
    "# qmm = QuantumMachinesManager(machine.network.qop_ip, port = '9510', octave=octave_config, log_level = \"ERROR\")\n",
    "qmm = QuantumMachinesManager(machine.network.qop_ip, port = '9510', octave=octave_config)\n",
    "\n",
    "simulation = False\n",
    "\n",
    "if simulation:\n",
    "    simulation_config = SimulationConfig(\n",
    "        duration=8000, simulation_interface=LoopbackInterface([(\"con1\", 3, \"con1\", 1)])\n",
    "    )\n",
    "    job = qmm.simulate(config, qubit_spec, simulation_config)\n",
    "    job.get_simulated_samples().con1.plot()\n",
    "else:\n",
    "    qm = qmm.open_qm(config)\n",
    "    job = qm.execute(qubit_spec)\n",
    "    # Get results from QUA program\n",
    "    results = fetching_tool(job, data_list=[\"I\", \"Q\", \"iteration\", \"IF\"], mode=\"live\")\n",
    "    %matplotlib qt\n",
    "    # Live plotting\n",
    "    fig = plt.figure()\n",
    "    plt.rcParams['figure.figsize'] = [12, 8]\n",
    "    interrupt_on_close(fig, job)  # Interrupts the job when closing the figure\n",
    "    while results.is_processing():\n",
    "        # Fetch results\n",
    "        I, Q, iteration, IF= results.fetch_all()\n",
    "        I = u.demod2volts(I, machine.resonators[qubit_index].readout_pulse_length)\n",
    "        Q = u.demod2volts(Q, machine.resonators[qubit_index].readout_pulse_length)\n",
    "        sig_amp = np.sqrt(I**2 + Q**2)\n",
    "        sig_phase = signal.detrend(np.unwrap(np.angle(I + 1j * Q)))\n",
    "        freqs = machine.qubits[qubit_index].f_01 + freq_sweep\n",
    "        # Progress bar\n",
    "        progress_counter(iteration, n_avg, start_time=results.get_start_time())\n",
    "        plt.cla()\n",
    "        plt.title(\"Qubit spectroscopy\")\n",
    "        plt.plot(freqs /u.MHz, sig_amp, \"b.\")\n",
    "        plt.xlabel(\"Frequency [MHz]\")\n",
    "        plt.ylabel(r\"$\\sqrt{I^2 + Q^2}$ [V]\")\n",
    "        plt.pause(0.01)"
   ]
  },
  {
   "cell_type": "code",
   "execution_count": 27,
   "id": "1a190886",
   "metadata": {},
   "outputs": [
    {
     "data": {
      "text/plain": [
       "[<matplotlib.lines.Line2D at 0x1ec5a21b040>]"
      ]
     },
     "execution_count": 27,
     "metadata": {},
     "output_type": "execute_result"
    }
   ],
   "source": [
    "plt.plot(IF/1E6, (qb_freq_sweep - machine.qubits[qubit_index].f_01)/1E6)"
   ]
  },
  {
   "cell_type": "code",
   "execution_count": 116,
   "id": "efc125ed",
   "metadata": {},
   "outputs": [
    {
     "name": "stdout",
     "output_type": "stream",
     "text": [
      "IF offset to add to IF: -48.800000 MHz\n"
     ]
    },
    {
     "data": {
      "text/plain": [
       "<matplotlib.lines.Line2D at 0x1befbc7fa90>"
      ]
     },
     "execution_count": 116,
     "metadata": {},
     "output_type": "execute_result"
    },
    {
     "data": {
      "image/png": "[encoded data removed]",
      "text/plain": [
       "<Figure size 800x400 with 1 Axes>"
      ]
     },
     "metadata": {},
     "output_type": "display_data"
    }
   ],
   "source": [
    "%matplotlib inline\n",
    "# # Fetch results\n",
    "# I, Q, iteration = results.fetch_all()\n",
    "# # Convert I & Q to Volts\n",
    "# I = u.demod2volts(I, machine.resonators[qubit_index].readout_pulse_length)\n",
    "# Q = u.demod2volts(Q, machine.resonators[qubit_index].readout_pulse_length)\n",
    "# sig_amp = np.sqrt(I**2 + Q**2)\n",
    "# # detrend removes the linear increase of phase\n",
    "# sig_phase = signal.detrend(np.unwrap(np.angle(I + 1j * Q)))\n",
    "idx = np.argmax(sig_amp) # find minimum\n",
    "print(f\"IF offset to add to IF: {freq_sweep[idx] / u.MHz:.6f} MHz\")\n",
    "\n",
    "plt.close('all')\n",
    "%matplotlib inline\n",
    "# 1D spectroscopy plot\n",
    "fig = plt.figure(figsize=[8, 4])\n",
    "plt.title('Qubit spectroscopy')\n",
    "plt.plot((machine.qubits[qubit_index].f_01 + freq_sweep) / u.MHz, sig_amp, \".\")\n",
    "plt.xlabel(\"Frequency [MHz]\")\n",
    "plt.ylabel(r\"$\\sqrt{I^2 + Q^2}$ [V]\")\n",
    "plt.axvline(x = (machine.qubits[qubit_index].f_01 + freq_sweep[idx]) / u.MHz)"
   ]
  },
  {
   "cell_type": "code",
   "execution_count": 30,
   "id": "55488943",
   "metadata": {},
   "outputs": [],
   "source": [
    "savemat(os.path.join(tPath, file_name), {\"ESR_freq\": machine.qubits[qubit_index].f_01 + freq_sweep, \"sig_amp\": sig_amp, \"sig_phase\": sig_phase, \"DC_flux\": DC_ss, \"ROI\": ROI, \"ROO\": ROO, \"freq_TWPA\": freq_TWPA, \"pwr_TWPA\": pwr_TWPA})\n",
    "machine._save(os.path.join(tPath, json_name), flat_data=False)"
   ]
  },
  {
   "cell_type": "code",
   "execution_count": 37,
   "id": "67898df7",
   "metadata": {},
   "outputs": [
    {
     "name": "stdout",
     "output_type": "stream",
     "text": [
      "Updated f_01 (df) [MHz]: 6451894410.168393 0.3944101683931351\n"
     ]
    },
    {
     "data": {
      "image/png": "[encoded data removed]",
      "text/plain": [
       "<Figure size 1400x600 with 1 Axes>"
      ]
     },
     "metadata": {},
     "output_type": "display_data"
    }
   ],
   "source": [
    "# fit the data\n",
    "freqs = machine.qubits[qubit_index].f_01 + freq_sweep\n",
    "try:\n",
    "    param, dp_cov=curve_fit(ESR_Shape,freqs,sig_amp,p0=[max(sig_amp)-min(sig_amp),8E6,freqs[np.argmax(sig_amp)],min(sig_amp)] )\n",
    "    d_ESR_freq = round(param[2] * 100)/100\n",
    "    print('Updated f_01 (df) [MHz]:', param[2], (param[2] - machine.qubits[qubit_index].f_01) / u.MHz)\n",
    "except:\n",
    "    pass\n",
    "\n",
    "# 1D spectroscopy plot\n",
    "fig = plt.figure(figsize=[14, 6])\n",
    "plt.plot(freqs / u.MHz, sig_amp, \"b.\")\n",
    "plt.plot(freqs / u.MHz, ESR_Shape(freqs, param[0],param[1],param[2],param[3]), 'r')\n",
    "\n",
    "plt.title(\"Qubit spectroscopy amplitude\")\n",
    "\n",
    "plt.xlabel(\"Frequency [MHz]\")\n",
    "plt.ylabel(r\"$\\sqrt{I^2 + Q^2}$ [V]\")\n",
    "plt.axvline(x=machine.qubits[qubit_index].f_01/u.MHz)\n",
    "plt.show()"
   ]
  },
  {
   "cell_type": "code",
   "execution_count": null,
   "id": "7cba4295",
   "metadata": {},
   "outputs": [],
   "source": [
    "# Fit to a double Lorentzian\n",
    "freqs = machine.qubits[qubit_index].f_01 + freq_sweep\n",
    "param, dp_cov=curve_fit(ESR_Shape_double,freqs,sig_amp,p0=[max(sig_amp)-min(sig_amp),8E6,freqs[np.argmax(sig_amp)],\n",
    "                                                        min(sig_amp),max(sig_amp)-min(sig_amp),8E6,freqs[np.argmax(sig_amp)]] )\n",
    "fig = plt.figure(figsize=[14, 6])\n",
    "plt.plot(freqs / u.MHz, sig_amp, \"b.\")\n",
    "plt.plot(freqs / u.MHz, ESR_Shape_double(freqs, param[0],param[1],param[2],param[3], param[4], param[5], param[6]), 'r')\n",
    "\n",
    "plt.title(\"Qubit spectroscopy amplitude\")\n",
    "\n",
    "plt.xlabel(\"Frequency [MHz]\")\n",
    "plt.ylabel(r\"$\\sqrt{I^2 + Q^2}$ [V]\")\n",
    "print(\"First peak at \", param[2], \"\\n Second peak at \", param[6])\n",
    "plt.show()"
   ]
  },
  {
   "cell_type": "code",
   "execution_count": null,
   "id": "22d855fc",
   "metadata": {},
   "outputs": [],
   "source": [
    "freqs[np.argmax(ESR_Shape(freqs, param[0],param[1],param[2],param[3]))]"
   ]
  },
  {
   "cell_type": "code",
   "execution_count": null,
   "id": "6961844c",
   "metadata": {},
   "outputs": [],
   "source": [
    "machine.qubits[qubit_index].f_01 -=90.6E6\n",
    "# machine.qubits[qubit_index].pi_amp = 125E-3\n",
    "machine._save(\"quam_state.json\")"
   ]
  },
  {
   "cell_type": "markdown",
   "id": "62fb1120",
   "metadata": {},
   "source": [
    "## Power Rabi"
   ]
  },
  {
   "cell_type": "code",
   "execution_count": 42,
   "id": "2c6b7d9f",
   "metadata": {},
   "outputs": [
    {
     "name": "stdout",
     "output_type": "stream",
     "text": [
      "Start running ...\n",
      "2023-10-03 13:57:36,027 - qm - INFO     - Performing health check\n"
     ]
    },
    {
     "name": "stderr",
     "output_type": "stream",
     "text": [
      "INFO:qm.api.frontend_api:Performing health check\n"
     ]
    },
    {
     "name": "stdout",
     "output_type": "stream",
     "text": [
      "2023-10-03 13:57:36,036 - qm - INFO     - Health check passed\n"
     ]
    },
    {
     "name": "stderr",
     "output_type": "stream",
     "text": [
      "INFO:qm.api.frontend_api:Health check passed\n"
     ]
    },
    {
     "name": "stdout",
     "output_type": "stream",
     "text": [
      "2023-10-03 13:57:36,792 - qm - INFO     - Sending program to QOP for compilation\n"
     ]
    },
    {
     "name": "stderr",
     "output_type": "stream",
     "text": [
      "INFO:qm.api.frontend_api:Sending program to QOP for compilation\n"
     ]
    },
    {
     "name": "stdout",
     "output_type": "stream",
     "text": [
      "2023-10-03 13:57:36,989 - qm - INFO     - Executing program\n"
     ]
    },
    {
     "name": "stderr",
     "output_type": "stream",
     "text": [
      "INFO:qm.QuantumMachine:Executing program\n"
     ]
    },
    {
     "name": "stdout",
     "output_type": "stream",
     "text": [
      "Progress: [##################################################] 100.0% (n=10000/10000) --> elapsed time: 19.50s\n",
      "Execution stopped by user!\n"
     ]
    }
   ],
   "source": [
    "print(\"Start running ...\")\n",
    "\n",
    "now = datetime.datetime.now()\n",
    "month = now.strftime(\"%m\")\n",
    "day = now.strftime(\"%d\")\n",
    "hour = now.strftime(\"%H\")\n",
    "minute = now.strftime(\"%M\")\n",
    "\n",
    "exp_name = 'Rabi'\n",
    "qubit_name = 'UA_Q2'\n",
    "\n",
    "f_str = qubit_name + '_' + exp_name + '_' + month + day + '-' + hour + minute\n",
    "file_name= f_str+'.mat'\n",
    "json_name = f_str + '_state.json'\n",
    "\n",
    "# Set-up the machine and get the config #\n",
    "machine = QuAM(\"quam_state.json\")\n",
    "# machine.qubits[0].pi_amp=0.109\n",
    "# machine.qubits[0].pi_length=80\n",
    "config = build_config(machine)\n",
    "\n",
    "# The QUA program #\n",
    "n_avg = 10_000\n",
    "cooldown_time = 20_000 # ns, set in wait() function\n",
    "amps = np.arange(0.1, 1.99, 0.02)\n",
    "err_amp = 1  # Number of played qubit pulses for getting a better estimate of the pi amplitude\n",
    "qubit_index = 0\n",
    "flux_settle_time = 250  # Flux settle time for fast flux from OP\n",
    "t = 80 \n",
    "\n",
    "with program() as power_rabi:\n",
    "    n = declare(int)\n",
    "    n_st = declare_stream()\n",
    "    a = declare(fixed)\n",
    "    I = declare(fixed)\n",
    "    Q = declare(fixed)\n",
    "    I_st = declare_stream()\n",
    "    Q_st = declare_stream()\n",
    "\n",
    "    with for_(n, 0, n < n_avg, n + 1):\n",
    "        with for_(*from_array(a, amps)):\n",
    "            # Loop for error amplification (perform many qubit pulses)\n",
    "            for i in range(err_amp):\n",
    "#                 play(\"x180\" * amp(a), machine.qubits[qubit_index].name)\n",
    "#                 play(\"pi\" * amp(a), machine.qubits[qubit_index].name, duration = t * u.ns)\n",
    "                play(\"pi\" * amp(a), machine.qubits[qubit_index].name)\n",
    "            align(machine.qubits[qubit_index].name, machine.resonators[qubit_index].name)\n",
    "            measure(\n",
    "                \"readout\",\n",
    "                machine.resonators[qubit_index].name,\n",
    "                None,\n",
    "                dual_demod.full(\"cos\", \"out1\", \"sin\", \"out2\", I),\n",
    "                dual_demod.full(\"minus_sin\", \"out1\", \"cos\", \"out2\", Q),\n",
    "            )\n",
    "            save(I, I_st)\n",
    "            save(Q, Q_st)\n",
    "            wait(cooldown_time * u.ns, machine.resonators[qubit_index].name)\n",
    "        save(n, n_st)\n",
    "\n",
    "    with stream_processing():\n",
    "        I_st.buffer(len(amps)).average().save(\"I\")\n",
    "        Q_st.buffer(len(amps)).average().save(\"Q\")\n",
    "        n_st.save(\"iteration\")\n",
    "\n",
    "#  Open Communication with the QOP  #\n",
    "# qmm = QuantumMachinesManager(machine.network.qop_ip, cluster_name=machine.network.cluster_name, octave=octave_config)\n",
    "# qmm = QuantumMachinesManager(machine.network.qop_ip, port = '9510', octave=octave_config, log_level = \"ERROR\")\n",
    "qmm = QuantumMachinesManager(machine.network.qop_ip, port = '9510', octave=octave_config)\n",
    "\n",
    "simulate = False\n",
    "if simulate:\n",
    "    simulation_config = SimulationConfig(duration=1000)  # in clock cycles\n",
    "    job = qmm.simulate(config, power_rabi, simulation_config)\n",
    "    job.get_simulated_samples().con1.plot()\n",
    "else:\n",
    "    qm = qmm.open_qm(config)\n",
    "    job = qm.execute(power_rabi)\n",
    "    # Get results from QUA program\n",
    "    results = fetching_tool(job, data_list=[\"I\", \"Q\", \"iteration\"], mode=\"live\")\n",
    "    %matplotlib qt\n",
    "    # Live plotting\n",
    "    fig = plt.figure()\n",
    "    plt.rcParams['figure.figsize'] = [12, 8]\n",
    "    interrupt_on_close(fig, job)  # Interrupts the job when closing the figure\n",
    "    while results.is_processing():\n",
    "        # Fetch results\n",
    "        I, Q, iteration = results.fetch_all()\n",
    "        I = u.demod2volts(I, machine.resonators[qubit_index].readout_pulse_length)\n",
    "        Q = u.demod2volts(Q, machine.resonators[qubit_index].readout_pulse_length)\n",
    "        sig_amp = np.sqrt(I**2 + Q**2)\n",
    "        sig_phase = signal.detrend(np.unwrap(np.angle(I + 1j * Q)))\n",
    "        # Progress bar\n",
    "        progress_counter(iteration, n_avg, start_time=results.get_start_time())\n",
    "        plt.cla()\n",
    "        plt.title(\"Power Rabi\")\n",
    "        plt.plot(machine.qubits[qubit_index].pi_amp*amps, sig_amp, \"b.\")\n",
    "        plt.xlabel(\"Amplitude [V]\")\n",
    "        plt.ylabel(r\"$\\sqrt{I^2 + Q^2}$ [V]\")\n",
    "        plt.pause(0.01)\n",
    "            "
   ]
  },
  {
   "cell_type": "code",
   "execution_count": 43,
   "id": "f2f72b3f",
   "metadata": {},
   "outputs": [],
   "source": [
    "savemat(os.path.join(tPath, file_name), {\"Rabi_amp\": machine.qubits[qubit_index].pi_amp * amps, \"sig\": sig_amp, \"sig_phase\": sig_phase, \"DC_flux\": DC_ss, \"ROI\": ROI, \"ROO\": ROO, \"freq_TWPA\": freq_TWPA, \"pwr_TWPA\": pwr_TWPA})\n",
    "machine._save(os.path.join(tPath, json_name), flat_data=False)"
   ]
  },
  {
   "cell_type": "code",
   "execution_count": 44,
   "id": "87295ad8",
   "metadata": {},
   "outputs": [
    {
     "name": "stdout",
     "output_type": "stream",
     "text": [
      "Updated amp_pi [V]: 1.0157\n",
      "1.0200000000000002\n"
     ]
    }
   ],
   "source": [
    "# fit the data\n",
    "try:\n",
    "    param, dp_cov=curve_fit(Rabi_Shape,amps,sig_amp,p0=[(max(sig_amp)-min(sig_amp))/2,0.5,0,(max(sig_amp)+min(sig_amp))/2] )\n",
    "    amp_pi = round(((0.5-param[2]/2/np.pi)/param[1]) * 10000)/10000\n",
    "    print('Updated amp_pi [V]:', amp_pi)\n",
    "except:\n",
    "    pass\n",
    "\n",
    "# 1D spectroscopy plot\n",
    "fig = plt.figure(figsize=[14, 6])\n",
    "plt.plot(amps, sig_amp, \"b.\")\n",
    "plt.plot(amps, Rabi_Shape(amps, param[0],param[1],param[2],param[3]), 'r')\n",
    "plt.show()\n",
    "plt.title(\"Rabi pulse amplitude [V]\")\n",
    "\n",
    "plt.xlabel(\"Amplitude [a.u.]\")\n",
    "plt.ylabel(r\"$\\sqrt{I^2 + Q^2}$ [V]\")\n",
    "# plt.axvline(x=amp_pi)\n",
    "print(amps[np.argmax(Rabi_Shape(amps, param[0],param[1],param[2],param[3]))])"
   ]
  },
  {
   "cell_type": "code",
   "execution_count": 45,
   "id": "298b7e7e",
   "metadata": {},
   "outputs": [],
   "source": [
    "machine.qubits[qubit_index].pi_amp =  0.020557672687122486*1.02\n",
    "# machine.qubits[qubit_index].pi_length = 180\n",
    "# machine.flux_lines[qubit_index].flux_pulse_length = 152\n",
    "# machine.flux_lines[qubit_index].flux_pulse_amp = 0.25\n",
    "\n",
    "machine._save(\"quam_state.json\", flat_data=False)"
   ]
  },
  {
   "cell_type": "markdown",
   "id": "593e7a63",
   "metadata": {},
   "source": [
    "## Time Rabi"
   ]
  },
  {
   "cell_type": "code",
   "execution_count": 87,
   "id": "5c733b3f",
   "metadata": {},
   "outputs": [
    {
     "name": "stdout",
     "output_type": "stream",
     "text": [
      "Start running ...\n",
      "2023-10-03 16:35:56,827 - qm - INFO     - Performing health check\n"
     ]
    },
    {
     "name": "stderr",
     "output_type": "stream",
     "text": [
      "INFO:qm.api.frontend_api:Performing health check\n"
     ]
    },
    {
     "name": "stdout",
     "output_type": "stream",
     "text": [
      "2023-10-03 16:35:56,836 - qm - INFO     - Health check passed\n"
     ]
    },
    {
     "name": "stderr",
     "output_type": "stream",
     "text": [
      "INFO:qm.api.frontend_api:Health check passed\n"
     ]
    },
    {
     "name": "stdout",
     "output_type": "stream",
     "text": [
      "2023-10-03 16:35:57,573 - qm - INFO     - Sending program to QOP for compilation\n"
     ]
    },
    {
     "name": "stderr",
     "output_type": "stream",
     "text": [
      "INFO:qm.api.frontend_api:Sending program to QOP for compilation\n"
     ]
    },
    {
     "name": "stdout",
     "output_type": "stream",
     "text": [
      "2023-10-03 16:35:57,759 - qm - INFO     - Executing program\n"
     ]
    },
    {
     "name": "stderr",
     "output_type": "stream",
     "text": [
      "INFO:qm.QuantumMachine:Executing program\n"
     ]
    },
    {
     "name": "stdout",
     "output_type": "stream",
     "text": [
      "Execution stopped by user!##################                 ] 67.1% (n=6714/10000) --> elapsed time: 42.38s\n",
      "Progress: [#################################                 ] 67.5% (n=6747/10000) --> elapsed time: 42.63s\r"
     ]
    }
   ],
   "source": [
    "print(\"Start running ...\")\n",
    "\n",
    "now = datetime.datetime.now()\n",
    "month = now.strftime(\"%m\")\n",
    "day = now.strftime(\"%d\")\n",
    "hour = now.strftime(\"%H\")\n",
    "minute = now.strftime(\"%M\")\n",
    "\n",
    "exp_name = 'Rabi_time'\n",
    "qubit_name = 'UA_Q2'\n",
    "\n",
    "f_str = qubit_name + '_' + exp_name + '_' + month + day + '-' + hour + minute\n",
    "file_name= f_str+'.mat'\n",
    "json_name = f_str + '_state.json'\n",
    "\n",
    "# Set-up the machine and get the config #\n",
    "machine = QuAM(\"quam_state.json\")\n",
    "# machine.qubits[0].pi_amp=0.109\n",
    "# machine.qubits[0].pi_length=80\n",
    "config = build_config(machine)\n",
    "\n",
    "# The QUA program #\n",
    "n_avg = 10_000\n",
    "cooldown_time = 20_000 # ns, set in wait() function\n",
    "\n",
    "taus = np.arange(1, 300 + 0.1, 1)  # in units of clock cyles\n",
    "taus = taus.astype(int)\n",
    "qubit_index = 0\n",
    "\n",
    "with program() as time_rabi:\n",
    "    n = declare(int)\n",
    "    n_st = declare_stream()\n",
    "    t = declare(int)\n",
    "    I = declare(fixed)\n",
    "    Q = declare(fixed)\n",
    "    I_st = declare_stream()\n",
    "    Q_st = declare_stream()\n",
    "    \n",
    "\n",
    "    with for_(n, 0, n < n_avg, n + 1):\n",
    "        with for_(*from_array(t, taus)):\n",
    "            play(\"pi\" * amp(0.5), machine.qubits[qubit_index].name, duration = t)\n",
    "#             play(\"x180\" * amp(0.73), machine.qubits[qubit_index].name, duration = t)\n",
    "            align(machine.qubits[qubit_index].name, machine.resonators[qubit_index].name)\n",
    "            measure(\n",
    "                \"readout\",\n",
    "                machine.resonators[qubit_index].name,\n",
    "                None,\n",
    "                dual_demod.full(\"cos\", \"out1\", \"sin\", \"out2\", I),\n",
    "                dual_demod.full(\"minus_sin\", \"out1\", \"cos\", \"out2\", Q),\n",
    "            )\n",
    "            save(I, I_st)\n",
    "            save(Q, Q_st)\n",
    "            wait(cooldown_time * u.ns, machine.resonators[qubit_index].name)\n",
    "        save(n, n_st)\n",
    "\n",
    "    with stream_processing():\n",
    "        I_st.buffer(len(taus)).average().save(\"I\")\n",
    "        Q_st.buffer(len(taus)).average().save(\"Q\")\n",
    "        n_st.save(\"iteration\")\n",
    "\n",
    "#  Open Communication with the QOP  #\n",
    "# qmm = QuantumMachinesManager(machine.network.qop_ip, cluster_name=machine.network.cluster_name, octave=octave_config)\n",
    "# qmm = QuantumMachinesManager(machine.network.qop_ip, port = '9510', octave=octave_config, log_level = \"ERROR\")\n",
    "qmm = QuantumMachinesManager(machine.network.qop_ip, port = '9510', octave=octave_config)\n",
    "\n",
    "simulate = False\n",
    "if simulate:\n",
    "    simulation_config = SimulationConfig(duration=1000)  # in clock cycles\n",
    "    job = qmm.simulate(config, time_rabi, simulation_config)\n",
    "    job.get_simulated_samples().con1.plot()\n",
    "else:\n",
    "    qm = qmm.open_qm(config)\n",
    "    job = qm.execute(time_rabi)\n",
    "    # Get results from QUA program\n",
    "    results = fetching_tool(job, data_list=[\"I\", \"Q\", \"iteration\"], mode=\"live\")\n",
    "    %matplotlib qt\n",
    "    # Live plotting\n",
    "    fig = plt.figure()\n",
    "    plt.rcParams['figure.figsize'] = [12, 8]\n",
    "    interrupt_on_close(fig, job)  # Interrupts the job when closing the figure\n",
    "    while results.is_processing():\n",
    "        # Fetch results\n",
    "        I, Q, iteration = results.fetch_all()\n",
    "        I = u.demod2volts(I, machine.resonators[qubit_index].readout_pulse_length)\n",
    "        Q = u.demod2volts(Q, machine.resonators[qubit_index].readout_pulse_length)\n",
    "        sig_amp = np.sqrt(I**2 + Q**2)\n",
    "        sig_phase = signal.detrend(np.unwrap(np.angle(I + 1j * Q)))\n",
    "        # Progress bar\n",
    "        progress_counter(iteration, n_avg, start_time=results.get_start_time())\n",
    "        plt.cla()\n",
    "        plt.title(\"Time Rabi\")\n",
    "        plt.plot(taus *4, sig_amp, \"b.\")\n",
    "        plt.xlabel(\"Tau [ns]\")\n",
    "        plt.ylabel(r\"$\\sqrt{I^2 + Q^2}$ [V]\")\n",
    "        plt.pause(0.01)"
   ]
  },
  {
   "cell_type": "code",
   "execution_count": 86,
   "id": "4fe57eab",
   "metadata": {},
   "outputs": [
    {
     "name": "stdout",
     "output_type": "stream",
     "text": [
      "Progress: [##################################################] 100.0% (n=10000/10000) --> elapsed time: 94.04s\r\n"
     ]
    }
   ],
   "source": [
    " I, Q, iteration = results.fetch_all()\n",
    "I = u.demod2volts(I, machine.resonators[qubit_index].readout_pulse_length)\n",
    "Q = u.demod2volts(Q, machine.resonators[qubit_index].readout_pulse_length)\n",
    "sig_amp = np.sqrt(I**2 + Q**2)\n",
    "sig_phase = signal.detrend(np.unwrap(np.angle(I + 1j * Q)))\n",
    "# Progress bar\n",
    "progress_counter(iteration, n_avg, start_time=results.get_start_time())\n",
    "plt.cla()\n",
    "plt.title(\"Time Rabi\")\n",
    "plt.plot(taus *4, sig_amp, \"b.\")\n",
    "plt.xlabel(\"Tau [ns]\")\n",
    "plt.ylabel(r\"$\\sqrt{I^2 + Q^2}$ [V]\")\n",
    "plt.pause(0.01)"
   ]
  },
  {
   "cell_type": "code",
   "execution_count": 40,
   "id": "55a545c6",
   "metadata": {},
   "outputs": [],
   "source": [
    "# machine.qubits[qubit_index].pi_amp = 0.1092*0.5\n",
    "machine.qubits[qubit_index].pi_length = 116\n",
    "machine._save(\"quam_state.json\")"
   ]
  },
  {
   "cell_type": "code",
   "execution_count": 41,
   "id": "6701a31b",
   "metadata": {},
   "outputs": [],
   "source": [
    "savemat(os.path.join(tPath, file_name), {\"Rabi_time\": taus*4, \"sig\": sig_amp, \"sig_phase\": sig_phase, \"DC_flux\": DC_ss, \"ROI\": ROI, \"ROO\": ROO, \"freq_TWPA\": freq_TWPA, \"pwr_TWPA\": pwr_TWPA})\n",
    "machine._save(os.path.join(tPath, json_name), flat_data=False)"
   ]
  },
  {
   "cell_type": "markdown",
   "id": "65758d2f",
   "metadata": {},
   "source": [
    "## T1"
   ]
  },
  {
   "cell_type": "code",
   "execution_count": 46,
   "id": "6fcccae3",
   "metadata": {},
   "outputs": [
    {
     "name": "stdout",
     "output_type": "stream",
     "text": [
      "Start running ...\n",
      "2023-10-03 13:59:17,732 - qm - INFO     - Performing health check\n"
     ]
    },
    {
     "name": "stderr",
     "output_type": "stream",
     "text": [
      "INFO:qm.api.frontend_api:Performing health check\n"
     ]
    },
    {
     "name": "stdout",
     "output_type": "stream",
     "text": [
      "2023-10-03 13:59:17,744 - qm - INFO     - Health check passed\n"
     ]
    },
    {
     "name": "stderr",
     "output_type": "stream",
     "text": [
      "INFO:qm.api.frontend_api:Health check passed\n"
     ]
    },
    {
     "name": "stdout",
     "output_type": "stream",
     "text": [
      "2023-10-03 13:59:17.747154 2\n",
      "2023-10-03 13:59:18,499 - qm - INFO     - Sending program to QOP for compilation\n"
     ]
    },
    {
     "name": "stderr",
     "output_type": "stream",
     "text": [
      "INFO:qm.api.frontend_api:Sending program to QOP for compilation\n"
     ]
    },
    {
     "name": "stdout",
     "output_type": "stream",
     "text": [
      "2023-10-03 13:59:18,681 - qm - INFO     - Executing program\n"
     ]
    },
    {
     "name": "stderr",
     "output_type": "stream",
     "text": [
      "INFO:qm.QuantumMachine:Executing program\n"
     ]
    },
    {
     "name": "stdout",
     "output_type": "stream",
     "text": [
      "Progress: [##################################################] 100.0% (n=10000/10000) --> elapsed time: 15.79s\n"
     ]
    }
   ],
   "source": [
    "print(\"Start running ...\")\n",
    "\n",
    "now = datetime.datetime.now()\n",
    "month = now.strftime(\"%m\")\n",
    "day = now.strftime(\"%d\")\n",
    "hour = now.strftime(\"%H\")\n",
    "minute = now.strftime(\"%M\")\n",
    "\n",
    "exp_name = 'T1'\n",
    "qubit_name = 'UA_Q2'\n",
    "\n",
    "f_str = qubit_name + '_' + exp_name + '_' + month + day + '-' + hour + minute\n",
    "file_name= f_str+'.mat'\n",
    "json_name = f_str + '_state.json'\n",
    "\n",
    "machine = QuAM(\"quam_state.json\")\n",
    "config = build_config(machine)\n",
    "\n",
    "# The QUA program #\n",
    "tau_min = 100 # clock cycle\n",
    "tau_max = 3_000 # clock cycle\n",
    "d_tau = 50 # clock cycle\n",
    "tau_sweep = np.arange(tau_min, tau_max + 0.1, d_tau)  # + 0.1 to add t_max to taus\n",
    "tau_sweep = tau_sweep.astype(int)\n",
    "qubit_index = 0\n",
    "\n",
    "n_avg = 10000\n",
    "cooldown_time = 20_000 # ns\n",
    "\n",
    "with program() as T1:\n",
    "    n = declare(int)\n",
    "    n_st = declare_stream()\n",
    "    I = declare(fixed)\n",
    "    I_st = declare_stream()\n",
    "    Q = declare(fixed)\n",
    "    Q_st = declare_stream()\n",
    "    tau = declare(int)\n",
    "\n",
    "    with for_(n, 0, n < n_avg, n + 1):\n",
    "        with for_(*from_array(tau, tau_sweep)):\n",
    "            play(\"pi\", machine.qubits[qubit_index].name)\n",
    "            wait(tau, machine.qubits[qubit_index].name)\n",
    "            align(machine.qubits[qubit_index].name, machine.resonators[qubit_index].name)\n",
    "            measure(\n",
    "                \"readout\",\n",
    "                machine.resonators[qubit_index].name,\n",
    "                None,\n",
    "                dual_demod.full(\"rotated_cos\", \"out1\", \"rotated_sin\", \"out2\", I),\n",
    "                dual_demod.full(\"rotated_minus_sin\", \"out1\", \"rotated_cos\", \"out2\", Q),\n",
    "            )\n",
    "            save(I, I_st)\n",
    "            save(Q, Q_st)\n",
    "            wait(cooldown_time * u.ns, machine.resonators[qubit_index].name)\n",
    "        save(n, n_st)\n",
    "\n",
    "    with stream_processing():\n",
    "        I_st.buffer(len(tau_sweep)).average().save(\"I\")\n",
    "        Q_st.buffer(len(tau_sweep)).average().save(\"Q\")\n",
    "        n_st.save(\"iteration\")\n",
    "\n",
    "#  Open Communication with the QOP  #\n",
    "# qmm = QuantumMachinesManager(machine.network.qop_ip, cluster_name=machine.network.cluster_name, octave=octave_config)\n",
    "# qmm = QuantumMachinesManager(machine.network.qop_ip, port = '9510', octave=octave_config, log_level = \"ERROR\")\n",
    "qmm = QuantumMachinesManager(machine.network.qop_ip, port = '9510', octave=octave_config)\n",
    "\n",
    "# Simulate or execute #\n",
    "simulate = False\n",
    "if simulate:\n",
    "    simulation_config = SimulationConfig(duration=20_000)  # in clock cycles\n",
    "    job = qmm.simulate(config, T1, simulation_config)\n",
    "    job.get_simulated_samples().con1.plot()\n",
    "\n",
    "else:\n",
    "    print(datetime.datetime.now(),2)\n",
    "    qm = qmm.open_qm(config)\n",
    "    job = qm.execute(T1)\n",
    "    \n",
    "    # Get results from QUA program\n",
    "    results = fetching_tool(job, data_list=[\"I\", \"Q\", \"iteration\"], mode=\"live\")\n",
    "    %matplotlib qt\n",
    "    # Live plotting\n",
    "    fig = plt.figure()\n",
    "    plt.rcParams['figure.figsize'] = [12, 8]\n",
    "    interrupt_on_close(fig, job)  # Interrupts the job when closing the figure    while results.is_processing():\n",
    "    while results.is_processing():\n",
    "        # Fetch results\n",
    "        I, Q, iteration = results.fetch_all()\n",
    "        I = u.demod2volts(I, machine.resonators[qubit_index].readout_pulse_length)\n",
    "        Q = u.demod2volts(Q, machine.resonators[qubit_index].readout_pulse_length)\n",
    "        sig_amp = np.sqrt(I**2 + Q**2)\n",
    "        sig_phase = signal.detrend(np.unwrap(np.angle(I + 1j * Q)))\n",
    "        # Progress bar\n",
    "        progress_counter(iteration, n_avg, start_time=results.get_start_time())\n",
    "        plt.cla()\n",
    "        plt.title(\"T1\")\n",
    "        plt.plot(tau_sweep *4, sig_amp, \"b.\")\n",
    "        plt.xlabel(\"Tau [ns]\")\n",
    "        plt.ylabel(r\"$\\sqrt{I^2 + Q^2}$ [V]\")\n",
    "        plt.pause(0.01)"
   ]
  },
  {
   "cell_type": "code",
   "execution_count": 47,
   "id": "c4b98d84",
   "metadata": {},
   "outputs": [],
   "source": [
    "savemat(os.path.join(tPath, file_name), {\"tau\": tau_sweep *4, \"sig_amp\": sig_amp, \"sig_phase\": sig_phase, \"DC_flux\": DC_ss, \"ROI\": ROI, \"ROO\": ROO, \"freq_TWPA\": freq_TWPA, \"pwr_TWPA\": pwr_TWPA})\n",
    "machine._save(os.path.join(tPath, json_name), flat_data=False)"
   ]
  },
  {
   "cell_type": "code",
   "execution_count": 48,
   "id": "8abb567e",
   "metadata": {},
   "outputs": [
    {
     "name": "stdout",
     "output_type": "stream",
     "text": [
      "Qubit T1 [us]: 3.828\n"
     ]
    },
    {
     "data": {
      "text/plain": [
       "Text(0, 0.5, '$\\\\sqrt{I^2 + Q^2}$ [V]')"
      ]
     },
     "execution_count": 48,
     "metadata": {},
     "output_type": "execute_result"
    }
   ],
   "source": [
    "try:\n",
    "    param, _ = curve_fit(exp_decay,tau_sweep *4,sig_amp,p0=[max(sig_amp)-min(sig_amp),4E3,min(sig_amp)] )\n",
    "    q_T1 = round(param[1])\n",
    "    print('Qubit T1 [us]:', q_T1 /u.us)\n",
    "except:\n",
    "    pass\n",
    "\n",
    "# 1D spectroscopy plot\n",
    "fig = plt.figure(figsize=[14, 6])\n",
    "plt.plot(tau_sweep *4 /u.us, sig_amp, \"b.\")\n",
    "plt.plot(tau_sweep *4 / u.us, exp_decay(tau_sweep *4, param[0],param[1],param[2]), 'r')\n",
    "plt.show()\n",
    "plt.title(\"Qubit T1\")\n",
    "plt.xlabel(\"tau [us]\")\n",
    "plt.ylabel(\"$\\sqrt{I^2 + Q^2}$ [V]\")"
   ]
  },
  {
   "cell_type": "code",
   "execution_count": 49,
   "id": "dc85397b",
   "metadata": {},
   "outputs": [],
   "source": [
    "machine.qubits[qubit_index].T1 = q_T1\n",
    "machine._save(\"quam_state.json\", flat_data=False)"
   ]
  },
  {
   "cell_type": "markdown",
   "id": "3200c8f5",
   "metadata": {},
   "source": [
    "## Qubit tuning curve unoptimized"
   ]
  },
  {
   "cell_type": "code",
   "execution_count": null,
   "id": "b2dd6aca",
   "metadata": {},
   "outputs": [],
   "source": [
    "%matplotlib qt"
   ]
  },
  {
   "cell_type": "code",
   "execution_count": 78,
   "id": "97c6366a",
   "metadata": {},
   "outputs": [
    {
     "name": "stdout",
     "output_type": "stream",
     "text": [
      "Start running ...\n",
      "2023-10-03 16:25:08,192 - qm - INFO     - Performing health check\n"
     ]
    },
    {
     "name": "stderr",
     "output_type": "stream",
     "text": [
      "INFO:qm.api.frontend_api:Performing health check\n"
     ]
    },
    {
     "name": "stdout",
     "output_type": "stream",
     "text": [
      "2023-10-03 16:25:08,202 - qm - INFO     - Health check passed\n"
     ]
    },
    {
     "name": "stderr",
     "output_type": "stream",
     "text": [
      "INFO:qm.api.frontend_api:Health check passed\n"
     ]
    },
    {
     "name": "stdout",
     "output_type": "stream",
     "text": [
      "2023-10-03 16:25:09,120 - qm - INFO     - Sending program to QOP for compilation\n"
     ]
    },
    {
     "name": "stderr",
     "output_type": "stream",
     "text": [
      "INFO:qm.api.frontend_api:Sending program to QOP for compilation\n"
     ]
    },
    {
     "name": "stdout",
     "output_type": "stream",
     "text": [
      "2023-10-03 16:25:09,342 - qm - INFO     - Executing program\n"
     ]
    },
    {
     "name": "stderr",
     "output_type": "stream",
     "text": [
      "INFO:qm.QuantumMachine:Executing program\n"
     ]
    },
    {
     "name": "stdout",
     "output_type": "stream",
     "text": [
      "Execution stopped by user!                                   ] 14.0% (n=700/5000) --> elapsed time: 160.74s\n",
      "Finished! [#######                                           ] 14.0% (n=701/5000) --> elapsed time: 161.25s\n"
     ]
    }
   ],
   "source": [
    "# qubit tuning curve with no optimization (full frequency spectrum)\n",
    "\n",
    "print(\"Start running ...\")\n",
    "\n",
    "now = datetime.datetime.now()\n",
    "month = now.strftime(\"%m\")\n",
    "day = now.strftime(\"%d\")\n",
    "hour = now.strftime(\"%H\")\n",
    "minute = now.strftime(\"%M\")\n",
    "\n",
    "exp_name = 'qubit_spec_flux_unopt'\n",
    "qubit_name = 'UA_Q2'\n",
    "\n",
    "f_str = qubit_name + '_' + exp_name + '_' + month + day + '-' + hour + minute\n",
    "file_name= f_str+'.mat'\n",
    "json_name = f_str + '_state.json'\n",
    "\n",
    "\n",
    "# Set-up the machine and get the config #\n",
    "machine = QuAM(\"quam_state.json\")\n",
    "config = build_config(machine)\n",
    "\n",
    "# Program-specific variables #\n",
    "n_avg =5_000  # Number of averaging loops\n",
    "cooldown_time = 20_000  # Resonator cooldown time, convert to ns in the wait() function \n",
    "\n",
    "ff_sweep = np.arange(-0.5,0.5+0.1,0.02)\n",
    "q_freq_sweep = np.arange(-100e6, 100e6, 1e6)\n",
    "q_freq_sweep = q_freq_sweep.astype(int)\n",
    "flux_settle_time = 100\n",
    "z_duration = machine.qubits[qubit_index].pi_length + 40\n",
    "qb_if = machine.qubits[qubit_index].f_01 - machine.qubits[qubit_index].lo\n",
    "start_time = time.time()\n",
    "\n",
    "with program() as qubit_spec_2D_unopt:\n",
    "    n = declare(int)  # Averaging index\n",
    "    damp = declare(fixed)  # ff sweep index\n",
    "    df = declare(int)  # Resonator frequency\n",
    "    I = declare(fixed)\n",
    "    Q = declare(fixed)\n",
    "    I_st = declare_stream()\n",
    "    Q_st = declare_stream()\n",
    "    n_st = declare_stream()\n",
    "    \n",
    "    with for_(n, 0, n < n_avg, n + 1):\n",
    "        with for_(*from_array(damp, ff_sweep)):\n",
    "            with for_(*from_array(df, q_freq_sweep)):\n",
    "                update_frequency(machine.qubits[qubit_index].name, qb_if + df)\n",
    "                align()\n",
    "                play(\"const\" * amp(damp), machine.flux_lines[qubit_index].name, duration = z_duration * u.ns)\n",
    "                wait(5, machine.qubits[qubit_index].name)\n",
    "                play('pi',machine.qubits[qubit_index].name)\n",
    "                align(machine.qubits[qubit_index].name, machine.flux_lines[qubit_index].name,machine.resonators[qubit_index].name)\n",
    "                # Measure the resonator\n",
    "                measure(\n",
    "                    \"readout\",\n",
    "                    machine.resonators[qubit_index].name,\n",
    "                    None,\n",
    "                    dual_demod.full(\"cos\", \"out1\", \"sin\", \"out2\", I),\n",
    "                    dual_demod.full(\"minus_sin\", \"out1\", \"cos\", \"out2\", Q),\n",
    "                )\n",
    "                align()\n",
    "#                 play(\"const\" * amp((-1)*damp), machine.flux_lines[qubit_index].name, duration = z_duration * u.ns)\n",
    "                # Wait for the resonator to cooldown\n",
    "                wait(cooldown_time * u.ns, machine.resonators[qubit_index].name)\n",
    "                # Save data to the stream processing\n",
    "                save(I, I_st)\n",
    "                save(Q, Q_st)\n",
    "        save(n, n_st)\n",
    "\n",
    "    with stream_processing():\n",
    "        I_st.buffer(len(q_freq_sweep)).buffer(len(ff_sweep)).average().save(\"I\")\n",
    "        Q_st.buffer(len(q_freq_sweep)).buffer(len(ff_sweep)).average().save(\"Q\")\n",
    "        n_st.save(\"iteration\")\n",
    "\n",
    "    # to save all the frequencies used in the scan\n",
    "    q_freq_sweep_2D, ff_amp_sweep_2D = np.meshgrid(q_freq_sweep+ machine.qubits[qubit_index].f_01, ff_sweep * machine.flux_lines[qubit_index].flux_pulse_amp)\n",
    "\n",
    "qmm = QuantumMachinesManager(machine.network.qop_ip, port = '9510', octave=octave_config)\n",
    "\n",
    "simulate = False\n",
    "if simulate:\n",
    "    simulation_config = SimulationConfig(\n",
    "        duration=8000, simulation_interface=LoopbackInterface([(\"con1\", 3, \"con1\", 1)])\n",
    "    )\n",
    "    job = qmm.simulate(config, qubit_spec_2D_unopt, simulation_config)\n",
    "    job.get_simulated_samples().con1.plot()\n",
    "else:\n",
    "    qm = qmm.open_qm(config)\n",
    "    job = qm.execute(qubit_spec_2D_unopt)\n",
    "    # Creates results handles to fetch the data\n",
    "    results = fetching_tool(job, data_list=[\"I\", \"Q\", \"iteration\"], mode=\"live\")\n",
    "    # Live plotting\n",
    "    fig = plt.figure()\n",
    "    interrupt_on_close(fig, job)  #  Interrupts the job when closing the figure\n",
    "    while results.is_processing():\n",
    "        # Fetch results\n",
    "        I, Q, iteration = results.fetch_all()\n",
    "        progress_counter(iteration, n_avg, start_time=results.get_start_time())\n",
    "        # Convert results into Volts\n",
    "        sigs = u.demod2volts(I + 1j * Q, machine.resonators[qubit_index].readout_pulse_length)\n",
    "        sig_amp = np.abs(sigs)  # Amplitude\n",
    "        sig_phase = np.angle(sigs)  # Phase\n",
    "        # Plot results\n",
    "        progress_counter(iteration, n_avg, start_time=results.get_start_time())\n",
    "        plt.cla()\n",
    "        plt.title(\"Qubit spectroscopy amplitude\")\n",
    "        plt.pcolormesh(ff_amp_sweep_2D, q_freq_sweep_2D.astype(float), sig_amp ,cmap=\"seismic\")\n",
    "        plt.ylabel(\"Qubit frequency [MHz]\")\n",
    "        plt.xlabel(\"Flux level [V]\")\n",
    "        plt.pause(0.1)\n",
    "        plt.tight_layout() \n",
    "print(\"Finished!\")    \n",
    "  \n",
    "\n",
    "\n",
    "   "
   ]
  },
  {
   "cell_type": "code",
   "execution_count": null,
   "id": "41969b8a",
   "metadata": {},
   "outputs": [],
   "source": [
    "# plot and fit\n",
    "plt.figure()\n",
    "plt.ylabel(\"Qubit frequency [MHz]\")\n",
    "plt.xlabel(\"Flux level [V]\")\n",
    "plt.pcolormesh(ff_amp_sweep_2D, q_freq_sweep_2D.astype(float)/u.MHz, sig_amp ,cmap=\"seismic\")\n",
    "plt.colorbar()\n",
    "\n",
    "# Determine minima of signal to use as ydata for fitting\n",
    "maximas = []\n",
    "flux = ff_sweep * machine.flux_lines[qubit_index].flux_pulse_amp\n",
    "\n",
    "# Remove edges on flux to avoid having data from top curve\n",
    "bound = 0.045\n",
    "flux_int = np.array([i for i in flux if ((i>= -bound) & (i<= bound))])\n",
    "flux_int_idx = np.array([i for i,v in enumerate((flux>= -bound) & (flux<= bound))  if v])\n",
    "\n",
    "for i in (flux_int_idx):\n",
    "    maximas.append(q_freq_sweep_2D[i][np.argmax(sig_amp[i])])\n",
    "\n",
    "## Plot minima of signal\n",
    "maximas= np.array(maximas)\n",
    "plt.scatter(flux_int.T, maximas/1e6)\n",
    "\n",
    "initial_guess = [1, 0, 6260]  # Initial guess for the parameters\n",
    "fit_params, _ = curve_fit(poly2, flux_int, maximas/1e6, p0=initial_guess)\n",
    "\n",
    "fitted_curve = poly2(flux_int, *fit_params)\n",
    "# Plot fitted data\n",
    "plt.plot(flux_int, fitted_curve, label='Fitted Cosine', color='orange')\n",
    "fitted_curve = fitted_curve*u.kHz\n",
    "fitted_curve = fitted_curve.astype(int)\n",
    "\n",
    "# Sweet spot from fit\n",
    "SS_cal = -fit_params[1]/(2*fit_params[0])\n",
    "print(SS_cal)"
   ]
  },
  {
   "cell_type": "code",
   "execution_count": null,
   "id": "d1fa8a97",
   "metadata": {},
   "outputs": [],
   "source": [
    "savemat(os.path.join(tPath, file_name), {\"q_freq\": q_freq_sweep_2D, \"sig_amp\": sig_amp, \"sig_phase\": sig_phase, \"fast_flux_sweep\": ff_amp_sweep_2D, \"ROI\": ROI, \"ROO\": ROO, \"freq_TWPA\": freq_TWPA, \"pwr_TWPA\": pwr_TWPA})\n",
    "machine._save(os.path.join(tPath, json_name), flat_data=False)"
   ]
  },
  {
   "cell_type": "markdown",
   "id": "33404ad4",
   "metadata": {},
   "source": [
    "## Tuning curve using Hamiltonian "
   ]
  },
  {
   "cell_type": "code",
   "execution_count": null,
   "id": "33ac3d66",
   "metadata": {},
   "outputs": [],
   "source": [
    "## Working tuning curve using freq from Hamiltonian\n",
    "\n",
    "print(\"Start running ...\")\n",
    "\n",
    "now = datetime.datetime.now()\n",
    "month = now.strftime(\"%m\")\n",
    "day = now.strftime(\"%d\")\n",
    "hour = now.strftime(\"%H\")\n",
    "minute = now.strftime(\"%M\")\n",
    "\n",
    "exp_name = 'qubit_spec_flux_sweep_ham'\n",
    "qubit_name = 'UA_Q2'\n",
    "\n",
    "f_str = qubit_name + '_' + exp_name + '_' + month + day + '-' + hour + minute\n",
    "file_name= f_str+'.mat'\n",
    "json_name = f_str + '_state.json'\n",
    "\n",
    "# Set-up the machine and get the config #\n",
    "machine = QuAM(\"quam_state.json\")\n",
    "config = build_config(machine)\n",
    "\n",
    "# Program-specific variables #\n",
    "n_avg = 1_000  # Number of averaging loops\n",
    "qubit_index = 0 \n",
    "cooldown_time = 10_000  # Resonator cooldown time, convert to ns in the wait() function \n",
    "\n",
    "ff_amp_sweep = np.arange(-0.75,0.75+1E-5,0.02)\n",
    "freq_est_diff = (machine.qubits[qubit_index].f_01-1E6*ham([SS], 2, *popt))[0] / 1e3 # in kHz\n",
    "q_freq_est = ham(machine.flux_lines[qubit_index].flux_pulse_amp * ff_amp_sweep+SS, 2, *popt) * 1e3 + freq_est_diff # in kHz\n",
    "q_freq_est = q_freq_est.astype(int) # in kHz\n",
    "\n",
    "q_freq_sweep = np.arange(-100, 100, 1) # this gets multiplied by 1e6 inside the loop\n",
    "z_duration = machine.qubits[qubit_index].pi_length + 40\n",
    "lo = machine.qubits[qubit_index].lo/1e3\n",
    "\n",
    "with program() as qubit_spec_2D_ham:\n",
    "    n = declare(int)  # Averaging index\n",
    "    df = declare(int)  # Qubit sweep\n",
    "    q_freq_est_i = declare(int)  # Estimated qubit frequency\n",
    "    damp = declare(fixed)  # Z amplitude sweep\n",
    "    I = declare(fixed)\n",
    "    Q = declare(fixed)\n",
    "    I_st = declare_stream()\n",
    "    Q_st = declare_stream()\n",
    "    n_st = declare_stream()\n",
    "    qb_if = declare(int)\n",
    "    \n",
    "    with for_(n, 0, n < n_avg, n + 1):\n",
    "        with for_each_((damp,q_freq_est_i),(ff_amp_sweep,q_freq_est)):\n",
    "            assign(qb_if, (q_freq_est_i - lo)*1e3)\n",
    "\n",
    "            with for_(*from_array(df,q_freq_sweep)):\n",
    "                update_frequency(machine.qubits[qubit_index].name, qb_if + df * u.MHz)\n",
    "                play(\"const\" * amp(damp), machine.flux_lines[qubit_index].name, duration = z_duration * u.ns)\n",
    "                wait(5, machine.qubits[qubit_index].name)\n",
    "                play('pi',machine.qubits[qubit_index].name)\n",
    "                align(machine.qubits[qubit_index].name, machine.flux_lines[qubit_index].name,machine.resonators[qubit_index].name)\n",
    "                # Measure the resonator\n",
    "                measure(\n",
    "                    \"readout\",\n",
    "                    machine.resonators[qubit_index].name,\n",
    "                    None,\n",
    "                    dual_demod.full(\"cos\", \"out1\", \"sin\", \"out2\", I),\n",
    "                    dual_demod.full(\"minus_sin\", \"out1\", \"cos\", \"out2\", Q),\n",
    "                )\n",
    "                align()\n",
    "                play(\"const\" * amp((-1)*damp), machine.flux_lines[qubit_index].name, duration = z_duration * u.ns)\n",
    "                # Wait for the resonator to cooldown\n",
    "                wait(cooldown_time * u.ns, machine.resonators[qubit_index].name)\n",
    "                # Save data to the stream processing\n",
    "                save(I, I_st)\n",
    "                save(Q, Q_st)\n",
    "        save(n, n_st)\n",
    "\n",
    "    with stream_processing():\n",
    "        I_st.buffer(len(q_freq_sweep)).buffer(len(ff_amp_sweep)).average().save(\"I\")\n",
    "        Q_st.buffer(len(q_freq_sweep)).buffer(len(ff_amp_sweep)).average().save(\"Q\")\n",
    "        n_st.save(\"iteration\")\n",
    "\n",
    "    # to save all the frequencies used in the scan\n",
    "    q_freq_sweep_2D, q_freq_est_2D = np.meshgrid(q_freq_sweep*1e6, q_freq_est.astype(float) * 1e3)\n",
    "    _, ff_amp_sweep_2D = np.meshgrid(q_freq_sweep*1e6, ff_amp_sweep * machine.flux_lines[qubit_index].flux_pulse_amp)\n",
    "    q_freq_sweep_2D = q_freq_est_2D + q_freq_sweep_2D\n",
    "\n",
    "qmm = QuantumMachinesManager(machine.network.qop_ip, port = '9510', octave=octave_config)\n",
    "\n",
    "simulate = False\n",
    "if simulate:\n",
    "    %matplotlib qt\n",
    "    job = qmm.simulate(config, qubit_spec_2D_ham, SimulationConfig(4000))\n",
    "    job.get_simulated_samples().con1.plot()\n",
    "else:\n",
    "    qm = qmm.open_qm(config)\n",
    "    job = qm.execute(qubit_spec_2D_ham)\n",
    "    # Creates results handles to fetch the data\n",
    "    results = fetching_tool(job, data_list=[\"I\", \"Q\", \"iteration\"], mode=\"live\")\n",
    "    # Live plotting\n",
    "    fig = plt.figure()\n",
    "    interrupt_on_close(fig, job)  #  Interrupts the job when closing the figure\n",
    "    while results.is_processing():\n",
    "        # Fetch results\n",
    "        I, Q, iteration = results.fetch_all()\n",
    "        progress_counter(iteration, n_avg, start_time=results.get_start_time())\n",
    "        # Convert results into Volts\n",
    "        sigs = u.demod2volts(I + 1j * Q, machine.resonators[qubit_index].readout_pulse_length)\n",
    "        sig_amp = np.abs(sigs)  # Amplitude\n",
    "        sig_phase = np.angle(sigs)  # Phase\n",
    "        # Plot results\n",
    "        progress_counter(iteration, n_avg, start_time=results.get_start_time())\n",
    "        plt.cla()\n",
    "        plt.title(\"Qubit spectroscopy amplitude\")\n",
    "        plt.pcolormesh(ff_amp_sweep_2D, q_freq_sweep_2D.astype(float), sig_amp ,cmap=\"seismic\")\n",
    "        plt.ylabel(\"Qubit frequency [MHz]\")\n",
    "        plt.xlabel(\"Flux level [V]\")\n",
    "        plt.pause(0.1)\n",
    "        plt.tight_layout() \n",
    "print(\"Finished!\")\n",
    "\n",
    "\n"
   ]
  },
  {
   "cell_type": "code",
   "execution_count": null,
   "id": "45676ae6",
   "metadata": {},
   "outputs": [],
   "source": [
    "# plot and fit\n",
    "plt.figure()\n",
    "plt.ylabel(\"Qubit frequency [MHz]\")\n",
    "plt.xlabel(\"Flux level [V]\")\n",
    "plt.pcolormesh(ff_amp_sweep_2D, q_freq_sweep_2D.astype(float)/u.MHz, sig_amp ,cmap=\"seismic\")\n",
    "plt.colorbar()\n",
    "\n",
    "# Determine minima of signal to use as ydata for fitting\n",
    "maximas = []\n",
    "flux = ff_amp_sweep * machine.flux_lines[qubit_index].flux_pulse_amp\n",
    "\n",
    "# Remove edges on flux to avoid having data from top curve\n",
    "bound = 0.05\n",
    "flux_int = np.array([i for i in flux if ((i>= -bound) & (i<= bound))])\n",
    "flux_int_idx = np.array([i for i,v in enumerate((flux>= -bound) & (flux<= bound))  if v])\n",
    "\n",
    "for i in (flux_int_idx):\n",
    "    maximas.append(q_freq_sweep_2D[i][np.argmax(sig_amp[i])])\n",
    "\n",
    "## Plot minima of signal\n",
    "maximas= np.array(maximas)\n",
    "plt.scatter(flux_int.T, maximas/1e6)\n",
    "\n",
    "initial_guess = [1, 0, 6250]  # Initial guess for the parameters\n",
    "fit_params, _ = curve_fit(poly2, flux_int, maximas/1e6, p0=initial_guess)\n",
    "\n",
    "fitted_curve = poly2(flux_int, *fit_params)\n",
    "# Plot fitted data\n",
    "plt.plot(flux_int, fitted_curve, label='Fitted Cosine', color='orange')\n",
    "fitted_curve = fitted_curve*u.kHz\n",
    "fitted_curve = fitted_curve.astype(int)\n",
    "\n",
    "# Sweet spot from fit\n",
    "SS_cal = -fit_params[1]/(2*fit_params[0])\n",
    "print(SS_cal)"
   ]
  },
  {
   "cell_type": "code",
   "execution_count": null,
   "id": "e46abaa8",
   "metadata": {},
   "outputs": [],
   "source": [
    "# Save data \n",
    "savemat(os.path.join(tPath, file_name), {\"qubit_freq\": q_freq_sweep_2D, \"sig_amp\": sig_amp, \"sig_phase\": sig_phase, \"ff_sweep\": ff_amp_sweep_2D, \"ROI\": ROI, \"ROO\": ROO, \"freq_TWPA\": freq_TWPA, \"pwr_TWPA\": pwr_TWPA})\n",
    "machine._save(os.path.join(tPath, json_name), flat_data=False)"
   ]
  },
  {
   "cell_type": "code",
   "execution_count": null,
   "id": "86242b1e",
   "metadata": {},
   "outputs": [],
   "source": [
    "# load data from file\n",
    "file_name = 'UA_Q2_qubit_spec_flux_sweep_0907-1453'\n",
    "data = loadmat(os.path.join(r\"Z:\\LabberData_DF5\\QM_Data_DF5\\2023\\09\\Data_0907\", file_name))\n",
    "freq = data['qubit_freq']\n",
    "sig_amp = data['sig_amp']\n",
    "ff_sweep = data['ff_sweep']\n",
    "\n",
    "plt.figure()\n",
    "plt.ylabel(\"Qubit frequency [MHz]\")\n",
    "plt.xlabel(\"Flux level [V]\")\n",
    "plt.pcolormesh(ff_sweep, freq.astype(float)/1e6, sig_amp ,cmap=\"seismic\")\n",
    "plt.colorbar()\n",
    "\n",
    "# Determine minima of signal to use as ydata for fitting\n",
    "maximas = []\n",
    "flux = ff_sweep\n",
    "\n",
    "# Remove edges on flux to avoid having data from top curve\n",
    "flux_int = np.array([i for i in flux if np.any((i>= -0.08) & (i<= 0.08))])\n",
    "flux_int_idx = np.array([i for i,v in enumerate((flux>= -0.08) & (flux<= 0.08))  if np.any(v)])\n",
    "\n",
    "for i in (flux_int_idx):\n",
    "    maximas.append(freq[i][np.argmax(sig_amp[i])])\n",
    "\n",
    "## Plot minima of signal\n",
    "maximas = np.array(maximas)\n",
    "plt.scatter(flux_int.T[0], maximas/1e6)\n",
    "\n",
    "initial_guess = [1, 0, 6405]  # Initial guess for the parameters\n",
    "fit_params, _ = curve_fit(poly2, flux_int.T[0], maximas/1e6, p0=initial_guess)\n",
    "\n",
    "fitted_curve = poly2(flux_int.T[0], *fit_params)\n",
    "# Plot fitted data\n",
    "plt.plot(flux_int.T[0], fitted_curve, label='Fitted Cosine', color='orange')\n",
    "fitted_curve = fitted_curve*u.kHz\n",
    "fitted_curve = fitted_curve.astype(int)\n",
    "\n",
    "# Sweet spot from fit\n",
    "SS_cal = -fit_params[1]/(2*fit_params[0])\n",
    "print(SS_cal)"
   ]
  },
  {
   "cell_type": "markdown",
   "id": "0c767715",
   "metadata": {},
   "source": [
    "## Tuning curve using fit to second order poly"
   ]
  },
  {
   "cell_type": "code",
   "execution_count": null,
   "id": "6ea7fb96",
   "metadata": {},
   "outputs": [],
   "source": [
    "# Takes the frequency from the fitted data to the second order poly\n",
    "\n",
    "print(\"Start running ...\")\n",
    "\n",
    "now = datetime.datetime.now()\n",
    "month = now.strftime(\"%m\")\n",
    "day = now.strftime(\"%d\")\n",
    "hour = now.strftime(\"%H\")\n",
    "minute = now.strftime(\"%M\")\n",
    "\n",
    "exp_name = 'qubit_spec_flux_sweep_2poly'\n",
    "qubit_name = 'UA_Q2'\n",
    "\n",
    "f_str = qubit_name + '_' + exp_name + '_' + month + day + '-' + hour + minute\n",
    "file_name= f_str+'.mat'\n",
    "json_name = f_str + '_state.json'\n",
    "\n",
    "# Set-up the machine and get the config #\n",
    "machine = QuAM(\"quam_state.json\")\n",
    "config = build_config(machine)\n",
    "\n",
    "# Program-specific variables #\n",
    "n_avg = 1_000  # Number of averaging loops\n",
    "qubit_index = 0 \n",
    "cooldown_time = 10_000  # Resonator cooldown time, convert to ns in the wait() function \n",
    "\n",
    "ff_amp_sweep = np.arange(-0.5,0.5+1E-5,0.01)\n",
    "qubit_freq_fit = poly2(ff_amp_sweep* machine.flux_lines[qubit_index].flux_pulse_amp, *fit_params)\n",
    "qubit_freq_fit = qubit_freq_fit*u.kHz\n",
    "q_freq_est = qubit_freq_fit.astype(int)\n",
    "lo = machine.qubits[qubit_index].lo/1e3\n",
    "q_freq_sweep = np.arange(-50, 50, 1)\n",
    "z_duration = machine.qubits[qubit_index].pi_length + 40\n",
    "\n",
    "with program() as qubit_spec_2D_2poly:\n",
    "    n = declare(int)  # Averaging index\n",
    "    df = declare(int)  # Qubit sweep\n",
    "    q_freq_est_i = declare(int)  # Estimated qubit frequency\n",
    "    damp = declare(fixed)  # Z amplitude sweep\n",
    "    I = declare(fixed)\n",
    "    Q = declare(fixed)\n",
    "    I_st = declare_stream()\n",
    "    Q_st = declare_stream()\n",
    "    n_st = declare_stream()\n",
    "    qb_if = declare(int)\n",
    "    \n",
    "    with for_(n, 0, n < n_avg, n + 1):\n",
    "        with for_each_((damp,q_freq_est_i),(ff_amp_sweep,q_freq_est)):\n",
    "            assign(qb_if, (q_freq_est_i - lo)*1e3)\n",
    "            with for_(*from_array(df,q_freq_sweep)):\n",
    "                update_frequency(machine.qubits[qubit_index].name, qb_if + df*1e6)\n",
    "                play(\"const\" * amp(damp), machine.flux_lines[qubit_index].name, duration = z_duration * u.ns)\n",
    "                wait(5, machine.qubits[qubit_index].name)\n",
    "                play('pi',machine.qubits[qubit_index].name)\n",
    "                align(machine.qubits[qubit_index].name, machine.flux_lines[qubit_index].name,machine.resonators[qubit_index].name)\n",
    "                # Measure the resonator\n",
    "                measure(\n",
    "                    \"readout\",\n",
    "                    machine.resonators[qubit_index].name,\n",
    "                    None,\n",
    "                    dual_demod.full(\"cos\", \"out1\", \"sin\", \"out2\", I),\n",
    "                    dual_demod.full(\"minus_sin\", \"out1\", \"cos\", \"out2\", Q),\n",
    "                )\n",
    "                align()\n",
    "                play(\"const\" * amp((-1)*damp), machine.flux_lines[qubit_index].name, duration = z_duration * u.ns)\n",
    "                # Wait for the resonator to cooldown\n",
    "                wait(cooldown_time * u.ns, machine.resonators[qubit_index].name)\n",
    "                # Save data to the stream processing\n",
    "                save(I, I_st)\n",
    "                save(Q, Q_st)\n",
    "        save(n, n_st)\n",
    "\n",
    "    with stream_processing():\n",
    "        I_st.buffer(len(q_freq_sweep)).buffer(len(ff_amp_sweep)).average().save(\"I\")\n",
    "        Q_st.buffer(len(q_freq_sweep)).buffer(len(ff_amp_sweep)).average().save(\"Q\")\n",
    "        n_st.save(\"iteration\")\n",
    "\n",
    "    # to save all the frequencies used in the scan\n",
    "    q_freq_sweep_2D, q_freq_est_2D = np.meshgrid(q_freq_sweep *1e6, q_freq_est.astype(float) * 1e3)\n",
    "    _, ff_amp_sweep_2D = np.meshgrid(q_freq_sweep*1e6, ff_amp_sweep * machine.flux_lines[qubit_index].flux_pulse_amp)\n",
    "    q_freq_sweep_2D = q_freq_est_2D + q_freq_sweep_2D\n",
    "\n",
    "###############\n",
    "# Run Program #\n",
    "###############\n",
    "#  Open Communication with the QOP  #\n",
    "# qmm = QuantumMachinesManager(machine.network.qop_ip, cluster_name=machine.network.cluster_name, octave=octave_config)\n",
    "# qmm = QuantumMachinesManager(machine.network.qop_ip, port = '9510', octave=octave_config, log_level = \"ERROR\")\n",
    "qmm = QuantumMachinesManager(machine.network.qop_ip, port = '9510', octave=octave_config)\n",
    "\n",
    "simulate = False\n",
    "if simulate:\n",
    "    %matplotlib qt\n",
    "    job = qmm.simulate(config, qubit_spec_2D_2poly, SimulationConfig(4000))\n",
    "    job.get_simulated_samples().con1.plot()\n",
    "else:\n",
    "    qm = qmm.open_qm(config)\n",
    "    job = qm.execute(qubit_spec_2D_2poly)\n",
    "    # Creates results handles to fetch the data\n",
    "    results = fetching_tool(job, data_list=[\"I\", \"Q\", \"iteration\"], mode=\"live\")\n",
    "    # Live plotting\n",
    "    fig = plt.figure()\n",
    "    interrupt_on_close(fig, job)  #  Interrupts the job when closing the figure\n",
    "    while results.is_processing():\n",
    "        # Fetch results\n",
    "        I, Q, iteration = results.fetch_all()\n",
    "        progress_counter(iteration, n_avg, start_time=results.get_start_time())\n",
    "        # Convert results into Volts\n",
    "        sigs = u.demod2volts(I + 1j * Q, machine.resonators[qubit_index].readout_pulse_length)\n",
    "        sig_amp = np.abs(sigs)  # Amplitude\n",
    "        sig_phase = np.angle(sigs)  # Phase\n",
    "        # Plot results\n",
    "        plt.cla()\n",
    "        plt.title(\"Qubit spectroscopy amplitude\")\n",
    "        plt.pcolormesh(ff_amp_sweep_2D, q_freq_sweep_2D.astype(float), sig_amp ,cmap=\"seismic\")\n",
    "        \n",
    "#         plt.pcolormesh(ff_amp_sweep, q_freq_sweep.astype(float) * u.kHz, sig_amp, shading='auto',cmap=\"seismic\")\n",
    "        plt.ylabel(\"Qubit frequency [MHz]\")\n",
    "        plt.xlabel(\"Flux level [V]\")\n",
    "        plt.pause(0.1)\n",
    "        plt.tight_layout() \n",
    "plt.colorbar()\n",
    "print(\"Finished!\")    \n",
    "  \n",
    "    \n",
    "# # this is to generate qua script for QM people to troubleshoot\n",
    "# sourceFile = open('debug.py', 'w')\n",
    "# print(generate_qua_script(qubit_spec_2D, config), file=sourceFile)\n",
    "# sourceFile.close()\n",
    "\n",
    "    \n",
    " "
   ]
  },
  {
   "cell_type": "code",
   "execution_count": null,
   "id": "a0b0c0ed",
   "metadata": {},
   "outputs": [],
   "source": [
    "# Save data \n",
    "savemat(os.path.join(tPath, file_name), {\"qubit_freq\": q_freq_sweep_2D, \"sig_amp\": sig_amp, \"sig_phase\": sig_phase, \"ff_sweep\": ff_amp_sweep_2D, \"ROI\": ROI, \"ROO\": ROO, \"freq_TWPA\": freq_TWPA, \"pwr_TWPA\": pwr_TWPA})\n",
    "machine._save(os.path.join(tPath, json_name), flat_data=False)"
   ]
  }
 ],
 "metadata": {
  "kernelspec": {
   "display_name": "Python 3 (ipykernel)",
   "language": "python",
   "name": "python3"
  },
  "language_info": {
   "codemirror_mode": {
    "name": "ipython",
    "version": 3
   },
   "file_extension": ".py",
   "mimetype": "text/x-python",
   "name": "python",
   "nbconvert_exporter": "python",
   "pygments_lexer": "ipython3",
   "version": "3.8.17"
  }
 },
 "nbformat": 4,
 "nbformat_minor": 5
}
