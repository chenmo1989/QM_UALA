{
 "cells": [
  {
   "cell_type": "markdown",
   "id": "65f1c66e",
   "metadata": {},
   "source": [
    "# Switch calibration for the control electronics"
   ]
  },
  {
   "cell_type": "markdown",
   "id": "70613394",
   "metadata": {},
   "source": [
    "## Set the qubit # first"
   ]
  },
  {
   "cell_type": "code",
   "execution_count": null,
   "id": "804f41bb",
   "metadata": {},
   "outputs": [],
   "source": [
    "from qm.qua import *\n",
    "from qm import QuantumMachinesManager, SimulationConfig, LoopbackInterface, generate_qua_script\n",
    "from qm.octave import *\n",
    "from qm.octave.octave_manager import ClockMode\n",
    "from configuration import *\n",
    "from scipy import signal\n",
    "from qualang_tools.bakery import baking\n",
    "from qualang_tools.units import unit\n",
    "from qm.octave import QmOctaveConfig\n",
    "from set_octave import ElementsSettings, octave_settings\n",
    "from quam import QuAM\n",
    "from scipy.io import savemat, loadmat\n",
    "from scipy.optimize import curve_fit\n",
    "from scipy.signal import savgol_filter\n",
    "from qutip import *\n",
    "from typing import Union\n",
    "from macros import *\n",
    "import datetime \n",
    "import os\n",
    "import time\n",
    "import warnings\n",
    "import json\n",
    "import matplotlib.pyplot as plt\n",
    "import numpy as np\n",
    "import Labber\n",
    "\n",
    "from ExperimentClass import ExperimentHandle\n",
    "from AnalysisClass import AnalysisHandle\n",
    "\n",
    "warnings.filterwarnings(\"ignore\")\n",
    "\n",
    "qubit_index = 0 # for UA Q1\n",
    "res_index = 0 # for UA Q1\n",
    "flux_index = 0 # for UA Q1"
   ]
  },
  {
   "cell_type": "code",
   "execution_count": null,
   "id": "be5217a7",
   "metadata": {},
   "outputs": [],
   "source": [
    "Experiment = ExperimentHandle()\n",
    "Analysis = AnalysisHandle()\n",
    "machine = Analysis.get_machine()"
   ]
  },
  {
   "cell_type": "code",
   "execution_count": null,
   "id": "4bd4a285",
   "metadata": {},
   "outputs": [],
   "source": [
    "# initialize Labber-controlled hardware\n",
    "Experiment.set_Labber(Analysis.get_machine(), qubit_index, res_index, flux_index)\n",
    "# set octave to external clock\n",
    "#Experiment.set_external_clock()"
   ]
  },
  {
   "cell_type": "code",
   "execution_count": null,
   "id": "06f633de",
   "metadata": {},
   "outputs": [],
   "source": [
    "machine.qubits[qubit_index].lo = machine.qubits[qubit_index].f_01 + 50e6\n",
    "machine = Analysis.set_machine(machine)"
   ]
  },
  {
   "cell_type": "code",
   "execution_count": null,
   "id": "456bc381",
   "metadata": {},
   "outputs": [],
   "source": [
    "# this updates the octave settings, including rf_gain and rf_output_mode\n",
    "Experiment.octave_calibration(qubit_index,res_index,flux_index,calibration_flag = True)"
   ]
  },
  {
   "cell_type": "markdown",
   "id": "4f7cdece",
   "metadata": {},
   "source": [
    "## Resonator switch calibration"
   ]
  },
  {
   "cell_type": "markdown",
   "id": "22b0147b",
   "metadata": {},
   "source": [
    "### 1D resonator spectroscopy first"
   ]
  },
  {
   "cell_type": "code",
   "execution_count": null,
   "id": "a0864db5",
   "metadata": {},
   "outputs": [],
   "source": [
    "%matplotlib qt\n",
    "res_freq_sweep = machine.resonators[res_index].f_readout + np.arange(-3E6,3E6 + 1.0,0.02E6)\n",
    "machine, res_freq_sweep, sig_amp = Experiment.exp1D.RR.rr_freq(res_freq_sweep, qubit_index, res_index, flux_index, \n",
    "                            n_avg = 1E3, cd_time = 5E3, readout_state = 'g', simulate_flag = False, simulation_len = 1000)\n",
    "# Readout in excited state\n",
    "# machine, res_freq_sweep, sig_amp = Experiment.exp1D.RR.rr_freq(res_freq_sweep, qubit_index, res_index, flux_index, \n",
    "#                           n_avg = 1E3, cd_time = 5E3, readout_state = 'e', simulate_flag = False, simulation_len = 1000)"
   ]
  },
  {
   "cell_type": "code",
   "execution_count": null,
   "id": "994189b5",
   "metadata": {},
   "outputs": [],
   "source": [
    "# find the minimal\n",
    "%matplotlib inline\n",
    "res_freq = Analysis.exp1D.rr_freq(res_freq_sweep, sig_amp)\n",
    "machine.resonators[res_index].f_readout = res_freq.tolist() + 0E6\n",
    "machine = Analysis.set_machine(machine)"
   ]
  },
  {
   "cell_type": "markdown",
   "id": "fa2f4061",
   "metadata": {},
   "source": [
    "### Switch delay calibration"
   ]
  },
  {
   "cell_type": "code",
   "execution_count": null,
   "id": "011b04fa",
   "metadata": {},
   "outputs": [],
   "source": [
    "%matplotlib inline\n",
    "rr_switch_delay_sweep = np.arange(70,110,1)\n",
    "machine, rr_switch_delay_sweep, sig_amp = Experiment.exp1D.RR.rr_switch_delay(rr_switch_delay_sweep, qubit_index, res_index, flux_index, \n",
    "                          n_avg = 160E3, cd_time = 20E3, simulate_flag = False, simulation_len = 500, plot_flag = True)"
   ]
  },
  {
   "cell_type": "markdown",
   "id": "7c4770e9",
   "metadata": {},
   "source": [
    "### Switch buffer calibration"
   ]
  },
  {
   "cell_type": "code",
   "execution_count": null,
   "id": "e072ef6d",
   "metadata": {},
   "outputs": [],
   "source": [
    "%matplotlib inline\n",
    "rr_switch_buffer_sweep = np.arange(0,25 + 1,1)\n",
    "machine, rr_switch_delay_sweep, sig_amp = Experiment.exp1D.RR.rr_switch_buffer(rr_switch_buffer_sweep, qubit_index, res_index, flux_index, \n",
    "                          n_avg = 20E3, cd_time = 20E3, simulate_flag = False, simulation_len = 500, plot_flag = True)"
   ]
  },
  {
   "cell_type": "markdown",
   "id": "c3f15ea8",
   "metadata": {},
   "source": [
    "## XY switch calibration"
   ]
  },
  {
   "cell_type": "markdown",
   "id": "8f950a68",
   "metadata": {},
   "source": [
    "### qubit spectroscopy first"
   ]
  },
  {
   "cell_type": "code",
   "execution_count": null,
   "id": "31e7328a",
   "metadata": {},
   "outputs": [],
   "source": [
    "qubit_freq_est = np.polyval(machine.qubits[qubit_index].AC_tuning_curve,0.0) * 1E6 # in Hz\n",
    "qubit_freq_sweep = int(qubit_freq_est) + np.arange(-60E6, 60E6 + 1, 1E6)\n",
    "    \n",
    "%matplotlib qt\n",
    "machine, qubit_freq_sweep, sig_amp = Experiment.exp1D.Rabi.qubit_freq(qubit_freq_sweep, qubit_index, res_index, flux_index, \n",
    "                                      pi_amp_rel = 1.0, ff_amp = 0.0, n_avg = 1E3, cd_time = 20E3, plot_flag = False, \n",
    "                                      simulate_flag = False, simulation_len = 4000)"
   ]
  },
  {
   "cell_type": "code",
   "execution_count": null,
   "id": "d033d128",
   "metadata": {},
   "outputs": [],
   "source": [
    "%matplotlib inline\n",
    "qubit_freq = Analysis.exp1D.peak_fit(x=qubit_freq_sweep,y=sig_amp,method=\"gaussian\")\n",
    "qubit_freq = int(qubit_freq.tolist())\n",
    "machine.qubits[qubit_index].f_01 = qubit_freq + 0E6\n",
    "machine.qubits[qubit_index].lo = qubit_freq + 100E6\n",
    "machine = Analysis.set_machine(machine)"
   ]
  },
  {
   "cell_type": "markdown",
   "id": "e3ea62ad",
   "metadata": {},
   "source": [
    "### Switch delay calibration"
   ]
  },
  {
   "cell_type": "code",
   "execution_count": null,
   "id": "2f0ef9bb",
   "metadata": {},
   "outputs": [],
   "source": [
    "%matplotlib inline\n",
    "qubit_switch_delay_sweep = np.arange(70,110,1)\n",
    "for i in range(4):\n",
    "    machine, qubit_switch_delay_sweep, sig_amp = Experiment.exp1D.Rabi.qubit_switch_delay(qubit_switch_delay_sweep, qubit_index, res_index, flux_index, \n",
    "                              n_avg = 160E3, cd_time = 20E3, simulate_flag = False, simulation_len = 500, plot_flag = False)"
   ]
  },
  {
   "cell_type": "markdown",
   "id": "646e5ecf",
   "metadata": {},
   "source": [
    "### Switch buffer calibration"
   ]
  },
  {
   "cell_type": "code",
   "execution_count": null,
   "id": "4b75a7fa",
   "metadata": {},
   "outputs": [],
   "source": [
    "%matplotlib inline\n",
    "qubit_switch_buffer_sweep = np.arange(0,70 + 1,2)\n",
    "for k in range(5):\n",
    "    machine, qubit_switch_buffer_sweep, sig_amp = Experiment.exp1D.Rabi.qubit_switch_buffer(qubit_switch_buffer_sweep, qubit_index, res_index, flux_index, \n",
    "                              n_avg = 20E3, cd_time = 20E3, simulate_flag = False, simulation_len = 500, plot_flag = True)"
   ]
  }
 ],
 "metadata": {
  "kernelspec": {
   "display_name": "Python 3 (ipykernel)",
   "language": "python",
   "name": "python3"
  },
  "language_info": {
   "codemirror_mode": {
    "name": "ipython",
    "version": 3
   },
   "file_extension": ".py",
   "mimetype": "text/x-python",
   "name": "python",
   "nbconvert_exporter": "python",
   "pygments_lexer": "ipython3",
   "version": "3.8.17"
  }
 },
 "nbformat": 4,
 "nbformat_minor": 5
}
