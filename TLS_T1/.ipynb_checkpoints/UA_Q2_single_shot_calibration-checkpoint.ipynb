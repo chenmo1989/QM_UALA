{
 "cells": [
  {
   "cell_type": "markdown",
   "id": "a4840294",
   "metadata": {},
   "source": [
    "# Single-Shot Readout Calibration for UA Q2"
   ]
  },
  {
   "cell_type": "markdown",
   "id": "692d00ed",
   "metadata": {},
   "source": [
    "### Using Experiment and Analysis Class, make sure to update qubit #"
   ]
  },
  {
   "cell_type": "code",
   "execution_count": 1,
   "id": "e1662d07",
   "metadata": {},
   "outputs": [
    {
     "name": "stdout",
     "output_type": "stream",
     "text": [
      "2024-01-19 21:23:04,187 - qm - INFO     - Starting session: 12216b99-e463-4a80-8cfd-da890a265d4f\n"
     ]
    }
   ],
   "source": [
    "from qm.qua import *\n",
    "from qm import QuantumMachinesManager, SimulationConfig, LoopbackInterface, generate_qua_script\n",
    "from qm.octave import *\n",
    "from qm.octave.octave_manager import ClockMode\n",
    "from configuration import *\n",
    "from scipy import signal\n",
    "from qualang_tools.bakery import baking\n",
    "from qualang_tools.units import unit\n",
    "from qm.octave import QmOctaveConfig\n",
    "from set_octave import ElementsSettings, octave_settings\n",
    "from quam import QuAM\n",
    "from scipy.io import savemat, loadmat\n",
    "from scipy.optimize import curve_fit\n",
    "from scipy.signal import savgol_filter\n",
    "from qutip import *\n",
    "from typing import Union\n",
    "from macros import *\n",
    "import datetime \n",
    "import os\n",
    "import time\n",
    "import warnings\n",
    "import json\n",
    "import matplotlib.pyplot as plt\n",
    "import numpy as np\n",
    "import Labber\n",
    "\n",
    "from ExperimentClass import ExperimentHandle\n",
    "from AnalysisClass import AnalysisHandle\n",
    "\n",
    "warnings.filterwarnings(\"ignore\")\n",
    "\n",
    "qubit_index = 1 # for UA Q2\n",
    "res_index = 1 # for UA Q2\n",
    "flux_index = 1 # for UA Q2\n",
    "TLS_index = 0 # for TLS of interest"
   ]
  },
  {
   "cell_type": "code",
   "execution_count": 2,
   "id": "d9c45e83",
   "metadata": {},
   "outputs": [],
   "source": [
    "Experiment = ExperimentHandle()\n",
    "Analysis = AnalysisHandle()\n",
    "machine = Analysis.get_machine()"
   ]
  },
  {
   "cell_type": "code",
   "execution_count": 4,
   "id": "8447b8fe",
   "metadata": {},
   "outputs": [],
   "source": [
    "# initialize Labber-controlled hardware\n",
    "Experiment.set_Labber(Analysis.get_machine(), qubit_index, res_index, flux_index)\n",
    "# set to sweet spot\n",
    "machine = Experiment.set_QDAC(qubit_index,res_index,flux_index,machine.flux_lines[flux_index].max_frequency_point)\n",
    "# set octave to external clock\n",
    "#Experiment.set_external_clock()"
   ]
  },
  {
   "cell_type": "code",
   "execution_count": 3,
   "id": "0274806a",
   "metadata": {},
   "outputs": [],
   "source": [
    "# Set the qubit freq, in case I was working with something else\n",
    "machine.qubits[qubit_index].f_01 = machine.qubits[qubit_index].f_tls[0] + 0E6\n",
    "machine.qubits[qubit_index].lo = machine.qubits[qubit_index].f_01 + 50E6\n",
    "machine = Analysis.set_machine(machine)"
   ]
  },
  {
   "cell_type": "code",
   "execution_count": 4,
   "id": "8595c7d5",
   "metadata": {},
   "outputs": [
    {
     "name": "stdout",
     "output_type": "stream",
     "text": [
      "2024-01-19 21:23:15,460 - qm - INFO     - Octave \"octave1\" Health check passed, current temperature 58\n"
     ]
    },
    {
     "name": "stderr",
     "output_type": "stream",
     "text": [
      "INFO:qm:Octave \"octave1\" Health check passed, current temperature 58\n"
     ]
    },
    {
     "name": "stdout",
     "output_type": "stream",
     "text": [
      "2024-01-19 21:23:15,463 - qm - INFO     - Performing health check\n"
     ]
    },
    {
     "name": "stderr",
     "output_type": "stream",
     "text": [
      "INFO:qm.api.frontend_api:Performing health check\n"
     ]
    },
    {
     "name": "stdout",
     "output_type": "stream",
     "text": [
      "2024-01-19 21:23:15,480 - qm - INFO     - Health check passed\n"
     ]
    },
    {
     "name": "stderr",
     "output_type": "stream",
     "text": [
      "INFO:qm.api.frontend_api:Health check passed\n"
     ]
    },
    {
     "name": "stdout",
     "output_type": "stream",
     "text": [
      "------------------------------------- Calibrates r1 for (LO, IF) = (7.185 GHz, -50.000 MHz)\n",
      "2024-01-19 21:23:23,325 - qm - INFO     - Compiling program\n"
     ]
    },
    {
     "name": "stderr",
     "output_type": "stream",
     "text": [
      "INFO:qm.QuantumMachine:Compiling program\n"
     ]
    },
    {
     "name": "stdout",
     "output_type": "stream",
     "text": [
      "------------------------------------- Calibrates q1 for (LO, IF) = (6.274 GHz, -50.000 MHz)\n",
      "2024-01-19 21:23:36,402 - qm - INFO     - Compiling program\n"
     ]
    },
    {
     "name": "stderr",
     "output_type": "stream",
     "text": [
      "INFO:qm.QuantumMachine:Compiling program\n"
     ]
    }
   ],
   "source": [
    "# octave calibration\n",
    "Experiment.octave_calibration(qubit_index,res_index,flux_index,calibration_flag = True)"
   ]
  },
  {
   "cell_type": "markdown",
   "id": "d7eb970c",
   "metadata": {},
   "source": [
    "## 1D resonator spectroscopy"
   ]
  },
  {
   "cell_type": "code",
   "execution_count": 5,
   "id": "6c02f74a",
   "metadata": {},
   "outputs": [
    {
     "name": "stdout",
     "output_type": "stream",
     "text": [
      "Progress: [##################################################] 100.0% (n=1000/1000.0) --> elapsed time: 0.92s\n",
      "Progress: [##################################################] 100.0% (n=1000/1000.0) --> elapsed time: 1.02s\n",
      "Execution stopped by user!\n"
     ]
    }
   ],
   "source": [
    "%matplotlib qt\n",
    "machine = Analysis.get_machine()\n",
    "res_freq_sweep = machine.resonators[res_index].f_readout + np.arange(-5E6,5E6 + 1.0,0.05E6)\n",
    "machine, res_freq_sweep, sig_amp = Experiment.exp1D.RR.rr_freq(res_freq_sweep, qubit_index, res_index, flux_index, \n",
    "                           n_avg = 1E3, cd_time = 5E3, readout_state = 'e', simulate_flag = False, simulation_len = 1000)"
   ]
  },
  {
   "cell_type": "code",
   "execution_count": 6,
   "id": "60caf435",
   "metadata": {},
   "outputs": [
    {
     "name": "stdout",
     "output_type": "stream",
     "text": [
      "resonator frequency: 7132.848 MHz\n"
     ]
    },
    {
     "data": {
      "image/png": "[encoded data removed]",
      "text/plain": [
       "<Figure size 600x300 with 1 Axes>"
      ]
     },
     "metadata": {},
     "output_type": "display_data"
    }
   ],
   "source": [
    "# find the minimal\n",
    "%matplotlib inline\n",
    "res_freq = Analysis.exp1D.rr_freq(res_freq_sweep, sig_amp)\n",
    "if True:\n",
    "    machine.resonators[res_index].f_readout = res_freq.tolist() + 0E6\n",
    "    machine.resonators[res_index].lo = machine.resonators[res_index].f_readout + 50E6\n",
    "    machine = Analysis.set_machine(machine)"
   ]
  },
  {
   "cell_type": "markdown",
   "id": "0bc723e7",
   "metadata": {},
   "source": [
    "## 1D qubit spectroscopy"
   ]
  },
  {
   "cell_type": "code",
   "execution_count": 7,
   "id": "bd113f2c",
   "metadata": {},
   "outputs": [
    {
     "name": "stdout",
     "output_type": "stream",
     "text": [
      "Progress: [##################################################] 100.0% (n=1000/1000.0) --> elapsed time: 2.33s\n",
      "Progress: [##################################################] 100.0% (n=1000/1000.0) --> elapsed time: 2.41s\n",
      "Execution stopped by user!\n"
     ]
    }
   ],
   "source": [
    "# for the DC flux\n",
    "#qubit_freq_est = np.polyval(machine.qubits[qubit_index].DC_tuning_curve,machine.flux_lines[flux_index].max_frequency_point) * 1E6 # in Hz\n",
    "# for the fast flux\n",
    "qubit_freq_sweep = machine.qubits[qubit_index].f_01 + np.arange(-30E6, 30E6 + 1, 0.5E6)\n",
    "    \n",
    "%matplotlib qt\n",
    "machine, qubit_freq_sweep, sig_amp = Experiment.exp1D.Rabi.qubit_freq(qubit_freq_sweep, qubit_index, res_index, flux_index, \n",
    "                                      pi_amp_rel = 1.0, ff_amp = 0.0, n_avg = 1E3, cd_time = 20E3, plot_flag = True, \n",
    "                                      simulate_flag = False, simulation_len = 4000)"
   ]
  },
  {
   "cell_type": "code",
   "execution_count": 9,
   "id": "3ad33a6a",
   "metadata": {},
   "outputs": [
    {
     "name": "stdout",
     "output_type": "stream",
     "text": [
      "resonant frequency: 6224.394 MHz\n"
     ]
    },
    {
     "data": {
      "image/png": "[encoded data removed]",
      "text/plain": [
       "<Figure size 600x300 with 1 Axes>"
      ]
     },
     "metadata": {},
     "output_type": "display_data"
    }
   ],
   "source": [
    "%matplotlib inline\n",
    "qubit_freq = Analysis.exp1D.peak_fit(x=qubit_freq_sweep,y=sig_amp,method=\"gaussian\")\n",
    "qubit_freq = int(qubit_freq.tolist())\n",
    "machine.qubits[qubit_index].f_01 = qubit_freq + 0E6\n",
    "machine.qubits[qubit_index].f_tls[0] = qubit_freq + 0E6\n",
    "machine.qubits[qubit_index].lo = qubit_freq + 50E6\n",
    "machine = Analysis.set_machine(machine)"
   ]
  },
  {
   "cell_type": "markdown",
   "id": "6c252c1e",
   "metadata": {},
   "source": [
    "## Measure single-shot I, Q blobs"
   ]
  },
  {
   "cell_type": "code",
   "execution_count": 10,
   "id": "5ac68f1d-1186-4ac7-a2ce-0d2365510a5c",
   "metadata": {},
   "outputs": [],
   "source": [
    "%matplotlib inline\n",
    "machine, Ig, Qg, Ie, Qe = Experiment.exp1D.RR.single_shot_IQ_blob(machine.resonators[res_index].f_readout, qubit_index, res_index, flux_index,\n",
    "                              n_avg = 120E3, cd_time = 20E3, plot_flag = False)"
   ]
  },
  {
   "cell_type": "code",
   "execution_count": 11,
   "id": "17d34b84",
   "metadata": {
    "scrolled": true
   },
   "outputs": [
    {
     "name": "stdout",
     "output_type": "stream",
     "text": [
      "\n",
      "\t\t\tFidelity Matrix:\n",
      "\t\t\t-----------------\n",
      "\t\t\t| 0.739 | 0.261 |\n",
      "\t\t\t----------------\n",
      "\t\t\t| 0.267 | 0.733 |\n",
      "\t\t\t-----------------\n",
      "\t\t\tIQ plane rotated by: 90.2°\n",
      "\t\t\tThreshold: 1.162e-03\n",
      "\t\t\tFidelity: 73.6%\n",
      "\t\t\t\n"
     ]
    },
    {
     "data": {
      "image/png": "[encoded data removed]",
      "text/plain": [
       "<Figure size 600x300 with 4 Axes>"
      ]
     },
     "metadata": {},
     "output_type": "display_data"
    }
   ],
   "source": [
    "angle, threshold, fidelity, gg, ge, eg, ee = Analysis.exp1D.two_state_discriminator(Ig, Qg, Ie, Qe, plot_flag=True)"
   ]
  },
  {
   "cell_type": "code",
   "execution_count": 12,
   "id": "1719b804",
   "metadata": {},
   "outputs": [],
   "source": [
    "# set the rotation angle\n",
    "machine.resonators[res_index].rotation_angle = angle.item()\n",
    "machine.resonators[res_index].ge_threshold = threshold.item()\n",
    "machine = Analysis.set_machine(machine)"
   ]
  },
  {
   "cell_type": "markdown",
   "id": "faa5b838",
   "metadata": {},
   "source": [
    "## optimize single-shot frequency"
   ]
  },
  {
   "cell_type": "code",
   "execution_count": 53,
   "id": "2d779fe2",
   "metadata": {},
   "outputs": [
    {
     "name": "stdout",
     "output_type": "stream",
     "text": [
      "Progress: [##################################################] 100.0% (n=100000/100000.0) --> elapsed time: 1313.68s\n",
      "The optimal readout frequency is 7261849244.0 Hz (SNR=2.9581784930755806)\n"
     ]
    }
   ],
   "source": [
    "res_freq_sweep = machine.resonators[res_index].f_readout + np.arange(-3E6, 2E6 + 1, 0.02E6)\n",
    "\n",
    "%matplotlib qt\n",
    "machine, SNR, res_freq_opt = Experiment.exp1D.RR.single_shot_freq_optimization(res_freq_sweep, qubit_index, res_index, flux_index,\n",
    "                              n_avg = 100E3, cd_time = 25E3, plot_flag = True)"
   ]
  },
  {
   "cell_type": "code",
   "execution_count": 54,
   "id": "94b74f7b",
   "metadata": {},
   "outputs": [
    {
     "name": "stdout",
     "output_type": "stream",
     "text": [
      "Execution stopped by user!\n"
     ]
    }
   ],
   "source": [
    "machine.resonators[res_index].f_readout = res_freq_opt.tolist() + 0E6\n",
    "machine.resonators[res_index].lo = machine.resonators[res_index].f_readout + 50E6\n",
    "machine = Analysis.set_machine(machine)"
   ]
  },
  {
   "cell_type": "code",
   "execution_count": 56,
   "id": "25ac00a5",
   "metadata": {},
   "outputs": [
    {
     "name": "stdout",
     "output_type": "stream",
     "text": [
      "2023-12-28 20:48:49,730 - qm - INFO     - Performing health check\n"
     ]
    },
    {
     "name": "stderr",
     "output_type": "stream",
     "text": [
      "INFO:qm.api.frontend_api:Performing health check\n"
     ]
    },
    {
     "name": "stdout",
     "output_type": "stream",
     "text": [
      "2023-12-28 20:48:49,745 - qm - INFO     - Health check passed\n"
     ]
    },
    {
     "name": "stderr",
     "output_type": "stream",
     "text": [
      "INFO:qm.api.frontend_api:Health check passed\n"
     ]
    },
    {
     "name": "stdout",
     "output_type": "stream",
     "text": [
      "------------------------------------- Calibrates r0 for (LO, IF) = (7.312 GHz, -50.000 MHz)\n",
      "2023-12-28 20:48:56,205 - qm - INFO     - Compiling program\n"
     ]
    },
    {
     "name": "stderr",
     "output_type": "stream",
     "text": [
      "INFO:qm.QuantumMachine:Compiling program\n"
     ]
    },
    {
     "name": "stdout",
     "output_type": "stream",
     "text": [
      "------------------------------------- Calibrates q0 for (LO, IF) = (6.468 GHz, -50.000 MHz)\n",
      "2023-12-28 20:49:08,664 - qm - INFO     - Compiling program\n"
     ]
    },
    {
     "name": "stderr",
     "output_type": "stream",
     "text": [
      "INFO:qm.QuantumMachine:Compiling program\n"
     ]
    }
   ],
   "source": [
    "# octave calibration\n",
    "Experiment.octave_calibration(qubit_index,res_index,flux_index,calibration_flag = True)"
   ]
  },
  {
   "cell_type": "markdown",
   "id": "e6bb4dbf",
   "metadata": {},
   "source": [
    "## optimize single-shot amplitude"
   ]
  },
  {
   "cell_type": "code",
   "execution_count": 50,
   "id": "ea1dab50",
   "metadata": {},
   "outputs": [
    {
     "name": "stdout",
     "output_type": "stream",
     "text": [
      "Progress: [##################################################] 100.0% (n=101/101) --> elapsed time: 208.47s\n",
      "Progress: [##################################################] 100.0% (n=101/101) --> elapsed time: 208.49s\n",
      "Progress: [##################################################] 100.0% (n=101/101) --> elapsed time: 208.51s\n",
      "Progress: [##################################################] 100.0% (n=101/101) --> elapsed time: 208.54s\n",
      "Progress: [##################################################] 100.0% (n=101/101) --> elapsed time: 208.56s\n",
      "Progress: [##################################################] 100.0% (n=101/101) --> elapsed time: 208.58s\n",
      "Progress: [##################################################] 100.0% (n=101/101) --> elapsed time: 208.61s\n",
      "Progress: [##################################################] 100.0% (n=101/101) --> elapsed time: 208.63s\n",
      "Progress: [##################################################] 100.0% (n=101/101) --> elapsed time: 208.65s\n",
      "Progress: [##################################################] 100.0% (n=101/101) --> elapsed time: 208.68s\n",
      "Progress: [##################################################] 100.0% (n=101/101) --> elapsed time: 208.70s\n",
      "Progress: [##################################################] 100.0% (n=101/101) --> elapsed time: 208.73s\n",
      "Progress: [##################################################] 100.0% (n=101/101) --> elapsed time: 208.75s\n",
      "Progress: [##################################################] 100.0% (n=101/101) --> elapsed time: 208.76s\n",
      "Progress: [##################################################] 100.0% (n=101/101) --> elapsed time: 208.78s\n",
      "Progress: [##################################################] 100.0% (n=101/101) --> elapsed time: 208.80s\n",
      "Progress: [##################################################] 100.0% (n=101/101) --> elapsed time: 208.82s\n",
      "Progress: [##################################################] 100.0% (n=101/101) --> elapsed time: 208.84s\n",
      "Progress: [##################################################] 100.0% (n=101/101) --> elapsed time: 208.86s\n",
      "Progress: [##################################################] 100.0% (n=101/101) --> elapsed time: 208.89s\n",
      "Progress: [##################################################] 100.0% (n=101/101) --> elapsed time: 208.91s\n",
      "Progress: [##################################################] 100.0% (n=101/101) --> elapsed time: 208.93s\n",
      "Progress: [##################################################] 100.0% (n=101/101) --> elapsed time: 208.95s\n",
      "Progress: [##################################################] 100.0% (n=101/101) --> elapsed time: 208.98s\n",
      "Progress: [##################################################] 100.0% (n=101/101) --> elapsed time: 209.00s\n",
      "Progress: [##################################################] 100.0% (n=101/101) --> elapsed time: 209.02s\n",
      "Progress: [##################################################] 100.0% (n=101/101) --> elapsed time: 209.05s\n",
      "Progress: [##################################################] 100.0% (n=101/101) --> elapsed time: 209.07s\n",
      "Progress: [##################################################] 100.0% (n=101/101) --> elapsed time: 209.09s\n",
      "Progress: [##################################################] 100.0% (n=101/101) --> elapsed time: 209.11s\n",
      "Progress: [##################################################] 100.0% (n=101/101) --> elapsed time: 209.13s\n",
      "Progress: [##################################################] 100.0% (n=101/101) --> elapsed time: 209.15s\n",
      "Progress: [##################################################] 100.0% (n=101/101) --> elapsed time: 209.18s\n",
      "Progress: [##################################################] 100.0% (n=101/101) --> elapsed time: 209.20s\n",
      "Progress: [##################################################] 100.0% (n=101/101) --> elapsed time: 209.22s\n",
      "Progress: [##################################################] 100.0% (n=101/101) --> elapsed time: 209.24s\n",
      "Progress: [##################################################] 100.0% (n=101/101) --> elapsed time: 209.26s\n",
      "Progress: [##################################################] 100.0% (n=101/101) --> elapsed time: 209.28s\n",
      "Progress: [##################################################] 100.0% (n=101/101) --> elapsed time: 209.31s\n",
      "Progress: [##################################################] 100.0% (n=101/101) --> elapsed time: 209.33s\n",
      "Progress: [##################################################] 100.0% (n=101/101) --> elapsed time: 209.35s\n",
      "Progress: [##################################################] 100.0% (n=101/101) --> elapsed time: 209.37s\n",
      "Progress: [##################################################] 100.0% (n=101/101) --> elapsed time: 209.39s\n",
      "Progress: [##################################################] 100.0% (n=101/101) --> elapsed time: 209.41s\n",
      "Progress: [##################################################] 100.0% (n=101/101) --> elapsed time: 209.43s\n",
      "Progress: [##################################################] 100.0% (n=101/101) --> elapsed time: 209.46s\n",
      "Progress: [##################################################] 100.0% (n=101/101) --> elapsed time: 209.48s\n",
      "Progress: [##################################################] 100.0% (n=101/101) --> elapsed time: 209.51s\n",
      "Progress: [##################################################] 100.0% (n=101/101) --> elapsed time: 209.53s\n",
      "Progress: [##################################################] 100.0% (n=101/101) --> elapsed time: 209.56s\n",
      "Progress: [##################################################] 100.0% (n=101/101) --> elapsed time: 209.58s\n",
      "Progress: [##################################################] 100.0% (n=101/101) --> elapsed time: 209.61s\n",
      "Progress: [##################################################] 100.0% (n=101/101) --> elapsed time: 209.63s\n",
      "Progress: [##################################################] 100.0% (n=101/101) --> elapsed time: 209.66s\n",
      "Progress: [##################################################] 100.0% (n=101/101) --> elapsed time: 209.68s\n",
      "Progress: [##################################################] 100.0% (n=101/101) --> elapsed time: 209.70s\n",
      "Progress: [##################################################] 100.0% (n=101/101) --> elapsed time: 209.72s\n",
      "Progress: [##################################################] 100.0% (n=101/101) --> elapsed time: 209.75s\n",
      "Progress: [##################################################] 100.0% (n=101/101) --> elapsed time: 209.77s\n",
      "Progress: [##################################################] 100.0% (n=101/101) --> elapsed time: 209.79s\n",
      "Progress: [##################################################] 100.0% (n=101/101) --> elapsed time: 209.81s\n",
      "Progress: [##################################################] 100.0% (n=101/101) --> elapsed time: 209.84s\n",
      "Progress: [##################################################] 100.0% (n=101/101) --> elapsed time: 209.87s\n",
      "Progress: [##################################################] 100.0% (n=101/101) --> elapsed time: 209.89s\n",
      "Progress: [##################################################] 100.0% (n=101/101) --> elapsed time: 209.92s\n",
      "Progress: [##################################################] 100.0% (n=101/101) --> elapsed time: 209.93s\n",
      "Progress: [##################################################] 100.0% (n=101/101) --> elapsed time: 209.95s\n",
      "Progress: [##################################################] 100.0% (n=101/101) --> elapsed time: 209.97s\n",
      "Progress: [##################################################] 100.0% (n=101/101) --> elapsed time: 210.00s\n",
      "Progress: [##################################################] 100.0% (n=101/101) --> elapsed time: 210.02s\n",
      "Progress: [##################################################] 100.0% (n=101/101) --> elapsed time: 210.04s\n",
      "Progress: [##################################################] 100.0% (n=101/101) --> elapsed time: 210.07s\n",
      "Progress: [##################################################] 100.0% (n=101/101) --> elapsed time: 210.09s\n",
      "Progress: [##################################################] 100.0% (n=101/101) --> elapsed time: 210.12s\n",
      "Progress: [##################################################] 100.0% (n=101/101) --> elapsed time: 210.14s\n",
      "Progress: [##################################################] 100.0% (n=101/101) --> elapsed time: 210.17s\n",
      "Progress: [##################################################] 100.0% (n=101/101) --> elapsed time: 210.19s\n",
      "Progress: [##################################################] 100.0% (n=101/101) --> elapsed time: 210.22s\n",
      "Progress: [##################################################] 100.0% (n=101/101) --> elapsed time: 210.24s\n",
      "Progress: [##################################################] 100.0% (n=101/101) --> elapsed time: 210.27s\n",
      "Progress: [##################################################] 100.0% (n=101/101) --> elapsed time: 210.29s\n",
      "Progress: [##################################################] 100.0% (n=101/101) --> elapsed time: 210.32s\n"
     ]
    },
    {
     "name": "stdout",
     "output_type": "stream",
     "text": [
      "Progress: [##################################################] 100.0% (n=101/101) --> elapsed time: 210.34s\n",
      "Progress: [##################################################] 100.0% (n=101/101) --> elapsed time: 210.37s\n",
      "Progress: [##################################################] 100.0% (n=101/101) --> elapsed time: 210.39s\n",
      "Progress: [##################################################] 100.0% (n=101/101) --> elapsed time: 210.41s\n",
      "Progress: [##################################################] 100.0% (n=101/101) --> elapsed time: 210.43s\n",
      "Progress: [##################################################] 100.0% (n=101/101) --> elapsed time: 210.45s\n",
      "Progress: [##################################################] 100.0% (n=101/101) --> elapsed time: 210.48s\n",
      "Progress: [##################################################] 100.0% (n=101/101) --> elapsed time: 210.50s\n",
      "Progress: [##################################################] 100.0% (n=101/101) --> elapsed time: 210.52s\n",
      "Progress: [##################################################] 100.0% (n=101/101) --> elapsed time: 210.54s\n",
      "Progress: [##################################################] 100.0% (n=101/101) --> elapsed time: 210.56s\n",
      "Progress: [##################################################] 100.0% (n=101/101) --> elapsed time: 210.58s\n",
      "Progress: [##################################################] 100.0% (n=101/101) --> elapsed time: 210.59s\n",
      "Progress: [##################################################] 100.0% (n=101/101) --> elapsed time: 210.61s\n",
      "Progress: [##################################################] 100.0% (n=101/101) --> elapsed time: 210.63s\n",
      "Progress: [##################################################] 100.0% (n=101/101) --> elapsed time: 210.65s\n",
      "Progress: [##################################################] 100.0% (n=101/101) --> elapsed time: 210.66s\n",
      "Progress: [##################################################] 100.0% (n=101/101) --> elapsed time: 210.68s\n",
      "Progress: [##################################################] 100.0% (n=101/101) --> elapsed time: 210.69s\n",
      "Progress: [##################################################] 100.0% (n=101/101) --> elapsed time: 210.71s\n",
      "Progress: [##################################################] 100.0% (n=101/101) --> elapsed time: 210.72s\n",
      "Progress: [##################################################] 100.0% (n=101/101) --> elapsed time: 210.74s\n",
      "Progress: [##################################################] 100.0% (n=101/101) --> elapsed time: 210.75s\n",
      "Progress: [##################################################] 100.0% (n=101/101) --> elapsed time: 210.77s\n",
      "Progress: [##################################################] 100.0% (n=101/101) --> elapsed time: 210.79s\n",
      "Progress: [##################################################] 100.0% (n=101/101) --> elapsed time: 210.81s\n",
      "Progress: [##################################################] 100.0% (n=101/101) --> elapsed time: 210.83s\n",
      "Progress: [##################################################] 100.0% (n=101/101) --> elapsed time: 210.84s\n",
      "Progress: [##################################################] 100.0% (n=101/101) --> elapsed time: 210.85s\n",
      "Progress: [##################################################] 100.0% (n=101/101) --> elapsed time: 210.87s\n",
      "Progress: [##################################################] 100.0% (n=101/101) --> elapsed time: 210.88s\n",
      "Progress: [##################################################] 100.0% (n=101/101) --> elapsed time: 210.90s\n",
      "Progress: [##################################################] 100.0% (n=101/101) --> elapsed time: 210.92s\n",
      "Progress: [##################################################] 100.0% (n=101/101) --> elapsed time: 210.93s\n",
      "Progress: [##################################################] 100.0% (n=101/101) --> elapsed time: 210.94s\n",
      "Progress: [##################################################] 100.0% (n=101/101) --> elapsed time: 210.96s\n",
      "Progress: [##################################################] 100.0% (n=101/101) --> elapsed time: 210.97s\n",
      "Progress: [##################################################] 100.0% (n=101/101) --> elapsed time: 210.99s\n",
      "Progress: [##################################################] 100.0% (n=101/101) --> elapsed time: 211.01s\n",
      "Progress: [##################################################] 100.0% (n=101/101) --> elapsed time: 211.03s\n",
      "Progress: [##################################################] 100.0% (n=101/101) --> elapsed time: 211.04s\n",
      "Progress: [##################################################] 100.0% (n=101/101) --> elapsed time: 211.06s\n",
      "Progress: [##################################################] 100.0% (n=101/101) --> elapsed time: 211.08s\n",
      "Progress: [##################################################] 100.0% (n=101/101) --> elapsed time: 211.09s\n",
      "Progress: [##################################################] 100.0% (n=101/101) --> elapsed time: 211.10s\n",
      "Progress: [##################################################] 100.0% (n=101/101) --> elapsed time: 211.12s\n",
      "Progress: [##################################################] 100.0% (n=101/101) --> elapsed time: 211.13s\n",
      "Progress: [##################################################] 100.0% (n=101/101) --> elapsed time: 211.14s\n",
      "Progress: [##################################################] 100.0% (n=101/101) --> elapsed time: 211.15s\n",
      "Progress: [##################################################] 100.0% (n=101/101) --> elapsed time: 211.17s\n",
      "Progress: [##################################################] 100.0% (n=101/101) --> elapsed time: 211.18s\n",
      "Progress: [##################################################] 100.0% (n=101/101) --> elapsed time: 211.20s\n",
      "Progress: [##################################################] 100.0% (n=101/101) --> elapsed time: 211.21s\n",
      "Progress: [##################################################] 100.0% (n=101/101) --> elapsed time: 211.23s\n",
      "Progress: [##################################################] 100.0% (n=101/101) --> elapsed time: 211.25s\n",
      "Progress: [##################################################] 100.0% (n=101/101) --> elapsed time: 211.26s\n",
      "Progress: [##################################################] 100.0% (n=101/101) --> elapsed time: 211.28s\n",
      "Progress: [##################################################] 100.0% (n=101/101) --> elapsed time: 211.29s\n",
      "Progress: [##################################################] 100.0% (n=101/101) --> elapsed time: 211.30s\n",
      "Progress: [##################################################] 100.0% (n=101/101) --> elapsed time: 212.39s\n",
      "Progress: [##################################################] 100.0% (n=101/101) --> elapsed time: 212.41s\n",
      "The optimal readout amplitude is 288.000 mV (Fidelity=88.4%)\n"
     ]
    }
   ],
   "source": [
    "res_amp_sweep = np.arange(0.5,1.5 + 1E-4, 0.01)\n",
    "\n",
    "%matplotlib qt\n",
    "machine, res_amp_sweep_abs, fidelity, res_amp_opt = Experiment.exp1D.RR.single_shot_amp_optimization(res_amp_sweep, qubit_index, res_index, flux_index,\n",
    "                              n_avg = 40E3, cd_time = 25E3, plot_flag = True)"
   ]
  },
  {
   "cell_type": "code",
   "execution_count": 51,
   "id": "6d615938",
   "metadata": {},
   "outputs": [],
   "source": [
    "machine.resonators[res_index].readout_pulse_amp = 0.288\n",
    "machine = Analysis.set_machine(machine)"
   ]
  },
  {
   "cell_type": "markdown",
   "id": "ab336512",
   "metadata": {},
   "source": [
    "## optimize single-shot readout duration"
   ]
  },
  {
   "cell_type": "code",
   "execution_count": 52,
   "id": "72ddecc7",
   "metadata": {},
   "outputs": [
    {
     "name": "stdout",
     "output_type": "stream",
     "text": [
      "Integration weights chunk-size length in clock cycles: 10\n",
      "The readout has been sliced in the following number of divisions 125\n",
      "Execution stopped by user!                                   ] 10.9% (n=2183/20000.0) --> elapsed time: 5.99s\n",
      "Progress: [##################################################] 100.0% (n=20000/20000.0) --> elapsed time: 10.18s\n",
      "Progress: [##################################################] 100.0% (n=20000/20000.0) --> elapsed time: 10.55s\n",
      "Progress: [##################################################] 100.0% (n=20000/20000.0) --> elapsed time: 10.95s\n",
      "Progress: [##################################################] 100.0% (n=20000/20000.0) --> elapsed time: 11.35s\n",
      "Progress: [##################################################] 100.0% (n=20000/20000.0) --> elapsed time: 11.98s\n",
      "Progress: [##################################################] 100.0% (n=20000/20000.0) --> elapsed time: 12.33s\n",
      "Progress: [##################################################] 100.0% (n=20000/20000.0) --> elapsed time: 12.71s\n",
      "Progress: [##################################################] 100.0% (n=20000/20000.0) --> elapsed time: 13.14s\n",
      "Progress: [##################################################] 100.0% (n=20000/20000.0) --> elapsed time: 13.51s\n",
      "Progress: [##################################################] 100.0% (n=20000/20000.0) --> elapsed time: 13.90s\n",
      "Progress: [##################################################] 100.0% (n=20000/20000.0) --> elapsed time: 14.29s\n",
      "Progress: [##################################################] 100.0% (n=20000/20000.0) --> elapsed time: 14.70s\n",
      "Progress: [##################################################] 100.0% (n=20000/20000.0) --> elapsed time: 15.09s\n",
      "Progress: [##################################################] 100.0% (n=20000/20000.0) --> elapsed time: 15.47s\n",
      "Progress: [##################################################] 100.0% (n=20000/20000.0) --> elapsed time: 15.84s\n",
      "Progress: [##################################################] 100.0% (n=20000/20000.0) --> elapsed time: 16.19s\n",
      "Progress: [##################################################] 100.0% (n=20000/20000.0) --> elapsed time: 16.61s\n",
      "Progress: [##################################################] 100.0% (n=20000/20000.0) --> elapsed time: 16.99s\n",
      "Progress: [##################################################] 100.0% (n=20000/20000.0) --> elapsed time: 17.37s\n",
      "Progress: [##################################################] 100.0% (n=20000/20000.0) --> elapsed time: 17.81s\n",
      "Progress: [##################################################] 100.0% (n=20000/20000.0) --> elapsed time: 18.20s\n",
      "Progress: [##################################################] 100.0% (n=20000/20000.0) --> elapsed time: 18.76s\n",
      "Progress: [##################################################] 100.0% (n=20000/20000.0) --> elapsed time: 19.18s\n",
      "Progress: [##################################################] 100.0% (n=20000/20000.0) --> elapsed time: 19.59s\n",
      "Progress: [##################################################] 100.0% (n=20000/20000.0) --> elapsed time: 20.02s\n",
      "Progress: [##################################################] 100.0% (n=20000/20000.0) --> elapsed time: 20.37s\n",
      "Progress: [##################################################] 100.0% (n=20000/20000.0) --> elapsed time: 20.73s\n",
      "Progress: [##################################################] 100.0% (n=20000/20000.0) --> elapsed time: 21.13s\n",
      "Progress: [##################################################] 100.0% (n=20000/20000.0) --> elapsed time: 21.51s\n",
      "Progress: [##################################################] 100.0% (n=20000/20000.0) --> elapsed time: 21.88s\n",
      "The optimal readout length is 1888 ns (SNR=2.9860329363875238)\n"
     ]
    }
   ],
   "source": [
    "readout_len = 4E3\n",
    "ringdown_len = 1E3\n",
    "division_length = 10\n",
    "\n",
    "%matplotlib qt\n",
    "machine, res_duration_sweep, SNR, opt_readout_length = Experiment.exp1D.RR.single_shot_duration_optimization(readout_len, ringdown_len, division_length, \n",
    "                            qubit_index, res_index, flux_index, n_avg = 20E3, cd_time = 25E3, plot_flag = True)"
   ]
  },
  {
   "cell_type": "code",
   "execution_count": 43,
   "id": "69bcdd34",
   "metadata": {},
   "outputs": [],
   "source": [
    "machine.resonators[res_index].readout_pulse_length = 1000\n",
    "machine = Analysis.set_machine(machine)"
   ]
  },
  {
   "cell_type": "code",
   "execution_count": null,
   "id": "6cec236d",
   "metadata": {},
   "outputs": [],
   "source": []
  },
  {
   "cell_type": "code",
   "execution_count": null,
   "id": "ef4806ed",
   "metadata": {},
   "outputs": [],
   "source": []
  },
  {
   "cell_type": "code",
   "execution_count": null,
   "id": "6b41f5cf",
   "metadata": {},
   "outputs": [],
   "source": []
  },
  {
   "cell_type": "code",
   "execution_count": null,
   "id": "caa4b9a8-2db5-48e5-9759-140deb11035c",
   "metadata": {},
   "outputs": [],
   "source": []
  }
 ],
 "metadata": {
  "kernelspec": {
   "display_name": "Python 3 (ipykernel)",
   "language": "python",
   "name": "python3"
  },
  "language_info": {
   "codemirror_mode": {
    "name": "ipython",
    "version": 3
   },
   "file_extension": ".py",
   "mimetype": "text/x-python",
   "name": "python",
   "nbconvert_exporter": "python",
   "pygments_lexer": "ipython3",
   "version": "3.8.17"
  }
 },
 "nbformat": 4,
 "nbformat_minor": 5
}
