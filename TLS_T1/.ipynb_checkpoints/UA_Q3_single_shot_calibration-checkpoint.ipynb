{
 "cells": [
  {
   "cell_type": "markdown",
   "id": "a4840294",
   "metadata": {},
   "source": [
    "# Single-Shot Readout Calibration for UA Q3"
   ]
  },
  {
   "cell_type": "markdown",
   "id": "692d00ed",
   "metadata": {},
   "source": [
    "### Using Experiment and Analysis Class, make sure to update qubit #"
   ]
  },
  {
   "cell_type": "code",
   "execution_count": 113,
   "id": "e1662d07",
   "metadata": {},
   "outputs": [],
   "source": [
    "from qm.qua import *\n",
    "from qm import QuantumMachinesManager, SimulationConfig, LoopbackInterface, generate_qua_script\n",
    "from qm.octave import *\n",
    "from qm.octave.octave_manager import ClockMode\n",
    "from configuration import *\n",
    "from scipy import signal\n",
    "from qualang_tools.bakery import baking\n",
    "from qualang_tools.units import unit\n",
    "from qm.octave import QmOctaveConfig\n",
    "from set_octave import ElementsSettings, octave_settings\n",
    "from quam import QuAM\n",
    "from scipy.io import savemat, loadmat\n",
    "from scipy.optimize import curve_fit\n",
    "from scipy.signal import savgol_filter\n",
    "from qutip import *\n",
    "from typing import Union\n",
    "from macros import *\n",
    "import datetime \n",
    "import os\n",
    "import time\n",
    "import warnings\n",
    "import json\n",
    "import matplotlib.pyplot as plt\n",
    "import numpy as np\n",
    "import Labber\n",
    "\n",
    "from ExperimentClass import ExperimentHandle\n",
    "from AnalysisClass import AnalysisHandle\n",
    "\n",
    "warnings.filterwarnings(\"ignore\")\n",
    "\n",
    "qubit_index = 2 # for UA Q3\n",
    "res_index = 2 # for UA Q3\n",
    "flux_index = 2 # for UA Q3\n",
    "TLS_index = 0 # for TLS of interest"
   ]
  },
  {
   "cell_type": "code",
   "execution_count": 146,
   "id": "d9c45e83",
   "metadata": {},
   "outputs": [],
   "source": [
    "Experiment = ExperimentHandle()\n",
    "Analysis = AnalysisHandle()\n",
    "machine = Analysis.get_machine()"
   ]
  },
  {
   "cell_type": "code",
   "execution_count": 115,
   "id": "8447b8fe",
   "metadata": {},
   "outputs": [],
   "source": [
    "# initialize Labber-controlled hardware\n",
    "Experiment.set_Labber(Analysis.get_machine(), qubit_index, res_index, flux_index)\n",
    "# set octave to external clock\n",
    "#Experiment.set_external_clock()"
   ]
  },
  {
   "cell_type": "code",
   "execution_count": 147,
   "id": "0274806a",
   "metadata": {},
   "outputs": [],
   "source": [
    "# Set the qubit freq, in case I was working with something else\n",
    "machine.qubits[qubit_index].f_01 = machine.qubits[qubit_index].f_tls[0] + 0E6\n",
    "machine.qubits[qubit_index].lo = machine.qubits[qubit_index].f_01 + 100E6\n",
    "machine = Analysis.set_machine(machine)"
   ]
  },
  {
   "cell_type": "code",
   "execution_count": 148,
   "id": "8595c7d5",
   "metadata": {},
   "outputs": [
    {
     "name": "stdout",
     "output_type": "stream",
     "text": [
      "2024-04-11 16:04:11,217 - qm - INFO     - Performing health check\n"
     ]
    },
    {
     "name": "stderr",
     "output_type": "stream",
     "text": [
      "INFO:qm.api.frontend_api:Performing health check\n"
     ]
    },
    {
     "name": "stdout",
     "output_type": "stream",
     "text": [
      "2024-04-11 16:04:11,226 - qm - INFO     - Health check passed\n"
     ]
    },
    {
     "name": "stderr",
     "output_type": "stream",
     "text": [
      "INFO:qm.api.frontend_api:Health check passed\n"
     ]
    },
    {
     "name": "stdout",
     "output_type": "stream",
     "text": [
      "------------------------------------- Calibrates r2 for (LO, IF) = (7.054 GHz, -50.000 MHz)\n",
      "2024-04-11 16:04:19,460 - qm - INFO     - Compiling program\n"
     ]
    },
    {
     "name": "stderr",
     "output_type": "stream",
     "text": [
      "INFO:qm.QuantumMachine:Compiling program\n"
     ]
    },
    {
     "name": "stdout",
     "output_type": "stream",
     "text": [
      "------------------------------------- Calibrates q2 for (LO, IF) = (6.158 GHz, -100.000 MHz)\n",
      "2024-04-11 16:04:34,004 - qm - INFO     - Compiling program\n"
     ]
    },
    {
     "name": "stderr",
     "output_type": "stream",
     "text": [
      "INFO:qm.QuantumMachine:Compiling program\n"
     ]
    }
   ],
   "source": [
    "# octave calibration\n",
    "Experiment.octave_calibration(qubit_index,res_index,flux_index,calibration_flag = True)"
   ]
  },
  {
   "cell_type": "markdown",
   "id": "d7eb970c",
   "metadata": {},
   "source": [
    "## 1D resonator spectroscopy"
   ]
  },
  {
   "cell_type": "code",
   "execution_count": 22,
   "id": "6c02f74a",
   "metadata": {},
   "outputs": [
    {
     "name": "stdout",
     "output_type": "stream",
     "text": [
      "Progress: [##################################################] 100.0% (n=1000/1000.0) --> elapsed time: 2.76s\n",
      "Progress: [##################################################] 100.0% (n=1000/1000.0) --> elapsed time: 2.86s\n"
     ]
    }
   ],
   "source": [
    "%matplotlib qt\n",
    "machine = Analysis.get_machine()\n",
    "res_freq_sweep = machine.resonators[res_index].f_readout + np.arange(-10E6,10E6 + 1.0,0.05E6)\n",
    "machine, res_freq_sweep, sig_amp = Experiment.exp1D.RR.rr_freq(res_freq_sweep, qubit_index, res_index, flux_index, \n",
    "                           n_avg = 1E3, cd_time = 5E3, readout_state = 'e', simulate_flag = False, simulation_len = 1000)"
   ]
  },
  {
   "cell_type": "code",
   "execution_count": 23,
   "id": "dc1cf475",
   "metadata": {},
   "outputs": [
    {
     "name": "stdout",
     "output_type": "stream",
     "text": [
      "resonator frequency: 7003.163 MHz\n",
      "Execution stopped by user!\n"
     ]
    },
    {
     "data": {
      "image/png": "[encoded data removed]",
      "text/plain": [
       "<Figure size 600x300 with 1 Axes>"
      ]
     },
     "metadata": {},
     "output_type": "display_data"
    }
   ],
   "source": [
    "# find the minimal\n",
    "%matplotlib inline\n",
    "res_freq = Analysis.exp1D.rr_freq(res_freq_sweep, sig_amp)\n",
    "if False:\n",
    "    machine.resonators[res_index].f_readout = res_freq.tolist() + 0E6\n",
    "    machine.resonators[res_index].lo = machine.resonators[res_index].f_readout + 50E6\n",
    "    machine = Analysis.set_machine(machine)"
   ]
  },
  {
   "cell_type": "markdown",
   "id": "0bc723e7",
   "metadata": {},
   "source": [
    "## 1D qubit spectroscopy"
   ]
  },
  {
   "cell_type": "code",
   "execution_count": 7,
   "id": "bd113f2c",
   "metadata": {},
   "outputs": [
    {
     "name": "stdout",
     "output_type": "stream",
     "text": [
      "Progress: [##################################################] 100.0% (n=5000/5000.0) --> elapsed time: 8.61s\n"
     ]
    }
   ],
   "source": [
    "# for the DC flux\n",
    "#qubit_freq_est = np.polyval(machine.qubits[qubit_index].DC_tuning_curve,machine.flux_lines[flux_index].max_frequency_point) * 1E6 # in Hz\n",
    "# for the fast flux\n",
    "qubit_freq_sweep = machine.qubits[qubit_index].f_01 + np.arange(-20E6, 20E6 + 1, 0.5E6)\n",
    "    \n",
    "%matplotlib qt\n",
    "machine, qubit_freq_sweep, sig_amp = Experiment.exp1D.Rabi.qubit_freq(qubit_freq_sweep, qubit_index, res_index, flux_index, \n",
    "                                      pi_amp_rel = 1.0, ff_amp = 0.0, n_avg = 5E3, cd_time = 20E3, plot_flag = True, \n",
    "                                      simulate_flag = False, simulation_len = 4000)"
   ]
  },
  {
   "cell_type": "code",
   "execution_count": 9,
   "id": "3ad33a6a",
   "metadata": {
    "scrolled": true
   },
   "outputs": [
    {
     "name": "stdout",
     "output_type": "stream",
     "text": [
      "resonant frequency: 6059.138 MHz\n"
     ]
    },
    {
     "data": {
      "image/png": "[encoded data removed]",
      "text/plain": [
       "<Figure size 600x300 with 1 Axes>"
      ]
     },
     "metadata": {},
     "output_type": "display_data"
    }
   ],
   "source": [
    "%matplotlib inline\n",
    "qubit_freq = Analysis.exp1D.peak_fit(x=qubit_freq_sweep,y=sig_amp,method=\"gaussian\")\n",
    "qubit_freq = int(qubit_freq.tolist())\n",
    "machine.qubits[qubit_index].f_01 = qubit_freq + 0E6\n",
    "machine.qubits[qubit_index].lo = qubit_freq + 100E6\n",
    "machine = Analysis.set_machine(machine)"
   ]
  },
  {
   "cell_type": "markdown",
   "id": "6c252c1e",
   "metadata": {},
   "source": [
    "## Measure single-shot I, Q blobs"
   ]
  },
  {
   "cell_type": "code",
   "execution_count": 270,
   "id": "5ac68f1d-1186-4ac7-a2ce-0d2365510a5c",
   "metadata": {},
   "outputs": [],
   "source": [
    "%matplotlib inline\n",
    "machine, Ig, Qg, Ie, Qe = Experiment.exp1D.RR.single_shot_IQ_blob(machine.resonators[res_index].f_readout, qubit_index, res_index, flux_index,\n",
    "                              n_avg = 80E3, cd_time = 20E3, plot_flag = False)"
   ]
  },
  {
   "cell_type": "code",
   "execution_count": 271,
   "id": "17d34b84",
   "metadata": {
    "scrolled": true
   },
   "outputs": [
    {
     "name": "stdout",
     "output_type": "stream",
     "text": [
      "\n",
      "\t\t\tFidelity Matrix:\n",
      "\t\t\t-----------------\n",
      "\t\t\t| 0.916 | 0.084 |\n",
      "\t\t\t----------------\n",
      "\t\t\t| 0.222 | 0.778 |\n",
      "\t\t\t-----------------\n",
      "\t\t\tIQ plane rotated by: 106.5°\n",
      "\t\t\tThreshold: 2.820e-03\n",
      "\t\t\tFidelity: 84.7%\n",
      "\t\t\t\n"
     ]
    }
   ],
   "source": [
    "%matplotlib qt\n",
    "angle, threshold, fidelity, gg, ge, eg, ee = Analysis.exp1D.two_state_discriminator(Ig, Qg, Ie, Qe, plot_flag=True)"
   ]
  },
  {
   "cell_type": "code",
   "execution_count": 272,
   "id": "1719b804",
   "metadata": {},
   "outputs": [],
   "source": [
    "# set the rotation angle\n",
    "machine.resonators[res_index].rotation_angle -= angle.item()\n",
    "machine.resonators[res_index].ge_threshold = threshold.item()\n",
    "machine = Analysis.set_machine(machine)"
   ]
  },
  {
   "cell_type": "code",
   "execution_count": 260,
   "id": "024b9f45",
   "metadata": {},
   "outputs": [],
   "source": [
    "# machine.resonators[res_index].readout_pulse_amp = 0.48\n",
    "machine.resonators[res_index].readout_pulse_length =980\n",
    "machine = Analysis.set_machine(machine)"
   ]
  },
  {
   "cell_type": "markdown",
   "id": "2936f26d",
   "metadata": {},
   "source": [
    "## optimize readout duration and amp"
   ]
  },
  {
   "cell_type": "code",
   "execution_count": 55,
   "id": "460d0bad",
   "metadata": {},
   "outputs": [
    {
     "name": "stdout",
     "output_type": "stream",
     "text": [
      "Progress: [##                                                ] 5.3% (n=428/8000.0) --> elapsed time: 222.25s\r"
     ]
    },
    {
     "ename": "KeyboardInterrupt",
     "evalue": "",
     "output_type": "error",
     "traceback": [
      "\u001b[1;31m---------------------------------------------------------------------------\u001b[0m",
      "\u001b[1;31mKeyboardInterrupt\u001b[0m                         Traceback (most recent call last)",
      "Cell \u001b[1;32mIn[55], line 4\u001b[0m\n\u001b[0;32m      2\u001b[0m res_duration_sweep_abs \u001b[38;5;241m=\u001b[39m np\u001b[38;5;241m.\u001b[39marange(\u001b[38;5;241m300\u001b[39m, \u001b[38;5;241m2000\u001b[39m \u001b[38;5;241m+\u001b[39m \u001b[38;5;241m1\u001b[39m, \u001b[38;5;241m20\u001b[39m)\n\u001b[0;32m      3\u001b[0m res_amp_sweep \u001b[38;5;241m=\u001b[39m np\u001b[38;5;241m.\u001b[39marange(\u001b[38;5;241m0.05\u001b[39m,\u001b[38;5;241m0.5\u001b[39m,\u001b[38;5;241m0.002\u001b[39m)\n\u001b[1;32m----> 4\u001b[0m machine, res_amp_sweep, res_duration_sweep_abs, sig_amp \u001b[38;5;241m=\u001b[39m \u001b[43mExperiment\u001b[49m\u001b[38;5;241;43m.\u001b[39;49m\u001b[43mexp2D\u001b[49m\u001b[38;5;241;43m.\u001b[39;49m\u001b[43mRR\u001b[49m\u001b[38;5;241;43m.\u001b[39;49m\u001b[43mrr_pulse_optimize\u001b[49m\u001b[43m(\u001b[49m\u001b[43mres_duration_sweep_abs\u001b[49m\u001b[43m,\u001b[49m\u001b[43m \u001b[49m\u001b[43mres_amp_sweep\u001b[49m\u001b[43m,\u001b[49m\u001b[43m \u001b[49m\u001b[43mqubit_index\u001b[49m\u001b[43m,\u001b[49m\u001b[43m \u001b[49m\u001b[43mres_index\u001b[49m\u001b[43m,\u001b[49m\u001b[43m \u001b[49m\u001b[43mflux_index\u001b[49m\u001b[43m,\u001b[49m\u001b[43m \u001b[49m\n\u001b[0;32m      5\u001b[0m \u001b[43m                    \u001b[49m\u001b[43mn_avg\u001b[49m\u001b[38;5;241;43m=\u001b[39;49m\u001b[38;5;241;43m8E3\u001b[39;49m\u001b[43m,\u001b[49m\u001b[43m \u001b[49m\u001b[43mcd_time\u001b[49m\u001b[38;5;241;43m=\u001b[39;49m\u001b[38;5;241;43m25E3\u001b[39;49m\u001b[43m,\u001b[49m\u001b[43m \u001b[49m\u001b[43msimulate_flag\u001b[49m\u001b[38;5;241;43m=\u001b[39;49m\u001b[38;5;28;43;01mFalse\u001b[39;49;00m\u001b[43m,\u001b[49m\u001b[43m \u001b[49m\u001b[43msimulation_len\u001b[49m\u001b[38;5;241;43m=\u001b[39;49m\u001b[38;5;241;43m1000\u001b[39;49m\u001b[43m,\u001b[49m\u001b[43m \u001b[49m\u001b[43mplot_flag\u001b[49m\u001b[38;5;241;43m=\u001b[39;49m\u001b[38;5;28;43;01mTrue\u001b[39;49;00m\u001b[43m,\u001b[49m\u001b[43m \u001b[49m\u001b[43mmachine\u001b[49m\u001b[38;5;241;43m=\u001b[39;49m\u001b[43mmachine\u001b[49m\u001b[43m)\u001b[49m\n",
      "File \u001b[1;32m~\\QM\\QM_UALA\\TLS_T1\\ExperimentClass_2D.py:506\u001b[0m, in \u001b[0;36mEH_RR.rr_pulse_optimize\u001b[1;34m(self, res_duration_sweep_abs, res_amp_sweep, qubit_index, res_index, flux_index, n_avg, cd_time, tPath, f_str_datetime, simulate_flag, simulation_len, plot_flag, machine)\u001b[0m\n\u001b[0;32m    504\u001b[0m \tI, Q, iteration \u001b[38;5;241m=\u001b[39m results\u001b[38;5;241m.\u001b[39mfetch_all()\n\u001b[0;32m    505\u001b[0m \tprogress_counter(iteration, n_avg, start_time\u001b[38;5;241m=\u001b[39mresults\u001b[38;5;241m.\u001b[39mget_start_time())\n\u001b[1;32m--> 506\u001b[0m \t\u001b[43mtime\u001b[49m\u001b[38;5;241;43m.\u001b[39;49m\u001b[43msleep\u001b[49m\u001b[43m(\u001b[49m\u001b[38;5;241;43m0.1\u001b[39;49m\u001b[43m)\u001b[49m\n\u001b[0;32m    508\u001b[0m I, Q, _ \u001b[38;5;241m=\u001b[39m results\u001b[38;5;241m.\u001b[39mfetch_all()\n\u001b[0;32m    509\u001b[0m I \u001b[38;5;241m=\u001b[39m u\u001b[38;5;241m.\u001b[39mdemod2volts(I, machine\u001b[38;5;241m.\u001b[39mresonators[qubit_index]\u001b[38;5;241m.\u001b[39mreadout_pulse_length)\n",
      "\u001b[1;31mKeyboardInterrupt\u001b[0m: "
     ]
    }
   ],
   "source": [
    "%matplotlib qt\n",
    "res_duration_sweep_abs = np.arange(300, 2000 + 1, 20)\n",
    "res_amp_sweep = np.arange(0.05,0.5,0.002)\n",
    "machine, res_amp_sweep, res_duration_sweep_abs, sig_amp = Experiment.exp2D.RR.rr_pulse_optimize(res_duration_sweep_abs, res_amp_sweep, qubit_index, res_index, flux_index, \n",
    "                    n_avg=8E3, cd_time=25E3, simulate_flag=False, simulation_len=1000, plot_flag=True, machine=machine)"
   ]
  },
  {
   "cell_type": "code",
   "execution_count": 234,
   "id": "eaa27f77",
   "metadata": {},
   "outputs": [],
   "source": [
    "machine.resonators[res_index].readout_pulse_amp = 0.417\n",
    "machine.resonators[res_index].readout_pulse_length =948\n",
    "machine = Analysis.set_machine(machine)"
   ]
  },
  {
   "cell_type": "markdown",
   "id": "faa5b838",
   "metadata": {},
   "source": [
    "## optimize single-shot frequency"
   ]
  },
  {
   "cell_type": "code",
   "execution_count": 113,
   "id": "2d779fe2",
   "metadata": {},
   "outputs": [
    {
     "name": "stdout",
     "output_type": "stream",
     "text": [
      "Progress: [##################################################] 100.0% (n=50000/50000.0) --> elapsed time: 213.58s\n",
      "Progress: [##################################################] 100.0% (n=50000/50000.0) --> elapsed time: 213.86s\n",
      "The optimal readout frequency is 7003812646.0 Hz (SNR=2.7369167790259055)\n"
     ]
    }
   ],
   "source": [
    "res_freq_sweep = machine.resonators[res_index].f_readout + np.arange(-3E6, 2E6 + 1, 0.05E6)\n",
    "\n",
    "%matplotlib qt\n",
    "machine, SNR, res_freq_opt = Experiment.exp1D.RR.single_shot_freq_optimization(res_freq_sweep, qubit_index, res_index, flux_index,\n",
    "                              n_avg = 50E3, cd_time = 20E3, plot_flag = True)"
   ]
  },
  {
   "cell_type": "code",
   "execution_count": 114,
   "id": "94b74f7b",
   "metadata": {},
   "outputs": [],
   "source": [
    "machine.resonators[res_index].f_readout = res_freq_opt.tolist() + 0E6\n",
    "machine.resonators[res_index].lo = machine.resonators[res_index].f_readout + 50E6\n",
    "machine = Analysis.set_machine(machine)"
   ]
  },
  {
   "cell_type": "code",
   "execution_count": 115,
   "id": "25ac00a5",
   "metadata": {},
   "outputs": [
    {
     "name": "stdout",
     "output_type": "stream",
     "text": [
      "2024-04-10 13:57:16,541 - qm - INFO     - Performing health check\n"
     ]
    },
    {
     "name": "stderr",
     "output_type": "stream",
     "text": [
      "INFO:qm.api.frontend_api:Performing health check\n"
     ]
    },
    {
     "name": "stdout",
     "output_type": "stream",
     "text": [
      "2024-04-10 13:57:16,552 - qm - INFO     - Health check passed\n"
     ]
    },
    {
     "name": "stderr",
     "output_type": "stream",
     "text": [
      "INFO:qm.api.frontend_api:Health check passed\n"
     ]
    },
    {
     "name": "stdout",
     "output_type": "stream",
     "text": [
      "------------------------------------- Calibrates r2 for (LO, IF) = (7.054 GHz, -50.000 MHz)\n",
      "2024-04-10 13:57:24,392 - qm - INFO     - Compiling program\n"
     ]
    },
    {
     "name": "stderr",
     "output_type": "stream",
     "text": [
      "INFO:qm.QuantumMachine:Compiling program\n"
     ]
    },
    {
     "name": "stdout",
     "output_type": "stream",
     "text": [
      "------------------------------------- Calibrates q2 for (LO, IF) = (6.159 GHz, -100.000 MHz)\n",
      "2024-04-10 13:57:37,764 - qm - INFO     - Compiling program\n"
     ]
    },
    {
     "name": "stderr",
     "output_type": "stream",
     "text": [
      "INFO:qm.QuantumMachine:Compiling program\n"
     ]
    }
   ],
   "source": [
    "# octave calibration\n",
    "Experiment.octave_calibration(qubit_index,res_index,flux_index,calibration_flag = True)"
   ]
  },
  {
   "cell_type": "markdown",
   "id": "9574327e",
   "metadata": {},
   "source": [
    "# Ignore the code below"
   ]
  },
  {
   "cell_type": "markdown",
   "id": "e6bb4dbf",
   "metadata": {},
   "source": [
    "## optimize single-shot amplitude"
   ]
  },
  {
   "cell_type": "code",
   "execution_count": 233,
   "id": "ea1dab50",
   "metadata": {},
   "outputs": [
    {
     "name": "stdout",
     "output_type": "stream",
     "text": [
      "some abs amps > 0.5, removed from experiment run\n",
      "Progress: [##################################################] 100.0% (n=77/77) --> elapsed time: 126.89s\n",
      "Progress: [##################################################] 100.0% (n=77/77) --> elapsed time: 126.92s\n",
      "Progress: [##################################################] 100.0% (n=77/77) --> elapsed time: 126.94s\n",
      "Progress: [##################################################] 100.0% (n=77/77) --> elapsed time: 126.97s\n",
      "Progress: [##################################################] 100.0% (n=77/77) --> elapsed time: 127.00s\n",
      "Progress: [##################################################] 100.0% (n=77/77) --> elapsed time: 127.03s\n",
      "Progress: [##################################################] 100.0% (n=77/77) --> elapsed time: 127.06s\n",
      "Progress: [##################################################] 100.0% (n=77/77) --> elapsed time: 127.08s\n",
      "Progress: [##################################################] 100.0% (n=77/77) --> elapsed time: 127.11s\n",
      "Progress: [##################################################] 100.0% (n=77/77) --> elapsed time: 127.14s\n",
      "Progress: [##################################################] 100.0% (n=77/77) --> elapsed time: 127.16s\n",
      "Progress: [##################################################] 100.0% (n=77/77) --> elapsed time: 127.19s\n",
      "Progress: [##################################################] 100.0% (n=77/77) --> elapsed time: 127.21s\n",
      "Progress: [##################################################] 100.0% (n=77/77) --> elapsed time: 127.24s\n",
      "Progress: [##################################################] 100.0% (n=77/77) --> elapsed time: 127.26s\n",
      "Progress: [##################################################] 100.0% (n=77/77) --> elapsed time: 127.29s\n",
      "Progress: [##################################################] 100.0% (n=77/77) --> elapsed time: 127.31s\n",
      "Progress: [##################################################] 100.0% (n=77/77) --> elapsed time: 127.34s\n",
      "Progress: [##################################################] 100.0% (n=77/77) --> elapsed time: 127.36s\n",
      "Progress: [##################################################] 100.0% (n=77/77) --> elapsed time: 127.39s\n",
      "Progress: [##################################################] 100.0% (n=77/77) --> elapsed time: 127.41s\n",
      "Progress: [##################################################] 100.0% (n=77/77) --> elapsed time: 127.44s\n",
      "Progress: [##################################################] 100.0% (n=77/77) --> elapsed time: 127.47s\n",
      "Progress: [##################################################] 100.0% (n=77/77) --> elapsed time: 127.49s\n",
      "Progress: [##################################################] 100.0% (n=77/77) --> elapsed time: 127.52s\n",
      "Progress: [##################################################] 100.0% (n=77/77) --> elapsed time: 127.54s\n",
      "Progress: [##################################################] 100.0% (n=77/77) --> elapsed time: 127.57s\n",
      "Progress: [##################################################] 100.0% (n=77/77) --> elapsed time: 127.60s\n",
      "Progress: [##################################################] 100.0% (n=77/77) --> elapsed time: 127.62s\n",
      "Progress: [##################################################] 100.0% (n=77/77) --> elapsed time: 127.65s\n",
      "Progress: [##################################################] 100.0% (n=77/77) --> elapsed time: 127.68s\n",
      "Progress: [##################################################] 100.0% (n=77/77) --> elapsed time: 127.70s\n",
      "Progress: [##################################################] 100.0% (n=77/77) --> elapsed time: 127.73s\n",
      "Progress: [##################################################] 100.0% (n=77/77) --> elapsed time: 127.75s\n",
      "Progress: [##################################################] 100.0% (n=77/77) --> elapsed time: 127.78s\n",
      "Progress: [##################################################] 100.0% (n=77/77) --> elapsed time: 127.81s\n",
      "Progress: [##################################################] 100.0% (n=77/77) --> elapsed time: 127.83s\n",
      "Progress: [##################################################] 100.0% (n=77/77) --> elapsed time: 127.86s\n",
      "Progress: [##################################################] 100.0% (n=77/77) --> elapsed time: 127.89s\n",
      "Progress: [##################################################] 100.0% (n=77/77) --> elapsed time: 127.92s\n",
      "Progress: [##################################################] 100.0% (n=77/77) --> elapsed time: 127.95s\n",
      "Progress: [##################################################] 100.0% (n=77/77) --> elapsed time: 127.97s\n",
      "Progress: [##################################################] 100.0% (n=77/77) --> elapsed time: 128.00s\n",
      "Progress: [##################################################] 100.0% (n=77/77) --> elapsed time: 128.02s\n",
      "Progress: [##################################################] 100.0% (n=77/77) --> elapsed time: 128.05s\n",
      "Progress: [##################################################] 100.0% (n=77/77) --> elapsed time: 128.08s\n",
      "Progress: [##################################################] 100.0% (n=77/77) --> elapsed time: 128.11s\n",
      "Progress: [##################################################] 100.0% (n=77/77) --> elapsed time: 128.13s\n",
      "Progress: [##################################################] 100.0% (n=77/77) --> elapsed time: 128.16s\n",
      "Progress: [##################################################] 100.0% (n=77/77) --> elapsed time: 128.18s\n",
      "Progress: [##################################################] 100.0% (n=77/77) --> elapsed time: 128.21s\n",
      "Progress: [##################################################] 100.0% (n=77/77) --> elapsed time: 128.23s\n",
      "Progress: [##################################################] 100.0% (n=77/77) --> elapsed time: 128.26s\n",
      "Progress: [##################################################] 100.0% (n=77/77) --> elapsed time: 128.29s\n",
      "Progress: [##################################################] 100.0% (n=77/77) --> elapsed time: 128.32s\n",
      "Progress: [##################################################] 100.0% (n=77/77) --> elapsed time: 128.34s\n",
      "Progress: [##################################################] 100.0% (n=77/77) --> elapsed time: 128.37s\n",
      "Progress: [##################################################] 100.0% (n=77/77) --> elapsed time: 128.39s\n",
      "Progress: [##################################################] 100.0% (n=77/77) --> elapsed time: 128.42s\n",
      "Progress: [##################################################] 100.0% (n=77/77) --> elapsed time: 128.44s\n",
      "Progress: [##################################################] 100.0% (n=77/77) --> elapsed time: 128.47s\n",
      "Progress: [##################################################] 100.0% (n=77/77) --> elapsed time: 128.50s\n",
      "Progress: [##################################################] 100.0% (n=77/77) --> elapsed time: 128.52s\n",
      "Progress: [##################################################] 100.0% (n=77/77) --> elapsed time: 128.55s\n",
      "Progress: [##################################################] 100.0% (n=77/77) --> elapsed time: 128.59s\n",
      "Progress: [##################################################] 100.0% (n=77/77) --> elapsed time: 128.60s\n",
      "Progress: [##################################################] 100.0% (n=77/77) --> elapsed time: 128.62s\n",
      "Progress: [##################################################] 100.0% (n=77/77) --> elapsed time: 128.64s\n",
      "Progress: [##################################################] 100.0% (n=77/77) --> elapsed time: 128.66s\n",
      "Progress: [##################################################] 100.0% (n=77/77) --> elapsed time: 128.67s\n",
      "Progress: [##################################################] 100.0% (n=77/77) --> elapsed time: 128.69s\n",
      "Progress: [##################################################] 100.0% (n=77/77) --> elapsed time: 128.71s\n",
      "Progress: [##################################################] 100.0% (n=77/77) --> elapsed time: 128.73s\n",
      "Progress: [##################################################] 100.0% (n=77/77) --> elapsed time: 128.75s\n",
      "Progress: [##################################################] 100.0% (n=77/77) --> elapsed time: 128.76s\n",
      "Progress: [##################################################] 100.0% (n=77/77) --> elapsed time: 128.78s\n",
      "Progress: [##################################################] 100.0% (n=77/77) --> elapsed time: 128.80s\n",
      "Progress: [##################################################] 100.0% (n=77/77) --> elapsed time: 128.81s\n",
      "Progress: [##################################################] 100.0% (n=77/77) --> elapsed time: 128.83s\n",
      "Progress: [##################################################] 100.0% (n=77/77) --> elapsed time: 128.85s\n",
      "Progress: [##################################################] 100.0% (n=77/77) --> elapsed time: 128.86s\n",
      "Progress: [##################################################] 100.0% (n=77/77) --> elapsed time: 128.88s\n",
      "Progress: [##################################################] 100.0% (n=77/77) --> elapsed time: 128.90s\n",
      "Progress: [##################################################] 100.0% (n=77/77) --> elapsed time: 128.92s\n",
      "Progress: [##################################################] 100.0% (n=77/77) --> elapsed time: 128.94s\n"
     ]
    },
    {
     "name": "stdout",
     "output_type": "stream",
     "text": [
      "Progress: [##################################################] 100.0% (n=77/77) --> elapsed time: 128.96s\n",
      "Progress: [##################################################] 100.0% (n=77/77) --> elapsed time: 128.98s\n",
      "Progress: [##################################################] 100.0% (n=77/77) --> elapsed time: 129.00s\n",
      "Progress: [##################################################] 100.0% (n=77/77) --> elapsed time: 129.01s\n",
      "Progress: [##################################################] 100.0% (n=77/77) --> elapsed time: 129.03s\n",
      "Progress: [##################################################] 100.0% (n=77/77) --> elapsed time: 129.05s\n",
      "Progress: [##################################################] 100.0% (n=77/77) --> elapsed time: 129.07s\n",
      "Progress: [##################################################] 100.0% (n=77/77) --> elapsed time: 129.08s\n",
      "Progress: [##################################################] 100.0% (n=77/77) --> elapsed time: 129.92s\n",
      "Progress: [##################################################] 100.0% (n=77/77) --> elapsed time: 129.93s\n",
      "The optimal readout amplitude is 417.958 mV (Fidelity=86.3%)\n"
     ]
    }
   ],
   "source": [
    "res_amp_sweep = np.arange(0.5,1.5 + 1E-4, 0.01)\n",
    "\n",
    "%matplotlib qt\n",
    "machine, res_amp_sweep_abs, fidelity, res_amp_opt = Experiment.exp1D.RR.single_shot_amp_optimization(res_amp_sweep, qubit_index, res_index, flux_index,\n",
    "                              n_avg = 40E3, cd_time = 20E3, plot_flag = True)"
   ]
  },
  {
   "cell_type": "code",
   "execution_count": 240,
   "id": "6d615938",
   "metadata": {},
   "outputs": [],
   "source": [
    "machine.resonators[res_index].readout_pulse_amp = 0.3943\n",
    "machine = Analysis.set_machine(machine)"
   ]
  },
  {
   "cell_type": "markdown",
   "id": "ab336512",
   "metadata": {},
   "source": [
    "## optimize single-shot readout duration"
   ]
  },
  {
   "cell_type": "code",
   "execution_count": 216,
   "id": "72ddecc7",
   "metadata": {},
   "outputs": [
    {
     "name": "stdout",
     "output_type": "stream",
     "text": [
      "Integration weights chunk-size length in clock cycles: 10\n",
      "The readout has been sliced in the following number of divisions 75\n",
      "Progress: [##################################################] 100.0% (n=20000/20000.0) --> elapsed time: 6.13s\n",
      "Progress: [##################################################] 100.0% (n=20000/20000.0) --> elapsed time: 6.55s\n",
      "Progress: [##################################################] 100.0% (n=20000/20000.0) --> elapsed time: 6.96s\n",
      "Progress: [##################################################] 100.0% (n=20000/20000.0) --> elapsed time: 7.56s\n",
      "Progress: [##################################################] 100.0% (n=20000/20000.0) --> elapsed time: 8.01s\n",
      "Progress: [##################################################] 100.0% (n=20000/20000.0) --> elapsed time: 8.41s\n",
      "Progress: [##################################################] 100.0% (n=20000/20000.0) --> elapsed time: 8.81s\n",
      "Execution stopped by user!\n",
      "Progress: [##################################################] 100.0% (n=20000/20000.0) --> elapsed time: 9.32s\n",
      "Progress: [##################################################] 100.0% (n=20000/20000.0) --> elapsed time: 9.73s\n",
      "Progress: [##################################################] 100.0% (n=20000/20000.0) --> elapsed time: 10.09s\n",
      "Progress: [##################################################] 100.0% (n=20000/20000.0) --> elapsed time: 10.45s\n",
      "Progress: [##################################################] 100.0% (n=20000/20000.0) --> elapsed time: 10.82s\n",
      "Progress: [##################################################] 100.0% (n=20000/20000.0) --> elapsed time: 11.20s\n",
      "Progress: [##################################################] 100.0% (n=20000/20000.0) --> elapsed time: 11.53s\n",
      "Progress: [##################################################] 100.0% (n=20000/20000.0) --> elapsed time: 11.97s\n",
      "Progress: [##################################################] 100.0% (n=20000/20000.0) --> elapsed time: 12.34s\n",
      "Progress: [##################################################] 100.0% (n=20000/20000.0) --> elapsed time: 12.71s\n",
      "Progress: [##################################################] 100.0% (n=20000/20000.0) --> elapsed time: 13.06s\n",
      "Progress: [##################################################] 100.0% (n=20000/20000.0) --> elapsed time: 13.42s\n",
      "Progress: [##################################################] 100.0% (n=20000/20000.0) --> elapsed time: 13.81s\n",
      "Progress: [##################################################] 100.0% (n=20000/20000.0) --> elapsed time: 14.22s\n",
      "Progress: [##################################################] 100.0% (n=20000/20000.0) --> elapsed time: 14.79s\n",
      "Progress: [##################################################] 100.0% (n=20000/20000.0) --> elapsed time: 15.15s\n",
      "Progress: [##################################################] 100.0% (n=20000/20000.0) --> elapsed time: 15.53s\n",
      "Progress: [##################################################] 100.0% (n=20000/20000.0) --> elapsed time: 15.90s\n",
      "Progress: [##################################################] 100.0% (n=20000/20000.0) --> elapsed time: 16.27s\n",
      "Progress: [##################################################] 100.0% (n=20000/20000.0) --> elapsed time: 16.66s\n",
      "Progress: [##################################################] 100.0% (n=20000/20000.0) --> elapsed time: 17.03s\n",
      "Progress: [##################################################] 100.0% (n=20000/20000.0) --> elapsed time: 17.39s\n",
      "Progress: [##################################################] 100.0% (n=20000/20000.0) --> elapsed time: 17.81s\n",
      "Progress: [##################################################] 100.0% (n=20000/20000.0) --> elapsed time: 18.20s\n",
      "Progress: [##################################################] 100.0% (n=20000/20000.0) --> elapsed time: 18.58s\n",
      "Progress: [##################################################] 100.0% (n=20000/20000.0) --> elapsed time: 18.94s\n",
      "The optimal readout length is 1888 ns (SNR=3.1634205889179503)\n"
     ]
    }
   ],
   "source": [
    "readout_len = 2E3\n",
    "ringdown_len = 1E3\n",
    "division_length = 10\n",
    "\n",
    "%matplotlib qt\n",
    "machine, res_duration_sweep, SNR, opt_readout_length = Experiment.exp1D.RR.single_shot_duration_optimization(readout_len, ringdown_len, division_length, \n",
    "                            qubit_index, res_index, flux_index, n_avg = 20E3, cd_time = 20E3, plot_flag = True)"
   ]
  },
  {
   "cell_type": "code",
   "execution_count": 28,
   "id": "69bcdd34",
   "metadata": {},
   "outputs": [],
   "source": [
    "machine.resonators[res_index].readout_pulse_length = 1888\n",
    "machine = Analysis.set_machine(machine)"
   ]
  },
  {
   "cell_type": "code",
   "execution_count": null,
   "id": "6cec236d",
   "metadata": {},
   "outputs": [],
   "source": []
  },
  {
   "cell_type": "code",
   "execution_count": null,
   "id": "ef4806ed",
   "metadata": {},
   "outputs": [],
   "source": []
  },
  {
   "cell_type": "code",
   "execution_count": null,
   "id": "6b41f5cf",
   "metadata": {},
   "outputs": [],
   "source": []
  },
  {
   "cell_type": "code",
   "execution_count": null,
   "id": "caa4b9a8-2db5-48e5-9759-140deb11035c",
   "metadata": {},
   "outputs": [],
   "source": []
  }
 ],
 "metadata": {
  "kernelspec": {
   "display_name": "Python 3 (ipykernel)",
   "language": "python",
   "name": "python3"
  },
  "language_info": {
   "codemirror_mode": {
    "name": "ipython",
    "version": 3
   },
   "file_extension": ".py",
   "mimetype": "text/x-python",
   "name": "python",
   "nbconvert_exporter": "python",
   "pygments_lexer": "ipython3",
   "version": "3.8.17"
  }
 },
 "nbformat": 4,
 "nbformat_minor": 5
}
