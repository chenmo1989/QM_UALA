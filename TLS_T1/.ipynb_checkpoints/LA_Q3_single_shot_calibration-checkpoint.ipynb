{
 "cells": [
  {
   "cell_type": "markdown",
   "id": "a4840294",
   "metadata": {},
   "source": [
    "### Single-Shot Readout Calibration for LA Q3"
   ]
  },
  {
   "cell_type": "markdown",
   "id": "692d00ed",
   "metadata": {},
   "source": [
    "### Using Experiment and Analysis Class, make sure to update qubit #"
   ]
  },
  {
   "cell_type": "code",
   "execution_count": 1,
   "id": "e1662d07",
   "metadata": {},
   "outputs": [
    {
     "name": "stdout",
     "output_type": "stream",
     "text": [
      "2024-02-15 09:03:53,768 - qm - INFO     - Starting session: 862b41e0-726b-42e8-b6ec-f0d44175ac51\n"
     ]
    }
   ],
   "source": [
    "from qm.qua import *\n",
    "from qm import QuantumMachinesManager, SimulationConfig, LoopbackInterface, generate_qua_script\n",
    "from qm.octave import *\n",
    "from qm.octave.octave_manager import ClockMode\n",
    "from configuration import *\n",
    "from scipy import signal\n",
    "from qualang_tools.bakery import baking\n",
    "from qualang_tools.units import unit\n",
    "from qm.octave import QmOctaveConfig\n",
    "from set_octave import ElementsSettings, octave_settings\n",
    "from quam import QuAM\n",
    "from scipy.io import savemat, loadmat\n",
    "from scipy.optimize import curve_fit\n",
    "from scipy.signal import savgol_filter\n",
    "from qutip import *\n",
    "from typing import Union\n",
    "from macros import *\n",
    "import datetime \n",
    "import os\n",
    "import time\n",
    "import warnings\n",
    "import json\n",
    "import matplotlib.pyplot as plt\n",
    "import numpy as np\n",
    "import Labber\n",
    "\n",
    "from ExperimentClass import ExperimentHandle\n",
    "from AnalysisClass import AnalysisHandle\n",
    "\n",
    "warnings.filterwarnings(\"ignore\")\n",
    "\n",
    "qubit_index = 6 # for LA Q3\n",
    "res_index = 6 # for LA Q3\n",
    "flux_index = 6 # for LA Q3\n",
    "TLS_index = 1 # for TLS of interest"
   ]
  },
  {
   "cell_type": "code",
   "execution_count": 2,
   "id": "d9c45e83",
   "metadata": {},
   "outputs": [],
   "source": [
    "Experiment = ExperimentHandle()\n",
    "Analysis = AnalysisHandle()\n",
    "machine = Analysis.get_machine()"
   ]
  },
  {
   "cell_type": "code",
   "execution_count": 3,
   "id": "8447b8fe",
   "metadata": {},
   "outputs": [],
   "source": [
    "# initialize Labber-controlled hardware\n",
    "Experiment.set_Labber(Analysis.get_machine(), qubit_index, res_index, flux_index)\n",
    "# set to sweet spot\n",
    "machine = Experiment.set_QDAC(qubit_index,res_index,flux_index,machine.flux_lines[flux_index].max_frequency_point)\n",
    "# set octave to external clock\n",
    "#Experiment.set_external_clock()"
   ]
  },
  {
   "cell_type": "code",
   "execution_count": 4,
   "id": "0274806a",
   "metadata": {},
   "outputs": [],
   "source": [
    "# Set the qubit freq, in case I was working with something else\n",
    "machine.qubits[qubit_index].f_01 = machine.qubits[qubit_index].f_tls[0] + 0E6\n",
    "machine.qubits[qubit_index].lo = machine.qubits[qubit_index].f_01 + 50E6\n",
    "machine = Analysis.set_machine(machine)"
   ]
  },
  {
   "cell_type": "code",
   "execution_count": 5,
   "id": "8595c7d5",
   "metadata": {},
   "outputs": [
    {
     "name": "stdout",
     "output_type": "stream",
     "text": [
      "2024-02-15 09:04:19,567 - qm - INFO     - Octave \"octave1\" Health check passed, current temperature 58\n"
     ]
    },
    {
     "name": "stderr",
     "output_type": "stream",
     "text": [
      "INFO:qm:Octave \"octave1\" Health check passed, current temperature 58\n"
     ]
    },
    {
     "name": "stdout",
     "output_type": "stream",
     "text": [
      "2024-02-15 09:04:19,571 - qm - INFO     - Performing health check\n"
     ]
    },
    {
     "name": "stderr",
     "output_type": "stream",
     "text": [
      "INFO:qm.api.frontend_api:Performing health check\n"
     ]
    },
    {
     "name": "stdout",
     "output_type": "stream",
     "text": [
      "2024-02-15 09:04:19,588 - qm - INFO     - Health check passed\n"
     ]
    },
    {
     "name": "stderr",
     "output_type": "stream",
     "text": [
      "INFO:qm.api.frontend_api:Health check passed\n"
     ]
    },
    {
     "name": "stdout",
     "output_type": "stream",
     "text": [
      "------------------------------------- Calibrates r6 for (LO, IF) = (6.071 GHz, -50.000 MHz)\n",
      "2024-02-15 09:04:27,290 - qm - INFO     - Compiling program\n"
     ]
    },
    {
     "name": "stderr",
     "output_type": "stream",
     "text": [
      "INFO:qm.QuantumMachine:Compiling program\n"
     ]
    },
    {
     "name": "stdout",
     "output_type": "stream",
     "text": [
      "------------------------------------- Calibrates q6 for (LO, IF) = (5.472 GHz, -50.000 MHz)\n",
      "2024-02-15 09:04:39,936 - qm - INFO     - Compiling program\n"
     ]
    },
    {
     "name": "stderr",
     "output_type": "stream",
     "text": [
      "INFO:qm.QuantumMachine:Compiling program\n"
     ]
    }
   ],
   "source": [
    "# octave calibration\n",
    "Experiment.octave_calibration(qubit_index,res_index,flux_index,calibration_flag = True)"
   ]
  },
  {
   "cell_type": "markdown",
   "id": "d7eb970c",
   "metadata": {},
   "source": [
    "## 1D resonator spectroscopy"
   ]
  },
  {
   "cell_type": "code",
   "execution_count": 6,
   "id": "6c02f74a",
   "metadata": {},
   "outputs": [
    {
     "name": "stdout",
     "output_type": "stream",
     "text": [
      "Progress: [##################################################] 100.0% (n=1000/1000.0) --> elapsed time: 0.87s\n",
      "Progress: [##################################################] 100.0% (n=1000/1000.0) --> elapsed time: 0.96s\n"
     ]
    }
   ],
   "source": [
    "%matplotlib qt\n",
    "machine = Analysis.get_machine()\n",
    "res_freq_sweep = machine.resonators[res_index].f_readout + np.arange(-5E6,5E6 + 1.0,0.05E6)\n",
    "machine, res_freq_sweep, sig_amp = Experiment.exp1D.RR.rr_freq(res_freq_sweep, qubit_index, res_index, flux_index, \n",
    "                           n_avg = 1E3, cd_time = 5E3, readout_state = 'g', simulate_flag = False, simulation_len = 1000)"
   ]
  },
  {
   "cell_type": "code",
   "execution_count": 7,
   "id": "dc1cf475",
   "metadata": {},
   "outputs": [
    {
     "name": "stdout",
     "output_type": "stream",
     "text": [
      "resonator frequency: 6021.000 MHz\n",
      "Execution stopped by user!\n"
     ]
    },
    {
     "data": {
      "image/png": "[encoded data removed]",
      "text/plain": [
       "<Figure size 600x300 with 1 Axes>"
      ]
     },
     "metadata": {},
     "output_type": "display_data"
    }
   ],
   "source": [
    "# find the minimal\n",
    "%matplotlib inline\n",
    "res_freq = Analysis.exp1D.rr_freq(res_freq_sweep, sig_amp)\n",
    "if True:\n",
    "    machine.resonators[res_index].f_readout = res_freq.tolist() + 0E6\n",
    "    machine.resonators[res_index].lo = machine.resonators[res_index].f_readout + 50E6\n",
    "    machine = Analysis.set_machine(machine)"
   ]
  },
  {
   "cell_type": "markdown",
   "id": "0bc723e7",
   "metadata": {},
   "source": [
    "## 1D qubit spectroscopy"
   ]
  },
  {
   "cell_type": "code",
   "execution_count": 10,
   "id": "bd113f2c",
   "metadata": {},
   "outputs": [
    {
     "name": "stdout",
     "output_type": "stream",
     "text": [
      "Progress: [##################################################] 100.0% (n=1000/1000.0) --> elapsed time: 2.51s\n",
      "Progress: [##################################################] 100.0% (n=1000/1000.0) --> elapsed time: 2.61s\n"
     ]
    }
   ],
   "source": [
    "# for the DC flux\n",
    "#qubit_freq_est = np.polyval(machine.qubits[qubit_index].DC_tuning_curve,machine.flux_lines[flux_index].max_frequency_point) * 1E6 # in Hz\n",
    "# for the fast flux\n",
    "qubit_freq_sweep = machine.qubits[qubit_index].f_01 + np.arange(-30E6, 30E6 + 1, 0.5E6)\n",
    "    \n",
    "%matplotlib qt\n",
    "machine, qubit_freq_sweep, sig_amp = Experiment.exp1D.Rabi.qubit_freq(qubit_freq_sweep, qubit_index, res_index, flux_index, \n",
    "                                      pi_amp_rel = 1.0, ff_amp = 0.0, n_avg = 1E3, cd_time = 20E3, plot_flag = True, \n",
    "                                      simulate_flag = False, simulation_len = 4000)"
   ]
  },
  {
   "cell_type": "code",
   "execution_count": 12,
   "id": "3ad33a6a",
   "metadata": {},
   "outputs": [
    {
     "name": "stdout",
     "output_type": "stream",
     "text": [
      "resonant frequency: 5421.331 MHz\n"
     ]
    },
    {
     "data": {
      "image/png": "[encoded data removed]",
      "text/plain": [
       "<Figure size 600x300 with 1 Axes>"
      ]
     },
     "metadata": {},
     "output_type": "display_data"
    }
   ],
   "source": [
    "%matplotlib inline\n",
    "qubit_freq = Analysis.exp1D.peak_fit(x=qubit_freq_sweep,y=sig_amp,method=\"gaussian\")\n",
    "qubit_freq = int(qubit_freq.tolist())\n",
    "machine.qubits[qubit_index].f_01 = qubit_freq + 0E6\n",
    "machine.qubits[qubit_index].f_tls[0] = qubit_freq + 0E6\n",
    "machine.qubits[qubit_index].lo = qubit_freq + 50E6\n",
    "machine = Analysis.set_machine(machine)"
   ]
  },
  {
   "cell_type": "markdown",
   "id": "6c252c1e",
   "metadata": {},
   "source": [
    "## Measure single-shot I, Q blobs"
   ]
  },
  {
   "cell_type": "code",
   "execution_count": 31,
   "id": "5ac68f1d-1186-4ac7-a2ce-0d2365510a5c",
   "metadata": {},
   "outputs": [],
   "source": [
    "%matplotlib inline\n",
    "machine, Ig, Qg, Ie, Qe = Experiment.exp1D.RR.single_shot_IQ_blob(machine.resonators[res_index].f_readout, qubit_index, res_index, flux_index,\n",
    "                              n_avg = 120E3, cd_time = 20E3, plot_flag = False)"
   ]
  },
  {
   "cell_type": "code",
   "execution_count": 32,
   "id": "17d34b84",
   "metadata": {
    "scrolled": true
   },
   "outputs": [
    {
     "name": "stdout",
     "output_type": "stream",
     "text": [
      "\n",
      "\t\t\tFidelity Matrix:\n",
      "\t\t\t-----------------\n",
      "\t\t\t| 0.977 | 0.023 |\n",
      "\t\t\t----------------\n",
      "\t\t\t| 0.101 | 0.899 |\n",
      "\t\t\t-----------------\n",
      "\t\t\tIQ plane rotated by: 117.7°\n",
      "\t\t\tThreshold: -1.491e-04\n",
      "\t\t\tFidelity: 93.8%\n",
      "\t\t\t\n"
     ]
    }
   ],
   "source": [
    "%matplotlib qt\n",
    "angle, threshold, fidelity, gg, ge, eg, ee = Analysis.exp1D.two_state_discriminator(Ig, Qg, Ie, Qe, plot_flag=True)"
   ]
  },
  {
   "cell_type": "code",
   "execution_count": 33,
   "id": "1719b804",
   "metadata": {},
   "outputs": [],
   "source": [
    "# set the rotation angle\n",
    "machine.resonators[res_index].rotation_angle = angle.item()\n",
    "machine.resonators[res_index].ge_threshold = threshold.item()\n",
    "machine = Analysis.set_machine(machine)"
   ]
  },
  {
   "cell_type": "code",
   "execution_count": 27,
   "id": "0d9a1026",
   "metadata": {},
   "outputs": [],
   "source": [
    "machine.resonators[res_index].readout_pulse_length = 500\n",
    "machine = Analysis.set_machine(machine)"
   ]
  },
  {
   "cell_type": "markdown",
   "id": "faa5b838",
   "metadata": {},
   "source": [
    "## optimize single-shot frequency"
   ]
  },
  {
   "cell_type": "code",
   "execution_count": 18,
   "id": "2d779fe2",
   "metadata": {},
   "outputs": [
    {
     "name": "stdout",
     "output_type": "stream",
     "text": [
      "Execution stopped by user!##########                         ] 51.1% (n=25531/50000.0) --> elapsed time: 109.20s\n",
      "The optimal readout frequency is 6019140404.0 Hz (SNR=3.5690698897589597)5567/50000.0) --> elapsed time: 109.48s\n"
     ]
    }
   ],
   "source": [
    "res_freq_sweep = machine.resonators[res_index].f_readout + np.arange(-2E6, 2E6 + 1, 0.02E6)\n",
    "\n",
    "%matplotlib qt\n",
    "machine, SNR, res_freq_opt = Experiment.exp1D.RR.single_shot_freq_optimization(res_freq_sweep, qubit_index, res_index, flux_index,\n",
    "                              n_avg = 50E3, cd_time = 10E3, plot_flag = True)"
   ]
  },
  {
   "cell_type": "code",
   "execution_count": 19,
   "id": "94b74f7b",
   "metadata": {},
   "outputs": [],
   "source": [
    "machine.resonators[res_index].f_readout = res_freq_opt.tolist() + 0E6\n",
    "machine.resonators[res_index].lo = machine.resonators[res_index].f_readout + 50E6\n",
    "machine = Analysis.set_machine(machine)"
   ]
  },
  {
   "cell_type": "code",
   "execution_count": 20,
   "id": "25ac00a5",
   "metadata": {},
   "outputs": [
    {
     "name": "stdout",
     "output_type": "stream",
     "text": [
      "2024-02-15 09:23:53,209 - qm - INFO     - Performing health check\n"
     ]
    },
    {
     "name": "stderr",
     "output_type": "stream",
     "text": [
      "INFO:qm.api.frontend_api:Performing health check\n"
     ]
    },
    {
     "name": "stdout",
     "output_type": "stream",
     "text": [
      "2024-02-15 09:23:53,221 - qm - INFO     - Health check passed\n"
     ]
    },
    {
     "name": "stderr",
     "output_type": "stream",
     "text": [
      "INFO:qm.api.frontend_api:Health check passed\n"
     ]
    },
    {
     "name": "stdout",
     "output_type": "stream",
     "text": [
      "------------------------------------- Calibrates r6 for (LO, IF) = (6.069 GHz, -50.000 MHz)\n",
      "2024-02-15 09:24:00,839 - qm - INFO     - Compiling program\n"
     ]
    },
    {
     "name": "stderr",
     "output_type": "stream",
     "text": [
      "INFO:qm.QuantumMachine:Compiling program\n"
     ]
    },
    {
     "name": "stdout",
     "output_type": "stream",
     "text": [
      "------------------------------------- Calibrates q6 for (LO, IF) = (5.471 GHz, -50.000 MHz)\n",
      "2024-02-15 09:24:12,992 - qm - INFO     - Compiling program\n"
     ]
    },
    {
     "name": "stderr",
     "output_type": "stream",
     "text": [
      "INFO:qm.QuantumMachine:Compiling program\n"
     ]
    }
   ],
   "source": [
    "# octave calibration\n",
    "Experiment.octave_calibration(qubit_index,res_index,flux_index,calibration_flag = True)"
   ]
  },
  {
   "cell_type": "markdown",
   "id": "e6bb4dbf",
   "metadata": {},
   "source": [
    "## optimize single-shot amplitude"
   ]
  },
  {
   "cell_type": "code",
   "execution_count": 30,
   "id": "ea1dab50",
   "metadata": {},
   "outputs": [
    {
     "name": "stdout",
     "output_type": "stream",
     "text": [
      "some abs amps > 0.5, removed from experiment run\n",
      "Progress: [##################################################] 100.0% (n=56/56) --> elapsed time: 90.35s\n",
      "Progress: [##################################################] 100.0% (n=56/56) --> elapsed time: 90.37s\n",
      "Progress: [##################################################] 100.0% (n=56/56) --> elapsed time: 90.40s\n",
      "Progress: [##################################################] 100.0% (n=56/56) --> elapsed time: 90.43s\n",
      "Progress: [##################################################] 100.0% (n=56/56) --> elapsed time: 90.45s\n",
      "Progress: [##################################################] 100.0% (n=56/56) --> elapsed time: 90.47s\n",
      "Progress: [##################################################] 100.0% (n=56/56) --> elapsed time: 90.50s\n",
      "Progress: [##################################################] 100.0% (n=56/56) --> elapsed time: 90.52s\n",
      "Progress: [##################################################] 100.0% (n=56/56) --> elapsed time: 90.55s\n",
      "Progress: [##################################################] 100.0% (n=56/56) --> elapsed time: 90.57s\n",
      "Progress: [##################################################] 100.0% (n=56/56) --> elapsed time: 90.60s\n",
      "Progress: [##################################################] 100.0% (n=56/56) --> elapsed time: 90.63s\n",
      "Progress: [##################################################] 100.0% (n=56/56) --> elapsed time: 90.66s\n",
      "Progress: [##################################################] 100.0% (n=56/56) --> elapsed time: 90.68s\n",
      "Progress: [##################################################] 100.0% (n=56/56) --> elapsed time: 90.71s\n",
      "Progress: [##################################################] 100.0% (n=56/56) --> elapsed time: 90.74s\n",
      "Progress: [##################################################] 100.0% (n=56/56) --> elapsed time: 90.76s\n",
      "Progress: [##################################################] 100.0% (n=56/56) --> elapsed time: 90.79s\n",
      "Progress: [##################################################] 100.0% (n=56/56) --> elapsed time: 90.81s\n",
      "Progress: [##################################################] 100.0% (n=56/56) --> elapsed time: 90.84s\n",
      "Progress: [##################################################] 100.0% (n=56/56) --> elapsed time: 90.87s\n",
      "Progress: [##################################################] 100.0% (n=56/56) --> elapsed time: 90.90s\n",
      "Progress: [##################################################] 100.0% (n=56/56) --> elapsed time: 90.92s\n",
      "Progress: [##################################################] 100.0% (n=56/56) --> elapsed time: 90.95s\n",
      "Progress: [##################################################] 100.0% (n=56/56) --> elapsed time: 90.97s\n",
      "Progress: [##################################################] 100.0% (n=56/56) --> elapsed time: 91.00s\n",
      "Progress: [##################################################] 100.0% (n=56/56) --> elapsed time: 91.02s\n",
      "Progress: [##################################################] 100.0% (n=56/56) --> elapsed time: 91.05s\n",
      "Progress: [##################################################] 100.0% (n=56/56) --> elapsed time: 91.07s\n",
      "Progress: [##################################################] 100.0% (n=56/56) --> elapsed time: 91.10s\n",
      "Progress: [##################################################] 100.0% (n=56/56) --> elapsed time: 91.13s\n",
      "Progress: [##################################################] 100.0% (n=56/56) --> elapsed time: 91.15s\n",
      "Progress: [##################################################] 100.0% (n=56/56) --> elapsed time: 91.18s\n",
      "Progress: [##################################################] 100.0% (n=56/56) --> elapsed time: 91.21s\n",
      "Progress: [##################################################] 100.0% (n=56/56) --> elapsed time: 91.24s\n",
      "Progress: [##################################################] 100.0% (n=56/56) --> elapsed time: 91.27s\n",
      "Progress: [##################################################] 100.0% (n=56/56) --> elapsed time: 91.29s\n",
      "Progress: [##################################################] 100.0% (n=56/56) --> elapsed time: 91.32s\n",
      "Progress: [##################################################] 100.0% (n=56/56) --> elapsed time: 91.35s\n",
      "Progress: [##################################################] 100.0% (n=56/56) --> elapsed time: 91.37s\n",
      "Progress: [##################################################] 100.0% (n=56/56) --> elapsed time: 91.40s\n",
      "Progress: [##################################################] 100.0% (n=56/56) --> elapsed time: 91.42s\n",
      "Progress: [##################################################] 100.0% (n=56/56) --> elapsed time: 91.45s\n",
      "Progress: [##################################################] 100.0% (n=56/56) --> elapsed time: 91.47s\n",
      "Progress: [##################################################] 100.0% (n=56/56) --> elapsed time: 91.50s\n",
      "Progress: [##################################################] 100.0% (n=56/56) --> elapsed time: 91.53s\n",
      "Progress: [##################################################] 100.0% (n=56/56) --> elapsed time: 91.55s\n",
      "Progress: [##################################################] 100.0% (n=56/56) --> elapsed time: 91.58s\n",
      "Progress: [##################################################] 100.0% (n=56/56) --> elapsed time: 91.61s\n",
      "Progress: [##################################################] 100.0% (n=56/56) --> elapsed time: 91.64s\n",
      "Progress: [##################################################] 100.0% (n=56/56) --> elapsed time: 91.66s\n",
      "Progress: [##################################################] 100.0% (n=56/56) --> elapsed time: 91.69s\n",
      "Progress: [##################################################] 100.0% (n=56/56) --> elapsed time: 91.71s\n",
      "Progress: [##################################################] 100.0% (n=56/56) --> elapsed time: 91.74s\n",
      "Progress: [##################################################] 100.0% (n=56/56) --> elapsed time: 91.76s\n",
      "Progress: [##################################################] 100.0% (n=56/56) --> elapsed time: 91.79s\n",
      "Progress: [##################################################] 100.0% (n=56/56) --> elapsed time: 91.81s\n",
      "Progress: [##################################################] 100.0% (n=56/56) --> elapsed time: 91.84s\n",
      "Progress: [##################################################] 100.0% (n=56/56) --> elapsed time: 91.87s\n",
      "Progress: [##################################################] 100.0% (n=56/56) --> elapsed time: 91.90s\n",
      "Progress: [##################################################] 100.0% (n=56/56) --> elapsed time: 91.92s\n",
      "Progress: [##################################################] 100.0% (n=56/56) --> elapsed time: 91.95s\n",
      "Progress: [##################################################] 100.0% (n=56/56) --> elapsed time: 91.97s\n",
      "Progress: [##################################################] 100.0% (n=56/56) --> elapsed time: 92.01s\n",
      "Progress: [##################################################] 100.0% (n=56/56) --> elapsed time: 92.05s\n",
      "Progress: [##################################################] 100.0% (n=56/56) --> elapsed time: 92.07s\n",
      "Progress: [##################################################] 100.0% (n=56/56) --> elapsed time: 92.08s\n",
      "Progress: [##################################################] 100.0% (n=56/56) --> elapsed time: 92.10s\n",
      "Progress: [##################################################] 100.0% (n=56/56) --> elapsed time: 92.12s\n",
      "Progress: [##################################################] 100.0% (n=56/56) --> elapsed time: 92.13s\n",
      "Progress: [##################################################] 100.0% (n=56/56) --> elapsed time: 92.15s\n",
      "Progress: [##################################################] 100.0% (n=56/56) --> elapsed time: 92.17s\n",
      "Progress: [##################################################] 100.0% (n=56/56) --> elapsed time: 92.18s\n",
      "Progress: [##################################################] 100.0% (n=56/56) --> elapsed time: 92.20s\n",
      "Progress: [##################################################] 100.0% (n=56/56) --> elapsed time: 92.21s\n",
      "Progress: [##################################################] 100.0% (n=56/56) --> elapsed time: 92.22s\n",
      "Progress: [##################################################] 100.0% (n=56/56) --> elapsed time: 92.24s\n",
      "Progress: [##################################################] 100.0% (n=56/56) --> elapsed time: 92.26s\n",
      "Progress: [##################################################] 100.0% (n=56/56) --> elapsed time: 92.27s\n",
      "Progress: [##################################################] 100.0% (n=56/56) --> elapsed time: 92.29s\n",
      "Progress: [##################################################] 100.0% (n=56/56) --> elapsed time: 92.30s\n",
      "Progress: [##################################################] 100.0% (n=56/56) --> elapsed time: 92.32s\n",
      "Progress: [##################################################] 100.0% (n=56/56) --> elapsed time: 92.33s\n",
      "Progress: [##################################################] 100.0% (n=56/56) --> elapsed time: 92.34s\n",
      "Progress: [##################################################] 100.0% (n=56/56) --> elapsed time: 92.36s\n",
      "Progress: [##################################################] 100.0% (n=56/56) --> elapsed time: 92.38s\n",
      "Progress: [##################################################] 100.0% (n=56/56) --> elapsed time: 92.39s\n"
     ]
    },
    {
     "name": "stdout",
     "output_type": "stream",
     "text": [
      "Progress: [##################################################] 100.0% (n=56/56) --> elapsed time: 93.00s\n",
      "Progress: [##################################################] 100.0% (n=56/56) --> elapsed time: 93.02s\n",
      "The optimal readout amplitude is 442.023 mV (Fidelity=92.4%)\n"
     ]
    }
   ],
   "source": [
    "res_amp_sweep = np.arange(0.5,1.5 + 1E-4, 0.01)\n",
    "\n",
    "%matplotlib qt\n",
    "machine, res_amp_sweep_abs, fidelity, res_amp_opt = Experiment.exp1D.RR.single_shot_amp_optimization(res_amp_sweep, qubit_index, res_index, flux_index,\n",
    "                              n_avg = 40E3, cd_time = 20E3, plot_flag = True)"
   ]
  },
  {
   "cell_type": "code",
   "execution_count": 22,
   "id": "6d615938",
   "metadata": {},
   "outputs": [],
   "source": [
    "# Set the value to the maximum obtained above\n",
    "machine.resonators[res_index].readout_pulse_amp = 0.475294\n",
    "machine = Analysis.set_machine(machine)"
   ]
  },
  {
   "cell_type": "markdown",
   "id": "ab336512",
   "metadata": {},
   "source": [
    "## optimize single-shot readout duration"
   ]
  },
  {
   "cell_type": "code",
   "execution_count": 23,
   "id": "72ddecc7",
   "metadata": {},
   "outputs": [
    {
     "name": "stdout",
     "output_type": "stream",
     "text": [
      "Integration weights chunk-size length in clock cycles: 10\n",
      "The readout has been sliced in the following number of divisions 125\n",
      "Progress: [##################################################] 100.0% (n=20000/20000.0) --> elapsed time: 9.80s\n",
      "Progress: [##################################################] 100.0% (n=20000/20000.0) --> elapsed time: 10.16s\n",
      "Progress: [##################################################] 100.0% (n=20000/20000.0) --> elapsed time: 10.53s\n",
      "Progress: [##################################################] 100.0% (n=20000/20000.0) --> elapsed time: 10.89s\n",
      "Progress: [##################################################] 100.0% (n=20000/20000.0) --> elapsed time: 11.26s\n",
      "Progress: [##################################################] 100.0% (n=20000/20000.0) --> elapsed time: 11.65s\n",
      "Progress: [##################################################] 100.0% (n=20000/20000.0) --> elapsed time: 12.02s\n",
      "Progress: [##################################################] 100.0% (n=20000/20000.0) --> elapsed time: 12.56s\n",
      "Progress: [##################################################] 100.0% (n=20000/20000.0) --> elapsed time: 12.96s\n",
      "Progress: [##################################################] 100.0% (n=20000/20000.0) --> elapsed time: 13.33s\n",
      "Progress: [##################################################] 100.0% (n=20000/20000.0) --> elapsed time: 13.74s\n",
      "Progress: [##################################################] 100.0% (n=20000/20000.0) --> elapsed time: 14.11s\n",
      "Progress: [##################################################] 100.0% (n=20000/20000.0) --> elapsed time: 14.48s\n",
      "Progress: [##################################################] 100.0% (n=20000/20000.0) --> elapsed time: 14.86s\n",
      "Progress: [##################################################] 100.0% (n=20000/20000.0) --> elapsed time: 15.27s\n",
      "Progress: [##################################################] 100.0% (n=20000/20000.0) --> elapsed time: 15.64s\n",
      "Progress: [##################################################] 100.0% (n=20000/20000.0) --> elapsed time: 16.01s\n",
      "Progress: [##################################################] 100.0% (n=20000/20000.0) --> elapsed time: 16.40s\n",
      "Progress: [##################################################] 100.0% (n=20000/20000.0) --> elapsed time: 16.78s\n",
      "Progress: [##################################################] 100.0% (n=20000/20000.0) --> elapsed time: 17.15s\n",
      "Progress: [##################################################] 100.0% (n=20000/20000.0) --> elapsed time: 17.66s\n",
      "Progress: [##################################################] 100.0% (n=20000/20000.0) --> elapsed time: 18.05s\n",
      "Progress: [##################################################] 100.0% (n=20000/20000.0) --> elapsed time: 18.43s\n",
      "Progress: [##################################################] 100.0% (n=20000/20000.0) --> elapsed time: 18.84s\n",
      "Progress: [##################################################] 100.0% (n=20000/20000.0) --> elapsed time: 19.26s\n",
      "Progress: [##################################################] 100.0% (n=20000/20000.0) --> elapsed time: 19.63s\n",
      "Progress: [##################################################] 100.0% (n=20000/20000.0) --> elapsed time: 20.00s\n",
      "Progress: [##################################################] 100.0% (n=20000/20000.0) --> elapsed time: 20.38s\n",
      "Progress: [##################################################] 100.0% (n=20000/20000.0) --> elapsed time: 20.74s\n",
      "Progress: [##################################################] 100.0% (n=20000/20000.0) --> elapsed time: 21.11s\n",
      "Progress: [##################################################] 100.0% (n=20000/20000.0) --> elapsed time: 21.50s\n",
      "Progress: [##################################################] 100.0% (n=20000/20000.0) --> elapsed time: 21.87s\n",
      "Progress: [##################################################] 100.0% (n=20000/20000.0) --> elapsed time: 22.36s\n",
      "Progress: [##################################################] 100.0% (n=20000/20000.0) --> elapsed time: 22.72s\n",
      "Progress: [##################################################] 100.0% (n=20000/20000.0) --> elapsed time: 23.12s\n",
      "Progress: [##################################################] 100.0% (n=20000/20000.0) --> elapsed time: 23.51s\n",
      "The optimal readout length is 928 ns (SNR=4.699628890484953)\n",
      "Execution stopped by user!\n"
     ]
    }
   ],
   "source": [
    "readout_len = 4E3\n",
    "ringdown_len = 1E3\n",
    "division_length = 10\n",
    "\n",
    "%matplotlib qt\n",
    "machine, res_duration_sweep, SNR, opt_readout_length = Experiment.exp1D.RR.single_shot_duration_optimization(readout_len, ringdown_len, division_length, \n",
    "                            qubit_index, res_index, flux_index, n_avg = 20E3, cd_time = 20E3, plot_flag = True)"
   ]
  },
  {
   "cell_type": "code",
   "execution_count": 24,
   "id": "69bcdd34",
   "metadata": {},
   "outputs": [],
   "source": [
    "machine.resonators[res_index].readout_pulse_length = 928\n",
    "machine = Analysis.set_machine(machine)"
   ]
  },
  {
   "cell_type": "code",
   "execution_count": null,
   "id": "6cec236d",
   "metadata": {},
   "outputs": [],
   "source": []
  },
  {
   "cell_type": "code",
   "execution_count": null,
   "id": "ef4806ed",
   "metadata": {},
   "outputs": [],
   "source": []
  },
  {
   "cell_type": "code",
   "execution_count": null,
   "id": "6b41f5cf",
   "metadata": {},
   "outputs": [],
   "source": []
  },
  {
   "cell_type": "code",
   "execution_count": null,
   "id": "caa4b9a8-2db5-48e5-9759-140deb11035c",
   "metadata": {},
   "outputs": [],
   "source": []
  }
 ],
 "metadata": {
  "kernelspec": {
   "display_name": "Python 3 (ipykernel)",
   "language": "python",
   "name": "python3"
  },
  "language_info": {
   "codemirror_mode": {
    "name": "ipython",
    "version": 3
   },
   "file_extension": ".py",
   "mimetype": "text/x-python",
   "name": "python",
   "nbconvert_exporter": "python",
   "pygments_lexer": "ipython3",
   "version": "3.8.17"
  }
 },
 "nbformat": 4,
 "nbformat_minor": 5
}
