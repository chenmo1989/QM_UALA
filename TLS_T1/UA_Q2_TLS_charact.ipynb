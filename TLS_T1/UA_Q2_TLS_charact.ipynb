{
 "cells": [
  {
   "cell_type": "markdown",
   "id": "49d22572",
   "metadata": {},
   "source": [
    "# TLS Characterization of UA Q2\n",
    "### using Experiment and Analysis classes"
   ]
  },
  {
   "cell_type": "code",
   "execution_count": 1,
   "id": "b08c4dec",
   "metadata": {
    "scrolled": true
   },
   "outputs": [
    {
     "name": "stdout",
     "output_type": "stream",
     "text": [
      "2024-01-19 22:10:50,491 - qm - INFO     - Starting session: 54e2cac2-4942-459f-8f3f-545c803aac51\n"
     ]
    }
   ],
   "source": [
    "from qm.qua import *\n",
    "from qm import QuantumMachinesManager, SimulationConfig, LoopbackInterface, generate_qua_script\n",
    "from qm.octave import *\n",
    "from qm.octave.octave_manager import ClockMode\n",
    "from configuration import *\n",
    "from scipy import signal\n",
    "from qualang_tools.bakery import baking\n",
    "from qualang_tools.units import unit\n",
    "from qm.octave import QmOctaveConfig\n",
    "from set_octave import ElementsSettings, octave_settings\n",
    "from quam import QuAM\n",
    "from scipy.io import savemat, loadmat\n",
    "from scipy.optimize import curve_fit\n",
    "from scipy.signal import savgol_filter\n",
    "from qutip import *\n",
    "from typing import Union\n",
    "from macros import *\n",
    "import datetime \n",
    "import os\n",
    "import time\n",
    "import warnings\n",
    "import json\n",
    "import matplotlib.pyplot as plt\n",
    "import numpy as np\n",
    "import Labber\n",
    "\n",
    "from ExperimentClass import ExperimentHandle\n",
    "from AnalysisClass import AnalysisHandle\n",
    "\n",
    "warnings.filterwarnings(\"ignore\")\n",
    "\n",
    "qubit_index = 1 # for UA Q2\n",
    "res_index = 1 # for UA Q2\n",
    "flux_index = 1 # for UA Q2\n",
    "TLS_index = 0"
   ]
  },
  {
   "cell_type": "code",
   "execution_count": 2,
   "id": "44475f4c",
   "metadata": {},
   "outputs": [],
   "source": [
    "Experiment = ExperimentHandle()\n",
    "Analysis = AnalysisHandle()\n",
    "machine = Analysis.get_machine()"
   ]
  },
  {
   "cell_type": "code",
   "execution_count": null,
   "id": "76f18494",
   "metadata": {},
   "outputs": [],
   "source": [
    "# initialize Labber-controlled hardware\n",
    "Experiment.set_Labber(Analysis.get_machine(), qubit_index, res_index, flux_index)\n",
    "# set octave to external clock\n",
    "#Experiment.set_external_clock()"
   ]
  },
  {
   "cell_type": "code",
   "execution_count": null,
   "id": "494501d8",
   "metadata": {},
   "outputs": [],
   "source": [
    "# this updates the octave settings, including rf_gain and rf_output_mode\n",
    "Experiment.octave_calibration(qubit_index,res_index,flux_index,calibration_flag = False)"
   ]
  },
  {
   "cell_type": "markdown",
   "id": "27a943af",
   "metadata": {},
   "source": [
    "# TLS experiments"
   ]
  },
  {
   "cell_type": "markdown",
   "id": "4045c37b",
   "metadata": {},
   "source": [
    "## Set TLS index"
   ]
  },
  {
   "cell_type": "code",
   "execution_count": 3,
   "id": "7e758ebc",
   "metadata": {},
   "outputs": [],
   "source": [
    "TLS_index = 0"
   ]
  },
  {
   "cell_type": "markdown",
   "id": "e16067f7",
   "metadata": {},
   "source": [
    "## TLS T1"
   ]
  },
  {
   "cell_type": "code",
   "execution_count": null,
   "id": "4bd0ef23",
   "metadata": {},
   "outputs": [],
   "source": [
    "# set to qubit freq\n",
    "machine.qubits[qubit_index].f_01 = machine.qubits[qubit_index].f_tls[0] + 0E6\n",
    "machine.qubits[qubit_index].lo = machine.qubits[qubit_index].f_01 + 50E6\n",
    "machine = Analysis.set_machine(machine)"
   ]
  },
  {
   "cell_type": "code",
   "execution_count": null,
   "id": "97b6a31c",
   "metadata": {},
   "outputs": [],
   "source": [
    "# calibrate octave\n",
    "Experiment.octave_calibration(qubit_index,res_index,flux_index,machine=machine,calibration_flag = True)"
   ]
  },
  {
   "cell_type": "code",
   "execution_count": null,
   "id": "3c85f9be",
   "metadata": {},
   "outputs": [],
   "source": [
    "%matplotlib qt\n",
    "tau_sweep_abs = np.arange(0.5E3,240E3+1,6E3)\n",
    "machine, tau_sweep_abs, sig_amp = Experiment.exp1D.T1.TLS_T1(tau_sweep_abs, qubit_index, res_index, flux_index, TLS_index,\n",
    "                   n_avg = 16E3, cd_time_qubit = 25E3, cd_time_TLS = 500E3, simulate_flag = False, simulation_len = 15_000, plot_flag = True)"
   ]
  },
  {
   "cell_type": "code",
   "execution_count": null,
   "id": "d90ed2c5",
   "metadata": {},
   "outputs": [],
   "source": [
    "%matplotlib inline\n",
    "TLS_T1 = Analysis.exp1D.T1(tau_sweep_abs,sig_amp,method = \"exp\")"
   ]
  },
  {
   "cell_type": "markdown",
   "id": "f56bc3e8",
   "metadata": {},
   "source": [
    "# TLS drive"
   ]
  },
  {
   "cell_type": "markdown",
   "id": "3f619835",
   "metadata": {},
   "source": [
    "## TLS spectroscopy"
   ]
  },
  {
   "cell_type": "markdown",
   "id": "a48a347c",
   "metadata": {},
   "source": [
    "### This cell is only for the first run, to estimate TLS freq"
   ]
  },
  {
   "cell_type": "code",
   "execution_count": null,
   "id": "2aa0f54b",
   "metadata": {},
   "outputs": [],
   "source": [
    "TLS_index = 0"
   ]
  },
  {
   "cell_type": "code",
   "execution_count": null,
   "id": "e934b25b",
   "metadata": {},
   "outputs": [],
   "source": [
    "# TLS freq estimate based on SWAP flux amplitude\n",
    "TLS_freq_est = np.polyval(machine.qubits[qubit_index].AC_tuning_curve,machine.flux_lines[flux_index].iswap.level[TLS_index])\n",
    "TLS_freq_est = np.round(TLS_freq_est * 1E6)\n",
    "if len(machine.qubits[qubit_index].f_tls) < TLS_index + 2: # need to increase size\n",
    "    machine.qubits[qubit_index].f_tls.append(int(TLS_freq_est.item()) + 0E6)\n",
    "    machine.qubits[qubit_index].lo = int(TLS_freq_est.item()) - 200E6\n",
    "else: # just update the value\n",
    "    machine.qubits[qubit_index].f_tls[TLS_index+1] = (int(TLS_freq_est.item()))\n",
    "    machine.qubits[qubit_index].lo = int(TLS_freq_est.item()) - 200E6\n",
    "machine = Analysis.set_machine(machine)"
   ]
  },
  {
   "cell_type": "markdown",
   "id": "3b5fa69b",
   "metadata": {},
   "source": [
    "### This is when we already have calibrated TLS freq saved somewhere"
   ]
  },
  {
   "cell_type": "code",
   "execution_count": null,
   "id": "6d802060",
   "metadata": {},
   "outputs": [],
   "source": [
    "# set the \"qubit frequency\"\n",
    "machine.qubits[qubit_index].f_01 = machine.qubits[qubit_index].f_tls[TLS_index+1] + 0E6\n",
    "machine.qubits[qubit_index].lo = machine.qubits[qubit_index].f_01 - 200E6\n",
    "machine = Analysis.set_machine(machine)"
   ]
  },
  {
   "cell_type": "code",
   "execution_count": null,
   "id": "c801b7a4",
   "metadata": {},
   "outputs": [],
   "source": [
    "# calibrate octave for TLS sweep\n",
    "Experiment.octave_calibration(qubit_index,res_index,flux_index,machine = machine,calibration_flag = True)"
   ]
  },
  {
   "cell_type": "code",
   "execution_count": null,
   "id": "a10a09b8",
   "metadata": {},
   "outputs": [],
   "source": [
    "%matplotlib qt\n",
    "TLS_freq_sweep = machine.qubits[qubit_index].f_tls[TLS_index+1] + np.arange(-50E6,50E6+1,1E6)\n",
    "machine, TLS_freq_sweep, sig_amp = Experiment.exp1D.Rabi.TLS_freq(TLS_freq_sweep, qubit_index, res_index, flux_index, TLS_index,\n",
    "                  n_avg = 2E3, cd_time_qubit = 25E3, cd_time_TLS = 500E3, simulate_flag = False, simulation_len = 10_000, plot_flag = True, machine = machine)"
   ]
  },
  {
   "cell_type": "code",
   "execution_count": null,
   "id": "8288b6fb",
   "metadata": {
    "scrolled": true
   },
   "outputs": [],
   "source": [
    "%matplotlib inline\n",
    "qubit_freq = Analysis.exp1D.peak_fit(x=TLS_freq_sweep,y=sig_amp,method=\"gaussian\")\n",
    "qubit_freq = int(qubit_freq.tolist())\n",
    "# update TLS freq\n",
    "machine.qubits[qubit_index].f_tls[TLS_index+1] = qubit_freq + 0E6\n",
    "# set the \"qubit frequency\"\n",
    "machine.qubits[qubit_index].f_01 = qubit_freq + 0E6\n",
    "machine.qubits[qubit_index].lo = qubit_freq - 200E6\n",
    "# save the parameters\n",
    "machine = Analysis.set_machine(machine)"
   ]
  },
  {
   "cell_type": "markdown",
   "id": "8dea7ec4",
   "metadata": {},
   "source": [
    "## TLS rabi"
   ]
  },
  {
   "cell_type": "code",
   "execution_count": null,
   "id": "978f2ea8",
   "metadata": {},
   "outputs": [],
   "source": [
    "machine.flux_lines[flux_index].iswap.level[TLS_index] = 0.219\n",
    "machine = Analysis.set_machine(machine)"
   ]
  },
  {
   "cell_type": "code",
   "execution_count": null,
   "id": "42d9a135",
   "metadata": {},
   "outputs": [],
   "source": [
    "machine.qubits[qubit_index].pi_amp_tls[0] = 0.5\n",
    "machine = Analysis.set_machine(machine)"
   ]
  },
  {
   "cell_type": "code",
   "execution_count": null,
   "id": "6fdb039f",
   "metadata": {},
   "outputs": [],
   "source": [
    "%matplotlib qt\n",
    "rabi_duration_sweep = np.arange(4, 800 + 0.1, 15)  # in units of clock cyles\n",
    "machine, rabi_duration_sweep, sig_amp = Experiment.exp1D.Rabi.TLS_rabi_length(rabi_duration_sweep, qubit_index, res_index, flux_index, TLS_index,\n",
    "                  n_avg = 4E3, cd_time_qubit = 25E3, cd_time_TLS = 500E3, simulate_flag = False, simulation_len = 10_000, plot_flag = True, machine = machine)"
   ]
  },
  {
   "cell_type": "code",
   "execution_count": null,
   "id": "4dbdbed6",
   "metadata": {},
   "outputs": [],
   "source": [
    "%matplotlib inline\n",
    "pi_pulse_length = Analysis.exp1D.rabi_length(rabi_duration_sweep,sig_amp,method = \"decaying_time_rabi\", plot_flag = True)"
   ]
  },
  {
   "cell_type": "code",
   "execution_count": null,
   "id": "bc58a8c6",
   "metadata": {},
   "outputs": [],
   "source": [
    "if len(machine.qubits[qubit_index].pi_length_tls) < TLS_index + 1: # need to increase size\n",
    "    machine.qubits[qubit_index].pi_length_tls.append(400)\n",
    "    machine.qubits[qubit_index].pi_length_tls[0] = 400\n",
    "else: # just update the value\n",
    "    machine.qubits[qubit_index].pi_length_tls[TLS_index] = 400\n",
    "    machine.qubits[qubit_index].pi_length_tls[0] = 400\n",
    "    \n",
    "machine = Analysis.set_machine(machine)"
   ]
  },
  {
   "cell_type": "markdown",
   "id": "22b793d6",
   "metadata": {},
   "source": [
    "## TLS Power Rabi"
   ]
  },
  {
   "cell_type": "code",
   "execution_count": null,
   "id": "4b876b96",
   "metadata": {},
   "outputs": [],
   "source": [
    "%matplotlib qt\n",
    "rabi_amp_sweep_rel = np.arange(0.3, 2.0, 0.05) \n",
    "machine, rabi_amp_sweep_abs, sig_amp = Experiment.exp1D.Rabi.TLS_rabi_amp(rabi_amp_sweep_rel, qubit_index, res_index, flux_index, TLS_index = TLS_index,  \n",
    "                                          n_avg = 4E3, cd_time_qubit = 20E3, cd_time_TLS = 50E3, plot_flag = False, machine = machine)"
   ]
  },
  {
   "cell_type": "code",
   "execution_count": null,
   "id": "84163dbe",
   "metadata": {},
   "outputs": [],
   "source": [
    "%matplotlib inline\n",
    "pi_pulse_amp = Analysis.exp1D.rabi_length(rabi_amp_sweep_abs,sig_amp,method = \"power_rabi\", plot_flag = True)"
   ]
  },
  {
   "cell_type": "code",
   "execution_count": null,
   "id": "37ac4fdb",
   "metadata": {},
   "outputs": [],
   "source": [
    "if len(machine.qubits[qubit_index].pi_length_tls) < TLS_index + 1: # need to increase size\n",
    "    machine.qubits[qubit_index].pi_amp_tls.append(pi_pulse_amp)\n",
    "else: # just update the value\n",
    "    machine.qubits[qubit_index].pi_amp_tls[TLS_index] = pi_pulse_amp\n",
    "machine = Analysis.set_machine(machine)"
   ]
  },
  {
   "cell_type": "markdown",
   "id": "d52a556f",
   "metadata": {},
   "source": [
    "## TLS Ramsey"
   ]
  },
  {
   "cell_type": "code",
   "execution_count": null,
   "id": "48331441",
   "metadata": {},
   "outputs": [],
   "source": [
    "%matplotlib qt\n",
    "ramsey_duration_sweep = np.arange(4, 180 + 0.1, 2)  # in units of clock cyles\n",
    "machine, ramsey_duration_sweep, sig_I = Experiment.exp1D.Ramsey.TLS_ramsey(ramsey_duration_sweep, qubit_index, res_index, flux_index, TLS_index,\n",
    "          n_avg = 4E3, detuning = 10E6, cd_time_qubit = 25E3, cd_time_TLS = 500E3, plot_flag = True, simulate_flag = False, simulation_len = 20_000, machine = machine)"
   ]
  },
  {
   "cell_type": "code",
   "execution_count": null,
   "id": "ea8dfaae",
   "metadata": {},
   "outputs": [],
   "source": [
    "%matplotlib inline\n",
    "q_T2star = Analysis.exp1D.ramsey(ramsey_duration_sweep, sig_I,plot_flag = True)"
   ]
  },
  {
   "cell_type": "markdown",
   "id": "ef100262",
   "metadata": {},
   "source": [
    "## TLS T1 with direct driving"
   ]
  },
  {
   "cell_type": "code",
   "execution_count": null,
   "id": "1430ab5e",
   "metadata": {},
   "outputs": [],
   "source": [
    "%matplotlib qt\n",
    "tau_sweep_abs = np.arange(200,400E3+1,10E3)\n",
    "machine, tau_sweep_abs, sig_I = Experiment.exp1D.T1.TLS_T1_driving(tau_sweep_abs, qubit_index, res_index, flux_index, TLS_index,\n",
    "                   n_avg = 2E3, cd_time_qubit = 20E3, cd_time_TLS = 500E3, simulate_flag = False, simulation_len = 15_000, plot_flag = True)"
   ]
  },
  {
   "cell_type": "code",
   "execution_count": null,
   "id": "61646efa",
   "metadata": {},
   "outputs": [],
   "source": [
    "%matplotlib inline\n",
    "TLS_T1 = Analysis.exp1D.T1(tau_sweep_abs,sig_I,method = \"exp\")"
   ]
  },
  {
   "cell_type": "markdown",
   "id": "62a2cd6e",
   "metadata": {},
   "source": [
    "# TLS Dynamical Decoupling"
   ]
  },
  {
   "cell_type": "markdown",
   "id": "86ea1e82",
   "metadata": {},
   "source": [
    "## TLS echo"
   ]
  },
  {
   "cell_type": "code",
   "execution_count": null,
   "id": "43c4ac57",
   "metadata": {},
   "outputs": [],
   "source": [
    "%matplotlib qt\n",
    "tau_sweep = np.arange(4, 4E3 + 0.1, 40)  # in units of clock cyles\n",
    "machine, tau_sweep_abs, sig_I = Experiment.exp1D.DD.TLS_echo(tau_sweep, qubit_index, res_index, flux_index, TLS_index,\n",
    "          n_avg = 4E3, cd_time_qubit = 25E3, cd_time_TLS = 500E3, plot_flag = True, simulate_flag = False, simulation_len = 20_000, machine = machine)"
   ]
  },
  {
   "cell_type": "code",
   "execution_count": null,
   "id": "776029b2",
   "metadata": {},
   "outputs": [],
   "source": [
    "%matplotlib inline\n",
    "TLS_T2e = Analysis.exp1D.T1(tau_sweep_abs*2,sig_I,method = \"exp\")"
   ]
  },
  {
   "cell_type": "markdown",
   "id": "5fe4db22",
   "metadata": {},
   "source": [
    "## TLS CPMG2"
   ]
  },
  {
   "cell_type": "code",
   "execution_count": null,
   "id": "878b62ea",
   "metadata": {},
   "outputs": [],
   "source": [
    "%matplotlib qt\n",
    "tau_sweep = np.arange(4, 2000 + 0.1, 4)  # in units of clock cyles\n",
    "machine, tau_sweep_abs, sig_I = Experiment.exp1D.DD.TLS_CPMG(tau_sweep, qubit_index, res_index, flux_index, TLS_index,\n",
    "          N_CPMG = 2, n_avg = 10E3, cd_time_qubit = 25E3, cd_time_TLS = 500E3, plot_flag = False, simulate_flag = False, simulation_len = 20_000, machine = machine)"
   ]
  },
  {
   "cell_type": "markdown",
   "id": "d32645f2",
   "metadata": {},
   "source": [
    "## TLS CPMG4"
   ]
  },
  {
   "cell_type": "code",
   "execution_count": null,
   "id": "74eef9a3",
   "metadata": {},
   "outputs": [],
   "source": [
    "%matplotlib qt\n",
    "tau_sweep = np.arange(4, 2000 + 0.1, 1)  # in units of clock cyles\n",
    "machine, tau_sweep_abs, sig_I = Experiment.exp1D.DD.TLS_CPMG(tau_sweep, qubit_index, res_index, flux_index, TLS_index,\n",
    "          N_CPMG = 4, n_avg = 10E3, cd_time_qubit = 25E3, cd_time_TLS = 500E3, plot_flag = False, simulate_flag = False, simulation_len = 20_000, machine = machine)"
   ]
  },
  {
   "cell_type": "markdown",
   "id": "a3fac939",
   "metadata": {},
   "source": [
    "## TLS CPMG6"
   ]
  },
  {
   "cell_type": "code",
   "execution_count": null,
   "id": "75a4353f",
   "metadata": {},
   "outputs": [],
   "source": [
    "%matplotlib qt\n",
    "tau_sweep = np.arange(4, 2000 + 0.1, 2)  # in units of clock cyles\n",
    "machine, tau_sweep_abs, sig_I = Experiment.exp1D.DD.TLS_CPMG(tau_sweep, qubit_index, res_index, flux_index, TLS_index,\n",
    "          N_CPMG = 6, n_avg = 10E3, cd_time_qubit = 25E3, cd_time_TLS = 500E3, plot_flag = False, simulate_flag = False, simulation_len = 20_000, machine = machine)"
   ]
  },
  {
   "cell_type": "markdown",
   "id": "649233ab",
   "metadata": {},
   "source": [
    "## TLS CPMG8"
   ]
  },
  {
   "cell_type": "code",
   "execution_count": null,
   "id": "2aa0a9da",
   "metadata": {},
   "outputs": [],
   "source": [
    "%matplotlib qt\n",
    "tau_sweep = np.arange(4, 2000 + 0.1, 1)  # in units of clock cyles\n",
    "machine, tau_sweep_abs, sig_I = Experiment.exp1D.DD.TLS_CPMG(tau_sweep, qubit_index, res_index, flux_index, TLS_index,\n",
    "          N_CPMG = 8, n_avg = 10E3, cd_time_qubit = 25E3, cd_time_TLS = 500E3, plot_flag = False, simulate_flag = False, simulation_len = 20_000, machine = machine)"
   ]
  },
  {
   "cell_type": "markdown",
   "id": "9dbf9931",
   "metadata": {},
   "source": [
    "## TLS CPMG12"
   ]
  },
  {
   "cell_type": "code",
   "execution_count": null,
   "id": "21061467",
   "metadata": {},
   "outputs": [],
   "source": [
    "%matplotlib qt\n",
    "tau_sweep = np.arange(4, 2000 + 0.1, 1)  # in units of clock cyles\n",
    "machine, tau_sweep_abs, sig_I = Experiment.exp1D.DD.TLS_CPMG(tau_sweep, qubit_index, res_index, flux_index, TLS_index,\n",
    "          N_CPMG = 12, n_avg = 10E3, cd_time_qubit = 25E3, cd_time_TLS = 500E3, plot_flag = False, simulate_flag = False, simulation_len = 20_000, machine = machine)"
   ]
  },
  {
   "cell_type": "markdown",
   "id": "c5c90f44",
   "metadata": {},
   "source": [
    "## TLS CPMG16"
   ]
  },
  {
   "cell_type": "code",
   "execution_count": null,
   "id": "36812422",
   "metadata": {},
   "outputs": [],
   "source": [
    "%matplotlib qt\n",
    "tau_sweep = np.arange(4, 2000 + 0.1, 1)  # in units of clock cyles\n",
    "machine, tau_sweep_abs, sig_I = Experiment.exp1D.DD.TLS_CPMG(tau_sweep, qubit_index, res_index, flux_index, TLS_index,\n",
    "          N_CPMG = 16, n_avg = 10E3, cd_time_qubit = 25E3, cd_time_TLS = 500E3, plot_flag = False, simulate_flag = False, simulation_len = 20_000, machine = machine)"
   ]
  },
  {
   "cell_type": "markdown",
   "id": "c026d3b6",
   "metadata": {},
   "source": [
    "## TLS CPMG20"
   ]
  },
  {
   "cell_type": "code",
   "execution_count": null,
   "id": "c6dbfb37",
   "metadata": {},
   "outputs": [],
   "source": [
    "%matplotlib qt\n",
    "tau_sweep = np.arange(4, 800 + 0.1, 1)  # in units of clock cyles\n",
    "machine, tau_sweep_abs, sig_I = Experiment.exp1D.DD.TLS_CPMG(tau_sweep, qubit_index, res_index, flux_index, TLS_index,\n",
    "          N_CPMG = 20, n_avg = 4E3, cd_time_qubit = 20E3, cd_time_TLS = 400E3, plot_flag = False, simulate_flag = False, simulation_len = 20_000, machine = machine)"
   ]
  },
  {
   "cell_type": "markdown",
   "id": "1b522b72",
   "metadata": {},
   "source": [
    "## TLS CPMG24"
   ]
  },
  {
   "cell_type": "code",
   "execution_count": null,
   "id": "e365f61d",
   "metadata": {},
   "outputs": [],
   "source": [
    "%matplotlib qt\n",
    "tau_sweep = np.arange(4, 800 + 0.1, 1)  # in units of clock cyles\n",
    "machine, tau_sweep_abs, sig_I = Experiment.exp1D.DD.TLS_CPMG(tau_sweep, qubit_index, res_index, flux_index, TLS_index,\n",
    "          N_CPMG = 24, n_avg = 4E3, cd_time_qubit = 20E3, cd_time_TLS = 400E3, plot_flag = False, simulate_flag = False, simulation_len = 20_000, machine = machine)"
   ]
  },
  {
   "cell_type": "markdown",
   "id": "41a4e2df",
   "metadata": {},
   "source": [
    "## TLS CPMG28"
   ]
  },
  {
   "cell_type": "code",
   "execution_count": null,
   "id": "a9042317",
   "metadata": {},
   "outputs": [],
   "source": [
    "%matplotlib qt\n",
    "tau_sweep = np.arange(4, 800 + 0.1, 1)  # in units of clock cyles\n",
    "machine, tau_sweep_abs, sig_I = Experiment.exp1D.DD.TLS_CPMG(tau_sweep, qubit_index, res_index, flux_index, TLS_index,\n",
    "          N_CPMG = 28, n_avg = 4E3, cd_time_qubit = 20E3, cd_time_TLS = 400E3, plot_flag = False, simulate_flag = False, simulation_len = 20_000, machine = machine)"
   ]
  },
  {
   "cell_type": "markdown",
   "id": "80a47cb6",
   "metadata": {},
   "source": [
    "## TLS CPMG32"
   ]
  },
  {
   "cell_type": "code",
   "execution_count": null,
   "id": "a2f9d89b",
   "metadata": {},
   "outputs": [],
   "source": [
    "%matplotlib qt\n",
    "tau_sweep = np.arange(4, 800 + 0.1, 1)  # in units of clock cyles\n",
    "machine, tau_sweep_abs, sig_I = Experiment.exp1D.DD.TLS_CPMG(tau_sweep, qubit_index, res_index, flux_index, TLS_index,\n",
    "          N_CPMG = 32, n_avg = 4E3, cd_time_qubit = 20E3, cd_time_TLS = 400E3, plot_flag = False, simulate_flag = False, simulation_len = 20_000, machine = machine)"
   ]
  }
 ],
 "metadata": {
  "kernelspec": {
   "display_name": "Python 3 (ipykernel)",
   "language": "python",
   "name": "python3"
  },
  "language_info": {
   "codemirror_mode": {
    "name": "ipython",
    "version": 3
   },
   "file_extension": ".py",
   "mimetype": "text/x-python",
   "name": "python",
   "nbconvert_exporter": "python",
   "pygments_lexer": "ipython3",
   "version": "3.8.17"
  }
 },
 "nbformat": 4,
 "nbformat_minor": 5
}
