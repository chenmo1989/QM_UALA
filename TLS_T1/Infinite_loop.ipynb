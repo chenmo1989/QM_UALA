{
 "cells": [
  {
   "cell_type": "code",
   "execution_count": 12,
   "id": "fab5f145",
   "metadata": {},
   "outputs": [],
   "source": [
    "from qm.qua import *\n",
    "from qm.QuantumMachinesManager import QuantumMachinesManager\n",
    "from qm import SimulationConfig, LoopbackInterface\n",
    "from qm.octave import *\n",
    "from qm.octave.octave_manager import ClockMode\n",
    "from configuration import *\n",
    "import matplotlib.pyplot as plt\n",
    "import numpy as np\n",
    "from scipy import signal\n",
    "from qm import SimulationConfig\n",
    "from qualang_tools.bakery import baking\n",
    "from qualang_tools.units import unit\n",
    "import qdac as qdac\n",
    "from scipy.io import savemat\n",
    "from scipy.io import loadmat\n",
    "from scipy.optimize import curve_fit\n",
    "from scipy.signal import savgol_filter\n",
    "from qutip import *\n",
    "import datetime \n",
    "import os\n",
    "import time\n",
    "import warnings\n",
    "from qm import generate_qua_script\n",
    "from qm.octave import QmOctaveConfig\n",
    "from qm.octave.octave_manager import ClockMode\n",
    "from typing import Union\n",
    "import json\n",
    "from set_octave import ElementsSettings, octave_settings\n",
    "from quam import QuAM"
   ]
  },
  {
   "cell_type": "code",
   "execution_count": 40,
   "id": "ad9d1a66",
   "metadata": {},
   "outputs": [
    {
     "name": "stdout",
     "output_type": "stream",
     "text": [
      "2023-10-10 15:08:46,590 - qm - WARNING  - Open QM ended with warning 0: Opening a new Quantum Machine and closing Quantum Machines: \n"
     ]
    },
    {
     "name": "stderr",
     "output_type": "stream",
     "text": [
      "WARNING:qm.api.frontend_api:Open QM ended with warning 0: Opening a new Quantum Machine and closing Quantum Machines: \n"
     ]
    },
    {
     "name": "stdout",
     "output_type": "stream",
     "text": [
      "2023-10-10 15:08:46,593 - qm - WARNING  - Open QM ended with warning 0: Quantum Machine qm-1696975708989 is canceling running job 1696378112639.\n"
     ]
    },
    {
     "name": "stderr",
     "output_type": "stream",
     "text": [
      "WARNING:qm.api.frontend_api:Open QM ended with warning 0: Quantum Machine qm-1696975708989 is canceling running job 1696378112639.\n"
     ]
    },
    {
     "name": "stdout",
     "output_type": "stream",
     "text": [
      "2023-10-10 15:08:48,745 - qm - INFO     - Compiling program\n"
     ]
    },
    {
     "name": "stderr",
     "output_type": "stream",
     "text": [
      "INFO:qm.QuantumMachine:Compiling program\n"
     ]
    },
    {
     "data": {
      "text/plain": [
       "{(6209320000.0,\n",
       "  100000000.0): CalibrationResult(correction=[0.9753623120486736, -0.06451416015625, -0.06060791015625, 1.0382255427539349], i_offset=0.00390625, q_offset=0.00390625, lo_frequency=6209320000.0, if_frequency=100000000.0, temperature=MonitorData(temp=50.9375, errors=[]), mixer_id='octave_octave1_2', optimizer_parameters={'average_iterations': 100, 'iterations': 10000, 'calibration_offset_frequency': 7000000.0, 'keep_on': False})}"
      ]
     },
     "execution_count": 40,
     "metadata": {},
     "output_type": "execute_result"
    }
   ],
   "source": [
    "machine = QuAM(\"quam_state.json\")\n",
    "config = build_config(machine)\n",
    "qm = qmm.open_qm(config)\n",
    "qm.octave.calibrate_element(machine.qubits[0].name, [(machine.qubits[0].lo\n",
    ", machine.qubits[0].f_01 - machine.qubits[0].lo)])"
   ]
  },
  {
   "cell_type": "code",
   "execution_count": 59,
   "id": "edcea337",
   "metadata": {},
   "outputs": [
    {
     "name": "stdout",
     "output_type": "stream",
     "text": [
      "------------------------------------- Calibrates r0 for (LO, IF) = (7.312 GHz, -49.600 MHz)\n",
      "------------------------------------- Calibrates q0 for (LO, IF) = (6.149 GHz, 82.000 MHz)\n"
     ]
    }
   ],
   "source": [
    "%run octave_configuration.py"
   ]
  },
  {
   "cell_type": "code",
   "execution_count": 56,
   "id": "3bef9bba",
   "metadata": {},
   "outputs": [],
   "source": [
    "machine.qubits[qubit_index].lo = 6.14932e9\n",
    "machine.qubits[qubit_index].f_01 = 6.14932e9+82e6\n",
    "machine._save(\"quam_state.json\")"
   ]
  },
  {
   "cell_type": "code",
   "execution_count": 62,
   "id": "20a3ae27",
   "metadata": {},
   "outputs": [
    {
     "name": "stdout",
     "output_type": "stream",
     "text": [
      "lo 6149320000.0 f_01 6231320000.0\n",
      "2023-10-10 15:26:20,062 - qm - INFO     - Performing health check\n"
     ]
    },
    {
     "name": "stderr",
     "output_type": "stream",
     "text": [
      "INFO:qm.api.frontend_api:Performing health check\n"
     ]
    },
    {
     "name": "stdout",
     "output_type": "stream",
     "text": [
      "2023-10-10 15:26:20,077 - qm - INFO     - Health check passed\n"
     ]
    },
    {
     "name": "stderr",
     "output_type": "stream",
     "text": [
      "INFO:qm.api.frontend_api:Health check passed\n"
     ]
    },
    {
     "name": "stdout",
     "output_type": "stream",
     "text": [
      "2023-10-10 15:26:20,397 - qm - WARNING  - Open QM ended with warning 0: Opening a new Quantum Machine and closing Quantum Machines: \n"
     ]
    },
    {
     "name": "stderr",
     "output_type": "stream",
     "text": [
      "WARNING:qm.api.frontend_api:Open QM ended with warning 0: Opening a new Quantum Machine and closing Quantum Machines: \n"
     ]
    },
    {
     "name": "stdout",
     "output_type": "stream",
     "text": [
      "2023-10-10 15:26:20,400 - qm - WARNING  - Open QM ended with warning 0: Quantum Machine qm-1696976717835 is canceling running job 1696378112657.\n"
     ]
    },
    {
     "name": "stderr",
     "output_type": "stream",
     "text": [
      "WARNING:qm.api.frontend_api:Open QM ended with warning 0: Quantum Machine qm-1696976717835 is canceling running job 1696378112657.\n"
     ]
    },
    {
     "name": "stdout",
     "output_type": "stream",
     "text": [
      "2023-10-10 15:26:20,867 - qm - INFO     - Sending program to QOP for compilation\n"
     ]
    },
    {
     "name": "stderr",
     "output_type": "stream",
     "text": [
      "INFO:qm.api.frontend_api:Sending program to QOP for compilation\n"
     ]
    },
    {
     "name": "stdout",
     "output_type": "stream",
     "text": [
      "2023-10-10 15:26:21,033 - qm - INFO     - Executing program\n"
     ]
    },
    {
     "name": "stderr",
     "output_type": "stream",
     "text": [
      "INFO:qm.QuantumMachine:Executing program\n"
     ]
    }
   ],
   "source": [
    "# Set-up the machine and get the config #\n",
    "machine = QuAM(\"quam_state.json\")\n",
    "config = build_config(machine)\n",
    "\n",
    "qubit_index = 0\n",
    "\n",
    "q_if = machine.qubits[qubit_index].f_01 - machine.qubits[qubit_index].lo\n",
    "print('lo', machine.qubits[qubit_index].lo, 'f_01', machine.qubits[qubit_index].f_01)\n",
    "\n",
    "with program() as test:\n",
    "\n",
    "    with infinite_loop_():\n",
    "            \n",
    "        play(\"cw\" , machine.qubits[qubit_index].name)\n",
    "            \n",
    "qmm = QuantumMachinesManager(machine.network.qop_ip, port = '9510', octave=octave_config)\n",
    "qm = qmm.open_qm(config)\n",
    "job = qm.execute(test)"
   ]
  },
  {
   "cell_type": "code",
   "execution_count": 63,
   "id": "7e72e002",
   "metadata": {},
   "outputs": [
    {
     "data": {
      "text/plain": [
       "{'con1': {'type': 'opx1',\n",
       "  'analog_outputs': {1: {'offset': -0.0067901611328125,\n",
       "    'delay': 0,\n",
       "    'shareable': False,\n",
       "    'filter': {'feedforward': [], 'feedback': []}},\n",
       "   2: {'offset': -0.011688232421875,\n",
       "    'delay': 0,\n",
       "    'shareable': False,\n",
       "    'filter': {'feedforward': [], 'feedback': []}},\n",
       "   3: {'offset': -0.047119140625,\n",
       "    'delay': 0,\n",
       "    'shareable': False,\n",
       "    'filter': {'feedforward': [], 'feedback': []}},\n",
       "   4: {'offset': 0.00811767578125,\n",
       "    'delay': 0,\n",
       "    'shareable': False,\n",
       "    'filter': {'feedforward': [], 'feedback': []}},\n",
       "   5: {'offset': 0.0,\n",
       "    'delay': 0,\n",
       "    'shareable': False,\n",
       "    'filter': {'feedforward': [], 'feedback': []}},\n",
       "   6: {'offset': 0.0,\n",
       "    'delay': 0,\n",
       "    'shareable': False,\n",
       "    'filter': {'feedforward': [], 'feedback': []}},\n",
       "   7: {'offset': 0.0,\n",
       "    'delay': 19,\n",
       "    'shareable': False,\n",
       "    'filter': {'feedforward': [], 'feedback': []}},\n",
       "   8: {'offset': 0.0,\n",
       "    'delay': 19,\n",
       "    'shareable': False,\n",
       "    'filter': {'feedforward': [], 'feedback': []}},\n",
       "   9: {'offset': 0.0,\n",
       "    'delay': 19,\n",
       "    'shareable': False,\n",
       "    'filter': {'feedforward': [], 'feedback': []}},\n",
       "   10: {'offset': 0.0,\n",
       "    'delay': 19,\n",
       "    'shareable': False,\n",
       "    'filter': {'feedforward': [], 'feedback': []}}},\n",
       "  'analog_inputs': {1: {'offset': 0.009985, 'gain_db': 0, 'shareable': False},\n",
       "   2: {'offset': 0.013658, 'gain_db': 0, 'shareable': False}},\n",
       "  'digital_outputs': {1: {'shareable': False, 'inverted': False},\n",
       "   2: {'shareable': False, 'inverted': False},\n",
       "   3: {'shareable': False, 'inverted': False},\n",
       "   4: {'shareable': False, 'inverted': False},\n",
       "   5: {'shareable': False, 'inverted': False},\n",
       "   6: {'shareable': False, 'inverted': False},\n",
       "   7: {'shareable': False, 'inverted': False},\n",
       "   8: {'shareable': False, 'inverted': False},\n",
       "   9: {'shareable': False, 'inverted': False},\n",
       "   10: {'shareable': False, 'inverted': False}}}}"
      ]
     },
     "execution_count": 63,
     "metadata": {},
     "output_type": "execute_result"
    }
   ],
   "source": [
    "# qm = qmm.open_qm(config)\n",
    "qm.set_output_dc_offset_by_element(machine.qubits[qubit_index].name, ('I', 'Q'), (-0.047119140625, 0.00811767578125))\n",
    "\n",
    "# qm.get_config()['elements']['q0']\n",
    "# qm.get_config()['mixers']\n",
    "qm.get_config()['controllers']"
   ]
  },
  {
   "cell_type": "code",
   "execution_count": 8,
   "id": "f2f3cc00",
   "metadata": {},
   "outputs": [
    {
     "name": "stdout",
     "output_type": "stream",
     "text": [
      "f_01 6455300000.0\n",
      "xxx\n",
      "lo 6555300000.0\n"
     ]
    }
   ],
   "source": [
    "print('f_01', machine.qubits[0].f_01)\n",
    "print(\"xxx\")\n",
    "print('lo', machine.qubits[0].lo)"
   ]
  },
  {
   "cell_type": "code",
   "execution_count": null,
   "id": "413f6e31",
   "metadata": {},
   "outputs": [],
   "source": []
  }
 ],
 "metadata": {
  "kernelspec": {
   "display_name": "Python 3 (ipykernel)",
   "language": "python",
   "name": "python3"
  },
  "language_info": {
   "codemirror_mode": {
    "name": "ipython",
    "version": 3
   },
   "file_extension": ".py",
   "mimetype": "text/x-python",
   "name": "python",
   "nbconvert_exporter": "python",
   "pygments_lexer": "ipython3",
   "version": "3.8.17"
  }
 },
 "nbformat": 4,
 "nbformat_minor": 5
}
