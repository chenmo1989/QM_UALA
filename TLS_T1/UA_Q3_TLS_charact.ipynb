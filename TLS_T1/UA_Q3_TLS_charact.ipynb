{
 "cells": [
  {
   "cell_type": "markdown",
   "id": "49d22572",
   "metadata": {},
   "source": [
    "# TLS Characterization of UA Q3\n",
    "### using Experiment and Analysis classes"
   ]
  },
  {
   "cell_type": "code",
   "execution_count": 1,
   "id": "b08c4dec",
   "metadata": {
    "scrolled": true
   },
   "outputs": [
    {
     "name": "stdout",
     "output_type": "stream",
     "text": [
      "2024-04-19 15:58:23,369 - qm - INFO     - Starting session: 05e4bd4c-32d8-45a6-86b0-b7473caf008f\n"
     ]
    }
   ],
   "source": [
    "from qm.qua import *\n",
    "from qm import QuantumMachinesManager, SimulationConfig, LoopbackInterface, generate_qua_script\n",
    "from qm.octave import *\n",
    "from qm.octave.octave_manager import ClockMode\n",
    "from configuration import *\n",
    "from scipy import signal\n",
    "from qualang_tools.bakery import baking\n",
    "from qualang_tools.units import unit\n",
    "from qm.octave import QmOctaveConfig\n",
    "from set_octave import ElementsSettings, octave_settings\n",
    "from quam import QuAM\n",
    "from scipy.io import savemat, loadmat\n",
    "from scipy.optimize import curve_fit\n",
    "from scipy.signal import savgol_filter\n",
    "from qutip import *\n",
    "from typing import Union\n",
    "from macros import *\n",
    "import datetime \n",
    "import os\n",
    "import time\n",
    "import warnings\n",
    "import json\n",
    "import matplotlib.pyplot as plt\n",
    "import numpy as np\n",
    "import Labber\n",
    "\n",
    "from ExperimentClass import ExperimentHandle\n",
    "from AnalysisClass import AnalysisHandle\n",
    "\n",
    "warnings.filterwarnings(\"ignore\")\n",
    "\n",
    "qubit_index = 2 # for UA Q3\n",
    "res_index = 2 # for UA Q3\n",
    "flux_index = 2 # for UA Q3\n",
    "TLS_index = 0"
   ]
  },
  {
   "cell_type": "code",
   "execution_count": 2,
   "id": "44475f4c",
   "metadata": {},
   "outputs": [],
   "source": [
    "Experiment = ExperimentHandle()\n",
    "Analysis = AnalysisHandle()\n",
    "machine = Analysis.get_machine()"
   ]
  },
  {
   "cell_type": "code",
   "execution_count": 3,
   "id": "76f18494",
   "metadata": {},
   "outputs": [],
   "source": [
    "# initialize Labber-controlled hardware\n",
    "Experiment.set_Labber(Analysis.get_machine(), qubit_index, res_index, flux_index)\n",
    "# set octave to external clock\n",
    "#Experiment.set_external_clock()"
   ]
  },
  {
   "cell_type": "code",
   "execution_count": 5,
   "id": "fcc27202",
   "metadata": {},
   "outputs": [],
   "source": [
    "# set to sweet spot\n",
    "machine = Experiment.set_QDAC(qubit_index,res_index,flux_index,machine.flux_lines[flux_index].max_frequency_point)"
   ]
  },
  {
   "cell_type": "code",
   "execution_count": 3,
   "id": "494501d8",
   "metadata": {},
   "outputs": [
    {
     "name": "stdout",
     "output_type": "stream",
     "text": [
      "2024-04-17 09:19:03,914 - qm - INFO     - Octave \"octave1\" Health check passed, current temperature 57\n"
     ]
    },
    {
     "name": "stderr",
     "output_type": "stream",
     "text": [
      "INFO:qm:Octave \"octave1\" Health check passed, current temperature 57\n"
     ]
    },
    {
     "name": "stdout",
     "output_type": "stream",
     "text": [
      "2024-04-17 09:19:03,919 - qm - INFO     - Performing health check\n"
     ]
    },
    {
     "name": "stderr",
     "output_type": "stream",
     "text": [
      "INFO:qm.api.frontend_api:Performing health check\n"
     ]
    },
    {
     "name": "stdout",
     "output_type": "stream",
     "text": [
      "2024-04-17 09:19:03,934 - qm - INFO     - Health check passed\n"
     ]
    },
    {
     "name": "stderr",
     "output_type": "stream",
     "text": [
      "INFO:qm.api.frontend_api:Health check passed\n"
     ]
    },
    {
     "name": "stdout",
     "output_type": "stream",
     "text": [
      "------------------------------------- Calibrates r2 for (LO, IF) = (7.054 GHz, -50.000 MHz)\n",
      "2024-04-17 09:19:12,083 - qm - INFO     - Compiling program\n"
     ]
    },
    {
     "name": "stderr",
     "output_type": "stream",
     "text": [
      "INFO:qm.QuantumMachine:Compiling program\n"
     ]
    },
    {
     "name": "stdout",
     "output_type": "stream",
     "text": [
      "------------------------------------- Calibrates q2 for (LO, IF) = (4.517 GHz, 200.000 MHz)\n",
      "2024-04-17 09:19:26,523 - qm - INFO     - Compiling program\n"
     ]
    },
    {
     "name": "stderr",
     "output_type": "stream",
     "text": [
      "INFO:qm.QuantumMachine:Compiling program\n"
     ]
    }
   ],
   "source": [
    "# this updates the octave settings, including rf_gain and rf_output_mode\n",
    "Experiment.octave_calibration(qubit_index,res_index,flux_index,calibration_flag = True)"
   ]
  },
  {
   "cell_type": "markdown",
   "id": "27a943af",
   "metadata": {},
   "source": [
    "# TLS experiments"
   ]
  },
  {
   "cell_type": "markdown",
   "id": "4045c37b",
   "metadata": {},
   "source": [
    "## Set TLS index"
   ]
  },
  {
   "cell_type": "code",
   "execution_count": 3,
   "id": "7e758ebc",
   "metadata": {},
   "outputs": [],
   "source": [
    "TLS_index = 2"
   ]
  },
  {
   "cell_type": "markdown",
   "id": "e16067f7",
   "metadata": {},
   "source": [
    "## TLS T1"
   ]
  },
  {
   "cell_type": "code",
   "execution_count": 126,
   "id": "4bd0ef23",
   "metadata": {},
   "outputs": [],
   "source": [
    "# set to qubit freq\n",
    "machine.qubits[qubit_index].f_01 = machine.qubits[qubit_index].f_tls[0] + 0E6\n",
    "machine.qubits[qubit_index].lo = machine.qubits[qubit_index].f_01 + 100E6\n",
    "machine = Analysis.set_machine(machine)"
   ]
  },
  {
   "cell_type": "code",
   "execution_count": 5,
   "id": "97b6a31c",
   "metadata": {},
   "outputs": [
    {
     "name": "stdout",
     "output_type": "stream",
     "text": [
      "2024-04-17 09:19:46,651 - qm - INFO     - Performing health check\n"
     ]
    },
    {
     "name": "stderr",
     "output_type": "stream",
     "text": [
      "INFO:qm.api.frontend_api:Performing health check\n"
     ]
    },
    {
     "name": "stdout",
     "output_type": "stream",
     "text": [
      "2024-04-17 09:19:46,664 - qm - INFO     - Health check passed\n"
     ]
    },
    {
     "name": "stderr",
     "output_type": "stream",
     "text": [
      "INFO:qm.api.frontend_api:Health check passed\n"
     ]
    },
    {
     "name": "stdout",
     "output_type": "stream",
     "text": [
      "------------------------------------- Calibrates r2 for (LO, IF) = (7.054 GHz, -50.000 MHz)\n",
      "2024-04-17 09:19:55,059 - qm - INFO     - Compiling program\n"
     ]
    },
    {
     "name": "stderr",
     "output_type": "stream",
     "text": [
      "INFO:qm.QuantumMachine:Compiling program\n"
     ]
    },
    {
     "name": "stdout",
     "output_type": "stream",
     "text": [
      "------------------------------------- Calibrates q2 for (LO, IF) = (4.517 GHz, 200.000 MHz)\n",
      "2024-04-17 09:20:09,460 - qm - INFO     - Compiling program\n"
     ]
    },
    {
     "name": "stderr",
     "output_type": "stream",
     "text": [
      "INFO:qm.QuantumMachine:Compiling program\n"
     ]
    }
   ],
   "source": [
    "# calibrate octave\n",
    "Experiment.octave_calibration(qubit_index,res_index,flux_index,machine=machine,calibration_flag = True)"
   ]
  },
  {
   "cell_type": "code",
   "execution_count": 298,
   "id": "3c85f9be",
   "metadata": {},
   "outputs": [
    {
     "name": "stdout",
     "output_type": "stream",
     "text": [
      "Progress: [##################################################] 100.0% (n=5000/5000.0) --> elapsed time: 160.16s\n",
      "Execution stopped by user!\n"
     ]
    }
   ],
   "source": [
    "%matplotlib qt\n",
    "tau_sweep_abs = np.arange(200,500E3+1,2E4)\n",
    "machine, tau_sweep_abs, sig_amp = Experiment.exp1D.T1.TLS_T1(tau_sweep_abs, qubit_index, res_index, flux_index, TLS_index,\n",
    "                   n_avg = 5E3, cd_time_qubit = 20E3, cd_time_TLS = 1000E3, simulate_flag = False, simulation_len = 15_000, plot_flag = True)"
   ]
  },
  {
   "cell_type": "code",
   "execution_count": 300,
   "id": "d90ed2c5",
   "metadata": {},
   "outputs": [
    {
     "name": "stdout",
     "output_type": "stream",
     "text": [
      "Qubit T1 [us]: 34.6164851005693\n"
     ]
    },
    {
     "data": {
      "image/png": "[encoded data removed]",
      "text/plain": [
       "<Figure size 600x300 with 1 Axes>"
      ]
     },
     "metadata": {},
     "output_type": "display_data"
    }
   ],
   "source": [
    "%matplotlib inline\n",
    "TLS_T1 = Analysis.exp1D.T1(tau_sweep_abs,sig_amp,method = \"exp\")"
   ]
  },
  {
   "cell_type": "markdown",
   "id": "f56bc3e8",
   "metadata": {},
   "source": [
    "# TLS drive"
   ]
  },
  {
   "cell_type": "markdown",
   "id": "3f619835",
   "metadata": {},
   "source": [
    "## TLS spectroscopy"
   ]
  },
  {
   "cell_type": "markdown",
   "id": "a48a347c",
   "metadata": {},
   "source": [
    "### This cell is only for the first run, to estimate TLS freq"
   ]
  },
  {
   "cell_type": "code",
   "execution_count": null,
   "id": "e934b25b",
   "metadata": {},
   "outputs": [],
   "source": [
    "# TLS freq estimate based on SWAP flux amplitude\n",
    "TLS_freq_est = np.polyval(machine.qubits[qubit_index].AC_tuning_curve,machine.flux_lines[flux_index].iswap.level)\n",
    "TLS_freq_est = np.round(TLS_freq_est[0] * 1E6)\n",
    "if len(machine.qubits[qubit_index].f_tls) < TLS_index + 2: # need to increase size\n",
    "    machine.qubits[qubit_index].f_tls.append(int(TLS_freq_est.tolist()) + 0E6)\n",
    "    machine.qubits[qubit_index].lo.append(int(TLS_freq_est.tolist()) - 200E6)\n",
    "else: # just update the value\n",
    "    machine.qubits[qubit_index].f_tls[TLS_index+1] = (int(TLS_freq_est.tolist()))\n",
    "    machine.qubits[qubit_index].lo = int(TLS_freq_est.tolist()) - 200E6"
   ]
  },
  {
   "cell_type": "markdown",
   "id": "3b5fa69b",
   "metadata": {},
   "source": [
    "### This is when we already have calibrated TLS freq saved somewhere"
   ]
  },
  {
   "cell_type": "code",
   "execution_count": 4,
   "id": "6d802060",
   "metadata": {},
   "outputs": [],
   "source": [
    "# set the \"qubit frequency\"\n",
    "machine.qubits[qubit_index].f_01 = machine.qubits[qubit_index].f_tls[TLS_index] + 0E6\n",
    "machine.qubits[qubit_index].lo = machine.qubits[qubit_index].f_01 - 200E6\n",
    "machine = Analysis.set_machine(machine)"
   ]
  },
  {
   "cell_type": "code",
   "execution_count": 5,
   "id": "c801b7a4",
   "metadata": {},
   "outputs": [
    {
     "name": "stdout",
     "output_type": "stream",
     "text": [
      "2024-04-12 12:39:54,209 - qm - INFO     - Octave \"octave1\" Health check passed, current temperature 57\n"
     ]
    },
    {
     "name": "stderr",
     "output_type": "stream",
     "text": [
      "INFO:qm:Octave \"octave1\" Health check passed, current temperature 57\n"
     ]
    },
    {
     "name": "stdout",
     "output_type": "stream",
     "text": [
      "2024-04-12 12:39:54,213 - qm - INFO     - Performing health check\n"
     ]
    },
    {
     "name": "stderr",
     "output_type": "stream",
     "text": [
      "INFO:qm.api.frontend_api:Performing health check\n"
     ]
    },
    {
     "name": "stdout",
     "output_type": "stream",
     "text": [
      "2024-04-12 12:39:54,230 - qm - INFO     - Health check passed\n"
     ]
    },
    {
     "name": "stderr",
     "output_type": "stream",
     "text": [
      "INFO:qm.api.frontend_api:Health check passed\n"
     ]
    },
    {
     "name": "stdout",
     "output_type": "stream",
     "text": [
      "------------------------------------- Calibrates r2 for (LO, IF) = (7.054 GHz, -50.000 MHz)\n",
      "2024-04-12 12:40:01,995 - qm - INFO     - Compiling program\n"
     ]
    },
    {
     "name": "stderr",
     "output_type": "stream",
     "text": [
      "INFO:qm.QuantumMachine:Compiling program\n"
     ]
    },
    {
     "name": "stdout",
     "output_type": "stream",
     "text": [
      "------------------------------------- Calibrates q2 for (LO, IF) = (4.514 GHz, 200.000 MHz)\n",
      "2024-04-12 12:40:15,353 - qm - INFO     - Compiling program\n"
     ]
    },
    {
     "name": "stderr",
     "output_type": "stream",
     "text": [
      "INFO:qm.QuantumMachine:Compiling program\n"
     ]
    }
   ],
   "source": [
    "# calibrate octave for TLS sweep\n",
    "Experiment.octave_calibration(qubit_index,res_index,flux_index,machine = machine,calibration_flag = True)"
   ]
  },
  {
   "cell_type": "code",
   "execution_count": 32,
   "id": "057e71e5",
   "metadata": {},
   "outputs": [
    {
     "name": "stdout",
     "output_type": "stream",
     "text": [
      "Progress: [##################################################] 100.0% (n=5000/5000.0) --> elapsed time: 80.66s\n",
      "Progress: [##################################################] 100.0% (n=5000/5000.0) --> elapsed time: 80.75s\n"
     ]
    }
   ],
   "source": [
    "%matplotlib qt\n",
    "TLS_freq_sweep = machine.qubits[qubit_index].f_01 + np.arange(-3E6,3E6+1,0.2E6)\n",
    "machine, TLS_freq_sweep, sig_amp = Experiment.exp1D.Rabi.TLS_freq(TLS_freq_sweep, qubit_index, res_index, flux_index, TLS_index,\n",
    "                  n_avg = 5E3, cd_time_qubit = 20E3, cd_time_TLS = 500E3, simulate_flag = False, simulation_len = 10_000, plot_flag = True, machine = machine)"
   ]
  },
  {
   "cell_type": "code",
   "execution_count": null,
   "id": "a10a09b8",
   "metadata": {},
   "outputs": [],
   "source": [
    "%matplotlib qt\n",
    "TLS_freq_sweep = machine.qubits[qubit_index].f_tls[TLS_index] + np.arange(-150E6,150E6+1,1E6)\n",
    "machine, TLS_freq_sweep, sig_amp = Experiment.exp1D.Rabi.TLS_freq(TLS_freq_sweep, qubit_index, res_index, flux_index, TLS_index,\n",
    "                  n_avg = 1E3, cd_time_qubit = 20E3, cd_time_TLS = 800E3, simulate_flag = False, simulation_len = 10_000, plot_flag = True, machine = machine)"
   ]
  },
  {
   "cell_type": "code",
   "execution_count": 34,
   "id": "8288b6fb",
   "metadata": {
    "scrolled": true
   },
   "outputs": [
    {
     "name": "stdout",
     "output_type": "stream",
     "text": [
      "resonant frequency: 4715.011 MHz\n"
     ]
    },
    {
     "data": {
      "image/png": "[encoded data removed]",
      "text/plain": [
       "<Figure size 600x300 with 1 Axes>"
      ]
     },
     "metadata": {},
     "output_type": "display_data"
    }
   ],
   "source": [
    "%matplotlib inline\n",
    "qubit_freq = Analysis.exp1D.peak_fit(x=TLS_freq_sweep,y=sig_amp,method=\"gaussian\")\n",
    "qubit_freq = int(qubit_freq.tolist())\n",
    "# update TLS freq\n",
    "machine.qubits[qubit_index].f_tls[TLS_index] = qubit_freq + 0E6\n",
    "# set the \"qubit frequency\"\n",
    "machine.qubits[qubit_index].f_01 = qubit_freq + 0E6\n",
    "machine.qubits[qubit_index].lo = qubit_freq - 200E6\n",
    "# save the parameters\n",
    "machine = Analysis.set_machine(machine)"
   ]
  },
  {
   "cell_type": "code",
   "execution_count": 35,
   "id": "14afd1a3",
   "metadata": {},
   "outputs": [
    {
     "name": "stdout",
     "output_type": "stream",
     "text": [
      "2024-04-22 09:15:52,822 - qm - INFO     - Performing health check\n"
     ]
    },
    {
     "name": "stderr",
     "output_type": "stream",
     "text": [
      "INFO:qm.api.frontend_api:Performing health check\n"
     ]
    },
    {
     "name": "stdout",
     "output_type": "stream",
     "text": [
      "2024-04-22 09:15:52,860 - qm - INFO     - Health check passed\n"
     ]
    },
    {
     "name": "stderr",
     "output_type": "stream",
     "text": [
      "INFO:qm.api.frontend_api:Health check passed\n"
     ]
    },
    {
     "name": "stdout",
     "output_type": "stream",
     "text": [
      "------------------------------------- Calibrates r2 for (LO, IF) = (7.054 GHz, -50.000 MHz)\n",
      "2024-04-22 09:16:01,044 - qm - INFO     - Compiling program\n"
     ]
    },
    {
     "name": "stderr",
     "output_type": "stream",
     "text": [
      "INFO:qm.QuantumMachine:Compiling program\n"
     ]
    },
    {
     "name": "stdout",
     "output_type": "stream",
     "text": [
      "------------------------------------- Calibrates q2 for (LO, IF) = (4.515 GHz, 200.000 MHz)\n",
      "2024-04-22 09:16:15,447 - qm - INFO     - Compiling program\n"
     ]
    },
    {
     "name": "stderr",
     "output_type": "stream",
     "text": [
      "INFO:qm.QuantumMachine:Compiling program\n"
     ]
    }
   ],
   "source": [
    "# calibrate octave for TLS sweep\n",
    "Experiment.octave_calibration(qubit_index,res_index,flux_index,machine = machine,calibration_flag = True)"
   ]
  },
  {
   "cell_type": "markdown",
   "id": "2e810055",
   "metadata": {},
   "source": [
    "## Quantum jumps in TLS frequency"
   ]
  },
  {
   "cell_type": "code",
   "execution_count": 18,
   "id": "dd4dc87e",
   "metadata": {
    "scrolled": true
   },
   "outputs": [
    {
     "name": "stdout",
     "output_type": "stream",
     "text": [
      "Progress: [##################################################] 100.0% (n=650/650) --> elapsed time: 55240.08s\n"
     ]
    }
   ],
   "source": [
    "%matplotlib qt\n",
    "TLS_freq_sweep = machine.qubits[qubit_index].f_01 + np.arange(-3E6,3E6+1,0.2E6)\n",
    "N_rounds = 650\n",
    "\n",
    "machine, TLS_freq_sweep, tau, sig_amp, sig_phase = Experiment.exp2D.time.TLS_freq_time(TLS_freq_sweep, qubit_index, res_index, flux_index, TLS_index,\n",
    "                  N_rounds, n_avg = 5E3, cd_time_qubit = 20E3, cd_time_TLS = 500E3, simulate_flag = False, simulation_len = 10_000, plot_flag = True, machine = machine)"
   ]
  },
  {
   "cell_type": "markdown",
   "id": "8dea7ec4",
   "metadata": {},
   "source": [
    "## TLS rabi"
   ]
  },
  {
   "cell_type": "code",
   "execution_count": 12,
   "id": "6fdb039f",
   "metadata": {},
   "outputs": [
    {
     "name": "stdout",
     "output_type": "stream",
     "text": [
      "Progress: [##################################################] 100.0% (n=5000/5000.0) --> elapsed time: 93.90s\n"
     ]
    }
   ],
   "source": [
    "%matplotlib qt\n",
    "rabi_duration_sweep = np.arange(4, 180 + 0.1, 5)  # in units of clock cyles\n",
    "machine, rabi_duration_sweep, sig_amp = Experiment.exp1D.Rabi.TLS_rabi_length(rabi_duration_sweep, qubit_index, res_index, flux_index, TLS_index,\n",
    "                  n_avg = 5E3, cd_time_qubit = 20E3, cd_time_TLS = 500E3, simulate_flag = False, simulation_len = 10_000, plot_flag = True, machine = machine)"
   ]
  },
  {
   "cell_type": "code",
   "execution_count": 14,
   "id": "4dbdbed6",
   "metadata": {},
   "outputs": [
    {
     "name": "stdout",
     "output_type": "stream",
     "text": [
      "T2rabi: 8352.8 ns\n",
      "rabi_pi_pulse: 370.6 ns\n",
      "half period: 347.55 ns\n"
     ]
    },
    {
     "data": {
      "image/png": "[encoded data removed]",
      "text/plain": [
       "<Figure size 600x300 with 1 Axes>"
      ]
     },
     "metadata": {},
     "output_type": "display_data"
    }
   ],
   "source": [
    "%matplotlib inline\n",
    "pi_pulse_length = Analysis.exp1D.rabi_length(rabi_duration_sweep,sig_amp,method = \"decaying_time_rabi\", plot_flag = True)"
   ]
  },
  {
   "cell_type": "code",
   "execution_count": 26,
   "id": "bc58a8c6",
   "metadata": {},
   "outputs": [],
   "source": [
    "pi_length = 372\n",
    "if len(machine.qubits[qubit_index].pi_length_tls) < TLS_index + 1: # need to increase size\n",
    "    machine.qubits[qubit_index].pi_length_tls.append(pi_length)\n",
    "else: # just update the value\n",
    "    machine.qubits[qubit_index].pi_length_tls[TLS_index] = pi_length\n",
    "    \n",
    "machine.qubits[qubit_index].pi_length_tls[0] = pi_length\n",
    "machine = Analysis.set_machine(machine)"
   ]
  },
  {
   "cell_type": "code",
   "execution_count": 23,
   "id": "255be96d",
   "metadata": {},
   "outputs": [],
   "source": [
    "machine.qubits[qubit_index].rf_gain = 0\n",
    "machine = Analysis.set_machine(machine)"
   ]
  },
  {
   "cell_type": "markdown",
   "id": "22b793d6",
   "metadata": {},
   "source": [
    "## TLS Power Rabi"
   ]
  },
  {
   "cell_type": "code",
   "execution_count": 27,
   "id": "4b876b96",
   "metadata": {},
   "outputs": [
    {
     "name": "stdout",
     "output_type": "stream",
     "text": [
      "Progress: [##################################################] 100.0% (n=5000/5000.0) --> elapsed time: 46.78s\n",
      "Progress: [##################################################] 100.0% (n=5000/5000.0) --> elapsed time: 46.90s\n"
     ]
    }
   ],
   "source": [
    "%matplotlib qt\n",
    "rabi_amp_sweep_rel = np.arange(0.1, 1, 0.05) \n",
    "machine, rabi_amp_sweep_abs, sig_amp = Experiment.exp1D.Rabi.TLS_rabi_amp(rabi_amp_sweep_rel, qubit_index, res_index, flux_index, TLS_index = TLS_index,  \n",
    "                                          n_avg = 5E3, cd_time_qubit = 20E3, cd_time_TLS = 500E3, simulate_flag = False, simulation_len = 10_000,plot_flag = True, machine = machine)"
   ]
  },
  {
   "cell_type": "code",
   "execution_count": 11,
   "id": "84163dbe",
   "metadata": {},
   "outputs": [
    {
     "name": "stdout",
     "output_type": "stream",
     "text": [
      "rabi_pi_pulse_amp: 0.46742 V\n",
      "half period: 0.4370451 V\n"
     ]
    },
    {
     "data": {
      "image/png": "[encoded data removed]",
      "text/plain": [
       "<Figure size 600x300 with 1 Axes>"
      ]
     },
     "metadata": {},
     "output_type": "display_data"
    },
    {
     "data": {
      "image/png": "[encoded data removed]",
      "text/plain": [
       "<Figure size 800x400 with 1 Axes>"
      ]
     },
     "metadata": {},
     "output_type": "display_data"
    },
    {
     "name": "stdout",
     "output_type": "stream",
     "text": [
      "Execution stopped by user!\n"
     ]
    }
   ],
   "source": [
    "%matplotlib inline\n",
    "pi_pulse_amp = Analysis.exp1D.rabi_length(rabi_amp_sweep_abs,sig_amp,method = \"power_rabi\", plot_flag = True)"
   ]
  },
  {
   "cell_type": "code",
   "execution_count": 166,
   "id": "37ac4fdb",
   "metadata": {},
   "outputs": [],
   "source": [
    "if len(machine.qubits[qubit_index].pi_length_tls) < TLS_index + 1: # need to increase size\n",
    "    machine.qubits[qubit_index].pi_amp_tls.append(pi_pulse_amp)\n",
    "else: # just update the value\n",
    "    machine.qubits[qubit_index].pi_amp_tls[TLS_index] = pi_pulse_amp\n",
    "machine.qubits[qubit_index].pi_length_tls[0] = pi_pulse_amp\n",
    "machine = Analysis.set_machine(machine)"
   ]
  },
  {
   "cell_type": "markdown",
   "id": "d52a556f",
   "metadata": {},
   "source": [
    "## TLS Ramsey"
   ]
  },
  {
   "cell_type": "code",
   "execution_count": 11,
   "id": "48331441",
   "metadata": {},
   "outputs": [
    {
     "name": "stdout",
     "output_type": "stream",
     "text": [
      "Progress: [##################################################] 100.0% (n=10000/10000.0) --> elapsed time: 2612.76s\n"
     ]
    }
   ],
   "source": [
    "%matplotlib qt\n",
    "ramsey_duration_sweep = np.arange(4, 1000 + 0.1, 2)  # in units of clock cyles\n",
    "machine, ramsey_duration_sweep, sig_I = Experiment.exp1D.Ramsey.TLS_ramsey(ramsey_duration_sweep, qubit_index, res_index, flux_index, TLS_index,\n",
    "          n_avg = 10E3, detuning = 7E6, cd_time_qubit = 20E3, cd_time_TLS = 500E3, plot_flag = True, simulate_flag = False, simulation_len = 20_000, machine = machine)"
   ]
  },
  {
   "cell_type": "code",
   "execution_count": 13,
   "id": "ea8dfaae",
   "metadata": {},
   "outputs": [
    {
     "name": "stdout",
     "output_type": "stream",
     "text": [
      "Qubit T2* [ns]: 661.1563263983008\n",
      "Detuning [MHz]: 7.123657739112519\n",
      "Exponent n: 1.261399606862469\n"
     ]
    },
    {
     "data": {
      "image/png": "[encoded data removed]",
      "text/plain": [
       "<Figure size 600x300 with 1 Axes>"
      ]
     },
     "metadata": {},
     "output_type": "display_data"
    }
   ],
   "source": [
    "%matplotlib inline\n",
    "q_T2star = Analysis.exp1D.ramsey(ramsey_duration_sweep, sig_I,plot_flag = True)"
   ]
  },
  {
   "cell_type": "markdown",
   "id": "ef100262",
   "metadata": {},
   "source": [
    "## TLS T1 with direct driving"
   ]
  },
  {
   "cell_type": "code",
   "execution_count": 49,
   "id": "1430ab5e",
   "metadata": {},
   "outputs": [
    {
     "name": "stdout",
     "output_type": "stream",
     "text": [
      "Progress: [##################################################] 100.0% (n=5000/5000.0) --> elapsed time: 157.64s\n",
      "Progress: [##################################################] 100.0% (n=5000/5000.0) --> elapsed time: 157.77s\n"
     ]
    }
   ],
   "source": [
    "%matplotlib qt\n",
    "tau_sweep_abs = np.arange(200,500E3+1,2E4)\n",
    "machine, tau_sweep_abs, sig_I = Experiment.exp1D.T1.TLS_T1_driving(tau_sweep_abs, qubit_index, res_index, flux_index, TLS_index,\n",
    "                   n_avg = 5E3, cd_time_qubit = 20E3, cd_time_TLS = 1000E3, simulate_flag = False, simulation_len = 15_000, plot_flag = True)"
   ]
  },
  {
   "cell_type": "code",
   "execution_count": 51,
   "id": "61646efa",
   "metadata": {},
   "outputs": [
    {
     "name": "stdout",
     "output_type": "stream",
     "text": [
      "Qubit T1 [us]: 26.667463057069085\n"
     ]
    },
    {
     "data": {
      "image/png": "[encoded data removed]",
      "text/plain": [
       "<Figure size 600x300 with 1 Axes>"
      ]
     },
     "metadata": {},
     "output_type": "display_data"
    }
   ],
   "source": [
    "%matplotlib inline\n",
    "TLS_T1 = Analysis.exp1D.T1(tau_sweep_abs,sig_I,method = \"exp\")"
   ]
  },
  {
   "cell_type": "markdown",
   "id": "62a2cd6e",
   "metadata": {},
   "source": [
    "# TLS Dynamical Decoupling"
   ]
  },
  {
   "cell_type": "code",
   "execution_count": 36,
   "id": "39095ee9",
   "metadata": {},
   "outputs": [],
   "source": [
    "#Parameters for DD sequences\n",
    "min_tau = 4\n",
    "max_tau = 600\n",
    "d_tau = 1"
   ]
  },
  {
   "cell_type": "markdown",
   "id": "86ea1e82",
   "metadata": {},
   "source": [
    "## TLS echo"
   ]
  },
  {
   "cell_type": "code",
   "execution_count": 54,
   "id": "43c4ac57",
   "metadata": {},
   "outputs": [
    {
     "name": "stdout",
     "output_type": "stream",
     "text": [
      "Progress: [##################################################] 100.0% (n=10000/10000.0) --> elapsed time: 834.88s\n"
     ]
    }
   ],
   "source": [
    "%matplotlib qt\n",
    "tau_sweep = np.arange(min_tau, max_tau + 0.1, d_tau)  # in units of clock cyles\n",
    "machine, tau_sweep_abs, sig_I = Experiment.exp1D.DD.TLS_echo(tau_sweep, qubit_index, res_index, flux_index, TLS_index,\n",
    "          n_avg = 10E3, cd_time_qubit = 20E3, cd_time_TLS = 500E3, plot_flag = True, simulate_flag = False, simulation_len = 20_000, machine = machine)"
   ]
  },
  {
   "cell_type": "code",
   "execution_count": 55,
   "id": "776029b2",
   "metadata": {},
   "outputs": [
    {
     "name": "stdout",
     "output_type": "stream",
     "text": [
      "Qubit T1 [us]: 2027.359931548211\n"
     ]
    },
    {
     "data": {
      "image/png": "[encoded data removed]",
      "text/plain": [
       "<Figure size 800x400 with 1 Axes>"
      ]
     },
     "metadata": {},
     "output_type": "display_data"
    },
    {
     "data": {
      "image/png": "[encoded data removed]",
      "text/plain": [
       "<Figure size 800x400 with 1 Axes>"
      ]
     },
     "metadata": {},
     "output_type": "display_data"
    },
    {
     "name": "stdout",
     "output_type": "stream",
     "text": [
      "Execution stopped by user!\n"
     ]
    }
   ],
   "source": [
    "%matplotlib inline\n",
    "TLS_T1 = Analysis.exp1D.T1(tau_sweep_abs*2,sig_I,method = \"exp\")"
   ]
  },
  {
   "cell_type": "markdown",
   "id": "5fe4db22",
   "metadata": {},
   "source": [
    "## TLS CPMG2"
   ]
  },
  {
   "cell_type": "code",
   "execution_count": 16,
   "id": "878b62ea",
   "metadata": {},
   "outputs": [
    {
     "name": "stdout",
     "output_type": "stream",
     "text": [
      "Progress: [##################################################] 100.0% (n=10000/10000.0) --> elapsed time: 3147.65s\n",
      "Progress: [##################################################] 100.0% (n=10000/10000.0) --> elapsed time: 3147.79s\n"
     ]
    }
   ],
   "source": [
    "%matplotlib qt\n",
    "tau_sweep = np.arange(min_tau, max_tau + 0.1, d_tau)  # in units of clock cyles\n",
    "machine, tau_sweep_abs, sig_amp = Experiment.exp1D.DD.TLS_CPMG(tau_sweep, qubit_index, res_index, flux_index, TLS_index,\n",
    "          N_CPMG = 2, n_avg = 10E3, minus_pulse = True, cd_time_qubit = 20E3, cd_time_TLS = 500E3, plot_flag = True, simulate_flag = False, simulation_len = 20_000, machine = machine)"
   ]
  },
  {
   "cell_type": "markdown",
   "id": "d32645f2",
   "metadata": {},
   "source": [
    "## TLS CPMG4"
   ]
  },
  {
   "cell_type": "code",
   "execution_count": 17,
   "id": "74eef9a3",
   "metadata": {},
   "outputs": [
    {
     "name": "stdout",
     "output_type": "stream",
     "text": [
      "Progress: [##################################################] 100.0% (n=10000/10000.0) --> elapsed time: 3180.83s\n",
      "Progress: [##################################################] 100.0% (n=10000/10000.0) --> elapsed time: 3180.97s\n"
     ]
    }
   ],
   "source": [
    "%matplotlib qt\n",
    "tau_sweep = np.arange(min_tau, max_tau + 0.1, d_tau)  # in units of clock cyles\n",
    "machine, tau_sweep_abs, sig_amp = Experiment.exp1D.DD.TLS_CPMG(tau_sweep, qubit_index, res_index, flux_index, TLS_index,\n",
    "          N_CPMG = 4, n_avg = 10E3, minus_pulse = True, cd_time_qubit = 20E3, cd_time_TLS = 500E3, plot_flag = True, simulate_flag = False, simulation_len = 20_000, machine = machine)"
   ]
  },
  {
   "cell_type": "markdown",
   "id": "a3fac939",
   "metadata": {},
   "source": [
    "## TLS CPMG6"
   ]
  },
  {
   "cell_type": "code",
   "execution_count": 39,
   "id": "75a4353f",
   "metadata": {},
   "outputs": [
    {
     "ename": "TypeError",
     "evalue": "cannot unpack non-iterable NoneType object",
     "output_type": "error",
     "traceback": [
      "\u001b[1;31m---------------------------------------------------------------------------\u001b[0m",
      "\u001b[1;31mTypeError\u001b[0m                                 Traceback (most recent call last)",
      "Cell \u001b[1;32mIn[39], line 3\u001b[0m\n\u001b[0;32m      1\u001b[0m get_ipython()\u001b[38;5;241m.\u001b[39mrun_line_magic(\u001b[38;5;124m'\u001b[39m\u001b[38;5;124mmatplotlib\u001b[39m\u001b[38;5;124m'\u001b[39m, \u001b[38;5;124m'\u001b[39m\u001b[38;5;124mqt\u001b[39m\u001b[38;5;124m'\u001b[39m)\n\u001b[0;32m      2\u001b[0m tau_sweep \u001b[38;5;241m=\u001b[39m np\u001b[38;5;241m.\u001b[39marange(min_tau, max_tau \u001b[38;5;241m+\u001b[39m \u001b[38;5;241m0.1\u001b[39m, d_tau)  \u001b[38;5;66;03m# in units of clock cyles\u001b[39;00m\n\u001b[1;32m----> 3\u001b[0m machine, tau_sweep_abs, sig_amp \u001b[38;5;241m=\u001b[39m Experiment\u001b[38;5;241m.\u001b[39mexp1D\u001b[38;5;241m.\u001b[39mDD\u001b[38;5;241m.\u001b[39mTLS_CPMG(tau_sweep, qubit_index, res_index, flux_index, TLS_index,\n\u001b[0;32m      4\u001b[0m           N_CPMG \u001b[38;5;241m=\u001b[39m \u001b[38;5;241m6\u001b[39m, n_avg \u001b[38;5;241m=\u001b[39m \u001b[38;5;241m10E3\u001b[39m, minus_pulse \u001b[38;5;241m=\u001b[39m \u001b[38;5;28;01mTrue\u001b[39;00m, cd_time_qubit \u001b[38;5;241m=\u001b[39m \u001b[38;5;241m20E3\u001b[39m, cd_time_TLS \u001b[38;5;241m=\u001b[39m \u001b[38;5;241m500E3\u001b[39m, plot_flag \u001b[38;5;241m=\u001b[39m \u001b[38;5;28;01mTrue\u001b[39;00m, simulate_flag \u001b[38;5;241m=\u001b[39m \u001b[38;5;28;01mTrue\u001b[39;00m, simulation_len \u001b[38;5;241m=\u001b[39m \u001b[38;5;241m20_000\u001b[39m, machine \u001b[38;5;241m=\u001b[39m machine)\n",
      "\u001b[1;31mTypeError\u001b[0m: cannot unpack non-iterable NoneType object"
     ]
    }
   ],
   "source": [
    "%matplotlib qt\n",
    "tau_sweep = np.arange(min_tau, max_tau + 0.1, d_tau)  # in units of clock cyles\n",
    "machine, tau_sweep_abs, sig_amp = Experiment.exp1D.DD.TLS_CPMG(tau_sweep, qubit_index, res_index, flux_index, TLS_index,\n",
    "          N_CPMG = 6, n_avg = 10E3, minus_pulse = True, cd_time_qubit = 20E3, cd_time_TLS = 500E3, plot_flag = True, simulate_flag = True, simulation_len = 20_000, machine = machine)"
   ]
  },
  {
   "cell_type": "markdown",
   "id": "649233ab",
   "metadata": {},
   "source": [
    "## TLS CPMG8"
   ]
  },
  {
   "cell_type": "code",
   "execution_count": 19,
   "id": "2aa0a9da",
   "metadata": {},
   "outputs": [
    {
     "name": "stdout",
     "output_type": "stream",
     "text": [
      "Progress: [##################################################] 100.0% (n=10000/10000.0) --> elapsed time: 3247.59s\n"
     ]
    }
   ],
   "source": [
    "%matplotlib qt\n",
    "tau_sweep = np.arange(min_tau, max_tau + 0.1, d_tau)  # in units of clock cyles\n",
    "machine, tau_sweep_abs, sig_amp = Experiment.exp1D.DD.TLS_CPMG(tau_sweep, qubit_index, res_index, flux_index, TLS_index,\n",
    "          N_CPMG = 8, n_avg = 10E3, minus_pulse = True, cd_time_qubit = 20E3, cd_time_TLS = 500E3, plot_flag = True, simulate_flag = False, simulation_len = 20_000, machine = machine)"
   ]
  },
  {
   "cell_type": "markdown",
   "id": "5201fd9f",
   "metadata": {},
   "source": [
    "## TLS CPMG 10"
   ]
  },
  {
   "cell_type": "code",
   "execution_count": 20,
   "id": "108d5a6e",
   "metadata": {},
   "outputs": [
    {
     "name": "stdout",
     "output_type": "stream",
     "text": [
      "Progress: [##################################################] 100.0% (n=10000/10000.0) --> elapsed time: 3280.97s\n"
     ]
    }
   ],
   "source": [
    "%matplotlib qt\n",
    "tau_sweep = np.arange(min_tau, max_tau + 0.1, d_tau)  # in units of clock cyles\n",
    "machine, tau_sweep_abs, sig_amp = Experiment.exp1D.DD.TLS_CPMG(tau_sweep, qubit_index, res_index, flux_index, TLS_index,\n",
    "          N_CPMG = 10, n_avg = 10E3, minus_pulse = True, cd_time_qubit = 20E3, cd_time_TLS = 500E3, plot_flag = True, simulate_flag = False, simulation_len = 20_000, machine = machine)"
   ]
  },
  {
   "cell_type": "markdown",
   "id": "9dbf9931",
   "metadata": {},
   "source": [
    "## TLS CPMG12"
   ]
  },
  {
   "cell_type": "code",
   "execution_count": 21,
   "id": "21061467",
   "metadata": {},
   "outputs": [
    {
     "name": "stdout",
     "output_type": "stream",
     "text": [
      "Progress: [##################################################] 100.0% (n=10000/10000.0) --> elapsed time: 3314.09s\n",
      "Progress: [##################################################] 100.0% (n=10000/10000.0) --> elapsed time: 3314.28s\n"
     ]
    }
   ],
   "source": [
    "%matplotlib qt\n",
    "tau_sweep = np.arange(min_tau, max_tau + 0.1, d_tau)  # in units of clock cyles\n",
    "machine, tau_sweep_abs, sig_amp = Experiment.exp1D.DD.TLS_CPMG(tau_sweep, qubit_index, res_index, flux_index, TLS_index,\n",
    "          N_CPMG = 12, n_avg = 10E3, minus_pulse = True, cd_time_qubit = 20E3, cd_time_TLS = 500E3, plot_flag = True, simulate_flag = False, simulation_len = 20_000, machine = machine)"
   ]
  },
  {
   "cell_type": "markdown",
   "id": "42ea691a",
   "metadata": {},
   "source": [
    "## TLS CPMG 14"
   ]
  },
  {
   "cell_type": "code",
   "execution_count": 22,
   "id": "242acf9d",
   "metadata": {
    "scrolled": true
   },
   "outputs": [
    {
     "name": "stdout",
     "output_type": "stream",
     "text": [
      "Progress: [##################################################] 100.0% (n=10000/10000.0) --> elapsed time: 3347.43s\n",
      "Progress: [##################################################] 100.0% (n=10000/10000.0) --> elapsed time: 3347.61s\n"
     ]
    }
   ],
   "source": [
    "%matplotlib qt\n",
    "tau_sweep = np.arange(min_tau, max_tau + 0.1, d_tau)  # in units of clock cyles\n",
    "machine, tau_sweep_abs, sig_amp = Experiment.exp1D.DD.TLS_CPMG(tau_sweep, qubit_index, res_index, flux_index, TLS_index,\n",
    "          N_CPMG = 14, n_avg = 10E3, minus_pulse = True, cd_time_qubit = 20E3, cd_time_TLS = 500E3, plot_flag = True, simulate_flag = False, simulation_len = 20_000, machine = machine)"
   ]
  },
  {
   "cell_type": "markdown",
   "id": "c5c90f44",
   "metadata": {},
   "source": [
    "## TLS CPMG16"
   ]
  },
  {
   "cell_type": "code",
   "execution_count": 23,
   "id": "36812422",
   "metadata": {},
   "outputs": [
    {
     "name": "stdout",
     "output_type": "stream",
     "text": [
      "Progress: [##################################################] 100.0% (n=10000/10000.0) --> elapsed time: 3380.74s\n"
     ]
    }
   ],
   "source": [
    "%matplotlib qt\n",
    "tau_sweep = np.arange(min_tau, max_tau + 0.1, d_tau)  # in units of clock cyles\n",
    "machine, tau_sweep_abs, sig_amp = Experiment.exp1D.DD.TLS_CPMG(tau_sweep, qubit_index, res_index, flux_index, TLS_index,\n",
    "          N_CPMG = 16, n_avg = 10E3, minus_pulse = True, cd_time_qubit = 20E3, cd_time_TLS = 500E3, plot_flag = True, simulate_flag = False, simulation_len = 20_000, machine = machine)"
   ]
  },
  {
   "cell_type": "markdown",
   "id": "e8e658ed",
   "metadata": {},
   "source": [
    "## TLS CPMG 18"
   ]
  },
  {
   "cell_type": "code",
   "execution_count": 24,
   "id": "ec370e68",
   "metadata": {},
   "outputs": [
    {
     "name": "stdout",
     "output_type": "stream",
     "text": [
      "Progress: [##################################################] 100.0% (n=10000/10000.0) --> elapsed time: 3414.16s\n"
     ]
    }
   ],
   "source": [
    "%matplotlib qt\n",
    "tau_sweep = np.arange(min_tau, max_tau + 0.1, d_tau)  # in units of clock cyles\n",
    "machine, tau_sweep_abs, sig_amp = Experiment.exp1D.DD.TLS_CPMG(tau_sweep, qubit_index, res_index, flux_index, TLS_index,\n",
    "          N_CPMG = 18, n_avg = 10E3, minus_pulse = True, cd_time_qubit = 20E3, cd_time_TLS = 500E3, plot_flag = True, simulate_flag = False, simulation_len = 20_000, machine = machine)"
   ]
  },
  {
   "cell_type": "markdown",
   "id": "c026d3b6",
   "metadata": {},
   "source": [
    "## TLS CPMG20"
   ]
  },
  {
   "cell_type": "code",
   "execution_count": 25,
   "id": "c6dbfb37",
   "metadata": {},
   "outputs": [
    {
     "name": "stdout",
     "output_type": "stream",
     "text": [
      "Progress: [##################################################] 100.0% (n=10000/10000.0) --> elapsed time: 3447.11s\n",
      "Progress: [##################################################] 100.0% (n=10000/10000.0) --> elapsed time: 3447.30s\n"
     ]
    }
   ],
   "source": [
    "%matplotlib qt\n",
    "tau_sweep = np.arange(min_tau, max_tau + 0.1, d_tau)  # in units of clock cyles\n",
    "machine, tau_sweep_abs, sig_amp = Experiment.exp1D.DD.TLS_CPMG(tau_sweep, qubit_index, res_index, flux_index, TLS_index,\n",
    "          N_CPMG = 20, n_avg = 10E3, minus_pulse = True, cd_time_qubit = 20E3, cd_time_TLS = 500E3, plot_flag = True, simulate_flag = False, simulation_len = 20_000, machine = machine)"
   ]
  },
  {
   "cell_type": "markdown",
   "id": "374411f1",
   "metadata": {},
   "source": [
    "## TLS CPMG 22"
   ]
  },
  {
   "cell_type": "code",
   "execution_count": 26,
   "id": "07c65a43",
   "metadata": {},
   "outputs": [
    {
     "name": "stdout",
     "output_type": "stream",
     "text": [
      "Progress: [##################################################] 100.0% (n=10000/10000.0) --> elapsed time: 3480.58s\n"
     ]
    }
   ],
   "source": [
    "%matplotlib qt\n",
    "tau_sweep = np.arange(min_tau, max_tau + 0.1, d_tau)  # in units of clock cyles\n",
    "machine, tau_sweep_abs, sig_amp = Experiment.exp1D.DD.TLS_CPMG(tau_sweep, qubit_index, res_index, flux_index, TLS_index,\n",
    "          N_CPMG = 22, n_avg = 10E3, minus_pulse = True, cd_time_qubit = 20E3, cd_time_TLS = 500E3, plot_flag = True, simulate_flag = False, simulation_len = 20_000, machine = machine)"
   ]
  },
  {
   "cell_type": "markdown",
   "id": "1b522b72",
   "metadata": {},
   "source": [
    "## TLS CPMG24"
   ]
  },
  {
   "cell_type": "code",
   "execution_count": 27,
   "id": "e365f61d",
   "metadata": {},
   "outputs": [
    {
     "name": "stdout",
     "output_type": "stream",
     "text": [
      "Progress: [##################################################] 100.0% (n=10000/10000.0) --> elapsed time: 3513.89s\n",
      "Progress: [##################################################] 100.0% (n=10000/10000.0) --> elapsed time: 3514.10s\n"
     ]
    }
   ],
   "source": [
    "%matplotlib qt\n",
    "tau_sweep = np.arange(min_tau, max_tau + 0.1, d_tau)  # in units of clock cyles\n",
    "machine, tau_sweep_abs, sig_amp = Experiment.exp1D.DD.TLS_CPMG(tau_sweep, qubit_index, res_index, flux_index, TLS_index,\n",
    "          N_CPMG = 24, n_avg = 10E3, minus_pulse = True, cd_time_qubit = 20E3, cd_time_TLS = 500E3, plot_flag = True, simulate_flag = False, simulation_len = 20_000, machine = machine)"
   ]
  },
  {
   "cell_type": "markdown",
   "id": "5e0bf798",
   "metadata": {},
   "source": [
    "## TLS CPMG 26"
   ]
  },
  {
   "cell_type": "code",
   "execution_count": 28,
   "id": "280ced35",
   "metadata": {},
   "outputs": [
    {
     "name": "stdout",
     "output_type": "stream",
     "text": [
      "Progress: [##################################################] 100.0% (n=10000/10000.0) --> elapsed time: 3547.27s\n"
     ]
    }
   ],
   "source": [
    "%matplotlib qt\n",
    "tau_sweep = np.arange(min_tau, max_tau + 0.1, d_tau)  # in units of clock cyles\n",
    "machine, tau_sweep_abs, sig_amp = Experiment.exp1D.DD.TLS_CPMG(tau_sweep, qubit_index, res_index, flux_index, TLS_index,\n",
    "          N_CPMG = 26, n_avg = 10E3, minus_pulse = True, cd_time_qubit = 20E3, cd_time_TLS = 500E3, plot_flag = True, simulate_flag = False, simulation_len = 20_000, machine = machine)"
   ]
  },
  {
   "cell_type": "markdown",
   "id": "41a4e2df",
   "metadata": {},
   "source": [
    "## TLS CPMG28"
   ]
  },
  {
   "cell_type": "code",
   "execution_count": 29,
   "id": "a9042317",
   "metadata": {},
   "outputs": [
    {
     "name": "stdout",
     "output_type": "stream",
     "text": [
      "Progress: [##################################################] 100.0% (n=10000/10000.0) --> elapsed time: 3580.31s\n"
     ]
    }
   ],
   "source": [
    "%matplotlib qt\n",
    "tau_sweep = np.arange(min_tau, max_tau + 0.1, d_tau)  # in units of clock cyles\n",
    "machine, tau_sweep_abs, sig_amp = Experiment.exp1D.DD.TLS_CPMG(tau_sweep, qubit_index, res_index, flux_index, TLS_index,\n",
    "          N_CPMG = 28, n_avg = 10E3, minus_pulse = True, cd_time_qubit = 20E3, cd_time_TLS = 500E3, plot_flag = True, simulate_flag = False, simulation_len = 20_000, machine = machine)"
   ]
  },
  {
   "cell_type": "markdown",
   "id": "b0b9f0f4",
   "metadata": {},
   "source": [
    "## TL CPMG 30"
   ]
  },
  {
   "cell_type": "code",
   "execution_count": 30,
   "id": "1834afad",
   "metadata": {},
   "outputs": [
    {
     "name": "stdout",
     "output_type": "stream",
     "text": [
      "Progress: [##################################################] 100.0% (n=10000/10000.0) --> elapsed time: 3613.73s\n"
     ]
    }
   ],
   "source": [
    "%matplotlib qt\n",
    "tau_sweep = np.arange(min_tau, max_tau + 0.1, d_tau)  # in units of clock cyles\n",
    "machine, tau_sweep_abs, sig_amp = Experiment.exp1D.DD.TLS_CPMG(tau_sweep, qubit_index, res_index, flux_index, TLS_index,\n",
    "          N_CPMG = 30, n_avg = 10E3, minus_pulse = True, cd_time_qubit = 20E3, cd_time_TLS = 500E3, plot_flag = True, simulate_flag = False, simulation_len = 20_000, machine = machine)"
   ]
  },
  {
   "cell_type": "markdown",
   "id": "80a47cb6",
   "metadata": {},
   "source": [
    "## TLS CPMG32"
   ]
  },
  {
   "cell_type": "code",
   "execution_count": 31,
   "id": "a2f9d89b",
   "metadata": {},
   "outputs": [
    {
     "name": "stdout",
     "output_type": "stream",
     "text": [
      "Progress: [##################################################] 100.0% (n=10000/10000.0) --> elapsed time: 3646.93s\n",
      "Progress: [##################################################] 100.0% (n=10000/10000.0) --> elapsed time: 3647.17s\n"
     ]
    }
   ],
   "source": [
    "%matplotlib qt\n",
    "tau_sweep = np.arange(min_tau, max_tau + 0.1, d_tau)  # in units of clock cyles\n",
    "machine, tau_sweep_abs, sig_amp = Experiment.exp1D.DD.TLS_CPMG(tau_sweep, qubit_index, res_index, flux_index, TLS_index,\n",
    "          N_CPMG = 32, n_avg = 10E3, minus_pulse = True, cd_time_qubit = 20E3, cd_time_TLS = 500E3, plot_flag = True, simulate_flag = False, simulation_len = 20_000, machine = machine)"
   ]
  },
  {
   "cell_type": "markdown",
   "id": "6ae477dd",
   "metadata": {},
   "source": [
    "## CPMG Rabi"
   ]
  },
  {
   "cell_type": "code",
   "execution_count": 10,
   "id": "e8ae81ec",
   "metadata": {
    "scrolled": true
   },
   "outputs": [
    {
     "name": "stdout",
     "output_type": "stream",
     "text": [
      "Progress: [##################################################] 100.0% (n=18/18) --> elapsed time: 172.71s\n"
     ]
    }
   ],
   "source": [
    "%matplotlib qt\n",
    "N_sweep = np.arange(2,36+1,2)\n",
    "tau_val = int(172)\n",
    "machine, N_sweep, sig_amp, sig_phase = Experiment.exp1D.DD.TLS_CPMG_Rabi(tau_val, N_sweep, qubit_index, res_index, flux_index, TLS_index, \n",
    "                                                              n_avg = 10E3, minus_pulse = True, cd_time_qubit = 20E3, cd_time_TLS = 500E3, plot_flag = True, \n",
    "                                                                         simulate_flag = False, simulation_len = 20_000, machine = machine)\n"
   ]
  },
  {
   "cell_type": "code",
   "execution_count": null,
   "id": "adc227b2",
   "metadata": {},
   "outputs": [],
   "source": []
  }
 ],
 "metadata": {
  "kernelspec": {
   "display_name": "Python 3 (ipykernel)",
   "language": "python",
   "name": "python3"
  },
  "language_info": {
   "codemirror_mode": {
    "name": "ipython",
    "version": 3
   },
   "file_extension": ".py",
   "mimetype": "text/x-python",
   "name": "python",
   "nbconvert_exporter": "python",
   "pygments_lexer": "ipython3",
   "version": "3.8.17"
  }
 },
 "nbformat": 4,
 "nbformat_minor": 5
}
