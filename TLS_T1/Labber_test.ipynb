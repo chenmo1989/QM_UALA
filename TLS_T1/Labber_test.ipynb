{
 "cells": [
  {
   "cell_type": "code",
   "execution_count": 1,
   "id": "160c9b58",
   "metadata": {},
   "outputs": [],
   "source": [
    "import Labber"
   ]
  },
  {
   "cell_type": "code",
   "execution_count": 2,
   "id": "97b207f5",
   "metadata": {},
   "outputs": [],
   "source": [
    "client = Labber.connectToServer('localhost')"
   ]
  },
  {
   "cell_type": "code",
   "execution_count": 3,
   "id": "9079c82c",
   "metadata": {},
   "outputs": [
    {
     "data": {
      "text/plain": [
       "<Labber._include38.LabberClient.LabberBlockingClient at 0x296e5d0db80>"
      ]
     },
     "execution_count": 3,
     "metadata": {},
     "output_type": "execute_result"
    }
   ],
   "source": [
    "client"
   ]
  },
  {
   "cell_type": "code",
   "execution_count": 10,
   "id": "4402b1bf",
   "metadata": {},
   "outputs": [
    {
     "data": {
      "text/plain": [
       "['Keysight PXI AWG - PXI: 10',\n",
       " 'Keysight PXI AWG - PXI: 6',\n",
       " 'Keysight PXI Digitizer - PXI: 2',\n",
       " 'Keysight PXI Sequencer - ',\n",
       " 'Multi-Qubit Pulse Generator - ',\n",
       " 'Painter Agilent Network Analyzer - IP: 192.168.88.6',\n",
       " 'Painter Arbitrary Sequence Generator - ',\n",
       " 'Painter Multi-Qubit Pulse Generator - ',\n",
       " 'Painter Vaunix Lab Brick Digital Attenuator - USB: 25606',\n",
       " 'Painter Vaunix Lab Brick Digital Attenuator - USB: 25607',\n",
       " 'QDevil QDAC - Serial: 3',\n",
       " 'Rohde&Schwarz RF Source - IP: 169.254.62.3',\n",
       " 'Rohde&Schwarz RF Source - IP: 169.254.62.4',\n",
       " 'Rohde&Schwarz RF Source - IP: 169.254.62.8',\n",
       " 'Rohde&Schwarz RF Source - IP: 192.168.88.2',\n",
       " 'Stanford Delay Generator SRS 645 - IP: 169.254.62.7']"
      ]
     },
     "execution_count": 10,
     "metadata": {},
     "output_type": "execute_result"
    }
   ],
   "source": [
    "client.getListOfInstrumentsString()"
   ]
  },
  {
   "cell_type": "code",
   "execution_count": 60,
   "id": "19fcfaaa",
   "metadata": {},
   "outputs": [
    {
     "name": "stdout",
     "output_type": "stream",
     "text": [
      "Painter Vaunix Lab Brick Digital Attenuator\n",
      "Painter Vaunix Lab Brick Digital Attenuator\n",
      "QDevil QDAC\n",
      "Rohde&Schwarz RF Source\n"
     ]
    }
   ],
   "source": [
    "for keys in client.getListOfInstruments():\n",
    "    if keys[1]['interface'] != 'None':\n",
    "        Ins_tmp = client.connectToInstrument(keys[0], dict(interface=keys[1]['interface'], address=keys[1]['address']))\n",
    "        if Ins_tmp.isRunning():\n",
    "            print(keys[0])"
   ]
  },
  {
   "cell_type": "code",
   "execution_count": 39,
   "id": "31399710",
   "metadata": {},
   "outputs": [],
   "source": [
    "QDevil = client.connectToInstrument('QDevil QDAC', dict(interface='Serial', address='3'))"
   ]
  },
  {
   "cell_type": "code",
   "execution_count": 42,
   "id": "b2ae9741",
   "metadata": {},
   "outputs": [
    {
     "data": {
      "text/plain": [
       "True"
      ]
     },
     "execution_count": 42,
     "metadata": {},
     "output_type": "execute_result"
    }
   ],
   "source": [
    "QDevil.isRunning()"
   ]
  },
  {
   "cell_type": "code",
   "execution_count": 46,
   "id": "2b2608fc",
   "metadata": {},
   "outputs": [
    {
     "data": {
      "text/plain": [
       "{'CH01 Voltage': 7e-06,\n",
       " 'CH02 Voltage': -0.068382,\n",
       " 'CH03 Voltage': -7e-06,\n",
       " 'CH04 Voltage': -2e-06,\n",
       " 'CH05 Voltage': 5e-06,\n",
       " 'CH06 Voltage': 6e-06,\n",
       " 'CH07 Voltage': -5e-06,\n",
       " 'CH08 Voltage': -4e-06,\n",
       " 'CH09 Voltage': -4e-06,\n",
       " 'CH10 Voltage': 8e-06,\n",
       " 'CH11 Voltage': -1e-06,\n",
       " 'CH12 Voltage': -8e-06,\n",
       " 'CH13 Voltage': -0.0,\n",
       " 'CH14 Voltage': -2e-06,\n",
       " 'CH15 Voltage': -9e-06,\n",
       " 'CH16 Voltage': 1e-06,\n",
       " 'CH17 Voltage': -1e-06,\n",
       " 'CH18 Voltage': 6e-06,\n",
       " 'CH19 Voltage': -9e-06,\n",
       " 'CH20 Voltage': 1e-06,\n",
       " 'CH21 Voltage': -2e-06,\n",
       " 'CH22 Voltage': 1e-06,\n",
       " 'CH23 Voltage': -7e-06,\n",
       " 'CH24 Voltage': -6e-06,\n",
       " 'CH01 Current': 0.0,\n",
       " 'CH02 Current': 0.0,\n",
       " 'CH03 Current': 0.0,\n",
       " 'CH04 Current': 0.0,\n",
       " 'CH05 Current': 0.0,\n",
       " 'CH06 Current': 0.0,\n",
       " 'CH07 Current': 0.0,\n",
       " 'CH08 Current': 0.0,\n",
       " 'CH09 Current': 0.0,\n",
       " 'CH10 Current': 0.0,\n",
       " 'CH11 Current': 0.0,\n",
       " 'CH12 Current': 0.0,\n",
       " 'CH13 Current': 0.0,\n",
       " 'CH14 Current': 0.0,\n",
       " 'CH15 Current': 0.0,\n",
       " 'CH16 Current': 0.0,\n",
       " 'CH17 Current': 0.0,\n",
       " 'CH18 Current': 0.0,\n",
       " 'CH19 Current': 0.0,\n",
       " 'CH20 Current': 0.0,\n",
       " 'CH21 Current': 0.0,\n",
       " 'CH22 Current': 0.0,\n",
       " 'CH23 Current': 0.0,\n",
       " 'CH24 Current': 0.0,\n",
       " 'CH01 Voltage-Range': '10',\n",
       " 'CH02 Voltage-Range': '10',\n",
       " 'CH03 Voltage-Range': '10',\n",
       " 'CH04 Voltage-Range': '10',\n",
       " 'CH05 Voltage-Range': '10',\n",
       " 'CH06 Voltage-Range': '10',\n",
       " 'CH07 Voltage-Range': '10',\n",
       " 'CH08 Voltage-Range': '10',\n",
       " 'CH09 Voltage-Range': '10',\n",
       " 'CH10 Voltage-Range': '10',\n",
       " 'CH11 Voltage-Range': '10',\n",
       " 'CH12 Voltage-Range': '10',\n",
       " 'CH13 Voltage-Range': '10',\n",
       " 'CH14 Voltage-Range': '10',\n",
       " 'CH15 Voltage-Range': '10',\n",
       " 'CH16 Voltage-Range': '10',\n",
       " 'CH17 Voltage-Range': '10',\n",
       " 'CH18 Voltage-Range': '10',\n",
       " 'CH19 Voltage-Range': '10',\n",
       " 'CH20 Voltage-Range': '10',\n",
       " 'CH21 Voltage-Range': '10',\n",
       " 'CH22 Voltage-Range': '10',\n",
       " 'CH23 Voltage-Range': '10',\n",
       " 'CH24 Voltage-Range': '10',\n",
       " 'CH01 Current-Range': '100',\n",
       " 'CH02 Current-Range': '100',\n",
       " 'CH03 Current-Range': '100',\n",
       " 'CH04 Current-Range': '100',\n",
       " 'CH05 Current-Range': '100',\n",
       " 'CH06 Current-Range': '100',\n",
       " 'CH07 Current-Range': '100',\n",
       " 'CH08 Current-Range': '100',\n",
       " 'CH09 Current-Range': '100',\n",
       " 'CH10 Current-Range': '100',\n",
       " 'CH11 Current-Range': '100',\n",
       " 'CH12 Current-Range': '100',\n",
       " 'CH13 Current-Range': '100',\n",
       " 'CH14 Current-Range': '100',\n",
       " 'CH15 Current-Range': '100',\n",
       " 'CH16 Current-Range': '100',\n",
       " 'CH17 Current-Range': '100',\n",
       " 'CH18 Current-Range': '100',\n",
       " 'CH19 Current-Range': '100',\n",
       " 'CH20 Current-Range': '100',\n",
       " 'CH21 Current-Range': '100',\n",
       " 'CH22 Current-Range': '100',\n",
       " 'CH23 Current-Range': '100',\n",
       " 'CH24 Current-Range': '100',\n",
       " 'CH01 Mode': 'DC',\n",
       " 'CH02 Mode': 'DC',\n",
       " 'CH03 Mode': 'DC',\n",
       " 'CH04 Mode': 'DC',\n",
       " 'CH05 Mode': 'DC',\n",
       " 'CH06 Mode': 'DC',\n",
       " 'CH07 Mode': 'DC',\n",
       " 'CH08 Mode': 'DC',\n",
       " 'CH09 Mode': 'DC',\n",
       " 'CH10 Mode': 'DC',\n",
       " 'CH11 Mode': 'DC',\n",
       " 'CH12 Mode': 'DC',\n",
       " 'CH13 Mode': 'DC',\n",
       " 'CH14 Mode': 'DC',\n",
       " 'CH15 Mode': 'DC',\n",
       " 'CH16 Mode': 'DC',\n",
       " 'CH17 Mode': 'DC',\n",
       " 'CH18 Mode': 'DC',\n",
       " 'CH19 Mode': 'DC',\n",
       " 'CH20 Mode': 'DC',\n",
       " 'CH21 Mode': 'DC',\n",
       " 'CH22 Mode': 'DC',\n",
       " 'CH23 Mode': 'DC',\n",
       " 'CH24 Mode': 'DC',\n",
       " 'CH01 Apply': True,\n",
       " 'CH02 Apply': True,\n",
       " 'CH03 Apply': True,\n",
       " 'CH04 Apply': True,\n",
       " 'CH05 Apply': True,\n",
       " 'CH06 Apply': True,\n",
       " 'CH07 Apply': True,\n",
       " 'CH08 Apply': True,\n",
       " 'CH09 Apply': True,\n",
       " 'CH10 Apply': True,\n",
       " 'CH11 Apply': True,\n",
       " 'CH12 Apply': True,\n",
       " 'CH13 Apply': True,\n",
       " 'CH14 Apply': True,\n",
       " 'CH15 Apply': True,\n",
       " 'CH16 Apply': True,\n",
       " 'CH17 Apply': True,\n",
       " 'CH18 Apply': True,\n",
       " 'CH19 Apply': True,\n",
       " 'CH20 Apply': True,\n",
       " 'CH21 Apply': True,\n",
       " 'CH22 Apply': True,\n",
       " 'CH23 Apply': True,\n",
       " 'CH24 Apply': True,\n",
       " 'G1 Waveform': 'Sine',\n",
       " 'G1 Period': 100.0,\n",
       " 'G1 Repetitions': 0.0,\n",
       " 'G1 Trigger': 'None',\n",
       " 'G1 Run-Wait': True,\n",
       " 'G2 Waveform': 'Sine',\n",
       " 'G2 Period': 100.0,\n",
       " 'G2 Repetitions': 0.0,\n",
       " 'G2 Trigger': 'None',\n",
       " 'G2 Run-Wait': True,\n",
       " 'G3 Waveform': 'Sine',\n",
       " 'G3 Period': 100.0,\n",
       " 'G3 Repetitions': 0.0,\n",
       " 'G3 Trigger': 'None',\n",
       " 'G3 Run-Wait': True,\n",
       " 'G4 Waveform': 'Sine',\n",
       " 'G4 Period': 100.0,\n",
       " 'G4 Repetitions': 0.0,\n",
       " 'G4 Trigger': 'None',\n",
       " 'G4 Run-Wait': True,\n",
       " 'G5 Waveform': 'Sine',\n",
       " 'G5 Period': 100.0,\n",
       " 'G5 Repetitions': 0.0,\n",
       " 'G5 Trigger': 'None',\n",
       " 'G5 Run-Wait': True,\n",
       " 'G6 Waveform': 'Sine',\n",
       " 'G6 Period': 100.0,\n",
       " 'G6 Repetitions': 0.0,\n",
       " 'G6 Trigger': 'None',\n",
       " 'G6 Run-Wait': True,\n",
       " 'G7 Waveform': 'Sine',\n",
       " 'G7 Period': 100.0,\n",
       " 'G7 Repetitions': 0.0,\n",
       " 'G7 Trigger': 'None',\n",
       " 'G7 Run-Wait': True,\n",
       " 'G8 Waveform': 'Sine',\n",
       " 'G8 Period': 100.0,\n",
       " 'G8 Repetitions': 0.0,\n",
       " 'G8 Trigger': 'None',\n",
       " 'G8 Run-Wait': True,\n",
       " 'G9 File': '',\n",
       " 'G9 Repetitions': 0.0,\n",
       " 'G9 Signal': {'y': array([], dtype=float64),\n",
       "  't0': 0.0,\n",
       "  'dt': 1.0,\n",
       "  'shape': [0]},\n",
       " 'G9 Trigger': 'None',\n",
       " 'G9 Run-Wait': True,\n",
       " 'G10 Repetitions': 0.0,\n",
       " 'G10 LowTime': 0.0,\n",
       " 'G10 HighTime': 0.0,\n",
       " 'G10 LowLevel': 0.0,\n",
       " 'G10 HighLevel': 0.0,\n",
       " 'G10 Trigger': 'None',\n",
       " 'G10 Run-Wait': True,\n",
       " 'Syn1 Source': 'Off',\n",
       " 'Syn1 Length': 1.0,\n",
       " 'Syn1 Delay': 0.0,\n",
       " 'Syn2 Source': 'Off',\n",
       " 'Syn2 Length': 1.0,\n",
       " 'Syn2 Delay': 0.0,\n",
       " 'T1 Fire': True,\n",
       " 'T2 Fire': True,\n",
       " 'T3 Fire': True,\n",
       " 'T4 Fire': True,\n",
       " 'T5 Fire': True,\n",
       " 'T6 Fire': True,\n",
       " 'T7 Fire': True,\n",
       " 'T8 Fire': True,\n",
       " 'T9 Fire': True,\n",
       " 'T10 Fire': True}"
      ]
     },
     "execution_count": 46,
     "metadata": {},
     "output_type": "execute_result"
    }
   ],
   "source": [
    "QDevil.getInstrConfig()"
   ]
  },
  {
   "cell_type": "code",
   "execution_count": 61,
   "id": "2f1584aa",
   "metadata": {},
   "outputs": [
    {
     "data": {
      "text/plain": [
       "dict"
      ]
     },
     "execution_count": 61,
     "metadata": {},
     "output_type": "execute_result"
    }
   ],
   "source": [
    "type(QDevil.getInstrConfig())"
   ]
  },
  {
   "cell_type": "code",
   "execution_count": 52,
   "id": "f6c66f3b",
   "metadata": {},
   "outputs": [
    {
     "data": {
      "text/plain": [
       "'Multi-Qubit Pulse Generator'"
      ]
     },
     "execution_count": 52,
     "metadata": {},
     "output_type": "execute_result"
    }
   ],
   "source": [
    "keys[0]"
   ]
  },
  {
   "cell_type": "code",
   "execution_count": 56,
   "id": "c67ac6b8",
   "metadata": {},
   "outputs": [
    {
     "data": {
      "text/plain": [
       "{'name': 'MQPG',\n",
       " 'interface': 'None',\n",
       " 'address': '',\n",
       " 'startup': 'Set config',\n",
       " 'server': 'localhost',\n",
       " 'lock': False,\n",
       " 'show_advanced': False,\n",
       " 'Timeout': 10.0,\n",
       " 'Term. character': 'Auto',\n",
       " 'Send end on write': True,\n",
       " 'Lock VISA resource': False,\n",
       " 'Suppress end bit termination on read': False,\n",
       " 'Use specific TCP port': False,\n",
       " 'TCP port': 0.0,\n",
       " 'Use VICP protocol': False,\n",
       " 'Baud rate': 9600.0,\n",
       " 'Data bits': 8.0,\n",
       " 'Stop bits': 1.0,\n",
       " 'Parity': 'No parity',\n",
       " 'GPIB board number': 0.0,\n",
       " 'Send GPIB go to local at close': False,\n",
       " 'PXI chassis': 1.0,\n",
       " 'Run in 32-bit mode': False}"
      ]
     },
     "execution_count": 56,
     "metadata": {},
     "output_type": "execute_result"
    }
   ],
   "source": [
    "keys[1]"
   ]
  },
  {
   "cell_type": "code",
   "execution_count": null,
   "id": "26eae76d",
   "metadata": {},
   "outputs": [],
   "source": []
  }
 ],
 "metadata": {
  "kernelspec": {
   "display_name": "Python 3 (ipykernel)",
   "language": "python",
   "name": "python3"
  },
  "language_info": {
   "codemirror_mode": {
    "name": "ipython",
    "version": 3
   },
   "file_extension": ".py",
   "mimetype": "text/x-python",
   "name": "python",
   "nbconvert_exporter": "python",
   "pygments_lexer": "ipython3",
   "version": "3.8.17"
  }
 },
 "nbformat": 4,
 "nbformat_minor": 5
}
