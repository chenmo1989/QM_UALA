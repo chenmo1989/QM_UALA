{
 "cells": [
  {
   "cell_type": "code",
   "execution_count": 16,
   "id": "e4aadb6f",
   "metadata": {},
   "outputs": [],
   "source": [
    "# set up non-QM hardware\n",
    "import Labber\n",
    "# connect to server \n",
    "client = Labber.connectToServer('localhost') # get list of instruments \n",
    "#instruments = client.getListOfInstrumentsString() \n",
    "#for instr in instruments: \n",
    "#    print(instr) # close connection \n",
    "\n",
    "# reset all QDevil channels to 0 V\n",
    "QDevil = client.connectToInstrument('QDevil QDAC', dict(interface='Serial', address='3'))\n",
    "for n in range(24):\n",
    "    if n+1 < 10:\n",
    "        QDevil.setValue(\"CH0\" + str(n+1) + \" Voltage\", 0.0)\n",
    "    else:\n",
    "        QDevil.setValue(\"CH\" + str(n+1) + \" Voltage\", 0.0)\n",
    "# setting CH06 to sweet spot\n",
    "DC_ss = 6.4352E-3\n",
    "QDevil.setValue(\"CH06 Voltage\", DC_ss)\n",
    "\n",
    "# digital attenuators\n",
    "Vaunix1 = client.connectToInstrument('Painter Vaunix Lab Brick Digital Attenuator', dict(interface='USB', address='25606'))\n",
    "Vaunix2 = client.connectToInstrument('Painter Vaunix Lab Brick Digital Attenuator', dict(interface='USB', address='25607'))\n",
    "ROI = 42\n",
    "ROO = 10\n",
    "Vaunix1.setValue(\"Attenuation\", ROI)\n",
    "Vaunix2.setValue(\"Attenuation\", ROO)\n",
    "\n",
    "# TWPA pump\n",
    "SG = client.connectToInstrument('Rohde&Schwarz RF Source', dict(interface='TCPIP', address='192.168.88.2'))\n",
    "SG.setValue('Frequency', 6730.6E6)\n",
    "SG.setValue('Power', -11.3)\n",
    "\n",
    "client.close()"
   ]
  },
  {
   "cell_type": "code",
   "execution_count": 17,
   "id": "ca531b15-cb95-412b-b26a-d70490422859",
   "metadata": {},
   "outputs": [
    {
     "name": "stdout",
     "output_type": "stream",
     "text": [
      "2023-08-17 17:34:53.421982 1\n"
     ]
    }
   ],
   "source": [
    "from qm.qua import *\n",
    "from qm.QuantumMachinesManager import QuantumMachinesManager\n",
    "from configuration import *\n",
    "import matplotlib.pyplot as plt\n",
    "import numpy as np\n",
    "from qm import SimulationConfig\n",
    "from qualang_tools.loops import from_array\n",
    "%matplotlib qt\n",
    "\n",
    "# Start to save data\n",
    "import datetime \n",
    "import os\n",
    "import pandas as pd \n",
    "\n",
    "print(datetime.datetime.now(),1)\n",
    "\n",
    "now = datetime.datetime.now()\n",
    "year = now.strftime(\"%Y\")\n",
    "month = now.strftime(\"%m\")\n",
    "day = now.strftime(\"%d\")\n",
    "hour = now.strftime(\"%H\")\n",
    "minute = now.strftime(\"%M\")\n",
    "second  = now.strftime(\"%S\")\n",
    "\n",
    "tPath = os.path.join(r'Z:\\LabberData_DF5\\QM_Data_DF5',year,month,'Data_'+month+day)\n",
    "if not os.path.exists(tPath):\n",
    "   os.makedirs(tPath)\n",
    "exp_name = 'T1'\n",
    "qubit_name = 'Q2'\n",
    "\n",
    "f_str =exp_name + '_'+ qubit_name +'_'+ hour+ '_' + minute +'_' + second\n",
    "f_name= f_str+'.csv'\n",
    "j_name = f_str + '_state.json'\n",
    "p_name= f_str+'.png'\n",
    "\n",
    "# End to save data"
   ]
  },
  {
   "cell_type": "code",
   "execution_count": 18,
   "id": "4df2d531",
   "metadata": {},
   "outputs": [
    {
     "name": "stdout",
     "output_type": "stream",
     "text": [
      "2023-08-17 17:35:10,742 - qm - ERROR    - Encountered connection error from QOP\n",
      "Traceback (most recent call last):\n",
      "  File \"C:\\Users\\painter\\AppData\\Roaming\\Python\\Python38\\site-packages\\qm\\api\\base_api.py\", line 27, in wrapped\n",
      "    return func(*args, **kwargs)\n",
      "  File \"C:\\Users\\painter\\AppData\\Roaming\\Python\\Python38\\site-packages\\qm\\api\\frontend_api.py\", line 79, in get_version\n",
      "    response = run_async(self._stub.get_version(Empty(), timeout=self._timeout))\n",
      "  File \"C:\\Users\\painter\\AppData\\Roaming\\Python\\Python38\\site-packages\\qm\\utils\\async_utils.py\", line 37, in run_async\n",
      "    return create_future(coroutine).result()  # type: ignore[no-any-return]\n",
      "  File \"C:\\Users\\painter\\.conda\\envs\\labber-qm-env\\lib\\concurrent\\futures\\_base.py\", line 444, in result\n",
      "    return self.__get_result()\n",
      "  File \"C:\\Users\\painter\\.conda\\envs\\labber-qm-env\\lib\\concurrent\\futures\\_base.py\", line 389, in __get_result\n",
      "    raise self._exception\n",
      "  File \"C:\\Users\\painter\\AppData\\Roaming\\Python\\Python38\\site-packages\\qm\\grpc\\frontend\\__init__.py\", line 697, in get_version\n",
      "    return await self._unary_unary(\n",
      "  File \"C:\\Users\\painter\\AppData\\Roaming\\Python\\Python38\\site-packages\\betterproto\\grpc\\grpclib_client.py\", line 85, in _unary_unary\n",
      "    response = await stream.recv_message()\n",
      "  File \"C:\\Users\\painter\\AppData\\Roaming\\Python\\Python38\\site-packages\\grpclib\\client.py\", line 425, in recv_message\n",
      "    await self.recv_initial_metadata()\n",
      "  File \"C:\\Users\\painter\\AppData\\Roaming\\Python\\Python38\\site-packages\\grpclib\\client.py\", line 371, in recv_initial_metadata\n",
      "    self._raise_for_status(headers_map)\n",
      "  File \"C:\\Users\\painter\\AppData\\Roaming\\Python\\Python38\\site-packages\\grpclib\\client.py\", line 296, in _raise_for_status\n",
      "    raise GRPCError(grpc_status,\n",
      "grpclib.exceptions.GRPCError: (<Status.UNKNOWN: 2>, \"Received :status = '302'\", None)\n",
      "2023-08-17 17:35:10,875 - qm - INFO     - Performing health check\n",
      "2023-08-17 17:35:10,885 - qm - INFO     - Health check passed\n",
      "2023-08-17 17:35:10.887265 2\n",
      "2023-08-17 17:35:11,765 - qm - INFO     - Sending program to QOP for compilation\n",
      "2023-08-17 17:35:11,966 - qm - INFO     - Executing program\n",
      "Progress: [##################################################] 100.0% (n=20000/20000) --> elapsed time: 60.72s\n",
      "Progress: [##################################################] 100.0% (n=20000/20000) --> elapsed time: 60.77s\n",
      "2023-08-17 17:36:12.938775 3\n"
     ]
    }
   ],
   "source": [
    "machine = QuAM(\"quam_state.json\")\n",
    "config = build_config(machine)\n",
    "\n",
    "###################\n",
    "# The QUA program #\n",
    "###################\n",
    "\n",
    "tau_min = 100 # clock cycle\n",
    "tau_max = 5_000 # clock cycle\n",
    "d_tau = 100 # clock cycle\n",
    "taus = np.arange(tau_min, tau_max + 0.1, d_tau)  # + 0.1 to add t_max to taus\n",
    "qubit_index = 5\n",
    "\n",
    "n_avg = 20000\n",
    "cooldown_time = 50_000 * u.ns\n",
    "\n",
    "with program() as T1:\n",
    "    n = declare(int)\n",
    "    n_st = declare_stream()\n",
    "    I = declare(fixed)\n",
    "    I_st = declare_stream()\n",
    "    Q = declare(fixed)\n",
    "    Q_st = declare_stream()\n",
    "    tau = declare(int)\n",
    "\n",
    "    with for_(n, 0, n < n_avg, n + 1):\n",
    "        with for_(*from_array(tau, taus)):\n",
    "            play(\"x180\", machine.qubits[qubit_index].name)\n",
    "            wait(tau, machine.qubits[qubit_index].name)\n",
    "            align(machine.qubits[qubit_index].name, machine.resonators[qubit_index].name)\n",
    "            measure(\n",
    "                \"readout\",\n",
    "                machine.resonators[qubit_index].name,\n",
    "                None,\n",
    "                dual_demod.full(\"rotated_cos\", \"out1\", \"rotated_sin\", \"out2\", I),\n",
    "                dual_demod.full(\"rotated_minus_sin\", \"out1\", \"rotated_cos\", \"out2\", Q),\n",
    "            )\n",
    "            save(I, I_st)\n",
    "            save(Q, Q_st)\n",
    "            wait(cooldown_time * u.ns, machine.resonators[qubit_index].name)\n",
    "        save(n, n_st)\n",
    "\n",
    "    with stream_processing():\n",
    "        I_st.buffer(len(taus)).average().save(\"I\")\n",
    "        Q_st.buffer(len(taus)).average().save(\"Q\")\n",
    "        n_st.save(\"iteration\")\n",
    "\n",
    "#####################################\n",
    "#  Open Communication with the QOP  #\n",
    "#####################################\n",
    "qmm = QuantumMachinesManager(machine.network.qop_ip, cluster_name=machine.network.cluster_name, octave=octave_config)\n",
    "\n",
    "#######################\n",
    "# Simulate or execute #\n",
    "#######################\n",
    "simulate = False\n",
    "\n",
    "if simulate:\n",
    "    simulation_config = SimulationConfig(duration=20_000)  # in clock cycles\n",
    "    job = qmm.simulate(config, T1, simulation_config)\n",
    "    job.get_simulated_samples().con1.plot()\n",
    "\n",
    "else:\n",
    "    print(datetime.datetime.now(),2)\n",
    "    qm = qmm.open_qm(config)\n",
    "    job = qm.execute(T1)\n",
    "    \n",
    "    # Get results from QUA program\n",
    "    results = fetching_tool(job, data_list=[\"I\", \"Q\", \"iteration\"], mode=\"live\")\n",
    "    # Live plotting\n",
    "#     fig = plt.figure()\n",
    "#     plt.rcParams['figure.figsize'] = [8, 6]\n",
    "#     interrupt_on_close(fig, job)  # Interrupts the job when closing the figure\n",
    "    while results.is_processing():\n",
    "        # Fetch results\n",
    "        I, Q, iteration = results.fetch_all()\n",
    "        # Progress bar\n",
    "        progress_counter(iteration, n_avg, start_time=results.get_start_time())\n",
    "        # Plot results\n",
    "        if False:\n",
    "            plt.cla()\n",
    "            plt.plot(4 * taus, I, \".\", label=\"I\")\n",
    "            plt.plot(4 * taus, Q, \".\", label=\"Q\")\n",
    "            plt.xlabel(\"Decay time [ns]\")\n",
    "            plt.ylabel(\"I & Q amplitude [a.u.]\")\n",
    "            plt.title(\"T1 measurement\")\n",
    "            plt.legend()\n",
    "            plt.pause(0.1)\n",
    "print(datetime.datetime.now(),3)"
   ]
  },
  {
   "cell_type": "code",
   "execution_count": 20,
   "id": "cd77fc33",
   "metadata": {},
   "outputs": [
    {
     "name": "stdout",
     "output_type": "stream",
     "text": [
      "Qubit T1 [us]: 5.04\n"
     ]
    },
    {
     "data": {
      "text/plain": [
       "Text(0, 0.5, '$\\\\sqrt{I^2 + Q^2}$ [V]')"
      ]
     },
     "execution_count": 20,
     "metadata": {},
     "output_type": "execute_result"
    }
   ],
   "source": [
    "# Fetch results\n",
    "I, Q, iteration = results.fetch_all()\n",
    "# print('iteration', iteration)\n",
    "# Convert I & Q to Volts\n",
    "I = u.demod2volts(I, machine.resonators[qubit_index].readout_pulse_length)\n",
    "Q = u.demod2volts(Q, machine.resonators[qubit_index].readout_pulse_length)\n",
    "sigs = np.sqrt(I**2 + Q**2)\n",
    "\n",
    "# fit the data\n",
    "from scipy.optimize import curve_fit\n",
    "\n",
    "def exp_decay(t, A, T1, c):\n",
    "    return A*np.exp(-t/T1)+c\n",
    "    \n",
    "try:\n",
    "    param, _ = curve_fit(exp_decay,taus,sigs,p0=[max(sigs)-min(sigs),4E3,min(sigs)] )\n",
    "    q_T1 = round(param[1])\n",
    "    print('Qubit T1 [us]:', q_T1 * 4.0*u.ns/u.us)\n",
    "except:\n",
    "    pass\n",
    "\n",
    "# 1D spectroscopy plot\n",
    "fig = plt.figure(figsize=[14, 6])\n",
    "plt.plot(taus * 4.0*u.ns /u.us, sigs, \"b.\")\n",
    "plt.plot(taus * 4.0*u.ns / u.us, exp_decay(taus, param[0],param[1],param[2]), 'r')\n",
    "plt.show()\n",
    "plt.title(\"Qubit T1\")\n",
    "\n",
    "plt.xlabel(\"tau [us]\")\n",
    "plt.ylabel(r\"$\\sqrt{I^2 + Q^2}$ [V]\")"
   ]
  },
  {
   "cell_type": "code",
   "execution_count": null,
   "id": "c9f87d56",
   "metadata": {},
   "outputs": [],
   "source": []
  },
  {
   "cell_type": "code",
   "execution_count": 21,
   "id": "e0505a36",
   "metadata": {},
   "outputs": [
    {
     "data": {
      "text/plain": [
       "9051"
      ]
     },
     "execution_count": 21,
     "metadata": {},
     "output_type": "execute_result"
    }
   ],
   "source": [
    "plt.savefig(os.path.join(tPath, p_name))\n",
    "data = np.asarray([taus, I,Q])\n",
    "df = pd.DataFrame(data)\n",
    "df.index = ['tau (clock cycle)', 'I', 'Q']\n",
    "df.to_csv(os.path.join(tPath, f_name),header=False, index=False)\n",
    "open(os.path.join(tPath, j_name), \"w\").write(open(\"quam_state.json\").read())\n",
    "\n",
    "## convert everything to lists so they are easy to parse in Matlab if desired\n",
    "if isinstance(taus,np.ndarray) == True:\n",
    "   taus=taus.tolist()\n",
    "else:  \n",
    "    pass\n",
    "if isinstance(I,np.ndarray) == True:\n",
    "   I=I.tolist()\n",
    "else:  \n",
    "    pass\n",
    "if isinstance(Q,np.ndarray) == True:\n",
    "   Q=Q.tolist()\n",
    "else:  \n",
    "    pass\n",
    "\n",
    "data = [('Variable', 'Value'), ('Delay', taus), ('I', I), ('Q', Q)]\n",
    "df = pd.DataFrame(data,index=None, columns=None)\n",
    "df.to_csv(os.path.join(tPath, f_name),header=False, index=False)\n",
    "open(os.path.join(tPath, j_name), \"w\").write(open(\"quam_state.json\").read())"
   ]
  },
  {
   "cell_type": "code",
   "execution_count": 22,
   "id": "c7415b1e",
   "metadata": {},
   "outputs": [
    {
     "data": {
      "text/plain": [
       "'T1_Q2_17_34_53.csv'"
      ]
     },
     "execution_count": 22,
     "metadata": {},
     "output_type": "execute_result"
    }
   ],
   "source": [
    "f_name"
   ]
  },
  {
   "cell_type": "code",
   "execution_count": null,
   "id": "89be43d4",
   "metadata": {},
   "outputs": [],
   "source": []
  },
  {
   "cell_type": "code",
   "execution_count": null,
   "id": "5be265da-217a-4954-8dd7-f52daaaa101e",
   "metadata": {},
   "outputs": [],
   "source": []
  }
 ],
 "metadata": {
  "kernelspec": {
   "display_name": "Python 3 (ipykernel)",
   "language": "python",
   "name": "python3"
  },
  "language_info": {
   "codemirror_mode": {
    "name": "ipython",
    "version": 3
   },
   "file_extension": ".py",
   "mimetype": "text/x-python",
   "name": "python",
   "nbconvert_exporter": "python",
   "pygments_lexer": "ipython3",
   "version": "3.8.17"
  }
 },
 "nbformat": 4,
 "nbformat_minor": 5
}
