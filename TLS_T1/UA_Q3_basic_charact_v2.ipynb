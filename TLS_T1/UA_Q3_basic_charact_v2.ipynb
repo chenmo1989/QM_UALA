{
 "cells": [
  {
   "cell_type": "markdown",
   "id": "49d22572",
   "metadata": {},
   "source": [
    "# Basic characterizations of UA Q3\n",
    "### using Experiment and Analysis classes"
   ]
  },
  {
   "cell_type": "code",
   "execution_count": 1,
   "id": "b08c4dec",
   "metadata": {
    "scrolled": true
   },
   "outputs": [
    {
     "name": "stdout",
     "output_type": "stream",
     "text": [
      "2023-12-16 19:35:06,078 - qm - INFO     - Starting session: c494b724-2160-4ee6-990b-c10a25aeba77\n"
     ]
    }
   ],
   "source": [
    "from qm.qua import *\n",
    "from qm.QuantumMachinesManager import QuantumMachinesManager\n",
    "from qm import SimulationConfig, LoopbackInterface\n",
    "from qm.octave import *\n",
    "from qm.octave.octave_manager import ClockMode\n",
    "from configuration import *\n",
    "from scipy import signal\n",
    "from qm import SimulationConfig\n",
    "from qualang_tools.bakery import baking\n",
    "from qualang_tools.units import unit\n",
    "from qm import generate_qua_script\n",
    "from qm.octave import QmOctaveConfig\n",
    "from set_octave import ElementsSettings, octave_settings\n",
    "from quam import QuAM\n",
    "from scipy.io import savemat\n",
    "from scipy.io import loadmat\n",
    "from scipy.optimize import curve_fit\n",
    "from scipy.signal import savgol_filter\n",
    "from qutip import *\n",
    "from typing import Union\n",
    "from macros import *\n",
    "import datetime \n",
    "import os\n",
    "import time\n",
    "import warnings\n",
    "import json\n",
    "import matplotlib.pyplot as plt\n",
    "import numpy as np\n",
    "import Labber\n",
    "\n",
    "from ExperimentClass import ExperimentHandle\n",
    "from AnalysisClass import AnalysisHandle\n",
    "\n",
    "warnings.filterwarnings(\"ignore\")\n",
    "\n",
    "qubit_index = 2 # for UA Q3\n",
    "res_index = 2 # for UA Q3\n",
    "flux_index = 2 # for UA Q3\n",
    "TLS_index = 0 # for TLS of interest"
   ]
  },
  {
   "cell_type": "code",
   "execution_count": 2,
   "id": "5296e59c",
   "metadata": {},
   "outputs": [],
   "source": [
    "machine._save(\"quam_state.json\")"
   ]
  },
  {
   "cell_type": "code",
   "execution_count": 3,
   "id": "44475f4c",
   "metadata": {},
   "outputs": [],
   "source": [
    "Experiment = ExperimentHandle()\n",
    "Analysis = AnalysisHandle()\n",
    "machine = Analysis.get_machine()"
   ]
  },
  {
   "cell_type": "code",
   "execution_count": 4,
   "id": "76f18494",
   "metadata": {},
   "outputs": [],
   "source": [
    "# initialize Labber-controlled hardware\n",
    "Experiment.set_Labber(Analysis.get_machine(), qubit_index, res_index, flux_index)\n",
    "# set octave to external clock\n",
    "#Experiment.set_external_clock()"
   ]
  },
  {
   "cell_type": "code",
   "execution_count": 5,
   "id": "56473371",
   "metadata": {},
   "outputs": [],
   "source": [
    "machine.qubits[qubit_index].lo = machine.qubits[qubit_index].f_01 + 50e6\n",
    "machine = Analysis.set_machine(machine)"
   ]
  },
  {
   "cell_type": "code",
   "execution_count": null,
   "id": "494501d8",
   "metadata": {},
   "outputs": [],
   "source": [
    "# this updates the octave settings, including rf_gain and rf_output_mode\n",
    "Experiment.octave_calibration(qubit_index,res_index,flux_index,calibration_flag = False)"
   ]
  },
  {
   "cell_type": "code",
   "execution_count": null,
   "id": "e1f14759",
   "metadata": {},
   "outputs": [],
   "source": [
    "# octave calibration\n",
    "Experiment.octave_calibration(qubit_index,res_index,flux_index,calibration_flag = True)"
   ]
  },
  {
   "cell_type": "markdown",
   "id": "40f020f9",
   "metadata": {},
   "source": [
    "## resonator switch calibration"
   ]
  },
  {
   "cell_type": "markdown",
   "id": "b25de704",
   "metadata": {},
   "source": [
    "### switch delay"
   ]
  },
  {
   "cell_type": "code",
   "execution_count": null,
   "id": "16fce17c",
   "metadata": {},
   "outputs": [],
   "source": [
    "# reduce the resonator freq, so sig is stronger\n",
    "machine.resonators[res_index].f_readout -= 2E6\n",
    "machine._save(\"quam_state.json\")"
   ]
  },
  {
   "cell_type": "code",
   "execution_count": null,
   "id": "8f270ab9",
   "metadata": {},
   "outputs": [],
   "source": [
    "%matplotlib inline\n",
    "rr_switch_delay_sweep = np.arange(70,110,1)\n",
    "machine, rr_switch_delay_sweep, sig_amp = Experiment.exp1D.RR.rr_switch_delay(rr_switch_delay_sweep, qubit_index, res_index, flux_index, \n",
    "                          n_avg = 160E3, cd_time = 20E3, simulate_flag = False, simulation_len = 500, plot_flag = True)"
   ]
  },
  {
   "cell_type": "markdown",
   "id": "a2ccc583",
   "metadata": {},
   "source": [
    "### switch buffer"
   ]
  },
  {
   "cell_type": "code",
   "execution_count": null,
   "id": "47c5c9ab",
   "metadata": {},
   "outputs": [],
   "source": [
    "%matplotlib inline\n",
    "rr_switch_buffer_sweep = np.arange(0,25 + 1,1)\n",
    "machine, rr_switch_delay_sweep, sig_amp = Experiment.exp1D.RR.rr_switch_buffer(rr_switch_buffer_sweep, qubit_index, res_index, flux_index, \n",
    "                          n_avg = 20E3, cd_time = 20E3, simulate_flag = False, simulation_len = 500, plot_flag = True)"
   ]
  },
  {
   "cell_type": "markdown",
   "id": "9a6e5328",
   "metadata": {},
   "source": [
    "## Time of flight"
   ]
  },
  {
   "cell_type": "code",
   "execution_count": null,
   "id": "36b21dc5",
   "metadata": {},
   "outputs": [],
   "source": [
    "# time_of_flight\n",
    "# experiment\n",
    "machine, adc1, adc2, adc1_single, adc2_single = Experiment.exp1D.RR.time_of_flight(qubit_index,res_index,flux_index, n_avg = 5E3, cd_time = 10E3, simulate_flag = False, simulation_len = 1000)\n",
    "# plot\n",
    "%matplotlib inline\n",
    "dc_offset_i, dc_offset_q, delay = Analysis.exp1D.time_of_flight(adc1,adc2,adc1_single,adc2_single)"
   ]
  },
  {
   "cell_type": "code",
   "execution_count": null,
   "id": "1a38781b",
   "metadata": {},
   "outputs": [],
   "source": [
    "# update the offset\n",
    "machine.global_parameters.con1_downconversion_offset_I += 0.000928\n",
    "machine.global_parameters.con1_downconversion_offset_Q += 0.00124\n",
    "#machine.global_parameters.time_of_flight = 304-0\n",
    "machine = Analysis.set_machine(machine)"
   ]
  },
  {
   "cell_type": "markdown",
   "id": "f7a6f477",
   "metadata": {},
   "source": [
    "## 1D RO resonator spectroscopy"
   ]
  },
  {
   "cell_type": "code",
   "execution_count": null,
   "id": "b9a96c35",
   "metadata": {
    "scrolled": true
   },
   "outputs": [],
   "source": [
    "%matplotlib inline\n",
    "machine = Analysis.get_machine()\n",
    "res_freq_sweep = machine.resonators[res_index].f_readout + np.arange(-10E6,10E6 + 1.0,0.05E6)\n",
    "machine, res_freq_sweep, sig_amp = Experiment.exp1D.RR.rr_freq(res_freq_sweep, qubit_index, res_index, flux_index, \n",
    "                           n_avg = 1E3, cd_time = 5E3, readout_state = 'g', simulate_flag = False, simulation_len = 1000)"
   ]
  },
  {
   "cell_type": "code",
   "execution_count": null,
   "id": "7091f476",
   "metadata": {},
   "outputs": [],
   "source": [
    "# find the minimal\n",
    "%matplotlib inline\n",
    "res_freq = Analysis.exp1D.rr_freq(res_freq_sweep, sig_amp)\n",
    "machine.resonators[res_index].f_readout = res_freq.tolist() + 0E6\n",
    "machine = Analysis.set_machine(machine)"
   ]
  },
  {
   "cell_type": "markdown",
   "id": "c23f0f9d",
   "metadata": {},
   "source": [
    "## 2D RO resonator spectroscopy vs DC flux"
   ]
  },
  {
   "cell_type": "code",
   "execution_count": null,
   "id": "3b659ab6",
   "metadata": {},
   "outputs": [],
   "source": [
    "res_freq_sweep = machine.resonators[res_index].f_readout + np.arange(-6e6, 7e6, 0.1E6)\n",
    "dc_flux_sweep = np.arange(-9,9.001,0.15)\n",
    "%matplotlib qt\n",
    "machine, res_freq_sweep, dc_flux_sweep, sig_amp = Experiment.exp2D.RR.rr_vs_dc_flux(res_freq_sweep, dc_flux_sweep, qubit_index, res_index, flux_index, \n",
    "                                plot_flag = False, n_avg = 4E3, cd_time = 10E3)"
   ]
  },
  {
   "cell_type": "code",
   "execution_count": null,
   "id": "4dac1a35",
   "metadata": {},
   "outputs": [],
   "source": [
    "%matplotlib inline\n",
    "ham_param = Analysis.exp2D.rr_vs_dc_flux(res_freq_sweep, dc_flux_sweep, sig_amp, init_guess = None)\n",
    "poly_param = Analysis.exp2D.qubit_vs_dc_flux_guess(ham_param)"
   ]
  },
  {
   "cell_type": "code",
   "execution_count": null,
   "id": "56cab19d",
   "metadata": {},
   "outputs": [],
   "source": [
    "# save the fitting parameters\n",
    "machine.resonators[res_index].tuning_curve = ham_param.tolist()\n",
    "machine.qubits[qubit_index].DC_tuning_curve = poly_param.tolist()\n",
    "machine = Analysis.set_machine(machine)"
   ]
  },
  {
   "cell_type": "code",
   "execution_count": null,
   "id": "02e0a7bc",
   "metadata": {},
   "outputs": [],
   "source": [
    "# save the sweep spot flux according to fitted parameter\n",
    "machine.flux_lines[flux_index].max_frequency_point = Analysis.get_sweept_spot(machine.qubits[qubit_index].DC_tuning_curve)\n",
    "machine = Analysis.set_machine(machine)"
   ]
  },
  {
   "cell_type": "markdown",
   "id": "7512d423",
   "metadata": {},
   "source": [
    "## 1D qubit spectroscopy @ sweep spot"
   ]
  },
  {
   "cell_type": "code",
   "execution_count": null,
   "id": "8399c75c",
   "metadata": {},
   "outputs": [],
   "source": [
    "# set to sweet spot\n",
    "machine = Experiment.set_QDAC(qubit_index,res_index,flux_index,machine.flux_lines[flux_index].max_frequency_point)"
   ]
  },
  {
   "cell_type": "code",
   "execution_count": null,
   "id": "b3048a68",
   "metadata": {},
   "outputs": [],
   "source": [
    "# calibrate RO\n",
    "%matplotlib qt\n",
    "#res_freq_sweep = np.arange(7.2575E9,7.2675E9 + 1.0,0.03E6)\n",
    "ham_param = machine.resonators[res_index].tuning_curve\n",
    "res_freq_est = Analysis.exp2D.ham([machine.flux_lines[flux_index].max_frequency_point], ham_param[0], ham_param[1], ham_param[2], ham_param[3], ham_param[4], ham_param[5], output_flag = 1) * 1E6 # to Hz\n",
    "res_freq_sweep = int(res_freq_est[0]) + np.arange(-5E6, 5E6 + 1, 0.05E6)\n",
    "machine, res_freq_sweep, sig_amp = Experiment.exp1D.RR.rr_freq(res_freq_sweep, qubit_index, res_index, flux_index, \n",
    "                       n_avg = 5E3, cd_time = 20E3, plot_flag = False, simulate_flag = False, simulation_len = 1000)\n",
    "%matplotlib inline\n",
    "res_freq = Analysis.exp1D.rr_freq(res_freq_sweep, sig_amp)\n",
    "res_freq = int(res_freq.tolist())\n",
    "machine.resonators[res_index].f_readout = res_freq + 0E6\n",
    "machine.resonators[res_index].lo = res_freq + 50E6\n",
    "machine = Analysis.set_machine(machine)"
   ]
  },
  {
   "cell_type": "code",
   "execution_count": null,
   "id": "431a87c3",
   "metadata": {},
   "outputs": [],
   "source": [
    "# calibrate octave\n",
    "Experiment.octave_calibration(qubit_index,res_index,flux_index)"
   ]
  },
  {
   "cell_type": "code",
   "execution_count": null,
   "id": "463e4ef5",
   "metadata": {},
   "outputs": [],
   "source": [
    "# for the DC flux\n",
    "qubit_freq_est = np.polyval(machine.qubits[qubit_index].DC_tuning_curve,machine.flux_lines[flux_index].max_frequency_point) * 1E6 # in Hz\n",
    "# for the fast flux\n",
    "#qubit_freq_est = np.polyval(machine.qubits[qubit_index].AC_tuning_curve,0.0) * 1E6 # in Hz\n",
    "machine.qubits[qubit_index].lo = int(qubit_freq_est.tolist()) + 50E6\n",
    "qubit_freq_sweep = int(qubit_freq_est) + np.arange(-100E6, 100E6 + 1, 2E6)\n",
    "    \n",
    "%matplotlib qt\n",
    "machine, qubit_freq_sweep, sig_amp = Experiment.exp1D.Rabi.qubit_freq(qubit_freq_sweep, qubit_index, res_index, flux_index, \n",
    "                                      pi_amp_rel = 1.0, ff_amp = 0.0, n_avg = 1E3, cd_time = 20E3, plot_flag = False, \n",
    "                                      simulate_flag = False, simulation_len = 4000)"
   ]
  },
  {
   "cell_type": "code",
   "execution_count": null,
   "id": "4831c24f",
   "metadata": {},
   "outputs": [],
   "source": [
    "%matplotlib inline\n",
    "qubit_freq = Analysis.exp1D.peak_fit(x=qubit_freq_sweep,y=sig_amp,method=\"gaussian\")\n",
    "qubit_freq = int(qubit_freq.tolist())\n",
    "machine.qubits[qubit_index].f_01 = qubit_freq + 0E6\n",
    "machine.qubits[qubit_index].lo = qubit_freq + 50E6\n",
    "machine = Analysis.set_machine(machine)"
   ]
  },
  {
   "cell_type": "code",
   "execution_count": null,
   "id": "f6106e19",
   "metadata": {},
   "outputs": [],
   "source": [
    "# calibrate octave\n",
    "Experiment.octave_calibration(qubit_index,res_index,flux_index,machine=machine,calibration_flag = True)"
   ]
  },
  {
   "cell_type": "code",
   "execution_count": null,
   "id": "8e0cc53e",
   "metadata": {},
   "outputs": [],
   "source": [
    "machine.qubits[qubit_index].f_tls[0] = machine.qubits[qubit_index].f_01 + 0E6\n",
    "machine = Analysis.set_machine(machine)"
   ]
  },
  {
   "cell_type": "markdown",
   "id": "7f73ccef",
   "metadata": {},
   "source": [
    "## Rabi"
   ]
  },
  {
   "cell_type": "markdown",
   "id": "8dc4372f",
   "metadata": {},
   "source": [
    "### time rabi"
   ]
  },
  {
   "cell_type": "code",
   "execution_count": null,
   "id": "55516ebb",
   "metadata": {},
   "outputs": [],
   "source": [
    "%matplotlib qt\n",
    "rabi_duration_sweep = np.arange(4, 40 + 0.1, 1)  # in units of clock cyles\n",
    "rabi_duration_sweep = rabi_duration_sweep.astype(int)\n",
    "machine, rabi_duration_sweep, sig_amp = Experiment.exp1D.Rabi.rabi_length(rabi_duration_sweep, qubit_index, res_index, flux_index, \n",
    "          pi_amp_rel = 1.0, n_avg = 2E3, cd_time = 20E3, plot_flag = False, machine = machine, simulate_flag = False, simulation_len = 10_000)"
   ]
  },
  {
   "cell_type": "code",
   "execution_count": null,
   "id": "c1830c11",
   "metadata": {},
   "outputs": [],
   "source": [
    "%matplotlib inline\n",
    "pi_pulse_length = Analysis.exp1D.rabi_length(rabi_duration_sweep,sig_amp,plot_flag = True)"
   ]
  },
  {
   "cell_type": "code",
   "execution_count": null,
   "id": "2ab3d637",
   "metadata": {},
   "outputs": [],
   "source": [
    "machine.qubits[qubit_index].pi_length[0] = 40\n",
    "machine = Analysis.set_machine(machine)"
   ]
  },
  {
   "cell_type": "markdown",
   "id": "cc52c092",
   "metadata": {},
   "source": [
    "### power rabi"
   ]
  },
  {
   "cell_type": "code",
   "execution_count": null,
   "id": "5ae8cbc8",
   "metadata": {},
   "outputs": [],
   "source": [
    "%matplotlib qt\n",
    "rabi_amp_sweep_rel = np.arange(0.3, 2.0, 0.05) \n",
    "machine, rabi_amp_sweep_abs, sig_amp = Experiment.exp1D.Rabi.rabi_amp(rabi_amp_sweep_rel, qubit_index, res_index, flux_index, \n",
    "                                          n_avg = 10E3, cd_time = 20E3, plot_flag = False, machine = machine)"
   ]
  },
  {
   "cell_type": "code",
   "execution_count": null,
   "id": "7b1e55c4",
   "metadata": {},
   "outputs": [],
   "source": [
    "%matplotlib inline\n",
    "pi_pulse_amp = Analysis.exp1D.rabi_length(rabi_amp_sweep_abs,sig_amp,method = \"power_rabi\", plot_flag = True)"
   ]
  },
  {
   "cell_type": "code",
   "execution_count": null,
   "id": "cec16801",
   "metadata": {},
   "outputs": [],
   "source": [
    "machine.qubits[qubit_index].pi_amp[0] = pi_pulse_amp.tolist()\n",
    "machine = Analysis.set_machine(machine)"
   ]
  },
  {
   "cell_type": "markdown",
   "id": "54c41636",
   "metadata": {},
   "source": [
    "## calibrate qubit XY line switch"
   ]
  },
  {
   "cell_type": "markdown",
   "id": "7a4b6ac4",
   "metadata": {},
   "source": [
    "### switch delay"
   ]
  },
  {
   "cell_type": "code",
   "execution_count": null,
   "id": "8be6c30a",
   "metadata": {},
   "outputs": [],
   "source": [
    "%matplotlib inline\n",
    "qubit_switch_delay_sweep = np.arange(70,110,1)\n",
    "for i in range(4):\n",
    "    machine, qubit_switch_delay_sweep, sig_amp = Experiment.exp1D.Rabi.qubit_switch_delay(qubit_switch_delay_sweep, qubit_index, res_index, flux_index, \n",
    "                              n_avg = 160E3, cd_time = 20E3, simulate_flag = False, simulation_len = 500, plot_flag = False)"
   ]
  },
  {
   "cell_type": "markdown",
   "id": "2553a70d",
   "metadata": {},
   "source": [
    "### switch buffer"
   ]
  },
  {
   "cell_type": "code",
   "execution_count": null,
   "id": "bf8959aa",
   "metadata": {},
   "outputs": [],
   "source": [
    "%matplotlib inline\n",
    "qubit_switch_buffer_sweep = np.arange(0,70 + 1,2)\n",
    "for k in range(5):\n",
    "    machine, qubit_switch_buffer_sweep, sig_amp = Experiment.exp1D.Rabi.qubit_switch_buffer(qubit_switch_buffer_sweep, qubit_index, res_index, flux_index, \n",
    "                              n_avg = 20E3, cd_time = 20E3, simulate_flag = False, simulation_len = 500, plot_flag = True)"
   ]
  },
  {
   "cell_type": "markdown",
   "id": "d6af5843",
   "metadata": {},
   "source": [
    "## T1"
   ]
  },
  {
   "cell_type": "code",
   "execution_count": null,
   "id": "a77d6f5d",
   "metadata": {},
   "outputs": [],
   "source": [
    "%matplotlib qt\n",
    "tau_sweep_abs = np.arange(100,30E3+1,400)\n",
    "machine, tau_sweep_abs, sig_amp = Experiment.exp1D.T1.qubit_T1(tau_sweep_abs, qubit_index, res_index, flux_index, \n",
    "                   n_avg = 5E3, cd_time = 80E3, simulate_flag = False, simulation_len = 15_000, plot_flag = False)"
   ]
  },
  {
   "cell_type": "code",
   "execution_count": null,
   "id": "2733b6dc",
   "metadata": {},
   "outputs": [],
   "source": [
    "%matplotlib inline\n",
    "q1_T1 = Analysis.exp1D.T1(tau_sweep_abs,sig_amp,method = \"exp\")\n",
    "machine.qubits[qubit_index].T1 = int(q1_T1.tolist())\n",
    "machine = Analysis.set_machine(machine)"
   ]
  },
  {
   "cell_type": "markdown",
   "id": "d347eddd",
   "metadata": {},
   "source": [
    "## Ramsey"
   ]
  },
  {
   "cell_type": "code",
   "execution_count": null,
   "id": "3d11310d",
   "metadata": {},
   "outputs": [],
   "source": []
  },
  {
   "cell_type": "code",
   "execution_count": null,
   "id": "d7fb7153",
   "metadata": {},
   "outputs": [],
   "source": []
  },
  {
   "cell_type": "markdown",
   "id": "ed8d29cf",
   "metadata": {},
   "source": [
    "## ef transition"
   ]
  },
  {
   "cell_type": "markdown",
   "id": "b02eb745",
   "metadata": {},
   "source": [
    "### ef frequency"
   ]
  },
  {
   "cell_type": "code",
   "execution_count": null,
   "id": "1ef197b3",
   "metadata": {},
   "outputs": [],
   "source": [
    "%matplotlib qt\n",
    "ef_freq_sweep = machine.qubits[qubit_index].f_01 + np.arange(-180E6, -100E6 + 1, 0.5E6) \n",
    "machine, ef_freq_sweep, sig_amp = Experiment.exp1D.Rabi.ef_freq(ef_freq_sweep, qubit_index, res_index, flux_index, \n",
    "                      pi_amp_rel = 1, pi_amp_rel_ef = 1.0, n_avg = 2E3, cd_time = 20E3, readout_state = 'g', plot_flag = False, \n",
    "                      simulate_flag = False, simulation_len = 4000)"
   ]
  },
  {
   "cell_type": "code",
   "execution_count": null,
   "id": "17805410",
   "metadata": {},
   "outputs": [],
   "source": [
    "%matplotlib inline\n",
    "ef_freq = Analysis.exp1D.peak_fit(x=ef_freq_sweep,y=sig_amp,method=\"gaussian\")"
   ]
  },
  {
   "cell_type": "code",
   "execution_count": null,
   "id": "e47e8184",
   "metadata": {},
   "outputs": [],
   "source": [
    "machine.qubits[qubit_index].anharmonicity = machine.qubits[qubit_index].f_01 - int(ef_freq)\n",
    "machine = Analysis.set_machine(machine)"
   ]
  },
  {
   "cell_type": "markdown",
   "id": "8f0a1612",
   "metadata": {},
   "source": [
    "### ef transition time Rabi"
   ]
  },
  {
   "cell_type": "code",
   "execution_count": null,
   "id": "c47d6997",
   "metadata": {},
   "outputs": [],
   "source": [
    "%matplotlib qt\n",
    "rabi_duration_sweep = np.arange(4, 80 + 0.1, 1)  # in units of clock cyles\n",
    "rabi_duration_sweep = rabi_duration_sweep.astype(int)\n",
    "machine, rabi_duration_sweep, sig_amp = Experiment.exp1D.Rabi.ef_rabi_length(rabi_duration_sweep, qubit_index, res_index, flux_index, \n",
    "          pi_amp_rel = 1.0, pi_amp_rel_ef = 1.0,  n_avg = 2E3, cd_time = 20E3, readout_state = 'g', plot_flag = False, machine = machine, simulate_flag = False, simulation_len = 10_000)"
   ]
  },
  {
   "cell_type": "code",
   "execution_count": null,
   "id": "628e087d",
   "metadata": {},
   "outputs": [],
   "source": [
    "%matplotlib inline\n",
    "pi_pulse_length = Analysis.exp1D.rabi_length(rabi_duration_sweep,sig_amp,plot_flag = True)"
   ]
  },
  {
   "cell_type": "code",
   "execution_count": null,
   "id": "b0d01dbe",
   "metadata": {},
   "outputs": [],
   "source": [
    "machine.qubits[qubit_index].pi_length[1] = 64\n",
    "machine = Analysis.set_machine(machine)"
   ]
  },
  {
   "cell_type": "markdown",
   "id": "80afaf56",
   "metadata": {},
   "source": [
    "### ef transition power Rabi"
   ]
  },
  {
   "cell_type": "code",
   "execution_count": null,
   "id": "f81a5391",
   "metadata": {},
   "outputs": [],
   "source": [
    "%matplotlib qt\n",
    "rabi_amp_sweep_rel = np.arange(0.2, 2.0, 0.05) \n",
    "machine, rabi_amp_sweep_abs, sig_amp = Experiment.exp1D.Rabi.ef_rabi_amp(rabi_amp_sweep_rel, qubit_index, res_index, flux_index, \n",
    "                          pi_amp_rel = 1.0, n_avg = 10E3, cd_time = 20E3, readout_state = 'g', plot_flag = False, machine = machine,\n",
    "                          simulate_flag = False, simulation_len = 1000)"
   ]
  },
  {
   "cell_type": "code",
   "execution_count": null,
   "id": "307b7fc8",
   "metadata": {},
   "outputs": [],
   "source": [
    "%matplotlib inline\n",
    "pi_pulse_amp = Analysis.exp1D.rabi_length(rabi_amp_sweep_abs,sig_amp,method = \"power_rabi\", plot_flag = True)"
   ]
  },
  {
   "cell_type": "code",
   "execution_count": null,
   "id": "73541a8a",
   "metadata": {},
   "outputs": [],
   "source": [
    "machine.qubits[qubit_index].pi_amp[1] = pi_pulse_amp\n",
    "machine = Analysis.set_machine(machine)"
   ]
  },
  {
   "cell_type": "markdown",
   "id": "022e084c",
   "metadata": {},
   "source": [
    "## residual |e> state population"
   ]
  },
  {
   "cell_type": "markdown",
   "id": "a46f137f",
   "metadata": {},
   "source": [
    "### |e> readout calibration"
   ]
  },
  {
   "cell_type": "code",
   "execution_count": null,
   "id": "15840971",
   "metadata": {},
   "outputs": [],
   "source": [
    "# calibrate RO\n",
    "%matplotlib qt\n",
    "#res_freq_sweep = np.arange(7.2575E9,7.2675E9 + 1.0,0.03E6)\n",
    "ham_param = machine.resonators[res_index].tuning_curve\n",
    "res_freq_est = Analysis.exp2D.ham([flux_index,machine.flux_lines[flux_index].max_frequency_point], ham_param[0], ham_param[1], ham_param[2], ham_param[3], ham_param[4], ham_param[5], output_flag = 1) * 1E6 # to Hz\n",
    "res_freq_sweep = int(res_freq_est[0]) + np.arange(-5E6, 5E6 + 1, 0.05E6)\n",
    "machine, res_freq_sweep, sig_amp = Experiment.exp1D.RR.rr_freq(res_freq_sweep, qubit_index, res_index, flux_index, \n",
    "                       n_avg = 10E3, cd_time = 20E3, plot_flag = False, readout_state = 'e', simulate_flag = False, simulation_len = 1000)\n",
    "%matplotlib inline\n",
    "res_freq = Analysis.exp1D.rr_freq(res_freq_sweep, sig_amp)\n",
    "res_freq = int(res_freq.tolist())\n",
    "machine.resonators[res_index].f_readout = res_freq + 0E6\n",
    "machine.resonators[res_index].lo = res_freq + 50E6\n",
    "machine = Analysis.set_machine(machine)"
   ]
  },
  {
   "cell_type": "code",
   "execution_count": null,
   "id": "aaf845a5",
   "metadata": {},
   "outputs": [],
   "source": [
    "# calibrate octave\n",
    "Experiment.octave_calibration(qubit_index,res_index,flux_index,machine=machine)"
   ]
  },
  {
   "cell_type": "markdown",
   "id": "0da17159",
   "metadata": {},
   "source": [
    "### A_ref"
   ]
  },
  {
   "cell_type": "code",
   "execution_count": null,
   "id": "f6f2c6c0",
   "metadata": {},
   "outputs": [],
   "source": [
    "%matplotlib qt\n",
    "#rabi_duration_sweep = np.arange(4, 80 + 0.1, 2)  # in units of clock cyles\n",
    "rabi_duration_sweep = np.array([80/4, 160/4])  \n",
    "rabi_duration_sweep = rabi_duration_sweep.astype(int)\n",
    "machine, rabi_duration_sweep, sig_amp = Experiment.exp1D.Rabi.ef_rabi_length(rabi_duration_sweep, qubit_index, res_index, flux_index, \n",
    "          pi_amp_rel = 1.0, pi_amp_rel_ef = 1.0,  n_avg = 1E7, cd_time = 20E3, readout_state = 'e', plot_flag = False, machine = machine, simulate_flag = False, simulation_len = 10_000)"
   ]
  },
  {
   "cell_type": "markdown",
   "id": "f40a4b8b",
   "metadata": {},
   "source": [
    "### A_sig"
   ]
  },
  {
   "cell_type": "code",
   "execution_count": null,
   "id": "cb0e0444",
   "metadata": {},
   "outputs": [],
   "source": [
    "%matplotlib qt\n",
    "#rabi_duration_sweep = np.arange(4, 80 + 0.1, 2)  # in units of clock cyles\n",
    "rabi_duration_sweep = np.array([80/4, 160/4])  \n",
    "rabi_duration_sweep = rabi_duration_sweep.astype(int)\n",
    "machine, rabi_duration_sweep_thermal, sig_amp_thermal = Experiment.exp1D.Rabi.ef_rabi_length_thermal(rabi_duration_sweep, qubit_index, res_index, flux_index, \n",
    "          pi_amp_rel = 1.0, pi_amp_rel_ef = 0.0,  n_avg = 1E7, cd_time = 20E3, readout_state = 'e', plot_flag = False, machine = machine, \n",
    "          simulate_flag = False, simulation_len = 10_000)"
   ]
  },
  {
   "cell_type": "markdown",
   "id": "07e3862d",
   "metadata": {},
   "source": [
    "## 2D qubit spectroscopy vs dc flux"
   ]
  },
  {
   "cell_type": "code",
   "execution_count": null,
   "id": "15755e8f",
   "metadata": {},
   "outputs": [],
   "source": [
    "# try the experiment\n",
    "%matplotlib inline\n",
    "dc_flux_sweep = machine.flux_lines[flux_index].max_frequency_point + np.arange(-0.55,0.55+1E-4,0.05)\n",
    "_,qubit_freq_sweep,dc_flux_sweep,sig_amp_qubit = Experiment.exp2D.Rabi.qubit_freq_vs_dc_flux(dc_flux_sweep,qubit_index,res_index,flux_index,\n",
    "                                 n_avg = 5E3, cd_time = 18E3, pi_amp_rel = 1.0, plot_flag = True)"
   ]
  },
  {
   "cell_type": "code",
   "execution_count": null,
   "id": "c50d8fa7",
   "metadata": {},
   "outputs": [],
   "source": [
    "# udpate the sweet spot\n",
    "%matplotlib inline\n",
    "poly_param = Analysis.exp2D.qubit_vs_dc_flux(qubit_freq_sweep, dc_flux_sweep, sig_amp_qubit, fit_order = 2, plot_flag = False)\n",
    "machine.flux_lines[flux_index].max_frequency_point = Analysis.get_sweept_spot(poly_param).tolist() + 0E1\n",
    "print(f\"sweet spot flux: {machine.flux_lines[flux_index].max_frequency_point:.5f} V\")"
   ]
  },
  {
   "cell_type": "code",
   "execution_count": null,
   "id": "68b35bb7",
   "metadata": {},
   "outputs": [],
   "source": [
    "# save the sweep spot flux according to fitted parameter\n",
    "poly_param = Analysis.exp2D.qubit_vs_dc_flux(qubit_freq_sweep, dc_flux_sweep, sig_amp_qubit, fit_order = 4, plot_flag = True)\n",
    "machine.qubits[qubit_index].DC_tuning_curve = poly_param.tolist()\n",
    "machine = Analysis.set_machine(machine)\n",
    "Analysis.update_analysis_tuning_curve(qubit_index,res_index,flux_index)"
   ]
  },
  {
   "cell_type": "markdown",
   "id": "8164027c",
   "metadata": {},
   "source": [
    "## 2D qubit spectroscopy vs fast flux"
   ]
  },
  {
   "cell_type": "code",
   "execution_count": 6,
   "id": "1afc5b22",
   "metadata": {},
   "outputs": [],
   "source": [
    "# set DC voltage to sweet spot, after possible dc flux sweep\n",
    "machine = Experiment.set_QDAC(qubit_index,res_index,flux_index,machine.flux_lines[flux_index].max_frequency_point)\n",
    "machine = Analysis.set_machine(machine)"
   ]
  },
  {
   "cell_type": "markdown",
   "id": "6df0cfbd",
   "metadata": {},
   "source": [
    "### slow version, to find the initial fast flux tuning curve"
   ]
  },
  {
   "cell_type": "code",
   "execution_count": 11,
   "id": "46942f20",
   "metadata": {
    "scrolled": true
   },
   "outputs": [
    {
     "name": "stdout",
     "output_type": "stream",
     "text": [
      "Progress: [#######                                           ] 14.3% (n=1/7) --> elapsed time: 0.00s\r",
      "2023-12-16 19:41:09,274 - qm - INFO     - Performing health check\n"
     ]
    },
    {
     "name": "stderr",
     "output_type": "stream",
     "text": [
      "INFO:qm.api.frontend_api:Performing health check\n"
     ]
    },
    {
     "name": "stdout",
     "output_type": "stream",
     "text": [
      "2023-12-16 19:41:09,285 - qm - INFO     - Health check passed\n"
     ]
    },
    {
     "name": "stderr",
     "output_type": "stream",
     "text": [
      "INFO:qm.api.frontend_api:Health check passed\n"
     ]
    },
    {
     "name": "stdout",
     "output_type": "stream",
     "text": [
      "------------------------------------- Calibrates q2 for (LO, IF) = (5.791 GHz, 290.000 MHz)\n",
      "2023-12-16 19:41:13,651 - qm - INFO     - Compiling program\n"
     ]
    },
    {
     "name": "stderr",
     "output_type": "stream",
     "text": [
      "INFO:qm.QuantumMachine:Compiling program\n"
     ]
    },
    {
     "name": "stdout",
     "output_type": "stream",
     "text": [
      "2023-12-16 19:41:47,372 - qm - INFO     - Performing health check.4% (n=5/7) --> elapsed time: 38.08s\n"
     ]
    },
    {
     "name": "stderr",
     "output_type": "stream",
     "text": [
      "INFO:qm.api.frontend_api:Performing health check\n"
     ]
    },
    {
     "name": "stdout",
     "output_type": "stream",
     "text": [
      "2023-12-16 19:41:47,384 - qm - INFO     - Health check passed\n"
     ]
    },
    {
     "name": "stderr",
     "output_type": "stream",
     "text": [
      "INFO:qm.api.frontend_api:Health check passed\n"
     ]
    },
    {
     "name": "stdout",
     "output_type": "stream",
     "text": [
      "------------------------------------- Calibrates q2 for (LO, IF) = (5.532 GHz, 290.000 MHz)\n",
      "2023-12-16 19:41:52,716 - qm - INFO     - Compiling program\n"
     ]
    },
    {
     "name": "stderr",
     "output_type": "stream",
     "text": [
      "INFO:qm.QuantumMachine:Compiling program\n"
     ]
    },
    {
     "name": "stdout",
     "output_type": "stream",
     "text": [
      "Progress: [##################################################] 100.0% (n=7/7) --> elapsed time: 68.42s\n",
      "2023-12-16 19:42:17,695 - qm - INFO     - Performing health check\n"
     ]
    },
    {
     "name": "stderr",
     "output_type": "stream",
     "text": [
      "INFO:qm.api.frontend_api:Performing health check\n"
     ]
    },
    {
     "name": "stdout",
     "output_type": "stream",
     "text": [
      "2023-12-16 19:42:17,706 - qm - INFO     - Health check passed\n"
     ]
    },
    {
     "name": "stderr",
     "output_type": "stream",
     "text": [
      "INFO:qm.api.frontend_api:Health check passed\n"
     ]
    },
    {
     "name": "stdout",
     "output_type": "stream",
     "text": [
      "------------------------------------- Calibrates q2 for (LO, IF) = (5.206 GHz, 290.000 MHz)\n",
      "2023-12-16 19:42:22,578 - qm - INFO     - Compiling program\n"
     ]
    },
    {
     "name": "stderr",
     "output_type": "stream",
     "text": [
      "INFO:qm.QuantumMachine:Compiling program\n"
     ]
    },
    {
     "data": {
      "image/png": "[encoded data removed]",
      "text/plain": [
       "<Figure size 800x400 with 2 Axes>"
      ]
     },
     "metadata": {},
     "output_type": "display_data"
    }
   ],
   "source": [
    "# try the experiment\n",
    "%matplotlib inline\n",
    "#ff_sweep = np.arange(-0.02,-0.28-1E-4,-0.02)\n",
    "ff_sweep = np.arange(0,0.3+1E-4,0.05)\n",
    "qubit_if_sweep = np.arange(-60E6, 60E6 + 1, 1E6)\n",
    "machine,qubit_freq_sweep,ff_sweep_abs,sig_amp_qubit = Experiment.exp2D.Rabi.qubit_freq_vs_fast_flux_slow(ff_sweep,qubit_if_sweep,\n",
    "          qubit_index,res_index,flux_index,ff_to_dc_ratio = None, machine = machine, n_avg = 1E3, cd_time = 20E3, pi_amp_rel = 1.0, plot_flag = True)"
   ]
  },
  {
   "cell_type": "code",
   "execution_count": 12,
   "id": "1238a708",
   "metadata": {},
   "outputs": [
    {
     "data": {
      "image/png": "[encoded data removed]",
      "text/plain": [
       "<Figure size 800x400 with 1 Axes>"
      ]
     },
     "metadata": {},
     "output_type": "display_data"
    }
   ],
   "source": [
    "# save the fitted tuning curve\n",
    "%matplotlib inline\n",
    "poly_param = Analysis.exp2D.qubit_vs_fast_flux(qubit_freq_sweep, ff_sweep_abs, sig_amp_qubit, fit_order = 4, plot_flag = True)\n",
    "machine.qubits[qubit_index].AC_tuning_curve = poly_param.tolist()\n",
    "machine = Analysis.set_machine(machine)\n",
    "Analysis.update_analysis_tuning_curve(qubit_index,res_index,flux_index)"
   ]
  },
  {
   "cell_type": "markdown",
   "id": "aca48e4e",
   "metadata": {},
   "source": [
    "### fast version, runs blockwise 2D sweeps"
   ]
  },
  {
   "cell_type": "code",
   "execution_count": 13,
   "id": "72d896d5",
   "metadata": {},
   "outputs": [
    {
     "ename": "AttributeError",
     "evalue": "'Qubit' object has no attribute 'tuning_curve'",
     "output_type": "error",
     "traceback": [
      "\u001b[1;31m---------------------------------------------------------------------------\u001b[0m",
      "\u001b[1;31mAttributeError\u001b[0m                            Traceback (most recent call last)",
      "Cell \u001b[1;32mIn[13], line 2\u001b[0m\n\u001b[0;32m      1\u001b[0m get_ipython()\u001b[38;5;241m.\u001b[39mrun_line_magic(\u001b[38;5;124m'\u001b[39m\u001b[38;5;124mmatplotlib\u001b[39m\u001b[38;5;124m'\u001b[39m, \u001b[38;5;124m'\u001b[39m\u001b[38;5;124minline\u001b[39m\u001b[38;5;124m'\u001b[39m)\n\u001b[1;32m----> 2\u001b[0m q_freq_max \u001b[38;5;241m=\u001b[39m np\u001b[38;5;241m.\u001b[39mfloor(np\u001b[38;5;241m.\u001b[39mpolyval(\u001b[43mmachine\u001b[49m\u001b[38;5;241;43m.\u001b[39;49m\u001b[43mqubits\u001b[49m\u001b[43m[\u001b[49m\u001b[43mqubit_index\u001b[49m\u001b[43m]\u001b[49m\u001b[38;5;241;43m.\u001b[39;49m\u001b[43mtuning_curve\u001b[49m, \u001b[38;5;241m0.0\u001b[39m) \u001b[38;5;241m*\u001b[39m \u001b[38;5;241m1E6\u001b[39m)\n\u001b[0;32m      3\u001b[0m qubit_freq_sweep \u001b[38;5;241m=\u001b[39m np\u001b[38;5;241m.\u001b[39marange(q_freq_max, \u001b[38;5;241m4.0E9\u001b[39m, \u001b[38;5;241m-\u001b[39m\u001b[38;5;241m4E6\u001b[39m)\n\u001b[0;32m      4\u001b[0m \u001b[38;5;66;03m#qubit_freq_sweep = np.arange(5.55E9,4.0E9,-4E6)\u001b[39;00m\n",
      "File \u001b[1;32m~\\.conda\\envs\\labber-qm-env\\lib\\site-packages\\quam_sdk\\classes.py:619\u001b[0m, in \u001b[0;36mQuamComponent.__getattribute__\u001b[1;34m(self, var_name)\u001b[0m\n\u001b[0;32m    617\u001b[0m     \u001b[38;5;28;01mreturn\u001b[39;00m \u001b[38;5;28mobject\u001b[39m\u001b[38;5;241m.\u001b[39m\u001b[38;5;21m__getattribute__\u001b[39m(\u001b[38;5;28mself\u001b[39m, var_name)\n\u001b[0;32m    618\u001b[0m \u001b[38;5;28;01melif\u001b[39;00m var_name \u001b[38;5;129;01mnot\u001b[39;00m \u001b[38;5;129;01min\u001b[39;00m get_type_hints(\u001b[38;5;28mself\u001b[39m\u001b[38;5;241m.\u001b[39m\u001b[38;5;18m__class__\u001b[39m):\n\u001b[1;32m--> 619\u001b[0m     \u001b[38;5;28;01mreturn\u001b[39;00m \u001b[38;5;28;43mobject\u001b[39;49m\u001b[38;5;241;43m.\u001b[39;49m\u001b[38;5;21;43m__getattribute__\u001b[39;49m\u001b[43m(\u001b[49m\u001b[38;5;28;43mself\u001b[39;49m\u001b[43m,\u001b[49m\u001b[43m \u001b[49m\u001b[43mvar_name\u001b[49m\u001b[43m)\u001b[49m\n\u001b[0;32m    620\u001b[0m \u001b[38;5;28;01melif\u001b[39;00m get_type_hints(\u001b[38;5;28mself\u001b[39m\u001b[38;5;241m.\u001b[39m\u001b[38;5;18m__class__\u001b[39m)[var_name] \u001b[38;5;129;01min\u001b[39;00m [\n\u001b[0;32m    621\u001b[0m     \u001b[38;5;28mint\u001b[39m,\n\u001b[0;32m    622\u001b[0m     \u001b[38;5;28mstr\u001b[39m,\n\u001b[1;32m   (...)\u001b[0m\n\u001b[0;32m    625\u001b[0m     List[Union[\u001b[38;5;28mstr\u001b[39m, \u001b[38;5;28mint\u001b[39m, \u001b[38;5;28mfloat\u001b[39m, \u001b[38;5;28mbool\u001b[39m, \u001b[38;5;28mlist\u001b[39m]],\n\u001b[0;32m    626\u001b[0m ]:\n\u001b[0;32m    627\u001b[0m     \u001b[38;5;28;01mif\u001b[39;00m \u001b[38;5;28mself\u001b[39m\u001b[38;5;241m.\u001b[39m_quam\u001b[38;5;241m.\u001b[39m_record_updates:\n",
      "\u001b[1;31mAttributeError\u001b[0m: 'Qubit' object has no attribute 'tuning_curve'"
     ]
    }
   ],
   "source": [
    "%matplotlib inline\n",
    "q_freq_max = np.floor(np.polyval(machine.qubits[qubit_index].tuning_curve, 0.0) * 1E6)\n",
    "qubit_freq_sweep = np.arange(q_freq_max, 4.0E9, -4E6)\n",
    "#qubit_freq_sweep = np.arange(5.55E9,4.0E9,-4E6)\n",
    "qubit_if_sweep = np.arange(-60E6, 60E6 + 1, 0.5E6)\n",
    "machine,qubit_freq_sweep,ff_sweep_abs,sig_amp_qubit = Experiment.exp2D.Rabi.qubit_freq_vs_fast_flux(qubit_freq_sweep,qubit_if_sweep,\n",
    "          qubit_index,res_index,flux_index, n_avg = 2E3, cd_time = 20E3, pi_amp_rel = 1.0, plot_flag = False)"
   ]
  },
  {
   "cell_type": "code",
   "execution_count": null,
   "id": "f2577e29",
   "metadata": {},
   "outputs": [],
   "source": [
    "# save the fitted tuning curve\n",
    "%matplotlib inline\n",
    "poly_param = Analysis.exp2D.qubit_vs_fast_flux(qubit_freq_sweep, ff_sweep_abs, sig_amp_qubit, fit_order = 4, plot_flag = True)\n",
    "machine.qubits[qubit_index].tuning_curve = poly_param.tolist()\n",
    "machine = Analysis.set_machine(machine)\n",
    "Analysis.update_analysis_tuning_curve(qubit_index,res_index,flux_index)"
   ]
  },
  {
   "cell_type": "markdown",
   "id": "27a943af",
   "metadata": {},
   "source": [
    "# TLS experiments"
   ]
  },
  {
   "cell_type": "markdown",
   "id": "38b715fc",
   "metadata": {},
   "source": [
    "## TLS SWAP spectroscopy"
   ]
  },
  {
   "cell_type": "code",
   "execution_count": null,
   "id": "45b5c4e7",
   "metadata": {},
   "outputs": [],
   "source": [
    "machine = Analysis.get_machine()\n",
    "Experiment.octave_calibration(qubit_index,res_index,flux_index,calibration_flag = True, machine = machine)"
   ]
  },
  {
   "cell_type": "markdown",
   "id": "92c7acfa",
   "metadata": {},
   "source": [
    "### coarse, no baking"
   ]
  },
  {
   "cell_type": "code",
   "execution_count": null,
   "id": "00622ab7",
   "metadata": {},
   "outputs": [],
   "source": [
    "%matplotlib qt\n",
    "tau_sweep_abs = np.arange(16,200,4)\n",
    "ff_sweep_abs = np.arange(0.33,0.35,0.001)\n",
    "machine, ff_sweep_abs, tau_sweep_abs, sig_amp = Experiment.exp2D.SWAP.swap_coarse(tau_sweep_abs, ff_sweep_abs, qubit_index, res_index, flux_index, \n",
    "                      n_avg = 4E3, cd_time = 20E3, simulate_flag=False, simulation_len=10_000, plot_flag=True, machine = machine)"
   ]
  },
  {
   "cell_type": "markdown",
   "id": "a4c4c8a6",
   "metadata": {},
   "source": [
    "### fine, with baking"
   ]
  },
  {
   "cell_type": "code",
   "execution_count": null,
   "id": "9006ca81",
   "metadata": {},
   "outputs": [],
   "source": [
    "%matplotlib qt\n",
    "tau_sweep_abs = np.arange(4,80,1)\n",
    "ff_sweep_abs = np.arange(0.425,0.44,0.001)\n",
    "machine, ff_sweep_abs, tau_sweep_abs, sig_amp = Experiment.exp2D.SWAP.swap_fine(tau_sweep_abs, ff_sweep_abs, qubit_index, res_index, flux_index, \n",
    "                      n_avg = 4E3, cd_time = 20E3, simulate_flag=False, simulation_len=10_000, plot_flag=True, machine = machine)"
   ]
  },
  {
   "cell_type": "code",
   "execution_count": null,
   "id": "f0e9554e",
   "metadata": {},
   "outputs": [],
   "source": [
    "machine.flux_lines[flux_index].iswap.length.append(25)\n",
    "machine.flux_lines[flux_index].iswap.level.append(0.434)\n",
    "machine = Analysis.set_machine(machine)"
   ]
  },
  {
   "cell_type": "markdown",
   "id": "e16067f7",
   "metadata": {},
   "source": [
    "## TLS T1"
   ]
  },
  {
   "cell_type": "code",
   "execution_count": null,
   "id": "4fbf6aef",
   "metadata": {},
   "outputs": [],
   "source": [
    "TLS_index = 1"
   ]
  },
  {
   "cell_type": "code",
   "execution_count": null,
   "id": "3c85f9be",
   "metadata": {},
   "outputs": [],
   "source": [
    "%matplotlib qt\n",
    "tau_sweep_abs = np.arange(200,800E3+1,20E3)\n",
    "machine, tau_sweep_abs, sig_amp = Experiment.exp1D.T1.TLS_T1(tau_sweep_abs, qubit_index, res_index, flux_index, TLS_index,\n",
    "                   n_avg = 2E3, cd_time = 1000E3, simulate_flag = False, simulation_len = 15_000, plot_flag = True)"
   ]
  },
  {
   "cell_type": "code",
   "execution_count": null,
   "id": "d90ed2c5",
   "metadata": {},
   "outputs": [],
   "source": [
    "%matplotlib inline\n",
    "tls_T1 = Analysis.exp1D.T1(tau_sweep_abs,sig_amp,method = \"exp\")"
   ]
  },
  {
   "cell_type": "markdown",
   "id": "f56bc3e8",
   "metadata": {},
   "source": [
    "## TLS drive"
   ]
  },
  {
   "cell_type": "markdown",
   "id": "3f619835",
   "metadata": {},
   "source": [
    "### TLS spectroscopy"
   ]
  },
  {
   "cell_type": "code",
   "execution_count": null,
   "id": "e934b25b",
   "metadata": {},
   "outputs": [],
   "source": [
    "# TLS freq estimate based on SWAP flux amplitude\n",
    "TLS_freq_est = np.polyval(machine.qubits[qubit_index].tuning_curve,machine.flux_lines[flux_index].iswap.level)\n",
    "TLS_freq_est = np.round(TLS_freq_est[0] * 1E6)\n",
    "machine.qubits[qubit_index].f_tls[TLS_index+1] = (int(TLS_freq_est.tolist()))\n",
    "machine.qubits[qubit_index].lo = int(TLS_freq_est.tolist()) - 200E6"
   ]
  },
  {
   "cell_type": "code",
   "execution_count": null,
   "id": "6d802060",
   "metadata": {},
   "outputs": [],
   "source": [
    "# save the current qubit to the f_tls[0]\n",
    "machine.qubits[qubit_index].f_tls[0] = machine.qubits[qubit_index].f_01\n",
    "# set the \"qubit frequency\"\n",
    "machine.qubits[qubit_index].f_01 = machine.qubits[qubit_index].f_tls[TLS_index+1]"
   ]
  },
  {
   "cell_type": "code",
   "execution_count": null,
   "id": "c801b7a4",
   "metadata": {},
   "outputs": [],
   "source": [
    "# calibrate octave for TLS sweep\n",
    "Experiment.octave_calibration(qubit_index,res_index,flux_index,machine = machine,calibration_flag = True)"
   ]
  },
  {
   "cell_type": "code",
   "execution_count": null,
   "id": "a10a09b8",
   "metadata": {},
   "outputs": [],
   "source": [
    "%matplotlib qt\n",
    "TLS_freq_sweep = TLS_freq_est + np.arange(-70E6,70E6+1,1.0E6)\n",
    "machine, TLS_freq_sweep, sig_amp = Experiment.exp1D.Rabi.TLS_freq(TLS_freq_sweep, qubit_index, res_index, flux_index, TLS_index,\n",
    "                  pi_amp_rel = 1.0, n_avg = 2E3, cd_time_qubit = 20E3, cd_time_TLS = 20E3, simulate_flag = False, simulation_len = 10_000, plot_flag = True, machine = machine)"
   ]
  },
  {
   "cell_type": "code",
   "execution_count": null,
   "id": "8288b6fb",
   "metadata": {
    "scrolled": true
   },
   "outputs": [],
   "source": [
    "%matplotlib inline\n",
    "qubit_freq = Analysis.exp1D.peak_fit(x=TLS_freq_sweep,y=sig_amp,method=\"gaussian\")\n",
    "qubit_freq = int(qubit_freq.tolist())\n",
    "machine.qubits[qubit_index].f_tls[TLS_index+1] = qubit_freq + 0E6\n",
    "machine.qubits[qubit_index].lo = qubit_freq - 200E6\n",
    "machine = Analysis.set_machine(machine)"
   ]
  },
  {
   "cell_type": "markdown",
   "id": "8dea7ec4",
   "metadata": {},
   "source": [
    "### TLS rabi"
   ]
  },
  {
   "cell_type": "code",
   "execution_count": null,
   "id": "8f115680",
   "metadata": {},
   "outputs": [],
   "source": [
    "# save the current qubit to the f_tls[0]\n",
    "machine.qubits[qubit_index].f_tls[0] = machine.qubits[qubit_index].f_01\n",
    "# set the \"qubit frequency\"\n",
    "machine.qubits[qubit_index].f_01 = machine.qubits[qubit_index].f_tls[TLS_index+1]"
   ]
  },
  {
   "cell_type": "code",
   "execution_count": null,
   "id": "6fdb039f",
   "metadata": {},
   "outputs": [],
   "source": [
    "%matplotlib qt\n",
    "rabi_duration_sweep = np.arange(4, 300 + 0.1, 4)  # in units of clock cyles\n",
    "machine, rabi_duration_sweep, sig_amp = Experiment.exp1D.Rabi.TLS_rabi_length(rabi_duration_sweep, qubit_index, res_index, flux_index, TLS_index,\n",
    "                  pi_amp_rel = 1.0, n_avg = 10E3, cd_time_qubit = 20E3, cd_time_TLS = 20E3, simulate_flag = False, simulation_len = 10_000, plot_flag = True, machine = machine)"
   ]
  },
  {
   "cell_type": "markdown",
   "id": "59e91fe9",
   "metadata": {},
   "source": [
    "## TLS drive debug"
   ]
  },
  {
   "cell_type": "markdown",
   "id": "9d985318",
   "metadata": {},
   "source": [
    "### 1D SWAP"
   ]
  },
  {
   "cell_type": "code",
   "execution_count": null,
   "id": "8e456d8c",
   "metadata": {},
   "outputs": [],
   "source": [
    "%matplotlib qt\n",
    "tau_sweep_abs = np.arange(16,300,4)\n",
    "machine, tau_sweep_abs, sig_amp = Experiment.exp1D.SWAP.swap_coarse(tau_sweep_abs, qubit_index, res_index, flux_index, TLS_index, \n",
    "                n_avg = 4E3, cd_time = 20E3, simulate_flag=False, simulation_len=1000, plot_flag=True, machine = machine)"
   ]
  },
  {
   "cell_type": "markdown",
   "id": "c6f94d71",
   "metadata": {},
   "source": [
    "### qubit Rabi-SWAP"
   ]
  },
  {
   "cell_type": "code",
   "execution_count": null,
   "id": "b82014b1",
   "metadata": {},
   "outputs": [],
   "source": [
    "%matplotlib qt\n",
    "rabi_duration_sweep = np.arange(4, 80 + 0.1, 2)  # in units of clock cyles\n",
    "rabi_duration_sweep = rabi_duration_sweep.astype(int)\n",
    "machine, rabi_duration_sweep, sig_amp = Experiment.exp1D.SWAP.rabi_SWAP(rabi_duration_sweep, qubit_index, res_index, flux_index, TLS_index,  \n",
    "          pi_amp_rel = 1.0, n_avg = 4E3, cd_time = 20E3, plot_flag = True, machine = machine, simulate_flag = False, simulation_len = 10_000)"
   ]
  },
  {
   "cell_type": "markdown",
   "id": "f6f5d9ec",
   "metadata": {},
   "source": [
    "### SWAP-Rabi"
   ]
  },
  {
   "cell_type": "code",
   "execution_count": null,
   "id": "18beabcf",
   "metadata": {},
   "outputs": [],
   "source": [
    "%matplotlib qt\n",
    "rabi_duration_sweep = np.arange(4, 80 + 0.1, 2)  # in units of clock cyles\n",
    "rabi_duration_sweep = rabi_duration_sweep.astype(int)\n",
    "machine, rabi_duration_sweep, sig_amp = Experiment.exp1D.SWAP.SWAP_rabi(rabi_duration_sweep, qubit_index, res_index, flux_index, TLS_index,  \n",
    "          pi_amp_rel = 1.0, n_avg = 4E3, cd_time = 20E3, plot_flag = True, machine = machine, simulate_flag = False, simulation_len = 10_000)"
   ]
  },
  {
   "cell_type": "markdown",
   "id": "a398d269",
   "metadata": {},
   "source": [
    "### Rabi-SWAP-SWAP"
   ]
  },
  {
   "cell_type": "code",
   "execution_count": null,
   "id": "c3ead3c9",
   "metadata": {},
   "outputs": [],
   "source": [
    "%matplotlib qt\n",
    "rabi_duration_sweep = np.arange(4, 80 + 0.1, 2)  # in units of clock cyles\n",
    "rabi_duration_sweep = rabi_duration_sweep.astype(int)\n",
    "machine, rabi_duration_sweep, sig_amp = Experiment.exp1D.SWAP.rabi_SWAP2(rabi_duration_sweep, qubit_index, res_index, flux_index, TLS_index,  \n",
    "          pi_amp_rel = 1.0, n_avg = 4E3, cd_time = 10E3, plot_flag = True, machine = machine, simulate_flag = False, simulation_len = 10_000)"
   ]
  },
  {
   "cell_type": "code",
   "execution_count": null,
   "id": "c14fe89d",
   "metadata": {},
   "outputs": [],
   "source": []
  },
  {
   "cell_type": "code",
   "execution_count": null,
   "id": "0cb677b2",
   "metadata": {},
   "outputs": [],
   "source": []
  },
  {
   "cell_type": "code",
   "execution_count": null,
   "id": "07ea4442",
   "metadata": {},
   "outputs": [],
   "source": []
  }
 ],
 "metadata": {
  "kernelspec": {
   "display_name": "Python 3 (ipykernel)",
   "language": "python",
   "name": "python3"
  },
  "language_info": {
   "codemirror_mode": {
    "name": "ipython",
    "version": 3
   },
   "file_extension": ".py",
   "mimetype": "text/x-python",
   "name": "python",
   "nbconvert_exporter": "python",
   "pygments_lexer": "ipython3",
   "version": "3.8.17"
  }
 },
 "nbformat": 4,
 "nbformat_minor": 5
}
