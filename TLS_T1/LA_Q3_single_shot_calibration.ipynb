{
 "cells": [
  {
   "cell_type": "markdown",
   "id": "a4840294",
   "metadata": {},
   "source": [
    "### Single-Shot Readout Calibration for LA Q3"
   ]
  },
  {
   "cell_type": "markdown",
   "id": "692d00ed",
   "metadata": {},
   "source": [
    "### Using Experiment and Analysis Class, make sure to update qubit #"
   ]
  },
  {
   "cell_type": "code",
   "execution_count": 1,
   "id": "e1662d07",
   "metadata": {},
   "outputs": [
    {
     "name": "stdout",
     "output_type": "stream",
     "text": [
      "2024-03-21 11:04:50,967 - qm - INFO     - Starting session: 166e2903-1f8a-4d51-a89b-30045923a02e\n"
     ]
    }
   ],
   "source": [
    "from qm.qua import *\n",
    "from qm import QuantumMachinesManager, SimulationConfig, LoopbackInterface, generate_qua_script\n",
    "from qm.octave import *\n",
    "from qm.octave.octave_manager import ClockMode\n",
    "from configuration import *\n",
    "from scipy import signal\n",
    "from qualang_tools.bakery import baking\n",
    "from qualang_tools.units import unit\n",
    "from qm.octave import QmOctaveConfig\n",
    "from set_octave import ElementsSettings, octave_settings\n",
    "from quam import QuAM\n",
    "from scipy.io import savemat, loadmat\n",
    "from scipy.optimize import curve_fit\n",
    "from scipy.signal import savgol_filter\n",
    "from qutip import *\n",
    "from typing import Union\n",
    "from macros import *\n",
    "import datetime \n",
    "import os\n",
    "import time\n",
    "import warnings\n",
    "import json\n",
    "import matplotlib.pyplot as plt\n",
    "import numpy as np\n",
    "import Labber\n",
    "\n",
    "from ExperimentClass import ExperimentHandle\n",
    "from AnalysisClass import AnalysisHandle\n",
    "\n",
    "warnings.filterwarnings(\"ignore\")\n",
    "\n",
    "qubit_index = 6 # for LA Q3\n",
    "res_index = 6 # for LA Q3\n",
    "flux_index = 6 # for LA Q3\n",
    "TLS_index = 1 # for TLS of interest"
   ]
  },
  {
   "cell_type": "code",
   "execution_count": 2,
   "id": "d9c45e83",
   "metadata": {},
   "outputs": [],
   "source": [
    "Experiment = ExperimentHandle()\n",
    "Analysis = AnalysisHandle()\n",
    "machine = Analysis.get_machine()"
   ]
  },
  {
   "cell_type": "code",
   "execution_count": 3,
   "id": "8447b8fe",
   "metadata": {},
   "outputs": [],
   "source": [
    "# initialize Labber-controlled hardware\n",
    "Experiment.set_Labber(Analysis.get_machine(), qubit_index, res_index, flux_index)\n",
    "# set to sweet spot\n",
    "machine = Experiment.set_QDAC(qubit_index,res_index,flux_index,machine.flux_lines[flux_index].max_frequency_point)\n",
    "# set octave to external clock\n",
    "#Experiment.set_external_clock()"
   ]
  },
  {
   "cell_type": "code",
   "execution_count": 4,
   "id": "0274806a",
   "metadata": {},
   "outputs": [],
   "source": [
    "# Set the qubit freq, in case I was working with something else\n",
    "machine.qubits[qubit_index].f_01 = machine.qubits[qubit_index].f_tls[0] + 0E6\n",
    "machine.qubits[qubit_index].lo = machine.qubits[qubit_index].f_01 + 50E6\n",
    "machine = Analysis.set_machine(machine)"
   ]
  },
  {
   "cell_type": "code",
   "execution_count": 5,
   "id": "8595c7d5",
   "metadata": {},
   "outputs": [
    {
     "name": "stdout",
     "output_type": "stream",
     "text": [
      "2024-03-21 11:04:59,216 - qm - INFO     - Octave \"octave1\" Health check passed, current temperature 57\n"
     ]
    },
    {
     "name": "stderr",
     "output_type": "stream",
     "text": [
      "INFO:qm:Octave \"octave1\" Health check passed, current temperature 57\n"
     ]
    },
    {
     "name": "stdout",
     "output_type": "stream",
     "text": [
      "2024-03-21 11:04:59,219 - qm - INFO     - Performing health check\n"
     ]
    },
    {
     "name": "stderr",
     "output_type": "stream",
     "text": [
      "INFO:qm.api.frontend_api:Performing health check\n"
     ]
    },
    {
     "name": "stdout",
     "output_type": "stream",
     "text": [
      "2024-03-21 11:04:59,243 - qm - INFO     - Health check passed\n"
     ]
    },
    {
     "name": "stderr",
     "output_type": "stream",
     "text": [
      "INFO:qm.api.frontend_api:Health check passed\n"
     ]
    },
    {
     "name": "stdout",
     "output_type": "stream",
     "text": [
      "------------------------------------- Calibrates r6 for (LO, IF) = (6.071 GHz, -50.000 MHz)\n",
      "2024-03-21 11:05:07,132 - qm - INFO     - Compiling program\n"
     ]
    },
    {
     "name": "stderr",
     "output_type": "stream",
     "text": [
      "INFO:qm.QuantumMachine:Compiling program\n"
     ]
    },
    {
     "name": "stdout",
     "output_type": "stream",
     "text": [
      "------------------------------------- Calibrates q6 for (LO, IF) = (5.440 GHz, -50.000 MHz)\n",
      "2024-03-21 11:05:20,278 - qm - INFO     - Compiling program\n"
     ]
    },
    {
     "name": "stderr",
     "output_type": "stream",
     "text": [
      "INFO:qm.QuantumMachine:Compiling program\n"
     ]
    }
   ],
   "source": [
    "# octave calibration\n",
    "Experiment.octave_calibration(qubit_index,res_index,flux_index,calibration_flag = True)"
   ]
  },
  {
   "cell_type": "markdown",
   "id": "d7eb970c",
   "metadata": {},
   "source": [
    "## 1D resonator spectroscopy"
   ]
  },
  {
   "cell_type": "code",
   "execution_count": 6,
   "id": "6c02f74a",
   "metadata": {},
   "outputs": [
    {
     "name": "stdout",
     "output_type": "stream",
     "text": [
      "Progress: [##################################################] 100.0% (n=1000/1000.0) --> elapsed time: 0.87s\n",
      "Progress: [##################################################] 100.0% (n=1000/1000.0) --> elapsed time: 0.96s\n"
     ]
    }
   ],
   "source": [
    "%matplotlib qt\n",
    "machine = Analysis.get_machine()\n",
    "res_freq_sweep = machine.resonators[res_index].f_readout + np.arange(-5E6,5E6 + 1.0,0.05E6)\n",
    "machine, res_freq_sweep, sig_amp = Experiment.exp1D.RR.rr_freq(res_freq_sweep, qubit_index, res_index, flux_index, \n",
    "                           n_avg = 1E3, cd_time = 5E3, readout_state = 'g', simulate_flag = False, simulation_len = 1000)"
   ]
  },
  {
   "cell_type": "code",
   "execution_count": 7,
   "id": "dc1cf475",
   "metadata": {},
   "outputs": [
    {
     "name": "stdout",
     "output_type": "stream",
     "text": [
      "resonator frequency: 6021.000 MHz\n",
      "Execution stopped by user!\n"
     ]
    },
    {
     "data": {
      "image/png": "[encoded data removed]",
      "text/plain": [
       "<Figure size 600x300 with 1 Axes>"
      ]
     },
     "metadata": {},
     "output_type": "display_data"
    }
   ],
   "source": [
    "# find the minimal\n",
    "%matplotlib inline\n",
    "res_freq = Analysis.exp1D.rr_freq(res_freq_sweep, sig_amp)\n",
    "if True:\n",
    "    machine.resonators[res_index].f_readout = res_freq.tolist() + 0E6\n",
    "    machine.resonators[res_index].lo = machine.resonators[res_index].f_readout + 50E6\n",
    "    machine = Analysis.set_machine(machine)"
   ]
  },
  {
   "cell_type": "markdown",
   "id": "0bc723e7",
   "metadata": {},
   "source": [
    "## 1D qubit spectroscopy"
   ]
  },
  {
   "cell_type": "code",
   "execution_count": 6,
   "id": "bd113f2c",
   "metadata": {},
   "outputs": [
    {
     "name": "stdout",
     "output_type": "stream",
     "text": [
      "Progress: [##################################################] 100.0% (n=1000/1000.0) --> elapsed time: 2.40s\n",
      "Progress: [##################################################] 100.0% (n=1000/1000.0) --> elapsed time: 2.49s\n"
     ]
    }
   ],
   "source": [
    "# for the DC flux\n",
    "#qubit_freq_est = np.polyval(machine.qubits[qubit_index].DC_tuning_curve,machine.flux_lines[flux_index].max_frequency_point) * 1E6 # in Hz\n",
    "# for the fast flux\n",
    "qubit_freq_sweep = machine.qubits[qubit_index].f_01 + np.arange(-30E6, 30E6 + 1, 0.5E6)\n",
    "    \n",
    "%matplotlib qt\n",
    "machine, qubit_freq_sweep, sig_amp = Experiment.exp1D.Rabi.qubit_freq(qubit_freq_sweep, qubit_index, res_index, flux_index, \n",
    "                                      pi_amp_rel = 1.0, ff_amp = 0.0, n_avg = 1E3, cd_time = 20E3, plot_flag = True, \n",
    "                                      simulate_flag = False, simulation_len = 4000)"
   ]
  },
  {
   "cell_type": "code",
   "execution_count": 8,
   "id": "3ad33a6a",
   "metadata": {},
   "outputs": [
    {
     "name": "stdout",
     "output_type": "stream",
     "text": [
      "resonant frequency: 5392.256 MHz\n"
     ]
    },
    {
     "data": {
      "image/png": "[encoded data removed]",
      "text/plain": [
       "<Figure size 600x300 with 1 Axes>"
      ]
     },
     "metadata": {},
     "output_type": "display_data"
    }
   ],
   "source": [
    "%matplotlib inline\n",
    "qubit_freq = Analysis.exp1D.peak_fit(x=qubit_freq_sweep,y=sig_amp,method=\"gaussian\")\n",
    "qubit_freq = int(qubit_freq.tolist())\n",
    "machine.qubits[qubit_index].f_01 = qubit_freq + 0E6\n",
    "machine.qubits[qubit_index].f_tls[0] = qubit_freq + 0E6\n",
    "machine.qubits[qubit_index].lo = qubit_freq + 50E6\n",
    "machine = Analysis.set_machine(machine)"
   ]
  },
  {
   "cell_type": "markdown",
   "id": "6c252c1e",
   "metadata": {},
   "source": [
    "## Measure single-shot I, Q blobs"
   ]
  },
  {
   "cell_type": "code",
   "execution_count": 25,
   "id": "5ac68f1d-1186-4ac7-a2ce-0d2365510a5c",
   "metadata": {},
   "outputs": [],
   "source": [
    "%matplotlib inline\n",
    "machine, Ig, Qg, Ie, Qe = Experiment.exp1D.RR.single_shot_IQ_blob(machine.resonators[res_index].f_readout, qubit_index, res_index, flux_index,\n",
    "                              n_avg = 120E3, cd_time = 50E3, plot_flag = False)"
   ]
  },
  {
   "cell_type": "code",
   "execution_count": 26,
   "id": "17d34b84",
   "metadata": {
    "scrolled": true
   },
   "outputs": [
    {
     "name": "stdout",
     "output_type": "stream",
     "text": [
      "\n",
      "\t\t\tFidelity Matrix:\n",
      "\t\t\t-----------------\n",
      "\t\t\t| 0.936 | 0.064 |\n",
      "\t\t\t----------------\n",
      "\t\t\t| 0.399 | 0.601 |\n",
      "\t\t\t-----------------\n",
      "\t\t\tIQ plane rotated by: 132.7°\n",
      "\t\t\tThreshold: 2.310e-03\n",
      "\t\t\tFidelity: 76.8%\n",
      "\t\t\t\n"
     ]
    }
   ],
   "source": [
    "%matplotlib qt\n",
    "angle, threshold, fidelity, gg, ge, eg, ee = Analysis.exp1D.two_state_discriminator(Ig, Qg, Ie, Qe, plot_flag=True)"
   ]
  },
  {
   "cell_type": "code",
   "execution_count": 27,
   "id": "1719b804",
   "metadata": {},
   "outputs": [],
   "source": [
    "# set the rotation angle\n",
    "machine.resonators[res_index].rotation_angle = angle.item()\n",
    "machine.resonators[res_index].ge_threshold = threshold.item()\n",
    "machine = Analysis.set_machine(machine)"
   ]
  },
  {
   "cell_type": "code",
   "execution_count": 27,
   "id": "0d9a1026",
   "metadata": {},
   "outputs": [],
   "source": [
    "machine.resonators[res_index].readout_pulse_length = 500\n",
    "machine = Analysis.set_machine(machine)"
   ]
  },
  {
   "cell_type": "markdown",
   "id": "faa5b838",
   "metadata": {},
   "source": [
    "## optimize single-shot frequency"
   ]
  },
  {
   "cell_type": "code",
   "execution_count": 14,
   "id": "2d779fe2",
   "metadata": {},
   "outputs": [
    {
     "ename": "KeyboardInterrupt",
     "evalue": "",
     "output_type": "error",
     "traceback": [
      "\u001b[1;31m---------------------------------------------------------------------------\u001b[0m",
      "\u001b[1;31mKeyboardInterrupt\u001b[0m                         Traceback (most recent call last)",
      "Cell \u001b[1;32mIn[14], line 4\u001b[0m\n\u001b[0;32m      1\u001b[0m res_freq_sweep \u001b[38;5;241m=\u001b[39m machine\u001b[38;5;241m.\u001b[39mresonators[res_index]\u001b[38;5;241m.\u001b[39mf_readout \u001b[38;5;241m+\u001b[39m np\u001b[38;5;241m.\u001b[39marange(\u001b[38;5;241m-\u001b[39m\u001b[38;5;241m2E6\u001b[39m, \u001b[38;5;241m2E6\u001b[39m \u001b[38;5;241m+\u001b[39m \u001b[38;5;241m1\u001b[39m, \u001b[38;5;241m0.02E6\u001b[39m)\n\u001b[0;32m      3\u001b[0m get_ipython()\u001b[38;5;241m.\u001b[39mrun_line_magic(\u001b[38;5;124m'\u001b[39m\u001b[38;5;124mmatplotlib\u001b[39m\u001b[38;5;124m'\u001b[39m, \u001b[38;5;124m'\u001b[39m\u001b[38;5;124mqt\u001b[39m\u001b[38;5;124m'\u001b[39m)\n\u001b[1;32m----> 4\u001b[0m machine, SNR, res_freq_opt \u001b[38;5;241m=\u001b[39m \u001b[43mExperiment\u001b[49m\u001b[38;5;241;43m.\u001b[39;49m\u001b[43mexp1D\u001b[49m\u001b[38;5;241;43m.\u001b[39;49m\u001b[43mRR\u001b[49m\u001b[38;5;241;43m.\u001b[39;49m\u001b[43msingle_shot_freq_optimization\u001b[49m\u001b[43m(\u001b[49m\u001b[43mres_freq_sweep\u001b[49m\u001b[43m,\u001b[49m\u001b[43m \u001b[49m\u001b[43mqubit_index\u001b[49m\u001b[43m,\u001b[49m\u001b[43m \u001b[49m\u001b[43mres_index\u001b[49m\u001b[43m,\u001b[49m\u001b[43m \u001b[49m\u001b[43mflux_index\u001b[49m\u001b[43m,\u001b[49m\n\u001b[0;32m      5\u001b[0m \u001b[43m                              \u001b[49m\u001b[43mn_avg\u001b[49m\u001b[43m \u001b[49m\u001b[38;5;241;43m=\u001b[39;49m\u001b[43m \u001b[49m\u001b[38;5;241;43m50E3\u001b[39;49m\u001b[43m,\u001b[49m\u001b[43m \u001b[49m\u001b[43mcd_time\u001b[49m\u001b[43m \u001b[49m\u001b[38;5;241;43m=\u001b[39;49m\u001b[43m \u001b[49m\u001b[38;5;241;43m10E3\u001b[39;49m\u001b[43m,\u001b[49m\u001b[43m \u001b[49m\u001b[43mplot_flag\u001b[49m\u001b[43m \u001b[49m\u001b[38;5;241;43m=\u001b[39;49m\u001b[43m \u001b[49m\u001b[38;5;28;43;01mTrue\u001b[39;49;00m\u001b[43m)\u001b[49m\n",
      "File \u001b[1;32m~\\QM\\QM_UALA\\TLS_T1\\ExperimentClass_1D.py:730\u001b[0m, in \u001b[0;36mEH_RR.single_shot_freq_optimization\u001b[1;34m(self, res_freq_sweep, qubit_index, res_index, flux_index, n_avg, cd_time, tPath, f_str_datetime, simulate_flag, simulation_len, plot_flag, machine)\u001b[0m\n\u001b[0;32m    727\u001b[0m \tjob\u001b[38;5;241m.\u001b[39mget_simulated_samples()\u001b[38;5;241m.\u001b[39mcon1\u001b[38;5;241m.\u001b[39mplot()\n\u001b[0;32m    728\u001b[0m \u001b[38;5;28;01melse\u001b[39;00m:\n\u001b[0;32m    729\u001b[0m \t\u001b[38;5;66;03m# Open the quantum machine\u001b[39;00m\n\u001b[1;32m--> 730\u001b[0m \tqm \u001b[38;5;241m=\u001b[39m \u001b[43mqmm\u001b[49m\u001b[38;5;241;43m.\u001b[39;49m\u001b[43mopen_qm\u001b[49m\u001b[43m(\u001b[49m\u001b[43mconfig\u001b[49m\u001b[43m)\u001b[49m\n\u001b[0;32m    731\u001b[0m \t\u001b[38;5;66;03m# Send the QUA program to the OPX, which compiles and executes it\u001b[39;00m\n\u001b[0;32m    732\u001b[0m \tjob \u001b[38;5;241m=\u001b[39m qm\u001b[38;5;241m.\u001b[39mexecute(ro_freq_opt)  \u001b[38;5;66;03m# execute QUA program\u001b[39;00m\n",
      "File \u001b[1;32m~\\.conda\\envs\\labber-qm-env\\lib\\site-packages\\qm\\quantum_machines_manager.py:192\u001b[0m, in \u001b[0;36mQuantumMachinesManager.open_qm\u001b[1;34m(self, config, close_other_machines, validate_with_protobuf, use_calibration_data, **kwargs)\u001b[0m\n\u001b[0;32m    188\u001b[0m qua_config \u001b[38;5;241m=\u001b[39m \u001b[38;5;28mself\u001b[39m\u001b[38;5;241m.\u001b[39m_load_config(config, disable_marshmallow_validation\u001b[38;5;241m=\u001b[39mvalidate_with_protobuf)\n\u001b[0;32m    190\u001b[0m machine_id \u001b[38;5;241m=\u001b[39m \u001b[38;5;28mself\u001b[39m\u001b[38;5;241m.\u001b[39m_frontend\u001b[38;5;241m.\u001b[39mopen_qm(qua_config, close_other_machines)\n\u001b[1;32m--> 192\u001b[0m \u001b[38;5;28;01mreturn\u001b[39;00m \u001b[43mQuantumMachine\u001b[49m\u001b[43m(\u001b[49m\n\u001b[0;32m    193\u001b[0m \u001b[43m    \u001b[49m\u001b[43mmachine_id\u001b[49m\u001b[38;5;241;43m=\u001b[39;49m\u001b[43mmachine_id\u001b[49m\u001b[43m,\u001b[49m\n\u001b[0;32m    194\u001b[0m \u001b[43m    \u001b[49m\u001b[43mpb_config\u001b[49m\u001b[38;5;241;43m=\u001b[39;49m\u001b[43mqua_config\u001b[49m\u001b[43m,\u001b[49m\n\u001b[0;32m    195\u001b[0m \u001b[43m    \u001b[49m\u001b[43mfrontend_api\u001b[49m\u001b[38;5;241;43m=\u001b[39;49m\u001b[38;5;28;43mself\u001b[39;49m\u001b[38;5;241;43m.\u001b[39;49m\u001b[43m_frontend\u001b[49m\u001b[43m,\u001b[49m\n\u001b[0;32m    196\u001b[0m \u001b[43m    \u001b[49m\u001b[43mcapabilities\u001b[49m\u001b[38;5;241;43m=\u001b[39;49m\u001b[38;5;28;43mself\u001b[39;49m\u001b[38;5;241;43m.\u001b[39;49m\u001b[43m_caps\u001b[49m\u001b[43m,\u001b[49m\n\u001b[0;32m    197\u001b[0m \u001b[43m    \u001b[49m\u001b[43mstore\u001b[49m\u001b[38;5;241;43m=\u001b[39;49m\u001b[38;5;28;43mself\u001b[39;49m\u001b[38;5;241;43m.\u001b[39;49m\u001b[43m_store\u001b[49m\u001b[43m,\u001b[49m\n\u001b[0;32m    198\u001b[0m \u001b[43m    \u001b[49m\u001b[43moctave_config\u001b[49m\u001b[38;5;241;43m=\u001b[39;49m\u001b[38;5;28;43mself\u001b[39;49m\u001b[38;5;241;43m.\u001b[39;49m\u001b[43m_octave_config\u001b[49m\u001b[43m,\u001b[49m\n\u001b[0;32m    199\u001b[0m \u001b[43m    \u001b[49m\u001b[43moctave_manager\u001b[49m\u001b[38;5;241;43m=\u001b[39;49m\u001b[38;5;28;43mself\u001b[39;49m\u001b[38;5;241;43m.\u001b[39;49m\u001b[43m_octave_manager\u001b[49m\u001b[43m,\u001b[49m\n\u001b[0;32m    200\u001b[0m \u001b[43m\u001b[49m\u001b[43m)\u001b[49m\n",
      "File \u001b[1;32m~\\.conda\\envs\\labber-qm-env\\lib\\site-packages\\qm\\QuantumMachine.py:78\u001b[0m, in \u001b[0;36mQuantumMachine.__init__\u001b[1;34m(self, machine_id, pb_config, frontend_api, capabilities, store, octave_manager, octave_config)\u001b[0m\n\u001b[0;32m     74\u001b[0m \u001b[38;5;28mself\u001b[39m\u001b[38;5;241m.\u001b[39m_elements: ElementsDB \u001b[38;5;241m=\u001b[39m init_elements(\n\u001b[0;32m     75\u001b[0m     pb_config, frontend_api, machine_id\u001b[38;5;241m=\u001b[39mmachine_id, octave_config\u001b[38;5;241m=\u001b[39moctave_config\n\u001b[0;32m     76\u001b[0m )\n\u001b[0;32m     77\u001b[0m \u001b[38;5;28mself\u001b[39m\u001b[38;5;241m.\u001b[39m_octave \u001b[38;5;241m=\u001b[39m QmOctave(\u001b[38;5;28mself\u001b[39m\u001b[38;5;241m.\u001b[39melements, octave_manager)\n\u001b[1;32m---> 78\u001b[0m \u001b[38;5;28;01mwith\u001b[39;00m \u001b[38;5;28mself\u001b[39m\u001b[38;5;241m.\u001b[39m_octave\u001b[38;5;241m.\u001b[39mbatch_mode():\n\u001b[0;32m     79\u001b[0m     \u001b[38;5;28;01mfor\u001b[39;00m element \u001b[38;5;129;01min\u001b[39;00m \u001b[38;5;28mself\u001b[39m\u001b[38;5;241m.\u001b[39m_elements\u001b[38;5;241m.\u001b[39mvalues():\n\u001b[0;32m     80\u001b[0m         \u001b[38;5;28;01mif\u001b[39;00m \u001b[38;5;28misinstance\u001b[39m(element, ElementWithOctave):\n",
      "File \u001b[1;32m~\\.conda\\envs\\labber-qm-env\\lib\\contextlib.py:113\u001b[0m, in \u001b[0;36m_GeneratorContextManager.__enter__\u001b[1;34m(self)\u001b[0m\n\u001b[0;32m    111\u001b[0m \u001b[38;5;28;01mdel\u001b[39;00m \u001b[38;5;28mself\u001b[39m\u001b[38;5;241m.\u001b[39margs, \u001b[38;5;28mself\u001b[39m\u001b[38;5;241m.\u001b[39mkwds, \u001b[38;5;28mself\u001b[39m\u001b[38;5;241m.\u001b[39mfunc\n\u001b[0;32m    112\u001b[0m \u001b[38;5;28;01mtry\u001b[39;00m:\n\u001b[1;32m--> 113\u001b[0m     \u001b[38;5;28;01mreturn\u001b[39;00m \u001b[38;5;28;43mnext\u001b[39;49m\u001b[43m(\u001b[49m\u001b[38;5;28;43mself\u001b[39;49m\u001b[38;5;241;43m.\u001b[39;49m\u001b[43mgen\u001b[49m\u001b[43m)\u001b[49m\n\u001b[0;32m    114\u001b[0m \u001b[38;5;28;01mexcept\u001b[39;00m \u001b[38;5;167;01mStopIteration\u001b[39;00m:\n\u001b[0;32m    115\u001b[0m     \u001b[38;5;28;01mraise\u001b[39;00m \u001b[38;5;167;01mRuntimeError\u001b[39;00m(\u001b[38;5;124m\"\u001b[39m\u001b[38;5;124mgenerator didn\u001b[39m\u001b[38;5;124m'\u001b[39m\u001b[38;5;124mt yield\u001b[39m\u001b[38;5;124m\"\u001b[39m) \u001b[38;5;28;01mfrom\u001b[39;00m \u001b[38;5;28;01mNone\u001b[39;00m\n",
      "File \u001b[1;32m~\\.conda\\envs\\labber-qm-env\\lib\\site-packages\\qm\\octave\\octave_manager.py:226\u001b[0m, in \u001b[0;36mOctaveManager.batch_mode\u001b[1;34m(self)\u001b[0m\n\u001b[0;32m    223\u001b[0m \u001b[38;5;129m@contextlib\u001b[39m\u001b[38;5;241m.\u001b[39mcontextmanager\n\u001b[0;32m    224\u001b[0m \u001b[38;5;28;01mdef\u001b[39;00m \u001b[38;5;21mbatch_mode\u001b[39m(\u001b[38;5;28mself\u001b[39m):\n\u001b[1;32m--> 226\u001b[0m     \u001b[38;5;28;43mself\u001b[39;49m\u001b[38;5;241;43m.\u001b[39;49m\u001b[43mstart_batch_mode\u001b[49m\u001b[43m(\u001b[49m\u001b[43m)\u001b[49m\n\u001b[0;32m    227\u001b[0m     \u001b[38;5;28;01myield\u001b[39;00m\n\u001b[0;32m    228\u001b[0m     \u001b[38;5;28mself\u001b[39m\u001b[38;5;241m.\u001b[39mend_batch_mode()\n",
      "File \u001b[1;32m~\\.conda\\envs\\labber-qm-env\\lib\\site-packages\\qm\\octave\\octave_manager.py:217\u001b[0m, in \u001b[0;36mOctaveManager.start_batch_mode\u001b[1;34m(self)\u001b[0m\n\u001b[0;32m    215\u001b[0m \u001b[38;5;28;01mdef\u001b[39;00m \u001b[38;5;21mstart_batch_mode\u001b[39m(\u001b[38;5;28mself\u001b[39m):\n\u001b[0;32m    216\u001b[0m     \u001b[38;5;28;01mfor\u001b[39;00m client \u001b[38;5;129;01min\u001b[39;00m \u001b[38;5;28mself\u001b[39m\u001b[38;5;241m.\u001b[39m_octave_clients\u001b[38;5;241m.\u001b[39mvalues():\n\u001b[1;32m--> 217\u001b[0m         \u001b[43mclient\u001b[49m\u001b[38;5;241;43m.\u001b[39;49m\u001b[43mstart_batch_mode\u001b[49m\u001b[43m(\u001b[49m\u001b[43m)\u001b[49m\n",
      "File \u001b[1;32m~\\.conda\\envs\\labber-qm-env\\lib\\site-packages\\octave_sdk\\octave.py:1099\u001b[0m, in \u001b[0;36mOctave.start_batch_mode\u001b[1;34m()\u001b[0m\n\u001b[0;32m   1097\u001b[0m \u001b[38;5;129m@staticmethod\u001b[39m\n\u001b[0;32m   1098\u001b[0m \u001b[38;5;28;01mdef\u001b[39;00m \u001b[38;5;21mstart_batch_mode\u001b[39m():\n\u001b[1;32m-> 1099\u001b[0m     \u001b[43mBatchSingleton\u001b[49m\u001b[43m(\u001b[49m\u001b[43m)\u001b[49m\u001b[38;5;241;43m.\u001b[39;49m\u001b[43mstart_batch_mode\u001b[49m\u001b[43m(\u001b[49m\u001b[43m)\u001b[49m\n",
      "File \u001b[1;32m~\\.conda\\envs\\labber-qm-env\\lib\\site-packages\\octave_sdk\\batch.py:25\u001b[0m, in \u001b[0;36mBatchSingleton.start_batch_mode\u001b[1;34m(self)\u001b[0m\n\u001b[0;32m     23\u001b[0m \u001b[38;5;28;01mif\u001b[39;00m \u001b[38;5;129;01mnot\u001b[39;00m \u001b[38;5;28mself\u001b[39m\u001b[38;5;241m.\u001b[39m_batch_mode:\n\u001b[0;32m     24\u001b[0m     \u001b[38;5;28;01mfor\u001b[39;00m callback \u001b[38;5;129;01min\u001b[39;00m \u001b[38;5;28mself\u001b[39m\u001b[38;5;241m.\u001b[39m_start_batch_callbacks\u001b[38;5;241m.\u001b[39mvalues():\n\u001b[1;32m---> 25\u001b[0m         \u001b[43mcallback\u001b[49m\u001b[43m(\u001b[49m\u001b[43m)\u001b[49m\n\u001b[0;32m     26\u001b[0m \u001b[38;5;28mself\u001b[39m\u001b[38;5;241m.\u001b[39m_batch_mode \u001b[38;5;241m=\u001b[39m \u001b[38;5;28;01mTrue\u001b[39;00m\n",
      "File \u001b[1;32m~\\.conda\\envs\\labber-qm-env\\lib\\site-packages\\octave_sdk\\_octave_client.py:229\u001b[0m, in \u001b[0;36mOctaveClient._start_batch_callback\u001b[1;34m(self)\u001b[0m\n\u001b[0;32m    228\u001b[0m \u001b[38;5;28;01mdef\u001b[39;00m \u001b[38;5;21m_start_batch_callback\u001b[39m(\u001b[38;5;28mself\u001b[39m):\n\u001b[1;32m--> 229\u001b[0m     \u001b[38;5;28mself\u001b[39m\u001b[38;5;241m.\u001b[39m_format_cached_modules(\u001b[38;5;28;43mself\u001b[39;49m\u001b[38;5;241;43m.\u001b[39;49m\u001b[43maquire_modules\u001b[49m\u001b[43m(\u001b[49m\u001b[43m[\u001b[49m\u001b[43m]\u001b[49m\u001b[43m)\u001b[49m)\n",
      "File \u001b[1;32m~\\.conda\\envs\\labber-qm-env\\lib\\site-packages\\octave_sdk\\_octave_client.py:438\u001b[0m, in \u001b[0;36mOctaveClient.aquire_modules\u001b[1;34m(self, modules, use_cache)\u001b[0m\n\u001b[0;32m    436\u001b[0m     aquire_request \u001b[38;5;241m=\u001b[39m AquireRequest(modules\u001b[38;5;241m=\u001b[39mmodules, use_cache\u001b[38;5;241m=\u001b[39muse_cache)\n\u001b[0;32m    437\u001b[0m     future \u001b[38;5;241m=\u001b[39m asyncio\u001b[38;5;241m.\u001b[39mrun_coroutine_threadsafe(\u001b[38;5;28mself\u001b[39m\u001b[38;5;241m.\u001b[39m_service\u001b[38;5;241m.\u001b[39maquire(aquire_request), loop\u001b[38;5;241m=\u001b[39m\u001b[38;5;28mself\u001b[39m\u001b[38;5;241m.\u001b[39m_event_loop)\n\u001b[1;32m--> 438\u001b[0m     res \u001b[38;5;241m=\u001b[39m \u001b[43mfuture\u001b[49m\u001b[38;5;241;43m.\u001b[39;49m\u001b[43mresult\u001b[49m\u001b[43m(\u001b[49m\u001b[43m)\u001b[49m\n\u001b[0;32m    440\u001b[0m \u001b[38;5;28;01mif\u001b[39;00m \u001b[38;5;28mlen\u001b[39m(modules) \u001b[38;5;241m==\u001b[39m \u001b[38;5;241m1\u001b[39m \u001b[38;5;129;01mand\u001b[39;00m \u001b[38;5;28mlen\u001b[39m(res\u001b[38;5;241m.\u001b[39mstate\u001b[38;5;241m.\u001b[39mupdates) \u001b[38;5;241m==\u001b[39m \u001b[38;5;241m1\u001b[39m:\n\u001b[0;32m    441\u001b[0m     \u001b[38;5;28;01mreturn\u001b[39;00m res\u001b[38;5;241m.\u001b[39mstate\u001b[38;5;241m.\u001b[39mupdates[\u001b[38;5;241m0\u001b[39m]\n",
      "File \u001b[1;32m~\\.conda\\envs\\labber-qm-env\\lib\\concurrent\\futures\\_base.py:439\u001b[0m, in \u001b[0;36mFuture.result\u001b[1;34m(self, timeout)\u001b[0m\n\u001b[0;32m    436\u001b[0m \u001b[38;5;28;01melif\u001b[39;00m \u001b[38;5;28mself\u001b[39m\u001b[38;5;241m.\u001b[39m_state \u001b[38;5;241m==\u001b[39m FINISHED:\n\u001b[0;32m    437\u001b[0m     \u001b[38;5;28;01mreturn\u001b[39;00m \u001b[38;5;28mself\u001b[39m\u001b[38;5;241m.\u001b[39m__get_result()\n\u001b[1;32m--> 439\u001b[0m \u001b[38;5;28;43mself\u001b[39;49m\u001b[38;5;241;43m.\u001b[39;49m\u001b[43m_condition\u001b[49m\u001b[38;5;241;43m.\u001b[39;49m\u001b[43mwait\u001b[49m\u001b[43m(\u001b[49m\u001b[43mtimeout\u001b[49m\u001b[43m)\u001b[49m\n\u001b[0;32m    441\u001b[0m \u001b[38;5;28;01mif\u001b[39;00m \u001b[38;5;28mself\u001b[39m\u001b[38;5;241m.\u001b[39m_state \u001b[38;5;129;01min\u001b[39;00m [CANCELLED, CANCELLED_AND_NOTIFIED]:\n\u001b[0;32m    442\u001b[0m     \u001b[38;5;28;01mraise\u001b[39;00m CancelledError()\n",
      "File \u001b[1;32m~\\.conda\\envs\\labber-qm-env\\lib\\threading.py:302\u001b[0m, in \u001b[0;36mCondition.wait\u001b[1;34m(self, timeout)\u001b[0m\n\u001b[0;32m    300\u001b[0m \u001b[38;5;28;01mtry\u001b[39;00m:    \u001b[38;5;66;03m# restore state no matter what (e.g., KeyboardInterrupt)\u001b[39;00m\n\u001b[0;32m    301\u001b[0m     \u001b[38;5;28;01mif\u001b[39;00m timeout \u001b[38;5;129;01mis\u001b[39;00m \u001b[38;5;28;01mNone\u001b[39;00m:\n\u001b[1;32m--> 302\u001b[0m         \u001b[43mwaiter\u001b[49m\u001b[38;5;241;43m.\u001b[39;49m\u001b[43macquire\u001b[49m\u001b[43m(\u001b[49m\u001b[43m)\u001b[49m\n\u001b[0;32m    303\u001b[0m         gotit \u001b[38;5;241m=\u001b[39m \u001b[38;5;28;01mTrue\u001b[39;00m\n\u001b[0;32m    304\u001b[0m     \u001b[38;5;28;01melse\u001b[39;00m:\n",
      "\u001b[1;31mKeyboardInterrupt\u001b[0m: "
     ]
    }
   ],
   "source": [
    "res_freq_sweep = machine.resonators[res_index].f_readout + np.arange(-2E6, 2E6 + 1, 0.02E6)\n",
    "\n",
    "%matplotlib qt\n",
    "machine, SNR, res_freq_opt = Experiment.exp1D.RR.single_shot_freq_optimization(res_freq_sweep, qubit_index, res_index, flux_index,\n",
    "                              n_avg = 50E3, cd_time = 10E3, plot_flag = True)"
   ]
  },
  {
   "cell_type": "code",
   "execution_count": 19,
   "id": "94b74f7b",
   "metadata": {},
   "outputs": [],
   "source": [
    "machine.resonators[res_index].f_readout = res_freq_opt.tolist() + 0E6\n",
    "machine.resonators[res_index].lo = machine.resonators[res_index].f_readout + 50E6\n",
    "machine = Analysis.set_machine(machine)"
   ]
  },
  {
   "cell_type": "code",
   "execution_count": 20,
   "id": "25ac00a5",
   "metadata": {},
   "outputs": [
    {
     "name": "stdout",
     "output_type": "stream",
     "text": [
      "2024-02-15 09:23:53,209 - qm - INFO     - Performing health check\n"
     ]
    },
    {
     "name": "stderr",
     "output_type": "stream",
     "text": [
      "INFO:qm.api.frontend_api:Performing health check\n"
     ]
    },
    {
     "name": "stdout",
     "output_type": "stream",
     "text": [
      "2024-02-15 09:23:53,221 - qm - INFO     - Health check passed\n"
     ]
    },
    {
     "name": "stderr",
     "output_type": "stream",
     "text": [
      "INFO:qm.api.frontend_api:Health check passed\n"
     ]
    },
    {
     "name": "stdout",
     "output_type": "stream",
     "text": [
      "------------------------------------- Calibrates r6 for (LO, IF) = (6.069 GHz, -50.000 MHz)\n",
      "2024-02-15 09:24:00,839 - qm - INFO     - Compiling program\n"
     ]
    },
    {
     "name": "stderr",
     "output_type": "stream",
     "text": [
      "INFO:qm.QuantumMachine:Compiling program\n"
     ]
    },
    {
     "name": "stdout",
     "output_type": "stream",
     "text": [
      "------------------------------------- Calibrates q6 for (LO, IF) = (5.471 GHz, -50.000 MHz)\n",
      "2024-02-15 09:24:12,992 - qm - INFO     - Compiling program\n"
     ]
    },
    {
     "name": "stderr",
     "output_type": "stream",
     "text": [
      "INFO:qm.QuantumMachine:Compiling program\n"
     ]
    }
   ],
   "source": [
    "# octave calibration\n",
    "Experiment.octave_calibration(qubit_index,res_index,flux_index,calibration_flag = True)"
   ]
  },
  {
   "cell_type": "markdown",
   "id": "e6bb4dbf",
   "metadata": {},
   "source": [
    "## optimize single-shot amplitude"
   ]
  },
  {
   "cell_type": "code",
   "execution_count": 28,
   "id": "ea1dab50",
   "metadata": {},
   "outputs": [
    {
     "name": "stdout",
     "output_type": "stream",
     "text": [
      "some abs amps > 0.5, removed from experiment run\n",
      "Progress: [##################################################] 100.0% (n=53/53) --> elapsed time: 210.94s\n",
      "Progress: [##################################################] 100.0% (n=53/53) --> elapsed time: 210.97s\n",
      "Progress: [##################################################] 100.0% (n=53/53) --> elapsed time: 211.00s\n",
      "Progress: [##################################################] 100.0% (n=53/53) --> elapsed time: 211.02s\n",
      "Progress: [##################################################] 100.0% (n=53/53) --> elapsed time: 211.05s\n",
      "Progress: [##################################################] 100.0% (n=53/53) --> elapsed time: 211.07s\n",
      "Progress: [##################################################] 100.0% (n=53/53) --> elapsed time: 211.09s\n",
      "Progress: [##################################################] 100.0% (n=53/53) --> elapsed time: 211.12s\n",
      "Progress: [##################################################] 100.0% (n=53/53) --> elapsed time: 211.14s\n",
      "Progress: [##################################################] 100.0% (n=53/53) --> elapsed time: 211.16s\n",
      "Progress: [##################################################] 100.0% (n=53/53) --> elapsed time: 211.19s\n",
      "Progress: [##################################################] 100.0% (n=53/53) --> elapsed time: 211.21s\n",
      "Progress: [##################################################] 100.0% (n=53/53) --> elapsed time: 211.24s\n",
      "Progress: [##################################################] 100.0% (n=53/53) --> elapsed time: 211.26s\n",
      "Progress: [##################################################] 100.0% (n=53/53) --> elapsed time: 211.28s\n",
      "Progress: [##################################################] 100.0% (n=53/53) --> elapsed time: 211.30s\n",
      "Progress: [##################################################] 100.0% (n=53/53) --> elapsed time: 211.33s\n",
      "Progress: [##################################################] 100.0% (n=53/53) --> elapsed time: 211.36s\n",
      "Progress: [##################################################] 100.0% (n=53/53) --> elapsed time: 211.38s\n",
      "Progress: [##################################################] 100.0% (n=53/53) --> elapsed time: 211.41s\n",
      "Progress: [##################################################] 100.0% (n=53/53) --> elapsed time: 211.43s\n",
      "Progress: [##################################################] 100.0% (n=53/53) --> elapsed time: 211.46s\n",
      "Progress: [##################################################] 100.0% (n=53/53) --> elapsed time: 211.48s\n",
      "Progress: [##################################################] 100.0% (n=53/53) --> elapsed time: 211.51s\n",
      "Progress: [##################################################] 100.0% (n=53/53) --> elapsed time: 211.53s\n",
      "Progress: [##################################################] 100.0% (n=53/53) --> elapsed time: 211.56s\n",
      "Progress: [##################################################] 100.0% (n=53/53) --> elapsed time: 211.59s\n",
      "Progress: [##################################################] 100.0% (n=53/53) --> elapsed time: 211.61s\n",
      "Progress: [##################################################] 100.0% (n=53/53) --> elapsed time: 211.64s\n",
      "Progress: [##################################################] 100.0% (n=53/53) --> elapsed time: 211.67s\n",
      "Progress: [##################################################] 100.0% (n=53/53) --> elapsed time: 211.70s\n",
      "Progress: [##################################################] 100.0% (n=53/53) --> elapsed time: 211.72s\n",
      "Progress: [##################################################] 100.0% (n=53/53) --> elapsed time: 211.75s\n",
      "Progress: [##################################################] 100.0% (n=53/53) --> elapsed time: 211.78s\n",
      "Progress: [##################################################] 100.0% (n=53/53) --> elapsed time: 211.80s\n",
      "Progress: [##################################################] 100.0% (n=53/53) --> elapsed time: 211.83s\n",
      "Progress: [##################################################] 100.0% (n=53/53) --> elapsed time: 211.86s\n",
      "Progress: [##################################################] 100.0% (n=53/53) --> elapsed time: 211.88s\n",
      "Progress: [##################################################] 100.0% (n=53/53) --> elapsed time: 211.91s\n",
      "Progress: [##################################################] 100.0% (n=53/53) --> elapsed time: 211.93s\n",
      "Progress: [##################################################] 100.0% (n=53/53) --> elapsed time: 211.96s\n",
      "Progress: [##################################################] 100.0% (n=53/53) --> elapsed time: 211.99s\n",
      "Progress: [##################################################] 100.0% (n=53/53) --> elapsed time: 212.01s\n",
      "Progress: [##################################################] 100.0% (n=53/53) --> elapsed time: 212.04s\n",
      "Progress: [##################################################] 100.0% (n=53/53) --> elapsed time: 212.07s\n",
      "Progress: [##################################################] 100.0% (n=53/53) --> elapsed time: 212.10s\n",
      "Progress: [##################################################] 100.0% (n=53/53) --> elapsed time: 212.12s\n",
      "Progress: [##################################################] 100.0% (n=53/53) --> elapsed time: 212.15s\n",
      "Progress: [##################################################] 100.0% (n=53/53) --> elapsed time: 212.18s\n",
      "Progress: [##################################################] 100.0% (n=53/53) --> elapsed time: 212.20s\n",
      "Progress: [##################################################] 100.0% (n=53/53) --> elapsed time: 212.23s\n",
      "Progress: [##################################################] 100.0% (n=53/53) --> elapsed time: 212.25s\n",
      "Progress: [##################################################] 100.0% (n=53/53) --> elapsed time: 212.28s\n",
      "Progress: [##################################################] 100.0% (n=53/53) --> elapsed time: 212.31s\n",
      "Progress: [##################################################] 100.0% (n=53/53) --> elapsed time: 212.34s\n",
      "Progress: [##################################################] 100.0% (n=53/53) --> elapsed time: 212.36s\n",
      "Progress: [##################################################] 100.0% (n=53/53) --> elapsed time: 212.39s\n",
      "Progress: [##################################################] 100.0% (n=53/53) --> elapsed time: 212.41s\n",
      "Progress: [##################################################] 100.0% (n=53/53) --> elapsed time: 212.44s\n",
      "Progress: [##################################################] 100.0% (n=53/53) --> elapsed time: 212.47s\n",
      "Progress: [##################################################] 100.0% (n=53/53) --> elapsed time: 212.49s\n",
      "Progress: [##################################################] 100.0% (n=53/53) --> elapsed time: 212.52s\n",
      "Progress: [##################################################] 100.0% (n=53/53) --> elapsed time: 212.55s\n",
      "Progress: [##################################################] 100.0% (n=53/53) --> elapsed time: 212.57s\n",
      "Progress: [##################################################] 100.0% (n=53/53) --> elapsed time: 212.59s\n",
      "Progress: [##################################################] 100.0% (n=53/53) --> elapsed time: 212.62s\n",
      "Progress: [##################################################] 100.0% (n=53/53) --> elapsed time: 212.64s\n",
      "Progress: [##################################################] 100.0% (n=53/53) --> elapsed time: 212.67s\n",
      "Progress: [##################################################] 100.0% (n=53/53) --> elapsed time: 212.70s\n",
      "Progress: [##################################################] 100.0% (n=53/53) --> elapsed time: 212.72s\n",
      "Progress: [##################################################] 100.0% (n=53/53) --> elapsed time: 212.75s\n",
      "Progress: [##################################################] 100.0% (n=53/53) --> elapsed time: 212.78s\n",
      "Progress: [##################################################] 100.0% (n=53/53) --> elapsed time: 212.80s\n",
      "Progress: [##################################################] 100.0% (n=53/53) --> elapsed time: 212.83s\n",
      "Progress: [##################################################] 100.0% (n=53/53) --> elapsed time: 212.85s\n",
      "Progress: [##################################################] 100.0% (n=53/53) --> elapsed time: 212.88s\n",
      "Progress: [##################################################] 100.0% (n=53/53) --> elapsed time: 212.91s\n",
      "Progress: [##################################################] 100.0% (n=53/53) --> elapsed time: 212.93s\n",
      "Progress: [##################################################] 100.0% (n=53/53) --> elapsed time: 212.96s\n",
      "Progress: [##################################################] 100.0% (n=53/53) --> elapsed time: 212.98s\n"
     ]
    },
    {
     "name": "stdout",
     "output_type": "stream",
     "text": [
      "Progress: [##################################################] 100.0% (n=53/53) --> elapsed time: 213.01s\n",
      "Progress: [##################################################] 100.0% (n=53/53) --> elapsed time: 213.04s\n",
      "Progress: [##################################################] 100.0% (n=53/53) --> elapsed time: 213.06s\n",
      "Progress: [##################################################] 100.0% (n=53/53) --> elapsed time: 213.09s\n",
      "Progress: [##################################################] 100.0% (n=53/53) --> elapsed time: 213.11s\n",
      "Progress: [##################################################] 100.0% (n=53/53) --> elapsed time: 213.14s\n",
      "Progress: [##################################################] 100.0% (n=53/53) --> elapsed time: 213.17s\n",
      "Progress: [##################################################] 100.0% (n=53/53) --> elapsed time: 213.20s\n",
      "Progress: [##################################################] 100.0% (n=53/53) --> elapsed time: 213.22s\n",
      "Progress: [##################################################] 100.0% (n=53/53) --> elapsed time: 213.25s\n",
      "Progress: [##################################################] 100.0% (n=53/53) --> elapsed time: 213.27s\n",
      "Progress: [##################################################] 100.0% (n=53/53) --> elapsed time: 213.29s\n",
      "Progress: [##################################################] 100.0% (n=53/53) --> elapsed time: 213.31s\n",
      "Progress: [##################################################] 100.0% (n=53/53) --> elapsed time: 213.34s\n",
      "Progress: [##################################################] 100.0% (n=53/53) --> elapsed time: 213.37s\n",
      "Progress: [##################################################] 100.0% (n=53/53) --> elapsed time: 213.39s\n",
      "Progress: [##################################################] 100.0% (n=53/53) --> elapsed time: 213.42s\n",
      "Progress: [##################################################] 100.0% (n=53/53) --> elapsed time: 213.44s\n",
      "Progress: [##################################################] 100.0% (n=53/53) --> elapsed time: 213.47s\n",
      "Progress: [##################################################] 100.0% (n=53/53) --> elapsed time: 213.50s\n",
      "Progress: [##################################################] 100.0% (n=53/53) --> elapsed time: 213.52s\n",
      "Progress: [##################################################] 100.0% (n=53/53) --> elapsed time: 213.55s\n",
      "Progress: [##################################################] 100.0% (n=53/53) --> elapsed time: 213.58s\n",
      "Progress: [##################################################] 100.0% (n=53/53) --> elapsed time: 213.60s\n",
      "Progress: [##################################################] 100.0% (n=53/53) --> elapsed time: 213.63s\n",
      "Progress: [##################################################] 100.0% (n=53/53) --> elapsed time: 213.65s\n",
      "Progress: [##################################################] 100.0% (n=53/53) --> elapsed time: 213.68s\n",
      "Progress: [##################################################] 100.0% (n=53/53) --> elapsed time: 213.70s\n",
      "Progress: [##################################################] 100.0% (n=53/53) --> elapsed time: 213.72s\n",
      "Progress: [##################################################] 100.0% (n=53/53) --> elapsed time: 213.74s\n",
      "Progress: [##################################################] 100.0% (n=53/53) --> elapsed time: 213.76s\n",
      "Progress: [##################################################] 100.0% (n=53/53) --> elapsed time: 213.78s\n",
      "Progress: [##################################################] 100.0% (n=53/53) --> elapsed time: 213.81s\n",
      "Progress: [##################################################] 100.0% (n=53/53) --> elapsed time: 213.82s\n",
      "Progress: [##################################################] 100.0% (n=53/53) --> elapsed time: 213.84s\n",
      "Progress: [##################################################] 100.0% (n=53/53) --> elapsed time: 213.86s\n",
      "Progress: [##################################################] 100.0% (n=53/53) --> elapsed time: 213.88s\n",
      "Progress: [##################################################] 100.0% (n=53/53) --> elapsed time: 213.90s\n",
      "Progress: [##################################################] 100.0% (n=53/53) --> elapsed time: 213.92s\n",
      "Progress: [##################################################] 100.0% (n=53/53) --> elapsed time: 213.95s\n",
      "Progress: [##################################################] 100.0% (n=53/53) --> elapsed time: 213.97s\n",
      "Progress: [##################################################] 100.0% (n=53/53) --> elapsed time: 214.00s\n",
      "Progress: [##################################################] 100.0% (n=53/53) --> elapsed time: 214.02s\n",
      "Progress: [##################################################] 100.0% (n=53/53) --> elapsed time: 214.05s\n",
      "Progress: [##################################################] 100.0% (n=53/53) --> elapsed time: 214.07s\n",
      "Progress: [##################################################] 100.0% (n=53/53) --> elapsed time: 214.10s\n",
      "Progress: [##################################################] 100.0% (n=53/53) --> elapsed time: 214.13s\n",
      "Progress: [##################################################] 100.0% (n=53/53) --> elapsed time: 214.16s\n",
      "Progress: [##################################################] 100.0% (n=53/53) --> elapsed time: 214.18s\n",
      "Progress: [##################################################] 100.0% (n=53/53) --> elapsed time: 214.21s\n",
      "Progress: [##################################################] 100.0% (n=53/53) --> elapsed time: 214.23s\n",
      "Progress: [##################################################] 100.0% (n=53/53) --> elapsed time: 214.26s\n",
      "Progress: [##################################################] 100.0% (n=53/53) --> elapsed time: 214.28s\n",
      "Progress: [##################################################] 100.0% (n=53/53) --> elapsed time: 214.31s\n",
      "Progress: [##################################################] 100.0% (n=53/53) --> elapsed time: 214.33s\n",
      "Progress: [##################################################] 100.0% (n=53/53) --> elapsed time: 214.36s\n",
      "Progress: [##################################################] 100.0% (n=53/53) --> elapsed time: 214.38s\n",
      "Progress: [##################################################] 100.0% (n=53/53) --> elapsed time: 214.41s\n",
      "Progress: [##################################################] 100.0% (n=53/53) --> elapsed time: 214.44s\n",
      "Progress: [##################################################] 100.0% (n=53/53) --> elapsed time: 214.46s\n",
      "Progress: [##################################################] 100.0% (n=53/53) --> elapsed time: 214.49s\n",
      "Progress: [##################################################] 100.0% (n=53/53) --> elapsed time: 214.52s\n",
      "Progress: [##################################################] 100.0% (n=53/53) --> elapsed time: 214.54s\n",
      "Progress: [##################################################] 100.0% (n=53/53) --> elapsed time: 214.57s\n",
      "Progress: [##################################################] 100.0% (n=53/53) --> elapsed time: 214.59s\n",
      "Progress: [##################################################] 100.0% (n=53/53) --> elapsed time: 214.62s\n",
      "Progress: [##################################################] 100.0% (n=53/53) --> elapsed time: 214.64s\n",
      "Progress: [##################################################] 100.0% (n=53/53) --> elapsed time: 214.67s\n",
      "Progress: [##################################################] 100.0% (n=53/53) --> elapsed time: 214.69s\n",
      "Progress: [##################################################] 100.0% (n=53/53) --> elapsed time: 214.72s\n",
      "Progress: [##################################################] 100.0% (n=53/53) --> elapsed time: 214.74s\n",
      "Progress: [##################################################] 100.0% (n=53/53) --> elapsed time: 214.77s\n",
      "Progress: [##################################################] 100.0% (n=53/53) --> elapsed time: 214.79s\n",
      "Progress: [##################################################] 100.0% (n=53/53) --> elapsed time: 214.82s\n",
      "Progress: [##################################################] 100.0% (n=53/53) --> elapsed time: 214.84s\n",
      "Progress: [##################################################] 100.0% (n=53/53) --> elapsed time: 214.87s\n",
      "Progress: [##################################################] 100.0% (n=53/53) --> elapsed time: 214.89s\n",
      "Progress: [##################################################] 100.0% (n=53/53) --> elapsed time: 214.92s\n",
      "Progress: [##################################################] 100.0% (n=53/53) --> elapsed time: 214.95s\n",
      "Progress: [##################################################] 100.0% (n=53/53) --> elapsed time: 214.97s\n"
     ]
    },
    {
     "name": "stdout",
     "output_type": "stream",
     "text": [
      "Progress: [##################################################] 100.0% (n=53/53) --> elapsed time: 214.99s\n",
      "Progress: [##################################################] 100.0% (n=53/53) --> elapsed time: 215.00s\n",
      "Progress: [##################################################] 100.0% (n=53/53) --> elapsed time: 215.01s\n",
      "Progress: [##################################################] 100.0% (n=53/53) --> elapsed time: 215.03s\n",
      "Progress: [##################################################] 100.0% (n=53/53) --> elapsed time: 215.04s\n",
      "Progress: [##################################################] 100.0% (n=53/53) --> elapsed time: 215.06s\n",
      "Progress: [##################################################] 100.0% (n=53/53) --> elapsed time: 215.07s\n",
      "Progress: [##################################################] 100.0% (n=53/53) --> elapsed time: 215.09s\n",
      "Progress: [##################################################] 100.0% (n=53/53) --> elapsed time: 215.10s\n",
      "Progress: [##################################################] 100.0% (n=53/53) --> elapsed time: 215.12s\n",
      "Progress: [##################################################] 100.0% (n=53/53) --> elapsed time: 215.13s\n",
      "Progress: [##################################################] 100.0% (n=53/53) --> elapsed time: 215.14s\n",
      "Progress: [##################################################] 100.0% (n=53/53) --> elapsed time: 215.15s\n",
      "Progress: [##################################################] 100.0% (n=53/53) --> elapsed time: 215.17s\n",
      "Progress: [##################################################] 100.0% (n=53/53) --> elapsed time: 215.19s\n",
      "Progress: [##################################################] 100.0% (n=53/53) --> elapsed time: 215.21s\n",
      "Progress: [##################################################] 100.0% (n=53/53) --> elapsed time: 215.23s\n",
      "Progress: [##################################################] 100.0% (n=53/53) --> elapsed time: 215.24s\n",
      "Progress: [##################################################] 100.0% (n=53/53) --> elapsed time: 215.26s\n",
      "Progress: [##################################################] 100.0% (n=53/53) --> elapsed time: 215.28s\n",
      "Progress: [##################################################] 100.0% (n=53/53) --> elapsed time: 215.85s\n",
      "Progress: [##################################################] 100.0% (n=53/53) --> elapsed time: 215.87s\n",
      "The optimal readout amplitude is 497.305 mV (Fidelity=75.7%)\n",
      "Execution stopped by user!\n",
      "Execution stopped by user!\n"
     ]
    }
   ],
   "source": [
    "res_amp_sweep = np.arange(0.5,1.5 + 1E-4, 0.01)\n",
    "\n",
    "%matplotlib qt\n",
    "machine, res_amp_sweep_abs, fidelity, res_amp_opt = Experiment.exp1D.RR.single_shot_amp_optimization(res_amp_sweep, qubit_index, res_index, flux_index,\n",
    "                              n_avg = 40E3, cd_time = 50E3, plot_flag = True)"
   ]
  },
  {
   "cell_type": "code",
   "execution_count": 22,
   "id": "6d615938",
   "metadata": {},
   "outputs": [],
   "source": [
    "# Set the value to the maximum obtained above\n",
    "machine.resonators[res_index].readout_pulse_amp = 0.487554\n",
    "machine = Analysis.set_machine(machine)"
   ]
  },
  {
   "cell_type": "markdown",
   "id": "ab336512",
   "metadata": {},
   "source": [
    "## optimize single-shot readout duration"
   ]
  },
  {
   "cell_type": "code",
   "execution_count": 23,
   "id": "72ddecc7",
   "metadata": {},
   "outputs": [
    {
     "name": "stdout",
     "output_type": "stream",
     "text": [
      "Integration weights chunk-size length in clock cycles: 10\n",
      "The readout has been sliced in the following number of divisions 125\n",
      "Progress: [##################################################] 100.0% (n=50000/50000.0) --> elapsed time: 25.75s\n",
      "Progress: [##################################################] 100.0% (n=50000/50000.0) --> elapsed time: 26.14s\n",
      "Progress: [##################################################] 100.0% (n=50000/50000.0) --> elapsed time: 26.58s\n",
      "Progress: [##################################################] 100.0% (n=50000/50000.0) --> elapsed time: 27.02s\n",
      "Progress: [##################################################] 100.0% (n=50000/50000.0) --> elapsed time: 27.43s\n",
      "Progress: [##################################################] 100.0% (n=50000/50000.0) --> elapsed time: 27.84s\n",
      "Progress: [##################################################] 100.0% (n=50000/50000.0) --> elapsed time: 28.28s\n",
      "Progress: [##################################################] 100.0% (n=50000/50000.0) --> elapsed time: 28.68s\n",
      "Progress: [##################################################] 100.0% (n=50000/50000.0) --> elapsed time: 29.12s\n",
      "Progress: [##################################################] 100.0% (n=50000/50000.0) --> elapsed time: 29.51s\n",
      "Progress: [##################################################] 100.0% (n=50000/50000.0) --> elapsed time: 29.91s\n",
      "Progress: [##################################################] 100.0% (n=50000/50000.0) --> elapsed time: 30.30s\n",
      "Progress: [##################################################] 100.0% (n=50000/50000.0) --> elapsed time: 30.70s\n",
      "Progress: [##################################################] 100.0% (n=50000/50000.0) --> elapsed time: 31.10s\n",
      "Progress: [##################################################] 100.0% (n=50000/50000.0) --> elapsed time: 31.50s\n",
      "Progress: [##################################################] 100.0% (n=50000/50000.0) --> elapsed time: 31.92s\n",
      "Progress: [##################################################] 100.0% (n=50000/50000.0) --> elapsed time: 32.38s\n",
      "Progress: [##################################################] 100.0% (n=50000/50000.0) --> elapsed time: 32.78s\n",
      "Progress: [##################################################] 100.0% (n=50000/50000.0) --> elapsed time: 33.19s\n",
      "Progress: [##################################################] 100.0% (n=50000/50000.0) --> elapsed time: 33.60s\n",
      "Progress: [##################################################] 100.0% (n=50000/50000.0) --> elapsed time: 34.01s\n",
      "Progress: [##################################################] 100.0% (n=50000/50000.0) --> elapsed time: 34.42s\n",
      "Progress: [##################################################] 100.0% (n=50000/50000.0) --> elapsed time: 34.84s\n",
      "Progress: [##################################################] 100.0% (n=50000/50000.0) --> elapsed time: 35.23s\n",
      "Progress: [##################################################] 100.0% (n=50000/50000.0) --> elapsed time: 35.82s\n",
      "Progress: [##################################################] 100.0% (n=50000/50000.0) --> elapsed time: 36.23s\n",
      "Progress: [##################################################] 100.0% (n=50000/50000.0) --> elapsed time: 36.64s\n",
      "Progress: [##################################################] 100.0% (n=50000/50000.0) --> elapsed time: 37.06s\n",
      "Progress: [##################################################] 100.0% (n=50000/50000.0) --> elapsed time: 37.47s\n",
      "Progress: [##################################################] 100.0% (n=50000/50000.0) --> elapsed time: 37.87s\n",
      "Progress: [##################################################] 100.0% (n=50000/50000.0) --> elapsed time: 38.26s\n",
      "Progress: [##################################################] 100.0% (n=50000/50000.0) --> elapsed time: 38.72s\n",
      "Progress: [##################################################] 100.0% (n=50000/50000.0) --> elapsed time: 39.15s\n",
      "Progress: [##################################################] 100.0% (n=50000/50000.0) --> elapsed time: 39.53s\n",
      "Progress: [##################################################] 100.0% (n=50000/50000.0) --> elapsed time: 39.90s\n",
      "Progress: [##################################################] 100.0% (n=50000/50000.0) --> elapsed time: 40.32s\n",
      "Progress: [##################################################] 100.0% (n=50000/50000.0) --> elapsed time: 40.72s\n",
      "Progress: [##################################################] 100.0% (n=50000/50000.0) --> elapsed time: 41.14s\n",
      "Progress: [##################################################] 100.0% (n=50000/50000.0) --> elapsed time: 41.52s\n",
      "Progress: [##################################################] 100.0% (n=50000/50000.0) --> elapsed time: 41.90s\n",
      "Progress: [##################################################] 100.0% (n=50000/50000.0) --> elapsed time: 42.33s\n",
      "Progress: [##################################################] 100.0% (n=50000/50000.0) --> elapsed time: 42.71s\n",
      "Progress: [##################################################] 100.0% (n=50000/50000.0) --> elapsed time: 43.14s\n",
      "Progress: [##################################################] 100.0% (n=50000/50000.0) --> elapsed time: 43.56s\n",
      "Progress: [##################################################] 100.0% (n=50000/50000.0) --> elapsed time: 43.96s\n",
      "Progress: [##################################################] 100.0% (n=50000/50000.0) --> elapsed time: 44.40s\n",
      "Progress: [##################################################] 100.0% (n=50000/50000.0) --> elapsed time: 44.84s\n",
      "Progress: [##################################################] 100.0% (n=50000/50000.0) --> elapsed time: 45.23s\n",
      "Progress: [##################################################] 100.0% (n=50000/50000.0) --> elapsed time: 45.90s\n",
      "Progress: [##################################################] 100.0% (n=50000/50000.0) --> elapsed time: 46.29s\n",
      "Progress: [##################################################] 100.0% (n=50000/50000.0) --> elapsed time: 46.70s\n",
      "Progress: [##################################################] 100.0% (n=50000/50000.0) --> elapsed time: 47.12s\n",
      "Progress: [##################################################] 100.0% (n=50000/50000.0) --> elapsed time: 47.51s\n",
      "Progress: [##################################################] 100.0% (n=50000/50000.0) --> elapsed time: 47.91s\n",
      "Progress: [##################################################] 100.0% (n=50000/50000.0) --> elapsed time: 48.33s\n",
      "Progress: [##################################################] 100.0% (n=50000/50000.0) --> elapsed time: 48.80s\n",
      "Progress: [##################################################] 100.0% (n=50000/50000.0) --> elapsed time: 49.21s\n",
      "Progress: [##################################################] 100.0% (n=50000/50000.0) --> elapsed time: 49.65s\n",
      "Progress: [##################################################] 100.0% (n=50000/50000.0) --> elapsed time: 50.07s\n",
      "Progress: [##################################################] 100.0% (n=50000/50000.0) --> elapsed time: 50.50s\n",
      "Progress: [##################################################] 100.0% (n=50000/50000.0) --> elapsed time: 50.90s\n",
      "Progress: [##################################################] 100.0% (n=50000/50000.0) --> elapsed time: 51.28s\n",
      "Progress: [##################################################] 100.0% (n=50000/50000.0) --> elapsed time: 51.68s\n",
      "Progress: [##################################################] 100.0% (n=50000/50000.0) --> elapsed time: 52.12s\n",
      "Progress: [##################################################] 100.0% (n=50000/50000.0) --> elapsed time: 52.56s\n",
      "Progress: [##################################################] 100.0% (n=50000/50000.0) --> elapsed time: 52.98s\n",
      "Progress: [##################################################] 100.0% (n=50000/50000.0) --> elapsed time: 53.40s\n",
      "Progress: [##################################################] 100.0% (n=50000/50000.0) --> elapsed time: 53.84s\n",
      "Progress: [##################################################] 100.0% (n=50000/50000.0) --> elapsed time: 54.25s\n",
      "Progress: [##################################################] 100.0% (n=50000/50000.0) --> elapsed time: 54.69s\n",
      "Progress: [##################################################] 100.0% (n=50000/50000.0) --> elapsed time: 55.09s\n",
      "Progress: [##################################################] 100.0% (n=50000/50000.0) --> elapsed time: 55.53s\n"
     ]
    },
    {
     "name": "stdout",
     "output_type": "stream",
     "text": [
      "Progress: [##################################################] 100.0% (n=50000/50000.0) --> elapsed time: 56.11s\n",
      "Progress: [##################################################] 100.0% (n=50000/50000.0) --> elapsed time: 56.52s\n",
      "Progress: [##################################################] 100.0% (n=50000/50000.0) --> elapsed time: 56.94s\n",
      "Progress: [##################################################] 100.0% (n=50000/50000.0) --> elapsed time: 57.34s\n",
      "Progress: [##################################################] 100.0% (n=50000/50000.0) --> elapsed time: 57.74s\n",
      "Progress: [##################################################] 100.0% (n=50000/50000.0) --> elapsed time: 58.16s\n",
      "Progress: [##################################################] 100.0% (n=50000/50000.0) --> elapsed time: 58.57s\n",
      "Progress: [##################################################] 100.0% (n=50000/50000.0) --> elapsed time: 58.99s\n",
      "Progress: [##################################################] 100.0% (n=50000/50000.0) --> elapsed time: 59.39s\n",
      "Progress: [##################################################] 100.0% (n=50000/50000.0) --> elapsed time: 59.80s\n",
      "Progress: [##################################################] 100.0% (n=50000/50000.0) --> elapsed time: 60.21s\n",
      "Progress: [##################################################] 100.0% (n=50000/50000.0) --> elapsed time: 60.63s\n",
      "Progress: [##################################################] 100.0% (n=50000/50000.0) --> elapsed time: 61.06s\n",
      "Progress: [##################################################] 100.0% (n=50000/50000.0) --> elapsed time: 61.46s\n",
      "Progress: [##################################################] 100.0% (n=50000/50000.0) --> elapsed time: 61.88s\n",
      "Progress: [##################################################] 100.0% (n=50000/50000.0) --> elapsed time: 62.28s\n",
      "Progress: [##################################################] 100.0% (n=50000/50000.0) --> elapsed time: 62.71s\n",
      "Progress: [##################################################] 100.0% (n=50000/50000.0) --> elapsed time: 63.12s\n",
      "Progress: [##################################################] 100.0% (n=50000/50000.0) --> elapsed time: 63.55s\n",
      "Progress: [##################################################] 100.0% (n=50000/50000.0) --> elapsed time: 63.96s\n",
      "Progress: [##################################################] 100.0% (n=50000/50000.0) --> elapsed time: 64.39s\n",
      "Progress: [##################################################] 100.0% (n=50000/50000.0) --> elapsed time: 64.82s\n",
      "Progress: [##################################################] 100.0% (n=50000/50000.0) --> elapsed time: 65.25s\n",
      "Progress: [##################################################] 100.0% (n=50000/50000.0) --> elapsed time: 65.66s\n",
      "Progress: [##################################################] 100.0% (n=50000/50000.0) --> elapsed time: 66.23s\n",
      "Progress: [##################################################] 100.0% (n=50000/50000.0) --> elapsed time: 66.62s\n",
      "Progress: [##################################################] 100.0% (n=50000/50000.0) --> elapsed time: 67.02s\n",
      "Progress: [##################################################] 100.0% (n=50000/50000.0) --> elapsed time: 67.44s\n",
      "Progress: [##################################################] 100.0% (n=50000/50000.0) --> elapsed time: 67.87s\n",
      "Progress: [##################################################] 100.0% (n=50000/50000.0) --> elapsed time: 68.24s\n",
      "Progress: [##################################################] 100.0% (n=50000/50000.0) --> elapsed time: 68.68s\n",
      "Progress: [##################################################] 100.0% (n=50000/50000.0) --> elapsed time: 69.08s\n",
      "Progress: [##################################################] 100.0% (n=50000/50000.0) --> elapsed time: 69.50s\n",
      "Progress: [##################################################] 100.0% (n=50000/50000.0) --> elapsed time: 69.92s\n",
      "Progress: [##################################################] 100.0% (n=50000/50000.0) --> elapsed time: 70.34s\n",
      "Progress: [##################################################] 100.0% (n=50000/50000.0) --> elapsed time: 70.74s\n",
      "Progress: [##################################################] 100.0% (n=50000/50000.0) --> elapsed time: 71.14s\n",
      "Progress: [##################################################] 100.0% (n=50000/50000.0) --> elapsed time: 71.57s\n",
      "Progress: [##################################################] 100.0% (n=50000/50000.0) --> elapsed time: 72.00s\n",
      "Progress: [##################################################] 100.0% (n=50000/50000.0) --> elapsed time: 72.40s\n",
      "Progress: [##################################################] 100.0% (n=50000/50000.0) --> elapsed time: 72.83s\n",
      "Progress: [##################################################] 100.0% (n=50000/50000.0) --> elapsed time: 73.25s\n",
      "Progress: [##################################################] 100.0% (n=50000/50000.0) --> elapsed time: 73.69s\n",
      "Progress: [##################################################] 100.0% (n=50000/50000.0) --> elapsed time: 74.11s\n",
      "Progress: [##################################################] 100.0% (n=50000/50000.0) --> elapsed time: 74.50s\n",
      "Progress: [##################################################] 100.0% (n=50000/50000.0) --> elapsed time: 74.94s\n",
      "Progress: [##################################################] 100.0% (n=50000/50000.0) --> elapsed time: 75.42s\n",
      "Progress: [##################################################] 100.0% (n=50000/50000.0) --> elapsed time: 75.83s\n",
      "Progress: [##################################################] 100.0% (n=50000/50000.0) --> elapsed time: 76.41s\n",
      "Progress: [##################################################] 100.0% (n=50000/50000.0) --> elapsed time: 76.82s\n",
      "Progress: [##################################################] 100.0% (n=50000/50000.0) --> elapsed time: 77.22s\n",
      "Progress: [##################################################] 100.0% (n=50000/50000.0) --> elapsed time: 77.60s\n",
      "Progress: [##################################################] 100.0% (n=50000/50000.0) --> elapsed time: 78.02s\n",
      "Progress: [##################################################] 100.0% (n=50000/50000.0) --> elapsed time: 78.47s\n",
      "Progress: [##################################################] 100.0% (n=50000/50000.0) --> elapsed time: 78.86s\n",
      "Progress: [##################################################] 100.0% (n=50000/50000.0) --> elapsed time: 79.25s\n",
      "Progress: [##################################################] 100.0% (n=50000/50000.0) --> elapsed time: 79.68s\n",
      "Progress: [##################################################] 100.0% (n=50000/50000.0) --> elapsed time: 80.08s\n",
      "Progress: [##################################################] 100.0% (n=50000/50000.0) --> elapsed time: 80.51s\n",
      "Progress: [##################################################] 100.0% (n=50000/50000.0) --> elapsed time: 80.90s\n",
      "Progress: [##################################################] 100.0% (n=50000/50000.0) --> elapsed time: 81.30s\n",
      "Progress: [##################################################] 100.0% (n=50000/50000.0) --> elapsed time: 81.70s\n",
      "Progress: [##################################################] 100.0% (n=50000/50000.0) --> elapsed time: 82.10s\n",
      "Progress: [##################################################] 100.0% (n=50000/50000.0) --> elapsed time: 82.49s\n",
      "Progress: [##################################################] 100.0% (n=50000/50000.0) --> elapsed time: 82.94s\n",
      "Progress: [##################################################] 100.0% (n=50000/50000.0) --> elapsed time: 83.34s\n",
      "Progress: [##################################################] 100.0% (n=50000/50000.0) --> elapsed time: 83.75s\n",
      "Progress: [##################################################] 100.0% (n=50000/50000.0) --> elapsed time: 84.13s\n",
      "Progress: [##################################################] 100.0% (n=50000/50000.0) --> elapsed time: 84.58s\n",
      "Progress: [##################################################] 100.0% (n=50000/50000.0) --> elapsed time: 85.01s\n",
      "Progress: [##################################################] 100.0% (n=50000/50000.0) --> elapsed time: 85.41s\n",
      "Progress: [##################################################] 100.0% (n=50000/50000.0) --> elapsed time: 85.84s\n",
      "Progress: [##################################################] 100.0% (n=50000/50000.0) --> elapsed time: 86.44s\n"
     ]
    },
    {
     "name": "stdout",
     "output_type": "stream",
     "text": [
      "Progress: [##################################################] 100.0% (n=50000/50000.0) --> elapsed time: 86.84s\n",
      "Progress: [##################################################] 100.0% (n=50000/50000.0) --> elapsed time: 87.29s\n",
      "Progress: [##################################################] 100.0% (n=50000/50000.0) --> elapsed time: 87.72s\n",
      "Progress: [##################################################] 100.0% (n=50000/50000.0) --> elapsed time: 88.15s\n",
      "Progress: [##################################################] 100.0% (n=50000/50000.0) --> elapsed time: 88.56s\n",
      "Progress: [##################################################] 100.0% (n=50000/50000.0) --> elapsed time: 89.00s\n",
      "Progress: [##################################################] 100.0% (n=50000/50000.0) --> elapsed time: 89.45s\n",
      "Progress: [##################################################] 100.0% (n=50000/50000.0) --> elapsed time: 89.89s\n",
      "Progress: [##################################################] 100.0% (n=50000/50000.0) --> elapsed time: 90.32s\n",
      "Progress: [##################################################] 100.0% (n=50000/50000.0) --> elapsed time: 90.75s\n",
      "Progress: [##################################################] 100.0% (n=50000/50000.0) --> elapsed time: 91.13s\n",
      "Progress: [##################################################] 100.0% (n=50000/50000.0) --> elapsed time: 91.58s\n",
      "Progress: [##################################################] 100.0% (n=50000/50000.0) --> elapsed time: 91.97s\n",
      "Progress: [##################################################] 100.0% (n=50000/50000.0) --> elapsed time: 92.39s\n",
      "Progress: [##################################################] 100.0% (n=50000/50000.0) --> elapsed time: 92.78s\n",
      "Progress: [##################################################] 100.0% (n=50000/50000.0) --> elapsed time: 93.21s\n",
      "Progress: [##################################################] 100.0% (n=50000/50000.0) --> elapsed time: 93.62s\n",
      "Progress: [##################################################] 100.0% (n=50000/50000.0) --> elapsed time: 94.01s\n",
      "Progress: [##################################################] 100.0% (n=50000/50000.0) --> elapsed time: 94.40s\n",
      "Progress: [##################################################] 100.0% (n=50000/50000.0) --> elapsed time: 94.80s\n",
      "Progress: [##################################################] 100.0% (n=50000/50000.0) --> elapsed time: 95.19s\n",
      "Progress: [##################################################] 100.0% (n=50000/50000.0) --> elapsed time: 95.58s\n",
      "Progress: [##################################################] 100.0% (n=50000/50000.0) --> elapsed time: 95.98s\n",
      "Progress: [##################################################] 100.0% (n=50000/50000.0) --> elapsed time: 96.59s\n",
      "Progress: [##################################################] 100.0% (n=50000/50000.0) --> elapsed time: 96.98s\n",
      "Progress: [##################################################] 100.0% (n=50000/50000.0) --> elapsed time: 97.43s\n",
      "Progress: [##################################################] 100.0% (n=50000/50000.0) --> elapsed time: 97.92s\n",
      "Progress: [##################################################] 100.0% (n=50000/50000.0) --> elapsed time: 98.32s\n",
      "Progress: [##################################################] 100.0% (n=50000/50000.0) --> elapsed time: 98.72s\n",
      "Progress: [##################################################] 100.0% (n=50000/50000.0) --> elapsed time: 99.12s\n",
      "Progress: [##################################################] 100.0% (n=50000/50000.0) --> elapsed time: 99.55s\n",
      "Progress: [##################################################] 100.0% (n=50000/50000.0) --> elapsed time: 99.93s\n",
      "Progress: [##################################################] 100.0% (n=50000/50000.0) --> elapsed time: 100.35s\n",
      "Progress: [##################################################] 100.0% (n=50000/50000.0) --> elapsed time: 100.76s\n",
      "Progress: [##################################################] 100.0% (n=50000/50000.0) --> elapsed time: 101.18s\n",
      "Progress: [##################################################] 100.0% (n=50000/50000.0) --> elapsed time: 101.58s\n",
      "Progress: [##################################################] 100.0% (n=50000/50000.0) --> elapsed time: 101.97s\n",
      "Progress: [##################################################] 100.0% (n=50000/50000.0) --> elapsed time: 102.39s\n",
      "Progress: [##################################################] 100.0% (n=50000/50000.0) --> elapsed time: 102.78s\n",
      "Progress: [##################################################] 100.0% (n=50000/50000.0) --> elapsed time: 103.18s\n",
      "Progress: [##################################################] 100.0% (n=50000/50000.0) --> elapsed time: 103.61s\n",
      "Progress: [##################################################] 100.0% (n=50000/50000.0) --> elapsed time: 104.02s\n",
      "Progress: [##################################################] 100.0% (n=50000/50000.0) --> elapsed time: 104.43s\n",
      "Progress: [##################################################] 100.0% (n=50000/50000.0) --> elapsed time: 104.82s\n",
      "Progress: [##################################################] 100.0% (n=50000/50000.0) --> elapsed time: 105.25s\n",
      "Progress: [##################################################] 100.0% (n=50000/50000.0) --> elapsed time: 105.69s\n",
      "Progress: [##################################################] 100.0% (n=50000/50000.0) --> elapsed time: 106.14s\n",
      "Progress: [##################################################] 100.0% (n=50000/50000.0) --> elapsed time: 106.78s\n",
      "The optimal readout length is 672 ns (SNR=0.6843874448962244)\n"
     ]
    }
   ],
   "source": [
    "readout_len = 4E3\n",
    "ringdown_len = 1E3\n",
    "division_length = 10\n",
    "\n",
    "%matplotlib qt\n",
    "machine, res_duration_sweep, SNR, opt_readout_length = Experiment.exp1D.RR.single_shot_duration_optimization(readout_len, ringdown_len, division_length, \n",
    "                            qubit_index, res_index, flux_index, n_avg = 50E3, cd_time = 20E3, plot_flag = True)"
   ]
  },
  {
   "cell_type": "code",
   "execution_count": 24,
   "id": "69bcdd34",
   "metadata": {},
   "outputs": [],
   "source": [
    "machine.resonators[res_index].readout_pulse_length = 672\n",
    "machine = Analysis.set_machine(machine)"
   ]
  },
  {
   "cell_type": "code",
   "execution_count": null,
   "id": "6cec236d",
   "metadata": {},
   "outputs": [],
   "source": []
  },
  {
   "cell_type": "code",
   "execution_count": null,
   "id": "ef4806ed",
   "metadata": {},
   "outputs": [],
   "source": []
  },
  {
   "cell_type": "code",
   "execution_count": null,
   "id": "6b41f5cf",
   "metadata": {},
   "outputs": [],
   "source": []
  },
  {
   "cell_type": "code",
   "execution_count": null,
   "id": "caa4b9a8-2db5-48e5-9759-140deb11035c",
   "metadata": {},
   "outputs": [],
   "source": []
  }
 ],
 "metadata": {
  "kernelspec": {
   "display_name": "Python 3 (ipykernel)",
   "language": "python",
   "name": "python3"
  },
  "language_info": {
   "codemirror_mode": {
    "name": "ipython",
    "version": 3
   },
   "file_extension": ".py",
   "mimetype": "text/x-python",
   "name": "python",
   "nbconvert_exporter": "python",
   "pygments_lexer": "ipython3",
   "version": "3.8.17"
  }
 },
 "nbformat": 4,
 "nbformat_minor": 5
}
