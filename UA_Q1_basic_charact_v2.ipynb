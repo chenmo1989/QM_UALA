{
 "cells": [
  {
   "cell_type": "markdown",
   "id": "49d22572",
   "metadata": {},
   "source": [
    "# Basic characterizations of UA Q1\n",
    "### using Experiment and Analysis classes"
   ]
  },
  {
   "cell_type": "code",
   "execution_count": 1,
   "id": "b08c4dec",
   "metadata": {
    "scrolled": true
   },
   "outputs": [
    {
     "name": "stdout",
     "output_type": "stream",
     "text": [
      "2023-10-24 16:30:32,305 - qm - INFO     - Starting session: 56e24945-bb27-48b1-bfb2-aa0a64d55fc1\n"
     ]
    }
   ],
   "source": [
    "from qm.qua import *\n",
    "from qm.QuantumMachinesManager import QuantumMachinesManager\n",
    "from qm import SimulationConfig, LoopbackInterface\n",
    "from qm.octave import *\n",
    "from qm.octave.octave_manager import ClockMode\n",
    "from configuration import *\n",
    "from scipy import signal\n",
    "from qm import SimulationConfig\n",
    "from qualang_tools.bakery import baking\n",
    "from qualang_tools.units import unit\n",
    "from qm import generate_qua_script\n",
    "from qm.octave import QmOctaveConfig\n",
    "from set_octave import ElementsSettings, octave_settings\n",
    "from quam import QuAM\n",
    "from scipy.io import savemat\n",
    "from scipy.io import loadmat\n",
    "from scipy.optimize import curve_fit\n",
    "from scipy.signal import savgol_filter\n",
    "from qutip import *\n",
    "from typing import Union\n",
    "from macros import *\n",
    "import datetime \n",
    "import os\n",
    "import time\n",
    "import warnings\n",
    "import json\n",
    "import matplotlib.pyplot as plt\n",
    "import numpy as np\n",
    "import Labber\n",
    "\n",
    "from ExperimentClass import ExperimentHandle\n",
    "from AnalysisClass import AnalysisHandle\n",
    "\n",
    "warnings.filterwarnings(\"ignore\")\n",
    "\n",
    "qubit_index = 0 # for UA Q1\n",
    "res_index = 0 # for UA Q1\n",
    "flux_index = 0 # for UA Q1"
   ]
  },
  {
   "cell_type": "code",
   "execution_count": 2,
   "id": "44475f4c",
   "metadata": {},
   "outputs": [],
   "source": [
    "Experiment = ExperimentHandle()\n",
    "Analysis = AnalysisHandle()\n",
    "machine = Analysis.get_machine()"
   ]
  },
  {
   "cell_type": "code",
   "execution_count": null,
   "id": "76f18494",
   "metadata": {},
   "outputs": [],
   "source": [
    "# initialize Labber-controlled hardware\n",
    "Experiment.set_Labber(Analysis.get_machine(), qubit_index, res_index, flux_index)\n",
    "# set octave to external clock\n",
    "#Experiment.set_external_clock()"
   ]
  },
  {
   "cell_type": "code",
   "execution_count": null,
   "id": "494501d8",
   "metadata": {},
   "outputs": [],
   "source": [
    "Experiment.octave_calibration(qubit_index,res_index,flux_index)"
   ]
  },
  {
   "cell_type": "markdown",
   "id": "9a6e5328",
   "metadata": {},
   "source": [
    "## Time of flight"
   ]
  },
  {
   "cell_type": "code",
   "execution_count": null,
   "id": "36b21dc5",
   "metadata": {},
   "outputs": [],
   "source": [
    "# time_of_flight\n",
    "# experiment\n",
    "machine, adc1, adc2, adc1_single, adc2_single = Experiment.exp1D.RR.time_of_flight(qubit_index,res_index,flux_index, n_avg = 10000, cd_time = 10E3, tPath = None, f_str_datetime = None, simulate_flag = False, simulation_len = 1000)\n",
    "# plot\n",
    "%matplotlib inline\n",
    "dc_offset_i, dc_offset_q, delay = Analysis.exp1D.time_of_flight(adc1,adc2,adc1_single,adc2_single)"
   ]
  },
  {
   "cell_type": "code",
   "execution_count": null,
   "id": "1a38781b",
   "metadata": {},
   "outputs": [],
   "source": [
    "# update the offset\n",
    "machine.global_parameters.con1_downconversion_offset_I += 0.002220\n",
    "machine.global_parameters.con1_downconversion_offset_Q += 0.002710\n",
    "Analysis.set_machine(machine)"
   ]
  },
  {
   "cell_type": "markdown",
   "id": "f7a6f477",
   "metadata": {},
   "source": [
    "## 1D RO resonator spectroscopy"
   ]
  },
  {
   "cell_type": "code",
   "execution_count": null,
   "id": "b9a96c35",
   "metadata": {
    "scrolled": true
   },
   "outputs": [],
   "source": [
    "%matplotlib qt\n",
    "res_freq_sweep = np.arange(7.2575E9,7.2675E9 + 1.0,0.03E6)\n",
    "machine, res_freq_sweep, sig_amp = Experiment.exp1D.RR.rr_freq(res_freq_sweep, qubit_index, res_index, flux_index, n_avg = 5E3, cd_time = 5E3, tPath = None, f_str_datetime = None, simulate_flag = False, simulation_len = 1000)"
   ]
  },
  {
   "cell_type": "code",
   "execution_count": null,
   "id": "7091f476",
   "metadata": {},
   "outputs": [],
   "source": [
    "# find the minimal\n",
    "%matplotlib inline\n",
    "res_freq = Analysis.exp1D.rr_freq(res_freq_sweep, sig_amp)\n",
    "machine.resonators[res_index].f_readout = res_freq.tolist() + 0E6\n",
    "machine = Analysis.set_machine(machine)"
   ]
  },
  {
   "cell_type": "markdown",
   "id": "c23f0f9d",
   "metadata": {},
   "source": [
    "## 2D RO resonator spectroscopy vs DC flux"
   ]
  },
  {
   "cell_type": "code",
   "execution_count": null,
   "id": "3b659ab6",
   "metadata": {},
   "outputs": [],
   "source": [
    "res_freq_sweep = np.arange(7.254E9,7.267E9 + 1.0,0.1E6)\n",
    "dc_flux_sweep = np.arange(-9,9.001,0.5)\n",
    "%matplotlib qt\n",
    "machine, res_freq_sweep, dc_flux_sweep, sig_amp = Experiment.exp2D.RR.rr_vs_dc_flux(res_freq_sweep, dc_flux_sweep, qubit_index, res_index, flux_index, n_avg = 1E3, cd_time = 10E3)"
   ]
  },
  {
   "cell_type": "code",
   "execution_count": null,
   "id": "4dac1a35",
   "metadata": {},
   "outputs": [],
   "source": [
    "%matplotlib inline\n",
    "ham_param = Analysis.exp2D.rr_vs_dc_flux(res_freq_sweep, dc_flux_sweep, sig_amp, init_guess = None)\n",
    "poly_param = Analysis.exp2D.qubit_vs_dc_flux_guess(ham_param)"
   ]
  },
  {
   "cell_type": "code",
   "execution_count": null,
   "id": "56cab19d",
   "metadata": {},
   "outputs": [],
   "source": [
    "# save the fitting parameters\n",
    "machine.resonators[res_index].tuning_curve = ham_param.tolist()\n",
    "machine.qubits[qubit_index].tuning_curve = poly_param.tolist()\n",
    "machine = Analysis.set_machine(machine)"
   ]
  },
  {
   "cell_type": "code",
   "execution_count": null,
   "id": "02e0a7bc",
   "metadata": {},
   "outputs": [],
   "source": [
    "# save the sweep spot flux according to fitted parameter\n",
    "machine.flux_lines[flux_index].max_frequency_point = Analysis.get_sweept_spot(machine.qubits[qubit_index].tuning_curve)\n",
    "machine = Analysis.set_machine(machine)"
   ]
  },
  {
   "cell_type": "markdown",
   "id": "7512d423",
   "metadata": {},
   "source": [
    "## 1D qubit spectroscopy @ sweep spot"
   ]
  },
  {
   "cell_type": "code",
   "execution_count": null,
   "id": "8399c75c",
   "metadata": {},
   "outputs": [],
   "source": [
    "# set to sweet spot\n",
    "machine = Experiment.set_QDAC(qubit_index,res_index,flux_index,machine.flux_lines[flux_index].max_frequency_point)"
   ]
  },
  {
   "cell_type": "code",
   "execution_count": null,
   "id": "b3048a68",
   "metadata": {},
   "outputs": [],
   "source": [
    "# calibrate RO\n",
    "%matplotlib qt\n",
    "#res_freq_sweep = np.arange(7.2575E9,7.2675E9 + 1.0,0.03E6)\n",
    "ham_param = machine.resonators[res_index].tuning_curve\n",
    "res_freq_est = Analysis.exp2D.ham([flux_index,machine.flux_lines[flux_index].max_frequency_point], ham_param[0], ham_param[1], ham_param[2], ham_param[3], ham_param[4], ham_param[5], output_flag = 1) * 1E6 # to Hz\n",
    "res_freq_sweep = int(res_freq_est[0]) + np.arange(-5E6, 5E6 + 1, 0.05E6)\n",
    "machine, res_freq_sweep, sig_amp = Experiment.exp1D.RR.rr_freq(res_freq_sweep, qubit_index, res_index, flux_index, n_avg = 5E3, cd_time = 5E3, plot_flag = False, tPath = None, f_str_datetime = None, simulate_flag = False, simulation_len = 1000)\n",
    "%matplotlib inline\n",
    "res_freq = Analysis.exp1D.rr_freq(res_freq_sweep, sig_amp)\n",
    "res_freq = int(res_freq.tolist())\n",
    "machine.resonators[res_index].f_readout = res_freq + 0E6\n",
    "machine.resonators[res_index].lo = res_freq + 50E6\n",
    "machine = Analysis.set_machine(machine)"
   ]
  },
  {
   "cell_type": "code",
   "execution_count": null,
   "id": "431a87c3",
   "metadata": {},
   "outputs": [],
   "source": [
    "# calibrate octave\n",
    "Experiment.octave_calibration(qubit_index,res_index,flux_index)"
   ]
  },
  {
   "cell_type": "code",
   "execution_count": null,
   "id": "463e4ef5",
   "metadata": {},
   "outputs": [],
   "source": [
    "#qubit_freq_sweep = np.arange(6.30E9,6.60E9+1,1E6)\n",
    "qubit_freq_est = np.polyval(machine.qubits[qubit_index].tuning_curve,machine.flux_lines[flux_index].max_frequency_point) * 1E6 # in Hz\n",
    "qubit_freq_sweep = int(qubit_freq_est) + np.arange(-50E6, 50E6 + 1, 1E6)\n",
    "    \n",
    "%matplotlib qt\n",
    "machine, qubit_freq_sweep, sig_amp = Experiment.exp1D.Rabi.qubit_freq(qubit_freq_sweep, qubit_index, res_index, flux_index, \n",
    "                                      pi_amp_rel = 1.0, ff_amp = 0.0, n_avg = 2E3, cd_time = 10E3, plot_flag = False)"
   ]
  },
  {
   "cell_type": "code",
   "execution_count": null,
   "id": "4831c24f",
   "metadata": {},
   "outputs": [],
   "source": [
    "%matplotlib inline\n",
    "qubit_freq = Analysis.exp1D.peak_fit(x=qubit_freq_sweep,y=sig_amp,method=\"gaussian\")\n",
    "qubit_freq = int(qubit_freq.tolist())\n",
    "machine.qubits[qubit_index].f_01 = qubit_freq + 0E6\n",
    "machine.qubits[qubit_index].lo = qubit_freq + 100E6\n",
    "machine = Analysis.set_machine(machine)"
   ]
  },
  {
   "cell_type": "code",
   "execution_count": null,
   "id": "f6106e19",
   "metadata": {},
   "outputs": [],
   "source": [
    "# calibrate octave\n",
    "Experiment.octave_calibration(qubit_index,res_index,flux_index)"
   ]
  },
  {
   "cell_type": "markdown",
   "id": "7f73ccef",
   "metadata": {},
   "source": [
    "## Rabi"
   ]
  },
  {
   "cell_type": "markdown",
   "id": "8dc4372f",
   "metadata": {},
   "source": [
    "### time rabi"
   ]
  },
  {
   "cell_type": "code",
   "execution_count": null,
   "id": "55516ebb",
   "metadata": {},
   "outputs": [],
   "source": [
    "%matplotlib qt\n",
    "rabi_duration_sweep = np.arange(4, 40 + 0.1, 1)  # in units of clock cyles\n",
    "rabi_duration_sweep = rabi_duration_sweep.astype(int)\n",
    "machine, rabi_duration_sweep, sig_amp = Experiment.exp1D.Rabi.rabi_length(rabi_duration_sweep, qubit_index, res_index, flux_index, \n",
    "                                          pi_amp_rel = 1.0, n_avg = 2E3, cd_time = 10E3, plot_flag = False)"
   ]
  },
  {
   "cell_type": "code",
   "execution_count": null,
   "id": "c1830c11",
   "metadata": {},
   "outputs": [],
   "source": [
    "%matplotlib inline\n",
    "pi_pulse_length = Analysis.exp1D.rabi_length(rabi_duration_sweep,sig_amp,plot_flag = True)"
   ]
  },
  {
   "cell_type": "code",
   "execution_count": null,
   "id": "2ab3d637",
   "metadata": {},
   "outputs": [],
   "source": [
    "machine.qubits[qubit_index].pi_length[0] = 36\n",
    "machine = Analysis.set_machine(machine)"
   ]
  },
  {
   "cell_type": "markdown",
   "id": "cc52c092",
   "metadata": {},
   "source": [
    "### power rabi"
   ]
  },
  {
   "cell_type": "code",
   "execution_count": null,
   "id": "5ae8cbc8",
   "metadata": {},
   "outputs": [],
   "source": [
    "%matplotlib qt\n",
    "rabi_amp_sweep_rel = np.arange(0.3, 2.0, 0.05) \n",
    "machine, rabi_amp_sweep_abs, sig_amp = Experiment.exp1D.Rabi.rabi_amp(rabi_amp_sweep_rel, qubit_index, res_index, flux_index, \n",
    "                                          n_avg = 2E3, cd_time = 10E3, plot_flag = False)"
   ]
  },
  {
   "cell_type": "code",
   "execution_count": null,
   "id": "7b1e55c4",
   "metadata": {},
   "outputs": [],
   "source": [
    "%matplotlib inline\n",
    "pi_pulse_amp = Analysis.exp1D.rabi_length(rabi_amp_sweep_abs,sig_amp,method = \"power_rabi\", plot_flag = True)"
   ]
  },
  {
   "cell_type": "code",
   "execution_count": null,
   "id": "cec16801",
   "metadata": {},
   "outputs": [],
   "source": [
    "machine.qubits[qubit_index].pi_amp[0] = pi_pulse_amp.tolist()\n",
    "machine = Analysis.set_machine(machine)"
   ]
  },
  {
   "cell_type": "markdown",
   "id": "07e3862d",
   "metadata": {},
   "source": [
    "## 2D qubit spectroscopy vs dc flux"
   ]
  },
  {
   "cell_type": "code",
   "execution_count": null,
   "id": "15755e8f",
   "metadata": {},
   "outputs": [],
   "source": [
    "# try the experiment\n",
    "%matplotlib qt\n",
    "dc_flux_sweep = machine.flux_lines[flux_index].max_frequency_point + np.arange(-0.6,0.6+1E-4,0.05)\n",
    "_,qubit_freq_sweep,dc_flux_sweep,sig_amp_qubit = Experiment.exp2D.Rabi.qubit_freq_vs_dc_flux(dc_flux_sweep,qubit_index,res_index,flux_index,\n",
    "                                 n_avg = 2E3, cd_time = 10E3, pi_amp_rel = 1.0, plot_flag = True)"
   ]
  },
  {
   "cell_type": "code",
   "execution_count": null,
   "id": "c50d8fa7",
   "metadata": {},
   "outputs": [],
   "source": [
    "# udpate the sweet spot\n",
    "%matplotlib inline\n",
    "poly_param = Analysis.exp2D.qubit_vs_dc_flux(qubit_freq_sweep, dc_flux_sweep, sig_amp_qubit, fit_order = 2, plot_flag = False)\n",
    "machine.flux_lines[flux_index].max_frequency_point = Analysis.get_sweept_spot(poly_param).tolist() + 0E1\n",
    "print(f\"sweet spot flux: {machine.flux_lines[flux_index].max_frequency_point:.5f} V\")"
   ]
  },
  {
   "cell_type": "code",
   "execution_count": null,
   "id": "68b35bb7",
   "metadata": {},
   "outputs": [],
   "source": [
    "# save the sweep spot flux according to fitted parameter\n",
    "poly_param = Analysis.exp2D.qubit_vs_dc_flux(qubit_freq_sweep, dc_flux_sweep, sig_amp_qubit, fit_order = 4, plot_flag = True)\n",
    "machine.qubits[qubit_index].tuning_curve = poly_param.tolist()\n",
    "machine = Analysis.set_machine(machine)\n",
    "Analysis.update_analysis_tuning_curve(qubit_index,res_index,flux_index)"
   ]
  },
  {
   "cell_type": "markdown",
   "id": "8164027c",
   "metadata": {},
   "source": [
    "## 2D qubit spectroscopy vs fast flux"
   ]
  },
  {
   "cell_type": "code",
   "execution_count": null,
   "id": "1afc5b22",
   "metadata": {},
   "outputs": [],
   "source": [
    "# set DC voltage to sweet spot, after possible dc flux sweep\n",
    "machine = Experiment.set_QDAC(qubit_index,res_index,flux_index,machine.flux_lines[flux_index].max_frequency_point)\n",
    "machine = Analysis.set_machine(machine)"
   ]
  },
  {
   "cell_type": "markdown",
   "id": "a6e48433",
   "metadata": {},
   "source": [
    "### slow version, compiling 1D scans"
   ]
  },
  {
   "cell_type": "code",
   "execution_count": null,
   "id": "10fe63b6",
   "metadata": {},
   "outputs": [],
   "source": [
    "# try the experiment\n",
    "%matplotlib qt\n",
    "ff_sweep = np.arange(0.0,0.3+1E-4,0.05)\n",
    "qubit_if_sweep = np.arange(-100E6, 100E6 + 1, 2E6)\n",
    "machine,qubit_freq_sweep,ff_sweep_abs,sig_amp_qubit = Experiment.exp2D.Rabi.qubit_freq_vs_fast_flux_slow(ff_sweep,qubit_if_sweep,\n",
    "          qubit_index,res_index,flux_index,ff_to_dc_ratio = None, n_avg = 1E3, cd_time = 10E3, pi_amp_rel = 1.0, plot_flag = True)"
   ]
  },
  {
   "cell_type": "code",
   "execution_count": null,
   "id": "32fd2424",
   "metadata": {},
   "outputs": [],
   "source": [
    "# save the fitted tuning curve\n",
    "%matplotlib inline\n",
    "poly_param = Analysis.exp2D.qubit_vs_fast_flux(qubit_freq_sweep, ff_sweep_abs, sig_amp_qubit, fit_order = 4, plot_flag = True)\n",
    "machine.qubits[qubit_index].tuning_curve = poly_param.tolist()\n",
    "machine = Analysis.set_machine(machine)\n",
    "Analysis.update_analysis_tuning_curve(qubit_index,res_index,flux_index)"
   ]
  },
  {
   "cell_type": "markdown",
   "id": "aca48e4e",
   "metadata": {},
   "source": [
    "### fast version, runs blockwise 2D sweeps"
   ]
  },
  {
   "cell_type": "code",
   "execution_count": null,
   "id": "72d896d5",
   "metadata": {},
   "outputs": [],
   "source": [
    "# try the experiment\n",
    "%matplotlib qt\n",
    "ff_sweep_abs = np.arange(0.0,0.3+1E-4,0.05)\n",
    "qubit_if_sweep = np.arange(-100E6, 100E6 + 1, 2E6)\n",
    "machine,qubit_freq_sweep,ff_sweep_abs,sig_amp_qubit = Experiment.exp2D.Rabi.qubit_freq_vs_fast_flux(ff_sweep_abs,qubit_if_sweep,\n",
    "          qubit_index,res_index,flux_index,ff_to_dc_ratio = None, n_avg = 1E3, cd_time = 10E3, pi_amp_rel = 1.0, plot_flag = True)"
   ]
  },
  {
   "cell_type": "markdown",
   "id": "7d2c734a",
   "metadata": {},
   "source": [
    "### test the code"
   ]
  },
  {
   "cell_type": "code",
   "execution_count": 3,
   "id": "42aa6089",
   "metadata": {},
   "outputs": [],
   "source": [
    "ff_sweep_rel_seg = np.array([0,0.1,0.2])\n",
    "qubit_freq_est_sweep_seg = np.array([6.2E9, 6.1E9, 6E9])\n",
    "qubit_if_sweep = np.arange(-10E6,10E6 + 1, 1E6)"
   ]
  },
  {
   "cell_type": "code",
   "execution_count": 4,
   "id": "c0e9fd1b",
   "metadata": {},
   "outputs": [
    {
     "ename": "TypeError",
     "evalue": "unsupported operand type(s) for -: 'list' and 'float'",
     "output_type": "error",
     "traceback": [
      "\u001b[1;31m---------------------------------------------------------------------------\u001b[0m",
      "\u001b[1;31mTypeError\u001b[0m                                 Traceback (most recent call last)",
      "Cell \u001b[1;32mIn[4], line 1\u001b[0m\n\u001b[1;32m----> 1\u001b[0m machine, qubit_freq_sweep_tmp, I_tmp, Q_tmp, ff_sweep_tmp \u001b[38;5;241m=\u001b[39m \u001b[43mExperiment\u001b[49m\u001b[38;5;241;43m.\u001b[39;49m\u001b[43mexp2D\u001b[49m\u001b[38;5;241;43m.\u001b[39;49m\u001b[43mRabi\u001b[49m\u001b[38;5;241;43m.\u001b[39;49m\u001b[43mqubit_freq_fast_flux_subroutine\u001b[49m\u001b[43m(\u001b[49m\n\u001b[0;32m      2\u001b[0m \u001b[43m        \u001b[49m\u001b[43mff_sweep_rel_seg\u001b[49m\u001b[43m,\u001b[49m\u001b[43m \u001b[49m\u001b[43mqubit_freq_est_sweep_seg\u001b[49m\u001b[43m,\u001b[49m\u001b[43m \u001b[49m\u001b[43mqubit_if_sweep\u001b[49m\u001b[43m,\u001b[49m\n\u001b[0;32m      3\u001b[0m \u001b[43m        \u001b[49m\u001b[43mqubit_index\u001b[49m\u001b[43m,\u001b[49m\u001b[43m \u001b[49m\u001b[43mres_index\u001b[49m\u001b[43m,\u001b[49m\u001b[43m \u001b[49m\u001b[43mflux_index\u001b[49m\u001b[43m,\u001b[49m\u001b[43m \u001b[49m\u001b[43mpi_amp_rel\u001b[49m\u001b[38;5;241;43m=\u001b[39;49m\u001b[38;5;241;43m1.0\u001b[39;49m\u001b[43m,\u001b[49m\u001b[43m \u001b[49m\u001b[43mn_avg\u001b[49m\u001b[38;5;241;43m=\u001b[39;49m\u001b[38;5;241;43m100\u001b[39;49m\u001b[43m,\u001b[49m\u001b[43m \u001b[49m\u001b[43mcd_time\u001b[49m\u001b[38;5;241;43m=\u001b[39;49m\u001b[38;5;241;43m10E3\u001b[39;49m\u001b[43m,\u001b[49m\u001b[43m \u001b[49m\u001b[43mmachine\u001b[49m\u001b[38;5;241;43m=\u001b[39;49m\u001b[43mmachine\u001b[49m\u001b[43m)\u001b[49m\n",
      "File \u001b[1;32m~\\QM\\QM_UALA\\ExperimentClass_2D.py:698\u001b[0m, in \u001b[0;36mEH_Rabi.qubit_freq_fast_flux_subroutine\u001b[1;34m(self, ff_sweep_rel, qubit_freq_est_sweep, qubit_if_sweep, qubit_index, res_index, flux_index, pi_amp_rel, n_avg, cd_time, machine, simulate_flag, simulation_len, fig)\u001b[0m\n\u001b[0;32m    696\u001b[0m qubit_lo \u001b[38;5;241m=\u001b[39m machine\u001b[38;5;241m.\u001b[39mqubits[qubit_index]\u001b[38;5;241m.\u001b[39mlo\n\u001b[0;32m    697\u001b[0m \u001b[38;5;66;03m#qubit_if_est_sweep = np.round(qubit_freq_est_sweep - qubit_lo)\u001b[39;00m\n\u001b[1;32m--> 698\u001b[0m qubit_if_est_sweep \u001b[38;5;241m=\u001b[39m \u001b[43mqubit_freq_est_sweep\u001b[49m\u001b[43m \u001b[49m\u001b[38;5;241;43m-\u001b[39;49m\u001b[43m \u001b[49m\u001b[43mqubit_lo\u001b[49m\n\u001b[0;32m    699\u001b[0m ff_duration \u001b[38;5;241m=\u001b[39m machine\u001b[38;5;241m.\u001b[39mqubits[qubit_index]\u001b[38;5;241m.\u001b[39mpi_length[\u001b[38;5;241m0\u001b[39m] \u001b[38;5;241m+\u001b[39m \u001b[38;5;241m40\u001b[39m\n\u001b[0;32m    701\u001b[0m \u001b[38;5;66;03m# construct qubit freq_sweep_tot\u001b[39;00m\n\u001b[0;32m    702\u001b[0m \u001b[38;5;66;03m#qubit_freq_sweep_tot = []\u001b[39;00m\n\u001b[0;32m    703\u001b[0m \u001b[38;5;66;03m#for qubit_freq_i in qubit_freq_est_sweep:\u001b[39;00m\n\u001b[0;32m    704\u001b[0m \u001b[38;5;66;03m#\tqubit_freq_sweep_tot.append(qubit_freq_i + qubit_if_sweep)\u001b[39;00m\n",
      "\u001b[1;31mTypeError\u001b[0m: unsupported operand type(s) for -: 'list' and 'float'"
     ]
    }
   ],
   "source": [
    "machine, qubit_freq_sweep_tmp, I_tmp, Q_tmp, ff_sweep_tmp = Experiment.exp2D.Rabi.qubit_freq_fast_flux_subroutine(\n",
    "        ff_sweep_rel_seg, qubit_freq_est_sweep_seg, qubit_if_sweep,\n",
    "        qubit_index, res_index, flux_index, pi_amp_rel=1.0, n_avg=100, cd_time=10E3, machine=machine)"
   ]
  },
  {
   "cell_type": "code",
   "execution_count": null,
   "id": "be5427f8",
   "metadata": {},
   "outputs": [],
   "source": []
  },
  {
   "cell_type": "code",
   "execution_count": null,
   "id": "cb5fb59d",
   "metadata": {},
   "outputs": [],
   "source": []
  }
 ],
 "metadata": {
  "kernelspec": {
   "display_name": "Python 3 (ipykernel)",
   "language": "python",
   "name": "python3"
  },
  "language_info": {
   "codemirror_mode": {
    "name": "ipython",
    "version": 3
   },
   "file_extension": ".py",
   "mimetype": "text/x-python",
   "name": "python",
   "nbconvert_exporter": "python",
   "pygments_lexer": "ipython3",
   "version": "3.8.17"
  }
 },
 "nbformat": 4,
 "nbformat_minor": 5
}
