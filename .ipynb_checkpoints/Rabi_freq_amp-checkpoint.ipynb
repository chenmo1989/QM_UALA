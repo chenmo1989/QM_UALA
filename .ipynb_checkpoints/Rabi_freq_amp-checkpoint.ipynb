{
 "cells": [
  {
   "cell_type": "code",
   "execution_count": null,
   "id": "36536e90-e0dc-4b12-acaf-c2e2026ce353",
   "metadata": {},
   "outputs": [],
   "source": [
    "## reset QDAC to 0V\n",
    "# also set CH6 for LA Q2 to sweet spot\n",
    "import qdac\n",
    "import random\n",
    "import math\n",
    "\n",
    "with qdac.qdac('COM3') as q:\n",
    "    print(\"QDAC Serial number: %s\" % q.getSerialNumber())\n",
    "    print(\"Number of channels: %d\" % q.getNumberOfChannels())\n",
    "\n",
    "    print(\"-----------------------------------------------\")\n",
    "    print(\"Setting All Channels DC voltage to 0 V\")\n",
    "    for n in range(1,24,1):\n",
    "        # print(\"Setting Channel %d voltage range to 10 V\" % n)\n",
    "        # result = q.setVoltageRange(channel=n, theRange=10)\n",
    "        # print(\"Result: %s\" % result)\n",
    "        #print(\"Setting Channel %d DC voltage to 0 V\" % n)\n",
    "        result = q.setDCVoltage(channel=n, volts=0)\n",
    "        #print(\"Result: %s\" % result)\n",
    "        #voltage1 = q.getDCVoltage(n)\n",
    "        #print(\"Voltage output on channel %d is %f V\" % n % voltage1)\n",
    "\n",
    "    print(\"Setting Channel 6 DC voltage to sweet spot\")\n",
    "    result = q.setDCVoltage(channel=6, volts=6.4352E-3)"
   ]
  },
  {
   "cell_type": "code",
   "execution_count": 1,
   "id": "60bc1743-7c66-46ce-9df0-9e83ec0011d9",
   "metadata": {},
   "outputs": [
    {
     "name": "stdout",
     "output_type": "stream",
     "text": [
      "2023-08-15 17:24:00,557 - qm - INFO     - Starting session: a4ffd96b-b8c7-4a8f-a36b-7632453c00ea\n",
      "2023-08-15 17:24:13,939 - qm - ERROR    - Encountered connection error from QOP\n",
      "Traceback (most recent call last):\n",
      "  File \"C:\\Users\\painter\\AppData\\Roaming\\Python\\Python38\\site-packages\\qm\\api\\base_api.py\", line 27, in wrapped\n",
      "    return func(*args, **kwargs)\n",
      "  File \"C:\\Users\\painter\\AppData\\Roaming\\Python\\Python38\\site-packages\\qm\\api\\frontend_api.py\", line 79, in get_version\n",
      "    response = run_async(self._stub.get_version(Empty(), timeout=self._timeout))\n",
      "  File \"C:\\Users\\painter\\AppData\\Roaming\\Python\\Python38\\site-packages\\qm\\utils\\async_utils.py\", line 37, in run_async\n",
      "    return create_future(coroutine).result()  # type: ignore[no-any-return]\n",
      "  File \"C:\\Users\\painter\\.conda\\envs\\qm1-env\\lib\\concurrent\\futures\\_base.py\", line 444, in result\n",
      "    return self.__get_result()\n",
      "  File \"C:\\Users\\painter\\.conda\\envs\\qm1-env\\lib\\concurrent\\futures\\_base.py\", line 389, in __get_result\n",
      "    raise self._exception\n",
      "  File \"C:\\Users\\painter\\AppData\\Roaming\\Python\\Python38\\site-packages\\qm\\grpc\\frontend\\__init__.py\", line 697, in get_version\n",
      "    return await self._unary_unary(\n",
      "  File \"C:\\Users\\painter\\AppData\\Roaming\\Python\\Python38\\site-packages\\betterproto\\grpc\\grpclib_client.py\", line 85, in _unary_unary\n",
      "    response = await stream.recv_message()\n",
      "  File \"C:\\Users\\painter\\AppData\\Roaming\\Python\\Python38\\site-packages\\grpclib\\client.py\", line 425, in recv_message\n",
      "    await self.recv_initial_metadata()\n",
      "  File \"C:\\Users\\painter\\AppData\\Roaming\\Python\\Python38\\site-packages\\grpclib\\client.py\", line 371, in recv_initial_metadata\n",
      "    self._raise_for_status(headers_map)\n",
      "  File \"C:\\Users\\painter\\AppData\\Roaming\\Python\\Python38\\site-packages\\grpclib\\client.py\", line 296, in _raise_for_status\n",
      "    raise GRPCError(grpc_status,\n",
      "grpclib.exceptions.GRPCError: (<Status.UNKNOWN: 2>, \"Received :status = '302'\", None)\n",
      "2023-08-15 17:24:15,129 - qm - INFO     - Octave \"octave1\" Health check passed, current temperature 58\n",
      "2023-08-15 17:24:15,130 - qm - INFO     - Performing health check\n",
      "2023-08-15 17:24:15,142 - qm - INFO     - Health check passed\n",
      "2023-08-15 17:24:15,897 - qm - INFO     - Sending program to QOP for compilation\n",
      "2023-08-15 17:24:16,113 - qm - INFO     - Executing program\n",
      "Progress: [#                                                 ] 2.0% (n=4/200) --> elapsed time: 0.53s\r"
     ]
    },
    {
     "name": "stderr",
     "output_type": "stream",
     "text": [
      "C:\\Users\\painter\\AppData\\Local\\Temp\\ipykernel_28524\\2051382538.py:131: MatplotlibDeprecationWarning: Auto-removal of overlapping axes is deprecated since 3.6 and will be removed two minor releases later; explicitly call ax.remove() as needed.\n",
      "  plt.subplot(211)\n",
      "C:\\Users\\painter\\AppData\\Local\\Temp\\ipykernel_28524\\2051382538.py:138: MatplotlibDeprecationWarning: Auto-removal of overlapping axes is deprecated since 3.6 and will be removed two minor releases later; explicitly call ax.remove() as needed.\n",
      "  plt.subplot(212)\n",
      "C:\\Users\\painter\\AppData\\Local\\Temp\\ipykernel_28524\\2051382538.py:145: UserWarning: The figure layout has changed to tight\n",
      "  plt.tight_layout()\n",
      "C:\\Users\\painter\\AppData\\Local\\Temp\\ipykernel_28524\\2051382538.py:131: MatplotlibDeprecationWarning: Auto-removal of overlapping axes is deprecated since 3.6 and will be removed two minor releases later; explicitly call ax.remove() as needed.\n",
      "  plt.subplot(211)\n"
     ]
    },
    {
     "name": "stdout",
     "output_type": "stream",
     "text": [
      "Progress: [#                                                 ] 3.0% (n=6/200) --> elapsed time: 1.02s\r"
     ]
    },
    {
     "name": "stderr",
     "output_type": "stream",
     "text": [
      "C:\\Users\\painter\\AppData\\Local\\Temp\\ipykernel_28524\\2051382538.py:138: MatplotlibDeprecationWarning: Auto-removal of overlapping axes is deprecated since 3.6 and will be removed two minor releases later; explicitly call ax.remove() as needed.\n",
      "  plt.subplot(212)\n",
      "C:\\Users\\painter\\AppData\\Local\\Temp\\ipykernel_28524\\2051382538.py:145: UserWarning: The figure layout has changed to tight\n",
      "  plt.tight_layout()\n"
     ]
    },
    {
     "name": "stdout",
     "output_type": "stream",
     "text": [
      "Progress: [#                                                 ] 3.5% (n=7/200) --> elapsed time: 1.42s\r"
     ]
    },
    {
     "name": "stderr",
     "output_type": "stream",
     "text": [
      "C:\\Users\\painter\\AppData\\Local\\Temp\\ipykernel_28524\\2051382538.py:131: MatplotlibDeprecationWarning: Auto-removal of overlapping axes is deprecated since 3.6 and will be removed two minor releases later; explicitly call ax.remove() as needed.\n",
      "  plt.subplot(211)\n",
      "C:\\Users\\painter\\AppData\\Local\\Temp\\ipykernel_28524\\2051382538.py:138: MatplotlibDeprecationWarning: Auto-removal of overlapping axes is deprecated since 3.6 and will be removed two minor releases later; explicitly call ax.remove() as needed.\n",
      "  plt.subplot(212)\n",
      "C:\\Users\\painter\\AppData\\Local\\Temp\\ipykernel_28524\\2051382538.py:145: UserWarning: The figure layout has changed to tight\n",
      "  plt.tight_layout()\n"
     ]
    },
    {
     "name": "stdout",
     "output_type": "stream",
     "text": [
      "Progress: [##                                                ] 4.5% (n=9/200) --> elapsed time: 1.86s\r"
     ]
    },
    {
     "name": "stderr",
     "output_type": "stream",
     "text": [
      "C:\\Users\\painter\\AppData\\Local\\Temp\\ipykernel_28524\\2051382538.py:131: MatplotlibDeprecationWarning: Auto-removal of overlapping axes is deprecated since 3.6 and will be removed two minor releases later; explicitly call ax.remove() as needed.\n",
      "  plt.subplot(211)\n",
      "C:\\Users\\painter\\AppData\\Local\\Temp\\ipykernel_28524\\2051382538.py:138: MatplotlibDeprecationWarning: Auto-removal of overlapping axes is deprecated since 3.6 and will be removed two minor releases later; explicitly call ax.remove() as needed.\n",
      "  plt.subplot(212)\n",
      "C:\\Users\\painter\\AppData\\Local\\Temp\\ipykernel_28524\\2051382538.py:145: UserWarning: The figure layout has changed to tight\n",
      "  plt.tight_layout()\n"
     ]
    },
    {
     "name": "stdout",
     "output_type": "stream",
     "text": [
      "Progress: [###                                               ] 6.5% (n=13/200) --> elapsed time: 2.67s\r"
     ]
    },
    {
     "name": "stderr",
     "output_type": "stream",
     "text": [
      "C:\\Users\\painter\\AppData\\Local\\Temp\\ipykernel_28524\\2051382538.py:131: MatplotlibDeprecationWarning: Auto-removal of overlapping axes is deprecated since 3.6 and will be removed two minor releases later; explicitly call ax.remove() as needed.\n",
      "  plt.subplot(211)\n",
      "C:\\Users\\painter\\AppData\\Local\\Temp\\ipykernel_28524\\2051382538.py:138: MatplotlibDeprecationWarning: Auto-removal of overlapping axes is deprecated since 3.6 and will be removed two minor releases later; explicitly call ax.remove() as needed.\n",
      "  plt.subplot(212)\n",
      "C:\\Users\\painter\\AppData\\Local\\Temp\\ipykernel_28524\\2051382538.py:145: UserWarning: The figure layout has changed to tight\n",
      "  plt.tight_layout()\n",
      "C:\\Users\\painter\\AppData\\Local\\Temp\\ipykernel_28524\\2051382538.py:131: MatplotlibDeprecationWarning: Auto-removal of overlapping axes is deprecated since 3.6 and will be removed two minor releases later; explicitly call ax.remove() as needed.\n",
      "  plt.subplot(211)\n"
     ]
    },
    {
     "name": "stdout",
     "output_type": "stream",
     "text": [
      "Progress: [###                                               ] 7.5% (n=15/200) --> elapsed time: 3.18s\r"
     ]
    },
    {
     "name": "stderr",
     "output_type": "stream",
     "text": [
      "C:\\Users\\painter\\AppData\\Local\\Temp\\ipykernel_28524\\2051382538.py:138: MatplotlibDeprecationWarning: Auto-removal of overlapping axes is deprecated since 3.6 and will be removed two minor releases later; explicitly call ax.remove() as needed.\n",
      "  plt.subplot(212)\n",
      "C:\\Users\\painter\\AppData\\Local\\Temp\\ipykernel_28524\\2051382538.py:145: UserWarning: The figure layout has changed to tight\n",
      "  plt.tight_layout()\n"
     ]
    },
    {
     "name": "stdout",
     "output_type": "stream",
     "text": [
      "Progress: [####                                              ] 8.0% (n=16/200) --> elapsed time: 3.60s\r"
     ]
    },
    {
     "name": "stderr",
     "output_type": "stream",
     "text": [
      "C:\\Users\\painter\\AppData\\Local\\Temp\\ipykernel_28524\\2051382538.py:131: MatplotlibDeprecationWarning: Auto-removal of overlapping axes is deprecated since 3.6 and will be removed two minor releases later; explicitly call ax.remove() as needed.\n",
      "  plt.subplot(211)\n",
      "C:\\Users\\painter\\AppData\\Local\\Temp\\ipykernel_28524\\2051382538.py:138: MatplotlibDeprecationWarning: Auto-removal of overlapping axes is deprecated since 3.6 and will be removed two minor releases later; explicitly call ax.remove() as needed.\n",
      "  plt.subplot(212)\n",
      "C:\\Users\\painter\\AppData\\Local\\Temp\\ipykernel_28524\\2051382538.py:145: UserWarning: The figure layout has changed to tight\n",
      "  plt.tight_layout()\n",
      "C:\\Users\\painter\\AppData\\Local\\Temp\\ipykernel_28524\\2051382538.py:131: MatplotlibDeprecationWarning: Auto-removal of overlapping axes is deprecated since 3.6 and will be removed two minor releases later; explicitly call ax.remove() as needed.\n",
      "  plt.subplot(211)\n"
     ]
    },
    {
     "name": "stdout",
     "output_type": "stream",
     "text": [
      "Progress: [####                                              ] 9.0% (n=18/200) --> elapsed time: 3.98s\r"
     ]
    },
    {
     "name": "stderr",
     "output_type": "stream",
     "text": [
      "C:\\Users\\painter\\AppData\\Local\\Temp\\ipykernel_28524\\2051382538.py:138: MatplotlibDeprecationWarning: Auto-removal of overlapping axes is deprecated since 3.6 and will be removed two minor releases later; explicitly call ax.remove() as needed.\n",
      "  plt.subplot(212)\n",
      "C:\\Users\\painter\\AppData\\Local\\Temp\\ipykernel_28524\\2051382538.py:145: UserWarning: The figure layout has changed to tight\n",
      "  plt.tight_layout()\n"
     ]
    },
    {
     "name": "stdout",
     "output_type": "stream",
     "text": [
      "Progress: [#####                                             ] 10.0% (n=20/200) --> elapsed time: 4.41s\r"
     ]
    },
    {
     "name": "stderr",
     "output_type": "stream",
     "text": [
      "C:\\Users\\painter\\AppData\\Local\\Temp\\ipykernel_28524\\2051382538.py:131: MatplotlibDeprecationWarning: Auto-removal of overlapping axes is deprecated since 3.6 and will be removed two minor releases later; explicitly call ax.remove() as needed.\n",
      "  plt.subplot(211)\n",
      "C:\\Users\\painter\\AppData\\Local\\Temp\\ipykernel_28524\\2051382538.py:138: MatplotlibDeprecationWarning: Auto-removal of overlapping axes is deprecated since 3.6 and will be removed two minor releases later; explicitly call ax.remove() as needed.\n",
      "  plt.subplot(212)\n",
      "C:\\Users\\painter\\AppData\\Local\\Temp\\ipykernel_28524\\2051382538.py:145: UserWarning: The figure layout has changed to tight\n",
      "  plt.tight_layout()\n",
      "C:\\Users\\painter\\AppData\\Local\\Temp\\ipykernel_28524\\2051382538.py:131: MatplotlibDeprecationWarning: Auto-removal of overlapping axes is deprecated since 3.6 and will be removed two minor releases later; explicitly call ax.remove() as needed.\n",
      "  plt.subplot(211)\n"
     ]
    },
    {
     "name": "stdout",
     "output_type": "stream",
     "text": [
      "Progress: [#####                                             ] 11.0% (n=22/200) --> elapsed time: 4.92s\r"
     ]
    },
    {
     "name": "stderr",
     "output_type": "stream",
     "text": [
      "C:\\Users\\painter\\AppData\\Local\\Temp\\ipykernel_28524\\2051382538.py:138: MatplotlibDeprecationWarning: Auto-removal of overlapping axes is deprecated since 3.6 and will be removed two minor releases later; explicitly call ax.remove() as needed.\n",
      "  plt.subplot(212)\n",
      "C:\\Users\\painter\\AppData\\Local\\Temp\\ipykernel_28524\\2051382538.py:145: UserWarning: The figure layout has changed to tight\n",
      "  plt.tight_layout()\n"
     ]
    },
    {
     "name": "stdout",
     "output_type": "stream",
     "text": [
      "Progress: [#####                                             ] 11.5% (n=23/200) --> elapsed time: 5.31s\r"
     ]
    },
    {
     "name": "stderr",
     "output_type": "stream",
     "text": [
      "C:\\Users\\painter\\AppData\\Local\\Temp\\ipykernel_28524\\2051382538.py:131: MatplotlibDeprecationWarning: Auto-removal of overlapping axes is deprecated since 3.6 and will be removed two minor releases later; explicitly call ax.remove() as needed.\n",
      "  plt.subplot(211)\n",
      "C:\\Users\\painter\\AppData\\Local\\Temp\\ipykernel_28524\\2051382538.py:138: MatplotlibDeprecationWarning: Auto-removal of overlapping axes is deprecated since 3.6 and will be removed two minor releases later; explicitly call ax.remove() as needed.\n",
      "  plt.subplot(212)\n",
      "C:\\Users\\painter\\AppData\\Local\\Temp\\ipykernel_28524\\2051382538.py:145: UserWarning: The figure layout has changed to tight\n",
      "  plt.tight_layout()\n"
     ]
    },
    {
     "name": "stdout",
     "output_type": "stream",
     "text": [
      "Progress: [######                                            ] 12.5% (n=25/200) --> elapsed time: 5.70s\r"
     ]
    },
    {
     "name": "stderr",
     "output_type": "stream",
     "text": [
      "C:\\Users\\painter\\AppData\\Local\\Temp\\ipykernel_28524\\2051382538.py:131: MatplotlibDeprecationWarning: Auto-removal of overlapping axes is deprecated since 3.6 and will be removed two minor releases later; explicitly call ax.remove() as needed.\n",
      "  plt.subplot(211)\n",
      "C:\\Users\\painter\\AppData\\Local\\Temp\\ipykernel_28524\\2051382538.py:138: MatplotlibDeprecationWarning: Auto-removal of overlapping axes is deprecated since 3.6 and will be removed two minor releases later; explicitly call ax.remove() as needed.\n",
      "  plt.subplot(212)\n",
      "C:\\Users\\painter\\AppData\\Local\\Temp\\ipykernel_28524\\2051382538.py:145: UserWarning: The figure layout has changed to tight\n",
      "  plt.tight_layout()\n"
     ]
    },
    {
     "name": "stdout",
     "output_type": "stream",
     "text": [
      "Progress: [######                                            ] 13.5% (n=27/200) --> elapsed time: 6.07s\r"
     ]
    },
    {
     "name": "stderr",
     "output_type": "stream",
     "text": [
      "C:\\Users\\painter\\AppData\\Local\\Temp\\ipykernel_28524\\2051382538.py:131: MatplotlibDeprecationWarning: Auto-removal of overlapping axes is deprecated since 3.6 and will be removed two minor releases later; explicitly call ax.remove() as needed.\n",
      "  plt.subplot(211)\n",
      "C:\\Users\\painter\\AppData\\Local\\Temp\\ipykernel_28524\\2051382538.py:138: MatplotlibDeprecationWarning: Auto-removal of overlapping axes is deprecated since 3.6 and will be removed two minor releases later; explicitly call ax.remove() as needed.\n",
      "  plt.subplot(212)\n",
      "C:\\Users\\painter\\AppData\\Local\\Temp\\ipykernel_28524\\2051382538.py:145: UserWarning: The figure layout has changed to tight\n",
      "  plt.tight_layout()\n",
      "C:\\Users\\painter\\AppData\\Local\\Temp\\ipykernel_28524\\2051382538.py:131: MatplotlibDeprecationWarning: Auto-removal of overlapping axes is deprecated since 3.6 and will be removed two minor releases later; explicitly call ax.remove() as needed.\n",
      "  plt.subplot(211)\n"
     ]
    },
    {
     "name": "stdout",
     "output_type": "stream",
     "text": [
      "Progress: [#######                                           ] 14.5% (n=29/200) --> elapsed time: 6.58s\r"
     ]
    },
    {
     "name": "stderr",
     "output_type": "stream",
     "text": [
      "C:\\Users\\painter\\AppData\\Local\\Temp\\ipykernel_28524\\2051382538.py:138: MatplotlibDeprecationWarning: Auto-removal of overlapping axes is deprecated since 3.6 and will be removed two minor releases later; explicitly call ax.remove() as needed.\n",
      "  plt.subplot(212)\n",
      "C:\\Users\\painter\\AppData\\Local\\Temp\\ipykernel_28524\\2051382538.py:145: UserWarning: The figure layout has changed to tight\n",
      "  plt.tight_layout()\n"
     ]
    },
    {
     "name": "stdout",
     "output_type": "stream",
     "text": [
      "Progress: [#######                                           ] 15.0% (n=30/200) --> elapsed time: 7.00s\r"
     ]
    },
    {
     "name": "stderr",
     "output_type": "stream",
     "text": [
      "C:\\Users\\painter\\AppData\\Local\\Temp\\ipykernel_28524\\2051382538.py:131: MatplotlibDeprecationWarning: Auto-removal of overlapping axes is deprecated since 3.6 and will be removed two minor releases later; explicitly call ax.remove() as needed.\n",
      "  plt.subplot(211)\n",
      "C:\\Users\\painter\\AppData\\Local\\Temp\\ipykernel_28524\\2051382538.py:138: MatplotlibDeprecationWarning: Auto-removal of overlapping axes is deprecated since 3.6 and will be removed two minor releases later; explicitly call ax.remove() as needed.\n",
      "  plt.subplot(212)\n",
      "C:\\Users\\painter\\AppData\\Local\\Temp\\ipykernel_28524\\2051382538.py:145: UserWarning: The figure layout has changed to tight\n",
      "  plt.tight_layout()\n"
     ]
    },
    {
     "name": "stdout",
     "output_type": "stream",
     "text": [
      "Progress: [########                                          ] 16.0% (n=32/200) --> elapsed time: 7.41s\r"
     ]
    },
    {
     "name": "stderr",
     "output_type": "stream",
     "text": [
      "C:\\Users\\painter\\AppData\\Local\\Temp\\ipykernel_28524\\2051382538.py:131: MatplotlibDeprecationWarning: Auto-removal of overlapping axes is deprecated since 3.6 and will be removed two minor releases later; explicitly call ax.remove() as needed.\n",
      "  plt.subplot(211)\n",
      "C:\\Users\\painter\\AppData\\Local\\Temp\\ipykernel_28524\\2051382538.py:138: MatplotlibDeprecationWarning: Auto-removal of overlapping axes is deprecated since 3.6 and will be removed two minor releases later; explicitly call ax.remove() as needed.\n",
      "  plt.subplot(212)\n",
      "C:\\Users\\painter\\AppData\\Local\\Temp\\ipykernel_28524\\2051382538.py:145: UserWarning: The figure layout has changed to tight\n",
      "  plt.tight_layout()\n"
     ]
    },
    {
     "name": "stdout",
     "output_type": "stream",
     "text": [
      "Progress: [########                                          ] 17.0% (n=34/200) --> elapsed time: 7.80s\r"
     ]
    },
    {
     "name": "stderr",
     "output_type": "stream",
     "text": [
      "C:\\Users\\painter\\AppData\\Local\\Temp\\ipykernel_28524\\2051382538.py:131: MatplotlibDeprecationWarning: Auto-removal of overlapping axes is deprecated since 3.6 and will be removed two minor releases later; explicitly call ax.remove() as needed.\n",
      "  plt.subplot(211)\n",
      "C:\\Users\\painter\\AppData\\Local\\Temp\\ipykernel_28524\\2051382538.py:138: MatplotlibDeprecationWarning: Auto-removal of overlapping axes is deprecated since 3.6 and will be removed two minor releases later; explicitly call ax.remove() as needed.\n",
      "  plt.subplot(212)\n",
      "C:\\Users\\painter\\AppData\\Local\\Temp\\ipykernel_28524\\2051382538.py:145: UserWarning: The figure layout has changed to tight\n",
      "  plt.tight_layout()\n",
      "C:\\Users\\painter\\AppData\\Local\\Temp\\ipykernel_28524\\2051382538.py:131: MatplotlibDeprecationWarning: Auto-removal of overlapping axes is deprecated since 3.6 and will be removed two minor releases later; explicitly call ax.remove() as needed.\n",
      "  plt.subplot(211)\n"
     ]
    },
    {
     "name": "stdout",
     "output_type": "stream",
     "text": [
      "Progress: [#########                                         ] 18.0% (n=36/200) --> elapsed time: 8.30s\r"
     ]
    },
    {
     "name": "stderr",
     "output_type": "stream",
     "text": [
      "C:\\Users\\painter\\AppData\\Local\\Temp\\ipykernel_28524\\2051382538.py:138: MatplotlibDeprecationWarning: Auto-removal of overlapping axes is deprecated since 3.6 and will be removed two minor releases later; explicitly call ax.remove() as needed.\n",
      "  plt.subplot(212)\n",
      "C:\\Users\\painter\\AppData\\Local\\Temp\\ipykernel_28524\\2051382538.py:145: UserWarning: The figure layout has changed to tight\n",
      "  plt.tight_layout()\n"
     ]
    },
    {
     "name": "stdout",
     "output_type": "stream",
     "text": [
      "Progress: [#########                                         ] 18.5% (n=37/200) --> elapsed time: 8.71s\r"
     ]
    },
    {
     "name": "stderr",
     "output_type": "stream",
     "text": [
      "C:\\Users\\painter\\AppData\\Local\\Temp\\ipykernel_28524\\2051382538.py:131: MatplotlibDeprecationWarning: Auto-removal of overlapping axes is deprecated since 3.6 and will be removed two minor releases later; explicitly call ax.remove() as needed.\n",
      "  plt.subplot(211)\n",
      "C:\\Users\\painter\\AppData\\Local\\Temp\\ipykernel_28524\\2051382538.py:138: MatplotlibDeprecationWarning: Auto-removal of overlapping axes is deprecated since 3.6 and will be removed two minor releases later; explicitly call ax.remove() as needed.\n",
      "  plt.subplot(212)\n",
      "C:\\Users\\painter\\AppData\\Local\\Temp\\ipykernel_28524\\2051382538.py:145: UserWarning: The figure layout has changed to tight\n",
      "  plt.tight_layout()\n"
     ]
    },
    {
     "name": "stdout",
     "output_type": "stream",
     "text": [
      "Progress: [#########                                         ] 19.5% (n=39/200) --> elapsed time: 9.13s\r"
     ]
    },
    {
     "name": "stderr",
     "output_type": "stream",
     "text": [
      "C:\\Users\\painter\\AppData\\Local\\Temp\\ipykernel_28524\\2051382538.py:131: MatplotlibDeprecationWarning: Auto-removal of overlapping axes is deprecated since 3.6 and will be removed two minor releases later; explicitly call ax.remove() as needed.\n",
      "  plt.subplot(211)\n",
      "C:\\Users\\painter\\AppData\\Local\\Temp\\ipykernel_28524\\2051382538.py:138: MatplotlibDeprecationWarning: Auto-removal of overlapping axes is deprecated since 3.6 and will be removed two minor releases later; explicitly call ax.remove() as needed.\n",
      "  plt.subplot(212)\n",
      "C:\\Users\\painter\\AppData\\Local\\Temp\\ipykernel_28524\\2051382538.py:145: UserWarning: The figure layout has changed to tight\n",
      "  plt.tight_layout()\n"
     ]
    },
    {
     "name": "stdout",
     "output_type": "stream",
     "text": [
      "Progress: [##########                                        ] 20.5% (n=41/200) --> elapsed time: 9.52s\r"
     ]
    },
    {
     "name": "stderr",
     "output_type": "stream",
     "text": [
      "C:\\Users\\painter\\AppData\\Local\\Temp\\ipykernel_28524\\2051382538.py:131: MatplotlibDeprecationWarning: Auto-removal of overlapping axes is deprecated since 3.6 and will be removed two minor releases later; explicitly call ax.remove() as needed.\n",
      "  plt.subplot(211)\n",
      "C:\\Users\\painter\\AppData\\Local\\Temp\\ipykernel_28524\\2051382538.py:138: MatplotlibDeprecationWarning: Auto-removal of overlapping axes is deprecated since 3.6 and will be removed two minor releases later; explicitly call ax.remove() as needed.\n",
      "  plt.subplot(212)\n",
      "C:\\Users\\painter\\AppData\\Local\\Temp\\ipykernel_28524\\2051382538.py:145: UserWarning: The figure layout has changed to tight\n",
      "  plt.tight_layout()\n",
      "C:\\Users\\painter\\AppData\\Local\\Temp\\ipykernel_28524\\2051382538.py:131: MatplotlibDeprecationWarning: Auto-removal of overlapping axes is deprecated since 3.6 and will be removed two minor releases later; explicitly call ax.remove() as needed.\n",
      "  plt.subplot(211)\n"
     ]
    },
    {
     "name": "stdout",
     "output_type": "stream",
     "text": [
      "Progress: [##########                                        ] 21.5% (n=43/200) --> elapsed time: 10.07s\r"
     ]
    },
    {
     "name": "stderr",
     "output_type": "stream",
     "text": [
      "C:\\Users\\painter\\AppData\\Local\\Temp\\ipykernel_28524\\2051382538.py:138: MatplotlibDeprecationWarning: Auto-removal of overlapping axes is deprecated since 3.6 and will be removed two minor releases later; explicitly call ax.remove() as needed.\n",
      "  plt.subplot(212)\n",
      "C:\\Users\\painter\\AppData\\Local\\Temp\\ipykernel_28524\\2051382538.py:145: UserWarning: The figure layout has changed to tight\n",
      "  plt.tight_layout()\n"
     ]
    },
    {
     "name": "stdout",
     "output_type": "stream",
     "text": [
      "Progress: [###########                                       ] 22.5% (n=45/200) --> elapsed time: 10.47s\r"
     ]
    },
    {
     "name": "stderr",
     "output_type": "stream",
     "text": [
      "C:\\Users\\painter\\AppData\\Local\\Temp\\ipykernel_28524\\2051382538.py:131: MatplotlibDeprecationWarning: Auto-removal of overlapping axes is deprecated since 3.6 and will be removed two minor releases later; explicitly call ax.remove() as needed.\n",
      "  plt.subplot(211)\n",
      "C:\\Users\\painter\\AppData\\Local\\Temp\\ipykernel_28524\\2051382538.py:138: MatplotlibDeprecationWarning: Auto-removal of overlapping axes is deprecated since 3.6 and will be removed two minor releases later; explicitly call ax.remove() as needed.\n",
      "  plt.subplot(212)\n",
      "C:\\Users\\painter\\AppData\\Local\\Temp\\ipykernel_28524\\2051382538.py:145: UserWarning: The figure layout has changed to tight\n",
      "  plt.tight_layout()\n",
      "C:\\Users\\painter\\AppData\\Local\\Temp\\ipykernel_28524\\2051382538.py:131: MatplotlibDeprecationWarning: Auto-removal of overlapping axes is deprecated since 3.6 and will be removed two minor releases later; explicitly call ax.remove() as needed.\n",
      "  plt.subplot(211)\n"
     ]
    },
    {
     "name": "stdout",
     "output_type": "stream",
     "text": [
      "Progress: [###########                                       ] 23.0% (n=46/200) --> elapsed time: 10.85s\r"
     ]
    },
    {
     "name": "stderr",
     "output_type": "stream",
     "text": [
      "C:\\Users\\painter\\AppData\\Local\\Temp\\ipykernel_28524\\2051382538.py:138: MatplotlibDeprecationWarning: Auto-removal of overlapping axes is deprecated since 3.6 and will be removed two minor releases later; explicitly call ax.remove() as needed.\n",
      "  plt.subplot(212)\n",
      "C:\\Users\\painter\\AppData\\Local\\Temp\\ipykernel_28524\\2051382538.py:145: UserWarning: The figure layout has changed to tight\n",
      "  plt.tight_layout()\n"
     ]
    },
    {
     "name": "stdout",
     "output_type": "stream",
     "text": [
      "Progress: [############                                      ] 24.0% (n=48/200) --> elapsed time: 11.28s\r"
     ]
    },
    {
     "name": "stderr",
     "output_type": "stream",
     "text": [
      "C:\\Users\\painter\\AppData\\Local\\Temp\\ipykernel_28524\\2051382538.py:131: MatplotlibDeprecationWarning: Auto-removal of overlapping axes is deprecated since 3.6 and will be removed two minor releases later; explicitly call ax.remove() as needed.\n",
      "  plt.subplot(211)\n",
      "C:\\Users\\painter\\AppData\\Local\\Temp\\ipykernel_28524\\2051382538.py:138: MatplotlibDeprecationWarning: Auto-removal of overlapping axes is deprecated since 3.6 and will be removed two minor releases later; explicitly call ax.remove() as needed.\n",
      "  plt.subplot(212)\n",
      "C:\\Users\\painter\\AppData\\Local\\Temp\\ipykernel_28524\\2051382538.py:145: UserWarning: The figure layout has changed to tight\n",
      "  plt.tight_layout()\n"
     ]
    },
    {
     "name": "stdout",
     "output_type": "stream",
     "text": [
      "Progress: [############                                      ] 25.0% (n=50/200) --> elapsed time: 11.67s\r"
     ]
    },
    {
     "name": "stderr",
     "output_type": "stream",
     "text": [
      "C:\\Users\\painter\\AppData\\Local\\Temp\\ipykernel_28524\\2051382538.py:131: MatplotlibDeprecationWarning: Auto-removal of overlapping axes is deprecated since 3.6 and will be removed two minor releases later; explicitly call ax.remove() as needed.\n",
      "  plt.subplot(211)\n",
      "C:\\Users\\painter\\AppData\\Local\\Temp\\ipykernel_28524\\2051382538.py:138: MatplotlibDeprecationWarning: Auto-removal of overlapping axes is deprecated since 3.6 and will be removed two minor releases later; explicitly call ax.remove() as needed.\n",
      "  plt.subplot(212)\n",
      "C:\\Users\\painter\\AppData\\Local\\Temp\\ipykernel_28524\\2051382538.py:145: UserWarning: The figure layout has changed to tight\n",
      "  plt.tight_layout()\n"
     ]
    },
    {
     "name": "stdout",
     "output_type": "stream",
     "text": [
      "Progress: [#############                                     ] 26.0% (n=52/200) --> elapsed time: 12.17s\r"
     ]
    },
    {
     "name": "stderr",
     "output_type": "stream",
     "text": [
      "C:\\Users\\painter\\AppData\\Local\\Temp\\ipykernel_28524\\2051382538.py:131: MatplotlibDeprecationWarning: Auto-removal of overlapping axes is deprecated since 3.6 and will be removed two minor releases later; explicitly call ax.remove() as needed.\n",
      "  plt.subplot(211)\n",
      "C:\\Users\\painter\\AppData\\Local\\Temp\\ipykernel_28524\\2051382538.py:138: MatplotlibDeprecationWarning: Auto-removal of overlapping axes is deprecated since 3.6 and will be removed two minor releases later; explicitly call ax.remove() as needed.\n",
      "  plt.subplot(212)\n",
      "C:\\Users\\painter\\AppData\\Local\\Temp\\ipykernel_28524\\2051382538.py:145: UserWarning: The figure layout has changed to tight\n",
      "  plt.tight_layout()\n"
     ]
    },
    {
     "name": "stdout",
     "output_type": "stream",
     "text": [
      "Progress: [#############                                     ] 26.5% (n=53/200) --> elapsed time: 12.56s\r"
     ]
    },
    {
     "name": "stderr",
     "output_type": "stream",
     "text": [
      "C:\\Users\\painter\\AppData\\Local\\Temp\\ipykernel_28524\\2051382538.py:131: MatplotlibDeprecationWarning: Auto-removal of overlapping axes is deprecated since 3.6 and will be removed two minor releases later; explicitly call ax.remove() as needed.\n",
      "  plt.subplot(211)\n",
      "C:\\Users\\painter\\AppData\\Local\\Temp\\ipykernel_28524\\2051382538.py:138: MatplotlibDeprecationWarning: Auto-removal of overlapping axes is deprecated since 3.6 and will be removed two minor releases later; explicitly call ax.remove() as needed.\n",
      "  plt.subplot(212)\n",
      "C:\\Users\\painter\\AppData\\Local\\Temp\\ipykernel_28524\\2051382538.py:145: UserWarning: The figure layout has changed to tight\n",
      "  plt.tight_layout()\n"
     ]
    },
    {
     "name": "stdout",
     "output_type": "stream",
     "text": [
      "Progress: [#############                                     ] 27.5% (n=55/200) --> elapsed time: 12.94s\r"
     ]
    },
    {
     "name": "stderr",
     "output_type": "stream",
     "text": [
      "C:\\Users\\painter\\AppData\\Local\\Temp\\ipykernel_28524\\2051382538.py:131: MatplotlibDeprecationWarning: Auto-removal of overlapping axes is deprecated since 3.6 and will be removed two minor releases later; explicitly call ax.remove() as needed.\n",
      "  plt.subplot(211)\n",
      "C:\\Users\\painter\\AppData\\Local\\Temp\\ipykernel_28524\\2051382538.py:138: MatplotlibDeprecationWarning: Auto-removal of overlapping axes is deprecated since 3.6 and will be removed two minor releases later; explicitly call ax.remove() as needed.\n",
      "  plt.subplot(212)\n",
      "C:\\Users\\painter\\AppData\\Local\\Temp\\ipykernel_28524\\2051382538.py:145: UserWarning: The figure layout has changed to tight\n",
      "  plt.tight_layout()\n",
      "C:\\Users\\painter\\AppData\\Local\\Temp\\ipykernel_28524\\2051382538.py:131: MatplotlibDeprecationWarning: Auto-removal of overlapping axes is deprecated since 3.6 and will be removed two minor releases later; explicitly call ax.remove() as needed.\n",
      "  plt.subplot(211)\n"
     ]
    },
    {
     "name": "stdout",
     "output_type": "stream",
     "text": [
      "Progress: [##############                                    ] 28.5% (n=57/200) --> elapsed time: 13.37s\r"
     ]
    },
    {
     "name": "stderr",
     "output_type": "stream",
     "text": [
      "C:\\Users\\painter\\AppData\\Local\\Temp\\ipykernel_28524\\2051382538.py:138: MatplotlibDeprecationWarning: Auto-removal of overlapping axes is deprecated since 3.6 and will be removed two minor releases later; explicitly call ax.remove() as needed.\n",
      "  plt.subplot(212)\n",
      "C:\\Users\\painter\\AppData\\Local\\Temp\\ipykernel_28524\\2051382538.py:145: UserWarning: The figure layout has changed to tight\n",
      "  plt.tight_layout()\n"
     ]
    },
    {
     "name": "stdout",
     "output_type": "stream",
     "text": [
      "Progress: [##############                                    ] 29.5% (n=59/200) --> elapsed time: 13.88s\r"
     ]
    },
    {
     "name": "stderr",
     "output_type": "stream",
     "text": [
      "C:\\Users\\painter\\AppData\\Local\\Temp\\ipykernel_28524\\2051382538.py:131: MatplotlibDeprecationWarning: Auto-removal of overlapping axes is deprecated since 3.6 and will be removed two minor releases later; explicitly call ax.remove() as needed.\n",
      "  plt.subplot(211)\n",
      "C:\\Users\\painter\\AppData\\Local\\Temp\\ipykernel_28524\\2051382538.py:138: MatplotlibDeprecationWarning: Auto-removal of overlapping axes is deprecated since 3.6 and will be removed two minor releases later; explicitly call ax.remove() as needed.\n",
      "  plt.subplot(212)\n",
      "C:\\Users\\painter\\AppData\\Local\\Temp\\ipykernel_28524\\2051382538.py:145: UserWarning: The figure layout has changed to tight\n",
      "  plt.tight_layout()\n"
     ]
    },
    {
     "name": "stdout",
     "output_type": "stream",
     "text": [
      "Progress: [###############                                   ] 30.0% (n=60/200) --> elapsed time: 14.26s\r"
     ]
    },
    {
     "name": "stderr",
     "output_type": "stream",
     "text": [
      "C:\\Users\\painter\\AppData\\Local\\Temp\\ipykernel_28524\\2051382538.py:131: MatplotlibDeprecationWarning: Auto-removal of overlapping axes is deprecated since 3.6 and will be removed two minor releases later; explicitly call ax.remove() as needed.\n",
      "  plt.subplot(211)\n",
      "C:\\Users\\painter\\AppData\\Local\\Temp\\ipykernel_28524\\2051382538.py:138: MatplotlibDeprecationWarning: Auto-removal of overlapping axes is deprecated since 3.6 and will be removed two minor releases later; explicitly call ax.remove() as needed.\n",
      "  plt.subplot(212)\n",
      "C:\\Users\\painter\\AppData\\Local\\Temp\\ipykernel_28524\\2051382538.py:145: UserWarning: The figure layout has changed to tight\n",
      "  plt.tight_layout()\n"
     ]
    },
    {
     "name": "stdout",
     "output_type": "stream",
     "text": [
      "Progress: [###############                                   ] 31.0% (n=62/200) --> elapsed time: 14.68s\r"
     ]
    },
    {
     "name": "stderr",
     "output_type": "stream",
     "text": [
      "C:\\Users\\painter\\AppData\\Local\\Temp\\ipykernel_28524\\2051382538.py:131: MatplotlibDeprecationWarning: Auto-removal of overlapping axes is deprecated since 3.6 and will be removed two minor releases later; explicitly call ax.remove() as needed.\n",
      "  plt.subplot(211)\n",
      "C:\\Users\\painter\\AppData\\Local\\Temp\\ipykernel_28524\\2051382538.py:138: MatplotlibDeprecationWarning: Auto-removal of overlapping axes is deprecated since 3.6 and will be removed two minor releases later; explicitly call ax.remove() as needed.\n",
      "  plt.subplot(212)\n",
      "C:\\Users\\painter\\AppData\\Local\\Temp\\ipykernel_28524\\2051382538.py:145: UserWarning: The figure layout has changed to tight\n",
      "  plt.tight_layout()\n"
     ]
    },
    {
     "name": "stdout",
     "output_type": "stream",
     "text": [
      "Progress: [################                                  ] 32.0% (n=64/200) --> elapsed time: 15.08s\r"
     ]
    },
    {
     "name": "stderr",
     "output_type": "stream",
     "text": [
      "C:\\Users\\painter\\AppData\\Local\\Temp\\ipykernel_28524\\2051382538.py:131: MatplotlibDeprecationWarning: Auto-removal of overlapping axes is deprecated since 3.6 and will be removed two minor releases later; explicitly call ax.remove() as needed.\n",
      "  plt.subplot(211)\n",
      "C:\\Users\\painter\\AppData\\Local\\Temp\\ipykernel_28524\\2051382538.py:138: MatplotlibDeprecationWarning: Auto-removal of overlapping axes is deprecated since 3.6 and will be removed two minor releases later; explicitly call ax.remove() as needed.\n",
      "  plt.subplot(212)\n",
      "C:\\Users\\painter\\AppData\\Local\\Temp\\ipykernel_28524\\2051382538.py:145: UserWarning: The figure layout has changed to tight\n",
      "  plt.tight_layout()\n",
      "C:\\Users\\painter\\AppData\\Local\\Temp\\ipykernel_28524\\2051382538.py:131: MatplotlibDeprecationWarning: Auto-removal of overlapping axes is deprecated since 3.6 and will be removed two minor releases later; explicitly call ax.remove() as needed.\n",
      "  plt.subplot(211)\n"
     ]
    },
    {
     "name": "stdout",
     "output_type": "stream",
     "text": [
      "Progress: [################                                  ] 33.0% (n=66/200) --> elapsed time: 15.61s\r"
     ]
    },
    {
     "name": "stderr",
     "output_type": "stream",
     "text": [
      "C:\\Users\\painter\\AppData\\Local\\Temp\\ipykernel_28524\\2051382538.py:138: MatplotlibDeprecationWarning: Auto-removal of overlapping axes is deprecated since 3.6 and will be removed two minor releases later; explicitly call ax.remove() as needed.\n",
      "  plt.subplot(212)\n",
      "C:\\Users\\painter\\AppData\\Local\\Temp\\ipykernel_28524\\2051382538.py:145: UserWarning: The figure layout has changed to tight\n",
      "  plt.tight_layout()\n"
     ]
    },
    {
     "name": "stdout",
     "output_type": "stream",
     "text": [
      "Progress: [################                                  ] 33.5% (n=67/200) --> elapsed time: 15.99s\r"
     ]
    },
    {
     "name": "stderr",
     "output_type": "stream",
     "text": [
      "C:\\Users\\painter\\AppData\\Local\\Temp\\ipykernel_28524\\2051382538.py:131: MatplotlibDeprecationWarning: Auto-removal of overlapping axes is deprecated since 3.6 and will be removed two minor releases later; explicitly call ax.remove() as needed.\n",
      "  plt.subplot(211)\n",
      "C:\\Users\\painter\\AppData\\Local\\Temp\\ipykernel_28524\\2051382538.py:138: MatplotlibDeprecationWarning: Auto-removal of overlapping axes is deprecated since 3.6 and will be removed two minor releases later; explicitly call ax.remove() as needed.\n",
      "  plt.subplot(212)\n",
      "C:\\Users\\painter\\AppData\\Local\\Temp\\ipykernel_28524\\2051382538.py:145: UserWarning: The figure layout has changed to tight\n",
      "  plt.tight_layout()\n",
      "C:\\Users\\painter\\AppData\\Local\\Temp\\ipykernel_28524\\2051382538.py:131: MatplotlibDeprecationWarning: Auto-removal of overlapping axes is deprecated since 3.6 and will be removed two minor releases later; explicitly call ax.remove() as needed.\n",
      "  plt.subplot(211)\n"
     ]
    },
    {
     "name": "stdout",
     "output_type": "stream",
     "text": [
      "Progress: [#################                                 ] 34.5% (n=69/200) --> elapsed time: 16.41s\r"
     ]
    },
    {
     "name": "stderr",
     "output_type": "stream",
     "text": [
      "C:\\Users\\painter\\AppData\\Local\\Temp\\ipykernel_28524\\2051382538.py:138: MatplotlibDeprecationWarning: Auto-removal of overlapping axes is deprecated since 3.6 and will be removed two minor releases later; explicitly call ax.remove() as needed.\n",
      "  plt.subplot(212)\n",
      "C:\\Users\\painter\\AppData\\Local\\Temp\\ipykernel_28524\\2051382538.py:145: UserWarning: The figure layout has changed to tight\n",
      "  plt.tight_layout()\n"
     ]
    },
    {
     "name": "stdout",
     "output_type": "stream",
     "text": [
      "Progress: [#################                                 ] 35.5% (n=71/200) --> elapsed time: 16.80s\r"
     ]
    },
    {
     "name": "stderr",
     "output_type": "stream",
     "text": [
      "C:\\Users\\painter\\AppData\\Local\\Temp\\ipykernel_28524\\2051382538.py:131: MatplotlibDeprecationWarning: Auto-removal of overlapping axes is deprecated since 3.6 and will be removed two minor releases later; explicitly call ax.remove() as needed.\n",
      "  plt.subplot(211)\n",
      "C:\\Users\\painter\\AppData\\Local\\Temp\\ipykernel_28524\\2051382538.py:138: MatplotlibDeprecationWarning: Auto-removal of overlapping axes is deprecated since 3.6 and will be removed two minor releases later; explicitly call ax.remove() as needed.\n",
      "  plt.subplot(212)\n",
      "C:\\Users\\painter\\AppData\\Local\\Temp\\ipykernel_28524\\2051382538.py:145: UserWarning: The figure layout has changed to tight\n",
      "  plt.tight_layout()\n",
      "C:\\Users\\painter\\AppData\\Local\\Temp\\ipykernel_28524\\2051382538.py:131: MatplotlibDeprecationWarning: Auto-removal of overlapping axes is deprecated since 3.6 and will be removed two minor releases later; explicitly call ax.remove() as needed.\n",
      "  plt.subplot(211)\n"
     ]
    },
    {
     "name": "stdout",
     "output_type": "stream",
     "text": [
      "Progress: [##################                                ] 36.5% (n=73/200) --> elapsed time: 17.31s\r"
     ]
    },
    {
     "name": "stderr",
     "output_type": "stream",
     "text": [
      "C:\\Users\\painter\\AppData\\Local\\Temp\\ipykernel_28524\\2051382538.py:138: MatplotlibDeprecationWarning: Auto-removal of overlapping axes is deprecated since 3.6 and will be removed two minor releases later; explicitly call ax.remove() as needed.\n",
      "  plt.subplot(212)\n",
      "C:\\Users\\painter\\AppData\\Local\\Temp\\ipykernel_28524\\2051382538.py:145: UserWarning: The figure layout has changed to tight\n",
      "  plt.tight_layout()\n"
     ]
    },
    {
     "name": "stdout",
     "output_type": "stream",
     "text": [
      "Progress: [##################                                ] 37.5% (n=75/200) --> elapsed time: 17.71s\r"
     ]
    },
    {
     "name": "stderr",
     "output_type": "stream",
     "text": [
      "C:\\Users\\painter\\AppData\\Local\\Temp\\ipykernel_28524\\2051382538.py:131: MatplotlibDeprecationWarning: Auto-removal of overlapping axes is deprecated since 3.6 and will be removed two minor releases later; explicitly call ax.remove() as needed.\n",
      "  plt.subplot(211)\n",
      "C:\\Users\\painter\\AppData\\Local\\Temp\\ipykernel_28524\\2051382538.py:138: MatplotlibDeprecationWarning: Auto-removal of overlapping axes is deprecated since 3.6 and will be removed two minor releases later; explicitly call ax.remove() as needed.\n",
      "  plt.subplot(212)\n",
      "C:\\Users\\painter\\AppData\\Local\\Temp\\ipykernel_28524\\2051382538.py:145: UserWarning: The figure layout has changed to tight\n",
      "  plt.tight_layout()\n"
     ]
    },
    {
     "name": "stdout",
     "output_type": "stream",
     "text": [
      "Progress: [###################                               ] 38.0% (n=76/200) --> elapsed time: 18.09s\r"
     ]
    },
    {
     "name": "stderr",
     "output_type": "stream",
     "text": [
      "C:\\Users\\painter\\AppData\\Local\\Temp\\ipykernel_28524\\2051382538.py:131: MatplotlibDeprecationWarning: Auto-removal of overlapping axes is deprecated since 3.6 and will be removed two minor releases later; explicitly call ax.remove() as needed.\n",
      "  plt.subplot(211)\n",
      "C:\\Users\\painter\\AppData\\Local\\Temp\\ipykernel_28524\\2051382538.py:138: MatplotlibDeprecationWarning: Auto-removal of overlapping axes is deprecated since 3.6 and will be removed two minor releases later; explicitly call ax.remove() as needed.\n",
      "  plt.subplot(212)\n",
      "C:\\Users\\painter\\AppData\\Local\\Temp\\ipykernel_28524\\2051382538.py:145: UserWarning: The figure layout has changed to tight\n",
      "  plt.tight_layout()\n"
     ]
    },
    {
     "name": "stdout",
     "output_type": "stream",
     "text": [
      "Progress: [###################                               ] 39.0% (n=78/200) --> elapsed time: 18.48s\r"
     ]
    },
    {
     "name": "stderr",
     "output_type": "stream",
     "text": [
      "C:\\Users\\painter\\AppData\\Local\\Temp\\ipykernel_28524\\2051382538.py:131: MatplotlibDeprecationWarning: Auto-removal of overlapping axes is deprecated since 3.6 and will be removed two minor releases later; explicitly call ax.remove() as needed.\n",
      "  plt.subplot(211)\n",
      "C:\\Users\\painter\\AppData\\Local\\Temp\\ipykernel_28524\\2051382538.py:138: MatplotlibDeprecationWarning: Auto-removal of overlapping axes is deprecated since 3.6 and will be removed two minor releases later; explicitly call ax.remove() as needed.\n",
      "  plt.subplot(212)\n",
      "C:\\Users\\painter\\AppData\\Local\\Temp\\ipykernel_28524\\2051382538.py:145: UserWarning: The figure layout has changed to tight\n",
      "  plt.tight_layout()\n",
      "C:\\Users\\painter\\AppData\\Local\\Temp\\ipykernel_28524\\2051382538.py:131: MatplotlibDeprecationWarning: Auto-removal of overlapping axes is deprecated since 3.6 and will be removed two minor releases later; explicitly call ax.remove() as needed.\n",
      "  plt.subplot(211)\n"
     ]
    },
    {
     "name": "stdout",
     "output_type": "stream",
     "text": [
      "Progress: [####################                              ] 40.0% (n=80/200) --> elapsed time: 18.99s\r"
     ]
    },
    {
     "name": "stderr",
     "output_type": "stream",
     "text": [
      "C:\\Users\\painter\\AppData\\Local\\Temp\\ipykernel_28524\\2051382538.py:138: MatplotlibDeprecationWarning: Auto-removal of overlapping axes is deprecated since 3.6 and will be removed two minor releases later; explicitly call ax.remove() as needed.\n",
      "  plt.subplot(212)\n",
      "C:\\Users\\painter\\AppData\\Local\\Temp\\ipykernel_28524\\2051382538.py:145: UserWarning: The figure layout has changed to tight\n",
      "  plt.tight_layout()\n"
     ]
    },
    {
     "name": "stdout",
     "output_type": "stream",
     "text": [
      "Progress: [####################                              ] 41.0% (n=82/200) --> elapsed time: 19.38s\r"
     ]
    },
    {
     "name": "stderr",
     "output_type": "stream",
     "text": [
      "C:\\Users\\painter\\AppData\\Local\\Temp\\ipykernel_28524\\2051382538.py:131: MatplotlibDeprecationWarning: Auto-removal of overlapping axes is deprecated since 3.6 and will be removed two minor releases later; explicitly call ax.remove() as needed.\n",
      "  plt.subplot(211)\n",
      "C:\\Users\\painter\\AppData\\Local\\Temp\\ipykernel_28524\\2051382538.py:138: MatplotlibDeprecationWarning: Auto-removal of overlapping axes is deprecated since 3.6 and will be removed two minor releases later; explicitly call ax.remove() as needed.\n",
      "  plt.subplot(212)\n",
      "C:\\Users\\painter\\AppData\\Local\\Temp\\ipykernel_28524\\2051382538.py:145: UserWarning: The figure layout has changed to tight\n",
      "  plt.tight_layout()\n"
     ]
    },
    {
     "name": "stdout",
     "output_type": "stream",
     "text": [
      "Progress: [####################                              ] 41.5% (n=83/200) --> elapsed time: 19.80s\r"
     ]
    },
    {
     "name": "stderr",
     "output_type": "stream",
     "text": [
      "C:\\Users\\painter\\AppData\\Local\\Temp\\ipykernel_28524\\2051382538.py:131: MatplotlibDeprecationWarning: Auto-removal of overlapping axes is deprecated since 3.6 and will be removed two minor releases later; explicitly call ax.remove() as needed.\n",
      "  plt.subplot(211)\n",
      "C:\\Users\\painter\\AppData\\Local\\Temp\\ipykernel_28524\\2051382538.py:138: MatplotlibDeprecationWarning: Auto-removal of overlapping axes is deprecated since 3.6 and will be removed two minor releases later; explicitly call ax.remove() as needed.\n",
      "  plt.subplot(212)\n",
      "C:\\Users\\painter\\AppData\\Local\\Temp\\ipykernel_28524\\2051382538.py:145: UserWarning: The figure layout has changed to tight\n",
      "  plt.tight_layout()\n"
     ]
    },
    {
     "name": "stdout",
     "output_type": "stream",
     "text": [
      "Progress: [#####################                             ] 42.5% (n=85/200) --> elapsed time: 20.19s\r"
     ]
    },
    {
     "name": "stderr",
     "output_type": "stream",
     "text": [
      "C:\\Users\\painter\\AppData\\Local\\Temp\\ipykernel_28524\\2051382538.py:131: MatplotlibDeprecationWarning: Auto-removal of overlapping axes is deprecated since 3.6 and will be removed two minor releases later; explicitly call ax.remove() as needed.\n",
      "  plt.subplot(211)\n",
      "C:\\Users\\painter\\AppData\\Local\\Temp\\ipykernel_28524\\2051382538.py:138: MatplotlibDeprecationWarning: Auto-removal of overlapping axes is deprecated since 3.6 and will be removed two minor releases later; explicitly call ax.remove() as needed.\n",
      "  plt.subplot(212)\n",
      "C:\\Users\\painter\\AppData\\Local\\Temp\\ipykernel_28524\\2051382538.py:145: UserWarning: The figure layout has changed to tight\n",
      "  plt.tight_layout()\n"
     ]
    },
    {
     "name": "stdout",
     "output_type": "stream",
     "text": [
      "Execution stopped by user!\n",
      "Progress: [#####################                             ] 43.5% (n=87/200) --> elapsed time: 21.18s\r"
     ]
    },
    {
     "name": "stderr",
     "output_type": "stream",
     "text": [
      "C:\\Users\\painter\\AppData\\Local\\Temp\\ipykernel_28524\\2051382538.py:131: MatplotlibDeprecationWarning: Auto-removal of overlapping axes is deprecated since 3.6 and will be removed two minor releases later; explicitly call ax.remove() as needed.\n",
      "  plt.subplot(211)\n",
      "C:\\Users\\painter\\AppData\\Local\\Temp\\ipykernel_28524\\2051382538.py:138: MatplotlibDeprecationWarning: Auto-removal of overlapping axes is deprecated since 3.6 and will be removed two minor releases later; explicitly call ax.remove() as needed.\n",
      "  plt.subplot(212)\n",
      "C:\\Users\\painter\\AppData\\Local\\Temp\\ipykernel_28524\\2051382538.py:145: UserWarning: The figure layout has changed to tight\n",
      "  plt.tight_layout()\n"
     ]
    }
   ],
   "source": [
    "from qm.qua import *\n",
    "from qm.QuantumMachinesManager import QuantumMachinesManager\n",
    "from qm import SimulationConfig, LoopbackInterface\n",
    "from configuration import *\n",
    "import matplotlib.pyplot as plt\n",
    "import numpy as np\n",
    "from scipy import signal\n",
    "from qualang_tools.loops import from_array\n",
    "%matplotlib qt\n",
    "\n",
    "# Start to save data\n",
    "import datetime \n",
    "import os\n",
    "import pandas as pd \n",
    "\n",
    "now = datetime.datetime.now()\n",
    "year = now.strftime(\"%Y\")\n",
    "month = now.strftime(\"%m\")\n",
    "day = now.strftime(\"%d\")\n",
    "hour = now.strftime(\"%H\")\n",
    "minute = now.strftime(\"%M\")\n",
    "second  = now.strftime(\"%S\")\n",
    "\n",
    "tPath = os.path.join(r'Z:\\LabberData_DF5\\QM_Data_DF5',year,month,'Data_'+month+day)\n",
    "if not os.path.exists(tPath):\n",
    "   os.makedirs(tPath)\n",
    "exp_name = 'Rabi_chevron'\n",
    "qubit_name = 'LA_Q2'\n",
    "\n",
    "f_str =exp_name + '_'+ qubit_name +'_'+ hour+ '_' + minute +'_' + second\n",
    "f_name= f_str+'.csv'\n",
    "j_name = f_str + '_state.json'\n",
    "p_name= f_str+'.png'\n",
    "\n",
    "# End to save data\n",
    "\n",
    "#########################################\n",
    "# Set-up the machine and get the config #\n",
    "#########################################\n",
    "machine = QuAM(\"quam_state.json\", flat_data=False)\n",
    "# machine.qubits[0].pi_amp=0.309\n",
    "config = build_config(machine)\n",
    "\n",
    "###################\n",
    "# The QUA program #\n",
    "###################\n",
    "\n",
    "n_avg = 200  # Number of averaging loops\n",
    "cooldown_time = 20_000 * u.ns\n",
    "qubit_index = 0\n",
    "number_of_qubits = 1\n",
    "qb_list = [i for i in range(number_of_qubits)]\n",
    "qb_if_list = [machine.qubits[i].f_01 - machine.qubits[i].lo for i in range(number_of_qubits)]\n",
    "\n",
    "# Frequency sweep in Hz (Needs to be a list of int)\n",
    "dfs = np.arange(-50e6, +25e6, 0.5e6)\n",
    "\n",
    "# Pulse amplitude sweep (as a pre-factor of the flux amplitude)\n",
    "amps = np.arange(0, 1.99, 0.1)\n",
    "\n",
    "###################\n",
    "# The QUA program #\n",
    "###################\n",
    "\n",
    "with program() as rabi_amp_freq:\n",
    "    n = declare(int)  # Averaging index\n",
    "    f = declare(int)  # Resonator frequency\n",
    "    a = declare(fixed)  # Pulse amplitude\n",
    "    I = declare(fixed)\n",
    "    Q = declare(fixed)\n",
    "    n_st = declare_stream()\n",
    "    I_st = declare_stream()\n",
    "    Q_st = declare_stream()\n",
    "\n",
    "    with for_(n, 0, n < n_avg, n + 1):\n",
    "        with for_(*from_array(a, amps)):\n",
    "            with for_(*from_array(f, dfs)):\n",
    "                # Update the qubit frequency\n",
    "                update_frequency(machine.qubits[qubit_index].name, f + qb_if_list[qubit_index])\n",
    "                # Adjust the pulse amplitude\n",
    "                play(\"x180\" * amp(a), machine.qubits[qubit_index].name)\n",
    "                align(machine.qubits[qubit_index].name, machine.resonators[qubit_index].name)\n",
    "                # Measure the resonator\n",
    "                measure(\n",
    "                    \"readout\",\n",
    "                    machine.resonators[qubit_index].name,\n",
    "                    None,\n",
    "                    dual_demod.full(\"cos\", \"out1\", \"sin\", \"out2\", I),\n",
    "                    dual_demod.full(\"minus_sin\", \"out1\", \"cos\", \"out2\", Q),\n",
    "                )\n",
    "                # Wait for the resonator to cooldown\n",
    "                wait(cooldown_time, machine.resonators[qubit_index].name)\n",
    "                # Save data to the stream processing\n",
    "                save(I, I_st)\n",
    "                save(Q, Q_st)\n",
    "        save(n, n_st)\n",
    "\n",
    "    with stream_processing():\n",
    "        I_st.buffer(len(dfs)).buffer(len(amps)).average().save(\"I\")\n",
    "        Q_st.buffer(len(dfs)).buffer(len(amps)).average().save(\"Q\")\n",
    "        n_st.save(\"iteration\")\n",
    "\n",
    "\n",
    "#####################################\n",
    "#  Open Communication with the QOP  #\n",
    "#####################################\n",
    "qmm = QuantumMachinesManager(machine.network.qop_ip, cluster_name=machine.network.cluster_name, octave=octave_config)\n",
    "\n",
    "simulation = False\n",
    "if simulation:\n",
    "    simulation_config = SimulationConfig(\n",
    "        duration=28000, simulation_interface=LoopbackInterface([(\"con1\", 3, \"con1\", 1)])\n",
    "    )\n",
    "    job = qmm.simulate(config, rabi_amp_freq, simulation_config)\n",
    "    job.get_simulated_samples().con1.plot()\n",
    "else:\n",
    "    qm = qmm.open_qm(config)\n",
    "    job = qm.execute(rabi_amp_freq)\n",
    "    # Get results from QUA program\n",
    "    results = fetching_tool(job, data_list=[\"I\", \"Q\", \"iteration\"], mode=\"live\")\n",
    "    # Live plotting\n",
    "    fig = plt.figure()\n",
    "    plt.rcParams['figure.figsize'] = [12, 8]\n",
    "    interrupt_on_close(fig, job)  #  Interrupts the job when closing the figure\n",
    "    while results.is_processing():\n",
    "        # Fetch results\n",
    "        I, Q, iteration = results.fetch_all()\n",
    "        # Progress bar\n",
    "        progress_counter(iteration, n_avg, start_time=results.get_start_time())\n",
    "        # Plot results\n",
    "        plt.subplot(211)\n",
    "        plt.cla()\n",
    "        plt.title(\"Rabi chevron amplitude\")\n",
    "        plt.pcolor(dfs / u.MHz, amps * machine.qubits[qubit_index].pi_amp, np.sqrt(I**2 + Q**2))\n",
    "        plt.xlabel(\"Frequency detuning [MHz]\")\n",
    "        plt.ylabel(\"Pulse amplitude [V]\")\n",
    "        plt.colorbar()\n",
    "        plt.subplot(212)\n",
    "        plt.cla()\n",
    "        plt.title(\"Rabi chevron phase\")\n",
    "        plt.pcolor(dfs / u.MHz, amps * machine.qubits[qubit_index].pi_amp, signal.detrend(np.unwrap(np.angle(I + 1j * Q))))\n",
    "        plt.xlabel(\"Frequency detuning [MHz]\")\n",
    "        plt.ylabel(\"Pulse amplitude [V]\")\n",
    "        plt.colorbar()\n",
    "        plt.tight_layout()\n",
    "        plt.pause(0.01)\n",
    "\n",
    "plt.savefig(os.path.join(tPath, p_name))"
   ]
  },
  {
   "cell_type": "code",
   "execution_count": null,
   "id": "40a853b4-1fc1-4da2-b321-6d8950eb7109",
   "metadata": {},
   "outputs": [],
   "source": [
    "## convert everything to lists so they are easy to parse in Matlab if desired\n",
    "Rabi_amp = amps * machine.qubits[qubit_index].pi_amp;\n",
    "if isinstance(dfs,np.ndarray) == True:\n",
    "   dfs1=dfs.tolist()\n",
    "else:  \n",
    "    pass\n",
    "if isinstance(Rabi_amp,np.ndarray) == True:\n",
    "   Rabi_amp1=Rabi_amp.tolist()\n",
    "else:  \n",
    "    pass\n",
    "\n",
    "if isinstance(I,np.ndarray) == True:\n",
    "   I1=I.tolist()\n",
    "else:  \n",
    "    pass\n",
    "if isinstance(Q,np.ndarray) == True:\n",
    "   Q1=Q.tolist()\n",
    "else:  \n",
    "    pass\n",
    "\n",
    "data = [('Variable', 'Value'), ('Freq', dfs1), ('Amp', Rabi_amp1), ('I', I1), ('Q', Q1)]\n",
    "df = pd.DataFrame(data,index=None, columns=None)\n",
    "df.to_csv(os.path.join(tPath, f_name),header=False, index=False)\n",
    "open(os.path.join(tPath, j_name), \"w\").write(open(\"quam_state.json\").read())\n",
    "#machine._save(\"quam_state.json\", flat_data=False)"
   ]
  }
 ],
 "metadata": {
  "kernelspec": {
   "display_name": "Python 3 (ipykernel)",
   "language": "python",
   "name": "python3"
  },
  "language_info": {
   "codemirror_mode": {
    "name": "ipython",
    "version": 3
   },
   "file_extension": ".py",
   "mimetype": "text/x-python",
   "name": "python",
   "nbconvert_exporter": "python",
   "pygments_lexer": "ipython3",
   "version": "3.8.17"
  }
 },
 "nbformat": 4,
 "nbformat_minor": 5
}
