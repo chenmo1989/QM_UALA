{
 "cells": [
  {
   "cell_type": "markdown",
   "id": "49d22572",
   "metadata": {},
   "source": [
    "# Basic characterizations of UA Q1\n",
    "### using Experiment and Analysis classes"
   ]
  },
  {
   "cell_type": "code",
   "execution_count": 1,
   "id": "b08c4dec",
   "metadata": {
    "scrolled": true
   },
   "outputs": [
    {
     "name": "stdout",
     "output_type": "stream",
     "text": [
      "2023-10-31 09:05:23,557 - qm - INFO     - Starting session: 0dafdcb2-8028-45f6-b177-42721ae70afd\n"
     ]
    }
   ],
   "source": [
    "from qm.qua import *\n",
    "from qm.QuantumMachinesManager import QuantumMachinesManager\n",
    "from qm import SimulationConfig, LoopbackInterface\n",
    "from qm.octave import *\n",
    "from qm.octave.octave_manager import ClockMode\n",
    "from configuration import *\n",
    "from scipy import signal\n",
    "from qm import SimulationConfig\n",
    "from qualang_tools.bakery import baking\n",
    "from qualang_tools.units import unit\n",
    "from qm import generate_qua_script\n",
    "from qm.octave import QmOctaveConfig\n",
    "from set_octave import ElementsSettings, octave_settings\n",
    "from quam import QuAM\n",
    "from scipy.io import savemat\n",
    "from scipy.io import loadmat\n",
    "from scipy.optimize import curve_fit\n",
    "from scipy.signal import savgol_filter\n",
    "from qutip import *\n",
    "from typing import Union\n",
    "from macros import *\n",
    "import datetime \n",
    "import os\n",
    "import time\n",
    "import warnings\n",
    "import json\n",
    "import matplotlib.pyplot as plt\n",
    "import numpy as np\n",
    "import Labber\n",
    "\n",
    "from ExperimentClass import ExperimentHandle\n",
    "from AnalysisClass import AnalysisHandle\n",
    "\n",
    "warnings.filterwarnings(\"ignore\")\n",
    "\n",
    "qubit_index = 0 # for UA Q1\n",
    "res_index = 0 # for UA Q1\n",
    "flux_index = 0 # for UA Q1"
   ]
  },
  {
   "cell_type": "code",
   "execution_count": 2,
   "id": "44475f4c",
   "metadata": {},
   "outputs": [],
   "source": [
    "Experiment = ExperimentHandle()\n",
    "Analysis = AnalysisHandle()\n",
    "machine = Analysis.get_machine()"
   ]
  },
  {
   "cell_type": "code",
   "execution_count": 3,
   "id": "76f18494",
   "metadata": {},
   "outputs": [],
   "source": [
    "# initialize Labber-controlled hardware\n",
    "Experiment.set_Labber(Analysis.get_machine(), qubit_index, res_index, flux_index)\n",
    "# set octave to external clock\n",
    "#Experiment.set_external_clock()"
   ]
  },
  {
   "cell_type": "code",
   "execution_count": 4,
   "id": "494501d8",
   "metadata": {},
   "outputs": [
    {
     "name": "stdout",
     "output_type": "stream",
     "text": [
      "2023-10-31 09:04:28,093 - qm - INFO     - Octave \"octave1\" Health check passed, current temperature 58\n"
     ]
    },
    {
     "name": "stderr",
     "output_type": "stream",
     "text": [
      "INFO:qm:Octave \"octave1\" Health check passed, current temperature 58\n"
     ]
    },
    {
     "name": "stdout",
     "output_type": "stream",
     "text": [
      "2023-10-31 09:04:28,097 - qm - INFO     - Performing health check\n"
     ]
    },
    {
     "name": "stderr",
     "output_type": "stream",
     "text": [
      "INFO:qm.api.frontend_api:Performing health check\n"
     ]
    },
    {
     "name": "stdout",
     "output_type": "stream",
     "text": [
      "2023-10-31 09:04:28,114 - qm - INFO     - Health check passed\n"
     ]
    },
    {
     "name": "stderr",
     "output_type": "stream",
     "text": [
      "INFO:qm.api.frontend_api:Health check passed\n"
     ]
    },
    {
     "name": "stdout",
     "output_type": "stream",
     "text": [
      "2023-10-31 09:04:28,690 - qm - WARNING  - Open QM ended with warning 0: Opening a new Quantum Machine and closing Quantum Machines: \n"
     ]
    },
    {
     "name": "stderr",
     "output_type": "stream",
     "text": [
      "WARNING:qm.api.frontend_api:Open QM ended with warning 0: Opening a new Quantum Machine and closing Quantum Machines: \n"
     ]
    },
    {
     "name": "stdout",
     "output_type": "stream",
     "text": [
      "2023-10-31 09:04:28,693 - qm - WARNING  - Open QM ended with warning 0: Quantum Machine qm-1698768234780 is canceling running job 1698355231192.\n"
     ]
    },
    {
     "name": "stderr",
     "output_type": "stream",
     "text": [
      "WARNING:qm.api.frontend_api:Open QM ended with warning 0: Quantum Machine qm-1698768234780 is canceling running job 1698355231192.\n"
     ]
    },
    {
     "name": "stdout",
     "output_type": "stream",
     "text": [
      "------------------------------------- Calibrates r0 for (LO, IF) = (7.313 GHz, -50.000 MHz)\n",
      "2023-10-31 09:04:34,697 - qm - INFO     - Compiling program\n"
     ]
    },
    {
     "name": "stderr",
     "output_type": "stream",
     "text": [
      "INFO:qm.QuantumMachine:Compiling program\n"
     ]
    },
    {
     "name": "stdout",
     "output_type": "stream",
     "text": [
      "------------------------------------- Calibrates q0 for (LO, IF) = (6.222 GHz, 200.000 MHz)\n",
      "2023-10-31 09:04:47,508 - qm - INFO     - Compiling program\n"
     ]
    },
    {
     "name": "stderr",
     "output_type": "stream",
     "text": [
      "INFO:qm.QuantumMachine:Compiling program\n"
     ]
    }
   ],
   "source": [
    "Experiment.octave_calibration(qubit_index,res_index,flux_index)"
   ]
  },
  {
   "cell_type": "markdown",
   "id": "9a6e5328",
   "metadata": {},
   "source": [
    "## Time of flight"
   ]
  },
  {
   "cell_type": "code",
   "execution_count": null,
   "id": "36b21dc5",
   "metadata": {},
   "outputs": [],
   "source": [
    "# time_of_flight\n",
    "# experiment\n",
    "machine, adc1, adc2, adc1_single, adc2_single = Experiment.exp1D.RR.time_of_flight(qubit_index,res_index,flux_index, n_avg = 10E3, cd_time = 1E3, tPath = None, f_str_datetime = None, simulate_flag = False, simulation_len = 1000)\n",
    "# plot\n",
    "%matplotlib inline\n",
    "dc_offset_i, dc_offset_q, delay = Analysis.exp1D.time_of_flight(adc1,adc2,adc1_single,adc2_single)"
   ]
  },
  {
   "cell_type": "code",
   "execution_count": null,
   "id": "1a38781b",
   "metadata": {},
   "outputs": [],
   "source": [
    "# update the offset\n",
    "machine.global_parameters.con1_downconversion_offset_I += -0.000341\n",
    "machine.global_parameters.con1_downconversion_offset_Q += -0.000633\n",
    "machine = Analysis.set_machine(machine)"
   ]
  },
  {
   "cell_type": "markdown",
   "id": "f7a6f477",
   "metadata": {},
   "source": [
    "## 1D RO resonator spectroscopy"
   ]
  },
  {
   "cell_type": "code",
   "execution_count": 8,
   "id": "b9a96c35",
   "metadata": {
    "scrolled": true
   },
   "outputs": [
    {
     "ename": "TypeError",
     "evalue": "cannot unpack non-iterable NoneType object",
     "output_type": "error",
     "traceback": [
      "\u001b[1;31m---------------------------------------------------------------------------\u001b[0m",
      "\u001b[1;31mTypeError\u001b[0m                                 Traceback (most recent call last)",
      "Cell \u001b[1;32mIn[8], line 4\u001b[0m\n\u001b[0;32m      2\u001b[0m machine \u001b[38;5;241m=\u001b[39m Analysis\u001b[38;5;241m.\u001b[39mget_machine()\n\u001b[0;32m      3\u001b[0m res_freq_sweep \u001b[38;5;241m=\u001b[39m machine\u001b[38;5;241m.\u001b[39mresonators[res_index]\u001b[38;5;241m.\u001b[39mf_readout \u001b[38;5;241m+\u001b[39m np\u001b[38;5;241m.\u001b[39marange(\u001b[38;5;241m-\u001b[39m\u001b[38;5;241m10E6\u001b[39m,\u001b[38;5;241m10E6\u001b[39m \u001b[38;5;241m+\u001b[39m \u001b[38;5;241m1.0\u001b[39m,\u001b[38;5;241m0.05E6\u001b[39m)\n\u001b[1;32m----> 4\u001b[0m machine, res_freq_sweep, sig_amp \u001b[38;5;241m=\u001b[39m Experiment\u001b[38;5;241m.\u001b[39mexp1D\u001b[38;5;241m.\u001b[39mRR\u001b[38;5;241m.\u001b[39mrr_freq(res_freq_sweep, qubit_index, res_index, flux_index, \n\u001b[0;32m      5\u001b[0m                            n_avg \u001b[38;5;241m=\u001b[39m \u001b[38;5;241m5E3\u001b[39m, cd_time \u001b[38;5;241m=\u001b[39m \u001b[38;5;241m5E3\u001b[39m, simulate_flag \u001b[38;5;241m=\u001b[39m \u001b[38;5;28;01mTrue\u001b[39;00m, simulation_len \u001b[38;5;241m=\u001b[39m \u001b[38;5;241m1000\u001b[39m)\n",
      "\u001b[1;31mTypeError\u001b[0m: cannot unpack non-iterable NoneType object"
     ]
    }
   ],
   "source": [
    "%matplotlib qt\n",
    "machine = Analysis.get_machine()\n",
    "res_freq_sweep = machine.resonators[res_index].f_readout + np.arange(-10E6,10E6 + 1.0,0.05E6)\n",
    "machine, res_freq_sweep, sig_amp = Experiment.exp1D.RR.rr_freq(res_freq_sweep, qubit_index, res_index, flux_index, \n",
    "                           n_avg = 5E3, cd_time = 5E3, simulate_flag = False, simulation_len = 1000)"
   ]
  },
  {
   "cell_type": "code",
   "execution_count": null,
   "id": "7091f476",
   "metadata": {},
   "outputs": [],
   "source": [
    "# find the minimal\n",
    "%matplotlib inline\n",
    "res_freq = Analysis.exp1D.rr_freq(res_freq_sweep, sig_amp)\n",
    "machine.resonators[res_index].f_readout = res_freq.tolist() + 0E6\n",
    "machine = Analysis.set_machine(machine)"
   ]
  },
  {
   "cell_type": "markdown",
   "id": "c23f0f9d",
   "metadata": {},
   "source": [
    "## 2D RO resonator spectroscopy vs DC flux"
   ]
  },
  {
   "cell_type": "code",
   "execution_count": null,
   "id": "3b659ab6",
   "metadata": {},
   "outputs": [],
   "source": [
    "res_freq_sweep = np.arange(7.254E9,7.267E9 + 1.0,0.2E6)\n",
    "dc_flux_sweep = np.arange(-9,9.001,0.5)\n",
    "%matplotlib qt\n",
    "machine, res_freq_sweep, dc_flux_sweep, sig_amp = Experiment.exp2D.RR.rr_vs_dc_flux(res_freq_sweep, dc_flux_sweep, qubit_index, res_index, flux_index, n_avg = 1E3, cd_time = 10E3)"
   ]
  },
  {
   "cell_type": "code",
   "execution_count": null,
   "id": "4dac1a35",
   "metadata": {},
   "outputs": [],
   "source": [
    "%matplotlib inline\n",
    "ham_param = Analysis.exp2D.rr_vs_dc_flux(res_freq_sweep, dc_flux_sweep, sig_amp, init_guess = None)\n",
    "poly_param = Analysis.exp2D.qubit_vs_dc_flux_guess(ham_param)"
   ]
  },
  {
   "cell_type": "code",
   "execution_count": null,
   "id": "56cab19d",
   "metadata": {},
   "outputs": [],
   "source": [
    "# save the fitting parameters\n",
    "machine.resonators[res_index].tuning_curve = ham_param.tolist()\n",
    "machine.qubits[qubit_index].tuning_curve = poly_param.tolist()\n",
    "machine = Analysis.set_machine(machine)"
   ]
  },
  {
   "cell_type": "code",
   "execution_count": null,
   "id": "02e0a7bc",
   "metadata": {},
   "outputs": [],
   "source": [
    "# save the sweep spot flux according to fitted parameter\n",
    "machine.flux_lines[flux_index].max_frequency_point = Analysis.get_sweept_spot(machine.qubits[qubit_index].tuning_curve)\n",
    "machine = Analysis.set_machine(machine)"
   ]
  },
  {
   "cell_type": "markdown",
   "id": "7512d423",
   "metadata": {},
   "source": [
    "## 1D qubit spectroscopy @ sweep spot"
   ]
  },
  {
   "cell_type": "code",
   "execution_count": 5,
   "id": "8399c75c",
   "metadata": {},
   "outputs": [],
   "source": [
    "# set to sweet spot\n",
    "machine = Experiment.set_QDAC(qubit_index,res_index,flux_index,machine.flux_lines[flux_index].max_frequency_point)"
   ]
  },
  {
   "cell_type": "code",
   "execution_count": 6,
   "id": "b3048a68",
   "metadata": {},
   "outputs": [
    {
     "name": "stdout",
     "output_type": "stream",
     "text": [
      "Progress: [##################################################] 100.0% (n=5000/5000.0) --> elapsed time: 5.79s\n",
      "Progress: [##################################################] 100.0% (n=5000/5000.0) --> elapsed time: 5.84s\n",
      "resonator frequency: 7263.013 MHz\n"
     ]
    },
    {
     "data": {
      "image/png": "[encoded data removed]",
      "text/plain": [
       "<Figure size 800x400 with 1 Axes>"
      ]
     },
     "metadata": {},
     "output_type": "display_data"
    }
   ],
   "source": [
    "# calibrate RO\n",
    "%matplotlib qt\n",
    "#res_freq_sweep = np.arange(7.2575E9,7.2675E9 + 1.0,0.03E6)\n",
    "ham_param = machine.resonators[res_index].tuning_curve\n",
    "res_freq_est = Analysis.exp2D.ham([flux_index,machine.flux_lines[flux_index].max_frequency_point], ham_param[0], ham_param[1], ham_param[2], ham_param[3], ham_param[4], ham_param[5], output_flag = 1) * 1E6 # to Hz\n",
    "res_freq_sweep = int(res_freq_est[0]) + np.arange(-5E6, 5E6 + 1, 0.05E6)\n",
    "machine, res_freq_sweep, sig_amp = Experiment.exp1D.RR.rr_freq(res_freq_sweep, qubit_index, res_index, flux_index, \n",
    "                       n_avg = 5E3, cd_time = 5E3, plot_flag = False, simulate_flag = False, simulation_len = 1000)\n",
    "%matplotlib inline\n",
    "res_freq = Analysis.exp1D.rr_freq(res_freq_sweep, sig_amp)\n",
    "res_freq = int(res_freq.tolist())\n",
    "machine.resonators[res_index].f_readout = res_freq + 0E6\n",
    "machine.resonators[res_index].lo = res_freq + 50E6\n",
    "machine = Analysis.set_machine(machine)"
   ]
  },
  {
   "cell_type": "code",
   "execution_count": 7,
   "id": "431a87c3",
   "metadata": {},
   "outputs": [
    {
     "name": "stdout",
     "output_type": "stream",
     "text": [
      "2023-10-30 17:33:44,302 - qm - INFO     - Performing health check\n"
     ]
    },
    {
     "name": "stderr",
     "output_type": "stream",
     "text": [
      "INFO:qm.api.frontend_api:Performing health check\n"
     ]
    },
    {
     "name": "stdout",
     "output_type": "stream",
     "text": [
      "2023-10-30 17:33:44,316 - qm - INFO     - Health check passed\n"
     ]
    },
    {
     "name": "stderr",
     "output_type": "stream",
     "text": [
      "INFO:qm.api.frontend_api:Health check passed\n"
     ]
    },
    {
     "name": "stdout",
     "output_type": "stream",
     "text": [
      "------------------------------------- Calibrates r0 for (LO, IF) = (7.313 GHz, -50.000 MHz)\n",
      "2023-10-30 17:33:51,114 - qm - INFO     - Compiling program\n"
     ]
    },
    {
     "name": "stderr",
     "output_type": "stream",
     "text": [
      "INFO:qm.QuantumMachine:Compiling program\n"
     ]
    },
    {
     "name": "stdout",
     "output_type": "stream",
     "text": [
      "------------------------------------- Calibrates q0 for (LO, IF) = (6.221 GHz, 200.000 MHz)\n",
      "2023-10-30 17:34:03,388 - qm - INFO     - Compiling program\n"
     ]
    },
    {
     "name": "stderr",
     "output_type": "stream",
     "text": [
      "INFO:qm.QuantumMachine:Compiling program\n"
     ]
    }
   ],
   "source": [
    "# calibrate octave\n",
    "Experiment.octave_calibration(qubit_index,res_index,flux_index)"
   ]
  },
  {
   "cell_type": "code",
   "execution_count": 8,
   "id": "463e4ef5",
   "metadata": {},
   "outputs": [
    {
     "name": "stdout",
     "output_type": "stream",
     "text": [
      "Progress: [##################################################] 100.0% (n=2000/2000.0) --> elapsed time: 4.18s\n",
      "Progress: [##################################################] 100.0% (n=2000/2000.0) --> elapsed time: 4.23s\n"
     ]
    }
   ],
   "source": [
    "#qubit_freq_sweep = np.arange(6.30E9,6.60E9+1,1E6)\n",
    "# for the DC flux\n",
    "#qubit_freq_est = np.polyval(machine.qubits[qubit_index].tuning_curve,machine.flux_lines[flux_index].max_frequency_point) * 1E6 # in Hz\n",
    "# for the fast flux\n",
    "qubit_freq_est = np.polyval(machine.qubits[qubit_index].tuning_curve,0.0) * 1E6 # in Hz\n",
    "machine.qubits[qubit_index].lo = int(qubit_freq_est.tolist()) - 200E6\n",
    "qubit_freq_sweep = int(qubit_freq_est) + np.arange(-50E6, 50E6 + 1, 1E6)\n",
    "    \n",
    "%matplotlib qt\n",
    "machine, qubit_freq_sweep, sig_amp = Experiment.exp1D.Rabi.qubit_freq(qubit_freq_sweep, qubit_index, res_index, flux_index, \n",
    "                                      pi_amp_rel = 1.0, ff_amp = 0.0, n_avg = 2E3, cd_time = 20E3, plot_flag = False, \n",
    "                                      simulate_flag = False, simulation_len = 4000)"
   ]
  },
  {
   "cell_type": "code",
   "execution_count": 9,
   "id": "4831c24f",
   "metadata": {},
   "outputs": [
    {
     "name": "stdout",
     "output_type": "stream",
     "text": [
      "resonant frequency: 6421.506 MHz\n"
     ]
    },
    {
     "data": {
      "image/png": "[encoded data removed]",
      "text/plain": [
       "<Figure size 800x400 with 1 Axes>"
      ]
     },
     "metadata": {},
     "output_type": "display_data"
    }
   ],
   "source": [
    "%matplotlib inline\n",
    "qubit_freq = Analysis.exp1D.peak_fit(x=qubit_freq_sweep,y=sig_amp,method=\"gaussian\")\n",
    "qubit_freq = int(qubit_freq.tolist())\n",
    "machine.qubits[qubit_index].f_01 = qubit_freq + 0E6\n",
    "machine.qubits[qubit_index].lo = qubit_freq - 200E6\n",
    "machine = Analysis.set_machine(machine)"
   ]
  },
  {
   "cell_type": "code",
   "execution_count": 12,
   "id": "f6106e19",
   "metadata": {},
   "outputs": [
    {
     "name": "stdout",
     "output_type": "stream",
     "text": [
      "2023-10-30 10:28:08,719 - qm - INFO     - Performing health check\n"
     ]
    },
    {
     "name": "stderr",
     "output_type": "stream",
     "text": [
      "INFO:qm.api.frontend_api:Performing health check\n"
     ]
    },
    {
     "name": "stdout",
     "output_type": "stream",
     "text": [
      "2023-10-30 10:28:08,735 - qm - INFO     - Health check passed\n"
     ]
    },
    {
     "name": "stderr",
     "output_type": "stream",
     "text": [
      "INFO:qm.api.frontend_api:Health check passed\n"
     ]
    },
    {
     "name": "stdout",
     "output_type": "stream",
     "text": [
      "------------------------------------- Calibrates r0 for (LO, IF) = (7.313 GHz, -50.000 MHz)\n",
      "2023-10-30 10:28:15,500 - qm - INFO     - Compiling program\n"
     ]
    },
    {
     "name": "stderr",
     "output_type": "stream",
     "text": [
      "INFO:qm.QuantumMachine:Compiling program\n"
     ]
    },
    {
     "name": "stdout",
     "output_type": "stream",
     "text": [
      "------------------------------------- Calibrates q0 for (LO, IF) = (6.223 GHz, 200.000 MHz)\n",
      "2023-10-30 10:28:27,080 - qm - INFO     - Compiling program\n"
     ]
    },
    {
     "name": "stderr",
     "output_type": "stream",
     "text": [
      "INFO:qm.QuantumMachine:Compiling program\n"
     ]
    }
   ],
   "source": [
    "# calibrate octave\n",
    "Experiment.octave_calibration(qubit_index,res_index,flux_index,machine=machine)"
   ]
  },
  {
   "cell_type": "markdown",
   "id": "7f73ccef",
   "metadata": {},
   "source": [
    "## Rabi"
   ]
  },
  {
   "cell_type": "markdown",
   "id": "8dc4372f",
   "metadata": {},
   "source": [
    "### time rabi"
   ]
  },
  {
   "cell_type": "code",
   "execution_count": null,
   "id": "55516ebb",
   "metadata": {},
   "outputs": [],
   "source": [
    "%matplotlib qt\n",
    "rabi_duration_sweep = np.arange(4, 80 + 0.1, 2)  # in units of clock cyles\n",
    "rabi_duration_sweep = rabi_duration_sweep.astype(int)\n",
    "machine, rabi_duration_sweep, sig_amp = Experiment.exp1D.Rabi.rabi_length(rabi_duration_sweep, qubit_index, res_index, flux_index, \n",
    "                                          pi_amp_rel = 1.0, n_avg = 2E3, cd_time = 10E3, plot_flag = False)"
   ]
  },
  {
   "cell_type": "code",
   "execution_count": null,
   "id": "c1830c11",
   "metadata": {},
   "outputs": [],
   "source": [
    "%matplotlib inline\n",
    "pi_pulse_length = Analysis.exp1D.rabi_length(rabi_duration_sweep,sig_amp,plot_flag = True)"
   ]
  },
  {
   "cell_type": "code",
   "execution_count": null,
   "id": "2ab3d637",
   "metadata": {},
   "outputs": [],
   "source": [
    "machine.qubits[qubit_index].pi_length[0] = 100\n",
    "machine = Analysis.set_machine(machine)"
   ]
  },
  {
   "cell_type": "markdown",
   "id": "cc52c092",
   "metadata": {},
   "source": [
    "### power rabi"
   ]
  },
  {
   "cell_type": "code",
   "execution_count": null,
   "id": "5ae8cbc8",
   "metadata": {},
   "outputs": [],
   "source": [
    "%matplotlib qt\n",
    "rabi_amp_sweep_rel = np.arange(0.3, 2.0, 0.05) \n",
    "machine, rabi_amp_sweep_abs, sig_amp = Experiment.exp1D.Rabi.rabi_amp(rabi_amp_sweep_rel, qubit_index, res_index, flux_index, \n",
    "                                          n_avg = 2E3, cd_time = 10E3, plot_flag = False)"
   ]
  },
  {
   "cell_type": "code",
   "execution_count": null,
   "id": "7b1e55c4",
   "metadata": {},
   "outputs": [],
   "source": [
    "%matplotlib qt\n",
    "pi_pulse_amp = Analysis.exp1D.rabi_length(rabi_amp_sweep_abs,sig_amp,method = \"power_rabi\", plot_flag = True)"
   ]
  },
  {
   "cell_type": "code",
   "execution_count": null,
   "id": "cec16801",
   "metadata": {},
   "outputs": [],
   "source": [
    "machine.qubits[qubit_index].pi_amp[0] = pi_pulse_amp.tolist()\n",
    "machine = Analysis.set_machine(machine)"
   ]
  },
  {
   "cell_type": "markdown",
   "id": "dd9c3db3",
   "metadata": {},
   "source": [
    "## T1"
   ]
  },
  {
   "cell_type": "code",
   "execution_count": 10,
   "id": "1d0e2cc9",
   "metadata": {},
   "outputs": [
    {
     "name": "stdout",
     "output_type": "stream",
     "text": [
      "Progress: [##################################################] 100.0% (n=5000/5000.0) --> elapsed time: 35.64s\n"
     ]
    }
   ],
   "source": [
    "%matplotlib qt\n",
    "tau_sweep_abs = np.arange(100,30E3+1,400)\n",
    "machine, tau_sweep_abs, sig_amp = Experiment.exp1D.T1.qubit_T1(tau_sweep_abs, qubit_index, res_index, flux_index, \n",
    "                   n_avg = 5E3, cd_time = 80E3, simulate_flag = False, simulation_len = 15_000, plot_flag = False)"
   ]
  },
  {
   "cell_type": "code",
   "execution_count": 12,
   "id": "b86fc846",
   "metadata": {},
   "outputs": [
    {
     "name": "stdout",
     "output_type": "stream",
     "text": [
      "Qubit T1 [us]: 3.6439948305274132\n"
     ]
    },
    {
     "data": {
      "image/png": "[encoded data removed]",
      "text/plain": [
       "<Figure size 800x400 with 1 Axes>"
      ]
     },
     "metadata": {},
     "output_type": "display_data"
    }
   ],
   "source": [
    "%matplotlib inline\n",
    "q1_T1 = Analysis.exp1D.T1(tau_sweep_abs,sig_amp,method = \"exp\")\n",
    "machine.qubits[qubit_index].T1 = int(q1_T1.tolist())\n",
    "machine = Analysis.set_machine(machine)"
   ]
  },
  {
   "cell_type": "markdown",
   "id": "ca41b9d6",
   "metadata": {},
   "source": [
    "## Ramsey"
   ]
  },
  {
   "cell_type": "code",
   "execution_count": null,
   "id": "4cc51517",
   "metadata": {},
   "outputs": [],
   "source": []
  },
  {
   "cell_type": "code",
   "execution_count": null,
   "id": "9f15f3f7",
   "metadata": {},
   "outputs": [],
   "source": []
  },
  {
   "cell_type": "code",
   "execution_count": null,
   "id": "41cd4d4b",
   "metadata": {},
   "outputs": [],
   "source": []
  },
  {
   "cell_type": "code",
   "execution_count": null,
   "id": "8768cac3",
   "metadata": {},
   "outputs": [],
   "source": []
  },
  {
   "cell_type": "markdown",
   "id": "581da4d3",
   "metadata": {},
   "source": [
    "## ef transition"
   ]
  },
  {
   "cell_type": "code",
   "execution_count": null,
   "id": "0ed3f71a",
   "metadata": {},
   "outputs": [],
   "source": []
  },
  {
   "cell_type": "code",
   "execution_count": null,
   "id": "70032866",
   "metadata": {},
   "outputs": [],
   "source": []
  },
  {
   "cell_type": "code",
   "execution_count": null,
   "id": "f0e1f009",
   "metadata": {},
   "outputs": [],
   "source": []
  },
  {
   "cell_type": "code",
   "execution_count": null,
   "id": "6fd02ed8",
   "metadata": {},
   "outputs": [],
   "source": []
  },
  {
   "cell_type": "code",
   "execution_count": null,
   "id": "8931338d",
   "metadata": {},
   "outputs": [],
   "source": []
  },
  {
   "cell_type": "markdown",
   "id": "07e3862d",
   "metadata": {},
   "source": [
    "## 2D qubit spectroscopy vs dc flux"
   ]
  },
  {
   "cell_type": "code",
   "execution_count": null,
   "id": "15755e8f",
   "metadata": {},
   "outputs": [],
   "source": [
    "# try the experiment\n",
    "%matplotlib qt\n",
    "dc_flux_sweep = machine.flux_lines[flux_index].max_frequency_point + np.arange(-0.6,0.6+1E-4,0.05)\n",
    "_,qubit_freq_sweep,dc_flux_sweep,sig_amp_qubit = Experiment.exp2D.Rabi.qubit_freq_vs_dc_flux(dc_flux_sweep,qubit_index,res_index,flux_index,\n",
    "                                 n_avg = 2E3, cd_time = 10E3, pi_amp_rel = 1.0, plot_flag = True)"
   ]
  },
  {
   "cell_type": "code",
   "execution_count": null,
   "id": "c50d8fa7",
   "metadata": {},
   "outputs": [],
   "source": [
    "# udpate the sweet spot\n",
    "%matplotlib inline\n",
    "poly_param = Analysis.exp2D.qubit_vs_dc_flux(qubit_freq_sweep, dc_flux_sweep, sig_amp_qubit, fit_order = 2, plot_flag = False)\n",
    "machine.flux_lines[flux_index].max_frequency_point = Analysis.get_sweept_spot(poly_param).tolist() + 0E1\n",
    "print(f\"sweet spot flux: {machine.flux_lines[flux_index].max_frequency_point:.5f} V\")"
   ]
  },
  {
   "cell_type": "code",
   "execution_count": null,
   "id": "68b35bb7",
   "metadata": {},
   "outputs": [],
   "source": [
    "# save the sweep spot flux according to fitted parameter\n",
    "poly_param = Analysis.exp2D.qubit_vs_dc_flux(qubit_freq_sweep, dc_flux_sweep, sig_amp_qubit, fit_order = 4, plot_flag = True)\n",
    "machine.qubits[qubit_index].tuning_curve = poly_param.tolist()\n",
    "machine = Analysis.set_machine(machine)\n",
    "Analysis.update_analysis_tuning_curve(qubit_index,res_index,flux_index)"
   ]
  },
  {
   "cell_type": "markdown",
   "id": "8164027c",
   "metadata": {},
   "source": [
    "## 2D qubit spectroscopy vs fast flux"
   ]
  },
  {
   "cell_type": "code",
   "execution_count": 3,
   "id": "1afc5b22",
   "metadata": {},
   "outputs": [],
   "source": [
    "# set DC voltage to sweet spot, after possible dc flux sweep\n",
    "machine = Experiment.set_QDAC(qubit_index,res_index,flux_index,machine.flux_lines[flux_index].max_frequency_point)\n",
    "machine = Analysis.set_machine(machine)"
   ]
  },
  {
   "cell_type": "markdown",
   "id": "a6e48433",
   "metadata": {},
   "source": [
    "### slow version, compiling 1D scans"
   ]
  },
  {
   "cell_type": "code",
   "execution_count": null,
   "id": "10fe63b6",
   "metadata": {},
   "outputs": [],
   "source": [
    "# try the experiment\n",
    "%matplotlib qt\n",
    "ff_sweep = np.arange(0.0,0.3+1E-4,0.05)\n",
    "qubit_if_sweep = np.arange(-100E6, 100E6 + 1, 2E6)\n",
    "machine,qubit_freq_sweep,ff_sweep_abs,sig_amp_qubit = Experiment.exp2D.Rabi.qubit_freq_vs_fast_flux_slow(ff_sweep,qubit_if_sweep,\n",
    "          qubit_index,res_index,flux_index,ff_to_dc_ratio = None, n_avg = 1E3, cd_time = 10E3, pi_amp_rel = 1.0, plot_flag = True)"
   ]
  },
  {
   "cell_type": "code",
   "execution_count": null,
   "id": "32fd2424",
   "metadata": {},
   "outputs": [],
   "source": [
    "# save the fitted tuning curve\n",
    "%matplotlib inline\n",
    "poly_param = Analysis.exp2D.qubit_vs_fast_flux(qubit_freq_sweep, ff_sweep_abs, sig_amp_qubit, fit_order = 4, plot_flag = True)\n",
    "machine.qubits[qubit_index].tuning_curve = poly_param.tolist()\n",
    "machine = Analysis.set_machine(machine)\n",
    "Analysis.update_analysis_tuning_curve(qubit_index,res_index,flux_index)"
   ]
  },
  {
   "cell_type": "markdown",
   "id": "aca48e4e",
   "metadata": {},
   "source": [
    "### fast version, runs blockwise 2D sweeps"
   ]
  },
  {
   "cell_type": "code",
   "execution_count": 13,
   "id": "72d896d5",
   "metadata": {},
   "outputs": [
    {
     "name": "stdout",
     "output_type": "stream",
     "text": [
      "2023-10-30 17:36:21,697 - qm - INFO     - Performing health check\n"
     ]
    },
    {
     "name": "stderr",
     "output_type": "stream",
     "text": [
      "INFO:qm.api.frontend_api:Performing health check\n"
     ]
    },
    {
     "name": "stdout",
     "output_type": "stream",
     "text": [
      "2023-10-30 17:36:21,708 - qm - INFO     - Health check passed\n"
     ]
    },
    {
     "name": "stderr",
     "output_type": "stream",
     "text": [
      "INFO:qm.api.frontend_api:Health check passed\n"
     ]
    },
    {
     "name": "stdout",
     "output_type": "stream",
     "text": [
      "------------------------------------- Calibrates r0 for (LO, IF) = (7.313 GHz, -50.000 MHz)\n",
      "2023-10-30 17:36:28,076 - qm - INFO     - Compiling program\n"
     ]
    },
    {
     "name": "stderr",
     "output_type": "stream",
     "text": [
      "INFO:qm.QuantumMachine:Compiling program\n"
     ]
    },
    {
     "name": "stdout",
     "output_type": "stream",
     "text": [
      "------------------------------------- Calibrates q0 for (LO, IF) = (6.126 GHz, 200.000 MHz)\n",
      "2023-10-30 17:36:40,819 - qm - INFO     - Compiling program\n"
     ]
    },
    {
     "name": "stderr",
     "output_type": "stream",
     "text": [
      "INFO:qm.QuantumMachine:Compiling program\n"
     ]
    },
    {
     "name": "stdout",
     "output_type": "stream",
     "text": [
      "Progress: [##################################################] 100.0% (n=1000/1000.0) --> elapsed time: 374.05s\n",
      "Progress: [##################################################] 100.0% (n=1000/1000.0) --> elapsed time: 374.22s\n",
      "2023-10-30 17:43:11,611 - qm - INFO     - Performing health check\n"
     ]
    },
    {
     "name": "stderr",
     "output_type": "stream",
     "text": [
      "INFO:qm.api.frontend_api:Performing health check\n"
     ]
    },
    {
     "name": "stdout",
     "output_type": "stream",
     "text": [
      "2023-10-30 17:43:11,622 - qm - INFO     - Health check passed\n"
     ]
    },
    {
     "name": "stderr",
     "output_type": "stream",
     "text": [
      "INFO:qm.api.frontend_api:Health check passed\n"
     ]
    },
    {
     "name": "stdout",
     "output_type": "stream",
     "text": [
      "------------------------------------- Calibrates r0 for (LO, IF) = (7.313 GHz, -50.000 MHz)\n",
      "2023-10-30 17:43:18,508 - qm - INFO     - Compiling program\n"
     ]
    },
    {
     "name": "stderr",
     "output_type": "stream",
     "text": [
      "INFO:qm.QuantumMachine:Compiling program\n"
     ]
    },
    {
     "name": "stdout",
     "output_type": "stream",
     "text": [
      "------------------------------------- Calibrates q0 for (LO, IF) = (5.926 GHz, 200.000 MHz)\n",
      "2023-10-30 17:43:30,031 - qm - INFO     - Compiling program\n"
     ]
    },
    {
     "name": "stderr",
     "output_type": "stream",
     "text": [
      "INFO:qm.QuantumMachine:Compiling program\n"
     ]
    },
    {
     "name": "stdout",
     "output_type": "stream",
     "text": [
      "Progress: [##################################################] 100.0% (n=1000/1000.0) --> elapsed time: 52.30s\n",
      "Progress: [##################################################] 100.0% (n=1000/1000.0) --> elapsed time: 52.47s\n",
      "Execution stopped by user!\n",
      "Execution stopped by user!\n"
     ]
    }
   ],
   "source": [
    "# try the experiment\n",
    "%matplotlib qt\n",
    "q_freq_max = np.floor(np.polyval(machine.qubits[qubit_index].tuning_curve, 0.0) * 1E6)\n",
    "#ff_sweep_abs = np.arange(0.0,0.3+1E-4,0.05)\n",
    "qubit_freq_sweep = np.arange(q_freq_max, 6.2E9, -4E6)\n",
    "qubit_if_sweep = np.arange(-60E6, 60E6 + 1, 0.5E6)\n",
    "machine,qubit_freq_sweep,ff_sweep_abs,sig_amp_qubit = Experiment.exp2D.Rabi.qubit_freq_vs_fast_flux(qubit_freq_sweep,qubit_if_sweep,\n",
    "          qubit_index,res_index,flux_index, n_avg = 1E3, cd_time = 30E3, pi_amp_rel = 1.0, plot_flag = True)"
   ]
  },
  {
   "cell_type": "code",
   "execution_count": 4,
   "id": "f2577e29",
   "metadata": {},
   "outputs": [
    {
     "data": {
      "image/png": "[encoded data removed]",
      "text/plain": [
       "<Figure size 800x400 with 1 Axes>"
      ]
     },
     "metadata": {},
     "output_type": "display_data"
    }
   ],
   "source": [
    "# save the fitted tuning curve\n",
    "%matplotlib inline\n",
    "poly_param = Analysis.exp2D.qubit_vs_fast_flux(qubit_freq_sweep, ff_sweep_abs, sig_amp_qubit, fit_order = 4, plot_flag = True)\n",
    "machine.qubits[qubit_index].tuning_curve = poly_param.tolist()\n",
    "machine = Analysis.set_machine(machine)\n",
    "Analysis.update_analysis_tuning_curve(qubit_index,res_index,flux_index)"
   ]
  },
  {
   "cell_type": "markdown",
   "id": "79e1a1f9",
   "metadata": {},
   "source": [
    "## TLS SWAP spectroscopy"
   ]
  },
  {
   "cell_type": "markdown",
   "id": "9ab016d8",
   "metadata": {},
   "source": [
    "### coarse, no baking"
   ]
  },
  {
   "cell_type": "code",
   "execution_count": 5,
   "id": "fd1c9251",
   "metadata": {},
   "outputs": [
    {
     "name": "stdout",
     "output_type": "stream",
     "text": [
      "Progress: [##################################################] 100.0% (n=4000/4000.0) --> elapsed time: 776.93s\n",
      "Execution stopped by user!\n"
     ]
    }
   ],
   "source": [
    "%matplotlib qt\n",
    "tau_sweep_abs = np.arange(16,200,4)\n",
    "ff_sweep_abs = np.arange(0.4,0.5,0.0005)\n",
    "machine, ff_sweep_abs, tau_sweep_abs, sig_amp = Experiment.exp2D.SWAP.swap_coarse(tau_sweep_abs, ff_sweep_abs, qubit_index, res_index, flux_index, \n",
    "                      n_avg = 4E3, cd_time = 20E3, simulate_flag=False, simulation_len=10_000, plot_flag=True, machine = machine)"
   ]
  },
  {
   "cell_type": "code",
   "execution_count": null,
   "id": "84d779d4",
   "metadata": {},
   "outputs": [],
   "source": []
  },
  {
   "cell_type": "code",
   "execution_count": null,
   "id": "59390221",
   "metadata": {},
   "outputs": [],
   "source": []
  },
  {
   "cell_type": "code",
   "execution_count": null,
   "id": "2d2edbc3",
   "metadata": {},
   "outputs": [],
   "source": []
  },
  {
   "cell_type": "code",
   "execution_count": null,
   "id": "9bba8f6e",
   "metadata": {},
   "outputs": [],
   "source": []
  },
  {
   "cell_type": "markdown",
   "id": "0cb446fe",
   "metadata": {},
   "source": [
    "### fine, with baking"
   ]
  },
  {
   "cell_type": "code",
   "execution_count": 5,
   "id": "b6a3512a",
   "metadata": {},
   "outputs": [
    {
     "name": "stdout",
     "output_type": "stream",
     "text": [
      "2023-10-31 09:06:40,466 - qm - ERROR    - Job 1698355231199 failed. Failed to execute program.\n"
     ]
    },
    {
     "name": "stderr",
     "output_type": "stream",
     "text": [
      "ERROR:qm.api.simulation_api:Job 1698355231199 failed. Failed to execute program.\n"
     ]
    },
    {
     "name": "stdout",
     "output_type": "stream",
     "text": [
      "2023-10-31 09:06:40,469 - qm - ERROR    - Simulation error: An error has occurred during simulation:\n",
      "Invalid instruction length: play or wait duration shorter than 4 cycles\n"
     ]
    },
    {
     "name": "stderr",
     "output_type": "stream",
     "text": [
      "ERROR:qm.api.simulation_api:Simulation error: An error has occurred during simulation:\n",
      "Invalid instruction length: play or wait duration shorter than 4 cycles\n"
     ]
    },
    {
     "ename": "FailedToExecuteJobException",
     "evalue": "1698355231199",
     "output_type": "error",
     "traceback": [
      "\u001b[1;31m---------------------------------------------------------------------------\u001b[0m",
      "\u001b[1;31mFailedToExecuteJobException\u001b[0m               Traceback (most recent call last)",
      "Cell \u001b[1;32mIn[5], line 4\u001b[0m\n\u001b[0;32m      2\u001b[0m tau_sweep_abs \u001b[38;5;241m=\u001b[39m np\u001b[38;5;241m.\u001b[39marange(\u001b[38;5;241m16\u001b[39m,\u001b[38;5;241m20\u001b[39m \u001b[38;5;241m+\u001b[39m \u001b[38;5;241m1\u001b[39m,\u001b[38;5;241m1\u001b[39m)\n\u001b[0;32m      3\u001b[0m ff_sweep_abs \u001b[38;5;241m=\u001b[39m np\u001b[38;5;241m.\u001b[39marange(\u001b[38;5;241m0.4\u001b[39m,\u001b[38;5;241m0.5\u001b[39m,\u001b[38;5;241m0.0005\u001b[39m)\n\u001b[1;32m----> 4\u001b[0m machine, ff_sweep_abs, tau_sweep_abs, sig_amp \u001b[38;5;241m=\u001b[39m \u001b[43mExperiment\u001b[49m\u001b[38;5;241;43m.\u001b[39;49m\u001b[43mexp2D\u001b[49m\u001b[38;5;241;43m.\u001b[39;49m\u001b[43mSWAP\u001b[49m\u001b[38;5;241;43m.\u001b[39;49m\u001b[43mswap_fine_wip\u001b[49m\u001b[43m(\u001b[49m\u001b[43mtau_sweep_abs\u001b[49m\u001b[43m,\u001b[49m\u001b[43m \u001b[49m\u001b[43mff_sweep_abs\u001b[49m\u001b[43m,\u001b[49m\u001b[43m \u001b[49m\u001b[43mqubit_index\u001b[49m\u001b[43m,\u001b[49m\u001b[43m \u001b[49m\u001b[43mres_index\u001b[49m\u001b[43m,\u001b[49m\u001b[43m \u001b[49m\u001b[43mflux_index\u001b[49m\u001b[43m,\u001b[49m\u001b[43m \u001b[49m\n\u001b[0;32m      5\u001b[0m \u001b[43m                      \u001b[49m\u001b[43mn_avg\u001b[49m\u001b[43m \u001b[49m\u001b[38;5;241;43m=\u001b[39;49m\u001b[43m \u001b[49m\u001b[38;5;241;43m4E3\u001b[39;49m\u001b[43m,\u001b[49m\u001b[43m \u001b[49m\u001b[43mcd_time\u001b[49m\u001b[43m \u001b[49m\u001b[38;5;241;43m=\u001b[39;49m\u001b[43m \u001b[49m\u001b[38;5;241;43m20E3\u001b[39;49m\u001b[43m,\u001b[49m\u001b[43m \u001b[49m\u001b[43msimulate_flag\u001b[49m\u001b[38;5;241;43m=\u001b[39;49m\u001b[38;5;28;43;01mTrue\u001b[39;49;00m\u001b[43m,\u001b[49m\u001b[43m \u001b[49m\u001b[43msimulation_len\u001b[49m\u001b[38;5;241;43m=\u001b[39;49m\u001b[38;5;241;43m10_000\u001b[39;49m\u001b[43m,\u001b[49m\u001b[43m \u001b[49m\u001b[43mplot_flag\u001b[49m\u001b[38;5;241;43m=\u001b[39;49m\u001b[38;5;28;43;01mTrue\u001b[39;49;00m\u001b[43m,\u001b[49m\u001b[43m \u001b[49m\u001b[43mmachine\u001b[49m\u001b[43m \u001b[49m\u001b[38;5;241;43m=\u001b[39;49m\u001b[43m \u001b[49m\u001b[43mmachine\u001b[49m\u001b[43m)\u001b[49m\n",
      "File \u001b[1;32m~\\QM\\QM_UALA\\ExperimentClass_2D.py:1326\u001b[0m, in \u001b[0;36mEH_SWAP.swap_fine_wip\u001b[1;34m(self, tau_sweep_abs, ff_sweep_abs, qubit_index, res_index, flux_index, n_avg, cd_time, tPath, f_str_datetime, simulate_flag, simulation_len, plot_flag, machine)\u001b[0m\n\u001b[0;32m   1324\u001b[0m \u001b[38;5;28;01mif\u001b[39;00m simulate_flag:\n\u001b[0;32m   1325\u001b[0m \tsimulation_config \u001b[38;5;241m=\u001b[39m SimulationConfig(duration\u001b[38;5;241m=\u001b[39msimulation_len)\n\u001b[1;32m-> 1326\u001b[0m \tjob \u001b[38;5;241m=\u001b[39m \u001b[43mqmm\u001b[49m\u001b[38;5;241;43m.\u001b[39;49m\u001b[43msimulate\u001b[49m\u001b[43m(\u001b[49m\u001b[43mconfig\u001b[49m\u001b[43m,\u001b[49m\u001b[43m \u001b[49m\u001b[43miswap\u001b[49m\u001b[43m,\u001b[49m\u001b[43m \u001b[49m\u001b[43msimulation_config\u001b[49m\u001b[43m)\u001b[49m\n\u001b[0;32m   1327\u001b[0m \tjob\u001b[38;5;241m.\u001b[39mget_simulated_samples()\u001b[38;5;241m.\u001b[39mcon1\u001b[38;5;241m.\u001b[39mplot()\n\u001b[0;32m   1328\u001b[0m \u001b[38;5;28;01melse\u001b[39;00m:\n",
      "File \u001b[1;32m~\\.conda\\envs\\labber-qm-env\\lib\\site-packages\\qm\\quantum_machines_manager.py:283\u001b[0m, in \u001b[0;36mQuantumMachinesManager.simulate\u001b[1;34m(self, config, program, simulate, compiler_options, strict, flags)\u001b[0m\n\u001b[0;32m    254\u001b[0m \u001b[38;5;250m\u001b[39m\u001b[38;5;124;03m\"\"\"Simulate the outputs of a deterministic QUA program.\u001b[39;00m\n\u001b[0;32m    255\u001b[0m \n\u001b[0;32m    256\u001b[0m \u001b[38;5;124;03mThe following example shows a simple execution of the simulator, where the\u001b[39;00m\n\u001b[1;32m   (...)\u001b[0m\n\u001b[0;32m    280\u001b[0m \u001b[38;5;124;03m    a ``QmJob`` object (see QM Job API).\u001b[39;00m\n\u001b[0;32m    281\u001b[0m \u001b[38;5;124;03m\"\"\"\u001b[39;00m\n\u001b[0;32m    282\u001b[0m standardized_options \u001b[38;5;241m=\u001b[39m standardize_compiler_params(compiler_options, strict, flags)\n\u001b[1;32m--> 283\u001b[0m job_id, simulated_response_part \u001b[38;5;241m=\u001b[39m \u001b[38;5;28;43mself\u001b[39;49m\u001b[38;5;241;43m.\u001b[39;49m\u001b[43m_simulation_api\u001b[49m\u001b[38;5;241;43m.\u001b[39;49m\u001b[43msimulate\u001b[49m\u001b[43m(\u001b[49m\u001b[43mconfig\u001b[49m\u001b[43m,\u001b[49m\u001b[43m \u001b[49m\u001b[43mprogram\u001b[49m\u001b[43m,\u001b[49m\u001b[43m \u001b[49m\u001b[43msimulate\u001b[49m\u001b[43m,\u001b[49m\u001b[43m \u001b[49m\u001b[43mstandardized_options\u001b[49m\u001b[43m)\u001b[49m\n\u001b[0;32m    284\u001b[0m \u001b[38;5;28;01mreturn\u001b[39;00m SimulatedJob(\n\u001b[0;32m    285\u001b[0m     job_id\u001b[38;5;241m=\u001b[39mjob_id,\n\u001b[0;32m    286\u001b[0m     frontend_api\u001b[38;5;241m=\u001b[39m\u001b[38;5;28mself\u001b[39m\u001b[38;5;241m.\u001b[39m_frontend,\n\u001b[1;32m   (...)\u001b[0m\n\u001b[0;32m    289\u001b[0m     simulated_response\u001b[38;5;241m=\u001b[39msimulated_response_part,\n\u001b[0;32m    290\u001b[0m )\n",
      "File \u001b[1;32m~\\.conda\\envs\\labber-qm-env\\lib\\site-packages\\qm\\api\\simulation_api.py:133\u001b[0m, in \u001b[0;36mSimulationApi.simulate\u001b[1;34m(self, config, program, simulate, compiler_options)\u001b[0m\n\u001b[0;32m    131\u001b[0m     \u001b[38;5;28;01mfor\u001b[39;00m error \u001b[38;5;129;01min\u001b[39;00m response\u001b[38;5;241m.\u001b[39msimulated\u001b[38;5;241m.\u001b[39merrors:\n\u001b[0;32m    132\u001b[0m         logger\u001b[38;5;241m.\u001b[39merror(\u001b[38;5;124mf\u001b[39m\u001b[38;5;124m\"\u001b[39m\u001b[38;5;124mSimulation error: \u001b[39m\u001b[38;5;132;01m{\u001b[39;00merror\u001b[38;5;132;01m}\u001b[39;00m\u001b[38;5;124m\"\u001b[39m)\n\u001b[1;32m--> 133\u001b[0m     \u001b[38;5;28;01mraise\u001b[39;00m FailedToExecuteJobException(job_id)\n\u001b[0;32m    135\u001b[0m \u001b[38;5;28;01mreturn\u001b[39;00m job_id, response\u001b[38;5;241m.\u001b[39msimulated\n",
      "\u001b[1;31mFailedToExecuteJobException\u001b[0m: 1698355231199"
     ]
    }
   ],
   "source": [
    "%matplotlib qt\n",
    "tau_sweep_abs = np.arange(16,20 + 1,1)\n",
    "ff_sweep_abs = np.arange(0.4,0.5,0.0005)\n",
    "machine, ff_sweep_abs, tau_sweep_abs, sig_amp = Experiment.exp2D.SWAP.swap_fine_wip(tau_sweep_abs, ff_sweep_abs, qubit_index, res_index, flux_index, \n",
    "                      n_avg = 1E3, cd_time = 10E3, simulate_flag=False, simulation_len=10_000, plot_flag=True, machine = machine)"
   ]
  },
  {
   "cell_type": "code",
   "execution_count": 4,
   "id": "1739ab34",
   "metadata": {},
   "outputs": [],
   "source": [
    "max_pulse_duration = max(tau_sweep_abs)"
   ]
  },
  {
   "cell_type": "code",
   "execution_count": 7,
   "id": "0c1fcc1a",
   "metadata": {},
   "outputs": [
    {
     "data": {
      "text/plain": [
       "int"
      ]
     },
     "execution_count": 7,
     "metadata": {},
     "output_type": "execute_result"
    }
   ],
   "source": [
    "type(int(max_pulse_duration))"
   ]
  },
  {
   "cell_type": "markdown",
   "id": "59e91fe9",
   "metadata": {},
   "source": [
    "### test"
   ]
  },
  {
   "cell_type": "code",
   "execution_count": null,
   "id": "2b0ebd4f",
   "metadata": {},
   "outputs": [],
   "source": []
  },
  {
   "cell_type": "code",
   "execution_count": null,
   "id": "6126164a",
   "metadata": {},
   "outputs": [],
   "source": []
  },
  {
   "cell_type": "code",
   "execution_count": null,
   "id": "4a7e3c31",
   "metadata": {},
   "outputs": [],
   "source": []
  },
  {
   "cell_type": "code",
   "execution_count": null,
   "id": "a79ea539",
   "metadata": {},
   "outputs": [],
   "source": []
  },
  {
   "cell_type": "code",
   "execution_count": null,
   "id": "2ec31de7",
   "metadata": {},
   "outputs": [],
   "source": []
  },
  {
   "cell_type": "code",
   "execution_count": null,
   "id": "e4a407fa",
   "metadata": {},
   "outputs": [],
   "source": []
  }
 ],
 "metadata": {
  "kernelspec": {
   "display_name": "Python 3 (ipykernel)",
   "language": "python",
   "name": "python3"
  },
  "language_info": {
   "codemirror_mode": {
    "name": "ipython",
    "version": 3
   },
   "file_extension": ".py",
   "mimetype": "text/x-python",
   "name": "python",
   "nbconvert_exporter": "python",
   "pygments_lexer": "ipython3",
   "version": "3.8.17"
  }
 },
 "nbformat": 4,
 "nbformat_minor": 5
}
