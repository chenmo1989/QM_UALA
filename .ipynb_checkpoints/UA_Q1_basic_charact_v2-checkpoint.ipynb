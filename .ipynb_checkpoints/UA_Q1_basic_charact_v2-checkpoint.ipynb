{
 "cells": [
  {
   "cell_type": "markdown",
   "id": "49d22572",
   "metadata": {},
   "source": [
    "# Basic characterizations of UA Q1\n",
    "### using Experiment and Analysis classes"
   ]
  },
  {
   "cell_type": "code",
   "execution_count": 1,
   "id": "b08c4dec",
   "metadata": {
    "scrolled": true
   },
   "outputs": [
    {
     "name": "stdout",
     "output_type": "stream",
     "text": [
      "2023-11-03 10:01:11,181 - qm - INFO     - Starting session: 17f69087-aa83-403a-bf81-ca690e1347c8\n"
     ]
    }
   ],
   "source": [
    "from qm.qua import *\n",
    "from qm.QuantumMachinesManager import QuantumMachinesManager\n",
    "from qm import SimulationConfig, LoopbackInterface\n",
    "from qm.octave import *\n",
    "from qm.octave.octave_manager import ClockMode\n",
    "from configuration import *\n",
    "from scipy import signal\n",
    "from qm import SimulationConfig\n",
    "from qualang_tools.bakery import baking\n",
    "from qualang_tools.units import unit\n",
    "from qm import generate_qua_script\n",
    "from qm.octave import QmOctaveConfig\n",
    "from set_octave import ElementsSettings, octave_settings\n",
    "from quam import QuAM\n",
    "from scipy.io import savemat\n",
    "from scipy.io import loadmat\n",
    "from scipy.optimize import curve_fit\n",
    "from scipy.signal import savgol_filter\n",
    "from qutip import *\n",
    "from typing import Union\n",
    "from macros import *\n",
    "import datetime \n",
    "import os\n",
    "import time\n",
    "import warnings\n",
    "import json\n",
    "import matplotlib.pyplot as plt\n",
    "import numpy as np\n",
    "import Labber\n",
    "\n",
    "from ExperimentClass import ExperimentHandle\n",
    "from AnalysisClass import AnalysisHandle\n",
    "\n",
    "warnings.filterwarnings(\"ignore\")\n",
    "\n",
    "qubit_index = 0 # for UA Q1\n",
    "res_index = 0 # for UA Q1\n",
    "flux_index = 0 # for UA Q1\n",
    "TLS_index = 0 # for TLS of interest"
   ]
  },
  {
   "cell_type": "code",
   "execution_count": 2,
   "id": "44475f4c",
   "metadata": {},
   "outputs": [],
   "source": [
    "Experiment = ExperimentHandle()\n",
    "Analysis = AnalysisHandle()\n",
    "machine = Analysis.get_machine()"
   ]
  },
  {
   "cell_type": "code",
   "execution_count": 3,
   "id": "76f18494",
   "metadata": {},
   "outputs": [],
   "source": [
    "# initialize Labber-controlled hardware\n",
    "Experiment.set_Labber(Analysis.get_machine(), qubit_index, res_index, flux_index)\n",
    "# set octave to external clock\n",
    "#Experiment.set_external_clock()"
   ]
  },
  {
   "cell_type": "code",
   "execution_count": 4,
   "id": "494501d8",
   "metadata": {},
   "outputs": [
    {
     "name": "stdout",
     "output_type": "stream",
     "text": [
      "2023-11-03 09:39:44,898 - qm - INFO     - Octave \"octave1\" Health check passed, current temperature 58\n"
     ]
    },
    {
     "name": "stderr",
     "output_type": "stream",
     "text": [
      "INFO:qm:Octave \"octave1\" Health check passed, current temperature 58\n"
     ]
    },
    {
     "name": "stdout",
     "output_type": "stream",
     "text": [
      "2023-11-03 09:39:44,903 - qm - INFO     - Performing health check\n"
     ]
    },
    {
     "name": "stderr",
     "output_type": "stream",
     "text": [
      "INFO:qm.api.frontend_api:Performing health check\n"
     ]
    },
    {
     "name": "stdout",
     "output_type": "stream",
     "text": [
      "2023-11-03 09:39:44,920 - qm - INFO     - Health check passed\n"
     ]
    },
    {
     "name": "stderr",
     "output_type": "stream",
     "text": [
      "INFO:qm.api.frontend_api:Health check passed\n"
     ]
    }
   ],
   "source": [
    "# this updates the octave settings, including rf_gain and rf_output_mode\n",
    "Experiment.octave_calibration(qubit_index,res_index,flux_index,calibration_flag = False)"
   ]
  },
  {
   "cell_type": "code",
   "execution_count": 5,
   "id": "ae40112f",
   "metadata": {},
   "outputs": [
    {
     "name": "stdout",
     "output_type": "stream",
     "text": [
      "2023-11-02 16:42:18,337 - qm - INFO     - Performing health check\n"
     ]
    },
    {
     "name": "stderr",
     "output_type": "stream",
     "text": [
      "INFO:qm.api.frontend_api:Performing health check\n"
     ]
    },
    {
     "name": "stdout",
     "output_type": "stream",
     "text": [
      "2023-11-02 16:42:18,360 - qm - INFO     - Health check passed\n"
     ]
    },
    {
     "name": "stderr",
     "output_type": "stream",
     "text": [
      "INFO:qm.api.frontend_api:Health check passed\n"
     ]
    },
    {
     "name": "stdout",
     "output_type": "stream",
     "text": [
      "------------------------------------- Calibrates r0 for (LO, IF) = (7.313 GHz, -50.050 MHz)\n",
      "2023-11-02 16:42:25,478 - qm - INFO     - Compiling program\n"
     ]
    },
    {
     "name": "stderr",
     "output_type": "stream",
     "text": [
      "INFO:qm.QuantumMachine:Compiling program\n"
     ]
    },
    {
     "name": "stdout",
     "output_type": "stream",
     "text": [
      "------------------------------------- Calibrates q0 for (LO, IF) = (6.221 GHz, 200.000 MHz)\n",
      "2023-11-02 16:42:37,128 - qm - INFO     - Compiling program\n"
     ]
    },
    {
     "name": "stderr",
     "output_type": "stream",
     "text": [
      "INFO:qm.QuantumMachine:Compiling program\n"
     ]
    }
   ],
   "source": [
    "# octave calibration\n",
    "Experiment.octave_calibration(qubit_index,res_index,flux_index,calibration_flag = True)"
   ]
  },
  {
   "cell_type": "markdown",
   "id": "8feeb813",
   "metadata": {},
   "source": [
    "## resonator switch calibration"
   ]
  },
  {
   "cell_type": "markdown",
   "id": "e6388e28",
   "metadata": {},
   "source": [
    "### switch delay"
   ]
  },
  {
   "cell_type": "code",
   "execution_count": null,
   "id": "5a07ba94",
   "metadata": {},
   "outputs": [],
   "source": [
    "# reduce the resonator freq, so sig is stronger\n",
    "machine.resonators[res_index].f_readout -= 2E6\n",
    "machine._save(\"quam_state.json\")"
   ]
  },
  {
   "cell_type": "code",
   "execution_count": null,
   "id": "c836458d",
   "metadata": {},
   "outputs": [],
   "source": [
    "%matplotlib inline\n",
    "rr_switch_delay_sweep = np.arange(70,110,1)\n",
    "machine, rr_switch_delay_sweep, sig_amp = Experiment.exp1D.RR.rr_switch_delay(rr_switch_delay_sweep, qubit_index, res_index, flux_index, \n",
    "                          n_avg = 160E3, cd_time = 20E3, simulate_flag = False, simulation_len = 500, plot_flag = True)"
   ]
  },
  {
   "cell_type": "markdown",
   "id": "14880405",
   "metadata": {},
   "source": [
    "### switch buffer"
   ]
  },
  {
   "cell_type": "code",
   "execution_count": null,
   "id": "a81cb5d6",
   "metadata": {},
   "outputs": [],
   "source": [
    "%matplotlib inline\n",
    "rr_switch_buffer_sweep = np.arange(0,25 + 1,1)\n",
    "machine, rr_switch_delay_sweep, sig_amp = Experiment.exp1D.RR.rr_switch_buffer(rr_switch_buffer_sweep, qubit_index, res_index, flux_index, \n",
    "                          n_avg = 20E3, cd_time = 20E3, simulate_flag = False, simulation_len = 500, plot_flag = True)"
   ]
  },
  {
   "cell_type": "markdown",
   "id": "9a6e5328",
   "metadata": {},
   "source": [
    "## Time of flight"
   ]
  },
  {
   "cell_type": "code",
   "execution_count": null,
   "id": "36b21dc5",
   "metadata": {},
   "outputs": [],
   "source": [
    "# time_of_flight\n",
    "# experiment\n",
    "machine, adc1, adc2, adc1_single, adc2_single = Experiment.exp1D.RR.time_of_flight(qubit_index,res_index,flux_index, n_avg = 10E3, cd_time = 1E3, tPath = None, f_str_datetime = None, simulate_flag = False, simulation_len = 1000)\n",
    "# plot\n",
    "%matplotlib inline\n",
    "dc_offset_i, dc_offset_q, delay = Analysis.exp1D.time_of_flight(adc1,adc2,adc1_single,adc2_single)"
   ]
  },
  {
   "cell_type": "code",
   "execution_count": null,
   "id": "1a38781b",
   "metadata": {},
   "outputs": [],
   "source": [
    "# update the offset\n",
    "machine.global_parameters.con1_downconversion_offset_I += -0.000341\n",
    "machine.global_parameters.con1_downconversion_offset_Q += -0.000633\n",
    "machine = Analysis.set_machine(machine)"
   ]
  },
  {
   "cell_type": "markdown",
   "id": "f7a6f477",
   "metadata": {},
   "source": [
    "## 1D RO resonator spectroscopy"
   ]
  },
  {
   "cell_type": "code",
   "execution_count": 4,
   "id": "b9a96c35",
   "metadata": {
    "scrolled": true
   },
   "outputs": [
    {
     "name": "stdout",
     "output_type": "stream",
     "text": [
      "Progress: [##################################################] 100.0% (n=1000/1000.0) --> elapsed time: 2.09s\n",
      "Progress: [##################################################] 100.0% (n=1000/1000.0) --> elapsed time: 2.18s\n"
     ]
    }
   ],
   "source": [
    "%matplotlib qt\n",
    "machine = Analysis.get_machine()\n",
    "res_freq_sweep = machine.resonators[res_index].f_readout + np.arange(-10E6,10E6 + 1.0,0.05E6)\n",
    "machine, res_freq_sweep, sig_amp = Experiment.exp1D.RR.rr_freq(res_freq_sweep, qubit_index, res_index, flux_index, \n",
    "                           n_avg = 1E3, cd_time = 5E3, simulate_flag = False, simulation_len = 1000)"
   ]
  },
  {
   "cell_type": "code",
   "execution_count": 5,
   "id": "7091f476",
   "metadata": {},
   "outputs": [
    {
     "name": "stdout",
     "output_type": "stream",
     "text": [
      "resonator frequency: 7262.863 MHz\n",
      "Execution stopped by user!\n"
     ]
    },
    {
     "data": {
      "image/png": "[encoded data removed]",
      "text/plain": [
       "<Figure size 600x300 with 1 Axes>"
      ]
     },
     "metadata": {},
     "output_type": "display_data"
    }
   ],
   "source": [
    "# find the minimal\n",
    "%matplotlib inline\n",
    "res_freq = Analysis.exp1D.rr_freq(res_freq_sweep, sig_amp)\n",
    "machine.resonators[res_index].f_readout = res_freq.tolist() + 0E6\n",
    "machine = Analysis.set_machine(machine)"
   ]
  },
  {
   "cell_type": "markdown",
   "id": "c23f0f9d",
   "metadata": {},
   "source": [
    "## 2D RO resonator spectroscopy vs DC flux"
   ]
  },
  {
   "cell_type": "code",
   "execution_count": null,
   "id": "3b659ab6",
   "metadata": {},
   "outputs": [],
   "source": [
    "res_freq_sweep = np.arange(7.254E9,7.267E9 + 1.0,0.2E6)\n",
    "dc_flux_sweep = np.arange(-9,9.001,0.5)\n",
    "%matplotlib qt\n",
    "machine, res_freq_sweep, dc_flux_sweep, sig_amp = Experiment.exp2D.RR.rr_vs_dc_flux(res_freq_sweep, dc_flux_sweep, qubit_index, res_index, flux_index, n_avg = 1E3, cd_time = 10E3)"
   ]
  },
  {
   "cell_type": "code",
   "execution_count": null,
   "id": "4dac1a35",
   "metadata": {},
   "outputs": [],
   "source": [
    "%matplotlib inline\n",
    "ham_param = Analysis.exp2D.rr_vs_dc_flux(res_freq_sweep, dc_flux_sweep, sig_amp, init_guess = None)\n",
    "poly_param = Analysis.exp2D.qubit_vs_dc_flux_guess(ham_param)"
   ]
  },
  {
   "cell_type": "code",
   "execution_count": null,
   "id": "56cab19d",
   "metadata": {},
   "outputs": [],
   "source": [
    "# save the fitting parameters\n",
    "machine.resonators[res_index].tuning_curve = ham_param.tolist()\n",
    "machine.qubits[qubit_index].tuning_curve = poly_param.tolist()\n",
    "machine = Analysis.set_machine(machine)"
   ]
  },
  {
   "cell_type": "code",
   "execution_count": null,
   "id": "02e0a7bc",
   "metadata": {},
   "outputs": [],
   "source": [
    "# save the sweep spot flux according to fitted parameter\n",
    "machine.flux_lines[flux_index].max_frequency_point = Analysis.get_sweept_spot(machine.qubits[qubit_index].tuning_curve)\n",
    "machine = Analysis.set_machine(machine)"
   ]
  },
  {
   "cell_type": "markdown",
   "id": "7512d423",
   "metadata": {},
   "source": [
    "## 1D qubit spectroscopy @ sweep spot"
   ]
  },
  {
   "cell_type": "code",
   "execution_count": 29,
   "id": "8399c75c",
   "metadata": {},
   "outputs": [],
   "source": [
    "# set to sweet spot\n",
    "machine = Experiment.set_QDAC(qubit_index,res_index,flux_index,machine.flux_lines[flux_index].max_frequency_point)"
   ]
  },
  {
   "cell_type": "code",
   "execution_count": 21,
   "id": "b3048a68",
   "metadata": {},
   "outputs": [
    {
     "name": "stdout",
     "output_type": "stream",
     "text": [
      "Progress: [##################################################] 100.0% (n=5000/5000.0) --> elapsed time: 5.68s\n",
      "Progress: [##################################################] 100.0% (n=5000/5000.0) --> elapsed time: 5.72s\n",
      "resonator frequency: 7262.913 MHz\n"
     ]
    },
    {
     "data": {
      "image/png": "[encoded data removed]",
      "text/plain": [
       "<Figure size 600x300 with 1 Axes>"
      ]
     },
     "metadata": {},
     "output_type": "display_data"
    }
   ],
   "source": [
    "# calibrate RO\n",
    "%matplotlib qt\n",
    "#res_freq_sweep = np.arange(7.2575E9,7.2675E9 + 1.0,0.03E6)\n",
    "ham_param = machine.resonators[res_index].tuning_curve\n",
    "res_freq_est = Analysis.exp2D.ham([flux_index,machine.flux_lines[flux_index].max_frequency_point], ham_param[0], ham_param[1], ham_param[2], ham_param[3], ham_param[4], ham_param[5], output_flag = 1) * 1E6 # to Hz\n",
    "res_freq_sweep = int(res_freq_est[0]) + np.arange(-5E6, 5E6 + 1, 0.05E6)\n",
    "machine, res_freq_sweep, sig_amp = Experiment.exp1D.RR.rr_freq(res_freq_sweep, qubit_index, res_index, flux_index, \n",
    "                       n_avg = 5E3, cd_time = 5E3, plot_flag = False, simulate_flag = False, simulation_len = 1000)\n",
    "%matplotlib inline\n",
    "res_freq = Analysis.exp1D.rr_freq(res_freq_sweep, sig_amp)\n",
    "res_freq = int(res_freq.tolist())\n",
    "machine.resonators[res_index].f_readout = res_freq + 0E6\n",
    "machine.resonators[res_index].lo = res_freq + 50E6\n",
    "machine = Analysis.set_machine(machine)"
   ]
  },
  {
   "cell_type": "code",
   "execution_count": null,
   "id": "431a87c3",
   "metadata": {},
   "outputs": [],
   "source": [
    "# calibrate octave\n",
    "Experiment.octave_calibration(qubit_index,res_index,flux_index)"
   ]
  },
  {
   "cell_type": "code",
   "execution_count": 5,
   "id": "463e4ef5",
   "metadata": {},
   "outputs": [
    {
     "name": "stdout",
     "output_type": "stream",
     "text": [
      "Progress: [##################################################] 100.0% (n=1000/1000.0) --> elapsed time: 2.01s\n",
      "Progress: [##################################################] 100.0% (n=1000/1000.0) --> elapsed time: 2.06s\n"
     ]
    }
   ],
   "source": [
    "#qubit_freq_sweep = np.arange(6.30E9,6.60E9+1,1E6)\n",
    "# for the DC flux\n",
    "#qubit_freq_est = np.polyval(machine.qubits[qubit_index].tuning_curve,machine.flux_lines[flux_index].max_frequency_point) * 1E6 # in Hz\n",
    "# for the fast flux\n",
    "qubit_freq_est = np.polyval(machine.qubits[qubit_index].tuning_curve,0.0) * 1E6 # in Hz\n",
    "machine.qubits[qubit_index].lo = int(qubit_freq_est.tolist()) - 200E6\n",
    "qubit_freq_sweep = int(qubit_freq_est) + np.arange(-50E6, 50E6 + 1, 1E6)\n",
    "    \n",
    "%matplotlib qt\n",
    "machine, qubit_freq_sweep, sig_amp = Experiment.exp1D.Rabi.qubit_freq(qubit_freq_sweep, qubit_index, res_index, flux_index, \n",
    "                                      pi_amp_rel = 1.0, ff_amp = 0.0, n_avg = 1E3, cd_time = 20E3, plot_flag = False, \n",
    "                                      simulate_flag = False, simulation_len = 4000)"
   ]
  },
  {
   "cell_type": "code",
   "execution_count": 6,
   "id": "4831c24f",
   "metadata": {},
   "outputs": [
    {
     "name": "stdout",
     "output_type": "stream",
     "text": [
      "resonant frequency: 6421.697 MHz\n"
     ]
    },
    {
     "data": {
      "image/png": "[encoded data removed]",
      "text/plain": [
       "<Figure size 640x480 with 1 Axes>"
      ]
     },
     "metadata": {},
     "output_type": "display_data"
    }
   ],
   "source": [
    "%matplotlib inline\n",
    "qubit_freq = Analysis.exp1D.peak_fit(x=qubit_freq_sweep,y=sig_amp,method=\"gaussian\")\n",
    "qubit_freq = int(qubit_freq.tolist())\n",
    "machine.qubits[qubit_index].f_01 = qubit_freq + 0E6\n",
    "machine.qubits[qubit_index].lo = qubit_freq - 200E6\n",
    "machine = Analysis.set_machine(machine)"
   ]
  },
  {
   "cell_type": "code",
   "execution_count": 8,
   "id": "f6106e19",
   "metadata": {},
   "outputs": [
    {
     "name": "stdout",
     "output_type": "stream",
     "text": [
      "2023-11-02 15:43:35,161 - qm - INFO     - Performing health check\n"
     ]
    },
    {
     "name": "stderr",
     "output_type": "stream",
     "text": [
      "INFO:qm.api.frontend_api:Performing health check\n"
     ]
    },
    {
     "name": "stdout",
     "output_type": "stream",
     "text": [
      "2023-11-02 15:43:35,169 - qm - INFO     - Health check passed\n"
     ]
    },
    {
     "name": "stderr",
     "output_type": "stream",
     "text": [
      "INFO:qm.api.frontend_api:Health check passed\n"
     ]
    },
    {
     "name": "stdout",
     "output_type": "stream",
     "text": [
      "------------------------------------- Calibrates r0 for (LO, IF) = (7.313 GHz, -50.050 MHz)\n",
      "2023-11-02 15:43:41,762 - qm - INFO     - Compiling program\n"
     ]
    },
    {
     "name": "stderr",
     "output_type": "stream",
     "text": [
      "INFO:qm.QuantumMachine:Compiling program\n"
     ]
    },
    {
     "name": "stdout",
     "output_type": "stream",
     "text": [
      "------------------------------------- Calibrates q0 for (LO, IF) = (6.226 GHz, 200.000 MHz)\n",
      "2023-11-02 15:43:54,319 - qm - INFO     - Compiling program\n"
     ]
    },
    {
     "name": "stderr",
     "output_type": "stream",
     "text": [
      "INFO:qm.QuantumMachine:Compiling program\n"
     ]
    }
   ],
   "source": [
    "# calibrate octave\n",
    "Experiment.octave_calibration(qubit_index,res_index,flux_index,machine=machine)"
   ]
  },
  {
   "cell_type": "markdown",
   "id": "7f73ccef",
   "metadata": {},
   "source": [
    "## Rabi"
   ]
  },
  {
   "cell_type": "markdown",
   "id": "8dc4372f",
   "metadata": {},
   "source": [
    "### time rabi"
   ]
  },
  {
   "cell_type": "code",
   "execution_count": 20,
   "id": "55516ebb",
   "metadata": {},
   "outputs": [
    {
     "name": "stdout",
     "output_type": "stream",
     "text": [
      "Progress: [##################################################] 100.0% (n=2000/2000.0) --> elapsed time: 1.62s\n",
      "Progress: [##################################################] 100.0% (n=2000/2000.0) --> elapsed time: 1.66s\n"
     ]
    }
   ],
   "source": [
    "%matplotlib qt\n",
    "rabi_duration_sweep = np.arange(4, 80 + 0.1, 2)  # in units of clock cyles\n",
    "rabi_duration_sweep = rabi_duration_sweep.astype(int)\n",
    "machine, rabi_duration_sweep, sig_amp = Experiment.exp1D.Rabi.rabi_length(rabi_duration_sweep, qubit_index, res_index, flux_index, \n",
    "          pi_amp_rel = 1.0, n_avg = 2E3, cd_time = 20E3, plot_flag = False, machine = machine, simulate_flag = False, simulation_len = 10_000)"
   ]
  },
  {
   "cell_type": "code",
   "execution_count": 21,
   "id": "c1830c11",
   "metadata": {},
   "outputs": [
    {
     "name": "stdout",
     "output_type": "stream",
     "text": [
      "rabi_pi_pulse: 93.8 ns\n",
      "half period: 91.06 ns\n"
     ]
    },
    {
     "data": {
      "image/png": "[encoded data removed]",
      "text/plain": [
       "<Figure size 600x300 with 1 Axes>"
      ]
     },
     "metadata": {},
     "output_type": "display_data"
    }
   ],
   "source": [
    "%matplotlib inline\n",
    "pi_pulse_length = Analysis.exp1D.rabi_length(rabi_duration_sweep,sig_amp,plot_flag = True)"
   ]
  },
  {
   "cell_type": "code",
   "execution_count": 27,
   "id": "2ab3d637",
   "metadata": {},
   "outputs": [],
   "source": [
    "machine.qubits[qubit_index].pi_length[0] = 100\n",
    "machine = Analysis.set_machine(machine)"
   ]
  },
  {
   "cell_type": "markdown",
   "id": "cc52c092",
   "metadata": {},
   "source": [
    "### power rabi"
   ]
  },
  {
   "cell_type": "code",
   "execution_count": 17,
   "id": "5ae8cbc8",
   "metadata": {},
   "outputs": [
    {
     "name": "stdout",
     "output_type": "stream",
     "text": [
      "Progress: [##################################################] 100.0% (n=4000/4000.0) --> elapsed time: 5.48s\n",
      "Progress: [##################################################] 100.0% (n=4000/4000.0) --> elapsed time: 5.53s\n"
     ]
    }
   ],
   "source": [
    "%matplotlib qt\n",
    "rabi_amp_sweep_rel = np.arange(0.3, 2.0, 0.05) \n",
    "machine, rabi_amp_sweep_abs, sig_amp = Experiment.exp1D.Rabi.rabi_amp(rabi_amp_sweep_rel, qubit_index, res_index, flux_index, \n",
    "                                          n_avg = 4E3, cd_time = 40E3, plot_flag = False, machine = machine)"
   ]
  },
  {
   "cell_type": "code",
   "execution_count": 18,
   "id": "7b1e55c4",
   "metadata": {},
   "outputs": [
    {
     "name": "stdout",
     "output_type": "stream",
     "text": [
      "rabi_pi_pulse_amp: 0.02356 V\n",
      "half period: 0.02224 V\n"
     ]
    }
   ],
   "source": [
    "%matplotlib qt\n",
    "pi_pulse_amp = Analysis.exp1D.rabi_length(rabi_amp_sweep_abs,sig_amp,method = \"power_rabi\", plot_flag = True)"
   ]
  },
  {
   "cell_type": "code",
   "execution_count": 19,
   "id": "cec16801",
   "metadata": {},
   "outputs": [],
   "source": [
    "machine.qubits[qubit_index].pi_amp[0] = pi_pulse_amp.tolist()\n",
    "machine = Analysis.set_machine(machine)"
   ]
  },
  {
   "cell_type": "markdown",
   "id": "591f44ce",
   "metadata": {},
   "source": [
    "## calibrate qubit XY line switch"
   ]
  },
  {
   "cell_type": "markdown",
   "id": "9f718430",
   "metadata": {},
   "source": [
    "### switch delay"
   ]
  },
  {
   "cell_type": "code",
   "execution_count": 8,
   "id": "15b7a49c",
   "metadata": {},
   "outputs": [
    {
     "name": "stdout",
     "output_type": "stream",
     "text": [
      "Progress: [##################################################] 100.0% (n=40/40) --> elapsed time: 206.91s\n",
      "Progress: [##################################################] 100.0% (n=40/40) --> elapsed time: 206.26s\n",
      "Progress: [##################################################] 100.0% (n=40/40) --> elapsed time: 206.20s\n",
      "Progress: [##################################################] 100.0% (n=40/40) --> elapsed time: 206.12s\n"
     ]
    }
   ],
   "source": [
    "%matplotlib inline\n",
    "qubit_switch_delay_sweep = np.arange(70,110,1)\n",
    "for i in range(4):\n",
    "    machine, qubit_switch_delay_sweep, sig_amp = Experiment.exp1D.Rabi.qubit_switch_delay(qubit_switch_delay_sweep, qubit_index, res_index, flux_index, \n",
    "                              n_avg = 160E3, cd_time = 20E3, simulate_flag = False, simulation_len = 500, plot_flag = False)"
   ]
  },
  {
   "cell_type": "markdown",
   "id": "11ec134a",
   "metadata": {},
   "source": [
    "### switch buffer"
   ]
  },
  {
   "cell_type": "code",
   "execution_count": 7,
   "id": "48db9a9e",
   "metadata": {},
   "outputs": [
    {
     "name": "stdout",
     "output_type": "stream",
     "text": [
      "Progress: [##################################################] 100.0% (n=36/36) --> elapsed time: 73.07s\n",
      "Progress: [##################################################] 100.0% (n=36/36) --> elapsed time: 73.37s\n",
      "Progress: [##################################################] 100.0% (n=36/36) --> elapsed time: 73.42s\n",
      "Progress: [##################################################] 100.0% (n=36/36) --> elapsed time: 76.03s\n",
      "Progress: [##################################################] 100.0% (n=36/36) --> elapsed time: 75.50s\n"
     ]
    },
    {
     "data": {
      "image/png": "[encoded data removed]",
      "text/plain": [
       "<Figure size 800x400 with 1 Axes>"
      ]
     },
     "metadata": {},
     "output_type": "display_data"
    },
    {
     "data": {
      "image/png": "[encoded data removed]",
      "text/plain": [
       "<Figure size 800x400 with 1 Axes>"
      ]
     },
     "metadata": {},
     "output_type": "display_data"
    },
    {
     "data": {
      "image/png": "[encoded data removed]",
      "text/plain": [
       "<Figure size 800x400 with 1 Axes>"
      ]
     },
     "metadata": {},
     "output_type": "display_data"
    },
    {
     "data": {
      "image/png": "[encoded data removed]",
      "text/plain": [
       "<Figure size 800x400 with 1 Axes>"
      ]
     },
     "metadata": {},
     "output_type": "display_data"
    },
    {
     "data": {
      "image/png": "[encoded data removed]",
      "text/plain": [
       "<Figure size 800x400 with 1 Axes>"
      ]
     },
     "metadata": {},
     "output_type": "display_data"
    }
   ],
   "source": [
    "%matplotlib inline\n",
    "qubit_switch_buffer_sweep = np.arange(0,70 + 1,2)\n",
    "for k in range(5):\n",
    "    machine, qubit_switch_buffer_sweep, sig_amp = Experiment.exp1D.Rabi.qubit_switch_buffer(qubit_switch_buffer_sweep, qubit_index, res_index, flux_index, \n",
    "                              n_avg = 20E3, cd_time = 20E3, simulate_flag = False, simulation_len = 500, plot_flag = True)"
   ]
  },
  {
   "cell_type": "markdown",
   "id": "1d4c8145",
   "metadata": {},
   "source": [
    "## T1"
   ]
  },
  {
   "cell_type": "code",
   "execution_count": null,
   "id": "473a8f15",
   "metadata": {},
   "outputs": [],
   "source": [
    "%matplotlib qt\n",
    "tau_sweep_abs = np.arange(100,30E3+1,400)\n",
    "machine, tau_sweep_abs, sig_amp = Experiment.exp1D.T1.qubit_T1(tau_sweep_abs, qubit_index, res_index, flux_index, \n",
    "                   n_avg = 5E3, cd_time = 80E3, simulate_flag = False, simulation_len = 15_000, plot_flag = False)"
   ]
  },
  {
   "cell_type": "code",
   "execution_count": null,
   "id": "e057d0cc",
   "metadata": {},
   "outputs": [],
   "source": [
    "%matplotlib inline\n",
    "q1_T1 = Analysis.exp1D.T1(tau_sweep_abs,sig_amp,method = \"exp\")\n",
    "machine.qubits[qubit_index].T1 = int(q1_T1.tolist())\n",
    "machine = Analysis.set_machine(machine)"
   ]
  },
  {
   "cell_type": "markdown",
   "id": "bee41af7",
   "metadata": {},
   "source": [
    "## Ramsey"
   ]
  },
  {
   "cell_type": "code",
   "execution_count": null,
   "id": "58f1299f",
   "metadata": {},
   "outputs": [],
   "source": []
  },
  {
   "cell_type": "code",
   "execution_count": null,
   "id": "37aa01ba",
   "metadata": {},
   "outputs": [],
   "source": []
  },
  {
   "cell_type": "markdown",
   "id": "06bd7dfb",
   "metadata": {},
   "source": [
    "## ef transition"
   ]
  },
  {
   "cell_type": "code",
   "execution_count": null,
   "id": "9a453e63",
   "metadata": {},
   "outputs": [],
   "source": []
  },
  {
   "cell_type": "code",
   "execution_count": null,
   "id": "a0f09c35",
   "metadata": {},
   "outputs": [],
   "source": []
  },
  {
   "cell_type": "markdown",
   "id": "07e3862d",
   "metadata": {},
   "source": [
    "## 2D qubit spectroscopy vs dc flux"
   ]
  },
  {
   "cell_type": "code",
   "execution_count": null,
   "id": "15755e8f",
   "metadata": {},
   "outputs": [],
   "source": [
    "# try the experiment\n",
    "%matplotlib qt\n",
    "dc_flux_sweep = machine.flux_lines[flux_index].max_frequency_point + np.arange(-0.6,0.6+1E-4,0.05)\n",
    "_,qubit_freq_sweep,dc_flux_sweep,sig_amp_qubit = Experiment.exp2D.Rabi.qubit_freq_vs_dc_flux(dc_flux_sweep,qubit_index,res_index,flux_index,\n",
    "                                 n_avg = 2E3, cd_time = 10E3, pi_amp_rel = 1.0, plot_flag = True)"
   ]
  },
  {
   "cell_type": "code",
   "execution_count": null,
   "id": "c50d8fa7",
   "metadata": {},
   "outputs": [],
   "source": [
    "# udpate the sweet spot\n",
    "%matplotlib inline\n",
    "poly_param = Analysis.exp2D.qubit_vs_dc_flux(qubit_freq_sweep, dc_flux_sweep, sig_amp_qubit, fit_order = 2, plot_flag = False)\n",
    "machine.flux_lines[flux_index].max_frequency_point = Analysis.get_sweept_spot(poly_param).tolist() + 0E1\n",
    "print(f\"sweet spot flux: {machine.flux_lines[flux_index].max_frequency_point:.5f} V\")"
   ]
  },
  {
   "cell_type": "code",
   "execution_count": null,
   "id": "68b35bb7",
   "metadata": {},
   "outputs": [],
   "source": [
    "# save the sweep spot flux according to fitted parameter\n",
    "poly_param = Analysis.exp2D.qubit_vs_dc_flux(qubit_freq_sweep, dc_flux_sweep, sig_amp_qubit, fit_order = 4, plot_flag = True)\n",
    "machine.qubits[qubit_index].tuning_curve = poly_param.tolist()\n",
    "machine = Analysis.set_machine(machine)\n",
    "Analysis.update_analysis_tuning_curve(qubit_index,res_index,flux_index)"
   ]
  },
  {
   "cell_type": "markdown",
   "id": "8164027c",
   "metadata": {},
   "source": [
    "## 2D qubit spectroscopy vs fast flux"
   ]
  },
  {
   "cell_type": "code",
   "execution_count": null,
   "id": "1afc5b22",
   "metadata": {},
   "outputs": [],
   "source": [
    "# set DC voltage to sweet spot, after possible dc flux sweep\n",
    "machine = Experiment.set_QDAC(qubit_index,res_index,flux_index,machine.flux_lines[flux_index].max_frequency_point)\n",
    "machine = Analysis.set_machine(machine)"
   ]
  },
  {
   "cell_type": "markdown",
   "id": "a6e48433",
   "metadata": {},
   "source": [
    "### slow version, compiling 1D scans"
   ]
  },
  {
   "cell_type": "code",
   "execution_count": 3,
   "id": "7e1f291d",
   "metadata": {},
   "outputs": [
    {
     "name": "stdout",
     "output_type": "stream",
     "text": [
      "2023-11-02 16:26:53,613 - qm - INFO     - Octave \"octave1\" Health check passed, current temperature 58\n"
     ]
    },
    {
     "name": "stderr",
     "output_type": "stream",
     "text": [
      "INFO:qm:Octave \"octave1\" Health check passed, current temperature 58\n"
     ]
    },
    {
     "name": "stdout",
     "output_type": "stream",
     "text": [
      "2023-11-02 16:26:53,618 - qm - INFO     - Performing health check\n"
     ]
    },
    {
     "name": "stderr",
     "output_type": "stream",
     "text": [
      "INFO:qm.api.frontend_api:Performing health check\n"
     ]
    },
    {
     "name": "stdout",
     "output_type": "stream",
     "text": [
      "2023-11-02 16:26:53,635 - qm - INFO     - Health check passed\n"
     ]
    },
    {
     "name": "stderr",
     "output_type": "stream",
     "text": [
      "INFO:qm.api.frontend_api:Health check passed\n"
     ]
    }
   ],
   "source": [
    "# octave calibration\n",
    "Experiment.octave_calibration(qubit_index,res_index,flux_index,calibration_flag = False)"
   ]
  },
  {
   "cell_type": "code",
   "execution_count": 4,
   "id": "10fe63b6",
   "metadata": {},
   "outputs": [
    {
     "name": "stdout",
     "output_type": "stream",
     "text": [
      "2023-11-02 16:27:33,939 - qm - INFO     - Performing health check.0% (n=6/15) --> elapsed time: 23.33s\n"
     ]
    },
    {
     "name": "stderr",
     "output_type": "stream",
     "text": [
      "INFO:qm.api.frontend_api:Performing health check\n"
     ]
    },
    {
     "name": "stdout",
     "output_type": "stream",
     "text": [
      "2023-11-02 16:27:33,950 - qm - INFO     - Health check passed\n"
     ]
    },
    {
     "name": "stderr",
     "output_type": "stream",
     "text": [
      "INFO:qm.api.frontend_api:Health check passed\n"
     ]
    },
    {
     "name": "stdout",
     "output_type": "stream",
     "text": [
      "------------------------------------- Calibrates r0 for (LO, IF) = (7.313 GHz, -50.050 MHz)\n",
      "2023-11-02 16:27:40,505 - qm - INFO     - Compiling program\n"
     ]
    },
    {
     "name": "stderr",
     "output_type": "stream",
     "text": [
      "INFO:qm.QuantumMachine:Compiling program\n"
     ]
    },
    {
     "name": "stdout",
     "output_type": "stream",
     "text": [
      "------------------------------------- Calibrates q0 for (LO, IF) = (6.039 GHz, 290.000 MHz)\n",
      "2023-11-02 16:27:52,018 - qm - INFO     - Compiling program\n"
     ]
    },
    {
     "name": "stderr",
     "output_type": "stream",
     "text": [
      "INFO:qm.QuantumMachine:Compiling program\n"
     ]
    },
    {
     "name": "stdout",
     "output_type": "stream",
     "text": [
      "2023-11-02 16:28:27,808 - qm - INFO     - Performing health check.3% (n=11/15) --> elapsed time: 77.16s\n"
     ]
    },
    {
     "name": "stderr",
     "output_type": "stream",
     "text": [
      "INFO:qm.api.frontend_api:Performing health check\n"
     ]
    },
    {
     "name": "stdout",
     "output_type": "stream",
     "text": [
      "2023-11-02 16:28:27,823 - qm - INFO     - Health check passed\n"
     ]
    },
    {
     "name": "stderr",
     "output_type": "stream",
     "text": [
      "INFO:qm.api.frontend_api:Health check passed\n"
     ]
    },
    {
     "name": "stdout",
     "output_type": "stream",
     "text": [
      "------------------------------------- Calibrates r0 for (LO, IF) = (7.313 GHz, -50.050 MHz)\n",
      "2023-11-02 16:28:34,665 - qm - INFO     - Compiling program\n"
     ]
    },
    {
     "name": "stderr",
     "output_type": "stream",
     "text": [
      "INFO:qm.QuantumMachine:Compiling program\n"
     ]
    },
    {
     "name": "stdout",
     "output_type": "stream",
     "text": [
      "------------------------------------- Calibrates q0 for (LO, IF) = (5.804 GHz, 290.000 MHz)\n",
      "2023-11-02 16:28:46,931 - qm - INFO     - Compiling program\n"
     ]
    },
    {
     "name": "stderr",
     "output_type": "stream",
     "text": [
      "INFO:qm.QuantumMachine:Compiling program\n"
     ]
    },
    {
     "name": "stdout",
     "output_type": "stream",
     "text": [
      "2023-11-02 16:29:12,723 - qm - INFO     - Performing health check.3% (n=14/15) --> elapsed time: 122.09s\n"
     ]
    },
    {
     "name": "stderr",
     "output_type": "stream",
     "text": [
      "INFO:qm.api.frontend_api:Performing health check\n"
     ]
    },
    {
     "name": "stdout",
     "output_type": "stream",
     "text": [
      "2023-11-02 16:29:12,734 - qm - INFO     - Health check passed\n"
     ]
    },
    {
     "name": "stderr",
     "output_type": "stream",
     "text": [
      "INFO:qm.api.frontend_api:Health check passed\n"
     ]
    },
    {
     "name": "stdout",
     "output_type": "stream",
     "text": [
      "------------------------------------- Calibrates r0 for (LO, IF) = (7.313 GHz, -50.050 MHz)\n",
      "2023-11-02 16:29:19,731 - qm - INFO     - Compiling program\n"
     ]
    },
    {
     "name": "stderr",
     "output_type": "stream",
     "text": [
      "INFO:qm.QuantumMachine:Compiling program\n"
     ]
    },
    {
     "name": "stdout",
     "output_type": "stream",
     "text": [
      "------------------------------------- Calibrates q0 for (LO, IF) = (5.591 GHz, 290.000 MHz)\n",
      "2023-11-02 16:29:31,501 - qm - INFO     - Compiling program\n"
     ]
    },
    {
     "name": "stderr",
     "output_type": "stream",
     "text": [
      "INFO:qm.QuantumMachine:Compiling program\n"
     ]
    },
    {
     "name": "stdout",
     "output_type": "stream",
     "text": [
      "Progress: [##################################################] 100.0% (n=15/15) --> elapsed time: 157.83s\n",
      "Execution stopped by user!\n",
      "Execution stopped by user!\n",
      "Execution stopped by user!\n",
      "Execution stopped by user!\n",
      "Execution stopped by user!\n",
      "Execution stopped by user!\n",
      "Execution stopped by user!\n",
      "Execution stopped by user!\n",
      "Execution stopped by user!\n",
      "Execution stopped by user!\n",
      "Execution stopped by user!\n",
      "Execution stopped by user!\n",
      "Execution stopped by user!\n",
      "Execution stopped by user!\n",
      "Execution stopped by user!\n"
     ]
    }
   ],
   "source": [
    "# try the experiment\n",
    "%matplotlib qt\n",
    "ff_sweep = np.arange(-0.02,-0.3-1E-4,-0.02)\n",
    "qubit_if_sweep = np.arange(-60E6, 60E6 + 1, 1E6)\n",
    "machine,qubit_freq_sweep,ff_sweep_abs,sig_amp_qubit = Experiment.exp2D.Rabi.qubit_freq_vs_fast_flux_slow(ff_sweep,qubit_if_sweep,\n",
    "          qubit_index,res_index,flux_index,ff_to_dc_ratio = None, machine = machine, n_avg = 1E3, cd_time = 20E3, pi_amp_rel = 1.0, plot_flag = True)"
   ]
  },
  {
   "cell_type": "code",
   "execution_count": null,
   "id": "32fd2424",
   "metadata": {},
   "outputs": [],
   "source": [
    "# save the fitted tuning curve\n",
    "%matplotlib inline\n",
    "poly_param = Analysis.exp2D.qubit_vs_fast_flux(qubit_freq_sweep, ff_sweep_abs, sig_amp_qubit, fit_order = 4, plot_flag = True)\n",
    "machine.qubits[qubit_index].tuning_curve = poly_param.tolist()\n",
    "machine = Analysis.set_machine(machine)\n",
    "Analysis.update_analysis_tuning_curve(qubit_index,res_index,flux_index)"
   ]
  },
  {
   "cell_type": "markdown",
   "id": "aca48e4e",
   "metadata": {},
   "source": [
    "### fast version, runs blockwise 2D sweeps"
   ]
  },
  {
   "cell_type": "code",
   "execution_count": 24,
   "id": "72d896d5",
   "metadata": {},
   "outputs": [
    {
     "name": "stdout",
     "output_type": "stream",
     "text": [
      "-------------------------------------some fast flux > 0.5V, removed from experiment run\n",
      "2023-11-01 14:14:15,476 - qm - INFO     - Performing health check\n"
     ]
    },
    {
     "name": "stderr",
     "output_type": "stream",
     "text": [
      "INFO:qm.api.frontend_api:Performing health check\n"
     ]
    },
    {
     "name": "stdout",
     "output_type": "stream",
     "text": [
      "2023-11-01 14:14:15,486 - qm - INFO     - Health check passed\n"
     ]
    },
    {
     "name": "stderr",
     "output_type": "stream",
     "text": [
      "INFO:qm.api.frontend_api:Health check passed\n"
     ]
    },
    {
     "name": "stdout",
     "output_type": "stream",
     "text": [
      "------------------------------------- Calibrates r0 for (LO, IF) = (7.313 GHz, -50.000 MHz)\n",
      "2023-11-01 14:14:22,503 - qm - INFO     - Compiling program\n"
     ]
    },
    {
     "name": "stderr",
     "output_type": "stream",
     "text": [
      "INFO:qm.QuantumMachine:Compiling program\n"
     ]
    },
    {
     "name": "stdout",
     "output_type": "stream",
     "text": [
      "------------------------------------- Calibrates q0 for (LO, IF) = (4.500 GHz, 200.000 MHz)\n",
      "2023-11-01 14:14:35,272 - qm - INFO     - Compiling program\n"
     ]
    },
    {
     "name": "stderr",
     "output_type": "stream",
     "text": [
      "INFO:qm.QuantumMachine:Compiling program\n"
     ]
    },
    {
     "name": "stdout",
     "output_type": "stream",
     "text": [
      "Progress: [##################################################] 100.0% (n=1000/1000.0) --> elapsed time: 253.92s\n",
      "Progress: [##################################################] 100.0% (n=1000/1000.0) --> elapsed time: 254.07s\n",
      "2023-11-01 14:19:04,697 - qm - INFO     - Performing health check\n"
     ]
    },
    {
     "name": "stderr",
     "output_type": "stream",
     "text": [
      "INFO:qm.api.frontend_api:Performing health check\n"
     ]
    },
    {
     "name": "stdout",
     "output_type": "stream",
     "text": [
      "2023-11-01 14:19:04,711 - qm - INFO     - Health check passed\n"
     ]
    },
    {
     "name": "stderr",
     "output_type": "stream",
     "text": [
      "INFO:qm.api.frontend_api:Health check passed\n"
     ]
    },
    {
     "name": "stdout",
     "output_type": "stream",
     "text": [
      "------------------------------------- Calibrates r0 for (LO, IF) = (7.313 GHz, -50.000 MHz)\n",
      "2023-11-01 14:19:11,884 - qm - INFO     - Compiling program\n"
     ]
    },
    {
     "name": "stderr",
     "output_type": "stream",
     "text": [
      "INFO:qm.QuantumMachine:Compiling program\n"
     ]
    },
    {
     "name": "stdout",
     "output_type": "stream",
     "text": [
      "------------------------------------- Calibrates q0 for (LO, IF) = (4.300 GHz, 200.000 MHz)\n",
      "2023-11-01 14:19:23,295 - qm - INFO     - Compiling program\n"
     ]
    },
    {
     "name": "stderr",
     "output_type": "stream",
     "text": [
      "INFO:qm.QuantumMachine:Compiling program\n"
     ]
    },
    {
     "name": "stdout",
     "output_type": "stream",
     "text": [
      "Progress: [##################################################] 100.0% (n=1000/1000.0) --> elapsed time: 75.96s\n",
      "Progress: [##################################################] 100.0% (n=1000/1000.0) --> elapsed time: 76.13s\n",
      "Execution stopped by user!\n",
      "Execution stopped by user!\n"
     ]
    }
   ],
   "source": [
    "%matplotlib qt\n",
    "q_freq_max = np.floor(np.polyval(machine.qubits[qubit_index].tuning_curve, 0.0) * 1E6)\n",
    "#ff_sweep_abs = np.arange(0.0,0.3+1E-4,0.05)\n",
    "#qubit_freq_sweep = np.arange(q_freq_max, 6.2E9, -4E6)\n",
    "qubit_freq_sweep = np.arange(4.8E9,4.5E9,-4E6)\n",
    "qubit_if_sweep = np.arange(-60E6, 60E6 + 1, 0.5E6)\n",
    "machine,qubit_freq_sweep,ff_sweep_abs,sig_amp_qubit = Experiment.exp2D.Rabi.qubit_freq_vs_fast_flux(qubit_freq_sweep,qubit_if_sweep,\n",
    "          qubit_index,res_index,flux_index, n_avg = 1E3, cd_time = 20E3, pi_amp_rel = 1.0, plot_flag = True)"
   ]
  },
  {
   "cell_type": "code",
   "execution_count": null,
   "id": "f2577e29",
   "metadata": {},
   "outputs": [],
   "source": [
    "# save the fitted tuning curve\n",
    "%matplotlib inline\n",
    "poly_param = Analysis.exp2D.qubit_vs_fast_flux(qubit_freq_sweep, ff_sweep_abs, sig_amp_qubit, fit_order = 4, plot_flag = True)\n",
    "machine.qubits[qubit_index].tuning_curve = poly_param.tolist()\n",
    "machine = Analysis.set_machine(machine)\n",
    "Analysis.update_analysis_tuning_curve(qubit_index,res_index,flux_index)"
   ]
  },
  {
   "cell_type": "markdown",
   "id": "71d15910",
   "metadata": {},
   "source": [
    "# TLS experiments"
   ]
  },
  {
   "cell_type": "markdown",
   "id": "e78a0395",
   "metadata": {},
   "source": [
    "## TLS SWAP spectroscopy"
   ]
  },
  {
   "cell_type": "markdown",
   "id": "eeccc24c",
   "metadata": {},
   "source": [
    "### coarse, no baking"
   ]
  },
  {
   "cell_type": "code",
   "execution_count": 9,
   "id": "769c62b1",
   "metadata": {},
   "outputs": [
    {
     "name": "stdout",
     "output_type": "stream",
     "text": [
      "Progress: [##################################################] 100.0% (n=1000/1000.0) --> elapsed time: 39.65s\n",
      "Progress: [##################################################] 100.0% (n=1000/1000.0) --> elapsed time: 39.80s\n",
      "Execution stopped by user!\n"
     ]
    }
   ],
   "source": [
    "%matplotlib qt\n",
    "tau_sweep_abs = np.arange(16,200,4)\n",
    "ff_sweep_abs = np.arange(0.185,0.225,0.001)\n",
    "machine, ff_sweep_abs, tau_sweep_abs, sig_amp = Experiment.exp2D.SWAP.swap_coarse(tau_sweep_abs, ff_sweep_abs, qubit_index, res_index, flux_index, \n",
    "                      n_avg = 1E3, cd_time = 20E3, simulate_flag=False, simulation_len=10_000, plot_flag=True, machine = machine)"
   ]
  },
  {
   "cell_type": "markdown",
   "id": "00988ddc",
   "metadata": {},
   "source": [
    "### fine, with baking"
   ]
  },
  {
   "cell_type": "code",
   "execution_count": 10,
   "id": "681c80b8",
   "metadata": {},
   "outputs": [
    {
     "name": "stdout",
     "output_type": "stream",
     "text": [
      "Progress: [##################################################] 100.0% (n=4000/4000.0) --> elapsed time: 536.55s\n",
      "Execution stopped by user!\n"
     ]
    }
   ],
   "source": [
    "%matplotlib qt\n",
    "tau_sweep_abs = np.arange(4,180,2)\n",
    "ff_sweep_abs = np.arange(0.185,0.22,0.0005)\n",
    "machine, ff_sweep_abs, tau_sweep_abs, sig_amp = Experiment.exp2D.SWAP.swap_fine(tau_sweep_abs, ff_sweep_abs, qubit_index, res_index, flux_index, \n",
    "                      n_avg = 4E3, cd_time = 20E3, simulate_flag=False, simulation_len=10_000, plot_flag=True, machine = machine)"
   ]
  },
  {
   "cell_type": "code",
   "execution_count": null,
   "id": "e9080973",
   "metadata": {},
   "outputs": [],
   "source": [
    "machine.flux_lines[flux_index].iswap.length.append(30)\n",
    "machine.flux_lines[flux_index].iswap.level.append(0.314)\n",
    "machine = Analysis.set_machine(machine)"
   ]
  },
  {
   "cell_type": "markdown",
   "id": "9ccacc72",
   "metadata": {},
   "source": [
    "## TLS T1"
   ]
  },
  {
   "cell_type": "code",
   "execution_count": 6,
   "id": "a449ded2",
   "metadata": {},
   "outputs": [
    {
     "name": "stdout",
     "output_type": "stream",
     "text": [
      "Progress: [##################################################] 100.0% (n=5000/5000.0) --> elapsed time: 23.98s\n",
      "Execution stopped by user!\n"
     ]
    }
   ],
   "source": [
    "%matplotlib qt\n",
    "tau_sweep_abs = np.arange(200,40E3+1,1E3)\n",
    "machine, tau_sweep_abs, sig_amp = Experiment.exp1D.T1.TLS_T1(tau_sweep_abs, qubit_index, res_index, flux_index, TLS_index,\n",
    "                   n_avg = 5E3, cd_time = 100E3, simulate_flag = False, simulation_len = 15_000, plot_flag = True)"
   ]
  },
  {
   "cell_type": "code",
   "execution_count": 8,
   "id": "f16a3569",
   "metadata": {},
   "outputs": [
    {
     "name": "stdout",
     "output_type": "stream",
     "text": [
      "Qubit T1 [us]: 6.350495675897429\n"
     ]
    },
    {
     "data": {
      "image/png": "[encoded data removed]",
      "text/plain": [
       "<Figure size 600x300 with 1 Axes>"
      ]
     },
     "metadata": {},
     "output_type": "display_data"
    }
   ],
   "source": [
    "%matplotlib inline\n",
    "q1_T1 = Analysis.exp1D.T1(tau_sweep_abs,sig_amp,method = \"exp\")"
   ]
  },
  {
   "cell_type": "markdown",
   "id": "5258c087",
   "metadata": {},
   "source": [
    "## TLS drive"
   ]
  },
  {
   "cell_type": "code",
   "execution_count": 27,
   "id": "1558864d",
   "metadata": {},
   "outputs": [
    {
     "data": {
      "text/plain": [
       "array([6205.48711724, 6124.19718182])"
      ]
     },
     "execution_count": 27,
     "metadata": {},
     "output_type": "execute_result"
    }
   ],
   "source": [
    "np.polyval(machine.qubits[qubit_index].tuning_curve,np.array([0.18,0.21]))"
   ]
  },
  {
   "cell_type": "code",
   "execution_count": 18,
   "id": "6da55f94",
   "metadata": {},
   "outputs": [],
   "source": [
    "# TLS freq estimate based on SWAP flux amplitude\n",
    "TLS_freq_est = np.polyval(machine.qubits[qubit_index].tuning_curve,machine.flux_lines[flux_index].iswap.level)\n",
    "TLS_freq_est = np.round(TLS_freq_est[0] * 1E6)"
   ]
  },
  {
   "cell_type": "code",
   "execution_count": 19,
   "id": "65b0b8ea",
   "metadata": {},
   "outputs": [],
   "source": [
    "machine.qubits[qubit_index].f_01 = int(TLS_freq_est.tolist()) + 0E6\n",
    "machine.qubits[qubit_index].lo = int(TLS_freq_est.tolist()) - 200E6"
   ]
  },
  {
   "cell_type": "code",
   "execution_count": 20,
   "id": "69a82ac9",
   "metadata": {},
   "outputs": [
    {
     "name": "stdout",
     "output_type": "stream",
     "text": [
      "2023-11-02 17:24:48,734 - qm - INFO     - Performing health check\n"
     ]
    },
    {
     "name": "stderr",
     "output_type": "stream",
     "text": [
      "INFO:qm.api.frontend_api:Performing health check\n"
     ]
    },
    {
     "name": "stdout",
     "output_type": "stream",
     "text": [
      "2023-11-02 17:24:48,748 - qm - INFO     - Health check passed\n"
     ]
    },
    {
     "name": "stderr",
     "output_type": "stream",
     "text": [
      "INFO:qm.api.frontend_api:Health check passed\n"
     ]
    },
    {
     "name": "stdout",
     "output_type": "stream",
     "text": [
      "------------------------------------- Calibrates r0 for (LO, IF) = (7.313 GHz, -50.050 MHz)\n",
      "2023-11-02 17:24:55,205 - qm - INFO     - Compiling program\n"
     ]
    },
    {
     "name": "stderr",
     "output_type": "stream",
     "text": [
      "INFO:qm.QuantumMachine:Compiling program\n"
     ]
    },
    {
     "name": "stdout",
     "output_type": "stream",
     "text": [
      "------------------------------------- Calibrates q0 for (LO, IF) = (5.962 GHz, 200.000 MHz)\n",
      "2023-11-02 17:25:07,808 - qm - INFO     - Compiling program\n"
     ]
    },
    {
     "name": "stderr",
     "output_type": "stream",
     "text": [
      "INFO:qm.QuantumMachine:Compiling program\n"
     ]
    }
   ],
   "source": [
    "# calibrate octave for TLS sweep\n",
    "Experiment.octave_calibration(qubit_index,res_index,flux_index,machine = machine,calibration_flag = True)"
   ]
  },
  {
   "cell_type": "code",
   "execution_count": 24,
   "id": "b41aa33b",
   "metadata": {},
   "outputs": [],
   "source": [
    "machine.qubits[qubit_index].pi_amp[1] = 2.0"
   ]
  },
  {
   "cell_type": "code",
   "execution_count": 29,
   "id": "611a51fc",
   "metadata": {},
   "outputs": [
    {
     "name": "stdout",
     "output_type": "stream",
     "text": [
      "Progress: [##################################################] 100.0% (n=4000/4000.0) --> elapsed time: 49.66s\n",
      "Progress: [##################################################] 100.0% (n=4000/4000.0) --> elapsed time: 49.74s\n",
      "Execution stopped by user!\n"
     ]
    }
   ],
   "source": [
    "%matplotlib qt\n",
    "TLS_freq_sweep = TLS_freq_est + np.arange(-100E6,100E6+1,0.5E6)\n",
    "machine, TLS_freq_sweep, sig_amp = Experiment.exp1D.Rabi.TLS_freq(TLS_freq_sweep, qubit_index, res_index, flux_index, TLS_index,\n",
    "                  pi_amp_rel = 1.0, n_avg = 4E3, cd_time_qubit = 10E3, cd_time_TLS = 20E3, simulate_flag = False, simulation_len = 10_000, plot_flag = True, machine = machine)"
   ]
  },
  {
   "cell_type": "markdown",
   "id": "59e91fe9",
   "metadata": {},
   "source": [
    "## TLS drive debug"
   ]
  },
  {
   "cell_type": "markdown",
   "id": "fc59fe8d",
   "metadata": {},
   "source": [
    "### 1D SWAP"
   ]
  },
  {
   "cell_type": "code",
   "execution_count": 13,
   "id": "a8985f49",
   "metadata": {},
   "outputs": [
    {
     "name": "stdout",
     "output_type": "stream",
     "text": [
      "Progress: [##################################################] 100.0% (n=4000/4000.0) --> elapsed time: 5.86s\n",
      "Execution stopped by user!\n"
     ]
    }
   ],
   "source": [
    "%matplotlib qt\n",
    "tau_sweep_abs = np.arange(16,300,4)\n",
    "machine, tau_sweep_abs, sig_amp = Experiment.exp1D.SWAP.swap_coarse(tau_sweep_abs, qubit_index, res_index, flux_index, TLS_index, \n",
    "                n_avg = 4E3, cd_time = 20E3, simulate_flag=False, simulation_len=1000, plot_flag=True, machine = machine)"
   ]
  },
  {
   "cell_type": "markdown",
   "id": "0913b401",
   "metadata": {},
   "source": [
    "### qubit Rabi-SWAP"
   ]
  },
  {
   "cell_type": "code",
   "execution_count": 16,
   "id": "697449ef",
   "metadata": {},
   "outputs": [
    {
     "name": "stdout",
     "output_type": "stream",
     "text": [
      "Progress: [##################################################] 100.0% (n=4000/4000.0) --> elapsed time: 6.31s\n",
      "Execution stopped by user!\n"
     ]
    }
   ],
   "source": [
    "%matplotlib qt\n",
    "rabi_duration_sweep = np.arange(4, 80 + 0.1, 2)  # in units of clock cyles\n",
    "rabi_duration_sweep = rabi_duration_sweep.astype(int)\n",
    "machine, rabi_duration_sweep, sig_amp = Experiment.exp1D.SWAP.rabi_SWAP(rabi_duration_sweep, qubit_index, res_index, flux_index, TLS_index,  \n",
    "          pi_amp_rel = 1.0, n_avg = 4E3, cd_time = 20E3, plot_flag = True, machine = machine, simulate_flag = False, simulation_len = 10_000)"
   ]
  },
  {
   "cell_type": "markdown",
   "id": "940c2c72",
   "metadata": {},
   "source": [
    "### SWAP-Rabi"
   ]
  },
  {
   "cell_type": "code",
   "execution_count": 3,
   "id": "4c577e8f",
   "metadata": {},
   "outputs": [
    {
     "name": "stdout",
     "output_type": "stream",
     "text": [
      "Progress: [##################################################] 100.0% (n=4000/4000.0) --> elapsed time: 6.08s\n",
      "Progress: [##################################################] 100.0% (n=4000/4000.0) --> elapsed time: 6.21s\n",
      "Execution stopped by user!\n"
     ]
    }
   ],
   "source": [
    "%matplotlib qt\n",
    "rabi_duration_sweep = np.arange(4, 80 + 0.1, 2)  # in units of clock cyles\n",
    "rabi_duration_sweep = rabi_duration_sweep.astype(int)\n",
    "machine, rabi_duration_sweep, sig_amp = Experiment.exp1D.SWAP.SWAP_rabi(rabi_duration_sweep, qubit_index, res_index, flux_index, TLS_index,  \n",
    "          pi_amp_rel = 1.0, n_avg = 4E3, cd_time = 20E3, plot_flag = True, machine = machine, simulate_flag = False, simulation_len = 10_000)"
   ]
  },
  {
   "cell_type": "markdown",
   "id": "7cda4968",
   "metadata": {},
   "source": [
    "### Rabi-SWAP-SWAP"
   ]
  },
  {
   "cell_type": "code",
   "execution_count": null,
   "id": "cbcfba4b",
   "metadata": {},
   "outputs": [],
   "source": [
    "%matplotlib qt\n",
    "rabi_duration_sweep = np.arange(4, 80 + 0.1, 2)  # in units of clock cyles\n",
    "rabi_duration_sweep = rabi_duration_sweep.astype(int)\n",
    "machine, rabi_duration_sweep, sig_amp = Experiment.exp1D.SWAP.rabi_SWAP2(rabi_duration_sweep, qubit_index, res_index, flux_index, TLS_index,  \n",
    "          pi_amp_rel = 1.0, n_avg = 4E3, cd_time = 20E3, plot_flag = True, machine = machine, simulate_flag = False, simulation_len = 10_000)"
   ]
  },
  {
   "cell_type": "code",
   "execution_count": null,
   "id": "6aa26a56",
   "metadata": {},
   "outputs": [],
   "source": []
  },
  {
   "cell_type": "code",
   "execution_count": null,
   "id": "e3565af6",
   "metadata": {},
   "outputs": [],
   "source": []
  },
  {
   "cell_type": "code",
   "execution_count": null,
   "id": "c416f0ba",
   "metadata": {},
   "outputs": [],
   "source": []
  }
 ],
 "metadata": {
  "kernelspec": {
   "display_name": "Python 3 (ipykernel)",
   "language": "python",
   "name": "python3"
  },
  "language_info": {
   "codemirror_mode": {
    "name": "ipython",
    "version": 3
   },
   "file_extension": ".py",
   "mimetype": "text/x-python",
   "name": "python",
   "nbconvert_exporter": "python",
   "pygments_lexer": "ipython3",
   "version": "3.8.17"
  }
 },
 "nbformat": 4,
 "nbformat_minor": 5
}
