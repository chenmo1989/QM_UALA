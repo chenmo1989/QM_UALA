{
 "cells": [
  {
   "cell_type": "markdown",
   "id": "a0f581de",
   "metadata": {},
   "source": [
    "# UA Q1 basic characterization"
   ]
  },
  {
   "cell_type": "markdown",
   "id": "5c608151",
   "metadata": {},
   "source": [
    "includes RR, ESR, Rabi, T1"
   ]
  },
  {
   "cell_type": "markdown",
   "id": "469d6164",
   "metadata": {},
   "source": [
    "## Header that we always run"
   ]
  },
  {
   "cell_type": "code",
   "execution_count": 2,
   "id": "be408f45",
   "metadata": {},
   "outputs": [],
   "source": [
    "# set up non-QM hardware\n",
    "import Labber\n",
    "# connect to server \n",
    "client = Labber.connectToServer('localhost') # get list of instruments \n",
    "#instruments = client.getListOfInstrumentsString() \n",
    "#for instr in instruments: \n",
    "#    print(instr) # close connection \n",
    "\n",
    "# reset all QDevil channels to 0 V\n",
    "QDevil = client.connectToInstrument('QDevil QDAC', dict(interface='Serial', address='3'))\n",
    "for n in range(24):\n",
    "    if n+1 < 10:\n",
    "        QDevil.setValue(\"CH0\" + str(n+1) + \" Voltage\", 0.0)\n",
    "    else:\n",
    "        QDevil.setValue(\"CH\" + str(n+1) + \" Voltage\", 0.0)\n",
    "# setting CH01 to sweet spot\n",
    "DC_ss = -0.158888\n",
    "# DC_ss =0\n",
    "QDevil.setValue(\"CH01 Voltage\", DC_ss)\n",
    "\n",
    "# Set other qubits at the antinode\n",
    "QDevil.setValue(\"CH02 Voltage\", 0.6)\n",
    "QDevil.setValue(\"CH03 Voltage\", 2.9)\n",
    "QDevil.setValue(\"CH04 Voltage\", 3.4)\n",
    "\n",
    "# digital attenuators\n",
    "Vaunix1 = client.connectToInstrument('Painter Vaunix Lab Brick Digital Attenuator', dict(interface='USB', address='25606'))\n",
    "Vaunix2 = client.connectToInstrument('Painter Vaunix Lab Brick Digital Attenuator', dict(interface='USB', address='25607'))\n",
    "ROI = 32\n",
    "ROO = 10\n",
    "Vaunix1.setValue(\"Attenuation\", ROI)\n",
    "Vaunix2.setValue(\"Attenuation\", ROO)\n",
    "\n",
    "# TWPA pump\n",
    "SG = client.connectToInstrument('Rohde&Schwarz RF Source', dict(interface='TCPIP', address='192.168.88.2'))\n",
    "freq_TWPA = 6326E6;\n",
    "pwr_TWPA = -10;\n",
    "SG.setValue('Frequency', freq_TWPA)\n",
    "SG.setValue('Power', pwr_TWPA)\n",
    "\n",
    "client.close()"
   ]
  },
  {
   "cell_type": "code",
   "execution_count": 3,
   "id": "dae0e896",
   "metadata": {},
   "outputs": [
    {
     "name": "stdout",
     "output_type": "stream",
     "text": [
      "2023-09-22 15:18:42,236 - qm - INFO     - Starting session: d680fa70-baa5-4815-9468-4707f5dbd867\n"
     ]
    }
   ],
   "source": [
    "from qm.qua import *\n",
    "from qm.QuantumMachinesManager import QuantumMachinesManager\n",
    "from qm import SimulationConfig, LoopbackInterface\n",
    "from qm.octave import *\n",
    "from qm.octave.octave_manager import ClockMode\n",
    "from configuration import *\n",
    "import matplotlib.pyplot as plt\n",
    "import numpy as np\n",
    "from scipy import signal\n",
    "from qm import SimulationConfig\n",
    "from qualang_tools.bakery import baking\n",
    "from qualang_tools.units import unit\n",
    "import qdac as qdac\n",
    "from scipy.io import savemat\n",
    "from scipy.io import loadmat\n",
    "from scipy.optimize import curve_fit\n",
    "from scipy.signal import savgol_filter\n",
    "from qutip import *\n",
    "import datetime \n",
    "import os\n",
    "import time\n",
    "import warnings\n",
    "from qm import generate_qua_script\n",
    "\n",
    "warnings.filterwarnings(\"ignore\")\n",
    "\n",
    "def wait_until_job_is_paused(current_job):\n",
    "    \"\"\"\n",
    "    Waits until the OPX FPGA reaches the pause statement.\n",
    "    Used when the OPX sequence needs to be synchronized with an external parameter sweep.\n",
    "\n",
    "    :param current_job: the job object.\n",
    "    \"\"\"\n",
    "    while not current_job.is_paused():\n",
    "        time.sleep(0.01)\n",
    "        pass\n",
    "    return True\n",
    "\n",
    "qubit_index = 0 # for UA Q1\n",
    "\n",
    "now = datetime.datetime.now()\n",
    "year = now.strftime(\"%Y\")\n",
    "month = now.strftime(\"%m\")\n",
    "day = now.strftime(\"%d\")\n",
    "\n",
    "tPath = os.path.join(r'Z:\\LabberData_DF5\\QM_Data_DF5',year,month,'Data_'+month+day)\n",
    "if not os.path.exists(tPath):\n",
    "   os.makedirs(tPath)"
   ]
  },
  {
   "cell_type": "markdown",
   "id": "d27b2108",
   "metadata": {},
   "source": [
    "## Fitting functions"
   ]
  },
  {
   "cell_type": "code",
   "execution_count": 4,
   "id": "f890284c",
   "metadata": {},
   "outputs": [],
   "source": [
    "# fitting functions\n",
    "def ESR_Shape( x, amp, sigma, x0, c ):\n",
    "    return amp * sigma**2 / ( sigma**2 + ( x - x0 )**2) + c \n",
    "\n",
    "def ESR_Shape_double( x, amp, sigma, x0, c, amp2, sigma2, x02 ):\n",
    "    return amp * sigma**2 / ( sigma**2 + ( x - x0 )**2) + c + amp2 * sigma2**2 / ( sigma2**2 + ( x - x02 )**2)\n",
    "\n",
    "def Rabi_Shape( x, amp, f, phi, c):\n",
    "    return amp * np.cos(2 * np.pi * f * x + phi) + c\n",
    "\n",
    "def exp_decay( t, A, T1, c):\n",
    "    return A*np.exp(-t/T1)+c\n",
    "\n",
    "def Phi_flux_RR(flux, c, phi0):\n",
    "    # Argument for the cosine flux tuning curve\n",
    "    return 2*np.pi*c*flux + phi0\n",
    "\n",
    "## Second order polynomial fit \n",
    "def poly2(x, a, b, c):\n",
    "        return a * (x**2) + b * x + c\n",
    "\n",
    "def ham(flux, out, wr, Ec, Ej, c, phi0, g):\n",
    "    # Hamiltonian function\n",
    "    # The flux is the independent variable\n",
    "    # The following are fitting parameters: wr, Ec, Ej, c, phi0, g\n",
    "    # The output is the resonator frequency for all the input flux values\n",
    "    # The output frequency array is in units of MHz\n",
    "\n",
    "    N = 4 # 0-3 photons\n",
    "\n",
    "    a = tensor(destroy(N), qeye(N)) # cavity mode\n",
    "    b = tensor(qeye(N), destroy(N)) # qubit\n",
    "\n",
    "    f_ham = []\n",
    "\n",
    "    # Hamiltonian as a function of flux\n",
    "    for k in range(np.size(flux)):\n",
    "        H = wr*a.dag()*a + (np.sqrt(8*Ec*Ej*np.abs(np.cos(Phi_flux_RR(flux[k],c, phi0))))-Ec)*b.dag()*b - Ec/2*b.dag()*b.dag()*b*b + g*(a*b.dag()+a.dag()*b)\n",
    "        w, v = np.linalg.eig(H)\n",
    "        \n",
    "        for n_1 in range(v.shape[1]):\n",
    "            v[:,n_1] = v[:,n_1]/np.inner(v[:,n_1],v[:,n_1])\n",
    "\n",
    "            idx_00 = np.argmax(np.abs(v[0,:])) # |0,0>\n",
    "            idx_01 = np.argmax(np.abs(v[N,:])) # |1,0> photon\n",
    "            idx_02 = np.argmax(np.abs(v[1,:])) # |0,1> qubit\n",
    "        if out == 1:\n",
    "            f_ham.append(np.abs(np.maximum(w[idx_01],w[idx_02]) - w[idx_00]))\n",
    "        elif out==2:\n",
    "            f_ham.append(np.abs(np.minimum(w[idx_01],w[idx_02]) - w[idx_00]))\n",
    "        else:\n",
    "            pass\n",
    "    f_ham = np.array(f_ham)\n",
    "    return f_ham\n",
    "\n",
    "\n",
    "def ESR_4th(arr_sz, num_steps, SS, *popt):\n",
    "    # Computes ESR freqeuncies as a function of flux.\n",
    "    # It creates a flux array based on two input parameters:\n",
    "    # arr_sz: endpoint of array. Since it is symmetric, it is the same value\n",
    "    # num_steps: number of flux points \n",
    "    # fits that to a Hamiltonian shifted by the SS so that it is centered at zero\n",
    "    # and uses this to perform a fit to a fourth order polynomial with only even terms.\n",
    "    # The function finally outputs the ESR frequencies as a function of flux\n",
    "    x_fit_r = np.array([np.linspace(-arr_sz, arr_sz, num_steps)])\n",
    "    y_fit_r = ham(x_fit_r - np.abs(SS), 2, *popt)\n",
    "    Q_fit_p4_r = np.polyfit(x_fit_r, y_fit_r, 4)\n",
    "    return Q_fit_p4_r[0]* x_fit_r**4 + Q_fit_p4_r[2] * x_fit_r**2 + Q_fit_p4_r[4]\n"
   ]
  },
  {
   "cell_type": "markdown",
   "id": "4919223f",
   "metadata": {},
   "source": [
    "## RR spectroscopy"
   ]
  },
  {
   "cell_type": "code",
   "execution_count": 5,
   "id": "2020cb17",
   "metadata": {},
   "outputs": [
    {
     "name": "stdout",
     "output_type": "stream",
     "text": [
      "Start running ...\n",
      "2023-09-22 15:18:47,307 - qm - INFO     - Octave \"octave1\" Health check passed, current temperature 57\n"
     ]
    },
    {
     "name": "stderr",
     "output_type": "stream",
     "text": [
      "INFO:qm:Octave \"octave1\" Health check passed, current temperature 57\n"
     ]
    },
    {
     "name": "stdout",
     "output_type": "stream",
     "text": [
      "2023-09-22 15:18:47,310 - qm - INFO     - Performing health check\n"
     ]
    },
    {
     "name": "stderr",
     "output_type": "stream",
     "text": [
      "INFO:qm.api.frontend_api:Performing health check\n"
     ]
    },
    {
     "name": "stdout",
     "output_type": "stream",
     "text": [
      "2023-09-22 15:18:47,324 - qm - INFO     - Health check passed\n"
     ]
    },
    {
     "name": "stderr",
     "output_type": "stream",
     "text": [
      "INFO:qm.api.frontend_api:Health check passed\n"
     ]
    },
    {
     "name": "stdout",
     "output_type": "stream",
     "text": [
      "2023-09-22 15:18:48,093 - qm - INFO     - Sending program to QOP for compilation\n"
     ]
    },
    {
     "name": "stderr",
     "output_type": "stream",
     "text": [
      "INFO:qm.api.frontend_api:Sending program to QOP for compilation\n"
     ]
    },
    {
     "name": "stdout",
     "output_type": "stream",
     "text": [
      "2023-09-22 15:18:48,310 - qm - INFO     - Executing program\n"
     ]
    },
    {
     "name": "stderr",
     "output_type": "stream",
     "text": [
      "INFO:qm.QuantumMachine:Executing program\n"
     ]
    },
    {
     "name": "stdout",
     "output_type": "stream",
     "text": [
      "Progress: [##################################################] 100.0% (n=10000/10000) --> elapsed time: 41.23s\n"
     ]
    }
   ],
   "source": [
    "print(\"Start running ...\")\n",
    "\n",
    "now = datetime.datetime.now()\n",
    "month = now.strftime(\"%m\")\n",
    "day = now.strftime(\"%d\")\n",
    "hour = now.strftime(\"%H\")\n",
    "minute = now.strftime(\"%M\")\n",
    "\n",
    "exp_name = 'RR_spec'\n",
    "qubit_name = 'UA_Q1'\n",
    "\n",
    "f_str = qubit_name + '_' + exp_name + '_' + month + day + '-' + hour + minute\n",
    "file_name= f_str + '.mat'\n",
    "json_name = f_str + '_state.json'\n",
    "\n",
    "# Set-up the machine and get the config #\n",
    "machine = QuAM(\"quam_state.json\")\n",
    "config = build_config(machine)\n",
    "\n",
    "qubit_index = 0\n",
    "res_if = machine.resonators[qubit_index].f_readout - machine.resonators[qubit_index].lo\n",
    "n_avg = 10_000\n",
    "cooldown_time =20_000 # convert to ns in the wait function!\n",
    "\n",
    "# The QUA program #\n",
    "RR_freq_sweep = np.arange(-2e6, 2e6, 0.02e6)\n",
    "RR_freq_sweep = RR_freq_sweep.astype(int)\n",
    "\n",
    "with program() as resonator_spec:\n",
    "    n = declare(int)\n",
    "    n_st = declare_stream()\n",
    "    df = declare(int)\n",
    "    I = declare(fixed)\n",
    "    Q = declare(fixed)\n",
    "    I_st = declare_stream()\n",
    "    Q_st = declare_stream()\n",
    "\n",
    "    with for_(n, 0, n < n_avg, n + 1):\n",
    "        save(n, n_st)\n",
    "        with for_(*from_array(df, RR_freq_sweep)):\n",
    "            update_frequency(machine.resonators[qubit_index].name, df + res_if)\n",
    "            #play(\"pi\" * amp(1.0), machine.qubits[qubit_index].name)\n",
    "            #align(machine.qubits[qubit_index].name, machine.resonators[qubit_index].name)\n",
    "            measure(\n",
    "                \"readout\"*amp(1),\n",
    "                machine.resonators[qubit_index].name,\n",
    "                None,\n",
    "                dual_demod.full(\"cos\", \"out1\", \"sin\", \"out2\", I),\n",
    "                dual_demod.full(\"minus_sin\", \"out1\", \"cos\", \"out2\", Q),\n",
    "            )\n",
    "            wait(cooldown_time * u.ns, machine.resonators[qubit_index].name)\n",
    "            save(I, I_st)\n",
    "            save(Q, Q_st)\n",
    "\n",
    "    with stream_processing():\n",
    "        n_st.save('iteration')\n",
    "        I_st.buffer(len(RR_freq_sweep)).average().save(\"I\")\n",
    "        Q_st.buffer(len(RR_freq_sweep)).average().save(\"Q\")\n",
    "\n",
    "#  Open Communication with the QOP  #\n",
    "# qmm = QuantumMachinesManager(machine.network.qop_ip, cluster_name=machine.network.cluster_name, octave=octave_config)\n",
    "# qmm = QuantumMachinesManager(machine.network.qop_ip, port = '9510', octave=octave_config, log_level = \"ERROR\")\n",
    "qmm = QuantumMachinesManager(machine.network.qop_ip, port = '9510', octave=octave_config)\n",
    "\n",
    "# Simulate or execute #\n",
    "simulate = False # simulation is useful to see the sequence, especially the timing (clock cycle vs ns)\n",
    "\n",
    "if simulate:\n",
    "    simulation_config = SimulationConfig(duration=1000)\n",
    "    job = qmm.simulate(config, resonator_spec, simulation_config)\n",
    "    job.get_simulated_samples().con1.plot()\n",
    "else:\n",
    "    qm = qmm.open_qm(config)\n",
    "    job = qm.execute(resonator_spec)\n",
    "    # Get results from QUA program\n",
    "    results = fetching_tool(job, data_list=[\"I\", \"Q\", \"iteration\"], mode=\"live\")\n",
    "    # Live plotting\n",
    "    %matplotlib qt\n",
    "    fig = plt.figure()\n",
    "    plt.rcParams['figure.figsize'] = [12, 8]\n",
    "    interrupt_on_close(fig, job)  # Interrupts the job when closing the figure\n",
    "    while results.is_processing():\n",
    "        # Fetch results\n",
    "        I, Q, iteration = results.fetch_all()\n",
    "        I = u.demod2volts(I, machine.resonators[qubit_index].readout_pulse_length)\n",
    "        Q = u.demod2volts(Q, machine.resonators[qubit_index].readout_pulse_length)\n",
    "        # progress bar\n",
    "        progress_counter(iteration, n_avg, start_time=results.get_start_time())\n",
    "        plt.cla()\n",
    "        plt.title(\"Resonator spectroscopy\")\n",
    "        plt.plot((machine.resonators[qubit_index].f_readout + RR_freq_sweep ) / u.MHz, np.sqrt(I**2 +  Q**2), \".\")\n",
    "        plt.xlabel(\"Frequency [MHz]\")\n",
    "        plt.ylabel(r\"$\\sqrt{I^2 + Q^2}$ [V]\")"
   ]
  },
  {
   "cell_type": "code",
   "execution_count": 6,
   "id": "b36e896a",
   "metadata": {},
   "outputs": [
    {
     "name": "stdout",
     "output_type": "stream",
     "text": [
      "IF offset to add to IF: 0.320000 MHz\n",
      "Execution stopped by user!\n"
     ]
    },
    {
     "data": {
      "text/plain": [
       "<matplotlib.lines.Line2D at 0x221785af1f0>"
      ]
     },
     "execution_count": 6,
     "metadata": {},
     "output_type": "execute_result"
    },
    {
     "data": {
      "image/png": "[encoded data removed]",
      "text/plain": [
       "<Figure size 800x400 with 1 Axes>"
      ]
     },
     "metadata": {},
     "output_type": "display_data"
    }
   ],
   "source": [
    "# Fetch results\n",
    "I, Q, iteration = results.fetch_all()\n",
    "# Convert I & Q to Volts\n",
    "I = u.demod2volts(I, machine.resonators[qubit_index].readout_pulse_length)\n",
    "Q = u.demod2volts(Q, machine.resonators[qubit_index].readout_pulse_length)\n",
    "sig_amp = np.sqrt(I**2 + Q**2)\n",
    "# detrend removes the linear increase of phase\n",
    "sig_phase = signal.detrend(np.unwrap(np.angle(I + 1j * Q)))\n",
    "idx = np.argmin(sig_amp) # find minimum\n",
    "print(f\"IF offset to add to IF: {RR_freq_sweep[idx] / u.MHz:.6f} MHz\")\n",
    "\n",
    "plt.close('all')\n",
    "%matplotlib inline\n",
    "# 1D spectroscopy plot\n",
    "fig = plt.figure(figsize=[8, 4])\n",
    "plt.title(\"Resonator spectroscopy\")\n",
    "plt.plot((machine.resonators[qubit_index].f_readout + RR_freq_sweep ) / u.MHz, sig_amp, \".\")\n",
    "plt.xlabel(\"Frequency [MHz]\")\n",
    "plt.ylabel(r\"$\\sqrt{I^2 + Q^2}$ [V]\")\n",
    "plt.axvline(x = (machine.resonators[qubit_index].f_readout + RR_freq_sweep[idx]) / u.MHz)"
   ]
  },
  {
   "cell_type": "code",
   "execution_count": 7,
   "id": "9b60b360",
   "metadata": {},
   "outputs": [],
   "source": [
    "savemat(os.path.join(tPath, file_name), {\"RR_freq\": machine.resonators[qubit_index].f_readout + RR_freq_sweep, \"sig_amp\": sig_amp, \"sig_phase\": sig_phase, \"DC_CH07\": 0, \"ROI\": ROI, \"ROO\": ROO, \"freq_TWPA\": freq_TWPA, \"pwr_TWPA\": pwr_TWPA})\n",
    "machine._save(os.path.join(tPath, json_name), flat_data=False)"
   ]
  },
  {
   "cell_type": "code",
   "execution_count": 8,
   "id": "efb4e463",
   "metadata": {},
   "outputs": [],
   "source": [
    "# Modify machine and save\n",
    "machine.resonators[qubit_index].f_readout += 0.32E6\n",
    "machine._save(\"quam_state.json\", flat_data=False)"
   ]
  },
  {
   "cell_type": "code",
   "execution_count": null,
   "id": "53dcff05",
   "metadata": {},
   "outputs": [],
   "source": [
    "# This can be used to load specific data files to plot the resonator when qubit is at |e> and |g>\n",
    "file_name = 'UA_Q1_RR_spec_0830-1038'\n",
    "data = loadmat(os.path.join(tPath, file_name))\n",
    "freq = data['RR_freq'][0]\n",
    "sig = data['sig']\n",
    "\n",
    "file_name_g = 'UA_Q1_RR_spec_0830-1036'\n",
    "data = loadmat(os.path.join(tPath, file_name_g))\n",
    "freq_g = data['RR_freq'][0]\n",
    "sig_g = data['sig']\n",
    "\n",
    "fig = plt.figure(figsize=[8, 4])\n",
    "plt.title(\"Resonator spectroscopy\")\n",
    "plt.plot(freq , sig.T, \".\")\n",
    "plt.plot(freq_g , sig_g.T, \".\")         \n",
    "plt.xlabel(\"Frequency [MHz]\")\n",
    "plt.ylabel(r\"$\\sqrt{I^2 + Q^2}$ [V]\")\n",
    "plt.legend([\"e\", \"g\"])"
   ]
  },
  {
   "cell_type": "markdown",
   "id": "21784bee",
   "metadata": {},
   "source": [
    "## Flux sweep"
   ]
  },
  {
   "cell_type": "code",
   "execution_count": 49,
   "id": "41512a9d",
   "metadata": {
    "scrolled": true
   },
   "outputs": [
    {
     "name": "stdout",
     "output_type": "stream",
     "text": [
      "Start running ...\n",
      "2023-09-22 16:24:36,088 - qm - INFO     - Performing health check\n"
     ]
    },
    {
     "name": "stderr",
     "output_type": "stream",
     "text": [
      "INFO:qm.api.frontend_api:Performing health check\n"
     ]
    },
    {
     "name": "stdout",
     "output_type": "stream",
     "text": [
      "2023-09-22 16:24:36,103 - qm - INFO     - Health check passed\n"
     ]
    },
    {
     "name": "stderr",
     "output_type": "stream",
     "text": [
      "INFO:qm.api.frontend_api:Health check passed\n"
     ]
    },
    {
     "name": "stdout",
     "output_type": "stream",
     "text": [
      "2023-09-22 16:24:36,940 - qm - INFO     - Sending program to QOP for compilation\n"
     ]
    },
    {
     "name": "stderr",
     "output_type": "stream",
     "text": [
      "INFO:qm.api.frontend_api:Sending program to QOP for compilation\n"
     ]
    },
    {
     "name": "stdout",
     "output_type": "stream",
     "text": [
      "2023-09-22 16:24:37,148 - qm - INFO     - Executing program\n"
     ]
    },
    {
     "name": "stderr",
     "output_type": "stream",
     "text": [
      "INFO:qm.QuantumMachine:Executing program\n"
     ]
    },
    {
     "name": "stdout",
     "output_type": "stream",
     "text": [
      "Progress: [##################################################] 100.0% (n=101/101)\n"
     ]
    },
    {
     "data": {
      "text/plain": [
       "True"
      ]
     },
     "execution_count": 49,
     "metadata": {},
     "output_type": "execute_result"
    },
    {
     "name": "stdout",
     "output_type": "stream",
     "text": [
      "Execution stopped by user!\n"
     ]
    }
   ],
   "source": [
    "print(\"Start running ...\")\n",
    "\n",
    "now = datetime.datetime.now()\n",
    "month = now.strftime(\"%m\")\n",
    "day = now.strftime(\"%d\")\n",
    "hour = now.strftime(\"%H\")\n",
    "minute = now.strftime(\"%M\")\n",
    "\n",
    "exp_name = 'RR_spec_flux_sweep'\n",
    "qubit_name = 'UA_Q1'\n",
    "\n",
    "f_str = qubit_name + '_' + exp_name + '_' + month + day + '-' + hour + minute\n",
    "file_name= f_str+'.mat'\n",
    "json_name = f_str + '_state.json'\n",
    "\n",
    "\n",
    "# Set-up the machine and get the config #\n",
    "machine = QuAM(\"quam_state.json\")\n",
    "# machine.resonators[0].f_readout+=1.68e6\n",
    "# machine.resonators[0].readout_pulse_amp=0.27\n",
    "config = build_config(machine)\n",
    "\n",
    "# Program-specific variables #\n",
    "n_avg = 100  # Number of averaging loops\n",
    "\n",
    "cooldown_time = 20_000  # Resonator cooldown time, convert to ns in the wait() function \n",
    "flux_settle_time = 250  # Flux settle time for fast flux\n",
    "\n",
    "# flux_pts = 250\n",
    "# dcs = np.linspace(-0.49, 0.49, flux_pts)\n",
    "dc_flux_sweep = np.arange(-5,5 + 0.1,0.1)\n",
    "RR_freq_sweep = np.arange(-7.5e6, 5e6, 1e6)\n",
    "RR_freq_sweep = RR_freq_sweep.astype(int)\n",
    "\n",
    "res_if = machine.resonators[qubit_index].f_readout - machine.resonators[qubit_index].lo\n",
    "\n",
    "client = Labber.connectToServer('localhost') # get list of instruments \n",
    "QDevil = client.connectToInstrument('QDevil QDAC', dict(interface='Serial', address='3'))\n",
    "\n",
    "start_time = time.time()\n",
    "\n",
    "with program() as resonator_spec_2D:\n",
    "    n = declare(int)  # Averaging index\n",
    "    i = declare(int)  # DC sweep index\n",
    "    df = declare(int)  # Resonator frequency\n",
    "    I = declare(fixed)\n",
    "    Q = declare(fixed)\n",
    "    I_st = declare_stream()\n",
    "    Q_st = declare_stream()\n",
    "    n_st = declare_stream()\n",
    "\n",
    "    with for_(i, 0, i < len(dc_flux_sweep) + 1, i + 1):\n",
    "        # The QUA program #\n",
    "        pause()\n",
    "        with for_(n, 0, n < n_avg, n + 1):\n",
    "            with for_(*from_array(df, RR_freq_sweep)):\n",
    "                # Update the resonator frequency\n",
    "                update_frequency(machine.resonators[qubit_index].name, df + res_if)\n",
    "                # Measure the resonator\n",
    "                measure(\n",
    "                    \"readout\",\n",
    "                    machine.resonators[qubit_index].name,\n",
    "                    None,\n",
    "                    dual_demod.full(\"cos\", \"out1\", \"sin\", \"out2\", I),\n",
    "                    dual_demod.full(\"minus_sin\", \"out1\", \"cos\", \"out2\", Q),\n",
    "                )\n",
    "                # Wait for the resonator to cooldown\n",
    "                wait(cooldown_time * u.ns, machine.resonators[qubit_index].name)\n",
    "                # Save data to the stream processing\n",
    "                save(I, I_st)\n",
    "                save(Q, Q_st)\n",
    "        save(i, n_st)\n",
    "\n",
    "    with stream_processing():\n",
    "        I_st.buffer(len(RR_freq_sweep)).buffer(n_avg).map(FUNCTIONS.average()).save_all(\"I\")\n",
    "        Q_st.buffer(len(RR_freq_sweep)).buffer(n_avg).map(FUNCTIONS.average()).save_all(\"Q\")\n",
    "        n_st.save_all(\"iteration\")\n",
    "\n",
    "###############\n",
    "# Run Program #\n",
    "###############\n",
    "#  Open Communication with the QOP  #\n",
    "# qmm = QuantumMachinesManager(machine.network.qop_ip, cluster_name=machine.network.cluster_name, octave=octave_config)\n",
    "# qmm = QuantumMachinesManager(machine.network.qop_ip, port = '9510', octave=octave_config, log_level = \"ERROR\")\n",
    "qmm = QuantumMachinesManager(machine.network.qop_ip, port = '9510', octave=octave_config)\n",
    "\n",
    "qm = qmm.open_qm(config)\n",
    "job = qm.execute(resonator_spec_2D)\n",
    "# Creates results handles to fetch the data\n",
    "res_handles = job.result_handles\n",
    "I_handle = res_handles.get(\"I\")\n",
    "Q_handle = res_handles.get(\"Q\")\n",
    "n_handle = res_handles.get(\"iteration\")\n",
    "\n",
    "# Initialize empty vectors to store the global 'I' & 'Q' results\n",
    "I_tot = []\n",
    "Q_tot = []\n",
    "# Live plotting\n",
    "fig = plt.figure()\n",
    "plt.rcParams['figure.figsize'] = [8, 4]\n",
    "interrupt_on_close(fig, job)  # Interrupts the job when closing the figure\n",
    "\n",
    "for i in range(len(dc_flux_sweep)):\n",
    "    # set QDAC voltage\n",
    "    dc_flux = dc_flux_sweep[i]\n",
    "    QDevil.setValue(\"CH01 Voltage\", dc_flux)\n",
    "    # Resume the QUA program\n",
    "    job.resume()\n",
    "    # Wait until the program reaches the 'pause' statement again, indicating that the QUA program is done\n",
    "    wait_until_job_is_paused(job)\n",
    "    \n",
    "    # Wait until the data of this run is processed by the stream processing\n",
    "    I_handle.wait_for_values(i + 1)\n",
    "    Q_handle.wait_for_values(i + 1)\n",
    "    n_handle.wait_for_values(i + 1)\n",
    "    \n",
    "    # Fetch the data from the last OPX run corresponding to the current LO frequency\n",
    "    I = np.concatenate(I_handle.fetch(i)[\"value\"])\n",
    "    Q = np.concatenate(Q_handle.fetch(i)[\"value\"])\n",
    "    iteration = n_handle.fetch(i)[\"value\"][0]\n",
    "    # Update the list of global results\n",
    "    I_tot.append(I)\n",
    "    Q_tot.append(Q)\n",
    "    # Progress bar\n",
    "    progress_counter(iteration, len(dc_flux_sweep))\n",
    "    \n",
    "    # Convert results into Volts\n",
    "    sigs = u.demod2volts(I + 1j * Q, machine.resonators[qubit_index].readout_pulse_length)\n",
    "    sig_amp = np.abs(sigs)  # Amplitude\n",
    "    sig_phase = np.angle(sigs)  # Phase\n",
    "    # Plot results\n",
    "    plt.suptitle(\"RR spectroscopy\")\n",
    "    plt.title(\"Resonator spectroscopy\")\n",
    "    plt.plot((machine.resonators[qubit_index].f_readout + RR_freq_sweep ) / u.MHz, sig_amp, \".\")\n",
    "    plt.xlabel(\"Frequency [MHz]\")\n",
    "    plt.ylabel(r\"$\\sqrt{I^2 + Q^2}$ [V]\")\n",
    "\n",
    "# Interrupt the FPGA program\n",
    "job.halt()"
   ]
  },
  {
   "cell_type": "code",
   "execution_count": 40,
   "id": "726666a5",
   "metadata": {},
   "outputs": [],
   "source": [
    "client.close()"
   ]
  },
  {
   "cell_type": "markdown",
   "id": "8a621018",
   "metadata": {},
   "source": [
    "### Process the data from experimental run"
   ]
  },
  {
   "cell_type": "code",
   "execution_count": 50,
   "id": "067e1a2e",
   "metadata": {},
   "outputs": [
    {
     "data": {
      "text/plain": [
       "<matplotlib.legend.Legend at 0x221017b1bb0>"
      ]
     },
     "execution_count": 50,
     "metadata": {},
     "output_type": "execute_result"
    }
   ],
   "source": [
    "%matplotlib qt\n",
    "I = np.concatenate(I_tot)\n",
    "Q = np.concatenate(Q_tot)\n",
    "sigs = u.demod2volts(I + 1j * Q, machine.resonators[qubit_index].readout_pulse_length)\n",
    "sig_amp = np.abs(sigs)  # Amplitude\n",
    "sig_phase = np.angle(sigs)  # Phase\n",
    "\n",
    "# Final plot\n",
    "\n",
    "sig = np.reshape(sig_amp, (np.size(dc_flux_sweep), np.size(machine.resonators[qubit_index].f_readout + RR_freq_sweep)))\n",
    "phase = np.reshape(sig_phase, (np.size(dc_flux_sweep), np.size(machine.resonators[qubit_index].f_readout + RR_freq_sweep)))\n",
    "fig = plt.figure()\n",
    "plt.rcParams['figure.figsize'] = [8, 4]\n",
    "plt.cla()\n",
    "\n",
    "# 2D spectroscopy plot\n",
    "plt.title(\"Resonator spectroscopy tuning curve\")\n",
    "plt.pcolormesh( np.linspace(np.min(dc_flux_sweep), np.max(dc_flux_sweep), np.size(dc_flux_sweep)),\n",
    "               np.linspace(np.min(machine.resonators[qubit_index].f_readout + RR_freq_sweep), \n",
    "                           np.max(machine.resonators[qubit_index].f_readout + RR_freq_sweep), \n",
    "                           np.size(machine.resonators[qubit_index].f_readout + RR_freq_sweep))/1e6, \n",
    "               sig.T, shading=\"nearest\", cmap=\"seismic\")\n",
    "plt.xlabel(\"DC flux level [V]\")\n",
    "plt.ylabel(\"Frequency [MHz]\")\n",
    "plt.colorbar()\n",
    "\n",
    "# Initial guess\n",
    "wr = machine.resonators[qubit_index].f_readout/1e6 # Resonator frequency\n",
    "Ec = 170.080 # Capacitive energy\n",
    "Ej = 30642.9 # Inductive energy \n",
    "c = 0.05 # Period in cosine function for flux\n",
    "phi0 = 0.4 # Offset in cosine function for flux\n",
    "g = 74.965 # RR-qubit coupling\n",
    "\n",
    "# Array of initial guess\n",
    "guess = [wr, Ec, Ej, c, phi0, g]\n",
    "\n",
    "# Frequency output from hamiltonian function using initial guess\n",
    "freq_fit_guess = ham(dc_flux_sweep, 1, *guess)\n",
    "\n",
    "# Plot of initial guess\n",
    "# plt.plot(flux.T, freq_fit_guess)\n",
    "\n",
    "freq = machine.resonators[qubit_index].f_readout + RR_freq_sweep\n",
    "# Determine minima of signal to use as ydata for fitting\n",
    "minimas = []\n",
    "for i in range(np.size(dc_flux_sweep)):\n",
    "    minimas.append(freq[np.argmin(sig[i])])\n",
    "minimas = np.array(minimas)\n",
    "\n",
    "\n",
    "## Plot minima of signal\n",
    "plt.scatter(dc_flux_sweep.T, minimas/1e6)\n",
    "\n",
    "minimas_mhz = minimas/1e6\n",
    "\n",
    "# Fit data from minima of signal to Hamiltonian function\n",
    "# Initial guess is given by p0\n",
    "# Bounds are necessary. The order is bounds = ((min_wr, min_Ec, min_Ej, min_c, min_phi0, min_g), (max_wr, max_Ec, max_Ej, max_c, max_phi0, max_g))\n",
    "popt, _ = curve_fit(lambda dc_flux_sweep, *guess: ham(dc_flux_sweep, 1, *guess), \n",
    "                    xdata = dc_flux_sweep, ydata = minimas_mhz, p0=guess, check_finite = \"true\", bounds = ((wr-200, Ec-100, Ej-20000, 0.0001, -4, g-50),(wr+200, Ec+100 ,Ej+ 20000, 4, 4, g+50)))\n",
    "\n",
    "# This is the frequency output from the fitted data\n",
    "freq_fit = ham(dc_flux_sweep, 1, *popt)\n",
    "\n",
    "# Plot the fitted data\n",
    "plt.plot(dc_flux_sweep.T, freq_fit)\n",
    "# plt.legend([\"guess\", \"fit\"])\n",
    "plt.legend([\"fit\"])\n",
    "\n"
   ]
  },
  {
   "cell_type": "code",
   "execution_count": null,
   "id": "6da2f6b9",
   "metadata": {},
   "outputs": [],
   "source": [
    "savemat(os.path.join(tPath, file_name), {\"RR_freq\": freq, \"sig_amp\": sig_amp, \"sig_phase\": sig_phase, \"dc_flux_sweep\": dc_flux_sweep, \"ROI\": ROI, \"ROO\": ROO, \"freq_TWPA\": freq_TWPA, \"pwr_TWPA\": pwr_TWPA})\n",
    "machine._save(os.path.join(tPath, json_name), flat_data=False)"
   ]
  },
  {
   "cell_type": "code",
   "execution_count": 51,
   "id": "bedba59d",
   "metadata": {},
   "outputs": [
    {
     "name": "stdout",
     "output_type": "stream",
     "text": [
      "SS at: -0.195209\n",
      "\n"
     ]
    }
   ],
   "source": [
    "# Fitted ESR plot\n",
    "freq_fit_qubit = ham(dc_flux_sweep, 2, *popt)\n",
    "\n",
    "plt.title(\"Qubit spectroscopy tuning curve\")\n",
    "plt.plot(dc_flux_sweep.T, freq_fit_qubit)\n",
    "plt.xlabel(\"DC flux level [V]\")\n",
    "plt.ylabel(\"Frequency [MHz]\")\n",
    "\n",
    "# SS from fitting to Hamiltonian parameters\n",
    "SS = (-popt[4])/(2*np.pi*popt[3])\n",
    "# Get the sweet spot based from fitted parameters to Hamiltonian\n",
    "# Only cosine term matters for this\n",
    "print('SS at: %.6f\\n' % SS) \n",
    "\n",
    "# Fit ESR to a fourth order polynomial centered at zero (SS was shifted)\n",
    "num_steps = 199\n",
    "arr_sz = 0.99 # Choose half of the size we will sweep around SS\n",
    "# Shift SS to be at 0 V, as ff is relative to the SS\n",
    "#ESR_freqs = ESR_4th(arr_sz, num_steps, SS, *popt) # get array of qubit freqeuncies as a function of flux with SS at 0V\n",
    "#ESR_freq_max = np.max(ESR_freqs)\n",
    "#ESR_freq_min = np.min(ESR_freqs)\n"
   ]
  },
  {
   "cell_type": "code",
   "execution_count": null,
   "id": "c1ed9f94",
   "metadata": {},
   "outputs": [],
   "source": [
    "q_freq_est =ham([SS], 2, *popt)\n",
    "print(q_freq_est)"
   ]
  },
  {
   "cell_type": "markdown",
   "id": "99992101",
   "metadata": {},
   "source": [
    "### process data from saved run"
   ]
  },
  {
   "cell_type": "code",
   "execution_count": null,
   "id": "a17ae638",
   "metadata": {},
   "outputs": [],
   "source": [
    "RR_freq_sweep = np.arange(-7.5e6, 5e6, 0.05e6)\n",
    "file_name = 'UA_Q1_RR_spec_flux_sweep_0906-1243'\n",
    "data = loadmat(os.path.join(r\"Z:\\LabberData_DF5\\QM_Data_DF5\\2023\\09\\Data_0906\", file_name))\n",
    "freq = data['RR_freq'][0]\n",
    "sig_amp = data['sig_amp'][0]\n",
    "dc_flux_sweep = data['dc_flux_sweep'][0]\n",
    "\n",
    "fig = plt.figure(figsize=[8, 4])\n",
    "sig = np.reshape(sig_amp, (np.size(dc_flux_sweep), np.size(machine.resonators[qubit_index].f_readout + RR_freq_sweep)))\n",
    "\n",
    "plt.rcParams['figure.figsize'] = [8, 4]\n",
    "plt.cla()\n",
    "\n",
    "# 2D spectroscopy plot\n",
    "plt.title(\"Resonator spectroscopy tuning curve\")\n",
    "plt.pcolormesh( np.linspace(np.min(dc_flux_sweep), np.max(dc_flux_sweep), np.size(dc_flux_sweep)),\n",
    "               np.linspace(np.min(machine.resonators[qubit_index].f_readout + RR_freq_sweep), \n",
    "                           np.max(machine.resonators[qubit_index].f_readout + RR_freq_sweep), \n",
    "                           np.size(machine.resonators[qubit_index].f_readout + RR_freq_sweep))/1e6, \n",
    "               sig.T, shading=\"nearest\", cmap=\"seismic\")\n",
    "plt.xlabel(\"DC flux level [V]\")\n",
    "plt.ylabel(\"Frequency [MHz]\")\n",
    "plt.colorbar()\n",
    "plt.show()\n",
    "\n",
    "# Initial guess\n",
    "wr = machine.resonators[qubit_index].f_readout/1e6 # Resonator frequency\n",
    "Ec = 170.080 # Capacitive energy\n",
    "Ej = 31158.8 # Inductive energy \n",
    "c = 0.05 # Period in cosine function for flux\n",
    "phi0 = 0.4 # Offset in cosine function for flux\n",
    "g = 74.965 # RR-qubit coupling\n",
    "# Array of initial guess\n",
    "\n",
    "guess = [wr, Ec, Ej, c, phi0, g]\n",
    "\n",
    "# Frequency output from hamiltonian function using initial guess\n",
    "freq_fit_guess = ham(dc_flux_sweep, 1, *guess)\n",
    "\n",
    "# Plot of initial guess\n",
    "# plt.plot(flux.T, freq_fit_guess)\n",
    "\n",
    "freq = machine.resonators[qubit_index].f_readout + RR_freq_sweep\n",
    "# Determine minima of signal to use as ydata for fitting\n",
    "minimas = []\n",
    "for i in range(np.size(dc_flux_sweep)):\n",
    "    minimas.append(freq[np.argmin(sig[i])])\n",
    "minimas = np.array(minimas)\n",
    "\n",
    "\n",
    "## Plot minima of signal\n",
    "plt.scatter(dc_flux_sweep.T, minimas/1e6)\n",
    "\n",
    "minimas_mhz = minimas/1e6\n",
    "\n",
    "# Fit data from minima of signal to Hamiltonian function\n",
    "# Initial guess is given by p0\n",
    "# Bounds are necessary. The order is bounds = ((min_wr, min_Ec, min_Ej, min_c, min_phi0, min_g), (max_wr, max_Ec, max_Ej, max_c, max_phi0, max_g))\n",
    "popt, _ = curve_fit(lambda dc_flux_sweep, *guess: ham(dc_flux_sweep, 1, *guess), \n",
    "                    xdata = dc_flux_sweep, ydata = minimas_mhz, p0=guess, check_finite = \"true\", bounds = ((wr-200, Ec-100, Ej-20000, 0.0001, -4, g-50),(wr+200, Ec+100 ,Ej+ 20000, 4, 4, g+50)))\n",
    "\n",
    "# This is the frequency output from the fitted data\n",
    "freq_fit = ham(dc_flux_sweep, 1, *popt)\n",
    "\n",
    "# Plot the fitted data\n",
    "plt.plot(dc_flux_sweep.T, freq_fit)\n",
    "# plt.legend([\"guess\", \"fit\"])\n",
    "plt.legend([\"fit\"])"
   ]
  },
  {
   "cell_type": "markdown",
   "id": "dd85ecdf",
   "metadata": {},
   "source": [
    "## ESR sweet spot"
   ]
  },
  {
   "cell_type": "code",
   "execution_count": 52,
   "id": "626bc5c6",
   "metadata": {},
   "outputs": [],
   "source": [
    "# set DC flux to sweet spot\n",
    "client = Labber.connectToServer('localhost') # get list of instruments \n",
    "QDevil = client.connectToInstrument('QDevil QDAC', dict(interface='Serial', address='3'))\n",
    "\n",
    "DC_ss = SS \n",
    "QDevil.setValue(\"CH01 Voltage\", DC_ss)\n",
    "client.close()"
   ]
  },
  {
   "cell_type": "code",
   "execution_count": 544,
   "id": "b24568be",
   "metadata": {},
   "outputs": [
    {
     "name": "stdout",
     "output_type": "stream",
     "text": [
      "Start running ...\n",
      "2023-09-26 16:27:45,460 - qm - INFO     - Performing health check\n"
     ]
    },
    {
     "name": "stderr",
     "output_type": "stream",
     "text": [
      "INFO:qm.api.frontend_api:Performing health check\n"
     ]
    },
    {
     "name": "stdout",
     "output_type": "stream",
     "text": [
      "2023-09-26 16:27:45,469 - qm - INFO     - Health check passed\n"
     ]
    },
    {
     "name": "stderr",
     "output_type": "stream",
     "text": [
      "INFO:qm.api.frontend_api:Health check passed\n"
     ]
    },
    {
     "name": "stdout",
     "output_type": "stream",
     "text": [
      "2023-09-26 16:27:46,239 - qm - INFO     - Sending program to QOP for compilation\n"
     ]
    },
    {
     "name": "stderr",
     "output_type": "stream",
     "text": [
      "INFO:qm.api.frontend_api:Sending program to QOP for compilation\n"
     ]
    },
    {
     "name": "stdout",
     "output_type": "stream",
     "text": [
      "2023-09-26 16:27:46,489 - qm - INFO     - Executing program\n"
     ]
    },
    {
     "name": "stderr",
     "output_type": "stream",
     "text": [
      "INFO:qm.QuantumMachine:Executing program\n"
     ]
    },
    {
     "name": "stdout",
     "output_type": "stream",
     "text": [
      "Execution stopped by user!                                   ] 2.9% (n=291/10000) --> elapsed time: 11.96s\n",
      "Progress: [#                                                 ] 3.0% (n=297/10000) --> elapsed time: 12.43s\r"
     ]
    }
   ],
   "source": [
    "print(\"Start running ...\")\n",
    "\n",
    "now = datetime.datetime.now()\n",
    "month = now.strftime(\"%m\")\n",
    "day = now.strftime(\"%d\")\n",
    "hour = now.strftime(\"%H\")\n",
    "minute = now.strftime(\"%M\")\n",
    "\n",
    "exp_name = 'ESR'\n",
    "qubit_name = 'UA_Q1'\n",
    "\n",
    "f_str = qubit_name + '_' + exp_name + '_' + month + day + '-' + hour + minute\n",
    "file_name= f_str+'.mat'\n",
    "json_name = f_str + '_state.json'\n",
    "\n",
    "# Set-up the machine and get the config #\n",
    "machine = QuAM(\"quam_state.json\")\n",
    "config = build_config(machine)\n",
    "\n",
    "# Program-specific variables #\n",
    "n_avg = 10000  # Number of averaging loops\n",
    "cooldown_time = 20_000  # convert to ns in the wait() function\n",
    "t = 80  # Qubit pulse length\n",
    "# t = 14 * u.us\n",
    "freq_sweep = np.arange(-100e6, 100e6, 0.1e6)\n",
    "freq_sweep = freq_sweep.astype(int)\n",
    "\n",
    "qubit_index = 0\n",
    "qb_if = machine.qubits[qubit_index].f_01 - machine.qubits[qubit_index].lo\n",
    "\n",
    "# The QUA program #\n",
    "with program() as qubit_spec:\n",
    "    n = declare(int)  # Averaging index\n",
    "    df = declare(int)  # Resonator frequency\n",
    "    I = declare(fixed)\n",
    "    Q = declare(fixed)\n",
    "    I_st = declare_stream()\n",
    "    Q_st = declare_stream()\n",
    "    n_st = declare_stream()\n",
    "\n",
    "    # Adjust the flux line if needed\n",
    "    # set_dc_offset(\"flux_line\", \"single\", 0.0)\n",
    "    with for_(n, 0, n < n_avg, n + 1):\n",
    "        with for_(*from_array(df, freq_sweep)):\n",
    "            # Update the qubit frequency\n",
    "            update_frequency(machine.qubits[qubit_index].name, df + qb_if)\n",
    "            # Play a saturation pulse on the qubit\n",
    "#             play(\"pi\" * amp(1), machine.qubits[qubit_index].name, duration = t * u.ns)\n",
    "            play(\"pi\" * amp(1), machine.qubits[qubit_index].name)\n",
    "#             play(\"x180\" * amp(0.73), machine.qubits[qubit_index].name)\n",
    "            align(machine.qubits[qubit_index].name, machine.resonators[qubit_index].name)\n",
    "            # Measure the resonator\n",
    "            measure(\n",
    "                \"readout\",\n",
    "                machine.resonators[qubit_index].name,\n",
    "                None,\n",
    "                dual_demod.full(\"cos\", \"out1\", \"sin\", \"out2\", I),\n",
    "                dual_demod.full(\"minus_sin\", \"out1\", \"cos\", \"out2\", Q),\n",
    "            )\n",
    "            # Wait for the resonator to cooldown\n",
    "            wait(cooldown_time * u.ns, machine.resonators[qubit_index].name)\n",
    "            # Save data to the stream processing\n",
    "            save(I, I_st)\n",
    "            save(Q, Q_st)\n",
    "        save(n, n_st)\n",
    "\n",
    "    with stream_processing():\n",
    "        I_st.buffer(len(freq_sweep)).average().save(\"I\")\n",
    "        Q_st.buffer(len(freq_sweep)).average().save(\"Q\")\n",
    "        n_st.save(\"iteration\")\n",
    "\n",
    "#  Open Communication with the QOP  #\n",
    "# qmm = QuantumMachinesManager(machine.network.qop_ip, cluster_name=machine.network.cluster_name, octave=octave_config)\n",
    "# qmm = QuantumMachinesManager(machine.network.qop_ip, port = '9510', octave=octave_config, log_level = \"ERROR\")\n",
    "qmm = QuantumMachinesManager(machine.network.qop_ip, port = '9510', octave=octave_config)\n",
    "\n",
    "simulation = False\n",
    "\n",
    "if simulation:\n",
    "    simulation_config = SimulationConfig(\n",
    "        duration=8000, simulation_interface=LoopbackInterface([(\"con1\", 3, \"con1\", 1)])\n",
    "    )\n",
    "    job = qmm.simulate(config, qubit_spec, simulation_config)\n",
    "    job.get_simulated_samples().con1.plot()\n",
    "else:\n",
    "    qm = qmm.open_qm(config)\n",
    "    job = qm.execute(qubit_spec)\n",
    "    # Get results from QUA program\n",
    "    results = fetching_tool(job, data_list=[\"I\", \"Q\", \"iteration\"], mode=\"live\")\n",
    "    %matplotlib qt\n",
    "    # Live plotting\n",
    "    fig = plt.figure()\n",
    "    plt.rcParams['figure.figsize'] = [12, 8]\n",
    "    interrupt_on_close(fig, job)  # Interrupts the job when closing the figure\n",
    "    while results.is_processing():\n",
    "        # Fetch results\n",
    "        I, Q, iteration = results.fetch_all()\n",
    "        I = u.demod2volts(I, machine.resonators[qubit_index].readout_pulse_length)\n",
    "        Q = u.demod2volts(Q, machine.resonators[qubit_index].readout_pulse_length)\n",
    "        sig_amp = np.sqrt(I**2 + Q**2)\n",
    "        sig_phase = signal.detrend(np.unwrap(np.angle(I + 1j * Q)))\n",
    "        freqs = machine.qubits[qubit_index].f_01 + freq_sweep\n",
    "        # Progress bar\n",
    "        progress_counter(iteration, n_avg, start_time=results.get_start_time())\n",
    "        plt.cla()\n",
    "        plt.title(\"Qubit spectroscopy\")\n",
    "        plt.plot(freqs /u.MHz, sig_amp, \"b.\")\n",
    "        plt.xlabel(\"Frequency [MHz]\")\n",
    "        plt.ylabel(r\"$\\sqrt{I^2 + Q^2}$ [V]\")\n",
    "        plt.pause(0.01)\n",
    "            "
   ]
  },
  {
   "cell_type": "code",
   "execution_count": 545,
   "id": "efc125ed",
   "metadata": {},
   "outputs": [
    {
     "name": "stdout",
     "output_type": "stream",
     "text": [
      "IF offset to add to IF: -36.900000 MHz\n",
      "Execution stopped by user!\n",
      "Execution stopped by user!\n"
     ]
    },
    {
     "data": {
      "text/plain": [
       "<matplotlib.lines.Line2D at 0x221156e8220>"
      ]
     },
     "execution_count": 545,
     "metadata": {},
     "output_type": "execute_result"
    },
    {
     "data": {
      "image/png": "[encoded data removed]",
      "text/plain": [
       "<Figure size 800x400 with 1 Axes>"
      ]
     },
     "metadata": {},
     "output_type": "display_data"
    }
   ],
   "source": [
    "%matplotlib inline\n",
    "# Fetch results\n",
    "I, Q, iteration = results.fetch_all()\n",
    "# Convert I & Q to Volts\n",
    "I = u.demod2volts(I, machine.resonators[qubit_index].readout_pulse_length)\n",
    "Q = u.demod2volts(Q, machine.resonators[qubit_index].readout_pulse_length)\n",
    "sig_amp = np.sqrt(I**2 + Q**2)\n",
    "# detrend removes the linear increase of phase\n",
    "sig_phase = signal.detrend(np.unwrap(np.angle(I + 1j * Q)))\n",
    "idx = np.argmax(sig_amp) # find minimum\n",
    "print(f\"IF offset to add to IF: {freq_sweep[idx] / u.MHz:.6f} MHz\")\n",
    "\n",
    "plt.close('all')\n",
    "%matplotlib inline\n",
    "# 1D spectroscopy plot\n",
    "fig = plt.figure(figsize=[8, 4])\n",
    "plt.title('Qubit spectroscopy')\n",
    "plt.plot((machine.qubits[qubit_index].f_01 + freq_sweep) / u.MHz, sig_amp, \".\")\n",
    "plt.xlabel(\"Frequency [MHz]\")\n",
    "plt.ylabel(r\"$\\sqrt{I^2 + Q^2}$ [V]\")\n",
    "plt.axvline(x = (machine.qubits[qubit_index].f_01 + freq_sweep[idx]) / u.MHz)"
   ]
  },
  {
   "cell_type": "code",
   "execution_count": 57,
   "id": "55488943",
   "metadata": {},
   "outputs": [],
   "source": [
    "savemat(os.path.join(tPath, file_name), {\"ESR_freq\": machine.qubits[qubit_index].f_01 + freq_sweep, \"sig_amp\": sig_amp, \"sig_phase\": sig_phase, \"DC_flux\": DC_ss, \"ROI\": ROI, \"ROO\": ROO, \"freq_TWPA\": freq_TWPA, \"pwr_TWPA\": pwr_TWPA})\n",
    "machine._save(os.path.join(tPath, json_name), flat_data=False)"
   ]
  },
  {
   "cell_type": "code",
   "execution_count": 546,
   "id": "67898df7",
   "metadata": {},
   "outputs": [
    {
     "name": "stdout",
     "output_type": "stream",
     "text": [
      "Updated f_01 (df) [MHz]: 6296181650.105953 -36.57932689404679\n"
     ]
    },
    {
     "data": {
      "image/png": "[encoded data removed]",
      "text/plain": [
       "<Figure size 1400x600 with 1 Axes>"
      ]
     },
     "metadata": {},
     "output_type": "display_data"
    }
   ],
   "source": [
    "# fit the data\n",
    "freqs = machine.qubits[qubit_index].f_01 + freq_sweep\n",
    "try:\n",
    "    param, dp_cov=curve_fit(ESR_Shape,freqs,sig_amp,p0=[max(sig_amp)-min(sig_amp),8E6,freqs[np.argmax(sig_amp)],min(sig_amp)] )\n",
    "    d_ESR_freq = round(param[2] * 100)/100\n",
    "    print('Updated f_01 (df) [MHz]:', param[2], (param[2] - machine.qubits[qubit_index].f_01) / u.MHz)\n",
    "except:\n",
    "    pass\n",
    "\n",
    "# 1D spectroscopy plot\n",
    "fig = plt.figure(figsize=[14, 6])\n",
    "plt.plot(freqs / u.MHz, sig_amp, \"b.\")\n",
    "plt.plot(freqs / u.MHz, ESR_Shape(freqs, param[0],param[1],param[2],param[3]), 'r')\n",
    "\n",
    "plt.title(\"Qubit spectroscopy amplitude\")\n",
    "\n",
    "plt.xlabel(\"Frequency [MHz]\")\n",
    "plt.ylabel(r\"$\\sqrt{I^2 + Q^2}$ [V]\")\n",
    "plt.axvline(x=machine.qubits[qubit_index].f_01/u.MHz)\n",
    "plt.show()"
   ]
  },
  {
   "cell_type": "code",
   "execution_count": null,
   "id": "7cba4295",
   "metadata": {},
   "outputs": [],
   "source": [
    "# Fit to a double Lorentzian\n",
    "freqs = machine.qubits[qubit_index].f_01 + freq_sweep\n",
    "param, dp_cov=curve_fit(ESR_Shape_double,freqs,sig_amp,p0=[max(sig_amp)-min(sig_amp),8E6,freqs[np.argmax(sig_amp)],\n",
    "                                                        min(sig_amp),max(sig_amp)-min(sig_amp),8E6,freqs[np.argmax(sig_amp)]] )\n",
    "fig = plt.figure(figsize=[14, 6])\n",
    "plt.plot(freqs / u.MHz, sig_amp, \"b.\")\n",
    "plt.plot(freqs / u.MHz, ESR_Shape_double(freqs, param[0],param[1],param[2],param[3], param[4], param[5], param[6]), 'r')\n",
    "plt.show()\n",
    "plt.title(\"Qubit spectroscopy amplitude\")\n",
    "\n",
    "plt.xlabel(\"Frequency [MHz]\")\n",
    "plt.ylabel(r\"$\\sqrt{I^2 + Q^2}$ [V]\")\n",
    "print(\"First peak at \", param[2], \"\\n Second peak at \", param[6])"
   ]
  },
  {
   "cell_type": "code",
   "execution_count": null,
   "id": "22d855fc",
   "metadata": {},
   "outputs": [],
   "source": [
    "freqs[np.argmax(ESR_Shape(freqs, param[0],param[1],param[2],param[3]))]"
   ]
  },
  {
   "cell_type": "code",
   "execution_count": 547,
   "id": "6961844c",
   "metadata": {},
   "outputs": [],
   "source": [
    "machine.qubits[qubit_index].f_01 -=36.3E6\n",
    "# machine.qubits[qubit_index].pi_amp = 125E-3\n",
    "machine._save(\"quam_state.json\")"
   ]
  },
  {
   "cell_type": "markdown",
   "id": "62fb1120",
   "metadata": {},
   "source": [
    "## Power Rabi"
   ]
  },
  {
   "cell_type": "code",
   "execution_count": 550,
   "id": "2c6b7d9f",
   "metadata": {},
   "outputs": [
    {
     "name": "stdout",
     "output_type": "stream",
     "text": [
      "Start running ...\n",
      "2023-09-26 16:29:47,760 - qm - INFO     - Performing health check\n"
     ]
    },
    {
     "name": "stderr",
     "output_type": "stream",
     "text": [
      "INFO:qm.api.frontend_api:Performing health check\n"
     ]
    },
    {
     "name": "stdout",
     "output_type": "stream",
     "text": [
      "2023-09-26 16:29:47,772 - qm - INFO     - Health check passed\n"
     ]
    },
    {
     "name": "stderr",
     "output_type": "stream",
     "text": [
      "INFO:qm.api.frontend_api:Health check passed\n"
     ]
    },
    {
     "name": "stdout",
     "output_type": "stream",
     "text": [
      "2023-09-26 16:29:48,492 - qm - INFO     - Sending program to QOP for compilation\n"
     ]
    },
    {
     "name": "stderr",
     "output_type": "stream",
     "text": [
      "INFO:qm.api.frontend_api:Sending program to QOP for compilation\n"
     ]
    },
    {
     "name": "stdout",
     "output_type": "stream",
     "text": [
      "2023-09-26 16:29:48,678 - qm - INFO     - Executing program\n"
     ]
    },
    {
     "name": "stderr",
     "output_type": "stream",
     "text": [
      "INFO:qm.QuantumMachine:Executing program\n"
     ]
    },
    {
     "name": "stdout",
     "output_type": "stream",
     "text": [
      "Progress: [##################################################] 100.0% (n=10000/10000) --> elapsed time: 19.50s\n",
      "Execution stopped by user!\n"
     ]
    }
   ],
   "source": [
    "print(\"Start running ...\")\n",
    "\n",
    "now = datetime.datetime.now()\n",
    "month = now.strftime(\"%m\")\n",
    "day = now.strftime(\"%d\")\n",
    "hour = now.strftime(\"%H\")\n",
    "minute = now.strftime(\"%M\")\n",
    "\n",
    "exp_name = 'Rabi'\n",
    "qubit_name = 'UA_Q1'\n",
    "\n",
    "f_str = qubit_name + '_' + exp_name + '_' + month + day + '-' + hour + minute\n",
    "file_name= f_str+'.mat'\n",
    "json_name = f_str + '_state.json'\n",
    "\n",
    "# Set-up the machine and get the config #\n",
    "machine = QuAM(\"quam_state.json\")\n",
    "# machine.qubits[0].pi_amp=0.109\n",
    "# machine.qubits[0].pi_length=80\n",
    "config = build_config(machine)\n",
    "\n",
    "# The QUA program #\n",
    "n_avg = 10_000\n",
    "cooldown_time = 20_000 # ns, set in wait() function\n",
    "amps = np.arange(0.1, 1.99, 0.02)\n",
    "err_amp = 1  # Number of played qubit pulses for getting a better estimate of the pi amplitude\n",
    "qubit_index = 0\n",
    "flux_settle_time = 250  # Flux settle time for fast flux from OP\n",
    "t = 80 \n",
    "\n",
    "with program() as power_rabi:\n",
    "    n = declare(int)\n",
    "    n_st = declare_stream()\n",
    "    a = declare(fixed)\n",
    "    I = declare(fixed)\n",
    "    Q = declare(fixed)\n",
    "    I_st = declare_stream()\n",
    "    Q_st = declare_stream()\n",
    "\n",
    "    with for_(n, 0, n < n_avg, n + 1):\n",
    "        with for_(*from_array(a, amps)):\n",
    "            # Loop for error amplification (perform many qubit pulses)\n",
    "            for i in range(err_amp):\n",
    "#                 play(\"x180\" * amp(a), machine.qubits[qubit_index].name)\n",
    "#                 play(\"pi\" * amp(a), machine.qubits[qubit_index].name, duration = t * u.ns)\n",
    "                play(\"pi\" * amp(a), machine.qubits[qubit_index].name)\n",
    "            align(machine.qubits[qubit_index].name, machine.resonators[qubit_index].name)\n",
    "            measure(\n",
    "                \"readout\",\n",
    "                machine.resonators[qubit_index].name,\n",
    "                None,\n",
    "                dual_demod.full(\"cos\", \"out1\", \"sin\", \"out2\", I),\n",
    "                dual_demod.full(\"minus_sin\", \"out1\", \"cos\", \"out2\", Q),\n",
    "            )\n",
    "            save(I, I_st)\n",
    "            save(Q, Q_st)\n",
    "            wait(cooldown_time * u.ns, machine.resonators[qubit_index].name)\n",
    "        save(n, n_st)\n",
    "\n",
    "    with stream_processing():\n",
    "        I_st.buffer(len(amps)).average().save(\"I\")\n",
    "        Q_st.buffer(len(amps)).average().save(\"Q\")\n",
    "        n_st.save(\"iteration\")\n",
    "\n",
    "#  Open Communication with the QOP  #\n",
    "# qmm = QuantumMachinesManager(machine.network.qop_ip, cluster_name=machine.network.cluster_name, octave=octave_config)\n",
    "# qmm = QuantumMachinesManager(machine.network.qop_ip, port = '9510', octave=octave_config, log_level = \"ERROR\")\n",
    "qmm = QuantumMachinesManager(machine.network.qop_ip, port = '9510', octave=octave_config)\n",
    "\n",
    "simulate = False\n",
    "if simulate:\n",
    "    simulation_config = SimulationConfig(duration=1000)  # in clock cycles\n",
    "    job = qmm.simulate(config, power_rabi, simulation_config)\n",
    "    job.get_simulated_samples().con1.plot()\n",
    "else:\n",
    "    qm = qmm.open_qm(config)\n",
    "    job = qm.execute(power_rabi)\n",
    "    # Get results from QUA program\n",
    "    results = fetching_tool(job, data_list=[\"I\", \"Q\", \"iteration\"], mode=\"live\")\n",
    "    %matplotlib qt\n",
    "    # Live plotting\n",
    "    fig = plt.figure()\n",
    "    plt.rcParams['figure.figsize'] = [12, 8]\n",
    "    interrupt_on_close(fig, job)  # Interrupts the job when closing the figure\n",
    "    while results.is_processing():\n",
    "        # Fetch results\n",
    "        I, Q, iteration = results.fetch_all()\n",
    "        I = u.demod2volts(I, machine.resonators[qubit_index].readout_pulse_length)\n",
    "        Q = u.demod2volts(Q, machine.resonators[qubit_index].readout_pulse_length)\n",
    "        sig_amp = np.sqrt(I**2 + Q**2)\n",
    "        sig_phase = signal.detrend(np.unwrap(np.angle(I + 1j * Q)))\n",
    "        # Progress bar\n",
    "        progress_counter(iteration, n_avg, start_time=results.get_start_time())\n",
    "        plt.cla()\n",
    "        plt.title(\"Power Rabi\")\n",
    "        plt.plot(machine.qubits[qubit_index].pi_amp*amps, sig_amp, \"b.\")\n",
    "        plt.xlabel(\"Amplitude [V]\")\n",
    "        plt.ylabel(r\"$\\sqrt{I^2 + Q^2}$ [V]\")\n",
    "        plt.pause(0.01)\n",
    "            "
   ]
  },
  {
   "cell_type": "code",
   "execution_count": 61,
   "id": "f2f72b3f",
   "metadata": {},
   "outputs": [],
   "source": [
    "savemat(os.path.join(tPath, file_name), {\"Rabi_amp\": machine.qubits[qubit_index].pi_amp * amps, \"sig\": sig_amp, \"sig_phase\": sig_phase, \"DC_flux\": DC_ss, \"ROI\": ROI, \"ROO\": ROO, \"freq_TWPA\": freq_TWPA, \"pwr_TWPA\": pwr_TWPA})\n",
    "machine._save(os.path.join(tPath, json_name), flat_data=False)"
   ]
  },
  {
   "cell_type": "code",
   "execution_count": 551,
   "id": "87295ad8",
   "metadata": {},
   "outputs": [
    {
     "name": "stdout",
     "output_type": "stream",
     "text": [
      "Updated amp_pi [V]: 1.0359\n",
      "1.0400000000000003\n"
     ]
    }
   ],
   "source": [
    "# fit the data\n",
    "try:\n",
    "    param, dp_cov=curve_fit(Rabi_Shape,amps,sig_amp,p0=[(max(sig_amp)-min(sig_amp))/2,0.5,0,(max(sig_amp)+min(sig_amp))/2] )\n",
    "    amp_pi = round(((0.5-param[2]/2/np.pi)/param[1]) * 10000)/10000\n",
    "    print('Updated amp_pi [V]:', amp_pi)\n",
    "except:\n",
    "    pass\n",
    "\n",
    "# 1D spectroscopy plot\n",
    "fig = plt.figure(figsize=[14, 6])\n",
    "plt.plot(amps, sig_amp, \"b.\")\n",
    "plt.plot(amps, Rabi_Shape(amps, param[0],param[1],param[2],param[3]), 'r')\n",
    "plt.show()\n",
    "plt.title(\"Rabi pulse amplitude [V]\")\n",
    "\n",
    "plt.xlabel(\"Amplitude [a.u.]\")\n",
    "plt.ylabel(r\"$\\sqrt{I^2 + Q^2}$ [V]\")\n",
    "# plt.axvline(x=amp_pi)\n",
    "print(amps[np.argmax(Rabi_Shape(amps, param[0],param[1],param[2],param[3]))])"
   ]
  },
  {
   "cell_type": "code",
   "execution_count": 552,
   "id": "298b7e7e",
   "metadata": {},
   "outputs": [],
   "source": [
    "machine.qubits[qubit_index].pi_amp = 0.03307538161200001*1.0359\n",
    "# machine.qubits[qubit_index].pi_length = 180\n",
    "# machine.flux_lines[qubit_index].flux_pulse_length = 152\n",
    "# machine.flux_lines[qubit_index].flux_pulse_amp = 0.25\n",
    "\n",
    "machine._save(\"quam_state.json\", flat_data=False)"
   ]
  },
  {
   "cell_type": "markdown",
   "id": "593e7a63",
   "metadata": {},
   "source": [
    "## Time Rabi"
   ]
  },
  {
   "cell_type": "code",
   "execution_count": 548,
   "id": "5c733b3f",
   "metadata": {},
   "outputs": [
    {
     "name": "stdout",
     "output_type": "stream",
     "text": [
      "Start running ...\n",
      "2023-09-26 16:29:07,163 - qm - INFO     - Performing health check\n"
     ]
    },
    {
     "name": "stderr",
     "output_type": "stream",
     "text": [
      "INFO:qm.api.frontend_api:Performing health check\n"
     ]
    },
    {
     "name": "stdout",
     "output_type": "stream",
     "text": [
      "2023-09-26 16:29:07,173 - qm - INFO     - Health check passed\n"
     ]
    },
    {
     "name": "stderr",
     "output_type": "stream",
     "text": [
      "INFO:qm.api.frontend_api:Health check passed\n"
     ]
    },
    {
     "name": "stdout",
     "output_type": "stream",
     "text": [
      "2023-09-26 16:29:08,220 - qm - INFO     - Sending program to QOP for compilation\n"
     ]
    },
    {
     "name": "stderr",
     "output_type": "stream",
     "text": [
      "INFO:qm.api.frontend_api:Sending program to QOP for compilation\n"
     ]
    },
    {
     "name": "stdout",
     "output_type": "stream",
     "text": [
      "2023-09-26 16:29:08,441 - qm - INFO     - Executing program\n"
     ]
    },
    {
     "name": "stderr",
     "output_type": "stream",
     "text": [
      "INFO:qm.QuantumMachine:Executing program\n"
     ]
    },
    {
     "name": "stdout",
     "output_type": "stream",
     "text": [
      "Execution stopped by user!#######                            ] 44.2% (n=4417/10000) --> elapsed time: 27.78s\n",
      "Progress: [######################                            ] 44.3% (n=4433/10000) --> elapsed time: 28.19s\r"
     ]
    }
   ],
   "source": [
    "print(\"Start running ...\")\n",
    "\n",
    "now = datetime.datetime.now()\n",
    "month = now.strftime(\"%m\")\n",
    "day = now.strftime(\"%d\")\n",
    "hour = now.strftime(\"%H\")\n",
    "minute = now.strftime(\"%M\")\n",
    "\n",
    "exp_name = 'Rabi_time'\n",
    "qubit_name = 'UA_Q1'\n",
    "\n",
    "f_str = qubit_name + '_' + exp_name + '_' + month + day + '-' + hour + minute\n",
    "file_name= f_str+'.mat'\n",
    "json_name = f_str + '_state.json'\n",
    "\n",
    "# Set-up the machine and get the config #\n",
    "machine = QuAM(\"quam_state.json\")\n",
    "# machine.qubits[0].pi_amp=0.109\n",
    "# machine.qubits[0].pi_length=80\n",
    "config = build_config(machine)\n",
    "\n",
    "# The QUA program #\n",
    "n_avg = 10_000\n",
    "cooldown_time = 20_000 # ns, set in wait() function\n",
    "\n",
    "taus = np.arange(1, 300 + 0.1, 1)  # in units of clock cyles\n",
    "taus = taus.astype(int)\n",
    "qubit_index = 0\n",
    "\n",
    "with program() as time_rabi:\n",
    "    n = declare(int)\n",
    "    n_st = declare_stream()\n",
    "    t = declare(int)\n",
    "    I = declare(fixed)\n",
    "    Q = declare(fixed)\n",
    "    I_st = declare_stream()\n",
    "    Q_st = declare_stream()\n",
    "    \n",
    "\n",
    "    with for_(n, 0, n < n_avg, n + 1):\n",
    "        with for_(*from_array(t, taus)):\n",
    "            play(\"pi\" * amp(1), machine.qubits[qubit_index].name, duration = t)\n",
    "#             play(\"x180\" * amp(0.73), machine.qubits[qubit_index].name, duration = t)\n",
    "            align(machine.qubits[qubit_index].name, machine.resonators[qubit_index].name)\n",
    "            measure(\n",
    "                \"readout\",\n",
    "                machine.resonators[qubit_index].name,\n",
    "                None,\n",
    "                dual_demod.full(\"cos\", \"out1\", \"sin\", \"out2\", I),\n",
    "                dual_demod.full(\"minus_sin\", \"out1\", \"cos\", \"out2\", Q),\n",
    "            )\n",
    "            save(I, I_st)\n",
    "            save(Q, Q_st)\n",
    "            wait(cooldown_time * u.ns, machine.resonators[qubit_index].name)\n",
    "        save(n, n_st)\n",
    "\n",
    "    with stream_processing():\n",
    "        I_st.buffer(len(taus)).average().save(\"I\")\n",
    "        Q_st.buffer(len(taus)).average().save(\"Q\")\n",
    "        n_st.save(\"iteration\")\n",
    "\n",
    "#  Open Communication with the QOP  #\n",
    "# qmm = QuantumMachinesManager(machine.network.qop_ip, cluster_name=machine.network.cluster_name, octave=octave_config)\n",
    "# qmm = QuantumMachinesManager(machine.network.qop_ip, port = '9510', octave=octave_config, log_level = \"ERROR\")\n",
    "qmm = QuantumMachinesManager(machine.network.qop_ip, port = '9510', octave=octave_config)\n",
    "\n",
    "simulate = False\n",
    "if simulate:\n",
    "    simulation_config = SimulationConfig(duration=1000)  # in clock cycles\n",
    "    job = qmm.simulate(config, time_rabi, simulation_config)\n",
    "    job.get_simulated_samples().con1.plot()\n",
    "else:\n",
    "    qm = qmm.open_qm(config)\n",
    "    job = qm.execute(time_rabi)\n",
    "    # Get results from QUA program\n",
    "    results = fetching_tool(job, data_list=[\"I\", \"Q\", \"iteration\"], mode=\"live\")\n",
    "    %matplotlib qt\n",
    "    # Live plotting\n",
    "    fig = plt.figure()\n",
    "    plt.rcParams['figure.figsize'] = [12, 8]\n",
    "    interrupt_on_close(fig, job)  # Interrupts the job when closing the figure\n",
    "    while results.is_processing():\n",
    "        # Fetch results\n",
    "        I, Q, iteration = results.fetch_all()\n",
    "        I = u.demod2volts(I, machine.resonators[qubit_index].readout_pulse_length)\n",
    "        Q = u.demod2volts(Q, machine.resonators[qubit_index].readout_pulse_length)\n",
    "        sig_amp = np.sqrt(I**2 + Q**2)\n",
    "        sig_phase = signal.detrend(np.unwrap(np.angle(I + 1j * Q)))\n",
    "        # Progress bar\n",
    "        progress_counter(iteration, n_avg, start_time=results.get_start_time())\n",
    "        plt.cla()\n",
    "        plt.title(\"Time Rabi\")\n",
    "        plt.plot(taus *4, sig_amp, \"b.\")\n",
    "        plt.xlabel(\"Tau [ns]\")\n",
    "        plt.ylabel(r\"$\\sqrt{I^2 + Q^2}$ [V]\")\n",
    "        plt.pause(0.01)"
   ]
  },
  {
   "cell_type": "code",
   "execution_count": 549,
   "id": "55a545c6",
   "metadata": {},
   "outputs": [],
   "source": [
    "# machine.qubits[qubit_index].pi_amp = 0.1092*0.5\n",
    "machine.qubits[qubit_index].pi_length = 100\n",
    "machine._save(\"quam_state.json\")"
   ]
  },
  {
   "cell_type": "code",
   "execution_count": 29,
   "id": "6701a31b",
   "metadata": {},
   "outputs": [],
   "source": [
    "savemat(os.path.join(tPath, file_name), {\"Rabi_time\": taus*4, \"sig\": sig_amp, \"sig_phase\": sig_phase, \"DC_flux\": DC_ss, \"ROI\": ROI, \"ROO\": ROO, \"freq_TWPA\": freq_TWPA, \"pwr_TWPA\": pwr_TWPA})\n",
    "machine._save(os.path.join(tPath, json_name), flat_data=False)"
   ]
  },
  {
   "cell_type": "markdown",
   "id": "65758d2f",
   "metadata": {},
   "source": [
    "## T1"
   ]
  },
  {
   "cell_type": "code",
   "execution_count": null,
   "id": "6fcccae3",
   "metadata": {},
   "outputs": [],
   "source": [
    "print(\"Start running ...\")\n",
    "\n",
    "now = datetime.datetime.now()\n",
    "month = now.strftime(\"%m\")\n",
    "day = now.strftime(\"%d\")\n",
    "hour = now.strftime(\"%H\")\n",
    "minute = now.strftime(\"%M\")\n",
    "\n",
    "exp_name = 'T1'\n",
    "qubit_name = 'UA_Q1'\n",
    "\n",
    "f_str = qubit_name + '_' + exp_name + '_' + month + day + '-' + hour + minute\n",
    "file_name= f_str+'.mat'\n",
    "json_name = f_str + '_state.json'\n",
    "\n",
    "machine = QuAM(\"quam_state.json\")\n",
    "config = build_config(machine)\n",
    "\n",
    "# The QUA program #\n",
    "tau_min = 100 # clock cycle\n",
    "tau_max = 3_000 # clock cycle\n",
    "d_tau = 50 # clock cycle\n",
    "tau_sweep = np.arange(tau_min, tau_max + 0.1, d_tau)  # + 0.1 to add t_max to taus\n",
    "tau_sweep = tau_sweep.astype(int)\n",
    "qubit_index = 0\n",
    "\n",
    "n_avg = 10000\n",
    "cooldown_time = 20_000 # ns\n",
    "\n",
    "with program() as T1:\n",
    "    n = declare(int)\n",
    "    n_st = declare_stream()\n",
    "    I = declare(fixed)\n",
    "    I_st = declare_stream()\n",
    "    Q = declare(fixed)\n",
    "    Q_st = declare_stream()\n",
    "    tau = declare(int)\n",
    "\n",
    "    with for_(n, 0, n < n_avg, n + 1):\n",
    "        with for_(*from_array(tau, tau_sweep)):\n",
    "            play(\"pi\", machine.qubits[qubit_index].name)\n",
    "            wait(tau, machine.qubits[qubit_index].name)\n",
    "            align(machine.qubits[qubit_index].name, machine.resonators[qubit_index].name)\n",
    "            measure(\n",
    "                \"readout\",\n",
    "                machine.resonators[qubit_index].name,\n",
    "                None,\n",
    "                dual_demod.full(\"rotated_cos\", \"out1\", \"rotated_sin\", \"out2\", I),\n",
    "                dual_demod.full(\"rotated_minus_sin\", \"out1\", \"rotated_cos\", \"out2\", Q),\n",
    "            )\n",
    "            save(I, I_st)\n",
    "            save(Q, Q_st)\n",
    "            wait(cooldown_time * u.ns, machine.resonators[qubit_index].name)\n",
    "        save(n, n_st)\n",
    "\n",
    "    with stream_processing():\n",
    "        I_st.buffer(len(tau_sweep)).average().save(\"I\")\n",
    "        Q_st.buffer(len(tau_sweep)).average().save(\"Q\")\n",
    "        n_st.save(\"iteration\")\n",
    "\n",
    "#  Open Communication with the QOP  #\n",
    "# qmm = QuantumMachinesManager(machine.network.qop_ip, cluster_name=machine.network.cluster_name, octave=octave_config)\n",
    "# qmm = QuantumMachinesManager(machine.network.qop_ip, port = '9510', octave=octave_config, log_level = \"ERROR\")\n",
    "qmm = QuantumMachinesManager(machine.network.qop_ip, port = '9510', octave=octave_config)\n",
    "\n",
    "# Simulate or execute #\n",
    "simulate = False\n",
    "if simulate:\n",
    "    simulation_config = SimulationConfig(duration=20_000)  # in clock cycles\n",
    "    job = qmm.simulate(config, T1, simulation_config)\n",
    "    job.get_simulated_samples().con1.plot()\n",
    "\n",
    "else:\n",
    "    print(datetime.datetime.now(),2)\n",
    "    qm = qmm.open_qm(config)\n",
    "    job = qm.execute(T1)\n",
    "    \n",
    "    # Get results from QUA program\n",
    "    results = fetching_tool(job, data_list=[\"I\", \"Q\", \"iteration\"], mode=\"live\")\n",
    "    %matplotlib qt\n",
    "    # Live plotting\n",
    "    fig = plt.figure()\n",
    "    plt.rcParams['figure.figsize'] = [12, 8]\n",
    "    interrupt_on_close(fig, job)  # Interrupts the job when closing the figure    while results.is_processing():\n",
    "    while results.is_processing():\n",
    "        # Fetch results\n",
    "        I, Q, iteration = results.fetch_all()\n",
    "        I = u.demod2volts(I, machine.resonators[qubit_index].readout_pulse_length)\n",
    "        Q = u.demod2volts(Q, machine.resonators[qubit_index].readout_pulse_length)\n",
    "        sig_amp = np.sqrt(I**2 + Q**2)\n",
    "        sig_phase = signal.detrend(np.unwrap(np.angle(I + 1j * Q)))\n",
    "        # Progress bar\n",
    "        progress_counter(iteration, n_avg, start_time=results.get_start_time())\n",
    "        plt.cla()\n",
    "        plt.title(\"T1\")\n",
    "        plt.plot(tau_sweep *4, sig_amp, \"b.\")\n",
    "        plt.xlabel(\"Tau [ns]\")\n",
    "        plt.ylabel(r\"$\\sqrt{I^2 + Q^2}$ [V]\")\n",
    "        plt.pause(0.01)"
   ]
  },
  {
   "cell_type": "code",
   "execution_count": null,
   "id": "c4b98d84",
   "metadata": {},
   "outputs": [],
   "source": [
    "savemat(os.path.join(tPath, file_name), {\"tau\": tau_sweep *4, \"sig_amp\": sig_amp, \"sig_phase\": sig_phase, \"DC_flux\": DC_ss, \"ROI\": ROI, \"ROO\": ROO, \"freq_TWPA\": freq_TWPA, \"pwr_TWPA\": pwr_TWPA})\n",
    "machine._save(os.path.join(tPath, json_name), flat_data=False)"
   ]
  },
  {
   "cell_type": "code",
   "execution_count": null,
   "id": "8abb567e",
   "metadata": {},
   "outputs": [],
   "source": [
    "try:\n",
    "    param, _ = curve_fit(exp_decay,tau_sweep *4,sig_amp,p0=[max(sig_amp)-min(sig_amp),4E3,min(sig_amp)] )\n",
    "    q_T1 = round(param[1])\n",
    "    print('Qubit T1 [us]:', q_T1 /u.us)\n",
    "except:\n",
    "    pass\n",
    "\n",
    "# 1D spectroscopy plot\n",
    "fig = plt.figure(figsize=[14, 6])\n",
    "plt.plot(tau_sweep *4 /u.us, sig_amp, \"b.\")\n",
    "plt.plot(tau_sweep *4 / u.us, exp_decay(tau_sweep *4, param[0],param[1],param[2]), 'r')\n",
    "plt.show()\n",
    "plt.title(\"Qubit T1\")\n",
    "plt.xlabel(\"tau [us]\")\n",
    "plt.ylabel(\"$\\sqrt{I^2 + Q^2}$ [V]\")"
   ]
  },
  {
   "cell_type": "code",
   "execution_count": null,
   "id": "dc85397b",
   "metadata": {},
   "outputs": [],
   "source": [
    "machine.qubits[qubit_index].T1 = q_T1\n",
    "machine._save(\"quam_state.json\", flat_data=False)"
   ]
  },
  {
   "cell_type": "markdown",
   "id": "3200c8f5",
   "metadata": {},
   "source": [
    "## Qubit tuning curve unoptimized"
   ]
  },
  {
   "cell_type": "code",
   "execution_count": 554,
   "id": "97c6366a",
   "metadata": {},
   "outputs": [
    {
     "name": "stdout",
     "output_type": "stream",
     "text": [
      "Start running ...\n",
      "2023-09-26 16:31:33,175 - qm - INFO     - Performing health check\n"
     ]
    },
    {
     "name": "stderr",
     "output_type": "stream",
     "text": [
      "INFO:qm.api.frontend_api:Performing health check\n"
     ]
    },
    {
     "name": "stdout",
     "output_type": "stream",
     "text": [
      "2023-09-26 16:31:33,186 - qm - INFO     - Health check passed\n"
     ]
    },
    {
     "name": "stderr",
     "output_type": "stream",
     "text": [
      "INFO:qm.api.frontend_api:Health check passed\n"
     ]
    },
    {
     "name": "stdout",
     "output_type": "stream",
     "text": [
      "2023-09-26 16:31:33,916 - qm - INFO     - Sending program to QOP for compilation\n"
     ]
    },
    {
     "name": "stderr",
     "output_type": "stream",
     "text": [
      "INFO:qm.api.frontend_api:Sending program to QOP for compilation\n"
     ]
    },
    {
     "name": "stdout",
     "output_type": "stream",
     "text": [
      "2023-09-26 16:31:34,189 - qm - INFO     - Executing program\n"
     ]
    },
    {
     "name": "stderr",
     "output_type": "stream",
     "text": [
      "INFO:qm.QuantumMachine:Executing program\n"
     ]
    },
    {
     "name": "stdout",
     "output_type": "stream",
     "text": [
      "Execution stopped by user!                                   ] 9.1% (n=453/5000) --> elapsed time: 103.78s\n",
      "Finished! [####                                              ] 9.1% (n=454/5000) --> elapsed time: 104.37s\n"
     ]
    }
   ],
   "source": [
    "# qubit tuning curve with no optimization (full frequency spectrum)\n",
    "\n",
    "print(\"Start running ...\")\n",
    "\n",
    "now = datetime.datetime.now()\n",
    "month = now.strftime(\"%m\")\n",
    "day = now.strftime(\"%d\")\n",
    "hour = now.strftime(\"%H\")\n",
    "minute = now.strftime(\"%M\")\n",
    "\n",
    "exp_name = 'qubit_spec_flux_unopt'\n",
    "qubit_name = 'UA_Q1'\n",
    "\n",
    "f_str = qubit_name + '_' + exp_name + '_' + month + day + '-' + hour + minute\n",
    "file_name= f_str+'.mat'\n",
    "json_name = f_str + '_state.json'\n",
    "\n",
    "\n",
    "# Set-up the machine and get the config #\n",
    "machine = QuAM(\"quam_state.json\")\n",
    "config = build_config(machine)\n",
    "\n",
    "# Program-specific variables #\n",
    "n_avg =5_000  # Number of averaging loops\n",
    "cooldown_time = 20_000  # Resonator cooldown time, convert to ns in the wait() function \n",
    "\n",
    "ff_sweep = np.arange(-0.5,0.5+0.1,0.02)\n",
    "q_freq_sweep = np.arange(-100e6, 100e6, 1e6)\n",
    "q_freq_sweep = q_freq_sweep.astype(int)\n",
    "flux_settle_time = 100\n",
    "z_duration = machine.qubits[qubit_index].pi_length + 40\n",
    "qb_if = machine.qubits[qubit_index].f_01 - machine.qubits[qubit_index].lo\n",
    "start_time = time.time()\n",
    "\n",
    "with program() as qubit_spec_2D_unopt:\n",
    "    n = declare(int)  # Averaging index\n",
    "    damp = declare(fixed)  # ff sweep index\n",
    "    df = declare(int)  # Resonator frequency\n",
    "    I = declare(fixed)\n",
    "    Q = declare(fixed)\n",
    "    I_st = declare_stream()\n",
    "    Q_st = declare_stream()\n",
    "    n_st = declare_stream()\n",
    "    \n",
    "    with for_(n, 0, n < n_avg, n + 1):\n",
    "        with for_(*from_array(damp, ff_sweep)):\n",
    "            with for_(*from_array(df, q_freq_sweep)):\n",
    "                update_frequency(machine.qubits[qubit_index].name, qb_if + df)\n",
    "                align()\n",
    "                play(\"const\" * amp(damp), machine.flux_lines[qubit_index].name, duration = z_duration * u.ns)\n",
    "                wait(5, machine.qubits[qubit_index].name)\n",
    "                play('pi',machine.qubits[qubit_index].name)\n",
    "                align(machine.qubits[qubit_index].name, machine.flux_lines[qubit_index].name,machine.resonators[qubit_index].name)\n",
    "                # Measure the resonator\n",
    "                measure(\n",
    "                    \"readout\",\n",
    "                    machine.resonators[qubit_index].name,\n",
    "                    None,\n",
    "                    dual_demod.full(\"cos\", \"out1\", \"sin\", \"out2\", I),\n",
    "                    dual_demod.full(\"minus_sin\", \"out1\", \"cos\", \"out2\", Q),\n",
    "                )\n",
    "                align()\n",
    "#                 play(\"const\" * amp((-1)*damp), machine.flux_lines[qubit_index].name, duration = z_duration * u.ns)\n",
    "                # Wait for the resonator to cooldown\n",
    "                wait(cooldown_time * u.ns, machine.resonators[qubit_index].name)\n",
    "                # Save data to the stream processing\n",
    "                save(I, I_st)\n",
    "                save(Q, Q_st)\n",
    "        save(n, n_st)\n",
    "\n",
    "    with stream_processing():\n",
    "        I_st.buffer(len(q_freq_sweep)).buffer(len(ff_sweep)).average().save(\"I\")\n",
    "        Q_st.buffer(len(q_freq_sweep)).buffer(len(ff_sweep)).average().save(\"Q\")\n",
    "        n_st.save(\"iteration\")\n",
    "\n",
    "    # to save all the frequencies used in the scan\n",
    "    q_freq_sweep_2D, ff_amp_sweep_2D = np.meshgrid(q_freq_sweep+ machine.qubits[qubit_index].f_01, ff_sweep * machine.flux_lines[qubit_index].flux_pulse_amp)\n",
    "\n",
    "qmm = QuantumMachinesManager(machine.network.qop_ip, port = '9510', octave=octave_config)\n",
    "\n",
    "simulate = False\n",
    "if simulate:\n",
    "    simulation_config = SimulationConfig(\n",
    "        duration=8000, simulation_interface=LoopbackInterface([(\"con1\", 3, \"con1\", 1)])\n",
    "    )\n",
    "    job = qmm.simulate(config, qubit_spec_2D_unopt, simulation_config)\n",
    "    job.get_simulated_samples().con1.plot()\n",
    "else:\n",
    "    qm = qmm.open_qm(config)\n",
    "    job = qm.execute(qubit_spec_2D_unopt)\n",
    "    # Creates results handles to fetch the data\n",
    "    results = fetching_tool(job, data_list=[\"I\", \"Q\", \"iteration\"], mode=\"live\")\n",
    "    # Live plotting\n",
    "    fig = plt.figure()\n",
    "    interrupt_on_close(fig, job)  #  Interrupts the job when closing the figure\n",
    "    while results.is_processing():\n",
    "        # Fetch results\n",
    "        I, Q, iteration = results.fetch_all()\n",
    "        progress_counter(iteration, n_avg, start_time=results.get_start_time())\n",
    "        # Convert results into Volts\n",
    "        sigs = u.demod2volts(I + 1j * Q, machine.resonators[qubit_index].readout_pulse_length)\n",
    "        sig_amp = np.abs(sigs)  # Amplitude\n",
    "        sig_phase = np.angle(sigs)  # Phase\n",
    "        # Plot results\n",
    "        progress_counter(iteration, n_avg, start_time=results.get_start_time())\n",
    "        plt.cla()\n",
    "        plt.title(\"Qubit spectroscopy amplitude\")\n",
    "        plt.pcolormesh(ff_amp_sweep_2D, q_freq_sweep_2D.astype(float), sig_amp ,cmap=\"seismic\")\n",
    "        plt.ylabel(\"Qubit frequency [MHz]\")\n",
    "        plt.xlabel(\"Flux level [V]\")\n",
    "        plt.pause(0.1)\n",
    "        plt.tight_layout() \n",
    "print(\"Finished!\")    \n",
    "  \n",
    "\n",
    "\n",
    "   "
   ]
  },
  {
   "cell_type": "code",
   "execution_count": 555,
   "id": "41969b8a",
   "metadata": {},
   "outputs": [
    {
     "name": "stdout",
     "output_type": "stream",
     "text": [
      "0.0011440663801651047\n"
     ]
    }
   ],
   "source": [
    "# plot and fit\n",
    "plt.figure()\n",
    "plt.ylabel(\"Qubit frequency [MHz]\")\n",
    "plt.xlabel(\"Flux level [V]\")\n",
    "plt.pcolormesh(ff_amp_sweep_2D, q_freq_sweep_2D.astype(float)/u.MHz, sig_amp ,cmap=\"seismic\")\n",
    "plt.colorbar()\n",
    "\n",
    "# Determine minima of signal to use as ydata for fitting\n",
    "maximas = []\n",
    "flux = ff_sweep * machine.flux_lines[qubit_index].flux_pulse_amp\n",
    "\n",
    "# Remove edges on flux to avoid having data from top curve\n",
    "bound = 0.045\n",
    "flux_int = np.array([i for i in flux if ((i>= -bound) & (i<= bound))])\n",
    "flux_int_idx = np.array([i for i,v in enumerate((flux>= -bound) & (flux<= bound))  if v])\n",
    "\n",
    "for i in (flux_int_idx):\n",
    "    maximas.append(q_freq_sweep_2D[i][np.argmax(sig_amp[i])])\n",
    "\n",
    "## Plot minima of signal\n",
    "maximas= np.array(maximas)\n",
    "plt.scatter(flux_int.T, maximas/1e6)\n",
    "\n",
    "initial_guess = [1, 0, 6260]  # Initial guess for the parameters\n",
    "fit_params, _ = curve_fit(poly2, flux_int, maximas/1e6, p0=initial_guess)\n",
    "\n",
    "fitted_curve = poly2(flux_int, *fit_params)\n",
    "# Plot fitted data\n",
    "plt.plot(flux_int, fitted_curve, label='Fitted Cosine', color='orange')\n",
    "fitted_curve = fitted_curve*u.kHz\n",
    "fitted_curve = fitted_curve.astype(int)\n",
    "\n",
    "# Sweet spot from fit\n",
    "SS_cal = -fit_params[1]/(2*fit_params[0])\n",
    "print(SS_cal)"
   ]
  },
  {
   "cell_type": "code",
   "execution_count": 556,
   "id": "d1fa8a97",
   "metadata": {},
   "outputs": [],
   "source": [
    "savemat(os.path.join(tPath, file_name), {\"q_freq\": q_freq_sweep_2D, \"sig_amp\": sig_amp, \"sig_phase\": sig_phase, \"fast_flux_sweep\": ff_amp_sweep_2D, \"ROI\": ROI, \"ROO\": ROO, \"freq_TWPA\": freq_TWPA, \"pwr_TWPA\": pwr_TWPA})\n",
    "machine._save(os.path.join(tPath, json_name), flat_data=False)"
   ]
  },
  {
   "cell_type": "markdown",
   "id": "33404ad4",
   "metadata": {},
   "source": [
    "## Tuning curve using Hamiltonian "
   ]
  },
  {
   "cell_type": "code",
   "execution_count": 557,
   "id": "33ac3d66",
   "metadata": {},
   "outputs": [
    {
     "name": "stdout",
     "output_type": "stream",
     "text": [
      "Start running ...\n",
      "2023-09-26 16:33:32,383 - qm - INFO     - Performing health check\n"
     ]
    },
    {
     "name": "stderr",
     "output_type": "stream",
     "text": [
      "INFO:qm.api.frontend_api:Performing health check\n"
     ]
    },
    {
     "name": "stdout",
     "output_type": "stream",
     "text": [
      "2023-09-26 16:33:32,391 - qm - INFO     - Health check passed\n"
     ]
    },
    {
     "name": "stderr",
     "output_type": "stream",
     "text": [
      "INFO:qm.api.frontend_api:Health check passed\n"
     ]
    },
    {
     "name": "stdout",
     "output_type": "stream",
     "text": [
      "2023-09-26 16:33:33,383 - qm - INFO     - Sending program to QOP for compilation\n"
     ]
    },
    {
     "name": "stderr",
     "output_type": "stream",
     "text": [
      "INFO:qm.api.frontend_api:Sending program to QOP for compilation\n"
     ]
    },
    {
     "name": "stdout",
     "output_type": "stream",
     "text": [
      "2023-09-26 16:33:33,676 - qm - INFO     - Executing program\n"
     ]
    },
    {
     "name": "stderr",
     "output_type": "stream",
     "text": [
      "INFO:qm.QuantumMachine:Executing program\n"
     ]
    },
    {
     "name": "stdout",
     "output_type": "stream",
     "text": [
      "Execution stopped by user!#                                  ] 33.5% (n=335/1000) --> elapsed time: 55.24s\n",
      "Finished! [################                                  ] 33.6% (n=336/1000) --> elapsed time: 55.76s\n"
     ]
    }
   ],
   "source": [
    "## Working tuning curve using freq from Hamiltonian\n",
    "\n",
    "print(\"Start running ...\")\n",
    "\n",
    "now = datetime.datetime.now()\n",
    "month = now.strftime(\"%m\")\n",
    "day = now.strftime(\"%d\")\n",
    "hour = now.strftime(\"%H\")\n",
    "minute = now.strftime(\"%M\")\n",
    "\n",
    "exp_name = 'qubit_spec_flux_sweep_ham'\n",
    "qubit_name = 'UA_Q1'\n",
    "\n",
    "f_str = qubit_name + '_' + exp_name + '_' + month + day + '-' + hour + minute\n",
    "file_name= f_str+'.mat'\n",
    "json_name = f_str + '_state.json'\n",
    "\n",
    "# Set-up the machine and get the config #\n",
    "machine = QuAM(\"quam_state.json\")\n",
    "config = build_config(machine)\n",
    "\n",
    "# Program-specific variables #\n",
    "n_avg = 1_000  # Number of averaging loops\n",
    "qubit_index = 0 \n",
    "cooldown_time = 10_000  # Resonator cooldown time, convert to ns in the wait() function \n",
    "\n",
    "ff_amp_sweep = np.arange(-0.75,0.75+1E-5,0.02)\n",
    "freq_est_diff = (machine.qubits[qubit_index].f_01-1E6*ham([SS], 2, *popt))[0] / 1e3 # in kHz\n",
    "q_freq_est = ham(machine.flux_lines[qubit_index].flux_pulse_amp * ff_amp_sweep+SS, 2, *popt) * 1e3 + freq_est_diff # in kHz\n",
    "q_freq_est = q_freq_est.astype(int) # in kHz\n",
    "\n",
    "q_freq_sweep = np.arange(-100, 100, 1) # this gets multiplied by 1e6 inside the loop\n",
    "z_duration = machine.qubits[qubit_index].pi_length + 40\n",
    "lo = machine.qubits[qubit_index].lo/1e3\n",
    "\n",
    "with program() as qubit_spec_2D_ham:\n",
    "    n = declare(int)  # Averaging index\n",
    "    df = declare(int)  # Qubit sweep\n",
    "    q_freq_est_i = declare(int)  # Estimated qubit frequency\n",
    "    damp = declare(fixed)  # Z amplitude sweep\n",
    "    I = declare(fixed)\n",
    "    Q = declare(fixed)\n",
    "    I_st = declare_stream()\n",
    "    Q_st = declare_stream()\n",
    "    n_st = declare_stream()\n",
    "    qb_if = declare(int)\n",
    "    \n",
    "    with for_(n, 0, n < n_avg, n + 1):\n",
    "        with for_each_((damp,q_freq_est_i),(ff_amp_sweep,q_freq_est)):\n",
    "            assign(qb_if, (q_freq_est_i - lo)*1e3)\n",
    "\n",
    "            with for_(*from_array(df,q_freq_sweep)):\n",
    "                update_frequency(machine.qubits[qubit_index].name, qb_if + df * u.MHz)\n",
    "                play(\"const\" * amp(damp), machine.flux_lines[qubit_index].name, duration = z_duration * u.ns)\n",
    "                wait(5, machine.qubits[qubit_index].name)\n",
    "                play('pi',machine.qubits[qubit_index].name)\n",
    "                align(machine.qubits[qubit_index].name, machine.flux_lines[qubit_index].name,machine.resonators[qubit_index].name)\n",
    "                # Measure the resonator\n",
    "                measure(\n",
    "                    \"readout\",\n",
    "                    machine.resonators[qubit_index].name,\n",
    "                    None,\n",
    "                    dual_demod.full(\"cos\", \"out1\", \"sin\", \"out2\", I),\n",
    "                    dual_demod.full(\"minus_sin\", \"out1\", \"cos\", \"out2\", Q),\n",
    "                )\n",
    "                align()\n",
    "                play(\"const\" * amp((-1)*damp), machine.flux_lines[qubit_index].name, duration = z_duration * u.ns)\n",
    "                # Wait for the resonator to cooldown\n",
    "                wait(cooldown_time * u.ns, machine.resonators[qubit_index].name)\n",
    "                # Save data to the stream processing\n",
    "                save(I, I_st)\n",
    "                save(Q, Q_st)\n",
    "        save(n, n_st)\n",
    "\n",
    "    with stream_processing():\n",
    "        I_st.buffer(len(q_freq_sweep)).buffer(len(ff_amp_sweep)).average().save(\"I\")\n",
    "        Q_st.buffer(len(q_freq_sweep)).buffer(len(ff_amp_sweep)).average().save(\"Q\")\n",
    "        n_st.save(\"iteration\")\n",
    "\n",
    "    # to save all the frequencies used in the scan\n",
    "    q_freq_sweep_2D, q_freq_est_2D = np.meshgrid(q_freq_sweep*1e6, q_freq_est.astype(float) * 1e3)\n",
    "    _, ff_amp_sweep_2D = np.meshgrid(q_freq_sweep*1e6, ff_amp_sweep * machine.flux_lines[qubit_index].flux_pulse_amp)\n",
    "    q_freq_sweep_2D = q_freq_est_2D + q_freq_sweep_2D\n",
    "\n",
    "qmm = QuantumMachinesManager(machine.network.qop_ip, port = '9510', octave=octave_config)\n",
    "\n",
    "simulate = False\n",
    "if simulate:\n",
    "    %matplotlib qt\n",
    "    job = qmm.simulate(config, qubit_spec_2D_ham, SimulationConfig(4000))\n",
    "    job.get_simulated_samples().con1.plot()\n",
    "else:\n",
    "    qm = qmm.open_qm(config)\n",
    "    job = qm.execute(qubit_spec_2D_ham)\n",
    "    # Creates results handles to fetch the data\n",
    "    results = fetching_tool(job, data_list=[\"I\", \"Q\", \"iteration\"], mode=\"live\")\n",
    "    # Live plotting\n",
    "    fig = plt.figure()\n",
    "    interrupt_on_close(fig, job)  #  Interrupts the job when closing the figure\n",
    "    while results.is_processing():\n",
    "        # Fetch results\n",
    "        I, Q, iteration = results.fetch_all()\n",
    "        progress_counter(iteration, n_avg, start_time=results.get_start_time())\n",
    "        # Convert results into Volts\n",
    "        sigs = u.demod2volts(I + 1j * Q, machine.resonators[qubit_index].readout_pulse_length)\n",
    "        sig_amp = np.abs(sigs)  # Amplitude\n",
    "        sig_phase = np.angle(sigs)  # Phase\n",
    "        # Plot results\n",
    "        progress_counter(iteration, n_avg, start_time=results.get_start_time())\n",
    "        plt.cla()\n",
    "        plt.title(\"Qubit spectroscopy amplitude\")\n",
    "        plt.pcolormesh(ff_amp_sweep_2D, q_freq_sweep_2D.astype(float), sig_amp ,cmap=\"seismic\")\n",
    "        plt.ylabel(\"Qubit frequency [MHz]\")\n",
    "        plt.xlabel(\"Flux level [V]\")\n",
    "        plt.pause(0.1)\n",
    "        plt.tight_layout() \n",
    "print(\"Finished!\")\n",
    "\n",
    "\n"
   ]
  },
  {
   "cell_type": "code",
   "execution_count": 558,
   "id": "45676ae6",
   "metadata": {},
   "outputs": [
    {
     "name": "stdout",
     "output_type": "stream",
     "text": [
      "0.000591126869702671\n"
     ]
    }
   ],
   "source": [
    "# plot and fit\n",
    "plt.figure()\n",
    "plt.ylabel(\"Qubit frequency [MHz]\")\n",
    "plt.xlabel(\"Flux level [V]\")\n",
    "plt.pcolormesh(ff_amp_sweep_2D, q_freq_sweep_2D.astype(float)/u.MHz, sig_amp ,cmap=\"seismic\")\n",
    "plt.colorbar()\n",
    "\n",
    "# Determine minima of signal to use as ydata for fitting\n",
    "maximas = []\n",
    "flux = ff_amp_sweep * machine.flux_lines[qubit_index].flux_pulse_amp\n",
    "\n",
    "# Remove edges on flux to avoid having data from top curve\n",
    "bound = 0.05\n",
    "flux_int = np.array([i for i in flux if ((i>= -bound) & (i<= bound))])\n",
    "flux_int_idx = np.array([i for i,v in enumerate((flux>= -bound) & (flux<= bound))  if v])\n",
    "\n",
    "for i in (flux_int_idx):\n",
    "    maximas.append(q_freq_sweep_2D[i][np.argmax(sig_amp[i])])\n",
    "\n",
    "## Plot minima of signal\n",
    "maximas= np.array(maximas)\n",
    "plt.scatter(flux_int.T, maximas/1e6)\n",
    "\n",
    "initial_guess = [1, 0, 6250]  # Initial guess for the parameters\n",
    "fit_params, _ = curve_fit(poly2, flux_int, maximas/1e6, p0=initial_guess)\n",
    "\n",
    "fitted_curve = poly2(flux_int, *fit_params)\n",
    "# Plot fitted data\n",
    "plt.plot(flux_int, fitted_curve, label='Fitted Cosine', color='orange')\n",
    "fitted_curve = fitted_curve*u.kHz\n",
    "fitted_curve = fitted_curve.astype(int)\n",
    "\n",
    "# Sweet spot from fit\n",
    "SS_cal = -fit_params[1]/(2*fit_params[0])\n",
    "print(SS_cal)"
   ]
  },
  {
   "cell_type": "code",
   "execution_count": 559,
   "id": "e46abaa8",
   "metadata": {},
   "outputs": [],
   "source": [
    "# Save data \n",
    "savemat(os.path.join(tPath, file_name), {\"qubit_freq\": q_freq_sweep_2D, \"sig_amp\": sig_amp, \"sig_phase\": sig_phase, \"ff_sweep\": ff_amp_sweep_2D, \"ROI\": ROI, \"ROO\": ROO, \"freq_TWPA\": freq_TWPA, \"pwr_TWPA\": pwr_TWPA})\n",
    "machine._save(os.path.join(tPath, json_name), flat_data=False)"
   ]
  },
  {
   "cell_type": "code",
   "execution_count": null,
   "id": "86242b1e",
   "metadata": {},
   "outputs": [],
   "source": [
    "# load data from file\n",
    "file_name = 'UA_Q1_qubit_spec_flux_sweep_0907-1453'\n",
    "data = loadmat(os.path.join(r\"Z:\\LabberData_DF5\\QM_Data_DF5\\2023\\09\\Data_0907\", file_name))\n",
    "freq = data['qubit_freq']\n",
    "sig_amp = data['sig_amp']\n",
    "ff_sweep = data['ff_sweep']\n",
    "\n",
    "plt.figure()\n",
    "plt.ylabel(\"Qubit frequency [MHz]\")\n",
    "plt.xlabel(\"Flux level [V]\")\n",
    "plt.pcolormesh(ff_sweep, freq.astype(float)/1e6, sig_amp ,cmap=\"seismic\")\n",
    "plt.colorbar()\n",
    "\n",
    "# Determine minima of signal to use as ydata for fitting\n",
    "maximas = []\n",
    "flux = ff_sweep\n",
    "\n",
    "# Remove edges on flux to avoid having data from top curve\n",
    "flux_int = np.array([i for i in flux if np.any((i>= -0.08) & (i<= 0.08))])\n",
    "flux_int_idx = np.array([i for i,v in enumerate((flux>= -0.08) & (flux<= 0.08))  if np.any(v)])\n",
    "\n",
    "for i in (flux_int_idx):\n",
    "    maximas.append(freq[i][np.argmax(sig_amp[i])])\n",
    "\n",
    "## Plot minima of signal\n",
    "maximas = np.array(maximas)\n",
    "plt.scatter(flux_int.T[0], maximas/1e6)\n",
    "\n",
    "initial_guess = [1, 0, 6405]  # Initial guess for the parameters\n",
    "fit_params, _ = curve_fit(poly2, flux_int.T[0], maximas/1e6, p0=initial_guess)\n",
    "\n",
    "fitted_curve = poly2(flux_int.T[0], *fit_params)\n",
    "# Plot fitted data\n",
    "plt.plot(flux_int.T[0], fitted_curve, label='Fitted Cosine', color='orange')\n",
    "fitted_curve = fitted_curve*u.kHz\n",
    "fitted_curve = fitted_curve.astype(int)\n",
    "\n",
    "# Sweet spot from fit\n",
    "SS_cal = -fit_params[1]/(2*fit_params[0])\n",
    "print(SS_cal)"
   ]
  },
  {
   "cell_type": "markdown",
   "id": "0c767715",
   "metadata": {},
   "source": [
    "## Tuning curve using fit to second order poly"
   ]
  },
  {
   "cell_type": "code",
   "execution_count": 565,
   "id": "6ea7fb96",
   "metadata": {},
   "outputs": [
    {
     "name": "stdout",
     "output_type": "stream",
     "text": [
      "Start running ...\n",
      "2023-09-26 16:37:49,337 - qm - INFO     - Performing health check\n"
     ]
    },
    {
     "name": "stderr",
     "output_type": "stream",
     "text": [
      "INFO:qm.api.frontend_api:Performing health check\n"
     ]
    },
    {
     "name": "stdout",
     "output_type": "stream",
     "text": [
      "2023-09-26 16:37:49,347 - qm - INFO     - Health check passed\n"
     ]
    },
    {
     "name": "stderr",
     "output_type": "stream",
     "text": [
      "INFO:qm.api.frontend_api:Health check passed\n"
     ]
    },
    {
     "name": "stdout",
     "output_type": "stream",
     "text": [
      "2023-09-26 16:37:50,098 - qm - INFO     - Sending program to QOP for compilation\n"
     ]
    },
    {
     "name": "stderr",
     "output_type": "stream",
     "text": [
      "INFO:qm.api.frontend_api:Sending program to QOP for compilation\n"
     ]
    },
    {
     "name": "stdout",
     "output_type": "stream",
     "text": [
      "2023-09-26 16:37:50,383 - qm - INFO     - Executing program\n"
     ]
    },
    {
     "name": "stderr",
     "output_type": "stream",
     "text": [
      "INFO:qm.QuantumMachine:Executing program\n"
     ]
    },
    {
     "name": "stdout",
     "output_type": "stream",
     "text": [
      "Progress: [##################################################] 100.0% (n=1000/1000) --> elapsed time: 109.94s\n",
      "Progress: [##################################################] 100.0% (n=1000/1000) --> elapsed time: 110.22s\n",
      "Finished!\n"
     ]
    }
   ],
   "source": [
    "# Takes the frequency from the fitted data to the second order poly\n",
    "\n",
    "print(\"Start running ...\")\n",
    "\n",
    "now = datetime.datetime.now()\n",
    "month = now.strftime(\"%m\")\n",
    "day = now.strftime(\"%d\")\n",
    "hour = now.strftime(\"%H\")\n",
    "minute = now.strftime(\"%M\")\n",
    "\n",
    "exp_name = 'qubit_spec_flux_sweep_2poly'\n",
    "qubit_name = 'UA_Q1'\n",
    "\n",
    "f_str = qubit_name + '_' + exp_name + '_' + month + day + '-' + hour + minute\n",
    "file_name= f_str+'.mat'\n",
    "json_name = f_str + '_state.json'\n",
    "\n",
    "# Set-up the machine and get the config #\n",
    "machine = QuAM(\"quam_state.json\")\n",
    "config = build_config(machine)\n",
    "\n",
    "# Program-specific variables #\n",
    "n_avg = 1_000  # Number of averaging loops\n",
    "qubit_index = 0 \n",
    "cooldown_time = 10_000  # Resonator cooldown time, convert to ns in the wait() function \n",
    "\n",
    "ff_amp_sweep = np.arange(-0.5,0.5+1E-5,0.01)\n",
    "qubit_freq_fit = poly2(ff_amp_sweep* machine.flux_lines[qubit_index].flux_pulse_amp, *fit_params)\n",
    "qubit_freq_fit = qubit_freq_fit*u.kHz\n",
    "q_freq_est = qubit_freq_fit.astype(int)\n",
    "lo = machine.qubits[qubit_index].lo/1e3\n",
    "q_freq_sweep = np.arange(-50, 50, 1)\n",
    "z_duration = machine.qubits[qubit_index].pi_length + 40\n",
    "\n",
    "with program() as qubit_spec_2D_2poly:\n",
    "    n = declare(int)  # Averaging index\n",
    "    df = declare(int)  # Qubit sweep\n",
    "    q_freq_est_i = declare(int)  # Estimated qubit frequency\n",
    "    damp = declare(fixed)  # Z amplitude sweep\n",
    "    I = declare(fixed)\n",
    "    Q = declare(fixed)\n",
    "    I_st = declare_stream()\n",
    "    Q_st = declare_stream()\n",
    "    n_st = declare_stream()\n",
    "    qb_if = declare(int)\n",
    "    \n",
    "    with for_(n, 0, n < n_avg, n + 1):\n",
    "        with for_each_((damp,q_freq_est_i),(ff_amp_sweep,q_freq_est)):\n",
    "            assign(qb_if, (q_freq_est_i - lo)*1e3)\n",
    "            with for_(*from_array(df,q_freq_sweep)):\n",
    "                update_frequency(machine.qubits[qubit_index].name, qb_if + df*1e6)\n",
    "                play(\"const\" * amp(damp), machine.flux_lines[qubit_index].name, duration = z_duration * u.ns)\n",
    "                wait(5, machine.qubits[qubit_index].name)\n",
    "                play('pi',machine.qubits[qubit_index].name)\n",
    "                align(machine.qubits[qubit_index].name, machine.flux_lines[qubit_index].name,machine.resonators[qubit_index].name)\n",
    "                # Measure the resonator\n",
    "                measure(\n",
    "                    \"readout\",\n",
    "                    machine.resonators[qubit_index].name,\n",
    "                    None,\n",
    "                    dual_demod.full(\"cos\", \"out1\", \"sin\", \"out2\", I),\n",
    "                    dual_demod.full(\"minus_sin\", \"out1\", \"cos\", \"out2\", Q),\n",
    "                )\n",
    "                align()\n",
    "                play(\"const\" * amp((-1)*damp), machine.flux_lines[qubit_index].name, duration = z_duration * u.ns)\n",
    "                # Wait for the resonator to cooldown\n",
    "                wait(cooldown_time * u.ns, machine.resonators[qubit_index].name)\n",
    "                # Save data to the stream processing\n",
    "                save(I, I_st)\n",
    "                save(Q, Q_st)\n",
    "        save(n, n_st)\n",
    "\n",
    "    with stream_processing():\n",
    "        I_st.buffer(len(q_freq_sweep)).buffer(len(ff_amp_sweep)).average().save(\"I\")\n",
    "        Q_st.buffer(len(q_freq_sweep)).buffer(len(ff_amp_sweep)).average().save(\"Q\")\n",
    "        n_st.save(\"iteration\")\n",
    "\n",
    "    # to save all the frequencies used in the scan\n",
    "    q_freq_sweep_2D, q_freq_est_2D = np.meshgrid(q_freq_sweep *1e6, q_freq_est.astype(float) * 1e3)\n",
    "    _, ff_amp_sweep_2D = np.meshgrid(q_freq_sweep*1e6, ff_amp_sweep * machine.flux_lines[qubit_index].flux_pulse_amp)\n",
    "    q_freq_sweep_2D = q_freq_est_2D + q_freq_sweep_2D\n",
    "\n",
    "###############\n",
    "# Run Program #\n",
    "###############\n",
    "#  Open Communication with the QOP  #\n",
    "# qmm = QuantumMachinesManager(machine.network.qop_ip, cluster_name=machine.network.cluster_name, octave=octave_config)\n",
    "# qmm = QuantumMachinesManager(machine.network.qop_ip, port = '9510', octave=octave_config, log_level = \"ERROR\")\n",
    "qmm = QuantumMachinesManager(machine.network.qop_ip, port = '9510', octave=octave_config)\n",
    "\n",
    "simulate = False\n",
    "if simulate:\n",
    "    %matplotlib qt\n",
    "    job = qmm.simulate(config, qubit_spec_2D_2poly, SimulationConfig(4000))\n",
    "    job.get_simulated_samples().con1.plot()\n",
    "else:\n",
    "    qm = qmm.open_qm(config)\n",
    "    job = qm.execute(qubit_spec_2D_2poly)\n",
    "    # Creates results handles to fetch the data\n",
    "    results = fetching_tool(job, data_list=[\"I\", \"Q\", \"iteration\"], mode=\"live\")\n",
    "    # Live plotting\n",
    "    fig = plt.figure()\n",
    "    interrupt_on_close(fig, job)  #  Interrupts the job when closing the figure\n",
    "    while results.is_processing():\n",
    "        # Fetch results\n",
    "        I, Q, iteration = results.fetch_all()\n",
    "        progress_counter(iteration, n_avg, start_time=results.get_start_time())\n",
    "        # Convert results into Volts\n",
    "        sigs = u.demod2volts(I + 1j * Q, machine.resonators[qubit_index].readout_pulse_length)\n",
    "        sig_amp = np.abs(sigs)  # Amplitude\n",
    "        sig_phase = np.angle(sigs)  # Phase\n",
    "        # Plot results\n",
    "        plt.cla()\n",
    "        plt.title(\"Qubit spectroscopy amplitude\")\n",
    "        plt.pcolormesh(ff_amp_sweep_2D, q_freq_sweep_2D.astype(float), sig_amp ,cmap=\"seismic\")\n",
    "        \n",
    "#         plt.pcolormesh(ff_amp_sweep, q_freq_sweep.astype(float) * u.kHz, sig_amp, shading='auto',cmap=\"seismic\")\n",
    "        plt.ylabel(\"Qubit frequency [MHz]\")\n",
    "        plt.xlabel(\"Flux level [V]\")\n",
    "        plt.pause(0.1)\n",
    "        plt.tight_layout() \n",
    "plt.colorbar()\n",
    "print(\"Finished!\")    \n",
    "  \n",
    "    \n",
    "# # this is to generate qua script for QM people to troubleshoot\n",
    "# sourceFile = open('debug.py', 'w')\n",
    "# print(generate_qua_script(qubit_spec_2D, config), file=sourceFile)\n",
    "# sourceFile.close()\n",
    "\n",
    "    \n",
    " "
   ]
  },
  {
   "cell_type": "code",
   "execution_count": 561,
   "id": "a0b0c0ed",
   "metadata": {},
   "outputs": [],
   "source": [
    "# Save data \n",
    "savemat(os.path.join(tPath, file_name), {\"qubit_freq\": q_freq_sweep_2D, \"sig_amp\": sig_amp, \"sig_phase\": sig_phase, \"ff_sweep\": ff_amp_sweep_2D, \"ROI\": ROI, \"ROO\": ROO, \"freq_TWPA\": freq_TWPA, \"pwr_TWPA\": pwr_TWPA})\n",
    "machine._save(os.path.join(tPath, json_name), flat_data=False)"
   ]
  },
  {
   "cell_type": "markdown",
   "id": "24741fb8",
   "metadata": {},
   "source": [
    "## Testbed for tuning curve changing LO"
   ]
  },
  {
   "cell_type": "code",
   "execution_count": 761,
   "id": "5a2d4df3",
   "metadata": {},
   "outputs": [],
   "source": [
    "from qm.octave import *\n",
    "import os\n",
    "from qm.octave import QmOctaveConfig\n",
    "from qm.octave.octave_manager import ClockMode\n",
    "from typing import Union\n",
    "import json\n",
    "from set_octave import ElementsSettings, octave_settings\n",
    "from qm.QuantumMachinesManager import QuantumMachinesManager\n",
    "from configuration import *\n",
    "from quam import QuAM"
   ]
  },
  {
   "cell_type": "code",
   "execution_count": 708,
   "id": "94f0dc92",
   "metadata": {},
   "outputs": [
    {
     "name": "stdout",
     "output_type": "stream",
     "text": [
      "[6054816000.0, 6269223000.0, 6422578000.0]\n"
     ]
    }
   ],
   "source": [
    "# First, figure our array of LOs \n",
    "\n",
    "ff_amp_sweep = np.arange(-0.8,0.8+1E-5,0.1) # fast flux sweep parameters\n",
    "# as this will be a 'fixed' QUA variable, we keep the python array as a float array\n",
    "\n",
    "# estimated qubit frequency range\n",
    "qubit_freq_fit = poly2(ff_amp_sweep* machine.flux_lines[qubit_index].flux_pulse_amp, *fit_params)\n",
    "qubit_freq_fit = qubit_freq_fit*1e3 #expected qubit frequencies as a function of flux based on 2nd order poly in kHz\n",
    "q_freq_est = qubit_freq_fit.astype(int) # if using int variables in QUA, you need to provide int python variables\n",
    "\n",
    "# sweep around estimated qubit frequency\n",
    "q_freq_sweep = np.arange(-50, 50 +1, 1) \n",
    "\n",
    "# create LO frequency array\n",
    "lo_sep = 50e6 # desired separation between LO and maximum frequency of qubit\n",
    "bound_up = -50 # so qubit freq is never too close to LO freq\n",
    "bound_down = -300\n",
    "LO_sep = 300e6\n",
    "\n",
    "IF_array =[]\n",
    "LO_array = []\n",
    "LO_array.append(np.min(q_freq_est)*1E3 + np.min(q_freq_sweep)*1e6 + LO_sep)\n",
    "index = 0\n",
    "q_freq_est_sorted = np.sort(q_freq_est)\n",
    "for n in q_freq_est_sorted:\n",
    "    IF = n*1e3 - LO_array[index]\n",
    "    if ((IF+np.min(q_freq_sweep)*1e6)<bound_down*1e6) or ((IF+np.max(q_freq_sweep)*1e6)>=bound_up*1e6):\n",
    "        LO_array.append(n*1e3+np.min(q_freq_sweep)*1e6 + LO_sep)\n",
    "        index += 1\n",
    "        IF_array.append(n*1e3 - LO_array[index])\n",
    "    else: \n",
    "        IF_array.append(IF)\n",
    "        \n",
    "print(LO_array)"
   ]
  },
  {
   "cell_type": "code",
   "execution_count": 709,
   "id": "19e3c6a1",
   "metadata": {},
   "outputs": [
    {
     "data": {
      "text/plain": [
       "6296460977.0"
      ]
     },
     "execution_count": 709,
     "metadata": {},
     "output_type": "execute_result"
    }
   ],
   "source": [
    "machine.qubits[0].f_01"
   ]
  },
  {
   "cell_type": "code",
   "execution_count": 776,
   "id": "2e6ef499",
   "metadata": {},
   "outputs": [
    {
     "name": "stdout",
     "output_type": "stream",
     "text": [
      "------------------------------------- Calibrates r0 for (LO, IF) = (7.206 GHz, 56.520 MHz)\n",
      "------------------------------------- Calibrates q0 for (LO, IF) = (6.055 GHz, -50.000 MHz)\n"
     ]
    },
    {
     "ename": "ValueError",
     "evalue": "Document with ID 50 already exists",
     "output_type": "error",
     "traceback": [
      "\u001b[1;31m---------------------------------------------------------------------------\u001b[0m",
      "\u001b[1;31mValueError\u001b[0m                                Traceback (most recent call last)",
      "File \u001b[1;32m~\\QM\\QM_UALA\\octave_configuration.py:36\u001b[0m\n\u001b[0;32m     29\u001b[0m config \u001b[38;5;241m=\u001b[39m build_config(machine)\n\u001b[0;32m     30\u001b[0m \u001b[38;5;66;03m# set to external clock #\u001b[39;00m\n\u001b[0;32m     31\u001b[0m \u001b[38;5;66;03m###########################\u001b[39;00m\n\u001b[0;32m     32\u001b[0m \u001b[38;5;66;03m#qm = qmm.open_qm(config)\u001b[39;00m\n\u001b[0;32m     33\u001b[0m \u001b[38;5;66;03m#qm.octave.set_clock(\"octave1\", clock_mode=ClockMode.External_10MHz)\u001b[39;00m\n\u001b[0;32m     34\u001b[0m \u001b[38;5;66;03m# qm.octave.set_clock(\"octave1\", ClockType.External_10MHz)\u001b[39;00m\n\u001b[1;32m---> 36\u001b[0m \u001b[43moctave_settings\u001b[49m\u001b[43m(\u001b[49m\n\u001b[0;32m     37\u001b[0m \u001b[43m    \u001b[49m\u001b[43mqmm\u001b[49m\u001b[38;5;241;43m=\u001b[39;49m\u001b[43mqmm\u001b[49m\u001b[43m,\u001b[49m\n\u001b[0;32m     38\u001b[0m \u001b[43m    \u001b[49m\u001b[43mconfig\u001b[49m\u001b[38;5;241;43m=\u001b[39;49m\u001b[43mconfig\u001b[49m\u001b[43m,\u001b[49m\n\u001b[0;32m     39\u001b[0m \u001b[43m    \u001b[49m\u001b[43moctaves\u001b[49m\u001b[38;5;241;43m=\u001b[39;49m\u001b[43moctaves\u001b[49m\u001b[43m,\u001b[49m\n\u001b[0;32m     40\u001b[0m \u001b[43m    \u001b[49m\u001b[43melements_settings\u001b[49m\u001b[38;5;241;43m=\u001b[39;49m\u001b[43melements_settings\u001b[49m\u001b[43m,\u001b[49m\n\u001b[0;32m     41\u001b[0m \u001b[43m    \u001b[49m\u001b[43mcalibration\u001b[49m\u001b[38;5;241;43m=\u001b[39;49m\u001b[38;5;28;43;01mTrue\u001b[39;49;00m\u001b[43m,\u001b[49m\n\u001b[0;32m     42\u001b[0m \u001b[43m)\u001b[49m\n\u001b[0;32m     44\u001b[0m qmm\u001b[38;5;241m.\u001b[39mclose()\n",
      "File \u001b[1;32m~\\QM\\QM_UALA\\set_octave.py:279\u001b[0m, in \u001b[0;36moctave_settings\u001b[1;34m(qmm, config, octaves, elements_settings, calibration)\u001b[0m\n\u001b[0;32m    274\u001b[0m IF \u001b[38;5;241m=\u001b[39m \u001b[38;5;28mfloat\u001b[39m(config[\u001b[38;5;124m\"\u001b[39m\u001b[38;5;124melements\u001b[39m\u001b[38;5;124m\"\u001b[39m][elements_settings[i]\u001b[38;5;241m.\u001b[39mname][\u001b[38;5;124m\"\u001b[39m\u001b[38;5;124mintermediate_frequency\u001b[39m\u001b[38;5;124m\"\u001b[39m])\n\u001b[0;32m    275\u001b[0m \u001b[38;5;28mprint\u001b[39m(\n\u001b[0;32m    276\u001b[0m     \u001b[38;5;124m\"\u001b[39m\u001b[38;5;124m-\u001b[39m\u001b[38;5;124m\"\u001b[39m \u001b[38;5;241m*\u001b[39m \u001b[38;5;241m37\u001b[39m\n\u001b[0;32m    277\u001b[0m     \u001b[38;5;241m+\u001b[39m \u001b[38;5;124mf\u001b[39m\u001b[38;5;124m\"\u001b[39m\u001b[38;5;124m Calibrates \u001b[39m\u001b[38;5;132;01m{\u001b[39;00melements_settings[i]\u001b[38;5;241m.\u001b[39mname\u001b[38;5;132;01m}\u001b[39;00m\u001b[38;5;124m for (LO, IF) = (\u001b[39m\u001b[38;5;132;01m{\u001b[39;00mLO\u001b[38;5;241m*\u001b[39m\u001b[38;5;241m1e-9\u001b[39m\u001b[38;5;132;01m:\u001b[39;00m\u001b[38;5;124m.3f\u001b[39m\u001b[38;5;132;01m}\u001b[39;00m\u001b[38;5;124m GHz, \u001b[39m\u001b[38;5;132;01m{\u001b[39;00mIF\u001b[38;5;241m*\u001b[39m\u001b[38;5;241m1e-6\u001b[39m\u001b[38;5;132;01m:\u001b[39;00m\u001b[38;5;124m.3f\u001b[39m\u001b[38;5;132;01m}\u001b[39;00m\u001b[38;5;124m MHz)\u001b[39m\u001b[38;5;124m\"\u001b[39m\n\u001b[0;32m    278\u001b[0m )\n\u001b[1;32m--> 279\u001b[0m \u001b[43mqm\u001b[49m\u001b[38;5;241;43m.\u001b[39;49m\u001b[43moctave\u001b[49m\u001b[38;5;241;43m.\u001b[39;49m\u001b[43mcalibrate_element\u001b[49m\u001b[43m(\u001b[49m\u001b[43melements_settings\u001b[49m\u001b[43m[\u001b[49m\u001b[43mi\u001b[49m\u001b[43m]\u001b[49m\u001b[38;5;241;43m.\u001b[39;49m\u001b[43mname\u001b[49m\u001b[43m,\u001b[49m\u001b[43m \u001b[49m\u001b[43m[\u001b[49m\u001b[43m(\u001b[49m\u001b[43mLO\u001b[49m\u001b[43m,\u001b[49m\u001b[43m \u001b[49m\u001b[43mIF\u001b[49m\u001b[43m)\u001b[49m\u001b[43m]\u001b[49m\u001b[43m)\u001b[49m\n\u001b[0;32m    280\u001b[0m \u001b[38;5;66;03m# Re-open a quantum machine to apply the calibration parameters\u001b[39;00m\n\u001b[0;32m    281\u001b[0m qm \u001b[38;5;241m=\u001b[39m qmm\u001b[38;5;241m.\u001b[39mopen_qm(config)\n",
      "File \u001b[1;32m~\\AppData\\Roaming\\Python\\Python38\\site-packages\\qm\\octave\\qm_octave.py:181\u001b[0m, in \u001b[0;36mQmOctave.calibrate_element\u001b[1;34m(self, element, lo_if_frequencies_tuple_list, save_to_db, close_open_quantum_machines, **kwargs)\u001b[0m\n\u001b[0;32m    178\u001b[0m     lo_frequency \u001b[38;5;241m=\u001b[39m inst\u001b[38;5;241m.\u001b[39mlo_frequency\n\u001b[0;32m    179\u001b[0m     lo_if_frequencies_tuple_list \u001b[38;5;241m=\u001b[39m [(if_frequency, lo_frequency)]\n\u001b[1;32m--> 181\u001b[0m \u001b[38;5;28;01mreturn\u001b[39;00m \u001b[38;5;28;43mself\u001b[39;49m\u001b[38;5;241;43m.\u001b[39;49m\u001b[43m_octave_manager\u001b[49m\u001b[38;5;241;43m.\u001b[39;49m\u001b[43mcalibrate\u001b[49m\u001b[43m(\u001b[49m\n\u001b[0;32m    182\u001b[0m \u001b[43m    \u001b[49m\u001b[43moctave_port\u001b[49m\u001b[43m,\u001b[49m\n\u001b[0;32m    183\u001b[0m \u001b[43m    \u001b[49m\u001b[43mlo_if_frequencies_tuple_list\u001b[49m\u001b[43m,\u001b[49m\n\u001b[0;32m    184\u001b[0m \u001b[43m    \u001b[49m\u001b[43msave_to_db\u001b[49m\u001b[43m,\u001b[49m\n\u001b[0;32m    185\u001b[0m \u001b[43m    \u001b[49m\u001b[43mclose_open_quantum_machines\u001b[49m\u001b[43m,\u001b[49m\n\u001b[0;32m    186\u001b[0m \u001b[43m    \u001b[49m\u001b[38;5;241;43m*\u001b[39;49m\u001b[38;5;241;43m*\u001b[39;49m\u001b[43mkwargs\u001b[49m\u001b[43m,\u001b[49m\n\u001b[0;32m    187\u001b[0m \u001b[43m\u001b[49m\u001b[43m)\u001b[49m\n",
      "File \u001b[1;32m~\\AppData\\Roaming\\Python\\Python38\\site-packages\\qm\\octave\\octave_manager.py:499\u001b[0m, in \u001b[0;36mOctaveManager.calibrate\u001b[1;34m(self, octave_output_port, lo_if_frequencies_tuple_list, save_to_db, close_open_quantum_machines, optimizer_parameters, **kwargs)\u001b[0m\n\u001b[0;32m    487\u001b[0m     result[lo_freq, if_freq] \u001b[38;5;241m=\u001b[39m CalibrationResult(\n\u001b[0;32m    488\u001b[0m         mixer_id\u001b[38;5;241m=\u001b[39moctave_output_mixer_name(\u001b[38;5;241m*\u001b[39moctave_output_port),\n\u001b[0;32m    489\u001b[0m         correction\u001b[38;5;241m=\u001b[39mcorrection,\n\u001b[1;32m   (...)\u001b[0m\n\u001b[0;32m    495\u001b[0m         optimizer_parameters\u001b[38;5;241m=\u001b[39moptimizer_parameters,\n\u001b[0;32m    496\u001b[0m     )\n\u001b[0;32m    498\u001b[0m     \u001b[38;5;28;01mif\u001b[39;00m save_to_db \u001b[38;5;129;01mand\u001b[39;00m \u001b[38;5;28mself\u001b[39m\u001b[38;5;241m.\u001b[39m_octave_config\u001b[38;5;241m.\u001b[39mcalibration_db \u001b[38;5;129;01mis\u001b[39;00m \u001b[38;5;129;01mnot\u001b[39;00m \u001b[38;5;28;01mNone\u001b[39;00m:\n\u001b[1;32m--> 499\u001b[0m         \u001b[38;5;28;43mself\u001b[39;49m\u001b[38;5;241;43m.\u001b[39;49m\u001b[43m_octave_config\u001b[49m\u001b[38;5;241;43m.\u001b[39;49m\u001b[43mcalibration_db\u001b[49m\u001b[38;5;241;43m.\u001b[39;49m\u001b[43mupdate_calibration_data\u001b[49m\u001b[43m(\u001b[49m\u001b[43mresult\u001b[49m\u001b[43m[\u001b[49m\u001b[43mlo_freq\u001b[49m\u001b[43m,\u001b[49m\u001b[43m \u001b[49m\u001b[43mif_freq\u001b[49m\u001b[43m]\u001b[49m\u001b[43m)\u001b[49m\n\u001b[0;32m    501\u001b[0m \u001b[38;5;66;03m# set to previous state\u001b[39;00m\n\u001b[0;32m    502\u001b[0m t_start_restoration \u001b[38;5;241m=\u001b[39m perf_counter()\n",
      "File \u001b[1;32m~\\AppData\\Roaming\\Python\\Python38\\site-packages\\qm\\octave\\calibration_db.py:43\u001b[0m, in \u001b[0;36mCalibrationDB.update_calibration_data\u001b[1;34m(self, data)\u001b[0m\n\u001b[0;32m     41\u001b[0m query \u001b[38;5;241m=\u001b[39m Query()\n\u001b[0;32m     42\u001b[0m \u001b[38;5;28;01mfor\u001b[39;00m result \u001b[38;5;129;01min\u001b[39;00m data:\n\u001b[1;32m---> 43\u001b[0m     \u001b[38;5;28;43mself\u001b[39;49m\u001b[38;5;241;43m.\u001b[39;49m\u001b[43m_db\u001b[49m\u001b[38;5;241;43m.\u001b[39;49m\u001b[43mupsert\u001b[49m\u001b[43m(\u001b[49m\n\u001b[0;32m     44\u001b[0m \u001b[43m        \u001b[49m\u001b[43masdict\u001b[49m\u001b[43m(\u001b[49m\u001b[43mresult\u001b[49m\u001b[43m)\u001b[49m\u001b[43m,\u001b[49m\n\u001b[0;32m     45\u001b[0m \u001b[43m        \u001b[49m\u001b[43m(\u001b[49m\u001b[43mquery\u001b[49m\u001b[38;5;241;43m.\u001b[39;49m\u001b[43mmixer_id\u001b[49m\u001b[43m \u001b[49m\u001b[38;5;241;43m==\u001b[39;49m\u001b[43m \u001b[49m\u001b[43mresult\u001b[49m\u001b[38;5;241;43m.\u001b[39;49m\u001b[43mmixer_id\u001b[49m\u001b[43m)\u001b[49m\n\u001b[0;32m     46\u001b[0m \u001b[43m        \u001b[49m\u001b[38;5;241;43m&\u001b[39;49m\u001b[43m \u001b[49m\u001b[43m(\u001b[49m\u001b[43mquery\u001b[49m\u001b[38;5;241;43m.\u001b[39;49m\u001b[43mlo_frequency\u001b[49m\u001b[43m \u001b[49m\u001b[38;5;241;43m==\u001b[39;49m\u001b[43m \u001b[49m\u001b[43mresult\u001b[49m\u001b[38;5;241;43m.\u001b[39;49m\u001b[43mlo_frequency\u001b[49m\u001b[43m)\u001b[49m\n\u001b[0;32m     47\u001b[0m \u001b[43m        \u001b[49m\u001b[38;5;241;43m&\u001b[39;49m\u001b[43m \u001b[49m\u001b[43m(\u001b[49m\u001b[43mquery\u001b[49m\u001b[38;5;241;43m.\u001b[39;49m\u001b[43mif_frequency\u001b[49m\u001b[43m \u001b[49m\u001b[38;5;241;43m==\u001b[39;49m\u001b[43m \u001b[49m\u001b[43mresult\u001b[49m\u001b[38;5;241;43m.\u001b[39;49m\u001b[43mif_frequency\u001b[49m\u001b[43m)\u001b[49m\u001b[43m,\u001b[49m\n\u001b[0;32m     48\u001b[0m \u001b[43m    \u001b[49m\u001b[43m)\u001b[49m\n",
      "File \u001b[1;32m~\\AppData\\Roaming\\Python\\Python38\\site-packages\\tinydb\\table.py:548\u001b[0m, in \u001b[0;36mTable.upsert\u001b[1;34m(self, document, cond)\u001b[0m\n\u001b[0;32m    544\u001b[0m     \u001b[38;5;28;01mreturn\u001b[39;00m updated_docs\n\u001b[0;32m    546\u001b[0m \u001b[38;5;66;03m# There are no documents that match the specified query -> insert the\u001b[39;00m\n\u001b[0;32m    547\u001b[0m \u001b[38;5;66;03m# data as a new document\u001b[39;00m\n\u001b[1;32m--> 548\u001b[0m \u001b[38;5;28;01mreturn\u001b[39;00m [\u001b[38;5;28;43mself\u001b[39;49m\u001b[38;5;241;43m.\u001b[39;49m\u001b[43minsert\u001b[49m\u001b[43m(\u001b[49m\u001b[43mdocument\u001b[49m\u001b[43m)\u001b[49m]\n",
      "File \u001b[1;32m~\\AppData\\Roaming\\Python\\Python38\\site-packages\\tinydb\\table.py:173\u001b[0m, in \u001b[0;36mTable.insert\u001b[1;34m(self, document)\u001b[0m\n\u001b[0;32m    170\u001b[0m     table[doc_id] \u001b[38;5;241m=\u001b[39m \u001b[38;5;28mdict\u001b[39m(document)\n\u001b[0;32m    172\u001b[0m \u001b[38;5;66;03m# See below for details on ``Table._update``\u001b[39;00m\n\u001b[1;32m--> 173\u001b[0m \u001b[38;5;28;43mself\u001b[39;49m\u001b[38;5;241;43m.\u001b[39;49m\u001b[43m_update_table\u001b[49m\u001b[43m(\u001b[49m\u001b[43mupdater\u001b[49m\u001b[43m)\u001b[49m\n\u001b[0;32m    175\u001b[0m \u001b[38;5;28;01mreturn\u001b[39;00m doc_id\n",
      "File \u001b[1;32m~\\AppData\\Roaming\\Python\\Python38\\site-packages\\tinydb\\table.py:755\u001b[0m, in \u001b[0;36mTable._update_table\u001b[1;34m(self, updater)\u001b[0m\n\u001b[0;32m    749\u001b[0m table \u001b[38;5;241m=\u001b[39m {\n\u001b[0;32m    750\u001b[0m     \u001b[38;5;28mself\u001b[39m\u001b[38;5;241m.\u001b[39mdocument_id_class(doc_id): doc\n\u001b[0;32m    751\u001b[0m     \u001b[38;5;28;01mfor\u001b[39;00m doc_id, doc \u001b[38;5;129;01min\u001b[39;00m raw_table\u001b[38;5;241m.\u001b[39mitems()\n\u001b[0;32m    752\u001b[0m }\n\u001b[0;32m    754\u001b[0m \u001b[38;5;66;03m# Perform the table update operation\u001b[39;00m\n\u001b[1;32m--> 755\u001b[0m \u001b[43mupdater\u001b[49m\u001b[43m(\u001b[49m\u001b[43mtable\u001b[49m\u001b[43m)\u001b[49m\n\u001b[0;32m    757\u001b[0m \u001b[38;5;66;03m# Convert the document IDs back to strings.\u001b[39;00m\n\u001b[0;32m    758\u001b[0m \u001b[38;5;66;03m# This is required as some storages (most notably the JSON file format)\u001b[39;00m\n\u001b[0;32m    759\u001b[0m \u001b[38;5;66;03m# don't support IDs other than strings.\u001b[39;00m\n\u001b[0;32m    760\u001b[0m tables[\u001b[38;5;28mself\u001b[39m\u001b[38;5;241m.\u001b[39mname] \u001b[38;5;241m=\u001b[39m {\n\u001b[0;32m    761\u001b[0m     \u001b[38;5;28mstr\u001b[39m(doc_id): doc\n\u001b[0;32m    762\u001b[0m     \u001b[38;5;28;01mfor\u001b[39;00m doc_id, doc \u001b[38;5;129;01min\u001b[39;00m table\u001b[38;5;241m.\u001b[39mitems()\n\u001b[0;32m    763\u001b[0m }\n",
      "File \u001b[1;32m~\\AppData\\Roaming\\Python\\Python38\\site-packages\\tinydb\\table.py:164\u001b[0m, in \u001b[0;36mTable.insert.<locals>.updater\u001b[1;34m(table)\u001b[0m\n\u001b[0;32m    162\u001b[0m \u001b[38;5;28;01mdef\u001b[39;00m \u001b[38;5;21mupdater\u001b[39m(table: \u001b[38;5;28mdict\u001b[39m):\n\u001b[0;32m    163\u001b[0m     \u001b[38;5;28;01mif\u001b[39;00m doc_id \u001b[38;5;129;01min\u001b[39;00m table:\n\u001b[1;32m--> 164\u001b[0m         \u001b[38;5;28;01mraise\u001b[39;00m \u001b[38;5;167;01mValueError\u001b[39;00m(\u001b[38;5;124mf\u001b[39m\u001b[38;5;124m'\u001b[39m\u001b[38;5;124mDocument with ID \u001b[39m\u001b[38;5;132;01m{\u001b[39;00m\u001b[38;5;28mstr\u001b[39m(doc_id)\u001b[38;5;132;01m}\u001b[39;00m\u001b[38;5;124m \u001b[39m\u001b[38;5;124m'\u001b[39m\n\u001b[0;32m    165\u001b[0m                          \u001b[38;5;124mf\u001b[39m\u001b[38;5;124m'\u001b[39m\u001b[38;5;124malready exists\u001b[39m\u001b[38;5;124m'\u001b[39m)\n\u001b[0;32m    167\u001b[0m     \u001b[38;5;66;03m# By calling ``dict(document)`` we convert the data we got to a\u001b[39;00m\n\u001b[0;32m    168\u001b[0m     \u001b[38;5;66;03m# ``dict`` instance even if it was a different class that\u001b[39;00m\n\u001b[0;32m    169\u001b[0m     \u001b[38;5;66;03m# implemented the ``Mapping`` interface\u001b[39;00m\n\u001b[0;32m    170\u001b[0m     table[doc_id] \u001b[38;5;241m=\u001b[39m \u001b[38;5;28mdict\u001b[39m(document)\n",
      "\u001b[1;31mValueError\u001b[0m: Document with ID 50 already exists"
     ]
    }
   ],
   "source": [
    "run octave_configuration.py"
   ]
  },
  {
   "cell_type": "code",
   "execution_count": 768,
   "id": "ec827246",
   "metadata": {},
   "outputs": [],
   "source": [
    "resonator = ElementsSettings(\"r0\", gain=0, rf_in_port=[\"octave1\", 1], down_convert_LO_source=\"Internal\")\n",
    "qubit = ElementsSettings(\"q0\", gain=0)\n",
    "elements_settings = [resonator, qubit]"
   ]
  },
  {
   "cell_type": "code",
   "execution_count": 779,
   "id": "57df1186",
   "metadata": {},
   "outputs": [
    {
     "name": "stdout",
     "output_type": "stream",
     "text": [
      "2023-09-27 17:11:27,646 - qm - INFO     - Performing health check\n"
     ]
    },
    {
     "name": "stderr",
     "output_type": "stream",
     "text": [
      "INFO:qm.api.frontend_api:Performing health check\n"
     ]
    },
    {
     "name": "stdout",
     "output_type": "stream",
     "text": [
      "2023-09-27 17:11:27,657 - qm - INFO     - Health check passed\n"
     ]
    },
    {
     "name": "stderr",
     "output_type": "stream",
     "text": [
      "INFO:qm.api.frontend_api:Health check passed\n"
     ]
    },
    {
     "name": "stdout",
     "output_type": "stream",
     "text": [
      "------------------------------------- Calibrates r0 for (LO, IF) = (7.206 GHz, 56.520 MHz)\n",
      "------------------------------------- Calibrates q0 for (LO, IF) = (6.055 GHz, -100.000 MHz)\n"
     ]
    },
    {
     "ename": "ValueError",
     "evalue": "Document with ID 51 already exists",
     "output_type": "error",
     "traceback": [
      "\u001b[1;31m---------------------------------------------------------------------------\u001b[0m",
      "\u001b[1;31mValueError\u001b[0m                                Traceback (most recent call last)",
      "File \u001b[1;32m~\\QM\\QM_UALA\\octave_configuration.py:36\u001b[0m\n\u001b[0;32m     29\u001b[0m config \u001b[38;5;241m=\u001b[39m build_config(machine)\n\u001b[0;32m     30\u001b[0m \u001b[38;5;66;03m# set to external clock #\u001b[39;00m\n\u001b[0;32m     31\u001b[0m \u001b[38;5;66;03m###########################\u001b[39;00m\n\u001b[0;32m     32\u001b[0m \u001b[38;5;66;03m#qm = qmm.open_qm(config)\u001b[39;00m\n\u001b[0;32m     33\u001b[0m \u001b[38;5;66;03m#qm.octave.set_clock(\"octave1\", clock_mode=ClockMode.External_10MHz)\u001b[39;00m\n\u001b[0;32m     34\u001b[0m \u001b[38;5;66;03m# qm.octave.set_clock(\"octave1\", ClockType.External_10MHz)\u001b[39;00m\n\u001b[1;32m---> 36\u001b[0m \u001b[43moctave_settings\u001b[49m\u001b[43m(\u001b[49m\n\u001b[0;32m     37\u001b[0m \u001b[43m    \u001b[49m\u001b[43mqmm\u001b[49m\u001b[38;5;241;43m=\u001b[39;49m\u001b[43mqmm\u001b[49m\u001b[43m,\u001b[49m\n\u001b[0;32m     38\u001b[0m \u001b[43m    \u001b[49m\u001b[43mconfig\u001b[49m\u001b[38;5;241;43m=\u001b[39;49m\u001b[43mconfig\u001b[49m\u001b[43m,\u001b[49m\n\u001b[0;32m     39\u001b[0m \u001b[43m    \u001b[49m\u001b[43moctaves\u001b[49m\u001b[38;5;241;43m=\u001b[39;49m\u001b[43moctaves\u001b[49m\u001b[43m,\u001b[49m\n\u001b[0;32m     40\u001b[0m \u001b[43m    \u001b[49m\u001b[43melements_settings\u001b[49m\u001b[38;5;241;43m=\u001b[39;49m\u001b[43melements_settings\u001b[49m\u001b[43m,\u001b[49m\n\u001b[0;32m     41\u001b[0m \u001b[43m    \u001b[49m\u001b[43mcalibration\u001b[49m\u001b[38;5;241;43m=\u001b[39;49m\u001b[38;5;28;43;01mTrue\u001b[39;49;00m\u001b[43m,\u001b[49m\n\u001b[0;32m     42\u001b[0m \u001b[43m)\u001b[49m\n\u001b[0;32m     44\u001b[0m qmm\u001b[38;5;241m.\u001b[39mclose()\n",
      "File \u001b[1;32m~\\QM\\QM_UALA\\set_octave.py:279\u001b[0m, in \u001b[0;36moctave_settings\u001b[1;34m(qmm, config, octaves, elements_settings, calibration)\u001b[0m\n\u001b[0;32m    274\u001b[0m IF \u001b[38;5;241m=\u001b[39m \u001b[38;5;28mfloat\u001b[39m(config[\u001b[38;5;124m\"\u001b[39m\u001b[38;5;124melements\u001b[39m\u001b[38;5;124m\"\u001b[39m][elements_settings[i]\u001b[38;5;241m.\u001b[39mname][\u001b[38;5;124m\"\u001b[39m\u001b[38;5;124mintermediate_frequency\u001b[39m\u001b[38;5;124m\"\u001b[39m])\n\u001b[0;32m    275\u001b[0m \u001b[38;5;28mprint\u001b[39m(\n\u001b[0;32m    276\u001b[0m     \u001b[38;5;124m\"\u001b[39m\u001b[38;5;124m-\u001b[39m\u001b[38;5;124m\"\u001b[39m \u001b[38;5;241m*\u001b[39m \u001b[38;5;241m37\u001b[39m\n\u001b[0;32m    277\u001b[0m     \u001b[38;5;241m+\u001b[39m \u001b[38;5;124mf\u001b[39m\u001b[38;5;124m\"\u001b[39m\u001b[38;5;124m Calibrates \u001b[39m\u001b[38;5;132;01m{\u001b[39;00melements_settings[i]\u001b[38;5;241m.\u001b[39mname\u001b[38;5;132;01m}\u001b[39;00m\u001b[38;5;124m for (LO, IF) = (\u001b[39m\u001b[38;5;132;01m{\u001b[39;00mLO\u001b[38;5;241m*\u001b[39m\u001b[38;5;241m1e-9\u001b[39m\u001b[38;5;132;01m:\u001b[39;00m\u001b[38;5;124m.3f\u001b[39m\u001b[38;5;132;01m}\u001b[39;00m\u001b[38;5;124m GHz, \u001b[39m\u001b[38;5;132;01m{\u001b[39;00mIF\u001b[38;5;241m*\u001b[39m\u001b[38;5;241m1e-6\u001b[39m\u001b[38;5;132;01m:\u001b[39;00m\u001b[38;5;124m.3f\u001b[39m\u001b[38;5;132;01m}\u001b[39;00m\u001b[38;5;124m MHz)\u001b[39m\u001b[38;5;124m\"\u001b[39m\n\u001b[0;32m    278\u001b[0m )\n\u001b[1;32m--> 279\u001b[0m \u001b[43mqm\u001b[49m\u001b[38;5;241;43m.\u001b[39;49m\u001b[43moctave\u001b[49m\u001b[38;5;241;43m.\u001b[39;49m\u001b[43mcalibrate_element\u001b[49m\u001b[43m(\u001b[49m\u001b[43melements_settings\u001b[49m\u001b[43m[\u001b[49m\u001b[43mi\u001b[49m\u001b[43m]\u001b[49m\u001b[38;5;241;43m.\u001b[39;49m\u001b[43mname\u001b[49m\u001b[43m,\u001b[49m\u001b[43m \u001b[49m\u001b[43m[\u001b[49m\u001b[43m(\u001b[49m\u001b[43mLO\u001b[49m\u001b[43m,\u001b[49m\u001b[43m \u001b[49m\u001b[43mIF\u001b[49m\u001b[43m)\u001b[49m\u001b[43m]\u001b[49m\u001b[43m)\u001b[49m\n\u001b[0;32m    280\u001b[0m \u001b[38;5;66;03m# Re-open a quantum machine to apply the calibration parameters\u001b[39;00m\n\u001b[0;32m    281\u001b[0m qm \u001b[38;5;241m=\u001b[39m qmm\u001b[38;5;241m.\u001b[39mopen_qm(config)\n",
      "File \u001b[1;32m~\\AppData\\Roaming\\Python\\Python38\\site-packages\\qm\\octave\\qm_octave.py:181\u001b[0m, in \u001b[0;36mQmOctave.calibrate_element\u001b[1;34m(self, element, lo_if_frequencies_tuple_list, save_to_db, close_open_quantum_machines, **kwargs)\u001b[0m\n\u001b[0;32m    178\u001b[0m     lo_frequency \u001b[38;5;241m=\u001b[39m inst\u001b[38;5;241m.\u001b[39mlo_frequency\n\u001b[0;32m    179\u001b[0m     lo_if_frequencies_tuple_list \u001b[38;5;241m=\u001b[39m [(if_frequency, lo_frequency)]\n\u001b[1;32m--> 181\u001b[0m \u001b[38;5;28;01mreturn\u001b[39;00m \u001b[38;5;28;43mself\u001b[39;49m\u001b[38;5;241;43m.\u001b[39;49m\u001b[43m_octave_manager\u001b[49m\u001b[38;5;241;43m.\u001b[39;49m\u001b[43mcalibrate\u001b[49m\u001b[43m(\u001b[49m\n\u001b[0;32m    182\u001b[0m \u001b[43m    \u001b[49m\u001b[43moctave_port\u001b[49m\u001b[43m,\u001b[49m\n\u001b[0;32m    183\u001b[0m \u001b[43m    \u001b[49m\u001b[43mlo_if_frequencies_tuple_list\u001b[49m\u001b[43m,\u001b[49m\n\u001b[0;32m    184\u001b[0m \u001b[43m    \u001b[49m\u001b[43msave_to_db\u001b[49m\u001b[43m,\u001b[49m\n\u001b[0;32m    185\u001b[0m \u001b[43m    \u001b[49m\u001b[43mclose_open_quantum_machines\u001b[49m\u001b[43m,\u001b[49m\n\u001b[0;32m    186\u001b[0m \u001b[43m    \u001b[49m\u001b[38;5;241;43m*\u001b[39;49m\u001b[38;5;241;43m*\u001b[39;49m\u001b[43mkwargs\u001b[49m\u001b[43m,\u001b[49m\n\u001b[0;32m    187\u001b[0m \u001b[43m\u001b[49m\u001b[43m)\u001b[49m\n",
      "File \u001b[1;32m~\\AppData\\Roaming\\Python\\Python38\\site-packages\\qm\\octave\\octave_manager.py:499\u001b[0m, in \u001b[0;36mOctaveManager.calibrate\u001b[1;34m(self, octave_output_port, lo_if_frequencies_tuple_list, save_to_db, close_open_quantum_machines, optimizer_parameters, **kwargs)\u001b[0m\n\u001b[0;32m    487\u001b[0m     result[lo_freq, if_freq] \u001b[38;5;241m=\u001b[39m CalibrationResult(\n\u001b[0;32m    488\u001b[0m         mixer_id\u001b[38;5;241m=\u001b[39moctave_output_mixer_name(\u001b[38;5;241m*\u001b[39moctave_output_port),\n\u001b[0;32m    489\u001b[0m         correction\u001b[38;5;241m=\u001b[39mcorrection,\n\u001b[1;32m   (...)\u001b[0m\n\u001b[0;32m    495\u001b[0m         optimizer_parameters\u001b[38;5;241m=\u001b[39moptimizer_parameters,\n\u001b[0;32m    496\u001b[0m     )\n\u001b[0;32m    498\u001b[0m     \u001b[38;5;28;01mif\u001b[39;00m save_to_db \u001b[38;5;129;01mand\u001b[39;00m \u001b[38;5;28mself\u001b[39m\u001b[38;5;241m.\u001b[39m_octave_config\u001b[38;5;241m.\u001b[39mcalibration_db \u001b[38;5;129;01mis\u001b[39;00m \u001b[38;5;129;01mnot\u001b[39;00m \u001b[38;5;28;01mNone\u001b[39;00m:\n\u001b[1;32m--> 499\u001b[0m         \u001b[38;5;28;43mself\u001b[39;49m\u001b[38;5;241;43m.\u001b[39;49m\u001b[43m_octave_config\u001b[49m\u001b[38;5;241;43m.\u001b[39;49m\u001b[43mcalibration_db\u001b[49m\u001b[38;5;241;43m.\u001b[39;49m\u001b[43mupdate_calibration_data\u001b[49m\u001b[43m(\u001b[49m\u001b[43mresult\u001b[49m\u001b[43m[\u001b[49m\u001b[43mlo_freq\u001b[49m\u001b[43m,\u001b[49m\u001b[43m \u001b[49m\u001b[43mif_freq\u001b[49m\u001b[43m]\u001b[49m\u001b[43m)\u001b[49m\n\u001b[0;32m    501\u001b[0m \u001b[38;5;66;03m# set to previous state\u001b[39;00m\n\u001b[0;32m    502\u001b[0m t_start_restoration \u001b[38;5;241m=\u001b[39m perf_counter()\n",
      "File \u001b[1;32m~\\AppData\\Roaming\\Python\\Python38\\site-packages\\qm\\octave\\calibration_db.py:43\u001b[0m, in \u001b[0;36mCalibrationDB.update_calibration_data\u001b[1;34m(self, data)\u001b[0m\n\u001b[0;32m     41\u001b[0m query \u001b[38;5;241m=\u001b[39m Query()\n\u001b[0;32m     42\u001b[0m \u001b[38;5;28;01mfor\u001b[39;00m result \u001b[38;5;129;01min\u001b[39;00m data:\n\u001b[1;32m---> 43\u001b[0m     \u001b[38;5;28;43mself\u001b[39;49m\u001b[38;5;241;43m.\u001b[39;49m\u001b[43m_db\u001b[49m\u001b[38;5;241;43m.\u001b[39;49m\u001b[43mupsert\u001b[49m\u001b[43m(\u001b[49m\n\u001b[0;32m     44\u001b[0m \u001b[43m        \u001b[49m\u001b[43masdict\u001b[49m\u001b[43m(\u001b[49m\u001b[43mresult\u001b[49m\u001b[43m)\u001b[49m\u001b[43m,\u001b[49m\n\u001b[0;32m     45\u001b[0m \u001b[43m        \u001b[49m\u001b[43m(\u001b[49m\u001b[43mquery\u001b[49m\u001b[38;5;241;43m.\u001b[39;49m\u001b[43mmixer_id\u001b[49m\u001b[43m \u001b[49m\u001b[38;5;241;43m==\u001b[39;49m\u001b[43m \u001b[49m\u001b[43mresult\u001b[49m\u001b[38;5;241;43m.\u001b[39;49m\u001b[43mmixer_id\u001b[49m\u001b[43m)\u001b[49m\n\u001b[0;32m     46\u001b[0m \u001b[43m        \u001b[49m\u001b[38;5;241;43m&\u001b[39;49m\u001b[43m \u001b[49m\u001b[43m(\u001b[49m\u001b[43mquery\u001b[49m\u001b[38;5;241;43m.\u001b[39;49m\u001b[43mlo_frequency\u001b[49m\u001b[43m \u001b[49m\u001b[38;5;241;43m==\u001b[39;49m\u001b[43m \u001b[49m\u001b[43mresult\u001b[49m\u001b[38;5;241;43m.\u001b[39;49m\u001b[43mlo_frequency\u001b[49m\u001b[43m)\u001b[49m\n\u001b[0;32m     47\u001b[0m \u001b[43m        \u001b[49m\u001b[38;5;241;43m&\u001b[39;49m\u001b[43m \u001b[49m\u001b[43m(\u001b[49m\u001b[43mquery\u001b[49m\u001b[38;5;241;43m.\u001b[39;49m\u001b[43mif_frequency\u001b[49m\u001b[43m \u001b[49m\u001b[38;5;241;43m==\u001b[39;49m\u001b[43m \u001b[49m\u001b[43mresult\u001b[49m\u001b[38;5;241;43m.\u001b[39;49m\u001b[43mif_frequency\u001b[49m\u001b[43m)\u001b[49m\u001b[43m,\u001b[49m\n\u001b[0;32m     48\u001b[0m \u001b[43m    \u001b[49m\u001b[43m)\u001b[49m\n",
      "File \u001b[1;32m~\\AppData\\Roaming\\Python\\Python38\\site-packages\\tinydb\\table.py:548\u001b[0m, in \u001b[0;36mTable.upsert\u001b[1;34m(self, document, cond)\u001b[0m\n\u001b[0;32m    544\u001b[0m     \u001b[38;5;28;01mreturn\u001b[39;00m updated_docs\n\u001b[0;32m    546\u001b[0m \u001b[38;5;66;03m# There are no documents that match the specified query -> insert the\u001b[39;00m\n\u001b[0;32m    547\u001b[0m \u001b[38;5;66;03m# data as a new document\u001b[39;00m\n\u001b[1;32m--> 548\u001b[0m \u001b[38;5;28;01mreturn\u001b[39;00m [\u001b[38;5;28;43mself\u001b[39;49m\u001b[38;5;241;43m.\u001b[39;49m\u001b[43minsert\u001b[49m\u001b[43m(\u001b[49m\u001b[43mdocument\u001b[49m\u001b[43m)\u001b[49m]\n",
      "File \u001b[1;32m~\\AppData\\Roaming\\Python\\Python38\\site-packages\\tinydb\\table.py:173\u001b[0m, in \u001b[0;36mTable.insert\u001b[1;34m(self, document)\u001b[0m\n\u001b[0;32m    170\u001b[0m     table[doc_id] \u001b[38;5;241m=\u001b[39m \u001b[38;5;28mdict\u001b[39m(document)\n\u001b[0;32m    172\u001b[0m \u001b[38;5;66;03m# See below for details on ``Table._update``\u001b[39;00m\n\u001b[1;32m--> 173\u001b[0m \u001b[38;5;28;43mself\u001b[39;49m\u001b[38;5;241;43m.\u001b[39;49m\u001b[43m_update_table\u001b[49m\u001b[43m(\u001b[49m\u001b[43mupdater\u001b[49m\u001b[43m)\u001b[49m\n\u001b[0;32m    175\u001b[0m \u001b[38;5;28;01mreturn\u001b[39;00m doc_id\n",
      "File \u001b[1;32m~\\AppData\\Roaming\\Python\\Python38\\site-packages\\tinydb\\table.py:755\u001b[0m, in \u001b[0;36mTable._update_table\u001b[1;34m(self, updater)\u001b[0m\n\u001b[0;32m    749\u001b[0m table \u001b[38;5;241m=\u001b[39m {\n\u001b[0;32m    750\u001b[0m     \u001b[38;5;28mself\u001b[39m\u001b[38;5;241m.\u001b[39mdocument_id_class(doc_id): doc\n\u001b[0;32m    751\u001b[0m     \u001b[38;5;28;01mfor\u001b[39;00m doc_id, doc \u001b[38;5;129;01min\u001b[39;00m raw_table\u001b[38;5;241m.\u001b[39mitems()\n\u001b[0;32m    752\u001b[0m }\n\u001b[0;32m    754\u001b[0m \u001b[38;5;66;03m# Perform the table update operation\u001b[39;00m\n\u001b[1;32m--> 755\u001b[0m \u001b[43mupdater\u001b[49m\u001b[43m(\u001b[49m\u001b[43mtable\u001b[49m\u001b[43m)\u001b[49m\n\u001b[0;32m    757\u001b[0m \u001b[38;5;66;03m# Convert the document IDs back to strings.\u001b[39;00m\n\u001b[0;32m    758\u001b[0m \u001b[38;5;66;03m# This is required as some storages (most notably the JSON file format)\u001b[39;00m\n\u001b[0;32m    759\u001b[0m \u001b[38;5;66;03m# don't support IDs other than strings.\u001b[39;00m\n\u001b[0;32m    760\u001b[0m tables[\u001b[38;5;28mself\u001b[39m\u001b[38;5;241m.\u001b[39mname] \u001b[38;5;241m=\u001b[39m {\n\u001b[0;32m    761\u001b[0m     \u001b[38;5;28mstr\u001b[39m(doc_id): doc\n\u001b[0;32m    762\u001b[0m     \u001b[38;5;28;01mfor\u001b[39;00m doc_id, doc \u001b[38;5;129;01min\u001b[39;00m table\u001b[38;5;241m.\u001b[39mitems()\n\u001b[0;32m    763\u001b[0m }\n",
      "File \u001b[1;32m~\\AppData\\Roaming\\Python\\Python38\\site-packages\\tinydb\\table.py:164\u001b[0m, in \u001b[0;36mTable.insert.<locals>.updater\u001b[1;34m(table)\u001b[0m\n\u001b[0;32m    162\u001b[0m \u001b[38;5;28;01mdef\u001b[39;00m \u001b[38;5;21mupdater\u001b[39m(table: \u001b[38;5;28mdict\u001b[39m):\n\u001b[0;32m    163\u001b[0m     \u001b[38;5;28;01mif\u001b[39;00m doc_id \u001b[38;5;129;01min\u001b[39;00m table:\n\u001b[1;32m--> 164\u001b[0m         \u001b[38;5;28;01mraise\u001b[39;00m \u001b[38;5;167;01mValueError\u001b[39;00m(\u001b[38;5;124mf\u001b[39m\u001b[38;5;124m'\u001b[39m\u001b[38;5;124mDocument with ID \u001b[39m\u001b[38;5;132;01m{\u001b[39;00m\u001b[38;5;28mstr\u001b[39m(doc_id)\u001b[38;5;132;01m}\u001b[39;00m\u001b[38;5;124m \u001b[39m\u001b[38;5;124m'\u001b[39m\n\u001b[0;32m    165\u001b[0m                          \u001b[38;5;124mf\u001b[39m\u001b[38;5;124m'\u001b[39m\u001b[38;5;124malready exists\u001b[39m\u001b[38;5;124m'\u001b[39m)\n\u001b[0;32m    167\u001b[0m     \u001b[38;5;66;03m# By calling ``dict(document)`` we convert the data we got to a\u001b[39;00m\n\u001b[0;32m    168\u001b[0m     \u001b[38;5;66;03m# ``dict`` instance even if it was a different class that\u001b[39;00m\n\u001b[0;32m    169\u001b[0m     \u001b[38;5;66;03m# implemented the ``Mapping`` interface\u001b[39;00m\n\u001b[0;32m    170\u001b[0m     table[doc_id] \u001b[38;5;241m=\u001b[39m \u001b[38;5;28mdict\u001b[39m(document)\n",
      "\u001b[1;31mValueError\u001b[0m: Document with ID 51 already exists"
     ]
    },
    {
     "name": "stdout",
     "output_type": "stream",
     "text": [
      "-0.0279541015625 0.02484130859375 [0.9796853885054588, -0.028956260532140732, -0.027711715549230576, 1.0236834809184074]\n"
     ]
    }
   ],
   "source": [
    "qmm = QuantumMachinesManager(machine.network.qop_ip, port = '9510', octave=octave_config)\n",
    "qm = qmm.open_qm(config)\n",
    "LO_val = LO_array[0]/1e3\n",
    "LO_val = LO_val.tolist()\n",
    "machine.qubits[qubit_index].lo = LO_val * 1e3\n",
    "machine.qubits[qubit_index].f_01 = LO_val * 1e3 - 100e6\n",
    "qm.octave.set_lo_frequency(machine.qubits[qubit_index].name, LO_val * 1e3)\n",
    "machine._save(\"quam_state.json\")\n",
    "\n",
    "%run octave_configuration.py\n",
    "\n",
    "# octave_settings(\n",
    "#     qmm=qmm,\n",
    "#     config=build_config(machine),\n",
    "#     octaves=octaves,\n",
    "#     elements_settings=elements_settings,\n",
    "#     calibration=True,\n",
    "# )\n",
    "# qmm.close()\n",
    "\n",
    "calibration_parameters = json.load(open(\"calibration_db.json\"))[\"_default\"]\n",
    "IF = -150e6\n",
    "for i in calibration_parameters.keys():\n",
    "    if calibration_parameters[i][\"lo_frequency\"] == LO_val * 1e3:\n",
    "        if calibration_parameters[i][\"if_frequency\"] == IF:\n",
    "            I_offset = calibration_parameters[i][\"i_offset\"]\n",
    "            Q_offset = calibration_parameters[i][\"q_offset\"]\n",
    "            correction = calibration_parameters[i][\"correction\"]\n",
    "            print(I_offset, Q_offset, correction)\n",
    "        else:\n",
    "            pass\n",
    "    else:\n",
    "        pass\n",
    "\n"
   ]
  },
  {
   "cell_type": "code",
   "execution_count": 770,
   "id": "efe12bcd",
   "metadata": {},
   "outputs": [
    {
     "name": "stdout",
     "output_type": "stream",
     "text": [
      "------------------------------------- Calibrates r0 for (LO, IF) = (7.206 GHz, 56.520 MHz)\n",
      "2023-09-27 17:02:51,926 - qm - INFO     - Compiling program\n"
     ]
    },
    {
     "name": "stderr",
     "output_type": "stream",
     "text": [
      "INFO:qm.QuantumMachine:Compiling program\n"
     ]
    },
    {
     "name": "stdout",
     "output_type": "stream",
     "text": [
      "------------------------------------- Calibrates q0 for (LO, IF) = (6.055 GHz, -50.000 MHz)\n",
      "2023-09-27 17:03:04,751 - qm - INFO     - Compiling program\n"
     ]
    },
    {
     "name": "stderr",
     "output_type": "stream",
     "text": [
      "INFO:qm.QuantumMachine:Compiling program\n"
     ]
    },
    {
     "ename": "ValueError",
     "evalue": "Document with ID 49 already exists",
     "output_type": "error",
     "traceback": [
      "\u001b[1;31m---------------------------------------------------------------------------\u001b[0m",
      "\u001b[1;31mValueError\u001b[0m                                Traceback (most recent call last)",
      "Cell \u001b[1;32mIn[770], line 1\u001b[0m\n\u001b[1;32m----> 1\u001b[0m \u001b[43moctave_settings\u001b[49m\u001b[43m(\u001b[49m\n\u001b[0;32m      2\u001b[0m \u001b[43m    \u001b[49m\u001b[43mqmm\u001b[49m\u001b[38;5;241;43m=\u001b[39;49m\u001b[43mqmm\u001b[49m\u001b[43m,\u001b[49m\n\u001b[0;32m      3\u001b[0m \u001b[43m    \u001b[49m\u001b[43mconfig\u001b[49m\u001b[38;5;241;43m=\u001b[39;49m\u001b[43mbuild_config\u001b[49m\u001b[43m(\u001b[49m\u001b[43mmachine\u001b[49m\u001b[43m)\u001b[49m\u001b[43m,\u001b[49m\n\u001b[0;32m      4\u001b[0m \u001b[43m    \u001b[49m\u001b[43moctaves\u001b[49m\u001b[38;5;241;43m=\u001b[39;49m\u001b[43moctaves\u001b[49m\u001b[43m,\u001b[49m\n\u001b[0;32m      5\u001b[0m \u001b[43m    \u001b[49m\u001b[43melements_settings\u001b[49m\u001b[38;5;241;43m=\u001b[39;49m\u001b[43melements_settings\u001b[49m\u001b[43m,\u001b[49m\n\u001b[0;32m      6\u001b[0m \u001b[43m    \u001b[49m\u001b[43mcalibration\u001b[49m\u001b[38;5;241;43m=\u001b[39;49m\u001b[38;5;28;43;01mTrue\u001b[39;49;00m\u001b[43m,\u001b[49m\n\u001b[0;32m      7\u001b[0m \u001b[43m)\u001b[49m\n\u001b[0;32m      9\u001b[0m qmm\u001b[38;5;241m.\u001b[39mclose()\n",
      "File \u001b[1;32m~\\QM\\QM_UALA\\set_octave.py:279\u001b[0m, in \u001b[0;36moctave_settings\u001b[1;34m(qmm, config, octaves, elements_settings, calibration)\u001b[0m\n\u001b[0;32m    274\u001b[0m IF \u001b[38;5;241m=\u001b[39m \u001b[38;5;28mfloat\u001b[39m(config[\u001b[38;5;124m\"\u001b[39m\u001b[38;5;124melements\u001b[39m\u001b[38;5;124m\"\u001b[39m][elements_settings[i]\u001b[38;5;241m.\u001b[39mname][\u001b[38;5;124m\"\u001b[39m\u001b[38;5;124mintermediate_frequency\u001b[39m\u001b[38;5;124m\"\u001b[39m])\n\u001b[0;32m    275\u001b[0m \u001b[38;5;28mprint\u001b[39m(\n\u001b[0;32m    276\u001b[0m     \u001b[38;5;124m\"\u001b[39m\u001b[38;5;124m-\u001b[39m\u001b[38;5;124m\"\u001b[39m \u001b[38;5;241m*\u001b[39m \u001b[38;5;241m37\u001b[39m\n\u001b[0;32m    277\u001b[0m     \u001b[38;5;241m+\u001b[39m \u001b[38;5;124mf\u001b[39m\u001b[38;5;124m\"\u001b[39m\u001b[38;5;124m Calibrates \u001b[39m\u001b[38;5;132;01m{\u001b[39;00melements_settings[i]\u001b[38;5;241m.\u001b[39mname\u001b[38;5;132;01m}\u001b[39;00m\u001b[38;5;124m for (LO, IF) = (\u001b[39m\u001b[38;5;132;01m{\u001b[39;00mLO\u001b[38;5;241m*\u001b[39m\u001b[38;5;241m1e-9\u001b[39m\u001b[38;5;132;01m:\u001b[39;00m\u001b[38;5;124m.3f\u001b[39m\u001b[38;5;132;01m}\u001b[39;00m\u001b[38;5;124m GHz, \u001b[39m\u001b[38;5;132;01m{\u001b[39;00mIF\u001b[38;5;241m*\u001b[39m\u001b[38;5;241m1e-6\u001b[39m\u001b[38;5;132;01m:\u001b[39;00m\u001b[38;5;124m.3f\u001b[39m\u001b[38;5;132;01m}\u001b[39;00m\u001b[38;5;124m MHz)\u001b[39m\u001b[38;5;124m\"\u001b[39m\n\u001b[0;32m    278\u001b[0m )\n\u001b[1;32m--> 279\u001b[0m \u001b[43mqm\u001b[49m\u001b[38;5;241;43m.\u001b[39;49m\u001b[43moctave\u001b[49m\u001b[38;5;241;43m.\u001b[39;49m\u001b[43mcalibrate_element\u001b[49m\u001b[43m(\u001b[49m\u001b[43melements_settings\u001b[49m\u001b[43m[\u001b[49m\u001b[43mi\u001b[49m\u001b[43m]\u001b[49m\u001b[38;5;241;43m.\u001b[39;49m\u001b[43mname\u001b[49m\u001b[43m,\u001b[49m\u001b[43m \u001b[49m\u001b[43m[\u001b[49m\u001b[43m(\u001b[49m\u001b[43mLO\u001b[49m\u001b[43m,\u001b[49m\u001b[43m \u001b[49m\u001b[43mIF\u001b[49m\u001b[43m)\u001b[49m\u001b[43m]\u001b[49m\u001b[43m)\u001b[49m\n\u001b[0;32m    280\u001b[0m \u001b[38;5;66;03m# Re-open a quantum machine to apply the calibration parameters\u001b[39;00m\n\u001b[0;32m    281\u001b[0m qm \u001b[38;5;241m=\u001b[39m qmm\u001b[38;5;241m.\u001b[39mopen_qm(config)\n",
      "File \u001b[1;32m~\\AppData\\Roaming\\Python\\Python38\\site-packages\\qm\\octave\\qm_octave.py:181\u001b[0m, in \u001b[0;36mQmOctave.calibrate_element\u001b[1;34m(self, element, lo_if_frequencies_tuple_list, save_to_db, close_open_quantum_machines, **kwargs)\u001b[0m\n\u001b[0;32m    178\u001b[0m     lo_frequency \u001b[38;5;241m=\u001b[39m inst\u001b[38;5;241m.\u001b[39mlo_frequency\n\u001b[0;32m    179\u001b[0m     lo_if_frequencies_tuple_list \u001b[38;5;241m=\u001b[39m [(if_frequency, lo_frequency)]\n\u001b[1;32m--> 181\u001b[0m \u001b[38;5;28;01mreturn\u001b[39;00m \u001b[38;5;28;43mself\u001b[39;49m\u001b[38;5;241;43m.\u001b[39;49m\u001b[43m_octave_manager\u001b[49m\u001b[38;5;241;43m.\u001b[39;49m\u001b[43mcalibrate\u001b[49m\u001b[43m(\u001b[49m\n\u001b[0;32m    182\u001b[0m \u001b[43m    \u001b[49m\u001b[43moctave_port\u001b[49m\u001b[43m,\u001b[49m\n\u001b[0;32m    183\u001b[0m \u001b[43m    \u001b[49m\u001b[43mlo_if_frequencies_tuple_list\u001b[49m\u001b[43m,\u001b[49m\n\u001b[0;32m    184\u001b[0m \u001b[43m    \u001b[49m\u001b[43msave_to_db\u001b[49m\u001b[43m,\u001b[49m\n\u001b[0;32m    185\u001b[0m \u001b[43m    \u001b[49m\u001b[43mclose_open_quantum_machines\u001b[49m\u001b[43m,\u001b[49m\n\u001b[0;32m    186\u001b[0m \u001b[43m    \u001b[49m\u001b[38;5;241;43m*\u001b[39;49m\u001b[38;5;241;43m*\u001b[39;49m\u001b[43mkwargs\u001b[49m\u001b[43m,\u001b[49m\n\u001b[0;32m    187\u001b[0m \u001b[43m\u001b[49m\u001b[43m)\u001b[49m\n",
      "File \u001b[1;32m~\\AppData\\Roaming\\Python\\Python38\\site-packages\\qm\\octave\\octave_manager.py:499\u001b[0m, in \u001b[0;36mOctaveManager.calibrate\u001b[1;34m(self, octave_output_port, lo_if_frequencies_tuple_list, save_to_db, close_open_quantum_machines, optimizer_parameters, **kwargs)\u001b[0m\n\u001b[0;32m    487\u001b[0m     result[lo_freq, if_freq] \u001b[38;5;241m=\u001b[39m CalibrationResult(\n\u001b[0;32m    488\u001b[0m         mixer_id\u001b[38;5;241m=\u001b[39moctave_output_mixer_name(\u001b[38;5;241m*\u001b[39moctave_output_port),\n\u001b[0;32m    489\u001b[0m         correction\u001b[38;5;241m=\u001b[39mcorrection,\n\u001b[1;32m   (...)\u001b[0m\n\u001b[0;32m    495\u001b[0m         optimizer_parameters\u001b[38;5;241m=\u001b[39moptimizer_parameters,\n\u001b[0;32m    496\u001b[0m     )\n\u001b[0;32m    498\u001b[0m     \u001b[38;5;28;01mif\u001b[39;00m save_to_db \u001b[38;5;129;01mand\u001b[39;00m \u001b[38;5;28mself\u001b[39m\u001b[38;5;241m.\u001b[39m_octave_config\u001b[38;5;241m.\u001b[39mcalibration_db \u001b[38;5;129;01mis\u001b[39;00m \u001b[38;5;129;01mnot\u001b[39;00m \u001b[38;5;28;01mNone\u001b[39;00m:\n\u001b[1;32m--> 499\u001b[0m         \u001b[38;5;28;43mself\u001b[39;49m\u001b[38;5;241;43m.\u001b[39;49m\u001b[43m_octave_config\u001b[49m\u001b[38;5;241;43m.\u001b[39;49m\u001b[43mcalibration_db\u001b[49m\u001b[38;5;241;43m.\u001b[39;49m\u001b[43mupdate_calibration_data\u001b[49m\u001b[43m(\u001b[49m\u001b[43mresult\u001b[49m\u001b[43m[\u001b[49m\u001b[43mlo_freq\u001b[49m\u001b[43m,\u001b[49m\u001b[43m \u001b[49m\u001b[43mif_freq\u001b[49m\u001b[43m]\u001b[49m\u001b[43m)\u001b[49m\n\u001b[0;32m    501\u001b[0m \u001b[38;5;66;03m# set to previous state\u001b[39;00m\n\u001b[0;32m    502\u001b[0m t_start_restoration \u001b[38;5;241m=\u001b[39m perf_counter()\n",
      "File \u001b[1;32m~\\AppData\\Roaming\\Python\\Python38\\site-packages\\qm\\octave\\calibration_db.py:43\u001b[0m, in \u001b[0;36mCalibrationDB.update_calibration_data\u001b[1;34m(self, data)\u001b[0m\n\u001b[0;32m     41\u001b[0m query \u001b[38;5;241m=\u001b[39m Query()\n\u001b[0;32m     42\u001b[0m \u001b[38;5;28;01mfor\u001b[39;00m result \u001b[38;5;129;01min\u001b[39;00m data:\n\u001b[1;32m---> 43\u001b[0m     \u001b[38;5;28;43mself\u001b[39;49m\u001b[38;5;241;43m.\u001b[39;49m\u001b[43m_db\u001b[49m\u001b[38;5;241;43m.\u001b[39;49m\u001b[43mupsert\u001b[49m\u001b[43m(\u001b[49m\n\u001b[0;32m     44\u001b[0m \u001b[43m        \u001b[49m\u001b[43masdict\u001b[49m\u001b[43m(\u001b[49m\u001b[43mresult\u001b[49m\u001b[43m)\u001b[49m\u001b[43m,\u001b[49m\n\u001b[0;32m     45\u001b[0m \u001b[43m        \u001b[49m\u001b[43m(\u001b[49m\u001b[43mquery\u001b[49m\u001b[38;5;241;43m.\u001b[39;49m\u001b[43mmixer_id\u001b[49m\u001b[43m \u001b[49m\u001b[38;5;241;43m==\u001b[39;49m\u001b[43m \u001b[49m\u001b[43mresult\u001b[49m\u001b[38;5;241;43m.\u001b[39;49m\u001b[43mmixer_id\u001b[49m\u001b[43m)\u001b[49m\n\u001b[0;32m     46\u001b[0m \u001b[43m        \u001b[49m\u001b[38;5;241;43m&\u001b[39;49m\u001b[43m \u001b[49m\u001b[43m(\u001b[49m\u001b[43mquery\u001b[49m\u001b[38;5;241;43m.\u001b[39;49m\u001b[43mlo_frequency\u001b[49m\u001b[43m \u001b[49m\u001b[38;5;241;43m==\u001b[39;49m\u001b[43m \u001b[49m\u001b[43mresult\u001b[49m\u001b[38;5;241;43m.\u001b[39;49m\u001b[43mlo_frequency\u001b[49m\u001b[43m)\u001b[49m\n\u001b[0;32m     47\u001b[0m \u001b[43m        \u001b[49m\u001b[38;5;241;43m&\u001b[39;49m\u001b[43m \u001b[49m\u001b[43m(\u001b[49m\u001b[43mquery\u001b[49m\u001b[38;5;241;43m.\u001b[39;49m\u001b[43mif_frequency\u001b[49m\u001b[43m \u001b[49m\u001b[38;5;241;43m==\u001b[39;49m\u001b[43m \u001b[49m\u001b[43mresult\u001b[49m\u001b[38;5;241;43m.\u001b[39;49m\u001b[43mif_frequency\u001b[49m\u001b[43m)\u001b[49m\u001b[43m,\u001b[49m\n\u001b[0;32m     48\u001b[0m \u001b[43m    \u001b[49m\u001b[43m)\u001b[49m\n",
      "File \u001b[1;32m~\\AppData\\Roaming\\Python\\Python38\\site-packages\\tinydb\\table.py:548\u001b[0m, in \u001b[0;36mTable.upsert\u001b[1;34m(self, document, cond)\u001b[0m\n\u001b[0;32m    544\u001b[0m     \u001b[38;5;28;01mreturn\u001b[39;00m updated_docs\n\u001b[0;32m    546\u001b[0m \u001b[38;5;66;03m# There are no documents that match the specified query -> insert the\u001b[39;00m\n\u001b[0;32m    547\u001b[0m \u001b[38;5;66;03m# data as a new document\u001b[39;00m\n\u001b[1;32m--> 548\u001b[0m \u001b[38;5;28;01mreturn\u001b[39;00m [\u001b[38;5;28;43mself\u001b[39;49m\u001b[38;5;241;43m.\u001b[39;49m\u001b[43minsert\u001b[49m\u001b[43m(\u001b[49m\u001b[43mdocument\u001b[49m\u001b[43m)\u001b[49m]\n",
      "File \u001b[1;32m~\\AppData\\Roaming\\Python\\Python38\\site-packages\\tinydb\\table.py:173\u001b[0m, in \u001b[0;36mTable.insert\u001b[1;34m(self, document)\u001b[0m\n\u001b[0;32m    170\u001b[0m     table[doc_id] \u001b[38;5;241m=\u001b[39m \u001b[38;5;28mdict\u001b[39m(document)\n\u001b[0;32m    172\u001b[0m \u001b[38;5;66;03m# See below for details on ``Table._update``\u001b[39;00m\n\u001b[1;32m--> 173\u001b[0m \u001b[38;5;28;43mself\u001b[39;49m\u001b[38;5;241;43m.\u001b[39;49m\u001b[43m_update_table\u001b[49m\u001b[43m(\u001b[49m\u001b[43mupdater\u001b[49m\u001b[43m)\u001b[49m\n\u001b[0;32m    175\u001b[0m \u001b[38;5;28;01mreturn\u001b[39;00m doc_id\n",
      "File \u001b[1;32m~\\AppData\\Roaming\\Python\\Python38\\site-packages\\tinydb\\table.py:755\u001b[0m, in \u001b[0;36mTable._update_table\u001b[1;34m(self, updater)\u001b[0m\n\u001b[0;32m    749\u001b[0m table \u001b[38;5;241m=\u001b[39m {\n\u001b[0;32m    750\u001b[0m     \u001b[38;5;28mself\u001b[39m\u001b[38;5;241m.\u001b[39mdocument_id_class(doc_id): doc\n\u001b[0;32m    751\u001b[0m     \u001b[38;5;28;01mfor\u001b[39;00m doc_id, doc \u001b[38;5;129;01min\u001b[39;00m raw_table\u001b[38;5;241m.\u001b[39mitems()\n\u001b[0;32m    752\u001b[0m }\n\u001b[0;32m    754\u001b[0m \u001b[38;5;66;03m# Perform the table update operation\u001b[39;00m\n\u001b[1;32m--> 755\u001b[0m \u001b[43mupdater\u001b[49m\u001b[43m(\u001b[49m\u001b[43mtable\u001b[49m\u001b[43m)\u001b[49m\n\u001b[0;32m    757\u001b[0m \u001b[38;5;66;03m# Convert the document IDs back to strings.\u001b[39;00m\n\u001b[0;32m    758\u001b[0m \u001b[38;5;66;03m# This is required as some storages (most notably the JSON file format)\u001b[39;00m\n\u001b[0;32m    759\u001b[0m \u001b[38;5;66;03m# don't support IDs other than strings.\u001b[39;00m\n\u001b[0;32m    760\u001b[0m tables[\u001b[38;5;28mself\u001b[39m\u001b[38;5;241m.\u001b[39mname] \u001b[38;5;241m=\u001b[39m {\n\u001b[0;32m    761\u001b[0m     \u001b[38;5;28mstr\u001b[39m(doc_id): doc\n\u001b[0;32m    762\u001b[0m     \u001b[38;5;28;01mfor\u001b[39;00m doc_id, doc \u001b[38;5;129;01min\u001b[39;00m table\u001b[38;5;241m.\u001b[39mitems()\n\u001b[0;32m    763\u001b[0m }\n",
      "File \u001b[1;32m~\\AppData\\Roaming\\Python\\Python38\\site-packages\\tinydb\\table.py:164\u001b[0m, in \u001b[0;36mTable.insert.<locals>.updater\u001b[1;34m(table)\u001b[0m\n\u001b[0;32m    162\u001b[0m \u001b[38;5;28;01mdef\u001b[39;00m \u001b[38;5;21mupdater\u001b[39m(table: \u001b[38;5;28mdict\u001b[39m):\n\u001b[0;32m    163\u001b[0m     \u001b[38;5;28;01mif\u001b[39;00m doc_id \u001b[38;5;129;01min\u001b[39;00m table:\n\u001b[1;32m--> 164\u001b[0m         \u001b[38;5;28;01mraise\u001b[39;00m \u001b[38;5;167;01mValueError\u001b[39;00m(\u001b[38;5;124mf\u001b[39m\u001b[38;5;124m'\u001b[39m\u001b[38;5;124mDocument with ID \u001b[39m\u001b[38;5;132;01m{\u001b[39;00m\u001b[38;5;28mstr\u001b[39m(doc_id)\u001b[38;5;132;01m}\u001b[39;00m\u001b[38;5;124m \u001b[39m\u001b[38;5;124m'\u001b[39m\n\u001b[0;32m    165\u001b[0m                          \u001b[38;5;124mf\u001b[39m\u001b[38;5;124m'\u001b[39m\u001b[38;5;124malready exists\u001b[39m\u001b[38;5;124m'\u001b[39m)\n\u001b[0;32m    167\u001b[0m     \u001b[38;5;66;03m# By calling ``dict(document)`` we convert the data we got to a\u001b[39;00m\n\u001b[0;32m    168\u001b[0m     \u001b[38;5;66;03m# ``dict`` instance even if it was a different class that\u001b[39;00m\n\u001b[0;32m    169\u001b[0m     \u001b[38;5;66;03m# implemented the ``Mapping`` interface\u001b[39;00m\n\u001b[0;32m    170\u001b[0m     table[doc_id] \u001b[38;5;241m=\u001b[39m \u001b[38;5;28mdict\u001b[39m(document)\n",
      "\u001b[1;31mValueError\u001b[0m: Document with ID 49 already exists"
     ]
    }
   ],
   "source": [
    "octave_settings(\n",
    "    qmm=qmm,\n",
    "    config=build_config(machine),\n",
    "    octaves=octaves,\n",
    "    elements_settings=elements_settings,\n",
    "    calibration=True,\n",
    ")\n",
    "\n",
    "qmm.close()"
   ]
  },
  {
   "cell_type": "code",
   "execution_count": 721,
   "id": "4dc2d3f4",
   "metadata": {},
   "outputs": [
    {
     "name": "stdout",
     "output_type": "stream",
     "text": [
      "2023-09-27 16:12:22,056 - qm - INFO     - Performing health check\n"
     ]
    },
    {
     "name": "stderr",
     "output_type": "stream",
     "text": [
      "INFO:qm.api.frontend_api:Performing health check\n"
     ]
    },
    {
     "name": "stdout",
     "output_type": "stream",
     "text": [
      "2023-09-27 16:12:22,066 - qm - INFO     - Health check passed\n"
     ]
    },
    {
     "name": "stderr",
     "output_type": "stream",
     "text": [
      "INFO:qm.api.frontend_api:Health check passed\n"
     ]
    }
   ],
   "source": [
    "# Get correction matrix and DC offsets for each element. Print the results in the section after this one\n",
    "# Make IF = -300 MHz \n",
    "qmm = QuantumMachinesManager(machine.network.qop_ip, port = '9510', octave=octave_config)\n",
    "qm = qmm.open_qm(config)\n",
    "LO_val = LO_array[0]/1e3\n",
    "LO_val = LO_val.tolist()\n",
    "machine.qubits[qubit_index].lo = LO_val * 1e3\n",
    "machine.qubits[qubit_index].f_01 = LO_val * 1e3 -150e6\n",
    "qm.octave.set_lo_frequency(machine.qubits[qubit_index].name, LO_val * 1e3)\n",
    "machine._save(\"quam_state.json\")"
   ]
  },
  {
   "cell_type": "code",
   "execution_count": 760,
   "id": "a7576aed",
   "metadata": {},
   "outputs": [
    {
     "name": "stdout",
     "output_type": "stream",
     "text": [
      "-0.0279541015625\n"
     ]
    }
   ],
   "source": [
    "calibration_parameters = json.load(open(\"calibration_db.json\"))[\"_default\"]\n",
    "LO =  LO_val * 1e3\n",
    "IF = -150e6\n",
    "for i in calibration_parameters.keys():\n",
    "    if calibration_parameters[i][\"lo_frequency\"] == LO_val * 1e3:\n",
    "        if calibration_parameters[i][\"if_frequency\"] == -150e6:\n",
    "            I_offset = calibration_parameters[i][\"i_offset\"]\n",
    "            Q_offset = calibration_parameters[i][\"q_offset\"]\n",
    "            correction = calibration_parameters[i][\"correction\"]\n",
    "        else:\n",
    "            pass\n",
    "    else:\n",
    "        pass\n"
   ]
  },
  {
   "cell_type": "code",
   "execution_count": null,
   "id": "433473f1",
   "metadata": {},
   "outputs": [],
   "source": [
    "-300\n",
    "C_mat = [[0.9898257069289684, -0.08017868548631668, -0.07710785418748856, 1.0292456597089767],\n",
    "         [], []]\n",
    "DC_i = [-0.0279693603515625, ]\n",
    "DC_q = [0.0247955322265625, ]\n",
    "\n",
    "300\n",
    "[0.9997894875705242, 0.11495320126414299, 0.1107124499976635, 1.0380856171250343], \"i_offset\": -0.0279998779296875, \"q_offset\": 0.0248260498046875"
   ]
  },
  {
   "cell_type": "code",
   "execution_count": 563,
   "id": "a4f52479",
   "metadata": {},
   "outputs": [
    {
     "name": "stdout",
     "output_type": "stream",
     "text": [
      "2023-09-26 16:37:28,850 - qm - INFO     - Performing health check\n"
     ]
    },
    {
     "name": "stderr",
     "output_type": "stream",
     "text": [
      "INFO:qm.api.frontend_api:Performing health check\n"
     ]
    },
    {
     "name": "stdout",
     "output_type": "stream",
     "text": [
      "2023-09-26 16:37:28,860 - qm - INFO     - Health check passed\n"
     ]
    },
    {
     "name": "stderr",
     "output_type": "stream",
     "text": [
      "INFO:qm.api.frontend_api:Health check passed\n"
     ]
    }
   ],
   "source": [
    "qmm = QuantumMachinesManager(machine.network.qop_ip, port = '9510', octave=octave_config)\n",
    "qm = qmm.open_qm(config)\n",
    "machine.qubits[qubit_index].lo = 6382760.977 * 1e3\n",
    "qm.octave.set_lo_frequency(machine.qubits[qubit_index].name, 6382760.977 * 1e3)\n",
    "with program() as prog:\n",
    "    update_correction(machine.qubits[qubit_index].name,0.9790809527039528, -0.027222469449043274, -0.02602703869342804, 1.0240504741668701)\n",
    "    set_dc_offset(machine.qubits[qubit_index].name, \"I\", -0.0467529296875)\n",
    "    set_dc_offset(machine.qubits[qubit_index].name, \"Q\", 0.007781982421875)\n",
    "machine._save(\"quam_state.json\")"
   ]
  },
  {
   "cell_type": "code",
   "execution_count": 564,
   "id": "eabca715",
   "metadata": {},
   "outputs": [
    {
     "data": {
      "text/plain": [
       "6382760977.0"
      ]
     },
     "execution_count": 564,
     "metadata": {},
     "output_type": "execute_result"
    }
   ],
   "source": [
    "machine.qubits[0].lo"
   ]
  },
  {
   "cell_type": "code",
   "execution_count": 707,
   "id": "de797ba3",
   "metadata": {},
   "outputs": [],
   "source": [
    "ff_amp_sweep = np.arange(-0.8,0.8+1E-5,0.1) # fast flux sweep parameters\n",
    "# as this will be a 'fixed' QUA variable, we keep the python array as a float array\n",
    "\n",
    "# estimated qubit frequency range\n",
    "qubit_freq_fit = poly2(ff_amp_sweep* machine.flux_lines[qubit_index].flux_pulse_amp, *fit_params)\n",
    "qubit_freq_fit = qubit_freq_fit*1e3 #expected qubit frequencies as a function of flux based on 2nd order poly in kHz\n",
    "q_freq_est = qubit_freq_fit.astype(int) # if using int variables in QUA, you need to provide int python variables\n",
    "\n",
    "# sweep around estimated qubit frequency\n",
    "q_freq_sweep = np.arange(-50, 50 +1, 1) \n",
    "\n",
    "# create LO frequency array\n",
    "lo_sep = 50e6 # desired separation between LO and maximum frequency of qubit\n",
    "bound_up = -50 # so qubit freq is never too close to LO freq\n",
    "bound_down = -300\n",
    "LO_sep = 300e6\n",
    "\n",
    "IF_array =[]\n",
    "LO_array = []\n",
    "LO_array.append(np.min(q_freq_est)*1E3 + np.min(q_freq_sweep)*1e6 + LO_sep)\n",
    "index = 0\n",
    "q_freq_est_sorted = np.sort(q_freq_est)\n",
    "for n in q_freq_est_sorted:\n",
    "    IF = n*1e3 - LO_array[index]\n",
    "    if ((IF+np.min(q_freq_sweep)*1e6)<bound_down*1e6) or ((IF+np.max(q_freq_sweep)*1e6)>=bound_up*1e6):\n",
    "        LO_array.append(n*1e3+np.min(q_freq_sweep)*1e6 + LO_sep)\n",
    "        index += 1\n",
    "        IF_array.append(n*1e3 - LO_array[index])\n",
    "    else: \n",
    "        IF_array.append(IF)\n",
    "\n",
    "# create an IF array that has arrays as elements so that each subarray corresponds to a particular LO freq\n",
    "ind_arr = []\n",
    "for ind in np.arange(len(IF_array)):\n",
    "    if IF_array[ind] == -250000000:\n",
    "        ind_arr.append(ind)\n",
    "    else:\n",
    "        pass\n",
    "ind_arr.append(len(IF_array)-1)\n",
    "IF_sweep = []\n",
    "for n in np.arange(len(ind_arr)-1):\n",
    "    temp = IF_array[ind_arr[n]:ind_arr[n+1]]\n",
    "    IF_sweep.append(temp)\n"
   ]
  },
  {
   "cell_type": "code",
   "execution_count": 706,
   "id": "9ff6e3f8",
   "metadata": {},
   "outputs": [
    {
     "name": "stdout",
     "output_type": "stream",
     "text": [
      "[[-250000000.0, -244225000.0, -135164000.0, -130112000.0], [-250000000.0, -245669000.0, -165691000.0, -162082000.0], [-250000000.0, -247113000.0, -196218000.0, -194053000.0, -157699000.0, -156256000.0, -134443000.0, -133722000.0]]\n"
     ]
    }
   ],
   "source": [
    "\n"
   ]
  },
  {
   "cell_type": "code",
   "execution_count": 577,
   "id": "5834e425",
   "metadata": {},
   "outputs": [
    {
     "name": "stdout",
     "output_type": "stream",
     "text": [
      "Start running ...\n",
      "2023-09-27 10:01:24,825 - qm - INFO     - Performing health check\n"
     ]
    },
    {
     "name": "stderr",
     "output_type": "stream",
     "text": [
      "INFO:qm.api.frontend_api:Performing health check\n"
     ]
    },
    {
     "name": "stdout",
     "output_type": "stream",
     "text": [
      "2023-09-27 10:01:24,832 - qm - INFO     - Health check passed\n"
     ]
    },
    {
     "name": "stderr",
     "output_type": "stream",
     "text": [
      "INFO:qm.api.frontend_api:Health check passed\n"
     ]
    },
    {
     "name": "stdout",
     "output_type": "stream",
     "text": [
      "2023-09-27 10:01:25,519 - qm - INFO     - Sending program to QOP for compilation\n"
     ]
    },
    {
     "name": "stderr",
     "output_type": "stream",
     "text": [
      "INFO:qm.api.frontend_api:Sending program to QOP for compilation\n"
     ]
    },
    {
     "name": "stdout",
     "output_type": "stream",
     "text": [
      "2023-09-27 10:01:25,786 - qm - INFO     - Executing program\n"
     ]
    },
    {
     "name": "stderr",
     "output_type": "stream",
     "text": [
      "INFO:qm.QuantumMachine:Executing program\n"
     ]
    },
    {
     "name": "stdout",
     "output_type": "stream",
     "text": [
      "Execution stopped by user!############                       ] 54.9% (n=549/1000) --> elapsed time: 5.41s\n",
      "Finished! [#############################                     ] 59.2% (n=592/1000) --> elapsed time: 6.12s\n"
     ]
    }
   ],
   "source": [
    "# Takes the frequency from the fitted data to the second order poly\n",
    "from set_octave import ElementsSettings, octave_settings\n",
    "from qm.QuantumMachinesManager import QuantumMachinesManager\n",
    "\n",
    "print(\"Start running ...\")\n",
    "\n",
    "now = datetime.datetime.now()\n",
    "month = now.strftime(\"%m\")\n",
    "day = now.strftime(\"%d\")\n",
    "hour = now.strftime(\"%H\")\n",
    "minute = now.strftime(\"%M\")\n",
    "\n",
    "exp_name = 'qubit_spec_flux_sweep_2poly'\n",
    "qubit_name = 'UA_Q1'\n",
    "\n",
    "f_str = qubit_name + '_' + exp_name + '_' + month + day + '-' + hour + minute\n",
    "file_name= f_str+'.mat'\n",
    "json_name = f_str + '_state.json'\n",
    "\n",
    "# Program-specific variables #\n",
    "n_avg = 1_000  # Number of averaging loops\n",
    "qubit_index = 0 \n",
    "cooldown_time = 10_000  # Resonator cooldown time, convert to ns in the wait() function \n",
    "\n",
    "ff_amp_sweep = np.arange(-0.8,0.8+1E-5,0.2) # fast flux sweep parameters\n",
    "# as this will be a 'fixed' QUA variable, we keep the python array as a float array\n",
    "\n",
    "qubit_freq_fit = poly2(ff_amp_sweep* machine.flux_lines[qubit_index].flux_pulse_amp, *fit_params)\n",
    "qubit_freq_fit = qubit_freq_fit*1e3 #expected qubit frequencies as a function of flux based on 2nd order poly in kHz\n",
    "q_freq_est = qubit_freq_fit.astype(int) # if using int variables in QUA, you need to provide int python variables\n",
    "\n",
    "\n",
    "# LO frequency sweep parameters\n",
    "lo_int = 300e6 # LO sweep range\n",
    "lo_sep = 50 # difference between the highest qubit frequency and the LO\n",
    "q_freq_range = np.max(q_freq_est*1e3) - np.min(q_freq_est*1e3)\n",
    "lo_freq_n = np.ceil((np.max(q_freq_est*1e3) - np.min(q_freq_est*1e3))/ (lo_int))\n",
    "if ((np.max(q_freq_est*1e3) + 50*1e6 - lo_freq_n*lo_int)<= np.min(q_freq_est*1e3)):\n",
    "    lo_freq_array = np.arange(np.max(q_freq_est*1E3) + lo_sep*u.MHz - (lo_freq_n-1)*lo_int ,np.max(q_freq_est*1E3) + lo_sep*u.MHz + 1, lo_int)\n",
    "else:\n",
    "    lo_freq_array = np.arange(np.max(q_freq_est*1E3) + lo_sep*u.MHz - lo_freq_n*lo_int ,np.max(q_freq_est*1E3) + lo_sep*u.MHz + 1, lo_int)\n",
    "\n",
    "q_freq_sweep = np.arange(-50, 50 +1, 1) # will get multiplied to MHz in QUA\n",
    "z_duration = machine.qubits[qubit_index].pi_length + 40 \n",
    "bound_down = -300 \n",
    "bound_up = 0 \n",
    "\n",
    "# # Set-up the machine and get the config #\n",
    "# machine = QuAM(\"quam_state.json\")\n",
    "\n",
    "# machine.qubits[0].lo += 200e6\n",
    "# resonator = ElementsSettings(\"r0\", gain=0, rf_in_port=[\"octave1\", 1], down_convert_LO_source=\"Internal\")\n",
    "# qubit = ElementsSettings(\"q0\", gain=0)\n",
    "# elements_settings = [resonator, qubit]\n",
    "\n",
    "# machine._save(\"quam_state.json\")\n",
    "\n",
    "# qmm = QuantumMachinesManager(machine.network.qop_ip, port = '9510', octave=octave_config, log_level=\"ERROR\")\n",
    "\n",
    "# config = build_config(machine)\n",
    "\n",
    "# octave_settings(\n",
    "#     qmm=qmm,\n",
    "#     config=config,\n",
    "#     octaves=octaves,\n",
    "#     elements_settings=elements_settings,\n",
    "#     calibration=True,\n",
    "# )\n",
    "\n",
    "# qmm.close()\n",
    "\n",
    "\n",
    "\n",
    "\n",
    "\n",
    "with program() as qubit_spec_2D_2poly:\n",
    "    n = declare(int)  # Averaging index\n",
    "    df = declare(int)  # Qubit sweep\n",
    "    q_freq_est_i = declare(int)  # Estimated qubit frequency\n",
    "    damp = declare(fixed)  # Z amplitude sweep\n",
    "    I = declare(fixed)\n",
    "    Q = declare(fixed)\n",
    "    I_st = declare_stream()\n",
    "    Q_st = declare_stream()\n",
    "    n_st = declare_stream()\n",
    "    qb_if = declare(int)\n",
    "    \n",
    "    with for_(n, 0, n < n_avg, n + 1):\n",
    "        with for_each_((damp,q_freq_est_i),(ff_amp_sweep,q_freq_est)):\n",
    "            assign(qb_if, (q_freq_est_i - lo)*1e3)\n",
    "            with for_(*from_array(df,q_freq_sweep)):\n",
    "                update_frequency(machine.qubits[qubit_index].name, qb_if + df*1e6)\n",
    "                play(\"const\" * amp(damp), machine.flux_lines[qubit_index].name, duration = z_duration * u.ns)\n",
    "                wait(5, machine.qubits[qubit_index].name)\n",
    "                play('pi',machine.qubits[qubit_index].name)\n",
    "                align(machine.qubits[qubit_index].name, machine.flux_lines[qubit_index].name,machine.resonators[qubit_index].name)\n",
    "                # Measure the resonator\n",
    "                measure(\n",
    "                    \"readout\",\n",
    "                    machine.resonators[qubit_index].name,\n",
    "                    None,\n",
    "                    dual_demod.full(\"cos\", \"out1\", \"sin\", \"out2\", I),\n",
    "                    dual_demod.full(\"minus_sin\", \"out1\", \"cos\", \"out2\", Q),\n",
    "                )\n",
    "                align()\n",
    "                play(\"const\" * amp((-1)*damp), machine.flux_lines[qubit_index].name, duration = z_duration * u.ns)\n",
    "                # Wait for the resonator to cooldown\n",
    "                wait(cooldown_time * u.ns, machine.resonators[qubit_index].name)\n",
    "                # Save data to the stream processing\n",
    "                save(I, I_st)\n",
    "                save(Q, Q_st)\n",
    "        save(n, n_st)\n",
    "\n",
    "    with stream_processing():\n",
    "        I_st.buffer(len(q_freq_sweep)).buffer(len(ff_amp_sweep)).average().save(\"I\")\n",
    "        Q_st.buffer(len(q_freq_sweep)).buffer(len(ff_amp_sweep)).average().save(\"Q\")\n",
    "        n_st.save(\"iteration\")\n",
    "\n",
    "    # to save all the frequencies used in the scan\n",
    "    q_freq_sweep_2D, q_freq_est_2D = np.meshgrid(q_freq_sweep *1e6, q_freq_est.astype(float) * 1e3)\n",
    "    _, ff_amp_sweep_2D = np.meshgrid(q_freq_sweep*1e6, ff_amp_sweep * machine.flux_lines[qubit_index].flux_pulse_amp)\n",
    "    q_freq_sweep_2D = q_freq_est_2D + q_freq_sweep_2D\n",
    "\n",
    "\n",
    "qmm = QuantumMachinesManager(machine.network.qop_ip, port = '9510', octave=octave_config)\n",
    "\n",
    "simulate = False\n",
    "if simulate:\n",
    "    %matplotlib qt\n",
    "    job = qmm.simulate(config, qubit_spec_2D_2poly, SimulationConfig(4000))\n",
    "    job.get_simulated_samples().con1.plot()\n",
    "else:\n",
    "    qm = qmm.open_qm(config)\n",
    "    job = qm.execute(qubit_spec_2D_2poly)\n",
    "    # Creates results handles to fetch the data\n",
    "    results = fetching_tool(job, data_list=[\"I\", \"Q\", \"iteration\"], mode=\"live\")\n",
    "    # Live plotting\n",
    "    fig = plt.figure()\n",
    "    interrupt_on_close(fig, job)  #  Interrupts the job when closing the figure\n",
    "    while results.is_processing():\n",
    "        # Fetch results\n",
    "        I, Q, iteration = results.fetch_all()\n",
    "        progress_counter(iteration, n_avg, start_time=results.get_start_time())\n",
    "        # Convert results into Volts\n",
    "        sigs = u.demod2volts(I + 1j * Q, machine.resonators[qubit_index].readout_pulse_length)\n",
    "        sig_amp = np.abs(sigs)  # Amplitude\n",
    "        sig_phase = np.angle(sigs)  # Phase\n",
    "        # Plot results\n",
    "        plt.cla()\n",
    "        plt.title(\"Qubit spectroscopy amplitude\")\n",
    "        plt.pcolormesh(ff_amp_sweep_2D, q_freq_sweep_2D.astype(float), sig_amp ,cmap=\"seismic\")\n",
    "        \n",
    "#         plt.pcolormesh(ff_amp_sweep, q_freq_sweep.astype(float) * u.kHz, sig_amp, shading='auto',cmap=\"seismic\")\n",
    "        plt.ylabel(\"Qubit frequency [MHz]\")\n",
    "        plt.xlabel(\"Flux level [V]\")\n",
    "        plt.pause(0.1)\n",
    "        plt.tight_layout() \n",
    "plt.colorbar()\n",
    "print(\"Finished!\")    \n",
    "  \n",
    "\n",
    "\n",
    "    \n",
    " "
   ]
  },
  {
   "cell_type": "markdown",
   "id": "199f8e3c",
   "metadata": {},
   "source": [
    "## Tuning curve changing LO and using 2nd order poly"
   ]
  },
  {
   "cell_type": "code",
   "execution_count": 433,
   "id": "9af102e2",
   "metadata": {},
   "outputs": [
    {
     "name": "stdout",
     "output_type": "stream",
     "text": [
      "Start running ...\n",
      "2023-09-26 08:51:59,178 - qm - INFO     - Performing health check\n"
     ]
    },
    {
     "name": "stderr",
     "output_type": "stream",
     "text": [
      "INFO:qm.api.frontend_api:Performing health check\n"
     ]
    },
    {
     "name": "stdout",
     "output_type": "stream",
     "text": [
      "2023-09-26 08:51:59,199 - qm - INFO     - Health check passed\n"
     ]
    },
    {
     "name": "stderr",
     "output_type": "stream",
     "text": [
      "INFO:qm.api.frontend_api:Health check passed\n"
     ]
    },
    {
     "name": "stdout",
     "output_type": "stream",
     "text": [
      "2023-09-26 08:51:59,926 - qm - INFO     - Sending program to QOP for compilation\n"
     ]
    },
    {
     "name": "stderr",
     "output_type": "stream",
     "text": [
      "INFO:qm.api.frontend_api:Sending program to QOP for compilation\n"
     ]
    },
    {
     "name": "stdout",
     "output_type": "stream",
     "text": [
      "2023-09-26 08:52:00,292 - qm - INFO     - Executing program\n"
     ]
    },
    {
     "name": "stderr",
     "output_type": "stream",
     "text": [
      "INFO:qm.QuantumMachine:Executing program\n"
     ]
    },
    {
     "name": "stdout",
     "output_type": "stream",
     "text": [
      "Progress: [##################################################] 100.0% (n=2/2)\n",
      "Finished!\n"
     ]
    }
   ],
   "source": [
    "# Perform a wideband, optimized qubit spectroscopy with flux \n",
    "# LO is changed during the bulk of the script in an outer loop to achieve wideband frequency\n",
    "# Uses blank else statements to keep correct size in saving arrays\n",
    "# It is optimized to sweep frequencies near the qubit frequency obtained from a previous fit to a 2nd order poly function\n",
    "\n",
    "print(\"Start running ...\")\n",
    "\n",
    "now = datetime.datetime.now()\n",
    "month = now.strftime(\"%m\")\n",
    "day = now.strftime(\"%d\")\n",
    "hour = now.strftime(\"%H\")\n",
    "minute = now.strftime(\"%M\")\n",
    "\n",
    "exp_name = 'qubit_spec_flux_sweep_wb'\n",
    "qubit_name = 'UA_Q1'\n",
    "\n",
    "f_str = qubit_name + '_' + exp_name + '_' + month + day + '-' + hour + minute\n",
    "file_name= f_str+'.mat'\n",
    "json_name = f_str + '_state.json'\n",
    "\n",
    "# Set-up the machine and get the config #\n",
    "machine = QuAM(\"quam_state.json\")\n",
    "config = build_config(machine)\n",
    "\n",
    "# Program-specific variables #\n",
    "n_avg = 6  # Number of averaging loops\n",
    "qubit_index = 0 \n",
    "cooldown_time = 10_000  # Resonator cooldown time, convert to ns in the wait() function \n",
    "\n",
    "ff_amp_sweep = np.arange(-0.8,0.8+1E-5,0.2) # fast flux sweep parameters\n",
    "# as this will be a 'fixed' QUA variable, we keep the python array as a float array\n",
    "\n",
    "qubit_freq_fit = poly2(ff_amp_sweep* machine.flux_lines[qubit_index].flux_pulse_amp, *fit_params)\n",
    "qubit_freq_fit = qubit_freq_fit*1e3 #expected qubit frequencies as a function of flux based on 2nd order poly in kHz\n",
    "q_freq_est = qubit_freq_fit.astype(int) # if using int variables in QUA, you need to provide int python variables\n",
    "\n",
    "\n",
    "# LO frequency sweep parameters\n",
    "lo_int = 300e6 # LO sweep range\n",
    "lo_sep = 50 # difference between the highest qubit frequency and the LO\n",
    "q_freq_range = np.max(q_freq_est*1e3) - np.min(q_freq_est*1e3)\n",
    "lo_freq_n = np.ceil((np.max(q_freq_est*1e3) - np.min(q_freq_est*1e3))/ (lo_int))\n",
    "if ((np.max(q_freq_est*1e3) + 50*1e6 - lo_freq_n*lo_int)<= np.min(q_freq_est*1e3)):\n",
    "    lo_freq_array = np.arange(np.max(q_freq_est*1E3) + lo_sep*u.MHz - (lo_freq_n-1)*lo_int ,np.max(q_freq_est*1E3) + lo_sep*u.MHz + 1, lo_int)\n",
    "else:\n",
    "    lo_freq_array = np.arange(np.max(q_freq_est*1E3) + lo_sep*u.MHz - lo_freq_n*lo_int ,np.max(q_freq_est*1E3) + lo_sep*u.MHz + 1, lo_int)\n",
    "\n",
    "q_freq_sweep = np.arange(-30, 30 +1, 1) # will get multiplied to MHz in QUA\n",
    "z_duration = machine.qubits[qubit_index].pi_length + 40 \n",
    "bound_down = -300 \n",
    "bound_up = 0 \n",
    "\n",
    "with program() as qubit_spec_2D_wb:\n",
    "    n = declare(int)  # Averaging index\n",
    "    df = declare(int)  # Qubit frequency sweep around estimated qubit frequency\n",
    "    l = declare(int)  # LO frequency sweep index\n",
    "    q_freq_est_i = declare(int)  # Estimated qubit frequency based from fit\n",
    "    damp = declare(fixed)  # Z amplitude sweep\n",
    "    I = declare(fixed)\n",
    "    Q = declare(fixed)\n",
    "    I_st = declare_stream()\n",
    "    Q_st = declare_stream()\n",
    "    n_st = declare_stream()\n",
    "    qb_if = declare(int) # IF array\n",
    "    lo = declare(int) # LO frequency array \n",
    "    meas_st = declare_stream() # used to report values of some QUA variable I choose\n",
    "    \n",
    "    with for_(l, 0, l < len(lo_freq_array) +1 , l + 1):\n",
    "        pause()\n",
    "        assign(lo, IO1) #octave API\n",
    "        with for_(n, 0, n < n_avg + 1, n + 1):\n",
    "            with for_each_((damp,q_freq_est_i),(ff_amp_sweep,q_freq_est)):\n",
    "                assign(qb_if, (q_freq_est_i - lo) * 1e3) # need the two values that are part of the subtraction to be less than 2^32\n",
    "#                 save(qb_if, meas_st) # uncomment this to report IF value\n",
    "                with if_((qb_if > bound_down * 1e6) & (qb_if <= bound_up * 1e6)):\n",
    "                    with for_(*from_array(df,q_freq_sweep * 1e6)):\n",
    "                        update_frequency(machine.qubits[qubit_index].name, qb_if + df)\n",
    "                        play(\"const\" * amp(damp), machine.flux_lines[qubit_index].name, duration = z_duration * u.ns)\n",
    "                        wait(5, machine.qubits[qubit_index].name)\n",
    "                        play('pi',machine.qubits[qubit_index].name)\n",
    "                        align(machine.qubits[qubit_index].name, machine.flux_lines[qubit_index].name,machine.resonators[qubit_index].name)\n",
    "                        # Measure the resonator\n",
    "                        measure(\n",
    "                            \"readout\",\n",
    "                            machine.resonators[qubit_index].name,\n",
    "                            None,\n",
    "                            dual_demod.full(\"cos\", \"out1\", \"sin\", \"out2\", I),\n",
    "                            dual_demod.full(\"minus_sin\", \"out1\", \"cos\", \"out2\", Q),\n",
    "                        )\n",
    "                        align()\n",
    "                        play(\"const\" * amp((-1 * damp)), machine.flux_lines[qubit_index].name, duration = z_duration * u.ns)\n",
    "                        # Wait for the resonator to cooldown\n",
    "                        wait(cooldown_time * u.ns, machine.resonators[qubit_index].name)\n",
    "                        # Save data to the stream processing\n",
    "                        save(I, I_st)\n",
    "                        save(Q, Q_st)\n",
    "                            \n",
    "                with else_():\n",
    "                    with for_(*from_array(df,q_freq_sweep)):\n",
    "                        # Measure the resonator\n",
    "                        measure(\n",
    "                            \"readout\",\n",
    "                            machine.resonators[qubit_index].name,\n",
    "                            None,\n",
    "                            dual_demod.full(\"cos\", \"out1\", \"sin\", \"out2\", I),\n",
    "                            dual_demod.full(\"minus_sin\", \"out1\", \"cos\", \"out2\", Q),\n",
    "                        )\n",
    "                        wait(cooldown_time * u.ns, machine.resonators[qubit_index].name)\n",
    "                        # Save data to the stream processing\n",
    "#                         assign(I, 0)\n",
    "#                         assign(Q, 0)\n",
    "#                         wait(200)\n",
    "                        save(I, I_st)\n",
    "                        save(Q, Q_st)\n",
    "        save(l, n_st)\n",
    "\n",
    "    with stream_processing():\n",
    "#         I_st.save_all(\"I\")\n",
    "#         Q_st.save_all(\"Q\")\n",
    "        I_st.buffer(len(q_freq_sweep)).buffer(len(q_freq_est)).buffer(n_avg).save_all(\"I\")\n",
    "        Q_st.buffer(len(q_freq_sweep)).buffer(len(q_freq_est)).buffer(n_avg).save_all(\"Q\")\n",
    "        n_st.save_all(\"iteration\")\n",
    "#         meas_st.save_all(\"val\")\n",
    "\n",
    "qmm = QuantumMachinesManager(machine.network.qop_ip, port = '9510', octave=octave_config)\n",
    "\n",
    "\n",
    "qm = qmm.open_qm(config)\n",
    "job = qm.execute(qubit_spec_2D_wb)\n",
    "\n",
    "res_handles = job.result_handles\n",
    "I_handle = res_handles.get(\"I\")\n",
    "Q_handle = res_handles.get(\"Q\")\n",
    "n_handle = res_handles.get(\"iteration\")\n",
    "\n",
    "# Initialize empty vectors to store the global 'I' & 'Q' results\n",
    "I_tot = []\n",
    "Q_tot = []\n",
    "for i in range(len(lo_freq_array)):\n",
    "    lo_val = (lo_freq_array[i]/1e3).astype(int)\n",
    "    qm.set_io1_value(lo_val)\n",
    "    machine.qubits[qubit_index].lo = lo_val * 1e3\n",
    "    qm.octave.set_lo_frequency(machine.qubits[qubit_index].name, lo_val * 1e3)\n",
    "    # Resume the QUA program (escape the 'pause' statement)\n",
    "    job.resume()\n",
    "    # Wait until the program reaches the 'pause' statement again, indicating that the QUA program is done\n",
    "    wait_until_job_is_paused(job)\n",
    "    I, Q, iteration = results.fetch_all()\n",
    "#     progress_counter(iteration, n_avg)\n",
    "\n",
    "    # Convert results into Volts\n",
    "    sigs = u.demod2volts(I + 1j * Q, machine.resonators[qubit_index].readout_pulse_length)\n",
    "    sig_amp = np.abs(sigs)  # Amplitude\n",
    "    I_handle.wait_for_values(i + 1)\n",
    "    Q_handle.wait_for_values(i + 1)\n",
    "    n_handle.wait_for_values(i + 1)\n",
    "#     Fetch the data from the last OPX run corresponding to the current LO frequency\n",
    "    I = np.concatenate(I_handle.fetch(i)[\"value\"])\n",
    "    Q = np.concatenate(Q_handle.fetch(i)[\"value\"])\n",
    "    iteration = n_handle.fetch(i)[\"value\"][0]\n",
    "#     Update the list of global results\n",
    "    I_tot.append(I)\n",
    "    Q_tot.append(Q)\n",
    "#     Progress bar\n",
    "    progress_counter(iteration, len(lo_freq_array))\n",
    "# Interrupt the FPGA program\n",
    "job.halt()\n",
    "\n",
    "# # meas_val = res_handles.get(\"val\").fetch_all()\n",
    "# # print(meas_val)\n",
    "\n",
    "print(\"Finished!\")\n",
    "\n"
   ]
  },
  {
   "cell_type": "code",
   "execution_count": 462,
   "id": "71471cf7",
   "metadata": {},
   "outputs": [
    {
     "name": "stdout",
     "output_type": "stream",
     "text": [
      "Start running ...\n",
      "2023-09-26 09:54:19,094 - qm - INFO     - Performing health check\n"
     ]
    },
    {
     "name": "stderr",
     "output_type": "stream",
     "text": [
      "INFO:qm.api.frontend_api:Performing health check\n"
     ]
    },
    {
     "name": "stdout",
     "output_type": "stream",
     "text": [
      "2023-09-26 09:54:19,102 - qm - INFO     - Health check passed\n"
     ]
    },
    {
     "name": "stderr",
     "output_type": "stream",
     "text": [
      "INFO:qm.api.frontend_api:Health check passed\n"
     ]
    },
    {
     "name": "stdout",
     "output_type": "stream",
     "text": [
      "2023-09-26 09:54:19,794 - qm - INFO     - Sending program to QOP for compilation\n"
     ]
    },
    {
     "name": "stderr",
     "output_type": "stream",
     "text": [
      "INFO:qm.api.frontend_api:Sending program to QOP for compilation\n"
     ]
    },
    {
     "name": "stdout",
     "output_type": "stream",
     "text": [
      "2023-09-26 09:54:20,127 - qm - INFO     - Executing program\n"
     ]
    },
    {
     "name": "stderr",
     "output_type": "stream",
     "text": [
      "INFO:qm.QuantumMachine:Executing program\n"
     ]
    },
    {
     "name": "stdout",
     "output_type": "stream",
     "text": [
      "[(0,) (1,)]\n",
      "[(6340140,)]\n",
      "[(-239566000,) (-239566000,) (-239566000,) ... (-261145000,) (-261145000,)\n",
      " (-261145000,)]\n",
      "[(-239566000,) (-180396000,) (-134854000,) (-102941000,) ( -84656000,)\n",
      " ( -80000000,) ( -88972000,) (-111573000,) (-147802000,) (-197659000,)\n",
      " (-261145000,)]\n",
      "Finished!\n"
     ]
    }
   ],
   "source": [
    "print(\"Start running ...\")\n",
    "\n",
    "now = datetime.datetime.now()\n",
    "month = now.strftime(\"%m\")\n",
    "day = now.strftime(\"%d\")\n",
    "hour = now.strftime(\"%H\")\n",
    "minute = now.strftime(\"%M\")\n",
    "\n",
    "exp_name = 'qubit_spec_flux_sweep_wb'\n",
    "qubit_name = 'UA_Q1'\n",
    "\n",
    "f_str = qubit_name + '_' + exp_name + '_' + month + day + '-' + hour + minute\n",
    "file_name= f_str+'.mat'\n",
    "json_name = f_str + '_state.json'\n",
    "\n",
    "# Set-up the machine and get the config #\n",
    "machine = QuAM(\"quam_state.json\")\n",
    "config = build_config(machine)\n",
    "\n",
    "# Program-specific variables #\n",
    "n_avg = 300  # Number of averaging loops\n",
    "qubit_index = 0 \n",
    "cooldown_time = 10_000  # Resonator cooldown time, convert to ns in the wait() function \n",
    "\n",
    "ff_amp_sweep = np.arange(-0.5,0.5+1E-5,0.1) # fast flux sweep parameters\n",
    "# as this will be a 'fixed' QUA variable, we keep the python array as a float array\n",
    "\n",
    "qubit_freq_fit = poly2(ff_amp_sweep* machine.flux_lines[qubit_index].flux_pulse_amp, *fit_params)\n",
    "qubit_freq_fit = qubit_freq_fit*1e3 #expected qubit frequencies as a function of flux based on 2nd order poly in kHz\n",
    "q_freq_est = qubit_freq_fit.astype(int) # if using int variables in QUA, you need to provide int python variables\n",
    "q_freq_sweep = np.arange(-30, 30 +1, 1) # will get multiplied to MHz in QUA\n",
    "\n",
    "# LO frequency sweep parameters\n",
    "lo_int = 300e6 # LO sweep range\n",
    "lo_sep = 80 # difference between the highest qubit frequency and the LO\n",
    "q_freq_range = np.max(q_freq_est*1e3) - np.min(q_freq_est*1e3)\n",
    "\n",
    "lo_freq_n = np.ceil((np.max(q_freq_est*1e3) - np.min(q_freq_est*1e3))/ (lo_int))\n",
    "if ((np.max(q_freq_est*1e3) + lo_sep*1e6 - lo_freq_n*lo_int)<= np.min(q_freq_est*1e3)):\n",
    "    lo_freq_array = np.arange(np.max(q_freq_est*1E3) + lo_sep*1e6 - (lo_freq_n-1)*lo_int ,np.max(q_freq_est*1E3) + lo_sep*1e6 + 1, lo_int)\n",
    "else:\n",
    "    lo_freq_array = np.arange(np.max(q_freq_est*1E3) + lo_sep*1e6 - lo_freq_n*lo_int ,np.max(q_freq_est*1E3) + lo_sep*1e6 + 1, lo_int)\n",
    "\n",
    "z_duration = machine.qubits[qubit_index].pi_length + 40 \n",
    "bound_down = -300 \n",
    "bound_up = 0 \n",
    "\n",
    "with program() as qubit_spec_2D_wb:\n",
    "    n = declare(int)  # Averaging index\n",
    "    df = declare(int)  # Qubit frequency sweep around estimated qubit frequency\n",
    "    l = declare(int)  # LO frequency sweep index\n",
    "    q_freq_est_i = declare(int)  # Estimated qubit frequency based from fit\n",
    "    damp = declare(fixed)  # Z amplitude sweep\n",
    "    I = declare(fixed)\n",
    "    Q = declare(fixed)\n",
    "    I_st = declare_stream()\n",
    "    Q_st = declare_stream()\n",
    "    n_st = declare_stream()\n",
    "    qb_if = declare(int) # IF array\n",
    "    lo = declare(int) # LO frequency array value\n",
    "    meas_st = declare_stream() # used to report values of some QUA variable I choose\n",
    "    l_st = declare_stream()\n",
    "    lo_st = declare_stream()\n",
    "    qb_if_st = declare_stream()\n",
    "    qb_if_pass_st = declare_stream()\n",
    "    \n",
    "    \n",
    "    with for_(l, 0, l < len(lo_freq_array)+1, l + 1):\n",
    "        save(l, l_st)\n",
    "        pause()\n",
    "        assign(lo, IO1) #octave API\n",
    "        save(lo, lo_st)\n",
    "        \n",
    "        with for_each_((damp,q_freq_est_i),(ff_amp_sweep,q_freq_est)):\n",
    "            assign(qb_if, (q_freq_est_i - lo)*1e3)  # need the two values that are part of the subtraction to be less than 2^32\n",
    "#            Save(qb_if, meas_st) # uncomment this to report IF value\n",
    "            save(qb_if, qb_if_st)\n",
    "            with if_((qb_if > bound_down * u.MHz) & (qb_if <= bound_up * u.MHz)):\n",
    "                with for_(n, 0, n < n_avg, n + 1):\n",
    "                    with for_(*from_array(df,q_freq_sweep * 1e6)):\n",
    "                        save(qb_if, qb_if_pass_st)\n",
    "                        update_frequency(machine.qubits[qubit_index].name, qb_if + df)\n",
    "                        play(\"const\" * amp(damp), machine.flux_lines[qubit_index].name, duration = z_duration * u.ns)\n",
    "                        wait(5, machine.qubits[qubit_index].name)\n",
    "                        play('pi',machine.qubits[qubit_index].name)\n",
    "                        align(machine.qubits[qubit_index].name, machine.flux_lines[qubit_index].name,machine.resonators[qubit_index].name)\n",
    "                        # Measure the resonator\n",
    "                        measure(\n",
    "                            \"readout\",\n",
    "                            machine.resonators[qubit_index].name,\n",
    "                            None,\n",
    "                            dual_demod.full(\"cos\", \"out1\", \"sin\", \"out2\", I),\n",
    "                            dual_demod.full(\"minus_sin\", \"out1\", \"cos\", \"out2\", Q),\n",
    "                        )\n",
    "                        align()\n",
    "                        play(\"const\" * amp((-1 * damp)), machine.flux_lines[qubit_index].name, duration = z_duration * u.ns)\n",
    "                        # Wait for the resonator to cooldown\n",
    "                        wait(cooldown_time * u.ns, machine.resonators[qubit_index].name)\n",
    "                        # Save data to the stream processing\n",
    "                        save(I, I_st)\n",
    "                        save(Q, Q_st)\n",
    "                \n",
    "        save(l, n_st)\n",
    "\n",
    "    with stream_processing():\n",
    "        I_st.buffer(len(q_freq_sweep)).buffer(n_avg).map(FUNCTIONS.average()).save_all(\"I\")\n",
    "        Q_st.buffer(len(q_freq_sweep)).buffer(n_avg).map(FUNCTIONS.average()).save_all(\"Q\")\n",
    "        n_st.save_all(\"iteration\")\n",
    "        l_st.save_all(\"l_loop\")\n",
    "        lo_st.save_all(\"LO\")\n",
    "        qb_if_pass_st.save_all(\"IF_pass\")\n",
    "        qb_if_st.save_all(\"IF\")\n",
    "\n",
    "qmm = QuantumMachinesManager(machine.network.qop_ip, port = '9510', octave=octave_config)\n",
    "\n",
    "qm = qmm.open_qm(config)\n",
    "job = qm.execute(qubit_spec_2D_wb)\n",
    "\n",
    "res_handles = job.result_handles\n",
    "I_handle = res_handles.get(\"I\")\n",
    "Q_handle = res_handles.get(\"Q\")\n",
    "n_handle = res_handles.get(\"iteration\")\n",
    "\n",
    "# Initialize empty vectors to store the global 'I' & 'Q' results\n",
    "I_tot = []\n",
    "Q_tot = []\n",
    "for i in range(len(lo_freq_array)):\n",
    "    lo_val = (lo_freq_array[i]/1e3).astype(int)\n",
    "    qm.set_io1_value(lo_val)\n",
    "    machine.qubits[qubit_index].lo = lo_val * 1e3\n",
    "    qm.octave.set_lo_frequency(machine.qubits[qubit_index].name, lo_val * 1e3)\n",
    "    # Resume the QUA program (escape the 'pause' statement)\n",
    "    job.resume()\n",
    "    # Wait until the program reaches the 'pause' statement again, indicating that the QUA program is done\n",
    "    wait_until_job_is_paused(job)\n",
    "    \n",
    "\n",
    "\n",
    "    I, Q, iteration = results.fetch_all()\n",
    "#     progress_counter(iteration, n_avg)\n",
    "\n",
    "    # Convert results into Volts\n",
    "    sigs = u.demod2volts(I + 1j * Q, machine.resonators[qubit_index].readout_pulse_length)\n",
    "    sig_amp = np.abs(sigs)  # Amplitude\n",
    "    I_handle.wait_for_values(i + 1)\n",
    "    Q_handle.wait_for_values(i + 1)\n",
    "    n_handle.wait_for_values(i + 1)\n",
    "#     Fetch the data from the last OPX run corresponding to the current LO frequency\n",
    "#     I = np.concatenate(I_handle.fetch(i)[\"value\"])\n",
    "#     Q = np.concatenate(Q_handle.fetch(i)[\"value\"])\n",
    "    \n",
    "    I_tot = I_handle.fetch_all()['value']\n",
    "    Q_tot = Q_handle.fetch_all()['value']\n",
    "#     iteration = n_handle.fetch(i)[\"value\"][0]\n",
    "# #     Update the list of global results\n",
    "#     I_tot.append(I)\n",
    "#     Q_tot.append(Q)\n",
    "# #     Progress bar\n",
    "#     progress_counter(iteration, len(lo_freq_array))\n",
    "# Interrupt the FPGA program\n",
    "job.halt()\n",
    "\n",
    "# meas_val = res_handles.get(\"val\").fetch_all()\n",
    "# print(meas_val)\n",
    "l_val = res_handles.get(\"l_loop\").fetch_all()\n",
    "print(l_val)\n",
    "lo_val1 = res_handles.get(\"LO\").fetch_all()\n",
    "print(lo_val1)\n",
    "if_pass_val = res_handles.get(\"IF_pass\").fetch_all()\n",
    "print(if_pass_val)\n",
    "if_val = res_handles.get(\"IF\").fetch_all()\n",
    "print(if_val)\n",
    "\n",
    "print(\"Finished!\")"
   ]
  },
  {
   "cell_type": "code",
   "execution_count": 463,
   "id": "354e4d0e",
   "metadata": {},
   "outputs": [
    {
     "ename": "ValueError",
     "evalue": "not enough values to unpack (expected 2, got 1)",
     "output_type": "error",
     "traceback": [
      "\u001b[1;31m---------------------------------------------------------------------------\u001b[0m",
      "\u001b[1;31mValueError\u001b[0m                                Traceback (most recent call last)",
      "Cell \u001b[1;32mIn[463], line 47\u001b[0m\n\u001b[0;32m     45\u001b[0m \u001b[38;5;66;03m# 2D spectroscopy plot\u001b[39;00m\n\u001b[0;32m     46\u001b[0m plt\u001b[38;5;241m.\u001b[39mtitle(\u001b[38;5;124m\"\u001b[39m\u001b[38;5;124mQubit spectroscopy tuning curve\u001b[39m\u001b[38;5;124m\"\u001b[39m)\n\u001b[1;32m---> 47\u001b[0m \u001b[43mplt\u001b[49m\u001b[38;5;241;43m.\u001b[39;49m\u001b[43mpcolormesh\u001b[49m\u001b[43m(\u001b[49m\u001b[43mff_amp_sweep_2D\u001b[49m\u001b[43m,\u001b[49m\u001b[43m \u001b[49m\u001b[43mq_freq_sweep_2D\u001b[49m\u001b[38;5;241;43m.\u001b[39;49m\u001b[43mastype\u001b[49m\u001b[43m(\u001b[49m\u001b[38;5;28;43mfloat\u001b[39;49m\u001b[43m)\u001b[49m\u001b[43m,\u001b[49m\u001b[43m \u001b[49m\u001b[43msig_amp\u001b[49m\u001b[43m \u001b[49m\u001b[43m,\u001b[49m\u001b[43mcmap\u001b[49m\u001b[38;5;241;43m=\u001b[39;49m\u001b[38;5;124;43m\"\u001b[39;49m\u001b[38;5;124;43mseismic\u001b[39;49m\u001b[38;5;124;43m\"\u001b[39;49m\u001b[43m)\u001b[49m\n\u001b[0;32m     48\u001b[0m plt\u001b[38;5;241m.\u001b[39mxlabel(\u001b[38;5;124m\"\u001b[39m\u001b[38;5;124mFlux level [V]\u001b[39m\u001b[38;5;124m\"\u001b[39m)\n\u001b[0;32m     49\u001b[0m plt\u001b[38;5;241m.\u001b[39mylabel(\u001b[38;5;124m\"\u001b[39m\u001b[38;5;124mQubit frequency [MHz]\u001b[39m\u001b[38;5;124m\"\u001b[39m)\n",
      "File \u001b[1;32m~\\.conda\\envs\\labber-qm-env\\lib\\site-packages\\matplotlib\\pyplot.py:2773\u001b[0m, in \u001b[0;36mpcolormesh\u001b[1;34m(alpha, norm, cmap, vmin, vmax, shading, antialiased, data, *args, **kwargs)\u001b[0m\n\u001b[0;32m   2768\u001b[0m \u001b[38;5;129m@_copy_docstring_and_deprecators\u001b[39m(Axes\u001b[38;5;241m.\u001b[39mpcolormesh)\n\u001b[0;32m   2769\u001b[0m \u001b[38;5;28;01mdef\u001b[39;00m \u001b[38;5;21mpcolormesh\u001b[39m(\n\u001b[0;32m   2770\u001b[0m         \u001b[38;5;241m*\u001b[39margs, alpha\u001b[38;5;241m=\u001b[39m\u001b[38;5;28;01mNone\u001b[39;00m, norm\u001b[38;5;241m=\u001b[39m\u001b[38;5;28;01mNone\u001b[39;00m, cmap\u001b[38;5;241m=\u001b[39m\u001b[38;5;28;01mNone\u001b[39;00m, vmin\u001b[38;5;241m=\u001b[39m\u001b[38;5;28;01mNone\u001b[39;00m,\n\u001b[0;32m   2771\u001b[0m         vmax\u001b[38;5;241m=\u001b[39m\u001b[38;5;28;01mNone\u001b[39;00m, shading\u001b[38;5;241m=\u001b[39m\u001b[38;5;28;01mNone\u001b[39;00m, antialiased\u001b[38;5;241m=\u001b[39m\u001b[38;5;28;01mFalse\u001b[39;00m, data\u001b[38;5;241m=\u001b[39m\u001b[38;5;28;01mNone\u001b[39;00m,\n\u001b[0;32m   2772\u001b[0m         \u001b[38;5;241m*\u001b[39m\u001b[38;5;241m*\u001b[39mkwargs):\n\u001b[1;32m-> 2773\u001b[0m     __ret \u001b[38;5;241m=\u001b[39m \u001b[43mgca\u001b[49m\u001b[43m(\u001b[49m\u001b[43m)\u001b[49m\u001b[38;5;241;43m.\u001b[39;49m\u001b[43mpcolormesh\u001b[49m\u001b[43m(\u001b[49m\n\u001b[0;32m   2774\u001b[0m \u001b[43m        \u001b[49m\u001b[38;5;241;43m*\u001b[39;49m\u001b[43margs\u001b[49m\u001b[43m,\u001b[49m\u001b[43m \u001b[49m\u001b[43malpha\u001b[49m\u001b[38;5;241;43m=\u001b[39;49m\u001b[43malpha\u001b[49m\u001b[43m,\u001b[49m\u001b[43m \u001b[49m\u001b[43mnorm\u001b[49m\u001b[38;5;241;43m=\u001b[39;49m\u001b[43mnorm\u001b[49m\u001b[43m,\u001b[49m\u001b[43m \u001b[49m\u001b[43mcmap\u001b[49m\u001b[38;5;241;43m=\u001b[39;49m\u001b[43mcmap\u001b[49m\u001b[43m,\u001b[49m\u001b[43m \u001b[49m\u001b[43mvmin\u001b[49m\u001b[38;5;241;43m=\u001b[39;49m\u001b[43mvmin\u001b[49m\u001b[43m,\u001b[49m\n\u001b[0;32m   2775\u001b[0m \u001b[43m        \u001b[49m\u001b[43mvmax\u001b[49m\u001b[38;5;241;43m=\u001b[39;49m\u001b[43mvmax\u001b[49m\u001b[43m,\u001b[49m\u001b[43m \u001b[49m\u001b[43mshading\u001b[49m\u001b[38;5;241;43m=\u001b[39;49m\u001b[43mshading\u001b[49m\u001b[43m,\u001b[49m\u001b[43m \u001b[49m\u001b[43mantialiased\u001b[49m\u001b[38;5;241;43m=\u001b[39;49m\u001b[43mantialiased\u001b[49m\u001b[43m,\u001b[49m\n\u001b[0;32m   2776\u001b[0m \u001b[43m        \u001b[49m\u001b[38;5;241;43m*\u001b[39;49m\u001b[38;5;241;43m*\u001b[39;49m\u001b[43m(\u001b[49m\u001b[43m{\u001b[49m\u001b[38;5;124;43m\"\u001b[39;49m\u001b[38;5;124;43mdata\u001b[39;49m\u001b[38;5;124;43m\"\u001b[39;49m\u001b[43m:\u001b[49m\u001b[43m \u001b[49m\u001b[43mdata\u001b[49m\u001b[43m}\u001b[49m\u001b[43m \u001b[49m\u001b[38;5;28;43;01mif\u001b[39;49;00m\u001b[43m \u001b[49m\u001b[43mdata\u001b[49m\u001b[43m \u001b[49m\u001b[38;5;129;43;01mis\u001b[39;49;00m\u001b[43m \u001b[49m\u001b[38;5;129;43;01mnot\u001b[39;49;00m\u001b[43m \u001b[49m\u001b[38;5;28;43;01mNone\u001b[39;49;00m\u001b[43m \u001b[49m\u001b[38;5;28;43;01melse\u001b[39;49;00m\u001b[43m \u001b[49m\u001b[43m{\u001b[49m\u001b[43m}\u001b[49m\u001b[43m)\u001b[49m\u001b[43m,\u001b[49m\u001b[43m \u001b[49m\u001b[38;5;241;43m*\u001b[39;49m\u001b[38;5;241;43m*\u001b[39;49m\u001b[43mkwargs\u001b[49m\u001b[43m)\u001b[49m\n\u001b[0;32m   2777\u001b[0m     sci(__ret)\n\u001b[0;32m   2778\u001b[0m     \u001b[38;5;28;01mreturn\u001b[39;00m __ret\n",
      "File \u001b[1;32m~\\.conda\\envs\\labber-qm-env\\lib\\site-packages\\matplotlib\\__init__.py:1442\u001b[0m, in \u001b[0;36m_preprocess_data.<locals>.inner\u001b[1;34m(ax, data, *args, **kwargs)\u001b[0m\n\u001b[0;32m   1439\u001b[0m \u001b[38;5;129m@functools\u001b[39m\u001b[38;5;241m.\u001b[39mwraps(func)\n\u001b[0;32m   1440\u001b[0m \u001b[38;5;28;01mdef\u001b[39;00m \u001b[38;5;21minner\u001b[39m(ax, \u001b[38;5;241m*\u001b[39margs, data\u001b[38;5;241m=\u001b[39m\u001b[38;5;28;01mNone\u001b[39;00m, \u001b[38;5;241m*\u001b[39m\u001b[38;5;241m*\u001b[39mkwargs):\n\u001b[0;32m   1441\u001b[0m     \u001b[38;5;28;01mif\u001b[39;00m data \u001b[38;5;129;01mis\u001b[39;00m \u001b[38;5;28;01mNone\u001b[39;00m:\n\u001b[1;32m-> 1442\u001b[0m         \u001b[38;5;28;01mreturn\u001b[39;00m \u001b[43mfunc\u001b[49m\u001b[43m(\u001b[49m\u001b[43max\u001b[49m\u001b[43m,\u001b[49m\u001b[43m \u001b[49m\u001b[38;5;241;43m*\u001b[39;49m\u001b[38;5;28;43mmap\u001b[39;49m\u001b[43m(\u001b[49m\u001b[43msanitize_sequence\u001b[49m\u001b[43m,\u001b[49m\u001b[43m \u001b[49m\u001b[43margs\u001b[49m\u001b[43m)\u001b[49m\u001b[43m,\u001b[49m\u001b[43m \u001b[49m\u001b[38;5;241;43m*\u001b[39;49m\u001b[38;5;241;43m*\u001b[39;49m\u001b[43mkwargs\u001b[49m\u001b[43m)\u001b[49m\n\u001b[0;32m   1444\u001b[0m     bound \u001b[38;5;241m=\u001b[39m new_sig\u001b[38;5;241m.\u001b[39mbind(ax, \u001b[38;5;241m*\u001b[39margs, \u001b[38;5;241m*\u001b[39m\u001b[38;5;241m*\u001b[39mkwargs)\n\u001b[0;32m   1445\u001b[0m     auto_label \u001b[38;5;241m=\u001b[39m (bound\u001b[38;5;241m.\u001b[39marguments\u001b[38;5;241m.\u001b[39mget(label_namer)\n\u001b[0;32m   1446\u001b[0m                   \u001b[38;5;129;01mor\u001b[39;00m bound\u001b[38;5;241m.\u001b[39mkwargs\u001b[38;5;241m.\u001b[39mget(label_namer))\n",
      "File \u001b[1;32m~\\.conda\\envs\\labber-qm-env\\lib\\site-packages\\matplotlib\\axes\\_axes.py:6220\u001b[0m, in \u001b[0;36mAxes.pcolormesh\u001b[1;34m(self, alpha, norm, cmap, vmin, vmax, shading, antialiased, *args, **kwargs)\u001b[0m\n\u001b[0;32m   6217\u001b[0m shading \u001b[38;5;241m=\u001b[39m shading\u001b[38;5;241m.\u001b[39mlower()\n\u001b[0;32m   6218\u001b[0m kwargs\u001b[38;5;241m.\u001b[39msetdefault(\u001b[38;5;124m'\u001b[39m\u001b[38;5;124medgecolors\u001b[39m\u001b[38;5;124m'\u001b[39m, \u001b[38;5;124m'\u001b[39m\u001b[38;5;124mnone\u001b[39m\u001b[38;5;124m'\u001b[39m)\n\u001b[1;32m-> 6220\u001b[0m X, Y, C, shading \u001b[38;5;241m=\u001b[39m \u001b[38;5;28;43mself\u001b[39;49m\u001b[38;5;241;43m.\u001b[39;49m\u001b[43m_pcolorargs\u001b[49m\u001b[43m(\u001b[49m\u001b[38;5;124;43m'\u001b[39;49m\u001b[38;5;124;43mpcolormesh\u001b[39;49m\u001b[38;5;124;43m'\u001b[39;49m\u001b[43m,\u001b[49m\u001b[43m \u001b[49m\u001b[38;5;241;43m*\u001b[39;49m\u001b[43margs\u001b[49m\u001b[43m,\u001b[49m\n\u001b[0;32m   6221\u001b[0m \u001b[43m                                    \u001b[49m\u001b[43mshading\u001b[49m\u001b[38;5;241;43m=\u001b[39;49m\u001b[43mshading\u001b[49m\u001b[43m,\u001b[49m\u001b[43m \u001b[49m\u001b[43mkwargs\u001b[49m\u001b[38;5;241;43m=\u001b[39;49m\u001b[43mkwargs\u001b[49m\u001b[43m)\u001b[49m\n\u001b[0;32m   6222\u001b[0m coords \u001b[38;5;241m=\u001b[39m np\u001b[38;5;241m.\u001b[39mstack([X, Y], axis\u001b[38;5;241m=\u001b[39m\u001b[38;5;241m-\u001b[39m\u001b[38;5;241m1\u001b[39m)\n\u001b[0;32m   6223\u001b[0m \u001b[38;5;66;03m# convert to one dimensional array, except for 3D RGB(A) arrays\u001b[39;00m\n",
      "File \u001b[1;32m~\\.conda\\envs\\labber-qm-env\\lib\\site-packages\\matplotlib\\axes\\_axes.py:5727\u001b[0m, in \u001b[0;36mAxes._pcolorargs\u001b[1;34m(self, funcname, shading, *args, **kwargs)\u001b[0m\n\u001b[0;32m   5725\u001b[0m         \u001b[38;5;28;01mif\u001b[39;00m \u001b[38;5;28misinstance\u001b[39m(Y, np\u001b[38;5;241m.\u001b[39mma\u001b[38;5;241m.\u001b[39mcore\u001b[38;5;241m.\u001b[39mMaskedArray):\n\u001b[0;32m   5726\u001b[0m             Y \u001b[38;5;241m=\u001b[39m Y\u001b[38;5;241m.\u001b[39mdata\n\u001b[1;32m-> 5727\u001b[0m     nrows, ncols \u001b[38;5;241m=\u001b[39m C\u001b[38;5;241m.\u001b[39mshape[:\u001b[38;5;241m2\u001b[39m]\n\u001b[0;32m   5728\u001b[0m \u001b[38;5;28;01melse\u001b[39;00m:\n\u001b[0;32m   5729\u001b[0m     \u001b[38;5;28;01mraise\u001b[39;00m _api\u001b[38;5;241m.\u001b[39mnargs_error(funcname, takes\u001b[38;5;241m=\u001b[39m\u001b[38;5;124m\"\u001b[39m\u001b[38;5;124m1 or 3\u001b[39m\u001b[38;5;124m\"\u001b[39m, given\u001b[38;5;241m=\u001b[39m\u001b[38;5;28mlen\u001b[39m(args))\n",
      "\u001b[1;31mValueError\u001b[0m: not enough values to unpack (expected 2, got 1)"
     ]
    }
   ],
   "source": [
    "#  read data removing garbage from blanks\n",
    "\n",
    "%matplotlib qt\n",
    "I = np.concatenate(I_tot)\n",
    "Q = np.concatenate(Q_tot)\n",
    "sigs = u.demod2volts(I + 1j * Q, machine.resonators[qubit_index].readout_pulse_length)\n",
    "sig_amp = np.abs(sigs)  # Amplitude\n",
    "sig_phase = np.angle(sigs)  # Phase\n",
    "\n",
    "# arr_idx = []\n",
    "# for lo_f in lo_freq_array:\n",
    "#     LO = lo_f\n",
    "#     for est in q_freq_est:\n",
    "#         IF = est * 1E3 - LO\n",
    "#         if ((IF > bound_down*1E6) & (IF <= bound_up*1E6)):\n",
    "#             arr_idx = np.append(arr_idx, 1)\n",
    "# #             print(\"good\", IF, LO)\n",
    "#         else:\n",
    "#             arr_idx = np.append(arr_idx, 0)\n",
    "# #             print(\"bad\", IF, LO)\n",
    "\n",
    "# # %%\n",
    "\n",
    "# sig_red = []\n",
    "\n",
    "# for i in np.arange(len(arr_idx)):\n",
    "\n",
    "#     if arr_idx[i] == 1:\n",
    "#         sig_red.append(sig_amp[i])\n",
    "#     else:\n",
    "#         pass\n",
    "\n",
    "# sig_red = np.array(sig_red)\n",
    "\n",
    "# to save all the frequencies used in the scan\n",
    "q_freq_sweep_2D, q_freq_est_2D = np.meshgrid(q_freq_sweep*1E6, q_freq_est.astype(float) * 1e3)\n",
    "_, ff_amp_sweep_2D = np.meshgrid(q_freq_sweep*1E6, ff_amp_sweep * machine.flux_lines[qubit_index].flux_pulse_amp)\n",
    "q_freq_sweep_2D = q_freq_est_2D + q_freq_sweep_2D\n",
    "    \n",
    "# Final plot\n",
    "fig = plt.figure()\n",
    "plt.rcParams['figure.figsize'] = [8, 4]\n",
    "plt.cla()\n",
    "\n",
    "# 2D spectroscopy plot\n",
    "plt.title(\"Qubit spectroscopy tuning curve\")\n",
    "plt.pcolormesh(ff_amp_sweep_2D, q_freq_sweep_2D.astype(float), sig_amp ,cmap=\"seismic\")\n",
    "plt.xlabel(\"Flux level [V]\")\n",
    "plt.ylabel(\"Qubit frequency [MHz]\")\n",
    "plt.pause(0.1)\n",
    "plt.tight_layout() \n",
    "plt.colorbar()"
   ]
  },
  {
   "cell_type": "code",
   "execution_count": 465,
   "id": "83fec51e",
   "metadata": {},
   "outputs": [
    {
     "data": {
      "text/plain": [
       "(671,)"
      ]
     },
     "execution_count": 465,
     "metadata": {},
     "output_type": "execute_result"
    }
   ],
   "source": [
    "np.shape(sig_amp)"
   ]
  },
  {
   "cell_type": "code",
   "execution_count": 460,
   "id": "761fb2a8",
   "metadata": {
    "scrolled": true
   },
   "outputs": [
    {
     "ename": "AxisError",
     "evalue": "axis 2 is out of bounds for array of dimension 2",
     "output_type": "error",
     "traceback": [
      "\u001b[1;31m---------------------------------------------------------------------------\u001b[0m",
      "\u001b[1;31mAxisError\u001b[0m                                 Traceback (most recent call last)",
      "Cell \u001b[1;32mIn[460], line 12\u001b[0m\n\u001b[0;32m     10\u001b[0m sig_amp_avg \u001b[38;5;241m=\u001b[39m[]\n\u001b[0;32m     11\u001b[0m sig_amp_red \u001b[38;5;241m=\u001b[39m []\n\u001b[1;32m---> 12\u001b[0m sig_amp_clean \u001b[38;5;241m=\u001b[39m sig_amp[\u001b[38;5;241m~\u001b[39m\u001b[43mnp\u001b[49m\u001b[38;5;241;43m.\u001b[39;49m\u001b[43mall\u001b[49m\u001b[43m(\u001b[49m\u001b[43msig_amp\u001b[49m\u001b[43m \u001b[49m\u001b[38;5;241;43m==\u001b[39;49m\u001b[43m \u001b[49m\u001b[38;5;241;43m0\u001b[39;49m\u001b[43m,\u001b[49m\u001b[43m \u001b[49m\u001b[43maxis\u001b[49m\u001b[38;5;241;43m=\u001b[39;49m\u001b[38;5;241;43m2\u001b[39;49m\u001b[43m)\u001b[49m]\n\u001b[0;32m     13\u001b[0m \u001b[38;5;28;01mfor\u001b[39;00m n \u001b[38;5;129;01min\u001b[39;00m np\u001b[38;5;241m.\u001b[39marange(\u001b[38;5;28mlen\u001b[39m(ff_amp_sweep)):\n\u001b[0;32m     14\u001b[0m     sig_amp_red \u001b[38;5;241m=\u001b[39m sig_amp_clean[n\u001b[38;5;241m*\u001b[39mn_avg:(n\u001b[38;5;241m+\u001b[39m\u001b[38;5;241m1\u001b[39m)\u001b[38;5;241m*\u001b[39mn_avg]\n",
      "File \u001b[1;32m<__array_function__ internals>:200\u001b[0m, in \u001b[0;36mall\u001b[1;34m(*args, **kwargs)\u001b[0m\n",
      "File \u001b[1;32m~\\AppData\\Roaming\\Python\\Python38\\site-packages\\numpy\\core\\fromnumeric.py:2515\u001b[0m, in \u001b[0;36mall\u001b[1;34m(a, axis, out, keepdims, where)\u001b[0m\n\u001b[0;32m   2432\u001b[0m \u001b[38;5;129m@array_function_dispatch\u001b[39m(_all_dispatcher)\n\u001b[0;32m   2433\u001b[0m \u001b[38;5;28;01mdef\u001b[39;00m \u001b[38;5;21mall\u001b[39m(a, axis\u001b[38;5;241m=\u001b[39m\u001b[38;5;28;01mNone\u001b[39;00m, out\u001b[38;5;241m=\u001b[39m\u001b[38;5;28;01mNone\u001b[39;00m, keepdims\u001b[38;5;241m=\u001b[39mnp\u001b[38;5;241m.\u001b[39m_NoValue, \u001b[38;5;241m*\u001b[39m, where\u001b[38;5;241m=\u001b[39mnp\u001b[38;5;241m.\u001b[39m_NoValue):\n\u001b[0;32m   2434\u001b[0m \u001b[38;5;250m    \u001b[39m\u001b[38;5;124;03m\"\"\"\u001b[39;00m\n\u001b[0;32m   2435\u001b[0m \u001b[38;5;124;03m    Test whether all array elements along a given axis evaluate to True.\u001b[39;00m\n\u001b[0;32m   2436\u001b[0m \n\u001b[1;32m   (...)\u001b[0m\n\u001b[0;32m   2513\u001b[0m \n\u001b[0;32m   2514\u001b[0m \u001b[38;5;124;03m    \"\"\"\u001b[39;00m\n\u001b[1;32m-> 2515\u001b[0m     \u001b[38;5;28;01mreturn\u001b[39;00m \u001b[43m_wrapreduction\u001b[49m\u001b[43m(\u001b[49m\u001b[43ma\u001b[49m\u001b[43m,\u001b[49m\u001b[43m \u001b[49m\u001b[43mnp\u001b[49m\u001b[38;5;241;43m.\u001b[39;49m\u001b[43mlogical_and\u001b[49m\u001b[43m,\u001b[49m\u001b[43m \u001b[49m\u001b[38;5;124;43m'\u001b[39;49m\u001b[38;5;124;43mall\u001b[39;49m\u001b[38;5;124;43m'\u001b[39;49m\u001b[43m,\u001b[49m\u001b[43m \u001b[49m\u001b[43maxis\u001b[49m\u001b[43m,\u001b[49m\u001b[43m \u001b[49m\u001b[38;5;28;43;01mNone\u001b[39;49;00m\u001b[43m,\u001b[49m\u001b[43m \u001b[49m\u001b[43mout\u001b[49m\u001b[43m,\u001b[49m\n\u001b[0;32m   2516\u001b[0m \u001b[43m                          \u001b[49m\u001b[43mkeepdims\u001b[49m\u001b[38;5;241;43m=\u001b[39;49m\u001b[43mkeepdims\u001b[49m\u001b[43m,\u001b[49m\u001b[43m \u001b[49m\u001b[43mwhere\u001b[49m\u001b[38;5;241;43m=\u001b[39;49m\u001b[43mwhere\u001b[49m\u001b[43m)\u001b[49m\n",
      "File \u001b[1;32m~\\AppData\\Roaming\\Python\\Python38\\site-packages\\numpy\\core\\fromnumeric.py:86\u001b[0m, in \u001b[0;36m_wrapreduction\u001b[1;34m(obj, ufunc, method, axis, dtype, out, **kwargs)\u001b[0m\n\u001b[0;32m     83\u001b[0m         \u001b[38;5;28;01melse\u001b[39;00m:\n\u001b[0;32m     84\u001b[0m             \u001b[38;5;28;01mreturn\u001b[39;00m reduction(axis\u001b[38;5;241m=\u001b[39maxis, out\u001b[38;5;241m=\u001b[39mout, \u001b[38;5;241m*\u001b[39m\u001b[38;5;241m*\u001b[39mpasskwargs)\n\u001b[1;32m---> 86\u001b[0m \u001b[38;5;28;01mreturn\u001b[39;00m \u001b[43mufunc\u001b[49m\u001b[38;5;241;43m.\u001b[39;49m\u001b[43mreduce\u001b[49m\u001b[43m(\u001b[49m\u001b[43mobj\u001b[49m\u001b[43m,\u001b[49m\u001b[43m \u001b[49m\u001b[43maxis\u001b[49m\u001b[43m,\u001b[49m\u001b[43m \u001b[49m\u001b[43mdtype\u001b[49m\u001b[43m,\u001b[49m\u001b[43m \u001b[49m\u001b[43mout\u001b[49m\u001b[43m,\u001b[49m\u001b[43m \u001b[49m\u001b[38;5;241;43m*\u001b[39;49m\u001b[38;5;241;43m*\u001b[39;49m\u001b[43mpasskwargs\u001b[49m\u001b[43m)\u001b[49m\n",
      "\u001b[1;31mAxisError\u001b[0m: axis 2 is out of bounds for array of dimension 2"
     ]
    }
   ],
   "source": [
    "#  read data removing garbage from blanks\n",
    "\n",
    "%matplotlib qt\n",
    "I = I_tot\n",
    "Q = Q_tot\n",
    "sigs = u.demod2volts(I + 1j * Q, machine.resonators[qubit_index].readout_pulse_length)\n",
    "sig_amp = np.abs(sigs)  # Amplitude\n",
    "sig_phase = np.angle(sigs)  # Phase\n",
    "\n",
    "sig_amp_avg =[]\n",
    "sig_amp_red = []\n",
    "sig_amp_clean = sig_amp[~np.all(sig_amp == 0, axis=2)]\n",
    "for n in np.arange(len(ff_amp_sweep)):\n",
    "    sig_amp_red = sig_amp_clean[n*n_avg:(n+1)*n_avg]\n",
    "    sig_amp_avg = np.append(sig_amp_avg, np.mean(sig_amp_red, axis=0))\n",
    "sig_amp_avg= np.reshape(sig_amp_avg, (len(ff_amp_sweep), len(q_freq_sweep)))      \n",
    "\n",
    "\n",
    "\n",
    "# arr_idx = []\n",
    "# for lo_f in lo_freq_array:\n",
    "#     LO = lo_f\n",
    "#     for est in q_freq_est:\n",
    "#         IF = est * 1e3 - LO\n",
    "#         if ((IF > bound_down*1e6) & (IF <= bound_up*1e6)):\n",
    "#             arr_idx.append(1)\n",
    "#         else:\n",
    "#             arr_idx.append(0)\n",
    "# sig_red = []\n",
    "# for i in np.arange(len(arr_idx)):\n",
    "#     if arr_idx[i] == 1:\n",
    "#         sig_red.append(sig_amp_avg[i])\n",
    "#     else:\n",
    "#         pass\n",
    "# sig_red = np.array(sig_red)\n",
    "\n",
    "\n",
    "# to save all the frequencies used in the scan\n",
    "q_freq_sweep_2D, q_freq_est_2D = np.meshgrid(q_freq_sweep*1E6, q_freq_est.astype(float) * 1e3)\n",
    "_, ff_amp_sweep_2D = np.meshgrid(q_freq_sweep*1E6, ff_amp_sweep * machine.flux_lines[qubit_index].flux_pulse_amp)\n",
    "q_freq_sweep_2D = q_freq_est_2D + q_freq_sweep_2D\n",
    "    \n",
    "# Final plot\n",
    "fig = plt.figure()\n",
    "plt.rcParams['figure.figsize'] = [8, 4]\n",
    "plt.cla()\n",
    "\n",
    "# 2D spectroscopy plot\n",
    "plt.title(\"Qubit spectroscopy tuning curve\")\n",
    "plt.pcolormesh(ff_amp_sweep_2D, q_freq_sweep_2D.astype(float), sig_amp ,cmap=\"seismic\")\n",
    "plt.xlabel(\"Flux level [V]\")\n",
    "plt.ylabel(\"Qubit frequency [MHz]\")\n",
    "plt.pause(0.1)\n",
    "plt.tight_layout() \n",
    "plt.colorbar()"
   ]
  },
  {
   "cell_type": "markdown",
   "id": "0537165c",
   "metadata": {},
   "source": [
    "## Simplified case of 1D scan"
   ]
  },
  {
   "cell_type": "code",
   "execution_count": null,
   "id": "a1e67935",
   "metadata": {},
   "outputs": [],
   "source": [
    "q_freq_est =ham([SS], 2, *popt) # in MHz\n",
    "\n",
    "now = datetime.datetime.now()\n",
    "month = now.strftime(\"%m\")\n",
    "day = now.strftime(\"%d\")\n",
    "hour = now.strftime(\"%H\")\n",
    "minute = now.strftime(\"%M\")\n",
    "\n",
    "exp_name = 'qubit_spec_flux_sweep'\n",
    "qubit_name = 'UA_Q1'\n",
    "\n",
    "f_str = qubit_name + '_' + exp_name + '_' + month + day + '-' + hour + minute\n",
    "file_name= f_str+'.mat'\n",
    "json_name = f_str + '_state.json'\n",
    "\n",
    "# Set-up the machine and get the config #\n",
    "machine = QuAM(\"quam_state.json\")\n",
    "config = build_config(machine)\n",
    "\n",
    "# Program-specific variables #\n",
    "n_avg =1_000  # Number of averaging loops\n",
    "qubit_index = 0 \n",
    "cooldown_time = 20_000  # Resonator cooldown time, convert to ns in the wait() function \n",
    "\n",
    "ff_amp_sweep = np.arange(-0.2,0.2+0.1,0.05)\n",
    "freq_est_diff = (machine.qubits[qubit_index].f_01-1E6*ham([SS], 2, *popt))[0] # in Hz\n",
    "q_freq_est =1E6*ham(machine.flux_lines[qubit_index].flux_pulse_amp * ff_amp_sweep+SS, 2, *popt) + freq_est_diff # in Hz\n",
    "\n",
    "q_freq_sweep = np.arange(-100e6, 100e6, 2e6)\n",
    "z_duration = machine.qubits[qubit_index].pi_length + 40\n",
    "\n",
    "with program() as qubit_spec_2D:\n",
    "    n = declare(int)  # Averaging index\n",
    "    df = declare(int)  # Qubit sweep\n",
    "    i = declare(int)  # Z amplitude index\n",
    "    damp = declare(fixed)  # Z amplitude sweep\n",
    "    I = declare(fixed)\n",
    "    Q = declare(fixed)\n",
    "    I_st = declare_stream()\n",
    "    Q_st = declare_stream()\n",
    "    n_st = declare_stream()\n",
    "\n",
    "    with for_(n, 0, n < n_avg, n + 1):\n",
    "        assign(i,0)\n",
    "        #with for_(*from_array(damp,ff_amp_sweep)):\n",
    "        with for_each_(damp,ff_amp_sweep):\n",
    "            qb_if = q_freq_est[0] - machine.qubits[qubit_index].lo\n",
    "            update_frequency(machine.qubits[qubit_index].name, qb_if)\n",
    "            play(\"const\" * amp(damp), machine.flux_lines[qubit_index].name, duration = z_duration * u.ns)\n",
    "            wait(5, machine.qubits[qubit_index].name)\n",
    "            play('pi',machine.qubits[qubit_index].name)\n",
    "            align(machine.qubits[qubit_index].name, machine.flux_lines[qubit_index].name,machine.resonators[qubit_index].name)\n",
    "            # Measure the resonator\n",
    "            measure(\n",
    "                \"readout\",\n",
    "                machine.resonators[qubit_index].name,\n",
    "                None,\n",
    "                dual_demod.full(\"cos\", \"out1\", \"sin\", \"out2\", I),\n",
    "                dual_demod.full(\"minus_sin\", \"out1\", \"cos\", \"out2\", Q),\n",
    "            )\n",
    "            align()\n",
    "            play(\"const\" * amp((-1)*damp), machine.flux_lines[qubit_index].name, duration = z_duration * u.ns)\n",
    "            # Wait for the resonator to cooldown\n",
    "            wait(cooldown_time * u.ns, machine.resonators[qubit_index].name)\n",
    "            # Save data to the stream processing\n",
    "            save(I, I_st)\n",
    "            save(Q, Q_st)\n",
    "            assign(i, i+1)\n",
    "            save(i, n_st)\n",
    "\n",
    "    with stream_processing():\n",
    "        I_st.buffer(len(ff_amp_sweep)).average().save(\"I\")\n",
    "        Q_st.buffer(len(ff_amp_sweep)).average().save(\"Q\")\n",
    "        n_st.save(\"iteration\")\n",
    "\n",
    "# to save all the frequencies used in the scan\n",
    "q_freq_tot = q_freq_est[0] + q_freq_sweep\n",
    "###############\n",
    "# Run Program #\n",
    "###############\n",
    "#  Open Communication with the QOP  #\n",
    "# qmm = QuantumMachinesManager(machine.network.qop_ip, cluster_name=machine.network.cluster_name, octave=octave_config)\n",
    "# qmm = QuantumMachinesManager(machine.network.qop_ip, port = '9510', octave=octave_config, log_level = \"ERROR\")\n",
    "qmm = QuantumMachinesManager(machine.network.qop_ip, port = '9510', octave=octave_config)\n",
    "\n",
    "simulate = False\n",
    "if simulate:\n",
    "    %matplotlib qt\n",
    "    job = qmm.simulate(config, qubit_spec_2D, SimulationConfig(4000))\n",
    "    job.get_simulated_samples().con1.plot()\n",
    "else:\n",
    "    qm = qmm.open_qm(config)\n",
    "    job = qm.execute(qubit_spec_2D)\n",
    "    results = fetching_tool(job, [\"I\", \"Q\", \"iteration\"], mode=\"live\")\n",
    "\n",
    "    # Live plotting\n",
    "    fig = plt.figure()\n",
    "    plt.rcParams['figure.figsize'] = [8, 4]\n",
    "    interrupt_on_close(fig, job)  # Interrupts the job when closing the figure\n",
    "\n",
    "    for i in range(len(ff_amp_sweep)):\n",
    "        # Wait until the data of this run is processed by the stream processing\n",
    "        I, Q, iteration = results.fetch_all()\n",
    "\n",
    "        progress_counter(iteration, n_avg)\n",
    "\n",
    "        # Convert results into Volts\n",
    "        sigs = u.demod2volts(I + 1j * Q, machine.resonators[qubit_index].readout_pulse_length)\n",
    "        sig_amp = np.abs(sigs)  # Amplitude\n",
    "        sig_phase = np.angle(sigs)  # Phase\n",
    "        # Plot results\n",
    "        plt.suptitle(\"qubit spectroscopy\")\n",
    "        plt.title(\"qubit spectroscopy\")\n",
    "        plt.plot(ff_amp_sweep, sig_amp, \".\")\n",
    "        plt.xlabel(\"Z amplitude [a.u.]\")\n",
    "        plt.ylabel(r\"$\\sqrt{I^2 + Q^2}$ [V]\")"
   ]
  },
  {
   "cell_type": "markdown",
   "id": "8f41dfe7",
   "metadata": {},
   "source": [
    "## Extend the above 1D example to 2D"
   ]
  },
  {
   "cell_type": "code",
   "execution_count": null,
   "id": "29cf79ff",
   "metadata": {},
   "outputs": [],
   "source": [
    "print(\"Start running ...\")\n",
    "\n",
    "q_freq_est =ham([SS], 2, *popt) # in MHz\n",
    "\n",
    "now = datetime.datetime.now()\n",
    "month = now.strftime(\"%m\")\n",
    "day = now.strftime(\"%d\")\n",
    "hour = now.strftime(\"%H\")\n",
    "minute = now.strftime(\"%M\")\n",
    "\n",
    "exp_name = 'qubit_spec_flux_sweep'\n",
    "qubit_name = 'UA_Q1'\n",
    "\n",
    "f_str = qubit_name + '_' + exp_name + '_' + month + day + '-' + hour + minute\n",
    "file_name= f_str+'.mat'\n",
    "json_name = f_str + '_state.json'\n",
    "\n",
    "# Set-up the machine and get the config #\n",
    "machine = QuAM(\"quam_state.json\")\n",
    "config = build_config(machine)\n",
    "\n",
    "# Program-specific variables #\n",
    "n_avg =1_000  # Number of averaging loops\n",
    "qubit_index = 0 \n",
    "cooldown_time = 20_000  # Resonator cooldown time, convert to ns in the wait() function \n",
    "\n",
    "ff_amp_sweep = np.arange(-2,2+1E-5,0.1)\n",
    "freq_est_diff = (machine.qubits[qubit_index].f_01-1E6*ham([SS], 2, *popt))[0] / u.kHz # in kHz\n",
    "q_freq_est = ham(machine.flux_lines[qubit_index].flux_pulse_amp * ff_amp_sweep+SS, 2, *popt) * u.kHz + freq_est_diff # in kHz\n",
    "q_freq_est = q_freq_est.astype(int) # in kHz\n",
    "\n",
    "q_freq_sweep = np.arange(-100e6, 100e6, 2e6)\n",
    "z_duration = machine.qubits[qubit_index].pi_length + 40\n",
    "\n",
    "with program() as qubit_spec_2D:\n",
    "    n = declare(int)  # Averaging index\n",
    "    df = declare(int)  # Qubit sweep\n",
    "    q_freq_est_i = declare(int)  # Estimated qubit frequency\n",
    "    damp = declare(fixed)  # Z amplitude sweep\n",
    "    I = declare(fixed)\n",
    "    Q = declare(fixed)\n",
    "    I_st = declare_stream()\n",
    "    Q_st = declare_stream()\n",
    "    n_st = declare_stream()\n",
    "\n",
    "    with for_(n, 0, n < n_avg, n + 1):\n",
    "        with for_each_((damp,q_freq_est_i),(ff_amp_sweep,q_freq_est)):\n",
    "            qb_if = q_freq_est_i * u.kHz - machine.qubits[qubit_index].lo\n",
    "            with for_(*from_array(df,q_freq_sweep)):\n",
    "                update_frequency(machine.qubits[qubit_index].name, qb_if + df)\n",
    "                play(\"const\" * amp(damp), machine.flux_lines[qubit_index].name, duration = z_duration * u.ns)\n",
    "                wait(5, machine.qubits[qubit_index].name)\n",
    "                play('pi',machine.qubits[qubit_index].name)\n",
    "                align(machine.qubits[qubit_index].name, machine.flux_lines[qubit_index].name,machine.resonators[qubit_index].name)\n",
    "                # Measure the resonator\n",
    "                measure(\n",
    "                    \"readout\",\n",
    "                    machine.resonators[qubit_index].name,\n",
    "                    None,\n",
    "                    dual_demod.full(\"cos\", \"out1\", \"sin\", \"out2\", I),\n",
    "                    dual_demod.full(\"minus_sin\", \"out1\", \"cos\", \"out2\", Q),\n",
    "                )\n",
    "                align()\n",
    "                play(\"const\" * amp((-1)*damp), machine.flux_lines[qubit_index].name, duration = z_duration * u.ns)\n",
    "                # Wait for the resonator to cooldown\n",
    "                wait(cooldown_time * u.ns, machine.resonators[qubit_index].name)\n",
    "                # Save data to the stream processing\n",
    "                save(I, I_st)\n",
    "                save(Q, Q_st)\n",
    "        save(n, n_st)\n",
    "\n",
    "    with stream_processing():\n",
    "        I_st.buffer(len(q_freq_sweep)).buffer(len(ff_amp_sweep)).average().save(\"I\")\n",
    "        Q_st.buffer(len(q_freq_sweep)).buffer(len(ff_amp_sweep)).average().save(\"Q\")\n",
    "        n_st.save(\"iteration\")\n",
    "\n",
    "# to save all the frequencies used in the scan\n",
    "q_freq_sweep_2D, q_freq_est_2D = np.meshgrid(q_freq_sweep, q_freq_est.astype(float) * u.kHz)\n",
    "_, ff_amp_sweep_2D = np.meshgrid(q_freq_sweep, ff_amp_sweep * machine.flux_lines[qubit_index].flux_pulse_amp)\n",
    "q_freq_sweep_2D = q_freq_est_2D + q_freq_sweep_2D\n",
    "\n",
    "###############\n",
    "# Run Program #\n",
    "###############\n",
    "#  Open Communication with the QOP  #\n",
    "# qmm = QuantumMachinesManager(machine.network.qop_ip, cluster_name=machine.network.cluster_name, octave=octave_config)\n",
    "# qmm = QuantumMachinesManager(machine.network.qop_ip, port = '9510', octave=octave_config, log_level = \"ERROR\")\n",
    "qmm = QuantumMachinesManager(machine.network.qop_ip, port = '9510', octave=octave_config)\n",
    "\n",
    "simulate = False\n",
    "if simulate:\n",
    "    %matplotlib qt\n",
    "    job = qmm.simulate(config, qubit_spec_2D, SimulationConfig(4000))\n",
    "    job.get_simulated_samples().con1.plot()\n",
    "else:\n",
    "    qm = qmm.open_qm(config)\n",
    "    job = qm.execute(qubit_spec_2D)\n",
    "    results = fetching_tool(job, [\"I\", \"Q\", \"iteration\"], mode=\"live\")\n",
    "\n",
    "    # Live plotting\n",
    "    %matplotlib qt\n",
    "    fig = plt.figure()\n",
    "    plt.rcParams['figure.figsize'] = [8, 4]\n",
    "    interrupt_on_close(fig, job)  # Interrupts the job when closing the figure\n",
    "\n",
    "    for i in range(n_avg):\n",
    "        # Wait until the data of this run is processed by the stream processing\n",
    "        I, Q, iteration = results.fetch_all()\n",
    "\n",
    "\n",
    "\n",
    "        # Convert results into Volts\n",
    "        sigs = u.demod2volts(I + 1j * Q, machine.resonators[qubit_index].readout_pulse_length)\n",
    "        sig_amp = np.abs(sigs)  # Amplitude\n",
    "        sig_phase = np.angle(sigs)  # Phase\n",
    "        # Plot results\n",
    "#         plt.suptitle(\"qubit spectroscopy\")\n",
    "#         plt.title(\"qubit spectroscopy\")\n",
    "#         plt.plot(ff_amp_sweep, sig_amp, \".\")\n",
    "#         plt.xlabel(\"Amplitude\")\n",
    "#         plt.ylabel(r\"$\\sqrt{I^2 + Q^2}$ [V]\")\n",
    "        plt.cla()\n",
    "        plt.title(\"Qubit spectroscopy amplitude\")\n",
    "        plt.pcolor(ff_amp_sweep_2D, q_freq_sweep_2D.astype(float) * u.kHz, sig_amp ,cmap=\"seismic\")\n",
    "        plt.ylabel(\"Qubit frequency [MHz]\")\n",
    "        #plt.colorbar()\n",
    "        plt.xlabel(\"Flux level [V]\")\n",
    "        progress_counter(iteration, n_avg)"
   ]
  },
  {
   "cell_type": "code",
   "execution_count": null,
   "id": "a13496f6",
   "metadata": {},
   "outputs": [],
   "source": [
    "fig, ax = plt.subplots(subplot_kw={\"projection\": \"3d\"})\n",
    "plt.title(\"Qubit spectroscopy amplitude\")\n",
    "#plt.pcolor(ff_amp_sweep_2D, q_freq_sweep_2D.astype(float) * u.kHz, sig_amp ,cmap=\"seismic\")\n",
    "surf = ax.plot_surface(ff_amp_sweep_2D, q_freq_sweep_2D, sig_amp, cmap=\"seismic\",\n",
    "                       linewidth=0, antialiased=False)\n",
    "plt.ylabel(\"Qubit frequency [MHz]\")\n",
    "#plt.colorbar()\n",
    "plt.xlabel(\"Flux level [V]\")"
   ]
  },
  {
   "cell_type": "code",
   "execution_count": null,
   "id": "523e55b2",
   "metadata": {},
   "outputs": [],
   "source": [
    "# load data from file\n",
    "file_name = 'UA_Q1_qubit_spec_flux_sweep_0907-1453'\n",
    "data = loadmat(os.path.join(r\"Z:\\LabberData_DF5\\QM_Data_DF5\\2023\\09\\Data_0907\", file_name))\n",
    "freq = data['qubit_freq']\n",
    "sig_amp = data['sig_amp']\n",
    "ff_sweep = data['ff_sweep']\n",
    "\n",
    "plt.figure()\n",
    "plt.ylabel(\"Qubit frequency [MHz]\")\n",
    "plt.xlabel(\"Flux level [V]\")\n",
    "plt.pcolormesh(ff_sweep, freq.astype(float)/1e6, sig_amp ,cmap=\"seismic\")\n",
    "plt.colorbar()\n",
    "\n",
    "# Determine minima of signal to use as ydata for fitting\n",
    "maximas = []\n",
    "flux = ff_sweep\n",
    "\n",
    "# Remove edges on flux to avoid having data from top curve\n",
    "flux_int = np.array([i for i in flux if np.any((i>= -0.08) & (i<= 0.08))])\n",
    "flux_int_idx = np.array([i for i,v in enumerate((flux>= -0.08) & (flux<= 0.08))  if np.any(v)])\n",
    "\n",
    "for i in (flux_int_idx):\n",
    "    maximas.append(freq[i][np.argmax(sig_amp[i])])\n",
    "\n",
    "## Plot minima of signal\n",
    "maximas = np.array(maximas)\n",
    "plt.scatter(flux_int.T[0], maximas/1e6)\n",
    "\n",
    "initial_guess = [1, 0, 6405]  # Initial guess for the parameters\n",
    "fit_params, _ = curve_fit(poly2, flux_int.T[0], maximas/1e6, p0=initial_guess)\n",
    "\n",
    "fitted_curve = poly2(flux_int.T[0], *fit_params)\n",
    "# Plot fitted data\n",
    "plt.plot(flux_int.T[0], fitted_curve, label='Fitted Cosine', color='orange')\n",
    "fitted_curve = fitted_curve*u.kHz\n",
    "fitted_curve = fitted_curve.astype(int)\n",
    "\n",
    "# Sweet spot from fit\n",
    "SS_cal = -fit_params[1]/(2*fit_params[0])\n",
    "print(SS_cal)"
   ]
  }
 ],
 "metadata": {
  "kernelspec": {
   "display_name": "Python 3 (ipykernel)",
   "language": "python",
   "name": "python3"
  },
  "language_info": {
   "codemirror_mode": {
    "name": "ipython",
    "version": 3
   },
   "file_extension": ".py",
   "mimetype": "text/x-python",
   "name": "python",
   "nbconvert_exporter": "python",
   "pygments_lexer": "ipython3",
   "version": "3.8.17"
  }
 },
 "nbformat": 4,
 "nbformat_minor": 5
}
