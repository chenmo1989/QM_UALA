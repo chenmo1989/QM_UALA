{
 "cells": [
  {
   "cell_type": "markdown",
   "id": "a0f581de",
   "metadata": {},
   "source": [
    "# UA Q1 basic characterization"
   ]
  },
  {
   "cell_type": "markdown",
   "id": "5c608151",
   "metadata": {},
   "source": [
    "includes RR, ESR, Rabi, T1"
   ]
  },
  {
   "cell_type": "markdown",
   "id": "469d6164",
   "metadata": {},
   "source": [
    "## Header that we always run"
   ]
  },
  {
   "cell_type": "code",
   "execution_count": 95,
   "id": "be408f45",
   "metadata": {},
   "outputs": [],
   "source": [
    "# set up non-QM hardware\n",
    "import Labber\n",
    "# connect to server \n",
    "client = Labber.connectToServer('localhost') # get list of instruments \n",
    "#instruments = client.getListOfInstrumentsString() \n",
    "#for instr in instruments: \n",
    "#    print(instr) # close connection \n",
    "\n",
    "# reset all QDevil channels to 0 V\n",
    "QDevil = client.connectToInstrument('QDevil QDAC', dict(interface='Serial', address='3'))\n",
    "for n in range(24):\n",
    "    if n+1 < 10:\n",
    "        QDevil.setValue(\"CH0\" + str(n+1) + \" Voltage\", 0.0)\n",
    "    else:\n",
    "        QDevil.setValue(\"CH\" + str(n+1) + \" Voltage\", 0.0)\n",
    "# setting CH01 to sweet spot\n",
    "# DC_ss = -0.158888\n",
    "DC_ss =0\n",
    "QDevil.setValue(\"CH01 Voltage\", DC_ss)\n",
    "\n",
    "# Set other qubits at the antinode\n",
    "QDevil.setValue(\"CH02 Voltage\", 0.6)\n",
    "QDevil.setValue(\"CH03 Voltage\", 2.9)\n",
    "QDevil.setValue(\"CH04 Voltage\", 3.4)\n",
    "\n",
    "# digital attenuators\n",
    "Vaunix1 = client.connectToInstrument('Painter Vaunix Lab Brick Digital Attenuator', dict(interface='USB', address='25606'))\n",
    "Vaunix2 = client.connectToInstrument('Painter Vaunix Lab Brick Digital Attenuator', dict(interface='USB', address='25607'))\n",
    "ROI = 32\n",
    "ROO = 10\n",
    "Vaunix1.setValue(\"Attenuation\", ROI)\n",
    "Vaunix2.setValue(\"Attenuation\", ROO)\n",
    "\n",
    "# TWPA pump\n",
    "SG = client.connectToInstrument('Rohde&Schwarz RF Source', dict(interface='TCPIP', address='192.168.88.2'))\n",
    "freq_TWPA = 6326E6;\n",
    "pwr_TWPA = -10;\n",
    "SG.setValue('Frequency', freq_TWPA)\n",
    "SG.setValue('Power', pwr_TWPA)\n",
    "\n",
    "client.close()"
   ]
  },
  {
   "cell_type": "code",
   "execution_count": 459,
   "id": "dae0e896",
   "metadata": {},
   "outputs": [],
   "source": [
    "from qm.qua import *\n",
    "from qm.QuantumMachinesManager import QuantumMachinesManager\n",
    "from qm import SimulationConfig, LoopbackInterface\n",
    "from qm.octave import *\n",
    "from qm.octave.octave_manager import ClockMode\n",
    "from configuration import *\n",
    "import matplotlib.pyplot as plt\n",
    "import numpy as np\n",
    "from scipy import signal\n",
    "from qm import SimulationConfig\n",
    "from qualang_tools.bakery import baking\n",
    "from qualang_tools.units import unit\n",
    "import qdac as qdac\n",
    "from scipy.io import savemat\n",
    "from scipy.io import loadmat\n",
    "from scipy.optimize import curve_fit\n",
    "from scipy.signal import savgol_filter\n",
    "from qutip import *\n",
    "import datetime \n",
    "import os\n",
    "import time\n",
    "import warnings\n",
    "from qm import generate_qua_script\n",
    "from qm.octave import QmOctaveConfig\n",
    "from qm.octave.octave_manager import ClockMode\n",
    "from typing import Union\n",
    "import json\n",
    "from set_octave import ElementsSettings, octave_settings\n",
    "from quam import QuAM\n",
    "\n",
    "warnings.filterwarnings(\"ignore\")\n",
    "\n",
    "def wait_until_job_is_paused(current_job):\n",
    "    \"\"\"\n",
    "    Waits until the OPX FPGA reaches the pause statement.\n",
    "    Used when the OPX sequence needs to be synchronized with an external parameter sweep.\n",
    "\n",
    "    :param current_job: the job object.\n",
    "    \"\"\"\n",
    "    while not current_job.is_paused():\n",
    "        time.sleep(0.01)\n",
    "        pass\n",
    "    return True\n",
    "\n",
    "qubit_index = 0 # for UA Q1\n",
    "\n",
    "now = datetime.datetime.now()\n",
    "year = now.strftime(\"%Y\")\n",
    "month = now.strftime(\"%m\")\n",
    "day = now.strftime(\"%d\")\n",
    "\n",
    "tPath = os.path.join(r'Z:\\LabberData_DF5\\QM_Data_DF5',year,month,'Data_'+month+day)\n",
    "if not os.path.exists(tPath):\n",
    "   os.makedirs(tPath)"
   ]
  },
  {
   "cell_type": "markdown",
   "id": "d27b2108",
   "metadata": {},
   "source": [
    "## Fitting functions"
   ]
  },
  {
   "cell_type": "code",
   "execution_count": 691,
   "id": "f890284c",
   "metadata": {},
   "outputs": [],
   "source": [
    "# fitting functions\n",
    "def ESR_Shape( x, amp, sigma, x0, c ):\n",
    "    return amp * sigma**2 / ( sigma**2 + ( x - x0 )**2) + c \n",
    "\n",
    "def ESR_Shape_double( x, amp, sigma, x0, c, amp2, sigma2, x02 ):\n",
    "    return amp * sigma**2 / ( sigma**2 + ( x - x0 )**2) + c + amp2 * sigma2**2 / ( sigma2**2 + ( x - x02 )**2)\n",
    "\n",
    "def Rabi_Shape( x, amp, f, phi, c):\n",
    "    return amp * np.cos(2 * np.pi * f * x + phi) + c\n",
    "\n",
    "def exp_decay( t, A, T1, c):\n",
    "    return A*np.exp(-t/T1)+c\n",
    "\n",
    "def Phi_flux_RR(flux, c, phi0):\n",
    "    # Argument for the cosine flux tuning curve\n",
    "    return 2*np.pi*c*flux + phi0\n",
    "\n",
    "## Second order polynomial fit \n",
    "def poly2(x, a, b, c):\n",
    "        return a * (x**2) + b * x + c\n",
    "\n",
    "def ham(flux, out, wr, Ec, Ej, c, phi0, g):\n",
    "    # Hamiltonian function\n",
    "    # The flux is the independent variable\n",
    "    # The following are fitting parameters: wr, Ec, Ej, c, phi0, g\n",
    "    # The output is the resonator frequency for all the input flux values\n",
    "    # The output frequency array is in units of MHz\n",
    "\n",
    "    N = 4 # 0-3 photons\n",
    "\n",
    "    a = tensor(destroy(N), qeye(N)) # cavity mode\n",
    "    b = tensor(qeye(N), destroy(N)) # qubit\n",
    "\n",
    "    f_ham = []\n",
    "\n",
    "    # Hamiltonian as a function of flux\n",
    "    for k in range(np.size(flux)):\n",
    "        H = wr*a.dag()*a + (np.sqrt(8*Ec*Ej*np.abs(np.cos(Phi_flux_RR(flux[k],c, phi0))))-Ec)*b.dag()*b - Ec/2*b.dag()*b.dag()*b*b + g*(a*b.dag()+a.dag()*b)\n",
    "        w, v = np.linalg.eig(H)\n",
    "        \n",
    "        for n_1 in range(v.shape[1]):\n",
    "            v[:,n_1] = v[:,n_1]/np.inner(v[:,n_1],v[:,n_1])\n",
    "\n",
    "            idx_00 = np.argmax(np.abs(v[0,:])) # |0,0>\n",
    "            idx_01 = np.argmax(np.abs(v[N,:])) # |1,0> photon\n",
    "            idx_02 = np.argmax(np.abs(v[1,:])) # |0,1> qubit\n",
    "        if out == 1:\n",
    "            f_ham.append(np.abs(np.maximum(w[idx_01],w[idx_02]) - w[idx_00]))\n",
    "        elif out==2:\n",
    "            f_ham.append(np.abs(np.minimum(w[idx_01],w[idx_02]) - w[idx_00]))\n",
    "        else:\n",
    "            pass\n",
    "    f_ham = np.array(f_ham)\n",
    "    return f_ham\n",
    "\n",
    "\n",
    "def ESR_4th(arr_sz, num_steps, SS, *popt):\n",
    "    # Computes ESR freqeuncies as a function of flux.\n",
    "    # It creates a flux array based on two input parameters:\n",
    "    # arr_sz: endpoint of array. Since it is symmetric, it is the same value\n",
    "    # num_steps: number of flux points \n",
    "    # fits that to a Hamiltonian shifted by the SS so that it is centered at zero\n",
    "    # and uses this to perform a fit to a fourth order polynomial with only even terms.\n",
    "    # The function finally outputs the ESR frequencies as a function of flux\n",
    "    x_fit_r = np.array([np.linspace(-arr_sz, arr_sz, num_steps)])\n",
    "    y_fit_r = ham(x_fit_r - np.abs(SS), 2, *popt)\n",
    "    Q_fit_p4_r = np.polyfit(x_fit_r, y_fit_r, 4)\n",
    "    return Q_fit_p4_r[0]* x_fit_r**4 + Q_fit_p4_r[2] * x_fit_r**2 + Q_fit_p4_r[4]\n",
    "\n",
    "\n",
    "def cosine_func(x, amplitude, frequency, phase, offset):\n",
    "    return amplitude * np.cos(2 * np.pi * frequency * x + phase) + offset\n"
   ]
  },
  {
   "cell_type": "markdown",
   "id": "4919223f",
   "metadata": {},
   "source": [
    "## RR spectroscopy"
   ]
  },
  {
   "cell_type": "code",
   "execution_count": 93,
   "id": "2020cb17",
   "metadata": {},
   "outputs": [
    {
     "name": "stdout",
     "output_type": "stream",
     "text": [
      "Start running ...\n",
      "2023-10-04 13:10:33,273 - qm - INFO     - Performing health check\n"
     ]
    },
    {
     "name": "stderr",
     "output_type": "stream",
     "text": [
      "INFO:qm.api.frontend_api:Performing health check\n"
     ]
    },
    {
     "name": "stdout",
     "output_type": "stream",
     "text": [
      "2023-10-04 13:10:33,283 - qm - INFO     - Health check passed\n"
     ]
    },
    {
     "name": "stderr",
     "output_type": "stream",
     "text": [
      "INFO:qm.api.frontend_api:Health check passed\n"
     ]
    },
    {
     "name": "stdout",
     "output_type": "stream",
     "text": [
      "2023-10-04 13:10:34,409 - qm - INFO     - Sending program to QOP for compilation\n"
     ]
    },
    {
     "name": "stderr",
     "output_type": "stream",
     "text": [
      "INFO:qm.api.frontend_api:Sending program to QOP for compilation\n"
     ]
    },
    {
     "name": "stdout",
     "output_type": "stream",
     "text": [
      "2023-10-04 13:10:34,633 - qm - INFO     - Executing program\n"
     ]
    },
    {
     "name": "stderr",
     "output_type": "stream",
     "text": [
      "INFO:qm.QuantumMachine:Executing program\n"
     ]
    },
    {
     "name": "stdout",
     "output_type": "stream",
     "text": [
      "Progress: [##################################################] 100.0% (n=10000/10000) --> elapsed time: 41.26s\n",
      "Progress: [##################################################] 100.0% (n=10000/10000) --> elapsed time: 41.35s\n",
      "Execution stopped by user!\n"
     ]
    }
   ],
   "source": [
    "%matplotlib qt\n",
    "print(\"Start running ...\")\n",
    "\n",
    "now = datetime.datetime.now()\n",
    "month = now.strftime(\"%m\")\n",
    "day = now.strftime(\"%d\")\n",
    "hour = now.strftime(\"%H\")\n",
    "minute = now.strftime(\"%M\")\n",
    "\n",
    "exp_name = 'RR_spec'\n",
    "qubit_name = 'UA_Q1'\n",
    "\n",
    "f_str = qubit_name + '_' + exp_name + '_' + month + day + '-' + hour + minute\n",
    "file_name= f_str + '.mat'\n",
    "json_name = f_str + '_state.json'\n",
    "\n",
    "# Set-up the machine and get the config #\n",
    "machine = QuAM(\"quam_state.json\")\n",
    "config = build_config(machine)\n",
    "\n",
    "qubit_index = 0\n",
    "res_if = machine.resonators[qubit_index].f_readout - machine.resonators[qubit_index].lo\n",
    "n_avg = 10_000\n",
    "cooldown_time = 20_000 # convert to ns in the wait function!\n",
    "\n",
    "# The QUA program #\n",
    "RR_freq_sweep = np.arange(-10e6, 10e6, 0.1e6)\n",
    "RR_freq_sweep = RR_freq_sweep.astype(int)\n",
    "\n",
    "with program() as resonator_spec:\n",
    "    n = declare(int)\n",
    "    n_st = declare_stream()\n",
    "    df = declare(int)\n",
    "    I = declare(fixed)\n",
    "    Q = declare(fixed)\n",
    "    I_st = declare_stream()\n",
    "    Q_st = declare_stream()\n",
    "\n",
    "    with for_(n, 0, n < n_avg, n + 1):\n",
    "        save(n, n_st)\n",
    "        with for_(*from_array(df, RR_freq_sweep)):\n",
    "            update_frequency(machine.resonators[qubit_index].name, df + res_if)\n",
    "            #play(\"pi\" * amp(1.0), machine.qubits[qubit_index].name)\n",
    "            #align(machine.qubits[qubit_index].name, machine.resonators[qubit_index].name)\n",
    "            measure(\n",
    "                \"readout\"*amp(1),\n",
    "                machine.resonators[qubit_index].name,\n",
    "                None,\n",
    "                dual_demod.full(\"cos\", \"out1\", \"sin\", \"out2\", I),\n",
    "                dual_demod.full(\"minus_sin\", \"out1\", \"cos\", \"out2\", Q),\n",
    "            )\n",
    "            wait(cooldown_time * u.ns, machine.resonators[qubit_index].name)\n",
    "            save(I, I_st)\n",
    "            save(Q, Q_st)\n",
    "\n",
    "    with stream_processing():\n",
    "        n_st.save('iteration')\n",
    "        I_st.buffer(len(RR_freq_sweep)).average().save(\"I\")\n",
    "        Q_st.buffer(len(RR_freq_sweep)).average().save(\"Q\")\n",
    "\n",
    "#  Open Communication with the QOP  #\n",
    "# qmm = QuantumMachinesManager(machine.network.qop_ip, cluster_name=machine.network.cluster_name, octave=octave_config)\n",
    "# qmm = QuantumMachinesManager(machine.network.qop_ip, port = '9510', octave=octave_config, log_level = \"ERROR\")\n",
    "qmm = QuantumMachinesManager(machine.network.qop_ip, port = '9510', octave=octave_config)\n",
    "\n",
    "# Simulate or execute #\n",
    "simulate = False # simulation is useful to see the sequence, especially the timing (clock cycle vs ns)\n",
    "\n",
    "if simulate:\n",
    "    simulation_config = SimulationConfig(duration=1000)\n",
    "    job = qmm.simulate(config, resonator_spec, simulation_config)\n",
    "    job.get_simulated_samples().con1.plot()\n",
    "else:\n",
    "    qm = qmm.open_qm(config)\n",
    "    job = qm.execute(resonator_spec)\n",
    "    # Get results from QUA program\n",
    "    results = fetching_tool(job, data_list=[\"I\", \"Q\", \"iteration\"], mode=\"live\")\n",
    "    # Live plotting\n",
    "    %matplotlib qt\n",
    "    fig = plt.figure()\n",
    "    plt.rcParams['figure.figsize'] = [12, 8]\n",
    "    interrupt_on_close(fig, job)  # Interrupts the job when closing the figure\n",
    "    while results.is_processing():\n",
    "        # Fetch results\n",
    "        I, Q, iteration = results.fetch_all()\n",
    "        I = u.demod2volts(I, machine.resonators[qubit_index].readout_pulse_length)\n",
    "        Q = u.demod2volts(Q, machine.resonators[qubit_index].readout_pulse_length)\n",
    "        # progress bar\n",
    "        progress_counter(iteration, n_avg, start_time=results.get_start_time())\n",
    "        plt.cla()\n",
    "        plt.title(\"Resonator spectroscopy\")\n",
    "        plt.plot((machine.resonators[qubit_index].f_readout + RR_freq_sweep ) / u.MHz, np.sqrt(I**2 +  Q**2), \".\")\n",
    "        plt.xlabel(\"Frequency [MHz]\")\n",
    "        plt.ylabel(r\"$\\sqrt{I^2 + Q^2}$ [V]\")\n"
   ]
  },
  {
   "cell_type": "code",
   "execution_count": 96,
   "id": "b36e896a",
   "metadata": {},
   "outputs": [
    {
     "name": "stdout",
     "output_type": "stream",
     "text": [
      "IF offset to add to IF: 0.100000 MHz\n"
     ]
    },
    {
     "data": {
      "text/plain": [
       "<matplotlib.lines.Line2D at 0x126ca9ed520>"
      ]
     },
     "execution_count": 96,
     "metadata": {},
     "output_type": "execute_result"
    },
    {
     "data": {
      "image/png": "[encoded data removed]",
      "text/plain": [
       "<Figure size 800x400 with 1 Axes>"
      ]
     },
     "metadata": {},
     "output_type": "display_data"
    }
   ],
   "source": [
    "# Fetch results\n",
    "%matplotlib qt\n",
    "I, Q, iteration = results.fetch_all()\n",
    "# Convert I & Q to Volts\n",
    "I = u.demod2volts(I, machine.resonators[qubit_index].readout_pulse_length)\n",
    "Q = u.demod2volts(Q, machine.resonators[qubit_index].readout_pulse_length)\n",
    "sig_amp = np.sqrt(I**2 + Q**2)\n",
    "# detrend removes the linear increase of phase\n",
    "sig_phase = signal.detrend(np.unwrap(np.angle(I + 1j * Q)))\n",
    "idx = np.argmin(sig_amp) # find minimum\n",
    "print(f\"IF offset to add to IF: {RR_freq_sweep[idx] / u.MHz:.6f} MHz\")\n",
    "\n",
    "plt.close('all')\n",
    "%matplotlib inline\n",
    "# 1D spectroscopy plot\n",
    "fig = plt.figure(figsize=[8, 4])\n",
    "plt.title(\"Resonator spectroscopy\")\n",
    "plt.plot((machine.resonators[qubit_index].f_readout + RR_freq_sweep ) / u.MHz, sig_amp, \".\")\n",
    "plt.xlabel(\"Frequency [MHz]\")\n",
    "plt.ylabel(r\"$\\sqrt{I^2 + Q^2}$ [V]\")\n",
    "plt.axvline(x = (machine.resonators[qubit_index].f_readout + RR_freq_sweep[idx]) / u.MHz)"
   ]
  },
  {
   "cell_type": "code",
   "execution_count": 97,
   "id": "9b60b360",
   "metadata": {},
   "outputs": [],
   "source": [
    "savemat(os.path.join(tPath, file_name), {\"RR_freq\": machine.resonators[qubit_index].f_readout + RR_freq_sweep, \"sig_amp\": sig_amp, \"sig_phase\": sig_phase, \"DC_CH07\": 0, \"ROI\": ROI, \"ROO\": ROO, \"freq_TWPA\": freq_TWPA, \"pwr_TWPA\": pwr_TWPA})\n",
    "machine._save(os.path.join(tPath, json_name), flat_data=False)"
   ]
  },
  {
   "cell_type": "code",
   "execution_count": 98,
   "id": "efb4e463",
   "metadata": {},
   "outputs": [],
   "source": [
    "# Modify machine and save\n",
    "machine.resonators[qubit_index].f_readout += 0.1E6\n",
    "# machine.resonators[qubit_index].readout_pulse_amp=0.3*0.8\n",
    "# machine.resonators[qubit_index].lo = machine.resonators[qubit_index].f_readout + 50E6\n",
    "machine._save(\"quam_state.json\", flat_data=False)"
   ]
  },
  {
   "cell_type": "code",
   "execution_count": null,
   "id": "53dcff05",
   "metadata": {},
   "outputs": [],
   "source": [
    "# This can be used to load specific data files to plot the resonator when qubit is at |e> and |g>\n",
    "file_name = 'UA_Q1_RR_spec_0830-1038'\n",
    "data = loadmat(os.path.join(tPath, file_name))\n",
    "freq = data['RR_freq'][0]\n",
    "sig = data['sig']\n",
    "\n",
    "file_name_g = 'UA_Q1_RR_spec_0830-1036'\n",
    "data = loadmat(os.path.join(tPath, file_name_g))\n",
    "freq_g = data['RR_freq'][0]\n",
    "sig_g = data['sig']\n",
    "\n",
    "fig = plt.figure(figsize=[8, 4])\n",
    "plt.title(\"Resonator spectroscopy\")\n",
    "plt.plot(freq , sig.T, \".\")\n",
    "plt.plot(freq_g , sig_g.T, \".\")         \n",
    "plt.xlabel(\"Frequency [MHz]\")\n",
    "plt.ylabel(r\"$\\sqrt{I^2 + Q^2}$ [V]\")\n",
    "plt.legend([\"e\", \"g\"])"
   ]
  },
  {
   "cell_type": "markdown",
   "id": "21784bee",
   "metadata": {},
   "source": [
    "## Flux sweep"
   ]
  },
  {
   "cell_type": "code",
   "execution_count": 808,
   "id": "41512a9d",
   "metadata": {
    "scrolled": true
   },
   "outputs": [
    {
     "name": "stdout",
     "output_type": "stream",
     "text": [
      "Start running ...\n",
      "2023-10-09 13:24:58,236 - qm - INFO     - Performing health check\n"
     ]
    },
    {
     "name": "stderr",
     "output_type": "stream",
     "text": [
      "INFO:qm.api.frontend_api:Performing health check\n"
     ]
    },
    {
     "name": "stdout",
     "output_type": "stream",
     "text": [
      "2023-10-09 13:24:58,246 - qm - INFO     - Health check passed\n"
     ]
    },
    {
     "name": "stderr",
     "output_type": "stream",
     "text": [
      "INFO:qm.api.frontend_api:Health check passed\n"
     ]
    },
    {
     "name": "stdout",
     "output_type": "stream",
     "text": [
      "2023-10-09 13:24:59,098 - qm - INFO     - Sending program to QOP for compilation\n"
     ]
    },
    {
     "name": "stderr",
     "output_type": "stream",
     "text": [
      "INFO:qm.api.frontend_api:Sending program to QOP for compilation\n"
     ]
    },
    {
     "name": "stdout",
     "output_type": "stream",
     "text": [
      "2023-10-09 13:24:59,332 - qm - INFO     - Executing program\n"
     ]
    },
    {
     "name": "stderr",
     "output_type": "stream",
     "text": [
      "INFO:qm.QuantumMachine:Executing program\n"
     ]
    },
    {
     "name": "stdout",
     "output_type": "stream",
     "text": [
      "Progress: [##################################################] 100.0% (n=21/21)\n"
     ]
    },
    {
     "data": {
      "text/plain": [
       "True"
      ]
     },
     "execution_count": 808,
     "metadata": {},
     "output_type": "execute_result"
    }
   ],
   "source": [
    "print(\"Start running ...\")\n",
    "\n",
    "now = datetime.datetime.now()\n",
    "month = now.strftime(\"%m\")\n",
    "day = now.strftime(\"%d\")\n",
    "hour = now.strftime(\"%H\")\n",
    "minute = now.strftime(\"%M\")\n",
    "\n",
    "exp_name = 'RR_spec_flux_sweep'\n",
    "qubit_name = 'UA_Q1'\n",
    "\n",
    "f_str = qubit_name + '_' + exp_name + '_' + month + day + '-' + hour + minute\n",
    "file_name= f_str+'.mat'\n",
    "json_name = f_str + '_state.json'\n",
    "\n",
    "\n",
    "# Set-up the machine and get the config #\n",
    "machine = QuAM(\"quam_state.json\")\n",
    "# machine.resonators[0].f_readout+=1.68e6\n",
    "# machine.resonators[0].readout_pulse_amp=0.27\n",
    "config = build_config(machine)\n",
    "\n",
    "# Program-specific variables #\n",
    "n_avg = 5000  # Number of averaging loops\n",
    "\n",
    "cooldown_time = 20_000  # Resonator cooldown time, convert to ns in the wait() function \n",
    "flux_settle_time = 250  # Flux settle time for fast flux\n",
    "\n",
    "# flux_pts = 250\n",
    "# dcs = np.linspace(-0.49, 0.49, flux_pts)\n",
    "dc_flux_sweep = np.arange(-1,1 + 0.1,0.1)\n",
    "# dc_flux_sweep = np.arange(-2,1.3 + 0.1,0.1)\n",
    "RR_freq_sweep = np.arange(-7.5e6, 5e6, 0.2e6)\n",
    "RR_freq_sweep = RR_freq_sweep.astype(int)\n",
    "\n",
    "res_if = machine.resonators[qubit_index].f_readout - machine.resonators[qubit_index].lo\n",
    "\n",
    "client = Labber.connectToServer('localhost') # get list of instruments \n",
    "QDevil = client.connectToInstrument('QDevil QDAC', dict(interface='Serial', address='3'))\n",
    "\n",
    "start_time = time.time()\n",
    "\n",
    "with program() as resonator_spec_2D:\n",
    "    n = declare(int)  # Averaging index\n",
    "    i = declare(int)  # DC sweep index\n",
    "    df = declare(int)  # Resonator frequency\n",
    "    I = declare(fixed)\n",
    "    Q = declare(fixed)\n",
    "    I_st = declare_stream()\n",
    "    Q_st = declare_stream()\n",
    "    n_st = declare_stream()\n",
    "\n",
    "    with for_(i, 0, i < len(dc_flux_sweep) + 1, i + 1):\n",
    "        # The QUA program #\n",
    "        pause()\n",
    "        with for_(n, 0, n < n_avg, n + 1):\n",
    "            with for_(*from_array(df, RR_freq_sweep)):\n",
    "                # Update the resonator frequency\n",
    "                update_frequency(machine.resonators[qubit_index].name, df + res_if)\n",
    "                # Measure the resonator\n",
    "                measure(\n",
    "                    \"readout\",\n",
    "                    machine.resonators[qubit_index].name,\n",
    "                    None,\n",
    "                    dual_demod.full(\"cos\", \"out1\", \"sin\", \"out2\", I),\n",
    "                    dual_demod.full(\"minus_sin\", \"out1\", \"cos\", \"out2\", Q),\n",
    "                )\n",
    "                # Wait for the resonator to cooldown\n",
    "                wait(cooldown_time * u.ns, machine.resonators[qubit_index].name)\n",
    "                # Save data to the stream processing\n",
    "                save(I, I_st)\n",
    "                save(Q, Q_st)\n",
    "        save(i, n_st)\n",
    "\n",
    "    with stream_processing():\n",
    "        I_st.buffer(len(RR_freq_sweep)).buffer(n_avg).map(FUNCTIONS.average()).save_all(\"I\")\n",
    "        Q_st.buffer(len(RR_freq_sweep)).buffer(n_avg).map(FUNCTIONS.average()).save_all(\"Q\")\n",
    "        n_st.save_all(\"iteration\")\n",
    "\n",
    "###############\n",
    "# Run Program #\n",
    "###############\n",
    "#  Open Communication with the QOP  #\n",
    "# qmm = QuantumMachinesManager(machine.network.qop_ip, cluster_name=machine.network.cluster_name, octave=octave_config)\n",
    "# qmm = QuantumMachinesManager(machine.network.qop_ip, port = '9510', octave=octave_config, log_level = \"ERROR\")\n",
    "qmm = QuantumMachinesManager(machine.network.qop_ip, port = '9510', octave=octave_config)\n",
    "\n",
    "qm = qmm.open_qm(config)\n",
    "job = qm.execute(resonator_spec_2D)\n",
    "# Creates results handles to fetch the data\n",
    "res_handles = job.result_handles\n",
    "I_handle = res_handles.get(\"I\")\n",
    "Q_handle = res_handles.get(\"Q\")\n",
    "n_handle = res_handles.get(\"iteration\")\n",
    "\n",
    "# Initialize empty vectors to store the global 'I' & 'Q' results\n",
    "I_tot = []\n",
    "Q_tot = []\n",
    "# Live plotting\n",
    "fig = plt.figure()\n",
    "plt.rcParams['figure.figsize'] = [8, 4]\n",
    "interrupt_on_close(fig, job)  # Interrupts the job when closing the figure\n",
    "\n",
    "for i in range(len(dc_flux_sweep)):\n",
    "    # set QDAC voltage\n",
    "    dc_flux = dc_flux_sweep[i]\n",
    "    QDevil.setValue(\"CH01 Voltage\", dc_flux)\n",
    "    # Resume the QUA program\n",
    "    job.resume()\n",
    "    # Wait until the program reaches the 'pause' statement again, indicating that the QUA program is done\n",
    "    wait_until_job_is_paused(job)\n",
    "    \n",
    "    # Wait until the data of this run is processed by the stream processing\n",
    "    I_handle.wait_for_values(i + 1)\n",
    "    Q_handle.wait_for_values(i + 1)\n",
    "    n_handle.wait_for_values(i + 1)\n",
    "    \n",
    "    # Fetch the data from the last OPX run corresponding to the current LO frequency\n",
    "    I = np.concatenate(I_handle.fetch(i)[\"value\"])\n",
    "    Q = np.concatenate(Q_handle.fetch(i)[\"value\"])\n",
    "    iteration = n_handle.fetch(i)[\"value\"][0]\n",
    "    # Update the list of global results\n",
    "    I_tot.append(I)\n",
    "    Q_tot.append(Q)\n",
    "    # Progress bar\n",
    "    progress_counter(iteration, len(dc_flux_sweep))\n",
    "    \n",
    "    # Convert results into Volts\n",
    "    sigs = u.demod2volts(I + 1j * Q, machine.resonators[qubit_index].readout_pulse_length)\n",
    "    sig_amp = np.abs(sigs)  # Amplitude\n",
    "    sig_phase = np.angle(sigs)  # Phase\n",
    "    # Plot results\n",
    "    plt.suptitle(\"RR spectroscopy\")\n",
    "    plt.title(\"Resonator spectroscopy\")\n",
    "    plt.plot((machine.resonators[qubit_index].f_readout + RR_freq_sweep ) / u.MHz, sig_amp, \".\")\n",
    "    plt.xlabel(\"Frequency [MHz]\")\n",
    "    plt.ylabel(r\"$\\sqrt{I^2 + Q^2}$ [V]\")\n",
    "\n",
    "# Interrupt the FPGA program\n",
    "job.halt()"
   ]
  },
  {
   "cell_type": "code",
   "execution_count": 43,
   "id": "726666a5",
   "metadata": {},
   "outputs": [],
   "source": [
    "client.close()"
   ]
  },
  {
   "cell_type": "markdown",
   "id": "8a621018",
   "metadata": {},
   "source": [
    "### Process the data from experimental run"
   ]
  },
  {
   "cell_type": "code",
   "execution_count": 809,
   "id": "d2a7a20b",
   "metadata": {},
   "outputs": [
    {
     "data": {
      "text/plain": [
       "<matplotlib.colorbar.Colorbar at 0x126e8bfc8b0>"
      ]
     },
     "execution_count": 809,
     "metadata": {},
     "output_type": "execute_result"
    },
    {
     "name": "stdout",
     "output_type": "stream",
     "text": [
      "Execution stopped by user!\n"
     ]
    }
   ],
   "source": [
    "%matplotlib qt\n",
    "I = np.concatenate(I_tot)\n",
    "Q = np.concatenate(Q_tot)\n",
    "sigs = u.demod2volts(I + 1j * Q, machine.resonators[qubit_index].readout_pulse_length)\n",
    "sig_amp = np.abs(sigs)  # Amplitude\n",
    "sig_phase = np.angle(sigs)  # Phase\n",
    "\n",
    "# Final plot\n",
    "\n",
    "sig = np.reshape(sig_amp, (np.size(dc_flux_sweep), np.size(machine.resonators[qubit_index].f_readout + RR_freq_sweep)))\n",
    "phase = np.reshape(sig_phase, (np.size(dc_flux_sweep), np.size(machine.resonators[qubit_index].f_readout + RR_freq_sweep)))\n",
    "fig = plt.figure()\n",
    "plt.rcParams['figure.figsize'] = [8, 4]\n",
    "plt.cla()\n",
    "\n",
    "# 2D spectroscopy plot\n",
    "plt.title(\"Resonator spectroscopy tuning curve\")\n",
    "plt.pcolormesh( np.linspace(np.min(dc_flux_sweep), np.max(dc_flux_sweep), np.size(dc_flux_sweep)),\n",
    "               np.linspace(np.min(machine.resonators[qubit_index].f_readout + RR_freq_sweep), \n",
    "                           np.max(machine.resonators[qubit_index].f_readout + RR_freq_sweep), \n",
    "                           np.size(machine.resonators[qubit_index].f_readout + RR_freq_sweep))/1e6, \n",
    "               sig.T, shading=\"nearest\", cmap=\"seismic\")\n",
    "plt.xlabel(\"DC flux level [V]\")\n",
    "plt.ylabel(\"Frequency [MHz]\")\n",
    "plt.colorbar()\n"
   ]
  },
  {
   "cell_type": "code",
   "execution_count": 810,
   "id": "067e1a2e",
   "metadata": {},
   "outputs": [
    {
     "data": {
      "text/plain": [
       "<matplotlib.legend.Legend at 0x12700017430>"
      ]
     },
     "execution_count": 810,
     "metadata": {},
     "output_type": "execute_result"
    }
   ],
   "source": [
    "%matplotlib qt\n",
    "I = np.concatenate(I_tot)\n",
    "Q = np.concatenate(Q_tot)\n",
    "sigs = u.demod2volts(I + 1j * Q, machine.resonators[qubit_index].readout_pulse_length)\n",
    "sig_amp = np.abs(sigs)  # Amplitude\n",
    "sig_phase = np.angle(sigs)  # Phase\n",
    "\n",
    "# Final plot\n",
    "\n",
    "sig = np.reshape(sig_amp, (np.size(dc_flux_sweep), np.size(machine.resonators[qubit_index].f_readout + RR_freq_sweep)))\n",
    "phase = np.reshape(sig_phase, (np.size(dc_flux_sweep), np.size(machine.resonators[qubit_index].f_readout + RR_freq_sweep)))\n",
    "fig = plt.figure()\n",
    "plt.rcParams['figure.figsize'] = [8, 4]\n",
    "plt.cla()\n",
    "\n",
    "# 2D spectroscopy plot\n",
    "plt.title(\"Resonator spectroscopy tuning curve\")\n",
    "plt.pcolormesh( np.linspace(np.min(dc_flux_sweep), np.max(dc_flux_sweep), np.size(dc_flux_sweep)),\n",
    "               np.linspace(np.min(machine.resonators[qubit_index].f_readout + RR_freq_sweep), \n",
    "                           np.max(machine.resonators[qubit_index].f_readout + RR_freq_sweep), \n",
    "                           np.size(machine.resonators[qubit_index].f_readout + RR_freq_sweep))/1e6, \n",
    "               sig.T, shading=\"nearest\", cmap=\"seismic\")\n",
    "plt.xlabel(\"DC flux level [V]\")\n",
    "plt.ylabel(\"Frequency [MHz]\")\n",
    "plt.colorbar()\n",
    "\n",
    "# Initial guess\n",
    "wr = machine.resonators[qubit_index].f_readout/1e6 # Resonator frequency\n",
    "Ec = 170.080 # Capacitive energy\n",
    "Ej = 30642.9 # Inductive energy \n",
    "c = 0.05 # Period in cosine function for flux\n",
    "phi0 = 0.4 # Offset in cosine function for flux\n",
    "g = 74.965 # RR-qubit coupling\n",
    "\n",
    "# Array of initial guess\n",
    "guess = [wr, Ec, Ej, c, phi0, g]\n",
    "\n",
    "# Frequency output from hamiltonian function using initial guess\n",
    "freq_fit_guess = ham(dc_flux_sweep, 1, *guess)\n",
    "\n",
    "# Plot of initial guess\n",
    "# plt.plot(flux.T, freq_fit_guess)\n",
    "\n",
    "freq = machine.resonators[qubit_index].f_readout + RR_freq_sweep\n",
    "# Determine minima of signal to use as ydata for fitting\n",
    "minimas = []\n",
    "for i in range(np.size(dc_flux_sweep)):\n",
    "    minimas.append(freq[np.argmin(sig[i])])\n",
    "minimas = np.array(minimas)\n",
    "\n",
    "\n",
    "## Plot minima of signal\n",
    "plt.scatter(dc_flux_sweep.T, minimas/1e6)\n",
    "\n",
    "minimas_mhz = minimas/1e6\n",
    "\n",
    "# Fit data from minima of signal to Hamiltonian function\n",
    "# Initial guess is given by p0\n",
    "# Bounds are necessary. The order is bounds = ((min_wr, min_Ec, min_Ej, min_c, min_phi0, min_g), (max_wr, max_Ec, max_Ej, max_c, max_phi0, max_g))\n",
    "popt, _ = curve_fit(lambda dc_flux_sweep, *guess: ham(dc_flux_sweep, 1, *guess), \n",
    "                    xdata = dc_flux_sweep, ydata = minimas_mhz, p0 = guess, check_finite = \"true\", bounds = ((wr-200, Ec-100, Ej-20000, 0.0001, -4, g-50),(wr+200, Ec+100 ,Ej+ 20000, 4, 4, g+50)))\n",
    "\n",
    "# This is the frequency output from the fitted data\n",
    "freq_fit = ham(dc_flux_sweep, 1, *popt)\n",
    "\n",
    "# Plot the fitted data\n",
    "plt.plot(dc_flux_sweep.T, freq_fit)\n",
    "# plt.legend([\"guess\", \"fit\"])\n",
    "plt.legend([\"fit\"])\n",
    "\n",
    "# # Fit to a cosine function\n",
    "# guess_cosine = [3, 0.1, -20, 7250]  # Initial guess for the parameters\n",
    "# fit_params, _ = curve_fit(cosine_func, dc_flux_sweep, minimas_mhz, p0 = guess_cosine)\n",
    "# # Get the fitted values\n",
    "# amplitude_fit, frequency_fit, phase_fit, offset_fit = fit_params\n",
    "# print('Fit parameters:', fit_params)\n",
    "# # Generate the fitted curve using the fitted parameters\n",
    "# fitted_cos = cosine_func(dc_flux_sweep, amplitude_fit, frequency_fit, phase_fit, offset_fit)\n",
    "# plt.plot(dc_flux_sweep, fitted_cos, label='Fitted Cosine', color='orange')\n"
   ]
  },
  {
   "cell_type": "code",
   "execution_count": 101,
   "id": "6da2f6b9",
   "metadata": {},
   "outputs": [],
   "source": [
    "savemat(os.path.join(tPath, file_name), {\"RR_freq\": freq, \"sig_amp\": sig_amp, \"sig_phase\": sig_phase, \"dc_flux_sweep\": dc_flux_sweep, \"ROI\": ROI, \"ROO\": ROO, \"freq_TWPA\": freq_TWPA, \"pwr_TWPA\": pwr_TWPA})\n",
    "machine._save(os.path.join(tPath, json_name), flat_data=False)"
   ]
  },
  {
   "cell_type": "code",
   "execution_count": 814,
   "id": "bedba59d",
   "metadata": {},
   "outputs": [
    {
     "name": "stdout",
     "output_type": "stream",
     "text": [
      "SS at: -0.140408\n",
      "\n"
     ]
    }
   ],
   "source": [
    "# Fitted ESR plot\n",
    "freq_fit_qubit = ham(dc_flux_sweep, 2, *popt)\n",
    "\n",
    "plt.title(\"Qubit spectroscopy tuning curve\")\n",
    "plt.plot(dc_flux_sweep.T, freq_fit_qubit)\n",
    "plt.xlabel(\"DC flux level [V]\")\n",
    "plt.ylabel(\"Frequency [MHz]\")\n",
    "\n",
    "# SS from fitting to Hamiltonian parameters\n",
    "SS = (-popt[4])/(2*np.pi*popt[3])\n",
    "# Get the sweet spot based from fitted parameters to Hamiltonian\n",
    "# Only cosine term matters for this\n",
    "print('SS at: %.6f\\n' % SS) \n",
    "\n",
    "# Fit ESR to a fourth order polynomial centered at zero (SS was shifted)\n",
    "num_steps = 199\n",
    "arr_sz = 0.99 # Choose half of the size we will sweep around SS\n",
    "# Shift SS to be at 0 V, as ff is relative to the SS\n",
    "#ESR_freqs = ESR_4th(arr_sz, num_steps, SS, *popt) # get array of qubit freqeuncies as a function of flux with SS at 0V\n",
    "#ESR_freq_max = np.max(ESR_freqs)\n",
    "#ESR_freq_min = np.min(ESR_freqs)\n"
   ]
  },
  {
   "cell_type": "code",
   "execution_count": null,
   "id": "c1ed9f94",
   "metadata": {},
   "outputs": [],
   "source": [
    "q_freq_est =ham([SS], 2, *popt)\n",
    "print(q_freq_est)"
   ]
  },
  {
   "cell_type": "markdown",
   "id": "99992101",
   "metadata": {},
   "source": [
    "### process data from saved run"
   ]
  },
  {
   "cell_type": "code",
   "execution_count": null,
   "id": "a17ae638",
   "metadata": {},
   "outputs": [],
   "source": [
    "RR_freq_sweep = np.arange(-7.5e6, 5e6, 0.05e6)\n",
    "file_name = 'UA_Q1_RR_spec_flux_sweep_0906-1243'\n",
    "data = loadmat(os.path.join(r\"Z:\\LabberData_DF5\\QM_Data_DF5\\2023\\09\\Data_0906\", file_name))\n",
    "freq = data['RR_freq'][0]\n",
    "sig_amp = data['sig_amp'][0]\n",
    "dc_flux_sweep = data['dc_flux_sweep'][0]\n",
    "\n",
    "fig = plt.figure(figsize=[8, 4])\n",
    "sig = np.reshape(sig_amp, (np.size(dc_flux_sweep), np.size(machine.resonators[qubit_index].f_readout + RR_freq_sweep)))\n",
    "\n",
    "plt.rcParams['figure.figsize'] = [8, 4]\n",
    "plt.cla()\n",
    "\n",
    "# 2D spectroscopy plot\n",
    "plt.title(\"Resonator spectroscopy tuning curve\")\n",
    "plt.pcolormesh( np.linspace(np.min(dc_flux_sweep), np.max(dc_flux_sweep), np.size(dc_flux_sweep)),\n",
    "               np.linspace(np.min(machine.resonators[qubit_index].f_readout + RR_freq_sweep), \n",
    "                           np.max(machine.resonators[qubit_index].f_readout + RR_freq_sweep), \n",
    "                           np.size(machine.resonators[qubit_index].f_readout + RR_freq_sweep))/1e6, \n",
    "               sig.T, shading=\"nearest\", cmap=\"seismic\")\n",
    "plt.xlabel(\"DC flux level [V]\")\n",
    "plt.ylabel(\"Frequency [MHz]\")\n",
    "plt.colorbar()\n",
    "plt.show()\n",
    "\n",
    "# Initial guess\n",
    "wr = machine.resonators[qubit_index].f_readout/1e6 # Resonator frequency\n",
    "Ec = 170.080 # Capacitive energy\n",
    "Ej = 31158.8 # Inductive energy \n",
    "c = 0.05 # Period in cosine function for flux\n",
    "phi0 = 0.4 # Offset in cosine function for flux\n",
    "g = 74.965 # RR-qubit coupling\n",
    "# Array of initial guess\n",
    "\n",
    "guess = [wr, Ec, Ej, c, phi0, g]\n",
    "\n",
    "# Frequency output from hamiltonian function using initial guess\n",
    "freq_fit_guess = ham(dc_flux_sweep, 1, *guess)\n",
    "\n",
    "# Plot of initial guess\n",
    "# plt.plot(flux.T, freq_fit_guess)\n",
    "\n",
    "freq = machine.resonators[qubit_index].f_readout + RR_freq_sweep\n",
    "# Determine minima of signal to use as ydata for fitting\n",
    "minimas = []\n",
    "for i in range(np.size(dc_flux_sweep)):\n",
    "    minimas.append(freq[np.argmin(sig[i])])\n",
    "minimas = np.array(minimas)\n",
    "\n",
    "\n",
    "## Plot minima of signal\n",
    "plt.scatter(dc_flux_sweep.T, minimas/1e6)\n",
    "\n",
    "minimas_mhz = minimas/1e6\n",
    "\n",
    "# Fit data from minima of signal to Hamiltonian function\n",
    "# Initial guess is given by p0\n",
    "# Bounds are necessary. The order is bounds = ((min_wr, min_Ec, min_Ej, min_c, min_phi0, min_g), (max_wr, max_Ec, max_Ej, max_c, max_phi0, max_g))\n",
    "popt, _ = curve_fit(lambda dc_flux_sweep, *guess: ham(dc_flux_sweep, 1, *guess), \n",
    "                    xdata = dc_flux_sweep, ydata = minimas_mhz, p0=guess, check_finite = \"true\", bounds = ((wr-200, Ec-100, Ej-20000, 0.0001, -4, g-50),(wr+200, Ec+100 ,Ej+ 20000, 4, 4, g+50)))\n",
    "\n",
    "# This is the frequency output from the fitted data\n",
    "freq_fit = ham(dc_flux_sweep, 1, *popt)\n",
    "\n",
    "# Plot the fitted data\n",
    "plt.plot(dc_flux_sweep.T, freq_fit)\n",
    "# plt.legend([\"guess\", \"fit\"])\n",
    "plt.legend([\"fit\"])"
   ]
  },
  {
   "cell_type": "markdown",
   "id": "dd85ecdf",
   "metadata": {},
   "source": [
    "## ESR sweet spot"
   ]
  },
  {
   "cell_type": "code",
   "execution_count": 864,
   "id": "626bc5c6",
   "metadata": {},
   "outputs": [],
   "source": [
    "# set DC flux to sweet spot\n",
    "client = Labber.connectToServer('localhost') # get list of instruments \n",
    "QDevil = client.connectToInstrument('QDevil QDAC', dict(interface='Serial', address='3'))\n",
    "\n",
    "DC_ss = SS \n",
    "QDevil.setValue(\"CH01 Voltage\", DC_ss)\n",
    "client.close()"
   ]
  },
  {
   "cell_type": "code",
   "execution_count": 865,
   "id": "3c9160bf",
   "metadata": {},
   "outputs": [],
   "source": [
    "machine.qubits[qubit_index].f_01 = 6455.3e6\n",
    "machine.qubits[qubit_index].lo = machine.qubits[qubit_index].f_01 + 100e6\n",
    "machine._save(\"quam_state.json\")"
   ]
  },
  {
   "cell_type": "code",
   "execution_count": 866,
   "id": "81f74a94",
   "metadata": {},
   "outputs": [
    {
     "name": "stdout",
     "output_type": "stream",
     "text": [
      "------------------------------------- Calibrates r0 for (LO, IF) = (7.312 GHz, -49.600 MHz)\n",
      "------------------------------------- Calibrates q0 for (LO, IF) = (6.555 GHz, -100.000 MHz)\n"
     ]
    }
   ],
   "source": [
    "run octave_configuration.py"
   ]
  },
  {
   "cell_type": "code",
   "execution_count": 867,
   "id": "b24568be",
   "metadata": {
    "scrolled": true
   },
   "outputs": [
    {
     "name": "stdout",
     "output_type": "stream",
     "text": [
      "Start running ...\n",
      "2023-10-10 15:32:43,187 - qm - INFO     - Performing health check\n"
     ]
    },
    {
     "name": "stderr",
     "output_type": "stream",
     "text": [
      "INFO:qm.api.frontend_api:Performing health check\n"
     ]
    },
    {
     "name": "stdout",
     "output_type": "stream",
     "text": [
      "2023-10-10 15:32:43,196 - qm - INFO     - Health check passed\n"
     ]
    },
    {
     "name": "stderr",
     "output_type": "stream",
     "text": [
      "INFO:qm.api.frontend_api:Health check passed\n"
     ]
    },
    {
     "name": "stdout",
     "output_type": "stream",
     "text": [
      "2023-10-10 15:32:44,001 - qm - INFO     - Sending program to QOP for compilation\n"
     ]
    },
    {
     "name": "stderr",
     "output_type": "stream",
     "text": [
      "INFO:qm.api.frontend_api:Sending program to QOP for compilation\n"
     ]
    },
    {
     "name": "stdout",
     "output_type": "stream",
     "text": [
      "2023-10-10 15:32:44,256 - qm - INFO     - Executing program\n"
     ]
    },
    {
     "name": "stderr",
     "output_type": "stream",
     "text": [
      "INFO:qm.QuantumMachine:Executing program\n"
     ]
    },
    {
     "name": "stdout",
     "output_type": "stream",
     "text": [
      "Execution stopped by user!################                   ] 62.3% (n=3116/5000) --> elapsed time: 9.55s\n",
      "Progress: [###############################                   ] 64.0% (n=3199/5000) --> elapsed time: 9.85s\r"
     ]
    }
   ],
   "source": [
    "print(\"Start running ...\")\n",
    "\n",
    "now = datetime.datetime.now()\n",
    "month = now.strftime(\"%m\")\n",
    "day = now.strftime(\"%d\")\n",
    "hour = now.strftime(\"%H\")\n",
    "minute = now.strftime(\"%M\")\n",
    "\n",
    "exp_name = 'ESR'\n",
    "qubit_name = 'UA_Q1'\n",
    "\n",
    "f_str = qubit_name + '_' + exp_name + '_' + month + day + '-' + hour + minute\n",
    "file_name= f_str+'.mat'\n",
    "json_name = f_str + '_state.json'\n",
    "\n",
    "# Set-up the machine and get the config #\n",
    "machine = QuAM(\"quam_state.json\")\n",
    "config = build_config(machine)\n",
    "\n",
    "# Program-specific variables #\n",
    "n_avg = 5_000  # Number of averaging loops\n",
    "cooldown_time = 20_000  # convert to ns in the wait() function\n",
    "# t = 80  # Qubit pulse length\n",
    "t = 10 \n",
    "qb_freq_sweep = np.arange(6445e6, 6460e6, 0.1e6)\n",
    "freq_sweep = qb_freq_sweep - machine.qubits[qubit_index].f_01\n",
    "freq_sweep = freq_sweep.astype(int)\n",
    "\n",
    "qubit_index = 0\n",
    "qb_if = machine.qubits[qubit_index].f_01 - machine.qubits[qubit_index].lo\n",
    "\n",
    "# The QUA program #\n",
    "with program() as qubit_spec:\n",
    "    n = declare(int)  # Averaging index\n",
    "    df = declare(int)  # Resonator frequency\n",
    "    I = declare(fixed)\n",
    "    Q = declare(fixed)\n",
    "    I_st = declare_stream()\n",
    "    Q_st = declare_stream()\n",
    "    n_st = declare_stream()\n",
    "    if_st = declare_stream()\n",
    "    if_var = declare(int)\n",
    "\n",
    "    # Adjust the flux line if needed\n",
    "    # set_dc_offset(\"flux_line\", \"single\", 0.0)\n",
    "    with for_(n, 0, n < n_avg, n + 1):\n",
    "        with for_(*from_array(df, freq_sweep)):\n",
    "            # Update the qubit frequency\n",
    "            update_frequency(machine.qubits[qubit_index].name, df + qb_if)\n",
    "#             assign(if_var, df)\n",
    "\n",
    "            save(df, if_st)\n",
    "            # Play a saturation pulse on the qubit\n",
    "#             play(\"pi\" * amp(0.1), machine.qubits[qubit_index].name, duration = t * u.us)\n",
    "            play(\"pi\" * amp(1), machine.qubits[qubit_index].name)\n",
    "\n",
    "            align(machine.qubits[qubit_index].name, machine.resonators[qubit_index].name)\n",
    "            # Measure the resonator\n",
    "            measure(\n",
    "                \"readout\",\n",
    "                machine.resonators[qubit_index].name,\n",
    "                None,\n",
    "                dual_demod.full(\"cos\", \"out1\", \"sin\", \"out2\", I),\n",
    "                dual_demod.full(\"minus_sin\", \"out1\", \"cos\", \"out2\", Q),\n",
    "            )\n",
    "            # Wait for the resonator to cooldown\n",
    "            wait(cooldown_time * u.ns, machine.resonators[qubit_index].name)\n",
    "            # Save data to the stream processing\n",
    "            save(I, I_st)\n",
    "            save(Q, Q_st)\n",
    "        save(n, n_st)\n",
    "\n",
    "    with stream_processing():\n",
    "        I_st.buffer(len(freq_sweep)).average().save(\"I\")\n",
    "        Q_st.buffer(len(freq_sweep)).average().save(\"Q\")\n",
    "        n_st.save(\"iteration\")\n",
    "        if_st.buffer(len(freq_sweep)).average().save(\"IF\")\n",
    "        #if_st.save(\"IF\")\n",
    "\n",
    "#  Open Communication with the QOP  #\n",
    "# qmm = QuantumMachinesManager(machine.network.qop_ip, cluster_name=machine.network.cluster_name, octave=octave_config)\n",
    "# qmm = QuantumMachinesManager(machine.network.qop_ip, port = '9510', octave=octave_config, log_level = \"ERROR\")\n",
    "qmm = QuantumMachinesManager(machine.network.qop_ip, port = '9510', octave=octave_config)\n",
    "\n",
    "simulation = False\n",
    "\n",
    "if simulation:\n",
    "    simulation_config = SimulationConfig(\n",
    "        duration=8000, simulation_interface=LoopbackInterface([(\"con1\", 3, \"con1\", 1)])\n",
    "    )\n",
    "    job = qmm.simulate(config, qubit_spec, simulation_config)\n",
    "    job.get_simulated_samples().con1.plot()\n",
    "else:\n",
    "    qm = qmm.open_qm(config)\n",
    "    job = qm.execute(qubit_spec)\n",
    "    # Get results from QUA program\n",
    "    results = fetching_tool(job, data_list=[\"I\", \"Q\", \"iteration\", \"IF\"], mode=\"live\")\n",
    "    %matplotlib qt\n",
    "    # Live plotting\n",
    "    fig = plt.figure()\n",
    "    plt.rcParams['figure.figsize'] = [12, 8]\n",
    "    interrupt_on_close(fig, job)  # Interrupts the job when closing the figure\n",
    "    while results.is_processing():\n",
    "        # Fetch results\n",
    "        I, Q, iteration, IF= results.fetch_all()\n",
    "        I = u.demod2volts(I, machine.resonators[qubit_index].readout_pulse_length)\n",
    "        Q = u.demod2volts(Q, machine.resonators[qubit_index].readout_pulse_length)\n",
    "        sig_amp = np.sqrt(I**2 + Q**2)\n",
    "        sig_phase = signal.detrend(np.unwrap(np.angle(I + 1j * Q)))\n",
    "        freqs = machine.qubits[qubit_index].f_01 + freq_sweep\n",
    "        # Progress bar\n",
    "        progress_counter(iteration, n_avg, start_time=results.get_start_time())\n",
    "        plt.cla()\n",
    "        plt.title(\"Qubit spectroscopy\")\n",
    "        plt.plot(freqs /u.MHz, sig_amp, \"b.\")\n",
    "        plt.xlabel(\"Frequency [MHz]\")\n",
    "        plt.ylabel(r\"$\\sqrt{I^2 + Q^2}$ [V]\")\n",
    "        plt.pause(0.01)"
   ]
  },
  {
   "cell_type": "code",
   "execution_count": 868,
   "id": "efc125ed",
   "metadata": {},
   "outputs": [
    {
     "name": "stdout",
     "output_type": "stream",
     "text": [
      "IF offset to add to IF: -3.400000 MHz\n"
     ]
    },
    {
     "data": {
      "text/plain": [
       "<matplotlib.lines.Line2D at 0x12728883760>"
      ]
     },
     "execution_count": 868,
     "metadata": {},
     "output_type": "execute_result"
    },
    {
     "data": {
      "image/png": "[encoded data removed]",
      "text/plain": [
       "<Figure size 800x400 with 1 Axes>"
      ]
     },
     "metadata": {},
     "output_type": "display_data"
    }
   ],
   "source": [
    "%matplotlib inline\n",
    "\n",
    "idx = np.argmax(sig_amp) # find minimum\n",
    "print(f\"IF offset to add to IF: {freq_sweep[idx] / u.MHz:.6f} MHz\")\n",
    "\n",
    "plt.close('all')\n",
    "%matplotlib inline\n",
    "# 1D spectroscopy plot\n",
    "fig = plt.figure(figsize=[8, 4])\n",
    "plt.title('Qubit spectroscopy')\n",
    "plt.plot((machine.qubits[qubit_index].f_01 + freq_sweep) / u.MHz, sig_amp, \".\")\n",
    "plt.xlabel(\"Frequency [MHz]\")\n",
    "plt.ylabel(r\"$\\sqrt{I^2 + Q^2}$ [V]\")\n",
    "plt.axvline(x = (machine.qubits[qubit_index].f_01 + freq_sweep[idx]) / u.MHz)"
   ]
  },
  {
   "cell_type": "code",
   "execution_count": 870,
   "id": "55488943",
   "metadata": {},
   "outputs": [],
   "source": [
    "savemat(os.path.join(tPath, file_name), {\"ESR_freq\": machine.qubits[qubit_index].f_01 + freq_sweep, \"sig_amp\": sig_amp, \"sig_phase\": sig_phase, \"DC_flux\": DC_ss, \"ROI\": ROI, \"ROO\": ROO, \"freq_TWPA\": freq_TWPA, \"pwr_TWPA\": pwr_TWPA})\n",
    "machine._save(os.path.join(tPath, json_name), flat_data=False)"
   ]
  },
  {
   "cell_type": "code",
   "execution_count": 743,
   "id": "67898df7",
   "metadata": {},
   "outputs": [
    {
     "name": "stdout",
     "output_type": "stream",
     "text": [
      "Updated f_01 (df) [MHz]: 6451687219.965465 -3.612780034535408\n"
     ]
    }
   ],
   "source": [
    "# fit the data\n",
    "%matplotlib qt\n",
    "freqs = machine.qubits[qubit_index].f_01 + freq_sweep\n",
    "try:\n",
    "    param, dp_cov=curve_fit(ESR_Shape,freqs,sig_amp,p0=[max(sig_amp)-min(sig_amp),8E6,freqs[np.argmax(sig_amp)],min(sig_amp)] )\n",
    "    d_ESR_freq = round(param[2] * 100)/100\n",
    "    print('Updated f_01 (df) [MHz]:', param[2], (param[2] - machine.qubits[qubit_index].f_01) / u.MHz)\n",
    "except:\n",
    "    pass\n",
    "\n",
    "# 1D spectroscopy plot\n",
    "fig = plt.figure(figsize=[14, 6])\n",
    "plt.plot(freqs / u.MHz, sig_amp, \"b.\")\n",
    "plt.plot(freqs / u.MHz, ESR_Shape(freqs, param[0],param[1],param[2],param[3]), 'r')\n",
    "\n",
    "plt.title(\"Qubit spectroscopy amplitude\")\n",
    "\n",
    "plt.xlabel(\"Frequency [MHz]\")\n",
    "plt.ylabel(r\"$\\sqrt{I^2 + Q^2}$ [V]\")\n",
    "plt.axvline(x=machine.qubits[qubit_index].f_01/u.MHz)\n",
    "plt.show()"
   ]
  },
  {
   "cell_type": "code",
   "execution_count": null,
   "id": "7cba4295",
   "metadata": {},
   "outputs": [],
   "source": [
    "# Fit to a double Lorentzian\n",
    "freqs = machine.qubits[qubit_index].f_01 + freq_sweep\n",
    "param, dp_cov=curve_fit(ESR_Shape_double,freqs,sig_amp,p0=[max(sig_amp)-min(sig_amp),8E6,freqs[np.argmax(sig_amp)],\n",
    "                                                        min(sig_amp),max(sig_amp)-min(sig_amp),8E6,freqs[np.argmax(sig_amp)]] )\n",
    "fig = plt.figure(figsize=[14, 6])\n",
    "plt.plot(freqs / u.MHz, sig_amp, \"b.\")\n",
    "plt.plot(freqs / u.MHz, ESR_Shape_double(freqs, param[0],param[1],param[2],param[3], param[4], param[5], param[6]), 'r')\n",
    "\n",
    "plt.title(\"Qubit spectroscopy amplitude\")\n",
    "\n",
    "plt.xlabel(\"Frequency [MHz]\")\n",
    "plt.ylabel(r\"$\\sqrt{I^2 + Q^2}$ [V]\")\n",
    "print(\"First peak at \", param[2], \"\\n Second peak at \", param[6])\n",
    "plt.show()"
   ]
  },
  {
   "cell_type": "code",
   "execution_count": null,
   "id": "22d855fc",
   "metadata": {},
   "outputs": [],
   "source": [
    "freqs[np.argmax(ESR_Shape(freqs, param[0],param[1],param[2],param[3]))]"
   ]
  },
  {
   "cell_type": "code",
   "execution_count": 869,
   "id": "6961844c",
   "metadata": {},
   "outputs": [],
   "source": [
    "machine.qubits[qubit_index].f_01 -= 3.4e6\n",
    "# machine.qubits[qubit_index].pi_amp = 125E-3\n",
    "machine._save(\"quam_state.json\")"
   ]
  },
  {
   "cell_type": "markdown",
   "id": "62fb1120",
   "metadata": {},
   "source": [
    "## Power Rabi"
   ]
  },
  {
   "cell_type": "code",
   "execution_count": 136,
   "id": "2c6b7d9f",
   "metadata": {},
   "outputs": [
    {
     "name": "stdout",
     "output_type": "stream",
     "text": [
      "Start running ...\n",
      "2023-10-04 13:36:33,344 - qm - INFO     - Performing health check\n"
     ]
    },
    {
     "name": "stderr",
     "output_type": "stream",
     "text": [
      "INFO:qm.api.frontend_api:Performing health check\n"
     ]
    },
    {
     "name": "stdout",
     "output_type": "stream",
     "text": [
      "2023-10-04 13:36:33,355 - qm - INFO     - Health check passed\n"
     ]
    },
    {
     "name": "stderr",
     "output_type": "stream",
     "text": [
      "INFO:qm.api.frontend_api:Health check passed\n"
     ]
    },
    {
     "name": "stdout",
     "output_type": "stream",
     "text": [
      "2023-10-04 13:36:34,025 - qm - INFO     - Sending program to QOP for compilation\n"
     ]
    },
    {
     "name": "stderr",
     "output_type": "stream",
     "text": [
      "INFO:qm.api.frontend_api:Sending program to QOP for compilation\n"
     ]
    },
    {
     "name": "stdout",
     "output_type": "stream",
     "text": [
      "2023-10-04 13:36:34,257 - qm - INFO     - Executing program\n"
     ]
    },
    {
     "name": "stderr",
     "output_type": "stream",
     "text": [
      "INFO:qm.QuantumMachine:Executing program\n"
     ]
    },
    {
     "name": "stdout",
     "output_type": "stream",
     "text": [
      "Execution stopped by user!                                   ] 30.7% (n=3070/10000) --> elapsed time: 5.91s\n",
      "Progress: [###############                                   ] 31.5% (n=3149/10000) --> elapsed time: 6.11s\r"
     ]
    }
   ],
   "source": [
    "print(\"Start running ...\")\n",
    "\n",
    "now = datetime.datetime.now()\n",
    "month = now.strftime(\"%m\")\n",
    "day = now.strftime(\"%d\")\n",
    "hour = now.strftime(\"%H\")\n",
    "minute = now.strftime(\"%M\")\n",
    "\n",
    "exp_name = 'Rabi'\n",
    "qubit_name = 'UA_Q1'\n",
    "\n",
    "f_str = qubit_name + '_' + exp_name + '_' + month + day + '-' + hour + minute\n",
    "file_name= f_str+'.mat'\n",
    "json_name = f_str + '_state.json'\n",
    "\n",
    "# Set-up the machine and get the config #\n",
    "machine = QuAM(\"quam_state.json\")\n",
    "# machine.qubits[0].pi_amp=0.109\n",
    "# machine.qubits[0].pi_length=80\n",
    "config = build_config(machine)\n",
    "\n",
    "# The QUA program #\n",
    "n_avg = 10_000\n",
    "cooldown_time = 20_000 # ns, set in wait() function\n",
    "amps = np.arange(0.1, 1.99, 0.02)\n",
    "err_amp = 1  # Number of played qubit pulses for getting a better estimate of the pi amplitude\n",
    "qubit_index = 0\n",
    "flux_settle_time = 250  # Flux settle time for fast flux from OP\n",
    "t = 80 \n",
    "\n",
    "with program() as power_rabi:\n",
    "    n = declare(int)\n",
    "    n_st = declare_stream()\n",
    "    a = declare(fixed)\n",
    "    I = declare(fixed)\n",
    "    Q = declare(fixed)\n",
    "    I_st = declare_stream()\n",
    "    Q_st = declare_stream()\n",
    "\n",
    "    with for_(n, 0, n < n_avg, n + 1):\n",
    "        with for_(*from_array(a, amps)):\n",
    "            # Loop for error amplification (perform many qubit pulses)\n",
    "            for i in range(err_amp):\n",
    "#                 play(\"x180\" * amp(a), machine.qubits[qubit_index].name)\n",
    "#                 play(\"pi\" * amp(a), machine.qubits[qubit_index].name, duration = t * u.ns)\n",
    "                play(\"pi\" * amp(a), machine.qubits[qubit_index].name)\n",
    "            align(machine.qubits[qubit_index].name, machine.resonators[qubit_index].name)\n",
    "            measure(\n",
    "                \"readout\",\n",
    "                machine.resonators[qubit_index].name,\n",
    "                None,\n",
    "                dual_demod.full(\"cos\", \"out1\", \"sin\", \"out2\", I),\n",
    "                dual_demod.full(\"minus_sin\", \"out1\", \"cos\", \"out2\", Q),\n",
    "            )\n",
    "            save(I, I_st)\n",
    "            save(Q, Q_st)\n",
    "            wait(cooldown_time * u.ns, machine.resonators[qubit_index].name)\n",
    "        save(n, n_st)\n",
    "\n",
    "    with stream_processing():\n",
    "        I_st.buffer(len(amps)).average().save(\"I\")\n",
    "        Q_st.buffer(len(amps)).average().save(\"Q\")\n",
    "        n_st.save(\"iteration\")\n",
    "\n",
    "#  Open Communication with the QOP  #\n",
    "# qmm = QuantumMachinesManager(machine.network.qop_ip, cluster_name=machine.network.cluster_name, octave=octave_config)\n",
    "# qmm = QuantumMachinesManager(machine.network.qop_ip, port = '9510', octave=octave_config, log_level = \"ERROR\")\n",
    "qmm = QuantumMachinesManager(machine.network.qop_ip, port = '9510', octave=octave_config)\n",
    "\n",
    "simulate = False\n",
    "if simulate:\n",
    "    simulation_config = SimulationConfig(duration=1000)  # in clock cycles\n",
    "    job = qmm.simulate(config, power_rabi, simulation_config)\n",
    "    job.get_simulated_samples().con1.plot()\n",
    "else:\n",
    "    qm = qmm.open_qm(config)\n",
    "    job = qm.execute(power_rabi)\n",
    "    # Get results from QUA program\n",
    "    results = fetching_tool(job, data_list=[\"I\", \"Q\", \"iteration\"], mode=\"live\")\n",
    "    %matplotlib qt\n",
    "    # Live plotting\n",
    "    fig = plt.figure()\n",
    "    plt.rcParams['figure.figsize'] = [12, 8]\n",
    "    interrupt_on_close(fig, job)  # Interrupts the job when closing the figure\n",
    "    while results.is_processing():\n",
    "        # Fetch results\n",
    "        I, Q, iteration = results.fetch_all()\n",
    "        I = u.demod2volts(I, machine.resonators[qubit_index].readout_pulse_length)\n",
    "        Q = u.demod2volts(Q, machine.resonators[qubit_index].readout_pulse_length)\n",
    "        sig_amp = np.sqrt(I**2 + Q**2)\n",
    "        sig_phase = signal.detrend(np.unwrap(np.angle(I + 1j * Q)))\n",
    "        # Progress bar\n",
    "        progress_counter(iteration, n_avg, start_time=results.get_start_time())\n",
    "        plt.cla()\n",
    "        plt.title(\"Power Rabi\")\n",
    "        plt.plot(machine.qubits[qubit_index].pi_amp*amps, sig_amp, \"b.\")\n",
    "        plt.xlabel(\"Amplitude [V]\")\n",
    "        plt.ylabel(r\"$\\sqrt{I^2 + Q^2}$ [V]\")\n",
    "        plt.pause(0.01)\n",
    "            "
   ]
  },
  {
   "cell_type": "code",
   "execution_count": 43,
   "id": "f2f72b3f",
   "metadata": {},
   "outputs": [],
   "source": [
    "savemat(os.path.join(tPath, file_name), {\"Rabi_amp\": machine.qubits[qubit_index].pi_amp * amps, \"sig\": sig_amp, \"sig_phase\": sig_phase, \"DC_flux\": DC_ss, \"ROI\": ROI, \"ROO\": ROO, \"freq_TWPA\": freq_TWPA, \"pwr_TWPA\": pwr_TWPA})\n",
    "machine._save(os.path.join(tPath, json_name), flat_data=False)"
   ]
  },
  {
   "cell_type": "code",
   "execution_count": 137,
   "id": "87295ad8",
   "metadata": {},
   "outputs": [
    {
     "name": "stdout",
     "output_type": "stream",
     "text": [
      "Updated amp_pi [V]: 0.9997\n",
      "1.0000000000000002\n"
     ]
    }
   ],
   "source": [
    "# fit the data\n",
    "try:\n",
    "    param, dp_cov=curve_fit(Rabi_Shape,amps,sig_amp,p0=[(max(sig_amp)-min(sig_amp))/2,0.5,0,(max(sig_amp)+min(sig_amp))/2] )\n",
    "    amp_pi = round(((0.5-param[2]/2/np.pi)/param[1]) * 10000)/10000\n",
    "    print('Updated amp_pi [V]:', amp_pi)\n",
    "except:\n",
    "    pass\n",
    "\n",
    "# 1D spectroscopy plot\n",
    "fig = plt.figure(figsize=[14, 6])\n",
    "plt.plot(amps, sig_amp, \"b.\")\n",
    "plt.plot(amps, Rabi_Shape(amps, param[0],param[1],param[2],param[3]), 'r')\n",
    "plt.show()\n",
    "plt.title(\"Rabi pulse amplitude [V]\")\n",
    "\n",
    "plt.xlabel(\"Amplitude [a.u.]\")\n",
    "plt.ylabel(r\"$\\sqrt{I^2 + Q^2}$ [V]\")\n",
    "# plt.axvline(x=amp_pi)\n",
    "print(amps[np.argmax(Rabi_Shape(amps, param[0],param[1],param[2],param[3]))])"
   ]
  },
  {
   "cell_type": "code",
   "execution_count": 135,
   "id": "298b7e7e",
   "metadata": {},
   "outputs": [],
   "source": [
    "machine.qubits[qubit_index].pi_amp =  0.0165\n",
    "# machine.qubits[qubit_index].pi_length = 180\n",
    "# machine.flux_lines[qubit_index].flux_pulse_length = 152\n",
    "# machine.flux_lines[qubit_index].flux_pulse_amp = 0.25\n",
    "\n",
    "machine._save(\"quam_state.json\", flat_data=False)"
   ]
  },
  {
   "cell_type": "markdown",
   "id": "593e7a63",
   "metadata": {},
   "source": [
    "## Time Rabi"
   ]
  },
  {
   "cell_type": "code",
   "execution_count": 123,
   "id": "5c733b3f",
   "metadata": {},
   "outputs": [
    {
     "name": "stdout",
     "output_type": "stream",
     "text": [
      "Start running ...\n",
      "2023-10-04 13:31:41,718 - qm - INFO     - Performing health check\n"
     ]
    },
    {
     "name": "stderr",
     "output_type": "stream",
     "text": [
      "INFO:qm.api.frontend_api:Performing health check\n"
     ]
    },
    {
     "name": "stdout",
     "output_type": "stream",
     "text": [
      "2023-10-04 13:31:41,729 - qm - INFO     - Health check passed\n"
     ]
    },
    {
     "name": "stderr",
     "output_type": "stream",
     "text": [
      "INFO:qm.api.frontend_api:Health check passed\n"
     ]
    },
    {
     "name": "stdout",
     "output_type": "stream",
     "text": [
      "2023-10-04 13:31:42,521 - qm - INFO     - Sending program to QOP for compilation\n"
     ]
    },
    {
     "name": "stderr",
     "output_type": "stream",
     "text": [
      "INFO:qm.api.frontend_api:Sending program to QOP for compilation\n"
     ]
    },
    {
     "name": "stdout",
     "output_type": "stream",
     "text": [
      "2023-10-04 13:31:42,770 - qm - INFO     - Executing program\n"
     ]
    },
    {
     "name": "stderr",
     "output_type": "stream",
     "text": [
      "INFO:qm.QuantumMachine:Executing program\n"
     ]
    },
    {
     "name": "stdout",
     "output_type": "stream",
     "text": [
      "Execution stopped by user!                                   ] 18.1% (n=1813/10000) --> elapsed time: 11.45s\n",
      "Progress: [#########                                         ] 18.5% (n=1846/10000) --> elapsed time: 11.71s\r"
     ]
    }
   ],
   "source": [
    "print(\"Start running ...\")\n",
    "\n",
    "now = datetime.datetime.now()\n",
    "month = now.strftime(\"%m\")\n",
    "day = now.strftime(\"%d\")\n",
    "hour = now.strftime(\"%H\")\n",
    "minute = now.strftime(\"%M\")\n",
    "\n",
    "exp_name = 'Rabi_time'\n",
    "qubit_name = 'UA_Q1'\n",
    "\n",
    "f_str = qubit_name + '_' + exp_name + '_' + month + day + '-' + hour + minute\n",
    "file_name= f_str+'.mat'\n",
    "json_name = f_str + '_state.json'\n",
    "\n",
    "# Set-up the machine and get the config #\n",
    "machine = QuAM(\"quam_state.json\")\n",
    "# machine.qubits[0].pi_amp=0.109\n",
    "# machine.qubits[0].pi_length=80\n",
    "config = build_config(machine)\n",
    "\n",
    "# The QUA program #\n",
    "n_avg = 10_000\n",
    "cooldown_time = 20_000 # ns, set in wait() function\n",
    "\n",
    "taus = np.arange(1, 300 + 0.1, 1)  # in units of clock cyles\n",
    "taus = taus.astype(int)\n",
    "qubit_index = 0\n",
    "\n",
    "with program() as time_rabi:\n",
    "    n = declare(int)\n",
    "    n_st = declare_stream()\n",
    "    t = declare(int)\n",
    "    I = declare(fixed)\n",
    "    Q = declare(fixed)\n",
    "    I_st = declare_stream()\n",
    "    Q_st = declare_stream()\n",
    "    \n",
    "\n",
    "    with for_(n, 0, n < n_avg, n + 1):\n",
    "        with for_(*from_array(t, taus)):\n",
    "            play(\"pi\" * amp(0.05), machine.qubits[qubit_index].name, duration = t)\n",
    "#             play(\"x180\" * amp(0.73), machine.qubits[qubit_index].name, duration = t)\n",
    "            align(machine.qubits[qubit_index].name, machine.resonators[qubit_index].name)\n",
    "            measure(\n",
    "                \"readout\",\n",
    "                machine.resonators[qubit_index].name,\n",
    "                None,\n",
    "                dual_demod.full(\"cos\", \"out1\", \"sin\", \"out2\", I),\n",
    "                dual_demod.full(\"minus_sin\", \"out1\", \"cos\", \"out2\", Q),\n",
    "            )\n",
    "            save(I, I_st)\n",
    "            save(Q, Q_st)\n",
    "            wait(cooldown_time * u.ns, machine.resonators[qubit_index].name)\n",
    "        save(n, n_st)\n",
    "\n",
    "    with stream_processing():\n",
    "        I_st.buffer(len(taus)).average().save(\"I\")\n",
    "        Q_st.buffer(len(taus)).average().save(\"Q\")\n",
    "        n_st.save(\"iteration\")\n",
    "\n",
    "#  Open Communication with the QOP  #\n",
    "# qmm = QuantumMachinesManager(machine.network.qop_ip, cluster_name=machine.network.cluster_name, octave=octave_config)\n",
    "# qmm = QuantumMachinesManager(machine.network.qop_ip, port = '9510', octave=octave_config, log_level = \"ERROR\")\n",
    "qmm = QuantumMachinesManager(machine.network.qop_ip, port = '9510', octave=octave_config)\n",
    "\n",
    "simulate = False\n",
    "if simulate:\n",
    "    simulation_config = SimulationConfig(duration=1000)  # in clock cycles\n",
    "    job = qmm.simulate(config, time_rabi, simulation_config)\n",
    "    job.get_simulated_samples().con1.plot()\n",
    "else:\n",
    "    qm = qmm.open_qm(config)\n",
    "    job = qm.execute(time_rabi)\n",
    "    # Get results from QUA program\n",
    "    results = fetching_tool(job, data_list=[\"I\", \"Q\", \"iteration\"], mode=\"live\")\n",
    "    %matplotlib qt\n",
    "    # Live plotting\n",
    "    fig = plt.figure()\n",
    "    plt.rcParams['figure.figsize'] = [12, 8]\n",
    "    interrupt_on_close(fig, job)  # Interrupts the job when closing the figure\n",
    "    while results.is_processing():\n",
    "        # Fetch results\n",
    "        I, Q, iteration = results.fetch_all()\n",
    "        I = u.demod2volts(I, machine.resonators[qubit_index].readout_pulse_length)\n",
    "        Q = u.demod2volts(Q, machine.resonators[qubit_index].readout_pulse_length)\n",
    "        sig_amp = np.sqrt(I**2 + Q**2)\n",
    "        sig_phase = signal.detrend(np.unwrap(np.angle(I + 1j * Q)))\n",
    "        # Progress bar\n",
    "        progress_counter(iteration, n_avg, start_time=results.get_start_time())\n",
    "        plt.cla()\n",
    "        plt.title(\"Time Rabi\")\n",
    "        plt.plot(taus *4, sig_amp, \"b.\")\n",
    "        plt.xlabel(\"Tau [ns]\")\n",
    "        plt.ylabel(r\"$\\sqrt{I^2 + Q^2}$ [V]\")\n",
    "        plt.pause(0.01)"
   ]
  },
  {
   "cell_type": "code",
   "execution_count": 122,
   "id": "0b12944c",
   "metadata": {},
   "outputs": [
    {
     "name": "stdout",
     "output_type": "stream",
     "text": [
      "Progress: [###########                                       ] 23.7% (n=2372/10000) --> elapsed time: 30.63s\r"
     ]
    }
   ],
   "source": [
    " I, Q, iteration = results.fetch_all()\n",
    "I = u.demod2volts(I, machine.resonators[qubit_index].readout_pulse_length)\n",
    "Q = u.demod2volts(Q, machine.resonators[qubit_index].readout_pulse_length)\n",
    "sig_amp = np.sqrt(I**2 + Q**2)\n",
    "sig_phase = signal.detrend(np.unwrap(np.angle(I + 1j * Q)))\n",
    "# Progress bar\n",
    "progress_counter(iteration, n_avg, start_time=results.get_start_time())\n",
    "plt.cla()\n",
    "plt.title(\"Time Rabi\")\n",
    "plt.plot(taus *4, sig_amp, \"b.\")\n",
    "plt.xlabel(\"Tau [ns]\")\n",
    "plt.ylabel(r\"$\\sqrt{I^2 + Q^2}$ [V]\")\n",
    "plt.pause(0.01)"
   ]
  },
  {
   "cell_type": "code",
   "execution_count": 124,
   "id": "55a545c6",
   "metadata": {},
   "outputs": [],
   "source": [
    "# machine.qubits[qubit_index].pi_amp = 0.1092*0.5\n",
    "machine.qubits[qubit_index].pi_length = 120\n",
    "machine._save(\"quam_state.json\")"
   ]
  },
  {
   "cell_type": "code",
   "execution_count": 41,
   "id": "6701a31b",
   "metadata": {},
   "outputs": [],
   "source": [
    "savemat(os.path.join(tPath, file_name), {\"Rabi_time\": taus*4, \"sig\": sig_amp, \"sig_phase\": sig_phase, \"DC_flux\": DC_ss, \"ROI\": ROI, \"ROO\": ROO, \"freq_TWPA\": freq_TWPA, \"pwr_TWPA\": pwr_TWPA})\n",
    "machine._save(os.path.join(tPath, json_name), flat_data=False)"
   ]
  },
  {
   "cell_type": "markdown",
   "id": "65758d2f",
   "metadata": {},
   "source": [
    "## T1"
   ]
  },
  {
   "cell_type": "code",
   "execution_count": 46,
   "id": "6fcccae3",
   "metadata": {},
   "outputs": [
    {
     "name": "stdout",
     "output_type": "stream",
     "text": [
      "Start running ...\n",
      "2023-10-03 13:59:17,732 - qm - INFO     - Performing health check\n"
     ]
    },
    {
     "name": "stderr",
     "output_type": "stream",
     "text": [
      "INFO:qm.api.frontend_api:Performing health check\n"
     ]
    },
    {
     "name": "stdout",
     "output_type": "stream",
     "text": [
      "2023-10-03 13:59:17,744 - qm - INFO     - Health check passed\n"
     ]
    },
    {
     "name": "stderr",
     "output_type": "stream",
     "text": [
      "INFO:qm.api.frontend_api:Health check passed\n"
     ]
    },
    {
     "name": "stdout",
     "output_type": "stream",
     "text": [
      "2023-10-03 13:59:17.747154 2\n",
      "2023-10-03 13:59:18,499 - qm - INFO     - Sending program to QOP for compilation\n"
     ]
    },
    {
     "name": "stderr",
     "output_type": "stream",
     "text": [
      "INFO:qm.api.frontend_api:Sending program to QOP for compilation\n"
     ]
    },
    {
     "name": "stdout",
     "output_type": "stream",
     "text": [
      "2023-10-03 13:59:18,681 - qm - INFO     - Executing program\n"
     ]
    },
    {
     "name": "stderr",
     "output_type": "stream",
     "text": [
      "INFO:qm.QuantumMachine:Executing program\n"
     ]
    },
    {
     "name": "stdout",
     "output_type": "stream",
     "text": [
      "Progress: [##################################################] 100.0% (n=10000/10000) --> elapsed time: 15.79s\n"
     ]
    }
   ],
   "source": [
    "print(\"Start running ...\")\n",
    "\n",
    "now = datetime.datetime.now()\n",
    "month = now.strftime(\"%m\")\n",
    "day = now.strftime(\"%d\")\n",
    "hour = now.strftime(\"%H\")\n",
    "minute = now.strftime(\"%M\")\n",
    "\n",
    "exp_name = 'T1'\n",
    "qubit_name = 'UA_Q1'\n",
    "\n",
    "f_str = qubit_name + '_' + exp_name + '_' + month + day + '-' + hour + minute\n",
    "file_name= f_str+'.mat'\n",
    "json_name = f_str + '_state.json'\n",
    "\n",
    "machine = QuAM(\"quam_state.json\")\n",
    "config = build_config(machine)\n",
    "\n",
    "# The QUA program #\n",
    "tau_min = 100 # clock cycle\n",
    "tau_max = 3_000 # clock cycle\n",
    "d_tau = 50 # clock cycle\n",
    "tau_sweep = np.arange(tau_min, tau_max + 0.1, d_tau)  # + 0.1 to add t_max to taus\n",
    "tau_sweep = tau_sweep.astype(int)\n",
    "qubit_index = 0\n",
    "\n",
    "n_avg = 10000\n",
    "cooldown_time = 20_000 # ns\n",
    "\n",
    "with program() as T1:\n",
    "    n = declare(int)\n",
    "    n_st = declare_stream()\n",
    "    I = declare(fixed)\n",
    "    I_st = declare_stream()\n",
    "    Q = declare(fixed)\n",
    "    Q_st = declare_stream()\n",
    "    tau = declare(int)\n",
    "\n",
    "    with for_(n, 0, n < n_avg, n + 1):\n",
    "        with for_(*from_array(tau, tau_sweep)):\n",
    "            play(\"pi\", machine.qubits[qubit_index].name)\n",
    "            wait(tau, machine.qubits[qubit_index].name)\n",
    "            align(machine.qubits[qubit_index].name, machine.resonators[qubit_index].name)\n",
    "            measure(\n",
    "                \"readout\",\n",
    "                machine.resonators[qubit_index].name,\n",
    "                None,\n",
    "                dual_demod.full(\"rotated_cos\", \"out1\", \"rotated_sin\", \"out2\", I),\n",
    "                dual_demod.full(\"rotated_minus_sin\", \"out1\", \"rotated_cos\", \"out2\", Q),\n",
    "            )\n",
    "            save(I, I_st)\n",
    "            save(Q, Q_st)\n",
    "            wait(cooldown_time * u.ns, machine.resonators[qubit_index].name)\n",
    "        save(n, n_st)\n",
    "\n",
    "    with stream_processing():\n",
    "        I_st.buffer(len(tau_sweep)).average().save(\"I\")\n",
    "        Q_st.buffer(len(tau_sweep)).average().save(\"Q\")\n",
    "        n_st.save(\"iteration\")\n",
    "\n",
    "#  Open Communication with the QOP  #\n",
    "# qmm = QuantumMachinesManager(machine.network.qop_ip, cluster_name=machine.network.cluster_name, octave=octave_config)\n",
    "# qmm = QuantumMachinesManager(machine.network.qop_ip, port = '9510', octave=octave_config, log_level = \"ERROR\")\n",
    "qmm = QuantumMachinesManager(machine.network.qop_ip, port = '9510', octave=octave_config)\n",
    "\n",
    "# Simulate or execute #\n",
    "simulate = False\n",
    "if simulate:\n",
    "    simulation_config = SimulationConfig(duration=20_000)  # in clock cycles\n",
    "    job = qmm.simulate(config, T1, simulation_config)\n",
    "    job.get_simulated_samples().con1.plot()\n",
    "\n",
    "else:\n",
    "    print(datetime.datetime.now(),2)\n",
    "    qm = qmm.open_qm(config)\n",
    "    job = qm.execute(T1)\n",
    "    \n",
    "    # Get results from QUA program\n",
    "    results = fetching_tool(job, data_list=[\"I\", \"Q\", \"iteration\"], mode=\"live\")\n",
    "    %matplotlib qt\n",
    "    # Live plotting\n",
    "    fig = plt.figure()\n",
    "    plt.rcParams['figure.figsize'] = [12, 8]\n",
    "    interrupt_on_close(fig, job)  # Interrupts the job when closing the figure    while results.is_processing():\n",
    "    while results.is_processing():\n",
    "        # Fetch results\n",
    "        I, Q, iteration = results.fetch_all()\n",
    "        I = u.demod2volts(I, machine.resonators[qubit_index].readout_pulse_length)\n",
    "        Q = u.demod2volts(Q, machine.resonators[qubit_index].readout_pulse_length)\n",
    "        sig_amp = np.sqrt(I**2 + Q**2)\n",
    "        sig_phase = signal.detrend(np.unwrap(np.angle(I + 1j * Q)))\n",
    "        # Progress bar\n",
    "        progress_counter(iteration, n_avg, start_time=results.get_start_time())\n",
    "        plt.cla()\n",
    "        plt.title(\"T1\")\n",
    "        plt.plot(tau_sweep *4, sig_amp, \"b.\")\n",
    "        plt.xlabel(\"Tau [ns]\")\n",
    "        plt.ylabel(r\"$\\sqrt{I^2 + Q^2}$ [V]\")\n",
    "        plt.pause(0.01)"
   ]
  },
  {
   "cell_type": "code",
   "execution_count": 47,
   "id": "c4b98d84",
   "metadata": {},
   "outputs": [],
   "source": [
    "savemat(os.path.join(tPath, file_name), {\"tau\": tau_sweep *4, \"sig_amp\": sig_amp, \"sig_phase\": sig_phase, \"DC_flux\": DC_ss, \"ROI\": ROI, \"ROO\": ROO, \"freq_TWPA\": freq_TWPA, \"pwr_TWPA\": pwr_TWPA})\n",
    "machine._save(os.path.join(tPath, json_name), flat_data=False)"
   ]
  },
  {
   "cell_type": "code",
   "execution_count": 48,
   "id": "8abb567e",
   "metadata": {},
   "outputs": [
    {
     "name": "stdout",
     "output_type": "stream",
     "text": [
      "Qubit T1 [us]: 3.828\n"
     ]
    },
    {
     "data": {
      "text/plain": [
       "Text(0, 0.5, '$\\\\sqrt{I^2 + Q^2}$ [V]')"
      ]
     },
     "execution_count": 48,
     "metadata": {},
     "output_type": "execute_result"
    }
   ],
   "source": [
    "try:\n",
    "    param, _ = curve_fit(exp_decay,tau_sweep *4,sig_amp,p0=[max(sig_amp)-min(sig_amp),4E3,min(sig_amp)] )\n",
    "    q_T1 = round(param[1])\n",
    "    print('Qubit T1 [us]:', q_T1 /u.us)\n",
    "except:\n",
    "    pass\n",
    "\n",
    "# 1D spectroscopy plot\n",
    "fig = plt.figure(figsize=[14, 6])\n",
    "plt.plot(tau_sweep *4 /u.us, sig_amp, \"b.\")\n",
    "plt.plot(tau_sweep *4 / u.us, exp_decay(tau_sweep *4, param[0],param[1],param[2]), 'r')\n",
    "plt.show()\n",
    "plt.title(\"Qubit T1\")\n",
    "plt.xlabel(\"tau [us]\")\n",
    "plt.ylabel(\"$\\sqrt{I^2 + Q^2}$ [V]\")"
   ]
  },
  {
   "cell_type": "code",
   "execution_count": 49,
   "id": "dc85397b",
   "metadata": {},
   "outputs": [],
   "source": [
    "machine.qubits[qubit_index].T1 = q_T1\n",
    "machine._save(\"quam_state.json\", flat_data=False)"
   ]
  },
  {
   "cell_type": "markdown",
   "id": "3200c8f5",
   "metadata": {},
   "source": [
    "## Qubit tuning curve unoptimized"
   ]
  },
  {
   "cell_type": "code",
   "execution_count": 815,
   "id": "6e4c1652",
   "metadata": {},
   "outputs": [],
   "source": [
    "# set DC flux to sweet spot\n",
    "client = Labber.connectToServer('localhost') # get list of instruments \n",
    "QDevil = client.connectToInstrument('QDevil QDAC', dict(interface='Serial', address='3'))\n",
    "\n",
    "DC_ss = SS \n",
    "QDevil.setValue(\"CH01 Voltage\", DC_ss)\n",
    "client.close()"
   ]
  },
  {
   "cell_type": "code",
   "execution_count": 911,
   "id": "8cd98870",
   "metadata": {},
   "outputs": [],
   "source": [
    "machine.qubits[0].lo = 6301e6\n",
    "machine.qubits[0].f_01 = 6455.3e6\n",
    "machine._save(\"quam_state.json\")"
   ]
  },
  {
   "cell_type": "code",
   "execution_count": 912,
   "id": "070dc960",
   "metadata": {},
   "outputs": [
    {
     "name": "stdout",
     "output_type": "stream",
     "text": [
      "------------------------------------- Calibrates r0 for (LO, IF) = (7.312 GHz, -49.600 MHz)\n",
      "------------------------------------- Calibrates q0 for (LO, IF) = (6.301 GHz, 154.300 MHz)\n"
     ]
    }
   ],
   "source": [
    "run octave_configuration.py"
   ]
  },
  {
   "cell_type": "code",
   "execution_count": 909,
   "id": "48bd2d5a",
   "metadata": {},
   "outputs": [
    {
     "data": {
      "text/plain": [
       "{'con1': {'type': 'opx1',\n",
       "  'analog_outputs': {1: {'offset': -0.0067901611328125,\n",
       "    'delay': 0,\n",
       "    'shareable': False,\n",
       "    'filter': {'feedforward': [], 'feedback': []}},\n",
       "   2: {'offset': -0.011688232421875,\n",
       "    'delay': 0,\n",
       "    'shareable': False,\n",
       "    'filter': {'feedforward': [], 'feedback': []}},\n",
       "   3: {'offset': -0.04345703125,\n",
       "    'delay': 0,\n",
       "    'shareable': False,\n",
       "    'filter': {'feedforward': [], 'feedback': []}},\n",
       "   4: {'offset': 0.00909423828125,\n",
       "    'delay': 0,\n",
       "    'shareable': False,\n",
       "    'filter': {'feedforward': [], 'feedback': []}},\n",
       "   5: {'offset': 0.0,\n",
       "    'delay': 0,\n",
       "    'shareable': False,\n",
       "    'filter': {'feedforward': [], 'feedback': []}},\n",
       "   6: {'offset': 0.0,\n",
       "    'delay': 0,\n",
       "    'shareable': False,\n",
       "    'filter': {'feedforward': [], 'feedback': []}},\n",
       "   7: {'offset': 0.0,\n",
       "    'delay': 19,\n",
       "    'shareable': False,\n",
       "    'filter': {'feedforward': [], 'feedback': []}},\n",
       "   8: {'offset': 0.0,\n",
       "    'delay': 19,\n",
       "    'shareable': False,\n",
       "    'filter': {'feedforward': [], 'feedback': []}},\n",
       "   9: {'offset': 0.0,\n",
       "    'delay': 19,\n",
       "    'shareable': False,\n",
       "    'filter': {'feedforward': [], 'feedback': []}},\n",
       "   10: {'offset': 0.0,\n",
       "    'delay': 19,\n",
       "    'shareable': False,\n",
       "    'filter': {'feedforward': [], 'feedback': []}}},\n",
       "  'analog_inputs': {1: {'offset': 0.009985, 'gain_db': 0, 'shareable': False},\n",
       "   2: {'offset': 0.013658, 'gain_db': 0, 'shareable': False}},\n",
       "  'digital_outputs': {1: {'shareable': False, 'inverted': False},\n",
       "   2: {'shareable': False, 'inverted': False},\n",
       "   3: {'shareable': False, 'inverted': False},\n",
       "   4: {'shareable': False, 'inverted': False},\n",
       "   5: {'shareable': False, 'inverted': False},\n",
       "   6: {'shareable': False, 'inverted': False},\n",
       "   7: {'shareable': False, 'inverted': False},\n",
       "   8: {'shareable': False, 'inverted': False},\n",
       "   9: {'shareable': False, 'inverted': False},\n",
       "   10: {'shareable': False, 'inverted': False}}}}"
      ]
     },
     "execution_count": 909,
     "metadata": {},
     "output_type": "execute_result"
    }
   ],
   "source": [
    "qm.get_config()['controllers']"
   ]
  },
  {
   "cell_type": "code",
   "execution_count": 902,
   "id": "710c7ecc",
   "metadata": {},
   "outputs": [
    {
     "data": {
      "text/plain": [
       "0.01972198486328125"
      ]
     },
     "execution_count": 902,
     "metadata": {},
     "output_type": "execute_result"
    }
   ],
   "source": [
    "qm.get_output_dc_offset_by_element(\"q0\", 'I')"
   ]
  },
  {
   "cell_type": "code",
   "execution_count": 918,
   "id": "1a54e00a",
   "metadata": {},
   "outputs": [],
   "source": [
    "qm.set_output_dc_offset_by_element(machine.qubits[qubit_index].name, ('I', 'Q'), (-0.03985595703125, 0.0133209228515625))"
   ]
  },
  {
   "cell_type": "code",
   "execution_count": 913,
   "id": "2b2f7741",
   "metadata": {},
   "outputs": [
    {
     "name": "stdout",
     "output_type": "stream",
     "text": [
      "-0.03985595703125\n",
      "0.0133209228515625\n",
      "[0.9768762178719044, 0.04489506408572197, 0.04256917163729668, 1.0302507318556309]\n"
     ]
    }
   ],
   "source": [
    "calibration_parameters = json.load(open(\"calibration_db.json\"))[\"_default\"]\n",
    "IF = machine.qubits[0].f_01- machine.qubits[0].lo\n",
    "for i in calibration_parameters.keys():\n",
    "    if calibration_parameters[i][\"lo_frequency\"] == machine.qubits[0].lo:\n",
    "        if calibration_parameters[i][\"if_frequency\"] == IF:\n",
    "            print(calibration_parameters[i][\"i_offset\"])\n",
    "            print(calibration_parameters[i][\"q_offset\"])\n",
    "            print(calibration_parameters[i][\"correction\"])\n",
    "        else:\n",
    "            pass\n",
    "    else:\n",
    "        pass"
   ]
  },
  {
   "cell_type": "code",
   "execution_count": 881,
   "id": "5eca0d93",
   "metadata": {},
   "outputs": [
    {
     "data": {
      "text/plain": [
       "(6451900000.0, 6555300000.0)"
      ]
     },
     "execution_count": 881,
     "metadata": {},
     "output_type": "execute_result"
    }
   ],
   "source": [
    "machine.qubits[0].f_01, machine.qubits[0].lo"
   ]
  },
  {
   "cell_type": "code",
   "execution_count": 919,
   "id": "97c6366a",
   "metadata": {},
   "outputs": [
    {
     "name": "stdout",
     "output_type": "stream",
     "text": [
      "Start running ...\n",
      "2023-10-10 16:05:50,706 - qm - INFO     - Performing health check\n"
     ]
    },
    {
     "name": "stderr",
     "output_type": "stream",
     "text": [
      "INFO:qm.api.frontend_api:Performing health check\n"
     ]
    },
    {
     "name": "stdout",
     "output_type": "stream",
     "text": [
      "2023-10-10 16:05:50,717 - qm - INFO     - Health check passed\n"
     ]
    },
    {
     "name": "stderr",
     "output_type": "stream",
     "text": [
      "INFO:qm.api.frontend_api:Health check passed\n"
     ]
    },
    {
     "name": "stdout",
     "output_type": "stream",
     "text": [
      "2023-10-10 16:05:50,911 - qm - INFO     - Sending program to QOP for compilation\n"
     ]
    },
    {
     "name": "stderr",
     "output_type": "stream",
     "text": [
      "INFO:qm.api.frontend_api:Sending program to QOP for compilation\n"
     ]
    },
    {
     "name": "stdout",
     "output_type": "stream",
     "text": [
      "2023-10-10 16:05:51,210 - qm - INFO     - Executing program\n"
     ]
    },
    {
     "name": "stderr",
     "output_type": "stream",
     "text": [
      "INFO:qm.QuantumMachine:Executing program\n"
     ]
    },
    {
     "name": "stdout",
     "output_type": "stream",
     "text": [
      "Execution stopped by user!                                   ] 15.6% (n=779/5000) --> elapsed time: 84.94s\n",
      "Finished! [#######                                           ] 15.6% (n=780/5000) --> elapsed time: 85.42s\n"
     ]
    }
   ],
   "source": [
    "# qubit tuning curve with no optimization (full frequency spectrum)\n",
    "\n",
    "print(\"Start running ...\")\n",
    "\n",
    "now = datetime.datetime.now()\n",
    "month = now.strftime(\"%m\")\n",
    "day = now.strftime(\"%d\")\n",
    "hour = now.strftime(\"%H\")\n",
    "minute = now.strftime(\"%M\")\n",
    "\n",
    "exp_name = 'qubit_spec_flux_unopt'\n",
    "qubit_name = 'UA_Q1'\n",
    "\n",
    "f_str = qubit_name + '_' + exp_name + '_' + month + day + '-' + hour + minute\n",
    "file_name= f_str+'.mat'\n",
    "json_name = f_str + '_state.json'\n",
    "\n",
    "# to optimize readout from Ham fit done in the RR tuning curve \n",
    "popt = np.array([7.25072938e+03, 1.92811392e+02, 3.01741938e+04, 4.20914263e-02,\n",
    "       3.71333719e-02, 8.81499013e+01])\n",
    "\n",
    "# Set-up the machine and get the config #\n",
    "machine = QuAM(\"quam_state.json\")\n",
    "config = build_config(machine)\n",
    "\n",
    "# Program-specific variables #\n",
    "n_avg =5_000  # Number of averaging loops\n",
    "cooldown_time = 20_000  # Resonator cooldown time, convert to ns in the wait() function \n",
    "\n",
    "ff_sweep = np.arange(-0.8,0.8+0.1,0.1)\n",
    "\n",
    "q_freq_sweep_abs = np.arange(6245e6, 6550e6, 1e6)\n",
    "q_freq_sweep = q_freq_sweep_abs - machine.qubits[qubit_index].f_01\n",
    "q_freq_sweep = q_freq_sweep.astype(int)\n",
    "\n",
    "qubit_index = 0\n",
    "\n",
    "# q_freq_sweep = np.arange(-220e6, 25e6, 1e6)\n",
    "# q_freq_sweep = q_freq_sweep.astype(int)\n",
    "flux_settle_time = 100\n",
    "z_duration = machine.qubits[qubit_index].pi_length + 40\n",
    "qb_if = machine.qubits[qubit_index].f_01 - machine.qubits[qubit_index].lo\n",
    "start_time = time.time()\n",
    "\n",
    "\n",
    "with program() as qubit_spec_2D_unopt:\n",
    "    n = declare(int)  # Averaging index\n",
    "    damp = declare(fixed)  # ff sweep index\n",
    "    df = declare(int)  # Resonator frequency\n",
    "    I = declare(fixed)\n",
    "    Q = declare(fixed)\n",
    "    I_st = declare_stream()\n",
    "    Q_st = declare_stream()\n",
    "    n_st = declare_stream()\n",
    "\n",
    "    \n",
    "    with for_(n, 0, n < n_avg, n + 1):\n",
    "\n",
    "        with for_(*from_array(damp, ff_sweep)):\n",
    "\n",
    "            with for_(*from_array(df, q_freq_sweep)):\n",
    "                \n",
    "                update_frequency(machine.qubits[qubit_index].name, qb_if + df)\n",
    "                align()\n",
    "                play(\"const\" * amp(damp), machine.flux_lines[qubit_index].name, duration = z_duration * u.ns)\n",
    "                wait(5, machine.qubits[qubit_index].name)\n",
    "                play('pi',machine.qubits[qubit_index].name)\n",
    "                align(machine.qubits[qubit_index].name, machine.flux_lines[qubit_index].name,machine.resonators[qubit_index].name)\n",
    "                # Measure the resonator\n",
    "                measure(\n",
    "                    \"readout\",\n",
    "                    machine.resonators[qubit_index].name,\n",
    "                    None,\n",
    "                    dual_demod.full(\"cos\", \"out1\", \"sin\", \"out2\", I),\n",
    "                    dual_demod.full(\"minus_sin\", \"out1\", \"cos\", \"out2\", Q),\n",
    "                )\n",
    "                align()\n",
    "                play(\"const\" * amp((-1)*damp), machine.flux_lines[qubit_index].name, duration = z_duration * u.ns)\n",
    "                # Wait for the resonator to cooldown\n",
    "                align()\n",
    "                wait(cooldown_time * u.ns, machine.resonators[qubit_index].name)\n",
    "                # Save data to the stream processing\n",
    "                save(I, I_st)\n",
    "                save(Q, Q_st)\n",
    "\n",
    "        save(n, n_st)\n",
    "\n",
    "    with stream_processing():\n",
    "        I_st.buffer(len(q_freq_sweep)).buffer(len(ff_sweep)).average().save(\"I\")\n",
    "        Q_st.buffer(len(q_freq_sweep)).buffer(len(ff_sweep)).average().save(\"Q\")\n",
    "        n_st.save(\"iteration\")\n",
    "\n",
    "    # to save all the frequencies used in the scan\n",
    "    q_freq_sweep_2D, ff_amp_sweep_2D = np.meshgrid(q_freq_sweep+ machine.qubits[qubit_index].f_01, ff_sweep * machine.flux_lines[qubit_index].flux_pulse_amp)\n",
    "\n",
    "qmm = QuantumMachinesManager(machine.network.qop_ip, port = '9510', octave=octave_config)\n",
    "\n",
    "simulate = False\n",
    "if simulate:\n",
    "    simulation_config = SimulationConfig(\n",
    "        duration = 8000, simulation_interface=LoopbackInterface([(\"con1\", 3, \"con1\", 1)])\n",
    "    )\n",
    "    job = qmm.simulate(config, qubit_spec_2D_unopt, simulation_config)\n",
    "    job.get_simulated_samples().con1.plot()\n",
    "else:\n",
    "#     qm = qmm.open_qm(config)\n",
    "    job = qm.execute(qubit_spec_2D_unopt)\n",
    "    # Creates results handles to fetch the data\n",
    "    results = fetching_tool(job, data_list=[\"I\", \"Q\", \"iteration\"], mode=\"live\")\n",
    "\n",
    "    # Live plotting\n",
    "    fig = plt.figure()\n",
    "    interrupt_on_close(fig, job)  #  Interrupts the job when closing the figure\n",
    "    while results.is_processing():\n",
    "        # Fetch results\n",
    "        I, Q, iteration = results.fetch_all()\n",
    "        progress_counter(iteration, n_avg, start_time=results.get_start_time())\n",
    "        # Convert results into Volts\n",
    "        sigs = u.demod2volts(I + 1j * Q, machine.resonators[qubit_index].readout_pulse_length)\n",
    "        sig_amp = np.abs(sigs)  # Amplitude\n",
    "        sig_phase = np.angle(sigs)  # Phase\n",
    "        # Plot results\n",
    "        progress_counter(iteration, n_avg, start_time=results.get_start_time())\n",
    "        plt.cla()\n",
    "        plt.title(\"Qubit spectroscopy amplitude\")\n",
    "        plt.pcolormesh(ff_amp_sweep_2D, q_freq_sweep_2D.astype(float), sig_amp ,cmap=\"seismic\")\n",
    "        plt.ylabel(\"Qubit frequency [MHz]\")\n",
    "        plt.xlabel(\"Flux level [V]\")\n",
    "        plt.pause(0.1)\n",
    "        plt.tight_layout() \n",
    "print(\"Finished!\")    \n",
    "  \n",
    "\n",
    "\n",
    "   "
   ]
  },
  {
   "cell_type": "code",
   "execution_count": 445,
   "id": "41969b8a",
   "metadata": {},
   "outputs": [
    {
     "name": "stdout",
     "output_type": "stream",
     "text": [
      "0.0005865656838276548\n"
     ]
    }
   ],
   "source": [
    "# plot and fit\n",
    "plt.figure()\n",
    "plt.ylabel(\"Qubit frequency [MHz]\")\n",
    "plt.xlabel(\"Flux level [V]\")\n",
    "plt.pcolormesh(ff_amp_sweep_2D, q_freq_sweep_2D.astype(float)/u.MHz, sig_amp ,cmap=\"seismic\")\n",
    "plt.colorbar()\n",
    "\n",
    "# Determine minima of signal to use as ydata for fitting\n",
    "maximas = []\n",
    "flux = ff_sweep * machine.flux_lines[qubit_index].flux_pulse_amp\n",
    "\n",
    "# Remove edges on flux to avoid having data from top curve\n",
    "bound = 0.1\n",
    "flux_int = np.array([i for i in flux if ((i>= -bound) & (i<= bound))])\n",
    "flux_int_idx = np.array([i for i,v in enumerate((flux>= -bound) & (flux<= bound))  if v])\n",
    "\n",
    "for i in (flux_int_idx):\n",
    "    maximas.append(q_freq_sweep_2D[i][np.argmax(sig_amp[i])])\n",
    "\n",
    "## Plot minima of signal\n",
    "maximas= np.array(maximas)\n",
    "plt.scatter(flux_int.T, maximas/1e6)\n",
    "\n",
    "initial_guess = [1, 0, 6260]  # Initial guess for the parameters\n",
    "fit_params, _ = curve_fit(poly2, flux_int, maximas/1e6, p0=initial_guess)\n",
    "\n",
    "fitted_curve = poly2(flux_int, *fit_params)\n",
    "# Plot fitted data\n",
    "plt.plot(flux_int, fitted_curve, label='Fitted Cosine', color='orange')\n",
    "fitted_curve = fitted_curve*u.kHz\n",
    "fitted_curve = fitted_curve.astype(int)\n",
    "\n",
    "# Sweet spot from fit\n",
    "SS_cal = -fit_params[1]/(2*fit_params[0])\n",
    "print(SS_cal)"
   ]
  },
  {
   "cell_type": "code",
   "execution_count": 446,
   "id": "d1fa8a97",
   "metadata": {},
   "outputs": [],
   "source": [
    "savemat(os.path.join(tPath, file_name), {\"q_freq\": q_freq_sweep_2D, \"sig_amp\": sig_amp, \"sig_phase\": sig_phase, \"fast_flux_sweep\": ff_amp_sweep_2D, \"ROI\": ROI, \"ROO\": ROO, \"freq_TWPA\": freq_TWPA, \"pwr_TWPA\": pwr_TWPA})\n",
    "machine._save(os.path.join(tPath, json_name), flat_data=False)"
   ]
  },
  {
   "cell_type": "markdown",
   "id": "33404ad4",
   "metadata": {},
   "source": [
    "## Tuning curve using Hamiltonian "
   ]
  },
  {
   "cell_type": "code",
   "execution_count": 846,
   "id": "33ac3d66",
   "metadata": {},
   "outputs": [
    {
     "name": "stdout",
     "output_type": "stream",
     "text": [
      "Start running ...\n",
      "2023-10-09 14:11:32,051 - qm - INFO     - Performing health check\n"
     ]
    },
    {
     "name": "stderr",
     "output_type": "stream",
     "text": [
      "INFO:qm.api.frontend_api:Performing health check\n"
     ]
    },
    {
     "name": "stdout",
     "output_type": "stream",
     "text": [
      "2023-10-09 14:11:32,062 - qm - INFO     - Health check passed\n"
     ]
    },
    {
     "name": "stderr",
     "output_type": "stream",
     "text": [
      "INFO:qm.api.frontend_api:Health check passed\n"
     ]
    },
    {
     "name": "stdout",
     "output_type": "stream",
     "text": [
      "2023-10-09 14:11:33,086 - qm - INFO     - Sending program to QOP for compilation\n"
     ]
    },
    {
     "name": "stderr",
     "output_type": "stream",
     "text": [
      "INFO:qm.api.frontend_api:Sending program to QOP for compilation\n"
     ]
    },
    {
     "name": "stdout",
     "output_type": "stream",
     "text": [
      "2023-10-09 14:11:33,363 - qm - INFO     - Executing program\n"
     ]
    },
    {
     "name": "stderr",
     "output_type": "stream",
     "text": [
      "INFO:qm.QuantumMachine:Executing program\n"
     ]
    },
    {
     "name": "stdout",
     "output_type": "stream",
     "text": [
      "Execution stopped by user!                                   ] 9.5% (n=95/1000) --> elapsed time: 3.49s\n",
      "Finished! [####                                              ] 9.7% (n=97/1000) --> elapsed time: 3.95s\n"
     ]
    }
   ],
   "source": [
    "## Working tuning curve using freq from Hamiltonian\n",
    "\n",
    "print(\"Start running ...\")\n",
    "\n",
    "now = datetime.datetime.now()\n",
    "month = now.strftime(\"%m\")\n",
    "day = now.strftime(\"%d\")\n",
    "hour = now.strftime(\"%H\")\n",
    "minute = now.strftime(\"%M\")\n",
    "\n",
    "exp_name = 'qubit_spec_flux_sweep_ham'\n",
    "qubit_name = 'UA_Q1'\n",
    "\n",
    "f_str = qubit_name + '_' + exp_name + '_' + month + day + '-' + hour + minute\n",
    "file_name= f_str+'.mat'\n",
    "json_name = f_str + '_state.json'\n",
    "\n",
    "# Set-up the machine and get the config #\n",
    "machine = QuAM(\"quam_state.json\")\n",
    "config = build_config(machine)\n",
    "\n",
    "# Program-specific variables #\n",
    "n_avg = 1_000  # Number of averaging loops\n",
    "qubit_index = 0 \n",
    "cooldown_time = 10_000  # Resonator cooldown time, convert to ns in the wait() function \n",
    "\n",
    "ff_amp_sweep = np.arange(-0.75,0.75+1E-5,0.05)\n",
    "\n",
    "# q_freq_sweep = np.arange(-100e6, 15e6, 1e6) \n",
    "q_freq_sweep_abs = np.arange(6360e6, 6460e6, 1e6)\n",
    "q_freq_sweep = q_freq_sweep_abs - machine.qubits[qubit_index].f_01\n",
    "q_freq_sweep = q_freq_sweep.astype(int)\n",
    "\n",
    "\n",
    "freq_est_diff = (machine.qubits[qubit_index].f_01-1E6*ham([SS], 2, *popt))[0] / 1e3 # in kHz\n",
    "q_freq_est = ham(machine.flux_lines[qubit_index].flux_pulse_amp * ff_amp_sweep+SS, 2, *popt) * 1e3 + freq_est_diff # in kHz\n",
    "q_freq_est = q_freq_est.astype(int) # in kHz\n",
    "\n",
    "\n",
    "z_duration = machine.qubits[qubit_index].pi_length + 40\n",
    "lo = machine.qubits[qubit_index].lo/1e3\n",
    "\n",
    "with program() as qubit_spec_2D_ham:\n",
    "    n = declare(int)  # Averaging index\n",
    "    df = declare(int)  # Qubit sweep\n",
    "    q_freq_est_i = declare(int)  # Estimated qubit frequency\n",
    "    damp = declare(fixed)  # Z amplitude sweep\n",
    "    I = declare(fixed)\n",
    "    Q = declare(fixed)\n",
    "    I_st = declare_stream()\n",
    "    Q_st = declare_stream()\n",
    "    n_st = declare_stream()\n",
    "    qb_if = declare(int)\n",
    "    \n",
    "    with for_(n, 0, n < n_avg, n + 1):\n",
    "        with for_each_((damp,q_freq_est_i),(ff_amp_sweep,q_freq_est)):\n",
    "            assign(qb_if, (q_freq_est_i - lo)*1e3)\n",
    "\n",
    "            with for_(*from_array(df,q_freq_sweep)):\n",
    "                update_frequency(machine.qubits[qubit_index].name, qb_if + df)\n",
    "                play(\"const\" * amp(damp), machine.flux_lines[qubit_index].name, duration = z_duration * u.ns)\n",
    "                wait(5, machine.qubits[qubit_index].name)\n",
    "                play('pi',machine.qubits[qubit_index].name)\n",
    "                align(machine.qubits[qubit_index].name, machine.flux_lines[qubit_index].name,machine.resonators[qubit_index].name)\n",
    "                # Measure the resonator\n",
    "                measure(\n",
    "                    \"readout\",\n",
    "                    machine.resonators[qubit_index].name,\n",
    "                    None,\n",
    "                    dual_demod.full(\"cos\", \"out1\", \"sin\", \"out2\", I),\n",
    "                    dual_demod.full(\"minus_sin\", \"out1\", \"cos\", \"out2\", Q),\n",
    "                )\n",
    "                align()\n",
    "                play(\"const\" * amp((-1)*damp), machine.flux_lines[qubit_index].name, duration = z_duration * u.ns)\n",
    "                # Wait for the resonator to cooldown\n",
    "                wait(cooldown_time * u.ns, machine.resonators[qubit_index].name)\n",
    "                # Save data to the stream processing\n",
    "                save(I, I_st)\n",
    "                save(Q, Q_st)\n",
    "        save(n, n_st)\n",
    "\n",
    "    with stream_processing():\n",
    "        I_st.buffer(len(q_freq_sweep)).buffer(len(ff_amp_sweep)).average().save(\"I\")\n",
    "        Q_st.buffer(len(q_freq_sweep)).buffer(len(ff_amp_sweep)).average().save(\"Q\")\n",
    "        n_st.save(\"iteration\")\n",
    "\n",
    "    # to save all the frequencies used in the scan\n",
    "    q_freq_sweep_2D, q_freq_est_2D = np.meshgrid(q_freq_sweep, q_freq_est.astype(float) * 1e3)\n",
    "    _, ff_amp_sweep_2D = np.meshgrid(q_freq_sweep, ff_amp_sweep * machine.flux_lines[qubit_index].flux_pulse_amp)\n",
    "    q_freq_sweep_2D = q_freq_est_2D + q_freq_sweep_2D\n",
    "\n",
    "qmm = QuantumMachinesManager(machine.network.qop_ip, port = '9510', octave=octave_config)\n",
    "\n",
    "simulate = False\n",
    "if simulate:\n",
    "    %matplotlib qt\n",
    "    job = qmm.simulate(config, qubit_spec_2D_ham, SimulationConfig(4000))\n",
    "    job.get_simulated_samples().con1.plot()\n",
    "else:\n",
    "    qm = qmm.open_qm(config)\n",
    "    job = qm.execute(qubit_spec_2D_ham)\n",
    "    # Creates results handles to fetch the data\n",
    "    results = fetching_tool(job, data_list=[\"I\", \"Q\", \"iteration\"], mode=\"live\")\n",
    "    # Live plotting\n",
    "    fig = plt.figure()\n",
    "    interrupt_on_close(fig, job)  #  Interrupts the job when closing the figure\n",
    "    while results.is_processing():\n",
    "        # Fetch results\n",
    "        I, Q, iteration = results.fetch_all()\n",
    "        progress_counter(iteration, n_avg, start_time=results.get_start_time())\n",
    "        # Convert results into Volts\n",
    "        sigs = u.demod2volts(I + 1j * Q, machine.resonators[qubit_index].readout_pulse_length)\n",
    "        sig_amp = np.abs(sigs)  # Amplitude\n",
    "        sig_phase = np.angle(sigs)  # Phase\n",
    "        # Plot results\n",
    "        progress_counter(iteration, n_avg, start_time=results.get_start_time())\n",
    "        plt.cla()\n",
    "        plt.title(\"Qubit spectroscopy amplitude\")\n",
    "        plt.pcolormesh(ff_amp_sweep_2D, q_freq_sweep_2D.astype(float), sig_amp ,cmap=\"seismic\")\n",
    "        plt.ylabel(\"Qubit frequency [MHz]\")\n",
    "        plt.xlabel(\"Flux level [V]\")\n",
    "        plt.pause(0.1)\n",
    "        plt.tight_layout() \n",
    "print(\"Finished!\")\n",
    "\n",
    "\n"
   ]
  },
  {
   "cell_type": "code",
   "execution_count": 840,
   "id": "45676ae6",
   "metadata": {},
   "outputs": [
    {
     "name": "stdout",
     "output_type": "stream",
     "text": [
      "-0.0012072008574988105\n"
     ]
    }
   ],
   "source": [
    "# plot and fit\n",
    "plt.figure()\n",
    "plt.ylabel(\"Qubit frequency [MHz]\")\n",
    "plt.xlabel(\"Flux level [V]\")\n",
    "plt.pcolormesh(ff_amp_sweep_2D, q_freq_sweep_2D.astype(float)/u.MHz, sig_amp ,cmap=\"seismic\")\n",
    "plt.colorbar()\n",
    "\n",
    "# Determine minima of signal to use as ydata for fitting\n",
    "maximas = []\n",
    "flux = ff_amp_sweep * machine.flux_lines[qubit_index].flux_pulse_amp\n",
    "\n",
    "# Remove edges on flux to avoid having data from top curve\n",
    "bound = 0.1\n",
    "flux_int = np.array([i for i in flux if ((i>= -bound) & (i<= bound))])\n",
    "flux_int_idx = np.array([i for i,v in enumerate((flux>= -bound) & (flux<= bound))  if v])\n",
    "\n",
    "for i in (flux_int_idx):\n",
    "    maximas.append(q_freq_sweep_2D[i][np.argmax(sig_amp[i])])\n",
    "\n",
    "## Plot minima of signal\n",
    "maximas= np.array(maximas)\n",
    "plt.scatter(flux_int.T, maximas/1e6)\n",
    "\n",
    "initial_guess = [1, 0, 6250]  # Initial guess for the parameters\n",
    "fit_params, _ = curve_fit(poly2, flux_int, maximas/1e6, p0=initial_guess)\n",
    "\n",
    "fitted_curve = poly2(flux_int, *fit_params)\n",
    "# Plot fitted data\n",
    "plt.plot(flux_int, fitted_curve, label='Fitted Cosine', color='orange')\n",
    "fitted_curve = fitted_curve*u.kHz\n",
    "fitted_curve = fitted_curve.astype(int)\n",
    "\n",
    "# Sweet spot from fit\n",
    "SS_cal = -fit_params[1]/(2*fit_params[0])\n",
    "print(SS_cal)"
   ]
  },
  {
   "cell_type": "code",
   "execution_count": 449,
   "id": "e46abaa8",
   "metadata": {},
   "outputs": [],
   "source": [
    "# Save data \n",
    "savemat(os.path.join(tPath, file_name), {\"qubit_freq\": q_freq_sweep_2D, \"sig_amp\": sig_amp, \"sig_phase\": sig_phase, \"ff_sweep\": ff_amp_sweep_2D, \"ROI\": ROI, \"ROO\": ROO, \"freq_TWPA\": freq_TWPA, \"pwr_TWPA\": pwr_TWPA})\n",
    "machine._save(os.path.join(tPath, json_name), flat_data=False)"
   ]
  },
  {
   "cell_type": "code",
   "execution_count": 155,
   "id": "86242b1e",
   "metadata": {},
   "outputs": [
    {
     "name": "stdout",
     "output_type": "stream",
     "text": [
      "-0.0015580513627037114\n"
     ]
    }
   ],
   "source": [
    "# load data from file\n",
    "file_name = 'UA_Q1_qubit_spec_flux_sweep_0907-1453'\n",
    "data = loadmat(os.path.join(r\"Z:\\LabberData_DF5\\QM_Data_DF5\\2023\\09\\Data_0907\", file_name))\n",
    "freq = data['qubit_freq']\n",
    "sig_amp = data['sig_amp']\n",
    "ff_sweep = data['ff_sweep']\n",
    "\n",
    "plt.figure()\n",
    "plt.ylabel(\"Qubit frequency [MHz]\")\n",
    "plt.xlabel(\"Flux level [V]\")\n",
    "plt.pcolormesh(ff_sweep, freq.astype(float)/1e6, sig_amp ,cmap=\"seismic\")\n",
    "plt.colorbar()\n",
    "\n",
    "# Determine minima of signal to use as ydata for fitting\n",
    "maximas = []\n",
    "flux = ff_sweep\n",
    "\n",
    "# Remove edges on flux to avoid having data from top curve\n",
    "flux_int = np.array([i for i in flux if np.any((i>= -0.5) & (i<= 0.5))])\n",
    "flux_int_idx = np.array([i for i,v in enumerate((flux>= -0.5) & (flux<= 0.5))  if np.any(v)])\n",
    "\n",
    "for i in (flux_int_idx):\n",
    "    maximas.append(freq[i][np.argmax(sig_amp[i])])\n",
    "\n",
    "## Plot minima of signal\n",
    "maximas = np.array(maximas)\n",
    "plt.scatter(flux_int.T[0], maximas/1e6)\n",
    "\n",
    "initial_guess = [1, 0, 6405]  # Initial guess for the parameters\n",
    "fit_params, _ = curve_fit(poly2, flux_int.T[0], maximas/1e6, p0=initial_guess)\n",
    "\n",
    "fitted_curve = poly2(flux_int.T[0], *fit_params)\n",
    "# Plot fitted data\n",
    "plt.plot(flux_int.T[0], fitted_curve, label='Fitted Cosine', color='orange')\n",
    "fitted_curve = fitted_curve*u.kHz\n",
    "fitted_curve = fitted_curve.astype(int)\n",
    "\n",
    "# Sweet spot from fit\n",
    "SS_cal = -fit_params[1]/(2*fit_params[0])\n",
    "print(SS_cal)"
   ]
  },
  {
   "cell_type": "markdown",
   "id": "0c767715",
   "metadata": {},
   "source": [
    "## Tuning curve using fit to second order poly"
   ]
  },
  {
   "cell_type": "code",
   "execution_count": 842,
   "id": "41b87bf3",
   "metadata": {},
   "outputs": [
    {
     "data": {
      "text/plain": [
       "6451700000.0"
      ]
     },
     "execution_count": 842,
     "metadata": {},
     "output_type": "execute_result"
    }
   ],
   "source": [
    "machine.qubits[0].f_01"
   ]
  },
  {
   "cell_type": "code",
   "execution_count": 845,
   "id": "6ea7fb96",
   "metadata": {},
   "outputs": [
    {
     "name": "stdout",
     "output_type": "stream",
     "text": [
      "Start running ...\n",
      "2023-10-09 14:10:46,469 - qm - INFO     - Performing health check\n"
     ]
    },
    {
     "name": "stderr",
     "output_type": "stream",
     "text": [
      "INFO:qm.api.frontend_api:Performing health check\n"
     ]
    },
    {
     "name": "stdout",
     "output_type": "stream",
     "text": [
      "2023-10-09 14:10:46,481 - qm - INFO     - Health check passed\n"
     ]
    },
    {
     "name": "stderr",
     "output_type": "stream",
     "text": [
      "INFO:qm.api.frontend_api:Health check passed\n"
     ]
    },
    {
     "name": "stdout",
     "output_type": "stream",
     "text": [
      "2023-10-09 14:10:47,320 - qm - INFO     - Sending program to QOP for compilation\n"
     ]
    },
    {
     "name": "stderr",
     "output_type": "stream",
     "text": [
      "INFO:qm.api.frontend_api:Sending program to QOP for compilation\n"
     ]
    },
    {
     "name": "stdout",
     "output_type": "stream",
     "text": [
      "2023-10-09 14:10:47,625 - qm - INFO     - Executing program\n"
     ]
    },
    {
     "name": "stderr",
     "output_type": "stream",
     "text": [
      "INFO:qm.QuantumMachine:Executing program\n"
     ]
    },
    {
     "name": "stdout",
     "output_type": "stream",
     "text": [
      "Execution stopped by user!                                   ] 16.0% (n=160/1000) --> elapsed time: 6.82s\n",
      "Finished! [########                                          ] 16.3% (n=163/1000) --> elapsed time: 7.30s\n"
     ]
    }
   ],
   "source": [
    "# Takes the frequency from the fitted data to the second order poly\n",
    "\n",
    "print(\"Start running ...\")\n",
    "\n",
    "now = datetime.datetime.now()\n",
    "month = now.strftime(\"%m\")\n",
    "day = now.strftime(\"%d\")\n",
    "hour = now.strftime(\"%H\")\n",
    "minute = now.strftime(\"%M\")\n",
    "\n",
    "exp_name = 'qubit_spec_flux_sweep_2poly'\n",
    "qubit_name = 'UA_Q1'\n",
    "\n",
    "f_str = qubit_name + '_' + exp_name + '_' + month + day + '-' + hour + minute\n",
    "file_name= f_str+'.mat'\n",
    "json_name = f_str + '_state.json'\n",
    "\n",
    "# Set-up the machine and get the config #\n",
    "machine = QuAM(\"quam_state.json\")\n",
    "config = build_config(machine)\n",
    "\n",
    "# Program-specific variables #\n",
    "n_avg = 1_000  # Number of averaging loops\n",
    "qubit_index = 0 \n",
    "cooldown_time = 10_000  # Resonator cooldown time, convert to ns in the wait() function \n",
    "\n",
    "ff_amp_sweep = np.arange(-0.5,0.5+1E-5,0.01)\n",
    "qubit_freq_fit = poly2(ff_amp_sweep* machine.flux_lines[qubit_index].flux_pulse_amp, *fit_params)\n",
    "qubit_freq_fit = qubit_freq_fit*u.kHz\n",
    "q_freq_est = qubit_freq_fit.astype(int)\n",
    "lo = machine.qubits[qubit_index].lo/1e3\n",
    "# q_freq_sweep = np.arange(-20e6, 20e6, 0.5e6)\n",
    "q_freq_sweep_abs = np.arange(machine.qubits[qubit_index].f_01 - 20e6, machine.qubits[qubit_index].f_01 + 20e6, 1e6)\n",
    "q_freq_sweep = q_freq_sweep_abs - machine.qubits[qubit_index].f_01\n",
    "q_freq_sweep = q_freq_sweep.astype(int)\n",
    "\n",
    "\n",
    "z_duration = machine.qubits[qubit_index].pi_length + 40\n",
    "\n",
    "with program() as qubit_spec_2D_2poly:\n",
    "    n = declare(int)  # Averaging index\n",
    "    df = declare(int)  # Qubit sweep\n",
    "    q_freq_est_i = declare(int)  # Estimated qubit frequency\n",
    "    damp = declare(fixed)  # Z amplitude sweep\n",
    "    I = declare(fixed)\n",
    "    Q = declare(fixed)\n",
    "    I_st = declare_stream()\n",
    "    Q_st = declare_stream()\n",
    "    n_st = declare_stream()\n",
    "    qb_if = declare(int)\n",
    "    \n",
    "    with for_(n, 0, n < n_avg, n + 1):\n",
    "        with for_each_((damp,q_freq_est_i),(ff_amp_sweep,q_freq_est)):\n",
    "            assign(qb_if, (q_freq_est_i - lo)*1e3)\n",
    "            with for_(*from_array(df,q_freq_sweep)):\n",
    "                update_frequency(machine.qubits[qubit_index].name, qb_if + df)\n",
    "                play(\"const\" * amp(damp), machine.flux_lines[qubit_index].name, duration = z_duration * u.ns)\n",
    "                wait(5, machine.qubits[qubit_index].name)\n",
    "                play('pi',machine.qubits[qubit_index].name)\n",
    "                align(machine.qubits[qubit_index].name, machine.flux_lines[qubit_index].name,machine.resonators[qubit_index].name)\n",
    "                # Measure the resonator\n",
    "                measure(\n",
    "                    \"readout\",\n",
    "                    machine.resonators[qubit_index].name,\n",
    "                    None,\n",
    "                    dual_demod.full(\"cos\", \"out1\", \"sin\", \"out2\", I),\n",
    "                    dual_demod.full(\"minus_sin\", \"out1\", \"cos\", \"out2\", Q),\n",
    "                )\n",
    "                align()\n",
    "                play(\"const\" * amp((-1)*damp), machine.flux_lines[qubit_index].name, duration = z_duration * u.ns)\n",
    "                # Wait for the resonator to cooldown\n",
    "                wait(cooldown_time * u.ns, machine.resonators[qubit_index].name)\n",
    "                # Save data to the stream processing\n",
    "                save(I, I_st)\n",
    "                save(Q, Q_st)\n",
    "        save(n, n_st)\n",
    "\n",
    "    with stream_processing():\n",
    "        I_st.buffer(len(q_freq_sweep)).buffer(len(ff_amp_sweep)).average().save(\"I\")\n",
    "        Q_st.buffer(len(q_freq_sweep)).buffer(len(ff_amp_sweep)).average().save(\"Q\")\n",
    "        n_st.save(\"iteration\")\n",
    "\n",
    "    # to save all the frequencies used in the scan\n",
    "    q_freq_sweep_2D, q_freq_est_2D = np.meshgrid(q_freq_sweep, q_freq_est.astype(float) * 1e3)\n",
    "    _, ff_amp_sweep_2D = np.meshgrid(q_freq_sweep, ff_amp_sweep * machine.flux_lines[qubit_index].flux_pulse_amp)\n",
    "    q_freq_sweep_2D = q_freq_est_2D + q_freq_sweep_2D\n",
    "\n",
    "###############\n",
    "# Run Program #\n",
    "###############\n",
    "#  Open Communication with the QOP  #\n",
    "# qmm = QuantumMachinesManager(machine.network.qop_ip, cluster_name=machine.network.cluster_name, octave=octave_config)\n",
    "# qmm = QuantumMachinesManager(machine.network.qop_ip, port = '9510', octave=octave_config, log_level = \"ERROR\")\n",
    "qmm = QuantumMachinesManager(machine.network.qop_ip, port = '9510', octave=octave_config)\n",
    "\n",
    "simulate = False\n",
    "if simulate:\n",
    "    %matplotlib qt\n",
    "    job = qmm.simulate(config, qubit_spec_2D_2poly, SimulationConfig(4000))\n",
    "    job.get_simulated_samples().con1.plot()\n",
    "else:\n",
    "    qm = qmm.open_qm(config)\n",
    "    job = qm.execute(qubit_spec_2D_2poly)\n",
    "    # Creates results handles to fetch the data\n",
    "    results = fetching_tool(job, data_list=[\"I\", \"Q\", \"iteration\"], mode=\"live\")\n",
    "    # Live plotting\n",
    "    fig = plt.figure()\n",
    "    interrupt_on_close(fig, job)  #  Interrupts the job when closing the figure\n",
    "    while results.is_processing():\n",
    "        # Fetch results\n",
    "        I, Q, iteration = results.fetch_all()\n",
    "        progress_counter(iteration, n_avg, start_time=results.get_start_time())\n",
    "        # Convert results into Volts\n",
    "        sigs = u.demod2volts(I + 1j * Q, machine.resonators[qubit_index].readout_pulse_length)\n",
    "        sig_amp = np.abs(sigs)  # Amplitude\n",
    "        sig_phase = np.angle(sigs)  # Phase\n",
    "        # Plot results\n",
    "        plt.cla()\n",
    "        plt.title(\"Qubit spectroscopy amplitude\")\n",
    "        plt.pcolormesh(ff_amp_sweep_2D, q_freq_sweep_2D.astype(float), sig_amp ,cmap=\"seismic\")\n",
    "        \n",
    "#         plt.pcolormesh(ff_amp_sweep, q_freq_sweep.astype(float) * u.kHz, sig_amp, shading='auto',cmap=\"seismic\")\n",
    "        plt.ylabel(\"Qubit frequency [MHz]\")\n",
    "        plt.xlabel(\"Flux level [V]\")\n",
    "        plt.pause(0.1)\n",
    "        plt.tight_layout() \n",
    "        \n",
    "plt.colorbar()\n",
    "print(\"Finished!\")    \n",
    "  \n",
    "    \n",
    "# # this is to generate qua script for QM people to troubleshoot\n",
    "# sourceFile = open('debug.py', 'w')\n",
    "# print(generate_qua_script(qubit_spec_2D, config), file=sourceFile)\n",
    "# sourceFile.close()\n",
    "\n",
    "    \n",
    " "
   ]
  },
  {
   "cell_type": "code",
   "execution_count": 452,
   "id": "a0b0c0ed",
   "metadata": {},
   "outputs": [],
   "source": [
    "# Save data \n",
    "savemat(os.path.join(tPath, file_name), {\"qubit_freq\": q_freq_sweep_2D, \"sig_amp\": sig_amp, \"sig_phase\": sig_phase, \"ff_sweep\": ff_amp_sweep_2D, \"ROI\": ROI, \"ROO\": ROO, \"freq_TWPA\": freq_TWPA, \"pwr_TWPA\": pwr_TWPA})\n",
    "machine._save(os.path.join(tPath, json_name), flat_data=False)"
   ]
  },
  {
   "cell_type": "markdown",
   "id": "24741fb8",
   "metadata": {},
   "source": [
    "## Qubit tuning curve changing LO and optimized"
   ]
  },
  {
   "cell_type": "code",
   "execution_count": 920,
   "id": "5bc0ab64",
   "metadata": {},
   "outputs": [
    {
     "name": "stdout",
     "output_type": "stream",
     "text": [
      "2023-10-10 16:11:37,976 - qm - INFO     - Performing health check\n"
     ]
    },
    {
     "name": "stderr",
     "output_type": "stream",
     "text": [
      "INFO:qm.api.frontend_api:Performing health check\n"
     ]
    },
    {
     "name": "stdout",
     "output_type": "stream",
     "text": [
      "2023-10-10 16:11:37,984 - qm - INFO     - Health check passed\n"
     ]
    },
    {
     "name": "stderr",
     "output_type": "stream",
     "text": [
      "INFO:qm.api.frontend_api:Health check passed\n"
     ]
    },
    {
     "name": "stdout",
     "output_type": "stream",
     "text": [
      "------------------------------------- Calibrates r0 for (LO, IF) = (7.312 GHz, -49.600 MHz)\n"
     ]
    },
    {
     "ename": "KeyboardInterrupt",
     "evalue": "",
     "output_type": "error",
     "traceback": [
      "\u001b[1;31m---------------------------------------------------------------------------\u001b[0m",
      "\u001b[1;31mKeyboardInterrupt\u001b[0m                         Traceback (most recent call last)",
      "File \u001b[1;32m~\\QM\\QM_UALA\\octave_configuration.py:36\u001b[0m\n\u001b[0;32m     29\u001b[0m config \u001b[38;5;241m=\u001b[39m build_config(machine)\n\u001b[0;32m     30\u001b[0m \u001b[38;5;66;03m# set to external clock #\u001b[39;00m\n\u001b[0;32m     31\u001b[0m \u001b[38;5;66;03m###########################\u001b[39;00m\n\u001b[0;32m     32\u001b[0m \u001b[38;5;66;03m#qm = qmm.open_qm(config)\u001b[39;00m\n\u001b[0;32m     33\u001b[0m \u001b[38;5;66;03m#qm.octave.set_clock(\"octave1\", clock_mode=ClockMode.External_10MHz)\u001b[39;00m\n\u001b[0;32m     34\u001b[0m \u001b[38;5;66;03m# qm.octave.set_clock(\"octave1\", ClockType.External_10MHz)\u001b[39;00m\n\u001b[1;32m---> 36\u001b[0m \u001b[43moctave_settings\u001b[49m\u001b[43m(\u001b[49m\n\u001b[0;32m     37\u001b[0m \u001b[43m    \u001b[49m\u001b[43mqmm\u001b[49m\u001b[38;5;241;43m=\u001b[39;49m\u001b[43mqmm\u001b[49m\u001b[43m,\u001b[49m\n\u001b[0;32m     38\u001b[0m \u001b[43m    \u001b[49m\u001b[43mconfig\u001b[49m\u001b[38;5;241;43m=\u001b[39;49m\u001b[43mconfig\u001b[49m\u001b[43m,\u001b[49m\n\u001b[0;32m     39\u001b[0m \u001b[43m    \u001b[49m\u001b[43moctaves\u001b[49m\u001b[38;5;241;43m=\u001b[39;49m\u001b[43moctaves\u001b[49m\u001b[43m,\u001b[49m\n\u001b[0;32m     40\u001b[0m \u001b[43m    \u001b[49m\u001b[43melements_settings\u001b[49m\u001b[38;5;241;43m=\u001b[39;49m\u001b[43melements_settings\u001b[49m\u001b[43m,\u001b[49m\n\u001b[0;32m     41\u001b[0m \u001b[43m    \u001b[49m\u001b[43mcalibration\u001b[49m\u001b[38;5;241;43m=\u001b[39;49m\u001b[38;5;28;43;01mTrue\u001b[39;49;00m\u001b[43m,\u001b[49m\n\u001b[0;32m     42\u001b[0m \u001b[43m)\u001b[49m\n\u001b[0;32m     44\u001b[0m qmm\u001b[38;5;241m.\u001b[39mclose()\n",
      "File \u001b[1;32m~\\QM\\QM_UALA\\set_octave.py:279\u001b[0m, in \u001b[0;36moctave_settings\u001b[1;34m(qmm, config, octaves, elements_settings, calibration)\u001b[0m\n\u001b[0;32m    274\u001b[0m IF \u001b[38;5;241m=\u001b[39m \u001b[38;5;28mfloat\u001b[39m(config[\u001b[38;5;124m\"\u001b[39m\u001b[38;5;124melements\u001b[39m\u001b[38;5;124m\"\u001b[39m][elements_settings[i]\u001b[38;5;241m.\u001b[39mname][\u001b[38;5;124m\"\u001b[39m\u001b[38;5;124mintermediate_frequency\u001b[39m\u001b[38;5;124m\"\u001b[39m])\n\u001b[0;32m    275\u001b[0m \u001b[38;5;28mprint\u001b[39m(\n\u001b[0;32m    276\u001b[0m     \u001b[38;5;124m\"\u001b[39m\u001b[38;5;124m-\u001b[39m\u001b[38;5;124m\"\u001b[39m \u001b[38;5;241m*\u001b[39m \u001b[38;5;241m37\u001b[39m\n\u001b[0;32m    277\u001b[0m     \u001b[38;5;241m+\u001b[39m \u001b[38;5;124mf\u001b[39m\u001b[38;5;124m\"\u001b[39m\u001b[38;5;124m Calibrates \u001b[39m\u001b[38;5;132;01m{\u001b[39;00melements_settings[i]\u001b[38;5;241m.\u001b[39mname\u001b[38;5;132;01m}\u001b[39;00m\u001b[38;5;124m for (LO, IF) = (\u001b[39m\u001b[38;5;132;01m{\u001b[39;00mLO\u001b[38;5;241m*\u001b[39m\u001b[38;5;241m1e-9\u001b[39m\u001b[38;5;132;01m:\u001b[39;00m\u001b[38;5;124m.3f\u001b[39m\u001b[38;5;132;01m}\u001b[39;00m\u001b[38;5;124m GHz, \u001b[39m\u001b[38;5;132;01m{\u001b[39;00mIF\u001b[38;5;241m*\u001b[39m\u001b[38;5;241m1e-6\u001b[39m\u001b[38;5;132;01m:\u001b[39;00m\u001b[38;5;124m.3f\u001b[39m\u001b[38;5;132;01m}\u001b[39;00m\u001b[38;5;124m MHz)\u001b[39m\u001b[38;5;124m\"\u001b[39m\n\u001b[0;32m    278\u001b[0m )\n\u001b[1;32m--> 279\u001b[0m \u001b[43mqm\u001b[49m\u001b[38;5;241;43m.\u001b[39;49m\u001b[43moctave\u001b[49m\u001b[38;5;241;43m.\u001b[39;49m\u001b[43mcalibrate_element\u001b[49m\u001b[43m(\u001b[49m\u001b[43melements_settings\u001b[49m\u001b[43m[\u001b[49m\u001b[43mi\u001b[49m\u001b[43m]\u001b[49m\u001b[38;5;241;43m.\u001b[39;49m\u001b[43mname\u001b[49m\u001b[43m,\u001b[49m\u001b[43m \u001b[49m\u001b[43m[\u001b[49m\u001b[43m(\u001b[49m\u001b[43mLO\u001b[49m\u001b[43m,\u001b[49m\u001b[43m \u001b[49m\u001b[43mIF\u001b[49m\u001b[43m)\u001b[49m\u001b[43m]\u001b[49m\u001b[43m)\u001b[49m\n\u001b[0;32m    280\u001b[0m \u001b[38;5;66;03m# Re-open a quantum machine to apply the calibration parameters\u001b[39;00m\n\u001b[0;32m    281\u001b[0m qm \u001b[38;5;241m=\u001b[39m qmm\u001b[38;5;241m.\u001b[39mopen_qm(config)\n",
      "File \u001b[1;32m~\\AppData\\Roaming\\Python\\Python38\\site-packages\\qm\\octave\\qm_octave.py:181\u001b[0m, in \u001b[0;36mQmOctave.calibrate_element\u001b[1;34m(self, element, lo_if_frequencies_tuple_list, save_to_db, close_open_quantum_machines, **kwargs)\u001b[0m\n\u001b[0;32m    178\u001b[0m     lo_frequency \u001b[38;5;241m=\u001b[39m inst\u001b[38;5;241m.\u001b[39mlo_frequency\n\u001b[0;32m    179\u001b[0m     lo_if_frequencies_tuple_list \u001b[38;5;241m=\u001b[39m [(if_frequency, lo_frequency)]\n\u001b[1;32m--> 181\u001b[0m \u001b[38;5;28;01mreturn\u001b[39;00m \u001b[38;5;28;43mself\u001b[39;49m\u001b[38;5;241;43m.\u001b[39;49m\u001b[43m_octave_manager\u001b[49m\u001b[38;5;241;43m.\u001b[39;49m\u001b[43mcalibrate\u001b[49m\u001b[43m(\u001b[49m\n\u001b[0;32m    182\u001b[0m \u001b[43m    \u001b[49m\u001b[43moctave_port\u001b[49m\u001b[43m,\u001b[49m\n\u001b[0;32m    183\u001b[0m \u001b[43m    \u001b[49m\u001b[43mlo_if_frequencies_tuple_list\u001b[49m\u001b[43m,\u001b[49m\n\u001b[0;32m    184\u001b[0m \u001b[43m    \u001b[49m\u001b[43msave_to_db\u001b[49m\u001b[43m,\u001b[49m\n\u001b[0;32m    185\u001b[0m \u001b[43m    \u001b[49m\u001b[43mclose_open_quantum_machines\u001b[49m\u001b[43m,\u001b[49m\n\u001b[0;32m    186\u001b[0m \u001b[43m    \u001b[49m\u001b[38;5;241;43m*\u001b[39;49m\u001b[38;5;241;43m*\u001b[39;49m\u001b[43mkwargs\u001b[49m\u001b[43m,\u001b[49m\n\u001b[0;32m    187\u001b[0m \u001b[43m\u001b[49m\u001b[43m)\u001b[49m\n",
      "File \u001b[1;32m~\\AppData\\Roaming\\Python\\Python38\\site-packages\\qm\\octave\\octave_manager.py:457\u001b[0m, in \u001b[0;36mOctaveManager.calibrate\u001b[1;34m(self, octave_output_port, lo_if_frequencies_tuple_list, save_to_db, close_open_quantum_machines, optimizer_parameters, **kwargs)\u001b[0m\n\u001b[0;32m    455\u001b[0m t_end_preparation \u001b[38;5;241m=\u001b[39m perf_counter()\n\u001b[0;32m    456\u001b[0m logger\u001b[38;5;241m.\u001b[39mdebug(\u001b[38;5;124mf\u001b[39m\u001b[38;5;124m\"\u001b[39m\u001b[38;5;124mPre calibration preparation took \u001b[39m\u001b[38;5;132;01m{\u001b[39;00mt_end_preparation\u001b[38;5;250m \u001b[39m\u001b[38;5;241m-\u001b[39m\u001b[38;5;250m \u001b[39mcalibration_start\u001b[38;5;132;01m}\u001b[39;00m\u001b[38;5;124m\"\u001b[39m)\n\u001b[1;32m--> 457\u001b[0m compiled, qm \u001b[38;5;241m=\u001b[39m \u001b[38;5;28;43mself\u001b[39;49m\u001b[38;5;241;43m.\u001b[39;49m\u001b[43m_compile_calibration_program\u001b[49m\u001b[43m(\u001b[49m\n\u001b[0;32m    458\u001b[0m \u001b[43m    \u001b[49m\u001b[43mlo_freq\u001b[49m\u001b[43m,\u001b[49m\n\u001b[0;32m    459\u001b[0m \u001b[43m    \u001b[49m\u001b[43mfirst_if\u001b[49m\u001b[43m,\u001b[49m\n\u001b[0;32m    460\u001b[0m \u001b[43m    \u001b[49m\u001b[43moctave_output_port\u001b[49m\u001b[43m,\u001b[49m\n\u001b[0;32m    461\u001b[0m \u001b[43m    \u001b[49m\u001b[43moptimizer_parameters\u001b[49m\u001b[43m,\u001b[49m\n\u001b[0;32m    462\u001b[0m \u001b[43m    \u001b[49m\u001b[43mclose_open_quantum_machines\u001b[49m\u001b[43m,\u001b[49m\n\u001b[0;32m    463\u001b[0m \u001b[43m\u001b[49m\u001b[43m)\u001b[49m\n\u001b[0;32m    464\u001b[0m t_start_setup \u001b[38;5;241m=\u001b[39m perf_counter()\n\u001b[0;32m    466\u001b[0m state_name_before \u001b[38;5;241m=\u001b[39m \u001b[38;5;28mself\u001b[39m\u001b[38;5;241m.\u001b[39m_set_octave_for_calibration(\n\u001b[0;32m    467\u001b[0m     octave,\n\u001b[0;32m    468\u001b[0m     calibration_input,\n\u001b[0;32m    469\u001b[0m     output_port,\n\u001b[0;32m    470\u001b[0m     skewed_lo_freq\u001b[38;5;241m=\u001b[39mlo_freq \u001b[38;5;241m+\u001b[39m optimizer_parameters[\u001b[38;5;124m\"\u001b[39m\u001b[38;5;124mcalibration_offset_frequency\u001b[39m\u001b[38;5;124m\"\u001b[39m],\n\u001b[0;32m    471\u001b[0m )\n",
      "File \u001b[1;32m~\\AppData\\Roaming\\Python\\Python38\\site-packages\\qm\\octave\\octave_manager.py:555\u001b[0m, in \u001b[0;36mOctaveManager._compile_calibration_program\u001b[1;34m(self, first_lo, first_if, octave_output_port, optimizer_parameters, close_open_quantum_machines)\u001b[0m\n\u001b[0;32m    552\u001b[0m     \u001b[38;5;28;01mraise\u001b[39;00m OpenQmException(\u001b[38;5;124m\"\u001b[39m\u001b[38;5;124mMixer calibration failed: Could not open a quantum machine.\u001b[39m\u001b[38;5;124m\"\u001b[39m) \u001b[38;5;28;01mfrom\u001b[39;00m \u001b[38;5;21;01me\u001b[39;00m\n\u001b[0;32m    554\u001b[0m t0 \u001b[38;5;241m=\u001b[39m perf_counter()\n\u001b[1;32m--> 555\u001b[0m compiled \u001b[38;5;241m=\u001b[39m \u001b[43mqm\u001b[49m\u001b[38;5;241;43m.\u001b[39;49m\u001b[43mcompile\u001b[49m\u001b[43m(\u001b[49m\u001b[43mprog\u001b[49m\u001b[43m)\u001b[49m\n\u001b[0;32m    556\u001b[0m logger\u001b[38;5;241m.\u001b[39mdebug(\u001b[38;5;124mf\u001b[39m\u001b[38;5;124m\"\u001b[39m\u001b[38;5;124mCompiling calibration program took \u001b[39m\u001b[38;5;132;01m{\u001b[39;00mperf_counter()\u001b[38;5;250m \u001b[39m\u001b[38;5;241m-\u001b[39m\u001b[38;5;250m \u001b[39mt0\u001b[38;5;132;01m}\u001b[39;00m\u001b[38;5;124m.\u001b[39m\u001b[38;5;124m\"\u001b[39m)\n\u001b[0;32m    558\u001b[0m \u001b[38;5;28;01mreturn\u001b[39;00m compiled, qm\n",
      "File \u001b[1;32m~\\AppData\\Roaming\\Python\\Python38\\site-packages\\qm\\QuantumMachine.py:276\u001b[0m, in \u001b[0;36mQuantumMachine.compile\u001b[1;34m(self, program, compiler_options)\u001b[0m\n\u001b[0;32m    273\u001b[0m \u001b[38;5;28;01mif\u001b[39;00m compiler_options \u001b[38;5;129;01mis\u001b[39;00m \u001b[38;5;28;01mNone\u001b[39;00m:\n\u001b[0;32m    274\u001b[0m     compiler_options \u001b[38;5;241m=\u001b[39m CompilerOptionArguments()\n\u001b[1;32m--> 276\u001b[0m \u001b[38;5;28;01mreturn\u001b[39;00m \u001b[38;5;28;43mself\u001b[39;49m\u001b[38;5;241;43m.\u001b[39;49m\u001b[43m_frontend\u001b[49m\u001b[38;5;241;43m.\u001b[39;49m\u001b[43mcompile\u001b[49m\u001b[43m(\u001b[49m\u001b[38;5;28;43mself\u001b[39;49m\u001b[38;5;241;43m.\u001b[39;49m\u001b[43m_id\u001b[49m\u001b[43m,\u001b[49m\u001b[43m \u001b[49m\u001b[43mprogram\u001b[49m\u001b[38;5;241;43m.\u001b[39;49m\u001b[43mbuild\u001b[49m\u001b[43m(\u001b[49m\u001b[38;5;28;43mself\u001b[39;49m\u001b[38;5;241;43m.\u001b[39;49m\u001b[43m_config\u001b[49m\u001b[43m)\u001b[49m\u001b[43m,\u001b[49m\u001b[43m \u001b[49m\u001b[43mcompiler_options\u001b[49m\u001b[43m)\u001b[49m\n",
      "File \u001b[1;32m~\\AppData\\Roaming\\Python\\Python38\\site-packages\\qm\\api\\base_api.py:27\u001b[0m, in \u001b[0;36mconnection_error_handle_decorator.<locals>.wrapped\u001b[1;34m(*args, **kwargs)\u001b[0m\n\u001b[0;32m     24\u001b[0m \u001b[38;5;129m@functools\u001b[39m\u001b[38;5;241m.\u001b[39mwraps(func)\n\u001b[0;32m     25\u001b[0m \u001b[38;5;28;01mdef\u001b[39;00m \u001b[38;5;21mwrapped\u001b[39m(\u001b[38;5;241m*\u001b[39margs: P\u001b[38;5;241m.\u001b[39margs, \u001b[38;5;241m*\u001b[39m\u001b[38;5;241m*\u001b[39mkwargs: P\u001b[38;5;241m.\u001b[39mkwargs) \u001b[38;5;241m-\u001b[39m\u001b[38;5;241m>\u001b[39m Ret:\n\u001b[0;32m     26\u001b[0m     \u001b[38;5;28;01mtry\u001b[39;00m:\n\u001b[1;32m---> 27\u001b[0m         \u001b[38;5;28;01mreturn\u001b[39;00m \u001b[43mfunc\u001b[49m\u001b[43m(\u001b[49m\u001b[38;5;241;43m*\u001b[39;49m\u001b[43margs\u001b[49m\u001b[43m,\u001b[49m\u001b[43m \u001b[49m\u001b[38;5;241;43m*\u001b[39;49m\u001b[38;5;241;43m*\u001b[39;49m\u001b[43mkwargs\u001b[49m\u001b[43m)\u001b[49m\n\u001b[0;32m     28\u001b[0m     \u001b[38;5;28;01mexcept\u001b[39;00m grpclib\u001b[38;5;241m.\u001b[39mexceptions\u001b[38;5;241m.\u001b[39mGRPCError \u001b[38;5;28;01mas\u001b[39;00m e:\n\u001b[0;32m     29\u001b[0m         logger\u001b[38;5;241m.\u001b[39mexception(\u001b[38;5;124m\"\u001b[39m\u001b[38;5;124mEncountered connection error from QOP\u001b[39m\u001b[38;5;124m\"\u001b[39m)\n",
      "File \u001b[1;32m~\\AppData\\Roaming\\Python\\Python38\\site-packages\\qm\\api\\frontend_api.py:255\u001b[0m, in \u001b[0;36mFrontendApi.compile\u001b[1;34m(self, machine_id, program, compiler_options)\u001b[0m\n\u001b[0;32m    252\u001b[0m program\u001b[38;5;241m.\u001b[39mcompiler_options \u001b[38;5;241m=\u001b[39m _get_request_compiler_options(compiler_options)\n\u001b[0;32m    253\u001b[0m request \u001b[38;5;241m=\u001b[39m CompileRequest(quantum_machine_id\u001b[38;5;241m=\u001b[39mmachine_id, high_level_program\u001b[38;5;241m=\u001b[39mprogram)\n\u001b[1;32m--> 255\u001b[0m response \u001b[38;5;241m=\u001b[39m \u001b[43mrun_async\u001b[49m\u001b[43m(\u001b[49m\u001b[38;5;28;43mself\u001b[39;49m\u001b[38;5;241;43m.\u001b[39;49m\u001b[43m_stub\u001b[49m\u001b[38;5;241;43m.\u001b[39;49m\u001b[43mcompile\u001b[49m\u001b[43m(\u001b[49m\u001b[43mrequest\u001b[49m\u001b[43m,\u001b[49m\u001b[43m \u001b[49m\u001b[43mtimeout\u001b[49m\u001b[38;5;241;43m=\u001b[39;49m\u001b[38;5;28;43;01mNone\u001b[39;49;00m\u001b[43m)\u001b[49m\u001b[43m)\u001b[49m\n\u001b[0;32m    257\u001b[0m \u001b[38;5;28;01mfor\u001b[39;00m message \u001b[38;5;129;01min\u001b[39;00m response\u001b[38;5;241m.\u001b[39mmessages:\n\u001b[0;32m    258\u001b[0m     logger\u001b[38;5;241m.\u001b[39mlog(LOG_LEVEL_MAP[message\u001b[38;5;241m.\u001b[39mlevel], message\u001b[38;5;241m.\u001b[39mmessage)\n",
      "File \u001b[1;32m~\\AppData\\Roaming\\Python\\Python38\\site-packages\\qm\\utils\\async_utils.py:37\u001b[0m, in \u001b[0;36mrun_async\u001b[1;34m(coroutine)\u001b[0m\n\u001b[0;32m     36\u001b[0m \u001b[38;5;28;01mdef\u001b[39;00m \u001b[38;5;21mrun_async\u001b[39m(coroutine: Coroutine[Any, Any, T]) \u001b[38;5;241m-\u001b[39m\u001b[38;5;241m>\u001b[39m T:\n\u001b[1;32m---> 37\u001b[0m     \u001b[38;5;28;01mreturn\u001b[39;00m \u001b[43mcreate_future\u001b[49m\u001b[43m(\u001b[49m\u001b[43mcoroutine\u001b[49m\u001b[43m)\u001b[49m\u001b[38;5;241;43m.\u001b[39;49m\u001b[43mresult\u001b[49m\u001b[43m(\u001b[49m\u001b[43m)\u001b[49m\n",
      "File \u001b[1;32m~\\.conda\\envs\\labber-qm-env\\lib\\concurrent\\futures\\_base.py:439\u001b[0m, in \u001b[0;36mFuture.result\u001b[1;34m(self, timeout)\u001b[0m\n\u001b[0;32m    436\u001b[0m \u001b[38;5;28;01melif\u001b[39;00m \u001b[38;5;28mself\u001b[39m\u001b[38;5;241m.\u001b[39m_state \u001b[38;5;241m==\u001b[39m FINISHED:\n\u001b[0;32m    437\u001b[0m     \u001b[38;5;28;01mreturn\u001b[39;00m \u001b[38;5;28mself\u001b[39m\u001b[38;5;241m.\u001b[39m__get_result()\n\u001b[1;32m--> 439\u001b[0m \u001b[38;5;28;43mself\u001b[39;49m\u001b[38;5;241;43m.\u001b[39;49m\u001b[43m_condition\u001b[49m\u001b[38;5;241;43m.\u001b[39;49m\u001b[43mwait\u001b[49m\u001b[43m(\u001b[49m\u001b[43mtimeout\u001b[49m\u001b[43m)\u001b[49m\n\u001b[0;32m    441\u001b[0m \u001b[38;5;28;01mif\u001b[39;00m \u001b[38;5;28mself\u001b[39m\u001b[38;5;241m.\u001b[39m_state \u001b[38;5;129;01min\u001b[39;00m [CANCELLED, CANCELLED_AND_NOTIFIED]:\n\u001b[0;32m    442\u001b[0m     \u001b[38;5;28;01mraise\u001b[39;00m CancelledError()\n",
      "File \u001b[1;32m~\\.conda\\envs\\labber-qm-env\\lib\\threading.py:302\u001b[0m, in \u001b[0;36mCondition.wait\u001b[1;34m(self, timeout)\u001b[0m\n\u001b[0;32m    300\u001b[0m \u001b[38;5;28;01mtry\u001b[39;00m:    \u001b[38;5;66;03m# restore state no matter what (e.g., KeyboardInterrupt)\u001b[39;00m\n\u001b[0;32m    301\u001b[0m     \u001b[38;5;28;01mif\u001b[39;00m timeout \u001b[38;5;129;01mis\u001b[39;00m \u001b[38;5;28;01mNone\u001b[39;00m:\n\u001b[1;32m--> 302\u001b[0m         \u001b[43mwaiter\u001b[49m\u001b[38;5;241;43m.\u001b[39;49m\u001b[43macquire\u001b[49m\u001b[43m(\u001b[49m\u001b[43m)\u001b[49m\n\u001b[0;32m    303\u001b[0m         gotit \u001b[38;5;241m=\u001b[39m \u001b[38;5;28;01mTrue\u001b[39;00m\n\u001b[0;32m    304\u001b[0m     \u001b[38;5;28;01melse\u001b[39;00m:\n",
      "\u001b[1;31mKeyboardInterrupt\u001b[0m: "
     ]
    },
    {
     "name": "stdout",
     "output_type": "stream",
     "text": [
      "2023-10-10 16:11:51,222 - qm - INFO     - Performing health check\n"
     ]
    },
    {
     "name": "stderr",
     "output_type": "stream",
     "text": [
      "INFO:qm.api.frontend_api:Performing health check\n"
     ]
    },
    {
     "name": "stdout",
     "output_type": "stream",
     "text": [
      "2023-10-10 16:11:51,232 - qm - INFO     - Health check passed\n"
     ]
    },
    {
     "name": "stderr",
     "output_type": "stream",
     "text": [
      "INFO:qm.api.frontend_api:Health check passed\n"
     ]
    },
    {
     "name": "stdout",
     "output_type": "stream",
     "text": [
      "------------------------------------- Calibrates r0 for (LO, IF) = (7.312 GHz, -49.600 MHz)\n"
     ]
    },
    {
     "ename": "KeyboardInterrupt",
     "evalue": "",
     "output_type": "error",
     "traceback": [
      "\u001b[1;31m---------------------------------------------------------------------------\u001b[0m",
      "\u001b[1;31mKeyboardInterrupt\u001b[0m                         Traceback (most recent call last)",
      "File \u001b[1;32m~\\QM\\QM_UALA\\octave_configuration.py:36\u001b[0m\n\u001b[0;32m     29\u001b[0m config \u001b[38;5;241m=\u001b[39m build_config(machine)\n\u001b[0;32m     30\u001b[0m \u001b[38;5;66;03m# set to external clock #\u001b[39;00m\n\u001b[0;32m     31\u001b[0m \u001b[38;5;66;03m###########################\u001b[39;00m\n\u001b[0;32m     32\u001b[0m \u001b[38;5;66;03m#qm = qmm.open_qm(config)\u001b[39;00m\n\u001b[0;32m     33\u001b[0m \u001b[38;5;66;03m#qm.octave.set_clock(\"octave1\", clock_mode=ClockMode.External_10MHz)\u001b[39;00m\n\u001b[0;32m     34\u001b[0m \u001b[38;5;66;03m# qm.octave.set_clock(\"octave1\", ClockType.External_10MHz)\u001b[39;00m\n\u001b[1;32m---> 36\u001b[0m \u001b[43moctave_settings\u001b[49m\u001b[43m(\u001b[49m\n\u001b[0;32m     37\u001b[0m \u001b[43m    \u001b[49m\u001b[43mqmm\u001b[49m\u001b[38;5;241;43m=\u001b[39;49m\u001b[43mqmm\u001b[49m\u001b[43m,\u001b[49m\n\u001b[0;32m     38\u001b[0m \u001b[43m    \u001b[49m\u001b[43mconfig\u001b[49m\u001b[38;5;241;43m=\u001b[39;49m\u001b[43mconfig\u001b[49m\u001b[43m,\u001b[49m\n\u001b[0;32m     39\u001b[0m \u001b[43m    \u001b[49m\u001b[43moctaves\u001b[49m\u001b[38;5;241;43m=\u001b[39;49m\u001b[43moctaves\u001b[49m\u001b[43m,\u001b[49m\n\u001b[0;32m     40\u001b[0m \u001b[43m    \u001b[49m\u001b[43melements_settings\u001b[49m\u001b[38;5;241;43m=\u001b[39;49m\u001b[43melements_settings\u001b[49m\u001b[43m,\u001b[49m\n\u001b[0;32m     41\u001b[0m \u001b[43m    \u001b[49m\u001b[43mcalibration\u001b[49m\u001b[38;5;241;43m=\u001b[39;49m\u001b[38;5;28;43;01mTrue\u001b[39;49;00m\u001b[43m,\u001b[49m\n\u001b[0;32m     42\u001b[0m \u001b[43m)\u001b[49m\n\u001b[0;32m     44\u001b[0m qmm\u001b[38;5;241m.\u001b[39mclose()\n",
      "File \u001b[1;32m~\\QM\\QM_UALA\\set_octave.py:279\u001b[0m, in \u001b[0;36moctave_settings\u001b[1;34m(qmm, config, octaves, elements_settings, calibration)\u001b[0m\n\u001b[0;32m    274\u001b[0m IF \u001b[38;5;241m=\u001b[39m \u001b[38;5;28mfloat\u001b[39m(config[\u001b[38;5;124m\"\u001b[39m\u001b[38;5;124melements\u001b[39m\u001b[38;5;124m\"\u001b[39m][elements_settings[i]\u001b[38;5;241m.\u001b[39mname][\u001b[38;5;124m\"\u001b[39m\u001b[38;5;124mintermediate_frequency\u001b[39m\u001b[38;5;124m\"\u001b[39m])\n\u001b[0;32m    275\u001b[0m \u001b[38;5;28mprint\u001b[39m(\n\u001b[0;32m    276\u001b[0m     \u001b[38;5;124m\"\u001b[39m\u001b[38;5;124m-\u001b[39m\u001b[38;5;124m\"\u001b[39m \u001b[38;5;241m*\u001b[39m \u001b[38;5;241m37\u001b[39m\n\u001b[0;32m    277\u001b[0m     \u001b[38;5;241m+\u001b[39m \u001b[38;5;124mf\u001b[39m\u001b[38;5;124m\"\u001b[39m\u001b[38;5;124m Calibrates \u001b[39m\u001b[38;5;132;01m{\u001b[39;00melements_settings[i]\u001b[38;5;241m.\u001b[39mname\u001b[38;5;132;01m}\u001b[39;00m\u001b[38;5;124m for (LO, IF) = (\u001b[39m\u001b[38;5;132;01m{\u001b[39;00mLO\u001b[38;5;241m*\u001b[39m\u001b[38;5;241m1e-9\u001b[39m\u001b[38;5;132;01m:\u001b[39;00m\u001b[38;5;124m.3f\u001b[39m\u001b[38;5;132;01m}\u001b[39;00m\u001b[38;5;124m GHz, \u001b[39m\u001b[38;5;132;01m{\u001b[39;00mIF\u001b[38;5;241m*\u001b[39m\u001b[38;5;241m1e-6\u001b[39m\u001b[38;5;132;01m:\u001b[39;00m\u001b[38;5;124m.3f\u001b[39m\u001b[38;5;132;01m}\u001b[39;00m\u001b[38;5;124m MHz)\u001b[39m\u001b[38;5;124m\"\u001b[39m\n\u001b[0;32m    278\u001b[0m )\n\u001b[1;32m--> 279\u001b[0m \u001b[43mqm\u001b[49m\u001b[38;5;241;43m.\u001b[39;49m\u001b[43moctave\u001b[49m\u001b[38;5;241;43m.\u001b[39;49m\u001b[43mcalibrate_element\u001b[49m\u001b[43m(\u001b[49m\u001b[43melements_settings\u001b[49m\u001b[43m[\u001b[49m\u001b[43mi\u001b[49m\u001b[43m]\u001b[49m\u001b[38;5;241;43m.\u001b[39;49m\u001b[43mname\u001b[49m\u001b[43m,\u001b[49m\u001b[43m \u001b[49m\u001b[43m[\u001b[49m\u001b[43m(\u001b[49m\u001b[43mLO\u001b[49m\u001b[43m,\u001b[49m\u001b[43m \u001b[49m\u001b[43mIF\u001b[49m\u001b[43m)\u001b[49m\u001b[43m]\u001b[49m\u001b[43m)\u001b[49m\n\u001b[0;32m    280\u001b[0m \u001b[38;5;66;03m# Re-open a quantum machine to apply the calibration parameters\u001b[39;00m\n\u001b[0;32m    281\u001b[0m qm \u001b[38;5;241m=\u001b[39m qmm\u001b[38;5;241m.\u001b[39mopen_qm(config)\n",
      "File \u001b[1;32m~\\AppData\\Roaming\\Python\\Python38\\site-packages\\qm\\octave\\qm_octave.py:181\u001b[0m, in \u001b[0;36mQmOctave.calibrate_element\u001b[1;34m(self, element, lo_if_frequencies_tuple_list, save_to_db, close_open_quantum_machines, **kwargs)\u001b[0m\n\u001b[0;32m    178\u001b[0m     lo_frequency \u001b[38;5;241m=\u001b[39m inst\u001b[38;5;241m.\u001b[39mlo_frequency\n\u001b[0;32m    179\u001b[0m     lo_if_frequencies_tuple_list \u001b[38;5;241m=\u001b[39m [(if_frequency, lo_frequency)]\n\u001b[1;32m--> 181\u001b[0m \u001b[38;5;28;01mreturn\u001b[39;00m \u001b[38;5;28;43mself\u001b[39;49m\u001b[38;5;241;43m.\u001b[39;49m\u001b[43m_octave_manager\u001b[49m\u001b[38;5;241;43m.\u001b[39;49m\u001b[43mcalibrate\u001b[49m\u001b[43m(\u001b[49m\n\u001b[0;32m    182\u001b[0m \u001b[43m    \u001b[49m\u001b[43moctave_port\u001b[49m\u001b[43m,\u001b[49m\n\u001b[0;32m    183\u001b[0m \u001b[43m    \u001b[49m\u001b[43mlo_if_frequencies_tuple_list\u001b[49m\u001b[43m,\u001b[49m\n\u001b[0;32m    184\u001b[0m \u001b[43m    \u001b[49m\u001b[43msave_to_db\u001b[49m\u001b[43m,\u001b[49m\n\u001b[0;32m    185\u001b[0m \u001b[43m    \u001b[49m\u001b[43mclose_open_quantum_machines\u001b[49m\u001b[43m,\u001b[49m\n\u001b[0;32m    186\u001b[0m \u001b[43m    \u001b[49m\u001b[38;5;241;43m*\u001b[39;49m\u001b[38;5;241;43m*\u001b[39;49m\u001b[43mkwargs\u001b[49m\u001b[43m,\u001b[49m\n\u001b[0;32m    187\u001b[0m \u001b[43m\u001b[49m\u001b[43m)\u001b[49m\n",
      "File \u001b[1;32m~\\AppData\\Roaming\\Python\\Python38\\site-packages\\qm\\octave\\octave_manager.py:457\u001b[0m, in \u001b[0;36mOctaveManager.calibrate\u001b[1;34m(self, octave_output_port, lo_if_frequencies_tuple_list, save_to_db, close_open_quantum_machines, optimizer_parameters, **kwargs)\u001b[0m\n\u001b[0;32m    455\u001b[0m t_end_preparation \u001b[38;5;241m=\u001b[39m perf_counter()\n\u001b[0;32m    456\u001b[0m logger\u001b[38;5;241m.\u001b[39mdebug(\u001b[38;5;124mf\u001b[39m\u001b[38;5;124m\"\u001b[39m\u001b[38;5;124mPre calibration preparation took \u001b[39m\u001b[38;5;132;01m{\u001b[39;00mt_end_preparation\u001b[38;5;250m \u001b[39m\u001b[38;5;241m-\u001b[39m\u001b[38;5;250m \u001b[39mcalibration_start\u001b[38;5;132;01m}\u001b[39;00m\u001b[38;5;124m\"\u001b[39m)\n\u001b[1;32m--> 457\u001b[0m compiled, qm \u001b[38;5;241m=\u001b[39m \u001b[38;5;28;43mself\u001b[39;49m\u001b[38;5;241;43m.\u001b[39;49m\u001b[43m_compile_calibration_program\u001b[49m\u001b[43m(\u001b[49m\n\u001b[0;32m    458\u001b[0m \u001b[43m    \u001b[49m\u001b[43mlo_freq\u001b[49m\u001b[43m,\u001b[49m\n\u001b[0;32m    459\u001b[0m \u001b[43m    \u001b[49m\u001b[43mfirst_if\u001b[49m\u001b[43m,\u001b[49m\n\u001b[0;32m    460\u001b[0m \u001b[43m    \u001b[49m\u001b[43moctave_output_port\u001b[49m\u001b[43m,\u001b[49m\n\u001b[0;32m    461\u001b[0m \u001b[43m    \u001b[49m\u001b[43moptimizer_parameters\u001b[49m\u001b[43m,\u001b[49m\n\u001b[0;32m    462\u001b[0m \u001b[43m    \u001b[49m\u001b[43mclose_open_quantum_machines\u001b[49m\u001b[43m,\u001b[49m\n\u001b[0;32m    463\u001b[0m \u001b[43m\u001b[49m\u001b[43m)\u001b[49m\n\u001b[0;32m    464\u001b[0m t_start_setup \u001b[38;5;241m=\u001b[39m perf_counter()\n\u001b[0;32m    466\u001b[0m state_name_before \u001b[38;5;241m=\u001b[39m \u001b[38;5;28mself\u001b[39m\u001b[38;5;241m.\u001b[39m_set_octave_for_calibration(\n\u001b[0;32m    467\u001b[0m     octave,\n\u001b[0;32m    468\u001b[0m     calibration_input,\n\u001b[0;32m    469\u001b[0m     output_port,\n\u001b[0;32m    470\u001b[0m     skewed_lo_freq\u001b[38;5;241m=\u001b[39mlo_freq \u001b[38;5;241m+\u001b[39m optimizer_parameters[\u001b[38;5;124m\"\u001b[39m\u001b[38;5;124mcalibration_offset_frequency\u001b[39m\u001b[38;5;124m\"\u001b[39m],\n\u001b[0;32m    471\u001b[0m )\n",
      "File \u001b[1;32m~\\AppData\\Roaming\\Python\\Python38\\site-packages\\qm\\octave\\octave_manager.py:546\u001b[0m, in \u001b[0;36mOctaveManager._compile_calibration_program\u001b[1;34m(self, first_lo, first_if, octave_output_port, optimizer_parameters, close_open_quantum_machines)\u001b[0m\n\u001b[0;32m    538\u001b[0m adc_channels \u001b[38;5;241m=\u001b[39m [(controller_name, \u001b[38;5;241m1\u001b[39m), (controller_name, \u001b[38;5;241m2\u001b[39m)]\n\u001b[0;32m    539\u001b[0m config \u001b[38;5;241m=\u001b[39m _prep_config(\n\u001b[0;32m    540\u001b[0m     iq_channels,\n\u001b[0;32m    541\u001b[0m     adc_channels,\n\u001b[1;32m   (...)\u001b[0m\n\u001b[0;32m    544\u001b[0m     optimizer_parameters,\n\u001b[0;32m    545\u001b[0m )\n\u001b[1;32m--> 546\u001b[0m prog \u001b[38;5;241m=\u001b[39m \u001b[43m_generate_program\u001b[49m\u001b[43m(\u001b[49m\u001b[43moptimizer_parameters\u001b[49m\u001b[43m)\u001b[49m\n\u001b[0;32m    547\u001b[0m \u001b[38;5;28;01mtry\u001b[39;00m:\n\u001b[0;32m    548\u001b[0m     t0 \u001b[38;5;241m=\u001b[39m perf_counter()\n",
      "File \u001b[1;32m~\\AppData\\Roaming\\Python\\Python38\\site-packages\\qm\\octave\\_calibration_program.py:299\u001b[0m, in \u001b[0;36m_generate_program\u001b[1;34m(calibration_parameters)\u001b[0m\n\u001b[0;32m    297\u001b[0m assign(best_image_power, avg_image_power)\n\u001b[0;32m    298\u001b[0m \u001b[38;5;28;01mwith\u001b[39;00m while_((lo_cont \u001b[38;5;241m|\u001b[39m image_cont)):\n\u001b[1;32m--> 299\u001b[0m     \u001b[43msearch_1_direction\u001b[49m\u001b[43m(\u001b[49m\u001b[38;5;124;43m\"\u001b[39;49m\u001b[38;5;124;43mi_g\u001b[39;49m\u001b[38;5;124;43m\"\u001b[39;49m\u001b[43m)\u001b[49m\n\u001b[0;32m    300\u001b[0m     search_1_direction(\u001b[38;5;124m\"\u001b[39m\u001b[38;5;124mq_p\u001b[39m\u001b[38;5;124m\"\u001b[39m)\n\u001b[0;32m    302\u001b[0m     assign(step_size_lo, step_size_lo \u001b[38;5;241m>>\u001b[39m \u001b[38;5;241m1\u001b[39m)  \u001b[38;5;66;03m# Divide step size by 2\u001b[39;00m\n",
      "File \u001b[1;32m~\\AppData\\Roaming\\Python\\Python38\\site-packages\\qm\\octave\\_calibration_program.py:229\u001b[0m, in \u001b[0;36m_generate_program.<locals>.search_1_direction\u001b[1;34m(which)\u001b[0m\n\u001b[0;32m    227\u001b[0m \u001b[38;5;28;01melse\u001b[39;00m:\n\u001b[0;32m    228\u001b[0m     assign(curr_phase, curr_phase \u001b[38;5;241m-\u001b[39m curr_step_image)\n\u001b[1;32m--> 229\u001b[0m \u001b[43mupdate_correction_g_phi\u001b[49m\u001b[43m(\u001b[49m\u001b[43m)\u001b[49m\n",
      "File \u001b[1;32m~\\AppData\\Roaming\\Python\\Python38\\site-packages\\qm\\octave\\_calibration_program.py:137\u001b[0m, in \u001b[0;36m_generate_program.<locals>.update_correction_g_phi\u001b[1;34m()\u001b[0m\n\u001b[0;32m    135\u001b[0m assign(g_mat_plus, \u001b[38;5;241m1\u001b[39m \u001b[38;5;241m+\u001b[39m curr_gain \u001b[38;5;241m+\u001b[39m curr_gain \u001b[38;5;241m*\u001b[39m curr_gain)\n\u001b[0;32m    136\u001b[0m assign(g_mat_minus, \u001b[38;5;241m1\u001b[39m \u001b[38;5;241m-\u001b[39m curr_gain \u001b[38;5;241m+\u001b[39m curr_gain \u001b[38;5;241m*\u001b[39m curr_gain)\n\u001b[1;32m--> 137\u001b[0m \u001b[43massign\u001b[49m\u001b[43m(\u001b[49m\u001b[43mc00\u001b[49m\u001b[43m,\u001b[49m\u001b[43m \u001b[49m\u001b[43mg_mat_minus\u001b[49m\u001b[43m \u001b[49m\u001b[38;5;241;43m*\u001b[39;49m\u001b[43m \u001b[49m\u001b[43mc_mat\u001b[49m\u001b[43m)\u001b[49m\n\u001b[0;32m    138\u001b[0m assign(c01, g_mat_plus \u001b[38;5;241m*\u001b[39m s_mat)\n\u001b[0;32m    139\u001b[0m assign(c10, g_mat_minus \u001b[38;5;241m*\u001b[39m s_mat)\n",
      "File \u001b[1;32m~\\AppData\\Roaming\\Python\\Python38\\site-packages\\qm\\qua\\_dsl.py:778\u001b[0m, in \u001b[0;36massign\u001b[1;34m(var, _exp)\u001b[0m\n\u001b[0;32m    776\u001b[0m _exp \u001b[38;5;241m=\u001b[39m exp(_exp)\n\u001b[0;32m    777\u001b[0m _var \u001b[38;5;241m=\u001b[39m exp(var)\n\u001b[1;32m--> 778\u001b[0m \u001b[43mbody\u001b[49m\u001b[38;5;241;43m.\u001b[39;49m\u001b[43massign\u001b[49m\u001b[43m(\u001b[49m\u001b[43m_unwrap_assign_target\u001b[49m\u001b[43m(\u001b[49m\u001b[43m_var\u001b[49m\u001b[43m)\u001b[49m\u001b[43m,\u001b[49m\u001b[43m \u001b[49m\u001b[43m_unwrap_exp\u001b[49m\u001b[43m(\u001b[49m\u001b[43m_exp\u001b[49m\u001b[43m)\u001b[49m\u001b[43m)\u001b[49m\n",
      "File \u001b[1;32m~\\AppData\\Roaming\\Python\\Python38\\site-packages\\qm\\program\\StatementsCollection.py:491\u001b[0m, in \u001b[0;36mStatementsCollection.assign\u001b[1;34m(self, target, expression)\u001b[0m\n\u001b[0;32m    476\u001b[0m \u001b[38;5;28;01mdef\u001b[39;00m \u001b[38;5;21massign\u001b[39m(\n\u001b[0;32m    477\u001b[0m     \u001b[38;5;28mself\u001b[39m,\n\u001b[0;32m    478\u001b[0m     target: _qua\u001b[38;5;241m.\u001b[39mQuaProgramAssignmentStatementTarget,\n\u001b[0;32m    479\u001b[0m     expression: \u001b[38;5;124m\"\u001b[39m\u001b[38;5;124mMessageExpressionType\u001b[39m\u001b[38;5;124m\"\u001b[39m,\n\u001b[0;32m    480\u001b[0m ):\n\u001b[0;32m    481\u001b[0m \u001b[38;5;250m    \u001b[39m\u001b[38;5;124;03m\"\"\"Assign a value calculated by :expression into :target\u001b[39;00m\n\u001b[0;32m    482\u001b[0m \n\u001b[0;32m    483\u001b[0m \u001b[38;5;124;03m    Args:\u001b[39;00m\n\u001b[1;32m   (...)\u001b[0m\n\u001b[0;32m    488\u001b[0m \n\u001b[0;32m    489\u001b[0m \u001b[38;5;124;03m    \"\"\"\u001b[39;00m\n\u001b[0;32m    490\u001b[0m     statement \u001b[38;5;241m=\u001b[39m _qua\u001b[38;5;241m.\u001b[39mQuaProgramAnyStatement(\n\u001b[1;32m--> 491\u001b[0m         assign\u001b[38;5;241m=\u001b[39m_qua\u001b[38;5;241m.\u001b[39mQuaProgramAssignmentStatement(loc\u001b[38;5;241m=\u001b[39m\u001b[43m_get_loc\u001b[49m\u001b[43m(\u001b[49m\u001b[43m)\u001b[49m, target\u001b[38;5;241m=\u001b[39mtarget, expression\u001b[38;5;241m=\u001b[39mexpression)\n\u001b[0;32m    492\u001b[0m     )\n\u001b[0;32m    494\u001b[0m     \u001b[38;5;28mself\u001b[39m\u001b[38;5;241m.\u001b[39m_check_serialised_on_wire(statement, \u001b[38;5;124m\"\u001b[39m\u001b[38;5;124massign\u001b[39m\u001b[38;5;124m\"\u001b[39m)\n\u001b[0;32m    495\u001b[0m     \u001b[38;5;28mself\u001b[39m\u001b[38;5;241m.\u001b[39m_body\u001b[38;5;241m.\u001b[39mstatements\u001b[38;5;241m.\u001b[39mappend(statement)\n",
      "File \u001b[1;32m~\\AppData\\Roaming\\Python\\Python38\\site-packages\\qm\\_loc.py:8\u001b[0m, in \u001b[0;36m_get_loc\u001b[1;34m()\u001b[0m\n\u001b[0;32m      6\u001b[0m \u001b[38;5;28;01mdef\u001b[39;00m \u001b[38;5;21m_get_loc\u001b[39m() \u001b[38;5;241m-\u001b[39m\u001b[38;5;241m>\u001b[39m \u001b[38;5;28mstr\u001b[39m:\n\u001b[0;32m      7\u001b[0m     qm_package_dir \u001b[38;5;241m=\u001b[39m Path(os\u001b[38;5;241m.\u001b[39mpath\u001b[38;5;241m.\u001b[39mabspath(\u001b[38;5;18m__file__\u001b[39m))\u001b[38;5;241m.\u001b[39mparent\n\u001b[1;32m----> 8\u001b[0m     trace \u001b[38;5;241m=\u001b[39m [i \u001b[38;5;28;01mfor\u001b[39;00m i \u001b[38;5;129;01min\u001b[39;00m \u001b[43mtraceback\u001b[49m\u001b[38;5;241;43m.\u001b[39;49m\u001b[43mextract_stack\u001b[49m\u001b[43m(\u001b[49m\u001b[43m)\u001b[49m \u001b[38;5;28;01mif\u001b[39;00m qm_package_dir \u001b[38;5;129;01mnot\u001b[39;00m \u001b[38;5;129;01min\u001b[39;00m Path(i\u001b[38;5;241m.\u001b[39mfilename)\u001b[38;5;241m.\u001b[39mparents][\u001b[38;5;241m-\u001b[39m\u001b[38;5;241m1\u001b[39m]\n\u001b[0;32m      9\u001b[0m     \u001b[38;5;28;01mreturn\u001b[39;00m \u001b[38;5;124mf\u001b[39m\u001b[38;5;124m'\u001b[39m\u001b[38;5;124mFile \u001b[39m\u001b[38;5;124m\"\u001b[39m\u001b[38;5;132;01m{\u001b[39;00mtrace\u001b[38;5;241m.\u001b[39mfilename\u001b[38;5;132;01m}\u001b[39;00m\u001b[38;5;124m\"\u001b[39m\u001b[38;5;124m, line \u001b[39m\u001b[38;5;132;01m{\u001b[39;00mtrace\u001b[38;5;241m.\u001b[39mlineno\u001b[38;5;132;01m}\u001b[39;00m\u001b[38;5;124m: \u001b[39m\u001b[38;5;132;01m{\u001b[39;00mtrace\u001b[38;5;241m.\u001b[39mline\u001b[38;5;132;01m}\u001b[39;00m\u001b[38;5;124m \u001b[39m\u001b[38;5;124m'\u001b[39m\n",
      "File \u001b[1;32m~\\.conda\\envs\\labber-qm-env\\lib\\traceback.py:211\u001b[0m, in \u001b[0;36mextract_stack\u001b[1;34m(f, limit)\u001b[0m\n\u001b[0;32m    209\u001b[0m \u001b[38;5;28;01mif\u001b[39;00m f \u001b[38;5;129;01mis\u001b[39;00m \u001b[38;5;28;01mNone\u001b[39;00m:\n\u001b[0;32m    210\u001b[0m     f \u001b[38;5;241m=\u001b[39m sys\u001b[38;5;241m.\u001b[39m_getframe()\u001b[38;5;241m.\u001b[39mf_back\n\u001b[1;32m--> 211\u001b[0m stack \u001b[38;5;241m=\u001b[39m \u001b[43mStackSummary\u001b[49m\u001b[38;5;241;43m.\u001b[39;49m\u001b[43mextract\u001b[49m\u001b[43m(\u001b[49m\u001b[43mwalk_stack\u001b[49m\u001b[43m(\u001b[49m\u001b[43mf\u001b[49m\u001b[43m)\u001b[49m\u001b[43m,\u001b[49m\u001b[43m \u001b[49m\u001b[43mlimit\u001b[49m\u001b[38;5;241;43m=\u001b[39;49m\u001b[43mlimit\u001b[49m\u001b[43m)\u001b[49m\n\u001b[0;32m    212\u001b[0m stack\u001b[38;5;241m.\u001b[39mreverse()\n\u001b[0;32m    213\u001b[0m \u001b[38;5;28;01mreturn\u001b[39;00m stack\n",
      "File \u001b[1;32m~\\.conda\\envs\\labber-qm-env\\lib\\traceback.py:362\u001b[0m, in \u001b[0;36mStackSummary.extract\u001b[1;34m(klass, frame_gen, limit, lookup_lines, capture_locals)\u001b[0m\n\u001b[0;32m    359\u001b[0m     result\u001b[38;5;241m.\u001b[39mappend(FrameSummary(\n\u001b[0;32m    360\u001b[0m         filename, lineno, name, lookup_line\u001b[38;5;241m=\u001b[39m\u001b[38;5;28;01mFalse\u001b[39;00m, \u001b[38;5;28mlocals\u001b[39m\u001b[38;5;241m=\u001b[39mf_locals))\n\u001b[0;32m    361\u001b[0m \u001b[38;5;28;01mfor\u001b[39;00m filename \u001b[38;5;129;01min\u001b[39;00m fnames:\n\u001b[1;32m--> 362\u001b[0m     \u001b[43mlinecache\u001b[49m\u001b[38;5;241;43m.\u001b[39;49m\u001b[43mcheckcache\u001b[49m\u001b[43m(\u001b[49m\u001b[43mfilename\u001b[49m\u001b[43m)\u001b[49m\n\u001b[0;32m    363\u001b[0m \u001b[38;5;66;03m# If immediate lookup was desired, trigger lookups now.\u001b[39;00m\n\u001b[0;32m    364\u001b[0m \u001b[38;5;28;01mif\u001b[39;00m lookup_lines:\n",
      "File \u001b[1;32m~\\.conda\\envs\\labber-qm-env\\lib\\linecache.py:74\u001b[0m, in \u001b[0;36mcheckcache\u001b[1;34m(filename)\u001b[0m\n\u001b[0;32m     72\u001b[0m     \u001b[38;5;28;01mcontinue\u001b[39;00m   \u001b[38;5;66;03m# no-op for files loaded via a __loader__\u001b[39;00m\n\u001b[0;32m     73\u001b[0m \u001b[38;5;28;01mtry\u001b[39;00m:\n\u001b[1;32m---> 74\u001b[0m     stat \u001b[38;5;241m=\u001b[39m \u001b[43mos\u001b[49m\u001b[38;5;241;43m.\u001b[39;49m\u001b[43mstat\u001b[49m\u001b[43m(\u001b[49m\u001b[43mfullname\u001b[49m\u001b[43m)\u001b[49m\n\u001b[0;32m     75\u001b[0m \u001b[38;5;28;01mexcept\u001b[39;00m \u001b[38;5;167;01mOSError\u001b[39;00m:\n\u001b[0;32m     76\u001b[0m     cache\u001b[38;5;241m.\u001b[39mpop(filename, \u001b[38;5;28;01mNone\u001b[39;00m)\n",
      "\u001b[1;31mKeyboardInterrupt\u001b[0m: "
     ]
    }
   ],
   "source": [
    "# set parameters that will be swept here\n",
    "\n",
    "ff_amp_sweep = np.arange(0/machine.flux_lines[qubit_index].flux_pulse_amp,\n",
    "                         0.2/machine.flux_lines[qubit_index].flux_pulse_amp + 1E-5,\n",
    "                         0.05) # fast flux sweep parameters\n",
    "# as this will be a 'fixed' QUA variable, we keep the python array as a float array\n",
    "\n",
    "# estimated qubit frequency range\n",
    "qubit_freq_fit = poly2(ff_amp_sweep* machine.flux_lines[qubit_index].flux_pulse_amp, *fit_params)\n",
    "qubit_freq_fit = qubit_freq_fit*1e3 #expected qubit frequencies as a function of flux based on 2nd order poly in kHz\n",
    "q_freq_est = qubit_freq_fit.astype(int) # if using int variables in QUA, you need to provide int python variables\n",
    "q_freq_est_idx = np.argsort(q_freq_est)\n",
    "\n",
    "# sweep around estimated qubit frequency\n",
    "# q_freq_sweep = np.arange(-100e6, 20e6 +1, 0.5e6) \n",
    "q_freq_sweep_abs = np.arange(machine.qubits[qubit_index].f_01 - 100e6, machine.qubits[qubit_index].f_01 + 20e6, 1e6)\n",
    "q_freq_sweep = q_freq_sweep_abs - machine.qubits[qubit_index].f_01\n",
    "q_freq_sweep = q_freq_sweep.astype(int)\n",
    "\n",
    "# create LO frequency array\n",
    "lo_sep = 50e6 # desired separation between LO and maximum frequency of qubit\n",
    "bound_up = -50 # so qubit freq is never too close to LO freq\n",
    "bound_down = -350\n",
    "LO_sep = 350e6\n",
    "\n",
    "IF_array =[]\n",
    "LO_array = []\n",
    "LO_array.append(np.min(q_freq_est)*1E3 + np.min(q_freq_sweep) + LO_sep)\n",
    "index = 0\n",
    "q_freq_est_sorted = np.sort(q_freq_est)\n",
    "for n in q_freq_est_sorted:\n",
    "    IF = n*1e3 - LO_array[index]\n",
    "    if ((IF+np.min(q_freq_sweep))<bound_down*1e6) or ((IF+np.max(q_freq_sweep))>=bound_up*1e6):\n",
    "        LO_array.append(n*1e3+np.min(q_freq_sweep) + LO_sep)\n",
    "        index += 1\n",
    "        IF_array.append(n*1e3 - LO_array[index])\n",
    "    else: \n",
    "        IF_array.append(IF)\n",
    "        \n",
    "######################       \n",
    "\n",
    "# create an IF array that has arrays as elements so that each subarray corresponds to a particular LO freq\n",
    "\n",
    "ind_arr = []\n",
    "for ind in np.arange(len(IF_array)):\n",
    "    if IF_array[ind] == -LO_sep -np.min(q_freq_sweep):\n",
    "        ind_arr.append(ind)\n",
    "    else:\n",
    "        pass\n",
    "ind_arr.append(len(IF_array))\n",
    "\n",
    "ff_amp_sweep_sorted = [ff_amp_sweep[i] for i in q_freq_est_idx]\n",
    "\n",
    "IF_sweep = []\n",
    "ff_sweep = []\n",
    "q_sweep = []\n",
    "q_freq_est_sorted_l = q_freq_est_sorted.astype(int)\n",
    "\n",
    "for n in np.arange(len(ind_arr)-1):\n",
    "    temp = IF_array[ind_arr[n]:ind_arr[n+1]]\n",
    "    temp2 = q_freq_est_sorted_l[ind_arr[n]:ind_arr[n+1]]\n",
    "    temp3 = ff_amp_sweep_sorted[ind_arr[n]:ind_arr[n+1]]\n",
    "    IF_sweep.append(temp)\n",
    "    q_sweep.append(temp2)\n",
    "    ff_sweep.append(temp3)\n",
    "\n",
    "ff_sort = []\n",
    "ff_idx = []\n",
    "q_sweep_sort = []\n",
    "IF_sweep_sort = []\n",
    "for n in np.arange(len(ff_sweep)):\n",
    "    ff_sort.append(np.sort(ff_sweep[n]))\n",
    "    ff_idx.append(np.argsort(ff_sweep[n]))\n",
    "    q_sweep_sort.append([q_sweep[n][i] for i in ff_idx[n]])\n",
    "    IF_sweep_sort.append([IF_sweep[n][i] for i in ff_idx[n]])\n",
    "    \n",
    "# #######################    \n",
    "# Get I and Q offsets and C matrix elements at specific LOs\n",
    "\n",
    "C_cal = []\n",
    "I_offset_cal = []\n",
    "Q_offset_cal = []\n",
    "for k in np.arange(0, len(LO_array), 1):\n",
    "    qmm = QuantumMachinesManager(machine.network.qop_ip, port = '9510', octave=octave_config)\n",
    "    qm = qmm.open_qm(config)\n",
    "    LO_val = LO_array[k]/1e3\n",
    "    LO_val = LO_val.tolist()\n",
    "    machine.qubits[qubit_index].lo = LO_val * 1e3\n",
    "    machine.qubits[qubit_index].f_01 = LO_val * 1e3 - lo_sep\n",
    "    qm.octave.set_lo_frequency(machine.qubits[qubit_index].name, LO_val * 1e3)\n",
    "    machine._save(\"quam_state.json\")\n",
    "\n",
    "    %run octave_configuration.py \n",
    "#     qm.octave.calibrate_element(machine.qubits[qubit_index].name, [(machine.qubits[qubit_index].lo, machine.qubits[qubit_index].f_01 -machine.qubits[qubit_index].lo)])\n",
    "\n",
    "    calibration_parameters = json.load(open(\"calibration_db.json\"))[\"_default\"]\n",
    "    IF = - lo_sep \n",
    "    for i in calibration_parameters.keys():\n",
    "        if calibration_parameters[i][\"lo_frequency\"] == LO_val * 1e3:\n",
    "            if calibration_parameters[i][\"if_frequency\"] == IF:\n",
    "                I_offset_cal.append(calibration_parameters[i][\"i_offset\"])\n",
    "                Q_offset_cal.append(calibration_parameters[i][\"q_offset\"])\n",
    "                C_cal.append(calibration_parameters[i][\"correction\"])\n",
    "            else:\n",
    "                pass\n",
    "        else:\n",
    "            pass"
   ]
  },
  {
   "cell_type": "code",
   "execution_count": 675,
   "id": "e0b7f07a",
   "metadata": {},
   "outputs": [
    {
     "name": "stdout",
     "output_type": "stream",
     "text": [
      "Start running ...\n",
      "2023-10-06 17:36:47,202 - qm - INFO     - Performing health check\n"
     ]
    },
    {
     "name": "stderr",
     "output_type": "stream",
     "text": [
      "INFO:qm.api.frontend_api:Performing health check\n"
     ]
    },
    {
     "name": "stdout",
     "output_type": "stream",
     "text": [
      "2023-10-06 17:36:47,213 - qm - INFO     - Health check passed\n"
     ]
    },
    {
     "name": "stderr",
     "output_type": "stream",
     "text": [
      "INFO:qm.api.frontend_api:Health check passed\n"
     ]
    },
    {
     "name": "stdout",
     "output_type": "stream",
     "text": [
      "2023-10-06 17:36:49,079 - qm - INFO     - Performing health check\n"
     ]
    },
    {
     "name": "stderr",
     "output_type": "stream",
     "text": [
      "INFO:qm.api.frontend_api:Performing health check\n"
     ]
    },
    {
     "name": "stdout",
     "output_type": "stream",
     "text": [
      "2023-10-06 17:36:49,090 - qm - INFO     - Health check passed\n"
     ]
    },
    {
     "name": "stderr",
     "output_type": "stream",
     "text": [
      "INFO:qm.api.frontend_api:Health check passed\n"
     ]
    },
    {
     "name": "stdout",
     "output_type": "stream",
     "text": [
      "2023-10-06 17:36:50,330 - qm - INFO     - Sending program to QOP for compilation\n"
     ]
    },
    {
     "name": "stderr",
     "output_type": "stream",
     "text": [
      "INFO:qm.api.frontend_api:Sending program to QOP for compilation\n"
     ]
    },
    {
     "name": "stdout",
     "output_type": "stream",
     "text": [
      "2023-10-06 17:36:50,609 - qm - INFO     - Executing program\n"
     ]
    },
    {
     "name": "stderr",
     "output_type": "stream",
     "text": [
      "INFO:qm.QuantumMachine:Executing program\n"
     ]
    },
    {
     "name": "stdout",
     "output_type": "stream",
     "text": [
      "Execution stopped by user!                                   ] 16.2% (n=162/1000) --> elapsed time: 12.92s\n",
      "Execution stopped by user!\n",
      "Execution stopped by user!\n",
      "Execution stopped by user!\n",
      "Execution stopped by user!\n",
      "Execution stopped by user!\n",
      "Execution stopped by user!\n",
      "Execution stopped by user!\n",
      "Execution stopped by user!\n",
      "Execution stopped by user!\n",
      "Execution stopped by user!\n",
      "Execution stopped by user!\n",
      "Execution stopped by user!\n",
      "Execution stopped by user!\n",
      "Execution stopped by user!\n",
      "Execution stopped by user!\n",
      "Execution stopped by user!\n",
      "Execution stopped by user!\n",
      "Execution stopped by user!\n",
      "Execution stopped by user!\n",
      "Execution stopped by user!\n",
      "Execution stopped by user!\n",
      "Execution stopped by user!\n",
      "Execution stopped by user!\n",
      "Execution stopped by user!\n",
      "Execution stopped by user!\n",
      "Execution stopped by user!\n",
      "Execution stopped by user!\n",
      "Execution stopped by user!\n",
      "Execution stopped by user!\n",
      "Execution stopped by user!\n",
      "Execution stopped by user!\n",
      "Execution stopped by user!\n",
      "Execution stopped by user!\n",
      "Execution stopped by user!\n",
      "Execution stopped by user!\n",
      "Execution stopped by user!\n",
      "Execution stopped by user!\n",
      "Execution stopped by user!\n",
      "Execution stopped by user!\n",
      "Execution stopped by user!\n",
      "Execution stopped by user!\n",
      "Execution stopped by user!\n",
      "Execution stopped by user!\n",
      "Execution stopped by user!\n",
      "Execution stopped by user!\n",
      "Execution stopped by user!\n",
      "Execution stopped by user!\n",
      "Execution stopped by user!\n",
      "Execution stopped by user!\n",
      "Execution stopped by user!\n",
      "Execution stopped by user!\n",
      "Execution stopped by user!\n",
      "Execution stopped by user!\n",
      "Execution stopped by user!\n",
      "Execution stopped by user!\n",
      "Execution stopped by user!\n",
      "Execution stopped by user!\n",
      "Execution stopped by user!\n",
      "Execution stopped by user!\n",
      "Execution stopped by user!\n",
      "Execution stopped by user!\n",
      "Execution stopped by user!\n",
      "Execution stopped by user!\n",
      "Execution stopped by user!\n",
      "Execution stopped by user!\n",
      "Execution stopped by user!\n",
      "Execution stopped by user!\n",
      "Execution stopped by user!\n",
      "Execution stopped by user!\n",
      "Execution stopped by user!\n",
      "Execution stopped by user!\n",
      "Execution stopped by user!\n",
      "Execution stopped by user!\n",
      "Execution stopped by user!\n",
      "Execution stopped by user!\n",
      "Execution stopped by user!\n",
      "Execution stopped by user!\n",
      "Execution stopped by user!\n",
      "Execution stopped by user!\n",
      "Execution stopped by user!\n",
      "Execution stopped by user!\n",
      "Execution stopped by user!\n",
      "Execution stopped by user!\n",
      "Execution stopped by user!\n",
      "Execution stopped by user!\n",
      "Execution stopped by user!\n",
      "Execution stopped by user!\n",
      "Execution stopped by user!\n",
      "Execution stopped by user!\n",
      "Execution stopped by user!\n",
      "Execution stopped by user!\n",
      "Execution stopped by user!\n",
      "Execution stopped by user!\n",
      "Execution stopped by user!\n",
      "Execution stopped by user!\n",
      "Execution stopped by user!\n",
      "Execution stopped by user!\n",
      "Execution stopped by user!\n",
      "Execution stopped by user!\n",
      "Execution stopped by user!\n",
      "Execution stopped by user!\n",
      "Execution stopped by user!\n",
      "Execution stopped by user!\n",
      "Execution stopped by user!\n",
      "Execution stopped by user!\n",
      "Execution stopped by user!\n",
      "Execution stopped by user!\n",
      "Execution stopped by user!\n",
      "Execution stopped by user!\n",
      "Execution stopped by user!\n",
      "Execution stopped by user!\n",
      "Execution stopped by user!\n",
      "Execution stopped by user!\n",
      "Execution stopped by user!\n",
      "Execution stopped by user!\n",
      "Execution stopped by user!\n",
      "Execution stopped by user!\n",
      "Execution stopped by user!\n",
      "Execution stopped by user!\n",
      "Execution stopped by user!\n",
      "Execution stopped by user!\n",
      "Execution stopped by user!\n",
      "Execution stopped by user!\n",
      "Execution stopped by user!\n",
      "Execution stopped by user!\n",
      "Execution stopped by user!\n",
      "Execution stopped by user!\n",
      "Execution stopped by user!\n",
      "Execution stopped by user!\n",
      "Execution stopped by user!\n",
      "Execution stopped by user!\n",
      "Execution stopped by user!\n",
      "Execution stopped by user!\n",
      "Execution stopped by user!\n",
      "Execution stopped by user!\n",
      "Execution stopped by user!\n",
      "Execution stopped by user!\n",
      "Execution stopped by user!\n",
      "Execution stopped by user!\n",
      "Execution stopped by user!\n",
      "Execution stopped by user!\n",
      "Execution stopped by user!\n",
      "Execution stopped by user!\n",
      "Execution stopped by user!\n",
      "Execution stopped by user!\n",
      "Execution stopped by user!\n",
      "Execution stopped by user!\n",
      "Execution stopped by user!\n",
      "Execution stopped by user!\n",
      "Execution stopped by user!\n",
      "Execution stopped by user!\n",
      "Execution stopped by user!\n",
      "Execution stopped by user!\n",
      "Execution stopped by user!\n",
      "Execution stopped by user!\n",
      "Execution stopped by user!\n",
      "Execution stopped by user!\n",
      "Progress: [##################################################] 100.0% (n=1000/1000) --> elapsed time: 81.46s\n",
      "2023-10-06 17:38:13,599 - qm - INFO     - Performing health check\n"
     ]
    },
    {
     "name": "stderr",
     "output_type": "stream",
     "text": [
      "INFO:qm.api.frontend_api:Performing health check\n"
     ]
    },
    {
     "name": "stdout",
     "output_type": "stream",
     "text": [
      "2023-10-06 17:38:13,608 - qm - INFO     - Health check passed\n"
     ]
    },
    {
     "name": "stderr",
     "output_type": "stream",
     "text": [
      "INFO:qm.api.frontend_api:Health check passed\n"
     ]
    },
    {
     "name": "stdout",
     "output_type": "stream",
     "text": [
      "2023-10-06 17:38:15,452 - qm - INFO     - Performing health check\n"
     ]
    },
    {
     "name": "stderr",
     "output_type": "stream",
     "text": [
      "INFO:qm.api.frontend_api:Performing health check\n"
     ]
    },
    {
     "name": "stdout",
     "output_type": "stream",
     "text": [
      "2023-10-06 17:38:15,467 - qm - INFO     - Health check passed\n"
     ]
    },
    {
     "name": "stderr",
     "output_type": "stream",
     "text": [
      "INFO:qm.api.frontend_api:Health check passed\n"
     ]
    },
    {
     "name": "stdout",
     "output_type": "stream",
     "text": [
      "2023-10-06 17:38:16,690 - qm - INFO     - Sending program to QOP for compilation\n"
     ]
    },
    {
     "name": "stderr",
     "output_type": "stream",
     "text": [
      "INFO:qm.api.frontend_api:Sending program to QOP for compilation\n"
     ]
    },
    {
     "name": "stdout",
     "output_type": "stream",
     "text": [
      "2023-10-06 17:38:16,990 - qm - INFO     - Executing program\n"
     ]
    },
    {
     "name": "stderr",
     "output_type": "stream",
     "text": [
      "INFO:qm.QuantumMachine:Executing program\n"
     ]
    },
    {
     "name": "stdout",
     "output_type": "stream",
     "text": [
      "Progress: [##################################################] 100.0% (n=1000/1000) --> elapsed time: 84.94s\n",
      "2023-10-06 17:39:43,495 - qm - INFO     - Performing health check\n"
     ]
    },
    {
     "name": "stderr",
     "output_type": "stream",
     "text": [
      "INFO:qm.api.frontend_api:Performing health check\n"
     ]
    },
    {
     "name": "stdout",
     "output_type": "stream",
     "text": [
      "2023-10-06 17:39:43,505 - qm - INFO     - Health check passed\n"
     ]
    },
    {
     "name": "stderr",
     "output_type": "stream",
     "text": [
      "INFO:qm.api.frontend_api:Health check passed\n"
     ]
    },
    {
     "name": "stdout",
     "output_type": "stream",
     "text": [
      "2023-10-06 17:39:45,306 - qm - INFO     - Performing health check\n"
     ]
    },
    {
     "name": "stderr",
     "output_type": "stream",
     "text": [
      "INFO:qm.api.frontend_api:Performing health check\n"
     ]
    },
    {
     "name": "stdout",
     "output_type": "stream",
     "text": [
      "2023-10-06 17:39:45,319 - qm - INFO     - Health check passed\n"
     ]
    },
    {
     "name": "stderr",
     "output_type": "stream",
     "text": [
      "INFO:qm.api.frontend_api:Health check passed\n"
     ]
    },
    {
     "name": "stdout",
     "output_type": "stream",
     "text": [
      "2023-10-06 17:39:46,590 - qm - INFO     - Sending program to QOP for compilation\n"
     ]
    },
    {
     "name": "stderr",
     "output_type": "stream",
     "text": [
      "INFO:qm.api.frontend_api:Sending program to QOP for compilation\n"
     ]
    },
    {
     "name": "stdout",
     "output_type": "stream",
     "text": [
      "2023-10-06 17:39:46,906 - qm - INFO     - Executing program\n"
     ]
    },
    {
     "name": "stderr",
     "output_type": "stream",
     "text": [
      "INFO:qm.QuantumMachine:Executing program\n"
     ]
    },
    {
     "name": "stdout",
     "output_type": "stream",
     "text": [
      "Progress: [##################################################] 100.0% (n=1000/1000) --> elapsed time: 92.91s\n",
      "2023-10-06 17:41:21,457 - qm - INFO     - Performing health check\n"
     ]
    },
    {
     "name": "stderr",
     "output_type": "stream",
     "text": [
      "INFO:qm.api.frontend_api:Performing health check\n"
     ]
    },
    {
     "name": "stdout",
     "output_type": "stream",
     "text": [
      "2023-10-06 17:41:21,468 - qm - INFO     - Health check passed\n"
     ]
    },
    {
     "name": "stderr",
     "output_type": "stream",
     "text": [
      "INFO:qm.api.frontend_api:Health check passed\n"
     ]
    },
    {
     "name": "stdout",
     "output_type": "stream",
     "text": [
      "2023-10-06 17:41:23,536 - qm - INFO     - Performing health check\n"
     ]
    },
    {
     "name": "stderr",
     "output_type": "stream",
     "text": [
      "INFO:qm.api.frontend_api:Performing health check\n"
     ]
    },
    {
     "name": "stdout",
     "output_type": "stream",
     "text": [
      "2023-10-06 17:41:23,551 - qm - INFO     - Health check passed\n"
     ]
    },
    {
     "name": "stderr",
     "output_type": "stream",
     "text": [
      "INFO:qm.api.frontend_api:Health check passed\n"
     ]
    },
    {
     "name": "stdout",
     "output_type": "stream",
     "text": [
      "2023-10-06 17:41:24,587 - qm - INFO     - Sending program to QOP for compilation\n"
     ]
    },
    {
     "name": "stderr",
     "output_type": "stream",
     "text": [
      "INFO:qm.api.frontend_api:Sending program to QOP for compilation\n"
     ]
    },
    {
     "name": "stdout",
     "output_type": "stream",
     "text": [
      "2023-10-06 17:41:24,936 - qm - INFO     - Executing program\n"
     ]
    },
    {
     "name": "stderr",
     "output_type": "stream",
     "text": [
      "INFO:qm.QuantumMachine:Executing program\n"
     ]
    },
    {
     "name": "stdout",
     "output_type": "stream",
     "text": [
      "Progress: [##################################################] 100.0% (n=1000/1000) --> elapsed time: 100.16s\n",
      "2023-10-06 17:43:06,835 - qm - INFO     - Performing health check\n"
     ]
    },
    {
     "name": "stderr",
     "output_type": "stream",
     "text": [
      "INFO:qm.api.frontend_api:Performing health check\n"
     ]
    },
    {
     "name": "stdout",
     "output_type": "stream",
     "text": [
      "2023-10-06 17:43:06,844 - qm - INFO     - Health check passed\n"
     ]
    },
    {
     "name": "stderr",
     "output_type": "stream",
     "text": [
      "INFO:qm.api.frontend_api:Health check passed\n"
     ]
    },
    {
     "name": "stdout",
     "output_type": "stream",
     "text": [
      "2023-10-06 17:43:08,925 - qm - INFO     - Performing health check\n"
     ]
    },
    {
     "name": "stderr",
     "output_type": "stream",
     "text": [
      "INFO:qm.api.frontend_api:Performing health check\n"
     ]
    },
    {
     "name": "stdout",
     "output_type": "stream",
     "text": [
      "2023-10-06 17:43:08,940 - qm - INFO     - Health check passed\n"
     ]
    },
    {
     "name": "stderr",
     "output_type": "stream",
     "text": [
      "INFO:qm.api.frontend_api:Health check passed\n"
     ]
    },
    {
     "name": "stdout",
     "output_type": "stream",
     "text": [
      "2023-10-06 17:43:09,956 - qm - INFO     - Sending program to QOP for compilation\n"
     ]
    },
    {
     "name": "stderr",
     "output_type": "stream",
     "text": [
      "INFO:qm.api.frontend_api:Sending program to QOP for compilation\n"
     ]
    },
    {
     "name": "stdout",
     "output_type": "stream",
     "text": [
      "2023-10-06 17:43:10,287 - qm - INFO     - Executing program\n"
     ]
    },
    {
     "name": "stderr",
     "output_type": "stream",
     "text": [
      "INFO:qm.QuantumMachine:Executing program\n"
     ]
    },
    {
     "name": "stdout",
     "output_type": "stream",
     "text": [
      "Progress: [##################################################] 100.0% (n=1000/1000) --> elapsed time: 107.12s\n",
      "Progress: [##################################################] 100.0% (n=1000/1000) --> elapsed time: 108.72s\n",
      "2023-10-06 17:45:01,035 - qm - INFO     - Performing health check\n"
     ]
    },
    {
     "name": "stderr",
     "output_type": "stream",
     "text": [
      "INFO:qm.api.frontend_api:Performing health check\n"
     ]
    },
    {
     "name": "stdout",
     "output_type": "stream",
     "text": [
      "2023-10-06 17:45:01,047 - qm - INFO     - Health check passed\n"
     ]
    },
    {
     "name": "stderr",
     "output_type": "stream",
     "text": [
      "INFO:qm.api.frontend_api:Health check passed\n"
     ]
    },
    {
     "name": "stdout",
     "output_type": "stream",
     "text": [
      "2023-10-06 17:45:03,114 - qm - INFO     - Performing health check\n"
     ]
    },
    {
     "name": "stderr",
     "output_type": "stream",
     "text": [
      "INFO:qm.api.frontend_api:Performing health check\n"
     ]
    },
    {
     "name": "stdout",
     "output_type": "stream",
     "text": [
      "2023-10-06 17:45:03,126 - qm - INFO     - Health check passed\n"
     ]
    },
    {
     "name": "stderr",
     "output_type": "stream",
     "text": [
      "INFO:qm.api.frontend_api:Health check passed\n"
     ]
    },
    {
     "name": "stdout",
     "output_type": "stream",
     "text": [
      "2023-10-06 17:45:04,434 - qm - INFO     - Sending program to QOP for compilation\n"
     ]
    },
    {
     "name": "stderr",
     "output_type": "stream",
     "text": [
      "INFO:qm.api.frontend_api:Sending program to QOP for compilation\n"
     ]
    },
    {
     "name": "stdout",
     "output_type": "stream",
     "text": [
      "2023-10-06 17:45:04,734 - qm - INFO     - Executing program\n"
     ]
    },
    {
     "name": "stderr",
     "output_type": "stream",
     "text": [
      "INFO:qm.QuantumMachine:Executing program\n"
     ]
    },
    {
     "name": "stdout",
     "output_type": "stream",
     "text": [
      "Progress: [##################################################] 100.0% (n=1000/1000) --> elapsed time: 120.20s\n",
      "2023-10-06 17:47:07,117 - qm - INFO     - Performing health check\n"
     ]
    },
    {
     "name": "stderr",
     "output_type": "stream",
     "text": [
      "INFO:qm.api.frontend_api:Performing health check\n"
     ]
    },
    {
     "name": "stdout",
     "output_type": "stream",
     "text": [
      "2023-10-06 17:47:07,128 - qm - INFO     - Health check passed\n"
     ]
    },
    {
     "name": "stderr",
     "output_type": "stream",
     "text": [
      "INFO:qm.api.frontend_api:Health check passed\n"
     ]
    },
    {
     "name": "stdout",
     "output_type": "stream",
     "text": [
      "2023-10-06 17:47:09,189 - qm - INFO     - Performing health check\n"
     ]
    },
    {
     "name": "stderr",
     "output_type": "stream",
     "text": [
      "INFO:qm.api.frontend_api:Performing health check\n"
     ]
    },
    {
     "name": "stdout",
     "output_type": "stream",
     "text": [
      "2023-10-06 17:47:09,200 - qm - INFO     - Health check passed\n"
     ]
    },
    {
     "name": "stderr",
     "output_type": "stream",
     "text": [
      "INFO:qm.api.frontend_api:Health check passed\n"
     ]
    },
    {
     "name": "stdout",
     "output_type": "stream",
     "text": [
      "2023-10-06 17:47:10,481 - qm - INFO     - Sending program to QOP for compilation\n"
     ]
    },
    {
     "name": "stderr",
     "output_type": "stream",
     "text": [
      "INFO:qm.api.frontend_api:Sending program to QOP for compilation\n"
     ]
    },
    {
     "name": "stdout",
     "output_type": "stream",
     "text": [
      "2023-10-06 17:47:10,783 - qm - INFO     - Executing program\n"
     ]
    },
    {
     "name": "stderr",
     "output_type": "stream",
     "text": [
      "INFO:qm.QuantumMachine:Executing program\n"
     ]
    },
    {
     "name": "stdout",
     "output_type": "stream",
     "text": [
      "Progress: [##################################################] 100.0% (n=1000/1000) --> elapsed time: 139.70s\n",
      "2023-10-06 17:49:32,739 - qm - INFO     - Performing health check\n"
     ]
    },
    {
     "name": "stderr",
     "output_type": "stream",
     "text": [
      "INFO:qm.api.frontend_api:Performing health check\n"
     ]
    },
    {
     "name": "stdout",
     "output_type": "stream",
     "text": [
      "2023-10-06 17:49:32,752 - qm - INFO     - Health check passed\n"
     ]
    },
    {
     "name": "stderr",
     "output_type": "stream",
     "text": [
      "INFO:qm.api.frontend_api:Health check passed\n"
     ]
    },
    {
     "name": "stdout",
     "output_type": "stream",
     "text": [
      "2023-10-06 17:49:34,396 - qm - INFO     - Performing health check\n"
     ]
    },
    {
     "name": "stderr",
     "output_type": "stream",
     "text": [
      "INFO:qm.api.frontend_api:Performing health check\n"
     ]
    },
    {
     "name": "stdout",
     "output_type": "stream",
     "text": [
      "2023-10-06 17:49:34,406 - qm - INFO     - Health check passed\n"
     ]
    },
    {
     "name": "stderr",
     "output_type": "stream",
     "text": [
      "INFO:qm.api.frontend_api:Health check passed\n"
     ]
    },
    {
     "name": "stdout",
     "output_type": "stream",
     "text": [
      "2023-10-06 17:49:35,496 - qm - INFO     - Sending program to QOP for compilation\n"
     ]
    },
    {
     "name": "stderr",
     "output_type": "stream",
     "text": [
      "INFO:qm.api.frontend_api:Sending program to QOP for compilation\n"
     ]
    },
    {
     "name": "stdout",
     "output_type": "stream",
     "text": [
      "2023-10-06 17:49:35,742 - qm - INFO     - Executing program\n"
     ]
    },
    {
     "name": "stderr",
     "output_type": "stream",
     "text": [
      "INFO:qm.QuantumMachine:Executing program\n"
     ]
    },
    {
     "name": "stdout",
     "output_type": "stream",
     "text": [
      "Progress: [##################################################] 100.0% (n=1000/1000) --> elapsed time: 169.82s\n",
      "2023-10-06 17:52:28,324 - qm - INFO     - Performing health check\n"
     ]
    },
    {
     "name": "stderr",
     "output_type": "stream",
     "text": [
      "INFO:qm.api.frontend_api:Performing health check\n"
     ]
    },
    {
     "name": "stdout",
     "output_type": "stream",
     "text": [
      "2023-10-06 17:52:28,336 - qm - INFO     - Health check passed\n"
     ]
    },
    {
     "name": "stderr",
     "output_type": "stream",
     "text": [
      "INFO:qm.api.frontend_api:Health check passed\n"
     ]
    },
    {
     "name": "stdout",
     "output_type": "stream",
     "text": [
      "2023-10-06 17:52:30,220 - qm - INFO     - Performing health check\n"
     ]
    },
    {
     "name": "stderr",
     "output_type": "stream",
     "text": [
      "INFO:qm.api.frontend_api:Performing health check\n"
     ]
    },
    {
     "name": "stdout",
     "output_type": "stream",
     "text": [
      "2023-10-06 17:52:30,232 - qm - INFO     - Health check passed\n"
     ]
    },
    {
     "name": "stderr",
     "output_type": "stream",
     "text": [
      "INFO:qm.api.frontend_api:Health check passed\n"
     ]
    },
    {
     "name": "stdout",
     "output_type": "stream",
     "text": [
      "2023-10-06 17:52:31,270 - qm - INFO     - Sending program to QOP for compilation\n"
     ]
    },
    {
     "name": "stderr",
     "output_type": "stream",
     "text": [
      "INFO:qm.api.frontend_api:Sending program to QOP for compilation\n"
     ]
    },
    {
     "name": "stdout",
     "output_type": "stream",
     "text": [
      "2023-10-06 17:52:31,592 - qm - INFO     - Executing program\n"
     ]
    },
    {
     "name": "stderr",
     "output_type": "stream",
     "text": [
      "INFO:qm.QuantumMachine:Executing program\n"
     ]
    },
    {
     "name": "stdout",
     "output_type": "stream",
     "text": [
      "Progress: [##################################################] 100.0% (n=1000/1000) --> elapsed time: 237.55s\n",
      "2023-10-06 17:56:32,237 - qm - INFO     - Performing health check\n"
     ]
    },
    {
     "name": "stderr",
     "output_type": "stream",
     "text": [
      "INFO:qm.api.frontend_api:Performing health check\n"
     ]
    },
    {
     "name": "stdout",
     "output_type": "stream",
     "text": [
      "2023-10-06 17:56:32,249 - qm - INFO     - Health check passed\n"
     ]
    },
    {
     "name": "stderr",
     "output_type": "stream",
     "text": [
      "INFO:qm.api.frontend_api:Health check passed\n"
     ]
    },
    {
     "name": "stdout",
     "output_type": "stream",
     "text": [
      "2023-10-06 17:56:34,592 - qm - INFO     - Performing health check\n"
     ]
    },
    {
     "name": "stderr",
     "output_type": "stream",
     "text": [
      "INFO:qm.api.frontend_api:Performing health check\n"
     ]
    },
    {
     "name": "stdout",
     "output_type": "stream",
     "text": [
      "2023-10-06 17:56:34,605 - qm - INFO     - Health check passed\n"
     ]
    },
    {
     "name": "stderr",
     "output_type": "stream",
     "text": [
      "INFO:qm.api.frontend_api:Health check passed\n"
     ]
    },
    {
     "name": "stdout",
     "output_type": "stream",
     "text": [
      "2023-10-06 17:56:35,981 - qm - INFO     - Sending program to QOP for compilation\n"
     ]
    },
    {
     "name": "stderr",
     "output_type": "stream",
     "text": [
      "INFO:qm.api.frontend_api:Sending program to QOP for compilation\n"
     ]
    },
    {
     "name": "stdout",
     "output_type": "stream",
     "text": [
      "2023-10-06 17:56:36,271 - qm - INFO     - Executing program\n"
     ]
    },
    {
     "name": "stderr",
     "output_type": "stream",
     "text": [
      "INFO:qm.QuantumMachine:Executing program\n"
     ]
    },
    {
     "name": "stdout",
     "output_type": "stream",
     "text": [
      "Progress: [##################################################] 100.0% (n=1000/1000) --> elapsed time: 379.91s\n",
      "Finished!\n"
     ]
    }
   ],
   "source": [
    "print(\"Start running ...\")\n",
    "\n",
    "now = datetime.datetime.now()\n",
    "month = now.strftime(\"%m\")\n",
    "day = now.strftime(\"%d\")\n",
    "hour = now.strftime(\"%H\")\n",
    "minute = now.strftime(\"%M\")\n",
    "\n",
    "exp_name = 'qubit_spec_flux_sweep'\n",
    "qubit_name = 'UA_Q1'\n",
    "\n",
    "f_str = qubit_name + '_' + exp_name + '_' + month + day + '-' + hour + minute\n",
    "file_name= f_str+'.mat'\n",
    "json_name = f_str + '_state.json'\n",
    "\n",
    "# Set-up the machine and get the config #\n",
    "machine = QuAM(\"quam_state.json\")\n",
    "config = build_config(machine)\n",
    "\n",
    "# Program-specific variables #\n",
    "\n",
    "n_avg = 1000  # Number of averaging loops\n",
    "qubit_index = 0 \n",
    "cooldown_time = 15_000  # Resonator cooldown time, convert to ns in the wait() function \n",
    "z_duration = machine.qubits[qubit_index].pi_length + 40 \n",
    "\n",
    "fig = plt.figure()\n",
    "\n",
    "freq_arr_save = []\n",
    "amp_arr_save = []\n",
    "sig_arr_save = []\n",
    "phase_arr_save = []\n",
    "  \n",
    "for k in np.arange(0, len(LO_array), 1):\n",
    "    qmm = QuantumMachinesManager(machine.network.qop_ip, port = '9510', octave=octave_config)\n",
    "    qm = qmm.open_qm(config)\n",
    "    LO_val = LO_array[k]/1e3\n",
    "    LO_val = LO_val.astype(int)\n",
    "    machine.qubits[qubit_index].lo = LO_val * 1e3\n",
    "    qm.octave.set_lo_frequency(machine.qubits[qubit_index].name, LO_val * 1e3)\n",
    "\n",
    "    with program() as qubit_spec_2D_2poly:\n",
    "        n = declare(int)  # Averaging index\n",
    "        df = declare(int)  # Qubit sweep\n",
    "        q_freq_est_i = declare(int)  # Estimated qubit frequency\n",
    "        damp = declare(fixed)  # Z amplitude sweep\n",
    "        I = declare(fixed)\n",
    "        Q = declare(fixed)\n",
    "        I_st = declare_stream()\n",
    "        Q_st = declare_stream()\n",
    "        n_st = declare_stream()\n",
    "        qb_if = declare(int)\n",
    "        \n",
    "        # Update I and Q offsets and C matrix elements\n",
    "        update_correction(machine.qubits[qubit_index].name, C_cal[k][0], C_cal[k][1], C_cal[k][2], C_cal[k][3])\n",
    "        set_dc_offset(machine.qubits[qubit_index].name, \"I\", I_offset_cal[k])\n",
    "        set_dc_offset(machine.qubits[qubit_index].name, \"Q\", Q_offset_cal[k])\n",
    "\n",
    "        with for_(n, 0, n < n_avg, n + 1):\n",
    "            with for_each_((damp,q_freq_est_i),(ff_sort[k],q_sweep_sort[k])):\n",
    "                assign(qb_if, (q_freq_est_i - LO_val)*1e3)\n",
    "                with for_(*from_array(df,q_freq_sweep)):\n",
    "                    update_frequency(machine.qubits[qubit_index].name, qb_if + df)\n",
    "                    play(\"const\" * amp(damp), machine.flux_lines[qubit_index].name, duration = z_duration * u.ns)\n",
    "                    wait(5, machine.qubits[qubit_index].name)\n",
    "                    play('pi',machine.qubits[qubit_index].name)\n",
    "                    align(machine.qubits[qubit_index].name, machine.flux_lines[qubit_index].name,machine.resonators[qubit_index].name)\n",
    "                    # Measure the resonator\n",
    "                    measure(\n",
    "                        \"readout\",\n",
    "                        machine.resonators[qubit_index].name,\n",
    "                        None,\n",
    "                        dual_demod.full(\"cos\", \"out1\", \"sin\", \"out2\", I),\n",
    "                        dual_demod.full(\"minus_sin\", \"out1\", \"cos\", \"out2\", Q),\n",
    "                    )\n",
    "                    align()\n",
    "                    play(\"const\" * amp((-1)*damp), machine.flux_lines[qubit_index].name, duration = z_duration * u.ns)\n",
    "                    # Wait for the resonator to cooldown\n",
    "                    wait(cooldown_time * u.ns, machine.resonators[qubit_index].name)\n",
    "                    # Save data to the stream processing\n",
    "                    save(I, I_st)\n",
    "                    save(Q, Q_st)\n",
    "            save(n, n_st)\n",
    "\n",
    "        with stream_processing():\n",
    "            I_st.buffer(len(q_freq_sweep)).buffer(len(ff_sort[k])).average().save(\"I\")\n",
    "            Q_st.buffer(len(q_freq_sweep)).buffer(len(ff_sort[k])).average().save(\"Q\")\n",
    "            n_st.save(\"iteration\")\n",
    "\n",
    "#         to save all the frequencies used in the scan\n",
    "        q_freq_sweep_2D, q_freq_est_2D = np.meshgrid(q_freq_sweep, np.asarray(q_sweep_sort[k]) * 1e3)\n",
    "        _, ff_amp_sweep_2D = np.meshgrid(q_freq_sweep, np.asarray(ff_sort[k]) * machine.flux_lines[qubit_index].flux_pulse_amp)\n",
    "        q_freq_sweep_2D = q_freq_est_2D + q_freq_sweep_2D\n",
    "\n",
    "    qmm = QuantumMachinesManager(machine.network.qop_ip, port = '9510', octave=octave_config)\n",
    "\n",
    "    simulate = False\n",
    "    \n",
    "    if simulate:\n",
    "        %matplotlib qt\n",
    "        job = qmm.simulate(config, qubit_spec_2D_2poly, SimulationConfig(4000))\n",
    "        job.get_simulated_samples().con1.plot()\n",
    "    else:\n",
    "        qm = qmm.open_qm(config)\n",
    "        job = qm.execute(qubit_spec_2D_2poly)\n",
    "\n",
    "        # Creates results handles to fetch the data\n",
    "        results = fetching_tool(job, data_list=[\"I\", \"Q\", \"iteration\"], mode=\"live\")\n",
    "        \n",
    "        # Live plotting\n",
    "                \n",
    "        while results.is_processing():\n",
    "            # Fetch results\n",
    "            I, Q, iteration = results.fetch_all()\n",
    "            progress_counter(iteration, n_avg, start_time=results.get_start_time())\n",
    "            # Convert results into Volts\n",
    "            sigs = u.demod2volts(I + 1j * Q, machine.resonators[qubit_index].readout_pulse_length)\n",
    "            sig_amp = np.abs(sigs)  # Amplitude\n",
    "            sig_phase = np.angle(sigs)  # Phase\n",
    "            # Plot results\n",
    "\n",
    "#             plt.cla()\n",
    "            interrupt_on_close(fig, job)  #  Interrupts the job when closing the figure\n",
    "            plt.title(\"Qubit spectroscopy amplitude\")\n",
    "            plt.pcolormesh(ff_amp_sweep_2D, q_freq_sweep_2D.astype(float), sig_amp ,shading='auto',cmap=\"seismic\")\n",
    "    #         plt.pcolormesh(ff_amp_sweep, q_freq_sweep.astype(float) * u.kHz, sig_amp, shading='auto',cmap=\"seismic\")\n",
    "            plt.ylabel(\"Qubit frequency [MHz]\")\n",
    "            plt.xlabel(\"Flux level [V]\")\n",
    "            plt.show()\n",
    "            plt.pause(0.1)\n",
    "\n",
    "    freq_arr_save.append(q_freq_sweep_2D)\n",
    "    amp_arr_save.append(ff_amp_sweep_2D)\n",
    "    sig_arr_save.append(sig_amp)  \n",
    "    phase_arr_save.append(sig_phase)\n",
    "plt.colorbar()\n",
    "print(\"Finished!\")    \n",
    "\n",
    "\n",
    "\n",
    "    \n",
    " "
   ]
  },
  {
   "cell_type": "code",
   "execution_count": 686,
   "id": "1ac06c35",
   "metadata": {},
   "outputs": [
    {
     "data": {
      "text/plain": [
       "<matplotlib.colorbar.Colorbar at 0x126ed7d74c0>"
      ]
     },
     "execution_count": 686,
     "metadata": {},
     "output_type": "execute_result"
    }
   ],
   "source": [
    "# to plot and sort data to save later\n",
    "\n",
    "amp_arr_save_sort = amp_arr_save[::-1]\n",
    "freq_arr_save_sort = freq_arr_save[::-1]\n",
    "sig_arr_save_sort = sig_arr_save[::-1]\n",
    "phase_arr_save_sort = phase_arr_save[::-1]\n",
    "amp_arr_save_tot = None\n",
    "freq_arr_save_tot = None\n",
    "sig_arr_save_tot = None\n",
    "phase_arr_save_tot = None\n",
    "for n in np.arange(len(amp_arr_save_sort)):\n",
    "    if amp_arr_save_tot is None:\n",
    "        amp_arr_save_tot = amp_arr_save_sort[0]\n",
    "        freq_arr_save_tot = freq_arr_save_sort[0]\n",
    "        sig_arr_save_tot = sig_arr_save_sort[0]\n",
    "        phase_arr_save_tot = phase_arr_save_sort[0]\n",
    "    else:\n",
    "        amp_arr_save_tot = np.concatenate(([amp_arr_save_tot , amp_arr_save_sort[n] ]), axis=0)\n",
    "        freq_arr_save_tot = np.concatenate(([freq_arr_save_tot , freq_arr_save_sort[n] ]), axis=0)\n",
    "        sig_arr_save_tot = np.concatenate(([sig_arr_save_tot , sig_arr_save_sort[n] ]), axis=0)\n",
    "        phase_arr_save_tot = np.concatenate(([phase_arr_save_tot , phase_arr_save_sort[n] ]), axis=0)\n",
    "\n",
    "plt.figure()\n",
    "plt.title(\"Qubit spectroscopy amplitude\")\n",
    "plt.pcolormesh(amp_arr_save_tot.astype(float), freq_arr_save_tot/1e6,  sig_arr_save_tot ,shading='auto',cmap=\"seismic\")\n",
    "plt.ylabel(\"Qubit frequency [MHz]\")\n",
    "plt.xlabel(\"Flux level [V]\")\n",
    "plt.show()\n",
    "plt.pause(0.1)\n",
    "plt.tight_layout() \n",
    "plt.colorbar()"
   ]
  },
  {
   "cell_type": "code",
   "execution_count": 678,
   "id": "346ba92d",
   "metadata": {},
   "outputs": [
    {
     "data": {
      "text/plain": [
       "9532"
      ]
     },
     "execution_count": 678,
     "metadata": {},
     "output_type": "execute_result"
    }
   ],
   "source": [
    "# Save data \n",
    "savemat(os.path.join(tPath, file_name), {\"qubit_freq\": freq_arr_save_tot, \n",
    "                                         \"sig_amp\": sig_arr_save_tot, \n",
    "                                         \"sig_phase\": phase_arr_save_tot, \n",
    "                                         \"ff_sweep\": amp_arr_save_tot, \n",
    "                                         \"LO_freq\": LO_array,\n",
    "                                         \"ROI\": ROI, \"ROO\": ROO, \n",
    "                                         \"freq_TWPA\": freq_TWPA, \"pwr_TWPA\": pwr_TWPA})\n",
    "open(os.path.join(tPath, json_name), \"w\").write(open(\"quam_state.json\").read()) # this only saves the last file"
   ]
  },
  {
   "cell_type": "code",
   "execution_count": 859,
   "id": "daa41e85",
   "metadata": {},
   "outputs": [
    {
     "data": {
      "text/plain": [
       "Text(0.5, 0, 'Flux level [V]')"
      ]
     },
     "execution_count": 859,
     "metadata": {},
     "output_type": "execute_result"
    }
   ],
   "source": [
    "%matplotlib qt\n",
    "file_name = 'UA_Q1_qubit_spec_flux_sweep_1006-1736'\n",
    "data = loadmat(os.path.join(r\"Z:\\LabberData_DF5\\QM_Data_DF5\\2023\\10\\Data_1006\", file_name))\n",
    "freq = data['qubit_freq']\n",
    "sig_amp = data['sig_amp']\n",
    "ff_sweep = data['ff_sweep']\n",
    "\n",
    "\n",
    "# plot and fit\n",
    "plt.title(\"Qubit spectroscopy amplitude\")\n",
    "# plt.pcolormesh(amp_arr_save_tot.astype(float), freq_arr_save_tot/1e6,  sig_arr_save_tot ,shading='auto',cmap=\"seismic\")\n",
    "plt.pcolormesh(ff_sweep, freq,  sig_amp ,shading='auto',cmap=\"seismic\")\n",
    "plt.ylabel(\"Qubit frequency [MHz]\")\n",
    "plt.xlabel(\"Flux level [V]\")\n",
    "\n",
    "\n",
    "# # Determine minima of signal to use as ydata for fitting\n",
    "# maximas = []\n",
    "# flux = ff_amp_sweep* machine.flux_lines[qubit_index].flux_pulse_amp\n",
    "\n",
    "# # Remove edges on flux to avoid having data from top curve\n",
    "# bound = 0.45\n",
    "# flux_int = np.array([i for i in flux if (i<= bound)])\n",
    "# flux_int_idx = np.array([i for i,v in enumerate(flux<= bound)  if v])\n",
    "\n",
    "# for i in (flux_int_idx):\n",
    "#     maximas.append(freq_arr_save_tot[i][np.argmax(sig_arr_save_tot[i])])\n",
    "\n",
    "# ## Plot minima of signal\n",
    "# maximas = np.array(maximas)\n",
    "# plt.scatter(flux_int.T, maximas/1e6)\n",
    "\n",
    "# initial_guess = [1, 0, 6450]  # Initial guess for the parameters\n",
    "# fit_params, _ = curve_fit(poly2, flux_int, maximas/1e6, p0 = initial_guess)\n",
    "\n",
    "# fitted_curve = poly2(flux_int, *fit_params)\n",
    "# # Plot fitted data\n",
    "# plt.plot(flux_int, fitted_curve, color = 'orange')\n",
    "# fitted_curve = fitted_curve*u.kHz\n",
    "# fitted_curve = fitted_curve.astype(int)\n",
    "\n",
    "# # # Sweet spot from fit\n",
    "# # SS_cal = -fit_params[1]/(2*fit_params[0])\n",
    "# # print(SS_cal)"
   ]
  },
  {
   "cell_type": "markdown",
   "id": "280d44f5",
   "metadata": {},
   "source": [
    "## e-f transition (anharmonicity)"
   ]
  },
  {
   "cell_type": "code",
   "execution_count": 848,
   "id": "b5a11915",
   "metadata": {},
   "outputs": [],
   "source": [
    "# set DC flux to sweet spot\n",
    "client = Labber.connectToServer('localhost') # get list of instruments \n",
    "QDevil = client.connectToInstrument('QDevil QDAC', dict(interface='Serial', address='3'))\n",
    "\n",
    "DC_ss = SS \n",
    "QDevil.setValue(\"CH01 Voltage\", DC_ss)\n",
    "client.close()"
   ]
  },
  {
   "cell_type": "code",
   "execution_count": 852,
   "id": "aff5b853",
   "metadata": {},
   "outputs": [
    {
     "data": {
      "text/plain": [
       "6563646000.0"
      ]
     },
     "execution_count": 852,
     "metadata": {},
     "output_type": "execute_result"
    }
   ],
   "source": [
    "machine.qubits[qubit_index].f_01"
   ]
  },
  {
   "cell_type": "code",
   "execution_count": 853,
   "id": "01657d79",
   "metadata": {},
   "outputs": [],
   "source": [
    "machine.qubits[qubit_index].f_01 -=111.046e6\n",
    "machine.qubits[qubit_index].lo = machine.qubits[qubit_index].f_01 + 100e6\n",
    "machine._save(\"quam_state.json\")"
   ]
  },
  {
   "cell_type": "code",
   "execution_count": 855,
   "id": "619731ce",
   "metadata": {},
   "outputs": [
    {
     "name": "stdout",
     "output_type": "stream",
     "text": [
      "------------------------------------- Calibrates r0 for (LO, IF) = (7.312 GHz, -49.600 MHz)\n",
      "------------------------------------- Calibrates q0 for (LO, IF) = (6.553 GHz, -100.000 MHz)\n"
     ]
    },
    {
     "data": {
      "text/plain": [
       "<Figure size 1200x800 with 0 Axes>"
      ]
     },
     "metadata": {},
     "output_type": "display_data"
    }
   ],
   "source": [
    "run octave_configuration.py"
   ]
  },
  {
   "cell_type": "code",
   "execution_count": 856,
   "id": "ae7af00f",
   "metadata": {},
   "outputs": [
    {
     "name": "stdout",
     "output_type": "stream",
     "text": [
      "Start running ...\n",
      "2023-10-09 16:53:51,192 - qm - INFO     - Performing health check\n"
     ]
    },
    {
     "name": "stderr",
     "output_type": "stream",
     "text": [
      "INFO:qm.api.frontend_api:Performing health check\n"
     ]
    },
    {
     "name": "stdout",
     "output_type": "stream",
     "text": [
      "2023-10-09 16:53:51,203 - qm - INFO     - Health check passed\n"
     ]
    },
    {
     "name": "stderr",
     "output_type": "stream",
     "text": [
      "INFO:qm.api.frontend_api:Health check passed\n"
     ]
    },
    {
     "name": "stdout",
     "output_type": "stream",
     "text": [
      "2023-10-09 16:53:52,162 - qm - INFO     - Sending program to QOP for compilation\n"
     ]
    },
    {
     "name": "stderr",
     "output_type": "stream",
     "text": [
      "INFO:qm.api.frontend_api:Sending program to QOP for compilation\n"
     ]
    },
    {
     "name": "stdout",
     "output_type": "stream",
     "text": [
      "2023-10-09 16:53:52,436 - qm - INFO     - Executing program\n"
     ]
    },
    {
     "name": "stderr",
     "output_type": "stream",
     "text": [
      "INFO:qm.QuantumMachine:Executing program\n"
     ]
    },
    {
     "name": "stdout",
     "output_type": "stream",
     "text": [
      "Progress: [##################################################] 100.0% (n=5000/5000) --> elapsed time: 15.64s\n",
      "Execution stopped by user!\n"
     ]
    }
   ],
   "source": [
    "print(\"Start running ...\")\n",
    "\n",
    "now = datetime.datetime.now()\n",
    "month = now.strftime(\"%m\")\n",
    "day = now.strftime(\"%d\")\n",
    "hour = now.strftime(\"%H\")\n",
    "minute = now.strftime(\"%M\")\n",
    "\n",
    "exp_name = 'anharmonicity'\n",
    "qubit_name = 'UA_Q1'\n",
    "\n",
    "f_str = qubit_name + '_' + exp_name + '_' + month + day + '-' + hour + minute\n",
    "file_name= f_str+'.mat'\n",
    "json_name = f_str + '_state.json'\n",
    "\n",
    "# Set-up the machine and get the config #\n",
    "machine = QuAM(\"quam_state.json\")\n",
    "config = build_config(machine)\n",
    "\n",
    "# Program-specific variables #\n",
    "n_avg = 5_000  # Number of averaging loops\n",
    "cooldown_time = 20_000  # convert to ns in the wait() function\n",
    "# t = 80  # Qubit pulse length\n",
    "\n",
    "qb_freq_sweep = np.arange(6245e6, 6460e6, 0.1e6)\n",
    "freq_sweep = qb_freq_sweep - machine.qubits[qubit_index].f_01\n",
    "freq_sweep = freq_sweep.astype(int)\n",
    "\n",
    "qubit_index = 0\n",
    "qb_if = machine.qubits[qubit_index].f_01 - machine.qubits[qubit_index].lo\n",
    "\n",
    "# The QUA program #\n",
    "with program() as qubit_spec:\n",
    "    n = declare(int)  # Averaging index\n",
    "    df = declare(int)  # Resonator frequency\n",
    "    I = declare(fixed)\n",
    "    Q = declare(fixed)\n",
    "    I_st = declare_stream()\n",
    "    Q_st = declare_stream()\n",
    "    n_st = declare_stream()\n",
    "    if_st = declare_stream()\n",
    "    if_var = declare(int)\n",
    "\n",
    "    # Adjust the flux line if needed\n",
    "    # set_dc_offset(\"flux_line\", \"single\", 0.0)\n",
    "    with for_(n, 0, n < n_avg, n + 1):\n",
    "        with for_(*from_array(df, freq_sweep)):\n",
    "            # Update the qubit frequency\n",
    "            update_frequency(machine.qubits[qubit_index].name, df + qb_if)\n",
    "#             assign(if_var, df)\n",
    "\n",
    "            save(df, if_st)\n",
    "            # Play a saturation pulse on the qubit\n",
    "#             play(\"pi\" * amp(0.1), machine.qubits[qubit_index].name, duration = t * u.us)\n",
    "            play(\"pi\" * amp(1), machine.qubits[qubit_index].name)\n",
    "\n",
    "            align(machine.qubits[qubit_index].name, machine.resonators[qubit_index].name)\n",
    "            # Measure the resonator\n",
    "            play(\"pi\" * amp(1), machine.qubits[qubit_index].name, duration = t * u.us)\n",
    "            \n",
    "            align(machine.qubits[qubit_index].name, machine.resonators[qubit_index].name)\n",
    "            \n",
    "            measure(\n",
    "                \"readout\",\n",
    "                machine.resonators[qubit_index].name,\n",
    "                None,\n",
    "                dual_demod.full(\"cos\", \"out1\", \"sin\", \"out2\", I),\n",
    "                dual_demod.full(\"minus_sin\", \"out1\", \"cos\", \"out2\", Q),\n",
    "            )\n",
    "            # Wait for the resonator to cooldown\n",
    "            wait(cooldown_time * u.ns, machine.resonators[qubit_index].name)\n",
    "            # Save data to the stream processing\n",
    "            save(I, I_st)\n",
    "            save(Q, Q_st)\n",
    "        save(n, n_st)\n",
    "\n",
    "    with stream_processing():\n",
    "        I_st.buffer(len(freq_sweep)).average().save(\"I\")\n",
    "        Q_st.buffer(len(freq_sweep)).average().save(\"Q\")\n",
    "        n_st.save(\"iteration\")\n",
    "        if_st.buffer(len(freq_sweep)).average().save(\"IF\")\n",
    "        #if_st.save(\"IF\")\n",
    "\n",
    "#  Open Communication with the QOP  #\n",
    "# qmm = QuantumMachinesManager(machine.network.qop_ip, cluster_name=machine.network.cluster_name, octave=octave_config)\n",
    "# qmm = QuantumMachinesManager(machine.network.qop_ip, port = '9510', octave=octave_config, log_level = \"ERROR\")\n",
    "qmm = QuantumMachinesManager(machine.network.qop_ip, port = '9510', octave=octave_config)\n",
    "\n",
    "simulation = False\n",
    "\n",
    "if simulation:\n",
    "    simulation_config = SimulationConfig(\n",
    "        duration=8000, simulation_interface=LoopbackInterface([(\"con1\", 3, \"con1\", 1)])\n",
    "    )\n",
    "    job = qmm.simulate(config, qubit_spec, simulation_config)\n",
    "    job.get_simulated_samples().con1.plot()\n",
    "else:\n",
    "    qm = qmm.open_qm(config)\n",
    "    job = qm.execute(qubit_spec)\n",
    "    # Get results from QUA program\n",
    "    results = fetching_tool(job, data_list=[\"I\", \"Q\", \"iteration\", \"IF\"], mode=\"live\")\n",
    "    %matplotlib qt\n",
    "    # Live plotting\n",
    "    fig = plt.figure()\n",
    "    plt.rcParams['figure.figsize'] = [12, 8]\n",
    "    interrupt_on_close(fig, job)  # Interrupts the job when closing the figure\n",
    "    while results.is_processing():\n",
    "        # Fetch results\n",
    "        I, Q, iteration, IF= results.fetch_all()\n",
    "        I = u.demod2volts(I, machine.resonators[qubit_index].readout_pulse_length)\n",
    "        Q = u.demod2volts(Q, machine.resonators[qubit_index].readout_pulse_length)\n",
    "        sig_amp = np.sqrt(I**2 + Q**2)\n",
    "        sig_phase = signal.detrend(np.unwrap(np.angle(I + 1j * Q)))\n",
    "        freqs = machine.qubits[qubit_index].f_01 + freq_sweep\n",
    "        # Progress bar\n",
    "        progress_counter(iteration, n_avg, start_time=results.get_start_time())\n",
    "        plt.cla()\n",
    "        plt.title(\"Qubit spectroscopy\")\n",
    "        plt.plot(freqs /u.MHz, sig_amp, \"b.\")\n",
    "        plt.xlabel(\"Frequency [MHz]\")\n",
    "        plt.ylabel(r\"$\\sqrt{I^2 + Q^2}$ [V]\")\n",
    "        plt.pause(0.01)"
   ]
  },
  {
   "cell_type": "code",
   "execution_count": 857,
   "id": "31a9bcdd",
   "metadata": {},
   "outputs": [
    {
     "name": "stdout",
     "output_type": "stream",
     "text": [
      "IF offset to add to IF: -0.600000 MHz\n"
     ]
    },
    {
     "data": {
      "text/plain": [
       "<matplotlib.lines.Line2D at 0x126cc663df0>"
      ]
     },
     "execution_count": 857,
     "metadata": {},
     "output_type": "execute_result"
    },
    {
     "data": {
      "image/png": "[encoded data removed]",
      "text/plain": [
       "<Figure size 800x400 with 1 Axes>"
      ]
     },
     "metadata": {},
     "output_type": "display_data"
    }
   ],
   "source": [
    "%matplotlib inline\n",
    "\n",
    "idx = np.argmax(sig_amp) # find minimum\n",
    "print(f\"IF offset to add to IF: {freq_sweep[idx] / u.MHz:.6f} MHz\")\n",
    "\n",
    "plt.close('all')\n",
    "%matplotlib inline\n",
    "# 1D spectroscopy plot\n",
    "fig = plt.figure(figsize=[8, 4])\n",
    "plt.title('Qubit spectroscopy')\n",
    "plt.plot((machine.qubits[qubit_index].f_01 + freq_sweep) / u.MHz, sig_amp, \".\")\n",
    "plt.xlabel(\"Frequency [MHz]\")\n",
    "plt.ylabel(r\"$\\sqrt{I^2 + Q^2}$ [V]\")\n",
    "plt.axvline(x = (machine.qubits[qubit_index].f_01 + freq_sweep[idx]) / u.MHz)"
   ]
  },
  {
   "cell_type": "code",
   "execution_count": null,
   "id": "35ba320d",
   "metadata": {},
   "outputs": [],
   "source": []
  }
 ],
 "metadata": {
  "kernelspec": {
   "display_name": "Python 3 (ipykernel)",
   "language": "python",
   "name": "python3"
  },
  "language_info": {
   "codemirror_mode": {
    "name": "ipython",
    "version": 3
   },
   "file_extension": ".py",
   "mimetype": "text/x-python",
   "name": "python",
   "nbconvert_exporter": "python",
   "pygments_lexer": "ipython3",
   "version": "3.8.17"
  }
 },
 "nbformat": 4,
 "nbformat_minor": 5
}
