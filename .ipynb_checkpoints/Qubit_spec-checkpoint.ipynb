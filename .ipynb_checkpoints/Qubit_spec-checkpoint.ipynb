{
 "cells": [
  {
   "cell_type": "code",
   "execution_count": 1,
   "metadata": {},
   "outputs": [
    {
     "name": "stdout",
     "output_type": "stream",
     "text": [
      "2023-08-14 14:44:42,125 - qm - INFO     - Starting session: a85418a4-aed1-43ce-a281-7caf67287b34\n",
      "2023-08-14 14:44:47,216 - qm - INFO     - Octave \"octave1\" Health check passed, current temperature 59\n",
      "2023-08-14 14:44:47,220 - qm - INFO     - Performing health check\n",
      "2023-08-14 14:44:47,235 - qm - INFO     - Health check passed\n",
      "2023-08-14 14:44:48,438 - qm - INFO     - Sending program to QOP for compilation\n",
      "2023-08-14 14:44:48,673 - qm - INFO     - Executing program\n",
      "Progress: [                                                  ] 0.7% (n=2/300) --> elapsed time: 0.64s\r"
     ]
    },
    {
     "name": "stderr",
     "output_type": "stream",
     "text": [
      "C:\\Users\\painter\\AppData\\Local\\Temp\\ipykernel_47148\\3181422731.py:159: MatplotlibDeprecationWarning: Auto-removal of overlapping axes is deprecated since 3.6 and will be removed two minor releases later; explicitly call ax.remove() as needed.\n",
      "  plt.subplot(211)\n",
      "C:\\Users\\painter\\AppData\\Local\\Temp\\ipykernel_47148\\3181422731.py:166: MatplotlibDeprecationWarning: Auto-removal of overlapping axes is deprecated since 3.6 and will be removed two minor releases later; explicitly call ax.remove() as needed.\n",
      "  plt.subplot(212)\n",
      "C:\\Users\\painter\\AppData\\Local\\Temp\\ipykernel_47148\\3181422731.py:174: UserWarning: The figure layout has changed to tight\n",
      "  plt.tight_layout()\n",
      "C:\\Users\\painter\\AppData\\Local\\Temp\\ipykernel_47148\\3181422731.py:159: MatplotlibDeprecationWarning: Auto-removal of overlapping axes is deprecated since 3.6 and will be removed two minor releases later; explicitly call ax.remove() as needed.\n",
      "  plt.subplot(211)\n",
      "C:\\Users\\painter\\AppData\\Local\\Temp\\ipykernel_47148\\3181422731.py:166: MatplotlibDeprecationWarning: Auto-removal of overlapping axes is deprecated since 3.6 and will be removed two minor releases later; explicitly call ax.remove() as needed.\n",
      "  plt.subplot(212)\n"
     ]
    },
    {
     "name": "stdout",
     "output_type": "stream",
     "text": [
      "Progress: [                                                  ] 1.0% (n=3/300) --> elapsed time: 1.04s\r"
     ]
    },
    {
     "name": "stderr",
     "output_type": "stream",
     "text": [
      "C:\\Users\\painter\\AppData\\Local\\Temp\\ipykernel_47148\\3181422731.py:174: UserWarning: The figure layout has changed to tight\n",
      "  plt.tight_layout()\n",
      "C:\\Users\\painter\\AppData\\Local\\Temp\\ipykernel_47148\\3181422731.py:159: MatplotlibDeprecationWarning: Auto-removal of overlapping axes is deprecated since 3.6 and will be removed two minor releases later; explicitly call ax.remove() as needed.\n",
      "  plt.subplot(211)\n",
      "C:\\Users\\painter\\AppData\\Local\\Temp\\ipykernel_47148\\3181422731.py:166: MatplotlibDeprecationWarning: Auto-removal of overlapping axes is deprecated since 3.6 and will be removed two minor releases later; explicitly call ax.remove() as needed.\n",
      "  plt.subplot(212)\n"
     ]
    },
    {
     "name": "stdout",
     "output_type": "stream",
     "text": [
      "Progress: [                                                  ] 1.0% (n=3/300) --> elapsed time: 1.43s\r"
     ]
    },
    {
     "name": "stderr",
     "output_type": "stream",
     "text": [
      "C:\\Users\\painter\\AppData\\Local\\Temp\\ipykernel_47148\\3181422731.py:174: UserWarning: The figure layout has changed to tight\n",
      "  plt.tight_layout()\n",
      "C:\\Users\\painter\\AppData\\Local\\Temp\\ipykernel_47148\\3181422731.py:159: MatplotlibDeprecationWarning: Auto-removal of overlapping axes is deprecated since 3.6 and will be removed two minor releases later; explicitly call ax.remove() as needed.\n",
      "  plt.subplot(211)\n",
      "C:\\Users\\painter\\AppData\\Local\\Temp\\ipykernel_47148\\3181422731.py:166: MatplotlibDeprecationWarning: Auto-removal of overlapping axes is deprecated since 3.6 and will be removed two minor releases later; explicitly call ax.remove() as needed.\n",
      "  plt.subplot(212)\n"
     ]
    },
    {
     "name": "stdout",
     "output_type": "stream",
     "text": [
      "Progress: [                                                  ] 1.3% (n=4/300) --> elapsed time: 1.97s\r"
     ]
    },
    {
     "name": "stderr",
     "output_type": "stream",
     "text": [
      "C:\\Users\\painter\\AppData\\Local\\Temp\\ipykernel_47148\\3181422731.py:174: UserWarning: The figure layout has changed to tight\n",
      "  plt.tight_layout()\n",
      "C:\\Users\\painter\\AppData\\Local\\Temp\\ipykernel_47148\\3181422731.py:159: MatplotlibDeprecationWarning: Auto-removal of overlapping axes is deprecated since 3.6 and will be removed two minor releases later; explicitly call ax.remove() as needed.\n",
      "  plt.subplot(211)\n",
      "C:\\Users\\painter\\AppData\\Local\\Temp\\ipykernel_47148\\3181422731.py:166: MatplotlibDeprecationWarning: Auto-removal of overlapping axes is deprecated since 3.6 and will be removed two minor releases later; explicitly call ax.remove() as needed.\n",
      "  plt.subplot(212)\n"
     ]
    },
    {
     "name": "stdout",
     "output_type": "stream",
     "text": [
      "Progress: [                                                  ] 1.7% (n=5/300) --> elapsed time: 2.37s\r"
     ]
    },
    {
     "name": "stderr",
     "output_type": "stream",
     "text": [
      "C:\\Users\\painter\\AppData\\Local\\Temp\\ipykernel_47148\\3181422731.py:174: UserWarning: The figure layout has changed to tight\n",
      "  plt.tight_layout()\n",
      "C:\\Users\\painter\\AppData\\Local\\Temp\\ipykernel_47148\\3181422731.py:159: MatplotlibDeprecationWarning: Auto-removal of overlapping axes is deprecated since 3.6 and will be removed two minor releases later; explicitly call ax.remove() as needed.\n",
      "  plt.subplot(211)\n",
      "C:\\Users\\painter\\AppData\\Local\\Temp\\ipykernel_47148\\3181422731.py:166: MatplotlibDeprecationWarning: Auto-removal of overlapping axes is deprecated since 3.6 and will be removed two minor releases later; explicitly call ax.remove() as needed.\n",
      "  plt.subplot(212)\n"
     ]
    },
    {
     "name": "stdout",
     "output_type": "stream",
     "text": [
      "Progress: [#                                                 ] 2.0% (n=6/300) --> elapsed time: 2.77s\r"
     ]
    },
    {
     "name": "stderr",
     "output_type": "stream",
     "text": [
      "C:\\Users\\painter\\AppData\\Local\\Temp\\ipykernel_47148\\3181422731.py:174: UserWarning: The figure layout has changed to tight\n",
      "  plt.tight_layout()\n",
      "C:\\Users\\painter\\AppData\\Local\\Temp\\ipykernel_47148\\3181422731.py:159: MatplotlibDeprecationWarning: Auto-removal of overlapping axes is deprecated since 3.6 and will be removed two minor releases later; explicitly call ax.remove() as needed.\n",
      "  plt.subplot(211)\n"
     ]
    },
    {
     "name": "stdout",
     "output_type": "stream",
     "text": [
      "Progress: [#                                                 ] 2.3% (n=7/300) --> elapsed time: 3.17s\r"
     ]
    },
    {
     "name": "stderr",
     "output_type": "stream",
     "text": [
      "C:\\Users\\painter\\AppData\\Local\\Temp\\ipykernel_47148\\3181422731.py:166: MatplotlibDeprecationWarning: Auto-removal of overlapping axes is deprecated since 3.6 and will be removed two minor releases later; explicitly call ax.remove() as needed.\n",
      "  plt.subplot(212)\n",
      "C:\\Users\\painter\\AppData\\Local\\Temp\\ipykernel_47148\\3181422731.py:174: UserWarning: The figure layout has changed to tight\n",
      "  plt.tight_layout()\n"
     ]
    },
    {
     "name": "stdout",
     "output_type": "stream",
     "text": [
      "Progress: [#                                                 ] 2.3% (n=7/300) --> elapsed time: 3.70s\r"
     ]
    },
    {
     "name": "stderr",
     "output_type": "stream",
     "text": [
      "C:\\Users\\painter\\AppData\\Local\\Temp\\ipykernel_47148\\3181422731.py:159: MatplotlibDeprecationWarning: Auto-removal of overlapping axes is deprecated since 3.6 and will be removed two minor releases later; explicitly call ax.remove() as needed.\n",
      "  plt.subplot(211)\n",
      "C:\\Users\\painter\\AppData\\Local\\Temp\\ipykernel_47148\\3181422731.py:166: MatplotlibDeprecationWarning: Auto-removal of overlapping axes is deprecated since 3.6 and will be removed two minor releases later; explicitly call ax.remove() as needed.\n",
      "  plt.subplot(212)\n",
      "C:\\Users\\painter\\AppData\\Local\\Temp\\ipykernel_47148\\3181422731.py:174: UserWarning: The figure layout has changed to tight\n",
      "  plt.tight_layout()\n",
      "C:\\Users\\painter\\AppData\\Local\\Temp\\ipykernel_47148\\3181422731.py:159: MatplotlibDeprecationWarning: Auto-removal of overlapping axes is deprecated since 3.6 and will be removed two minor releases later; explicitly call ax.remove() as needed.\n",
      "  plt.subplot(211)\n",
      "C:\\Users\\painter\\AppData\\Local\\Temp\\ipykernel_47148\\3181422731.py:166: MatplotlibDeprecationWarning: Auto-removal of overlapping axes is deprecated since 3.6 and will be removed two minor releases later; explicitly call ax.remove() as needed.\n",
      "  plt.subplot(212)\n"
     ]
    },
    {
     "name": "stdout",
     "output_type": "stream",
     "text": [
      "Progress: [#                                                 ] 2.7% (n=8/300) --> elapsed time: 4.09s\r"
     ]
    },
    {
     "name": "stderr",
     "output_type": "stream",
     "text": [
      "C:\\Users\\painter\\AppData\\Local\\Temp\\ipykernel_47148\\3181422731.py:174: UserWarning: The figure layout has changed to tight\n",
      "  plt.tight_layout()\n",
      "C:\\Users\\painter\\AppData\\Local\\Temp\\ipykernel_47148\\3181422731.py:159: MatplotlibDeprecationWarning: Auto-removal of overlapping axes is deprecated since 3.6 and will be removed two minor releases later; explicitly call ax.remove() as needed.\n",
      "  plt.subplot(211)\n"
     ]
    },
    {
     "name": "stdout",
     "output_type": "stream",
     "text": [
      "Progress: [#                                                 ] 3.0% (n=9/300) --> elapsed time: 4.51s\r"
     ]
    },
    {
     "name": "stderr",
     "output_type": "stream",
     "text": [
      "C:\\Users\\painter\\AppData\\Local\\Temp\\ipykernel_47148\\3181422731.py:166: MatplotlibDeprecationWarning: Auto-removal of overlapping axes is deprecated since 3.6 and will be removed two minor releases later; explicitly call ax.remove() as needed.\n",
      "  plt.subplot(212)\n",
      "C:\\Users\\painter\\AppData\\Local\\Temp\\ipykernel_47148\\3181422731.py:174: UserWarning: The figure layout has changed to tight\n",
      "  plt.tight_layout()\n"
     ]
    },
    {
     "name": "stdout",
     "output_type": "stream",
     "text": [
      "Progress: [#                                                 ] 3.3% (n=10/300) --> elapsed time: 5.06s\r"
     ]
    },
    {
     "name": "stderr",
     "output_type": "stream",
     "text": [
      "C:\\Users\\painter\\AppData\\Local\\Temp\\ipykernel_47148\\3181422731.py:159: MatplotlibDeprecationWarning: Auto-removal of overlapping axes is deprecated since 3.6 and will be removed two minor releases later; explicitly call ax.remove() as needed.\n",
      "  plt.subplot(211)\n",
      "C:\\Users\\painter\\AppData\\Local\\Temp\\ipykernel_47148\\3181422731.py:166: MatplotlibDeprecationWarning: Auto-removal of overlapping axes is deprecated since 3.6 and will be removed two minor releases later; explicitly call ax.remove() as needed.\n",
      "  plt.subplot(212)\n",
      "C:\\Users\\painter\\AppData\\Local\\Temp\\ipykernel_47148\\3181422731.py:174: UserWarning: The figure layout has changed to tight\n",
      "  plt.tight_layout()\n",
      "C:\\Users\\painter\\AppData\\Local\\Temp\\ipykernel_47148\\3181422731.py:159: MatplotlibDeprecationWarning: Auto-removal of overlapping axes is deprecated since 3.6 and will be removed two minor releases later; explicitly call ax.remove() as needed.\n",
      "  plt.subplot(211)\n",
      "C:\\Users\\painter\\AppData\\Local\\Temp\\ipykernel_47148\\3181422731.py:166: MatplotlibDeprecationWarning: Auto-removal of overlapping axes is deprecated since 3.6 and will be removed two minor releases later; explicitly call ax.remove() as needed.\n",
      "  plt.subplot(212)\n"
     ]
    },
    {
     "name": "stdout",
     "output_type": "stream",
     "text": [
      "Progress: [#                                                 ] 3.3% (n=10/300) --> elapsed time: 5.44s\r"
     ]
    },
    {
     "name": "stderr",
     "output_type": "stream",
     "text": [
      "C:\\Users\\painter\\AppData\\Local\\Temp\\ipykernel_47148\\3181422731.py:174: UserWarning: The figure layout has changed to tight\n",
      "  plt.tight_layout()\n",
      "C:\\Users\\painter\\AppData\\Local\\Temp\\ipykernel_47148\\3181422731.py:159: MatplotlibDeprecationWarning: Auto-removal of overlapping axes is deprecated since 3.6 and will be removed two minor releases later; explicitly call ax.remove() as needed.\n",
      "  plt.subplot(211)\n",
      "C:\\Users\\painter\\AppData\\Local\\Temp\\ipykernel_47148\\3181422731.py:166: MatplotlibDeprecationWarning: Auto-removal of overlapping axes is deprecated since 3.6 and will be removed two minor releases later; explicitly call ax.remove() as needed.\n",
      "  plt.subplot(212)\n"
     ]
    },
    {
     "name": "stdout",
     "output_type": "stream",
     "text": [
      "Progress: [#                                                 ] 3.7% (n=11/300) --> elapsed time: 5.84s\r"
     ]
    },
    {
     "name": "stderr",
     "output_type": "stream",
     "text": [
      "C:\\Users\\painter\\AppData\\Local\\Temp\\ipykernel_47148\\3181422731.py:174: UserWarning: The figure layout has changed to tight\n",
      "  plt.tight_layout()\n",
      "C:\\Users\\painter\\AppData\\Local\\Temp\\ipykernel_47148\\3181422731.py:159: MatplotlibDeprecationWarning: Auto-removal of overlapping axes is deprecated since 3.6 and will be removed two minor releases later; explicitly call ax.remove() as needed.\n",
      "  plt.subplot(211)\n",
      "C:\\Users\\painter\\AppData\\Local\\Temp\\ipykernel_47148\\3181422731.py:166: MatplotlibDeprecationWarning: Auto-removal of overlapping axes is deprecated since 3.6 and will be removed two minor releases later; explicitly call ax.remove() as needed.\n",
      "  plt.subplot(212)\n"
     ]
    },
    {
     "name": "stdout",
     "output_type": "stream",
     "text": [
      "Progress: [##                                                ] 4.0% (n=12/300) --> elapsed time: 6.34s\r"
     ]
    },
    {
     "name": "stderr",
     "output_type": "stream",
     "text": [
      "C:\\Users\\painter\\AppData\\Local\\Temp\\ipykernel_47148\\3181422731.py:174: UserWarning: The figure layout has changed to tight\n",
      "  plt.tight_layout()\n",
      "C:\\Users\\painter\\AppData\\Local\\Temp\\ipykernel_47148\\3181422731.py:159: MatplotlibDeprecationWarning: Auto-removal of overlapping axes is deprecated since 3.6 and will be removed two minor releases later; explicitly call ax.remove() as needed.\n",
      "  plt.subplot(211)\n",
      "C:\\Users\\painter\\AppData\\Local\\Temp\\ipykernel_47148\\3181422731.py:166: MatplotlibDeprecationWarning: Auto-removal of overlapping axes is deprecated since 3.6 and will be removed two minor releases later; explicitly call ax.remove() as needed.\n",
      "  plt.subplot(212)\n"
     ]
    },
    {
     "name": "stdout",
     "output_type": "stream",
     "text": [
      "Progress: [##                                                ] 4.3% (n=13/300) --> elapsed time: 6.75s\r"
     ]
    },
    {
     "name": "stderr",
     "output_type": "stream",
     "text": [
      "C:\\Users\\painter\\AppData\\Local\\Temp\\ipykernel_47148\\3181422731.py:174: UserWarning: The figure layout has changed to tight\n",
      "  plt.tight_layout()\n",
      "C:\\Users\\painter\\AppData\\Local\\Temp\\ipykernel_47148\\3181422731.py:159: MatplotlibDeprecationWarning: Auto-removal of overlapping axes is deprecated since 3.6 and will be removed two minor releases later; explicitly call ax.remove() as needed.\n",
      "  plt.subplot(211)\n",
      "C:\\Users\\painter\\AppData\\Local\\Temp\\ipykernel_47148\\3181422731.py:166: MatplotlibDeprecationWarning: Auto-removal of overlapping axes is deprecated since 3.6 and will be removed two minor releases later; explicitly call ax.remove() as needed.\n",
      "  plt.subplot(212)\n"
     ]
    },
    {
     "name": "stdout",
     "output_type": "stream",
     "text": [
      "Progress: [##                                                ] 4.7% (n=14/300) --> elapsed time: 7.16s\r"
     ]
    },
    {
     "name": "stderr",
     "output_type": "stream",
     "text": [
      "C:\\Users\\painter\\AppData\\Local\\Temp\\ipykernel_47148\\3181422731.py:174: UserWarning: The figure layout has changed to tight\n",
      "  plt.tight_layout()\n",
      "C:\\Users\\painter\\AppData\\Local\\Temp\\ipykernel_47148\\3181422731.py:159: MatplotlibDeprecationWarning: Auto-removal of overlapping axes is deprecated since 3.6 and will be removed two minor releases later; explicitly call ax.remove() as needed.\n",
      "  plt.subplot(211)\n",
      "C:\\Users\\painter\\AppData\\Local\\Temp\\ipykernel_47148\\3181422731.py:166: MatplotlibDeprecationWarning: Auto-removal of overlapping axes is deprecated since 3.6 and will be removed two minor releases later; explicitly call ax.remove() as needed.\n",
      "  plt.subplot(212)\n"
     ]
    },
    {
     "name": "stdout",
     "output_type": "stream",
     "text": [
      "Progress: [##                                                ] 4.7% (n=14/300) --> elapsed time: 7.68s\r"
     ]
    },
    {
     "name": "stderr",
     "output_type": "stream",
     "text": [
      "C:\\Users\\painter\\AppData\\Local\\Temp\\ipykernel_47148\\3181422731.py:174: UserWarning: The figure layout has changed to tight\n",
      "  plt.tight_layout()\n",
      "C:\\Users\\painter\\AppData\\Local\\Temp\\ipykernel_47148\\3181422731.py:159: MatplotlibDeprecationWarning: Auto-removal of overlapping axes is deprecated since 3.6 and will be removed two minor releases later; explicitly call ax.remove() as needed.\n",
      "  plt.subplot(211)\n",
      "C:\\Users\\painter\\AppData\\Local\\Temp\\ipykernel_47148\\3181422731.py:166: MatplotlibDeprecationWarning: Auto-removal of overlapping axes is deprecated since 3.6 and will be removed two minor releases later; explicitly call ax.remove() as needed.\n",
      "  plt.subplot(212)\n"
     ]
    },
    {
     "name": "stdout",
     "output_type": "stream",
     "text": [
      "Progress: [##                                                ] 5.0% (n=15/300) --> elapsed time: 8.13s\r"
     ]
    },
    {
     "name": "stderr",
     "output_type": "stream",
     "text": [
      "C:\\Users\\painter\\AppData\\Local\\Temp\\ipykernel_47148\\3181422731.py:174: UserWarning: The figure layout has changed to tight\n",
      "  plt.tight_layout()\n",
      "C:\\Users\\painter\\AppData\\Local\\Temp\\ipykernel_47148\\3181422731.py:159: MatplotlibDeprecationWarning: Auto-removal of overlapping axes is deprecated since 3.6 and will be removed two minor releases later; explicitly call ax.remove() as needed.\n",
      "  plt.subplot(211)\n",
      "C:\\Users\\painter\\AppData\\Local\\Temp\\ipykernel_47148\\3181422731.py:166: MatplotlibDeprecationWarning: Auto-removal of overlapping axes is deprecated since 3.6 and will be removed two minor releases later; explicitly call ax.remove() as needed.\n",
      "  plt.subplot(212)\n"
     ]
    },
    {
     "name": "stdout",
     "output_type": "stream",
     "text": [
      "Progress: [##                                                ] 5.3% (n=16/300) --> elapsed time: 8.53s\r"
     ]
    },
    {
     "name": "stderr",
     "output_type": "stream",
     "text": [
      "C:\\Users\\painter\\AppData\\Local\\Temp\\ipykernel_47148\\3181422731.py:174: UserWarning: The figure layout has changed to tight\n",
      "  plt.tight_layout()\n",
      "C:\\Users\\painter\\AppData\\Local\\Temp\\ipykernel_47148\\3181422731.py:159: MatplotlibDeprecationWarning: Auto-removal of overlapping axes is deprecated since 3.6 and will be removed two minor releases later; explicitly call ax.remove() as needed.\n",
      "  plt.subplot(211)\n"
     ]
    },
    {
     "name": "stdout",
     "output_type": "stream",
     "text": [
      "Progress: [##                                                ] 5.7% (n=17/300) --> elapsed time: 8.93s\r"
     ]
    },
    {
     "name": "stderr",
     "output_type": "stream",
     "text": [
      "C:\\Users\\painter\\AppData\\Local\\Temp\\ipykernel_47148\\3181422731.py:166: MatplotlibDeprecationWarning: Auto-removal of overlapping axes is deprecated since 3.6 and will be removed two minor releases later; explicitly call ax.remove() as needed.\n",
      "  plt.subplot(212)\n",
      "C:\\Users\\painter\\AppData\\Local\\Temp\\ipykernel_47148\\3181422731.py:174: UserWarning: The figure layout has changed to tight\n",
      "  plt.tight_layout()\n",
      "C:\\Users\\painter\\AppData\\Local\\Temp\\ipykernel_47148\\3181422731.py:159: MatplotlibDeprecationWarning: Auto-removal of overlapping axes is deprecated since 3.6 and will be removed two minor releases later; explicitly call ax.remove() as needed.\n",
      "  plt.subplot(211)\n",
      "C:\\Users\\painter\\AppData\\Local\\Temp\\ipykernel_47148\\3181422731.py:166: MatplotlibDeprecationWarning: Auto-removal of overlapping axes is deprecated since 3.6 and will be removed two minor releases later; explicitly call ax.remove() as needed.\n",
      "  plt.subplot(212)\n"
     ]
    },
    {
     "name": "stdout",
     "output_type": "stream",
     "text": [
      "Progress: [###                                               ] 6.0% (n=18/300) --> elapsed time: 9.50s\r"
     ]
    },
    {
     "name": "stderr",
     "output_type": "stream",
     "text": [
      "C:\\Users\\painter\\AppData\\Local\\Temp\\ipykernel_47148\\3181422731.py:174: UserWarning: The figure layout has changed to tight\n",
      "  plt.tight_layout()\n",
      "C:\\Users\\painter\\AppData\\Local\\Temp\\ipykernel_47148\\3181422731.py:159: MatplotlibDeprecationWarning: Auto-removal of overlapping axes is deprecated since 3.6 and will be removed two minor releases later; explicitly call ax.remove() as needed.\n",
      "  plt.subplot(211)\n",
      "C:\\Users\\painter\\AppData\\Local\\Temp\\ipykernel_47148\\3181422731.py:166: MatplotlibDeprecationWarning: Auto-removal of overlapping axes is deprecated since 3.6 and will be removed two minor releases later; explicitly call ax.remove() as needed.\n",
      "  plt.subplot(212)\n"
     ]
    },
    {
     "name": "stdout",
     "output_type": "stream",
     "text": [
      "Progress: [###                                               ] 6.0% (n=18/300) --> elapsed time: 9.88s\r"
     ]
    },
    {
     "name": "stderr",
     "output_type": "stream",
     "text": [
      "C:\\Users\\painter\\AppData\\Local\\Temp\\ipykernel_47148\\3181422731.py:174: UserWarning: The figure layout has changed to tight\n",
      "  plt.tight_layout()\n",
      "C:\\Users\\painter\\AppData\\Local\\Temp\\ipykernel_47148\\3181422731.py:159: MatplotlibDeprecationWarning: Auto-removal of overlapping axes is deprecated since 3.6 and will be removed two minor releases later; explicitly call ax.remove() as needed.\n",
      "  plt.subplot(211)\n"
     ]
    },
    {
     "name": "stdout",
     "output_type": "stream",
     "text": [
      "Progress: [###                                               ] 6.3% (n=19/300) --> elapsed time: 10.31s\r"
     ]
    },
    {
     "name": "stderr",
     "output_type": "stream",
     "text": [
      "C:\\Users\\painter\\AppData\\Local\\Temp\\ipykernel_47148\\3181422731.py:166: MatplotlibDeprecationWarning: Auto-removal of overlapping axes is deprecated since 3.6 and will be removed two minor releases later; explicitly call ax.remove() as needed.\n",
      "  plt.subplot(212)\n",
      "C:\\Users\\painter\\AppData\\Local\\Temp\\ipykernel_47148\\3181422731.py:174: UserWarning: The figure layout has changed to tight\n",
      "  plt.tight_layout()\n"
     ]
    },
    {
     "name": "stdout",
     "output_type": "stream",
     "text": [
      "Progress: [###                                               ] 6.7% (n=20/300) --> elapsed time: 10.86s\r"
     ]
    },
    {
     "name": "stderr",
     "output_type": "stream",
     "text": [
      "C:\\Users\\painter\\AppData\\Local\\Temp\\ipykernel_47148\\3181422731.py:159: MatplotlibDeprecationWarning: Auto-removal of overlapping axes is deprecated since 3.6 and will be removed two minor releases later; explicitly call ax.remove() as needed.\n",
      "  plt.subplot(211)\n",
      "C:\\Users\\painter\\AppData\\Local\\Temp\\ipykernel_47148\\3181422731.py:166: MatplotlibDeprecationWarning: Auto-removal of overlapping axes is deprecated since 3.6 and will be removed two minor releases later; explicitly call ax.remove() as needed.\n",
      "  plt.subplot(212)\n",
      "C:\\Users\\painter\\AppData\\Local\\Temp\\ipykernel_47148\\3181422731.py:174: UserWarning: The figure layout has changed to tight\n",
      "  plt.tight_layout()\n",
      "C:\\Users\\painter\\AppData\\Local\\Temp\\ipykernel_47148\\3181422731.py:159: MatplotlibDeprecationWarning: Auto-removal of overlapping axes is deprecated since 3.6 and will be removed two minor releases later; explicitly call ax.remove() as needed.\n",
      "  plt.subplot(211)\n",
      "C:\\Users\\painter\\AppData\\Local\\Temp\\ipykernel_47148\\3181422731.py:166: MatplotlibDeprecationWarning: Auto-removal of overlapping axes is deprecated since 3.6 and will be removed two minor releases later; explicitly call ax.remove() as needed.\n",
      "  plt.subplot(212)\n"
     ]
    },
    {
     "name": "stdout",
     "output_type": "stream",
     "text": [
      "Progress: [###                                               ] 7.0% (n=21/300) --> elapsed time: 11.25s\r"
     ]
    },
    {
     "name": "stderr",
     "output_type": "stream",
     "text": [
      "C:\\Users\\painter\\AppData\\Local\\Temp\\ipykernel_47148\\3181422731.py:174: UserWarning: The figure layout has changed to tight\n",
      "  plt.tight_layout()\n",
      "C:\\Users\\painter\\AppData\\Local\\Temp\\ipykernel_47148\\3181422731.py:159: MatplotlibDeprecationWarning: Auto-removal of overlapping axes is deprecated since 3.6 and will be removed two minor releases later; explicitly call ax.remove() as needed.\n",
      "  plt.subplot(211)\n"
     ]
    },
    {
     "name": "stdout",
     "output_type": "stream",
     "text": [
      "Progress: [###                                               ] 7.0% (n=21/300) --> elapsed time: 11.68s\r"
     ]
    },
    {
     "name": "stderr",
     "output_type": "stream",
     "text": [
      "C:\\Users\\painter\\AppData\\Local\\Temp\\ipykernel_47148\\3181422731.py:166: MatplotlibDeprecationWarning: Auto-removal of overlapping axes is deprecated since 3.6 and will be removed two minor releases later; explicitly call ax.remove() as needed.\n",
      "  plt.subplot(212)\n",
      "C:\\Users\\painter\\AppData\\Local\\Temp\\ipykernel_47148\\3181422731.py:174: UserWarning: The figure layout has changed to tight\n",
      "  plt.tight_layout()\n"
     ]
    },
    {
     "name": "stdout",
     "output_type": "stream",
     "text": [
      "Progress: [###                                               ] 7.3% (n=22/300) --> elapsed time: 12.16s\r"
     ]
    },
    {
     "name": "stderr",
     "output_type": "stream",
     "text": [
      "C:\\Users\\painter\\AppData\\Local\\Temp\\ipykernel_47148\\3181422731.py:159: MatplotlibDeprecationWarning: Auto-removal of overlapping axes is deprecated since 3.6 and will be removed two minor releases later; explicitly call ax.remove() as needed.\n",
      "  plt.subplot(211)\n",
      "C:\\Users\\painter\\AppData\\Local\\Temp\\ipykernel_47148\\3181422731.py:166: MatplotlibDeprecationWarning: Auto-removal of overlapping axes is deprecated since 3.6 and will be removed two minor releases later; explicitly call ax.remove() as needed.\n",
      "  plt.subplot(212)\n",
      "C:\\Users\\painter\\AppData\\Local\\Temp\\ipykernel_47148\\3181422731.py:174: UserWarning: The figure layout has changed to tight\n",
      "  plt.tight_layout()\n",
      "C:\\Users\\painter\\AppData\\Local\\Temp\\ipykernel_47148\\3181422731.py:159: MatplotlibDeprecationWarning: Auto-removal of overlapping axes is deprecated since 3.6 and will be removed two minor releases later; explicitly call ax.remove() as needed.\n",
      "  plt.subplot(211)\n",
      "C:\\Users\\painter\\AppData\\Local\\Temp\\ipykernel_47148\\3181422731.py:166: MatplotlibDeprecationWarning: Auto-removal of overlapping axes is deprecated since 3.6 and will be removed two minor releases later; explicitly call ax.remove() as needed.\n",
      "  plt.subplot(212)\n"
     ]
    },
    {
     "name": "stdout",
     "output_type": "stream",
     "text": [
      "Progress: [###                                               ] 7.7% (n=23/300) --> elapsed time: 12.57s\r"
     ]
    },
    {
     "name": "stderr",
     "output_type": "stream",
     "text": [
      "C:\\Users\\painter\\AppData\\Local\\Temp\\ipykernel_47148\\3181422731.py:174: UserWarning: The figure layout has changed to tight\n",
      "  plt.tight_layout()\n",
      "C:\\Users\\painter\\AppData\\Local\\Temp\\ipykernel_47148\\3181422731.py:159: MatplotlibDeprecationWarning: Auto-removal of overlapping axes is deprecated since 3.6 and will be removed two minor releases later; explicitly call ax.remove() as needed.\n",
      "  plt.subplot(211)\n",
      "C:\\Users\\painter\\AppData\\Local\\Temp\\ipykernel_47148\\3181422731.py:166: MatplotlibDeprecationWarning: Auto-removal of overlapping axes is deprecated since 3.6 and will be removed two minor releases later; explicitly call ax.remove() as needed.\n",
      "  plt.subplot(212)\n"
     ]
    },
    {
     "name": "stdout",
     "output_type": "stream",
     "text": [
      "Progress: [####                                              ] 8.0% (n=24/300) --> elapsed time: 12.95s\r"
     ]
    },
    {
     "name": "stderr",
     "output_type": "stream",
     "text": [
      "C:\\Users\\painter\\AppData\\Local\\Temp\\ipykernel_47148\\3181422731.py:174: UserWarning: The figure layout has changed to tight\n",
      "  plt.tight_layout()\n",
      "C:\\Users\\painter\\AppData\\Local\\Temp\\ipykernel_47148\\3181422731.py:159: MatplotlibDeprecationWarning: Auto-removal of overlapping axes is deprecated since 3.6 and will be removed two minor releases later; explicitly call ax.remove() as needed.\n",
      "  plt.subplot(211)\n",
      "C:\\Users\\painter\\AppData\\Local\\Temp\\ipykernel_47148\\3181422731.py:166: MatplotlibDeprecationWarning: Auto-removal of overlapping axes is deprecated since 3.6 and will be removed two minor releases later; explicitly call ax.remove() as needed.\n",
      "  plt.subplot(212)\n"
     ]
    },
    {
     "name": "stdout",
     "output_type": "stream",
     "text": [
      "Progress: [####                                              ] 8.0% (n=24/300) --> elapsed time: 13.45s\r"
     ]
    },
    {
     "name": "stderr",
     "output_type": "stream",
     "text": [
      "C:\\Users\\painter\\AppData\\Local\\Temp\\ipykernel_47148\\3181422731.py:174: UserWarning: The figure layout has changed to tight\n",
      "  plt.tight_layout()\n",
      "C:\\Users\\painter\\AppData\\Local\\Temp\\ipykernel_47148\\3181422731.py:159: MatplotlibDeprecationWarning: Auto-removal of overlapping axes is deprecated since 3.6 and will be removed two minor releases later; explicitly call ax.remove() as needed.\n",
      "  plt.subplot(211)\n",
      "C:\\Users\\painter\\AppData\\Local\\Temp\\ipykernel_47148\\3181422731.py:166: MatplotlibDeprecationWarning: Auto-removal of overlapping axes is deprecated since 3.6 and will be removed two minor releases later; explicitly call ax.remove() as needed.\n",
      "  plt.subplot(212)\n"
     ]
    },
    {
     "name": "stdout",
     "output_type": "stream",
     "text": [
      "Progress: [####                                              ] 8.3% (n=25/300) --> elapsed time: 13.83s\r"
     ]
    },
    {
     "name": "stderr",
     "output_type": "stream",
     "text": [
      "C:\\Users\\painter\\AppData\\Local\\Temp\\ipykernel_47148\\3181422731.py:174: UserWarning: The figure layout has changed to tight\n",
      "  plt.tight_layout()\n",
      "C:\\Users\\painter\\AppData\\Local\\Temp\\ipykernel_47148\\3181422731.py:159: MatplotlibDeprecationWarning: Auto-removal of overlapping axes is deprecated since 3.6 and will be removed two minor releases later; explicitly call ax.remove() as needed.\n",
      "  plt.subplot(211)\n",
      "C:\\Users\\painter\\AppData\\Local\\Temp\\ipykernel_47148\\3181422731.py:166: MatplotlibDeprecationWarning: Auto-removal of overlapping axes is deprecated since 3.6 and will be removed two minor releases later; explicitly call ax.remove() as needed.\n",
      "  plt.subplot(212)\n"
     ]
    },
    {
     "name": "stdout",
     "output_type": "stream",
     "text": [
      "Progress: [####                                              ] 8.7% (n=26/300) --> elapsed time: 14.24s\r"
     ]
    },
    {
     "name": "stderr",
     "output_type": "stream",
     "text": [
      "C:\\Users\\painter\\AppData\\Local\\Temp\\ipykernel_47148\\3181422731.py:174: UserWarning: The figure layout has changed to tight\n",
      "  plt.tight_layout()\n"
     ]
    },
    {
     "name": "stdout",
     "output_type": "stream",
     "text": [
      "Progress: [####                                              ] 9.0% (n=27/300) --> elapsed time: 14.64s\r"
     ]
    },
    {
     "name": "stderr",
     "output_type": "stream",
     "text": [
      "C:\\Users\\painter\\AppData\\Local\\Temp\\ipykernel_47148\\3181422731.py:159: MatplotlibDeprecationWarning: Auto-removal of overlapping axes is deprecated since 3.6 and will be removed two minor releases later; explicitly call ax.remove() as needed.\n",
      "  plt.subplot(211)\n",
      "C:\\Users\\painter\\AppData\\Local\\Temp\\ipykernel_47148\\3181422731.py:166: MatplotlibDeprecationWarning: Auto-removal of overlapping axes is deprecated since 3.6 and will be removed two minor releases later; explicitly call ax.remove() as needed.\n",
      "  plt.subplot(212)\n",
      "C:\\Users\\painter\\AppData\\Local\\Temp\\ipykernel_47148\\3181422731.py:174: UserWarning: The figure layout has changed to tight\n",
      "  plt.tight_layout()\n",
      "C:\\Users\\painter\\AppData\\Local\\Temp\\ipykernel_47148\\3181422731.py:159: MatplotlibDeprecationWarning: Auto-removal of overlapping axes is deprecated since 3.6 and will be removed two minor releases later; explicitly call ax.remove() as needed.\n",
      "  plt.subplot(211)\n",
      "C:\\Users\\painter\\AppData\\Local\\Temp\\ipykernel_47148\\3181422731.py:166: MatplotlibDeprecationWarning: Auto-removal of overlapping axes is deprecated since 3.6 and will be removed two minor releases later; explicitly call ax.remove() as needed.\n",
      "  plt.subplot(212)\n"
     ]
    },
    {
     "name": "stdout",
     "output_type": "stream",
     "text": [
      "Progress: [####                                              ] 9.3% (n=28/300) --> elapsed time: 15.15s\r"
     ]
    },
    {
     "name": "stderr",
     "output_type": "stream",
     "text": [
      "C:\\Users\\painter\\AppData\\Local\\Temp\\ipykernel_47148\\3181422731.py:174: UserWarning: The figure layout has changed to tight\n",
      "  plt.tight_layout()\n",
      "C:\\Users\\painter\\AppData\\Local\\Temp\\ipykernel_47148\\3181422731.py:159: MatplotlibDeprecationWarning: Auto-removal of overlapping axes is deprecated since 3.6 and will be removed two minor releases later; explicitly call ax.remove() as needed.\n",
      "  plt.subplot(211)\n",
      "C:\\Users\\painter\\AppData\\Local\\Temp\\ipykernel_47148\\3181422731.py:166: MatplotlibDeprecationWarning: Auto-removal of overlapping axes is deprecated since 3.6 and will be removed two minor releases later; explicitly call ax.remove() as needed.\n",
      "  plt.subplot(212)\n"
     ]
    },
    {
     "name": "stdout",
     "output_type": "stream",
     "text": [
      "Progress: [####                                              ] 9.3% (n=28/300) --> elapsed time: 15.59s\r"
     ]
    },
    {
     "name": "stderr",
     "output_type": "stream",
     "text": [
      "C:\\Users\\painter\\AppData\\Local\\Temp\\ipykernel_47148\\3181422731.py:174: UserWarning: The figure layout has changed to tight\n",
      "  plt.tight_layout()\n",
      "C:\\Users\\painter\\AppData\\Local\\Temp\\ipykernel_47148\\3181422731.py:159: MatplotlibDeprecationWarning: Auto-removal of overlapping axes is deprecated since 3.6 and will be removed two minor releases later; explicitly call ax.remove() as needed.\n",
      "  plt.subplot(211)\n",
      "C:\\Users\\painter\\AppData\\Local\\Temp\\ipykernel_47148\\3181422731.py:166: MatplotlibDeprecationWarning: Auto-removal of overlapping axes is deprecated since 3.6 and will be removed two minor releases later; explicitly call ax.remove() as needed.\n",
      "  plt.subplot(212)\n"
     ]
    },
    {
     "name": "stdout",
     "output_type": "stream",
     "text": [
      "Progress: [####                                              ] 9.7% (n=29/300) --> elapsed time: 15.96s\r"
     ]
    },
    {
     "name": "stderr",
     "output_type": "stream",
     "text": [
      "C:\\Users\\painter\\AppData\\Local\\Temp\\ipykernel_47148\\3181422731.py:174: UserWarning: The figure layout has changed to tight\n",
      "  plt.tight_layout()\n",
      "C:\\Users\\painter\\AppData\\Local\\Temp\\ipykernel_47148\\3181422731.py:159: MatplotlibDeprecationWarning: Auto-removal of overlapping axes is deprecated since 3.6 and will be removed two minor releases later; explicitly call ax.remove() as needed.\n",
      "  plt.subplot(211)\n",
      "C:\\Users\\painter\\AppData\\Local\\Temp\\ipykernel_47148\\3181422731.py:166: MatplotlibDeprecationWarning: Auto-removal of overlapping axes is deprecated since 3.6 and will be removed two minor releases later; explicitly call ax.remove() as needed.\n",
      "  plt.subplot(212)\n"
     ]
    },
    {
     "name": "stdout",
     "output_type": "stream",
     "text": [
      "Progress: [#####                                             ] 10.0% (n=30/300) --> elapsed time: 16.53s\r"
     ]
    },
    {
     "name": "stderr",
     "output_type": "stream",
     "text": [
      "C:\\Users\\painter\\AppData\\Local\\Temp\\ipykernel_47148\\3181422731.py:174: UserWarning: The figure layout has changed to tight\n",
      "  plt.tight_layout()\n",
      "C:\\Users\\painter\\AppData\\Local\\Temp\\ipykernel_47148\\3181422731.py:159: MatplotlibDeprecationWarning: Auto-removal of overlapping axes is deprecated since 3.6 and will be removed two minor releases later; explicitly call ax.remove() as needed.\n",
      "  plt.subplot(211)\n",
      "C:\\Users\\painter\\AppData\\Local\\Temp\\ipykernel_47148\\3181422731.py:166: MatplotlibDeprecationWarning: Auto-removal of overlapping axes is deprecated since 3.6 and will be removed two minor releases later; explicitly call ax.remove() as needed.\n",
      "  plt.subplot(212)\n"
     ]
    },
    {
     "name": "stdout",
     "output_type": "stream",
     "text": [
      "Progress: [#####                                             ] 10.3% (n=31/300) --> elapsed time: 16.92s\r"
     ]
    },
    {
     "name": "stderr",
     "output_type": "stream",
     "text": [
      "C:\\Users\\painter\\AppData\\Local\\Temp\\ipykernel_47148\\3181422731.py:174: UserWarning: The figure layout has changed to tight\n",
      "  plt.tight_layout()\n",
      "C:\\Users\\painter\\AppData\\Local\\Temp\\ipykernel_47148\\3181422731.py:159: MatplotlibDeprecationWarning: Auto-removal of overlapping axes is deprecated since 3.6 and will be removed two minor releases later; explicitly call ax.remove() as needed.\n",
      "  plt.subplot(211)\n",
      "C:\\Users\\painter\\AppData\\Local\\Temp\\ipykernel_47148\\3181422731.py:166: MatplotlibDeprecationWarning: Auto-removal of overlapping axes is deprecated since 3.6 and will be removed two minor releases later; explicitly call ax.remove() as needed.\n",
      "  plt.subplot(212)\n"
     ]
    },
    {
     "name": "stdout",
     "output_type": "stream",
     "text": [
      "Progress: [#####                                             ] 10.3% (n=31/300) --> elapsed time: 17.33s\r"
     ]
    },
    {
     "name": "stderr",
     "output_type": "stream",
     "text": [
      "C:\\Users\\painter\\AppData\\Local\\Temp\\ipykernel_47148\\3181422731.py:174: UserWarning: The figure layout has changed to tight\n",
      "  plt.tight_layout()\n",
      "C:\\Users\\painter\\AppData\\Local\\Temp\\ipykernel_47148\\3181422731.py:159: MatplotlibDeprecationWarning: Auto-removal of overlapping axes is deprecated since 3.6 and will be removed two minor releases later; explicitly call ax.remove() as needed.\n",
      "  plt.subplot(211)\n",
      "C:\\Users\\painter\\AppData\\Local\\Temp\\ipykernel_47148\\3181422731.py:166: MatplotlibDeprecationWarning: Auto-removal of overlapping axes is deprecated since 3.6 and will be removed two minor releases later; explicitly call ax.remove() as needed.\n",
      "  plt.subplot(212)\n"
     ]
    },
    {
     "name": "stdout",
     "output_type": "stream",
     "text": [
      "Progress: [#####                                             ] 10.7% (n=32/300) --> elapsed time: 17.84s\r"
     ]
    },
    {
     "name": "stderr",
     "output_type": "stream",
     "text": [
      "C:\\Users\\painter\\AppData\\Local\\Temp\\ipykernel_47148\\3181422731.py:174: UserWarning: The figure layout has changed to tight\n",
      "  plt.tight_layout()\n",
      "C:\\Users\\painter\\AppData\\Local\\Temp\\ipykernel_47148\\3181422731.py:159: MatplotlibDeprecationWarning: Auto-removal of overlapping axes is deprecated since 3.6 and will be removed two minor releases later; explicitly call ax.remove() as needed.\n",
      "  plt.subplot(211)\n",
      "C:\\Users\\painter\\AppData\\Local\\Temp\\ipykernel_47148\\3181422731.py:166: MatplotlibDeprecationWarning: Auto-removal of overlapping axes is deprecated since 3.6 and will be removed two minor releases later; explicitly call ax.remove() as needed.\n",
      "  plt.subplot(212)\n"
     ]
    },
    {
     "name": "stdout",
     "output_type": "stream",
     "text": [
      "Progress: [#####                                             ] 11.0% (n=33/300) --> elapsed time: 18.22s\r"
     ]
    },
    {
     "name": "stderr",
     "output_type": "stream",
     "text": [
      "C:\\Users\\painter\\AppData\\Local\\Temp\\ipykernel_47148\\3181422731.py:174: UserWarning: The figure layout has changed to tight\n",
      "  plt.tight_layout()\n",
      "C:\\Users\\painter\\AppData\\Local\\Temp\\ipykernel_47148\\3181422731.py:159: MatplotlibDeprecationWarning: Auto-removal of overlapping axes is deprecated since 3.6 and will be removed two minor releases later; explicitly call ax.remove() as needed.\n",
      "  plt.subplot(211)\n",
      "C:\\Users\\painter\\AppData\\Local\\Temp\\ipykernel_47148\\3181422731.py:166: MatplotlibDeprecationWarning: Auto-removal of overlapping axes is deprecated since 3.6 and will be removed two minor releases later; explicitly call ax.remove() as needed.\n",
      "  plt.subplot(212)\n"
     ]
    },
    {
     "name": "stdout",
     "output_type": "stream",
     "text": [
      "Progress: [#####                                             ] 11.3% (n=34/300) --> elapsed time: 18.61s\r"
     ]
    },
    {
     "name": "stderr",
     "output_type": "stream",
     "text": [
      "C:\\Users\\painter\\AppData\\Local\\Temp\\ipykernel_47148\\3181422731.py:174: UserWarning: The figure layout has changed to tight\n",
      "  plt.tight_layout()\n",
      "C:\\Users\\painter\\AppData\\Local\\Temp\\ipykernel_47148\\3181422731.py:159: MatplotlibDeprecationWarning: Auto-removal of overlapping axes is deprecated since 3.6 and will be removed two minor releases later; explicitly call ax.remove() as needed.\n",
      "  plt.subplot(211)\n"
     ]
    },
    {
     "name": "stdout",
     "output_type": "stream",
     "text": [
      "Progress: [#####                                             ] 11.3% (n=34/300) --> elapsed time: 19.00s\r"
     ]
    },
    {
     "name": "stderr",
     "output_type": "stream",
     "text": [
      "C:\\Users\\painter\\AppData\\Local\\Temp\\ipykernel_47148\\3181422731.py:166: MatplotlibDeprecationWarning: Auto-removal of overlapping axes is deprecated since 3.6 and will be removed two minor releases later; explicitly call ax.remove() as needed.\n",
      "  plt.subplot(212)\n",
      "C:\\Users\\painter\\AppData\\Local\\Temp\\ipykernel_47148\\3181422731.py:174: UserWarning: The figure layout has changed to tight\n",
      "  plt.tight_layout()\n",
      "C:\\Users\\painter\\AppData\\Local\\Temp\\ipykernel_47148\\3181422731.py:159: MatplotlibDeprecationWarning: Auto-removal of overlapping axes is deprecated since 3.6 and will be removed two minor releases later; explicitly call ax.remove() as needed.\n",
      "  plt.subplot(211)\n",
      "C:\\Users\\painter\\AppData\\Local\\Temp\\ipykernel_47148\\3181422731.py:166: MatplotlibDeprecationWarning: Auto-removal of overlapping axes is deprecated since 3.6 and will be removed two minor releases later; explicitly call ax.remove() as needed.\n",
      "  plt.subplot(212)\n"
     ]
    },
    {
     "name": "stdout",
     "output_type": "stream",
     "text": [
      "Progress: [#####                                             ] 11.7% (n=35/300) --> elapsed time: 19.59s\r"
     ]
    },
    {
     "name": "stderr",
     "output_type": "stream",
     "text": [
      "C:\\Users\\painter\\AppData\\Local\\Temp\\ipykernel_47148\\3181422731.py:174: UserWarning: The figure layout has changed to tight\n",
      "  plt.tight_layout()\n",
      "C:\\Users\\painter\\AppData\\Local\\Temp\\ipykernel_47148\\3181422731.py:159: MatplotlibDeprecationWarning: Auto-removal of overlapping axes is deprecated since 3.6 and will be removed two minor releases later; explicitly call ax.remove() as needed.\n",
      "  plt.subplot(211)\n",
      "C:\\Users\\painter\\AppData\\Local\\Temp\\ipykernel_47148\\3181422731.py:166: MatplotlibDeprecationWarning: Auto-removal of overlapping axes is deprecated since 3.6 and will be removed two minor releases later; explicitly call ax.remove() as needed.\n",
      "  plt.subplot(212)\n"
     ]
    },
    {
     "name": "stdout",
     "output_type": "stream",
     "text": [
      "Progress: [######                                            ] 12.0% (n=36/300) --> elapsed time: 20.01s\r"
     ]
    },
    {
     "name": "stderr",
     "output_type": "stream",
     "text": [
      "C:\\Users\\painter\\AppData\\Local\\Temp\\ipykernel_47148\\3181422731.py:174: UserWarning: The figure layout has changed to tight\n",
      "  plt.tight_layout()\n",
      "C:\\Users\\painter\\AppData\\Local\\Temp\\ipykernel_47148\\3181422731.py:159: MatplotlibDeprecationWarning: Auto-removal of overlapping axes is deprecated since 3.6 and will be removed two minor releases later; explicitly call ax.remove() as needed.\n",
      "  plt.subplot(211)\n"
     ]
    },
    {
     "name": "stdout",
     "output_type": "stream",
     "text": [
      "Progress: [######                                            ] 12.3% (n=37/300) --> elapsed time: 20.40s\r"
     ]
    },
    {
     "name": "stderr",
     "output_type": "stream",
     "text": [
      "C:\\Users\\painter\\AppData\\Local\\Temp\\ipykernel_47148\\3181422731.py:166: MatplotlibDeprecationWarning: Auto-removal of overlapping axes is deprecated since 3.6 and will be removed two minor releases later; explicitly call ax.remove() as needed.\n",
      "  plt.subplot(212)\n",
      "C:\\Users\\painter\\AppData\\Local\\Temp\\ipykernel_47148\\3181422731.py:174: UserWarning: The figure layout has changed to tight\n",
      "  plt.tight_layout()\n",
      "C:\\Users\\painter\\AppData\\Local\\Temp\\ipykernel_47148\\3181422731.py:159: MatplotlibDeprecationWarning: Auto-removal of overlapping axes is deprecated since 3.6 and will be removed two minor releases later; explicitly call ax.remove() as needed.\n",
      "  plt.subplot(211)\n",
      "C:\\Users\\painter\\AppData\\Local\\Temp\\ipykernel_47148\\3181422731.py:166: MatplotlibDeprecationWarning: Auto-removal of overlapping axes is deprecated since 3.6 and will be removed two minor releases later; explicitly call ax.remove() as needed.\n",
      "  plt.subplot(212)\n"
     ]
    },
    {
     "name": "stdout",
     "output_type": "stream",
     "text": [
      "Progress: [######                                            ] 12.7% (n=38/300) --> elapsed time: 20.99s\r"
     ]
    },
    {
     "name": "stderr",
     "output_type": "stream",
     "text": [
      "C:\\Users\\painter\\AppData\\Local\\Temp\\ipykernel_47148\\3181422731.py:174: UserWarning: The figure layout has changed to tight\n",
      "  plt.tight_layout()\n",
      "C:\\Users\\painter\\AppData\\Local\\Temp\\ipykernel_47148\\3181422731.py:159: MatplotlibDeprecationWarning: Auto-removal of overlapping axes is deprecated since 3.6 and will be removed two minor releases later; explicitly call ax.remove() as needed.\n",
      "  plt.subplot(211)\n",
      "C:\\Users\\painter\\AppData\\Local\\Temp\\ipykernel_47148\\3181422731.py:166: MatplotlibDeprecationWarning: Auto-removal of overlapping axes is deprecated since 3.6 and will be removed two minor releases later; explicitly call ax.remove() as needed.\n",
      "  plt.subplot(212)\n"
     ]
    },
    {
     "name": "stdout",
     "output_type": "stream",
     "text": [
      "Progress: [######                                            ] 12.7% (n=38/300) --> elapsed time: 21.39s\r"
     ]
    },
    {
     "name": "stderr",
     "output_type": "stream",
     "text": [
      "C:\\Users\\painter\\AppData\\Local\\Temp\\ipykernel_47148\\3181422731.py:174: UserWarning: The figure layout has changed to tight\n",
      "  plt.tight_layout()\n",
      "C:\\Users\\painter\\AppData\\Local\\Temp\\ipykernel_47148\\3181422731.py:159: MatplotlibDeprecationWarning: Auto-removal of overlapping axes is deprecated since 3.6 and will be removed two minor releases later; explicitly call ax.remove() as needed.\n",
      "  plt.subplot(211)\n",
      "C:\\Users\\painter\\AppData\\Local\\Temp\\ipykernel_47148\\3181422731.py:166: MatplotlibDeprecationWarning: Auto-removal of overlapping axes is deprecated since 3.6 and will be removed two minor releases later; explicitly call ax.remove() as needed.\n",
      "  plt.subplot(212)\n"
     ]
    },
    {
     "name": "stdout",
     "output_type": "stream",
     "text": [
      "Progress: [######                                            ] 13.0% (n=39/300) --> elapsed time: 21.81s\r"
     ]
    },
    {
     "name": "stderr",
     "output_type": "stream",
     "text": [
      "C:\\Users\\painter\\AppData\\Local\\Temp\\ipykernel_47148\\3181422731.py:174: UserWarning: The figure layout has changed to tight\n",
      "  plt.tight_layout()\n",
      "C:\\Users\\painter\\AppData\\Local\\Temp\\ipykernel_47148\\3181422731.py:159: MatplotlibDeprecationWarning: Auto-removal of overlapping axes is deprecated since 3.6 and will be removed two minor releases later; explicitly call ax.remove() as needed.\n",
      "  plt.subplot(211)\n",
      "C:\\Users\\painter\\AppData\\Local\\Temp\\ipykernel_47148\\3181422731.py:166: MatplotlibDeprecationWarning: Auto-removal of overlapping axes is deprecated since 3.6 and will be removed two minor releases later; explicitly call ax.remove() as needed.\n",
      "  plt.subplot(212)\n"
     ]
    },
    {
     "name": "stdout",
     "output_type": "stream",
     "text": [
      "Progress: [######                                            ] 13.3% (n=40/300) --> elapsed time: 22.35s\r"
     ]
    },
    {
     "name": "stderr",
     "output_type": "stream",
     "text": [
      "C:\\Users\\painter\\AppData\\Local\\Temp\\ipykernel_47148\\3181422731.py:174: UserWarning: The figure layout has changed to tight\n",
      "  plt.tight_layout()\n",
      "C:\\Users\\painter\\AppData\\Local\\Temp\\ipykernel_47148\\3181422731.py:159: MatplotlibDeprecationWarning: Auto-removal of overlapping axes is deprecated since 3.6 and will be removed two minor releases later; explicitly call ax.remove() as needed.\n",
      "  plt.subplot(211)\n",
      "C:\\Users\\painter\\AppData\\Local\\Temp\\ipykernel_47148\\3181422731.py:166: MatplotlibDeprecationWarning: Auto-removal of overlapping axes is deprecated since 3.6 and will be removed two minor releases later; explicitly call ax.remove() as needed.\n",
      "  plt.subplot(212)\n"
     ]
    },
    {
     "name": "stdout",
     "output_type": "stream",
     "text": [
      "Progress: [######                                            ] 13.7% (n=41/300) --> elapsed time: 22.74s\r"
     ]
    },
    {
     "name": "stderr",
     "output_type": "stream",
     "text": [
      "C:\\Users\\painter\\AppData\\Local\\Temp\\ipykernel_47148\\3181422731.py:174: UserWarning: The figure layout has changed to tight\n",
      "  plt.tight_layout()\n",
      "C:\\Users\\painter\\AppData\\Local\\Temp\\ipykernel_47148\\3181422731.py:159: MatplotlibDeprecationWarning: Auto-removal of overlapping axes is deprecated since 3.6 and will be removed two minor releases later; explicitly call ax.remove() as needed.\n",
      "  plt.subplot(211)\n",
      "C:\\Users\\painter\\AppData\\Local\\Temp\\ipykernel_47148\\3181422731.py:166: MatplotlibDeprecationWarning: Auto-removal of overlapping axes is deprecated since 3.6 and will be removed two minor releases later; explicitly call ax.remove() as needed.\n",
      "  plt.subplot(212)\n"
     ]
    },
    {
     "name": "stdout",
     "output_type": "stream",
     "text": [
      "Progress: [######                                            ] 13.7% (n=41/300) --> elapsed time: 23.19s\r"
     ]
    },
    {
     "name": "stderr",
     "output_type": "stream",
     "text": [
      "C:\\Users\\painter\\AppData\\Local\\Temp\\ipykernel_47148\\3181422731.py:174: UserWarning: The figure layout has changed to tight\n",
      "  plt.tight_layout()\n",
      "C:\\Users\\painter\\AppData\\Local\\Temp\\ipykernel_47148\\3181422731.py:159: MatplotlibDeprecationWarning: Auto-removal of overlapping axes is deprecated since 3.6 and will be removed two minor releases later; explicitly call ax.remove() as needed.\n",
      "  plt.subplot(211)\n",
      "C:\\Users\\painter\\AppData\\Local\\Temp\\ipykernel_47148\\3181422731.py:166: MatplotlibDeprecationWarning: Auto-removal of overlapping axes is deprecated since 3.6 and will be removed two minor releases later; explicitly call ax.remove() as needed.\n",
      "  plt.subplot(212)\n"
     ]
    },
    {
     "name": "stdout",
     "output_type": "stream",
     "text": [
      "Progress: [#######                                           ] 14.3% (n=43/300) --> elapsed time: 23.72s\r"
     ]
    },
    {
     "name": "stderr",
     "output_type": "stream",
     "text": [
      "C:\\Users\\painter\\AppData\\Local\\Temp\\ipykernel_47148\\3181422731.py:174: UserWarning: The figure layout has changed to tight\n",
      "  plt.tight_layout()\n",
      "C:\\Users\\painter\\AppData\\Local\\Temp\\ipykernel_47148\\3181422731.py:159: MatplotlibDeprecationWarning: Auto-removal of overlapping axes is deprecated since 3.6 and will be removed two minor releases later; explicitly call ax.remove() as needed.\n",
      "  plt.subplot(211)\n",
      "C:\\Users\\painter\\AppData\\Local\\Temp\\ipykernel_47148\\3181422731.py:166: MatplotlibDeprecationWarning: Auto-removal of overlapping axes is deprecated since 3.6 and will be removed two minor releases later; explicitly call ax.remove() as needed.\n",
      "  plt.subplot(212)\n"
     ]
    },
    {
     "name": "stdout",
     "output_type": "stream",
     "text": [
      "Progress: [#######                                           ] 14.3% (n=43/300) --> elapsed time: 24.12s\r"
     ]
    },
    {
     "name": "stderr",
     "output_type": "stream",
     "text": [
      "C:\\Users\\painter\\AppData\\Local\\Temp\\ipykernel_47148\\3181422731.py:174: UserWarning: The figure layout has changed to tight\n",
      "  plt.tight_layout()\n",
      "C:\\Users\\painter\\AppData\\Local\\Temp\\ipykernel_47148\\3181422731.py:159: MatplotlibDeprecationWarning: Auto-removal of overlapping axes is deprecated since 3.6 and will be removed two minor releases later; explicitly call ax.remove() as needed.\n",
      "  plt.subplot(211)\n",
      "C:\\Users\\painter\\AppData\\Local\\Temp\\ipykernel_47148\\3181422731.py:166: MatplotlibDeprecationWarning: Auto-removal of overlapping axes is deprecated since 3.6 and will be removed two minor releases later; explicitly call ax.remove() as needed.\n",
      "  plt.subplot(212)\n"
     ]
    },
    {
     "name": "stdout",
     "output_type": "stream",
     "text": [
      "Progress: [#######                                           ] 14.7% (n=44/300) --> elapsed time: 24.51s\r"
     ]
    },
    {
     "name": "stderr",
     "output_type": "stream",
     "text": [
      "C:\\Users\\painter\\AppData\\Local\\Temp\\ipykernel_47148\\3181422731.py:174: UserWarning: The figure layout has changed to tight\n",
      "  plt.tight_layout()\n",
      "C:\\Users\\painter\\AppData\\Local\\Temp\\ipykernel_47148\\3181422731.py:159: MatplotlibDeprecationWarning: Auto-removal of overlapping axes is deprecated since 3.6 and will be removed two minor releases later; explicitly call ax.remove() as needed.\n",
      "  plt.subplot(211)\n"
     ]
    },
    {
     "name": "stdout",
     "output_type": "stream",
     "text": [
      "Progress: [#######                                           ] 15.0% (n=45/300) --> elapsed time: 24.94s\r"
     ]
    },
    {
     "name": "stderr",
     "output_type": "stream",
     "text": [
      "C:\\Users\\painter\\AppData\\Local\\Temp\\ipykernel_47148\\3181422731.py:166: MatplotlibDeprecationWarning: Auto-removal of overlapping axes is deprecated since 3.6 and will be removed two minor releases later; explicitly call ax.remove() as needed.\n",
      "  plt.subplot(212)\n",
      "C:\\Users\\painter\\AppData\\Local\\Temp\\ipykernel_47148\\3181422731.py:174: UserWarning: The figure layout has changed to tight\n",
      "  plt.tight_layout()\n",
      "C:\\Users\\painter\\AppData\\Local\\Temp\\ipykernel_47148\\3181422731.py:159: MatplotlibDeprecationWarning: Auto-removal of overlapping axes is deprecated since 3.6 and will be removed two minor releases later; explicitly call ax.remove() as needed.\n",
      "  plt.subplot(211)\n",
      "C:\\Users\\painter\\AppData\\Local\\Temp\\ipykernel_47148\\3181422731.py:166: MatplotlibDeprecationWarning: Auto-removal of overlapping axes is deprecated since 3.6 and will be removed two minor releases later; explicitly call ax.remove() as needed.\n",
      "  plt.subplot(212)\n"
     ]
    },
    {
     "name": "stdout",
     "output_type": "stream",
     "text": [
      "Progress: [#######                                           ] 15.3% (n=46/300) --> elapsed time: 25.49s\r"
     ]
    },
    {
     "name": "stderr",
     "output_type": "stream",
     "text": [
      "C:\\Users\\painter\\AppData\\Local\\Temp\\ipykernel_47148\\3181422731.py:174: UserWarning: The figure layout has changed to tight\n",
      "  plt.tight_layout()\n",
      "C:\\Users\\painter\\AppData\\Local\\Temp\\ipykernel_47148\\3181422731.py:159: MatplotlibDeprecationWarning: Auto-removal of overlapping axes is deprecated since 3.6 and will be removed two minor releases later; explicitly call ax.remove() as needed.\n",
      "  plt.subplot(211)\n",
      "C:\\Users\\painter\\AppData\\Local\\Temp\\ipykernel_47148\\3181422731.py:166: MatplotlibDeprecationWarning: Auto-removal of overlapping axes is deprecated since 3.6 and will be removed two minor releases later; explicitly call ax.remove() as needed.\n",
      "  plt.subplot(212)\n"
     ]
    },
    {
     "name": "stdout",
     "output_type": "stream",
     "text": [
      "Progress: [#######                                           ] 15.3% (n=46/300) --> elapsed time: 25.89s\r"
     ]
    },
    {
     "name": "stderr",
     "output_type": "stream",
     "text": [
      "C:\\Users\\painter\\AppData\\Local\\Temp\\ipykernel_47148\\3181422731.py:174: UserWarning: The figure layout has changed to tight\n",
      "  plt.tight_layout()\n",
      "C:\\Users\\painter\\AppData\\Local\\Temp\\ipykernel_47148\\3181422731.py:159: MatplotlibDeprecationWarning: Auto-removal of overlapping axes is deprecated since 3.6 and will be removed two minor releases later; explicitly call ax.remove() as needed.\n",
      "  plt.subplot(211)\n"
     ]
    },
    {
     "name": "stdout",
     "output_type": "stream",
     "text": [
      "Progress: [#######                                           ] 15.7% (n=47/300) --> elapsed time: 26.29s\r"
     ]
    },
    {
     "name": "stderr",
     "output_type": "stream",
     "text": [
      "C:\\Users\\painter\\AppData\\Local\\Temp\\ipykernel_47148\\3181422731.py:166: MatplotlibDeprecationWarning: Auto-removal of overlapping axes is deprecated since 3.6 and will be removed two minor releases later; explicitly call ax.remove() as needed.\n",
      "  plt.subplot(212)\n",
      "C:\\Users\\painter\\AppData\\Local\\Temp\\ipykernel_47148\\3181422731.py:174: UserWarning: The figure layout has changed to tight\n",
      "  plt.tight_layout()\n"
     ]
    },
    {
     "name": "stdout",
     "output_type": "stream",
     "text": [
      "Progress: [########                                          ] 16.0% (n=48/300) --> elapsed time: 26.80s\r"
     ]
    },
    {
     "name": "stderr",
     "output_type": "stream",
     "text": [
      "C:\\Users\\painter\\AppData\\Local\\Temp\\ipykernel_47148\\3181422731.py:159: MatplotlibDeprecationWarning: Auto-removal of overlapping axes is deprecated since 3.6 and will be removed two minor releases later; explicitly call ax.remove() as needed.\n",
      "  plt.subplot(211)\n",
      "C:\\Users\\painter\\AppData\\Local\\Temp\\ipykernel_47148\\3181422731.py:166: MatplotlibDeprecationWarning: Auto-removal of overlapping axes is deprecated since 3.6 and will be removed two minor releases later; explicitly call ax.remove() as needed.\n",
      "  plt.subplot(212)\n",
      "C:\\Users\\painter\\AppData\\Local\\Temp\\ipykernel_47148\\3181422731.py:174: UserWarning: The figure layout has changed to tight\n",
      "  plt.tight_layout()\n",
      "C:\\Users\\painter\\AppData\\Local\\Temp\\ipykernel_47148\\3181422731.py:159: MatplotlibDeprecationWarning: Auto-removal of overlapping axes is deprecated since 3.6 and will be removed two minor releases later; explicitly call ax.remove() as needed.\n",
      "  plt.subplot(211)\n",
      "C:\\Users\\painter\\AppData\\Local\\Temp\\ipykernel_47148\\3181422731.py:166: MatplotlibDeprecationWarning: Auto-removal of overlapping axes is deprecated since 3.6 and will be removed two minor releases later; explicitly call ax.remove() as needed.\n",
      "  plt.subplot(212)\n"
     ]
    },
    {
     "name": "stdout",
     "output_type": "stream",
     "text": [
      "Progress: [########                                          ] 16.3% (n=49/300) --> elapsed time: 27.19s\r"
     ]
    },
    {
     "name": "stderr",
     "output_type": "stream",
     "text": [
      "C:\\Users\\painter\\AppData\\Local\\Temp\\ipykernel_47148\\3181422731.py:174: UserWarning: The figure layout has changed to tight\n",
      "  plt.tight_layout()\n",
      "C:\\Users\\painter\\AppData\\Local\\Temp\\ipykernel_47148\\3181422731.py:159: MatplotlibDeprecationWarning: Auto-removal of overlapping axes is deprecated since 3.6 and will be removed two minor releases later; explicitly call ax.remove() as needed.\n",
      "  plt.subplot(211)\n",
      "C:\\Users\\painter\\AppData\\Local\\Temp\\ipykernel_47148\\3181422731.py:166: MatplotlibDeprecationWarning: Auto-removal of overlapping axes is deprecated since 3.6 and will be removed two minor releases later; explicitly call ax.remove() as needed.\n",
      "  plt.subplot(212)\n"
     ]
    },
    {
     "name": "stdout",
     "output_type": "stream",
     "text": [
      "Progress: [########                                          ] 16.3% (n=49/300) --> elapsed time: 27.59s\r"
     ]
    },
    {
     "name": "stderr",
     "output_type": "stream",
     "text": [
      "C:\\Users\\painter\\AppData\\Local\\Temp\\ipykernel_47148\\3181422731.py:174: UserWarning: The figure layout has changed to tight\n",
      "  plt.tight_layout()\n",
      "C:\\Users\\painter\\AppData\\Local\\Temp\\ipykernel_47148\\3181422731.py:159: MatplotlibDeprecationWarning: Auto-removal of overlapping axes is deprecated since 3.6 and will be removed two minor releases later; explicitly call ax.remove() as needed.\n",
      "  plt.subplot(211)\n",
      "C:\\Users\\painter\\AppData\\Local\\Temp\\ipykernel_47148\\3181422731.py:166: MatplotlibDeprecationWarning: Auto-removal of overlapping axes is deprecated since 3.6 and will be removed two minor releases later; explicitly call ax.remove() as needed.\n",
      "  plt.subplot(212)\n"
     ]
    },
    {
     "name": "stdout",
     "output_type": "stream",
     "text": [
      "Progress: [########                                          ] 16.7% (n=50/300) --> elapsed time: 28.12s\r"
     ]
    },
    {
     "name": "stderr",
     "output_type": "stream",
     "text": [
      "C:\\Users\\painter\\AppData\\Local\\Temp\\ipykernel_47148\\3181422731.py:174: UserWarning: The figure layout has changed to tight\n",
      "  plt.tight_layout()\n",
      "C:\\Users\\painter\\AppData\\Local\\Temp\\ipykernel_47148\\3181422731.py:159: MatplotlibDeprecationWarning: Auto-removal of overlapping axes is deprecated since 3.6 and will be removed two minor releases later; explicitly call ax.remove() as needed.\n",
      "  plt.subplot(211)\n",
      "C:\\Users\\painter\\AppData\\Local\\Temp\\ipykernel_47148\\3181422731.py:166: MatplotlibDeprecationWarning: Auto-removal of overlapping axes is deprecated since 3.6 and will be removed two minor releases later; explicitly call ax.remove() as needed.\n",
      "  plt.subplot(212)\n"
     ]
    },
    {
     "name": "stdout",
     "output_type": "stream",
     "text": [
      "Progress: [########                                          ] 17.0% (n=51/300) --> elapsed time: 28.55s\r"
     ]
    },
    {
     "name": "stderr",
     "output_type": "stream",
     "text": [
      "C:\\Users\\painter\\AppData\\Local\\Temp\\ipykernel_47148\\3181422731.py:174: UserWarning: The figure layout has changed to tight\n",
      "  plt.tight_layout()\n",
      "C:\\Users\\painter\\AppData\\Local\\Temp\\ipykernel_47148\\3181422731.py:159: MatplotlibDeprecationWarning: Auto-removal of overlapping axes is deprecated since 3.6 and will be removed two minor releases later; explicitly call ax.remove() as needed.\n",
      "  plt.subplot(211)\n",
      "C:\\Users\\painter\\AppData\\Local\\Temp\\ipykernel_47148\\3181422731.py:166: MatplotlibDeprecationWarning: Auto-removal of overlapping axes is deprecated since 3.6 and will be removed two minor releases later; explicitly call ax.remove() as needed.\n",
      "  plt.subplot(212)\n"
     ]
    },
    {
     "name": "stdout",
     "output_type": "stream",
     "text": [
      "Progress: [########                                          ] 17.3% (n=52/300) --> elapsed time: 28.94s\r"
     ]
    },
    {
     "name": "stderr",
     "output_type": "stream",
     "text": [
      "C:\\Users\\painter\\AppData\\Local\\Temp\\ipykernel_47148\\3181422731.py:174: UserWarning: The figure layout has changed to tight\n",
      "  plt.tight_layout()\n",
      "C:\\Users\\painter\\AppData\\Local\\Temp\\ipykernel_47148\\3181422731.py:159: MatplotlibDeprecationWarning: Auto-removal of overlapping axes is deprecated since 3.6 and will be removed two minor releases later; explicitly call ax.remove() as needed.\n",
      "  plt.subplot(211)\n",
      "C:\\Users\\painter\\AppData\\Local\\Temp\\ipykernel_47148\\3181422731.py:166: MatplotlibDeprecationWarning: Auto-removal of overlapping axes is deprecated since 3.6 and will be removed two minor releases later; explicitly call ax.remove() as needed.\n",
      "  plt.subplot(212)\n"
     ]
    },
    {
     "name": "stdout",
     "output_type": "stream",
     "text": [
      "Progress: [########                                          ] 17.3% (n=52/300) --> elapsed time: 29.44s\r"
     ]
    },
    {
     "name": "stderr",
     "output_type": "stream",
     "text": [
      "C:\\Users\\painter\\AppData\\Local\\Temp\\ipykernel_47148\\3181422731.py:174: UserWarning: The figure layout has changed to tight\n",
      "  plt.tight_layout()\n",
      "C:\\Users\\painter\\AppData\\Local\\Temp\\ipykernel_47148\\3181422731.py:159: MatplotlibDeprecationWarning: Auto-removal of overlapping axes is deprecated since 3.6 and will be removed two minor releases later; explicitly call ax.remove() as needed.\n",
      "  plt.subplot(211)\n",
      "C:\\Users\\painter\\AppData\\Local\\Temp\\ipykernel_47148\\3181422731.py:166: MatplotlibDeprecationWarning: Auto-removal of overlapping axes is deprecated since 3.6 and will be removed two minor releases later; explicitly call ax.remove() as needed.\n",
      "  plt.subplot(212)\n"
     ]
    },
    {
     "name": "stdout",
     "output_type": "stream",
     "text": [
      "Progress: [########                                          ] 17.7% (n=53/300) --> elapsed time: 29.86s\r"
     ]
    },
    {
     "name": "stderr",
     "output_type": "stream",
     "text": [
      "C:\\Users\\painter\\AppData\\Local\\Temp\\ipykernel_47148\\3181422731.py:174: UserWarning: The figure layout has changed to tight\n",
      "  plt.tight_layout()\n",
      "C:\\Users\\painter\\AppData\\Local\\Temp\\ipykernel_47148\\3181422731.py:159: MatplotlibDeprecationWarning: Auto-removal of overlapping axes is deprecated since 3.6 and will be removed two minor releases later; explicitly call ax.remove() as needed.\n",
      "  plt.subplot(211)\n",
      "C:\\Users\\painter\\AppData\\Local\\Temp\\ipykernel_47148\\3181422731.py:166: MatplotlibDeprecationWarning: Auto-removal of overlapping axes is deprecated since 3.6 and will be removed two minor releases later; explicitly call ax.remove() as needed.\n",
      "  plt.subplot(212)\n"
     ]
    },
    {
     "name": "stdout",
     "output_type": "stream",
     "text": [
      "Progress: [#########                                         ] 18.0% (n=54/300) --> elapsed time: 30.25s\r"
     ]
    },
    {
     "name": "stderr",
     "output_type": "stream",
     "text": [
      "C:\\Users\\painter\\AppData\\Local\\Temp\\ipykernel_47148\\3181422731.py:174: UserWarning: The figure layout has changed to tight\n",
      "  plt.tight_layout()\n",
      "C:\\Users\\painter\\AppData\\Local\\Temp\\ipykernel_47148\\3181422731.py:159: MatplotlibDeprecationWarning: Auto-removal of overlapping axes is deprecated since 3.6 and will be removed two minor releases later; explicitly call ax.remove() as needed.\n",
      "  plt.subplot(211)\n"
     ]
    },
    {
     "name": "stdout",
     "output_type": "stream",
     "text": [
      "Progress: [#########                                         ] 18.3% (n=55/300) --> elapsed time: 30.69s\r"
     ]
    },
    {
     "name": "stderr",
     "output_type": "stream",
     "text": [
      "C:\\Users\\painter\\AppData\\Local\\Temp\\ipykernel_47148\\3181422731.py:166: MatplotlibDeprecationWarning: Auto-removal of overlapping axes is deprecated since 3.6 and will be removed two minor releases later; explicitly call ax.remove() as needed.\n",
      "  plt.subplot(212)\n",
      "C:\\Users\\painter\\AppData\\Local\\Temp\\ipykernel_47148\\3181422731.py:174: UserWarning: The figure layout has changed to tight\n",
      "  plt.tight_layout()\n",
      "C:\\Users\\painter\\AppData\\Local\\Temp\\ipykernel_47148\\3181422731.py:159: MatplotlibDeprecationWarning: Auto-removal of overlapping axes is deprecated since 3.6 and will be removed two minor releases later; explicitly call ax.remove() as needed.\n",
      "  plt.subplot(211)\n",
      "C:\\Users\\painter\\AppData\\Local\\Temp\\ipykernel_47148\\3181422731.py:166: MatplotlibDeprecationWarning: Auto-removal of overlapping axes is deprecated since 3.6 and will be removed two minor releases later; explicitly call ax.remove() as needed.\n",
      "  plt.subplot(212)\n"
     ]
    },
    {
     "name": "stdout",
     "output_type": "stream",
     "text": [
      "Progress: [#########                                         ] 18.7% (n=56/300) --> elapsed time: 31.25s\r"
     ]
    },
    {
     "name": "stderr",
     "output_type": "stream",
     "text": [
      "C:\\Users\\painter\\AppData\\Local\\Temp\\ipykernel_47148\\3181422731.py:174: UserWarning: The figure layout has changed to tight\n",
      "  plt.tight_layout()\n",
      "C:\\Users\\painter\\AppData\\Local\\Temp\\ipykernel_47148\\3181422731.py:159: MatplotlibDeprecationWarning: Auto-removal of overlapping axes is deprecated since 3.6 and will be removed two minor releases later; explicitly call ax.remove() as needed.\n",
      "  plt.subplot(211)\n",
      "C:\\Users\\painter\\AppData\\Local\\Temp\\ipykernel_47148\\3181422731.py:166: MatplotlibDeprecationWarning: Auto-removal of overlapping axes is deprecated since 3.6 and will be removed two minor releases later; explicitly call ax.remove() as needed.\n",
      "  plt.subplot(212)\n"
     ]
    },
    {
     "name": "stdout",
     "output_type": "stream",
     "text": [
      "Progress: [#########                                         ] 18.7% (n=56/300) --> elapsed time: 31.65s\r"
     ]
    },
    {
     "name": "stderr",
     "output_type": "stream",
     "text": [
      "C:\\Users\\painter\\AppData\\Local\\Temp\\ipykernel_47148\\3181422731.py:174: UserWarning: The figure layout has changed to tight\n",
      "  plt.tight_layout()\n",
      "C:\\Users\\painter\\AppData\\Local\\Temp\\ipykernel_47148\\3181422731.py:159: MatplotlibDeprecationWarning: Auto-removal of overlapping axes is deprecated since 3.6 and will be removed two minor releases later; explicitly call ax.remove() as needed.\n",
      "  plt.subplot(211)\n"
     ]
    },
    {
     "name": "stdout",
     "output_type": "stream",
     "text": [
      "Progress: [#########                                         ] 19.0% (n=57/300) --> elapsed time: 32.05s\r"
     ]
    },
    {
     "name": "stderr",
     "output_type": "stream",
     "text": [
      "C:\\Users\\painter\\AppData\\Local\\Temp\\ipykernel_47148\\3181422731.py:166: MatplotlibDeprecationWarning: Auto-removal of overlapping axes is deprecated since 3.6 and will be removed two minor releases later; explicitly call ax.remove() as needed.\n",
      "  plt.subplot(212)\n",
      "C:\\Users\\painter\\AppData\\Local\\Temp\\ipykernel_47148\\3181422731.py:174: UserWarning: The figure layout has changed to tight\n",
      "  plt.tight_layout()\n"
     ]
    },
    {
     "name": "stdout",
     "output_type": "stream",
     "text": [
      "Progress: [#########                                         ] 19.3% (n=58/300) --> elapsed time: 32.56s\r"
     ]
    },
    {
     "name": "stderr",
     "output_type": "stream",
     "text": [
      "C:\\Users\\painter\\AppData\\Local\\Temp\\ipykernel_47148\\3181422731.py:159: MatplotlibDeprecationWarning: Auto-removal of overlapping axes is deprecated since 3.6 and will be removed two minor releases later; explicitly call ax.remove() as needed.\n",
      "  plt.subplot(211)\n",
      "C:\\Users\\painter\\AppData\\Local\\Temp\\ipykernel_47148\\3181422731.py:166: MatplotlibDeprecationWarning: Auto-removal of overlapping axes is deprecated since 3.6 and will be removed two minor releases later; explicitly call ax.remove() as needed.\n",
      "  plt.subplot(212)\n",
      "C:\\Users\\painter\\AppData\\Local\\Temp\\ipykernel_47148\\3181422731.py:174: UserWarning: The figure layout has changed to tight\n",
      "  plt.tight_layout()\n",
      "C:\\Users\\painter\\AppData\\Local\\Temp\\ipykernel_47148\\3181422731.py:159: MatplotlibDeprecationWarning: Auto-removal of overlapping axes is deprecated since 3.6 and will be removed two minor releases later; explicitly call ax.remove() as needed.\n",
      "  plt.subplot(211)\n",
      "C:\\Users\\painter\\AppData\\Local\\Temp\\ipykernel_47148\\3181422731.py:166: MatplotlibDeprecationWarning: Auto-removal of overlapping axes is deprecated since 3.6 and will be removed two minor releases later; explicitly call ax.remove() as needed.\n",
      "  plt.subplot(212)\n"
     ]
    },
    {
     "name": "stdout",
     "output_type": "stream",
     "text": [
      "Progress: [#########                                         ] 19.7% (n=59/300) --> elapsed time: 32.99s\r"
     ]
    },
    {
     "name": "stderr",
     "output_type": "stream",
     "text": [
      "C:\\Users\\painter\\AppData\\Local\\Temp\\ipykernel_47148\\3181422731.py:174: UserWarning: The figure layout has changed to tight\n",
      "  plt.tight_layout()\n",
      "C:\\Users\\painter\\AppData\\Local\\Temp\\ipykernel_47148\\3181422731.py:159: MatplotlibDeprecationWarning: Auto-removal of overlapping axes is deprecated since 3.6 and will be removed two minor releases later; explicitly call ax.remove() as needed.\n",
      "  plt.subplot(211)\n",
      "C:\\Users\\painter\\AppData\\Local\\Temp\\ipykernel_47148\\3181422731.py:166: MatplotlibDeprecationWarning: Auto-removal of overlapping axes is deprecated since 3.6 and will be removed two minor releases later; explicitly call ax.remove() as needed.\n",
      "  plt.subplot(212)\n"
     ]
    },
    {
     "name": "stdout",
     "output_type": "stream",
     "text": [
      "Progress: [#########                                         ] 19.7% (n=59/300) --> elapsed time: 33.38s\r"
     ]
    },
    {
     "name": "stderr",
     "output_type": "stream",
     "text": [
      "C:\\Users\\painter\\AppData\\Local\\Temp\\ipykernel_47148\\3181422731.py:174: UserWarning: The figure layout has changed to tight\n",
      "  plt.tight_layout()\n",
      "C:\\Users\\painter\\AppData\\Local\\Temp\\ipykernel_47148\\3181422731.py:159: MatplotlibDeprecationWarning: Auto-removal of overlapping axes is deprecated since 3.6 and will be removed two minor releases later; explicitly call ax.remove() as needed.\n",
      "  plt.subplot(211)\n",
      "C:\\Users\\painter\\AppData\\Local\\Temp\\ipykernel_47148\\3181422731.py:166: MatplotlibDeprecationWarning: Auto-removal of overlapping axes is deprecated since 3.6 and will be removed two minor releases later; explicitly call ax.remove() as needed.\n",
      "  plt.subplot(212)\n"
     ]
    },
    {
     "name": "stdout",
     "output_type": "stream",
     "text": [
      "Progress: [##########                                        ] 20.0% (n=60/300) --> elapsed time: 33.89s\r"
     ]
    },
    {
     "name": "stderr",
     "output_type": "stream",
     "text": [
      "C:\\Users\\painter\\AppData\\Local\\Temp\\ipykernel_47148\\3181422731.py:174: UserWarning: The figure layout has changed to tight\n",
      "  plt.tight_layout()\n",
      "C:\\Users\\painter\\AppData\\Local\\Temp\\ipykernel_47148\\3181422731.py:159: MatplotlibDeprecationWarning: Auto-removal of overlapping axes is deprecated since 3.6 and will be removed two minor releases later; explicitly call ax.remove() as needed.\n",
      "  plt.subplot(211)\n",
      "C:\\Users\\painter\\AppData\\Local\\Temp\\ipykernel_47148\\3181422731.py:166: MatplotlibDeprecationWarning: Auto-removal of overlapping axes is deprecated since 3.6 and will be removed two minor releases later; explicitly call ax.remove() as needed.\n",
      "  plt.subplot(212)\n"
     ]
    },
    {
     "name": "stdout",
     "output_type": "stream",
     "text": [
      "Progress: [##########                                        ] 20.3% (n=61/300) --> elapsed time: 34.29s\r"
     ]
    },
    {
     "name": "stderr",
     "output_type": "stream",
     "text": [
      "C:\\Users\\painter\\AppData\\Local\\Temp\\ipykernel_47148\\3181422731.py:174: UserWarning: The figure layout has changed to tight\n",
      "  plt.tight_layout()\n",
      "C:\\Users\\painter\\AppData\\Local\\Temp\\ipykernel_47148\\3181422731.py:159: MatplotlibDeprecationWarning: Auto-removal of overlapping axes is deprecated since 3.6 and will be removed two minor releases later; explicitly call ax.remove() as needed.\n",
      "  plt.subplot(211)\n",
      "C:\\Users\\painter\\AppData\\Local\\Temp\\ipykernel_47148\\3181422731.py:166: MatplotlibDeprecationWarning: Auto-removal of overlapping axes is deprecated since 3.6 and will be removed two minor releases later; explicitly call ax.remove() as needed.\n",
      "  plt.subplot(212)\n"
     ]
    },
    {
     "name": "stdout",
     "output_type": "stream",
     "text": [
      "Progress: [##########                                        ] 20.7% (n=62/300) --> elapsed time: 34.70s\r"
     ]
    },
    {
     "name": "stderr",
     "output_type": "stream",
     "text": [
      "C:\\Users\\painter\\AppData\\Local\\Temp\\ipykernel_47148\\3181422731.py:174: UserWarning: The figure layout has changed to tight\n",
      "  plt.tight_layout()\n",
      "C:\\Users\\painter\\AppData\\Local\\Temp\\ipykernel_47148\\3181422731.py:159: MatplotlibDeprecationWarning: Auto-removal of overlapping axes is deprecated since 3.6 and will be removed two minor releases later; explicitly call ax.remove() as needed.\n",
      "  plt.subplot(211)\n",
      "C:\\Users\\painter\\AppData\\Local\\Temp\\ipykernel_47148\\3181422731.py:166: MatplotlibDeprecationWarning: Auto-removal of overlapping axes is deprecated since 3.6 and will be removed two minor releases later; explicitly call ax.remove() as needed.\n",
      "  plt.subplot(212)\n"
     ]
    },
    {
     "name": "stdout",
     "output_type": "stream",
     "text": [
      "Progress: [##########                                        ] 21.0% (n=63/300) --> elapsed time: 35.20s\r"
     ]
    },
    {
     "name": "stderr",
     "output_type": "stream",
     "text": [
      "C:\\Users\\painter\\AppData\\Local\\Temp\\ipykernel_47148\\3181422731.py:174: UserWarning: The figure layout has changed to tight\n",
      "  plt.tight_layout()\n",
      "C:\\Users\\painter\\AppData\\Local\\Temp\\ipykernel_47148\\3181422731.py:159: MatplotlibDeprecationWarning: Auto-removal of overlapping axes is deprecated since 3.6 and will be removed two minor releases later; explicitly call ax.remove() as needed.\n",
      "  plt.subplot(211)\n",
      "C:\\Users\\painter\\AppData\\Local\\Temp\\ipykernel_47148\\3181422731.py:166: MatplotlibDeprecationWarning: Auto-removal of overlapping axes is deprecated since 3.6 and will be removed two minor releases later; explicitly call ax.remove() as needed.\n",
      "  plt.subplot(212)\n"
     ]
    },
    {
     "name": "stdout",
     "output_type": "stream",
     "text": [
      "Progress: [##########                                        ] 21.0% (n=63/300) --> elapsed time: 35.62s\r"
     ]
    },
    {
     "name": "stderr",
     "output_type": "stream",
     "text": [
      "C:\\Users\\painter\\AppData\\Local\\Temp\\ipykernel_47148\\3181422731.py:174: UserWarning: The figure layout has changed to tight\n",
      "  plt.tight_layout()\n",
      "C:\\Users\\painter\\AppData\\Local\\Temp\\ipykernel_47148\\3181422731.py:159: MatplotlibDeprecationWarning: Auto-removal of overlapping axes is deprecated since 3.6 and will be removed two minor releases later; explicitly call ax.remove() as needed.\n",
      "  plt.subplot(211)\n",
      "C:\\Users\\painter\\AppData\\Local\\Temp\\ipykernel_47148\\3181422731.py:166: MatplotlibDeprecationWarning: Auto-removal of overlapping axes is deprecated since 3.6 and will be removed two minor releases later; explicitly call ax.remove() as needed.\n",
      "  plt.subplot(212)\n"
     ]
    },
    {
     "name": "stdout",
     "output_type": "stream",
     "text": [
      "Progress: [##########                                        ] 21.3% (n=64/300) --> elapsed time: 36.03s\r"
     ]
    },
    {
     "name": "stderr",
     "output_type": "stream",
     "text": [
      "C:\\Users\\painter\\AppData\\Local\\Temp\\ipykernel_47148\\3181422731.py:174: UserWarning: The figure layout has changed to tight\n",
      "  plt.tight_layout()\n",
      "C:\\Users\\painter\\AppData\\Local\\Temp\\ipykernel_47148\\3181422731.py:159: MatplotlibDeprecationWarning: Auto-removal of overlapping axes is deprecated since 3.6 and will be removed two minor releases later; explicitly call ax.remove() as needed.\n",
      "  plt.subplot(211)\n",
      "C:\\Users\\painter\\AppData\\Local\\Temp\\ipykernel_47148\\3181422731.py:166: MatplotlibDeprecationWarning: Auto-removal of overlapping axes is deprecated since 3.6 and will be removed two minor releases later; explicitly call ax.remove() as needed.\n",
      "  plt.subplot(212)\n"
     ]
    },
    {
     "name": "stdout",
     "output_type": "stream",
     "text": [
      "Progress: [##########                                        ] 21.7% (n=65/300) --> elapsed time: 36.54s\r"
     ]
    },
    {
     "name": "stderr",
     "output_type": "stream",
     "text": [
      "C:\\Users\\painter\\AppData\\Local\\Temp\\ipykernel_47148\\3181422731.py:174: UserWarning: The figure layout has changed to tight\n",
      "  plt.tight_layout()\n",
      "C:\\Users\\painter\\AppData\\Local\\Temp\\ipykernel_47148\\3181422731.py:159: MatplotlibDeprecationWarning: Auto-removal of overlapping axes is deprecated since 3.6 and will be removed two minor releases later; explicitly call ax.remove() as needed.\n",
      "  plt.subplot(211)\n",
      "C:\\Users\\painter\\AppData\\Local\\Temp\\ipykernel_47148\\3181422731.py:166: MatplotlibDeprecationWarning: Auto-removal of overlapping axes is deprecated since 3.6 and will be removed two minor releases later; explicitly call ax.remove() as needed.\n",
      "  plt.subplot(212)\n"
     ]
    },
    {
     "name": "stdout",
     "output_type": "stream",
     "text": [
      "Progress: [###########                                       ] 22.0% (n=66/300) --> elapsed time: 36.94s\r"
     ]
    },
    {
     "name": "stderr",
     "output_type": "stream",
     "text": [
      "C:\\Users\\painter\\AppData\\Local\\Temp\\ipykernel_47148\\3181422731.py:174: UserWarning: The figure layout has changed to tight\n",
      "  plt.tight_layout()\n",
      "C:\\Users\\painter\\AppData\\Local\\Temp\\ipykernel_47148\\3181422731.py:159: MatplotlibDeprecationWarning: Auto-removal of overlapping axes is deprecated since 3.6 and will be removed two minor releases later; explicitly call ax.remove() as needed.\n",
      "  plt.subplot(211)\n",
      "C:\\Users\\painter\\AppData\\Local\\Temp\\ipykernel_47148\\3181422731.py:166: MatplotlibDeprecationWarning: Auto-removal of overlapping axes is deprecated since 3.6 and will be removed two minor releases later; explicitly call ax.remove() as needed.\n",
      "  plt.subplot(212)\n"
     ]
    },
    {
     "name": "stdout",
     "output_type": "stream",
     "text": [
      "Progress: [###########                                       ] 22.0% (n=66/300) --> elapsed time: 37.34s\r"
     ]
    },
    {
     "name": "stderr",
     "output_type": "stream",
     "text": [
      "C:\\Users\\painter\\AppData\\Local\\Temp\\ipykernel_47148\\3181422731.py:174: UserWarning: The figure layout has changed to tight\n",
      "  plt.tight_layout()\n",
      "C:\\Users\\painter\\AppData\\Local\\Temp\\ipykernel_47148\\3181422731.py:159: MatplotlibDeprecationWarning: Auto-removal of overlapping axes is deprecated since 3.6 and will be removed two minor releases later; explicitly call ax.remove() as needed.\n",
      "  plt.subplot(211)\n"
     ]
    },
    {
     "name": "stdout",
     "output_type": "stream",
     "text": [
      "Progress: [###########                                       ] 22.3% (n=67/300) --> elapsed time: 37.76s\r"
     ]
    },
    {
     "name": "stderr",
     "output_type": "stream",
     "text": [
      "C:\\Users\\painter\\AppData\\Local\\Temp\\ipykernel_47148\\3181422731.py:166: MatplotlibDeprecationWarning: Auto-removal of overlapping axes is deprecated since 3.6 and will be removed two minor releases later; explicitly call ax.remove() as needed.\n",
      "  plt.subplot(212)\n",
      "C:\\Users\\painter\\AppData\\Local\\Temp\\ipykernel_47148\\3181422731.py:174: UserWarning: The figure layout has changed to tight\n",
      "  plt.tight_layout()\n"
     ]
    },
    {
     "name": "stdout",
     "output_type": "stream",
     "text": [
      "Progress: [###########                                       ] 22.7% (n=68/300) --> elapsed time: 38.29s\r"
     ]
    },
    {
     "name": "stderr",
     "output_type": "stream",
     "text": [
      "C:\\Users\\painter\\AppData\\Local\\Temp\\ipykernel_47148\\3181422731.py:159: MatplotlibDeprecationWarning: Auto-removal of overlapping axes is deprecated since 3.6 and will be removed two minor releases later; explicitly call ax.remove() as needed.\n",
      "  plt.subplot(211)\n",
      "C:\\Users\\painter\\AppData\\Local\\Temp\\ipykernel_47148\\3181422731.py:166: MatplotlibDeprecationWarning: Auto-removal of overlapping axes is deprecated since 3.6 and will be removed two minor releases later; explicitly call ax.remove() as needed.\n",
      "  plt.subplot(212)\n",
      "C:\\Users\\painter\\AppData\\Local\\Temp\\ipykernel_47148\\3181422731.py:174: UserWarning: The figure layout has changed to tight\n",
      "  plt.tight_layout()\n",
      "C:\\Users\\painter\\AppData\\Local\\Temp\\ipykernel_47148\\3181422731.py:159: MatplotlibDeprecationWarning: Auto-removal of overlapping axes is deprecated since 3.6 and will be removed two minor releases later; explicitly call ax.remove() as needed.\n",
      "  plt.subplot(211)\n",
      "C:\\Users\\painter\\AppData\\Local\\Temp\\ipykernel_47148\\3181422731.py:166: MatplotlibDeprecationWarning: Auto-removal of overlapping axes is deprecated since 3.6 and will be removed two minor releases later; explicitly call ax.remove() as needed.\n",
      "  plt.subplot(212)\n"
     ]
    },
    {
     "name": "stdout",
     "output_type": "stream",
     "text": [
      "Progress: [###########                                       ] 23.0% (n=69/300) --> elapsed time: 38.68s\r"
     ]
    },
    {
     "name": "stderr",
     "output_type": "stream",
     "text": [
      "C:\\Users\\painter\\AppData\\Local\\Temp\\ipykernel_47148\\3181422731.py:174: UserWarning: The figure layout has changed to tight\n",
      "  plt.tight_layout()\n",
      "C:\\Users\\painter\\AppData\\Local\\Temp\\ipykernel_47148\\3181422731.py:159: MatplotlibDeprecationWarning: Auto-removal of overlapping axes is deprecated since 3.6 and will be removed two minor releases later; explicitly call ax.remove() as needed.\n",
      "  plt.subplot(211)\n",
      "C:\\Users\\painter\\AppData\\Local\\Temp\\ipykernel_47148\\3181422731.py:166: MatplotlibDeprecationWarning: Auto-removal of overlapping axes is deprecated since 3.6 and will be removed two minor releases later; explicitly call ax.remove() as needed.\n",
      "  plt.subplot(212)\n"
     ]
    },
    {
     "name": "stdout",
     "output_type": "stream",
     "text": [
      "Progress: [###########                                       ] 23.0% (n=69/300) --> elapsed time: 39.08s\r"
     ]
    },
    {
     "name": "stderr",
     "output_type": "stream",
     "text": [
      "C:\\Users\\painter\\AppData\\Local\\Temp\\ipykernel_47148\\3181422731.py:174: UserWarning: The figure layout has changed to tight\n",
      "  plt.tight_layout()\n",
      "C:\\Users\\painter\\AppData\\Local\\Temp\\ipykernel_47148\\3181422731.py:159: MatplotlibDeprecationWarning: Auto-removal of overlapping axes is deprecated since 3.6 and will be removed two minor releases later; explicitly call ax.remove() as needed.\n",
      "  plt.subplot(211)\n",
      "C:\\Users\\painter\\AppData\\Local\\Temp\\ipykernel_47148\\3181422731.py:166: MatplotlibDeprecationWarning: Auto-removal of overlapping axes is deprecated since 3.6 and will be removed two minor releases later; explicitly call ax.remove() as needed.\n",
      "  plt.subplot(212)\n"
     ]
    },
    {
     "name": "stdout",
     "output_type": "stream",
     "text": [
      "Progress: [###########                                       ] 23.3% (n=70/300) --> elapsed time: 39.58s\r"
     ]
    },
    {
     "name": "stderr",
     "output_type": "stream",
     "text": [
      "C:\\Users\\painter\\AppData\\Local\\Temp\\ipykernel_47148\\3181422731.py:174: UserWarning: The figure layout has changed to tight\n",
      "  plt.tight_layout()\n",
      "C:\\Users\\painter\\AppData\\Local\\Temp\\ipykernel_47148\\3181422731.py:159: MatplotlibDeprecationWarning: Auto-removal of overlapping axes is deprecated since 3.6 and will be removed two minor releases later; explicitly call ax.remove() as needed.\n",
      "  plt.subplot(211)\n",
      "C:\\Users\\painter\\AppData\\Local\\Temp\\ipykernel_47148\\3181422731.py:166: MatplotlibDeprecationWarning: Auto-removal of overlapping axes is deprecated since 3.6 and will be removed two minor releases later; explicitly call ax.remove() as needed.\n",
      "  plt.subplot(212)\n"
     ]
    },
    {
     "name": "stdout",
     "output_type": "stream",
     "text": [
      "Progress: [###########                                       ] 23.7% (n=71/300) --> elapsed time: 39.95s\r"
     ]
    },
    {
     "name": "stderr",
     "output_type": "stream",
     "text": [
      "C:\\Users\\painter\\AppData\\Local\\Temp\\ipykernel_47148\\3181422731.py:174: UserWarning: The figure layout has changed to tight\n",
      "  plt.tight_layout()\n",
      "C:\\Users\\painter\\AppData\\Local\\Temp\\ipykernel_47148\\3181422731.py:159: MatplotlibDeprecationWarning: Auto-removal of overlapping axes is deprecated since 3.6 and will be removed two minor releases later; explicitly call ax.remove() as needed.\n",
      "  plt.subplot(211)\n",
      "C:\\Users\\painter\\AppData\\Local\\Temp\\ipykernel_47148\\3181422731.py:166: MatplotlibDeprecationWarning: Auto-removal of overlapping axes is deprecated since 3.6 and will be removed two minor releases later; explicitly call ax.remove() as needed.\n",
      "  plt.subplot(212)\n"
     ]
    },
    {
     "name": "stdout",
     "output_type": "stream",
     "text": [
      "Progress: [############                                      ] 24.0% (n=72/300) --> elapsed time: 40.35s\r"
     ]
    },
    {
     "name": "stderr",
     "output_type": "stream",
     "text": [
      "C:\\Users\\painter\\AppData\\Local\\Temp\\ipykernel_47148\\3181422731.py:174: UserWarning: The figure layout has changed to tight\n",
      "  plt.tight_layout()\n",
      "C:\\Users\\painter\\AppData\\Local\\Temp\\ipykernel_47148\\3181422731.py:159: MatplotlibDeprecationWarning: Auto-removal of overlapping axes is deprecated since 3.6 and will be removed two minor releases later; explicitly call ax.remove() as needed.\n",
      "  plt.subplot(211)\n",
      "C:\\Users\\painter\\AppData\\Local\\Temp\\ipykernel_47148\\3181422731.py:166: MatplotlibDeprecationWarning: Auto-removal of overlapping axes is deprecated since 3.6 and will be removed two minor releases later; explicitly call ax.remove() as needed.\n",
      "  plt.subplot(212)\n"
     ]
    },
    {
     "name": "stdout",
     "output_type": "stream",
     "text": [
      "Progress: [############                                      ] 24.3% (n=73/300) --> elapsed time: 40.92s\r"
     ]
    },
    {
     "name": "stderr",
     "output_type": "stream",
     "text": [
      "C:\\Users\\painter\\AppData\\Local\\Temp\\ipykernel_47148\\3181422731.py:174: UserWarning: The figure layout has changed to tight\n",
      "  plt.tight_layout()\n",
      "C:\\Users\\painter\\AppData\\Local\\Temp\\ipykernel_47148\\3181422731.py:159: MatplotlibDeprecationWarning: Auto-removal of overlapping axes is deprecated since 3.6 and will be removed two minor releases later; explicitly call ax.remove() as needed.\n",
      "  plt.subplot(211)\n",
      "C:\\Users\\painter\\AppData\\Local\\Temp\\ipykernel_47148\\3181422731.py:166: MatplotlibDeprecationWarning: Auto-removal of overlapping axes is deprecated since 3.6 and will be removed two minor releases later; explicitly call ax.remove() as needed.\n",
      "  plt.subplot(212)\n"
     ]
    },
    {
     "name": "stdout",
     "output_type": "stream",
     "text": [
      "Progress: [############                                      ] 24.3% (n=73/300) --> elapsed time: 41.32s\r"
     ]
    },
    {
     "name": "stderr",
     "output_type": "stream",
     "text": [
      "C:\\Users\\painter\\AppData\\Local\\Temp\\ipykernel_47148\\3181422731.py:174: UserWarning: The figure layout has changed to tight\n",
      "  plt.tight_layout()\n",
      "C:\\Users\\painter\\AppData\\Local\\Temp\\ipykernel_47148\\3181422731.py:159: MatplotlibDeprecationWarning: Auto-removal of overlapping axes is deprecated since 3.6 and will be removed two minor releases later; explicitly call ax.remove() as needed.\n",
      "  plt.subplot(211)\n",
      "C:\\Users\\painter\\AppData\\Local\\Temp\\ipykernel_47148\\3181422731.py:166: MatplotlibDeprecationWarning: Auto-removal of overlapping axes is deprecated since 3.6 and will be removed two minor releases later; explicitly call ax.remove() as needed.\n",
      "  plt.subplot(212)\n"
     ]
    },
    {
     "name": "stdout",
     "output_type": "stream",
     "text": [
      "Progress: [############                                      ] 24.7% (n=74/300) --> elapsed time: 41.73s\r"
     ]
    },
    {
     "name": "stderr",
     "output_type": "stream",
     "text": [
      "C:\\Users\\painter\\AppData\\Local\\Temp\\ipykernel_47148\\3181422731.py:174: UserWarning: The figure layout has changed to tight\n",
      "  plt.tight_layout()\n",
      "C:\\Users\\painter\\AppData\\Local\\Temp\\ipykernel_47148\\3181422731.py:159: MatplotlibDeprecationWarning: Auto-removal of overlapping axes is deprecated since 3.6 and will be removed two minor releases later; explicitly call ax.remove() as needed.\n",
      "  plt.subplot(211)\n"
     ]
    },
    {
     "name": "stdout",
     "output_type": "stream",
     "text": [
      "Progress: [############                                      ] 25.0% (n=75/300) --> elapsed time: 42.13s\r"
     ]
    },
    {
     "name": "stderr",
     "output_type": "stream",
     "text": [
      "C:\\Users\\painter\\AppData\\Local\\Temp\\ipykernel_47148\\3181422731.py:166: MatplotlibDeprecationWarning: Auto-removal of overlapping axes is deprecated since 3.6 and will be removed two minor releases later; explicitly call ax.remove() as needed.\n",
      "  plt.subplot(212)\n",
      "C:\\Users\\painter\\AppData\\Local\\Temp\\ipykernel_47148\\3181422731.py:174: UserWarning: The figure layout has changed to tight\n",
      "  plt.tight_layout()\n"
     ]
    },
    {
     "name": "stdout",
     "output_type": "stream",
     "text": [
      "Progress: [############                                      ] 25.3% (n=76/300) --> elapsed time: 42.66s\r"
     ]
    },
    {
     "name": "stderr",
     "output_type": "stream",
     "text": [
      "C:\\Users\\painter\\AppData\\Local\\Temp\\ipykernel_47148\\3181422731.py:159: MatplotlibDeprecationWarning: Auto-removal of overlapping axes is deprecated since 3.6 and will be removed two minor releases later; explicitly call ax.remove() as needed.\n",
      "  plt.subplot(211)\n",
      "C:\\Users\\painter\\AppData\\Local\\Temp\\ipykernel_47148\\3181422731.py:166: MatplotlibDeprecationWarning: Auto-removal of overlapping axes is deprecated since 3.6 and will be removed two minor releases later; explicitly call ax.remove() as needed.\n",
      "  plt.subplot(212)\n",
      "C:\\Users\\painter\\AppData\\Local\\Temp\\ipykernel_47148\\3181422731.py:174: UserWarning: The figure layout has changed to tight\n",
      "  plt.tight_layout()\n",
      "C:\\Users\\painter\\AppData\\Local\\Temp\\ipykernel_47148\\3181422731.py:159: MatplotlibDeprecationWarning: Auto-removal of overlapping axes is deprecated since 3.6 and will be removed two minor releases later; explicitly call ax.remove() as needed.\n",
      "  plt.subplot(211)\n",
      "C:\\Users\\painter\\AppData\\Local\\Temp\\ipykernel_47148\\3181422731.py:166: MatplotlibDeprecationWarning: Auto-removal of overlapping axes is deprecated since 3.6 and will be removed two minor releases later; explicitly call ax.remove() as needed.\n",
      "  plt.subplot(212)\n"
     ]
    },
    {
     "name": "stdout",
     "output_type": "stream",
     "text": [
      "Progress: [############                                      ] 25.3% (n=76/300) --> elapsed time: 43.05s\r"
     ]
    },
    {
     "name": "stderr",
     "output_type": "stream",
     "text": [
      "C:\\Users\\painter\\AppData\\Local\\Temp\\ipykernel_47148\\3181422731.py:174: UserWarning: The figure layout has changed to tight\n",
      "  plt.tight_layout()\n",
      "C:\\Users\\painter\\AppData\\Local\\Temp\\ipykernel_47148\\3181422731.py:159: MatplotlibDeprecationWarning: Auto-removal of overlapping axes is deprecated since 3.6 and will be removed two minor releases later; explicitly call ax.remove() as needed.\n",
      "  plt.subplot(211)\n"
     ]
    },
    {
     "name": "stdout",
     "output_type": "stream",
     "text": [
      "Progress: [############                                      ] 25.7% (n=77/300) --> elapsed time: 43.50s\r"
     ]
    },
    {
     "name": "stderr",
     "output_type": "stream",
     "text": [
      "C:\\Users\\painter\\AppData\\Local\\Temp\\ipykernel_47148\\3181422731.py:166: MatplotlibDeprecationWarning: Auto-removal of overlapping axes is deprecated since 3.6 and will be removed two minor releases later; explicitly call ax.remove() as needed.\n",
      "  plt.subplot(212)\n",
      "C:\\Users\\painter\\AppData\\Local\\Temp\\ipykernel_47148\\3181422731.py:174: UserWarning: The figure layout has changed to tight\n",
      "  plt.tight_layout()\n"
     ]
    },
    {
     "name": "stdout",
     "output_type": "stream",
     "text": [
      "Progress: [#############                                     ] 26.0% (n=78/300) --> elapsed time: 44.03s\r"
     ]
    },
    {
     "name": "stderr",
     "output_type": "stream",
     "text": [
      "C:\\Users\\painter\\AppData\\Local\\Temp\\ipykernel_47148\\3181422731.py:159: MatplotlibDeprecationWarning: Auto-removal of overlapping axes is deprecated since 3.6 and will be removed two minor releases later; explicitly call ax.remove() as needed.\n",
      "  plt.subplot(211)\n",
      "C:\\Users\\painter\\AppData\\Local\\Temp\\ipykernel_47148\\3181422731.py:166: MatplotlibDeprecationWarning: Auto-removal of overlapping axes is deprecated since 3.6 and will be removed two minor releases later; explicitly call ax.remove() as needed.\n",
      "  plt.subplot(212)\n",
      "C:\\Users\\painter\\AppData\\Local\\Temp\\ipykernel_47148\\3181422731.py:174: UserWarning: The figure layout has changed to tight\n",
      "  plt.tight_layout()\n",
      "C:\\Users\\painter\\AppData\\Local\\Temp\\ipykernel_47148\\3181422731.py:159: MatplotlibDeprecationWarning: Auto-removal of overlapping axes is deprecated since 3.6 and will be removed two minor releases later; explicitly call ax.remove() as needed.\n",
      "  plt.subplot(211)\n",
      "C:\\Users\\painter\\AppData\\Local\\Temp\\ipykernel_47148\\3181422731.py:166: MatplotlibDeprecationWarning: Auto-removal of overlapping axes is deprecated since 3.6 and will be removed two minor releases later; explicitly call ax.remove() as needed.\n",
      "  plt.subplot(212)\n"
     ]
    },
    {
     "name": "stdout",
     "output_type": "stream",
     "text": [
      "Progress: [#############                                     ] 26.3% (n=79/300) --> elapsed time: 44.47s\r"
     ]
    },
    {
     "name": "stderr",
     "output_type": "stream",
     "text": [
      "C:\\Users\\painter\\AppData\\Local\\Temp\\ipykernel_47148\\3181422731.py:174: UserWarning: The figure layout has changed to tight\n",
      "  plt.tight_layout()\n",
      "C:\\Users\\painter\\AppData\\Local\\Temp\\ipykernel_47148\\3181422731.py:159: MatplotlibDeprecationWarning: Auto-removal of overlapping axes is deprecated since 3.6 and will be removed two minor releases later; explicitly call ax.remove() as needed.\n",
      "  plt.subplot(211)\n",
      "C:\\Users\\painter\\AppData\\Local\\Temp\\ipykernel_47148\\3181422731.py:166: MatplotlibDeprecationWarning: Auto-removal of overlapping axes is deprecated since 3.6 and will be removed two minor releases later; explicitly call ax.remove() as needed.\n",
      "  plt.subplot(212)\n"
     ]
    },
    {
     "name": "stdout",
     "output_type": "stream",
     "text": [
      "Progress: [#############                                     ] 26.7% (n=80/300) --> elapsed time: 44.86s\r"
     ]
    },
    {
     "name": "stderr",
     "output_type": "stream",
     "text": [
      "C:\\Users\\painter\\AppData\\Local\\Temp\\ipykernel_47148\\3181422731.py:174: UserWarning: The figure layout has changed to tight\n",
      "  plt.tight_layout()\n",
      "C:\\Users\\painter\\AppData\\Local\\Temp\\ipykernel_47148\\3181422731.py:159: MatplotlibDeprecationWarning: Auto-removal of overlapping axes is deprecated since 3.6 and will be removed two minor releases later; explicitly call ax.remove() as needed.\n",
      "  plt.subplot(211)\n",
      "C:\\Users\\painter\\AppData\\Local\\Temp\\ipykernel_47148\\3181422731.py:166: MatplotlibDeprecationWarning: Auto-removal of overlapping axes is deprecated since 3.6 and will be removed two minor releases later; explicitly call ax.remove() as needed.\n",
      "  plt.subplot(212)\n"
     ]
    },
    {
     "name": "stdout",
     "output_type": "stream",
     "text": [
      "Progress: [#############                                     ] 26.7% (n=80/300) --> elapsed time: 45.37s\r"
     ]
    },
    {
     "name": "stderr",
     "output_type": "stream",
     "text": [
      "C:\\Users\\painter\\AppData\\Local\\Temp\\ipykernel_47148\\3181422731.py:174: UserWarning: The figure layout has changed to tight\n",
      "  plt.tight_layout()\n",
      "C:\\Users\\painter\\AppData\\Local\\Temp\\ipykernel_47148\\3181422731.py:159: MatplotlibDeprecationWarning: Auto-removal of overlapping axes is deprecated since 3.6 and will be removed two minor releases later; explicitly call ax.remove() as needed.\n",
      "  plt.subplot(211)\n",
      "C:\\Users\\painter\\AppData\\Local\\Temp\\ipykernel_47148\\3181422731.py:166: MatplotlibDeprecationWarning: Auto-removal of overlapping axes is deprecated since 3.6 and will be removed two minor releases later; explicitly call ax.remove() as needed.\n",
      "  plt.subplot(212)\n"
     ]
    },
    {
     "name": "stdout",
     "output_type": "stream",
     "text": [
      "Progress: [#############                                     ] 27.0% (n=81/300) --> elapsed time: 45.80s\r"
     ]
    },
    {
     "name": "stderr",
     "output_type": "stream",
     "text": [
      "C:\\Users\\painter\\AppData\\Local\\Temp\\ipykernel_47148\\3181422731.py:174: UserWarning: The figure layout has changed to tight\n",
      "  plt.tight_layout()\n",
      "C:\\Users\\painter\\AppData\\Local\\Temp\\ipykernel_47148\\3181422731.py:159: MatplotlibDeprecationWarning: Auto-removal of overlapping axes is deprecated since 3.6 and will be removed two minor releases later; explicitly call ax.remove() as needed.\n",
      "  plt.subplot(211)\n",
      "C:\\Users\\painter\\AppData\\Local\\Temp\\ipykernel_47148\\3181422731.py:166: MatplotlibDeprecationWarning: Auto-removal of overlapping axes is deprecated since 3.6 and will be removed two minor releases later; explicitly call ax.remove() as needed.\n",
      "  plt.subplot(212)\n"
     ]
    },
    {
     "name": "stdout",
     "output_type": "stream",
     "text": [
      "Progress: [#############                                     ] 27.3% (n=82/300) --> elapsed time: 46.21s\r"
     ]
    },
    {
     "name": "stderr",
     "output_type": "stream",
     "text": [
      "C:\\Users\\painter\\AppData\\Local\\Temp\\ipykernel_47148\\3181422731.py:174: UserWarning: The figure layout has changed to tight\n",
      "  plt.tight_layout()\n",
      "C:\\Users\\painter\\AppData\\Local\\Temp\\ipykernel_47148\\3181422731.py:159: MatplotlibDeprecationWarning: Auto-removal of overlapping axes is deprecated since 3.6 and will be removed two minor releases later; explicitly call ax.remove() as needed.\n",
      "  plt.subplot(211)\n",
      "C:\\Users\\painter\\AppData\\Local\\Temp\\ipykernel_47148\\3181422731.py:166: MatplotlibDeprecationWarning: Auto-removal of overlapping axes is deprecated since 3.6 and will be removed two minor releases later; explicitly call ax.remove() as needed.\n",
      "  plt.subplot(212)\n"
     ]
    },
    {
     "name": "stdout",
     "output_type": "stream",
     "text": [
      "Progress: [#############                                     ] 27.7% (n=83/300) --> elapsed time: 46.71s\r"
     ]
    },
    {
     "name": "stderr",
     "output_type": "stream",
     "text": [
      "C:\\Users\\painter\\AppData\\Local\\Temp\\ipykernel_47148\\3181422731.py:174: UserWarning: The figure layout has changed to tight\n",
      "  plt.tight_layout()\n",
      "C:\\Users\\painter\\AppData\\Local\\Temp\\ipykernel_47148\\3181422731.py:159: MatplotlibDeprecationWarning: Auto-removal of overlapping axes is deprecated since 3.6 and will be removed two minor releases later; explicitly call ax.remove() as needed.\n",
      "  plt.subplot(211)\n",
      "C:\\Users\\painter\\AppData\\Local\\Temp\\ipykernel_47148\\3181422731.py:166: MatplotlibDeprecationWarning: Auto-removal of overlapping axes is deprecated since 3.6 and will be removed two minor releases later; explicitly call ax.remove() as needed.\n",
      "  plt.subplot(212)\n"
     ]
    },
    {
     "name": "stdout",
     "output_type": "stream",
     "text": [
      "Progress: [##############                                    ] 28.0% (n=84/300) --> elapsed time: 47.14s\r"
     ]
    },
    {
     "name": "stderr",
     "output_type": "stream",
     "text": [
      "C:\\Users\\painter\\AppData\\Local\\Temp\\ipykernel_47148\\3181422731.py:174: UserWarning: The figure layout has changed to tight\n",
      "  plt.tight_layout()\n",
      "C:\\Users\\painter\\AppData\\Local\\Temp\\ipykernel_47148\\3181422731.py:159: MatplotlibDeprecationWarning: Auto-removal of overlapping axes is deprecated since 3.6 and will be removed two minor releases later; explicitly call ax.remove() as needed.\n",
      "  plt.subplot(211)\n",
      "C:\\Users\\painter\\AppData\\Local\\Temp\\ipykernel_47148\\3181422731.py:166: MatplotlibDeprecationWarning: Auto-removal of overlapping axes is deprecated since 3.6 and will be removed two minor releases later; explicitly call ax.remove() as needed.\n",
      "  plt.subplot(212)\n"
     ]
    },
    {
     "name": "stdout",
     "output_type": "stream",
     "text": [
      "Progress: [##############                                    ] 28.0% (n=84/300) --> elapsed time: 47.55s\r"
     ]
    },
    {
     "name": "stderr",
     "output_type": "stream",
     "text": [
      "C:\\Users\\painter\\AppData\\Local\\Temp\\ipykernel_47148\\3181422731.py:174: UserWarning: The figure layout has changed to tight\n",
      "  plt.tight_layout()\n",
      "C:\\Users\\painter\\AppData\\Local\\Temp\\ipykernel_47148\\3181422731.py:159: MatplotlibDeprecationWarning: Auto-removal of overlapping axes is deprecated since 3.6 and will be removed two minor releases later; explicitly call ax.remove() as needed.\n",
      "  plt.subplot(211)\n",
      "C:\\Users\\painter\\AppData\\Local\\Temp\\ipykernel_47148\\3181422731.py:166: MatplotlibDeprecationWarning: Auto-removal of overlapping axes is deprecated since 3.6 and will be removed two minor releases later; explicitly call ax.remove() as needed.\n",
      "  plt.subplot(212)\n"
     ]
    },
    {
     "name": "stdout",
     "output_type": "stream",
     "text": [
      "Progress: [##############                                    ] 28.3% (n=85/300) --> elapsed time: 48.07s\r"
     ]
    },
    {
     "name": "stderr",
     "output_type": "stream",
     "text": [
      "C:\\Users\\painter\\AppData\\Local\\Temp\\ipykernel_47148\\3181422731.py:174: UserWarning: The figure layout has changed to tight\n",
      "  plt.tight_layout()\n",
      "C:\\Users\\painter\\AppData\\Local\\Temp\\ipykernel_47148\\3181422731.py:159: MatplotlibDeprecationWarning: Auto-removal of overlapping axes is deprecated since 3.6 and will be removed two minor releases later; explicitly call ax.remove() as needed.\n",
      "  plt.subplot(211)\n",
      "C:\\Users\\painter\\AppData\\Local\\Temp\\ipykernel_47148\\3181422731.py:166: MatplotlibDeprecationWarning: Auto-removal of overlapping axes is deprecated since 3.6 and will be removed two minor releases later; explicitly call ax.remove() as needed.\n",
      "  plt.subplot(212)\n"
     ]
    },
    {
     "name": "stdout",
     "output_type": "stream",
     "text": [
      "Progress: [##############                                    ] 28.7% (n=86/300) --> elapsed time: 48.45s\r"
     ]
    },
    {
     "name": "stderr",
     "output_type": "stream",
     "text": [
      "C:\\Users\\painter\\AppData\\Local\\Temp\\ipykernel_47148\\3181422731.py:174: UserWarning: The figure layout has changed to tight\n",
      "  plt.tight_layout()\n",
      "C:\\Users\\painter\\AppData\\Local\\Temp\\ipykernel_47148\\3181422731.py:159: MatplotlibDeprecationWarning: Auto-removal of overlapping axes is deprecated since 3.6 and will be removed two minor releases later; explicitly call ax.remove() as needed.\n",
      "  plt.subplot(211)\n",
      "C:\\Users\\painter\\AppData\\Local\\Temp\\ipykernel_47148\\3181422731.py:166: MatplotlibDeprecationWarning: Auto-removal of overlapping axes is deprecated since 3.6 and will be removed two minor releases later; explicitly call ax.remove() as needed.\n",
      "  plt.subplot(212)\n"
     ]
    },
    {
     "name": "stdout",
     "output_type": "stream",
     "text": [
      "Progress: [##############                                    ] 28.7% (n=86/300) --> elapsed time: 48.85s\r"
     ]
    },
    {
     "name": "stderr",
     "output_type": "stream",
     "text": [
      "C:\\Users\\painter\\AppData\\Local\\Temp\\ipykernel_47148\\3181422731.py:174: UserWarning: The figure layout has changed to tight\n",
      "  plt.tight_layout()\n",
      "C:\\Users\\painter\\AppData\\Local\\Temp\\ipykernel_47148\\3181422731.py:159: MatplotlibDeprecationWarning: Auto-removal of overlapping axes is deprecated since 3.6 and will be removed two minor releases later; explicitly call ax.remove() as needed.\n",
      "  plt.subplot(211)\n"
     ]
    },
    {
     "name": "stdout",
     "output_type": "stream",
     "text": [
      "Progress: [##############                                    ] 29.0% (n=87/300) --> elapsed time: 49.33s\r"
     ]
    },
    {
     "name": "stderr",
     "output_type": "stream",
     "text": [
      "C:\\Users\\painter\\AppData\\Local\\Temp\\ipykernel_47148\\3181422731.py:166: MatplotlibDeprecationWarning: Auto-removal of overlapping axes is deprecated since 3.6 and will be removed two minor releases later; explicitly call ax.remove() as needed.\n",
      "  plt.subplot(212)\n",
      "C:\\Users\\painter\\AppData\\Local\\Temp\\ipykernel_47148\\3181422731.py:174: UserWarning: The figure layout has changed to tight\n",
      "  plt.tight_layout()\n",
      "C:\\Users\\painter\\AppData\\Local\\Temp\\ipykernel_47148\\3181422731.py:159: MatplotlibDeprecationWarning: Auto-removal of overlapping axes is deprecated since 3.6 and will be removed two minor releases later; explicitly call ax.remove() as needed.\n",
      "  plt.subplot(211)\n",
      "C:\\Users\\painter\\AppData\\Local\\Temp\\ipykernel_47148\\3181422731.py:166: MatplotlibDeprecationWarning: Auto-removal of overlapping axes is deprecated since 3.6 and will be removed two minor releases later; explicitly call ax.remove() as needed.\n",
      "  plt.subplot(212)\n"
     ]
    },
    {
     "name": "stdout",
     "output_type": "stream",
     "text": [
      "Progress: [##############                                    ] 29.3% (n=88/300) --> elapsed time: 49.86s\r"
     ]
    },
    {
     "name": "stderr",
     "output_type": "stream",
     "text": [
      "C:\\Users\\painter\\AppData\\Local\\Temp\\ipykernel_47148\\3181422731.py:174: UserWarning: The figure layout has changed to tight\n",
      "  plt.tight_layout()\n",
      "C:\\Users\\painter\\AppData\\Local\\Temp\\ipykernel_47148\\3181422731.py:159: MatplotlibDeprecationWarning: Auto-removal of overlapping axes is deprecated since 3.6 and will be removed two minor releases later; explicitly call ax.remove() as needed.\n",
      "  plt.subplot(211)\n",
      "C:\\Users\\painter\\AppData\\Local\\Temp\\ipykernel_47148\\3181422731.py:166: MatplotlibDeprecationWarning: Auto-removal of overlapping axes is deprecated since 3.6 and will be removed two minor releases later; explicitly call ax.remove() as needed.\n",
      "  plt.subplot(212)\n"
     ]
    },
    {
     "name": "stdout",
     "output_type": "stream",
     "text": [
      "Progress: [##############                                    ] 29.7% (n=89/300) --> elapsed time: 50.25s\r"
     ]
    },
    {
     "name": "stderr",
     "output_type": "stream",
     "text": [
      "C:\\Users\\painter\\AppData\\Local\\Temp\\ipykernel_47148\\3181422731.py:174: UserWarning: The figure layout has changed to tight\n",
      "  plt.tight_layout()\n",
      "C:\\Users\\painter\\AppData\\Local\\Temp\\ipykernel_47148\\3181422731.py:159: MatplotlibDeprecationWarning: Auto-removal of overlapping axes is deprecated since 3.6 and will be removed two minor releases later; explicitly call ax.remove() as needed.\n",
      "  plt.subplot(211)\n"
     ]
    },
    {
     "name": "stdout",
     "output_type": "stream",
     "text": [
      "Progress: [###############                                   ] 30.0% (n=90/300) --> elapsed time: 50.66s\r"
     ]
    },
    {
     "name": "stderr",
     "output_type": "stream",
     "text": [
      "C:\\Users\\painter\\AppData\\Local\\Temp\\ipykernel_47148\\3181422731.py:166: MatplotlibDeprecationWarning: Auto-removal of overlapping axes is deprecated since 3.6 and will be removed two minor releases later; explicitly call ax.remove() as needed.\n",
      "  plt.subplot(212)\n",
      "C:\\Users\\painter\\AppData\\Local\\Temp\\ipykernel_47148\\3181422731.py:174: UserWarning: The figure layout has changed to tight\n",
      "  plt.tight_layout()\n"
     ]
    },
    {
     "name": "stdout",
     "output_type": "stream",
     "text": [
      "Progress: [###############                                   ] 30.3% (n=91/300) --> elapsed time: 51.18s\r"
     ]
    },
    {
     "name": "stderr",
     "output_type": "stream",
     "text": [
      "C:\\Users\\painter\\AppData\\Local\\Temp\\ipykernel_47148\\3181422731.py:159: MatplotlibDeprecationWarning: Auto-removal of overlapping axes is deprecated since 3.6 and will be removed two minor releases later; explicitly call ax.remove() as needed.\n",
      "  plt.subplot(211)\n",
      "C:\\Users\\painter\\AppData\\Local\\Temp\\ipykernel_47148\\3181422731.py:166: MatplotlibDeprecationWarning: Auto-removal of overlapping axes is deprecated since 3.6 and will be removed two minor releases later; explicitly call ax.remove() as needed.\n",
      "  plt.subplot(212)\n",
      "C:\\Users\\painter\\AppData\\Local\\Temp\\ipykernel_47148\\3181422731.py:174: UserWarning: The figure layout has changed to tight\n",
      "  plt.tight_layout()\n",
      "C:\\Users\\painter\\AppData\\Local\\Temp\\ipykernel_47148\\3181422731.py:159: MatplotlibDeprecationWarning: Auto-removal of overlapping axes is deprecated since 3.6 and will be removed two minor releases later; explicitly call ax.remove() as needed.\n",
      "  plt.subplot(211)\n",
      "C:\\Users\\painter\\AppData\\Local\\Temp\\ipykernel_47148\\3181422731.py:166: MatplotlibDeprecationWarning: Auto-removal of overlapping axes is deprecated since 3.6 and will be removed two minor releases later; explicitly call ax.remove() as needed.\n",
      "  plt.subplot(212)\n"
     ]
    },
    {
     "name": "stdout",
     "output_type": "stream",
     "text": [
      "Progress: [###############                                   ] 30.3% (n=91/300) --> elapsed time: 51.55s\r"
     ]
    },
    {
     "name": "stderr",
     "output_type": "stream",
     "text": [
      "C:\\Users\\painter\\AppData\\Local\\Temp\\ipykernel_47148\\3181422731.py:174: UserWarning: The figure layout has changed to tight\n",
      "  plt.tight_layout()\n",
      "C:\\Users\\painter\\AppData\\Local\\Temp\\ipykernel_47148\\3181422731.py:159: MatplotlibDeprecationWarning: Auto-removal of overlapping axes is deprecated since 3.6 and will be removed two minor releases later; explicitly call ax.remove() as needed.\n",
      "  plt.subplot(211)\n",
      "C:\\Users\\painter\\AppData\\Local\\Temp\\ipykernel_47148\\3181422731.py:166: MatplotlibDeprecationWarning: Auto-removal of overlapping axes is deprecated since 3.6 and will be removed two minor releases later; explicitly call ax.remove() as needed.\n",
      "  plt.subplot(212)\n"
     ]
    },
    {
     "name": "stdout",
     "output_type": "stream",
     "text": [
      "Progress: [###############                                   ] 30.7% (n=92/300) --> elapsed time: 51.96s\r"
     ]
    },
    {
     "name": "stderr",
     "output_type": "stream",
     "text": [
      "C:\\Users\\painter\\AppData\\Local\\Temp\\ipykernel_47148\\3181422731.py:174: UserWarning: The figure layout has changed to tight\n",
      "  plt.tight_layout()\n",
      "C:\\Users\\painter\\AppData\\Local\\Temp\\ipykernel_47148\\3181422731.py:159: MatplotlibDeprecationWarning: Auto-removal of overlapping axes is deprecated since 3.6 and will be removed two minor releases later; explicitly call ax.remove() as needed.\n",
      "  plt.subplot(211)\n",
      "C:\\Users\\painter\\AppData\\Local\\Temp\\ipykernel_47148\\3181422731.py:166: MatplotlibDeprecationWarning: Auto-removal of overlapping axes is deprecated since 3.6 and will be removed two minor releases later; explicitly call ax.remove() as needed.\n",
      "  plt.subplot(212)\n"
     ]
    },
    {
     "name": "stdout",
     "output_type": "stream",
     "text": [
      "Progress: [###############                                   ] 31.0% (n=93/300) --> elapsed time: 52.46s\r"
     ]
    },
    {
     "name": "stderr",
     "output_type": "stream",
     "text": [
      "C:\\Users\\painter\\AppData\\Local\\Temp\\ipykernel_47148\\3181422731.py:174: UserWarning: The figure layout has changed to tight\n",
      "  plt.tight_layout()\n",
      "C:\\Users\\painter\\AppData\\Local\\Temp\\ipykernel_47148\\3181422731.py:159: MatplotlibDeprecationWarning: Auto-removal of overlapping axes is deprecated since 3.6 and will be removed two minor releases later; explicitly call ax.remove() as needed.\n",
      "  plt.subplot(211)\n",
      "C:\\Users\\painter\\AppData\\Local\\Temp\\ipykernel_47148\\3181422731.py:166: MatplotlibDeprecationWarning: Auto-removal of overlapping axes is deprecated since 3.6 and will be removed two minor releases later; explicitly call ax.remove() as needed.\n",
      "  plt.subplot(212)\n"
     ]
    },
    {
     "name": "stdout",
     "output_type": "stream",
     "text": [
      "Progress: [###############                                   ] 31.3% (n=94/300) --> elapsed time: 52.87s\r"
     ]
    },
    {
     "name": "stderr",
     "output_type": "stream",
     "text": [
      "C:\\Users\\painter\\AppData\\Local\\Temp\\ipykernel_47148\\3181422731.py:174: UserWarning: The figure layout has changed to tight\n",
      "  plt.tight_layout()\n",
      "C:\\Users\\painter\\AppData\\Local\\Temp\\ipykernel_47148\\3181422731.py:159: MatplotlibDeprecationWarning: Auto-removal of overlapping axes is deprecated since 3.6 and will be removed two minor releases later; explicitly call ax.remove() as needed.\n",
      "  plt.subplot(211)\n",
      "C:\\Users\\painter\\AppData\\Local\\Temp\\ipykernel_47148\\3181422731.py:166: MatplotlibDeprecationWarning: Auto-removal of overlapping axes is deprecated since 3.6 and will be removed two minor releases later; explicitly call ax.remove() as needed.\n",
      "  plt.subplot(212)\n"
     ]
    },
    {
     "name": "stdout",
     "output_type": "stream",
     "text": [
      "Progress: [###############                                   ] 31.3% (n=94/300) --> elapsed time: 53.27s\r"
     ]
    },
    {
     "name": "stderr",
     "output_type": "stream",
     "text": [
      "C:\\Users\\painter\\AppData\\Local\\Temp\\ipykernel_47148\\3181422731.py:174: UserWarning: The figure layout has changed to tight\n",
      "  plt.tight_layout()\n",
      "C:\\Users\\painter\\AppData\\Local\\Temp\\ipykernel_47148\\3181422731.py:159: MatplotlibDeprecationWarning: Auto-removal of overlapping axes is deprecated since 3.6 and will be removed two minor releases later; explicitly call ax.remove() as needed.\n",
      "  plt.subplot(211)\n",
      "C:\\Users\\painter\\AppData\\Local\\Temp\\ipykernel_47148\\3181422731.py:166: MatplotlibDeprecationWarning: Auto-removal of overlapping axes is deprecated since 3.6 and will be removed two minor releases later; explicitly call ax.remove() as needed.\n",
      "  plt.subplot(212)\n"
     ]
    },
    {
     "name": "stdout",
     "output_type": "stream",
     "text": [
      "Progress: [###############                                   ] 31.7% (n=95/300) --> elapsed time: 53.80s\r"
     ]
    },
    {
     "name": "stderr",
     "output_type": "stream",
     "text": [
      "C:\\Users\\painter\\AppData\\Local\\Temp\\ipykernel_47148\\3181422731.py:174: UserWarning: The figure layout has changed to tight\n",
      "  plt.tight_layout()\n",
      "C:\\Users\\painter\\AppData\\Local\\Temp\\ipykernel_47148\\3181422731.py:159: MatplotlibDeprecationWarning: Auto-removal of overlapping axes is deprecated since 3.6 and will be removed two minor releases later; explicitly call ax.remove() as needed.\n",
      "  plt.subplot(211)\n",
      "C:\\Users\\painter\\AppData\\Local\\Temp\\ipykernel_47148\\3181422731.py:166: MatplotlibDeprecationWarning: Auto-removal of overlapping axes is deprecated since 3.6 and will be removed two minor releases later; explicitly call ax.remove() as needed.\n",
      "  plt.subplot(212)\n"
     ]
    },
    {
     "name": "stdout",
     "output_type": "stream",
     "text": [
      "Progress: [################                                  ] 32.0% (n=96/300) --> elapsed time: 54.21s\r"
     ]
    },
    {
     "name": "stderr",
     "output_type": "stream",
     "text": [
      "C:\\Users\\painter\\AppData\\Local\\Temp\\ipykernel_47148\\3181422731.py:174: UserWarning: The figure layout has changed to tight\n",
      "  plt.tight_layout()\n",
      "C:\\Users\\painter\\AppData\\Local\\Temp\\ipykernel_47148\\3181422731.py:159: MatplotlibDeprecationWarning: Auto-removal of overlapping axes is deprecated since 3.6 and will be removed two minor releases later; explicitly call ax.remove() as needed.\n",
      "  plt.subplot(211)\n",
      "C:\\Users\\painter\\AppData\\Local\\Temp\\ipykernel_47148\\3181422731.py:166: MatplotlibDeprecationWarning: Auto-removal of overlapping axes is deprecated since 3.6 and will be removed two minor releases later; explicitly call ax.remove() as needed.\n",
      "  plt.subplot(212)\n"
     ]
    },
    {
     "name": "stdout",
     "output_type": "stream",
     "text": [
      "Progress: [################                                  ] 32.3% (n=97/300) --> elapsed time: 54.61s\r"
     ]
    },
    {
     "name": "stderr",
     "output_type": "stream",
     "text": [
      "C:\\Users\\painter\\AppData\\Local\\Temp\\ipykernel_47148\\3181422731.py:174: UserWarning: The figure layout has changed to tight\n",
      "  plt.tight_layout()\n",
      "C:\\Users\\painter\\AppData\\Local\\Temp\\ipykernel_47148\\3181422731.py:159: MatplotlibDeprecationWarning: Auto-removal of overlapping axes is deprecated since 3.6 and will be removed two minor releases later; explicitly call ax.remove() as needed.\n",
      "  plt.subplot(211)\n"
     ]
    },
    {
     "name": "stdout",
     "output_type": "stream",
     "text": [
      "Progress: [################                                  ] 32.3% (n=97/300) --> elapsed time: 55.00s\r"
     ]
    },
    {
     "name": "stderr",
     "output_type": "stream",
     "text": [
      "C:\\Users\\painter\\AppData\\Local\\Temp\\ipykernel_47148\\3181422731.py:166: MatplotlibDeprecationWarning: Auto-removal of overlapping axes is deprecated since 3.6 and will be removed two minor releases later; explicitly call ax.remove() as needed.\n",
      "  plt.subplot(212)\n",
      "C:\\Users\\painter\\AppData\\Local\\Temp\\ipykernel_47148\\3181422731.py:174: UserWarning: The figure layout has changed to tight\n",
      "  plt.tight_layout()\n",
      "C:\\Users\\painter\\AppData\\Local\\Temp\\ipykernel_47148\\3181422731.py:159: MatplotlibDeprecationWarning: Auto-removal of overlapping axes is deprecated since 3.6 and will be removed two minor releases later; explicitly call ax.remove() as needed.\n",
      "  plt.subplot(211)\n",
      "C:\\Users\\painter\\AppData\\Local\\Temp\\ipykernel_47148\\3181422731.py:166: MatplotlibDeprecationWarning: Auto-removal of overlapping axes is deprecated since 3.6 and will be removed two minor releases later; explicitly call ax.remove() as needed.\n",
      "  plt.subplot(212)\n"
     ]
    },
    {
     "name": "stdout",
     "output_type": "stream",
     "text": [
      "Progress: [################                                  ] 32.7% (n=98/300) --> elapsed time: 55.54s\r"
     ]
    },
    {
     "name": "stderr",
     "output_type": "stream",
     "text": [
      "C:\\Users\\painter\\AppData\\Local\\Temp\\ipykernel_47148\\3181422731.py:174: UserWarning: The figure layout has changed to tight\n",
      "  plt.tight_layout()\n",
      "C:\\Users\\painter\\AppData\\Local\\Temp\\ipykernel_47148\\3181422731.py:159: MatplotlibDeprecationWarning: Auto-removal of overlapping axes is deprecated since 3.6 and will be removed two minor releases later; explicitly call ax.remove() as needed.\n",
      "  plt.subplot(211)\n",
      "C:\\Users\\painter\\AppData\\Local\\Temp\\ipykernel_47148\\3181422731.py:166: MatplotlibDeprecationWarning: Auto-removal of overlapping axes is deprecated since 3.6 and will be removed two minor releases later; explicitly call ax.remove() as needed.\n",
      "  plt.subplot(212)\n"
     ]
    },
    {
     "name": "stdout",
     "output_type": "stream",
     "text": [
      "Progress: [################                                  ] 33.0% (n=99/300) --> elapsed time: 55.95s\r"
     ]
    },
    {
     "name": "stderr",
     "output_type": "stream",
     "text": [
      "C:\\Users\\painter\\AppData\\Local\\Temp\\ipykernel_47148\\3181422731.py:174: UserWarning: The figure layout has changed to tight\n",
      "  plt.tight_layout()\n",
      "C:\\Users\\painter\\AppData\\Local\\Temp\\ipykernel_47148\\3181422731.py:159: MatplotlibDeprecationWarning: Auto-removal of overlapping axes is deprecated since 3.6 and will be removed two minor releases later; explicitly call ax.remove() as needed.\n",
      "  plt.subplot(211)\n"
     ]
    },
    {
     "name": "stdout",
     "output_type": "stream",
     "text": [
      "Progress: [################                                  ] 33.3% (n=100/300) --> elapsed time: 56.35s\r"
     ]
    },
    {
     "name": "stderr",
     "output_type": "stream",
     "text": [
      "C:\\Users\\painter\\AppData\\Local\\Temp\\ipykernel_47148\\3181422731.py:166: MatplotlibDeprecationWarning: Auto-removal of overlapping axes is deprecated since 3.6 and will be removed two minor releases later; explicitly call ax.remove() as needed.\n",
      "  plt.subplot(212)\n",
      "C:\\Users\\painter\\AppData\\Local\\Temp\\ipykernel_47148\\3181422731.py:174: UserWarning: The figure layout has changed to tight\n",
      "  plt.tight_layout()\n"
     ]
    },
    {
     "name": "stdout",
     "output_type": "stream",
     "text": [
      "Progress: [################                                  ] 33.7% (n=101/300) --> elapsed time: 56.87s\r"
     ]
    },
    {
     "name": "stderr",
     "output_type": "stream",
     "text": [
      "C:\\Users\\painter\\AppData\\Local\\Temp\\ipykernel_47148\\3181422731.py:159: MatplotlibDeprecationWarning: Auto-removal of overlapping axes is deprecated since 3.6 and will be removed two minor releases later; explicitly call ax.remove() as needed.\n",
      "  plt.subplot(211)\n",
      "C:\\Users\\painter\\AppData\\Local\\Temp\\ipykernel_47148\\3181422731.py:166: MatplotlibDeprecationWarning: Auto-removal of overlapping axes is deprecated since 3.6 and will be removed two minor releases later; explicitly call ax.remove() as needed.\n",
      "  plt.subplot(212)\n",
      "C:\\Users\\painter\\AppData\\Local\\Temp\\ipykernel_47148\\3181422731.py:174: UserWarning: The figure layout has changed to tight\n",
      "  plt.tight_layout()\n",
      "C:\\Users\\painter\\AppData\\Local\\Temp\\ipykernel_47148\\3181422731.py:159: MatplotlibDeprecationWarning: Auto-removal of overlapping axes is deprecated since 3.6 and will be removed two minor releases later; explicitly call ax.remove() as needed.\n",
      "  plt.subplot(211)\n",
      "C:\\Users\\painter\\AppData\\Local\\Temp\\ipykernel_47148\\3181422731.py:166: MatplotlibDeprecationWarning: Auto-removal of overlapping axes is deprecated since 3.6 and will be removed two minor releases later; explicitly call ax.remove() as needed.\n",
      "  plt.subplot(212)\n"
     ]
    },
    {
     "name": "stdout",
     "output_type": "stream",
     "text": [
      "Progress: [################                                  ] 33.7% (n=101/300) --> elapsed time: 57.26s\r"
     ]
    },
    {
     "name": "stderr",
     "output_type": "stream",
     "text": [
      "C:\\Users\\painter\\AppData\\Local\\Temp\\ipykernel_47148\\3181422731.py:174: UserWarning: The figure layout has changed to tight\n",
      "  plt.tight_layout()\n",
      "C:\\Users\\painter\\AppData\\Local\\Temp\\ipykernel_47148\\3181422731.py:159: MatplotlibDeprecationWarning: Auto-removal of overlapping axes is deprecated since 3.6 and will be removed two minor releases later; explicitly call ax.remove() as needed.\n",
      "  plt.subplot(211)\n",
      "C:\\Users\\painter\\AppData\\Local\\Temp\\ipykernel_47148\\3181422731.py:166: MatplotlibDeprecationWarning: Auto-removal of overlapping axes is deprecated since 3.6 and will be removed two minor releases later; explicitly call ax.remove() as needed.\n",
      "  plt.subplot(212)\n"
     ]
    },
    {
     "name": "stdout",
     "output_type": "stream",
     "text": [
      "Progress: [#################                                 ] 34.0% (n=102/300) --> elapsed time: 57.65s\r"
     ]
    },
    {
     "name": "stderr",
     "output_type": "stream",
     "text": [
      "C:\\Users\\painter\\AppData\\Local\\Temp\\ipykernel_47148\\3181422731.py:174: UserWarning: The figure layout has changed to tight\n",
      "  plt.tight_layout()\n",
      "C:\\Users\\painter\\AppData\\Local\\Temp\\ipykernel_47148\\3181422731.py:159: MatplotlibDeprecationWarning: Auto-removal of overlapping axes is deprecated since 3.6 and will be removed two minor releases later; explicitly call ax.remove() as needed.\n",
      "  plt.subplot(211)\n",
      "C:\\Users\\painter\\AppData\\Local\\Temp\\ipykernel_47148\\3181422731.py:166: MatplotlibDeprecationWarning: Auto-removal of overlapping axes is deprecated since 3.6 and will be removed two minor releases later; explicitly call ax.remove() as needed.\n",
      "  plt.subplot(212)\n"
     ]
    },
    {
     "name": "stdout",
     "output_type": "stream",
     "text": [
      "Progress: [#################                                 ] 34.3% (n=103/300) --> elapsed time: 58.19s\r"
     ]
    },
    {
     "name": "stderr",
     "output_type": "stream",
     "text": [
      "C:\\Users\\painter\\AppData\\Local\\Temp\\ipykernel_47148\\3181422731.py:174: UserWarning: The figure layout has changed to tight\n",
      "  plt.tight_layout()\n",
      "C:\\Users\\painter\\AppData\\Local\\Temp\\ipykernel_47148\\3181422731.py:159: MatplotlibDeprecationWarning: Auto-removal of overlapping axes is deprecated since 3.6 and will be removed two minor releases later; explicitly call ax.remove() as needed.\n",
      "  plt.subplot(211)\n",
      "C:\\Users\\painter\\AppData\\Local\\Temp\\ipykernel_47148\\3181422731.py:166: MatplotlibDeprecationWarning: Auto-removal of overlapping axes is deprecated since 3.6 and will be removed two minor releases later; explicitly call ax.remove() as needed.\n",
      "  plt.subplot(212)\n"
     ]
    },
    {
     "name": "stdout",
     "output_type": "stream",
     "text": [
      "Progress: [#################                                 ] 34.7% (n=104/300) --> elapsed time: 58.58s\r"
     ]
    },
    {
     "name": "stderr",
     "output_type": "stream",
     "text": [
      "C:\\Users\\painter\\AppData\\Local\\Temp\\ipykernel_47148\\3181422731.py:174: UserWarning: The figure layout has changed to tight\n",
      "  plt.tight_layout()\n",
      "C:\\Users\\painter\\AppData\\Local\\Temp\\ipykernel_47148\\3181422731.py:159: MatplotlibDeprecationWarning: Auto-removal of overlapping axes is deprecated since 3.6 and will be removed two minor releases later; explicitly call ax.remove() as needed.\n",
      "  plt.subplot(211)\n",
      "C:\\Users\\painter\\AppData\\Local\\Temp\\ipykernel_47148\\3181422731.py:166: MatplotlibDeprecationWarning: Auto-removal of overlapping axes is deprecated since 3.6 and will be removed two minor releases later; explicitly call ax.remove() as needed.\n",
      "  plt.subplot(212)\n"
     ]
    },
    {
     "name": "stdout",
     "output_type": "stream",
     "text": [
      "Progress: [#################                                 ] 34.7% (n=104/300) --> elapsed time: 58.98s\r"
     ]
    },
    {
     "name": "stderr",
     "output_type": "stream",
     "text": [
      "C:\\Users\\painter\\AppData\\Local\\Temp\\ipykernel_47148\\3181422731.py:174: UserWarning: The figure layout has changed to tight\n",
      "  plt.tight_layout()\n",
      "C:\\Users\\painter\\AppData\\Local\\Temp\\ipykernel_47148\\3181422731.py:159: MatplotlibDeprecationWarning: Auto-removal of overlapping axes is deprecated since 3.6 and will be removed two minor releases later; explicitly call ax.remove() as needed.\n",
      "  plt.subplot(211)\n",
      "C:\\Users\\painter\\AppData\\Local\\Temp\\ipykernel_47148\\3181422731.py:166: MatplotlibDeprecationWarning: Auto-removal of overlapping axes is deprecated since 3.6 and will be removed two minor releases later; explicitly call ax.remove() as needed.\n",
      "  plt.subplot(212)\n"
     ]
    },
    {
     "name": "stdout",
     "output_type": "stream",
     "text": [
      "Progress: [#################                                 ] 35.0% (n=105/300) --> elapsed time: 59.50s\r"
     ]
    },
    {
     "name": "stderr",
     "output_type": "stream",
     "text": [
      "C:\\Users\\painter\\AppData\\Local\\Temp\\ipykernel_47148\\3181422731.py:174: UserWarning: The figure layout has changed to tight\n",
      "  plt.tight_layout()\n",
      "C:\\Users\\painter\\AppData\\Local\\Temp\\ipykernel_47148\\3181422731.py:159: MatplotlibDeprecationWarning: Auto-removal of overlapping axes is deprecated since 3.6 and will be removed two minor releases later; explicitly call ax.remove() as needed.\n",
      "  plt.subplot(211)\n",
      "C:\\Users\\painter\\AppData\\Local\\Temp\\ipykernel_47148\\3181422731.py:166: MatplotlibDeprecationWarning: Auto-removal of overlapping axes is deprecated since 3.6 and will be removed two minor releases later; explicitly call ax.remove() as needed.\n",
      "  plt.subplot(212)\n"
     ]
    },
    {
     "name": "stdout",
     "output_type": "stream",
     "text": [
      "Progress: [#################                                 ] 35.3% (n=106/300) --> elapsed time: 59.90s\r"
     ]
    },
    {
     "name": "stderr",
     "output_type": "stream",
     "text": [
      "C:\\Users\\painter\\AppData\\Local\\Temp\\ipykernel_47148\\3181422731.py:174: UserWarning: The figure layout has changed to tight\n",
      "  plt.tight_layout()\n",
      "C:\\Users\\painter\\AppData\\Local\\Temp\\ipykernel_47148\\3181422731.py:159: MatplotlibDeprecationWarning: Auto-removal of overlapping axes is deprecated since 3.6 and will be removed two minor releases later; explicitly call ax.remove() as needed.\n",
      "  plt.subplot(211)\n",
      "C:\\Users\\painter\\AppData\\Local\\Temp\\ipykernel_47148\\3181422731.py:166: MatplotlibDeprecationWarning: Auto-removal of overlapping axes is deprecated since 3.6 and will be removed two minor releases later; explicitly call ax.remove() as needed.\n",
      "  plt.subplot(212)\n"
     ]
    },
    {
     "name": "stdout",
     "output_type": "stream",
     "text": [
      "Progress: [#################                                 ] 35.7% (n=107/300) --> elapsed time: 60.30s\r"
     ]
    },
    {
     "name": "stderr",
     "output_type": "stream",
     "text": [
      "C:\\Users\\painter\\AppData\\Local\\Temp\\ipykernel_47148\\3181422731.py:174: UserWarning: The figure layout has changed to tight\n",
      "  plt.tight_layout()\n",
      "C:\\Users\\painter\\AppData\\Local\\Temp\\ipykernel_47148\\3181422731.py:159: MatplotlibDeprecationWarning: Auto-removal of overlapping axes is deprecated since 3.6 and will be removed two minor releases later; explicitly call ax.remove() as needed.\n",
      "  plt.subplot(211)\n"
     ]
    },
    {
     "name": "stdout",
     "output_type": "stream",
     "text": [
      "Progress: [#################                                 ] 35.7% (n=107/300) --> elapsed time: 60.70s\r"
     ]
    },
    {
     "name": "stderr",
     "output_type": "stream",
     "text": [
      "C:\\Users\\painter\\AppData\\Local\\Temp\\ipykernel_47148\\3181422731.py:166: MatplotlibDeprecationWarning: Auto-removal of overlapping axes is deprecated since 3.6 and will be removed two minor releases later; explicitly call ax.remove() as needed.\n",
      "  plt.subplot(212)\n",
      "C:\\Users\\painter\\AppData\\Local\\Temp\\ipykernel_47148\\3181422731.py:174: UserWarning: The figure layout has changed to tight\n",
      "  plt.tight_layout()\n"
     ]
    },
    {
     "name": "stdout",
     "output_type": "stream",
     "text": [
      "Progress: [##################                                ] 36.0% (n=108/300) --> elapsed time: 61.22s\r"
     ]
    },
    {
     "name": "stderr",
     "output_type": "stream",
     "text": [
      "C:\\Users\\painter\\AppData\\Local\\Temp\\ipykernel_47148\\3181422731.py:159: MatplotlibDeprecationWarning: Auto-removal of overlapping axes is deprecated since 3.6 and will be removed two minor releases later; explicitly call ax.remove() as needed.\n",
      "  plt.subplot(211)\n",
      "C:\\Users\\painter\\AppData\\Local\\Temp\\ipykernel_47148\\3181422731.py:166: MatplotlibDeprecationWarning: Auto-removal of overlapping axes is deprecated since 3.6 and will be removed two minor releases later; explicitly call ax.remove() as needed.\n",
      "  plt.subplot(212)\n",
      "C:\\Users\\painter\\AppData\\Local\\Temp\\ipykernel_47148\\3181422731.py:174: UserWarning: The figure layout has changed to tight\n",
      "  plt.tight_layout()\n",
      "C:\\Users\\painter\\AppData\\Local\\Temp\\ipykernel_47148\\3181422731.py:159: MatplotlibDeprecationWarning: Auto-removal of overlapping axes is deprecated since 3.6 and will be removed two minor releases later; explicitly call ax.remove() as needed.\n",
      "  plt.subplot(211)\n",
      "C:\\Users\\painter\\AppData\\Local\\Temp\\ipykernel_47148\\3181422731.py:166: MatplotlibDeprecationWarning: Auto-removal of overlapping axes is deprecated since 3.6 and will be removed two minor releases later; explicitly call ax.remove() as needed.\n",
      "  plt.subplot(212)\n"
     ]
    },
    {
     "name": "stdout",
     "output_type": "stream",
     "text": [
      "Progress: [##################                                ] 36.3% (n=109/300) --> elapsed time: 61.61s\r"
     ]
    },
    {
     "name": "stderr",
     "output_type": "stream",
     "text": [
      "C:\\Users\\painter\\AppData\\Local\\Temp\\ipykernel_47148\\3181422731.py:174: UserWarning: The figure layout has changed to tight\n",
      "  plt.tight_layout()\n",
      "C:\\Users\\painter\\AppData\\Local\\Temp\\ipykernel_47148\\3181422731.py:159: MatplotlibDeprecationWarning: Auto-removal of overlapping axes is deprecated since 3.6 and will be removed two minor releases later; explicitly call ax.remove() as needed.\n",
      "  plt.subplot(211)\n"
     ]
    },
    {
     "name": "stdout",
     "output_type": "stream",
     "text": [
      "Progress: [##################                                ] 36.7% (n=110/300) --> elapsed time: 62.01s\r"
     ]
    },
    {
     "name": "stderr",
     "output_type": "stream",
     "text": [
      "C:\\Users\\painter\\AppData\\Local\\Temp\\ipykernel_47148\\3181422731.py:166: MatplotlibDeprecationWarning: Auto-removal of overlapping axes is deprecated since 3.6 and will be removed two minor releases later; explicitly call ax.remove() as needed.\n",
      "  plt.subplot(212)\n",
      "C:\\Users\\painter\\AppData\\Local\\Temp\\ipykernel_47148\\3181422731.py:174: UserWarning: The figure layout has changed to tight\n",
      "  plt.tight_layout()\n"
     ]
    },
    {
     "name": "stdout",
     "output_type": "stream",
     "text": [
      "Progress: [##################                                ] 37.0% (n=111/300) --> elapsed time: 62.54s\r"
     ]
    },
    {
     "name": "stderr",
     "output_type": "stream",
     "text": [
      "C:\\Users\\painter\\AppData\\Local\\Temp\\ipykernel_47148\\3181422731.py:159: MatplotlibDeprecationWarning: Auto-removal of overlapping axes is deprecated since 3.6 and will be removed two minor releases later; explicitly call ax.remove() as needed.\n",
      "  plt.subplot(211)\n",
      "C:\\Users\\painter\\AppData\\Local\\Temp\\ipykernel_47148\\3181422731.py:166: MatplotlibDeprecationWarning: Auto-removal of overlapping axes is deprecated since 3.6 and will be removed two minor releases later; explicitly call ax.remove() as needed.\n",
      "  plt.subplot(212)\n",
      "C:\\Users\\painter\\AppData\\Local\\Temp\\ipykernel_47148\\3181422731.py:174: UserWarning: The figure layout has changed to tight\n",
      "  plt.tight_layout()\n",
      "C:\\Users\\painter\\AppData\\Local\\Temp\\ipykernel_47148\\3181422731.py:159: MatplotlibDeprecationWarning: Auto-removal of overlapping axes is deprecated since 3.6 and will be removed two minor releases later; explicitly call ax.remove() as needed.\n",
      "  plt.subplot(211)\n",
      "C:\\Users\\painter\\AppData\\Local\\Temp\\ipykernel_47148\\3181422731.py:166: MatplotlibDeprecationWarning: Auto-removal of overlapping axes is deprecated since 3.6 and will be removed two minor releases later; explicitly call ax.remove() as needed.\n",
      "  plt.subplot(212)\n"
     ]
    },
    {
     "name": "stdout",
     "output_type": "stream",
     "text": [
      "Progress: [##################                                ] 37.0% (n=111/300) --> elapsed time: 62.95s\r"
     ]
    },
    {
     "name": "stderr",
     "output_type": "stream",
     "text": [
      "C:\\Users\\painter\\AppData\\Local\\Temp\\ipykernel_47148\\3181422731.py:174: UserWarning: The figure layout has changed to tight\n",
      "  plt.tight_layout()\n",
      "C:\\Users\\painter\\AppData\\Local\\Temp\\ipykernel_47148\\3181422731.py:159: MatplotlibDeprecationWarning: Auto-removal of overlapping axes is deprecated since 3.6 and will be removed two minor releases later; explicitly call ax.remove() as needed.\n",
      "  plt.subplot(211)\n"
     ]
    },
    {
     "name": "stdout",
     "output_type": "stream",
     "text": [
      "Progress: [##################                                ] 37.3% (n=112/300) --> elapsed time: 63.35s\r"
     ]
    },
    {
     "name": "stderr",
     "output_type": "stream",
     "text": [
      "C:\\Users\\painter\\AppData\\Local\\Temp\\ipykernel_47148\\3181422731.py:166: MatplotlibDeprecationWarning: Auto-removal of overlapping axes is deprecated since 3.6 and will be removed two minor releases later; explicitly call ax.remove() as needed.\n",
      "  plt.subplot(212)\n",
      "C:\\Users\\painter\\AppData\\Local\\Temp\\ipykernel_47148\\3181422731.py:174: UserWarning: The figure layout has changed to tight\n",
      "  plt.tight_layout()\n",
      "C:\\Users\\painter\\AppData\\Local\\Temp\\ipykernel_47148\\3181422731.py:159: MatplotlibDeprecationWarning: Auto-removal of overlapping axes is deprecated since 3.6 and will be removed two minor releases later; explicitly call ax.remove() as needed.\n",
      "  plt.subplot(211)\n",
      "C:\\Users\\painter\\AppData\\Local\\Temp\\ipykernel_47148\\3181422731.py:166: MatplotlibDeprecationWarning: Auto-removal of overlapping axes is deprecated since 3.6 and will be removed two minor releases later; explicitly call ax.remove() as needed.\n",
      "  plt.subplot(212)\n"
     ]
    },
    {
     "name": "stdout",
     "output_type": "stream",
     "text": [
      "Progress: [##################                                ] 37.7% (n=113/300) --> elapsed time: 63.85s\r"
     ]
    },
    {
     "name": "stderr",
     "output_type": "stream",
     "text": [
      "C:\\Users\\painter\\AppData\\Local\\Temp\\ipykernel_47148\\3181422731.py:174: UserWarning: The figure layout has changed to tight\n",
      "  plt.tight_layout()\n",
      "C:\\Users\\painter\\AppData\\Local\\Temp\\ipykernel_47148\\3181422731.py:159: MatplotlibDeprecationWarning: Auto-removal of overlapping axes is deprecated since 3.6 and will be removed two minor releases later; explicitly call ax.remove() as needed.\n",
      "  plt.subplot(211)\n",
      "C:\\Users\\painter\\AppData\\Local\\Temp\\ipykernel_47148\\3181422731.py:166: MatplotlibDeprecationWarning: Auto-removal of overlapping axes is deprecated since 3.6 and will be removed two minor releases later; explicitly call ax.remove() as needed.\n",
      "  plt.subplot(212)\n"
     ]
    },
    {
     "name": "stdout",
     "output_type": "stream",
     "text": [
      "Progress: [###################                               ] 38.0% (n=114/300) --> elapsed time: 64.28s\r"
     ]
    },
    {
     "name": "stderr",
     "output_type": "stream",
     "text": [
      "C:\\Users\\painter\\AppData\\Local\\Temp\\ipykernel_47148\\3181422731.py:174: UserWarning: The figure layout has changed to tight\n",
      "  plt.tight_layout()\n",
      "C:\\Users\\painter\\AppData\\Local\\Temp\\ipykernel_47148\\3181422731.py:159: MatplotlibDeprecationWarning: Auto-removal of overlapping axes is deprecated since 3.6 and will be removed two minor releases later; explicitly call ax.remove() as needed.\n",
      "  plt.subplot(211)\n",
      "C:\\Users\\painter\\AppData\\Local\\Temp\\ipykernel_47148\\3181422731.py:166: MatplotlibDeprecationWarning: Auto-removal of overlapping axes is deprecated since 3.6 and will be removed two minor releases later; explicitly call ax.remove() as needed.\n",
      "  plt.subplot(212)\n"
     ]
    },
    {
     "name": "stdout",
     "output_type": "stream",
     "text": [
      "Progress: [###################                               ] 38.0% (n=114/300) --> elapsed time: 64.68s\r"
     ]
    },
    {
     "name": "stderr",
     "output_type": "stream",
     "text": [
      "C:\\Users\\painter\\AppData\\Local\\Temp\\ipykernel_47148\\3181422731.py:174: UserWarning: The figure layout has changed to tight\n",
      "  plt.tight_layout()\n",
      "C:\\Users\\painter\\AppData\\Local\\Temp\\ipykernel_47148\\3181422731.py:159: MatplotlibDeprecationWarning: Auto-removal of overlapping axes is deprecated since 3.6 and will be removed two minor releases later; explicitly call ax.remove() as needed.\n",
      "  plt.subplot(211)\n",
      "C:\\Users\\painter\\AppData\\Local\\Temp\\ipykernel_47148\\3181422731.py:166: MatplotlibDeprecationWarning: Auto-removal of overlapping axes is deprecated since 3.6 and will be removed two minor releases later; explicitly call ax.remove() as needed.\n",
      "  plt.subplot(212)\n"
     ]
    },
    {
     "name": "stdout",
     "output_type": "stream",
     "text": [
      "Progress: [###################                               ] 38.3% (n=115/300) --> elapsed time: 65.24s\r"
     ]
    },
    {
     "name": "stderr",
     "output_type": "stream",
     "text": [
      "C:\\Users\\painter\\AppData\\Local\\Temp\\ipykernel_47148\\3181422731.py:174: UserWarning: The figure layout has changed to tight\n",
      "  plt.tight_layout()\n",
      "C:\\Users\\painter\\AppData\\Local\\Temp\\ipykernel_47148\\3181422731.py:159: MatplotlibDeprecationWarning: Auto-removal of overlapping axes is deprecated since 3.6 and will be removed two minor releases later; explicitly call ax.remove() as needed.\n",
      "  plt.subplot(211)\n",
      "C:\\Users\\painter\\AppData\\Local\\Temp\\ipykernel_47148\\3181422731.py:166: MatplotlibDeprecationWarning: Auto-removal of overlapping axes is deprecated since 3.6 and will be removed two minor releases later; explicitly call ax.remove() as needed.\n",
      "  plt.subplot(212)\n"
     ]
    },
    {
     "name": "stdout",
     "output_type": "stream",
     "text": [
      "Progress: [###################                               ] 38.7% (n=116/300) --> elapsed time: 65.66s\r"
     ]
    },
    {
     "name": "stderr",
     "output_type": "stream",
     "text": [
      "C:\\Users\\painter\\AppData\\Local\\Temp\\ipykernel_47148\\3181422731.py:174: UserWarning: The figure layout has changed to tight\n",
      "  plt.tight_layout()\n",
      "C:\\Users\\painter\\AppData\\Local\\Temp\\ipykernel_47148\\3181422731.py:159: MatplotlibDeprecationWarning: Auto-removal of overlapping axes is deprecated since 3.6 and will be removed two minor releases later; explicitly call ax.remove() as needed.\n",
      "  plt.subplot(211)\n",
      "C:\\Users\\painter\\AppData\\Local\\Temp\\ipykernel_47148\\3181422731.py:166: MatplotlibDeprecationWarning: Auto-removal of overlapping axes is deprecated since 3.6 and will be removed two minor releases later; explicitly call ax.remove() as needed.\n",
      "  plt.subplot(212)\n"
     ]
    },
    {
     "name": "stdout",
     "output_type": "stream",
     "text": [
      "Progress: [###################                               ] 39.0% (n=117/300) --> elapsed time: 66.09s\r"
     ]
    },
    {
     "name": "stderr",
     "output_type": "stream",
     "text": [
      "C:\\Users\\painter\\AppData\\Local\\Temp\\ipykernel_47148\\3181422731.py:174: UserWarning: The figure layout has changed to tight\n",
      "  plt.tight_layout()\n",
      "C:\\Users\\painter\\AppData\\Local\\Temp\\ipykernel_47148\\3181422731.py:159: MatplotlibDeprecationWarning: Auto-removal of overlapping axes is deprecated since 3.6 and will be removed two minor releases later; explicitly call ax.remove() as needed.\n",
      "  plt.subplot(211)\n",
      "C:\\Users\\painter\\AppData\\Local\\Temp\\ipykernel_47148\\3181422731.py:166: MatplotlibDeprecationWarning: Auto-removal of overlapping axes is deprecated since 3.6 and will be removed two minor releases later; explicitly call ax.remove() as needed.\n",
      "  plt.subplot(212)\n"
     ]
    },
    {
     "name": "stdout",
     "output_type": "stream",
     "text": [
      "Progress: [###################                               ] 39.3% (n=118/300) --> elapsed time: 66.63s\r"
     ]
    },
    {
     "name": "stderr",
     "output_type": "stream",
     "text": [
      "C:\\Users\\painter\\AppData\\Local\\Temp\\ipykernel_47148\\3181422731.py:174: UserWarning: The figure layout has changed to tight\n",
      "  plt.tight_layout()\n",
      "C:\\Users\\painter\\AppData\\Local\\Temp\\ipykernel_47148\\3181422731.py:159: MatplotlibDeprecationWarning: Auto-removal of overlapping axes is deprecated since 3.6 and will be removed two minor releases later; explicitly call ax.remove() as needed.\n",
      "  plt.subplot(211)\n",
      "C:\\Users\\painter\\AppData\\Local\\Temp\\ipykernel_47148\\3181422731.py:166: MatplotlibDeprecationWarning: Auto-removal of overlapping axes is deprecated since 3.6 and will be removed two minor releases later; explicitly call ax.remove() as needed.\n",
      "  plt.subplot(212)\n"
     ]
    },
    {
     "name": "stdout",
     "output_type": "stream",
     "text": [
      "Progress: [###################                               ] 39.3% (n=118/300) --> elapsed time: 67.02s\r"
     ]
    },
    {
     "name": "stderr",
     "output_type": "stream",
     "text": [
      "C:\\Users\\painter\\AppData\\Local\\Temp\\ipykernel_47148\\3181422731.py:174: UserWarning: The figure layout has changed to tight\n",
      "  plt.tight_layout()\n",
      "C:\\Users\\painter\\AppData\\Local\\Temp\\ipykernel_47148\\3181422731.py:159: MatplotlibDeprecationWarning: Auto-removal of overlapping axes is deprecated since 3.6 and will be removed two minor releases later; explicitly call ax.remove() as needed.\n",
      "  plt.subplot(211)\n",
      "C:\\Users\\painter\\AppData\\Local\\Temp\\ipykernel_47148\\3181422731.py:166: MatplotlibDeprecationWarning: Auto-removal of overlapping axes is deprecated since 3.6 and will be removed two minor releases later; explicitly call ax.remove() as needed.\n",
      "  plt.subplot(212)\n"
     ]
    },
    {
     "name": "stdout",
     "output_type": "stream",
     "text": [
      "Progress: [###################                               ] 39.7% (n=119/300) --> elapsed time: 67.43s\r"
     ]
    },
    {
     "name": "stderr",
     "output_type": "stream",
     "text": [
      "C:\\Users\\painter\\AppData\\Local\\Temp\\ipykernel_47148\\3181422731.py:174: UserWarning: The figure layout has changed to tight\n",
      "  plt.tight_layout()\n",
      "C:\\Users\\painter\\AppData\\Local\\Temp\\ipykernel_47148\\3181422731.py:159: MatplotlibDeprecationWarning: Auto-removal of overlapping axes is deprecated since 3.6 and will be removed two minor releases later; explicitly call ax.remove() as needed.\n",
      "  plt.subplot(211)\n"
     ]
    },
    {
     "name": "stdout",
     "output_type": "stream",
     "text": [
      "Progress: [####################                              ] 40.0% (n=120/300) --> elapsed time: 67.84s\r"
     ]
    },
    {
     "name": "stderr",
     "output_type": "stream",
     "text": [
      "C:\\Users\\painter\\AppData\\Local\\Temp\\ipykernel_47148\\3181422731.py:166: MatplotlibDeprecationWarning: Auto-removal of overlapping axes is deprecated since 3.6 and will be removed two minor releases later; explicitly call ax.remove() as needed.\n",
      "  plt.subplot(212)\n",
      "C:\\Users\\painter\\AppData\\Local\\Temp\\ipykernel_47148\\3181422731.py:174: UserWarning: The figure layout has changed to tight\n",
      "  plt.tight_layout()\n",
      "C:\\Users\\painter\\AppData\\Local\\Temp\\ipykernel_47148\\3181422731.py:159: MatplotlibDeprecationWarning: Auto-removal of overlapping axes is deprecated since 3.6 and will be removed two minor releases later; explicitly call ax.remove() as needed.\n",
      "  plt.subplot(211)\n",
      "C:\\Users\\painter\\AppData\\Local\\Temp\\ipykernel_47148\\3181422731.py:166: MatplotlibDeprecationWarning: Auto-removal of overlapping axes is deprecated since 3.6 and will be removed two minor releases later; explicitly call ax.remove() as needed.\n",
      "  plt.subplot(212)\n"
     ]
    },
    {
     "name": "stdout",
     "output_type": "stream",
     "text": [
      "Progress: [####################                              ] 40.3% (n=121/300) --> elapsed time: 68.40s\r"
     ]
    },
    {
     "name": "stderr",
     "output_type": "stream",
     "text": [
      "C:\\Users\\painter\\AppData\\Local\\Temp\\ipykernel_47148\\3181422731.py:174: UserWarning: The figure layout has changed to tight\n",
      "  plt.tight_layout()\n",
      "C:\\Users\\painter\\AppData\\Local\\Temp\\ipykernel_47148\\3181422731.py:159: MatplotlibDeprecationWarning: Auto-removal of overlapping axes is deprecated since 3.6 and will be removed two minor releases later; explicitly call ax.remove() as needed.\n",
      "  plt.subplot(211)\n",
      "C:\\Users\\painter\\AppData\\Local\\Temp\\ipykernel_47148\\3181422731.py:166: MatplotlibDeprecationWarning: Auto-removal of overlapping axes is deprecated since 3.6 and will be removed two minor releases later; explicitly call ax.remove() as needed.\n",
      "  plt.subplot(212)\n"
     ]
    },
    {
     "name": "stdout",
     "output_type": "stream",
     "text": [
      "Progress: [####################                              ] 40.3% (n=121/300) --> elapsed time: 68.80s\r"
     ]
    },
    {
     "name": "stderr",
     "output_type": "stream",
     "text": [
      "C:\\Users\\painter\\AppData\\Local\\Temp\\ipykernel_47148\\3181422731.py:174: UserWarning: The figure layout has changed to tight\n",
      "  plt.tight_layout()\n",
      "C:\\Users\\painter\\AppData\\Local\\Temp\\ipykernel_47148\\3181422731.py:159: MatplotlibDeprecationWarning: Auto-removal of overlapping axes is deprecated since 3.6 and will be removed two minor releases later; explicitly call ax.remove() as needed.\n",
      "  plt.subplot(211)\n"
     ]
    },
    {
     "name": "stdout",
     "output_type": "stream",
     "text": [
      "Progress: [####################                              ] 40.7% (n=122/300) --> elapsed time: 69.20s\r"
     ]
    },
    {
     "name": "stderr",
     "output_type": "stream",
     "text": [
      "C:\\Users\\painter\\AppData\\Local\\Temp\\ipykernel_47148\\3181422731.py:166: MatplotlibDeprecationWarning: Auto-removal of overlapping axes is deprecated since 3.6 and will be removed two minor releases later; explicitly call ax.remove() as needed.\n",
      "  plt.subplot(212)\n",
      "C:\\Users\\painter\\AppData\\Local\\Temp\\ipykernel_47148\\3181422731.py:174: UserWarning: The figure layout has changed to tight\n",
      "  plt.tight_layout()\n",
      "C:\\Users\\painter\\AppData\\Local\\Temp\\ipykernel_47148\\3181422731.py:159: MatplotlibDeprecationWarning: Auto-removal of overlapping axes is deprecated since 3.6 and will be removed two minor releases later; explicitly call ax.remove() as needed.\n",
      "  plt.subplot(211)\n",
      "C:\\Users\\painter\\AppData\\Local\\Temp\\ipykernel_47148\\3181422731.py:166: MatplotlibDeprecationWarning: Auto-removal of overlapping axes is deprecated since 3.6 and will be removed two minor releases later; explicitly call ax.remove() as needed.\n",
      "  plt.subplot(212)\n"
     ]
    },
    {
     "name": "stdout",
     "output_type": "stream",
     "text": [
      "Progress: [####################                              ] 41.0% (n=123/300) --> elapsed time: 69.73s\r"
     ]
    },
    {
     "name": "stderr",
     "output_type": "stream",
     "text": [
      "C:\\Users\\painter\\AppData\\Local\\Temp\\ipykernel_47148\\3181422731.py:174: UserWarning: The figure layout has changed to tight\n",
      "  plt.tight_layout()\n",
      "C:\\Users\\painter\\AppData\\Local\\Temp\\ipykernel_47148\\3181422731.py:159: MatplotlibDeprecationWarning: Auto-removal of overlapping axes is deprecated since 3.6 and will be removed two minor releases later; explicitly call ax.remove() as needed.\n",
      "  plt.subplot(211)\n",
      "C:\\Users\\painter\\AppData\\Local\\Temp\\ipykernel_47148\\3181422731.py:166: MatplotlibDeprecationWarning: Auto-removal of overlapping axes is deprecated since 3.6 and will be removed two minor releases later; explicitly call ax.remove() as needed.\n",
      "  plt.subplot(212)\n"
     ]
    },
    {
     "name": "stdout",
     "output_type": "stream",
     "text": [
      "Progress: [####################                              ] 41.3% (n=124/300) --> elapsed time: 70.12s\r"
     ]
    },
    {
     "name": "stderr",
     "output_type": "stream",
     "text": [
      "C:\\Users\\painter\\AppData\\Local\\Temp\\ipykernel_47148\\3181422731.py:174: UserWarning: The figure layout has changed to tight\n",
      "  plt.tight_layout()\n",
      "C:\\Users\\painter\\AppData\\Local\\Temp\\ipykernel_47148\\3181422731.py:159: MatplotlibDeprecationWarning: Auto-removal of overlapping axes is deprecated since 3.6 and will be removed two minor releases later; explicitly call ax.remove() as needed.\n",
      "  plt.subplot(211)\n",
      "C:\\Users\\painter\\AppData\\Local\\Temp\\ipykernel_47148\\3181422731.py:166: MatplotlibDeprecationWarning: Auto-removal of overlapping axes is deprecated since 3.6 and will be removed two minor releases later; explicitly call ax.remove() as needed.\n",
      "  plt.subplot(212)\n"
     ]
    },
    {
     "name": "stdout",
     "output_type": "stream",
     "text": [
      "Progress: [####################                              ] 41.3% (n=124/300) --> elapsed time: 70.54s\r"
     ]
    },
    {
     "name": "stderr",
     "output_type": "stream",
     "text": [
      "C:\\Users\\painter\\AppData\\Local\\Temp\\ipykernel_47148\\3181422731.py:174: UserWarning: The figure layout has changed to tight\n",
      "  plt.tight_layout()\n",
      "C:\\Users\\painter\\AppData\\Local\\Temp\\ipykernel_47148\\3181422731.py:159: MatplotlibDeprecationWarning: Auto-removal of overlapping axes is deprecated since 3.6 and will be removed two minor releases later; explicitly call ax.remove() as needed.\n",
      "  plt.subplot(211)\n",
      "C:\\Users\\painter\\AppData\\Local\\Temp\\ipykernel_47148\\3181422731.py:166: MatplotlibDeprecationWarning: Auto-removal of overlapping axes is deprecated since 3.6 and will be removed two minor releases later; explicitly call ax.remove() as needed.\n",
      "  plt.subplot(212)\n"
     ]
    },
    {
     "name": "stdout",
     "output_type": "stream",
     "text": [
      "Progress: [####################                              ] 41.7% (n=125/300) --> elapsed time: 71.03s\r"
     ]
    },
    {
     "name": "stderr",
     "output_type": "stream",
     "text": [
      "C:\\Users\\painter\\AppData\\Local\\Temp\\ipykernel_47148\\3181422731.py:174: UserWarning: The figure layout has changed to tight\n",
      "  plt.tight_layout()\n",
      "C:\\Users\\painter\\AppData\\Local\\Temp\\ipykernel_47148\\3181422731.py:159: MatplotlibDeprecationWarning: Auto-removal of overlapping axes is deprecated since 3.6 and will be removed two minor releases later; explicitly call ax.remove() as needed.\n",
      "  plt.subplot(211)\n",
      "C:\\Users\\painter\\AppData\\Local\\Temp\\ipykernel_47148\\3181422731.py:166: MatplotlibDeprecationWarning: Auto-removal of overlapping axes is deprecated since 3.6 and will be removed two minor releases later; explicitly call ax.remove() as needed.\n",
      "  plt.subplot(212)\n"
     ]
    },
    {
     "name": "stdout",
     "output_type": "stream",
     "text": [
      "Progress: [#####################                             ] 42.0% (n=126/300) --> elapsed time: 71.45s\r"
     ]
    },
    {
     "name": "stderr",
     "output_type": "stream",
     "text": [
      "C:\\Users\\painter\\AppData\\Local\\Temp\\ipykernel_47148\\3181422731.py:174: UserWarning: The figure layout has changed to tight\n",
      "  plt.tight_layout()\n",
      "C:\\Users\\painter\\AppData\\Local\\Temp\\ipykernel_47148\\3181422731.py:159: MatplotlibDeprecationWarning: Auto-removal of overlapping axes is deprecated since 3.6 and will be removed two minor releases later; explicitly call ax.remove() as needed.\n",
      "  plt.subplot(211)\n",
      "C:\\Users\\painter\\AppData\\Local\\Temp\\ipykernel_47148\\3181422731.py:166: MatplotlibDeprecationWarning: Auto-removal of overlapping axes is deprecated since 3.6 and will be removed two minor releases later; explicitly call ax.remove() as needed.\n",
      "  plt.subplot(212)\n"
     ]
    },
    {
     "name": "stdout",
     "output_type": "stream",
     "text": [
      "Progress: [#####################                             ] 42.3% (n=127/300) --> elapsed time: 71.87s\r"
     ]
    },
    {
     "name": "stderr",
     "output_type": "stream",
     "text": [
      "C:\\Users\\painter\\AppData\\Local\\Temp\\ipykernel_47148\\3181422731.py:174: UserWarning: The figure layout has changed to tight\n",
      "  plt.tight_layout()\n",
      "C:\\Users\\painter\\AppData\\Local\\Temp\\ipykernel_47148\\3181422731.py:159: MatplotlibDeprecationWarning: Auto-removal of overlapping axes is deprecated since 3.6 and will be removed two minor releases later; explicitly call ax.remove() as needed.\n",
      "  plt.subplot(211)\n",
      "C:\\Users\\painter\\AppData\\Local\\Temp\\ipykernel_47148\\3181422731.py:166: MatplotlibDeprecationWarning: Auto-removal of overlapping axes is deprecated since 3.6 and will be removed two minor releases later; explicitly call ax.remove() as needed.\n",
      "  plt.subplot(212)\n"
     ]
    },
    {
     "name": "stdout",
     "output_type": "stream",
     "text": [
      "Progress: [#####################                             ] 42.7% (n=128/300) --> elapsed time: 72.38s\r"
     ]
    },
    {
     "name": "stderr",
     "output_type": "stream",
     "text": [
      "C:\\Users\\painter\\AppData\\Local\\Temp\\ipykernel_47148\\3181422731.py:174: UserWarning: The figure layout has changed to tight\n",
      "  plt.tight_layout()\n",
      "C:\\Users\\painter\\AppData\\Local\\Temp\\ipykernel_47148\\3181422731.py:159: MatplotlibDeprecationWarning: Auto-removal of overlapping axes is deprecated since 3.6 and will be removed two minor releases later; explicitly call ax.remove() as needed.\n",
      "  plt.subplot(211)\n",
      "C:\\Users\\painter\\AppData\\Local\\Temp\\ipykernel_47148\\3181422731.py:166: MatplotlibDeprecationWarning: Auto-removal of overlapping axes is deprecated since 3.6 and will be removed two minor releases later; explicitly call ax.remove() as needed.\n",
      "  plt.subplot(212)\n"
     ]
    },
    {
     "name": "stdout",
     "output_type": "stream",
     "text": [
      "Progress: [#####################                             ] 42.7% (n=128/300) --> elapsed time: 72.79s\r"
     ]
    },
    {
     "name": "stderr",
     "output_type": "stream",
     "text": [
      "C:\\Users\\painter\\AppData\\Local\\Temp\\ipykernel_47148\\3181422731.py:174: UserWarning: The figure layout has changed to tight\n",
      "  plt.tight_layout()\n",
      "C:\\Users\\painter\\AppData\\Local\\Temp\\ipykernel_47148\\3181422731.py:159: MatplotlibDeprecationWarning: Auto-removal of overlapping axes is deprecated since 3.6 and will be removed two minor releases later; explicitly call ax.remove() as needed.\n",
      "  plt.subplot(211)\n",
      "C:\\Users\\painter\\AppData\\Local\\Temp\\ipykernel_47148\\3181422731.py:166: MatplotlibDeprecationWarning: Auto-removal of overlapping axes is deprecated since 3.6 and will be removed two minor releases later; explicitly call ax.remove() as needed.\n",
      "  plt.subplot(212)\n"
     ]
    },
    {
     "name": "stdout",
     "output_type": "stream",
     "text": [
      "Progress: [#####################                             ] 43.0% (n=129/300) --> elapsed time: 73.17s\r"
     ]
    },
    {
     "name": "stderr",
     "output_type": "stream",
     "text": [
      "C:\\Users\\painter\\AppData\\Local\\Temp\\ipykernel_47148\\3181422731.py:174: UserWarning: The figure layout has changed to tight\n",
      "  plt.tight_layout()\n",
      "C:\\Users\\painter\\AppData\\Local\\Temp\\ipykernel_47148\\3181422731.py:159: MatplotlibDeprecationWarning: Auto-removal of overlapping axes is deprecated since 3.6 and will be removed two minor releases later; explicitly call ax.remove() as needed.\n",
      "  plt.subplot(211)\n"
     ]
    },
    {
     "name": "stdout",
     "output_type": "stream",
     "text": [
      "Progress: [#####################                             ] 43.3% (n=130/300) --> elapsed time: 73.57s\r"
     ]
    },
    {
     "name": "stderr",
     "output_type": "stream",
     "text": [
      "C:\\Users\\painter\\AppData\\Local\\Temp\\ipykernel_47148\\3181422731.py:166: MatplotlibDeprecationWarning: Auto-removal of overlapping axes is deprecated since 3.6 and will be removed two minor releases later; explicitly call ax.remove() as needed.\n",
      "  plt.subplot(212)\n",
      "C:\\Users\\painter\\AppData\\Local\\Temp\\ipykernel_47148\\3181422731.py:174: UserWarning: The figure layout has changed to tight\n",
      "  plt.tight_layout()\n"
     ]
    },
    {
     "name": "stdout",
     "output_type": "stream",
     "text": [
      "Progress: [#####################                             ] 43.7% (n=131/300) --> elapsed time: 74.10s\r"
     ]
    },
    {
     "name": "stderr",
     "output_type": "stream",
     "text": [
      "C:\\Users\\painter\\AppData\\Local\\Temp\\ipykernel_47148\\3181422731.py:159: MatplotlibDeprecationWarning: Auto-removal of overlapping axes is deprecated since 3.6 and will be removed two minor releases later; explicitly call ax.remove() as needed.\n",
      "  plt.subplot(211)\n",
      "C:\\Users\\painter\\AppData\\Local\\Temp\\ipykernel_47148\\3181422731.py:166: MatplotlibDeprecationWarning: Auto-removal of overlapping axes is deprecated since 3.6 and will be removed two minor releases later; explicitly call ax.remove() as needed.\n",
      "  plt.subplot(212)\n",
      "C:\\Users\\painter\\AppData\\Local\\Temp\\ipykernel_47148\\3181422731.py:174: UserWarning: The figure layout has changed to tight\n",
      "  plt.tight_layout()\n",
      "C:\\Users\\painter\\AppData\\Local\\Temp\\ipykernel_47148\\3181422731.py:159: MatplotlibDeprecationWarning: Auto-removal of overlapping axes is deprecated since 3.6 and will be removed two minor releases later; explicitly call ax.remove() as needed.\n",
      "  plt.subplot(211)\n",
      "C:\\Users\\painter\\AppData\\Local\\Temp\\ipykernel_47148\\3181422731.py:166: MatplotlibDeprecationWarning: Auto-removal of overlapping axes is deprecated since 3.6 and will be removed two minor releases later; explicitly call ax.remove() as needed.\n",
      "  plt.subplot(212)\n"
     ]
    },
    {
     "name": "stdout",
     "output_type": "stream",
     "text": [
      "Progress: [#####################                             ] 43.7% (n=131/300) --> elapsed time: 74.49s\r"
     ]
    },
    {
     "name": "stderr",
     "output_type": "stream",
     "text": [
      "C:\\Users\\painter\\AppData\\Local\\Temp\\ipykernel_47148\\3181422731.py:174: UserWarning: The figure layout has changed to tight\n",
      "  plt.tight_layout()\n",
      "C:\\Users\\painter\\AppData\\Local\\Temp\\ipykernel_47148\\3181422731.py:159: MatplotlibDeprecationWarning: Auto-removal of overlapping axes is deprecated since 3.6 and will be removed two minor releases later; explicitly call ax.remove() as needed.\n",
      "  plt.subplot(211)\n"
     ]
    },
    {
     "name": "stdout",
     "output_type": "stream",
     "text": [
      "Progress: [######################                            ] 44.0% (n=132/300) --> elapsed time: 74.90s\r"
     ]
    },
    {
     "name": "stderr",
     "output_type": "stream",
     "text": [
      "C:\\Users\\painter\\AppData\\Local\\Temp\\ipykernel_47148\\3181422731.py:166: MatplotlibDeprecationWarning: Auto-removal of overlapping axes is deprecated since 3.6 and will be removed two minor releases later; explicitly call ax.remove() as needed.\n",
      "  plt.subplot(212)\n",
      "C:\\Users\\painter\\AppData\\Local\\Temp\\ipykernel_47148\\3181422731.py:174: UserWarning: The figure layout has changed to tight\n",
      "  plt.tight_layout()\n"
     ]
    },
    {
     "name": "stdout",
     "output_type": "stream",
     "text": [
      "Progress: [######################                            ] 44.3% (n=133/300) --> elapsed time: 75.42s\r"
     ]
    },
    {
     "name": "stderr",
     "output_type": "stream",
     "text": [
      "C:\\Users\\painter\\AppData\\Local\\Temp\\ipykernel_47148\\3181422731.py:159: MatplotlibDeprecationWarning: Auto-removal of overlapping axes is deprecated since 3.6 and will be removed two minor releases later; explicitly call ax.remove() as needed.\n",
      "  plt.subplot(211)\n",
      "C:\\Users\\painter\\AppData\\Local\\Temp\\ipykernel_47148\\3181422731.py:166: MatplotlibDeprecationWarning: Auto-removal of overlapping axes is deprecated since 3.6 and will be removed two minor releases later; explicitly call ax.remove() as needed.\n",
      "  plt.subplot(212)\n",
      "C:\\Users\\painter\\AppData\\Local\\Temp\\ipykernel_47148\\3181422731.py:174: UserWarning: The figure layout has changed to tight\n",
      "  plt.tight_layout()\n",
      "C:\\Users\\painter\\AppData\\Local\\Temp\\ipykernel_47148\\3181422731.py:159: MatplotlibDeprecationWarning: Auto-removal of overlapping axes is deprecated since 3.6 and will be removed two minor releases later; explicitly call ax.remove() as needed.\n",
      "  plt.subplot(211)\n",
      "C:\\Users\\painter\\AppData\\Local\\Temp\\ipykernel_47148\\3181422731.py:166: MatplotlibDeprecationWarning: Auto-removal of overlapping axes is deprecated since 3.6 and will be removed two minor releases later; explicitly call ax.remove() as needed.\n",
      "  plt.subplot(212)\n"
     ]
    },
    {
     "name": "stdout",
     "output_type": "stream",
     "text": [
      "Progress: [######################                            ] 44.7% (n=134/300) --> elapsed time: 75.83s\r"
     ]
    },
    {
     "name": "stderr",
     "output_type": "stream",
     "text": [
      "C:\\Users\\painter\\AppData\\Local\\Temp\\ipykernel_47148\\3181422731.py:174: UserWarning: The figure layout has changed to tight\n",
      "  plt.tight_layout()\n",
      "C:\\Users\\painter\\AppData\\Local\\Temp\\ipykernel_47148\\3181422731.py:159: MatplotlibDeprecationWarning: Auto-removal of overlapping axes is deprecated since 3.6 and will be removed two minor releases later; explicitly call ax.remove() as needed.\n",
      "  plt.subplot(211)\n",
      "C:\\Users\\painter\\AppData\\Local\\Temp\\ipykernel_47148\\3181422731.py:166: MatplotlibDeprecationWarning: Auto-removal of overlapping axes is deprecated since 3.6 and will be removed two minor releases later; explicitly call ax.remove() as needed.\n",
      "  plt.subplot(212)\n"
     ]
    },
    {
     "name": "stdout",
     "output_type": "stream",
     "text": [
      "Progress: [######################                            ] 45.0% (n=135/300) --> elapsed time: 76.26s\r"
     ]
    },
    {
     "name": "stderr",
     "output_type": "stream",
     "text": [
      "C:\\Users\\painter\\AppData\\Local\\Temp\\ipykernel_47148\\3181422731.py:174: UserWarning: The figure layout has changed to tight\n",
      "  plt.tight_layout()\n",
      "C:\\Users\\painter\\AppData\\Local\\Temp\\ipykernel_47148\\3181422731.py:159: MatplotlibDeprecationWarning: Auto-removal of overlapping axes is deprecated since 3.6 and will be removed two minor releases later; explicitly call ax.remove() as needed.\n",
      "  plt.subplot(211)\n",
      "C:\\Users\\painter\\AppData\\Local\\Temp\\ipykernel_47148\\3181422731.py:166: MatplotlibDeprecationWarning: Auto-removal of overlapping axes is deprecated since 3.6 and will be removed two minor releases later; explicitly call ax.remove() as needed.\n",
      "  plt.subplot(212)\n"
     ]
    },
    {
     "name": "stdout",
     "output_type": "stream",
     "text": [
      "Progress: [######################                            ] 45.0% (n=135/300) --> elapsed time: 76.77s\r"
     ]
    },
    {
     "name": "stderr",
     "output_type": "stream",
     "text": [
      "C:\\Users\\painter\\AppData\\Local\\Temp\\ipykernel_47148\\3181422731.py:174: UserWarning: The figure layout has changed to tight\n",
      "  plt.tight_layout()\n",
      "C:\\Users\\painter\\AppData\\Local\\Temp\\ipykernel_47148\\3181422731.py:159: MatplotlibDeprecationWarning: Auto-removal of overlapping axes is deprecated since 3.6 and will be removed two minor releases later; explicitly call ax.remove() as needed.\n",
      "  plt.subplot(211)\n",
      "C:\\Users\\painter\\AppData\\Local\\Temp\\ipykernel_47148\\3181422731.py:166: MatplotlibDeprecationWarning: Auto-removal of overlapping axes is deprecated since 3.6 and will be removed two minor releases later; explicitly call ax.remove() as needed.\n",
      "  plt.subplot(212)\n"
     ]
    },
    {
     "name": "stdout",
     "output_type": "stream",
     "text": [
      "Progress: [######################                            ] 45.3% (n=136/300) --> elapsed time: 77.20s\r"
     ]
    },
    {
     "name": "stderr",
     "output_type": "stream",
     "text": [
      "C:\\Users\\painter\\AppData\\Local\\Temp\\ipykernel_47148\\3181422731.py:174: UserWarning: The figure layout has changed to tight\n",
      "  plt.tight_layout()\n",
      "C:\\Users\\painter\\AppData\\Local\\Temp\\ipykernel_47148\\3181422731.py:159: MatplotlibDeprecationWarning: Auto-removal of overlapping axes is deprecated since 3.6 and will be removed two minor releases later; explicitly call ax.remove() as needed.\n",
      "  plt.subplot(211)\n",
      "C:\\Users\\painter\\AppData\\Local\\Temp\\ipykernel_47148\\3181422731.py:166: MatplotlibDeprecationWarning: Auto-removal of overlapping axes is deprecated since 3.6 and will be removed two minor releases later; explicitly call ax.remove() as needed.\n",
      "  plt.subplot(212)\n"
     ]
    },
    {
     "name": "stdout",
     "output_type": "stream",
     "text": [
      "Progress: [######################                            ] 45.7% (n=137/300) --> elapsed time: 77.59s\r"
     ]
    },
    {
     "name": "stderr",
     "output_type": "stream",
     "text": [
      "C:\\Users\\painter\\AppData\\Local\\Temp\\ipykernel_47148\\3181422731.py:174: UserWarning: The figure layout has changed to tight\n",
      "  plt.tight_layout()\n",
      "C:\\Users\\painter\\AppData\\Local\\Temp\\ipykernel_47148\\3181422731.py:159: MatplotlibDeprecationWarning: Auto-removal of overlapping axes is deprecated since 3.6 and will be removed two minor releases later; explicitly call ax.remove() as needed.\n",
      "  plt.subplot(211)\n",
      "C:\\Users\\painter\\AppData\\Local\\Temp\\ipykernel_47148\\3181422731.py:166: MatplotlibDeprecationWarning: Auto-removal of overlapping axes is deprecated since 3.6 and will be removed two minor releases later; explicitly call ax.remove() as needed.\n",
      "  plt.subplot(212)\n"
     ]
    },
    {
     "name": "stdout",
     "output_type": "stream",
     "text": [
      "Progress: [#######################                           ] 46.0% (n=138/300) --> elapsed time: 78.11s\r"
     ]
    },
    {
     "name": "stderr",
     "output_type": "stream",
     "text": [
      "C:\\Users\\painter\\AppData\\Local\\Temp\\ipykernel_47148\\3181422731.py:174: UserWarning: The figure layout has changed to tight\n",
      "  plt.tight_layout()\n",
      "C:\\Users\\painter\\AppData\\Local\\Temp\\ipykernel_47148\\3181422731.py:159: MatplotlibDeprecationWarning: Auto-removal of overlapping axes is deprecated since 3.6 and will be removed two minor releases later; explicitly call ax.remove() as needed.\n",
      "  plt.subplot(211)\n",
      "C:\\Users\\painter\\AppData\\Local\\Temp\\ipykernel_47148\\3181422731.py:166: MatplotlibDeprecationWarning: Auto-removal of overlapping axes is deprecated since 3.6 and will be removed two minor releases later; explicitly call ax.remove() as needed.\n",
      "  plt.subplot(212)\n"
     ]
    },
    {
     "name": "stdout",
     "output_type": "stream",
     "text": [
      "Progress: [#######################                           ] 46.0% (n=138/300) --> elapsed time: 78.51s\r"
     ]
    },
    {
     "name": "stderr",
     "output_type": "stream",
     "text": [
      "C:\\Users\\painter\\AppData\\Local\\Temp\\ipykernel_47148\\3181422731.py:174: UserWarning: The figure layout has changed to tight\n",
      "  plt.tight_layout()\n",
      "C:\\Users\\painter\\AppData\\Local\\Temp\\ipykernel_47148\\3181422731.py:159: MatplotlibDeprecationWarning: Auto-removal of overlapping axes is deprecated since 3.6 and will be removed two minor releases later; explicitly call ax.remove() as needed.\n",
      "  plt.subplot(211)\n",
      "C:\\Users\\painter\\AppData\\Local\\Temp\\ipykernel_47148\\3181422731.py:166: MatplotlibDeprecationWarning: Auto-removal of overlapping axes is deprecated since 3.6 and will be removed two minor releases later; explicitly call ax.remove() as needed.\n",
      "  plt.subplot(212)\n"
     ]
    },
    {
     "name": "stdout",
     "output_type": "stream",
     "text": [
      "Progress: [#######################                           ] 46.3% (n=139/300) --> elapsed time: 78.90s\r"
     ]
    },
    {
     "name": "stderr",
     "output_type": "stream",
     "text": [
      "C:\\Users\\painter\\AppData\\Local\\Temp\\ipykernel_47148\\3181422731.py:174: UserWarning: The figure layout has changed to tight\n",
      "  plt.tight_layout()\n",
      "C:\\Users\\painter\\AppData\\Local\\Temp\\ipykernel_47148\\3181422731.py:159: MatplotlibDeprecationWarning: Auto-removal of overlapping axes is deprecated since 3.6 and will be removed two minor releases later; explicitly call ax.remove() as needed.\n",
      "  plt.subplot(211)\n",
      "C:\\Users\\painter\\AppData\\Local\\Temp\\ipykernel_47148\\3181422731.py:166: MatplotlibDeprecationWarning: Auto-removal of overlapping axes is deprecated since 3.6 and will be removed two minor releases later; explicitly call ax.remove() as needed.\n",
      "  plt.subplot(212)\n"
     ]
    },
    {
     "name": "stdout",
     "output_type": "stream",
     "text": [
      "Progress: [#######################                           ] 46.7% (n=140/300) --> elapsed time: 79.42s\r"
     ]
    },
    {
     "name": "stderr",
     "output_type": "stream",
     "text": [
      "C:\\Users\\painter\\AppData\\Local\\Temp\\ipykernel_47148\\3181422731.py:174: UserWarning: The figure layout has changed to tight\n",
      "  plt.tight_layout()\n",
      "C:\\Users\\painter\\AppData\\Local\\Temp\\ipykernel_47148\\3181422731.py:159: MatplotlibDeprecationWarning: Auto-removal of overlapping axes is deprecated since 3.6 and will be removed two minor releases later; explicitly call ax.remove() as needed.\n",
      "  plt.subplot(211)\n",
      "C:\\Users\\painter\\AppData\\Local\\Temp\\ipykernel_47148\\3181422731.py:166: MatplotlibDeprecationWarning: Auto-removal of overlapping axes is deprecated since 3.6 and will be removed two minor releases later; explicitly call ax.remove() as needed.\n",
      "  plt.subplot(212)\n"
     ]
    },
    {
     "name": "stdout",
     "output_type": "stream",
     "text": [
      "Progress: [#######################                           ] 47.0% (n=141/300) --> elapsed time: 79.82s\r"
     ]
    },
    {
     "name": "stderr",
     "output_type": "stream",
     "text": [
      "C:\\Users\\painter\\AppData\\Local\\Temp\\ipykernel_47148\\3181422731.py:174: UserWarning: The figure layout has changed to tight\n",
      "  plt.tight_layout()\n",
      "C:\\Users\\painter\\AppData\\Local\\Temp\\ipykernel_47148\\3181422731.py:159: MatplotlibDeprecationWarning: Auto-removal of overlapping axes is deprecated since 3.6 and will be removed two minor releases later; explicitly call ax.remove() as needed.\n",
      "  plt.subplot(211)\n",
      "C:\\Users\\painter\\AppData\\Local\\Temp\\ipykernel_47148\\3181422731.py:166: MatplotlibDeprecationWarning: Auto-removal of overlapping axes is deprecated since 3.6 and will be removed two minor releases later; explicitly call ax.remove() as needed.\n",
      "  plt.subplot(212)\n"
     ]
    },
    {
     "name": "stdout",
     "output_type": "stream",
     "text": [
      "Progress: [#######################                           ] 47.0% (n=141/300) --> elapsed time: 80.22s\r"
     ]
    },
    {
     "name": "stderr",
     "output_type": "stream",
     "text": [
      "C:\\Users\\painter\\AppData\\Local\\Temp\\ipykernel_47148\\3181422731.py:174: UserWarning: The figure layout has changed to tight\n",
      "  plt.tight_layout()\n",
      "C:\\Users\\painter\\AppData\\Local\\Temp\\ipykernel_47148\\3181422731.py:159: MatplotlibDeprecationWarning: Auto-removal of overlapping axes is deprecated since 3.6 and will be removed two minor releases later; explicitly call ax.remove() as needed.\n",
      "  plt.subplot(211)\n"
     ]
    },
    {
     "name": "stdout",
     "output_type": "stream",
     "text": [
      "Progress: [#######################                           ] 47.3% (n=142/300) --> elapsed time: 80.61s\r"
     ]
    },
    {
     "name": "stderr",
     "output_type": "stream",
     "text": [
      "C:\\Users\\painter\\AppData\\Local\\Temp\\ipykernel_47148\\3181422731.py:166: MatplotlibDeprecationWarning: Auto-removal of overlapping axes is deprecated since 3.6 and will be removed two minor releases later; explicitly call ax.remove() as needed.\n",
      "  plt.subplot(212)\n",
      "C:\\Users\\painter\\AppData\\Local\\Temp\\ipykernel_47148\\3181422731.py:174: UserWarning: The figure layout has changed to tight\n",
      "  plt.tight_layout()\n"
     ]
    },
    {
     "name": "stdout",
     "output_type": "stream",
     "text": [
      "Progress: [#######################                           ] 47.7% (n=143/300) --> elapsed time: 81.13s\r"
     ]
    },
    {
     "name": "stderr",
     "output_type": "stream",
     "text": [
      "C:\\Users\\painter\\AppData\\Local\\Temp\\ipykernel_47148\\3181422731.py:159: MatplotlibDeprecationWarning: Auto-removal of overlapping axes is deprecated since 3.6 and will be removed two minor releases later; explicitly call ax.remove() as needed.\n",
      "  plt.subplot(211)\n",
      "C:\\Users\\painter\\AppData\\Local\\Temp\\ipykernel_47148\\3181422731.py:166: MatplotlibDeprecationWarning: Auto-removal of overlapping axes is deprecated since 3.6 and will be removed two minor releases later; explicitly call ax.remove() as needed.\n",
      "  plt.subplot(212)\n",
      "C:\\Users\\painter\\AppData\\Local\\Temp\\ipykernel_47148\\3181422731.py:174: UserWarning: The figure layout has changed to tight\n",
      "  plt.tight_layout()\n",
      "C:\\Users\\painter\\AppData\\Local\\Temp\\ipykernel_47148\\3181422731.py:159: MatplotlibDeprecationWarning: Auto-removal of overlapping axes is deprecated since 3.6 and will be removed two minor releases later; explicitly call ax.remove() as needed.\n",
      "  plt.subplot(211)\n",
      "C:\\Users\\painter\\AppData\\Local\\Temp\\ipykernel_47148\\3181422731.py:166: MatplotlibDeprecationWarning: Auto-removal of overlapping axes is deprecated since 3.6 and will be removed two minor releases later; explicitly call ax.remove() as needed.\n",
      "  plt.subplot(212)\n"
     ]
    },
    {
     "name": "stdout",
     "output_type": "stream",
     "text": [
      "Progress: [########################                          ] 48.0% (n=144/300) --> elapsed time: 81.52s\r"
     ]
    },
    {
     "name": "stderr",
     "output_type": "stream",
     "text": [
      "C:\\Users\\painter\\AppData\\Local\\Temp\\ipykernel_47148\\3181422731.py:174: UserWarning: The figure layout has changed to tight\n",
      "  plt.tight_layout()\n",
      "C:\\Users\\painter\\AppData\\Local\\Temp\\ipykernel_47148\\3181422731.py:159: MatplotlibDeprecationWarning: Auto-removal of overlapping axes is deprecated since 3.6 and will be removed two minor releases later; explicitly call ax.remove() as needed.\n",
      "  plt.subplot(211)\n"
     ]
    },
    {
     "name": "stdout",
     "output_type": "stream",
     "text": [
      "Progress: [########################                          ] 48.0% (n=144/300) --> elapsed time: 81.92s\r"
     ]
    },
    {
     "name": "stderr",
     "output_type": "stream",
     "text": [
      "C:\\Users\\painter\\AppData\\Local\\Temp\\ipykernel_47148\\3181422731.py:166: MatplotlibDeprecationWarning: Auto-removal of overlapping axes is deprecated since 3.6 and will be removed two minor releases later; explicitly call ax.remove() as needed.\n",
      "  plt.subplot(212)\n",
      "C:\\Users\\painter\\AppData\\Local\\Temp\\ipykernel_47148\\3181422731.py:174: UserWarning: The figure layout has changed to tight\n",
      "  plt.tight_layout()\n"
     ]
    },
    {
     "name": "stdout",
     "output_type": "stream",
     "text": [
      "Progress: [########################                          ] 48.3% (n=145/300) --> elapsed time: 82.43s\r"
     ]
    },
    {
     "name": "stderr",
     "output_type": "stream",
     "text": [
      "C:\\Users\\painter\\AppData\\Local\\Temp\\ipykernel_47148\\3181422731.py:159: MatplotlibDeprecationWarning: Auto-removal of overlapping axes is deprecated since 3.6 and will be removed two minor releases later; explicitly call ax.remove() as needed.\n",
      "  plt.subplot(211)\n",
      "C:\\Users\\painter\\AppData\\Local\\Temp\\ipykernel_47148\\3181422731.py:166: MatplotlibDeprecationWarning: Auto-removal of overlapping axes is deprecated since 3.6 and will be removed two minor releases later; explicitly call ax.remove() as needed.\n",
      "  plt.subplot(212)\n",
      "C:\\Users\\painter\\AppData\\Local\\Temp\\ipykernel_47148\\3181422731.py:174: UserWarning: The figure layout has changed to tight\n",
      "  plt.tight_layout()\n",
      "C:\\Users\\painter\\AppData\\Local\\Temp\\ipykernel_47148\\3181422731.py:159: MatplotlibDeprecationWarning: Auto-removal of overlapping axes is deprecated since 3.6 and will be removed two minor releases later; explicitly call ax.remove() as needed.\n",
      "  plt.subplot(211)\n",
      "C:\\Users\\painter\\AppData\\Local\\Temp\\ipykernel_47148\\3181422731.py:166: MatplotlibDeprecationWarning: Auto-removal of overlapping axes is deprecated since 3.6 and will be removed two minor releases later; explicitly call ax.remove() as needed.\n",
      "  plt.subplot(212)\n"
     ]
    },
    {
     "name": "stdout",
     "output_type": "stream",
     "text": [
      "Progress: [########################                          ] 48.7% (n=146/300) --> elapsed time: 82.82s\r"
     ]
    },
    {
     "name": "stderr",
     "output_type": "stream",
     "text": [
      "C:\\Users\\painter\\AppData\\Local\\Temp\\ipykernel_47148\\3181422731.py:174: UserWarning: The figure layout has changed to tight\n",
      "  plt.tight_layout()\n",
      "C:\\Users\\painter\\AppData\\Local\\Temp\\ipykernel_47148\\3181422731.py:159: MatplotlibDeprecationWarning: Auto-removal of overlapping axes is deprecated since 3.6 and will be removed two minor releases later; explicitly call ax.remove() as needed.\n",
      "  plt.subplot(211)\n",
      "C:\\Users\\painter\\AppData\\Local\\Temp\\ipykernel_47148\\3181422731.py:166: MatplotlibDeprecationWarning: Auto-removal of overlapping axes is deprecated since 3.6 and will be removed two minor releases later; explicitly call ax.remove() as needed.\n",
      "  plt.subplot(212)\n"
     ]
    },
    {
     "name": "stdout",
     "output_type": "stream",
     "text": [
      "Progress: [########################                          ] 49.0% (n=147/300) --> elapsed time: 83.21s\r"
     ]
    },
    {
     "name": "stderr",
     "output_type": "stream",
     "text": [
      "C:\\Users\\painter\\AppData\\Local\\Temp\\ipykernel_47148\\3181422731.py:174: UserWarning: The figure layout has changed to tight\n",
      "  plt.tight_layout()\n",
      "C:\\Users\\painter\\AppData\\Local\\Temp\\ipykernel_47148\\3181422731.py:159: MatplotlibDeprecationWarning: Auto-removal of overlapping axes is deprecated since 3.6 and will be removed two minor releases later; explicitly call ax.remove() as needed.\n",
      "  plt.subplot(211)\n",
      "C:\\Users\\painter\\AppData\\Local\\Temp\\ipykernel_47148\\3181422731.py:166: MatplotlibDeprecationWarning: Auto-removal of overlapping axes is deprecated since 3.6 and will be removed two minor releases later; explicitly call ax.remove() as needed.\n",
      "  plt.subplot(212)\n"
     ]
    },
    {
     "name": "stdout",
     "output_type": "stream",
     "text": [
      "Progress: [########################                          ] 49.3% (n=148/300) --> elapsed time: 83.72s\r"
     ]
    },
    {
     "name": "stderr",
     "output_type": "stream",
     "text": [
      "C:\\Users\\painter\\AppData\\Local\\Temp\\ipykernel_47148\\3181422731.py:174: UserWarning: The figure layout has changed to tight\n",
      "  plt.tight_layout()\n",
      "C:\\Users\\painter\\AppData\\Local\\Temp\\ipykernel_47148\\3181422731.py:159: MatplotlibDeprecationWarning: Auto-removal of overlapping axes is deprecated since 3.6 and will be removed two minor releases later; explicitly call ax.remove() as needed.\n",
      "  plt.subplot(211)\n",
      "C:\\Users\\painter\\AppData\\Local\\Temp\\ipykernel_47148\\3181422731.py:166: MatplotlibDeprecationWarning: Auto-removal of overlapping axes is deprecated since 3.6 and will be removed two minor releases later; explicitly call ax.remove() as needed.\n",
      "  plt.subplot(212)\n"
     ]
    },
    {
     "name": "stdout",
     "output_type": "stream",
     "text": [
      "Progress: [########################                          ] 49.3% (n=148/300) --> elapsed time: 84.11s\r"
     ]
    },
    {
     "name": "stderr",
     "output_type": "stream",
     "text": [
      "C:\\Users\\painter\\AppData\\Local\\Temp\\ipykernel_47148\\3181422731.py:174: UserWarning: The figure layout has changed to tight\n",
      "  plt.tight_layout()\n",
      "C:\\Users\\painter\\AppData\\Local\\Temp\\ipykernel_47148\\3181422731.py:159: MatplotlibDeprecationWarning: Auto-removal of overlapping axes is deprecated since 3.6 and will be removed two minor releases later; explicitly call ax.remove() as needed.\n",
      "  plt.subplot(211)\n",
      "C:\\Users\\painter\\AppData\\Local\\Temp\\ipykernel_47148\\3181422731.py:166: MatplotlibDeprecationWarning: Auto-removal of overlapping axes is deprecated since 3.6 and will be removed two minor releases later; explicitly call ax.remove() as needed.\n",
      "  plt.subplot(212)\n"
     ]
    },
    {
     "name": "stdout",
     "output_type": "stream",
     "text": [
      "Progress: [########################                          ] 49.7% (n=149/300) --> elapsed time: 84.50s\r"
     ]
    },
    {
     "name": "stderr",
     "output_type": "stream",
     "text": [
      "C:\\Users\\painter\\AppData\\Local\\Temp\\ipykernel_47148\\3181422731.py:174: UserWarning: The figure layout has changed to tight\n",
      "  plt.tight_layout()\n",
      "C:\\Users\\painter\\AppData\\Local\\Temp\\ipykernel_47148\\3181422731.py:159: MatplotlibDeprecationWarning: Auto-removal of overlapping axes is deprecated since 3.6 and will be removed two minor releases later; explicitly call ax.remove() as needed.\n",
      "  plt.subplot(211)\n"
     ]
    },
    {
     "name": "stdout",
     "output_type": "stream",
     "text": [
      "Progress: [#########################                         ] 50.0% (n=150/300) --> elapsed time: 84.89s\r"
     ]
    },
    {
     "name": "stderr",
     "output_type": "stream",
     "text": [
      "C:\\Users\\painter\\AppData\\Local\\Temp\\ipykernel_47148\\3181422731.py:166: MatplotlibDeprecationWarning: Auto-removal of overlapping axes is deprecated since 3.6 and will be removed two minor releases later; explicitly call ax.remove() as needed.\n",
      "  plt.subplot(212)\n",
      "C:\\Users\\painter\\AppData\\Local\\Temp\\ipykernel_47148\\3181422731.py:174: UserWarning: The figure layout has changed to tight\n",
      "  plt.tight_layout()\n"
     ]
    },
    {
     "name": "stdout",
     "output_type": "stream",
     "text": [
      "Progress: [#########################                         ] 50.3% (n=151/300) --> elapsed time: 85.41s\r"
     ]
    },
    {
     "name": "stderr",
     "output_type": "stream",
     "text": [
      "C:\\Users\\painter\\AppData\\Local\\Temp\\ipykernel_47148\\3181422731.py:159: MatplotlibDeprecationWarning: Auto-removal of overlapping axes is deprecated since 3.6 and will be removed two minor releases later; explicitly call ax.remove() as needed.\n",
      "  plt.subplot(211)\n",
      "C:\\Users\\painter\\AppData\\Local\\Temp\\ipykernel_47148\\3181422731.py:166: MatplotlibDeprecationWarning: Auto-removal of overlapping axes is deprecated since 3.6 and will be removed two minor releases later; explicitly call ax.remove() as needed.\n",
      "  plt.subplot(212)\n",
      "C:\\Users\\painter\\AppData\\Local\\Temp\\ipykernel_47148\\3181422731.py:174: UserWarning: The figure layout has changed to tight\n",
      "  plt.tight_layout()\n",
      "C:\\Users\\painter\\AppData\\Local\\Temp\\ipykernel_47148\\3181422731.py:159: MatplotlibDeprecationWarning: Auto-removal of overlapping axes is deprecated since 3.6 and will be removed two minor releases later; explicitly call ax.remove() as needed.\n",
      "  plt.subplot(211)\n",
      "C:\\Users\\painter\\AppData\\Local\\Temp\\ipykernel_47148\\3181422731.py:166: MatplotlibDeprecationWarning: Auto-removal of overlapping axes is deprecated since 3.6 and will be removed two minor releases later; explicitly call ax.remove() as needed.\n",
      "  plt.subplot(212)\n"
     ]
    },
    {
     "name": "stdout",
     "output_type": "stream",
     "text": [
      "Progress: [#########################                         ] 50.3% (n=151/300) --> elapsed time: 85.80s\r"
     ]
    },
    {
     "name": "stderr",
     "output_type": "stream",
     "text": [
      "C:\\Users\\painter\\AppData\\Local\\Temp\\ipykernel_47148\\3181422731.py:174: UserWarning: The figure layout has changed to tight\n",
      "  plt.tight_layout()\n",
      "C:\\Users\\painter\\AppData\\Local\\Temp\\ipykernel_47148\\3181422731.py:159: MatplotlibDeprecationWarning: Auto-removal of overlapping axes is deprecated since 3.6 and will be removed two minor releases later; explicitly call ax.remove() as needed.\n",
      "  plt.subplot(211)\n"
     ]
    },
    {
     "name": "stdout",
     "output_type": "stream",
     "text": [
      "Progress: [#########################                         ] 50.7% (n=152/300) --> elapsed time: 86.19s\r"
     ]
    },
    {
     "name": "stderr",
     "output_type": "stream",
     "text": [
      "C:\\Users\\painter\\AppData\\Local\\Temp\\ipykernel_47148\\3181422731.py:166: MatplotlibDeprecationWarning: Auto-removal of overlapping axes is deprecated since 3.6 and will be removed two minor releases later; explicitly call ax.remove() as needed.\n",
      "  plt.subplot(212)\n",
      "C:\\Users\\painter\\AppData\\Local\\Temp\\ipykernel_47148\\3181422731.py:174: UserWarning: The figure layout has changed to tight\n",
      "  plt.tight_layout()\n"
     ]
    },
    {
     "name": "stdout",
     "output_type": "stream",
     "text": [
      "Progress: [#########################                         ] 51.0% (n=153/300) --> elapsed time: 86.72s\r"
     ]
    },
    {
     "name": "stderr",
     "output_type": "stream",
     "text": [
      "C:\\Users\\painter\\AppData\\Local\\Temp\\ipykernel_47148\\3181422731.py:159: MatplotlibDeprecationWarning: Auto-removal of overlapping axes is deprecated since 3.6 and will be removed two minor releases later; explicitly call ax.remove() as needed.\n",
      "  plt.subplot(211)\n",
      "C:\\Users\\painter\\AppData\\Local\\Temp\\ipykernel_47148\\3181422731.py:166: MatplotlibDeprecationWarning: Auto-removal of overlapping axes is deprecated since 3.6 and will be removed two minor releases later; explicitly call ax.remove() as needed.\n",
      "  plt.subplot(212)\n",
      "C:\\Users\\painter\\AppData\\Local\\Temp\\ipykernel_47148\\3181422731.py:174: UserWarning: The figure layout has changed to tight\n",
      "  plt.tight_layout()\n",
      "C:\\Users\\painter\\AppData\\Local\\Temp\\ipykernel_47148\\3181422731.py:159: MatplotlibDeprecationWarning: Auto-removal of overlapping axes is deprecated since 3.6 and will be removed two minor releases later; explicitly call ax.remove() as needed.\n",
      "  plt.subplot(211)\n",
      "C:\\Users\\painter\\AppData\\Local\\Temp\\ipykernel_47148\\3181422731.py:166: MatplotlibDeprecationWarning: Auto-removal of overlapping axes is deprecated since 3.6 and will be removed two minor releases later; explicitly call ax.remove() as needed.\n",
      "  plt.subplot(212)\n"
     ]
    },
    {
     "name": "stdout",
     "output_type": "stream",
     "text": [
      "Progress: [#########################                         ] 51.3% (n=154/300) --> elapsed time: 87.12s\r"
     ]
    },
    {
     "name": "stderr",
     "output_type": "stream",
     "text": [
      "C:\\Users\\painter\\AppData\\Local\\Temp\\ipykernel_47148\\3181422731.py:174: UserWarning: The figure layout has changed to tight\n",
      "  plt.tight_layout()\n",
      "C:\\Users\\painter\\AppData\\Local\\Temp\\ipykernel_47148\\3181422731.py:159: MatplotlibDeprecationWarning: Auto-removal of overlapping axes is deprecated since 3.6 and will be removed two minor releases later; explicitly call ax.remove() as needed.\n",
      "  plt.subplot(211)\n",
      "C:\\Users\\painter\\AppData\\Local\\Temp\\ipykernel_47148\\3181422731.py:166: MatplotlibDeprecationWarning: Auto-removal of overlapping axes is deprecated since 3.6 and will be removed two minor releases later; explicitly call ax.remove() as needed.\n",
      "  plt.subplot(212)\n"
     ]
    },
    {
     "name": "stdout",
     "output_type": "stream",
     "text": [
      "Progress: [#########################                         ] 51.3% (n=154/300) --> elapsed time: 87.53s\r"
     ]
    },
    {
     "name": "stderr",
     "output_type": "stream",
     "text": [
      "C:\\Users\\painter\\AppData\\Local\\Temp\\ipykernel_47148\\3181422731.py:174: UserWarning: The figure layout has changed to tight\n",
      "  plt.tight_layout()\n",
      "C:\\Users\\painter\\AppData\\Local\\Temp\\ipykernel_47148\\3181422731.py:159: MatplotlibDeprecationWarning: Auto-removal of overlapping axes is deprecated since 3.6 and will be removed two minor releases later; explicitly call ax.remove() as needed.\n",
      "  plt.subplot(211)\n",
      "C:\\Users\\painter\\AppData\\Local\\Temp\\ipykernel_47148\\3181422731.py:166: MatplotlibDeprecationWarning: Auto-removal of overlapping axes is deprecated since 3.6 and will be removed two minor releases later; explicitly call ax.remove() as needed.\n",
      "  plt.subplot(212)\n"
     ]
    },
    {
     "name": "stdout",
     "output_type": "stream",
     "text": [
      "Progress: [#########################                         ] 51.7% (n=155/300) --> elapsed time: 88.08s\r"
     ]
    },
    {
     "name": "stderr",
     "output_type": "stream",
     "text": [
      "C:\\Users\\painter\\AppData\\Local\\Temp\\ipykernel_47148\\3181422731.py:174: UserWarning: The figure layout has changed to tight\n",
      "  plt.tight_layout()\n",
      "C:\\Users\\painter\\AppData\\Local\\Temp\\ipykernel_47148\\3181422731.py:159: MatplotlibDeprecationWarning: Auto-removal of overlapping axes is deprecated since 3.6 and will be removed two minor releases later; explicitly call ax.remove() as needed.\n",
      "  plt.subplot(211)\n",
      "C:\\Users\\painter\\AppData\\Local\\Temp\\ipykernel_47148\\3181422731.py:166: MatplotlibDeprecationWarning: Auto-removal of overlapping axes is deprecated since 3.6 and will be removed two minor releases later; explicitly call ax.remove() as needed.\n",
      "  plt.subplot(212)\n"
     ]
    },
    {
     "name": "stdout",
     "output_type": "stream",
     "text": [
      "Progress: [##########################                        ] 52.0% (n=156/300) --> elapsed time: 88.49s\r"
     ]
    },
    {
     "name": "stderr",
     "output_type": "stream",
     "text": [
      "C:\\Users\\painter\\AppData\\Local\\Temp\\ipykernel_47148\\3181422731.py:174: UserWarning: The figure layout has changed to tight\n",
      "  plt.tight_layout()\n",
      "C:\\Users\\painter\\AppData\\Local\\Temp\\ipykernel_47148\\3181422731.py:159: MatplotlibDeprecationWarning: Auto-removal of overlapping axes is deprecated since 3.6 and will be removed two minor releases later; explicitly call ax.remove() as needed.\n",
      "  plt.subplot(211)\n",
      "C:\\Users\\painter\\AppData\\Local\\Temp\\ipykernel_47148\\3181422731.py:166: MatplotlibDeprecationWarning: Auto-removal of overlapping axes is deprecated since 3.6 and will be removed two minor releases later; explicitly call ax.remove() as needed.\n",
      "  plt.subplot(212)\n"
     ]
    },
    {
     "name": "stdout",
     "output_type": "stream",
     "text": [
      "Progress: [##########################                        ] 52.3% (n=157/300) --> elapsed time: 88.88s\r"
     ]
    },
    {
     "name": "stderr",
     "output_type": "stream",
     "text": [
      "C:\\Users\\painter\\AppData\\Local\\Temp\\ipykernel_47148\\3181422731.py:174: UserWarning: The figure layout has changed to tight\n",
      "  plt.tight_layout()\n",
      "C:\\Users\\painter\\AppData\\Local\\Temp\\ipykernel_47148\\3181422731.py:159: MatplotlibDeprecationWarning: Auto-removal of overlapping axes is deprecated since 3.6 and will be removed two minor releases later; explicitly call ax.remove() as needed.\n",
      "  plt.subplot(211)\n",
      "C:\\Users\\painter\\AppData\\Local\\Temp\\ipykernel_47148\\3181422731.py:166: MatplotlibDeprecationWarning: Auto-removal of overlapping axes is deprecated since 3.6 and will be removed two minor releases later; explicitly call ax.remove() as needed.\n",
      "  plt.subplot(212)\n"
     ]
    },
    {
     "name": "stdout",
     "output_type": "stream",
     "text": [
      "Progress: [##########################                        ] 52.7% (n=158/300) --> elapsed time: 89.40s\r"
     ]
    },
    {
     "name": "stderr",
     "output_type": "stream",
     "text": [
      "C:\\Users\\painter\\AppData\\Local\\Temp\\ipykernel_47148\\3181422731.py:174: UserWarning: The figure layout has changed to tight\n",
      "  plt.tight_layout()\n",
      "C:\\Users\\painter\\AppData\\Local\\Temp\\ipykernel_47148\\3181422731.py:159: MatplotlibDeprecationWarning: Auto-removal of overlapping axes is deprecated since 3.6 and will be removed two minor releases later; explicitly call ax.remove() as needed.\n",
      "  plt.subplot(211)\n",
      "C:\\Users\\painter\\AppData\\Local\\Temp\\ipykernel_47148\\3181422731.py:166: MatplotlibDeprecationWarning: Auto-removal of overlapping axes is deprecated since 3.6 and will be removed two minor releases later; explicitly call ax.remove() as needed.\n",
      "  plt.subplot(212)\n"
     ]
    },
    {
     "name": "stdout",
     "output_type": "stream",
     "text": [
      "Progress: [##########################                        ] 52.7% (n=158/300) --> elapsed time: 89.84s\r"
     ]
    },
    {
     "name": "stderr",
     "output_type": "stream",
     "text": [
      "C:\\Users\\painter\\AppData\\Local\\Temp\\ipykernel_47148\\3181422731.py:174: UserWarning: The figure layout has changed to tight\n",
      "  plt.tight_layout()\n",
      "C:\\Users\\painter\\AppData\\Local\\Temp\\ipykernel_47148\\3181422731.py:159: MatplotlibDeprecationWarning: Auto-removal of overlapping axes is deprecated since 3.6 and will be removed two minor releases later; explicitly call ax.remove() as needed.\n",
      "  plt.subplot(211)\n",
      "C:\\Users\\painter\\AppData\\Local\\Temp\\ipykernel_47148\\3181422731.py:166: MatplotlibDeprecationWarning: Auto-removal of overlapping axes is deprecated since 3.6 and will be removed two minor releases later; explicitly call ax.remove() as needed.\n",
      "  plt.subplot(212)\n"
     ]
    },
    {
     "name": "stdout",
     "output_type": "stream",
     "text": [
      "Progress: [##########################                        ] 53.0% (n=159/300) --> elapsed time: 90.26s\r"
     ]
    },
    {
     "name": "stderr",
     "output_type": "stream",
     "text": [
      "C:\\Users\\painter\\AppData\\Local\\Temp\\ipykernel_47148\\3181422731.py:174: UserWarning: The figure layout has changed to tight\n",
      "  plt.tight_layout()\n"
     ]
    },
    {
     "name": "stdout",
     "output_type": "stream",
     "text": [
      "Progress: [##########################                        ] 53.3% (n=160/300) --> elapsed time: 90.64s\r"
     ]
    },
    {
     "name": "stderr",
     "output_type": "stream",
     "text": [
      "C:\\Users\\painter\\AppData\\Local\\Temp\\ipykernel_47148\\3181422731.py:159: MatplotlibDeprecationWarning: Auto-removal of overlapping axes is deprecated since 3.6 and will be removed two minor releases later; explicitly call ax.remove() as needed.\n",
      "  plt.subplot(211)\n",
      "C:\\Users\\painter\\AppData\\Local\\Temp\\ipykernel_47148\\3181422731.py:166: MatplotlibDeprecationWarning: Auto-removal of overlapping axes is deprecated since 3.6 and will be removed two minor releases later; explicitly call ax.remove() as needed.\n",
      "  plt.subplot(212)\n",
      "C:\\Users\\painter\\AppData\\Local\\Temp\\ipykernel_47148\\3181422731.py:174: UserWarning: The figure layout has changed to tight\n",
      "  plt.tight_layout()\n",
      "C:\\Users\\painter\\AppData\\Local\\Temp\\ipykernel_47148\\3181422731.py:159: MatplotlibDeprecationWarning: Auto-removal of overlapping axes is deprecated since 3.6 and will be removed two minor releases later; explicitly call ax.remove() as needed.\n",
      "  plt.subplot(211)\n",
      "C:\\Users\\painter\\AppData\\Local\\Temp\\ipykernel_47148\\3181422731.py:166: MatplotlibDeprecationWarning: Auto-removal of overlapping axes is deprecated since 3.6 and will be removed two minor releases later; explicitly call ax.remove() as needed.\n",
      "  plt.subplot(212)\n"
     ]
    },
    {
     "name": "stdout",
     "output_type": "stream",
     "text": [
      "Progress: [##########################                        ] 53.7% (n=161/300) --> elapsed time: 91.17s\r"
     ]
    },
    {
     "name": "stderr",
     "output_type": "stream",
     "text": [
      "C:\\Users\\painter\\AppData\\Local\\Temp\\ipykernel_47148\\3181422731.py:174: UserWarning: The figure layout has changed to tight\n",
      "  plt.tight_layout()\n",
      "C:\\Users\\painter\\AppData\\Local\\Temp\\ipykernel_47148\\3181422731.py:159: MatplotlibDeprecationWarning: Auto-removal of overlapping axes is deprecated since 3.6 and will be removed two minor releases later; explicitly call ax.remove() as needed.\n",
      "  plt.subplot(211)\n",
      "C:\\Users\\painter\\AppData\\Local\\Temp\\ipykernel_47148\\3181422731.py:166: MatplotlibDeprecationWarning: Auto-removal of overlapping axes is deprecated since 3.6 and will be removed two minor releases later; explicitly call ax.remove() as needed.\n",
      "  plt.subplot(212)\n"
     ]
    },
    {
     "name": "stdout",
     "output_type": "stream",
     "text": [
      "Progress: [##########################                        ] 53.7% (n=161/300) --> elapsed time: 91.59s\r"
     ]
    },
    {
     "name": "stderr",
     "output_type": "stream",
     "text": [
      "C:\\Users\\painter\\AppData\\Local\\Temp\\ipykernel_47148\\3181422731.py:174: UserWarning: The figure layout has changed to tight\n",
      "  plt.tight_layout()\n",
      "C:\\Users\\painter\\AppData\\Local\\Temp\\ipykernel_47148\\3181422731.py:159: MatplotlibDeprecationWarning: Auto-removal of overlapping axes is deprecated since 3.6 and will be removed two minor releases later; explicitly call ax.remove() as needed.\n",
      "  plt.subplot(211)\n"
     ]
    },
    {
     "name": "stdout",
     "output_type": "stream",
     "text": [
      "Progress: [###########################                       ] 54.0% (n=162/300) --> elapsed time: 92.01s\r"
     ]
    },
    {
     "name": "stderr",
     "output_type": "stream",
     "text": [
      "C:\\Users\\painter\\AppData\\Local\\Temp\\ipykernel_47148\\3181422731.py:166: MatplotlibDeprecationWarning: Auto-removal of overlapping axes is deprecated since 3.6 and will be removed two minor releases later; explicitly call ax.remove() as needed.\n",
      "  plt.subplot(212)\n",
      "C:\\Users\\painter\\AppData\\Local\\Temp\\ipykernel_47148\\3181422731.py:174: UserWarning: The figure layout has changed to tight\n",
      "  plt.tight_layout()\n"
     ]
    },
    {
     "name": "stdout",
     "output_type": "stream",
     "text": [
      "Progress: [###########################                       ] 54.3% (n=163/300) --> elapsed time: 92.55s\r"
     ]
    },
    {
     "name": "stderr",
     "output_type": "stream",
     "text": [
      "C:\\Users\\painter\\AppData\\Local\\Temp\\ipykernel_47148\\3181422731.py:159: MatplotlibDeprecationWarning: Auto-removal of overlapping axes is deprecated since 3.6 and will be removed two minor releases later; explicitly call ax.remove() as needed.\n",
      "  plt.subplot(211)\n",
      "C:\\Users\\painter\\AppData\\Local\\Temp\\ipykernel_47148\\3181422731.py:166: MatplotlibDeprecationWarning: Auto-removal of overlapping axes is deprecated since 3.6 and will be removed two minor releases later; explicitly call ax.remove() as needed.\n",
      "  plt.subplot(212)\n",
      "C:\\Users\\painter\\AppData\\Local\\Temp\\ipykernel_47148\\3181422731.py:174: UserWarning: The figure layout has changed to tight\n",
      "  plt.tight_layout()\n",
      "C:\\Users\\painter\\AppData\\Local\\Temp\\ipykernel_47148\\3181422731.py:159: MatplotlibDeprecationWarning: Auto-removal of overlapping axes is deprecated since 3.6 and will be removed two minor releases later; explicitly call ax.remove() as needed.\n",
      "  plt.subplot(211)\n",
      "C:\\Users\\painter\\AppData\\Local\\Temp\\ipykernel_47148\\3181422731.py:166: MatplotlibDeprecationWarning: Auto-removal of overlapping axes is deprecated since 3.6 and will be removed two minor releases later; explicitly call ax.remove() as needed.\n",
      "  plt.subplot(212)\n"
     ]
    },
    {
     "name": "stdout",
     "output_type": "stream",
     "text": [
      "Progress: [###########################                       ] 54.7% (n=164/300) --> elapsed time: 92.93s\r"
     ]
    },
    {
     "name": "stderr",
     "output_type": "stream",
     "text": [
      "C:\\Users\\painter\\AppData\\Local\\Temp\\ipykernel_47148\\3181422731.py:174: UserWarning: The figure layout has changed to tight\n",
      "  plt.tight_layout()\n",
      "C:\\Users\\painter\\AppData\\Local\\Temp\\ipykernel_47148\\3181422731.py:159: MatplotlibDeprecationWarning: Auto-removal of overlapping axes is deprecated since 3.6 and will be removed two minor releases later; explicitly call ax.remove() as needed.\n",
      "  plt.subplot(211)\n",
      "C:\\Users\\painter\\AppData\\Local\\Temp\\ipykernel_47148\\3181422731.py:166: MatplotlibDeprecationWarning: Auto-removal of overlapping axes is deprecated since 3.6 and will be removed two minor releases later; explicitly call ax.remove() as needed.\n",
      "  plt.subplot(212)\n"
     ]
    },
    {
     "name": "stdout",
     "output_type": "stream",
     "text": [
      "Progress: [###########################                       ] 54.7% (n=164/300) --> elapsed time: 93.34s\r"
     ]
    },
    {
     "name": "stderr",
     "output_type": "stream",
     "text": [
      "C:\\Users\\painter\\AppData\\Local\\Temp\\ipykernel_47148\\3181422731.py:174: UserWarning: The figure layout has changed to tight\n",
      "  plt.tight_layout()\n",
      "C:\\Users\\painter\\AppData\\Local\\Temp\\ipykernel_47148\\3181422731.py:159: MatplotlibDeprecationWarning: Auto-removal of overlapping axes is deprecated since 3.6 and will be removed two minor releases later; explicitly call ax.remove() as needed.\n",
      "  plt.subplot(211)\n",
      "C:\\Users\\painter\\AppData\\Local\\Temp\\ipykernel_47148\\3181422731.py:166: MatplotlibDeprecationWarning: Auto-removal of overlapping axes is deprecated since 3.6 and will be removed two minor releases later; explicitly call ax.remove() as needed.\n",
      "  plt.subplot(212)\n"
     ]
    },
    {
     "name": "stdout",
     "output_type": "stream",
     "text": [
      "Progress: [###########################                       ] 55.0% (n=165/300) --> elapsed time: 93.90s\r"
     ]
    },
    {
     "name": "stderr",
     "output_type": "stream",
     "text": [
      "C:\\Users\\painter\\AppData\\Local\\Temp\\ipykernel_47148\\3181422731.py:174: UserWarning: The figure layout has changed to tight\n",
      "  plt.tight_layout()\n",
      "C:\\Users\\painter\\AppData\\Local\\Temp\\ipykernel_47148\\3181422731.py:159: MatplotlibDeprecationWarning: Auto-removal of overlapping axes is deprecated since 3.6 and will be removed two minor releases later; explicitly call ax.remove() as needed.\n",
      "  plt.subplot(211)\n",
      "C:\\Users\\painter\\AppData\\Local\\Temp\\ipykernel_47148\\3181422731.py:166: MatplotlibDeprecationWarning: Auto-removal of overlapping axes is deprecated since 3.6 and will be removed two minor releases later; explicitly call ax.remove() as needed.\n",
      "  plt.subplot(212)\n"
     ]
    },
    {
     "name": "stdout",
     "output_type": "stream",
     "text": [
      "Progress: [###########################                       ] 55.3% (n=166/300) --> elapsed time: 94.32s\r"
     ]
    },
    {
     "name": "stderr",
     "output_type": "stream",
     "text": [
      "C:\\Users\\painter\\AppData\\Local\\Temp\\ipykernel_47148\\3181422731.py:174: UserWarning: The figure layout has changed to tight\n",
      "  plt.tight_layout()\n",
      "C:\\Users\\painter\\AppData\\Local\\Temp\\ipykernel_47148\\3181422731.py:159: MatplotlibDeprecationWarning: Auto-removal of overlapping axes is deprecated since 3.6 and will be removed two minor releases later; explicitly call ax.remove() as needed.\n",
      "  plt.subplot(211)\n",
      "C:\\Users\\painter\\AppData\\Local\\Temp\\ipykernel_47148\\3181422731.py:166: MatplotlibDeprecationWarning: Auto-removal of overlapping axes is deprecated since 3.6 and will be removed two minor releases later; explicitly call ax.remove() as needed.\n",
      "  plt.subplot(212)\n"
     ]
    },
    {
     "name": "stdout",
     "output_type": "stream",
     "text": [
      "Progress: [###########################                       ] 55.7% (n=167/300) --> elapsed time: 94.72s\r"
     ]
    },
    {
     "name": "stderr",
     "output_type": "stream",
     "text": [
      "C:\\Users\\painter\\AppData\\Local\\Temp\\ipykernel_47148\\3181422731.py:174: UserWarning: The figure layout has changed to tight\n",
      "  plt.tight_layout()\n",
      "C:\\Users\\painter\\AppData\\Local\\Temp\\ipykernel_47148\\3181422731.py:159: MatplotlibDeprecationWarning: Auto-removal of overlapping axes is deprecated since 3.6 and will be removed two minor releases later; explicitly call ax.remove() as needed.\n",
      "  plt.subplot(211)\n",
      "C:\\Users\\painter\\AppData\\Local\\Temp\\ipykernel_47148\\3181422731.py:166: MatplotlibDeprecationWarning: Auto-removal of overlapping axes is deprecated since 3.6 and will be removed two minor releases later; explicitly call ax.remove() as needed.\n",
      "  plt.subplot(212)\n"
     ]
    },
    {
     "name": "stdout",
     "output_type": "stream",
     "text": [
      "Progress: [############################                      ] 56.0% (n=168/300) --> elapsed time: 95.27s\r"
     ]
    },
    {
     "name": "stderr",
     "output_type": "stream",
     "text": [
      "C:\\Users\\painter\\AppData\\Local\\Temp\\ipykernel_47148\\3181422731.py:174: UserWarning: The figure layout has changed to tight\n",
      "  plt.tight_layout()\n",
      "C:\\Users\\painter\\AppData\\Local\\Temp\\ipykernel_47148\\3181422731.py:159: MatplotlibDeprecationWarning: Auto-removal of overlapping axes is deprecated since 3.6 and will be removed two minor releases later; explicitly call ax.remove() as needed.\n",
      "  plt.subplot(211)\n",
      "C:\\Users\\painter\\AppData\\Local\\Temp\\ipykernel_47148\\3181422731.py:166: MatplotlibDeprecationWarning: Auto-removal of overlapping axes is deprecated since 3.6 and will be removed two minor releases later; explicitly call ax.remove() as needed.\n",
      "  plt.subplot(212)\n"
     ]
    },
    {
     "name": "stdout",
     "output_type": "stream",
     "text": [
      "Progress: [############################                      ] 56.3% (n=169/300) --> elapsed time: 95.70s\r"
     ]
    },
    {
     "name": "stderr",
     "output_type": "stream",
     "text": [
      "C:\\Users\\painter\\AppData\\Local\\Temp\\ipykernel_47148\\3181422731.py:174: UserWarning: The figure layout has changed to tight\n",
      "  plt.tight_layout()\n",
      "C:\\Users\\painter\\AppData\\Local\\Temp\\ipykernel_47148\\3181422731.py:159: MatplotlibDeprecationWarning: Auto-removal of overlapping axes is deprecated since 3.6 and will be removed two minor releases later; explicitly call ax.remove() as needed.\n",
      "  plt.subplot(211)\n",
      "C:\\Users\\painter\\AppData\\Local\\Temp\\ipykernel_47148\\3181422731.py:166: MatplotlibDeprecationWarning: Auto-removal of overlapping axes is deprecated since 3.6 and will be removed two minor releases later; explicitly call ax.remove() as needed.\n",
      "  plt.subplot(212)\n"
     ]
    },
    {
     "name": "stdout",
     "output_type": "stream",
     "text": [
      "Progress: [############################                      ] 56.3% (n=169/300) --> elapsed time: 96.09s\r"
     ]
    },
    {
     "name": "stderr",
     "output_type": "stream",
     "text": [
      "C:\\Users\\painter\\AppData\\Local\\Temp\\ipykernel_47148\\3181422731.py:174: UserWarning: The figure layout has changed to tight\n",
      "  plt.tight_layout()\n",
      "C:\\Users\\painter\\AppData\\Local\\Temp\\ipykernel_47148\\3181422731.py:159: MatplotlibDeprecationWarning: Auto-removal of overlapping axes is deprecated since 3.6 and will be removed two minor releases later; explicitly call ax.remove() as needed.\n",
      "  plt.subplot(211)\n"
     ]
    },
    {
     "name": "stdout",
     "output_type": "stream",
     "text": [
      "Progress: [############################                      ] 56.7% (n=170/300) --> elapsed time: 96.54s\r"
     ]
    },
    {
     "name": "stderr",
     "output_type": "stream",
     "text": [
      "C:\\Users\\painter\\AppData\\Local\\Temp\\ipykernel_47148\\3181422731.py:166: MatplotlibDeprecationWarning: Auto-removal of overlapping axes is deprecated since 3.6 and will be removed two minor releases later; explicitly call ax.remove() as needed.\n",
      "  plt.subplot(212)\n",
      "C:\\Users\\painter\\AppData\\Local\\Temp\\ipykernel_47148\\3181422731.py:174: UserWarning: The figure layout has changed to tight\n",
      "  plt.tight_layout()\n",
      "C:\\Users\\painter\\AppData\\Local\\Temp\\ipykernel_47148\\3181422731.py:159: MatplotlibDeprecationWarning: Auto-removal of overlapping axes is deprecated since 3.6 and will be removed two minor releases later; explicitly call ax.remove() as needed.\n",
      "  plt.subplot(211)\n",
      "C:\\Users\\painter\\AppData\\Local\\Temp\\ipykernel_47148\\3181422731.py:166: MatplotlibDeprecationWarning: Auto-removal of overlapping axes is deprecated since 3.6 and will be removed two minor releases later; explicitly call ax.remove() as needed.\n",
      "  plt.subplot(212)\n"
     ]
    },
    {
     "name": "stdout",
     "output_type": "stream",
     "text": [
      "Progress: [############################                      ] 57.0% (n=171/300) --> elapsed time: 97.10s\r"
     ]
    },
    {
     "name": "stderr",
     "output_type": "stream",
     "text": [
      "C:\\Users\\painter\\AppData\\Local\\Temp\\ipykernel_47148\\3181422731.py:174: UserWarning: The figure layout has changed to tight\n",
      "  plt.tight_layout()\n",
      "C:\\Users\\painter\\AppData\\Local\\Temp\\ipykernel_47148\\3181422731.py:159: MatplotlibDeprecationWarning: Auto-removal of overlapping axes is deprecated since 3.6 and will be removed two minor releases later; explicitly call ax.remove() as needed.\n",
      "  plt.subplot(211)\n",
      "C:\\Users\\painter\\AppData\\Local\\Temp\\ipykernel_47148\\3181422731.py:166: MatplotlibDeprecationWarning: Auto-removal of overlapping axes is deprecated since 3.6 and will be removed two minor releases later; explicitly call ax.remove() as needed.\n",
      "  plt.subplot(212)\n"
     ]
    },
    {
     "name": "stdout",
     "output_type": "stream",
     "text": [
      "Progress: [############################                      ] 57.3% (n=172/300) --> elapsed time: 97.50s\r"
     ]
    },
    {
     "name": "stderr",
     "output_type": "stream",
     "text": [
      "C:\\Users\\painter\\AppData\\Local\\Temp\\ipykernel_47148\\3181422731.py:174: UserWarning: The figure layout has changed to tight\n",
      "  plt.tight_layout()\n",
      "C:\\Users\\painter\\AppData\\Local\\Temp\\ipykernel_47148\\3181422731.py:159: MatplotlibDeprecationWarning: Auto-removal of overlapping axes is deprecated since 3.6 and will be removed two minor releases later; explicitly call ax.remove() as needed.\n",
      "  plt.subplot(211)\n",
      "C:\\Users\\painter\\AppData\\Local\\Temp\\ipykernel_47148\\3181422731.py:166: MatplotlibDeprecationWarning: Auto-removal of overlapping axes is deprecated since 3.6 and will be removed two minor releases later; explicitly call ax.remove() as needed.\n",
      "  plt.subplot(212)\n"
     ]
    },
    {
     "name": "stdout",
     "output_type": "stream",
     "text": [
      "Progress: [############################                      ] 57.3% (n=172/300) --> elapsed time: 97.92s\r"
     ]
    },
    {
     "name": "stderr",
     "output_type": "stream",
     "text": [
      "C:\\Users\\painter\\AppData\\Local\\Temp\\ipykernel_47148\\3181422731.py:174: UserWarning: The figure layout has changed to tight\n",
      "  plt.tight_layout()\n",
      "C:\\Users\\painter\\AppData\\Local\\Temp\\ipykernel_47148\\3181422731.py:159: MatplotlibDeprecationWarning: Auto-removal of overlapping axes is deprecated since 3.6 and will be removed two minor releases later; explicitly call ax.remove() as needed.\n",
      "  plt.subplot(211)\n",
      "C:\\Users\\painter\\AppData\\Local\\Temp\\ipykernel_47148\\3181422731.py:166: MatplotlibDeprecationWarning: Auto-removal of overlapping axes is deprecated since 3.6 and will be removed two minor releases later; explicitly call ax.remove() as needed.\n",
      "  plt.subplot(212)\n"
     ]
    },
    {
     "name": "stdout",
     "output_type": "stream",
     "text": [
      "Progress: [############################                      ] 57.7% (n=173/300) --> elapsed time: 98.42s\r"
     ]
    },
    {
     "name": "stderr",
     "output_type": "stream",
     "text": [
      "C:\\Users\\painter\\AppData\\Local\\Temp\\ipykernel_47148\\3181422731.py:174: UserWarning: The figure layout has changed to tight\n",
      "  plt.tight_layout()\n",
      "C:\\Users\\painter\\AppData\\Local\\Temp\\ipykernel_47148\\3181422731.py:159: MatplotlibDeprecationWarning: Auto-removal of overlapping axes is deprecated since 3.6 and will be removed two minor releases later; explicitly call ax.remove() as needed.\n",
      "  plt.subplot(211)\n",
      "C:\\Users\\painter\\AppData\\Local\\Temp\\ipykernel_47148\\3181422731.py:166: MatplotlibDeprecationWarning: Auto-removal of overlapping axes is deprecated since 3.6 and will be removed two minor releases later; explicitly call ax.remove() as needed.\n",
      "  plt.subplot(212)\n"
     ]
    },
    {
     "name": "stdout",
     "output_type": "stream",
     "text": [
      "Progress: [############################                      ] 58.0% (n=174/300) --> elapsed time: 98.83s\r"
     ]
    },
    {
     "name": "stderr",
     "output_type": "stream",
     "text": [
      "C:\\Users\\painter\\AppData\\Local\\Temp\\ipykernel_47148\\3181422731.py:174: UserWarning: The figure layout has changed to tight\n",
      "  plt.tight_layout()\n",
      "C:\\Users\\painter\\AppData\\Local\\Temp\\ipykernel_47148\\3181422731.py:159: MatplotlibDeprecationWarning: Auto-removal of overlapping axes is deprecated since 3.6 and will be removed two minor releases later; explicitly call ax.remove() as needed.\n",
      "  plt.subplot(211)\n",
      "C:\\Users\\painter\\AppData\\Local\\Temp\\ipykernel_47148\\3181422731.py:166: MatplotlibDeprecationWarning: Auto-removal of overlapping axes is deprecated since 3.6 and will be removed two minor releases later; explicitly call ax.remove() as needed.\n",
      "  plt.subplot(212)\n"
     ]
    },
    {
     "name": "stdout",
     "output_type": "stream",
     "text": [
      "Progress: [#############################                     ] 58.3% (n=175/300) --> elapsed time: 99.23s\r"
     ]
    },
    {
     "name": "stderr",
     "output_type": "stream",
     "text": [
      "C:\\Users\\painter\\AppData\\Local\\Temp\\ipykernel_47148\\3181422731.py:174: UserWarning: The figure layout has changed to tight\n",
      "  plt.tight_layout()\n",
      "C:\\Users\\painter\\AppData\\Local\\Temp\\ipykernel_47148\\3181422731.py:159: MatplotlibDeprecationWarning: Auto-removal of overlapping axes is deprecated since 3.6 and will be removed two minor releases later; explicitly call ax.remove() as needed.\n",
      "  plt.subplot(211)\n",
      "C:\\Users\\painter\\AppData\\Local\\Temp\\ipykernel_47148\\3181422731.py:166: MatplotlibDeprecationWarning: Auto-removal of overlapping axes is deprecated since 3.6 and will be removed two minor releases later; explicitly call ax.remove() as needed.\n",
      "  plt.subplot(212)\n"
     ]
    },
    {
     "name": "stdout",
     "output_type": "stream",
     "text": [
      "Progress: [#############################                     ] 58.7% (n=176/300) --> elapsed time: 99.79s\r"
     ]
    },
    {
     "name": "stderr",
     "output_type": "stream",
     "text": [
      "C:\\Users\\painter\\AppData\\Local\\Temp\\ipykernel_47148\\3181422731.py:174: UserWarning: The figure layout has changed to tight\n",
      "  plt.tight_layout()\n",
      "C:\\Users\\painter\\AppData\\Local\\Temp\\ipykernel_47148\\3181422731.py:159: MatplotlibDeprecationWarning: Auto-removal of overlapping axes is deprecated since 3.6 and will be removed two minor releases later; explicitly call ax.remove() as needed.\n",
      "  plt.subplot(211)\n",
      "C:\\Users\\painter\\AppData\\Local\\Temp\\ipykernel_47148\\3181422731.py:166: MatplotlibDeprecationWarning: Auto-removal of overlapping axes is deprecated since 3.6 and will be removed two minor releases later; explicitly call ax.remove() as needed.\n",
      "  plt.subplot(212)\n"
     ]
    },
    {
     "name": "stdout",
     "output_type": "stream",
     "text": [
      "Progress: [#############################                     ] 58.7% (n=176/300) --> elapsed time: 100.19s\r"
     ]
    },
    {
     "name": "stderr",
     "output_type": "stream",
     "text": [
      "C:\\Users\\painter\\AppData\\Local\\Temp\\ipykernel_47148\\3181422731.py:174: UserWarning: The figure layout has changed to tight\n",
      "  plt.tight_layout()\n",
      "C:\\Users\\painter\\AppData\\Local\\Temp\\ipykernel_47148\\3181422731.py:159: MatplotlibDeprecationWarning: Auto-removal of overlapping axes is deprecated since 3.6 and will be removed two minor releases later; explicitly call ax.remove() as needed.\n",
      "  plt.subplot(211)\n",
      "C:\\Users\\painter\\AppData\\Local\\Temp\\ipykernel_47148\\3181422731.py:166: MatplotlibDeprecationWarning: Auto-removal of overlapping axes is deprecated since 3.6 and will be removed two minor releases later; explicitly call ax.remove() as needed.\n",
      "  plt.subplot(212)\n"
     ]
    },
    {
     "name": "stdout",
     "output_type": "stream",
     "text": [
      "Progress: [#############################                     ] 59.0% (n=177/300) --> elapsed time: 100.56s\r"
     ]
    },
    {
     "name": "stderr",
     "output_type": "stream",
     "text": [
      "C:\\Users\\painter\\AppData\\Local\\Temp\\ipykernel_47148\\3181422731.py:174: UserWarning: The figure layout has changed to tight\n",
      "  plt.tight_layout()\n",
      "C:\\Users\\painter\\AppData\\Local\\Temp\\ipykernel_47148\\3181422731.py:159: MatplotlibDeprecationWarning: Auto-removal of overlapping axes is deprecated since 3.6 and will be removed two minor releases later; explicitly call ax.remove() as needed.\n",
      "  plt.subplot(211)\n"
     ]
    },
    {
     "name": "stdout",
     "output_type": "stream",
     "text": [
      "Progress: [#############################                     ] 59.3% (n=178/300) --> elapsed time: 100.94s\r"
     ]
    },
    {
     "name": "stderr",
     "output_type": "stream",
     "text": [
      "C:\\Users\\painter\\AppData\\Local\\Temp\\ipykernel_47148\\3181422731.py:166: MatplotlibDeprecationWarning: Auto-removal of overlapping axes is deprecated since 3.6 and will be removed two minor releases later; explicitly call ax.remove() as needed.\n",
      "  plt.subplot(212)\n",
      "C:\\Users\\painter\\AppData\\Local\\Temp\\ipykernel_47148\\3181422731.py:174: UserWarning: The figure layout has changed to tight\n",
      "  plt.tight_layout()\n",
      "C:\\Users\\painter\\AppData\\Local\\Temp\\ipykernel_47148\\3181422731.py:159: MatplotlibDeprecationWarning: Auto-removal of overlapping axes is deprecated since 3.6 and will be removed two minor releases later; explicitly call ax.remove() as needed.\n",
      "  plt.subplot(211)\n",
      "C:\\Users\\painter\\AppData\\Local\\Temp\\ipykernel_47148\\3181422731.py:166: MatplotlibDeprecationWarning: Auto-removal of overlapping axes is deprecated since 3.6 and will be removed two minor releases later; explicitly call ax.remove() as needed.\n",
      "  plt.subplot(212)\n"
     ]
    },
    {
     "name": "stdout",
     "output_type": "stream",
     "text": [
      "Progress: [#############################                     ] 59.7% (n=179/300) --> elapsed time: 101.49s\r"
     ]
    },
    {
     "name": "stderr",
     "output_type": "stream",
     "text": [
      "C:\\Users\\painter\\AppData\\Local\\Temp\\ipykernel_47148\\3181422731.py:174: UserWarning: The figure layout has changed to tight\n",
      "  plt.tight_layout()\n",
      "C:\\Users\\painter\\AppData\\Local\\Temp\\ipykernel_47148\\3181422731.py:159: MatplotlibDeprecationWarning: Auto-removal of overlapping axes is deprecated since 3.6 and will be removed two minor releases later; explicitly call ax.remove() as needed.\n",
      "  plt.subplot(211)\n",
      "C:\\Users\\painter\\AppData\\Local\\Temp\\ipykernel_47148\\3181422731.py:166: MatplotlibDeprecationWarning: Auto-removal of overlapping axes is deprecated since 3.6 and will be removed two minor releases later; explicitly call ax.remove() as needed.\n",
      "  plt.subplot(212)\n"
     ]
    },
    {
     "name": "stdout",
     "output_type": "stream",
     "text": [
      "Progress: [#############################                     ] 59.7% (n=179/300) --> elapsed time: 101.90s\r"
     ]
    },
    {
     "name": "stderr",
     "output_type": "stream",
     "text": [
      "C:\\Users\\painter\\AppData\\Local\\Temp\\ipykernel_47148\\3181422731.py:174: UserWarning: The figure layout has changed to tight\n",
      "  plt.tight_layout()\n",
      "C:\\Users\\painter\\AppData\\Local\\Temp\\ipykernel_47148\\3181422731.py:159: MatplotlibDeprecationWarning: Auto-removal of overlapping axes is deprecated since 3.6 and will be removed two minor releases later; explicitly call ax.remove() as needed.\n",
      "  plt.subplot(211)\n"
     ]
    },
    {
     "name": "stdout",
     "output_type": "stream",
     "text": [
      "Progress: [##############################                    ] 60.0% (n=180/300) --> elapsed time: 102.28s\r"
     ]
    },
    {
     "name": "stderr",
     "output_type": "stream",
     "text": [
      "C:\\Users\\painter\\AppData\\Local\\Temp\\ipykernel_47148\\3181422731.py:166: MatplotlibDeprecationWarning: Auto-removal of overlapping axes is deprecated since 3.6 and will be removed two minor releases later; explicitly call ax.remove() as needed.\n",
      "  plt.subplot(212)\n",
      "C:\\Users\\painter\\AppData\\Local\\Temp\\ipykernel_47148\\3181422731.py:174: UserWarning: The figure layout has changed to tight\n",
      "  plt.tight_layout()\n",
      "C:\\Users\\painter\\AppData\\Local\\Temp\\ipykernel_47148\\3181422731.py:159: MatplotlibDeprecationWarning: Auto-removal of overlapping axes is deprecated since 3.6 and will be removed two minor releases later; explicitly call ax.remove() as needed.\n",
      "  plt.subplot(211)\n",
      "C:\\Users\\painter\\AppData\\Local\\Temp\\ipykernel_47148\\3181422731.py:166: MatplotlibDeprecationWarning: Auto-removal of overlapping axes is deprecated since 3.6 and will be removed two minor releases later; explicitly call ax.remove() as needed.\n",
      "  plt.subplot(212)\n"
     ]
    },
    {
     "name": "stdout",
     "output_type": "stream",
     "text": [
      "Progress: [##############################                    ] 60.3% (n=181/300) --> elapsed time: 102.84s\r"
     ]
    },
    {
     "name": "stderr",
     "output_type": "stream",
     "text": [
      "C:\\Users\\painter\\AppData\\Local\\Temp\\ipykernel_47148\\3181422731.py:174: UserWarning: The figure layout has changed to tight\n",
      "  plt.tight_layout()\n",
      "C:\\Users\\painter\\AppData\\Local\\Temp\\ipykernel_47148\\3181422731.py:159: MatplotlibDeprecationWarning: Auto-removal of overlapping axes is deprecated since 3.6 and will be removed two minor releases later; explicitly call ax.remove() as needed.\n",
      "  plt.subplot(211)\n",
      "C:\\Users\\painter\\AppData\\Local\\Temp\\ipykernel_47148\\3181422731.py:166: MatplotlibDeprecationWarning: Auto-removal of overlapping axes is deprecated since 3.6 and will be removed two minor releases later; explicitly call ax.remove() as needed.\n",
      "  plt.subplot(212)\n"
     ]
    },
    {
     "name": "stdout",
     "output_type": "stream",
     "text": [
      "Progress: [##############################                    ] 60.7% (n=182/300) --> elapsed time: 103.25s\r"
     ]
    },
    {
     "name": "stderr",
     "output_type": "stream",
     "text": [
      "C:\\Users\\painter\\AppData\\Local\\Temp\\ipykernel_47148\\3181422731.py:174: UserWarning: The figure layout has changed to tight\n",
      "  plt.tight_layout()\n",
      "C:\\Users\\painter\\AppData\\Local\\Temp\\ipykernel_47148\\3181422731.py:159: MatplotlibDeprecationWarning: Auto-removal of overlapping axes is deprecated since 3.6 and will be removed two minor releases later; explicitly call ax.remove() as needed.\n",
      "  plt.subplot(211)\n",
      "C:\\Users\\painter\\AppData\\Local\\Temp\\ipykernel_47148\\3181422731.py:166: MatplotlibDeprecationWarning: Auto-removal of overlapping axes is deprecated since 3.6 and will be removed two minor releases later; explicitly call ax.remove() as needed.\n",
      "  plt.subplot(212)\n"
     ]
    },
    {
     "name": "stdout",
     "output_type": "stream",
     "text": [
      "Progress: [##############################                    ] 61.0% (n=183/300) --> elapsed time: 103.65s\r"
     ]
    },
    {
     "name": "stderr",
     "output_type": "stream",
     "text": [
      "C:\\Users\\painter\\AppData\\Local\\Temp\\ipykernel_47148\\3181422731.py:174: UserWarning: The figure layout has changed to tight\n",
      "  plt.tight_layout()\n",
      "C:\\Users\\painter\\AppData\\Local\\Temp\\ipykernel_47148\\3181422731.py:159: MatplotlibDeprecationWarning: Auto-removal of overlapping axes is deprecated since 3.6 and will be removed two minor releases later; explicitly call ax.remove() as needed.\n",
      "  plt.subplot(211)\n",
      "C:\\Users\\painter\\AppData\\Local\\Temp\\ipykernel_47148\\3181422731.py:166: MatplotlibDeprecationWarning: Auto-removal of overlapping axes is deprecated since 3.6 and will be removed two minor releases later; explicitly call ax.remove() as needed.\n",
      "  plt.subplot(212)\n"
     ]
    },
    {
     "name": "stdout",
     "output_type": "stream",
     "text": [
      "Progress: [##############################                    ] 61.0% (n=183/300) --> elapsed time: 104.17s\r"
     ]
    },
    {
     "name": "stderr",
     "output_type": "stream",
     "text": [
      "C:\\Users\\painter\\AppData\\Local\\Temp\\ipykernel_47148\\3181422731.py:174: UserWarning: The figure layout has changed to tight\n",
      "  plt.tight_layout()\n",
      "C:\\Users\\painter\\AppData\\Local\\Temp\\ipykernel_47148\\3181422731.py:159: MatplotlibDeprecationWarning: Auto-removal of overlapping axes is deprecated since 3.6 and will be removed two minor releases later; explicitly call ax.remove() as needed.\n",
      "  plt.subplot(211)\n",
      "C:\\Users\\painter\\AppData\\Local\\Temp\\ipykernel_47148\\3181422731.py:166: MatplotlibDeprecationWarning: Auto-removal of overlapping axes is deprecated since 3.6 and will be removed two minor releases later; explicitly call ax.remove() as needed.\n",
      "  plt.subplot(212)\n"
     ]
    },
    {
     "name": "stdout",
     "output_type": "stream",
     "text": [
      "Progress: [##############################                    ] 61.3% (n=184/300) --> elapsed time: 104.55s\r"
     ]
    },
    {
     "name": "stderr",
     "output_type": "stream",
     "text": [
      "C:\\Users\\painter\\AppData\\Local\\Temp\\ipykernel_47148\\3181422731.py:174: UserWarning: The figure layout has changed to tight\n",
      "  plt.tight_layout()\n",
      "C:\\Users\\painter\\AppData\\Local\\Temp\\ipykernel_47148\\3181422731.py:159: MatplotlibDeprecationWarning: Auto-removal of overlapping axes is deprecated since 3.6 and will be removed two minor releases later; explicitly call ax.remove() as needed.\n",
      "  plt.subplot(211)\n",
      "C:\\Users\\painter\\AppData\\Local\\Temp\\ipykernel_47148\\3181422731.py:166: MatplotlibDeprecationWarning: Auto-removal of overlapping axes is deprecated since 3.6 and will be removed two minor releases later; explicitly call ax.remove() as needed.\n",
      "  plt.subplot(212)\n"
     ]
    },
    {
     "name": "stdout",
     "output_type": "stream",
     "text": [
      "Progress: [##############################                    ] 61.7% (n=185/300) --> elapsed time: 104.95s\r"
     ]
    },
    {
     "name": "stderr",
     "output_type": "stream",
     "text": [
      "C:\\Users\\painter\\AppData\\Local\\Temp\\ipykernel_47148\\3181422731.py:174: UserWarning: The figure layout has changed to tight\n",
      "  plt.tight_layout()\n",
      "C:\\Users\\painter\\AppData\\Local\\Temp\\ipykernel_47148\\3181422731.py:159: MatplotlibDeprecationWarning: Auto-removal of overlapping axes is deprecated since 3.6 and will be removed two minor releases later; explicitly call ax.remove() as needed.\n",
      "  plt.subplot(211)\n",
      "C:\\Users\\painter\\AppData\\Local\\Temp\\ipykernel_47148\\3181422731.py:166: MatplotlibDeprecationWarning: Auto-removal of overlapping axes is deprecated since 3.6 and will be removed two minor releases later; explicitly call ax.remove() as needed.\n",
      "  plt.subplot(212)\n"
     ]
    },
    {
     "name": "stdout",
     "output_type": "stream",
     "text": [
      "Progress: [###############################                   ] 62.0% (n=186/300) --> elapsed time: 105.43s\r"
     ]
    },
    {
     "name": "stderr",
     "output_type": "stream",
     "text": [
      "C:\\Users\\painter\\AppData\\Local\\Temp\\ipykernel_47148\\3181422731.py:174: UserWarning: The figure layout has changed to tight\n",
      "  plt.tight_layout()\n",
      "C:\\Users\\painter\\AppData\\Local\\Temp\\ipykernel_47148\\3181422731.py:159: MatplotlibDeprecationWarning: Auto-removal of overlapping axes is deprecated since 3.6 and will be removed two minor releases later; explicitly call ax.remove() as needed.\n",
      "  plt.subplot(211)\n",
      "C:\\Users\\painter\\AppData\\Local\\Temp\\ipykernel_47148\\3181422731.py:166: MatplotlibDeprecationWarning: Auto-removal of overlapping axes is deprecated since 3.6 and will be removed two minor releases later; explicitly call ax.remove() as needed.\n",
      "  plt.subplot(212)\n"
     ]
    },
    {
     "name": "stdout",
     "output_type": "stream",
     "text": [
      "Progress: [###############################                   ] 62.0% (n=186/300) --> elapsed time: 105.87s\r"
     ]
    },
    {
     "name": "stderr",
     "output_type": "stream",
     "text": [
      "C:\\Users\\painter\\AppData\\Local\\Temp\\ipykernel_47148\\3181422731.py:174: UserWarning: The figure layout has changed to tight\n",
      "  plt.tight_layout()\n",
      "C:\\Users\\painter\\AppData\\Local\\Temp\\ipykernel_47148\\3181422731.py:159: MatplotlibDeprecationWarning: Auto-removal of overlapping axes is deprecated since 3.6 and will be removed two minor releases later; explicitly call ax.remove() as needed.\n",
      "  plt.subplot(211)\n",
      "C:\\Users\\painter\\AppData\\Local\\Temp\\ipykernel_47148\\3181422731.py:166: MatplotlibDeprecationWarning: Auto-removal of overlapping axes is deprecated since 3.6 and will be removed two minor releases later; explicitly call ax.remove() as needed.\n",
      "  plt.subplot(212)\n"
     ]
    },
    {
     "name": "stdout",
     "output_type": "stream",
     "text": [
      "Progress: [###############################                   ] 62.3% (n=187/300) --> elapsed time: 106.27s\r"
     ]
    },
    {
     "name": "stderr",
     "output_type": "stream",
     "text": [
      "C:\\Users\\painter\\AppData\\Local\\Temp\\ipykernel_47148\\3181422731.py:174: UserWarning: The figure layout has changed to tight\n",
      "  plt.tight_layout()\n",
      "C:\\Users\\painter\\AppData\\Local\\Temp\\ipykernel_47148\\3181422731.py:159: MatplotlibDeprecationWarning: Auto-removal of overlapping axes is deprecated since 3.6 and will be removed two minor releases later; explicitly call ax.remove() as needed.\n",
      "  plt.subplot(211)\n"
     ]
    },
    {
     "name": "stdout",
     "output_type": "stream",
     "text": [
      "Progress: [###############################                   ] 62.7% (n=188/300) --> elapsed time: 106.65s\r"
     ]
    },
    {
     "name": "stderr",
     "output_type": "stream",
     "text": [
      "C:\\Users\\painter\\AppData\\Local\\Temp\\ipykernel_47148\\3181422731.py:166: MatplotlibDeprecationWarning: Auto-removal of overlapping axes is deprecated since 3.6 and will be removed two minor releases later; explicitly call ax.remove() as needed.\n",
      "  plt.subplot(212)\n",
      "C:\\Users\\painter\\AppData\\Local\\Temp\\ipykernel_47148\\3181422731.py:174: UserWarning: The figure layout has changed to tight\n",
      "  plt.tight_layout()\n",
      "C:\\Users\\painter\\AppData\\Local\\Temp\\ipykernel_47148\\3181422731.py:159: MatplotlibDeprecationWarning: Auto-removal of overlapping axes is deprecated since 3.6 and will be removed two minor releases later; explicitly call ax.remove() as needed.\n",
      "  plt.subplot(211)\n",
      "C:\\Users\\painter\\AppData\\Local\\Temp\\ipykernel_47148\\3181422731.py:166: MatplotlibDeprecationWarning: Auto-removal of overlapping axes is deprecated since 3.6 and will be removed two minor releases later; explicitly call ax.remove() as needed.\n",
      "  plt.subplot(212)\n"
     ]
    },
    {
     "name": "stdout",
     "output_type": "stream",
     "text": [
      "Progress: [###############################                   ] 63.0% (n=189/300) --> elapsed time: 107.20s\r"
     ]
    },
    {
     "name": "stderr",
     "output_type": "stream",
     "text": [
      "C:\\Users\\painter\\AppData\\Local\\Temp\\ipykernel_47148\\3181422731.py:174: UserWarning: The figure layout has changed to tight\n",
      "  plt.tight_layout()\n",
      "C:\\Users\\painter\\AppData\\Local\\Temp\\ipykernel_47148\\3181422731.py:159: MatplotlibDeprecationWarning: Auto-removal of overlapping axes is deprecated since 3.6 and will be removed two minor releases later; explicitly call ax.remove() as needed.\n",
      "  plt.subplot(211)\n",
      "C:\\Users\\painter\\AppData\\Local\\Temp\\ipykernel_47148\\3181422731.py:166: MatplotlibDeprecationWarning: Auto-removal of overlapping axes is deprecated since 3.6 and will be removed two minor releases later; explicitly call ax.remove() as needed.\n",
      "  plt.subplot(212)\n"
     ]
    },
    {
     "name": "stdout",
     "output_type": "stream",
     "text": [
      "Progress: [###############################                   ] 63.0% (n=189/300) --> elapsed time: 107.60s\r"
     ]
    },
    {
     "name": "stderr",
     "output_type": "stream",
     "text": [
      "C:\\Users\\painter\\AppData\\Local\\Temp\\ipykernel_47148\\3181422731.py:174: UserWarning: The figure layout has changed to tight\n",
      "  plt.tight_layout()\n",
      "C:\\Users\\painter\\AppData\\Local\\Temp\\ipykernel_47148\\3181422731.py:159: MatplotlibDeprecationWarning: Auto-removal of overlapping axes is deprecated since 3.6 and will be removed two minor releases later; explicitly call ax.remove() as needed.\n",
      "  plt.subplot(211)\n"
     ]
    },
    {
     "name": "stdout",
     "output_type": "stream",
     "text": [
      "Progress: [###############################                   ] 63.3% (n=190/300) --> elapsed time: 108.02s\r"
     ]
    },
    {
     "name": "stderr",
     "output_type": "stream",
     "text": [
      "C:\\Users\\painter\\AppData\\Local\\Temp\\ipykernel_47148\\3181422731.py:166: MatplotlibDeprecationWarning: Auto-removal of overlapping axes is deprecated since 3.6 and will be removed two minor releases later; explicitly call ax.remove() as needed.\n",
      "  plt.subplot(212)\n",
      "C:\\Users\\painter\\AppData\\Local\\Temp\\ipykernel_47148\\3181422731.py:174: UserWarning: The figure layout has changed to tight\n",
      "  plt.tight_layout()\n"
     ]
    },
    {
     "name": "stdout",
     "output_type": "stream",
     "text": [
      "Progress: [###############################                   ] 63.7% (n=191/300) --> elapsed time: 108.53s\r"
     ]
    },
    {
     "name": "stderr",
     "output_type": "stream",
     "text": [
      "C:\\Users\\painter\\AppData\\Local\\Temp\\ipykernel_47148\\3181422731.py:159: MatplotlibDeprecationWarning: Auto-removal of overlapping axes is deprecated since 3.6 and will be removed two minor releases later; explicitly call ax.remove() as needed.\n",
      "  plt.subplot(211)\n",
      "C:\\Users\\painter\\AppData\\Local\\Temp\\ipykernel_47148\\3181422731.py:166: MatplotlibDeprecationWarning: Auto-removal of overlapping axes is deprecated since 3.6 and will be removed two minor releases later; explicitly call ax.remove() as needed.\n",
      "  plt.subplot(212)\n",
      "C:\\Users\\painter\\AppData\\Local\\Temp\\ipykernel_47148\\3181422731.py:174: UserWarning: The figure layout has changed to tight\n",
      "  plt.tight_layout()\n",
      "C:\\Users\\painter\\AppData\\Local\\Temp\\ipykernel_47148\\3181422731.py:159: MatplotlibDeprecationWarning: Auto-removal of overlapping axes is deprecated since 3.6 and will be removed two minor releases later; explicitly call ax.remove() as needed.\n",
      "  plt.subplot(211)\n",
      "C:\\Users\\painter\\AppData\\Local\\Temp\\ipykernel_47148\\3181422731.py:166: MatplotlibDeprecationWarning: Auto-removal of overlapping axes is deprecated since 3.6 and will be removed two minor releases later; explicitly call ax.remove() as needed.\n",
      "  plt.subplot(212)\n"
     ]
    },
    {
     "name": "stdout",
     "output_type": "stream",
     "text": [
      "Progress: [################################                  ] 64.0% (n=192/300) --> elapsed time: 108.92s\r"
     ]
    },
    {
     "name": "stderr",
     "output_type": "stream",
     "text": [
      "C:\\Users\\painter\\AppData\\Local\\Temp\\ipykernel_47148\\3181422731.py:174: UserWarning: The figure layout has changed to tight\n",
      "  plt.tight_layout()\n",
      "C:\\Users\\painter\\AppData\\Local\\Temp\\ipykernel_47148\\3181422731.py:159: MatplotlibDeprecationWarning: Auto-removal of overlapping axes is deprecated since 3.6 and will be removed two minor releases later; explicitly call ax.remove() as needed.\n",
      "  plt.subplot(211)\n",
      "C:\\Users\\painter\\AppData\\Local\\Temp\\ipykernel_47148\\3181422731.py:166: MatplotlibDeprecationWarning: Auto-removal of overlapping axes is deprecated since 3.6 and will be removed two minor releases later; explicitly call ax.remove() as needed.\n",
      "  plt.subplot(212)\n"
     ]
    },
    {
     "name": "stdout",
     "output_type": "stream",
     "text": [
      "Progress: [################################                  ] 64.0% (n=192/300) --> elapsed time: 109.32s\r"
     ]
    },
    {
     "name": "stderr",
     "output_type": "stream",
     "text": [
      "C:\\Users\\painter\\AppData\\Local\\Temp\\ipykernel_47148\\3181422731.py:174: UserWarning: The figure layout has changed to tight\n",
      "  plt.tight_layout()\n",
      "C:\\Users\\painter\\AppData\\Local\\Temp\\ipykernel_47148\\3181422731.py:159: MatplotlibDeprecationWarning: Auto-removal of overlapping axes is deprecated since 3.6 and will be removed two minor releases later; explicitly call ax.remove() as needed.\n",
      "  plt.subplot(211)\n",
      "C:\\Users\\painter\\AppData\\Local\\Temp\\ipykernel_47148\\3181422731.py:166: MatplotlibDeprecationWarning: Auto-removal of overlapping axes is deprecated since 3.6 and will be removed two minor releases later; explicitly call ax.remove() as needed.\n",
      "  plt.subplot(212)\n"
     ]
    },
    {
     "name": "stdout",
     "output_type": "stream",
     "text": [
      "Progress: [################################                  ] 64.3% (n=193/300) --> elapsed time: 109.86s\r"
     ]
    },
    {
     "name": "stderr",
     "output_type": "stream",
     "text": [
      "C:\\Users\\painter\\AppData\\Local\\Temp\\ipykernel_47148\\3181422731.py:174: UserWarning: The figure layout has changed to tight\n",
      "  plt.tight_layout()\n",
      "C:\\Users\\painter\\AppData\\Local\\Temp\\ipykernel_47148\\3181422731.py:159: MatplotlibDeprecationWarning: Auto-removal of overlapping axes is deprecated since 3.6 and will be removed two minor releases later; explicitly call ax.remove() as needed.\n",
      "  plt.subplot(211)\n",
      "C:\\Users\\painter\\AppData\\Local\\Temp\\ipykernel_47148\\3181422731.py:166: MatplotlibDeprecationWarning: Auto-removal of overlapping axes is deprecated since 3.6 and will be removed two minor releases later; explicitly call ax.remove() as needed.\n",
      "  plt.subplot(212)\n"
     ]
    },
    {
     "name": "stdout",
     "output_type": "stream",
     "text": [
      "Progress: [################################                  ] 64.7% (n=194/300) --> elapsed time: 110.26s\r"
     ]
    },
    {
     "name": "stderr",
     "output_type": "stream",
     "text": [
      "C:\\Users\\painter\\AppData\\Local\\Temp\\ipykernel_47148\\3181422731.py:174: UserWarning: The figure layout has changed to tight\n",
      "  plt.tight_layout()\n",
      "C:\\Users\\painter\\AppData\\Local\\Temp\\ipykernel_47148\\3181422731.py:159: MatplotlibDeprecationWarning: Auto-removal of overlapping axes is deprecated since 3.6 and will be removed two minor releases later; explicitly call ax.remove() as needed.\n",
      "  plt.subplot(211)\n",
      "C:\\Users\\painter\\AppData\\Local\\Temp\\ipykernel_47148\\3181422731.py:166: MatplotlibDeprecationWarning: Auto-removal of overlapping axes is deprecated since 3.6 and will be removed two minor releases later; explicitly call ax.remove() as needed.\n",
      "  plt.subplot(212)\n"
     ]
    },
    {
     "name": "stdout",
     "output_type": "stream",
     "text": [
      "Progress: [################################                  ] 65.0% (n=195/300) --> elapsed time: 110.65s\r"
     ]
    },
    {
     "name": "stderr",
     "output_type": "stream",
     "text": [
      "C:\\Users\\painter\\AppData\\Local\\Temp\\ipykernel_47148\\3181422731.py:174: UserWarning: The figure layout has changed to tight\n",
      "  plt.tight_layout()\n",
      "C:\\Users\\painter\\AppData\\Local\\Temp\\ipykernel_47148\\3181422731.py:159: MatplotlibDeprecationWarning: Auto-removal of overlapping axes is deprecated since 3.6 and will be removed two minor releases later; explicitly call ax.remove() as needed.\n",
      "  plt.subplot(211)\n",
      "C:\\Users\\painter\\AppData\\Local\\Temp\\ipykernel_47148\\3181422731.py:166: MatplotlibDeprecationWarning: Auto-removal of overlapping axes is deprecated since 3.6 and will be removed two minor releases later; explicitly call ax.remove() as needed.\n",
      "  plt.subplot(212)\n"
     ]
    },
    {
     "name": "stdout",
     "output_type": "stream",
     "text": [
      "Progress: [################################                  ] 65.3% (n=196/300) --> elapsed time: 111.18s\r"
     ]
    },
    {
     "name": "stderr",
     "output_type": "stream",
     "text": [
      "C:\\Users\\painter\\AppData\\Local\\Temp\\ipykernel_47148\\3181422731.py:174: UserWarning: The figure layout has changed to tight\n",
      "  plt.tight_layout()\n",
      "C:\\Users\\painter\\AppData\\Local\\Temp\\ipykernel_47148\\3181422731.py:159: MatplotlibDeprecationWarning: Auto-removal of overlapping axes is deprecated since 3.6 and will be removed two minor releases later; explicitly call ax.remove() as needed.\n",
      "  plt.subplot(211)\n",
      "C:\\Users\\painter\\AppData\\Local\\Temp\\ipykernel_47148\\3181422731.py:166: MatplotlibDeprecationWarning: Auto-removal of overlapping axes is deprecated since 3.6 and will be removed two minor releases later; explicitly call ax.remove() as needed.\n",
      "  plt.subplot(212)\n"
     ]
    },
    {
     "name": "stdout",
     "output_type": "stream",
     "text": [
      "Progress: [################################                  ] 65.3% (n=196/300) --> elapsed time: 111.57s\r"
     ]
    },
    {
     "name": "stderr",
     "output_type": "stream",
     "text": [
      "C:\\Users\\painter\\AppData\\Local\\Temp\\ipykernel_47148\\3181422731.py:174: UserWarning: The figure layout has changed to tight\n",
      "  plt.tight_layout()\n",
      "C:\\Users\\painter\\AppData\\Local\\Temp\\ipykernel_47148\\3181422731.py:159: MatplotlibDeprecationWarning: Auto-removal of overlapping axes is deprecated since 3.6 and will be removed two minor releases later; explicitly call ax.remove() as needed.\n",
      "  plt.subplot(211)\n",
      "C:\\Users\\painter\\AppData\\Local\\Temp\\ipykernel_47148\\3181422731.py:166: MatplotlibDeprecationWarning: Auto-removal of overlapping axes is deprecated since 3.6 and will be removed two minor releases later; explicitly call ax.remove() as needed.\n",
      "  plt.subplot(212)\n"
     ]
    },
    {
     "name": "stdout",
     "output_type": "stream",
     "text": [
      "Progress: [################################                  ] 65.7% (n=197/300) --> elapsed time: 111.96s\r"
     ]
    },
    {
     "name": "stderr",
     "output_type": "stream",
     "text": [
      "C:\\Users\\painter\\AppData\\Local\\Temp\\ipykernel_47148\\3181422731.py:174: UserWarning: The figure layout has changed to tight\n",
      "  plt.tight_layout()\n"
     ]
    },
    {
     "name": "stdout",
     "output_type": "stream",
     "text": [
      "Progress: [#################################                 ] 66.0% (n=198/300) --> elapsed time: 112.36s\r"
     ]
    },
    {
     "name": "stderr",
     "output_type": "stream",
     "text": [
      "C:\\Users\\painter\\AppData\\Local\\Temp\\ipykernel_47148\\3181422731.py:159: MatplotlibDeprecationWarning: Auto-removal of overlapping axes is deprecated since 3.6 and will be removed two minor releases later; explicitly call ax.remove() as needed.\n",
      "  plt.subplot(211)\n",
      "C:\\Users\\painter\\AppData\\Local\\Temp\\ipykernel_47148\\3181422731.py:166: MatplotlibDeprecationWarning: Auto-removal of overlapping axes is deprecated since 3.6 and will be removed two minor releases later; explicitly call ax.remove() as needed.\n",
      "  plt.subplot(212)\n",
      "C:\\Users\\painter\\AppData\\Local\\Temp\\ipykernel_47148\\3181422731.py:174: UserWarning: The figure layout has changed to tight\n",
      "  plt.tight_layout()\n",
      "C:\\Users\\painter\\AppData\\Local\\Temp\\ipykernel_47148\\3181422731.py:159: MatplotlibDeprecationWarning: Auto-removal of overlapping axes is deprecated since 3.6 and will be removed two minor releases later; explicitly call ax.remove() as needed.\n",
      "  plt.subplot(211)\n",
      "C:\\Users\\painter\\AppData\\Local\\Temp\\ipykernel_47148\\3181422731.py:166: MatplotlibDeprecationWarning: Auto-removal of overlapping axes is deprecated since 3.6 and will be removed two minor releases later; explicitly call ax.remove() as needed.\n",
      "  plt.subplot(212)\n"
     ]
    },
    {
     "name": "stdout",
     "output_type": "stream",
     "text": [
      "Progress: [#################################                 ] 66.3% (n=199/300) --> elapsed time: 112.88s\r"
     ]
    },
    {
     "name": "stderr",
     "output_type": "stream",
     "text": [
      "C:\\Users\\painter\\AppData\\Local\\Temp\\ipykernel_47148\\3181422731.py:174: UserWarning: The figure layout has changed to tight\n",
      "  plt.tight_layout()\n",
      "C:\\Users\\painter\\AppData\\Local\\Temp\\ipykernel_47148\\3181422731.py:159: MatplotlibDeprecationWarning: Auto-removal of overlapping axes is deprecated since 3.6 and will be removed two minor releases later; explicitly call ax.remove() as needed.\n",
      "  plt.subplot(211)\n",
      "C:\\Users\\painter\\AppData\\Local\\Temp\\ipykernel_47148\\3181422731.py:166: MatplotlibDeprecationWarning: Auto-removal of overlapping axes is deprecated since 3.6 and will be removed two minor releases later; explicitly call ax.remove() as needed.\n",
      "  plt.subplot(212)\n"
     ]
    },
    {
     "name": "stdout",
     "output_type": "stream",
     "text": [
      "Progress: [#################################                 ] 66.3% (n=199/300) --> elapsed time: 113.27s\r"
     ]
    },
    {
     "name": "stderr",
     "output_type": "stream",
     "text": [
      "C:\\Users\\painter\\AppData\\Local\\Temp\\ipykernel_47148\\3181422731.py:174: UserWarning: The figure layout has changed to tight\n",
      "  plt.tight_layout()\n",
      "C:\\Users\\painter\\AppData\\Local\\Temp\\ipykernel_47148\\3181422731.py:159: MatplotlibDeprecationWarning: Auto-removal of overlapping axes is deprecated since 3.6 and will be removed two minor releases later; explicitly call ax.remove() as needed.\n",
      "  plt.subplot(211)\n"
     ]
    },
    {
     "name": "stdout",
     "output_type": "stream",
     "text": [
      "Progress: [#################################                 ] 66.7% (n=200/300) --> elapsed time: 113.66s\r"
     ]
    },
    {
     "name": "stderr",
     "output_type": "stream",
     "text": [
      "C:\\Users\\painter\\AppData\\Local\\Temp\\ipykernel_47148\\3181422731.py:166: MatplotlibDeprecationWarning: Auto-removal of overlapping axes is deprecated since 3.6 and will be removed two minor releases later; explicitly call ax.remove() as needed.\n",
      "  plt.subplot(212)\n",
      "C:\\Users\\painter\\AppData\\Local\\Temp\\ipykernel_47148\\3181422731.py:174: UserWarning: The figure layout has changed to tight\n",
      "  plt.tight_layout()\n",
      "C:\\Users\\painter\\AppData\\Local\\Temp\\ipykernel_47148\\3181422731.py:159: MatplotlibDeprecationWarning: Auto-removal of overlapping axes is deprecated since 3.6 and will be removed two minor releases later; explicitly call ax.remove() as needed.\n",
      "  plt.subplot(211)\n",
      "C:\\Users\\painter\\AppData\\Local\\Temp\\ipykernel_47148\\3181422731.py:166: MatplotlibDeprecationWarning: Auto-removal of overlapping axes is deprecated since 3.6 and will be removed two minor releases later; explicitly call ax.remove() as needed.\n",
      "  plt.subplot(212)\n"
     ]
    },
    {
     "name": "stdout",
     "output_type": "stream",
     "text": [
      "Progress: [#################################                 ] 67.0% (n=201/300) --> elapsed time: 114.20s\r"
     ]
    },
    {
     "name": "stderr",
     "output_type": "stream",
     "text": [
      "C:\\Users\\painter\\AppData\\Local\\Temp\\ipykernel_47148\\3181422731.py:174: UserWarning: The figure layout has changed to tight\n",
      "  plt.tight_layout()\n",
      "C:\\Users\\painter\\AppData\\Local\\Temp\\ipykernel_47148\\3181422731.py:159: MatplotlibDeprecationWarning: Auto-removal of overlapping axes is deprecated since 3.6 and will be removed two minor releases later; explicitly call ax.remove() as needed.\n",
      "  plt.subplot(211)\n",
      "C:\\Users\\painter\\AppData\\Local\\Temp\\ipykernel_47148\\3181422731.py:166: MatplotlibDeprecationWarning: Auto-removal of overlapping axes is deprecated since 3.6 and will be removed two minor releases later; explicitly call ax.remove() as needed.\n",
      "  plt.subplot(212)\n"
     ]
    },
    {
     "name": "stdout",
     "output_type": "stream",
     "text": [
      "Progress: [#################################                 ] 67.3% (n=202/300) --> elapsed time: 114.58s\r"
     ]
    },
    {
     "name": "stderr",
     "output_type": "stream",
     "text": [
      "C:\\Users\\painter\\AppData\\Local\\Temp\\ipykernel_47148\\3181422731.py:174: UserWarning: The figure layout has changed to tight\n",
      "  plt.tight_layout()\n",
      "C:\\Users\\painter\\AppData\\Local\\Temp\\ipykernel_47148\\3181422731.py:159: MatplotlibDeprecationWarning: Auto-removal of overlapping axes is deprecated since 3.6 and will be removed two minor releases later; explicitly call ax.remove() as needed.\n",
      "  plt.subplot(211)\n",
      "C:\\Users\\painter\\AppData\\Local\\Temp\\ipykernel_47148\\3181422731.py:166: MatplotlibDeprecationWarning: Auto-removal of overlapping axes is deprecated since 3.6 and will be removed two minor releases later; explicitly call ax.remove() as needed.\n",
      "  plt.subplot(212)\n"
     ]
    },
    {
     "name": "stdout",
     "output_type": "stream",
     "text": [
      "Progress: [#################################                 ] 67.3% (n=202/300) --> elapsed time: 114.98s\r"
     ]
    },
    {
     "name": "stderr",
     "output_type": "stream",
     "text": [
      "C:\\Users\\painter\\AppData\\Local\\Temp\\ipykernel_47148\\3181422731.py:174: UserWarning: The figure layout has changed to tight\n",
      "  plt.tight_layout()\n",
      "C:\\Users\\painter\\AppData\\Local\\Temp\\ipykernel_47148\\3181422731.py:159: MatplotlibDeprecationWarning: Auto-removal of overlapping axes is deprecated since 3.6 and will be removed two minor releases later; explicitly call ax.remove() as needed.\n",
      "  plt.subplot(211)\n",
      "C:\\Users\\painter\\AppData\\Local\\Temp\\ipykernel_47148\\3181422731.py:166: MatplotlibDeprecationWarning: Auto-removal of overlapping axes is deprecated since 3.6 and will be removed two minor releases later; explicitly call ax.remove() as needed.\n",
      "  plt.subplot(212)\n"
     ]
    },
    {
     "name": "stdout",
     "output_type": "stream",
     "text": [
      "Progress: [#################################                 ] 67.7% (n=203/300) --> elapsed time: 115.49s\r"
     ]
    },
    {
     "name": "stderr",
     "output_type": "stream",
     "text": [
      "C:\\Users\\painter\\AppData\\Local\\Temp\\ipykernel_47148\\3181422731.py:174: UserWarning: The figure layout has changed to tight\n",
      "  plt.tight_layout()\n",
      "C:\\Users\\painter\\AppData\\Local\\Temp\\ipykernel_47148\\3181422731.py:159: MatplotlibDeprecationWarning: Auto-removal of overlapping axes is deprecated since 3.6 and will be removed two minor releases later; explicitly call ax.remove() as needed.\n",
      "  plt.subplot(211)\n",
      "C:\\Users\\painter\\AppData\\Local\\Temp\\ipykernel_47148\\3181422731.py:166: MatplotlibDeprecationWarning: Auto-removal of overlapping axes is deprecated since 3.6 and will be removed two minor releases later; explicitly call ax.remove() as needed.\n",
      "  plt.subplot(212)\n"
     ]
    },
    {
     "name": "stdout",
     "output_type": "stream",
     "text": [
      "Progress: [##################################                ] 68.0% (n=204/300) --> elapsed time: 115.88s\r"
     ]
    },
    {
     "name": "stderr",
     "output_type": "stream",
     "text": [
      "C:\\Users\\painter\\AppData\\Local\\Temp\\ipykernel_47148\\3181422731.py:174: UserWarning: The figure layout has changed to tight\n",
      "  plt.tight_layout()\n",
      "C:\\Users\\painter\\AppData\\Local\\Temp\\ipykernel_47148\\3181422731.py:159: MatplotlibDeprecationWarning: Auto-removal of overlapping axes is deprecated since 3.6 and will be removed two minor releases later; explicitly call ax.remove() as needed.\n",
      "  plt.subplot(211)\n",
      "C:\\Users\\painter\\AppData\\Local\\Temp\\ipykernel_47148\\3181422731.py:166: MatplotlibDeprecationWarning: Auto-removal of overlapping axes is deprecated since 3.6 and will be removed two minor releases later; explicitly call ax.remove() as needed.\n",
      "  plt.subplot(212)\n"
     ]
    },
    {
     "name": "stdout",
     "output_type": "stream",
     "text": [
      "Progress: [##################################                ] 68.3% (n=205/300) --> elapsed time: 116.28s\r"
     ]
    },
    {
     "name": "stderr",
     "output_type": "stream",
     "text": [
      "C:\\Users\\painter\\AppData\\Local\\Temp\\ipykernel_47148\\3181422731.py:174: UserWarning: The figure layout has changed to tight\n",
      "  plt.tight_layout()\n",
      "C:\\Users\\painter\\AppData\\Local\\Temp\\ipykernel_47148\\3181422731.py:159: MatplotlibDeprecationWarning: Auto-removal of overlapping axes is deprecated since 3.6 and will be removed two minor releases later; explicitly call ax.remove() as needed.\n",
      "  plt.subplot(211)\n",
      "C:\\Users\\painter\\AppData\\Local\\Temp\\ipykernel_47148\\3181422731.py:166: MatplotlibDeprecationWarning: Auto-removal of overlapping axes is deprecated since 3.6 and will be removed two minor releases later; explicitly call ax.remove() as needed.\n",
      "  plt.subplot(212)\n"
     ]
    },
    {
     "name": "stdout",
     "output_type": "stream",
     "text": [
      "Progress: [##################################                ] 68.7% (n=206/300) --> elapsed time: 116.80s\r"
     ]
    },
    {
     "name": "stderr",
     "output_type": "stream",
     "text": [
      "C:\\Users\\painter\\AppData\\Local\\Temp\\ipykernel_47148\\3181422731.py:174: UserWarning: The figure layout has changed to tight\n",
      "  plt.tight_layout()\n",
      "C:\\Users\\painter\\AppData\\Local\\Temp\\ipykernel_47148\\3181422731.py:159: MatplotlibDeprecationWarning: Auto-removal of overlapping axes is deprecated since 3.6 and will be removed two minor releases later; explicitly call ax.remove() as needed.\n",
      "  plt.subplot(211)\n",
      "C:\\Users\\painter\\AppData\\Local\\Temp\\ipykernel_47148\\3181422731.py:166: MatplotlibDeprecationWarning: Auto-removal of overlapping axes is deprecated since 3.6 and will be removed two minor releases later; explicitly call ax.remove() as needed.\n",
      "  plt.subplot(212)\n"
     ]
    },
    {
     "name": "stdout",
     "output_type": "stream",
     "text": [
      "Progress: [##################################                ] 68.7% (n=206/300) --> elapsed time: 117.19s\r"
     ]
    },
    {
     "name": "stderr",
     "output_type": "stream",
     "text": [
      "C:\\Users\\painter\\AppData\\Local\\Temp\\ipykernel_47148\\3181422731.py:174: UserWarning: The figure layout has changed to tight\n",
      "  plt.tight_layout()\n",
      "C:\\Users\\painter\\AppData\\Local\\Temp\\ipykernel_47148\\3181422731.py:159: MatplotlibDeprecationWarning: Auto-removal of overlapping axes is deprecated since 3.6 and will be removed two minor releases later; explicitly call ax.remove() as needed.\n",
      "  plt.subplot(211)\n",
      "C:\\Users\\painter\\AppData\\Local\\Temp\\ipykernel_47148\\3181422731.py:166: MatplotlibDeprecationWarning: Auto-removal of overlapping axes is deprecated since 3.6 and will be removed two minor releases later; explicitly call ax.remove() as needed.\n",
      "  plt.subplot(212)\n"
     ]
    },
    {
     "name": "stdout",
     "output_type": "stream",
     "text": [
      "Progress: [##################################                ] 69.0% (n=207/300) --> elapsed time: 117.60s\r"
     ]
    },
    {
     "name": "stderr",
     "output_type": "stream",
     "text": [
      "C:\\Users\\painter\\AppData\\Local\\Temp\\ipykernel_47148\\3181422731.py:174: UserWarning: The figure layout has changed to tight\n",
      "  plt.tight_layout()\n",
      "C:\\Users\\painter\\AppData\\Local\\Temp\\ipykernel_47148\\3181422731.py:159: MatplotlibDeprecationWarning: Auto-removal of overlapping axes is deprecated since 3.6 and will be removed two minor releases later; explicitly call ax.remove() as needed.\n",
      "  plt.subplot(211)\n"
     ]
    },
    {
     "name": "stdout",
     "output_type": "stream",
     "text": [
      "Progress: [##################################                ] 69.3% (n=208/300) --> elapsed time: 117.99s\r"
     ]
    },
    {
     "name": "stderr",
     "output_type": "stream",
     "text": [
      "C:\\Users\\painter\\AppData\\Local\\Temp\\ipykernel_47148\\3181422731.py:166: MatplotlibDeprecationWarning: Auto-removal of overlapping axes is deprecated since 3.6 and will be removed two minor releases later; explicitly call ax.remove() as needed.\n",
      "  plt.subplot(212)\n",
      "C:\\Users\\painter\\AppData\\Local\\Temp\\ipykernel_47148\\3181422731.py:174: UserWarning: The figure layout has changed to tight\n",
      "  plt.tight_layout()\n"
     ]
    },
    {
     "name": "stdout",
     "output_type": "stream",
     "text": [
      "Progress: [##################################                ] 69.7% (n=209/300) --> elapsed time: 118.52s\r"
     ]
    },
    {
     "name": "stderr",
     "output_type": "stream",
     "text": [
      "C:\\Users\\painter\\AppData\\Local\\Temp\\ipykernel_47148\\3181422731.py:159: MatplotlibDeprecationWarning: Auto-removal of overlapping axes is deprecated since 3.6 and will be removed two minor releases later; explicitly call ax.remove() as needed.\n",
      "  plt.subplot(211)\n",
      "C:\\Users\\painter\\AppData\\Local\\Temp\\ipykernel_47148\\3181422731.py:166: MatplotlibDeprecationWarning: Auto-removal of overlapping axes is deprecated since 3.6 and will be removed two minor releases later; explicitly call ax.remove() as needed.\n",
      "  plt.subplot(212)\n",
      "C:\\Users\\painter\\AppData\\Local\\Temp\\ipykernel_47148\\3181422731.py:174: UserWarning: The figure layout has changed to tight\n",
      "  plt.tight_layout()\n",
      "C:\\Users\\painter\\AppData\\Local\\Temp\\ipykernel_47148\\3181422731.py:159: MatplotlibDeprecationWarning: Auto-removal of overlapping axes is deprecated since 3.6 and will be removed two minor releases later; explicitly call ax.remove() as needed.\n",
      "  plt.subplot(211)\n",
      "C:\\Users\\painter\\AppData\\Local\\Temp\\ipykernel_47148\\3181422731.py:166: MatplotlibDeprecationWarning: Auto-removal of overlapping axes is deprecated since 3.6 and will be removed two minor releases later; explicitly call ax.remove() as needed.\n",
      "  plt.subplot(212)\n"
     ]
    },
    {
     "name": "stdout",
     "output_type": "stream",
     "text": [
      "Progress: [##################################                ] 69.7% (n=209/300) --> elapsed time: 118.91s\r"
     ]
    },
    {
     "name": "stderr",
     "output_type": "stream",
     "text": [
      "C:\\Users\\painter\\AppData\\Local\\Temp\\ipykernel_47148\\3181422731.py:174: UserWarning: The figure layout has changed to tight\n",
      "  plt.tight_layout()\n",
      "C:\\Users\\painter\\AppData\\Local\\Temp\\ipykernel_47148\\3181422731.py:159: MatplotlibDeprecationWarning: Auto-removal of overlapping axes is deprecated since 3.6 and will be removed two minor releases later; explicitly call ax.remove() as needed.\n",
      "  plt.subplot(211)\n",
      "C:\\Users\\painter\\AppData\\Local\\Temp\\ipykernel_47148\\3181422731.py:166: MatplotlibDeprecationWarning: Auto-removal of overlapping axes is deprecated since 3.6 and will be removed two minor releases later; explicitly call ax.remove() as needed.\n",
      "  plt.subplot(212)\n"
     ]
    },
    {
     "name": "stdout",
     "output_type": "stream",
     "text": [
      "Progress: [###################################               ] 70.0% (n=210/300) --> elapsed time: 119.31s\r"
     ]
    },
    {
     "name": "stderr",
     "output_type": "stream",
     "text": [
      "C:\\Users\\painter\\AppData\\Local\\Temp\\ipykernel_47148\\3181422731.py:174: UserWarning: The figure layout has changed to tight\n",
      "  plt.tight_layout()\n",
      "C:\\Users\\painter\\AppData\\Local\\Temp\\ipykernel_47148\\3181422731.py:159: MatplotlibDeprecationWarning: Auto-removal of overlapping axes is deprecated since 3.6 and will be removed two minor releases later; explicitly call ax.remove() as needed.\n",
      "  plt.subplot(211)\n",
      "C:\\Users\\painter\\AppData\\Local\\Temp\\ipykernel_47148\\3181422731.py:166: MatplotlibDeprecationWarning: Auto-removal of overlapping axes is deprecated since 3.6 and will be removed two minor releases later; explicitly call ax.remove() as needed.\n",
      "  plt.subplot(212)\n"
     ]
    },
    {
     "name": "stdout",
     "output_type": "stream",
     "text": [
      "Progress: [###################################               ] 70.3% (n=211/300) --> elapsed time: 119.82s\r"
     ]
    },
    {
     "name": "stderr",
     "output_type": "stream",
     "text": [
      "C:\\Users\\painter\\AppData\\Local\\Temp\\ipykernel_47148\\3181422731.py:174: UserWarning: The figure layout has changed to tight\n",
      "  plt.tight_layout()\n",
      "C:\\Users\\painter\\AppData\\Local\\Temp\\ipykernel_47148\\3181422731.py:159: MatplotlibDeprecationWarning: Auto-removal of overlapping axes is deprecated since 3.6 and will be removed two minor releases later; explicitly call ax.remove() as needed.\n",
      "  plt.subplot(211)\n",
      "C:\\Users\\painter\\AppData\\Local\\Temp\\ipykernel_47148\\3181422731.py:166: MatplotlibDeprecationWarning: Auto-removal of overlapping axes is deprecated since 3.6 and will be removed two minor releases later; explicitly call ax.remove() as needed.\n",
      "  plt.subplot(212)\n"
     ]
    },
    {
     "name": "stdout",
     "output_type": "stream",
     "text": [
      "Progress: [###################################               ] 70.7% (n=212/300) --> elapsed time: 120.22s\r"
     ]
    },
    {
     "name": "stderr",
     "output_type": "stream",
     "text": [
      "C:\\Users\\painter\\AppData\\Local\\Temp\\ipykernel_47148\\3181422731.py:174: UserWarning: The figure layout has changed to tight\n",
      "  plt.tight_layout()\n",
      "C:\\Users\\painter\\AppData\\Local\\Temp\\ipykernel_47148\\3181422731.py:159: MatplotlibDeprecationWarning: Auto-removal of overlapping axes is deprecated since 3.6 and will be removed two minor releases later; explicitly call ax.remove() as needed.\n",
      "  plt.subplot(211)\n",
      "C:\\Users\\painter\\AppData\\Local\\Temp\\ipykernel_47148\\3181422731.py:166: MatplotlibDeprecationWarning: Auto-removal of overlapping axes is deprecated since 3.6 and will be removed two minor releases later; explicitly call ax.remove() as needed.\n",
      "  plt.subplot(212)\n"
     ]
    },
    {
     "name": "stdout",
     "output_type": "stream",
     "text": [
      "Progress: [###################################               ] 70.7% (n=212/300) --> elapsed time: 120.63s\r"
     ]
    },
    {
     "name": "stderr",
     "output_type": "stream",
     "text": [
      "C:\\Users\\painter\\AppData\\Local\\Temp\\ipykernel_47148\\3181422731.py:174: UserWarning: The figure layout has changed to tight\n",
      "  plt.tight_layout()\n",
      "C:\\Users\\painter\\AppData\\Local\\Temp\\ipykernel_47148\\3181422731.py:159: MatplotlibDeprecationWarning: Auto-removal of overlapping axes is deprecated since 3.6 and will be removed two minor releases later; explicitly call ax.remove() as needed.\n",
      "  plt.subplot(211)\n",
      "C:\\Users\\painter\\AppData\\Local\\Temp\\ipykernel_47148\\3181422731.py:166: MatplotlibDeprecationWarning: Auto-removal of overlapping axes is deprecated since 3.6 and will be removed two minor releases later; explicitly call ax.remove() as needed.\n",
      "  plt.subplot(212)\n"
     ]
    },
    {
     "name": "stdout",
     "output_type": "stream",
     "text": [
      "Progress: [###################################               ] 71.0% (n=213/300) --> elapsed time: 121.14s\r"
     ]
    },
    {
     "name": "stderr",
     "output_type": "stream",
     "text": [
      "C:\\Users\\painter\\AppData\\Local\\Temp\\ipykernel_47148\\3181422731.py:174: UserWarning: The figure layout has changed to tight\n",
      "  plt.tight_layout()\n",
      "C:\\Users\\painter\\AppData\\Local\\Temp\\ipykernel_47148\\3181422731.py:159: MatplotlibDeprecationWarning: Auto-removal of overlapping axes is deprecated since 3.6 and will be removed two minor releases later; explicitly call ax.remove() as needed.\n",
      "  plt.subplot(211)\n",
      "C:\\Users\\painter\\AppData\\Local\\Temp\\ipykernel_47148\\3181422731.py:166: MatplotlibDeprecationWarning: Auto-removal of overlapping axes is deprecated since 3.6 and will be removed two minor releases later; explicitly call ax.remove() as needed.\n",
      "  plt.subplot(212)\n"
     ]
    },
    {
     "name": "stdout",
     "output_type": "stream",
     "text": [
      "Progress: [###################################               ] 71.3% (n=214/300) --> elapsed time: 121.54s\r"
     ]
    },
    {
     "name": "stderr",
     "output_type": "stream",
     "text": [
      "C:\\Users\\painter\\AppData\\Local\\Temp\\ipykernel_47148\\3181422731.py:174: UserWarning: The figure layout has changed to tight\n",
      "  plt.tight_layout()\n",
      "C:\\Users\\painter\\AppData\\Local\\Temp\\ipykernel_47148\\3181422731.py:159: MatplotlibDeprecationWarning: Auto-removal of overlapping axes is deprecated since 3.6 and will be removed two minor releases later; explicitly call ax.remove() as needed.\n",
      "  plt.subplot(211)\n",
      "C:\\Users\\painter\\AppData\\Local\\Temp\\ipykernel_47148\\3181422731.py:166: MatplotlibDeprecationWarning: Auto-removal of overlapping axes is deprecated since 3.6 and will be removed two minor releases later; explicitly call ax.remove() as needed.\n",
      "  plt.subplot(212)\n"
     ]
    },
    {
     "name": "stdout",
     "output_type": "stream",
     "text": [
      "Progress: [###################################               ] 71.7% (n=215/300) --> elapsed time: 121.93s\r"
     ]
    },
    {
     "name": "stderr",
     "output_type": "stream",
     "text": [
      "C:\\Users\\painter\\AppData\\Local\\Temp\\ipykernel_47148\\3181422731.py:174: UserWarning: The figure layout has changed to tight\n",
      "  plt.tight_layout()\n",
      "C:\\Users\\painter\\AppData\\Local\\Temp\\ipykernel_47148\\3181422731.py:159: MatplotlibDeprecationWarning: Auto-removal of overlapping axes is deprecated since 3.6 and will be removed two minor releases later; explicitly call ax.remove() as needed.\n",
      "  plt.subplot(211)\n"
     ]
    },
    {
     "name": "stdout",
     "output_type": "stream",
     "text": [
      "Progress: [###################################               ] 71.7% (n=215/300) --> elapsed time: 122.33s\r"
     ]
    },
    {
     "name": "stderr",
     "output_type": "stream",
     "text": [
      "C:\\Users\\painter\\AppData\\Local\\Temp\\ipykernel_47148\\3181422731.py:166: MatplotlibDeprecationWarning: Auto-removal of overlapping axes is deprecated since 3.6 and will be removed two minor releases later; explicitly call ax.remove() as needed.\n",
      "  plt.subplot(212)\n",
      "C:\\Users\\painter\\AppData\\Local\\Temp\\ipykernel_47148\\3181422731.py:174: UserWarning: The figure layout has changed to tight\n",
      "  plt.tight_layout()\n"
     ]
    },
    {
     "name": "stdout",
     "output_type": "stream",
     "text": [
      "Progress: [####################################              ] 72.0% (n=216/300) --> elapsed time: 122.86s\r"
     ]
    },
    {
     "name": "stderr",
     "output_type": "stream",
     "text": [
      "C:\\Users\\painter\\AppData\\Local\\Temp\\ipykernel_47148\\3181422731.py:159: MatplotlibDeprecationWarning: Auto-removal of overlapping axes is deprecated since 3.6 and will be removed two minor releases later; explicitly call ax.remove() as needed.\n",
      "  plt.subplot(211)\n",
      "C:\\Users\\painter\\AppData\\Local\\Temp\\ipykernel_47148\\3181422731.py:166: MatplotlibDeprecationWarning: Auto-removal of overlapping axes is deprecated since 3.6 and will be removed two minor releases later; explicitly call ax.remove() as needed.\n",
      "  plt.subplot(212)\n",
      "C:\\Users\\painter\\AppData\\Local\\Temp\\ipykernel_47148\\3181422731.py:174: UserWarning: The figure layout has changed to tight\n",
      "  plt.tight_layout()\n",
      "C:\\Users\\painter\\AppData\\Local\\Temp\\ipykernel_47148\\3181422731.py:159: MatplotlibDeprecationWarning: Auto-removal of overlapping axes is deprecated since 3.6 and will be removed two minor releases later; explicitly call ax.remove() as needed.\n",
      "  plt.subplot(211)\n",
      "C:\\Users\\painter\\AppData\\Local\\Temp\\ipykernel_47148\\3181422731.py:166: MatplotlibDeprecationWarning: Auto-removal of overlapping axes is deprecated since 3.6 and will be removed two minor releases later; explicitly call ax.remove() as needed.\n",
      "  plt.subplot(212)\n"
     ]
    },
    {
     "name": "stdout",
     "output_type": "stream",
     "text": [
      "Execution stopped by user!#####################              ] 72.3% (n=217/300) --> elapsed time: 123.25s\n",
      "Progress: [####################################              ] 72.7% (n=218/300) --> elapsed time: 123.76s\r"
     ]
    },
    {
     "name": "stderr",
     "output_type": "stream",
     "text": [
      "C:\\Users\\painter\\AppData\\Local\\Temp\\ipykernel_47148\\3181422731.py:174: UserWarning: The figure layout has changed to tight\n",
      "  plt.tight_layout()\n",
      "C:\\Users\\painter\\AppData\\Local\\Temp\\ipykernel_47148\\3181422731.py:159: MatplotlibDeprecationWarning: Auto-removal of overlapping axes is deprecated since 3.6 and will be removed two minor releases later; explicitly call ax.remove() as needed.\n",
      "  plt.subplot(211)\n",
      "C:\\Users\\painter\\AppData\\Local\\Temp\\ipykernel_47148\\3181422731.py:166: MatplotlibDeprecationWarning: Auto-removal of overlapping axes is deprecated since 3.6 and will be removed two minor releases later; explicitly call ax.remove() as needed.\n",
      "  plt.subplot(212)\n"
     ]
    },
    {
     "name": "stdout",
     "output_type": "stream",
     "text": [
      "Progress: [####################################              ] 72.7% (n=218/300) --> elapsed time: 124.28s\r"
     ]
    },
    {
     "name": "stderr",
     "output_type": "stream",
     "text": [
      "C:\\Users\\painter\\AppData\\Local\\Temp\\ipykernel_47148\\3181422731.py:174: UserWarning: The figure layout has changed to tight\n",
      "  plt.tight_layout()\n"
     ]
    },
    {
     "data": {
      "text/plain": [
       "3826"
      ]
     },
     "execution_count": 1,
     "metadata": {},
     "output_type": "execute_result"
    }
   ],
   "source": [
    "from qm.qua import *\n",
    "from qm.QuantumMachinesManager import QuantumMachinesManager\n",
    "from qm import SimulationConfig, LoopbackInterface\n",
    "from configuration import *\n",
    "import matplotlib.pyplot as plt\n",
    "import numpy as np\n",
    "from scipy import signal\n",
    "from qualang_tools.loops import from_array\n",
    "from scipy.optimize import curve_fit\n",
    "\n",
    "######################\n",
    "# Start to save data\n",
    "import datetime \n",
    "import os\n",
    "import pandas as pd \n",
    "\n",
    "now = datetime.datetime.now()\n",
    "year = now.strftime(\"%Y\")\n",
    "month = now.strftime(\"%m\")\n",
    "day = now.strftime(\"%d\")\n",
    "hour = now.strftime(\"%H\")\n",
    "minute = now.strftime(\"%M\")\n",
    "second  = now.strftime(\"%S\")\n",
    "\n",
    "tPath = os.path.join(r'Z:\\LabberData_DF5\\QM_Data_DF5',year,month,'Data_'+month+day)\n",
    "if not os.path.exists(tPath):\n",
    "   os.makedirs(tPath)\n",
    "exp_name = 'qubit_spec_wFlux'\n",
    "qubit_name = 'Q2'\n",
    "\n",
    "f_str =exp_name + '_'+ qubit_name +'_'+ hour+ '_' + minute +'_' + second\n",
    "f_name= f_str+'.csv'\n",
    "j_name = f_str + '_state.json'\n",
    "p_name= f_str+'.png'\n",
    "\n",
    "# End to save data\n",
    "#####################\n",
    "\n",
    "def cosine_func(x, amplitude, frequency, phase, offset):\n",
    "    return amplitude * np.cos(2 * np.pi * frequency * x + phase) + offset\n",
    "\n",
    "amplitude_fit = 2.62115929\n",
    "frequency_fit = 0.79867642\n",
    "phase_fit = -0.06066608\n",
    "offset_fit = -2.51401473\n",
    "%matplotlib qt\n",
    "#########################################\n",
    "# Set-up the machine and get the config #\n",
    "#########################################\n",
    "machine = QuAM(\"quam_state.json\", flat_data=False)\n",
    "\n",
    "config = build_config(machine)\n",
    "\n",
    "##############################\n",
    "# Program-specific variables #\n",
    "##############################\n",
    "\n",
    "n_avg = 300  # Number of averaging loops\n",
    "\n",
    "cooldown_time = 20_000  # Resonator cooldown time\n",
    "flux_settle_time = 100  # Flux settle time\n",
    "\n",
    "dfs = np.arange(-20e6, 10e6, 0.5e6)\n",
    "dcs = np.arange(-0.05, 0.05, 0.001)  # flux\n",
    "\n",
    "t = 14 * u.us  # Qubit pulse length\n",
    "\n",
    "number_of_qubits = 2\n",
    "qb_list = [i for i in range(number_of_qubits)]\n",
    "qb_if_list = [machine.qubits[i].f_01 - machine.qubits[i].lo for i in range(number_of_qubits)]\n",
    "\n",
    "qubit_index = 0\n",
    "\n",
    "resonators_list = [i for i in range(number_of_qubits)]\n",
    "res_if_list = [machine.resonators[i].f_readout - machine.resonators[i].lo for i in range(number_of_qubits)]\n",
    "\n",
    "fitted_curve = cosine_func(dcs, amplitude_fit, frequency_fit, phase_fit, offset_fit)\n",
    "fitted_curve = fitted_curve*1e6\n",
    "fitted_curve = fitted_curve.astype(int)\n",
    "###################\n",
    "# The QUA program #\n",
    "###################\n",
    "\n",
    "with program() as qubit_spec_2D:\n",
    "    n = declare(int)  # Averaging index\n",
    "    df = declare(int)  # Resonator frequency\n",
    "    dc = declare(fixed)  # flux dc level\n",
    "    I = declare(fixed)\n",
    "    Q = declare(fixed)\n",
    "    resonator_freqs = declare(int, value=fitted_curve.tolist())\n",
    "    index = declare(int, value=0)\n",
    "    I_st = declare_stream()\n",
    "    Q_st = declare_stream()\n",
    "    n_st = declare_stream()\n",
    "\n",
    "    with for_(n, 0, n < n_avg, n + 1):\n",
    "        with for_(*from_array(df, dfs)):\n",
    "            # Update the qubit frequency\n",
    "            update_frequency(machine.qubits[qubit_index].name, df + qb_if_list[qubit_index])\n",
    "            assign(index, 0)\n",
    "            with for_(*from_array(dc, dcs)):\n",
    "                update_frequency(machine.resonators[qubit_index].name, resonator_freqs[index] + res_if_list[qubit_index])\n",
    "                # Flux sweeping\n",
    "                set_dc_offset(machine.flux_lines[qubit_index].name, \"single\", dc)\n",
    "                wait(flux_settle_time, machine.resonators[qubit_index].name, machine.qubits[qubit_index].name)\n",
    "                # Play a saturation pulse on the qubit\n",
    "                play(\"cw\" * amp(.1), machine.qubits[qubit_index].name, duration=t*u.ns)\n",
    "                align(machine.qubits[qubit_index].name, machine.resonators[qubit_index].name)\n",
    "                # Measure the resonator\n",
    "                measure(\n",
    "                    \"readout\",\n",
    "                    machine.resonators[qubit_index].name,\n",
    "                    None,\n",
    "                    dual_demod.full(\"cos\", \"out1\", \"sin\", \"out2\", I),\n",
    "                    dual_demod.full(\"minus_sin\", \"out1\", \"cos\", \"out2\", Q),\n",
    "                )\n",
    "                # Wait for the resonator to cooldown\n",
    "                wait(cooldown_time, machine.resonators[qubit_index].name)\n",
    "                # Save data to the stream processing\n",
    "                save(I, I_st)\n",
    "                save(Q, Q_st)\n",
    "                assign(index, index+1)\n",
    "        save(n, n_st)\n",
    "\n",
    "    with stream_processing():\n",
    "        I_st.buffer(len(dcs)).buffer(len(dfs)).average().save(\"I\")\n",
    "        Q_st.buffer(len(dcs)).buffer(len(dfs)).average().save(\"Q\")\n",
    "        n_st.save(\"iteration\")\n",
    "\n",
    "\n",
    "#####################################\n",
    "#  Open Communication with the QOP  #\n",
    "#####################################\n",
    "qmm = QuantumMachinesManager(machine.network.qop_ip, cluster_name=machine.network.cluster_name, octave=octave_config)\n",
    "\n",
    "simulation = False\n",
    "\n",
    "if simulation:\n",
    "    simulation_config = SimulationConfig(\n",
    "        duration=8000, simulation_interface=LoopbackInterface([(\"con1\", 3, \"con1\", 1)])\n",
    "    )\n",
    "    job = qmm.simulate(config, qubit_spec_2D, simulation_config)\n",
    "    job.get_simulated_samples().con1.plot()\n",
    "else:\n",
    "    qm = qmm.open_qm(config)\n",
    "    job = qm.execute(qubit_spec_2D)\n",
    "    # Get results from QUA program\n",
    "    results = fetching_tool(job, data_list=[\"I\", \"Q\", \"iteration\"], mode=\"live\")\n",
    "    # Live plotting\n",
    "    fig = plt.figure()\n",
    "    plt.rcParams['figure.figsize'] = [12, 8]\n",
    "    interrupt_on_close(fig, job)  #  Interrupts the job when closing the figure\n",
    "    while results.is_processing():\n",
    "        # Fetch results\n",
    "        I, Q, iteration = results.fetch_all()\n",
    "        # Progress bar\n",
    "        progress_counter(iteration, n_avg, start_time=results.get_start_time())\n",
    "        # 2D spectroscopy plot\n",
    "        plt.subplot(211)\n",
    "        plt.cla()\n",
    "        plt.title(\"Qubit spectroscopy amplitude\")\n",
    "        plt.pcolor(dcs, dfs / u.MHz, np.sqrt(I**2 + Q**2),cmap=\"seismic\")\n",
    "        plt.ylabel(\"Qubit frequency [MHz]\")\n",
    "        plt.colorbar()\n",
    "        plt.xlabel(\"Flux level [V]\")\n",
    "        plt.subplot(212)\n",
    "        plt.cla()\n",
    "        plt.title(\"Qubit spectroscopy phase\")\n",
    "        plt.pcolor(dcs,dfs / u.MHz,  signal.detrend(np.unwrap(np.angle(I + 1j * Q))),cmap=\"seismic\")\n",
    "        plt.ylabel(\"Qubit frequency [MHz]\")\n",
    "        plt.xlabel(\"Flux level [V]\")\n",
    "        plt.colorbar()\n",
    "        plt.pause(0.1)\n",
    "        plt.tight_layout()\n",
    "plt.savefig(os.path.join(tPath, p_name))\n",
    "## convert everything to lists so they are easy to parse in Matlab if desired\n",
    "if isinstance(dcs,np.ndarray) == True:\n",
    "   dcs1=dcs.tolist()\n",
    "else:  \n",
    "    pass\n",
    "if isinstance(dfs,np.ndarray) == True:\n",
    "   dfs1=dfs.tolist()\n",
    "else:  \n",
    "    pass\n",
    "if isinstance(I,np.ndarray) == True:\n",
    "   I1=I.tolist()\n",
    "else:  \n",
    "    pass\n",
    "if isinstance(Q,np.ndarray) == True:\n",
    "   Q1=Q.tolist()\n",
    "else:  \n",
    "    pass\n",
    "\n",
    "data = [('Variable', 'Value'), ('Flux', dcs1), ('Freq', dfs1), ('I', I1), ('Q', Q1)]\n",
    "df = pd.DataFrame(data,index=None, columns=None)\n",
    "df.to_csv(os.path.join(tPath, f_name),header=False, index=False)\n",
    "open(os.path.join(tPath, j_name), \"w\").write(open(\"quam_state.json\").read())"
   ]
  },
  {
   "cell_type": "code",
   "execution_count": 11,
   "metadata": {},
   "outputs": [
    {
     "name": "stdout",
     "output_type": "stream",
     "text": [
      "Execution stopped by user!\n"
     ]
    }
   ],
   "source": [
    "np.savez(\"qubit_spec_wFlux\",I,Q,dcs,dfs)\n"
   ]
  },
  {
   "cell_type": "code",
   "execution_count": 3,
   "metadata": {},
   "outputs": [
    {
     "name": "stdout",
     "output_type": "stream",
     "text": [
      "Fit parameters: [4589.42351789   53.27529152  -12.68364685]\n"
     ]
    },
    {
     "data": {
      "text/plain": [
       "<matplotlib.colorbar.Colorbar at 0x1d5c05d26a0>"
      ]
     },
     "execution_count": 3,
     "metadata": {},
     "output_type": "execute_result"
    }
   ],
   "source": [
    "## Fit to a polynomial\n",
    "from scipy.optimize import curve_fit\n",
    "\n",
    "I = np.array(I)\n",
    "Q = np.array(Q)\n",
    "dfs = np.array(dfs)\n",
    "dcs = np.array(dcs)\n",
    "\n",
    "def parabolic_func(x, v1, v2, v3):\n",
    "        return v1*x**2 + v2*x + v3\n",
    "\n",
    "Z = I + 1j*Q\n",
    "mag = np.abs(Z)\n",
    "mag_transpose = mag.T\n",
    "minimas = []\n",
    "for i in range(len(dcs)):\n",
    "    minimas.append(dfs[np.argmin(mag_transpose[i])])\n",
    "minimas = np.array(minimas)\n",
    "initial_guess = [1, 0.5, 0]  # Initial guess for the parameters\n",
    "fit_params, _ = curve_fit(parabolic_func, dcs, minimas/1e6, p0=initial_guess)\n",
    "\n",
    "# Get the fitted values\n",
    "\n",
    "print('Fit parameters:', fit_params)\n",
    "\n",
    "# Generate the fitted curve using the fitted parameters\n",
    "fitted_curve = parabolic_func(dcs, fit_params[0],  fit_params[1],  fit_params[2])\n",
    "plt.figure()\n",
    "plt.xlabel(\"Flux level [V]\")\n",
    "plt.ylabel(\"Frequency [MHz]\")\n",
    "plt.pcolor(dcs,dfs/u.MHz, np.abs(Z))\n",
    "plt.plot(dcs, minimas/u.MHz, '.-', color='red')\n",
    "plt.plot(dcs, fitted_curve, label='Fitted parabola', color='orange')\n",
    "plt.colorbar()"
   ]
  },
  {
   "cell_type": "code",
   "execution_count": null,
   "metadata": {},
   "outputs": [],
   "source": []
  }
 ],
 "metadata": {
  "kernelspec": {
   "display_name": "Python 3",
   "language": "python",
   "name": "python3"
  },
  "language_info": {
   "codemirror_mode": {
    "name": "ipython",
    "version": 3
   },
   "file_extension": ".py",
   "mimetype": "text/x-python",
   "name": "python",
   "nbconvert_exporter": "python",
   "pygments_lexer": "ipython3",
   "version": "3.6.11"
  }
 },
 "nbformat": 4,
 "nbformat_minor": 5
}
