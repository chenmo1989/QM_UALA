{
 "cells": [
  {
   "cell_type": "markdown",
   "id": "a0f581de",
   "metadata": {},
   "source": [
    "# UA Q1 basic characterization"
   ]
  },
  {
   "cell_type": "markdown",
   "id": "5c608151",
   "metadata": {},
   "source": [
    "includes RR, ESR, Rabi, T1"
   ]
  },
  {
   "cell_type": "markdown",
   "id": "469d6164",
   "metadata": {},
   "source": [
    "## Header that we always run"
   ]
  },
  {
   "cell_type": "code",
   "execution_count": 2,
   "id": "be408f45",
   "metadata": {},
   "outputs": [],
   "source": [
    "# set up non-QM hardware\n",
    "import Labber\n",
    "# connect to server \n",
    "client = Labber.connectToServer('localhost') # get list of instruments \n",
    "#instruments = client.getListOfInstrumentsString() \n",
    "#for instr in instruments: \n",
    "#    print(instr) # close connection \n",
    "\n",
    "# reset all QDevil channels to 0 V\n",
    "QDevil = client.connectToInstrument('QDevil QDAC', dict(interface='Serial', address='3'))\n",
    "for n in range(24):\n",
    "    if n+1 < 10:\n",
    "        QDevil.setValue(\"CH0\" + str(n+1) + \" Voltage\", 0.0)\n",
    "    else:\n",
    "        QDevil.setValue(\"CH\" + str(n+1) + \" Voltage\", 0.0)\n",
    "# setting CH01 to sweet spot\n",
    "DC_ss = -0.158888\n",
    "# DC_ss =0\n",
    "QDevil.setValue(\"CH01 Voltage\", DC_ss)\n",
    "\n",
    "# Set other qubits at the antinode\n",
    "QDevil.setValue(\"CH02 Voltage\", 0.6)\n",
    "QDevil.setValue(\"CH03 Voltage\", 2.9)\n",
    "QDevil.setValue(\"CH04 Voltage\", 3.4)\n",
    "\n",
    "# digital attenuators\n",
    "Vaunix1 = client.connectToInstrument('Painter Vaunix Lab Brick Digital Attenuator', dict(interface='USB', address='25606'))\n",
    "Vaunix2 = client.connectToInstrument('Painter Vaunix Lab Brick Digital Attenuator', dict(interface='USB', address='25607'))\n",
    "ROI = 32\n",
    "ROO = 10\n",
    "Vaunix1.setValue(\"Attenuation\", ROI)\n",
    "Vaunix2.setValue(\"Attenuation\", ROO)\n",
    "\n",
    "# TWPA pump\n",
    "SG = client.connectToInstrument('Rohde&Schwarz RF Source', dict(interface='TCPIP', address='192.168.88.2'))\n",
    "freq_TWPA = 6326E6;\n",
    "pwr_TWPA = -10;\n",
    "SG.setValue('Frequency', freq_TWPA)\n",
    "SG.setValue('Power', pwr_TWPA)\n",
    "\n",
    "client.close()"
   ]
  },
  {
   "cell_type": "code",
   "execution_count": 3,
   "id": "dae0e896",
   "metadata": {},
   "outputs": [
    {
     "name": "stdout",
     "output_type": "stream",
     "text": [
      "2023-09-22 15:18:42,236 - qm - INFO     - Starting session: d680fa70-baa5-4815-9468-4707f5dbd867\n"
     ]
    }
   ],
   "source": [
    "from qm.qua import *\n",
    "from qm.QuantumMachinesManager import QuantumMachinesManager\n",
    "from qm import SimulationConfig, LoopbackInterface\n",
    "from qm.octave import *\n",
    "from qm.octave.octave_manager import ClockMode\n",
    "from configuration import *\n",
    "import matplotlib.pyplot as plt\n",
    "import numpy as np\n",
    "from scipy import signal\n",
    "from qm import SimulationConfig\n",
    "from qualang_tools.bakery import baking\n",
    "from qualang_tools.units import unit\n",
    "import qdac as qdac\n",
    "from scipy.io import savemat\n",
    "from scipy.io import loadmat\n",
    "from scipy.optimize import curve_fit\n",
    "from scipy.signal import savgol_filter\n",
    "from qutip import *\n",
    "import datetime \n",
    "import os\n",
    "import time\n",
    "import warnings\n",
    "from qm import generate_qua_script\n",
    "\n",
    "warnings.filterwarnings(\"ignore\")\n",
    "\n",
    "def wait_until_job_is_paused(current_job):\n",
    "    \"\"\"\n",
    "    Waits until the OPX FPGA reaches the pause statement.\n",
    "    Used when the OPX sequence needs to be synchronized with an external parameter sweep.\n",
    "\n",
    "    :param current_job: the job object.\n",
    "    \"\"\"\n",
    "    while not current_job.is_paused():\n",
    "        time.sleep(0.01)\n",
    "        pass\n",
    "    return True\n",
    "\n",
    "qubit_index = 0 # for UA Q1\n",
    "\n",
    "now = datetime.datetime.now()\n",
    "year = now.strftime(\"%Y\")\n",
    "month = now.strftime(\"%m\")\n",
    "day = now.strftime(\"%d\")\n",
    "\n",
    "tPath = os.path.join(r'Z:\\LabberData_DF5\\QM_Data_DF5',year,month,'Data_'+month+day)\n",
    "if not os.path.exists(tPath):\n",
    "   os.makedirs(tPath)"
   ]
  },
  {
   "cell_type": "markdown",
   "id": "d27b2108",
   "metadata": {},
   "source": [
    "## Fitting functions"
   ]
  },
  {
   "cell_type": "code",
   "execution_count": 4,
   "id": "f890284c",
   "metadata": {},
   "outputs": [],
   "source": [
    "# fitting functions\n",
    "def ESR_Shape( x, amp, sigma, x0, c ):\n",
    "    return amp * sigma**2 / ( sigma**2 + ( x - x0 )**2) + c \n",
    "\n",
    "def ESR_Shape_double( x, amp, sigma, x0, c, amp2, sigma2, x02 ):\n",
    "    return amp * sigma**2 / ( sigma**2 + ( x - x0 )**2) + c + amp2 * sigma2**2 / ( sigma2**2 + ( x - x02 )**2)\n",
    "\n",
    "def Rabi_Shape( x, amp, f, phi, c):\n",
    "    return amp * np.cos(2 * np.pi * f * x + phi) + c\n",
    "\n",
    "def exp_decay( t, A, T1, c):\n",
    "    return A*np.exp(-t/T1)+c\n",
    "\n",
    "def Phi_flux_RR(flux, c, phi0):\n",
    "    # Argument for the cosine flux tuning curve\n",
    "    return 2*np.pi*c*flux + phi0\n",
    "\n",
    "## Second order polynomial fit \n",
    "def poly2(x, a, b, c):\n",
    "        return a * (x**2) + b * x + c\n",
    "\n",
    "def ham(flux, out, wr, Ec, Ej, c, phi0, g):\n",
    "    # Hamiltonian function\n",
    "    # The flux is the independent variable\n",
    "    # The following are fitting parameters: wr, Ec, Ej, c, phi0, g\n",
    "    # The output is the resonator frequency for all the input flux values\n",
    "    # The output frequency array is in units of MHz\n",
    "\n",
    "    N = 4 # 0-3 photons\n",
    "\n",
    "    a = tensor(destroy(N), qeye(N)) # cavity mode\n",
    "    b = tensor(qeye(N), destroy(N)) # qubit\n",
    "\n",
    "    f_ham = []\n",
    "\n",
    "    # Hamiltonian as a function of flux\n",
    "    for k in range(np.size(flux)):\n",
    "        H = wr*a.dag()*a + (np.sqrt(8*Ec*Ej*np.abs(np.cos(Phi_flux_RR(flux[k],c, phi0))))-Ec)*b.dag()*b - Ec/2*b.dag()*b.dag()*b*b + g*(a*b.dag()+a.dag()*b)\n",
    "        w, v = np.linalg.eig(H)\n",
    "        \n",
    "        for n_1 in range(v.shape[1]):\n",
    "            v[:,n_1] = v[:,n_1]/np.inner(v[:,n_1],v[:,n_1])\n",
    "\n",
    "            idx_00 = np.argmax(np.abs(v[0,:])) # |0,0>\n",
    "            idx_01 = np.argmax(np.abs(v[N,:])) # |1,0> photon\n",
    "            idx_02 = np.argmax(np.abs(v[1,:])) # |0,1> qubit\n",
    "        if out == 1:\n",
    "            f_ham.append(np.abs(np.maximum(w[idx_01],w[idx_02]) - w[idx_00]))\n",
    "        elif out==2:\n",
    "            f_ham.append(np.abs(np.minimum(w[idx_01],w[idx_02]) - w[idx_00]))\n",
    "        else:\n",
    "            pass\n",
    "    f_ham = np.array(f_ham)\n",
    "    return f_ham\n",
    "\n",
    "\n",
    "def ESR_4th(arr_sz, num_steps, SS, *popt):\n",
    "    # Computes ESR freqeuncies as a function of flux.\n",
    "    # It creates a flux array based on two input parameters:\n",
    "    # arr_sz: endpoint of array. Since it is symmetric, it is the same value\n",
    "    # num_steps: number of flux points \n",
    "    # fits that to a Hamiltonian shifted by the SS so that it is centered at zero\n",
    "    # and uses this to perform a fit to a fourth order polynomial with only even terms.\n",
    "    # The function finally outputs the ESR frequencies as a function of flux\n",
    "    x_fit_r = np.array([np.linspace(-arr_sz, arr_sz, num_steps)])\n",
    "    y_fit_r = ham(x_fit_r - np.abs(SS), 2, *popt)\n",
    "    Q_fit_p4_r = np.polyfit(x_fit_r, y_fit_r, 4)\n",
    "    return Q_fit_p4_r[0]* x_fit_r**4 + Q_fit_p4_r[2] * x_fit_r**2 + Q_fit_p4_r[4]\n"
   ]
  },
  {
   "cell_type": "markdown",
   "id": "4919223f",
   "metadata": {},
   "source": [
    "## RR spectroscopy"
   ]
  },
  {
   "cell_type": "code",
   "execution_count": 5,
   "id": "2020cb17",
   "metadata": {},
   "outputs": [
    {
     "name": "stdout",
     "output_type": "stream",
     "text": [
      "Start running ...\n",
      "2023-09-22 15:18:47,307 - qm - INFO     - Octave \"octave1\" Health check passed, current temperature 57\n"
     ]
    },
    {
     "name": "stderr",
     "output_type": "stream",
     "text": [
      "INFO:qm:Octave \"octave1\" Health check passed, current temperature 57\n"
     ]
    },
    {
     "name": "stdout",
     "output_type": "stream",
     "text": [
      "2023-09-22 15:18:47,310 - qm - INFO     - Performing health check\n"
     ]
    },
    {
     "name": "stderr",
     "output_type": "stream",
     "text": [
      "INFO:qm.api.frontend_api:Performing health check\n"
     ]
    },
    {
     "name": "stdout",
     "output_type": "stream",
     "text": [
      "2023-09-22 15:18:47,324 - qm - INFO     - Health check passed\n"
     ]
    },
    {
     "name": "stderr",
     "output_type": "stream",
     "text": [
      "INFO:qm.api.frontend_api:Health check passed\n"
     ]
    },
    {
     "name": "stdout",
     "output_type": "stream",
     "text": [
      "2023-09-22 15:18:48,093 - qm - INFO     - Sending program to QOP for compilation\n"
     ]
    },
    {
     "name": "stderr",
     "output_type": "stream",
     "text": [
      "INFO:qm.api.frontend_api:Sending program to QOP for compilation\n"
     ]
    },
    {
     "name": "stdout",
     "output_type": "stream",
     "text": [
      "2023-09-22 15:18:48,310 - qm - INFO     - Executing program\n"
     ]
    },
    {
     "name": "stderr",
     "output_type": "stream",
     "text": [
      "INFO:qm.QuantumMachine:Executing program\n"
     ]
    },
    {
     "name": "stdout",
     "output_type": "stream",
     "text": [
      "Progress: [##################################################] 100.0% (n=10000/10000) --> elapsed time: 41.23s\n"
     ]
    }
   ],
   "source": [
    "print(\"Start running ...\")\n",
    "\n",
    "now = datetime.datetime.now()\n",
    "month = now.strftime(\"%m\")\n",
    "day = now.strftime(\"%d\")\n",
    "hour = now.strftime(\"%H\")\n",
    "minute = now.strftime(\"%M\")\n",
    "\n",
    "exp_name = 'RR_spec'\n",
    "qubit_name = 'UA_Q1'\n",
    "\n",
    "f_str = qubit_name + '_' + exp_name + '_' + month + day + '-' + hour + minute\n",
    "file_name= f_str + '.mat'\n",
    "json_name = f_str + '_state.json'\n",
    "\n",
    "# Set-up the machine and get the config #\n",
    "machine = QuAM(\"quam_state.json\")\n",
    "config = build_config(machine)\n",
    "\n",
    "qubit_index = 0\n",
    "res_if = machine.resonators[qubit_index].f_readout - machine.resonators[qubit_index].lo\n",
    "n_avg = 10_000\n",
    "cooldown_time =20_000 # convert to ns in the wait function!\n",
    "\n",
    "# The QUA program #\n",
    "RR_freq_sweep = np.arange(-2e6, 2e6, 0.02e6)\n",
    "RR_freq_sweep = RR_freq_sweep.astype(int)\n",
    "\n",
    "with program() as resonator_spec:\n",
    "    n = declare(int)\n",
    "    n_st = declare_stream()\n",
    "    df = declare(int)\n",
    "    I = declare(fixed)\n",
    "    Q = declare(fixed)\n",
    "    I_st = declare_stream()\n",
    "    Q_st = declare_stream()\n",
    "\n",
    "    with for_(n, 0, n < n_avg, n + 1):\n",
    "        save(n, n_st)\n",
    "        with for_(*from_array(df, RR_freq_sweep)):\n",
    "            update_frequency(machine.resonators[qubit_index].name, df + res_if)\n",
    "            #play(\"pi\" * amp(1.0), machine.qubits[qubit_index].name)\n",
    "            #align(machine.qubits[qubit_index].name, machine.resonators[qubit_index].name)\n",
    "            measure(\n",
    "                \"readout\"*amp(1),\n",
    "                machine.resonators[qubit_index].name,\n",
    "                None,\n",
    "                dual_demod.full(\"cos\", \"out1\", \"sin\", \"out2\", I),\n",
    "                dual_demod.full(\"minus_sin\", \"out1\", \"cos\", \"out2\", Q),\n",
    "            )\n",
    "            wait(cooldown_time * u.ns, machine.resonators[qubit_index].name)\n",
    "            save(I, I_st)\n",
    "            save(Q, Q_st)\n",
    "\n",
    "    with stream_processing():\n",
    "        n_st.save('iteration')\n",
    "        I_st.buffer(len(RR_freq_sweep)).average().save(\"I\")\n",
    "        Q_st.buffer(len(RR_freq_sweep)).average().save(\"Q\")\n",
    "\n",
    "#  Open Communication with the QOP  #\n",
    "# qmm = QuantumMachinesManager(machine.network.qop_ip, cluster_name=machine.network.cluster_name, octave=octave_config)\n",
    "# qmm = QuantumMachinesManager(machine.network.qop_ip, port = '9510', octave=octave_config, log_level = \"ERROR\")\n",
    "qmm = QuantumMachinesManager(machine.network.qop_ip, port = '9510', octave=octave_config)\n",
    "\n",
    "# Simulate or execute #\n",
    "simulate = False # simulation is useful to see the sequence, especially the timing (clock cycle vs ns)\n",
    "\n",
    "if simulate:\n",
    "    simulation_config = SimulationConfig(duration=1000)\n",
    "    job = qmm.simulate(config, resonator_spec, simulation_config)\n",
    "    job.get_simulated_samples().con1.plot()\n",
    "else:\n",
    "    qm = qmm.open_qm(config)\n",
    "    job = qm.execute(resonator_spec)\n",
    "    # Get results from QUA program\n",
    "    results = fetching_tool(job, data_list=[\"I\", \"Q\", \"iteration\"], mode=\"live\")\n",
    "    # Live plotting\n",
    "    %matplotlib qt\n",
    "    fig = plt.figure()\n",
    "    plt.rcParams['figure.figsize'] = [12, 8]\n",
    "    interrupt_on_close(fig, job)  # Interrupts the job when closing the figure\n",
    "    while results.is_processing():\n",
    "        # Fetch results\n",
    "        I, Q, iteration = results.fetch_all()\n",
    "        I = u.demod2volts(I, machine.resonators[qubit_index].readout_pulse_length)\n",
    "        Q = u.demod2volts(Q, machine.resonators[qubit_index].readout_pulse_length)\n",
    "        # progress bar\n",
    "        progress_counter(iteration, n_avg, start_time=results.get_start_time())\n",
    "        plt.cla()\n",
    "        plt.title(\"Resonator spectroscopy\")\n",
    "        plt.plot((machine.resonators[qubit_index].f_readout + RR_freq_sweep ) / u.MHz, np.sqrt(I**2 +  Q**2), \".\")\n",
    "        plt.xlabel(\"Frequency [MHz]\")\n",
    "        plt.ylabel(r\"$\\sqrt{I^2 + Q^2}$ [V]\")"
   ]
  },
  {
   "cell_type": "code",
   "execution_count": 6,
   "id": "b36e896a",
   "metadata": {},
   "outputs": [
    {
     "name": "stdout",
     "output_type": "stream",
     "text": [
      "IF offset to add to IF: 0.320000 MHz\n",
      "Execution stopped by user!\n"
     ]
    },
    {
     "data": {
      "text/plain": [
       "<matplotlib.lines.Line2D at 0x221785af1f0>"
      ]
     },
     "execution_count": 6,
     "metadata": {},
     "output_type": "execute_result"
    },
    {
     "data": {
      "image/png": "[encoded data removed]",
      "text/plain": [
       "<Figure size 800x400 with 1 Axes>"
      ]
     },
     "metadata": {},
     "output_type": "display_data"
    }
   ],
   "source": [
    "# Fetch results\n",
    "I, Q, iteration = results.fetch_all()\n",
    "# Convert I & Q to Volts\n",
    "I = u.demod2volts(I, machine.resonators[qubit_index].readout_pulse_length)\n",
    "Q = u.demod2volts(Q, machine.resonators[qubit_index].readout_pulse_length)\n",
    "sig_amp = np.sqrt(I**2 + Q**2)\n",
    "# detrend removes the linear increase of phase\n",
    "sig_phase = signal.detrend(np.unwrap(np.angle(I + 1j * Q)))\n",
    "idx = np.argmin(sig_amp) # find minimum\n",
    "print(f\"IF offset to add to IF: {RR_freq_sweep[idx] / u.MHz:.6f} MHz\")\n",
    "\n",
    "plt.close('all')\n",
    "%matplotlib inline\n",
    "# 1D spectroscopy plot\n",
    "fig = plt.figure(figsize=[8, 4])\n",
    "plt.title(\"Resonator spectroscopy\")\n",
    "plt.plot((machine.resonators[qubit_index].f_readout + RR_freq_sweep ) / u.MHz, sig_amp, \".\")\n",
    "plt.xlabel(\"Frequency [MHz]\")\n",
    "plt.ylabel(r\"$\\sqrt{I^2 + Q^2}$ [V]\")\n",
    "plt.axvline(x = (machine.resonators[qubit_index].f_readout + RR_freq_sweep[idx]) / u.MHz)"
   ]
  },
  {
   "cell_type": "code",
   "execution_count": 7,
   "id": "9b60b360",
   "metadata": {},
   "outputs": [],
   "source": [
    "savemat(os.path.join(tPath, file_name), {\"RR_freq\": machine.resonators[qubit_index].f_readout + RR_freq_sweep, \"sig_amp\": sig_amp, \"sig_phase\": sig_phase, \"DC_CH07\": 0, \"ROI\": ROI, \"ROO\": ROO, \"freq_TWPA\": freq_TWPA, \"pwr_TWPA\": pwr_TWPA})\n",
    "machine._save(os.path.join(tPath, json_name), flat_data=False)"
   ]
  },
  {
   "cell_type": "code",
   "execution_count": 8,
   "id": "efb4e463",
   "metadata": {},
   "outputs": [],
   "source": [
    "# Modify machine and save\n",
    "machine.resonators[qubit_index].f_readout += 0.32E6\n",
    "machine._save(\"quam_state.json\", flat_data=False)"
   ]
  },
  {
   "cell_type": "code",
   "execution_count": null,
   "id": "53dcff05",
   "metadata": {},
   "outputs": [],
   "source": [
    "# This can be used to load specific data files to plot the resonator when qubit is at |e> and |g>\n",
    "file_name = 'UA_Q1_RR_spec_0830-1038'\n",
    "data = loadmat(os.path.join(tPath, file_name))\n",
    "freq = data['RR_freq'][0]\n",
    "sig = data['sig']\n",
    "\n",
    "file_name_g = 'UA_Q1_RR_spec_0830-1036'\n",
    "data = loadmat(os.path.join(tPath, file_name_g))\n",
    "freq_g = data['RR_freq'][0]\n",
    "sig_g = data['sig']\n",
    "\n",
    "fig = plt.figure(figsize=[8, 4])\n",
    "plt.title(\"Resonator spectroscopy\")\n",
    "plt.plot(freq , sig.T, \".\")\n",
    "plt.plot(freq_g , sig_g.T, \".\")         \n",
    "plt.xlabel(\"Frequency [MHz]\")\n",
    "plt.ylabel(r\"$\\sqrt{I^2 + Q^2}$ [V]\")\n",
    "plt.legend([\"e\", \"g\"])"
   ]
  },
  {
   "cell_type": "markdown",
   "id": "21784bee",
   "metadata": {},
   "source": [
    "## Flux sweep"
   ]
  },
  {
   "cell_type": "code",
   "execution_count": 49,
   "id": "41512a9d",
   "metadata": {
    "scrolled": true
   },
   "outputs": [
    {
     "name": "stdout",
     "output_type": "stream",
     "text": [
      "Start running ...\n",
      "2023-09-22 16:24:36,088 - qm - INFO     - Performing health check\n"
     ]
    },
    {
     "name": "stderr",
     "output_type": "stream",
     "text": [
      "INFO:qm.api.frontend_api:Performing health check\n"
     ]
    },
    {
     "name": "stdout",
     "output_type": "stream",
     "text": [
      "2023-09-22 16:24:36,103 - qm - INFO     - Health check passed\n"
     ]
    },
    {
     "name": "stderr",
     "output_type": "stream",
     "text": [
      "INFO:qm.api.frontend_api:Health check passed\n"
     ]
    },
    {
     "name": "stdout",
     "output_type": "stream",
     "text": [
      "2023-09-22 16:24:36,940 - qm - INFO     - Sending program to QOP for compilation\n"
     ]
    },
    {
     "name": "stderr",
     "output_type": "stream",
     "text": [
      "INFO:qm.api.frontend_api:Sending program to QOP for compilation\n"
     ]
    },
    {
     "name": "stdout",
     "output_type": "stream",
     "text": [
      "2023-09-22 16:24:37,148 - qm - INFO     - Executing program\n"
     ]
    },
    {
     "name": "stderr",
     "output_type": "stream",
     "text": [
      "INFO:qm.QuantumMachine:Executing program\n"
     ]
    },
    {
     "name": "stdout",
     "output_type": "stream",
     "text": [
      "Progress: [##################################################] 100.0% (n=101/101)\n"
     ]
    },
    {
     "data": {
      "text/plain": [
       "True"
      ]
     },
     "execution_count": 49,
     "metadata": {},
     "output_type": "execute_result"
    },
    {
     "name": "stdout",
     "output_type": "stream",
     "text": [
      "Execution stopped by user!\n"
     ]
    }
   ],
   "source": [
    "print(\"Start running ...\")\n",
    "\n",
    "now = datetime.datetime.now()\n",
    "month = now.strftime(\"%m\")\n",
    "day = now.strftime(\"%d\")\n",
    "hour = now.strftime(\"%H\")\n",
    "minute = now.strftime(\"%M\")\n",
    "\n",
    "exp_name = 'RR_spec_flux_sweep'\n",
    "qubit_name = 'UA_Q1'\n",
    "\n",
    "f_str = qubit_name + '_' + exp_name + '_' + month + day + '-' + hour + minute\n",
    "file_name= f_str+'.mat'\n",
    "json_name = f_str + '_state.json'\n",
    "\n",
    "\n",
    "# Set-up the machine and get the config #\n",
    "machine = QuAM(\"quam_state.json\")\n",
    "# machine.resonators[0].f_readout+=1.68e6\n",
    "# machine.resonators[0].readout_pulse_amp=0.27\n",
    "config = build_config(machine)\n",
    "\n",
    "# Program-specific variables #\n",
    "n_avg = 100  # Number of averaging loops\n",
    "\n",
    "cooldown_time = 20_000  # Resonator cooldown time, convert to ns in the wait() function \n",
    "flux_settle_time = 250  # Flux settle time for fast flux\n",
    "\n",
    "# flux_pts = 250\n",
    "# dcs = np.linspace(-0.49, 0.49, flux_pts)\n",
    "dc_flux_sweep = np.arange(-5,5 + 0.1,0.1)\n",
    "RR_freq_sweep = np.arange(-7.5e6, 5e6, 1e6)\n",
    "RR_freq_sweep = RR_freq_sweep.astype(int)\n",
    "\n",
    "res_if = machine.resonators[qubit_index].f_readout - machine.resonators[qubit_index].lo\n",
    "\n",
    "client = Labber.connectToServer('localhost') # get list of instruments \n",
    "QDevil = client.connectToInstrument('QDevil QDAC', dict(interface='Serial', address='3'))\n",
    "\n",
    "start_time = time.time()\n",
    "\n",
    "with program() as resonator_spec_2D:\n",
    "    n = declare(int)  # Averaging index\n",
    "    i = declare(int)  # DC sweep index\n",
    "    df = declare(int)  # Resonator frequency\n",
    "    I = declare(fixed)\n",
    "    Q = declare(fixed)\n",
    "    I_st = declare_stream()\n",
    "    Q_st = declare_stream()\n",
    "    n_st = declare_stream()\n",
    "\n",
    "    with for_(i, 0, i < len(dc_flux_sweep) + 1, i + 1):\n",
    "        # The QUA program #\n",
    "        pause()\n",
    "        with for_(n, 0, n < n_avg, n + 1):\n",
    "            with for_(*from_array(df, RR_freq_sweep)):\n",
    "                # Update the resonator frequency\n",
    "                update_frequency(machine.resonators[qubit_index].name, df + res_if)\n",
    "                # Measure the resonator\n",
    "                measure(\n",
    "                    \"readout\",\n",
    "                    machine.resonators[qubit_index].name,\n",
    "                    None,\n",
    "                    dual_demod.full(\"cos\", \"out1\", \"sin\", \"out2\", I),\n",
    "                    dual_demod.full(\"minus_sin\", \"out1\", \"cos\", \"out2\", Q),\n",
    "                )\n",
    "                # Wait for the resonator to cooldown\n",
    "                wait(cooldown_time * u.ns, machine.resonators[qubit_index].name)\n",
    "                # Save data to the stream processing\n",
    "                save(I, I_st)\n",
    "                save(Q, Q_st)\n",
    "        save(i, n_st)\n",
    "\n",
    "    with stream_processing():\n",
    "        I_st.buffer(len(RR_freq_sweep)).buffer(n_avg).map(FUNCTIONS.average()).save_all(\"I\")\n",
    "        Q_st.buffer(len(RR_freq_sweep)).buffer(n_avg).map(FUNCTIONS.average()).save_all(\"Q\")\n",
    "        n_st.save_all(\"iteration\")\n",
    "\n",
    "###############\n",
    "# Run Program #\n",
    "###############\n",
    "#  Open Communication with the QOP  #\n",
    "# qmm = QuantumMachinesManager(machine.network.qop_ip, cluster_name=machine.network.cluster_name, octave=octave_config)\n",
    "# qmm = QuantumMachinesManager(machine.network.qop_ip, port = '9510', octave=octave_config, log_level = \"ERROR\")\n",
    "qmm = QuantumMachinesManager(machine.network.qop_ip, port = '9510', octave=octave_config)\n",
    "\n",
    "qm = qmm.open_qm(config)\n",
    "job = qm.execute(resonator_spec_2D)\n",
    "# Creates results handles to fetch the data\n",
    "res_handles = job.result_handles\n",
    "I_handle = res_handles.get(\"I\")\n",
    "Q_handle = res_handles.get(\"Q\")\n",
    "n_handle = res_handles.get(\"iteration\")\n",
    "\n",
    "# Initialize empty vectors to store the global 'I' & 'Q' results\n",
    "I_tot = []\n",
    "Q_tot = []\n",
    "# Live plotting\n",
    "fig = plt.figure()\n",
    "plt.rcParams['figure.figsize'] = [8, 4]\n",
    "interrupt_on_close(fig, job)  # Interrupts the job when closing the figure\n",
    "\n",
    "for i in range(len(dc_flux_sweep)):\n",
    "    # set QDAC voltage\n",
    "    dc_flux = dc_flux_sweep[i]\n",
    "    QDevil.setValue(\"CH01 Voltage\", dc_flux)\n",
    "    # Resume the QUA program\n",
    "    job.resume()\n",
    "    # Wait until the program reaches the 'pause' statement again, indicating that the QUA program is done\n",
    "    wait_until_job_is_paused(job)\n",
    "    \n",
    "    # Wait until the data of this run is processed by the stream processing\n",
    "    I_handle.wait_for_values(i + 1)\n",
    "    Q_handle.wait_for_values(i + 1)\n",
    "    n_handle.wait_for_values(i + 1)\n",
    "    \n",
    "    # Fetch the data from the last OPX run corresponding to the current LO frequency\n",
    "    I = np.concatenate(I_handle.fetch(i)[\"value\"])\n",
    "    Q = np.concatenate(Q_handle.fetch(i)[\"value\"])\n",
    "    iteration = n_handle.fetch(i)[\"value\"][0]\n",
    "    # Update the list of global results\n",
    "    I_tot.append(I)\n",
    "    Q_tot.append(Q)\n",
    "    # Progress bar\n",
    "    progress_counter(iteration, len(dc_flux_sweep))\n",
    "    \n",
    "    # Convert results into Volts\n",
    "    sigs = u.demod2volts(I + 1j * Q, machine.resonators[qubit_index].readout_pulse_length)\n",
    "    sig_amp = np.abs(sigs)  # Amplitude\n",
    "    sig_phase = np.angle(sigs)  # Phase\n",
    "    # Plot results\n",
    "    plt.suptitle(\"RR spectroscopy\")\n",
    "    plt.title(\"Resonator spectroscopy\")\n",
    "    plt.plot((machine.resonators[qubit_index].f_readout + RR_freq_sweep ) / u.MHz, sig_amp, \".\")\n",
    "    plt.xlabel(\"Frequency [MHz]\")\n",
    "    plt.ylabel(r\"$\\sqrt{I^2 + Q^2}$ [V]\")\n",
    "\n",
    "# Interrupt the FPGA program\n",
    "job.halt()"
   ]
  },
  {
   "cell_type": "code",
   "execution_count": 40,
   "id": "726666a5",
   "metadata": {},
   "outputs": [],
   "source": [
    "client.close()"
   ]
  },
  {
   "cell_type": "markdown",
   "id": "8a621018",
   "metadata": {},
   "source": [
    "### Process the data from experimental run"
   ]
  },
  {
   "cell_type": "code",
   "execution_count": 50,
   "id": "067e1a2e",
   "metadata": {},
   "outputs": [
    {
     "data": {
      "text/plain": [
       "<matplotlib.legend.Legend at 0x221017b1bb0>"
      ]
     },
     "execution_count": 50,
     "metadata": {},
     "output_type": "execute_result"
    }
   ],
   "source": [
    "%matplotlib qt\n",
    "I = np.concatenate(I_tot)\n",
    "Q = np.concatenate(Q_tot)\n",
    "sigs = u.demod2volts(I + 1j * Q, machine.resonators[qubit_index].readout_pulse_length)\n",
    "sig_amp = np.abs(sigs)  # Amplitude\n",
    "sig_phase = np.angle(sigs)  # Phase\n",
    "\n",
    "# Final plot\n",
    "\n",
    "sig = np.reshape(sig_amp, (np.size(dc_flux_sweep), np.size(machine.resonators[qubit_index].f_readout + RR_freq_sweep)))\n",
    "phase = np.reshape(sig_phase, (np.size(dc_flux_sweep), np.size(machine.resonators[qubit_index].f_readout + RR_freq_sweep)))\n",
    "fig = plt.figure()\n",
    "plt.rcParams['figure.figsize'] = [8, 4]\n",
    "plt.cla()\n",
    "\n",
    "# 2D spectroscopy plot\n",
    "plt.title(\"Resonator spectroscopy tuning curve\")\n",
    "plt.pcolormesh( np.linspace(np.min(dc_flux_sweep), np.max(dc_flux_sweep), np.size(dc_flux_sweep)),\n",
    "               np.linspace(np.min(machine.resonators[qubit_index].f_readout + RR_freq_sweep), \n",
    "                           np.max(machine.resonators[qubit_index].f_readout + RR_freq_sweep), \n",
    "                           np.size(machine.resonators[qubit_index].f_readout + RR_freq_sweep))/1e6, \n",
    "               sig.T, shading=\"nearest\", cmap=\"seismic\")\n",
    "plt.xlabel(\"DC flux level [V]\")\n",
    "plt.ylabel(\"Frequency [MHz]\")\n",
    "plt.colorbar()\n",
    "\n",
    "# Initial guess\n",
    "wr = machine.resonators[qubit_index].f_readout/1e6 # Resonator frequency\n",
    "Ec = 170.080 # Capacitive energy\n",
    "Ej = 30642.9 # Inductive energy \n",
    "c = 0.05 # Period in cosine function for flux\n",
    "phi0 = 0.4 # Offset in cosine function for flux\n",
    "g = 74.965 # RR-qubit coupling\n",
    "\n",
    "# Array of initial guess\n",
    "guess = [wr, Ec, Ej, c, phi0, g]\n",
    "\n",
    "# Frequency output from hamiltonian function using initial guess\n",
    "freq_fit_guess = ham(dc_flux_sweep, 1, *guess)\n",
    "\n",
    "# Plot of initial guess\n",
    "# plt.plot(flux.T, freq_fit_guess)\n",
    "\n",
    "freq = machine.resonators[qubit_index].f_readout + RR_freq_sweep\n",
    "# Determine minima of signal to use as ydata for fitting\n",
    "minimas = []\n",
    "for i in range(np.size(dc_flux_sweep)):\n",
    "    minimas.append(freq[np.argmin(sig[i])])\n",
    "minimas = np.array(minimas)\n",
    "\n",
    "\n",
    "## Plot minima of signal\n",
    "plt.scatter(dc_flux_sweep.T, minimas/1e6)\n",
    "\n",
    "minimas_mhz = minimas/1e6\n",
    "\n",
    "# Fit data from minima of signal to Hamiltonian function\n",
    "# Initial guess is given by p0\n",
    "# Bounds are necessary. The order is bounds = ((min_wr, min_Ec, min_Ej, min_c, min_phi0, min_g), (max_wr, max_Ec, max_Ej, max_c, max_phi0, max_g))\n",
    "popt, _ = curve_fit(lambda dc_flux_sweep, *guess: ham(dc_flux_sweep, 1, *guess), \n",
    "                    xdata = dc_flux_sweep, ydata = minimas_mhz, p0=guess, check_finite = \"true\", bounds = ((wr-200, Ec-100, Ej-20000, 0.0001, -4, g-50),(wr+200, Ec+100 ,Ej+ 20000, 4, 4, g+50)))\n",
    "\n",
    "# This is the frequency output from the fitted data\n",
    "freq_fit = ham(dc_flux_sweep, 1, *popt)\n",
    "\n",
    "# Plot the fitted data\n",
    "plt.plot(dc_flux_sweep.T, freq_fit)\n",
    "# plt.legend([\"guess\", \"fit\"])\n",
    "plt.legend([\"fit\"])\n",
    "\n"
   ]
  },
  {
   "cell_type": "code",
   "execution_count": null,
   "id": "6da2f6b9",
   "metadata": {},
   "outputs": [],
   "source": [
    "savemat(os.path.join(tPath, file_name), {\"RR_freq\": freq, \"sig_amp\": sig_amp, \"sig_phase\": sig_phase, \"dc_flux_sweep\": dc_flux_sweep, \"ROI\": ROI, \"ROO\": ROO, \"freq_TWPA\": freq_TWPA, \"pwr_TWPA\": pwr_TWPA})\n",
    "machine._save(os.path.join(tPath, json_name), flat_data=False)"
   ]
  },
  {
   "cell_type": "code",
   "execution_count": 51,
   "id": "bedba59d",
   "metadata": {},
   "outputs": [
    {
     "name": "stdout",
     "output_type": "stream",
     "text": [
      "SS at: -0.195209\n",
      "\n"
     ]
    }
   ],
   "source": [
    "# Fitted ESR plot\n",
    "freq_fit_qubit = ham(dc_flux_sweep, 2, *popt)\n",
    "\n",
    "plt.title(\"Qubit spectroscopy tuning curve\")\n",
    "plt.plot(dc_flux_sweep.T, freq_fit_qubit)\n",
    "plt.xlabel(\"DC flux level [V]\")\n",
    "plt.ylabel(\"Frequency [MHz]\")\n",
    "\n",
    "# SS from fitting to Hamiltonian parameters\n",
    "SS = (-popt[4])/(2*np.pi*popt[3])\n",
    "# Get the sweet spot based from fitted parameters to Hamiltonian\n",
    "# Only cosine term matters for this\n",
    "print('SS at: %.6f\\n' % SS) \n",
    "\n",
    "# Fit ESR to a fourth order polynomial centered at zero (SS was shifted)\n",
    "num_steps = 199\n",
    "arr_sz = 0.99 # Choose half of the size we will sweep around SS\n",
    "# Shift SS to be at 0 V, as ff is relative to the SS\n",
    "#ESR_freqs = ESR_4th(arr_sz, num_steps, SS, *popt) # get array of qubit freqeuncies as a function of flux with SS at 0V\n",
    "#ESR_freq_max = np.max(ESR_freqs)\n",
    "#ESR_freq_min = np.min(ESR_freqs)\n"
   ]
  },
  {
   "cell_type": "code",
   "execution_count": null,
   "id": "c1ed9f94",
   "metadata": {},
   "outputs": [],
   "source": [
    "q_freq_est =ham([SS], 2, *popt)\n",
    "print(q_freq_est)"
   ]
  },
  {
   "cell_type": "markdown",
   "id": "99992101",
   "metadata": {},
   "source": [
    "### process data from saved run"
   ]
  },
  {
   "cell_type": "code",
   "execution_count": null,
   "id": "a17ae638",
   "metadata": {},
   "outputs": [],
   "source": [
    "RR_freq_sweep = np.arange(-7.5e6, 5e6, 0.05e6)\n",
    "file_name = 'UA_Q1_RR_spec_flux_sweep_0906-1243'\n",
    "data = loadmat(os.path.join(r\"Z:\\LabberData_DF5\\QM_Data_DF5\\2023\\09\\Data_0906\", file_name))\n",
    "freq = data['RR_freq'][0]\n",
    "sig_amp = data['sig_amp'][0]\n",
    "dc_flux_sweep = data['dc_flux_sweep'][0]\n",
    "\n",
    "fig = plt.figure(figsize=[8, 4])\n",
    "sig = np.reshape(sig_amp, (np.size(dc_flux_sweep), np.size(machine.resonators[qubit_index].f_readout + RR_freq_sweep)))\n",
    "\n",
    "plt.rcParams['figure.figsize'] = [8, 4]\n",
    "plt.cla()\n",
    "\n",
    "# 2D spectroscopy plot\n",
    "plt.title(\"Resonator spectroscopy tuning curve\")\n",
    "plt.pcolormesh( np.linspace(np.min(dc_flux_sweep), np.max(dc_flux_sweep), np.size(dc_flux_sweep)),\n",
    "               np.linspace(np.min(machine.resonators[qubit_index].f_readout + RR_freq_sweep), \n",
    "                           np.max(machine.resonators[qubit_index].f_readout + RR_freq_sweep), \n",
    "                           np.size(machine.resonators[qubit_index].f_readout + RR_freq_sweep))/1e6, \n",
    "               sig.T, shading=\"nearest\", cmap=\"seismic\")\n",
    "plt.xlabel(\"DC flux level [V]\")\n",
    "plt.ylabel(\"Frequency [MHz]\")\n",
    "plt.colorbar()\n",
    "plt.show()\n",
    "\n",
    "# Initial guess\n",
    "wr = machine.resonators[qubit_index].f_readout/1e6 # Resonator frequency\n",
    "Ec = 170.080 # Capacitive energy\n",
    "Ej = 31158.8 # Inductive energy \n",
    "c = 0.05 # Period in cosine function for flux\n",
    "phi0 = 0.4 # Offset in cosine function for flux\n",
    "g = 74.965 # RR-qubit coupling\n",
    "# Array of initial guess\n",
    "\n",
    "guess = [wr, Ec, Ej, c, phi0, g]\n",
    "\n",
    "# Frequency output from hamiltonian function using initial guess\n",
    "freq_fit_guess = ham(dc_flux_sweep, 1, *guess)\n",
    "\n",
    "# Plot of initial guess\n",
    "# plt.plot(flux.T, freq_fit_guess)\n",
    "\n",
    "freq = machine.resonators[qubit_index].f_readout + RR_freq_sweep\n",
    "# Determine minima of signal to use as ydata for fitting\n",
    "minimas = []\n",
    "for i in range(np.size(dc_flux_sweep)):\n",
    "    minimas.append(freq[np.argmin(sig[i])])\n",
    "minimas = np.array(minimas)\n",
    "\n",
    "\n",
    "## Plot minima of signal\n",
    "plt.scatter(dc_flux_sweep.T, minimas/1e6)\n",
    "\n",
    "minimas_mhz = minimas/1e6\n",
    "\n",
    "# Fit data from minima of signal to Hamiltonian function\n",
    "# Initial guess is given by p0\n",
    "# Bounds are necessary. The order is bounds = ((min_wr, min_Ec, min_Ej, min_c, min_phi0, min_g), (max_wr, max_Ec, max_Ej, max_c, max_phi0, max_g))\n",
    "popt, _ = curve_fit(lambda dc_flux_sweep, *guess: ham(dc_flux_sweep, 1, *guess), \n",
    "                    xdata = dc_flux_sweep, ydata = minimas_mhz, p0=guess, check_finite = \"true\", bounds = ((wr-200, Ec-100, Ej-20000, 0.0001, -4, g-50),(wr+200, Ec+100 ,Ej+ 20000, 4, 4, g+50)))\n",
    "\n",
    "# This is the frequency output from the fitted data\n",
    "freq_fit = ham(dc_flux_sweep, 1, *popt)\n",
    "\n",
    "# Plot the fitted data\n",
    "plt.plot(dc_flux_sweep.T, freq_fit)\n",
    "# plt.legend([\"guess\", \"fit\"])\n",
    "plt.legend([\"fit\"])"
   ]
  },
  {
   "cell_type": "markdown",
   "id": "dd85ecdf",
   "metadata": {},
   "source": [
    "## ESR sweet spot"
   ]
  },
  {
   "cell_type": "code",
   "execution_count": 52,
   "id": "626bc5c6",
   "metadata": {},
   "outputs": [],
   "source": [
    "# set DC flux to sweet spot\n",
    "client = Labber.connectToServer('localhost') # get list of instruments \n",
    "QDevil = client.connectToInstrument('QDevil QDAC', dict(interface='Serial', address='3'))\n",
    "\n",
    "DC_ss = SS \n",
    "QDevil.setValue(\"CH01 Voltage\", DC_ss)\n",
    "client.close()"
   ]
  },
  {
   "cell_type": "code",
   "execution_count": 70,
   "id": "b24568be",
   "metadata": {},
   "outputs": [
    {
     "name": "stdout",
     "output_type": "stream",
     "text": [
      "Start running ...\n",
      "2023-09-22 16:32:12,732 - qm - INFO     - Performing health check\n"
     ]
    },
    {
     "name": "stderr",
     "output_type": "stream",
     "text": [
      "INFO:qm.api.frontend_api:Performing health check\n"
     ]
    },
    {
     "name": "stdout",
     "output_type": "stream",
     "text": [
      "2023-09-22 16:32:12,743 - qm - INFO     - Health check passed\n"
     ]
    },
    {
     "name": "stderr",
     "output_type": "stream",
     "text": [
      "INFO:qm.api.frontend_api:Health check passed\n"
     ]
    },
    {
     "name": "stdout",
     "output_type": "stream",
     "text": [
      "2023-09-22 16:32:13,983 - qm - INFO     - Sending program to QOP for compilation\n"
     ]
    },
    {
     "name": "stderr",
     "output_type": "stream",
     "text": [
      "INFO:qm.api.frontend_api:Sending program to QOP for compilation\n"
     ]
    },
    {
     "name": "stdout",
     "output_type": "stream",
     "text": [
      "2023-09-22 16:32:14,194 - qm - INFO     - Executing program\n"
     ]
    },
    {
     "name": "stderr",
     "output_type": "stream",
     "text": [
      "INFO:qm.QuantumMachine:Executing program\n"
     ]
    },
    {
     "name": "stdout",
     "output_type": "stream",
     "text": [
      "Execution stopped by user!                                   ] 15.9% (n=1592/10000) --> elapsed time: 23.09s\n",
      "Progress: [########                                          ] 16.0% (n=1603/10000) --> elapsed time: 23.45s\r"
     ]
    }
   ],
   "source": [
    "print(\"Start running ...\")\n",
    "\n",
    "now = datetime.datetime.now()\n",
    "month = now.strftime(\"%m\")\n",
    "day = now.strftime(\"%d\")\n",
    "hour = now.strftime(\"%H\")\n",
    "minute = now.strftime(\"%M\")\n",
    "\n",
    "exp_name = 'ESR'\n",
    "qubit_name = 'UA_Q1'\n",
    "\n",
    "f_str = qubit_name + '_' + exp_name + '_' + month + day + '-' + hour + minute\n",
    "file_name= f_str+'.mat'\n",
    "json_name = f_str + '_state.json'\n",
    "\n",
    "# Set-up the machine and get the config #\n",
    "machine = QuAM(\"quam_state.json\")\n",
    "config = build_config(machine)\n",
    "\n",
    "# Program-specific variables #\n",
    "n_avg = 10000  # Number of averaging loops\n",
    "cooldown_time = 20_000  # convert to ns in the wait() function\n",
    "t = 80  # Qubit pulse length\n",
    "# t = 14 * u.us\n",
    "freq_sweep = np.arange(-20e6, 50e6, 0.1e6)\n",
    "freq_sweep = freq_sweep.astype(int)\n",
    "\n",
    "qubit_index = 0\n",
    "qb_if = machine.qubits[qubit_index].f_01 - machine.qubits[qubit_index].lo\n",
    "\n",
    "# The QUA program #\n",
    "with program() as qubit_spec:\n",
    "    n = declare(int)  # Averaging index\n",
    "    df = declare(int)  # Resonator frequency\n",
    "    I = declare(fixed)\n",
    "    Q = declare(fixed)\n",
    "    I_st = declare_stream()\n",
    "    Q_st = declare_stream()\n",
    "    n_st = declare_stream()\n",
    "\n",
    "    # Adjust the flux line if needed\n",
    "    # set_dc_offset(\"flux_line\", \"single\", 0.0)\n",
    "    with for_(n, 0, n < n_avg, n + 1):\n",
    "        with for_(*from_array(df, freq_sweep)):\n",
    "            # Update the qubit frequency\n",
    "            update_frequency(machine.qubits[qubit_index].name, df + qb_if)\n",
    "            # Play a saturation pulse on the qubit\n",
    "#             play(\"pi\" * amp(1), machine.qubits[qubit_index].name, duration = t * u.ns)\n",
    "            play(\"pi\" * amp(1), machine.qubits[qubit_index].name)\n",
    "#             play(\"x180\" * amp(0.73), machine.qubits[qubit_index].name)\n",
    "            align(machine.qubits[qubit_index].name, machine.resonators[qubit_index].name)\n",
    "            # Measure the resonator\n",
    "            measure(\n",
    "                \"readout\",\n",
    "                machine.resonators[qubit_index].name,\n",
    "                None,\n",
    "                dual_demod.full(\"cos\", \"out1\", \"sin\", \"out2\", I),\n",
    "                dual_demod.full(\"minus_sin\", \"out1\", \"cos\", \"out2\", Q),\n",
    "            )\n",
    "            # Wait for the resonator to cooldown\n",
    "            wait(cooldown_time * u.ns, machine.resonators[qubit_index].name)\n",
    "            # Save data to the stream processing\n",
    "            save(I, I_st)\n",
    "            save(Q, Q_st)\n",
    "        save(n, n_st)\n",
    "\n",
    "    with stream_processing():\n",
    "        I_st.buffer(len(freq_sweep)).average().save(\"I\")\n",
    "        Q_st.buffer(len(freq_sweep)).average().save(\"Q\")\n",
    "        n_st.save(\"iteration\")\n",
    "\n",
    "#  Open Communication with the QOP  #\n",
    "# qmm = QuantumMachinesManager(machine.network.qop_ip, cluster_name=machine.network.cluster_name, octave=octave_config)\n",
    "# qmm = QuantumMachinesManager(machine.network.qop_ip, port = '9510', octave=octave_config, log_level = \"ERROR\")\n",
    "qmm = QuantumMachinesManager(machine.network.qop_ip, port = '9510', octave=octave_config)\n",
    "\n",
    "simulation = False\n",
    "\n",
    "if simulation:\n",
    "    simulation_config = SimulationConfig(\n",
    "        duration=8000, simulation_interface=LoopbackInterface([(\"con1\", 3, \"con1\", 1)])\n",
    "    )\n",
    "    job = qmm.simulate(config, qubit_spec, simulation_config)\n",
    "    job.get_simulated_samples().con1.plot()\n",
    "else:\n",
    "    qm = qmm.open_qm(config)\n",
    "    job = qm.execute(qubit_spec)\n",
    "    # Get results from QUA program\n",
    "    results = fetching_tool(job, data_list=[\"I\", \"Q\", \"iteration\"], mode=\"live\")\n",
    "    %matplotlib qt\n",
    "    # Live plotting\n",
    "    fig = plt.figure()\n",
    "    plt.rcParams['figure.figsize'] = [12, 8]\n",
    "    interrupt_on_close(fig, job)  # Interrupts the job when closing the figure\n",
    "    while results.is_processing():\n",
    "        # Fetch results\n",
    "        I, Q, iteration = results.fetch_all()\n",
    "        I = u.demod2volts(I, machine.resonators[qubit_index].readout_pulse_length)\n",
    "        Q = u.demod2volts(Q, machine.resonators[qubit_index].readout_pulse_length)\n",
    "        sig_amp = np.sqrt(I**2 + Q**2)\n",
    "        sig_phase = signal.detrend(np.unwrap(np.angle(I + 1j * Q)))\n",
    "        freqs = machine.qubits[qubit_index].f_01 + freq_sweep\n",
    "        # Progress bar\n",
    "        progress_counter(iteration, n_avg, start_time=results.get_start_time())\n",
    "        plt.cla()\n",
    "        plt.title(\"Qubit spectroscopy\")\n",
    "        plt.plot(freqs /u.MHz, sig_amp, \"b.\")\n",
    "        plt.xlabel(\"Frequency [MHz]\")\n",
    "        plt.ylabel(r\"$\\sqrt{I^2 + Q^2}$ [V]\")\n",
    "        plt.pause(0.01)\n",
    "            "
   ]
  },
  {
   "cell_type": "code",
   "execution_count": 71,
   "id": "efc125ed",
   "metadata": {},
   "outputs": [
    {
     "name": "stdout",
     "output_type": "stream",
     "text": [
      "IF offset to add to IF: 0.000000 MHz\n"
     ]
    },
    {
     "data": {
      "text/plain": [
       "<matplotlib.lines.Line2D at 0x2217a9ba130>"
      ]
     },
     "execution_count": 71,
     "metadata": {},
     "output_type": "execute_result"
    },
    {
     "data": {
      "image/png": "[encoded data removed]",
      "text/plain": [
       "<Figure size 800x400 with 1 Axes>"
      ]
     },
     "metadata": {},
     "output_type": "display_data"
    }
   ],
   "source": [
    "%matplotlib inline\n",
    "# Fetch results\n",
    "I, Q, iteration = results.fetch_all()\n",
    "# Convert I & Q to Volts\n",
    "I = u.demod2volts(I, machine.resonators[qubit_index].readout_pulse_length)\n",
    "Q = u.demod2volts(Q, machine.resonators[qubit_index].readout_pulse_length)\n",
    "sig_amp = np.sqrt(I**2 + Q**2)\n",
    "# detrend removes the linear increase of phase\n",
    "sig_phase = signal.detrend(np.unwrap(np.angle(I + 1j * Q)))\n",
    "idx = np.argmax(sig_amp) # find minimum\n",
    "print(f\"IF offset to add to IF: {freq_sweep[idx] / u.MHz:.6f} MHz\")\n",
    "\n",
    "plt.close('all')\n",
    "%matplotlib inline\n",
    "# 1D spectroscopy plot\n",
    "fig = plt.figure(figsize=[8, 4])\n",
    "plt.title('Qubit spectroscopy')\n",
    "plt.plot((machine.qubits[qubit_index].f_01 + freq_sweep) / u.MHz, sig_amp, \".\")\n",
    "plt.xlabel(\"Frequency [MHz]\")\n",
    "plt.ylabel(r\"$\\sqrt{I^2 + Q^2}$ [V]\")\n",
    "plt.axvline(x = (machine.qubits[qubit_index].f_01 + freq_sweep[idx]) / u.MHz)"
   ]
  },
  {
   "cell_type": "code",
   "execution_count": 57,
   "id": "55488943",
   "metadata": {},
   "outputs": [],
   "source": [
    "savemat(os.path.join(tPath, file_name), {\"ESR_freq\": machine.qubits[qubit_index].f_01 + freq_sweep, \"sig_amp\": sig_amp, \"sig_phase\": sig_phase, \"DC_flux\": DC_ss, \"ROI\": ROI, \"ROO\": ROO, \"freq_TWPA\": freq_TWPA, \"pwr_TWPA\": pwr_TWPA})\n",
    "machine._save(os.path.join(tPath, json_name), flat_data=False)"
   ]
  },
  {
   "cell_type": "code",
   "execution_count": 23,
   "id": "67898df7",
   "metadata": {},
   "outputs": [
    {
     "name": "stdout",
     "output_type": "stream",
     "text": [
      "Updated f_01 (df) [MHz]: 6383390843.648929 1.0298666489286423\n"
     ]
    },
    {
     "data": {
      "image/png": "[encoded data removed]",
      "text/plain": [
       "<Figure size 1400x600 with 1 Axes>"
      ]
     },
     "metadata": {},
     "output_type": "display_data"
    }
   ],
   "source": [
    "# fit the data\n",
    "freqs = machine.qubits[qubit_index].f_01 + freq_sweep\n",
    "try:\n",
    "    param, dp_cov=curve_fit(ESR_Shape,freqs,sig_amp,p0=[max(sig_amp)-min(sig_amp),8E6,freqs[np.argmax(sig_amp)],min(sig_amp)] )\n",
    "    d_ESR_freq = round(param[2] * 100)/100\n",
    "    print('Updated f_01 (df) [MHz]:', param[2], (param[2] - machine.qubits[qubit_index].f_01) / u.MHz)\n",
    "except:\n",
    "    pass\n",
    "\n",
    "# 1D spectroscopy plot\n",
    "fig = plt.figure(figsize=[14, 6])\n",
    "plt.plot(freqs / u.MHz, sig_amp, \"b.\")\n",
    "plt.plot(freqs / u.MHz, ESR_Shape(freqs, param[0],param[1],param[2],param[3]), 'r')\n",
    "\n",
    "plt.title(\"Qubit spectroscopy amplitude\")\n",
    "\n",
    "plt.xlabel(\"Frequency [MHz]\")\n",
    "plt.ylabel(r\"$\\sqrt{I^2 + Q^2}$ [V]\")\n",
    "plt.axvline(x=machine.qubits[qubit_index].f_01/u.MHz)\n",
    "plt.show()"
   ]
  },
  {
   "cell_type": "code",
   "execution_count": null,
   "id": "7cba4295",
   "metadata": {},
   "outputs": [],
   "source": [
    "# Fit to a double Lorentzian\n",
    "freqs = machine.qubits[qubit_index].f_01 + freq_sweep\n",
    "param, dp_cov=curve_fit(ESR_Shape_double,freqs,sig_amp,p0=[max(sig_amp)-min(sig_amp),8E6,freqs[np.argmax(sig_amp)],\n",
    "                                                        min(sig_amp),max(sig_amp)-min(sig_amp),8E6,freqs[np.argmax(sig_amp)]] )\n",
    "fig = plt.figure(figsize=[14, 6])\n",
    "plt.plot(freqs / u.MHz, sig_amp, \"b.\")\n",
    "plt.plot(freqs / u.MHz, ESR_Shape_double(freqs, param[0],param[1],param[2],param[3], param[4], param[5], param[6]), 'r')\n",
    "plt.show()\n",
    "plt.title(\"Qubit spectroscopy amplitude\")\n",
    "\n",
    "plt.xlabel(\"Frequency [MHz]\")\n",
    "plt.ylabel(r\"$\\sqrt{I^2 + Q^2}$ [V]\")\n",
    "print(\"First peak at \", param[2], \"\\n Second peak at \", param[6])"
   ]
  },
  {
   "cell_type": "code",
   "execution_count": null,
   "id": "22d855fc",
   "metadata": {},
   "outputs": [],
   "source": [
    "freqs[np.argmax(ESR_Shape(freqs, param[0],param[1],param[2],param[3]))]"
   ]
  },
  {
   "cell_type": "code",
   "execution_count": 56,
   "id": "6961844c",
   "metadata": {},
   "outputs": [],
   "source": [
    "machine.qubits[qubit_index].f_01 -=124.3E6\n",
    "# machine.qubits[qubit_index].pi_amp = 125E-3\n",
    "machine._save(\"quam_state.json\")"
   ]
  },
  {
   "cell_type": "markdown",
   "id": "62fb1120",
   "metadata": {},
   "source": [
    "## Power Rabi"
   ]
  },
  {
   "cell_type": "code",
   "execution_count": 74,
   "id": "2c6b7d9f",
   "metadata": {},
   "outputs": [
    {
     "name": "stdout",
     "output_type": "stream",
     "text": [
      "Start running ...\n",
      "2023-09-22 16:33:21,324 - qm - INFO     - Performing health check\n"
     ]
    },
    {
     "name": "stderr",
     "output_type": "stream",
     "text": [
      "INFO:qm.api.frontend_api:Performing health check\n"
     ]
    },
    {
     "name": "stdout",
     "output_type": "stream",
     "text": [
      "2023-09-22 16:33:21,338 - qm - INFO     - Health check passed\n"
     ]
    },
    {
     "name": "stderr",
     "output_type": "stream",
     "text": [
      "INFO:qm.api.frontend_api:Health check passed\n"
     ]
    },
    {
     "name": "stdout",
     "output_type": "stream",
     "text": [
      "2023-09-22 16:33:22,023 - qm - INFO     - Sending program to QOP for compilation\n"
     ]
    },
    {
     "name": "stderr",
     "output_type": "stream",
     "text": [
      "INFO:qm.api.frontend_api:Sending program to QOP for compilation\n"
     ]
    },
    {
     "name": "stdout",
     "output_type": "stream",
     "text": [
      "2023-09-22 16:33:22,228 - qm - INFO     - Executing program\n"
     ]
    },
    {
     "name": "stderr",
     "output_type": "stream",
     "text": [
      "INFO:qm.QuantumMachine:Executing program\n"
     ]
    },
    {
     "name": "stdout",
     "output_type": "stream",
     "text": [
      "Execution stopped by user!#################################  ] 96.0% (n=9601/10000) --> elapsed time: 18.54s\n",
      "Progress: [################################################  ] 96.8% (n=9680/10000) --> elapsed time: 18.98s\r"
     ]
    }
   ],
   "source": [
    "print(\"Start running ...\")\n",
    "\n",
    "now = datetime.datetime.now()\n",
    "month = now.strftime(\"%m\")\n",
    "day = now.strftime(\"%d\")\n",
    "hour = now.strftime(\"%H\")\n",
    "minute = now.strftime(\"%M\")\n",
    "\n",
    "exp_name = 'Rabi'\n",
    "qubit_name = 'UA_Q1'\n",
    "\n",
    "f_str = qubit_name + '_' + exp_name + '_' + month + day + '-' + hour + minute\n",
    "file_name= f_str+'.mat'\n",
    "json_name = f_str + '_state.json'\n",
    "\n",
    "# Set-up the machine and get the config #\n",
    "machine = QuAM(\"quam_state.json\")\n",
    "# machine.qubits[0].pi_amp=0.109\n",
    "# machine.qubits[0].pi_length=80\n",
    "config = build_config(machine)\n",
    "\n",
    "# The QUA program #\n",
    "n_avg = 10_000\n",
    "cooldown_time = 20_000 # ns, set in wait() function\n",
    "amps = np.arange(0.1, 1.99, 0.02)\n",
    "err_amp = 1  # Number of played qubit pulses for getting a better estimate of the pi amplitude\n",
    "qubit_index = 0\n",
    "flux_settle_time = 250  # Flux settle time for fast flux from OP\n",
    "t = 80 \n",
    "\n",
    "with program() as power_rabi:\n",
    "    n = declare(int)\n",
    "    n_st = declare_stream()\n",
    "    a = declare(fixed)\n",
    "    I = declare(fixed)\n",
    "    Q = declare(fixed)\n",
    "    I_st = declare_stream()\n",
    "    Q_st = declare_stream()\n",
    "\n",
    "    with for_(n, 0, n < n_avg, n + 1):\n",
    "        with for_(*from_array(a, amps)):\n",
    "            # Loop for error amplification (perform many qubit pulses)\n",
    "            for i in range(err_amp):\n",
    "#                 play(\"x180\" * amp(a), machine.qubits[qubit_index].name)\n",
    "#                 play(\"pi\" * amp(a), machine.qubits[qubit_index].name, duration = t * u.ns)\n",
    "                play(\"pi\" * amp(a), machine.qubits[qubit_index].name)\n",
    "            align(machine.qubits[qubit_index].name, machine.resonators[qubit_index].name)\n",
    "            measure(\n",
    "                \"readout\",\n",
    "                machine.resonators[qubit_index].name,\n",
    "                None,\n",
    "                dual_demod.full(\"cos\", \"out1\", \"sin\", \"out2\", I),\n",
    "                dual_demod.full(\"minus_sin\", \"out1\", \"cos\", \"out2\", Q),\n",
    "            )\n",
    "            save(I, I_st)\n",
    "            save(Q, Q_st)\n",
    "            wait(cooldown_time * u.ns, machine.resonators[qubit_index].name)\n",
    "        save(n, n_st)\n",
    "\n",
    "    with stream_processing():\n",
    "        I_st.buffer(len(amps)).average().save(\"I\")\n",
    "        Q_st.buffer(len(amps)).average().save(\"Q\")\n",
    "        n_st.save(\"iteration\")\n",
    "\n",
    "#  Open Communication with the QOP  #\n",
    "# qmm = QuantumMachinesManager(machine.network.qop_ip, cluster_name=machine.network.cluster_name, octave=octave_config)\n",
    "# qmm = QuantumMachinesManager(machine.network.qop_ip, port = '9510', octave=octave_config, log_level = \"ERROR\")\n",
    "qmm = QuantumMachinesManager(machine.network.qop_ip, port = '9510', octave=octave_config)\n",
    "\n",
    "simulate = False\n",
    "if simulate:\n",
    "    simulation_config = SimulationConfig(duration=1000)  # in clock cycles\n",
    "    job = qmm.simulate(config, power_rabi, simulation_config)\n",
    "    job.get_simulated_samples().con1.plot()\n",
    "else:\n",
    "    qm = qmm.open_qm(config)\n",
    "    job = qm.execute(power_rabi)\n",
    "    # Get results from QUA program\n",
    "    results = fetching_tool(job, data_list=[\"I\", \"Q\", \"iteration\"], mode=\"live\")\n",
    "    %matplotlib qt\n",
    "    # Live plotting\n",
    "    fig = plt.figure()\n",
    "    plt.rcParams['figure.figsize'] = [12, 8]\n",
    "    interrupt_on_close(fig, job)  # Interrupts the job when closing the figure\n",
    "    while results.is_processing():\n",
    "        # Fetch results\n",
    "        I, Q, iteration = results.fetch_all()\n",
    "        I = u.demod2volts(I, machine.resonators[qubit_index].readout_pulse_length)\n",
    "        Q = u.demod2volts(Q, machine.resonators[qubit_index].readout_pulse_length)\n",
    "        sig_amp = np.sqrt(I**2 + Q**2)\n",
    "        sig_phase = signal.detrend(np.unwrap(np.angle(I + 1j * Q)))\n",
    "        # Progress bar\n",
    "        progress_counter(iteration, n_avg, start_time=results.get_start_time())\n",
    "        plt.cla()\n",
    "        plt.title(\"Power Rabi\")\n",
    "        plt.plot(machine.qubits[qubit_index].pi_amp*amps, sig_amp, \"b.\")\n",
    "        plt.xlabel(\"Amplitude [V]\")\n",
    "        plt.ylabel(r\"$\\sqrt{I^2 + Q^2}$ [V]\")\n",
    "        plt.pause(0.01)\n",
    "            "
   ]
  },
  {
   "cell_type": "code",
   "execution_count": 61,
   "id": "f2f72b3f",
   "metadata": {},
   "outputs": [],
   "source": [
    "savemat(os.path.join(tPath, file_name), {\"Rabi_amp\": machine.qubits[qubit_index].pi_amp * amps, \"sig\": sig_amp, \"sig_phase\": sig_phase, \"DC_flux\": DC_ss, \"ROI\": ROI, \"ROO\": ROO, \"freq_TWPA\": freq_TWPA, \"pwr_TWPA\": pwr_TWPA})\n",
    "machine._save(os.path.join(tPath, json_name), flat_data=False)"
   ]
  },
  {
   "cell_type": "code",
   "execution_count": 75,
   "id": "87295ad8",
   "metadata": {},
   "outputs": [
    {
     "name": "stdout",
     "output_type": "stream",
     "text": [
      "Updated amp_pi [V]: 1.0383\n",
      "1.0400000000000003\n"
     ]
    }
   ],
   "source": [
    "# fit the data\n",
    "try:\n",
    "    param, dp_cov=curve_fit(Rabi_Shape,amps,sig_amp,p0=[(max(sig_amp)-min(sig_amp))/2,0.5,0,(max(sig_amp)+min(sig_amp))/2] )\n",
    "    amp_pi = round(((0.5-param[2]/2/np.pi)/param[1]) * 10000)/10000\n",
    "    print('Updated amp_pi [V]:', amp_pi)\n",
    "except:\n",
    "    pass\n",
    "\n",
    "# 1D spectroscopy plot\n",
    "fig = plt.figure(figsize=[14, 6])\n",
    "plt.plot(amps, sig_amp, \"b.\")\n",
    "plt.plot(amps, Rabi_Shape(amps, param[0],param[1],param[2],param[3]), 'r')\n",
    "plt.show()\n",
    "plt.title(\"Rabi pulse amplitude [V]\")\n",
    "\n",
    "plt.xlabel(\"Amplitude [a.u.]\")\n",
    "plt.ylabel(r\"$\\sqrt{I^2 + Q^2}$ [V]\")\n",
    "# plt.axvline(x=amp_pi)\n",
    "print(amps[np.argmax(Rabi_Shape(amps, param[0],param[1],param[2],param[3]))])"
   ]
  },
  {
   "cell_type": "code",
   "execution_count": 63,
   "id": "298b7e7e",
   "metadata": {},
   "outputs": [],
   "source": [
    "machine.qubits[qubit_index].pi_amp = 1.04*0.0235872\n",
    "# machine.qubits[qubit_index].pi_length = 180\n",
    "# machine.flux_lines[qubit_index].flux_pulse_length = 152\n",
    "# machine.flux_lines[qubit_index].flux_pulse_amp = 0.25\n",
    "\n",
    "machine._save(\"quam_state.json\", flat_data=False)"
   ]
  },
  {
   "cell_type": "markdown",
   "id": "593e7a63",
   "metadata": {},
   "source": [
    "## Time Rabi"
   ]
  },
  {
   "cell_type": "code",
   "execution_count": 72,
   "id": "5c733b3f",
   "metadata": {},
   "outputs": [
    {
     "name": "stdout",
     "output_type": "stream",
     "text": [
      "Start running ...\n",
      "2023-09-22 16:32:50,309 - qm - INFO     - Performing health check\n"
     ]
    },
    {
     "name": "stderr",
     "output_type": "stream",
     "text": [
      "INFO:qm.api.frontend_api:Performing health check\n"
     ]
    },
    {
     "name": "stdout",
     "output_type": "stream",
     "text": [
      "2023-09-22 16:32:50,320 - qm - INFO     - Health check passed\n"
     ]
    },
    {
     "name": "stderr",
     "output_type": "stream",
     "text": [
      "INFO:qm.api.frontend_api:Health check passed\n"
     ]
    },
    {
     "name": "stdout",
     "output_type": "stream",
     "text": [
      "2023-09-22 16:32:51,262 - qm - INFO     - Sending program to QOP for compilation\n"
     ]
    },
    {
     "name": "stderr",
     "output_type": "stream",
     "text": [
      "INFO:qm.api.frontend_api:Sending program to QOP for compilation\n"
     ]
    },
    {
     "name": "stdout",
     "output_type": "stream",
     "text": [
      "2023-09-22 16:32:51,492 - qm - INFO     - Executing program\n"
     ]
    },
    {
     "name": "stderr",
     "output_type": "stream",
     "text": [
      "INFO:qm.QuantumMachine:Executing program\n"
     ]
    },
    {
     "name": "stdout",
     "output_type": "stream",
     "text": [
      "Execution stopped by user!                                   ] 24.3% (n=2428/10000) --> elapsed time: 15.21s\n",
      "Progress: [############                                      ] 24.6% (n=2461/10000) --> elapsed time: 15.62s\r"
     ]
    }
   ],
   "source": [
    "print(\"Start running ...\")\n",
    "\n",
    "now = datetime.datetime.now()\n",
    "month = now.strftime(\"%m\")\n",
    "day = now.strftime(\"%d\")\n",
    "hour = now.strftime(\"%H\")\n",
    "minute = now.strftime(\"%M\")\n",
    "\n",
    "exp_name = 'Rabi_time'\n",
    "qubit_name = 'UA_Q1'\n",
    "\n",
    "f_str = qubit_name + '_' + exp_name + '_' + month + day + '-' + hour + minute\n",
    "file_name= f_str+'.mat'\n",
    "json_name = f_str + '_state.json'\n",
    "\n",
    "# Set-up the machine and get the config #\n",
    "machine = QuAM(\"quam_state.json\")\n",
    "# machine.qubits[0].pi_amp=0.109\n",
    "# machine.qubits[0].pi_length=80\n",
    "config = build_config(machine)\n",
    "\n",
    "# The QUA program #\n",
    "n_avg = 10_000\n",
    "cooldown_time = 20_000 # ns, set in wait() function\n",
    "\n",
    "taus = np.arange(1, 300 + 0.1, 1)  # in units of clock cyles\n",
    "taus = taus.astype(int)\n",
    "qubit_index = 0\n",
    "\n",
    "with program() as time_rabi:\n",
    "    n = declare(int)\n",
    "    n_st = declare_stream()\n",
    "    t = declare(int)\n",
    "    I = declare(fixed)\n",
    "    Q = declare(fixed)\n",
    "    I_st = declare_stream()\n",
    "    Q_st = declare_stream()\n",
    "    \n",
    "\n",
    "    with for_(n, 0, n < n_avg, n + 1):\n",
    "        with for_(*from_array(t, taus)):\n",
    "            play(\"pi\" * amp(1), machine.qubits[qubit_index].name, duration = t)\n",
    "#             play(\"x180\" * amp(0.73), machine.qubits[qubit_index].name, duration = t)\n",
    "            align(machine.qubits[qubit_index].name, machine.resonators[qubit_index].name)\n",
    "            measure(\n",
    "                \"readout\",\n",
    "                machine.resonators[qubit_index].name,\n",
    "                None,\n",
    "                dual_demod.full(\"cos\", \"out1\", \"sin\", \"out2\", I),\n",
    "                dual_demod.full(\"minus_sin\", \"out1\", \"cos\", \"out2\", Q),\n",
    "            )\n",
    "            save(I, I_st)\n",
    "            save(Q, Q_st)\n",
    "            wait(cooldown_time * u.ns, machine.resonators[qubit_index].name)\n",
    "        save(n, n_st)\n",
    "\n",
    "    with stream_processing():\n",
    "        I_st.buffer(len(taus)).average().save(\"I\")\n",
    "        Q_st.buffer(len(taus)).average().save(\"Q\")\n",
    "        n_st.save(\"iteration\")\n",
    "\n",
    "#  Open Communication with the QOP  #\n",
    "# qmm = QuantumMachinesManager(machine.network.qop_ip, cluster_name=machine.network.cluster_name, octave=octave_config)\n",
    "# qmm = QuantumMachinesManager(machine.network.qop_ip, port = '9510', octave=octave_config, log_level = \"ERROR\")\n",
    "qmm = QuantumMachinesManager(machine.network.qop_ip, port = '9510', octave=octave_config)\n",
    "\n",
    "simulate = False\n",
    "if simulate:\n",
    "    simulation_config = SimulationConfig(duration=1000)  # in clock cycles\n",
    "    job = qmm.simulate(config, time_rabi, simulation_config)\n",
    "    job.get_simulated_samples().con1.plot()\n",
    "else:\n",
    "    qm = qmm.open_qm(config)\n",
    "    job = qm.execute(time_rabi)\n",
    "    # Get results from QUA program\n",
    "    results = fetching_tool(job, data_list=[\"I\", \"Q\", \"iteration\"], mode=\"live\")\n",
    "    %matplotlib qt\n",
    "    # Live plotting\n",
    "    fig = plt.figure()\n",
    "    plt.rcParams['figure.figsize'] = [12, 8]\n",
    "    interrupt_on_close(fig, job)  # Interrupts the job when closing the figure\n",
    "    while results.is_processing():\n",
    "        # Fetch results\n",
    "        I, Q, iteration = results.fetch_all()\n",
    "        I = u.demod2volts(I, machine.resonators[qubit_index].readout_pulse_length)\n",
    "        Q = u.demod2volts(Q, machine.resonators[qubit_index].readout_pulse_length)\n",
    "        sig_amp = np.sqrt(I**2 + Q**2)\n",
    "        sig_phase = signal.detrend(np.unwrap(np.angle(I + 1j * Q)))\n",
    "        # Progress bar\n",
    "        progress_counter(iteration, n_avg, start_time=results.get_start_time())\n",
    "        plt.cla()\n",
    "        plt.title(\"Time Rabi\")\n",
    "        plt.plot(taus *4, sig_amp, \"b.\")\n",
    "        plt.xlabel(\"Tau [ns]\")\n",
    "        plt.ylabel(r\"$\\sqrt{I^2 + Q^2}$ [V]\")\n",
    "        plt.pause(0.01)"
   ]
  },
  {
   "cell_type": "code",
   "execution_count": 73,
   "id": "55a545c6",
   "metadata": {},
   "outputs": [],
   "source": [
    "# machine.qubits[qubit_index].pi_amp = 0.1092*0.2\n",
    "machine.qubits[qubit_index].pi_length = 96\n",
    "machine._save(\"quam_state.json\")"
   ]
  },
  {
   "cell_type": "code",
   "execution_count": 29,
   "id": "6701a31b",
   "metadata": {},
   "outputs": [],
   "source": [
    "savemat(os.path.join(tPath, file_name), {\"Rabi_time\": taus*4, \"sig\": sig_amp, \"sig_phase\": sig_phase, \"DC_flux\": DC_ss, \"ROI\": ROI, \"ROO\": ROO, \"freq_TWPA\": freq_TWPA, \"pwr_TWPA\": pwr_TWPA})\n",
    "machine._save(os.path.join(tPath, json_name), flat_data=False)"
   ]
  },
  {
   "cell_type": "markdown",
   "id": "65758d2f",
   "metadata": {},
   "source": [
    "## T1"
   ]
  },
  {
   "cell_type": "code",
   "execution_count": null,
   "id": "6fcccae3",
   "metadata": {},
   "outputs": [],
   "source": [
    "print(\"Start running ...\")\n",
    "\n",
    "now = datetime.datetime.now()\n",
    "month = now.strftime(\"%m\")\n",
    "day = now.strftime(\"%d\")\n",
    "hour = now.strftime(\"%H\")\n",
    "minute = now.strftime(\"%M\")\n",
    "\n",
    "exp_name = 'T1'\n",
    "qubit_name = 'UA_Q1'\n",
    "\n",
    "f_str = qubit_name + '_' + exp_name + '_' + month + day + '-' + hour + minute\n",
    "file_name= f_str+'.mat'\n",
    "json_name = f_str + '_state.json'\n",
    "\n",
    "machine = QuAM(\"quam_state.json\")\n",
    "config = build_config(machine)\n",
    "\n",
    "# The QUA program #\n",
    "tau_min = 100 # clock cycle\n",
    "tau_max = 3_000 # clock cycle\n",
    "d_tau = 50 # clock cycle\n",
    "tau_sweep = np.arange(tau_min, tau_max + 0.1, d_tau)  # + 0.1 to add t_max to taus\n",
    "tau_sweep = tau_sweep.astype(int)\n",
    "qubit_index = 0\n",
    "\n",
    "n_avg = 10000\n",
    "cooldown_time = 20_000 # ns\n",
    "\n",
    "with program() as T1:\n",
    "    n = declare(int)\n",
    "    n_st = declare_stream()\n",
    "    I = declare(fixed)\n",
    "    I_st = declare_stream()\n",
    "    Q = declare(fixed)\n",
    "    Q_st = declare_stream()\n",
    "    tau = declare(int)\n",
    "\n",
    "    with for_(n, 0, n < n_avg, n + 1):\n",
    "        with for_(*from_array(tau, tau_sweep)):\n",
    "            play(\"pi\", machine.qubits[qubit_index].name)\n",
    "            wait(tau, machine.qubits[qubit_index].name)\n",
    "            align(machine.qubits[qubit_index].name, machine.resonators[qubit_index].name)\n",
    "            measure(\n",
    "                \"readout\",\n",
    "                machine.resonators[qubit_index].name,\n",
    "                None,\n",
    "                dual_demod.full(\"rotated_cos\", \"out1\", \"rotated_sin\", \"out2\", I),\n",
    "                dual_demod.full(\"rotated_minus_sin\", \"out1\", \"rotated_cos\", \"out2\", Q),\n",
    "            )\n",
    "            save(I, I_st)\n",
    "            save(Q, Q_st)\n",
    "            wait(cooldown_time * u.ns, machine.resonators[qubit_index].name)\n",
    "        save(n, n_st)\n",
    "\n",
    "    with stream_processing():\n",
    "        I_st.buffer(len(tau_sweep)).average().save(\"I\")\n",
    "        Q_st.buffer(len(tau_sweep)).average().save(\"Q\")\n",
    "        n_st.save(\"iteration\")\n",
    "\n",
    "#  Open Communication with the QOP  #\n",
    "# qmm = QuantumMachinesManager(machine.network.qop_ip, cluster_name=machine.network.cluster_name, octave=octave_config)\n",
    "# qmm = QuantumMachinesManager(machine.network.qop_ip, port = '9510', octave=octave_config, log_level = \"ERROR\")\n",
    "qmm = QuantumMachinesManager(machine.network.qop_ip, port = '9510', octave=octave_config)\n",
    "\n",
    "# Simulate or execute #\n",
    "simulate = False\n",
    "if simulate:\n",
    "    simulation_config = SimulationConfig(duration=20_000)  # in clock cycles\n",
    "    job = qmm.simulate(config, T1, simulation_config)\n",
    "    job.get_simulated_samples().con1.plot()\n",
    "\n",
    "else:\n",
    "    print(datetime.datetime.now(),2)\n",
    "    qm = qmm.open_qm(config)\n",
    "    job = qm.execute(T1)\n",
    "    \n",
    "    # Get results from QUA program\n",
    "    results = fetching_tool(job, data_list=[\"I\", \"Q\", \"iteration\"], mode=\"live\")\n",
    "    %matplotlib qt\n",
    "    # Live plotting\n",
    "    fig = plt.figure()\n",
    "    plt.rcParams['figure.figsize'] = [12, 8]\n",
    "    interrupt_on_close(fig, job)  # Interrupts the job when closing the figure    while results.is_processing():\n",
    "    while results.is_processing():\n",
    "        # Fetch results\n",
    "        I, Q, iteration = results.fetch_all()\n",
    "        I = u.demod2volts(I, machine.resonators[qubit_index].readout_pulse_length)\n",
    "        Q = u.demod2volts(Q, machine.resonators[qubit_index].readout_pulse_length)\n",
    "        sig_amp = np.sqrt(I**2 + Q**2)\n",
    "        sig_phase = signal.detrend(np.unwrap(np.angle(I + 1j * Q)))\n",
    "        # Progress bar\n",
    "        progress_counter(iteration, n_avg, start_time=results.get_start_time())\n",
    "        plt.cla()\n",
    "        plt.title(\"T1\")\n",
    "        plt.plot(tau_sweep *4, sig_amp, \"b.\")\n",
    "        plt.xlabel(\"Tau [ns]\")\n",
    "        plt.ylabel(r\"$\\sqrt{I^2 + Q^2}$ [V]\")\n",
    "        plt.pause(0.01)"
   ]
  },
  {
   "cell_type": "code",
   "execution_count": null,
   "id": "c4b98d84",
   "metadata": {},
   "outputs": [],
   "source": [
    "savemat(os.path.join(tPath, file_name), {\"tau\": tau_sweep *4, \"sig_amp\": sig_amp, \"sig_phase\": sig_phase, \"DC_flux\": DC_ss, \"ROI\": ROI, \"ROO\": ROO, \"freq_TWPA\": freq_TWPA, \"pwr_TWPA\": pwr_TWPA})\n",
    "machine._save(os.path.join(tPath, json_name), flat_data=False)"
   ]
  },
  {
   "cell_type": "code",
   "execution_count": null,
   "id": "8abb567e",
   "metadata": {},
   "outputs": [],
   "source": [
    "try:\n",
    "    param, _ = curve_fit(exp_decay,tau_sweep *4,sig_amp,p0=[max(sig_amp)-min(sig_amp),4E3,min(sig_amp)] )\n",
    "    q_T1 = round(param[1])\n",
    "    print('Qubit T1 [us]:', q_T1 /u.us)\n",
    "except:\n",
    "    pass\n",
    "\n",
    "# 1D spectroscopy plot\n",
    "fig = plt.figure(figsize=[14, 6])\n",
    "plt.plot(tau_sweep *4 /u.us, sig_amp, \"b.\")\n",
    "plt.plot(tau_sweep *4 / u.us, exp_decay(tau_sweep *4, param[0],param[1],param[2]), 'r')\n",
    "plt.show()\n",
    "plt.title(\"Qubit T1\")\n",
    "plt.xlabel(\"tau [us]\")\n",
    "plt.ylabel(\"$\\sqrt{I^2 + Q^2}$ [V]\")"
   ]
  },
  {
   "cell_type": "code",
   "execution_count": null,
   "id": "dc85397b",
   "metadata": {},
   "outputs": [],
   "source": [
    "machine.qubits[qubit_index].T1 = q_T1\n",
    "machine._save(\"quam_state.json\", flat_data=False)"
   ]
  },
  {
   "cell_type": "markdown",
   "id": "3200c8f5",
   "metadata": {},
   "source": [
    "## Qubit tuning curve unoptimized"
   ]
  },
  {
   "cell_type": "code",
   "execution_count": 76,
   "id": "81d56c76",
   "metadata": {},
   "outputs": [
    {
     "name": "stdout",
     "output_type": "stream",
     "text": [
      "Start running ...\n",
      "2023-09-22 16:33:57,846 - qm - INFO     - Performing health check\n"
     ]
    },
    {
     "name": "stderr",
     "output_type": "stream",
     "text": [
      "INFO:qm.api.frontend_api:Performing health check\n"
     ]
    },
    {
     "name": "stdout",
     "output_type": "stream",
     "text": [
      "2023-09-22 16:33:57,860 - qm - INFO     - Health check passed\n"
     ]
    },
    {
     "name": "stderr",
     "output_type": "stream",
     "text": [
      "INFO:qm.api.frontend_api:Health check passed\n"
     ]
    },
    {
     "name": "stdout",
     "output_type": "stream",
     "text": [
      "2023-09-22 16:33:59,140 - qm - INFO     - Sending program to QOP for compilation\n"
     ]
    },
    {
     "name": "stderr",
     "output_type": "stream",
     "text": [
      "INFO:qm.api.frontend_api:Sending program to QOP for compilation\n"
     ]
    },
    {
     "name": "stdout",
     "output_type": "stream",
     "text": [
      "2023-09-22 16:33:59,396 - qm - INFO     - Executing program\n"
     ]
    },
    {
     "name": "stderr",
     "output_type": "stream",
     "text": [
      "INFO:qm.QuantumMachine:Executing program\n"
     ]
    },
    {
     "name": "stdout",
     "output_type": "stream",
     "text": [
      "Execution stopped by user!                                   ] 0.6% (n=29/5000) --> elapsed time: 12.03s\n",
      "Finished! [                                                  ] 0.6% (n=29/5000) --> elapsed time: 12.54s\n"
     ]
    }
   ],
   "source": [
    "# qubit tuning curve with no optimization (full frequency spectrum)\n",
    "\n",
    "print(\"Start running ...\")\n",
    "\n",
    "now = datetime.datetime.now()\n",
    "month = now.strftime(\"%m\")\n",
    "day = now.strftime(\"%d\")\n",
    "hour = now.strftime(\"%H\")\n",
    "minute = now.strftime(\"%M\")\n",
    "\n",
    "exp_name = 'qubit_spec_flux_unopt'\n",
    "qubit_name = 'UA_Q1'\n",
    "\n",
    "f_str = qubit_name + '_' + exp_name + '_' + month + day + '-' + hour + minute\n",
    "file_name= f_str+'.mat'\n",
    "json_name = f_str + '_state.json'\n",
    "\n",
    "\n",
    "# Set-up the machine and get the config #\n",
    "machine = QuAM(\"quam_state.json\")\n",
    "config = build_config(machine)\n",
    "\n",
    "# Program-specific variables #\n",
    "n_avg =5_000  # Number of averaging loops\n",
    "cooldown_time = 20_000  # Resonator cooldown time, convert to ns in the wait() function \n",
    "\n",
    "ff_sweep = np.arange(-0.8,0.8+0.1,0.02)\n",
    "q_freq_sweep = np.arange(-200e6, 40e6, 1e6)\n",
    "q_freq_sweep = q_freq_sweep.astype(int)\n",
    "flux_settle_time = 100\n",
    "z_duration = machine.qubits[qubit_index].pi_length + 40\n",
    "qb_if = machine.qubits[qubit_index].f_01 - machine.qubits[qubit_index].lo\n",
    "start_time = time.time()\n",
    "\n",
    "with program() as qubit_spec_2D_unopt:\n",
    "    n = declare(int)  # Averaging index\n",
    "    damp = declare(fixed)  # ff sweep index\n",
    "    df = declare(int)  # Resonator frequency\n",
    "    I = declare(fixed)\n",
    "    Q = declare(fixed)\n",
    "    I_st = declare_stream()\n",
    "    Q_st = declare_stream()\n",
    "    n_st = declare_stream()\n",
    "    \n",
    "    with for_(n, 0, n < n_avg, n + 1):\n",
    "        with for_(*from_array(damp, ff_sweep)):\n",
    "            with for_(*from_array(df, q_freq_sweep)):\n",
    "                update_frequency(machine.qubits[qubit_index].name, qb_if + df)\n",
    "                align()\n",
    "                play(\"const\" * amp(damp), machine.flux_lines[qubit_index].name, duration = z_duration * u.ns)\n",
    "                wait(5, machine.qubits[qubit_index].name)\n",
    "                play('pi',machine.qubits[qubit_index].name)\n",
    "                align(machine.qubits[qubit_index].name, machine.flux_lines[qubit_index].name,machine.resonators[qubit_index].name)\n",
    "                # Measure the resonator\n",
    "                measure(\n",
    "                    \"readout\",\n",
    "                    machine.resonators[qubit_index].name,\n",
    "                    None,\n",
    "                    dual_demod.full(\"cos\", \"out1\", \"sin\", \"out2\", I),\n",
    "                    dual_demod.full(\"minus_sin\", \"out1\", \"cos\", \"out2\", Q),\n",
    "                )\n",
    "                align()\n",
    "#                 play(\"const\" * amp((-1)*damp), machine.flux_lines[qubit_index].name, duration = z_duration * u.ns)\n",
    "                # Wait for the resonator to cooldown\n",
    "                wait(cooldown_time * u.ns, machine.resonators[qubit_index].name)\n",
    "                # Save data to the stream processing\n",
    "                save(I, I_st)\n",
    "                save(Q, Q_st)\n",
    "        save(n, n_st)\n",
    "\n",
    "    with stream_processing():\n",
    "        I_st.buffer(len(q_freq_sweep)).buffer(len(ff_sweep)).average().save(\"I\")\n",
    "        Q_st.buffer(len(q_freq_sweep)).buffer(len(ff_sweep)).average().save(\"Q\")\n",
    "        n_st.save(\"iteration\")\n",
    "\n",
    "    # to save all the frequencies used in the scan\n",
    "    q_freq_sweep_2D, ff_amp_sweep_2D = np.meshgrid(q_freq_sweep+ machine.qubits[qubit_index].f_01, ff_sweep * machine.flux_lines[qubit_index].flux_pulse_amp)\n",
    "\n",
    "qmm = QuantumMachinesManager(machine.network.qop_ip, port = '9510', octave=octave_config)\n",
    "\n",
    "simulate = False\n",
    "if simulate:\n",
    "    simulation_config = SimulationConfig(\n",
    "        duration=8000, simulation_interface=LoopbackInterface([(\"con1\", 3, \"con1\", 1)])\n",
    "    )\n",
    "    job = qmm.simulate(config, qubit_spec_2D_unopt, simulation_config)\n",
    "    job.get_simulated_samples().con1.plot()\n",
    "else:\n",
    "    qm = qmm.open_qm(config)\n",
    "    job = qm.execute(qubit_spec_2D_unopt)\n",
    "    # Creates results handles to fetch the data\n",
    "    results = fetching_tool(job, data_list=[\"I\", \"Q\", \"iteration\"], mode=\"live\")\n",
    "    # Live plotting\n",
    "    fig = plt.figure()\n",
    "    interrupt_on_close(fig, job)  #  Interrupts the job when closing the figure\n",
    "    while results.is_processing():\n",
    "        # Fetch results\n",
    "        I, Q, iteration = results.fetch_all()\n",
    "        progress_counter(iteration, n_avg, start_time=results.get_start_time())\n",
    "        # Convert results into Volts\n",
    "        sigs = u.demod2volts(I + 1j * Q, machine.resonators[qubit_index].readout_pulse_length)\n",
    "        sig_amp = np.abs(sigs)  # Amplitude\n",
    "        sig_phase = np.angle(sigs)  # Phase\n",
    "        # Plot results\n",
    "        progress_counter(iteration, n_avg, start_time=results.get_start_time())\n",
    "        plt.cla()\n",
    "        plt.title(\"Qubit spectroscopy amplitude\")\n",
    "        plt.pcolormesh(ff_amp_sweep_2D, q_freq_sweep_2D.astype(float), sig_amp ,cmap=\"seismic\")\n",
    "        plt.ylabel(\"Qubit frequency [MHz]\")\n",
    "        plt.xlabel(\"Flux level [V]\")\n",
    "        plt.pause(0.1)\n",
    "        plt.tight_layout() \n",
    "print(\"Finished!\")    \n",
    "  \n",
    "\n",
    "\n",
    "   "
   ]
  },
  {
   "cell_type": "code",
   "execution_count": 77,
   "id": "42a99a2d",
   "metadata": {},
   "outputs": [
    {
     "name": "stdout",
     "output_type": "stream",
     "text": [
      "0.0029423072037295063\n"
     ]
    }
   ],
   "source": [
    "# plot and fit\n",
    "plt.figure()\n",
    "plt.ylabel(\"Qubit frequency [MHz]\")\n",
    "plt.xlabel(\"Flux level [V]\")\n",
    "plt.pcolormesh(ff_amp_sweep_2D, q_freq_sweep_2D.astype(float)/u.MHz, sig_amp ,cmap=\"seismic\")\n",
    "plt.colorbar()\n",
    "\n",
    "# Determine minima of signal to use as ydata for fitting\n",
    "maximas = []\n",
    "flux = ff_sweep * machine.flux_lines[qubit_index].flux_pulse_amp\n",
    "\n",
    "# Remove edges on flux to avoid having data from top curve\n",
    "bound = 0.06\n",
    "flux_int = np.array([i for i in flux if ((i>= -bound) & (i<= bound))])\n",
    "flux_int_idx = np.array([i for i,v in enumerate((flux>= -bound) & (flux<= bound))  if v])\n",
    "\n",
    "for i in (flux_int_idx):\n",
    "    maximas.append(q_freq_sweep_2D[i][np.argmax(sig_amp[i])])\n",
    "\n",
    "## Plot minima of signal\n",
    "maximas= np.array(maximas)\n",
    "plt.scatter(flux_int.T, maximas/1e6)\n",
    "\n",
    "initial_guess = [1, 0, 6405]  # Initial guess for the parameters\n",
    "fit_params, _ = curve_fit(poly2, flux_int, maximas/1e6, p0=initial_guess)\n",
    "\n",
    "fitted_curve = poly2(flux_int, *fit_params)\n",
    "# Plot fitted data\n",
    "plt.plot(flux_int, fitted_curve, label='Fitted Cosine', color='orange')\n",
    "fitted_curve = fitted_curve*u.kHz\n",
    "fitted_curve = fitted_curve.astype(int)\n",
    "\n",
    "# Sweet spot from fit\n",
    "SS_cal = -fit_params[1]/(2*fit_params[0])\n",
    "print(SS_cal)"
   ]
  },
  {
   "cell_type": "code",
   "execution_count": 78,
   "id": "ea96941d",
   "metadata": {},
   "outputs": [],
   "source": [
    "savemat(os.path.join(tPath, file_name), {\"q_freq\": q_freq_sweep_2D, \"sig_amp\": sig_amp, \"sig_phase\": sig_phase, \"fast_flux_sweep\": ff_amp_sweep_2D, \"ROI\": ROI, \"ROO\": ROO, \"freq_TWPA\": freq_TWPA, \"pwr_TWPA\": pwr_TWPA})\n",
    "machine._save(os.path.join(tPath, json_name), flat_data=False)"
   ]
  },
  {
   "cell_type": "markdown",
   "id": "36bea9d1",
   "metadata": {},
   "source": [
    "## Tuning curve using Hamiltonian "
   ]
  },
  {
   "cell_type": "code",
   "execution_count": 79,
   "id": "1e80f4fc",
   "metadata": {},
   "outputs": [
    {
     "name": "stdout",
     "output_type": "stream",
     "text": [
      "Start running ...\n",
      "2023-09-22 16:34:30,098 - qm - INFO     - Performing health check\n"
     ]
    },
    {
     "name": "stderr",
     "output_type": "stream",
     "text": [
      "INFO:qm.api.frontend_api:Performing health check\n"
     ]
    },
    {
     "name": "stdout",
     "output_type": "stream",
     "text": [
      "2023-09-22 16:34:30,107 - qm - INFO     - Health check passed\n"
     ]
    },
    {
     "name": "stderr",
     "output_type": "stream",
     "text": [
      "INFO:qm.api.frontend_api:Health check passed\n"
     ]
    },
    {
     "name": "stdout",
     "output_type": "stream",
     "text": [
      "2023-09-22 16:34:30,820 - qm - INFO     - Sending program to QOP for compilation\n"
     ]
    },
    {
     "name": "stderr",
     "output_type": "stream",
     "text": [
      "INFO:qm.api.frontend_api:Sending program to QOP for compilation\n"
     ]
    },
    {
     "name": "stdout",
     "output_type": "stream",
     "text": [
      "2023-09-22 16:34:31,136 - qm - INFO     - Executing program\n"
     ]
    },
    {
     "name": "stderr",
     "output_type": "stream",
     "text": [
      "INFO:qm.QuantumMachine:Executing program\n"
     ]
    },
    {
     "name": "stdout",
     "output_type": "stream",
     "text": [
      "Execution stopped by user!                                   ] 23.3% (n=233/1000) --> elapsed time: 38.37s\n",
      "Finished! [###########                                       ] 23.5% (n=235/1000) --> elapsed time: 39.05s\n"
     ]
    }
   ],
   "source": [
    "## Working tuning curve using freq from Hamiltonian\n",
    "\n",
    "print(\"Start running ...\")\n",
    "\n",
    "now = datetime.datetime.now()\n",
    "month = now.strftime(\"%m\")\n",
    "day = now.strftime(\"%d\")\n",
    "hour = now.strftime(\"%H\")\n",
    "minute = now.strftime(\"%M\")\n",
    "\n",
    "exp_name = 'qubit_spec_flux_sweep_ham'\n",
    "qubit_name = 'UA_Q1'\n",
    "\n",
    "f_str = qubit_name + '_' + exp_name + '_' + month + day + '-' + hour + minute\n",
    "file_name= f_str+'.mat'\n",
    "json_name = f_str + '_state.json'\n",
    "\n",
    "# Set-up the machine and get the config #\n",
    "machine = QuAM(\"quam_state.json\")\n",
    "config = build_config(machine)\n",
    "\n",
    "# Program-specific variables #\n",
    "n_avg = 1_000  # Number of averaging loops\n",
    "qubit_index = 0 \n",
    "cooldown_time = 10_000  # Resonator cooldown time, convert to ns in the wait() function \n",
    "\n",
    "ff_amp_sweep = np.arange(-0.75,0.75+1E-5,0.02)\n",
    "freq_est_diff = (machine.qubits[qubit_index].f_01-1E6*ham([SS], 2, *popt))[0] / 1e3 # in kHz\n",
    "q_freq_est = ham(machine.flux_lines[qubit_index].flux_pulse_amp * ff_amp_sweep+SS, 2, *popt) * 1e3 + freq_est_diff # in kHz\n",
    "q_freq_est = q_freq_est.astype(int) # in kHz\n",
    "\n",
    "q_freq_sweep = np.arange(-100, 100, 1) # this gets multiplied by 1e6 inside the loop\n",
    "z_duration = machine.qubits[qubit_index].pi_length + 40\n",
    "lo = machine.qubits[qubit_index].lo/1e3\n",
    "\n",
    "with program() as qubit_spec_2D_ham:\n",
    "    n = declare(int)  # Averaging index\n",
    "    df = declare(int)  # Qubit sweep\n",
    "    q_freq_est_i = declare(int)  # Estimated qubit frequency\n",
    "    damp = declare(fixed)  # Z amplitude sweep\n",
    "    I = declare(fixed)\n",
    "    Q = declare(fixed)\n",
    "    I_st = declare_stream()\n",
    "    Q_st = declare_stream()\n",
    "    n_st = declare_stream()\n",
    "    qb_if = declare(int)\n",
    "    \n",
    "    with for_(n, 0, n < n_avg, n + 1):\n",
    "        with for_each_((damp,q_freq_est_i),(ff_amp_sweep,q_freq_est)):\n",
    "            assign(qb_if, (q_freq_est_i - lo)*1e3)\n",
    "\n",
    "            with for_(*from_array(df,q_freq_sweep)):\n",
    "                update_frequency(machine.qubits[qubit_index].name, qb_if + df * u.MHz)\n",
    "                play(\"const\" * amp(damp), machine.flux_lines[qubit_index].name, duration = z_duration * u.ns)\n",
    "                wait(5, machine.qubits[qubit_index].name)\n",
    "                play('pi',machine.qubits[qubit_index].name)\n",
    "                align(machine.qubits[qubit_index].name, machine.flux_lines[qubit_index].name,machine.resonators[qubit_index].name)\n",
    "                # Measure the resonator\n",
    "                measure(\n",
    "                    \"readout\",\n",
    "                    machine.resonators[qubit_index].name,\n",
    "                    None,\n",
    "                    dual_demod.full(\"cos\", \"out1\", \"sin\", \"out2\", I),\n",
    "                    dual_demod.full(\"minus_sin\", \"out1\", \"cos\", \"out2\", Q),\n",
    "                )\n",
    "                align()\n",
    "                play(\"const\" * amp((-1)*damp), machine.flux_lines[qubit_index].name, duration = z_duration * u.ns)\n",
    "                # Wait for the resonator to cooldown\n",
    "                wait(cooldown_time * u.ns, machine.resonators[qubit_index].name)\n",
    "                # Save data to the stream processing\n",
    "                save(I, I_st)\n",
    "                save(Q, Q_st)\n",
    "        save(n, n_st)\n",
    "\n",
    "    with stream_processing():\n",
    "        I_st.buffer(len(q_freq_sweep)).buffer(len(ff_amp_sweep)).average().save(\"I\")\n",
    "        Q_st.buffer(len(q_freq_sweep)).buffer(len(ff_amp_sweep)).average().save(\"Q\")\n",
    "        n_st.save(\"iteration\")\n",
    "\n",
    "    # to save all the frequencies used in the scan\n",
    "    q_freq_sweep_2D, q_freq_est_2D = np.meshgrid(q_freq_sweep*1e6, q_freq_est.astype(float) * 1e3)\n",
    "    _, ff_amp_sweep_2D = np.meshgrid(q_freq_sweep*1e6, ff_amp_sweep * machine.flux_lines[qubit_index].flux_pulse_amp)\n",
    "    q_freq_sweep_2D = q_freq_est_2D + q_freq_sweep_2D\n",
    "\n",
    "qmm = QuantumMachinesManager(machine.network.qop_ip, port = '9510', octave=octave_config)\n",
    "\n",
    "simulate = False\n",
    "if simulate:\n",
    "    %matplotlib qt\n",
    "    job = qmm.simulate(config, qubit_spec_2D_ham, SimulationConfig(4000))\n",
    "    job.get_simulated_samples().con1.plot()\n",
    "else:\n",
    "    qm = qmm.open_qm(config)\n",
    "    job = qm.execute(qubit_spec_2D_ham)\n",
    "    # Creates results handles to fetch the data\n",
    "    results = fetching_tool(job, data_list=[\"I\", \"Q\", \"iteration\"], mode=\"live\")\n",
    "    # Live plotting\n",
    "    fig = plt.figure()\n",
    "    interrupt_on_close(fig, job)  #  Interrupts the job when closing the figure\n",
    "    while results.is_processing():\n",
    "        # Fetch results\n",
    "        I, Q, iteration = results.fetch_all()\n",
    "        progress_counter(iteration, n_avg, start_time=results.get_start_time())\n",
    "        # Convert results into Volts\n",
    "        sigs = u.demod2volts(I + 1j * Q, machine.resonators[qubit_index].readout_pulse_length)\n",
    "        sig_amp = np.abs(sigs)  # Amplitude\n",
    "        sig_phase = np.angle(sigs)  # Phase\n",
    "        # Plot results\n",
    "        progress_counter(iteration, n_avg, start_time=results.get_start_time())\n",
    "        plt.cla()\n",
    "        plt.title(\"Qubit spectroscopy amplitude\")\n",
    "        plt.pcolormesh(ff_amp_sweep_2D, q_freq_sweep_2D.astype(float), sig_amp ,cmap=\"seismic\")\n",
    "        plt.ylabel(\"Qubit frequency [MHz]\")\n",
    "        plt.xlabel(\"Flux level [V]\")\n",
    "        plt.pause(0.1)\n",
    "        plt.tight_layout() \n",
    "print(\"Finished!\")\n",
    "\n",
    "\n"
   ]
  },
  {
   "cell_type": "code",
   "execution_count": 80,
   "id": "0d2030c0",
   "metadata": {},
   "outputs": [
    {
     "name": "stdout",
     "output_type": "stream",
     "text": [
      "0.00366286780440882\n"
     ]
    }
   ],
   "source": [
    "# plot and fit\n",
    "plt.figure()\n",
    "plt.ylabel(\"Qubit frequency [MHz]\")\n",
    "plt.xlabel(\"Flux level [V]\")\n",
    "plt.pcolormesh(ff_amp_sweep_2D, q_freq_sweep_2D.astype(float)/u.MHz, sig_amp ,cmap=\"seismic\")\n",
    "plt.colorbar()\n",
    "\n",
    "# Determine minima of signal to use as ydata for fitting\n",
    "maximas = []\n",
    "flux = ff_amp_sweep * machine.flux_lines[qubit_index].flux_pulse_amp\n",
    "\n",
    "# Remove edges on flux to avoid having data from top curve\n",
    "bound = 0.05\n",
    "flux_int = np.array([i for i in flux if ((i>= -bound) & (i<= bound))])\n",
    "flux_int_idx = np.array([i for i,v in enumerate((flux>= -bound) & (flux<= bound))  if v])\n",
    "\n",
    "for i in (flux_int_idx):\n",
    "    maximas.append(q_freq_sweep_2D[i][np.argmax(sig_amp[i])])\n",
    "\n",
    "## Plot minima of signal\n",
    "maximas= np.array(maximas)\n",
    "plt.scatter(flux_int.T, maximas/1e6)\n",
    "\n",
    "initial_guess = [1, 0, 6250]  # Initial guess for the parameters\n",
    "fit_params, _ = curve_fit(poly2, flux_int, maximas/1e6, p0=initial_guess)\n",
    "\n",
    "fitted_curve = poly2(flux_int, *fit_params)\n",
    "# Plot fitted data\n",
    "plt.plot(flux_int, fitted_curve, label='Fitted Cosine', color='orange')\n",
    "fitted_curve = fitted_curve*u.kHz\n",
    "fitted_curve = fitted_curve.astype(int)\n",
    "\n",
    "# Sweet spot from fit\n",
    "SS_cal = -fit_params[1]/(2*fit_params[0])\n",
    "print(SS_cal)"
   ]
  },
  {
   "cell_type": "code",
   "execution_count": 81,
   "id": "42a71d59",
   "metadata": {},
   "outputs": [],
   "source": [
    "# Save data \n",
    "savemat(os.path.join(tPath, file_name), {\"qubit_freq\": q_freq_sweep_2D, \"sig_amp\": sig_amp, \"sig_phase\": sig_phase, \"ff_sweep\": ff_amp_sweep_2D, \"ROI\": ROI, \"ROO\": ROO, \"freq_TWPA\": freq_TWPA, \"pwr_TWPA\": pwr_TWPA})\n",
    "machine._save(os.path.join(tPath, json_name), flat_data=False)"
   ]
  },
  {
   "cell_type": "code",
   "execution_count": null,
   "id": "9de28a20",
   "metadata": {},
   "outputs": [],
   "source": [
    "# load data from file\n",
    "file_name = 'UA_Q1_qubit_spec_flux_sweep_0907-1453'\n",
    "data = loadmat(os.path.join(r\"Z:\\LabberData_DF5\\QM_Data_DF5\\2023\\09\\Data_0907\", file_name))\n",
    "freq = data['qubit_freq']\n",
    "sig_amp = data['sig_amp']\n",
    "ff_sweep = data['ff_sweep']\n",
    "\n",
    "plt.figure()\n",
    "plt.ylabel(\"Qubit frequency [MHz]\")\n",
    "plt.xlabel(\"Flux level [V]\")\n",
    "plt.pcolormesh(ff_sweep, freq.astype(float)/1e6, sig_amp ,cmap=\"seismic\")\n",
    "plt.colorbar()\n",
    "\n",
    "# Determine minima of signal to use as ydata for fitting\n",
    "maximas = []\n",
    "flux = ff_sweep\n",
    "\n",
    "# Remove edges on flux to avoid having data from top curve\n",
    "flux_int = np.array([i for i in flux if np.any((i>= -0.08) & (i<= 0.08))])\n",
    "flux_int_idx = np.array([i for i,v in enumerate((flux>= -0.08) & (flux<= 0.08))  if np.any(v)])\n",
    "\n",
    "for i in (flux_int_idx):\n",
    "    maximas.append(freq[i][np.argmax(sig_amp[i])])\n",
    "\n",
    "## Plot minima of signal\n",
    "maximas = np.array(maximas)\n",
    "plt.scatter(flux_int.T[0], maximas/1e6)\n",
    "\n",
    "initial_guess = [1, 0, 6405]  # Initial guess for the parameters\n",
    "fit_params, _ = curve_fit(poly2, flux_int.T[0], maximas/1e6, p0=initial_guess)\n",
    "\n",
    "fitted_curve = poly2(flux_int.T[0], *fit_params)\n",
    "# Plot fitted data\n",
    "plt.plot(flux_int.T[0], fitted_curve, label='Fitted Cosine', color='orange')\n",
    "fitted_curve = fitted_curve*u.kHz\n",
    "fitted_curve = fitted_curve.astype(int)\n",
    "\n",
    "# Sweet spot from fit\n",
    "SS_cal = -fit_params[1]/(2*fit_params[0])\n",
    "print(SS_cal)"
   ]
  },
  {
   "cell_type": "markdown",
   "id": "c0483cf0",
   "metadata": {},
   "source": [
    "## Tuning curve using fit to second order poly"
   ]
  },
  {
   "cell_type": "code",
   "execution_count": 83,
   "id": "1b73fa68",
   "metadata": {},
   "outputs": [
    {
     "name": "stdout",
     "output_type": "stream",
     "text": [
      "Start running ...\n",
      "2023-09-22 16:36:02,669 - qm - INFO     - Performing health check\n"
     ]
    },
    {
     "name": "stderr",
     "output_type": "stream",
     "text": [
      "INFO:qm.api.frontend_api:Performing health check\n"
     ]
    },
    {
     "name": "stdout",
     "output_type": "stream",
     "text": [
      "2023-09-22 16:36:02,679 - qm - INFO     - Health check passed\n"
     ]
    },
    {
     "name": "stderr",
     "output_type": "stream",
     "text": [
      "INFO:qm.api.frontend_api:Health check passed\n"
     ]
    },
    {
     "name": "stdout",
     "output_type": "stream",
     "text": [
      "2023-09-22 16:36:03,485 - qm - INFO     - Sending program to QOP for compilation\n"
     ]
    },
    {
     "name": "stderr",
     "output_type": "stream",
     "text": [
      "INFO:qm.api.frontend_api:Sending program to QOP for compilation\n"
     ]
    },
    {
     "name": "stdout",
     "output_type": "stream",
     "text": [
      "2023-09-22 16:36:03,792 - qm - INFO     - Executing program\n"
     ]
    },
    {
     "name": "stderr",
     "output_type": "stream",
     "text": [
      "INFO:qm.QuantumMachine:Executing program\n"
     ]
    },
    {
     "name": "stdout",
     "output_type": "stream",
     "text": [
      "Execution stopped by user!########                           ] 46.8% (n=468/1000) --> elapsed time: 30.80s\n",
      "Finished! [#######################                           ] 47.3% (n=473/1000) --> elapsed time: 31.52s\n"
     ]
    }
   ],
   "source": [
    "# Takes the frequency from the fitted data to the second order poly\n",
    "\n",
    "print(\"Start running ...\")\n",
    "\n",
    "now = datetime.datetime.now()\n",
    "month = now.strftime(\"%m\")\n",
    "day = now.strftime(\"%d\")\n",
    "hour = now.strftime(\"%H\")\n",
    "minute = now.strftime(\"%M\")\n",
    "\n",
    "exp_name = 'qubit_spec_flux_sweep_2poly'\n",
    "qubit_name = 'UA_Q1'\n",
    "\n",
    "f_str = qubit_name + '_' + exp_name + '_' + month + day + '-' + hour + minute\n",
    "file_name= f_str+'.mat'\n",
    "json_name = f_str + '_state.json'\n",
    "\n",
    "# Set-up the machine and get the config #\n",
    "machine = QuAM(\"quam_state.json\")\n",
    "config = build_config(machine)\n",
    "\n",
    "# Program-specific variables #\n",
    "n_avg = 1_000  # Number of averaging loops\n",
    "qubit_index = 0 \n",
    "cooldown_time = 10_000  # Resonator cooldown time, convert to ns in the wait() function \n",
    "\n",
    "ff_amp_sweep = np.arange(-0.5,0.5+1E-5,0.01)\n",
    "qubit_freq_fit = poly2(ff_amp_sweep* machine.flux_lines[qubit_index].flux_pulse_amp, *fit_params)\n",
    "qubit_freq_fit = qubit_freq_fit*u.kHz\n",
    "q_freq_est = qubit_freq_fit.astype(int)\n",
    "lo = machine.qubits[qubit_index].lo/1e3\n",
    "q_freq_sweep = np.arange(-30, 30, 1)\n",
    "z_duration = machine.qubits[qubit_index].pi_length + 40\n",
    "\n",
    "with program() as qubit_spec_2D_2poly:\n",
    "    n = declare(int)  # Averaging index\n",
    "    df = declare(int)  # Qubit sweep\n",
    "    q_freq_est_i = declare(int)  # Estimated qubit frequency\n",
    "    damp = declare(fixed)  # Z amplitude sweep\n",
    "    I = declare(fixed)\n",
    "    Q = declare(fixed)\n",
    "    I_st = declare_stream()\n",
    "    Q_st = declare_stream()\n",
    "    n_st = declare_stream()\n",
    "    qb_if = declare(int)\n",
    "    \n",
    "    with for_(n, 0, n < n_avg, n + 1):\n",
    "        with for_each_((damp,q_freq_est_i),(ff_amp_sweep,q_freq_est)):\n",
    "            assign(qb_if, (q_freq_est_i - lo)*1e3)\n",
    "            with for_(*from_array(df,q_freq_sweep)):\n",
    "                update_frequency(machine.qubits[qubit_index].name, qb_if + df*1e6)\n",
    "                play(\"const\" * amp(damp), machine.flux_lines[qubit_index].name, duration = z_duration * u.ns)\n",
    "                wait(5, machine.qubits[qubit_index].name)\n",
    "                play('pi',machine.qubits[qubit_index].name)\n",
    "                align(machine.qubits[qubit_index].name, machine.flux_lines[qubit_index].name,machine.resonators[qubit_index].name)\n",
    "                # Measure the resonator\n",
    "                measure(\n",
    "                    \"readout\",\n",
    "                    machine.resonators[qubit_index].name,\n",
    "                    None,\n",
    "                    dual_demod.full(\"cos\", \"out1\", \"sin\", \"out2\", I),\n",
    "                    dual_demod.full(\"minus_sin\", \"out1\", \"cos\", \"out2\", Q),\n",
    "                )\n",
    "                align()\n",
    "                play(\"const\" * amp((-1)*damp), machine.flux_lines[qubit_index].name, duration = z_duration * u.ns)\n",
    "                # Wait for the resonator to cooldown\n",
    "                wait(cooldown_time * u.ns, machine.resonators[qubit_index].name)\n",
    "                # Save data to the stream processing\n",
    "                save(I, I_st)\n",
    "                save(Q, Q_st)\n",
    "        save(n, n_st)\n",
    "\n",
    "    with stream_processing():\n",
    "        I_st.buffer(len(q_freq_sweep)).buffer(len(ff_amp_sweep)).average().save(\"I\")\n",
    "        Q_st.buffer(len(q_freq_sweep)).buffer(len(ff_amp_sweep)).average().save(\"Q\")\n",
    "        n_st.save(\"iteration\")\n",
    "\n",
    "    # to save all the frequencies used in the scan\n",
    "    q_freq_sweep_2D, q_freq_est_2D = np.meshgrid(q_freq_sweep *1e6, q_freq_est.astype(float) * 1e3)\n",
    "    _, ff_amp_sweep_2D = np.meshgrid(q_freq_sweep*1e6, ff_amp_sweep * machine.flux_lines[qubit_index].flux_pulse_amp)\n",
    "    q_freq_sweep_2D = q_freq_est_2D + q_freq_sweep_2D\n",
    "\n",
    "###############\n",
    "# Run Program #\n",
    "###############\n",
    "#  Open Communication with the QOP  #\n",
    "# qmm = QuantumMachinesManager(machine.network.qop_ip, cluster_name=machine.network.cluster_name, octave=octave_config)\n",
    "# qmm = QuantumMachinesManager(machine.network.qop_ip, port = '9510', octave=octave_config, log_level = \"ERROR\")\n",
    "qmm = QuantumMachinesManager(machine.network.qop_ip, port = '9510', octave=octave_config)\n",
    "\n",
    "simulate = False\n",
    "if simulate:\n",
    "    %matplotlib qt\n",
    "    job = qmm.simulate(config, qubit_spec_2D_2poly, SimulationConfig(4000))\n",
    "    job.get_simulated_samples().con1.plot()\n",
    "else:\n",
    "    qm = qmm.open_qm(config)\n",
    "    job = qm.execute(qubit_spec_2D_2poly)\n",
    "    # Creates results handles to fetch the data\n",
    "    results = fetching_tool(job, data_list=[\"I\", \"Q\", \"iteration\"], mode=\"live\")\n",
    "    # Live plotting\n",
    "    fig = plt.figure()\n",
    "    interrupt_on_close(fig, job)  #  Interrupts the job when closing the figure\n",
    "    while results.is_processing():\n",
    "        # Fetch results\n",
    "        I, Q, iteration = results.fetch_all()\n",
    "        progress_counter(iteration, n_avg, start_time=results.get_start_time())\n",
    "        # Convert results into Volts\n",
    "        sigs = u.demod2volts(I + 1j * Q, machine.resonators[qubit_index].readout_pulse_length)\n",
    "        sig_amp = np.abs(sigs)  # Amplitude\n",
    "        sig_phase = np.angle(sigs)  # Phase\n",
    "        # Plot results\n",
    "        plt.cla()\n",
    "        plt.title(\"Qubit spectroscopy amplitude\")\n",
    "        plt.pcolormesh(ff_amp_sweep_2D, q_freq_sweep_2D.astype(float), sig_amp ,cmap=\"seismic\")\n",
    "        \n",
    "#         plt.pcolormesh(ff_amp_sweep, q_freq_sweep.astype(float) * u.kHz, sig_amp, shading='auto',cmap=\"seismic\")\n",
    "        plt.ylabel(\"Qubit frequency [MHz]\")\n",
    "        plt.xlabel(\"Flux level [V]\")\n",
    "        plt.pause(0.1)\n",
    "        plt.tight_layout() \n",
    "plt.colorbar()\n",
    "print(\"Finished!\")    \n",
    "  \n",
    "    \n",
    "# # this is to generate qua script for QM people to troubleshoot\n",
    "# sourceFile = open('debug.py', 'w')\n",
    "# print(generate_qua_script(qubit_spec_2D, config), file=sourceFile)\n",
    "# sourceFile.close()\n",
    "\n",
    "    \n",
    " "
   ]
  },
  {
   "cell_type": "code",
   "execution_count": 84,
   "id": "420487cf",
   "metadata": {},
   "outputs": [],
   "source": [
    "# Save data \n",
    "savemat(os.path.join(tPath, file_name), {\"qubit_freq\": q_freq_sweep_2D, \"sig_amp\": sig_amp, \"sig_phase\": sig_phase, \"ff_sweep\": ff_amp_sweep_2D, \"ROI\": ROI, \"ROO\": ROO, \"freq_TWPA\": freq_TWPA, \"pwr_TWPA\": pwr_TWPA})\n",
    "machine._save(os.path.join(tPath, json_name), flat_data=False)"
   ]
  },
  {
   "cell_type": "markdown",
   "id": "49f1d6d7",
   "metadata": {},
   "source": [
    "## Tuning curve changing LO and using 2nd order poly"
   ]
  },
  {
   "cell_type": "code",
   "execution_count": 108,
   "id": "1d825c74",
   "metadata": {},
   "outputs": [
    {
     "name": "stdout",
     "output_type": "stream",
     "text": [
      "Start running ...\n",
      "2023-09-22 17:13:35,420 - qm - INFO     - Performing health check\n"
     ]
    },
    {
     "name": "stderr",
     "output_type": "stream",
     "text": [
      "INFO:qm.api.frontend_api:Performing health check\n"
     ]
    },
    {
     "name": "stdout",
     "output_type": "stream",
     "text": [
      "2023-09-22 17:13:35,426 - qm - INFO     - Health check passed\n"
     ]
    },
    {
     "name": "stderr",
     "output_type": "stream",
     "text": [
      "INFO:qm.api.frontend_api:Health check passed\n"
     ]
    },
    {
     "name": "stdout",
     "output_type": "stream",
     "text": [
      "2023-09-22 17:13:36,276 - qm - INFO     - Sending program to QOP for compilation\n"
     ]
    },
    {
     "name": "stderr",
     "output_type": "stream",
     "text": [
      "INFO:qm.api.frontend_api:Sending program to QOP for compilation\n"
     ]
    },
    {
     "name": "stdout",
     "output_type": "stream",
     "text": [
      "2023-09-22 17:13:36,631 - qm - INFO     - Executing program\n"
     ]
    },
    {
     "name": "stderr",
     "output_type": "stream",
     "text": [
      "INFO:qm.QuantumMachine:Executing program\n"
     ]
    },
    {
     "name": "stdout",
     "output_type": "stream",
     "text": [
      "Progress: [##################################################] 100.0% (n=2/2)\n",
      "Finished!\n"
     ]
    }
   ],
   "source": [
    "# Perform a wideband, optimized qubit spectroscopy with flux \n",
    "# LO is changed during the bulk of the script in an outer loop to achieve wideband frequency\n",
    "# Uses blank else statements to keep correct size in saving arrays\n",
    "# It is optimized to sweep frequencies near the qubit frequency obtained from a previous fit to a 2nd order poly function\n",
    "\n",
    "print(\"Start running ...\")\n",
    "\n",
    "now = datetime.datetime.now()\n",
    "month = now.strftime(\"%m\")\n",
    "day = now.strftime(\"%d\")\n",
    "hour = now.strftime(\"%H\")\n",
    "minute = now.strftime(\"%M\")\n",
    "\n",
    "exp_name = 'qubit_spec_flux_sweep_wb'\n",
    "qubit_name = 'UA_Q1'\n",
    "\n",
    "f_str = qubit_name + '_' + exp_name + '_' + month + day + '-' + hour + minute\n",
    "file_name= f_str+'.mat'\n",
    "json_name = f_str + '_state.json'\n",
    "\n",
    "# Set-up the machine and get the config #\n",
    "machine = QuAM(\"quam_state.json\")\n",
    "config = build_config(machine)\n",
    "\n",
    "# Program-specific variables #\n",
    "n_avg = 4  # Number of averaging loops\n",
    "qubit_index = 0 \n",
    "cooldown_time = 10_000  # Resonator cooldown time, convert to ns in the wait() function \n",
    "\n",
    "ff_amp_sweep = np.arange(-0.8,0.8+1E-5,0.2) # fast flux sweep parameters\n",
    "# as this will be a 'fixed' QUA variable, we keep the python array as a float array\n",
    "\n",
    "qubit_freq_fit = poly2(ff_amp_sweep* machine.flux_lines[qubit_index].flux_pulse_amp, *fit_params)\n",
    "qubit_freq_fit = qubit_freq_fit*1e3 #expected qubit frequencies as a function of flux based on 2nd order poly in kHz\n",
    "q_freq_est = qubit_freq_fit.astype(int) # if using int variables in QUA, you need to provide int python variables\n",
    "\n",
    "\n",
    "# LO frequency sweep parameters\n",
    "lo_int = 300e6 # LO sweep range\n",
    "lo_sep = 50 # difference between the highest qubit frequency and the LO\n",
    "q_freq_range = np.max(q_freq_est*1e3) - np.min(q_freq_est*1e3)\n",
    "lo_freq_n = np.ceil((np.max(q_freq_est*1e3) - np.min(q_freq_est*1e3))/ (lo_int))\n",
    "if ((np.max(q_freq_est*1e3) + 50*1e6 - lo_freq_n*lo_int)<= np.min(q_freq_est*1e3)):\n",
    "    lo_freq_array = np.arange(np.max(q_freq_est*1E3) + lo_sep*u.MHz - (lo_freq_n-1)*lo_int ,np.max(q_freq_est*1E3) + lo_sep*u.MHz + 1, lo_int)\n",
    "else:\n",
    "    lo_freq_array = np.arange(np.max(q_freq_est*1E3) + lo_sep*u.MHz - lo_freq_n*lo_int ,np.max(q_freq_est*1E3) + lo_sep*u.MHz + 1, lo_int)\n",
    "\n",
    "q_freq_sweep = np.arange(-100, 100 +1, 20) # will get multiplied to MHz in QUA\n",
    "z_duration = machine.qubits[qubit_index].pi_length + 40 \n",
    "bound_down = -300 \n",
    "bound_up = 0 \n",
    "\n",
    "with program() as qubit_spec_2D_wb:\n",
    "    n = declare(int)  # Averaging index\n",
    "    df = declare(int)  # Qubit frequency sweep around estimated qubit frequency\n",
    "    l = declare(int)  # LO frequency sweep index\n",
    "    q_freq_est_i = declare(int)  # Estimated qubit frequency based from fit\n",
    "    damp = declare(fixed)  # Z amplitude sweep\n",
    "    I = declare(fixed)\n",
    "    Q = declare(fixed)\n",
    "    I_st = declare_stream()\n",
    "    Q_st = declare_stream()\n",
    "    n_st = declare_stream()\n",
    "    qb_if = declare(int) # IF array\n",
    "    lo = declare(int) # LO frequency array value\n",
    "    meas_st = declare_stream() # used to report values of some QUA variable I choose\n",
    "    \n",
    "    with for_(l, 0, l < len(lo_freq_array) + 1, l + 1):\n",
    "        pause()\n",
    "        assign(lo, IO1) #octave API\n",
    "        with for_(n, 0, n < n_avg + 1, n + 1):\n",
    "            with for_each_((damp,q_freq_est_i),(ff_amp_sweep,q_freq_est)):\n",
    "                assign(qb_if, (q_freq_est_i - lo) * 1e3) # need the two values that are part of the subtraction to be less than 2^32\n",
    "#                 save(qb_if, meas_st) # uncomment this to report IF value\n",
    "                with if_((qb_if > bound_down * u.MHz) & (qb_if <= bound_up * u.MHz)):\n",
    "                    with for_(*from_array(df,q_freq_sweep * 1e6)):\n",
    "                        update_frequency(machine.qubits[qubit_index].name, qb_if + df)\n",
    "                        play(\"const\" * amp(damp), machine.flux_lines[qubit_index].name, duration = z_duration * u.ns)\n",
    "                        wait(5, machine.qubits[qubit_index].name)\n",
    "                        play('pi',machine.qubits[qubit_index].name)\n",
    "                        align(machine.qubits[qubit_index].name, machine.flux_lines[qubit_index].name,machine.resonators[qubit_index].name)\n",
    "                        # Measure the resonator\n",
    "                        measure(\n",
    "                            \"readout\",\n",
    "                            machine.resonators[qubit_index].name,\n",
    "                            None,\n",
    "                            dual_demod.full(\"cos\", \"out1\", \"sin\", \"out2\", I),\n",
    "                            dual_demod.full(\"minus_sin\", \"out1\", \"cos\", \"out2\", Q),\n",
    "                        )\n",
    "                        align()\n",
    "                        play(\"const\" * amp((-1 * damp)), machine.flux_lines[qubit_index].name, duration = z_duration * u.ns)\n",
    "                        # Wait for the resonator to cooldown\n",
    "                        wait(cooldown_time * u.ns, machine.resonators[qubit_index].name)\n",
    "                        # Save data to the stream processing\n",
    "                        save(I, I_st)\n",
    "                        save(Q, Q_st)\n",
    "                            \n",
    "                with else_():\n",
    "                    with for_(*from_array(df,q_freq_sweep)):\n",
    "                        assign(I, 0)\n",
    "                        assign(Q, 0)\n",
    "                        wait(200)\n",
    "                        save(I, I_st)\n",
    "                        save(Q, Q_st)\n",
    "        save(l, n_st)\n",
    "\n",
    "    with stream_processing():\n",
    "        I_st.buffer(len(q_freq_sweep)).buffer(len(q_freq_est)).buffer(n_avg).save_all(\"I\")\n",
    "        Q_st.buffer(len(q_freq_sweep)).buffer(len(q_freq_est)).buffer(n_avg).save_all(\"Q\")\n",
    "        n_st.save_all(\"iteration\")\n",
    "#         meas_st.save_all(\"val\")\n",
    "\n",
    "qmm = QuantumMachinesManager(machine.network.qop_ip, port = '9510', octave=octave_config)\n",
    "\n",
    "\n",
    "qm = qmm.open_qm(config)\n",
    "job = qm.execute(qubit_spec_2D_wb)\n",
    "\n",
    "res_handles = job.result_handles\n",
    "I_handle = res_handles.get(\"I\")\n",
    "Q_handle = res_handles.get(\"Q\")\n",
    "n_handle = res_handles.get(\"iteration\")\n",
    "\n",
    "# Initialize empty vectors to store the global 'I' & 'Q' results\n",
    "I_tot = []\n",
    "Q_tot = []\n",
    "for i in range(len(lo_freq_array)):\n",
    "    lo_val = (lo_freq_array[i]/1e3).astype(int)\n",
    "    qm.set_io1_value(lo_val)\n",
    "    machine.qubits[qubit_index].lo = lo_val * 1e3\n",
    "    qm.octave.set_lo_frequency(machine.qubits[qubit_index].name, lo_val * 1e3)\n",
    "    # Resume the QUA program (escape the 'pause' statement)\n",
    "    job.resume()\n",
    "    # Wait until the program reaches the 'pause' statement again, indicating that the QUA program is done\n",
    "    wait_until_job_is_paused(job)\n",
    "    \n",
    "    I_handle.wait_for_values(i + 1)\n",
    "    Q_handle.wait_for_values(i + 1)\n",
    "    n_handle.wait_for_values(i + 1)\n",
    "#     Fetch the data from the last OPX run corresponding to the current LO frequency\n",
    "    I = np.concatenate(I_handle.fetch(i)[\"value\"])\n",
    "    Q = np.concatenate(Q_handle.fetch(i)[\"value\"])\n",
    "    iteration = n_handle.fetch(i)[\"value\"][0]\n",
    "#     Update the list of global results\n",
    "    I_tot.append(I)\n",
    "    Q_tot.append(Q)\n",
    "#     Progress bar\n",
    "    progress_counter(iteration, len(lo_freq_array))\n",
    "# Interrupt the FPGA program\n",
    "job.halt()\n",
    "\n",
    "# meas_val = res_handles.get(\"val\").fetch_all()\n",
    "# print(meas_val)\n",
    "\n",
    "print(\"Finished!\")\n",
    "\n"
   ]
  },
  {
   "cell_type": "code",
   "execution_count": 136,
   "id": "9d4177a7",
   "metadata": {},
   "outputs": [
    {
     "name": "stdout",
     "output_type": "stream",
     "text": [
      "[[[0.0105981  0.01126626 0.00456596 0.00827921 0.00666634 0.02257001\n",
      "   0.00694398 0.019035   0.02531197 0.01662195 0.01561166]\n",
      "  [0.01231583 0.00355743 0.01147022 0.01991477 0.01109743 0.01523574\n",
      "   0.01000126 0.01314478 0.01445314 0.01477948 0.01258678]\n",
      "  [0.         0.         0.         0.         0.         0.\n",
      "   0.         0.         0.         0.         0.        ]\n",
      "  [0.         0.         0.         0.         0.         0.\n",
      "   0.         0.         0.         0.         0.        ]\n",
      "  [0.         0.         0.         0.         0.         0.\n",
      "   0.         0.         0.         0.         0.        ]\n",
      "  [0.         0.         0.         0.         0.         0.\n",
      "   0.         0.         0.         0.         0.        ]\n",
      "  [0.         0.         0.         0.         0.         0.\n",
      "   0.         0.         0.         0.         0.        ]\n",
      "  [0.         0.         0.         0.         0.         0.\n",
      "   0.         0.         0.         0.         0.        ]\n",
      "  [0.01457327 0.01836707 0.01347438 0.01048321 0.01302803 0.01328121\n",
      "   0.02120559 0.0157781  0.00517827 0.0176934  0.01199879]]\n",
      "\n",
      " [[0.03094186 0.01813581 0.00814765 0.01630031 0.01866214 0.01536\n",
      "   0.00766808 0.00654979 0.02314904 0.01424463 0.00450244]\n",
      "  [0.00667535 0.01271506 0.01273575 0.01347316 0.00963857 0.01637583\n",
      "   0.00409757 0.02375368 0.01226556 0.00471827 0.00934014]\n",
      "  [0.         0.         0.         0.         0.         0.\n",
      "   0.         0.         0.         0.         0.        ]\n",
      "  [0.         0.         0.         0.         0.         0.\n",
      "   0.         0.         0.         0.         0.        ]\n",
      "  [0.         0.         0.         0.         0.         0.\n",
      "   0.         0.         0.         0.         0.        ]\n",
      "  [0.         0.         0.         0.         0.         0.\n",
      "   0.         0.         0.         0.         0.        ]\n",
      "  [0.         0.         0.         0.         0.         0.\n",
      "   0.         0.         0.         0.         0.        ]\n",
      "  [0.         0.         0.         0.         0.         0.\n",
      "   0.         0.         0.         0.         0.        ]\n",
      "  [0.01079026 0.00326619 0.01345154 0.01500427 0.01855091 0.00876093\n",
      "   0.02261233 0.00144965 0.01436521 0.01958854 0.01331834]]\n",
      "\n",
      " [[0.01683552 0.01142496 0.01521599 0.01025687 0.01888117 0.02059029\n",
      "   0.01679943 0.01071341 0.01653016 0.00553818 0.01140826]\n",
      "  [0.02684573 0.00722132 0.00644897 0.01475301 0.01057042 0.00788716\n",
      "   0.00727719 0.00889434 0.00957863 0.0030088  0.01273092]\n",
      "  [0.         0.         0.         0.         0.         0.\n",
      "   0.         0.         0.         0.         0.        ]\n",
      "  [0.         0.         0.         0.         0.         0.\n",
      "   0.         0.         0.         0.         0.        ]\n",
      "  [0.         0.         0.         0.         0.         0.\n",
      "   0.         0.         0.         0.         0.        ]\n",
      "  [0.         0.         0.         0.         0.         0.\n",
      "   0.         0.         0.         0.         0.        ]\n",
      "  [0.         0.         0.         0.         0.         0.\n",
      "   0.         0.         0.         0.         0.        ]\n",
      "  [0.         0.         0.         0.         0.         0.\n",
      "   0.         0.         0.         0.         0.        ]\n",
      "  [0.02537849 0.01812334 0.00821935 0.00712372 0.02293007 0.01683069\n",
      "   0.00208629 0.00840643 0.01917473 0.00606274 0.01990521]]\n",
      "\n",
      " [[0.01455392 0.01015629 0.00950054 0.01608645 0.00942383 0.01531206\n",
      "   0.01611819 0.02069572 0.01257781 0.00514073 0.00845837]\n",
      "  [0.00270476 0.00761226 0.00502642 0.01462461 0.01901966 0.02107278\n",
      "   0.01630573 0.01163064 0.01147761 0.00481871 0.00401878]\n",
      "  [0.         0.         0.         0.         0.         0.\n",
      "   0.         0.         0.         0.         0.        ]\n",
      "  [0.         0.         0.         0.         0.         0.\n",
      "   0.         0.         0.         0.         0.        ]\n",
      "  [0.         0.         0.         0.         0.         0.\n",
      "   0.         0.         0.         0.         0.        ]\n",
      "  [0.         0.         0.         0.         0.         0.\n",
      "   0.         0.         0.         0.         0.        ]\n",
      "  [0.         0.         0.         0.         0.         0.\n",
      "   0.         0.         0.         0.         0.        ]\n",
      "  [0.         0.         0.         0.         0.         0.\n",
      "   0.         0.         0.         0.         0.        ]\n",
      "  [0.00611169 0.02605411 0.01437697 0.01515353 0.01592951 0.00984473\n",
      "   0.00793902 0.01534467 0.01280071 0.00146095 0.01591334]]\n",
      "\n",
      " [[0.00941097 0.01048883 0.03461484 0.01411812 0.01100371 0.00430568\n",
      "   0.01132132 0.00703404 0.01631595 0.02098698 0.00281608]\n",
      "  [0.00522097 0.02251801 0.00432342 0.01805195 0.01044847 0.01229759\n",
      "   0.01490285 0.0146086  0.0192156  0.02095061 0.01391599]\n",
      "  [0.         0.         0.         0.         0.         0.\n",
      "   0.         0.         0.         0.         0.        ]\n",
      "  [0.         0.         0.         0.         0.         0.\n",
      "   0.         0.         0.         0.         0.        ]\n",
      "  [0.         0.         0.         0.         0.         0.\n",
      "   0.         0.         0.         0.         0.        ]\n",
      "  [0.         0.         0.         0.         0.         0.\n",
      "   0.         0.         0.         0.         0.        ]\n",
      "  [0.         0.         0.         0.         0.         0.\n",
      "   0.         0.         0.         0.         0.        ]\n",
      "  [0.         0.         0.         0.         0.         0.\n",
      "   0.         0.         0.         0.         0.        ]\n",
      "  [0.00559947 0.02781397 0.01255646 0.01844623 0.00074698 0.00906693\n",
      "   0.00798237 0.00947756 0.01650354 0.01769446 0.00739188]]\n",
      "\n",
      " [[0.         0.         0.         0.         0.         0.\n",
      "   0.         0.         0.         0.         0.        ]\n",
      "  [0.         0.         0.         0.         0.         0.\n",
      "   0.         0.         0.         0.         0.        ]\n",
      "  [0.00350611 0.01567865 0.00558088 0.00101042 0.01029716 0.00584083\n",
      "   0.00746631 0.0206306  0.01560218 0.02796048 0.00909101]\n",
      "  [0.0023484  0.01482939 0.00201605 0.01354884 0.01074801 0.01320686\n",
      "   0.00681103 0.01725774 0.02735658 0.03333306 0.00878242]\n",
      "  [0.02023835 0.01384881 0.00826048 0.01430351 0.01826304 0.02292901\n",
      "   0.00686811 0.02669488 0.0342129  0.01251719 0.01349275]\n",
      "  [0.00774442 0.01392987 0.00509092 0.01815    0.00539232 0.03118605\n",
      "   0.03056305 0.03353559 0.02208362 0.02199988 0.01368761]\n",
      "  [0.01784754 0.02449359 0.00498022 0.02784061 0.00728224 0.04672064\n",
      "   0.00866214 0.01797339 0.02565691 0.02408447 0.01358472]\n",
      "  [0.00856814 0.02570706 0.02304443 0.01676461 0.03595964 0.01187732\n",
      "   0.02936733 0.02285926 0.00253023 0.01911817 0.01905858]\n",
      "  [0.         0.         0.         0.         0.         0.\n",
      "   0.         0.         0.         0.         0.        ]]\n",
      "\n",
      " [[0.         0.         0.         0.         0.         0.\n",
      "   0.         0.         0.         0.         0.        ]\n",
      "  [0.         0.         0.         0.         0.         0.\n",
      "   0.         0.         0.         0.         0.        ]\n",
      "  [0.00240794 0.01476413 0.01238639 0.01068958 0.01466293 0.02329716\n",
      "   0.00739445 0.01184633 0.00557009 0.0102257  0.01843413]\n",
      "  [0.0185298  0.02607528 0.0239658  0.01334143 0.02291374 0.03011427\n",
      "   0.02420604 0.00676487 0.01683502 0.01572806 0.01690702]\n",
      "  [0.01123246 0.01530062 0.02453972 0.00757086 0.03782872 0.01793872\n",
      "   0.01133822 0.00653507 0.01732713 0.02213655 0.01120364]\n",
      "  [0.0208199  0.03492599 0.02316951 0.01373611 0.00607271 0.0221877\n",
      "   0.01078348 0.03669719 0.02169923 0.0174314  0.01457844]\n",
      "  [0.00703187 0.01892185 0.01435532 0.01477003 0.02478917 0.01389518\n",
      "   0.01964116 0.01795491 0.01704322 0.02536521 0.02201026]\n",
      "  [0.0264135  0.02445902 0.03696383 0.02496275 0.01023918 0.00929912\n",
      "   0.01121585 0.0307616  0.03121698 0.02073114 0.0060487 ]\n",
      "  [0.         0.         0.         0.         0.         0.\n",
      "   0.         0.         0.         0.         0.        ]]\n",
      "\n",
      " [[0.         0.         0.         0.         0.         0.\n",
      "   0.         0.         0.         0.         0.        ]\n",
      "  [0.         0.         0.         0.         0.         0.\n",
      "   0.         0.         0.         0.         0.        ]\n",
      "  [0.01371896 0.01385481 0.02132167 0.03585437 0.02773289 0.01515227\n",
      "   0.02049024 0.01751309 0.00716362 0.01035355 0.01225792]\n",
      "  [0.01376101 0.02704229 0.02099951 0.00938351 0.0291763  0.0499667\n",
      "   0.01987334 0.00990651 0.01806423 0.01710006 0.01894587]\n",
      "  [0.00857392 0.01687435 0.03497127 0.00507357 0.02240156 0.00244365\n",
      "   0.01014126 0.00342617 0.01638315 0.0084369  0.02124135]\n",
      "  [0.01101547 0.01558064 0.01453716 0.0174775  0.00045399 0.0060404\n",
      "   0.00073773 0.00387326 0.01256477 0.02481068 0.00633474]\n",
      "  [0.01800304 0.02317732 0.02047114 0.00604545 0.011827   0.04494434\n",
      "   0.01331862 0.01044729 0.01661818 0.00217047 0.02450134]\n",
      "  [0.01803116 0.01721907 0.02811423 0.0132932  0.03808488 0.03446166\n",
      "   0.02651159 0.02387939 0.02230727 0.02350497 0.03508826]\n",
      "  [0.         0.         0.         0.         0.         0.\n",
      "   0.         0.         0.         0.         0.        ]]]\n"
     ]
    }
   ],
   "source": [
    "print(sig_amp)"
   ]
  },
  {
   "cell_type": "code",
   "execution_count": 135,
   "id": "4d19df00",
   "metadata": {},
   "outputs": [],
   "source": [
    "\n",
    "%matplotlib qt\n",
    "I = np.concatenate(I_tot)\n",
    "Q = np.concatenate(Q_tot)\n",
    "sigs = u.demod2volts(I + 1j * Q, machine.resonators[qubit_index].readout_pulse_length)\n",
    "sig_amp = np.abs(sigs)  # Amplitude\n",
    "sig_phase = np.angle(sigs)  # Phase\n",
    "\n",
    "\n",
    "# sig_amp_avg =[]\n",
    "# sig_amp_red = []\n",
    "# for n in np.arange(len(lo_freq_array)):\n",
    "#     sig_amp_red = sig_amp[n*n_avg:(n+1)*n_avg]\n",
    "#     sig_amp_avg = np.append(sig_amp_avg, np.mean(sig_amp_red, axis=0))\n",
    "# sig_amp_avg= np.reshape(sig_amp_avg, (len(lo_freq_array)* len(ff_amp_sweep), len(q_freq_sweep)))      \n",
    "\n",
    "# arr_idx = []\n",
    "# for lo_f in lo_freq_array:\n",
    "#     LO = lo_f\n",
    "#     for est in q_freq_est:\n",
    "#         IF = est * 1e3 - LO\n",
    "#         if ((IF > bound_down*1e6) & (IF <= bound_up*1e6)):\n",
    "#             arr_idx.append(1)\n",
    "#             print(\"good\", IF, LO)\n",
    "#         else:\n",
    "#             arr_idx.append(0)\n",
    "#             print(\"bad\", IF, LO)\n",
    "# sig_red = []\n",
    "# for i in np.arange(len(arr_idx)):\n",
    "#     if arr_idx[i] == 1:\n",
    "#         sig_red.append(sig_amp_avg[i])\n",
    "#     else:\n",
    "#         passdfl.\n",
    "# sig_red = np.array(sig_red)"
   ]
  },
  {
   "cell_type": "code",
   "execution_count": 91,
   "id": "299dc0c6",
   "metadata": {
    "scrolled": true
   },
   "outputs": [
    {
     "data": {
      "text/plain": [
       "<matplotlib.colorbar.Colorbar at 0x22106465250>"
      ]
     },
     "execution_count": 91,
     "metadata": {},
     "output_type": "execute_result"
    }
   ],
   "source": [
    "#  read data removing garbage from blanks\n",
    "\n",
    "%matplotlib qt\n",
    "I = np.concatenate(I_tot)\n",
    "Q = np.concatenate(Q_tot)\n",
    "sigs = u.demod2volts(I + 1j * Q, machine.resonators[qubit_index].readout_pulse_length)\n",
    "sig_amp = np.abs(sigs)  # Amplitude\n",
    "sig_phase = np.angle(sigs)  # Phase\n",
    "\n",
    "sig_amp_avg =[]\n",
    "sig_amp_red = []\n",
    "for n in np.arange(len(lo_freq_array)):\n",
    "    sig_amp_red = sig_amp[n*n_avg:(n+1)*n_avg]\n",
    "    sig_amp_avg = np.append(sig_amp_avg, np.mean(sig_amp_red, axis=0))\n",
    "sig_amp_avg= np.reshape(sig_amp_avg, (len(lo_freq_array)* len(ff_amp_sweep), len(q_freq_sweep)))      \n",
    "\n",
    "arr_idx = []\n",
    "for lo_f in lo_freq_array:\n",
    "    LO = lo_f\n",
    "    for est in q_freq_est:\n",
    "        IF = est * 1e3 - LO\n",
    "        if ((IF > bound_down*1e6) & (IF <= bound_up*1e6)):\n",
    "            arr_idx.append(1)\n",
    "        else:\n",
    "            arr_idx.append(0)\n",
    "sig_red = []\n",
    "for i in np.arange(len(arr_idx)):\n",
    "    if arr_idx[i] == 1:\n",
    "        sig_red.append(sig_amp_avg[i])\n",
    "    else:\n",
    "        pass\n",
    "sig_red = np.array(sig_red)\n",
    "\n",
    "\n",
    "# to save all the frequencies used in the scan\n",
    "q_freq_sweep_2D, q_freq_est_2D = np.meshgrid(q_freq_sweep*1E6, q_freq_est.astype(float) * 1e3)\n",
    "_, ff_amp_sweep_2D = np.meshgrid(q_freq_sweep*1E6, ff_amp_sweep * machine.flux_lines[qubit_index].flux_pulse_amp)\n",
    "q_freq_sweep_2D = q_freq_est_2D + q_freq_sweep_2D\n",
    "    \n",
    "# Final plot\n",
    "fig = plt.figure()\n",
    "plt.rcParams['figure.figsize'] = [8, 4]\n",
    "plt.cla()\n",
    "\n",
    "# 2D spectroscopy plot\n",
    "plt.title(\"Qubit spectroscopy tuning curve\")\n",
    "plt.pcolormesh(ff_amp_sweep_2D, q_freq_sweep_2D.astype(float), sig_red ,cmap=\"seismic\")\n",
    "plt.xlabel(\"Flux level [V]\")\n",
    "plt.ylabel(\"Qubit frequency [MHz]\")\n",
    "plt.pause(0.1)\n",
    "plt.tight_layout() \n",
    "plt.colorbar()"
   ]
  },
  {
   "cell_type": "code",
   "execution_count": null,
   "id": "d1be1815",
   "metadata": {},
   "outputs": [],
   "source": []
  },
  {
   "cell_type": "markdown",
   "id": "0537165c",
   "metadata": {},
   "source": [
    "## Simplified case of 1D scan"
   ]
  },
  {
   "cell_type": "code",
   "execution_count": null,
   "id": "a1e67935",
   "metadata": {},
   "outputs": [],
   "source": [
    "q_freq_est =ham([SS], 2, *popt) # in MHz\n",
    "\n",
    "now = datetime.datetime.now()\n",
    "month = now.strftime(\"%m\")\n",
    "day = now.strftime(\"%d\")\n",
    "hour = now.strftime(\"%H\")\n",
    "minute = now.strftime(\"%M\")\n",
    "\n",
    "exp_name = 'qubit_spec_flux_sweep'\n",
    "qubit_name = 'UA_Q1'\n",
    "\n",
    "f_str = qubit_name + '_' + exp_name + '_' + month + day + '-' + hour + minute\n",
    "file_name= f_str+'.mat'\n",
    "json_name = f_str + '_state.json'\n",
    "\n",
    "# Set-up the machine and get the config #\n",
    "machine = QuAM(\"quam_state.json\")\n",
    "config = build_config(machine)\n",
    "\n",
    "# Program-specific variables #\n",
    "n_avg =1_000  # Number of averaging loops\n",
    "qubit_index = 0 \n",
    "cooldown_time = 20_000  # Resonator cooldown time, convert to ns in the wait() function \n",
    "\n",
    "ff_amp_sweep = np.arange(-0.2,0.2+0.1,0.05)\n",
    "freq_est_diff = (machine.qubits[qubit_index].f_01-1E6*ham([SS], 2, *popt))[0] # in Hz\n",
    "q_freq_est =1E6*ham(machine.flux_lines[qubit_index].flux_pulse_amp * ff_amp_sweep+SS, 2, *popt) + freq_est_diff # in Hz\n",
    "\n",
    "q_freq_sweep = np.arange(-100e6, 100e6, 2e6)\n",
    "z_duration = machine.qubits[qubit_index].pi_length + 40\n",
    "\n",
    "with program() as qubit_spec_2D:\n",
    "    n = declare(int)  # Averaging index\n",
    "    df = declare(int)  # Qubit sweep\n",
    "    i = declare(int)  # Z amplitude index\n",
    "    damp = declare(fixed)  # Z amplitude sweep\n",
    "    I = declare(fixed)\n",
    "    Q = declare(fixed)\n",
    "    I_st = declare_stream()\n",
    "    Q_st = declare_stream()\n",
    "    n_st = declare_stream()\n",
    "\n",
    "    with for_(n, 0, n < n_avg, n + 1):\n",
    "        assign(i,0)\n",
    "        #with for_(*from_array(damp,ff_amp_sweep)):\n",
    "        with for_each_(damp,ff_amp_sweep):\n",
    "            qb_if = q_freq_est[0] - machine.qubits[qubit_index].lo\n",
    "            update_frequency(machine.qubits[qubit_index].name, qb_if)\n",
    "            play(\"const\" * amp(damp), machine.flux_lines[qubit_index].name, duration = z_duration * u.ns)\n",
    "            wait(5, machine.qubits[qubit_index].name)\n",
    "            play('pi',machine.qubits[qubit_index].name)\n",
    "            align(machine.qubits[qubit_index].name, machine.flux_lines[qubit_index].name,machine.resonators[qubit_index].name)\n",
    "            # Measure the resonator\n",
    "            measure(\n",
    "                \"readout\",\n",
    "                machine.resonators[qubit_index].name,\n",
    "                None,\n",
    "                dual_demod.full(\"cos\", \"out1\", \"sin\", \"out2\", I),\n",
    "                dual_demod.full(\"minus_sin\", \"out1\", \"cos\", \"out2\", Q),\n",
    "            )\n",
    "            align()\n",
    "            play(\"const\" * amp((-1)*damp), machine.flux_lines[qubit_index].name, duration = z_duration * u.ns)\n",
    "            # Wait for the resonator to cooldown\n",
    "            wait(cooldown_time * u.ns, machine.resonators[qubit_index].name)\n",
    "            # Save data to the stream processing\n",
    "            save(I, I_st)\n",
    "            save(Q, Q_st)\n",
    "            assign(i, i+1)\n",
    "            save(i, n_st)\n",
    "\n",
    "    with stream_processing():\n",
    "        I_st.buffer(len(ff_amp_sweep)).average().save(\"I\")\n",
    "        Q_st.buffer(len(ff_amp_sweep)).average().save(\"Q\")\n",
    "        n_st.save(\"iteration\")\n",
    "\n",
    "# to save all the frequencies used in the scan\n",
    "q_freq_tot = q_freq_est[0] + q_freq_sweep\n",
    "###############\n",
    "# Run Program #\n",
    "###############\n",
    "#  Open Communication with the QOP  #\n",
    "# qmm = QuantumMachinesManager(machine.network.qop_ip, cluster_name=machine.network.cluster_name, octave=octave_config)\n",
    "# qmm = QuantumMachinesManager(machine.network.qop_ip, port = '9510', octave=octave_config, log_level = \"ERROR\")\n",
    "qmm = QuantumMachinesManager(machine.network.qop_ip, port = '9510', octave=octave_config)\n",
    "\n",
    "simulate = False\n",
    "if simulate:\n",
    "    %matplotlib qt\n",
    "    job = qmm.simulate(config, qubit_spec_2D, SimulationConfig(4000))\n",
    "    job.get_simulated_samples().con1.plot()\n",
    "else:\n",
    "    qm = qmm.open_qm(config)\n",
    "    job = qm.execute(qubit_spec_2D)\n",
    "    results = fetching_tool(job, [\"I\", \"Q\", \"iteration\"], mode=\"live\")\n",
    "\n",
    "    # Live plotting\n",
    "    fig = plt.figure()\n",
    "    plt.rcParams['figure.figsize'] = [8, 4]\n",
    "    interrupt_on_close(fig, job)  # Interrupts the job when closing the figure\n",
    "\n",
    "    for i in range(len(ff_amp_sweep)):\n",
    "        # Wait until the data of this run is processed by the stream processing\n",
    "        I, Q, iteration = results.fetch_all()\n",
    "\n",
    "        progress_counter(iteration, n_avg)\n",
    "\n",
    "        # Convert results into Volts\n",
    "        sigs = u.demod2volts(I + 1j * Q, machine.resonators[qubit_index].readout_pulse_length)\n",
    "        sig_amp = np.abs(sigs)  # Amplitude\n",
    "        sig_phase = np.angle(sigs)  # Phase\n",
    "        # Plot results\n",
    "        plt.suptitle(\"qubit spectroscopy\")\n",
    "        plt.title(\"qubit spectroscopy\")\n",
    "        plt.plot(ff_amp_sweep, sig_amp, \".\")\n",
    "        plt.xlabel(\"Z amplitude [a.u.]\")\n",
    "        plt.ylabel(r\"$\\sqrt{I^2 + Q^2}$ [V]\")"
   ]
  },
  {
   "cell_type": "markdown",
   "id": "8f41dfe7",
   "metadata": {},
   "source": [
    "## Extend the above 1D example to 2D"
   ]
  },
  {
   "cell_type": "code",
   "execution_count": null,
   "id": "29cf79ff",
   "metadata": {},
   "outputs": [],
   "source": [
    "print(\"Start running ...\")\n",
    "\n",
    "q_freq_est =ham([SS], 2, *popt) # in MHz\n",
    "\n",
    "now = datetime.datetime.now()\n",
    "month = now.strftime(\"%m\")\n",
    "day = now.strftime(\"%d\")\n",
    "hour = now.strftime(\"%H\")\n",
    "minute = now.strftime(\"%M\")\n",
    "\n",
    "exp_name = 'qubit_spec_flux_sweep'\n",
    "qubit_name = 'UA_Q1'\n",
    "\n",
    "f_str = qubit_name + '_' + exp_name + '_' + month + day + '-' + hour + minute\n",
    "file_name= f_str+'.mat'\n",
    "json_name = f_str + '_state.json'\n",
    "\n",
    "# Set-up the machine and get the config #\n",
    "machine = QuAM(\"quam_state.json\")\n",
    "config = build_config(machine)\n",
    "\n",
    "# Program-specific variables #\n",
    "n_avg =1_000  # Number of averaging loops\n",
    "qubit_index = 0 \n",
    "cooldown_time = 20_000  # Resonator cooldown time, convert to ns in the wait() function \n",
    "\n",
    "ff_amp_sweep = np.arange(-2,2+1E-5,0.1)\n",
    "freq_est_diff = (machine.qubits[qubit_index].f_01-1E6*ham([SS], 2, *popt))[0] / u.kHz # in kHz\n",
    "q_freq_est = ham(machine.flux_lines[qubit_index].flux_pulse_amp * ff_amp_sweep+SS, 2, *popt) * u.kHz + freq_est_diff # in kHz\n",
    "q_freq_est = q_freq_est.astype(int) # in kHz\n",
    "\n",
    "q_freq_sweep = np.arange(-100e6, 100e6, 2e6)\n",
    "z_duration = machine.qubits[qubit_index].pi_length + 40\n",
    "\n",
    "with program() as qubit_spec_2D:\n",
    "    n = declare(int)  # Averaging index\n",
    "    df = declare(int)  # Qubit sweep\n",
    "    q_freq_est_i = declare(int)  # Estimated qubit frequency\n",
    "    damp = declare(fixed)  # Z amplitude sweep\n",
    "    I = declare(fixed)\n",
    "    Q = declare(fixed)\n",
    "    I_st = declare_stream()\n",
    "    Q_st = declare_stream()\n",
    "    n_st = declare_stream()\n",
    "\n",
    "    with for_(n, 0, n < n_avg, n + 1):\n",
    "        with for_each_((damp,q_freq_est_i),(ff_amp_sweep,q_freq_est)):\n",
    "            qb_if = q_freq_est_i * u.kHz - machine.qubits[qubit_index].lo\n",
    "            with for_(*from_array(df,q_freq_sweep)):\n",
    "                update_frequency(machine.qubits[qubit_index].name, qb_if + df)\n",
    "                play(\"const\" * amp(damp), machine.flux_lines[qubit_index].name, duration = z_duration * u.ns)\n",
    "                wait(5, machine.qubits[qubit_index].name)\n",
    "                play('pi',machine.qubits[qubit_index].name)\n",
    "                align(machine.qubits[qubit_index].name, machine.flux_lines[qubit_index].name,machine.resonators[qubit_index].name)\n",
    "                # Measure the resonator\n",
    "                measure(\n",
    "                    \"readout\",\n",
    "                    machine.resonators[qubit_index].name,\n",
    "                    None,\n",
    "                    dual_demod.full(\"cos\", \"out1\", \"sin\", \"out2\", I),\n",
    "                    dual_demod.full(\"minus_sin\", \"out1\", \"cos\", \"out2\", Q),\n",
    "                )\n",
    "                align()\n",
    "                play(\"const\" * amp((-1)*damp), machine.flux_lines[qubit_index].name, duration = z_duration * u.ns)\n",
    "                # Wait for the resonator to cooldown\n",
    "                wait(cooldown_time * u.ns, machine.resonators[qubit_index].name)\n",
    "                # Save data to the stream processing\n",
    "                save(I, I_st)\n",
    "                save(Q, Q_st)\n",
    "        save(n, n_st)\n",
    "\n",
    "    with stream_processing():\n",
    "        I_st.buffer(len(q_freq_sweep)).buffer(len(ff_amp_sweep)).average().save(\"I\")\n",
    "        Q_st.buffer(len(q_freq_sweep)).buffer(len(ff_amp_sweep)).average().save(\"Q\")\n",
    "        n_st.save(\"iteration\")\n",
    "\n",
    "# to save all the frequencies used in the scan\n",
    "q_freq_sweep_2D, q_freq_est_2D = np.meshgrid(q_freq_sweep, q_freq_est.astype(float) * u.kHz)\n",
    "_, ff_amp_sweep_2D = np.meshgrid(q_freq_sweep, ff_amp_sweep * machine.flux_lines[qubit_index].flux_pulse_amp)\n",
    "q_freq_sweep_2D = q_freq_est_2D + q_freq_sweep_2D\n",
    "\n",
    "###############\n",
    "# Run Program #\n",
    "###############\n",
    "#  Open Communication with the QOP  #\n",
    "# qmm = QuantumMachinesManager(machine.network.qop_ip, cluster_name=machine.network.cluster_name, octave=octave_config)\n",
    "# qmm = QuantumMachinesManager(machine.network.qop_ip, port = '9510', octave=octave_config, log_level = \"ERROR\")\n",
    "qmm = QuantumMachinesManager(machine.network.qop_ip, port = '9510', octave=octave_config)\n",
    "\n",
    "simulate = False\n",
    "if simulate:\n",
    "    %matplotlib qt\n",
    "    job = qmm.simulate(config, qubit_spec_2D, SimulationConfig(4000))\n",
    "    job.get_simulated_samples().con1.plot()\n",
    "else:\n",
    "    qm = qmm.open_qm(config)\n",
    "    job = qm.execute(qubit_spec_2D)\n",
    "    results = fetching_tool(job, [\"I\", \"Q\", \"iteration\"], mode=\"live\")\n",
    "\n",
    "    # Live plotting\n",
    "    %matplotlib qt\n",
    "    fig = plt.figure()\n",
    "    plt.rcParams['figure.figsize'] = [8, 4]\n",
    "    interrupt_on_close(fig, job)  # Interrupts the job when closing the figure\n",
    "\n",
    "    for i in range(n_avg):\n",
    "        # Wait until the data of this run is processed by the stream processing\n",
    "        I, Q, iteration = results.fetch_all()\n",
    "\n",
    "\n",
    "\n",
    "        # Convert results into Volts\n",
    "        sigs = u.demod2volts(I + 1j * Q, machine.resonators[qubit_index].readout_pulse_length)\n",
    "        sig_amp = np.abs(sigs)  # Amplitude\n",
    "        sig_phase = np.angle(sigs)  # Phase\n",
    "        # Plot results\n",
    "#         plt.suptitle(\"qubit spectroscopy\")\n",
    "#         plt.title(\"qubit spectroscopy\")\n",
    "#         plt.plot(ff_amp_sweep, sig_amp, \".\")\n",
    "#         plt.xlabel(\"Amplitude\")\n",
    "#         plt.ylabel(r\"$\\sqrt{I^2 + Q^2}$ [V]\")\n",
    "        plt.cla()\n",
    "        plt.title(\"Qubit spectroscopy amplitude\")\n",
    "        plt.pcolor(ff_amp_sweep_2D, q_freq_sweep_2D.astype(float) * u.kHz, sig_amp ,cmap=\"seismic\")\n",
    "        plt.ylabel(\"Qubit frequency [MHz]\")\n",
    "        #plt.colorbar()\n",
    "        plt.xlabel(\"Flux level [V]\")\n",
    "        progress_counter(iteration, n_avg)"
   ]
  },
  {
   "cell_type": "code",
   "execution_count": null,
   "id": "a13496f6",
   "metadata": {},
   "outputs": [],
   "source": [
    "fig, ax = plt.subplots(subplot_kw={\"projection\": \"3d\"})\n",
    "plt.title(\"Qubit spectroscopy amplitude\")\n",
    "#plt.pcolor(ff_amp_sweep_2D, q_freq_sweep_2D.astype(float) * u.kHz, sig_amp ,cmap=\"seismic\")\n",
    "surf = ax.plot_surface(ff_amp_sweep_2D, q_freq_sweep_2D, sig_amp, cmap=\"seismic\",\n",
    "                       linewidth=0, antialiased=False)\n",
    "plt.ylabel(\"Qubit frequency [MHz]\")\n",
    "#plt.colorbar()\n",
    "plt.xlabel(\"Flux level [V]\")"
   ]
  },
  {
   "cell_type": "code",
   "execution_count": null,
   "id": "523e55b2",
   "metadata": {},
   "outputs": [],
   "source": [
    "# load data from file\n",
    "file_name = 'UA_Q1_qubit_spec_flux_sweep_0907-1453'\n",
    "data = loadmat(os.path.join(r\"Z:\\LabberData_DF5\\QM_Data_DF5\\2023\\09\\Data_0907\", file_name))\n",
    "freq = data['qubit_freq']\n",
    "sig_amp = data['sig_amp']\n",
    "ff_sweep = data['ff_sweep']\n",
    "\n",
    "plt.figure()\n",
    "plt.ylabel(\"Qubit frequency [MHz]\")\n",
    "plt.xlabel(\"Flux level [V]\")\n",
    "plt.pcolormesh(ff_sweep, freq.astype(float)/1e6, sig_amp ,cmap=\"seismic\")\n",
    "plt.colorbar()\n",
    "\n",
    "# Determine minima of signal to use as ydata for fitting\n",
    "maximas = []\n",
    "flux = ff_sweep\n",
    "\n",
    "# Remove edges on flux to avoid having data from top curve\n",
    "flux_int = np.array([i for i in flux if np.any((i>= -0.08) & (i<= 0.08))])\n",
    "flux_int_idx = np.array([i for i,v in enumerate((flux>= -0.08) & (flux<= 0.08))  if np.any(v)])\n",
    "\n",
    "for i in (flux_int_idx):\n",
    "    maximas.append(freq[i][np.argmax(sig_amp[i])])\n",
    "\n",
    "## Plot minima of signal\n",
    "maximas = np.array(maximas)\n",
    "plt.scatter(flux_int.T[0], maximas/1e6)\n",
    "\n",
    "initial_guess = [1, 0, 6405]  # Initial guess for the parameters\n",
    "fit_params, _ = curve_fit(poly2, flux_int.T[0], maximas/1e6, p0=initial_guess)\n",
    "\n",
    "fitted_curve = poly2(flux_int.T[0], *fit_params)\n",
    "# Plot fitted data\n",
    "plt.plot(flux_int.T[0], fitted_curve, label='Fitted Cosine', color='orange')\n",
    "fitted_curve = fitted_curve*u.kHz\n",
    "fitted_curve = fitted_curve.astype(int)\n",
    "\n",
    "# Sweet spot from fit\n",
    "SS_cal = -fit_params[1]/(2*fit_params[0])\n",
    "print(SS_cal)"
   ]
  }
 ],
 "metadata": {
  "kernelspec": {
   "display_name": "Python 3 (ipykernel)",
   "language": "python",
   "name": "python3"
  },
  "language_info": {
   "codemirror_mode": {
    "name": "ipython",
    "version": 3
   },
   "file_extension": ".py",
   "mimetype": "text/x-python",
   "name": "python",
   "nbconvert_exporter": "python",
   "pygments_lexer": "ipython3",
   "version": "3.8.17"
  }
 },
 "nbformat": 4,
 "nbformat_minor": 5
}
