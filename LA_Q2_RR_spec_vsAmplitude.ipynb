{
 "cells": [
  {
   "cell_type": "code",
   "execution_count": 1,
   "id": "599da8f3",
   "metadata": {},
   "outputs": [],
   "source": [
    "# set up non-QM hardware\n",
    "import Labber\n",
    "# connect to server \n",
    "client = Labber.connectToServer('localhost') # get list of instruments \n",
    "#instruments = client.getListOfInstrumentsString() \n",
    "#for instr in instruments: \n",
    "#    print(instr) # close connection \n",
    "\n",
    "# reset all QDevil channels to 0 V\n",
    "QDevil = client.connectToInstrument('QDevil QDAC', dict(interface='Serial', address='3'))\n",
    "for n in range(24):\n",
    "    if n+1 < 10:\n",
    "        QDevil.setValue(\"CH0\" + str(n+1) + \" Voltage\", 0.0)\n",
    "    else:\n",
    "        QDevil.setValue(\"CH\" + str(n+1) + \" Voltage\", 0.0)\n",
    "# setting CH06 to sweet spot\n",
    "DC_ss = 6.4352E-3\n",
    "QDevil.setValue(\"CH06 Voltage\", DC_ss)\n",
    "\n",
    "# digital attenuators\n",
    "Vaunix1 = client.connectToInstrument('Painter Vaunix Lab Brick Digital Attenuator', dict(interface='USB', address='25606'))\n",
    "Vaunix2 = client.connectToInstrument('Painter Vaunix Lab Brick Digital Attenuator', dict(interface='USB', address='25607'))\n",
    "ROI = 42\n",
    "ROO = 10\n",
    "Vaunix1.setValue(\"Attenuation\", ROI)\n",
    "Vaunix2.setValue(\"Attenuation\", ROO)\n",
    "\n",
    "# TWPA pump\n",
    "SG = client.connectToInstrument('Rohde&Schwarz RF Source', dict(interface='TCPIP', address='192.168.88.2'))\n",
    "SG.setValue('Frequency', 6730.6E6)\n",
    "SG.setValue('Power', -11.3)\n",
    "\n",
    "client.close()"
   ]
  },
  {
   "cell_type": "code",
   "execution_count": 8,
   "id": "96d442ca-8e42-4a4d-9357-ce254bbc4698",
   "metadata": {},
   "outputs": [
    {
     "name": "stdout",
     "output_type": "stream",
     "text": [
      "2023-08-17 14:57:50,920 - qm - ERROR    - Encountered connection error from QOP\n",
      "Traceback (most recent call last):\n",
      "  File \"C:\\Users\\painter\\AppData\\Roaming\\Python\\Python38\\site-packages\\qm\\api\\base_api.py\", line 27, in wrapped\n",
      "    return func(*args, **kwargs)\n",
      "  File \"C:\\Users\\painter\\AppData\\Roaming\\Python\\Python38\\site-packages\\qm\\api\\frontend_api.py\", line 79, in get_version\n",
      "    response = run_async(self._stub.get_version(Empty(), timeout=self._timeout))\n",
      "  File \"C:\\Users\\painter\\AppData\\Roaming\\Python\\Python38\\site-packages\\qm\\utils\\async_utils.py\", line 37, in run_async\n",
      "    return create_future(coroutine).result()  # type: ignore[no-any-return]\n",
      "  File \"C:\\Users\\painter\\.conda\\envs\\labber-qm-env\\lib\\concurrent\\futures\\_base.py\", line 444, in result\n",
      "    return self.__get_result()\n",
      "  File \"C:\\Users\\painter\\.conda\\envs\\labber-qm-env\\lib\\concurrent\\futures\\_base.py\", line 389, in __get_result\n",
      "    raise self._exception\n",
      "  File \"C:\\Users\\painter\\AppData\\Roaming\\Python\\Python38\\site-packages\\qm\\grpc\\frontend\\__init__.py\", line 697, in get_version\n",
      "    return await self._unary_unary(\n",
      "  File \"C:\\Users\\painter\\AppData\\Roaming\\Python\\Python38\\site-packages\\betterproto\\grpc\\grpclib_client.py\", line 85, in _unary_unary\n",
      "    response = await stream.recv_message()\n",
      "  File \"C:\\Users\\painter\\AppData\\Roaming\\Python\\Python38\\site-packages\\grpclib\\client.py\", line 425, in recv_message\n",
      "    await self.recv_initial_metadata()\n",
      "  File \"C:\\Users\\painter\\AppData\\Roaming\\Python\\Python38\\site-packages\\grpclib\\client.py\", line 371, in recv_initial_metadata\n",
      "    self._raise_for_status(headers_map)\n",
      "  File \"C:\\Users\\painter\\AppData\\Roaming\\Python\\Python38\\site-packages\\grpclib\\client.py\", line 296, in _raise_for_status\n",
      "    raise GRPCError(grpc_status,\n",
      "grpclib.exceptions.GRPCError: (<Status.UNKNOWN: 2>, \"Received :status = '302'\", None)\n",
      "2023-08-17 14:57:51,023 - qm - INFO     - Performing health check\n",
      "2023-08-17 14:57:51,032 - qm - INFO     - Health check passed\n",
      "2023-08-17 14:57:51,726 - qm - INFO     - Sending program to QOP for compilation\n",
      "2023-08-17 14:57:51,957 - qm - INFO     - Executing program\n",
      "Progress: [                                                  ] 1.1% (n=11/1000) --> elapsed time: 0.47s\r"
     ]
    },
    {
     "name": "stderr",
     "output_type": "stream",
     "text": [
      "C:\\Users\\painter\\AppData\\Local\\Temp\\ipykernel_20180\\4247986820.py:132: MatplotlibDeprecationWarning: Auto-removal of overlapping axes is deprecated since 3.6 and will be removed two minor releases later; explicitly call ax.remove() as needed.\n",
      "  plt.subplot(211)\n",
      "C:\\Users\\painter\\AppData\\Local\\Temp\\ipykernel_20180\\4247986820.py:140: MatplotlibDeprecationWarning: Auto-removal of overlapping axes is deprecated since 3.6 and will be removed two minor releases later; explicitly call ax.remove() as needed.\n",
      "  plt.subplot(212)\n"
     ]
    },
    {
     "name": "stdout",
     "output_type": "stream",
     "text": [
      "Progress: [                                                  ] 1.8% (n=18/1000) --> elapsed time: 0.85s\r"
     ]
    },
    {
     "name": "stderr",
     "output_type": "stream",
     "text": [
      "C:\\Users\\painter\\AppData\\Local\\Temp\\ipykernel_20180\\4247986820.py:132: MatplotlibDeprecationWarning: Auto-removal of overlapping axes is deprecated since 3.6 and will be removed two minor releases later; explicitly call ax.remove() as needed.\n",
      "  plt.subplot(211)\n",
      "C:\\Users\\painter\\AppData\\Local\\Temp\\ipykernel_20180\\4247986820.py:140: MatplotlibDeprecationWarning: Auto-removal of overlapping axes is deprecated since 3.6 and will be removed two minor releases later; explicitly call ax.remove() as needed.\n",
      "  plt.subplot(212)\n"
     ]
    },
    {
     "name": "stdout",
     "output_type": "stream",
     "text": [
      "Progress: [#                                                 ] 2.5% (n=25/1000) --> elapsed time: 1.25s\r"
     ]
    },
    {
     "name": "stderr",
     "output_type": "stream",
     "text": [
      "C:\\Users\\painter\\AppData\\Local\\Temp\\ipykernel_20180\\4247986820.py:132: MatplotlibDeprecationWarning: Auto-removal of overlapping axes is deprecated since 3.6 and will be removed two minor releases later; explicitly call ax.remove() as needed.\n",
      "  plt.subplot(211)\n",
      "C:\\Users\\painter\\AppData\\Local\\Temp\\ipykernel_20180\\4247986820.py:140: MatplotlibDeprecationWarning: Auto-removal of overlapping axes is deprecated since 3.6 and will be removed two minor releases later; explicitly call ax.remove() as needed.\n",
      "  plt.subplot(212)\n"
     ]
    },
    {
     "name": "stdout",
     "output_type": "stream",
     "text": [
      "Progress: [#                                                 ] 3.0% (n=30/1000) --> elapsed time: 1.62s\r"
     ]
    },
    {
     "name": "stderr",
     "output_type": "stream",
     "text": [
      "C:\\Users\\painter\\AppData\\Local\\Temp\\ipykernel_20180\\4247986820.py:132: MatplotlibDeprecationWarning: Auto-removal of overlapping axes is deprecated since 3.6 and will be removed two minor releases later; explicitly call ax.remove() as needed.\n",
      "  plt.subplot(211)\n",
      "C:\\Users\\painter\\AppData\\Local\\Temp\\ipykernel_20180\\4247986820.py:140: MatplotlibDeprecationWarning: Auto-removal of overlapping axes is deprecated since 3.6 and will be removed two minor releases later; explicitly call ax.remove() as needed.\n",
      "  plt.subplot(212)\n"
     ]
    },
    {
     "name": "stdout",
     "output_type": "stream",
     "text": [
      "Progress: [#                                                 ] 3.9% (n=39/1000) --> elapsed time: 2.17s\r"
     ]
    },
    {
     "name": "stderr",
     "output_type": "stream",
     "text": [
      "C:\\Users\\painter\\AppData\\Local\\Temp\\ipykernel_20180\\4247986820.py:132: MatplotlibDeprecationWarning: Auto-removal of overlapping axes is deprecated since 3.6 and will be removed two minor releases later; explicitly call ax.remove() as needed.\n",
      "  plt.subplot(211)\n",
      "C:\\Users\\painter\\AppData\\Local\\Temp\\ipykernel_20180\\4247986820.py:140: MatplotlibDeprecationWarning: Auto-removal of overlapping axes is deprecated since 3.6 and will be removed two minor releases later; explicitly call ax.remove() as needed.\n",
      "  plt.subplot(212)\n"
     ]
    },
    {
     "name": "stdout",
     "output_type": "stream",
     "text": [
      "Progress: [##                                                ] 4.5% (n=45/1000) --> elapsed time: 2.54s\r"
     ]
    },
    {
     "name": "stderr",
     "output_type": "stream",
     "text": [
      "C:\\Users\\painter\\AppData\\Local\\Temp\\ipykernel_20180\\4247986820.py:132: MatplotlibDeprecationWarning: Auto-removal of overlapping axes is deprecated since 3.6 and will be removed two minor releases later; explicitly call ax.remove() as needed.\n",
      "  plt.subplot(211)\n",
      "C:\\Users\\painter\\AppData\\Local\\Temp\\ipykernel_20180\\4247986820.py:140: MatplotlibDeprecationWarning: Auto-removal of overlapping axes is deprecated since 3.6 and will be removed two minor releases later; explicitly call ax.remove() as needed.\n",
      "  plt.subplot(212)\n"
     ]
    },
    {
     "name": "stdout",
     "output_type": "stream",
     "text": [
      "Progress: [##                                                ] 5.1% (n=51/1000) --> elapsed time: 2.90s\r"
     ]
    },
    {
     "name": "stderr",
     "output_type": "stream",
     "text": [
      "C:\\Users\\painter\\AppData\\Local\\Temp\\ipykernel_20180\\4247986820.py:132: MatplotlibDeprecationWarning: Auto-removal of overlapping axes is deprecated since 3.6 and will be removed two minor releases later; explicitly call ax.remove() as needed.\n",
      "  plt.subplot(211)\n",
      "C:\\Users\\painter\\AppData\\Local\\Temp\\ipykernel_20180\\4247986820.py:140: MatplotlibDeprecationWarning: Auto-removal of overlapping axes is deprecated since 3.6 and will be removed two minor releases later; explicitly call ax.remove() as needed.\n",
      "  plt.subplot(212)\n"
     ]
    },
    {
     "name": "stdout",
     "output_type": "stream",
     "text": [
      "Progress: [##                                                ] 5.7% (n=57/1000) --> elapsed time: 3.28s\r"
     ]
    },
    {
     "name": "stderr",
     "output_type": "stream",
     "text": [
      "C:\\Users\\painter\\AppData\\Local\\Temp\\ipykernel_20180\\4247986820.py:132: MatplotlibDeprecationWarning: Auto-removal of overlapping axes is deprecated since 3.6 and will be removed two minor releases later; explicitly call ax.remove() as needed.\n",
      "  plt.subplot(211)\n",
      "C:\\Users\\painter\\AppData\\Local\\Temp\\ipykernel_20180\\4247986820.py:140: MatplotlibDeprecationWarning: Auto-removal of overlapping axes is deprecated since 3.6 and will be removed two minor releases later; explicitly call ax.remove() as needed.\n",
      "  plt.subplot(212)\n"
     ]
    },
    {
     "name": "stdout",
     "output_type": "stream",
     "text": [
      "Progress: [###                                               ] 6.4% (n=64/1000) --> elapsed time: 3.66s\r"
     ]
    },
    {
     "name": "stderr",
     "output_type": "stream",
     "text": [
      "C:\\Users\\painter\\AppData\\Local\\Temp\\ipykernel_20180\\4247986820.py:132: MatplotlibDeprecationWarning: Auto-removal of overlapping axes is deprecated since 3.6 and will be removed two minor releases later; explicitly call ax.remove() as needed.\n",
      "  plt.subplot(211)\n",
      "C:\\Users\\painter\\AppData\\Local\\Temp\\ipykernel_20180\\4247986820.py:140: MatplotlibDeprecationWarning: Auto-removal of overlapping axes is deprecated since 3.6 and will be removed two minor releases later; explicitly call ax.remove() as needed.\n",
      "  plt.subplot(212)\n"
     ]
    },
    {
     "name": "stdout",
     "output_type": "stream",
     "text": [
      "Progress: [###                                               ] 6.9% (n=69/1000) --> elapsed time: 4.04s\r"
     ]
    },
    {
     "name": "stderr",
     "output_type": "stream",
     "text": [
      "C:\\Users\\painter\\AppData\\Local\\Temp\\ipykernel_20180\\4247986820.py:132: MatplotlibDeprecationWarning: Auto-removal of overlapping axes is deprecated since 3.6 and will be removed two minor releases later; explicitly call ax.remove() as needed.\n",
      "  plt.subplot(211)\n",
      "C:\\Users\\painter\\AppData\\Local\\Temp\\ipykernel_20180\\4247986820.py:140: MatplotlibDeprecationWarning: Auto-removal of overlapping axes is deprecated since 3.6 and will be removed two minor releases later; explicitly call ax.remove() as needed.\n",
      "  plt.subplot(212)\n"
     ]
    },
    {
     "name": "stdout",
     "output_type": "stream",
     "text": [
      "Progress: [###                                               ] 7.8% (n=78/1000) --> elapsed time: 4.56s\r"
     ]
    },
    {
     "name": "stderr",
     "output_type": "stream",
     "text": [
      "C:\\Users\\painter\\AppData\\Local\\Temp\\ipykernel_20180\\4247986820.py:132: MatplotlibDeprecationWarning: Auto-removal of overlapping axes is deprecated since 3.6 and will be removed two minor releases later; explicitly call ax.remove() as needed.\n",
      "  plt.subplot(211)\n",
      "C:\\Users\\painter\\AppData\\Local\\Temp\\ipykernel_20180\\4247986820.py:140: MatplotlibDeprecationWarning: Auto-removal of overlapping axes is deprecated since 3.6 and will be removed two minor releases later; explicitly call ax.remove() as needed.\n",
      "  plt.subplot(212)\n"
     ]
    },
    {
     "name": "stdout",
     "output_type": "stream",
     "text": [
      "Progress: [####                                              ] 8.8% (n=88/1000) --> elapsed time: 5.10s\r"
     ]
    },
    {
     "name": "stderr",
     "output_type": "stream",
     "text": [
      "C:\\Users\\painter\\AppData\\Local\\Temp\\ipykernel_20180\\4247986820.py:132: MatplotlibDeprecationWarning: Auto-removal of overlapping axes is deprecated since 3.6 and will be removed two minor releases later; explicitly call ax.remove() as needed.\n",
      "  plt.subplot(211)\n",
      "C:\\Users\\painter\\AppData\\Local\\Temp\\ipykernel_20180\\4247986820.py:140: MatplotlibDeprecationWarning: Auto-removal of overlapping axes is deprecated since 3.6 and will be removed two minor releases later; explicitly call ax.remove() as needed.\n",
      "  plt.subplot(212)\n"
     ]
    },
    {
     "name": "stdout",
     "output_type": "stream",
     "text": [
      "Progress: [####                                              ] 9.3% (n=93/1000) --> elapsed time: 5.46s\r"
     ]
    },
    {
     "name": "stderr",
     "output_type": "stream",
     "text": [
      "C:\\Users\\painter\\AppData\\Local\\Temp\\ipykernel_20180\\4247986820.py:132: MatplotlibDeprecationWarning: Auto-removal of overlapping axes is deprecated since 3.6 and will be removed two minor releases later; explicitly call ax.remove() as needed.\n",
      "  plt.subplot(211)\n",
      "C:\\Users\\painter\\AppData\\Local\\Temp\\ipykernel_20180\\4247986820.py:140: MatplotlibDeprecationWarning: Auto-removal of overlapping axes is deprecated since 3.6 and will be removed two minor releases later; explicitly call ax.remove() as needed.\n",
      "  plt.subplot(212)\n"
     ]
    },
    {
     "name": "stdout",
     "output_type": "stream",
     "text": [
      "Progress: [####                                              ] 9.9% (n=99/1000) --> elapsed time: 5.83s\r"
     ]
    },
    {
     "name": "stderr",
     "output_type": "stream",
     "text": [
      "C:\\Users\\painter\\AppData\\Local\\Temp\\ipykernel_20180\\4247986820.py:132: MatplotlibDeprecationWarning: Auto-removal of overlapping axes is deprecated since 3.6 and will be removed two minor releases later; explicitly call ax.remove() as needed.\n",
      "  plt.subplot(211)\n",
      "C:\\Users\\painter\\AppData\\Local\\Temp\\ipykernel_20180\\4247986820.py:140: MatplotlibDeprecationWarning: Auto-removal of overlapping axes is deprecated since 3.6 and will be removed two minor releases later; explicitly call ax.remove() as needed.\n",
      "  plt.subplot(212)\n"
     ]
    },
    {
     "name": "stdout",
     "output_type": "stream",
     "text": [
      "Progress: [#####                                             ] 10.5% (n=105/1000) --> elapsed time: 6.22s\r"
     ]
    },
    {
     "name": "stderr",
     "output_type": "stream",
     "text": [
      "C:\\Users\\painter\\AppData\\Local\\Temp\\ipykernel_20180\\4247986820.py:132: MatplotlibDeprecationWarning: Auto-removal of overlapping axes is deprecated since 3.6 and will be removed two minor releases later; explicitly call ax.remove() as needed.\n",
      "  plt.subplot(211)\n",
      "C:\\Users\\painter\\AppData\\Local\\Temp\\ipykernel_20180\\4247986820.py:140: MatplotlibDeprecationWarning: Auto-removal of overlapping axes is deprecated since 3.6 and will be removed two minor releases later; explicitly call ax.remove() as needed.\n",
      "  plt.subplot(212)\n"
     ]
    },
    {
     "name": "stdout",
     "output_type": "stream",
     "text": [
      "Progress: [#####                                             ] 11.0% (n=110/1000) --> elapsed time: 6.58s\r"
     ]
    },
    {
     "name": "stderr",
     "output_type": "stream",
     "text": [
      "C:\\Users\\painter\\AppData\\Local\\Temp\\ipykernel_20180\\4247986820.py:132: MatplotlibDeprecationWarning: Auto-removal of overlapping axes is deprecated since 3.6 and will be removed two minor releases later; explicitly call ax.remove() as needed.\n",
      "  plt.subplot(211)\n",
      "C:\\Users\\painter\\AppData\\Local\\Temp\\ipykernel_20180\\4247986820.py:140: MatplotlibDeprecationWarning: Auto-removal of overlapping axes is deprecated since 3.6 and will be removed two minor releases later; explicitly call ax.remove() as needed.\n",
      "  plt.subplot(212)\n"
     ]
    },
    {
     "name": "stdout",
     "output_type": "stream",
     "text": [
      "Progress: [#####                                             ] 11.9% (n=119/1000) --> elapsed time: 7.08s\r"
     ]
    },
    {
     "name": "stderr",
     "output_type": "stream",
     "text": [
      "C:\\Users\\painter\\AppData\\Local\\Temp\\ipykernel_20180\\4247986820.py:132: MatplotlibDeprecationWarning: Auto-removal of overlapping axes is deprecated since 3.6 and will be removed two minor releases later; explicitly call ax.remove() as needed.\n",
      "  plt.subplot(211)\n",
      "C:\\Users\\painter\\AppData\\Local\\Temp\\ipykernel_20180\\4247986820.py:140: MatplotlibDeprecationWarning: Auto-removal of overlapping axes is deprecated since 3.6 and will be removed two minor releases later; explicitly call ax.remove() as needed.\n",
      "  plt.subplot(212)\n"
     ]
    },
    {
     "name": "stdout",
     "output_type": "stream",
     "text": [
      "Progress: [######                                            ] 12.5% (n=125/1000) --> elapsed time: 7.46s\r"
     ]
    },
    {
     "name": "stderr",
     "output_type": "stream",
     "text": [
      "C:\\Users\\painter\\AppData\\Local\\Temp\\ipykernel_20180\\4247986820.py:132: MatplotlibDeprecationWarning: Auto-removal of overlapping axes is deprecated since 3.6 and will be removed two minor releases later; explicitly call ax.remove() as needed.\n",
      "  plt.subplot(211)\n",
      "C:\\Users\\painter\\AppData\\Local\\Temp\\ipykernel_20180\\4247986820.py:140: MatplotlibDeprecationWarning: Auto-removal of overlapping axes is deprecated since 3.6 and will be removed two minor releases later; explicitly call ax.remove() as needed.\n",
      "  plt.subplot(212)\n"
     ]
    },
    {
     "name": "stdout",
     "output_type": "stream",
     "text": [
      "Progress: [######                                            ] 13.2% (n=132/1000) --> elapsed time: 7.84s\r"
     ]
    },
    {
     "name": "stderr",
     "output_type": "stream",
     "text": [
      "C:\\Users\\painter\\AppData\\Local\\Temp\\ipykernel_20180\\4247986820.py:132: MatplotlibDeprecationWarning: Auto-removal of overlapping axes is deprecated since 3.6 and will be removed two minor releases later; explicitly call ax.remove() as needed.\n",
      "  plt.subplot(211)\n",
      "C:\\Users\\painter\\AppData\\Local\\Temp\\ipykernel_20180\\4247986820.py:140: MatplotlibDeprecationWarning: Auto-removal of overlapping axes is deprecated since 3.6 and will be removed two minor releases later; explicitly call ax.remove() as needed.\n",
      "  plt.subplot(212)\n"
     ]
    },
    {
     "name": "stdout",
     "output_type": "stream",
     "text": [
      "Progress: [######                                            ] 13.8% (n=138/1000) --> elapsed time: 8.25s\r"
     ]
    },
    {
     "name": "stderr",
     "output_type": "stream",
     "text": [
      "C:\\Users\\painter\\AppData\\Local\\Temp\\ipykernel_20180\\4247986820.py:132: MatplotlibDeprecationWarning: Auto-removal of overlapping axes is deprecated since 3.6 and will be removed two minor releases later; explicitly call ax.remove() as needed.\n",
      "  plt.subplot(211)\n",
      "C:\\Users\\painter\\AppData\\Local\\Temp\\ipykernel_20180\\4247986820.py:140: MatplotlibDeprecationWarning: Auto-removal of overlapping axes is deprecated since 3.6 and will be removed two minor releases later; explicitly call ax.remove() as needed.\n",
      "  plt.subplot(212)\n"
     ]
    },
    {
     "name": "stdout",
     "output_type": "stream",
     "text": [
      "Progress: [#######                                           ] 14.5% (n=145/1000) --> elapsed time: 8.68s\r"
     ]
    },
    {
     "name": "stderr",
     "output_type": "stream",
     "text": [
      "C:\\Users\\painter\\AppData\\Local\\Temp\\ipykernel_20180\\4247986820.py:132: MatplotlibDeprecationWarning: Auto-removal of overlapping axes is deprecated since 3.6 and will be removed two minor releases later; explicitly call ax.remove() as needed.\n",
      "  plt.subplot(211)\n",
      "C:\\Users\\painter\\AppData\\Local\\Temp\\ipykernel_20180\\4247986820.py:140: MatplotlibDeprecationWarning: Auto-removal of overlapping axes is deprecated since 3.6 and will be removed two minor releases later; explicitly call ax.remove() as needed.\n",
      "  plt.subplot(212)\n"
     ]
    },
    {
     "name": "stdout",
     "output_type": "stream",
     "text": [
      "Progress: [#######                                           ] 15.2% (n=152/1000) --> elapsed time: 9.06s\r"
     ]
    },
    {
     "name": "stderr",
     "output_type": "stream",
     "text": [
      "C:\\Users\\painter\\AppData\\Local\\Temp\\ipykernel_20180\\4247986820.py:132: MatplotlibDeprecationWarning: Auto-removal of overlapping axes is deprecated since 3.6 and will be removed two minor releases later; explicitly call ax.remove() as needed.\n",
      "  plt.subplot(211)\n",
      "C:\\Users\\painter\\AppData\\Local\\Temp\\ipykernel_20180\\4247986820.py:140: MatplotlibDeprecationWarning: Auto-removal of overlapping axes is deprecated since 3.6 and will be removed two minor releases later; explicitly call ax.remove() as needed.\n",
      "  plt.subplot(212)\n"
     ]
    },
    {
     "name": "stdout",
     "output_type": "stream",
     "text": [
      "Progress: [#######                                           ] 15.9% (n=159/1000) --> elapsed time: 9.56s\r"
     ]
    },
    {
     "name": "stderr",
     "output_type": "stream",
     "text": [
      "C:\\Users\\painter\\AppData\\Local\\Temp\\ipykernel_20180\\4247986820.py:132: MatplotlibDeprecationWarning: Auto-removal of overlapping axes is deprecated since 3.6 and will be removed two minor releases later; explicitly call ax.remove() as needed.\n",
      "  plt.subplot(211)\n",
      "C:\\Users\\painter\\AppData\\Local\\Temp\\ipykernel_20180\\4247986820.py:140: MatplotlibDeprecationWarning: Auto-removal of overlapping axes is deprecated since 3.6 and will be removed two minor releases later; explicitly call ax.remove() as needed.\n",
      "  plt.subplot(212)\n"
     ]
    },
    {
     "name": "stdout",
     "output_type": "stream",
     "text": [
      "Progress: [########                                          ] 16.7% (n=167/1000) --> elapsed time: 9.95s\r"
     ]
    },
    {
     "name": "stderr",
     "output_type": "stream",
     "text": [
      "C:\\Users\\painter\\AppData\\Local\\Temp\\ipykernel_20180\\4247986820.py:132: MatplotlibDeprecationWarning: Auto-removal of overlapping axes is deprecated since 3.6 and will be removed two minor releases later; explicitly call ax.remove() as needed.\n",
      "  plt.subplot(211)\n",
      "C:\\Users\\painter\\AppData\\Local\\Temp\\ipykernel_20180\\4247986820.py:140: MatplotlibDeprecationWarning: Auto-removal of overlapping axes is deprecated since 3.6 and will be removed two minor releases later; explicitly call ax.remove() as needed.\n",
      "  plt.subplot(212)\n"
     ]
    },
    {
     "name": "stdout",
     "output_type": "stream",
     "text": [
      "Progress: [########                                          ] 17.2% (n=172/1000) --> elapsed time: 10.34s\r"
     ]
    },
    {
     "name": "stderr",
     "output_type": "stream",
     "text": [
      "C:\\Users\\painter\\AppData\\Local\\Temp\\ipykernel_20180\\4247986820.py:132: MatplotlibDeprecationWarning: Auto-removal of overlapping axes is deprecated since 3.6 and will be removed two minor releases later; explicitly call ax.remove() as needed.\n",
      "  plt.subplot(211)\n",
      "C:\\Users\\painter\\AppData\\Local\\Temp\\ipykernel_20180\\4247986820.py:140: MatplotlibDeprecationWarning: Auto-removal of overlapping axes is deprecated since 3.6 and will be removed two minor releases later; explicitly call ax.remove() as needed.\n",
      "  plt.subplot(212)\n"
     ]
    },
    {
     "name": "stdout",
     "output_type": "stream",
     "text": [
      "Progress: [########                                          ] 17.8% (n=178/1000) --> elapsed time: 10.70s\r"
     ]
    },
    {
     "name": "stderr",
     "output_type": "stream",
     "text": [
      "C:\\Users\\painter\\AppData\\Local\\Temp\\ipykernel_20180\\4247986820.py:132: MatplotlibDeprecationWarning: Auto-removal of overlapping axes is deprecated since 3.6 and will be removed two minor releases later; explicitly call ax.remove() as needed.\n",
      "  plt.subplot(211)\n",
      "C:\\Users\\painter\\AppData\\Local\\Temp\\ipykernel_20180\\4247986820.py:140: MatplotlibDeprecationWarning: Auto-removal of overlapping axes is deprecated since 3.6 and will be removed two minor releases later; explicitly call ax.remove() as needed.\n",
      "  plt.subplot(212)\n"
     ]
    },
    {
     "name": "stdout",
     "output_type": "stream",
     "text": [
      "Progress: [#########                                         ] 18.5% (n=185/1000) --> elapsed time: 11.07s\r"
     ]
    },
    {
     "name": "stderr",
     "output_type": "stream",
     "text": [
      "C:\\Users\\painter\\AppData\\Local\\Temp\\ipykernel_20180\\4247986820.py:132: MatplotlibDeprecationWarning: Auto-removal of overlapping axes is deprecated since 3.6 and will be removed two minor releases later; explicitly call ax.remove() as needed.\n",
      "  plt.subplot(211)\n",
      "C:\\Users\\painter\\AppData\\Local\\Temp\\ipykernel_20180\\4247986820.py:140: MatplotlibDeprecationWarning: Auto-removal of overlapping axes is deprecated since 3.6 and will be removed two minor releases later; explicitly call ax.remove() as needed.\n",
      "  plt.subplot(212)\n"
     ]
    },
    {
     "name": "stdout",
     "output_type": "stream",
     "text": [
      "Progress: [#########                                         ] 19.0% (n=190/1000) --> elapsed time: 11.48s\r"
     ]
    },
    {
     "name": "stderr",
     "output_type": "stream",
     "text": [
      "C:\\Users\\painter\\AppData\\Local\\Temp\\ipykernel_20180\\4247986820.py:132: MatplotlibDeprecationWarning: Auto-removal of overlapping axes is deprecated since 3.6 and will be removed two minor releases later; explicitly call ax.remove() as needed.\n",
      "  plt.subplot(211)\n",
      "C:\\Users\\painter\\AppData\\Local\\Temp\\ipykernel_20180\\4247986820.py:140: MatplotlibDeprecationWarning: Auto-removal of overlapping axes is deprecated since 3.6 and will be removed two minor releases later; explicitly call ax.remove() as needed.\n",
      "  plt.subplot(212)\n"
     ]
    },
    {
     "name": "stdout",
     "output_type": "stream",
     "text": [
      "Progress: [##########                                        ] 20.0% (n=200/1000) --> elapsed time: 12.01s\r"
     ]
    },
    {
     "name": "stderr",
     "output_type": "stream",
     "text": [
      "C:\\Users\\painter\\AppData\\Local\\Temp\\ipykernel_20180\\4247986820.py:132: MatplotlibDeprecationWarning: Auto-removal of overlapping axes is deprecated since 3.6 and will be removed two minor releases later; explicitly call ax.remove() as needed.\n",
      "  plt.subplot(211)\n",
      "C:\\Users\\painter\\AppData\\Local\\Temp\\ipykernel_20180\\4247986820.py:140: MatplotlibDeprecationWarning: Auto-removal of overlapping axes is deprecated since 3.6 and will be removed two minor releases later; explicitly call ax.remove() as needed.\n",
      "  plt.subplot(212)\n"
     ]
    },
    {
     "name": "stdout",
     "output_type": "stream",
     "text": [
      "Progress: [##########                                        ] 20.6% (n=206/1000) --> elapsed time: 12.39s\r"
     ]
    },
    {
     "name": "stderr",
     "output_type": "stream",
     "text": [
      "C:\\Users\\painter\\AppData\\Local\\Temp\\ipykernel_20180\\4247986820.py:132: MatplotlibDeprecationWarning: Auto-removal of overlapping axes is deprecated since 3.6 and will be removed two minor releases later; explicitly call ax.remove() as needed.\n",
      "  plt.subplot(211)\n",
      "C:\\Users\\painter\\AppData\\Local\\Temp\\ipykernel_20180\\4247986820.py:140: MatplotlibDeprecationWarning: Auto-removal of overlapping axes is deprecated since 3.6 and will be removed two minor releases later; explicitly call ax.remove() as needed.\n",
      "  plt.subplot(212)\n"
     ]
    },
    {
     "name": "stdout",
     "output_type": "stream",
     "text": [
      "Progress: [##########                                        ] 21.2% (n=212/1000) --> elapsed time: 12.76s\r"
     ]
    },
    {
     "name": "stderr",
     "output_type": "stream",
     "text": [
      "C:\\Users\\painter\\AppData\\Local\\Temp\\ipykernel_20180\\4247986820.py:132: MatplotlibDeprecationWarning: Auto-removal of overlapping axes is deprecated since 3.6 and will be removed two minor releases later; explicitly call ax.remove() as needed.\n",
      "  plt.subplot(211)\n",
      "C:\\Users\\painter\\AppData\\Local\\Temp\\ipykernel_20180\\4247986820.py:140: MatplotlibDeprecationWarning: Auto-removal of overlapping axes is deprecated since 3.6 and will be removed two minor releases later; explicitly call ax.remove() as needed.\n",
      "  plt.subplot(212)\n"
     ]
    },
    {
     "name": "stdout",
     "output_type": "stream",
     "text": [
      "Progress: [##########                                        ] 21.9% (n=219/1000) --> elapsed time: 13.14s\r"
     ]
    },
    {
     "name": "stderr",
     "output_type": "stream",
     "text": [
      "C:\\Users\\painter\\AppData\\Local\\Temp\\ipykernel_20180\\4247986820.py:132: MatplotlibDeprecationWarning: Auto-removal of overlapping axes is deprecated since 3.6 and will be removed two minor releases later; explicitly call ax.remove() as needed.\n",
      "  plt.subplot(211)\n",
      "C:\\Users\\painter\\AppData\\Local\\Temp\\ipykernel_20180\\4247986820.py:140: MatplotlibDeprecationWarning: Auto-removal of overlapping axes is deprecated since 3.6 and will be removed two minor releases later; explicitly call ax.remove() as needed.\n",
      "  plt.subplot(212)\n"
     ]
    },
    {
     "name": "stdout",
     "output_type": "stream",
     "text": [
      "Progress: [###########                                       ] 22.5% (n=225/1000) --> elapsed time: 13.51s\r"
     ]
    },
    {
     "name": "stderr",
     "output_type": "stream",
     "text": [
      "C:\\Users\\painter\\AppData\\Local\\Temp\\ipykernel_20180\\4247986820.py:132: MatplotlibDeprecationWarning: Auto-removal of overlapping axes is deprecated since 3.6 and will be removed two minor releases later; explicitly call ax.remove() as needed.\n",
      "  plt.subplot(211)\n",
      "C:\\Users\\painter\\AppData\\Local\\Temp\\ipykernel_20180\\4247986820.py:140: MatplotlibDeprecationWarning: Auto-removal of overlapping axes is deprecated since 3.6 and will be removed two minor releases later; explicitly call ax.remove() as needed.\n",
      "  plt.subplot(212)\n"
     ]
    },
    {
     "name": "stdout",
     "output_type": "stream",
     "text": [
      "Progress: [###########                                       ] 23.0% (n=230/1000) --> elapsed time: 13.88s\r"
     ]
    },
    {
     "name": "stderr",
     "output_type": "stream",
     "text": [
      "C:\\Users\\painter\\AppData\\Local\\Temp\\ipykernel_20180\\4247986820.py:132: MatplotlibDeprecationWarning: Auto-removal of overlapping axes is deprecated since 3.6 and will be removed two minor releases later; explicitly call ax.remove() as needed.\n",
      "  plt.subplot(211)\n",
      "C:\\Users\\painter\\AppData\\Local\\Temp\\ipykernel_20180\\4247986820.py:140: MatplotlibDeprecationWarning: Auto-removal of overlapping axes is deprecated since 3.6 and will be removed two minor releases later; explicitly call ax.remove() as needed.\n",
      "  plt.subplot(212)\n"
     ]
    },
    {
     "name": "stdout",
     "output_type": "stream",
     "text": [
      "Progress: [###########                                       ] 23.9% (n=239/1000) --> elapsed time: 14.38s\r"
     ]
    },
    {
     "name": "stderr",
     "output_type": "stream",
     "text": [
      "C:\\Users\\painter\\AppData\\Local\\Temp\\ipykernel_20180\\4247986820.py:132: MatplotlibDeprecationWarning: Auto-removal of overlapping axes is deprecated since 3.6 and will be removed two minor releases later; explicitly call ax.remove() as needed.\n",
      "  plt.subplot(211)\n",
      "C:\\Users\\painter\\AppData\\Local\\Temp\\ipykernel_20180\\4247986820.py:140: MatplotlibDeprecationWarning: Auto-removal of overlapping axes is deprecated since 3.6 and will be removed two minor releases later; explicitly call ax.remove() as needed.\n",
      "  plt.subplot(212)\n"
     ]
    },
    {
     "name": "stdout",
     "output_type": "stream",
     "text": [
      "Progress: [############                                      ] 24.5% (n=245/1000) --> elapsed time: 14.76s\r"
     ]
    },
    {
     "name": "stderr",
     "output_type": "stream",
     "text": [
      "C:\\Users\\painter\\AppData\\Local\\Temp\\ipykernel_20180\\4247986820.py:132: MatplotlibDeprecationWarning: Auto-removal of overlapping axes is deprecated since 3.6 and will be removed two minor releases later; explicitly call ax.remove() as needed.\n",
      "  plt.subplot(211)\n",
      "C:\\Users\\painter\\AppData\\Local\\Temp\\ipykernel_20180\\4247986820.py:140: MatplotlibDeprecationWarning: Auto-removal of overlapping axes is deprecated since 3.6 and will be removed two minor releases later; explicitly call ax.remove() as needed.\n",
      "  plt.subplot(212)\n"
     ]
    },
    {
     "name": "stdout",
     "output_type": "stream",
     "text": [
      "Progress: [############                                      ] 25.2% (n=252/1000) --> elapsed time: 15.16s\r"
     ]
    },
    {
     "name": "stderr",
     "output_type": "stream",
     "text": [
      "C:\\Users\\painter\\AppData\\Local\\Temp\\ipykernel_20180\\4247986820.py:132: MatplotlibDeprecationWarning: Auto-removal of overlapping axes is deprecated since 3.6 and will be removed two minor releases later; explicitly call ax.remove() as needed.\n",
      "  plt.subplot(211)\n",
      "C:\\Users\\painter\\AppData\\Local\\Temp\\ipykernel_20180\\4247986820.py:140: MatplotlibDeprecationWarning: Auto-removal of overlapping axes is deprecated since 3.6 and will be removed two minor releases later; explicitly call ax.remove() as needed.\n",
      "  plt.subplot(212)\n"
     ]
    },
    {
     "name": "stdout",
     "output_type": "stream",
     "text": [
      "Progress: [############                                      ] 25.8% (n=258/1000) --> elapsed time: 15.58s\r"
     ]
    },
    {
     "name": "stderr",
     "output_type": "stream",
     "text": [
      "C:\\Users\\painter\\AppData\\Local\\Temp\\ipykernel_20180\\4247986820.py:132: MatplotlibDeprecationWarning: Auto-removal of overlapping axes is deprecated since 3.6 and will be removed two minor releases later; explicitly call ax.remove() as needed.\n",
      "  plt.subplot(211)\n",
      "C:\\Users\\painter\\AppData\\Local\\Temp\\ipykernel_20180\\4247986820.py:140: MatplotlibDeprecationWarning: Auto-removal of overlapping axes is deprecated since 3.6 and will be removed two minor releases later; explicitly call ax.remove() as needed.\n",
      "  plt.subplot(212)\n"
     ]
    },
    {
     "name": "stdout",
     "output_type": "stream",
     "text": [
      "Progress: [#############                                     ] 26.4% (n=264/1000) --> elapsed time: 15.95s\r"
     ]
    },
    {
     "name": "stderr",
     "output_type": "stream",
     "text": [
      "C:\\Users\\painter\\AppData\\Local\\Temp\\ipykernel_20180\\4247986820.py:132: MatplotlibDeprecationWarning: Auto-removal of overlapping axes is deprecated since 3.6 and will be removed two minor releases later; explicitly call ax.remove() as needed.\n",
      "  plt.subplot(211)\n",
      "C:\\Users\\painter\\AppData\\Local\\Temp\\ipykernel_20180\\4247986820.py:140: MatplotlibDeprecationWarning: Auto-removal of overlapping axes is deprecated since 3.6 and will be removed two minor releases later; explicitly call ax.remove() as needed.\n",
      "  plt.subplot(212)\n"
     ]
    },
    {
     "name": "stdout",
     "output_type": "stream",
     "text": [
      "Progress: [#############                                     ] 27.0% (n=270/1000) --> elapsed time: 16.33s\r"
     ]
    },
    {
     "name": "stderr",
     "output_type": "stream",
     "text": [
      "C:\\Users\\painter\\AppData\\Local\\Temp\\ipykernel_20180\\4247986820.py:132: MatplotlibDeprecationWarning: Auto-removal of overlapping axes is deprecated since 3.6 and will be removed two minor releases later; explicitly call ax.remove() as needed.\n",
      "  plt.subplot(211)\n",
      "C:\\Users\\painter\\AppData\\Local\\Temp\\ipykernel_20180\\4247986820.py:140: MatplotlibDeprecationWarning: Auto-removal of overlapping axes is deprecated since 3.6 and will be removed two minor releases later; explicitly call ax.remove() as needed.\n",
      "  plt.subplot(212)\n"
     ]
    },
    {
     "name": "stdout",
     "output_type": "stream",
     "text": [
      "Progress: [#############                                     ] 27.9% (n=279/1000) --> elapsed time: 16.85s\r"
     ]
    },
    {
     "name": "stderr",
     "output_type": "stream",
     "text": [
      "C:\\Users\\painter\\AppData\\Local\\Temp\\ipykernel_20180\\4247986820.py:132: MatplotlibDeprecationWarning: Auto-removal of overlapping axes is deprecated since 3.6 and will be removed two minor releases later; explicitly call ax.remove() as needed.\n",
      "  plt.subplot(211)\n",
      "C:\\Users\\painter\\AppData\\Local\\Temp\\ipykernel_20180\\4247986820.py:140: MatplotlibDeprecationWarning: Auto-removal of overlapping axes is deprecated since 3.6 and will be removed two minor releases later; explicitly call ax.remove() as needed.\n",
      "  plt.subplot(212)\n"
     ]
    },
    {
     "name": "stdout",
     "output_type": "stream",
     "text": [
      "Progress: [##############                                    ] 28.5% (n=285/1000) --> elapsed time: 17.23s\r"
     ]
    },
    {
     "name": "stderr",
     "output_type": "stream",
     "text": [
      "C:\\Users\\painter\\AppData\\Local\\Temp\\ipykernel_20180\\4247986820.py:132: MatplotlibDeprecationWarning: Auto-removal of overlapping axes is deprecated since 3.6 and will be removed two minor releases later; explicitly call ax.remove() as needed.\n",
      "  plt.subplot(211)\n",
      "C:\\Users\\painter\\AppData\\Local\\Temp\\ipykernel_20180\\4247986820.py:140: MatplotlibDeprecationWarning: Auto-removal of overlapping axes is deprecated since 3.6 and will be removed two minor releases later; explicitly call ax.remove() as needed.\n",
      "  plt.subplot(212)\n"
     ]
    },
    {
     "name": "stdout",
     "output_type": "stream",
     "text": [
      "Progress: [##############                                    ] 29.1% (n=291/1000) --> elapsed time: 17.63s\r"
     ]
    },
    {
     "name": "stderr",
     "output_type": "stream",
     "text": [
      "C:\\Users\\painter\\AppData\\Local\\Temp\\ipykernel_20180\\4247986820.py:132: MatplotlibDeprecationWarning: Auto-removal of overlapping axes is deprecated since 3.6 and will be removed two minor releases later; explicitly call ax.remove() as needed.\n",
      "  plt.subplot(211)\n",
      "C:\\Users\\painter\\AppData\\Local\\Temp\\ipykernel_20180\\4247986820.py:140: MatplotlibDeprecationWarning: Auto-removal of overlapping axes is deprecated since 3.6 and will be removed two minor releases later; explicitly call ax.remove() as needed.\n",
      "  plt.subplot(212)\n"
     ]
    },
    {
     "name": "stdout",
     "output_type": "stream",
     "text": [
      "Progress: [##############                                    ] 29.8% (n=298/1000) --> elapsed time: 18.00s\r"
     ]
    },
    {
     "name": "stderr",
     "output_type": "stream",
     "text": [
      "C:\\Users\\painter\\AppData\\Local\\Temp\\ipykernel_20180\\4247986820.py:132: MatplotlibDeprecationWarning: Auto-removal of overlapping axes is deprecated since 3.6 and will be removed two minor releases later; explicitly call ax.remove() as needed.\n",
      "  plt.subplot(211)\n",
      "C:\\Users\\painter\\AppData\\Local\\Temp\\ipykernel_20180\\4247986820.py:140: MatplotlibDeprecationWarning: Auto-removal of overlapping axes is deprecated since 3.6 and will be removed two minor releases later; explicitly call ax.remove() as needed.\n",
      "  plt.subplot(212)\n"
     ]
    },
    {
     "name": "stdout",
     "output_type": "stream",
     "text": [
      "Progress: [###############                                   ] 30.4% (n=304/1000) --> elapsed time: 18.37s\r"
     ]
    },
    {
     "name": "stderr",
     "output_type": "stream",
     "text": [
      "C:\\Users\\painter\\AppData\\Local\\Temp\\ipykernel_20180\\4247986820.py:132: MatplotlibDeprecationWarning: Auto-removal of overlapping axes is deprecated since 3.6 and will be removed two minor releases later; explicitly call ax.remove() as needed.\n",
      "  plt.subplot(211)\n",
      "C:\\Users\\painter\\AppData\\Local\\Temp\\ipykernel_20180\\4247986820.py:140: MatplotlibDeprecationWarning: Auto-removal of overlapping axes is deprecated since 3.6 and will be removed two minor releases later; explicitly call ax.remove() as needed.\n",
      "  plt.subplot(212)\n"
     ]
    },
    {
     "name": "stdout",
     "output_type": "stream",
     "text": [
      "Progress: [###############                                   ] 31.0% (n=310/1000) --> elapsed time: 18.78s\r"
     ]
    },
    {
     "name": "stderr",
     "output_type": "stream",
     "text": [
      "C:\\Users\\painter\\AppData\\Local\\Temp\\ipykernel_20180\\4247986820.py:132: MatplotlibDeprecationWarning: Auto-removal of overlapping axes is deprecated since 3.6 and will be removed two minor releases later; explicitly call ax.remove() as needed.\n",
      "  plt.subplot(211)\n",
      "C:\\Users\\painter\\AppData\\Local\\Temp\\ipykernel_20180\\4247986820.py:140: MatplotlibDeprecationWarning: Auto-removal of overlapping axes is deprecated since 3.6 and will be removed two minor releases later; explicitly call ax.remove() as needed.\n",
      "  plt.subplot(212)\n"
     ]
    },
    {
     "name": "stdout",
     "output_type": "stream",
     "text": [
      "Progress: [###############                                   ] 31.9% (n=319/1000) --> elapsed time: 19.31s\r"
     ]
    },
    {
     "name": "stderr",
     "output_type": "stream",
     "text": [
      "C:\\Users\\painter\\AppData\\Local\\Temp\\ipykernel_20180\\4247986820.py:132: MatplotlibDeprecationWarning: Auto-removal of overlapping axes is deprecated since 3.6 and will be removed two minor releases later; explicitly call ax.remove() as needed.\n",
      "  plt.subplot(211)\n",
      "C:\\Users\\painter\\AppData\\Local\\Temp\\ipykernel_20180\\4247986820.py:140: MatplotlibDeprecationWarning: Auto-removal of overlapping axes is deprecated since 3.6 and will be removed two minor releases later; explicitly call ax.remove() as needed.\n",
      "  plt.subplot(212)\n"
     ]
    },
    {
     "name": "stdout",
     "output_type": "stream",
     "text": [
      "Progress: [################                                  ] 32.6% (n=326/1000) --> elapsed time: 19.68s\r"
     ]
    },
    {
     "name": "stderr",
     "output_type": "stream",
     "text": [
      "C:\\Users\\painter\\AppData\\Local\\Temp\\ipykernel_20180\\4247986820.py:132: MatplotlibDeprecationWarning: Auto-removal of overlapping axes is deprecated since 3.6 and will be removed two minor releases later; explicitly call ax.remove() as needed.\n",
      "  plt.subplot(211)\n",
      "C:\\Users\\painter\\AppData\\Local\\Temp\\ipykernel_20180\\4247986820.py:140: MatplotlibDeprecationWarning: Auto-removal of overlapping axes is deprecated since 3.6 and will be removed two minor releases later; explicitly call ax.remove() as needed.\n",
      "  plt.subplot(212)\n"
     ]
    },
    {
     "name": "stdout",
     "output_type": "stream",
     "text": [
      "Progress: [################                                  ] 33.1% (n=331/1000) --> elapsed time: 20.04s\r"
     ]
    },
    {
     "name": "stderr",
     "output_type": "stream",
     "text": [
      "C:\\Users\\painter\\AppData\\Local\\Temp\\ipykernel_20180\\4247986820.py:132: MatplotlibDeprecationWarning: Auto-removal of overlapping axes is deprecated since 3.6 and will be removed two minor releases later; explicitly call ax.remove() as needed.\n",
      "  plt.subplot(211)\n",
      "C:\\Users\\painter\\AppData\\Local\\Temp\\ipykernel_20180\\4247986820.py:140: MatplotlibDeprecationWarning: Auto-removal of overlapping axes is deprecated since 3.6 and will be removed two minor releases later; explicitly call ax.remove() as needed.\n",
      "  plt.subplot(212)\n"
     ]
    },
    {
     "name": "stdout",
     "output_type": "stream",
     "text": [
      "Progress: [################                                  ] 33.7% (n=337/1000) --> elapsed time: 20.41s\r"
     ]
    },
    {
     "name": "stderr",
     "output_type": "stream",
     "text": [
      "C:\\Users\\painter\\AppData\\Local\\Temp\\ipykernel_20180\\4247986820.py:132: MatplotlibDeprecationWarning: Auto-removal of overlapping axes is deprecated since 3.6 and will be removed two minor releases later; explicitly call ax.remove() as needed.\n",
      "  plt.subplot(211)\n",
      "C:\\Users\\painter\\AppData\\Local\\Temp\\ipykernel_20180\\4247986820.py:140: MatplotlibDeprecationWarning: Auto-removal of overlapping axes is deprecated since 3.6 and will be removed two minor releases later; explicitly call ax.remove() as needed.\n",
      "  plt.subplot(212)\n"
     ]
    },
    {
     "name": "stdout",
     "output_type": "stream",
     "text": [
      "Progress: [#################                                 ] 34.3% (n=343/1000) --> elapsed time: 20.80s\r"
     ]
    },
    {
     "name": "stderr",
     "output_type": "stream",
     "text": [
      "C:\\Users\\painter\\AppData\\Local\\Temp\\ipykernel_20180\\4247986820.py:132: MatplotlibDeprecationWarning: Auto-removal of overlapping axes is deprecated since 3.6 and will be removed two minor releases later; explicitly call ax.remove() as needed.\n",
      "  plt.subplot(211)\n",
      "C:\\Users\\painter\\AppData\\Local\\Temp\\ipykernel_20180\\4247986820.py:140: MatplotlibDeprecationWarning: Auto-removal of overlapping axes is deprecated since 3.6 and will be removed two minor releases later; explicitly call ax.remove() as needed.\n",
      "  plt.subplot(212)\n"
     ]
    },
    {
     "name": "stdout",
     "output_type": "stream",
     "text": [
      "Progress: [#################                                 ] 35.0% (n=350/1000) --> elapsed time: 21.18s\r"
     ]
    },
    {
     "name": "stderr",
     "output_type": "stream",
     "text": [
      "C:\\Users\\painter\\AppData\\Local\\Temp\\ipykernel_20180\\4247986820.py:132: MatplotlibDeprecationWarning: Auto-removal of overlapping axes is deprecated since 3.6 and will be removed two minor releases later; explicitly call ax.remove() as needed.\n",
      "  plt.subplot(211)\n",
      "C:\\Users\\painter\\AppData\\Local\\Temp\\ipykernel_20180\\4247986820.py:140: MatplotlibDeprecationWarning: Auto-removal of overlapping axes is deprecated since 3.6 and will be removed two minor releases later; explicitly call ax.remove() as needed.\n",
      "  plt.subplot(212)\n"
     ]
    },
    {
     "name": "stdout",
     "output_type": "stream",
     "text": [
      "Progress: [#################                                 ] 35.9% (n=359/1000) --> elapsed time: 21.71s\r"
     ]
    },
    {
     "name": "stderr",
     "output_type": "stream",
     "text": [
      "C:\\Users\\painter\\AppData\\Local\\Temp\\ipykernel_20180\\4247986820.py:132: MatplotlibDeprecationWarning: Auto-removal of overlapping axes is deprecated since 3.6 and will be removed two minor releases later; explicitly call ax.remove() as needed.\n",
      "  plt.subplot(211)\n",
      "C:\\Users\\painter\\AppData\\Local\\Temp\\ipykernel_20180\\4247986820.py:140: MatplotlibDeprecationWarning: Auto-removal of overlapping axes is deprecated since 3.6 and will be removed two minor releases later; explicitly call ax.remove() as needed.\n",
      "  plt.subplot(212)\n"
     ]
    },
    {
     "name": "stdout",
     "output_type": "stream",
     "text": [
      "Progress: [##################                                ] 36.5% (n=365/1000) --> elapsed time: 22.11s\r"
     ]
    },
    {
     "name": "stderr",
     "output_type": "stream",
     "text": [
      "C:\\Users\\painter\\AppData\\Local\\Temp\\ipykernel_20180\\4247986820.py:132: MatplotlibDeprecationWarning: Auto-removal of overlapping axes is deprecated since 3.6 and will be removed two minor releases later; explicitly call ax.remove() as needed.\n",
      "  plt.subplot(211)\n",
      "C:\\Users\\painter\\AppData\\Local\\Temp\\ipykernel_20180\\4247986820.py:140: MatplotlibDeprecationWarning: Auto-removal of overlapping axes is deprecated since 3.6 and will be removed two minor releases later; explicitly call ax.remove() as needed.\n",
      "  plt.subplot(212)\n"
     ]
    },
    {
     "name": "stdout",
     "output_type": "stream",
     "text": [
      "Progress: [##################                                ] 37.1% (n=371/1000) --> elapsed time: 22.46s\r"
     ]
    },
    {
     "name": "stderr",
     "output_type": "stream",
     "text": [
      "C:\\Users\\painter\\AppData\\Local\\Temp\\ipykernel_20180\\4247986820.py:132: MatplotlibDeprecationWarning: Auto-removal of overlapping axes is deprecated since 3.6 and will be removed two minor releases later; explicitly call ax.remove() as needed.\n",
      "  plt.subplot(211)\n",
      "C:\\Users\\painter\\AppData\\Local\\Temp\\ipykernel_20180\\4247986820.py:140: MatplotlibDeprecationWarning: Auto-removal of overlapping axes is deprecated since 3.6 and will be removed two minor releases later; explicitly call ax.remove() as needed.\n",
      "  plt.subplot(212)\n"
     ]
    },
    {
     "name": "stdout",
     "output_type": "stream",
     "text": [
      "Progress: [##################                                ] 37.7% (n=377/1000) --> elapsed time: 22.85s\r"
     ]
    },
    {
     "name": "stderr",
     "output_type": "stream",
     "text": [
      "C:\\Users\\painter\\AppData\\Local\\Temp\\ipykernel_20180\\4247986820.py:132: MatplotlibDeprecationWarning: Auto-removal of overlapping axes is deprecated since 3.6 and will be removed two minor releases later; explicitly call ax.remove() as needed.\n",
      "  plt.subplot(211)\n",
      "C:\\Users\\painter\\AppData\\Local\\Temp\\ipykernel_20180\\4247986820.py:140: MatplotlibDeprecationWarning: Auto-removal of overlapping axes is deprecated since 3.6 and will be removed two minor releases later; explicitly call ax.remove() as needed.\n",
      "  plt.subplot(212)\n"
     ]
    },
    {
     "name": "stdout",
     "output_type": "stream",
     "text": [
      "Progress: [###################                               ] 38.4% (n=384/1000) --> elapsed time: 23.24s\r"
     ]
    },
    {
     "name": "stderr",
     "output_type": "stream",
     "text": [
      "C:\\Users\\painter\\AppData\\Local\\Temp\\ipykernel_20180\\4247986820.py:132: MatplotlibDeprecationWarning: Auto-removal of overlapping axes is deprecated since 3.6 and will be removed two minor releases later; explicitly call ax.remove() as needed.\n",
      "  plt.subplot(211)\n",
      "C:\\Users\\painter\\AppData\\Local\\Temp\\ipykernel_20180\\4247986820.py:140: MatplotlibDeprecationWarning: Auto-removal of overlapping axes is deprecated since 3.6 and will be removed two minor releases later; explicitly call ax.remove() as needed.\n",
      "  plt.subplot(212)\n"
     ]
    },
    {
     "name": "stdout",
     "output_type": "stream",
     "text": [
      "Progress: [###################                               ] 39.0% (n=390/1000) --> elapsed time: 23.61s\r"
     ]
    },
    {
     "name": "stderr",
     "output_type": "stream",
     "text": [
      "C:\\Users\\painter\\AppData\\Local\\Temp\\ipykernel_20180\\4247986820.py:132: MatplotlibDeprecationWarning: Auto-removal of overlapping axes is deprecated since 3.6 and will be removed two minor releases later; explicitly call ax.remove() as needed.\n",
      "  plt.subplot(211)\n",
      "C:\\Users\\painter\\AppData\\Local\\Temp\\ipykernel_20180\\4247986820.py:140: MatplotlibDeprecationWarning: Auto-removal of overlapping axes is deprecated since 3.6 and will be removed two minor releases later; explicitly call ax.remove() as needed.\n",
      "  plt.subplot(212)\n"
     ]
    },
    {
     "name": "stdout",
     "output_type": "stream",
     "text": [
      "Progress: [###################                               ] 39.8% (n=398/1000) --> elapsed time: 24.11s\r"
     ]
    },
    {
     "name": "stderr",
     "output_type": "stream",
     "text": [
      "C:\\Users\\painter\\AppData\\Local\\Temp\\ipykernel_20180\\4247986820.py:132: MatplotlibDeprecationWarning: Auto-removal of overlapping axes is deprecated since 3.6 and will be removed two minor releases later; explicitly call ax.remove() as needed.\n",
      "  plt.subplot(211)\n",
      "C:\\Users\\painter\\AppData\\Local\\Temp\\ipykernel_20180\\4247986820.py:140: MatplotlibDeprecationWarning: Auto-removal of overlapping axes is deprecated since 3.6 and will be removed two minor releases later; explicitly call ax.remove() as needed.\n",
      "  plt.subplot(212)\n"
     ]
    },
    {
     "name": "stdout",
     "output_type": "stream",
     "text": [
      "Progress: [####################                              ] 40.4% (n=404/1000) --> elapsed time: 24.47s\r"
     ]
    },
    {
     "name": "stderr",
     "output_type": "stream",
     "text": [
      "C:\\Users\\painter\\AppData\\Local\\Temp\\ipykernel_20180\\4247986820.py:132: MatplotlibDeprecationWarning: Auto-removal of overlapping axes is deprecated since 3.6 and will be removed two minor releases later; explicitly call ax.remove() as needed.\n",
      "  plt.subplot(211)\n",
      "C:\\Users\\painter\\AppData\\Local\\Temp\\ipykernel_20180\\4247986820.py:140: MatplotlibDeprecationWarning: Auto-removal of overlapping axes is deprecated since 3.6 and will be removed two minor releases later; explicitly call ax.remove() as needed.\n",
      "  plt.subplot(212)\n"
     ]
    },
    {
     "name": "stdout",
     "output_type": "stream",
     "text": [
      "Progress: [####################                              ] 41.0% (n=410/1000) --> elapsed time: 24.86s\r"
     ]
    },
    {
     "name": "stderr",
     "output_type": "stream",
     "text": [
      "C:\\Users\\painter\\AppData\\Local\\Temp\\ipykernel_20180\\4247986820.py:132: MatplotlibDeprecationWarning: Auto-removal of overlapping axes is deprecated since 3.6 and will be removed two minor releases later; explicitly call ax.remove() as needed.\n",
      "  plt.subplot(211)\n",
      "C:\\Users\\painter\\AppData\\Local\\Temp\\ipykernel_20180\\4247986820.py:140: MatplotlibDeprecationWarning: Auto-removal of overlapping axes is deprecated since 3.6 and will be removed two minor releases later; explicitly call ax.remove() as needed.\n",
      "  plt.subplot(212)\n"
     ]
    },
    {
     "name": "stdout",
     "output_type": "stream",
     "text": [
      "Progress: [####################                              ] 41.6% (n=416/1000) --> elapsed time: 25.23s\r"
     ]
    },
    {
     "name": "stderr",
     "output_type": "stream",
     "text": [
      "C:\\Users\\painter\\AppData\\Local\\Temp\\ipykernel_20180\\4247986820.py:132: MatplotlibDeprecationWarning: Auto-removal of overlapping axes is deprecated since 3.6 and will be removed two minor releases later; explicitly call ax.remove() as needed.\n",
      "  plt.subplot(211)\n",
      "C:\\Users\\painter\\AppData\\Local\\Temp\\ipykernel_20180\\4247986820.py:140: MatplotlibDeprecationWarning: Auto-removal of overlapping axes is deprecated since 3.6 and will be removed two minor releases later; explicitly call ax.remove() as needed.\n",
      "  plt.subplot(212)\n"
     ]
    },
    {
     "name": "stdout",
     "output_type": "stream",
     "text": [
      "Progress: [#####################                             ] 42.2% (n=422/1000) --> elapsed time: 25.61s\r"
     ]
    },
    {
     "name": "stderr",
     "output_type": "stream",
     "text": [
      "C:\\Users\\painter\\AppData\\Local\\Temp\\ipykernel_20180\\4247986820.py:132: MatplotlibDeprecationWarning: Auto-removal of overlapping axes is deprecated since 3.6 and will be removed two minor releases later; explicitly call ax.remove() as needed.\n",
      "  plt.subplot(211)\n",
      "C:\\Users\\painter\\AppData\\Local\\Temp\\ipykernel_20180\\4247986820.py:140: MatplotlibDeprecationWarning: Auto-removal of overlapping axes is deprecated since 3.6 and will be removed two minor releases later; explicitly call ax.remove() as needed.\n",
      "  plt.subplot(212)\n"
     ]
    },
    {
     "name": "stdout",
     "output_type": "stream",
     "text": [
      "Progress: [#####################                             ] 42.8% (n=428/1000) --> elapsed time: 25.96s\r"
     ]
    },
    {
     "name": "stderr",
     "output_type": "stream",
     "text": [
      "C:\\Users\\painter\\AppData\\Local\\Temp\\ipykernel_20180\\4247986820.py:132: MatplotlibDeprecationWarning: Auto-removal of overlapping axes is deprecated since 3.6 and will be removed two minor releases later; explicitly call ax.remove() as needed.\n",
      "  plt.subplot(211)\n",
      "C:\\Users\\painter\\AppData\\Local\\Temp\\ipykernel_20180\\4247986820.py:140: MatplotlibDeprecationWarning: Auto-removal of overlapping axes is deprecated since 3.6 and will be removed two minor releases later; explicitly call ax.remove() as needed.\n",
      "  plt.subplot(212)\n"
     ]
    },
    {
     "name": "stdout",
     "output_type": "stream",
     "text": [
      "Progress: [#####################                             ] 43.7% (n=437/1000) --> elapsed time: 26.49s\r"
     ]
    },
    {
     "name": "stderr",
     "output_type": "stream",
     "text": [
      "C:\\Users\\painter\\AppData\\Local\\Temp\\ipykernel_20180\\4247986820.py:132: MatplotlibDeprecationWarning: Auto-removal of overlapping axes is deprecated since 3.6 and will be removed two minor releases later; explicitly call ax.remove() as needed.\n",
      "  plt.subplot(211)\n",
      "C:\\Users\\painter\\AppData\\Local\\Temp\\ipykernel_20180\\4247986820.py:140: MatplotlibDeprecationWarning: Auto-removal of overlapping axes is deprecated since 3.6 and will be removed two minor releases later; explicitly call ax.remove() as needed.\n",
      "  plt.subplot(212)\n"
     ]
    },
    {
     "name": "stdout",
     "output_type": "stream",
     "text": [
      "Progress: [######################                            ] 44.2% (n=442/1000) --> elapsed time: 26.85s\r"
     ]
    },
    {
     "name": "stderr",
     "output_type": "stream",
     "text": [
      "C:\\Users\\painter\\AppData\\Local\\Temp\\ipykernel_20180\\4247986820.py:132: MatplotlibDeprecationWarning: Auto-removal of overlapping axes is deprecated since 3.6 and will be removed two minor releases later; explicitly call ax.remove() as needed.\n",
      "  plt.subplot(211)\n",
      "C:\\Users\\painter\\AppData\\Local\\Temp\\ipykernel_20180\\4247986820.py:140: MatplotlibDeprecationWarning: Auto-removal of overlapping axes is deprecated since 3.6 and will be removed two minor releases later; explicitly call ax.remove() as needed.\n",
      "  plt.subplot(212)\n"
     ]
    },
    {
     "name": "stdout",
     "output_type": "stream",
     "text": [
      "Progress: [######################                            ] 44.8% (n=448/1000) --> elapsed time: 27.22s\r"
     ]
    },
    {
     "name": "stderr",
     "output_type": "stream",
     "text": [
      "C:\\Users\\painter\\AppData\\Local\\Temp\\ipykernel_20180\\4247986820.py:132: MatplotlibDeprecationWarning: Auto-removal of overlapping axes is deprecated since 3.6 and will be removed two minor releases later; explicitly call ax.remove() as needed.\n",
      "  plt.subplot(211)\n",
      "C:\\Users\\painter\\AppData\\Local\\Temp\\ipykernel_20180\\4247986820.py:140: MatplotlibDeprecationWarning: Auto-removal of overlapping axes is deprecated since 3.6 and will be removed two minor releases later; explicitly call ax.remove() as needed.\n",
      "  plt.subplot(212)\n"
     ]
    },
    {
     "name": "stdout",
     "output_type": "stream",
     "text": [
      "Progress: [######################                            ] 45.5% (n=455/1000) --> elapsed time: 27.62s\r"
     ]
    },
    {
     "name": "stderr",
     "output_type": "stream",
     "text": [
      "C:\\Users\\painter\\AppData\\Local\\Temp\\ipykernel_20180\\4247986820.py:132: MatplotlibDeprecationWarning: Auto-removal of overlapping axes is deprecated since 3.6 and will be removed two minor releases later; explicitly call ax.remove() as needed.\n",
      "  plt.subplot(211)\n",
      "C:\\Users\\painter\\AppData\\Local\\Temp\\ipykernel_20180\\4247986820.py:140: MatplotlibDeprecationWarning: Auto-removal of overlapping axes is deprecated since 3.6 and will be removed two minor releases later; explicitly call ax.remove() as needed.\n",
      "  plt.subplot(212)\n"
     ]
    },
    {
     "name": "stdout",
     "output_type": "stream",
     "text": [
      "Progress: [#######################                           ] 46.1% (n=461/1000) --> elapsed time: 28.01s\r"
     ]
    },
    {
     "name": "stderr",
     "output_type": "stream",
     "text": [
      "C:\\Users\\painter\\AppData\\Local\\Temp\\ipykernel_20180\\4247986820.py:132: MatplotlibDeprecationWarning: Auto-removal of overlapping axes is deprecated since 3.6 and will be removed two minor releases later; explicitly call ax.remove() as needed.\n",
      "  plt.subplot(211)\n",
      "C:\\Users\\painter\\AppData\\Local\\Temp\\ipykernel_20180\\4247986820.py:140: MatplotlibDeprecationWarning: Auto-removal of overlapping axes is deprecated since 3.6 and will be removed two minor releases later; explicitly call ax.remove() as needed.\n",
      "  plt.subplot(212)\n"
     ]
    },
    {
     "name": "stdout",
     "output_type": "stream",
     "text": [
      "Progress: [#######################                           ] 46.7% (n=467/1000) --> elapsed time: 28.37s\r"
     ]
    },
    {
     "name": "stderr",
     "output_type": "stream",
     "text": [
      "C:\\Users\\painter\\AppData\\Local\\Temp\\ipykernel_20180\\4247986820.py:132: MatplotlibDeprecationWarning: Auto-removal of overlapping axes is deprecated since 3.6 and will be removed two minor releases later; explicitly call ax.remove() as needed.\n",
      "  plt.subplot(211)\n",
      "C:\\Users\\painter\\AppData\\Local\\Temp\\ipykernel_20180\\4247986820.py:140: MatplotlibDeprecationWarning: Auto-removal of overlapping axes is deprecated since 3.6 and will be removed two minor releases later; explicitly call ax.remove() as needed.\n",
      "  plt.subplot(212)\n"
     ]
    },
    {
     "name": "stdout",
     "output_type": "stream",
     "text": [
      "Progress: [#######################                           ] 47.5% (n=475/1000) --> elapsed time: 28.86s\r"
     ]
    },
    {
     "name": "stderr",
     "output_type": "stream",
     "text": [
      "C:\\Users\\painter\\AppData\\Local\\Temp\\ipykernel_20180\\4247986820.py:132: MatplotlibDeprecationWarning: Auto-removal of overlapping axes is deprecated since 3.6 and will be removed two minor releases later; explicitly call ax.remove() as needed.\n",
      "  plt.subplot(211)\n",
      "C:\\Users\\painter\\AppData\\Local\\Temp\\ipykernel_20180\\4247986820.py:140: MatplotlibDeprecationWarning: Auto-removal of overlapping axes is deprecated since 3.6 and will be removed two minor releases later; explicitly call ax.remove() as needed.\n",
      "  plt.subplot(212)\n"
     ]
    },
    {
     "name": "stdout",
     "output_type": "stream",
     "text": [
      "Progress: [########################                          ] 48.1% (n=481/1000) --> elapsed time: 29.23s\r"
     ]
    },
    {
     "name": "stderr",
     "output_type": "stream",
     "text": [
      "C:\\Users\\painter\\AppData\\Local\\Temp\\ipykernel_20180\\4247986820.py:132: MatplotlibDeprecationWarning: Auto-removal of overlapping axes is deprecated since 3.6 and will be removed two minor releases later; explicitly call ax.remove() as needed.\n",
      "  plt.subplot(211)\n",
      "C:\\Users\\painter\\AppData\\Local\\Temp\\ipykernel_20180\\4247986820.py:140: MatplotlibDeprecationWarning: Auto-removal of overlapping axes is deprecated since 3.6 and will be removed two minor releases later; explicitly call ax.remove() as needed.\n",
      "  plt.subplot(212)\n"
     ]
    },
    {
     "name": "stdout",
     "output_type": "stream",
     "text": [
      "Progress: [########################                          ] 48.7% (n=487/1000) --> elapsed time: 29.59s\r"
     ]
    },
    {
     "name": "stderr",
     "output_type": "stream",
     "text": [
      "C:\\Users\\painter\\AppData\\Local\\Temp\\ipykernel_20180\\4247986820.py:132: MatplotlibDeprecationWarning: Auto-removal of overlapping axes is deprecated since 3.6 and will be removed two minor releases later; explicitly call ax.remove() as needed.\n",
      "  plt.subplot(211)\n",
      "C:\\Users\\painter\\AppData\\Local\\Temp\\ipykernel_20180\\4247986820.py:140: MatplotlibDeprecationWarning: Auto-removal of overlapping axes is deprecated since 3.6 and will be removed two minor releases later; explicitly call ax.remove() as needed.\n",
      "  plt.subplot(212)\n"
     ]
    },
    {
     "name": "stdout",
     "output_type": "stream",
     "text": [
      "Progress: [########################                          ] 49.4% (n=494/1000) --> elapsed time: 29.99s\r"
     ]
    },
    {
     "name": "stderr",
     "output_type": "stream",
     "text": [
      "C:\\Users\\painter\\AppData\\Local\\Temp\\ipykernel_20180\\4247986820.py:132: MatplotlibDeprecationWarning: Auto-removal of overlapping axes is deprecated since 3.6 and will be removed two minor releases later; explicitly call ax.remove() as needed.\n",
      "  plt.subplot(211)\n",
      "C:\\Users\\painter\\AppData\\Local\\Temp\\ipykernel_20180\\4247986820.py:140: MatplotlibDeprecationWarning: Auto-removal of overlapping axes is deprecated since 3.6 and will be removed two minor releases later; explicitly call ax.remove() as needed.\n",
      "  plt.subplot(212)\n"
     ]
    },
    {
     "name": "stdout",
     "output_type": "stream",
     "text": [
      "Progress: [#########################                         ] 50.0% (n=500/1000) --> elapsed time: 30.37s\r"
     ]
    },
    {
     "name": "stderr",
     "output_type": "stream",
     "text": [
      "C:\\Users\\painter\\AppData\\Local\\Temp\\ipykernel_20180\\4247986820.py:132: MatplotlibDeprecationWarning: Auto-removal of overlapping axes is deprecated since 3.6 and will be removed two minor releases later; explicitly call ax.remove() as needed.\n",
      "  plt.subplot(211)\n",
      "C:\\Users\\painter\\AppData\\Local\\Temp\\ipykernel_20180\\4247986820.py:140: MatplotlibDeprecationWarning: Auto-removal of overlapping axes is deprecated since 3.6 and will be removed two minor releases later; explicitly call ax.remove() as needed.\n",
      "  plt.subplot(212)\n"
     ]
    },
    {
     "name": "stdout",
     "output_type": "stream",
     "text": [
      "Progress: [#########################                         ] 50.7% (n=507/1000) --> elapsed time: 30.76s\r"
     ]
    },
    {
     "name": "stderr",
     "output_type": "stream",
     "text": [
      "C:\\Users\\painter\\AppData\\Local\\Temp\\ipykernel_20180\\4247986820.py:132: MatplotlibDeprecationWarning: Auto-removal of overlapping axes is deprecated since 3.6 and will be removed two minor releases later; explicitly call ax.remove() as needed.\n",
      "  plt.subplot(211)\n",
      "C:\\Users\\painter\\AppData\\Local\\Temp\\ipykernel_20180\\4247986820.py:140: MatplotlibDeprecationWarning: Auto-removal of overlapping axes is deprecated since 3.6 and will be removed two minor releases later; explicitly call ax.remove() as needed.\n",
      "  plt.subplot(212)\n"
     ]
    },
    {
     "name": "stdout",
     "output_type": "stream",
     "text": [
      "Progress: [#########################                         ] 51.4% (n=514/1000) --> elapsed time: 31.28s\r"
     ]
    },
    {
     "name": "stderr",
     "output_type": "stream",
     "text": [
      "C:\\Users\\painter\\AppData\\Local\\Temp\\ipykernel_20180\\4247986820.py:132: MatplotlibDeprecationWarning: Auto-removal of overlapping axes is deprecated since 3.6 and will be removed two minor releases later; explicitly call ax.remove() as needed.\n",
      "  plt.subplot(211)\n",
      "C:\\Users\\painter\\AppData\\Local\\Temp\\ipykernel_20180\\4247986820.py:140: MatplotlibDeprecationWarning: Auto-removal of overlapping axes is deprecated since 3.6 and will be removed two minor releases later; explicitly call ax.remove() as needed.\n",
      "  plt.subplot(212)\n"
     ]
    },
    {
     "name": "stdout",
     "output_type": "stream",
     "text": [
      "Progress: [##########################                        ] 52.1% (n=521/1000) --> elapsed time: 31.68s\r"
     ]
    },
    {
     "name": "stderr",
     "output_type": "stream",
     "text": [
      "C:\\Users\\painter\\AppData\\Local\\Temp\\ipykernel_20180\\4247986820.py:132: MatplotlibDeprecationWarning: Auto-removal of overlapping axes is deprecated since 3.6 and will be removed two minor releases later; explicitly call ax.remove() as needed.\n",
      "  plt.subplot(211)\n",
      "C:\\Users\\painter\\AppData\\Local\\Temp\\ipykernel_20180\\4247986820.py:140: MatplotlibDeprecationWarning: Auto-removal of overlapping axes is deprecated since 3.6 and will be removed two minor releases later; explicitly call ax.remove() as needed.\n",
      "  plt.subplot(212)\n"
     ]
    },
    {
     "name": "stdout",
     "output_type": "stream",
     "text": [
      "Progress: [##########################                        ] 52.7% (n=527/1000) --> elapsed time: 32.05s\r"
     ]
    },
    {
     "name": "stderr",
     "output_type": "stream",
     "text": [
      "C:\\Users\\painter\\AppData\\Local\\Temp\\ipykernel_20180\\4247986820.py:132: MatplotlibDeprecationWarning: Auto-removal of overlapping axes is deprecated since 3.6 and will be removed two minor releases later; explicitly call ax.remove() as needed.\n",
      "  plt.subplot(211)\n",
      "C:\\Users\\painter\\AppData\\Local\\Temp\\ipykernel_20180\\4247986820.py:140: MatplotlibDeprecationWarning: Auto-removal of overlapping axes is deprecated since 3.6 and will be removed two minor releases later; explicitly call ax.remove() as needed.\n",
      "  plt.subplot(212)\n"
     ]
    },
    {
     "name": "stdout",
     "output_type": "stream",
     "text": [
      "Progress: [##########################                        ] 53.4% (n=534/1000) --> elapsed time: 32.44s\r"
     ]
    },
    {
     "name": "stderr",
     "output_type": "stream",
     "text": [
      "C:\\Users\\painter\\AppData\\Local\\Temp\\ipykernel_20180\\4247986820.py:132: MatplotlibDeprecationWarning: Auto-removal of overlapping axes is deprecated since 3.6 and will be removed two minor releases later; explicitly call ax.remove() as needed.\n",
      "  plt.subplot(211)\n",
      "C:\\Users\\painter\\AppData\\Local\\Temp\\ipykernel_20180\\4247986820.py:140: MatplotlibDeprecationWarning: Auto-removal of overlapping axes is deprecated since 3.6 and will be removed two minor releases later; explicitly call ax.remove() as needed.\n",
      "  plt.subplot(212)\n"
     ]
    },
    {
     "name": "stdout",
     "output_type": "stream",
     "text": [
      "Progress: [###########################                       ] 54.0% (n=540/1000) --> elapsed time: 32.83s\r"
     ]
    },
    {
     "name": "stderr",
     "output_type": "stream",
     "text": [
      "C:\\Users\\painter\\AppData\\Local\\Temp\\ipykernel_20180\\4247986820.py:132: MatplotlibDeprecationWarning: Auto-removal of overlapping axes is deprecated since 3.6 and will be removed two minor releases later; explicitly call ax.remove() as needed.\n",
      "  plt.subplot(211)\n",
      "C:\\Users\\painter\\AppData\\Local\\Temp\\ipykernel_20180\\4247986820.py:140: MatplotlibDeprecationWarning: Auto-removal of overlapping axes is deprecated since 3.6 and will be removed two minor releases later; explicitly call ax.remove() as needed.\n",
      "  plt.subplot(212)\n"
     ]
    },
    {
     "name": "stdout",
     "output_type": "stream",
     "text": [
      "Progress: [###########################                       ] 54.7% (n=547/1000) --> elapsed time: 33.23s\r"
     ]
    },
    {
     "name": "stderr",
     "output_type": "stream",
     "text": [
      "C:\\Users\\painter\\AppData\\Local\\Temp\\ipykernel_20180\\4247986820.py:132: MatplotlibDeprecationWarning: Auto-removal of overlapping axes is deprecated since 3.6 and will be removed two minor releases later; explicitly call ax.remove() as needed.\n",
      "  plt.subplot(211)\n",
      "C:\\Users\\painter\\AppData\\Local\\Temp\\ipykernel_20180\\4247986820.py:140: MatplotlibDeprecationWarning: Auto-removal of overlapping axes is deprecated since 3.6 and will be removed two minor releases later; explicitly call ax.remove() as needed.\n",
      "  plt.subplot(212)\n"
     ]
    },
    {
     "name": "stdout",
     "output_type": "stream",
     "text": [
      "Progress: [###########################                       ] 55.5% (n=555/1000) --> elapsed time: 33.75s\r"
     ]
    },
    {
     "name": "stderr",
     "output_type": "stream",
     "text": [
      "C:\\Users\\painter\\AppData\\Local\\Temp\\ipykernel_20180\\4247986820.py:132: MatplotlibDeprecationWarning: Auto-removal of overlapping axes is deprecated since 3.6 and will be removed two minor releases later; explicitly call ax.remove() as needed.\n",
      "  plt.subplot(211)\n",
      "C:\\Users\\painter\\AppData\\Local\\Temp\\ipykernel_20180\\4247986820.py:140: MatplotlibDeprecationWarning: Auto-removal of overlapping axes is deprecated since 3.6 and will be removed two minor releases later; explicitly call ax.remove() as needed.\n",
      "  plt.subplot(212)\n"
     ]
    },
    {
     "name": "stdout",
     "output_type": "stream",
     "text": [
      "Progress: [############################                      ] 56.1% (n=561/1000) --> elapsed time: 34.11s\r"
     ]
    },
    {
     "name": "stderr",
     "output_type": "stream",
     "text": [
      "C:\\Users\\painter\\AppData\\Local\\Temp\\ipykernel_20180\\4247986820.py:132: MatplotlibDeprecationWarning: Auto-removal of overlapping axes is deprecated since 3.6 and will be removed two minor releases later; explicitly call ax.remove() as needed.\n",
      "  plt.subplot(211)\n",
      "C:\\Users\\painter\\AppData\\Local\\Temp\\ipykernel_20180\\4247986820.py:140: MatplotlibDeprecationWarning: Auto-removal of overlapping axes is deprecated since 3.6 and will be removed two minor releases later; explicitly call ax.remove() as needed.\n",
      "  plt.subplot(212)\n"
     ]
    },
    {
     "name": "stdout",
     "output_type": "stream",
     "text": [
      "Progress: [############################                      ] 56.8% (n=568/1000) --> elapsed time: 34.55s\r"
     ]
    },
    {
     "name": "stderr",
     "output_type": "stream",
     "text": [
      "C:\\Users\\painter\\AppData\\Local\\Temp\\ipykernel_20180\\4247986820.py:132: MatplotlibDeprecationWarning: Auto-removal of overlapping axes is deprecated since 3.6 and will be removed two minor releases later; explicitly call ax.remove() as needed.\n",
      "  plt.subplot(211)\n",
      "C:\\Users\\painter\\AppData\\Local\\Temp\\ipykernel_20180\\4247986820.py:140: MatplotlibDeprecationWarning: Auto-removal of overlapping axes is deprecated since 3.6 and will be removed two minor releases later; explicitly call ax.remove() as needed.\n",
      "  plt.subplot(212)\n"
     ]
    },
    {
     "name": "stdout",
     "output_type": "stream",
     "text": [
      "Progress: [############################                      ] 57.4% (n=574/1000) --> elapsed time: 34.91s\r"
     ]
    },
    {
     "name": "stderr",
     "output_type": "stream",
     "text": [
      "C:\\Users\\painter\\AppData\\Local\\Temp\\ipykernel_20180\\4247986820.py:132: MatplotlibDeprecationWarning: Auto-removal of overlapping axes is deprecated since 3.6 and will be removed two minor releases later; explicitly call ax.remove() as needed.\n",
      "  plt.subplot(211)\n",
      "C:\\Users\\painter\\AppData\\Local\\Temp\\ipykernel_20180\\4247986820.py:140: MatplotlibDeprecationWarning: Auto-removal of overlapping axes is deprecated since 3.6 and will be removed two minor releases later; explicitly call ax.remove() as needed.\n",
      "  plt.subplot(212)\n"
     ]
    },
    {
     "name": "stdout",
     "output_type": "stream",
     "text": [
      "Progress: [############################                      ] 58.0% (n=580/1000) --> elapsed time: 35.29s\r"
     ]
    },
    {
     "name": "stderr",
     "output_type": "stream",
     "text": [
      "C:\\Users\\painter\\AppData\\Local\\Temp\\ipykernel_20180\\4247986820.py:132: MatplotlibDeprecationWarning: Auto-removal of overlapping axes is deprecated since 3.6 and will be removed two minor releases later; explicitly call ax.remove() as needed.\n",
      "  plt.subplot(211)\n",
      "C:\\Users\\painter\\AppData\\Local\\Temp\\ipykernel_20180\\4247986820.py:140: MatplotlibDeprecationWarning: Auto-removal of overlapping axes is deprecated since 3.6 and will be removed two minor releases later; explicitly call ax.remove() as needed.\n",
      "  plt.subplot(212)\n"
     ]
    },
    {
     "name": "stdout",
     "output_type": "stream",
     "text": [
      "Progress: [#############################                     ] 58.6% (n=586/1000) --> elapsed time: 35.66s\r"
     ]
    },
    {
     "name": "stderr",
     "output_type": "stream",
     "text": [
      "C:\\Users\\painter\\AppData\\Local\\Temp\\ipykernel_20180\\4247986820.py:132: MatplotlibDeprecationWarning: Auto-removal of overlapping axes is deprecated since 3.6 and will be removed two minor releases later; explicitly call ax.remove() as needed.\n",
      "  plt.subplot(211)\n",
      "C:\\Users\\painter\\AppData\\Local\\Temp\\ipykernel_20180\\4247986820.py:140: MatplotlibDeprecationWarning: Auto-removal of overlapping axes is deprecated since 3.6 and will be removed two minor releases later; explicitly call ax.remove() as needed.\n",
      "  plt.subplot(212)\n"
     ]
    },
    {
     "name": "stdout",
     "output_type": "stream",
     "text": [
      "Progress: [#############################                     ] 59.6% (n=596/1000) --> elapsed time: 36.24s\r"
     ]
    },
    {
     "name": "stderr",
     "output_type": "stream",
     "text": [
      "C:\\Users\\painter\\AppData\\Local\\Temp\\ipykernel_20180\\4247986820.py:132: MatplotlibDeprecationWarning: Auto-removal of overlapping axes is deprecated since 3.6 and will be removed two minor releases later; explicitly call ax.remove() as needed.\n",
      "  plt.subplot(211)\n",
      "C:\\Users\\painter\\AppData\\Local\\Temp\\ipykernel_20180\\4247986820.py:140: MatplotlibDeprecationWarning: Auto-removal of overlapping axes is deprecated since 3.6 and will be removed two minor releases later; explicitly call ax.remove() as needed.\n",
      "  plt.subplot(212)\n"
     ]
    },
    {
     "name": "stdout",
     "output_type": "stream",
     "text": [
      "Progress: [##############################                    ] 60.3% (n=603/1000) --> elapsed time: 36.64s\r"
     ]
    },
    {
     "name": "stderr",
     "output_type": "stream",
     "text": [
      "C:\\Users\\painter\\AppData\\Local\\Temp\\ipykernel_20180\\4247986820.py:132: MatplotlibDeprecationWarning: Auto-removal of overlapping axes is deprecated since 3.6 and will be removed two minor releases later; explicitly call ax.remove() as needed.\n",
      "  plt.subplot(211)\n",
      "C:\\Users\\painter\\AppData\\Local\\Temp\\ipykernel_20180\\4247986820.py:140: MatplotlibDeprecationWarning: Auto-removal of overlapping axes is deprecated since 3.6 and will be removed two minor releases later; explicitly call ax.remove() as needed.\n",
      "  plt.subplot(212)\n"
     ]
    },
    {
     "name": "stdout",
     "output_type": "stream",
     "text": [
      "Progress: [##############################                    ] 60.9% (n=609/1000) --> elapsed time: 37.02s\r"
     ]
    },
    {
     "name": "stderr",
     "output_type": "stream",
     "text": [
      "C:\\Users\\painter\\AppData\\Local\\Temp\\ipykernel_20180\\4247986820.py:132: MatplotlibDeprecationWarning: Auto-removal of overlapping axes is deprecated since 3.6 and will be removed two minor releases later; explicitly call ax.remove() as needed.\n",
      "  plt.subplot(211)\n",
      "C:\\Users\\painter\\AppData\\Local\\Temp\\ipykernel_20180\\4247986820.py:140: MatplotlibDeprecationWarning: Auto-removal of overlapping axes is deprecated since 3.6 and will be removed two minor releases later; explicitly call ax.remove() as needed.\n",
      "  plt.subplot(212)\n"
     ]
    },
    {
     "name": "stdout",
     "output_type": "stream",
     "text": [
      "Progress: [##############################                    ] 61.5% (n=615/1000) --> elapsed time: 37.40s\r"
     ]
    },
    {
     "name": "stderr",
     "output_type": "stream",
     "text": [
      "C:\\Users\\painter\\AppData\\Local\\Temp\\ipykernel_20180\\4247986820.py:132: MatplotlibDeprecationWarning: Auto-removal of overlapping axes is deprecated since 3.6 and will be removed two minor releases later; explicitly call ax.remove() as needed.\n",
      "  plt.subplot(211)\n",
      "C:\\Users\\painter\\AppData\\Local\\Temp\\ipykernel_20180\\4247986820.py:140: MatplotlibDeprecationWarning: Auto-removal of overlapping axes is deprecated since 3.6 and will be removed two minor releases later; explicitly call ax.remove() as needed.\n",
      "  plt.subplot(212)\n"
     ]
    },
    {
     "name": "stdout",
     "output_type": "stream",
     "text": [
      "Progress: [###############################                   ] 62.1% (n=621/1000) --> elapsed time: 37.77s\r"
     ]
    },
    {
     "name": "stderr",
     "output_type": "stream",
     "text": [
      "C:\\Users\\painter\\AppData\\Local\\Temp\\ipykernel_20180\\4247986820.py:132: MatplotlibDeprecationWarning: Auto-removal of overlapping axes is deprecated since 3.6 and will be removed two minor releases later; explicitly call ax.remove() as needed.\n",
      "  plt.subplot(211)\n",
      "C:\\Users\\painter\\AppData\\Local\\Temp\\ipykernel_20180\\4247986820.py:140: MatplotlibDeprecationWarning: Auto-removal of overlapping axes is deprecated since 3.6 and will be removed two minor releases later; explicitly call ax.remove() as needed.\n",
      "  plt.subplot(212)\n"
     ]
    },
    {
     "name": "stdout",
     "output_type": "stream",
     "text": [
      "Progress: [###############################                   ] 62.9% (n=629/1000) --> elapsed time: 38.29s\r"
     ]
    },
    {
     "name": "stderr",
     "output_type": "stream",
     "text": [
      "C:\\Users\\painter\\AppData\\Local\\Temp\\ipykernel_20180\\4247986820.py:132: MatplotlibDeprecationWarning: Auto-removal of overlapping axes is deprecated since 3.6 and will be removed two minor releases later; explicitly call ax.remove() as needed.\n",
      "  plt.subplot(211)\n",
      "C:\\Users\\painter\\AppData\\Local\\Temp\\ipykernel_20180\\4247986820.py:140: MatplotlibDeprecationWarning: Auto-removal of overlapping axes is deprecated since 3.6 and will be removed two minor releases later; explicitly call ax.remove() as needed.\n",
      "  plt.subplot(212)\n"
     ]
    },
    {
     "name": "stdout",
     "output_type": "stream",
     "text": [
      "Progress: [###############################                   ] 63.5% (n=635/1000) --> elapsed time: 38.67s\r"
     ]
    },
    {
     "name": "stderr",
     "output_type": "stream",
     "text": [
      "C:\\Users\\painter\\AppData\\Local\\Temp\\ipykernel_20180\\4247986820.py:132: MatplotlibDeprecationWarning: Auto-removal of overlapping axes is deprecated since 3.6 and will be removed two minor releases later; explicitly call ax.remove() as needed.\n",
      "  plt.subplot(211)\n",
      "C:\\Users\\painter\\AppData\\Local\\Temp\\ipykernel_20180\\4247986820.py:140: MatplotlibDeprecationWarning: Auto-removal of overlapping axes is deprecated since 3.6 and will be removed two minor releases later; explicitly call ax.remove() as needed.\n",
      "  plt.subplot(212)\n"
     ]
    },
    {
     "name": "stdout",
     "output_type": "stream",
     "text": [
      "Progress: [################################                  ] 64.2% (n=642/1000) --> elapsed time: 39.05s\r"
     ]
    },
    {
     "name": "stderr",
     "output_type": "stream",
     "text": [
      "C:\\Users\\painter\\AppData\\Local\\Temp\\ipykernel_20180\\4247986820.py:132: MatplotlibDeprecationWarning: Auto-removal of overlapping axes is deprecated since 3.6 and will be removed two minor releases later; explicitly call ax.remove() as needed.\n",
      "  plt.subplot(211)\n",
      "C:\\Users\\painter\\AppData\\Local\\Temp\\ipykernel_20180\\4247986820.py:140: MatplotlibDeprecationWarning: Auto-removal of overlapping axes is deprecated since 3.6 and will be removed two minor releases later; explicitly call ax.remove() as needed.\n",
      "  plt.subplot(212)\n"
     ]
    },
    {
     "name": "stdout",
     "output_type": "stream",
     "text": [
      "Progress: [################################                  ] 64.8% (n=648/1000) --> elapsed time: 39.44s\r"
     ]
    },
    {
     "name": "stderr",
     "output_type": "stream",
     "text": [
      "C:\\Users\\painter\\AppData\\Local\\Temp\\ipykernel_20180\\4247986820.py:132: MatplotlibDeprecationWarning: Auto-removal of overlapping axes is deprecated since 3.6 and will be removed two minor releases later; explicitly call ax.remove() as needed.\n",
      "  plt.subplot(211)\n",
      "C:\\Users\\painter\\AppData\\Local\\Temp\\ipykernel_20180\\4247986820.py:140: MatplotlibDeprecationWarning: Auto-removal of overlapping axes is deprecated since 3.6 and will be removed two minor releases later; explicitly call ax.remove() as needed.\n",
      "  plt.subplot(212)\n"
     ]
    },
    {
     "name": "stdout",
     "output_type": "stream",
     "text": [
      "Progress: [################################                  ] 65.4% (n=654/1000) --> elapsed time: 39.80s\r"
     ]
    },
    {
     "name": "stderr",
     "output_type": "stream",
     "text": [
      "C:\\Users\\painter\\AppData\\Local\\Temp\\ipykernel_20180\\4247986820.py:132: MatplotlibDeprecationWarning: Auto-removal of overlapping axes is deprecated since 3.6 and will be removed two minor releases later; explicitly call ax.remove() as needed.\n",
      "  plt.subplot(211)\n",
      "C:\\Users\\painter\\AppData\\Local\\Temp\\ipykernel_20180\\4247986820.py:140: MatplotlibDeprecationWarning: Auto-removal of overlapping axes is deprecated since 3.6 and will be removed two minor releases later; explicitly call ax.remove() as needed.\n",
      "  plt.subplot(212)\n"
     ]
    },
    {
     "name": "stdout",
     "output_type": "stream",
     "text": [
      "Progress: [#################################                 ] 66.0% (n=660/1000) --> elapsed time: 40.19s\r"
     ]
    },
    {
     "name": "stderr",
     "output_type": "stream",
     "text": [
      "C:\\Users\\painter\\AppData\\Local\\Temp\\ipykernel_20180\\4247986820.py:132: MatplotlibDeprecationWarning: Auto-removal of overlapping axes is deprecated since 3.6 and will be removed two minor releases later; explicitly call ax.remove() as needed.\n",
      "  plt.subplot(211)\n",
      "C:\\Users\\painter\\AppData\\Local\\Temp\\ipykernel_20180\\4247986820.py:140: MatplotlibDeprecationWarning: Auto-removal of overlapping axes is deprecated since 3.6 and will be removed two minor releases later; explicitly call ax.remove() as needed.\n",
      "  plt.subplot(212)\n"
     ]
    },
    {
     "name": "stdout",
     "output_type": "stream",
     "text": [
      "Progress: [#################################                 ] 66.9% (n=669/1000) --> elapsed time: 40.73s\r"
     ]
    },
    {
     "name": "stderr",
     "output_type": "stream",
     "text": [
      "C:\\Users\\painter\\AppData\\Local\\Temp\\ipykernel_20180\\4247986820.py:132: MatplotlibDeprecationWarning: Auto-removal of overlapping axes is deprecated since 3.6 and will be removed two minor releases later; explicitly call ax.remove() as needed.\n",
      "  plt.subplot(211)\n",
      "C:\\Users\\painter\\AppData\\Local\\Temp\\ipykernel_20180\\4247986820.py:140: MatplotlibDeprecationWarning: Auto-removal of overlapping axes is deprecated since 3.6 and will be removed two minor releases later; explicitly call ax.remove() as needed.\n",
      "  plt.subplot(212)\n"
     ]
    },
    {
     "name": "stdout",
     "output_type": "stream",
     "text": [
      "Progress: [#################################                 ] 67.6% (n=676/1000) --> elapsed time: 41.10s\r"
     ]
    },
    {
     "name": "stderr",
     "output_type": "stream",
     "text": [
      "C:\\Users\\painter\\AppData\\Local\\Temp\\ipykernel_20180\\4247986820.py:132: MatplotlibDeprecationWarning: Auto-removal of overlapping axes is deprecated since 3.6 and will be removed two minor releases later; explicitly call ax.remove() as needed.\n",
      "  plt.subplot(211)\n",
      "C:\\Users\\painter\\AppData\\Local\\Temp\\ipykernel_20180\\4247986820.py:140: MatplotlibDeprecationWarning: Auto-removal of overlapping axes is deprecated since 3.6 and will be removed two minor releases later; explicitly call ax.remove() as needed.\n",
      "  plt.subplot(212)\n"
     ]
    },
    {
     "name": "stdout",
     "output_type": "stream",
     "text": [
      "Progress: [##################################                ] 68.1% (n=681/1000) --> elapsed time: 41.46s\r"
     ]
    },
    {
     "name": "stderr",
     "output_type": "stream",
     "text": [
      "C:\\Users\\painter\\AppData\\Local\\Temp\\ipykernel_20180\\4247986820.py:132: MatplotlibDeprecationWarning: Auto-removal of overlapping axes is deprecated since 3.6 and will be removed two minor releases later; explicitly call ax.remove() as needed.\n",
      "  plt.subplot(211)\n",
      "C:\\Users\\painter\\AppData\\Local\\Temp\\ipykernel_20180\\4247986820.py:140: MatplotlibDeprecationWarning: Auto-removal of overlapping axes is deprecated since 3.6 and will be removed two minor releases later; explicitly call ax.remove() as needed.\n",
      "  plt.subplot(212)\n"
     ]
    },
    {
     "name": "stdout",
     "output_type": "stream",
     "text": [
      "Progress: [##################################                ] 68.7% (n=687/1000) --> elapsed time: 41.84s\r"
     ]
    },
    {
     "name": "stderr",
     "output_type": "stream",
     "text": [
      "C:\\Users\\painter\\AppData\\Local\\Temp\\ipykernel_20180\\4247986820.py:132: MatplotlibDeprecationWarning: Auto-removal of overlapping axes is deprecated since 3.6 and will be removed two minor releases later; explicitly call ax.remove() as needed.\n",
      "  plt.subplot(211)\n",
      "C:\\Users\\painter\\AppData\\Local\\Temp\\ipykernel_20180\\4247986820.py:140: MatplotlibDeprecationWarning: Auto-removal of overlapping axes is deprecated since 3.6 and will be removed two minor releases later; explicitly call ax.remove() as needed.\n",
      "  plt.subplot(212)\n"
     ]
    },
    {
     "name": "stdout",
     "output_type": "stream",
     "text": [
      "Progress: [##################################                ] 69.4% (n=694/1000) --> elapsed time: 42.23s\r"
     ]
    },
    {
     "name": "stderr",
     "output_type": "stream",
     "text": [
      "C:\\Users\\painter\\AppData\\Local\\Temp\\ipykernel_20180\\4247986820.py:132: MatplotlibDeprecationWarning: Auto-removal of overlapping axes is deprecated since 3.6 and will be removed two minor releases later; explicitly call ax.remove() as needed.\n",
      "  plt.subplot(211)\n",
      "C:\\Users\\painter\\AppData\\Local\\Temp\\ipykernel_20180\\4247986820.py:140: MatplotlibDeprecationWarning: Auto-removal of overlapping axes is deprecated since 3.6 and will be removed two minor releases later; explicitly call ax.remove() as needed.\n",
      "  plt.subplot(212)\n"
     ]
    },
    {
     "name": "stdout",
     "output_type": "stream",
     "text": [
      "Progress: [###################################               ] 70.0% (n=700/1000) --> elapsed time: 42.62s\r"
     ]
    },
    {
     "name": "stderr",
     "output_type": "stream",
     "text": [
      "C:\\Users\\painter\\AppData\\Local\\Temp\\ipykernel_20180\\4247986820.py:132: MatplotlibDeprecationWarning: Auto-removal of overlapping axes is deprecated since 3.6 and will be removed two minor releases later; explicitly call ax.remove() as needed.\n",
      "  plt.subplot(211)\n",
      "C:\\Users\\painter\\AppData\\Local\\Temp\\ipykernel_20180\\4247986820.py:140: MatplotlibDeprecationWarning: Auto-removal of overlapping axes is deprecated since 3.6 and will be removed two minor releases later; explicitly call ax.remove() as needed.\n",
      "  plt.subplot(212)\n"
     ]
    },
    {
     "name": "stdout",
     "output_type": "stream",
     "text": [
      "Progress: [###################################               ] 70.8% (n=708/1000) --> elapsed time: 43.12s\r"
     ]
    },
    {
     "name": "stderr",
     "output_type": "stream",
     "text": [
      "C:\\Users\\painter\\AppData\\Local\\Temp\\ipykernel_20180\\4247986820.py:132: MatplotlibDeprecationWarning: Auto-removal of overlapping axes is deprecated since 3.6 and will be removed two minor releases later; explicitly call ax.remove() as needed.\n",
      "  plt.subplot(211)\n",
      "C:\\Users\\painter\\AppData\\Local\\Temp\\ipykernel_20180\\4247986820.py:140: MatplotlibDeprecationWarning: Auto-removal of overlapping axes is deprecated since 3.6 and will be removed two minor releases later; explicitly call ax.remove() as needed.\n",
      "  plt.subplot(212)\n"
     ]
    },
    {
     "name": "stdout",
     "output_type": "stream",
     "text": [
      "Progress: [###################################               ] 71.4% (n=714/1000) --> elapsed time: 43.49s\r"
     ]
    },
    {
     "name": "stderr",
     "output_type": "stream",
     "text": [
      "C:\\Users\\painter\\AppData\\Local\\Temp\\ipykernel_20180\\4247986820.py:132: MatplotlibDeprecationWarning: Auto-removal of overlapping axes is deprecated since 3.6 and will be removed two minor releases later; explicitly call ax.remove() as needed.\n",
      "  plt.subplot(211)\n",
      "C:\\Users\\painter\\AppData\\Local\\Temp\\ipykernel_20180\\4247986820.py:140: MatplotlibDeprecationWarning: Auto-removal of overlapping axes is deprecated since 3.6 and will be removed two minor releases later; explicitly call ax.remove() as needed.\n",
      "  plt.subplot(212)\n"
     ]
    },
    {
     "name": "stdout",
     "output_type": "stream",
     "text": [
      "Progress: [####################################              ] 72.0% (n=720/1000) --> elapsed time: 43.86s\r"
     ]
    },
    {
     "name": "stderr",
     "output_type": "stream",
     "text": [
      "C:\\Users\\painter\\AppData\\Local\\Temp\\ipykernel_20180\\4247986820.py:132: MatplotlibDeprecationWarning: Auto-removal of overlapping axes is deprecated since 3.6 and will be removed two minor releases later; explicitly call ax.remove() as needed.\n",
      "  plt.subplot(211)\n",
      "C:\\Users\\painter\\AppData\\Local\\Temp\\ipykernel_20180\\4247986820.py:140: MatplotlibDeprecationWarning: Auto-removal of overlapping axes is deprecated since 3.6 and will be removed two minor releases later; explicitly call ax.remove() as needed.\n",
      "  plt.subplot(212)\n"
     ]
    },
    {
     "name": "stdout",
     "output_type": "stream",
     "text": [
      "Progress: [####################################              ] 72.6% (n=726/1000) --> elapsed time: 44.23s\r"
     ]
    },
    {
     "name": "stderr",
     "output_type": "stream",
     "text": [
      "C:\\Users\\painter\\AppData\\Local\\Temp\\ipykernel_20180\\4247986820.py:132: MatplotlibDeprecationWarning: Auto-removal of overlapping axes is deprecated since 3.6 and will be removed two minor releases later; explicitly call ax.remove() as needed.\n",
      "  plt.subplot(211)\n",
      "C:\\Users\\painter\\AppData\\Local\\Temp\\ipykernel_20180\\4247986820.py:140: MatplotlibDeprecationWarning: Auto-removal of overlapping axes is deprecated since 3.6 and will be removed two minor releases later; explicitly call ax.remove() as needed.\n",
      "  plt.subplot(212)\n"
     ]
    },
    {
     "name": "stdout",
     "output_type": "stream",
     "text": [
      "Progress: [####################################              ] 73.3% (n=733/1000) --> elapsed time: 44.62s\r"
     ]
    },
    {
     "name": "stderr",
     "output_type": "stream",
     "text": [
      "C:\\Users\\painter\\AppData\\Local\\Temp\\ipykernel_20180\\4247986820.py:132: MatplotlibDeprecationWarning: Auto-removal of overlapping axes is deprecated since 3.6 and will be removed two minor releases later; explicitly call ax.remove() as needed.\n",
      "  plt.subplot(211)\n",
      "C:\\Users\\painter\\AppData\\Local\\Temp\\ipykernel_20180\\4247986820.py:140: MatplotlibDeprecationWarning: Auto-removal of overlapping axes is deprecated since 3.6 and will be removed two minor releases later; explicitly call ax.remove() as needed.\n",
      "  plt.subplot(212)\n"
     ]
    },
    {
     "name": "stdout",
     "output_type": "stream",
     "text": [
      "Progress: [####################################              ] 73.9% (n=739/1000) --> elapsed time: 45.00s\r"
     ]
    },
    {
     "name": "stderr",
     "output_type": "stream",
     "text": [
      "C:\\Users\\painter\\AppData\\Local\\Temp\\ipykernel_20180\\4247986820.py:132: MatplotlibDeprecationWarning: Auto-removal of overlapping axes is deprecated since 3.6 and will be removed two minor releases later; explicitly call ax.remove() as needed.\n",
      "  plt.subplot(211)\n",
      "C:\\Users\\painter\\AppData\\Local\\Temp\\ipykernel_20180\\4247986820.py:140: MatplotlibDeprecationWarning: Auto-removal of overlapping axes is deprecated since 3.6 and will be removed two minor releases later; explicitly call ax.remove() as needed.\n",
      "  plt.subplot(212)\n"
     ]
    },
    {
     "name": "stdout",
     "output_type": "stream",
     "text": [
      "Progress: [#####################################             ] 74.7% (n=747/1000) --> elapsed time: 45.52s\r"
     ]
    },
    {
     "name": "stderr",
     "output_type": "stream",
     "text": [
      "C:\\Users\\painter\\AppData\\Local\\Temp\\ipykernel_20180\\4247986820.py:132: MatplotlibDeprecationWarning: Auto-removal of overlapping axes is deprecated since 3.6 and will be removed two minor releases later; explicitly call ax.remove() as needed.\n",
      "  plt.subplot(211)\n",
      "C:\\Users\\painter\\AppData\\Local\\Temp\\ipykernel_20180\\4247986820.py:140: MatplotlibDeprecationWarning: Auto-removal of overlapping axes is deprecated since 3.6 and will be removed two minor releases later; explicitly call ax.remove() as needed.\n",
      "  plt.subplot(212)\n"
     ]
    },
    {
     "name": "stdout",
     "output_type": "stream",
     "text": [
      "Progress: [#####################################             ] 75.3% (n=753/1000) --> elapsed time: 45.89s\r"
     ]
    },
    {
     "name": "stderr",
     "output_type": "stream",
     "text": [
      "C:\\Users\\painter\\AppData\\Local\\Temp\\ipykernel_20180\\4247986820.py:132: MatplotlibDeprecationWarning: Auto-removal of overlapping axes is deprecated since 3.6 and will be removed two minor releases later; explicitly call ax.remove() as needed.\n",
      "  plt.subplot(211)\n",
      "C:\\Users\\painter\\AppData\\Local\\Temp\\ipykernel_20180\\4247986820.py:140: MatplotlibDeprecationWarning: Auto-removal of overlapping axes is deprecated since 3.6 and will be removed two minor releases later; explicitly call ax.remove() as needed.\n",
      "  plt.subplot(212)\n"
     ]
    },
    {
     "name": "stdout",
     "output_type": "stream",
     "text": [
      "Progress: [######################################            ] 76.0% (n=760/1000) --> elapsed time: 46.25s\r"
     ]
    },
    {
     "name": "stderr",
     "output_type": "stream",
     "text": [
      "C:\\Users\\painter\\AppData\\Local\\Temp\\ipykernel_20180\\4247986820.py:132: MatplotlibDeprecationWarning: Auto-removal of overlapping axes is deprecated since 3.6 and will be removed two minor releases later; explicitly call ax.remove() as needed.\n",
      "  plt.subplot(211)\n",
      "C:\\Users\\painter\\AppData\\Local\\Temp\\ipykernel_20180\\4247986820.py:140: MatplotlibDeprecationWarning: Auto-removal of overlapping axes is deprecated since 3.6 and will be removed two minor releases later; explicitly call ax.remove() as needed.\n",
      "  plt.subplot(212)\n"
     ]
    },
    {
     "name": "stdout",
     "output_type": "stream",
     "text": [
      "Progress: [######################################            ] 76.6% (n=766/1000) --> elapsed time: 46.62s\r"
     ]
    },
    {
     "name": "stderr",
     "output_type": "stream",
     "text": [
      "C:\\Users\\painter\\AppData\\Local\\Temp\\ipykernel_20180\\4247986820.py:132: MatplotlibDeprecationWarning: Auto-removal of overlapping axes is deprecated since 3.6 and will be removed two minor releases later; explicitly call ax.remove() as needed.\n",
      "  plt.subplot(211)\n",
      "C:\\Users\\painter\\AppData\\Local\\Temp\\ipykernel_20180\\4247986820.py:140: MatplotlibDeprecationWarning: Auto-removal of overlapping axes is deprecated since 3.6 and will be removed two minor releases later; explicitly call ax.remove() as needed.\n",
      "  plt.subplot(212)\n"
     ]
    },
    {
     "name": "stdout",
     "output_type": "stream",
     "text": [
      "Progress: [######################################            ] 77.1% (n=771/1000) --> elapsed time: 47.01s\r"
     ]
    },
    {
     "name": "stderr",
     "output_type": "stream",
     "text": [
      "C:\\Users\\painter\\AppData\\Local\\Temp\\ipykernel_20180\\4247986820.py:132: MatplotlibDeprecationWarning: Auto-removal of overlapping axes is deprecated since 3.6 and will be removed two minor releases later; explicitly call ax.remove() as needed.\n",
      "  plt.subplot(211)\n",
      "C:\\Users\\painter\\AppData\\Local\\Temp\\ipykernel_20180\\4247986820.py:140: MatplotlibDeprecationWarning: Auto-removal of overlapping axes is deprecated since 3.6 and will be removed two minor releases later; explicitly call ax.remove() as needed.\n",
      "  plt.subplot(212)\n"
     ]
    },
    {
     "name": "stdout",
     "output_type": "stream",
     "text": [
      "Progress: [######################################            ] 77.8% (n=778/1000) --> elapsed time: 47.38s\r"
     ]
    },
    {
     "name": "stderr",
     "output_type": "stream",
     "text": [
      "C:\\Users\\painter\\AppData\\Local\\Temp\\ipykernel_20180\\4247986820.py:132: MatplotlibDeprecationWarning: Auto-removal of overlapping axes is deprecated since 3.6 and will be removed two minor releases later; explicitly call ax.remove() as needed.\n",
      "  plt.subplot(211)\n",
      "C:\\Users\\painter\\AppData\\Local\\Temp\\ipykernel_20180\\4247986820.py:140: MatplotlibDeprecationWarning: Auto-removal of overlapping axes is deprecated since 3.6 and will be removed two minor releases later; explicitly call ax.remove() as needed.\n",
      "  plt.subplot(212)\n"
     ]
    },
    {
     "name": "stdout",
     "output_type": "stream",
     "text": [
      "Progress: [#######################################           ] 78.6% (n=786/1000) --> elapsed time: 47.88s\r"
     ]
    },
    {
     "name": "stderr",
     "output_type": "stream",
     "text": [
      "C:\\Users\\painter\\AppData\\Local\\Temp\\ipykernel_20180\\4247986820.py:132: MatplotlibDeprecationWarning: Auto-removal of overlapping axes is deprecated since 3.6 and will be removed two minor releases later; explicitly call ax.remove() as needed.\n",
      "  plt.subplot(211)\n",
      "C:\\Users\\painter\\AppData\\Local\\Temp\\ipykernel_20180\\4247986820.py:140: MatplotlibDeprecationWarning: Auto-removal of overlapping axes is deprecated since 3.6 and will be removed two minor releases later; explicitly call ax.remove() as needed.\n",
      "  plt.subplot(212)\n"
     ]
    },
    {
     "name": "stdout",
     "output_type": "stream",
     "text": [
      "Progress: [#######################################           ] 79.2% (n=792/1000) --> elapsed time: 48.25s\r"
     ]
    },
    {
     "name": "stderr",
     "output_type": "stream",
     "text": [
      "C:\\Users\\painter\\AppData\\Local\\Temp\\ipykernel_20180\\4247986820.py:132: MatplotlibDeprecationWarning: Auto-removal of overlapping axes is deprecated since 3.6 and will be removed two minor releases later; explicitly call ax.remove() as needed.\n",
      "  plt.subplot(211)\n",
      "C:\\Users\\painter\\AppData\\Local\\Temp\\ipykernel_20180\\4247986820.py:140: MatplotlibDeprecationWarning: Auto-removal of overlapping axes is deprecated since 3.6 and will be removed two minor releases later; explicitly call ax.remove() as needed.\n",
      "  plt.subplot(212)\n"
     ]
    },
    {
     "name": "stdout",
     "output_type": "stream",
     "text": [
      "Progress: [#######################################           ] 79.8% (n=798/1000) --> elapsed time: 48.62s\r"
     ]
    },
    {
     "name": "stderr",
     "output_type": "stream",
     "text": [
      "C:\\Users\\painter\\AppData\\Local\\Temp\\ipykernel_20180\\4247986820.py:132: MatplotlibDeprecationWarning: Auto-removal of overlapping axes is deprecated since 3.6 and will be removed two minor releases later; explicitly call ax.remove() as needed.\n",
      "  plt.subplot(211)\n",
      "C:\\Users\\painter\\AppData\\Local\\Temp\\ipykernel_20180\\4247986820.py:140: MatplotlibDeprecationWarning: Auto-removal of overlapping axes is deprecated since 3.6 and will be removed two minor releases later; explicitly call ax.remove() as needed.\n",
      "  plt.subplot(212)\n"
     ]
    },
    {
     "name": "stdout",
     "output_type": "stream",
     "text": [
      "Progress: [########################################          ] 80.5% (n=805/1000) --> elapsed time: 49.06s\r"
     ]
    },
    {
     "name": "stderr",
     "output_type": "stream",
     "text": [
      "C:\\Users\\painter\\AppData\\Local\\Temp\\ipykernel_20180\\4247986820.py:132: MatplotlibDeprecationWarning: Auto-removal of overlapping axes is deprecated since 3.6 and will be removed two minor releases later; explicitly call ax.remove() as needed.\n",
      "  plt.subplot(211)\n",
      "C:\\Users\\painter\\AppData\\Local\\Temp\\ipykernel_20180\\4247986820.py:140: MatplotlibDeprecationWarning: Auto-removal of overlapping axes is deprecated since 3.6 and will be removed two minor releases later; explicitly call ax.remove() as needed.\n",
      "  plt.subplot(212)\n"
     ]
    },
    {
     "name": "stdout",
     "output_type": "stream",
     "text": [
      "Progress: [########################################          ] 81.2% (n=812/1000) --> elapsed time: 49.47s\r"
     ]
    },
    {
     "name": "stderr",
     "output_type": "stream",
     "text": [
      "C:\\Users\\painter\\AppData\\Local\\Temp\\ipykernel_20180\\4247986820.py:132: MatplotlibDeprecationWarning: Auto-removal of overlapping axes is deprecated since 3.6 and will be removed two minor releases later; explicitly call ax.remove() as needed.\n",
      "  plt.subplot(211)\n",
      "C:\\Users\\painter\\AppData\\Local\\Temp\\ipykernel_20180\\4247986820.py:140: MatplotlibDeprecationWarning: Auto-removal of overlapping axes is deprecated since 3.6 and will be removed two minor releases later; explicitly call ax.remove() as needed.\n",
      "  plt.subplot(212)\n"
     ]
    },
    {
     "name": "stdout",
     "output_type": "stream",
     "text": [
      "Progress: [#########################################         ] 82.0% (n=820/1000) --> elapsed time: 49.98s\r"
     ]
    },
    {
     "name": "stderr",
     "output_type": "stream",
     "text": [
      "C:\\Users\\painter\\AppData\\Local\\Temp\\ipykernel_20180\\4247986820.py:132: MatplotlibDeprecationWarning: Auto-removal of overlapping axes is deprecated since 3.6 and will be removed two minor releases later; explicitly call ax.remove() as needed.\n",
      "  plt.subplot(211)\n",
      "C:\\Users\\painter\\AppData\\Local\\Temp\\ipykernel_20180\\4247986820.py:140: MatplotlibDeprecationWarning: Auto-removal of overlapping axes is deprecated since 3.6 and will be removed two minor releases later; explicitly call ax.remove() as needed.\n",
      "  plt.subplot(212)\n"
     ]
    },
    {
     "name": "stdout",
     "output_type": "stream",
     "text": [
      "Progress: [#########################################         ] 82.7% (n=827/1000) --> elapsed time: 50.36s\r"
     ]
    },
    {
     "name": "stderr",
     "output_type": "stream",
     "text": [
      "C:\\Users\\painter\\AppData\\Local\\Temp\\ipykernel_20180\\4247986820.py:132: MatplotlibDeprecationWarning: Auto-removal of overlapping axes is deprecated since 3.6 and will be removed two minor releases later; explicitly call ax.remove() as needed.\n",
      "  plt.subplot(211)\n",
      "C:\\Users\\painter\\AppData\\Local\\Temp\\ipykernel_20180\\4247986820.py:140: MatplotlibDeprecationWarning: Auto-removal of overlapping axes is deprecated since 3.6 and will be removed two minor releases later; explicitly call ax.remove() as needed.\n",
      "  plt.subplot(212)\n"
     ]
    },
    {
     "name": "stdout",
     "output_type": "stream",
     "text": [
      "Progress: [#########################################         ] 83.3% (n=833/1000) --> elapsed time: 50.75s\r"
     ]
    },
    {
     "name": "stderr",
     "output_type": "stream",
     "text": [
      "C:\\Users\\painter\\AppData\\Local\\Temp\\ipykernel_20180\\4247986820.py:132: MatplotlibDeprecationWarning: Auto-removal of overlapping axes is deprecated since 3.6 and will be removed two minor releases later; explicitly call ax.remove() as needed.\n",
      "  plt.subplot(211)\n",
      "C:\\Users\\painter\\AppData\\Local\\Temp\\ipykernel_20180\\4247986820.py:140: MatplotlibDeprecationWarning: Auto-removal of overlapping axes is deprecated since 3.6 and will be removed two minor releases later; explicitly call ax.remove() as needed.\n",
      "  plt.subplot(212)\n"
     ]
    },
    {
     "name": "stdout",
     "output_type": "stream",
     "text": [
      "Progress: [##########################################        ] 84.0% (n=840/1000) --> elapsed time: 51.13s\r"
     ]
    },
    {
     "name": "stderr",
     "output_type": "stream",
     "text": [
      "C:\\Users\\painter\\AppData\\Local\\Temp\\ipykernel_20180\\4247986820.py:132: MatplotlibDeprecationWarning: Auto-removal of overlapping axes is deprecated since 3.6 and will be removed two minor releases later; explicitly call ax.remove() as needed.\n",
      "  plt.subplot(211)\n",
      "C:\\Users\\painter\\AppData\\Local\\Temp\\ipykernel_20180\\4247986820.py:140: MatplotlibDeprecationWarning: Auto-removal of overlapping axes is deprecated since 3.6 and will be removed two minor releases later; explicitly call ax.remove() as needed.\n",
      "  plt.subplot(212)\n"
     ]
    },
    {
     "name": "stdout",
     "output_type": "stream",
     "text": [
      "Progress: [##########################################        ] 84.6% (n=846/1000) --> elapsed time: 51.52s\r"
     ]
    },
    {
     "name": "stderr",
     "output_type": "stream",
     "text": [
      "C:\\Users\\painter\\AppData\\Local\\Temp\\ipykernel_20180\\4247986820.py:132: MatplotlibDeprecationWarning: Auto-removal of overlapping axes is deprecated since 3.6 and will be removed two minor releases later; explicitly call ax.remove() as needed.\n",
      "  plt.subplot(211)\n",
      "C:\\Users\\painter\\AppData\\Local\\Temp\\ipykernel_20180\\4247986820.py:140: MatplotlibDeprecationWarning: Auto-removal of overlapping axes is deprecated since 3.6 and will be removed two minor releases later; explicitly call ax.remove() as needed.\n",
      "  plt.subplot(212)\n"
     ]
    },
    {
     "name": "stdout",
     "output_type": "stream",
     "text": [
      "Progress: [##########################################        ] 85.1% (n=851/1000) --> elapsed time: 51.90s\r"
     ]
    },
    {
     "name": "stderr",
     "output_type": "stream",
     "text": [
      "C:\\Users\\painter\\AppData\\Local\\Temp\\ipykernel_20180\\4247986820.py:132: MatplotlibDeprecationWarning: Auto-removal of overlapping axes is deprecated since 3.6 and will be removed two minor releases later; explicitly call ax.remove() as needed.\n",
      "  plt.subplot(211)\n",
      "C:\\Users\\painter\\AppData\\Local\\Temp\\ipykernel_20180\\4247986820.py:140: MatplotlibDeprecationWarning: Auto-removal of overlapping axes is deprecated since 3.6 and will be removed two minor releases later; explicitly call ax.remove() as needed.\n",
      "  plt.subplot(212)\n"
     ]
    },
    {
     "name": "stdout",
     "output_type": "stream",
     "text": [
      "Progress: [###########################################       ] 86.0% (n=860/1000) --> elapsed time: 52.45s\r"
     ]
    },
    {
     "name": "stderr",
     "output_type": "stream",
     "text": [
      "C:\\Users\\painter\\AppData\\Local\\Temp\\ipykernel_20180\\4247986820.py:132: MatplotlibDeprecationWarning: Auto-removal of overlapping axes is deprecated since 3.6 and will be removed two minor releases later; explicitly call ax.remove() as needed.\n",
      "  plt.subplot(211)\n",
      "C:\\Users\\painter\\AppData\\Local\\Temp\\ipykernel_20180\\4247986820.py:140: MatplotlibDeprecationWarning: Auto-removal of overlapping axes is deprecated since 3.6 and will be removed two minor releases later; explicitly call ax.remove() as needed.\n",
      "  plt.subplot(212)\n"
     ]
    },
    {
     "name": "stdout",
     "output_type": "stream",
     "text": [
      "Progress: [###########################################       ] 86.6% (n=866/1000) --> elapsed time: 52.82s\r"
     ]
    },
    {
     "name": "stderr",
     "output_type": "stream",
     "text": [
      "C:\\Users\\painter\\AppData\\Local\\Temp\\ipykernel_20180\\4247986820.py:132: MatplotlibDeprecationWarning: Auto-removal of overlapping axes is deprecated since 3.6 and will be removed two minor releases later; explicitly call ax.remove() as needed.\n",
      "  plt.subplot(211)\n",
      "C:\\Users\\painter\\AppData\\Local\\Temp\\ipykernel_20180\\4247986820.py:140: MatplotlibDeprecationWarning: Auto-removal of overlapping axes is deprecated since 3.6 and will be removed two minor releases later; explicitly call ax.remove() as needed.\n",
      "  plt.subplot(212)\n"
     ]
    },
    {
     "name": "stdout",
     "output_type": "stream",
     "text": [
      "Progress: [###########################################       ] 87.4% (n=874/1000) --> elapsed time: 53.22s\r"
     ]
    },
    {
     "name": "stderr",
     "output_type": "stream",
     "text": [
      "C:\\Users\\painter\\AppData\\Local\\Temp\\ipykernel_20180\\4247986820.py:132: MatplotlibDeprecationWarning: Auto-removal of overlapping axes is deprecated since 3.6 and will be removed two minor releases later; explicitly call ax.remove() as needed.\n",
      "  plt.subplot(211)\n",
      "C:\\Users\\painter\\AppData\\Local\\Temp\\ipykernel_20180\\4247986820.py:140: MatplotlibDeprecationWarning: Auto-removal of overlapping axes is deprecated since 3.6 and will be removed two minor releases later; explicitly call ax.remove() as needed.\n",
      "  plt.subplot(212)\n"
     ]
    },
    {
     "name": "stdout",
     "output_type": "stream",
     "text": [
      "Progress: [###########################################       ] 87.9% (n=879/1000) --> elapsed time: 53.58s\r"
     ]
    },
    {
     "name": "stderr",
     "output_type": "stream",
     "text": [
      "C:\\Users\\painter\\AppData\\Local\\Temp\\ipykernel_20180\\4247986820.py:132: MatplotlibDeprecationWarning: Auto-removal of overlapping axes is deprecated since 3.6 and will be removed two minor releases later; explicitly call ax.remove() as needed.\n",
      "  plt.subplot(211)\n",
      "C:\\Users\\painter\\AppData\\Local\\Temp\\ipykernel_20180\\4247986820.py:140: MatplotlibDeprecationWarning: Auto-removal of overlapping axes is deprecated since 3.6 and will be removed two minor releases later; explicitly call ax.remove() as needed.\n",
      "  plt.subplot(212)\n"
     ]
    },
    {
     "name": "stdout",
     "output_type": "stream",
     "text": [
      "Progress: [############################################      ] 88.6% (n=886/1000) --> elapsed time: 53.98s\r"
     ]
    },
    {
     "name": "stderr",
     "output_type": "stream",
     "text": [
      "C:\\Users\\painter\\AppData\\Local\\Temp\\ipykernel_20180\\4247986820.py:132: MatplotlibDeprecationWarning: Auto-removal of overlapping axes is deprecated since 3.6 and will be removed two minor releases later; explicitly call ax.remove() as needed.\n",
      "  plt.subplot(211)\n",
      "C:\\Users\\painter\\AppData\\Local\\Temp\\ipykernel_20180\\4247986820.py:140: MatplotlibDeprecationWarning: Auto-removal of overlapping axes is deprecated since 3.6 and will be removed two minor releases later; explicitly call ax.remove() as needed.\n",
      "  plt.subplot(212)\n"
     ]
    },
    {
     "name": "stdout",
     "output_type": "stream",
     "text": [
      "Progress: [############################################      ] 89.1% (n=891/1000) --> elapsed time: 54.35s\r"
     ]
    },
    {
     "name": "stderr",
     "output_type": "stream",
     "text": [
      "C:\\Users\\painter\\AppData\\Local\\Temp\\ipykernel_20180\\4247986820.py:132: MatplotlibDeprecationWarning: Auto-removal of overlapping axes is deprecated since 3.6 and will be removed two minor releases later; explicitly call ax.remove() as needed.\n",
      "  plt.subplot(211)\n",
      "C:\\Users\\painter\\AppData\\Local\\Temp\\ipykernel_20180\\4247986820.py:140: MatplotlibDeprecationWarning: Auto-removal of overlapping axes is deprecated since 3.6 and will be removed two minor releases later; explicitly call ax.remove() as needed.\n",
      "  plt.subplot(212)\n"
     ]
    },
    {
     "name": "stdout",
     "output_type": "stream",
     "text": [
      "Progress: [#############################################     ] 90.1% (n=901/1000) --> elapsed time: 54.88s\r"
     ]
    },
    {
     "name": "stderr",
     "output_type": "stream",
     "text": [
      "C:\\Users\\painter\\AppData\\Local\\Temp\\ipykernel_20180\\4247986820.py:132: MatplotlibDeprecationWarning: Auto-removal of overlapping axes is deprecated since 3.6 and will be removed two minor releases later; explicitly call ax.remove() as needed.\n",
      "  plt.subplot(211)\n",
      "C:\\Users\\painter\\AppData\\Local\\Temp\\ipykernel_20180\\4247986820.py:140: MatplotlibDeprecationWarning: Auto-removal of overlapping axes is deprecated since 3.6 and will be removed two minor releases later; explicitly call ax.remove() as needed.\n",
      "  plt.subplot(212)\n"
     ]
    },
    {
     "name": "stdout",
     "output_type": "stream",
     "text": [
      "Progress: [#############################################     ] 90.7% (n=907/1000) --> elapsed time: 55.27s\r"
     ]
    },
    {
     "name": "stderr",
     "output_type": "stream",
     "text": [
      "C:\\Users\\painter\\AppData\\Local\\Temp\\ipykernel_20180\\4247986820.py:132: MatplotlibDeprecationWarning: Auto-removal of overlapping axes is deprecated since 3.6 and will be removed two minor releases later; explicitly call ax.remove() as needed.\n",
      "  plt.subplot(211)\n",
      "C:\\Users\\painter\\AppData\\Local\\Temp\\ipykernel_20180\\4247986820.py:140: MatplotlibDeprecationWarning: Auto-removal of overlapping axes is deprecated since 3.6 and will be removed two minor releases later; explicitly call ax.remove() as needed.\n",
      "  plt.subplot(212)\n"
     ]
    },
    {
     "name": "stdout",
     "output_type": "stream",
     "text": [
      "Progress: [#############################################     ] 91.4% (n=914/1000) --> elapsed time: 55.66s\r"
     ]
    },
    {
     "name": "stderr",
     "output_type": "stream",
     "text": [
      "C:\\Users\\painter\\AppData\\Local\\Temp\\ipykernel_20180\\4247986820.py:132: MatplotlibDeprecationWarning: Auto-removal of overlapping axes is deprecated since 3.6 and will be removed two minor releases later; explicitly call ax.remove() as needed.\n",
      "  plt.subplot(211)\n",
      "C:\\Users\\painter\\AppData\\Local\\Temp\\ipykernel_20180\\4247986820.py:140: MatplotlibDeprecationWarning: Auto-removal of overlapping axes is deprecated since 3.6 and will be removed two minor releases later; explicitly call ax.remove() as needed.\n",
      "  plt.subplot(212)\n"
     ]
    },
    {
     "name": "stdout",
     "output_type": "stream",
     "text": [
      "Progress: [##############################################    ] 92.0% (n=920/1000) --> elapsed time: 56.05s\r"
     ]
    },
    {
     "name": "stderr",
     "output_type": "stream",
     "text": [
      "C:\\Users\\painter\\AppData\\Local\\Temp\\ipykernel_20180\\4247986820.py:132: MatplotlibDeprecationWarning: Auto-removal of overlapping axes is deprecated since 3.6 and will be removed two minor releases later; explicitly call ax.remove() as needed.\n",
      "  plt.subplot(211)\n",
      "C:\\Users\\painter\\AppData\\Local\\Temp\\ipykernel_20180\\4247986820.py:140: MatplotlibDeprecationWarning: Auto-removal of overlapping axes is deprecated since 3.6 and will be removed two minor releases later; explicitly call ax.remove() as needed.\n",
      "  plt.subplot(212)\n"
     ]
    },
    {
     "name": "stdout",
     "output_type": "stream",
     "text": [
      "Progress: [##############################################    ] 92.8% (n=928/1000) --> elapsed time: 56.51s\r"
     ]
    },
    {
     "name": "stderr",
     "output_type": "stream",
     "text": [
      "C:\\Users\\painter\\AppData\\Local\\Temp\\ipykernel_20180\\4247986820.py:132: MatplotlibDeprecationWarning: Auto-removal of overlapping axes is deprecated since 3.6 and will be removed two minor releases later; explicitly call ax.remove() as needed.\n",
      "  plt.subplot(211)\n",
      "C:\\Users\\painter\\AppData\\Local\\Temp\\ipykernel_20180\\4247986820.py:140: MatplotlibDeprecationWarning: Auto-removal of overlapping axes is deprecated since 3.6 and will be removed two minor releases later; explicitly call ax.remove() as needed.\n",
      "  plt.subplot(212)\n"
     ]
    },
    {
     "name": "stdout",
     "output_type": "stream",
     "text": [
      "Progress: [##############################################    ] 93.3% (n=933/1000) --> elapsed time: 56.89s\r"
     ]
    },
    {
     "name": "stderr",
     "output_type": "stream",
     "text": [
      "C:\\Users\\painter\\AppData\\Local\\Temp\\ipykernel_20180\\4247986820.py:132: MatplotlibDeprecationWarning: Auto-removal of overlapping axes is deprecated since 3.6 and will be removed two minor releases later; explicitly call ax.remove() as needed.\n",
      "  plt.subplot(211)\n",
      "C:\\Users\\painter\\AppData\\Local\\Temp\\ipykernel_20180\\4247986820.py:140: MatplotlibDeprecationWarning: Auto-removal of overlapping axes is deprecated since 3.6 and will be removed two minor releases later; explicitly call ax.remove() as needed.\n",
      "  plt.subplot(212)\n"
     ]
    },
    {
     "name": "stdout",
     "output_type": "stream",
     "text": [
      "Progress: [###############################################   ] 94.2% (n=942/1000) --> elapsed time: 57.42s\r"
     ]
    },
    {
     "name": "stderr",
     "output_type": "stream",
     "text": [
      "C:\\Users\\painter\\AppData\\Local\\Temp\\ipykernel_20180\\4247986820.py:132: MatplotlibDeprecationWarning: Auto-removal of overlapping axes is deprecated since 3.6 and will be removed two minor releases later; explicitly call ax.remove() as needed.\n",
      "  plt.subplot(211)\n",
      "C:\\Users\\painter\\AppData\\Local\\Temp\\ipykernel_20180\\4247986820.py:140: MatplotlibDeprecationWarning: Auto-removal of overlapping axes is deprecated since 3.6 and will be removed two minor releases later; explicitly call ax.remove() as needed.\n",
      "  plt.subplot(212)\n"
     ]
    },
    {
     "name": "stdout",
     "output_type": "stream",
     "text": [
      "Progress: [###############################################   ] 94.8% (n=948/1000) --> elapsed time: 57.79s\r"
     ]
    },
    {
     "name": "stderr",
     "output_type": "stream",
     "text": [
      "C:\\Users\\painter\\AppData\\Local\\Temp\\ipykernel_20180\\4247986820.py:132: MatplotlibDeprecationWarning: Auto-removal of overlapping axes is deprecated since 3.6 and will be removed two minor releases later; explicitly call ax.remove() as needed.\n",
      "  plt.subplot(211)\n",
      "C:\\Users\\painter\\AppData\\Local\\Temp\\ipykernel_20180\\4247986820.py:140: MatplotlibDeprecationWarning: Auto-removal of overlapping axes is deprecated since 3.6 and will be removed two minor releases later; explicitly call ax.remove() as needed.\n",
      "  plt.subplot(212)\n"
     ]
    },
    {
     "name": "stdout",
     "output_type": "stream",
     "text": [
      "Progress: [###############################################   ] 95.4% (n=954/1000) --> elapsed time: 58.17s\r"
     ]
    },
    {
     "name": "stderr",
     "output_type": "stream",
     "text": [
      "C:\\Users\\painter\\AppData\\Local\\Temp\\ipykernel_20180\\4247986820.py:132: MatplotlibDeprecationWarning: Auto-removal of overlapping axes is deprecated since 3.6 and will be removed two minor releases later; explicitly call ax.remove() as needed.\n",
      "  plt.subplot(211)\n",
      "C:\\Users\\painter\\AppData\\Local\\Temp\\ipykernel_20180\\4247986820.py:140: MatplotlibDeprecationWarning: Auto-removal of overlapping axes is deprecated since 3.6 and will be removed two minor releases later; explicitly call ax.remove() as needed.\n",
      "  plt.subplot(212)\n"
     ]
    },
    {
     "name": "stdout",
     "output_type": "stream",
     "text": [
      "Progress: [################################################  ] 96.0% (n=960/1000) --> elapsed time: 58.54s\r"
     ]
    },
    {
     "name": "stderr",
     "output_type": "stream",
     "text": [
      "C:\\Users\\painter\\AppData\\Local\\Temp\\ipykernel_20180\\4247986820.py:132: MatplotlibDeprecationWarning: Auto-removal of overlapping axes is deprecated since 3.6 and will be removed two minor releases later; explicitly call ax.remove() as needed.\n",
      "  plt.subplot(211)\n",
      "C:\\Users\\painter\\AppData\\Local\\Temp\\ipykernel_20180\\4247986820.py:140: MatplotlibDeprecationWarning: Auto-removal of overlapping axes is deprecated since 3.6 and will be removed two minor releases later; explicitly call ax.remove() as needed.\n",
      "  plt.subplot(212)\n"
     ]
    },
    {
     "name": "stdout",
     "output_type": "stream",
     "text": [
      "Progress: [################################################  ] 96.6% (n=966/1000) --> elapsed time: 58.90s\r"
     ]
    },
    {
     "name": "stderr",
     "output_type": "stream",
     "text": [
      "C:\\Users\\painter\\AppData\\Local\\Temp\\ipykernel_20180\\4247986820.py:132: MatplotlibDeprecationWarning: Auto-removal of overlapping axes is deprecated since 3.6 and will be removed two minor releases later; explicitly call ax.remove() as needed.\n",
      "  plt.subplot(211)\n",
      "C:\\Users\\painter\\AppData\\Local\\Temp\\ipykernel_20180\\4247986820.py:140: MatplotlibDeprecationWarning: Auto-removal of overlapping axes is deprecated since 3.6 and will be removed two minor releases later; explicitly call ax.remove() as needed.\n",
      "  plt.subplot(212)\n"
     ]
    },
    {
     "name": "stdout",
     "output_type": "stream",
     "text": [
      "Progress: [################################################  ] 97.3% (n=973/1000) --> elapsed time: 59.32s\r"
     ]
    },
    {
     "name": "stderr",
     "output_type": "stream",
     "text": [
      "C:\\Users\\painter\\AppData\\Local\\Temp\\ipykernel_20180\\4247986820.py:132: MatplotlibDeprecationWarning: Auto-removal of overlapping axes is deprecated since 3.6 and will be removed two minor releases later; explicitly call ax.remove() as needed.\n",
      "  plt.subplot(211)\n",
      "C:\\Users\\painter\\AppData\\Local\\Temp\\ipykernel_20180\\4247986820.py:140: MatplotlibDeprecationWarning: Auto-removal of overlapping axes is deprecated since 3.6 and will be removed two minor releases later; explicitly call ax.remove() as needed.\n",
      "  plt.subplot(212)\n"
     ]
    },
    {
     "name": "stdout",
     "output_type": "stream",
     "text": [
      "Progress: [################################################# ] 98.2% (n=982/1000) --> elapsed time: 59.84s\r"
     ]
    },
    {
     "name": "stderr",
     "output_type": "stream",
     "text": [
      "C:\\Users\\painter\\AppData\\Local\\Temp\\ipykernel_20180\\4247986820.py:132: MatplotlibDeprecationWarning: Auto-removal of overlapping axes is deprecated since 3.6 and will be removed two minor releases later; explicitly call ax.remove() as needed.\n",
      "  plt.subplot(211)\n",
      "C:\\Users\\painter\\AppData\\Local\\Temp\\ipykernel_20180\\4247986820.py:140: MatplotlibDeprecationWarning: Auto-removal of overlapping axes is deprecated since 3.6 and will be removed two minor releases later; explicitly call ax.remove() as needed.\n",
      "  plt.subplot(212)\n"
     ]
    },
    {
     "name": "stdout",
     "output_type": "stream",
     "text": [
      "Progress: [################################################# ] 98.7% (n=987/1000) --> elapsed time: 60.22s\r"
     ]
    },
    {
     "name": "stderr",
     "output_type": "stream",
     "text": [
      "C:\\Users\\painter\\AppData\\Local\\Temp\\ipykernel_20180\\4247986820.py:132: MatplotlibDeprecationWarning: Auto-removal of overlapping axes is deprecated since 3.6 and will be removed two minor releases later; explicitly call ax.remove() as needed.\n",
      "  plt.subplot(211)\n",
      "C:\\Users\\painter\\AppData\\Local\\Temp\\ipykernel_20180\\4247986820.py:140: MatplotlibDeprecationWarning: Auto-removal of overlapping axes is deprecated since 3.6 and will be removed two minor releases later; explicitly call ax.remove() as needed.\n",
      "  plt.subplot(212)\n"
     ]
    },
    {
     "name": "stdout",
     "output_type": "stream",
     "text": [
      "Progress: [################################################# ] 99.4% (n=994/1000) --> elapsed time: 60.61s\r"
     ]
    },
    {
     "name": "stderr",
     "output_type": "stream",
     "text": [
      "C:\\Users\\painter\\AppData\\Local\\Temp\\ipykernel_20180\\4247986820.py:132: MatplotlibDeprecationWarning: Auto-removal of overlapping axes is deprecated since 3.6 and will be removed two minor releases later; explicitly call ax.remove() as needed.\n",
      "  plt.subplot(211)\n",
      "C:\\Users\\painter\\AppData\\Local\\Temp\\ipykernel_20180\\4247986820.py:140: MatplotlibDeprecationWarning: Auto-removal of overlapping axes is deprecated since 3.6 and will be removed two minor releases later; explicitly call ax.remove() as needed.\n",
      "  plt.subplot(212)\n"
     ]
    },
    {
     "name": "stdout",
     "output_type": "stream",
     "text": [
      "Progress: [##################################################] 100.0% (n=1000/1000) --> elapsed time: 61.02s\r\n"
     ]
    },
    {
     "name": "stderr",
     "output_type": "stream",
     "text": [
      "C:\\Users\\painter\\AppData\\Local\\Temp\\ipykernel_20180\\4247986820.py:132: MatplotlibDeprecationWarning: Auto-removal of overlapping axes is deprecated since 3.6 and will be removed two minor releases later; explicitly call ax.remove() as needed.\n",
      "  plt.subplot(211)\n",
      "C:\\Users\\painter\\AppData\\Local\\Temp\\ipykernel_20180\\4247986820.py:140: MatplotlibDeprecationWarning: Auto-removal of overlapping axes is deprecated since 3.6 and will be removed two minor releases later; explicitly call ax.remove() as needed.\n",
      "  plt.subplot(212)\n"
     ]
    },
    {
     "name": "stdout",
     "output_type": "stream",
     "text": [
      "Progress: [##################################################] 100.0% (n=1000/1000) --> elapsed time: 61.36s\r\n"
     ]
    },
    {
     "name": "stderr",
     "output_type": "stream",
     "text": [
      "C:\\Users\\painter\\AppData\\Local\\Temp\\ipykernel_20180\\4247986820.py:132: MatplotlibDeprecationWarning: Auto-removal of overlapping axes is deprecated since 3.6 and will be removed two minor releases later; explicitly call ax.remove() as needed.\n",
      "  plt.subplot(211)\n",
      "C:\\Users\\painter\\AppData\\Local\\Temp\\ipykernel_20180\\4247986820.py:140: MatplotlibDeprecationWarning: Auto-removal of overlapping axes is deprecated since 3.6 and will be removed two minor releases later; explicitly call ax.remove() as needed.\n",
      "  plt.subplot(212)\n"
     ]
    },
    {
     "name": "stdout",
     "output_type": "stream",
     "text": [
      "Execution stopped by user!\n"
     ]
    }
   ],
   "source": [
    "from qm.qua import *\n",
    "from qm.QuantumMachinesManager import QuantumMachinesManager\n",
    "from configuration import *\n",
    "import matplotlib.pyplot as plt\n",
    "import numpy as np\n",
    "from scipy import signal\n",
    "from qm import SimulationConfig\n",
    "from qualang_tools.loops import from_array\n",
    "%matplotlib qt\n",
    "\n",
    "# Start to save data\n",
    "import datetime \n",
    "import os\n",
    "import pandas as pd \n",
    "\n",
    "now = datetime.datetime.now()\n",
    "year = now.strftime(\"%Y\")\n",
    "month = now.strftime(\"%m\")\n",
    "day = now.strftime(\"%d\")\n",
    "hour = now.strftime(\"%H\")\n",
    "minute = now.strftime(\"%M\")\n",
    "second  = now.strftime(\"%S\")\n",
    "\n",
    "tPath = os.path.join(r'Z:\\LabberData_DF5\\QM_Data_DF5',year,month,'Data_'+month+day)\n",
    "if not os.path.exists(tPath):\n",
    "   os.makedirs(tPath)\n",
    "exp_name = 'RR_spec_wAmplitude'\n",
    "qubit_name = 'LA_Q2'\n",
    "\n",
    "f_str =exp_name + '_'+ qubit_name +'_'+ hour+ '_' + minute +'_' + second\n",
    "f_name= f_str+'.csv'\n",
    "j_name = f_str + '_state.json'\n",
    "p_name= f_str+'.png'\n",
    "\n",
    "# End to save data\n",
    "\n",
    "#########################################\n",
    "# Set-up the machine and get the config #\n",
    "#########################################\n",
    "machine = QuAM(\"quam_state.json\")\n",
    "config = build_config(machine)\n",
    "\n",
    "###################\n",
    "# The QUA program #\n",
    "###################\n",
    "\n",
    "n_avg = 1000\n",
    "\n",
    "cooldown_time = 20_000 * u.ns\n",
    "\n",
    "amps = np.arange(0.1, 1.99, 0.10)\n",
    "dfs = np.arange(-2.0e6, +2.0e6, 0.1e6)\n",
    "\n",
    "qubit_index = 5\n",
    "res_if = machine.resonators[qubit_index].f_readout - machine.resonators[qubit_index].lo\n",
    "\n",
    "\n",
    "with program() as resonator_spec_2D:\n",
    "    n = declare(int)  # Averaging index\n",
    "    df = declare(int)  # Resonator frequency\n",
    "    a = declare(fixed)  # Readout amplitude pre-factor\n",
    "    I = declare(fixed)\n",
    "    Q = declare(fixed)\n",
    "    I_st = declare_stream()\n",
    "    Q_st = declare_stream()\n",
    "    n_st = declare_stream()\n",
    "\n",
    "    with for_(n, 0, n < n_avg, n + 1):\n",
    "        with for_(*from_array(df, dfs)):\n",
    "            # Update the resonator frequency\n",
    "            update_frequency(machine.resonators[qubit_index].name, df + res_if)\n",
    "            with for_(*from_array(a, amps)):\n",
    "                # Measure the resonator\n",
    "                measure(\n",
    "                    \"readout\" * amp(a),\n",
    "                    machine.resonators[qubit_index].name,\n",
    "                    None,\n",
    "                    dual_demod.full(\"cos\", \"out1\", \"sin\", \"out2\", I),\n",
    "                    dual_demod.full(\"minus_sin\", \"out1\", \"cos\", \"out2\", Q),\n",
    "                )\n",
    "                # Wait for the resonator to cooldown\n",
    "                wait(cooldown_time, machine.resonators[qubit_index].name)\n",
    "                # Save data to the stream processing\n",
    "                save(I, I_st)\n",
    "                save(Q, Q_st)\n",
    "        save(n, n_st)\n",
    "\n",
    "    with stream_processing():\n",
    "        I_st.buffer(len(amps)).buffer(len(dfs)).average().save(\"I\")\n",
    "        Q_st.buffer(len(amps)).buffer(len(dfs)).average().save(\"Q\")\n",
    "        n_st.save(\"iteration\")\n",
    "\n",
    "#####################################\n",
    "#  Open Communication with the QOP  #\n",
    "#####################################\n",
    "qmm = QuantumMachinesManager(machine.network.qop_ip, cluster_name=machine.network.cluster_name, octave=octave_config)\n",
    "\n",
    "#######################\n",
    "# Simulate or execute #\n",
    "#######################\n",
    "\n",
    "simulate = False\n",
    "\n",
    "if simulate:\n",
    "    simulation_config = SimulationConfig(duration=1000)\n",
    "    job = qmm.simulate(config, resonator_spec_2D, simulation_config)\n",
    "    job.get_simulated_samples().con1.plot()\n",
    "\n",
    "else:\n",
    "    qm = qmm.open_qm(config)\n",
    "    job = qm.execute(resonator_spec_2D)\n",
    "    # Get results from QUA program\n",
    "    results = fetching_tool(job, data_list=[\"I\", \"Q\", \"iteration\"], mode=\"live\")\n",
    "    # Live plotting\n",
    "    fig = plt.figure()\n",
    "    plt.rcParams['figure.figsize'] = [12, 8]\n",
    "    interrupt_on_close(fig, job)  #  Interrupts the job when closing the figure\n",
    "    \n",
    "    while results.is_processing():\n",
    "        # Fetch results\n",
    "        I, Q, iteration = results.fetch_all()\n",
    "        # Normalize data\n",
    "        s1 = u.demod2volts(I + 1j * Q, machine.resonators[qubit_index].readout_pulse_length)\n",
    "        A1 = np.abs(s1)\n",
    "        row_sums = A1.sum(axis=0)\n",
    "        A1 = A1 / row_sums[np.newaxis, :]\n",
    "        \n",
    "        # Progress bar\n",
    "        progress_counter(iteration, n_avg, start_time=results.get_start_time())\n",
    "        \n",
    "        # 2D spectroscopy plot\n",
    "        plt.subplot(211)\n",
    "        plt.cla()\n",
    "        plt.title(\"Resonator spectroscopy amplitude (normalized)\")\n",
    "        plt.pcolor(amps * machine.resonators[qubit_index].readout_pulse_amp, dfs / u.MHz, A1,cmap=\"seismic\")\n",
    "        plt.xlabel(\"Readout amplitude [V]\")\n",
    "        plt.ylabel(\"Frequency [MHz]\")\n",
    "        plt.colorbar()\n",
    "        # plt.axhline(y=0,color='k')\n",
    "        plt.subplot(212)\n",
    "        plt.cla()\n",
    "        plt.title(\"Resonator spectroscopy phase\")\n",
    "        plt.pcolor(amps * machine.resonators[qubit_index].readout_pulse_amp, dfs / u.MHz, signal.detrend(np.unwrap(np.angle(I + 1j * Q))),cmap=\"seismic\")\n",
    "        plt.xlabel(\"Readout amplitude [V]\")\n",
    "        plt.ylabel(\"Frequency [MHz]\")\n",
    "        plt.colorbar()\n",
    "        plt.pause(0.1)\n",
    "        plt.tight_layout()\n",
    "\n"
   ]
  },
  {
   "cell_type": "code",
   "execution_count": null,
   "id": "18b05441",
   "metadata": {},
   "outputs": [],
   "source": []
  },
  {
   "cell_type": "code",
   "execution_count": 6,
   "id": "f4279a6a",
   "metadata": {},
   "outputs": [],
   "source": [
    "machine.resonators[qubit_index].readout_pulse_amp = 0.15"
   ]
  },
  {
   "cell_type": "code",
   "execution_count": 7,
   "id": "abea0449",
   "metadata": {},
   "outputs": [
    {
     "name": "stdout",
     "output_type": "stream",
     "text": [
      "Execution stopped by user!\n",
      "Execution stopped by user!\n"
     ]
    }
   ],
   "source": [
    "machine._save(\"quam_state.json\", flat_data=False)"
   ]
  },
  {
   "cell_type": "code",
   "execution_count": null,
   "id": "586a964f-9dda-47e0-8826-eee380e06aea",
   "metadata": {},
   "outputs": [],
   "source": [
    "plt.savefig(os.path.join(tPath, p_name))\n",
    "amplitude = amps * machine.resonators[qubit_index].readout_pulse_amp\n",
    "## convert everything to lists so they are easy to parse in Matlab if desired\n",
    "if isinstance(amplitude,np.ndarray) == True:\n",
    "   amplitude1=amplitude.tolist()\n",
    "else:  \n",
    "    pass\n",
    "if isinstance(dfs,np.ndarray) == True:\n",
    "   dfs1=dfs.tolist()\n",
    "else:  \n",
    "    pass\n",
    "if isinstance(I,np.ndarray) == True:\n",
    "   I1=I.tolist()\n",
    "else:  \n",
    "    pass\n",
    "if isinstance(Q,np.ndarray) == True:\n",
    "   Q1=Q.tolist()\n",
    "else:  \n",
    "    pass\n",
    "\n",
    "data = [('Variable', 'Value'), ('Amp', amplitude1),('Freq', dfs1), ('I', I1), ('Q', Q1)]\n",
    "df = pd.DataFrame(data,index=None, columns=None)\n",
    "df.to_csv(os.path.join(tPath, f_name),header=False, index=False)\n",
    "open(os.path.join(tPath, j_name), \"w\").write(open(\"quam_state.json\").read())"
   ]
  }
 ],
 "metadata": {
  "kernelspec": {
   "display_name": "Python 3 (ipykernel)",
   "language": "python",
   "name": "python3"
  },
  "language_info": {
   "codemirror_mode": {
    "name": "ipython",
    "version": 3
   },
   "file_extension": ".py",
   "mimetype": "text/x-python",
   "name": "python",
   "nbconvert_exporter": "python",
   "pygments_lexer": "ipython3",
   "version": "3.8.17"
  }
 },
 "nbformat": 4,
 "nbformat_minor": 5
}
